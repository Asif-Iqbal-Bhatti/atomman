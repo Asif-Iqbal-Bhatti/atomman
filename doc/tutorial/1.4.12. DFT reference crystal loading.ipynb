{
 "cells": [
  {
   "cell_type": "markdown",
   "metadata": {},
   "source": [
    "# Introduction to atomman: DFT reference crystal loading\n",
    "\n",
    "__Lucas M. Hale__, [lucas.hale@nist.gov](mailto:lucas.hale@nist.gov?Subject=ipr-demo), _Materials Science and Engineering Division, NIST_.\n",
    "    \n",
    "[Disclaimers](http://www.nist.gov/public_affairs/disclaimer.cfm) \n",
    "\n"
   ]
  },
  {
   "cell_type": "markdown",
   "metadata": {},
   "source": [
    "## 1. Introduction<a id='section1'></a>\n",
    "\n",
    "In addition to the crystal structures in the NIST Repository, crystal structures can also be obtained directly from the [Materials Project](https://materialsproject.org/) and [OQMD](http://oqmd.org/) DFT databases.  This provides a means of performing direct comparisons of crystal structure predictions between DFT and classical potentials and offers the opportunity to explore more proposed crystal structures.\n",
    "\n",
    "*Added version 1.4.0*\n",
    "\n",
    "**NOTE**: Fetching records from Materials Project requires that pymatgen be installed."
   ]
  },
  {
   "cell_type": "markdown",
   "metadata": {},
   "source": [
    "**Library Imports**"
   ]
  },
  {
   "cell_type": "code",
   "execution_count": 1,
   "metadata": {},
   "outputs": [
    {
     "name": "stdout",
     "output_type": "stream",
     "text": [
      "atomman version = 1.4.11\n",
      "Notebook executed on 2024-04-29\n"
     ]
    }
   ],
   "source": [
    "# Standard Python libraries\n",
    "import datetime\n",
    "\n",
    "# http://www.numpy.org/\n",
    "import numpy as np\n",
    "\n",
    "import atomman as am\n",
    "import atomman.unitconvert as uc\n",
    "\n",
    "# Show atomman version\n",
    "print('atomman version =', am.__version__)\n",
    "\n",
    "# Show date of Notebook execution\n",
    "print('Notebook executed on', datetime.date.today())"
   ]
  },
  {
   "cell_type": "markdown",
   "metadata": {},
   "source": [
    "## 2. atomman.load('prototype')<a id='section2'></a>\n",
    "\n",
    "Accesses the potentials database to retrieve a crystal_prototype record and generate a unit cell System based on it.\n",
    "\n",
    "Query parameters\n",
    "\n",
    "- __id__ (*str*) The reference crystal's unique id.  Combines a database tag \"mp-\" or \"oqmd-\" and the DFT database's entry id.\n",
    "- __api_key__ (*str, optional*) The user's Materials Project API key or path to a file containing the key. Only needed for fetching structures from Materials Project and if the key is not set to the \"MAPI_KEY\" environment variable.\n",
    "\n",
    "Database option parameters\n",
    "\n",
    "- __database__ (*atomman.library.Database, optional*) A pre-defined Database object to use.  If not given, will initialize a new Database object.  Passing in a database can save time if multiple calls are made for the same record type.  \n",
    "- __local__ (*bool, optional*) Indicates if the Database object is to look for local records.  Default is True.  Ignored if database is given.\n",
    "- __remote__ (*bool, optional*) Indicates if the Database object is to look for remote records.  Default is True.  Ignored if database is given.\n",
    "- __refresh_cache__ (*bool, optional*) If the local database is of style \"local\", indicates if the metadata cache file is to be refreshed.  If False, metadata for new records will be added but the old record metadata fields will not be updated.  If True, then the metadata for all records will be regenerated, which is needed to update the metadata for modified records.\n",
    "- __verbose__ (*bool, optional*) If True, info messages will be printed during operations.  Default value is False.\n",
    "\n",
    "Returns\n",
    "    \n",
    "- __system__ (*atomman.System*) The system object generated from the crystal prototype."
   ]
  },
  {
   "cell_type": "markdown",
   "metadata": {},
   "source": [
    "Fetch the relaxed fcc Au structure from both databases"
   ]
  },
  {
   "cell_type": "code",
   "execution_count": 3,
   "metadata": {},
   "outputs": [
    {
     "name": "stderr",
     "output_type": "stream",
     "text": [
      "/home/lmh1/anaconda3/envs/py11/lib/python3.11/site-packages/pymatgen/ext/matproj.py:186: UserWarning: You are using the legacy MPRester. This version of the MPRester will no longer be updated. To access the latest data with the new MPRester, obtain a new API key from https://materialsproject.org/api and consult the docs at https://docs.materialsproject.org/ for more information.\n",
      "  warnings.warn(\n"
     ]
    },
    {
     "ename": "ValueError",
     "evalue": "Failed to find Materials Project information",
     "output_type": "error",
     "traceback": [
      "\u001b[0;31m---------------------------------------------------------------------------\u001b[0m",
      "\u001b[0;31mMPRestError\u001b[0m                               Traceback (most recent call last)",
      "File \u001b[0;32m~/anaconda3/envs/py11/lib/python3.11/site-packages/pymatgen/ext/matproj.py:288\u001b[0m, in \u001b[0;36m_MPResterLegacy._make_request\u001b[0;34m(self, sub_url, payload, method, mp_decode)\u001b[0m\n\u001b[1;32m    286\u001b[0m         \u001b[38;5;28;01mraise\u001b[39;00m MPRestError(data[\u001b[38;5;124m\"\u001b[39m\u001b[38;5;124merror\u001b[39m\u001b[38;5;124m\"\u001b[39m])\n\u001b[0;32m--> 288\u001b[0m     \u001b[38;5;28;01mraise\u001b[39;00m MPRestError(\u001b[38;5;124mf\u001b[39m\u001b[38;5;124m\"\u001b[39m\u001b[38;5;124mREST query returned with error status code \u001b[39m\u001b[38;5;132;01m{\u001b[39;00mresponse\u001b[38;5;241m.\u001b[39mstatus_code\u001b[38;5;132;01m}\u001b[39;00m\u001b[38;5;124m\"\u001b[39m)\n\u001b[1;32m    290\u001b[0m \u001b[38;5;28;01mexcept\u001b[39;00m \u001b[38;5;167;01mException\u001b[39;00m \u001b[38;5;28;01mas\u001b[39;00m exc:\n",
      "\u001b[0;31mMPRestError\u001b[0m: REST query returned with error status code 403",
      "\nDuring handling of the above exception, another exception occurred:\n",
      "\u001b[0;31mMPRestError\u001b[0m                               Traceback (most recent call last)",
      "File \u001b[0;32m~/Python-packages/atomman/atomman/library/Database/_reference_crystal.py:481\u001b[0m, in \u001b[0;36mfetch_mp_crystals\u001b[0;34m(self, id, api_key)\u001b[0m\n\u001b[1;32m    480\u001b[0m \u001b[38;5;28;01mtry\u001b[39;00m:\n\u001b[0;32m--> 481\u001b[0m     entries \u001b[38;5;241m=\u001b[39m \u001b[43mm\u001b[49m\u001b[38;5;241;43m.\u001b[39;49m\u001b[43mquery\u001b[49m\u001b[43m(\u001b[49m\u001b[43m{\u001b[49m\u001b[38;5;124;43m\"\u001b[39;49m\u001b[38;5;124;43mmaterial_id\u001b[39;49m\u001b[38;5;124;43m\"\u001b[39;49m\u001b[43m:\u001b[49m\u001b[43m \u001b[49m\u001b[43m{\u001b[49m\u001b[38;5;124;43m\"\u001b[39;49m\u001b[38;5;124;43m$in\u001b[39;49m\u001b[38;5;124;43m\"\u001b[39;49m\u001b[43m:\u001b[49m\u001b[43m \u001b[49m\u001b[43maslist\u001b[49m\u001b[43m(\u001b[49m\u001b[38;5;28;43mid\u001b[39;49m\u001b[43m)\u001b[49m\u001b[43m}\u001b[49m\u001b[43m}\u001b[49m\u001b[43m,\u001b[49m\u001b[43m \u001b[49m\u001b[43m[\u001b[49m\u001b[38;5;124;43m'\u001b[39;49m\u001b[38;5;124;43mmaterial_id\u001b[39;49m\u001b[38;5;124;43m'\u001b[39;49m\u001b[43m,\u001b[49m\u001b[43m \u001b[49m\u001b[38;5;124;43m'\u001b[39;49m\u001b[38;5;124;43mcif\u001b[39;49m\u001b[38;5;124;43m'\u001b[39;49m\u001b[43m]\u001b[49m\u001b[43m)\u001b[49m\n\u001b[1;32m    482\u001b[0m \u001b[38;5;28;01mexcept\u001b[39;00m:\n",
      "File \u001b[0;32m~/anaconda3/envs/py11/lib/python3.11/site-packages/pymatgen/ext/matproj.py:1035\u001b[0m, in \u001b[0;36m_MPResterLegacy.query\u001b[0;34m(self, criteria, properties, chunk_size, max_tries_per_chunk, mp_decode, show_progress_bar)\u001b[0m\n\u001b[1;32m   1034\u001b[0m count_payload[\u001b[38;5;124m\"\u001b[39m\u001b[38;5;124moptions\u001b[39m\u001b[38;5;124m\"\u001b[39m] \u001b[38;5;241m=\u001b[39m json\u001b[38;5;241m.\u001b[39mdumps({\u001b[38;5;124m\"\u001b[39m\u001b[38;5;124mcount_only\u001b[39m\u001b[38;5;124m\"\u001b[39m: \u001b[38;5;28;01mTrue\u001b[39;00m})\n\u001b[0;32m-> 1035\u001b[0m num_results \u001b[38;5;241m=\u001b[39m \u001b[38;5;28;43mself\u001b[39;49m\u001b[38;5;241;43m.\u001b[39;49m\u001b[43m_make_request\u001b[49m\u001b[43m(\u001b[49m\u001b[38;5;124;43m\"\u001b[39;49m\u001b[38;5;124;43m/query\u001b[39;49m\u001b[38;5;124;43m\"\u001b[39;49m\u001b[43m,\u001b[49m\u001b[43m \u001b[49m\u001b[43mpayload\u001b[49m\u001b[38;5;241;43m=\u001b[39;49m\u001b[43mcount_payload\u001b[49m\u001b[43m,\u001b[49m\u001b[43m \u001b[49m\u001b[43mmethod\u001b[49m\u001b[38;5;241;43m=\u001b[39;49m\u001b[38;5;124;43m\"\u001b[39;49m\u001b[38;5;124;43mPOST\u001b[39;49m\u001b[38;5;124;43m\"\u001b[39;49m\u001b[43m)\u001b[49m\n\u001b[1;32m   1036\u001b[0m \u001b[38;5;28;01mif\u001b[39;00m num_results \u001b[38;5;241m<\u001b[39m\u001b[38;5;241m=\u001b[39m chunk_size:\n",
      "File \u001b[0;32m~/anaconda3/envs/py11/lib/python3.11/site-packages/pymatgen/ext/matproj.py:292\u001b[0m, in \u001b[0;36m_MPResterLegacy._make_request\u001b[0;34m(self, sub_url, payload, method, mp_decode)\u001b[0m\n\u001b[1;32m    291\u001b[0m msg \u001b[38;5;241m=\u001b[39m \u001b[38;5;124mf\u001b[39m\u001b[38;5;124m\"\u001b[39m\u001b[38;5;132;01m{\u001b[39;00mexc\u001b[38;5;132;01m}\u001b[39;00m\u001b[38;5;124m. Content: \u001b[39m\u001b[38;5;132;01m{\u001b[39;00m\u001b[38;5;28mgetattr\u001b[39m(response,\u001b[38;5;250m \u001b[39m\u001b[38;5;124m'\u001b[39m\u001b[38;5;124mcontent\u001b[39m\u001b[38;5;124m'\u001b[39m,\u001b[38;5;250m \u001b[39m\u001b[38;5;28mstr\u001b[39m(exc))\u001b[38;5;132;01m}\u001b[39;00m\u001b[38;5;124m\"\u001b[39m\n\u001b[0;32m--> 292\u001b[0m \u001b[38;5;28;01mraise\u001b[39;00m MPRestError(msg)\n",
      "\u001b[0;31mMPRestError\u001b[0m: REST query returned with error status code 403. Content: b'{\"valid_response\": false, \"error\": \"API_KEY is not a valid key.\", \"version\": {\"db\": \"2020_09_08\", \"pymatgen\": \"2022.0.8\", \"rest\": \"2.0\"}, \"created_at\": \"2024-04-29T13:01:15.685814\"}'",
      "\nDuring handling of the above exception, another exception occurred:\n",
      "\u001b[0;31mValueError\u001b[0m                                Traceback (most recent call last)",
      "Cell \u001b[0;32mIn[3], line 3\u001b[0m\n\u001b[1;32m      1\u001b[0m mp_api_key \u001b[38;5;241m=\u001b[39m \u001b[38;5;124m'\u001b[39m\u001b[38;5;124mC:/Users/lmh1/Documents/Materials Project/API key.txt\u001b[39m\u001b[38;5;124m'\u001b[39m\n\u001b[0;32m----> 3\u001b[0m ucell \u001b[38;5;241m=\u001b[39m \u001b[43mam\u001b[49m\u001b[38;5;241;43m.\u001b[39;49m\u001b[43mload\u001b[49m\u001b[43m(\u001b[49m\u001b[38;5;124;43m'\u001b[39;49m\u001b[38;5;124;43mdft_reference\u001b[39;49m\u001b[38;5;124;43m'\u001b[39;49m\u001b[43m,\u001b[49m\u001b[43m \u001b[49m\u001b[38;5;124;43m'\u001b[39;49m\u001b[38;5;124;43mmp-81\u001b[39;49m\u001b[38;5;124;43m'\u001b[39;49m\u001b[43m,\u001b[49m\u001b[43m \u001b[49m\u001b[43mapi_key\u001b[49m\u001b[38;5;241;43m=\u001b[39;49m\u001b[43mmp_api_key\u001b[49m\u001b[43m,\u001b[49m\u001b[43m \u001b[49m\u001b[43mverbose\u001b[49m\u001b[38;5;241;43m=\u001b[39;49m\u001b[38;5;28;43;01mTrue\u001b[39;49;00m\u001b[43m)\u001b[49m\n\u001b[1;32m      4\u001b[0m \u001b[38;5;28mprint\u001b[39m(ucell)\n",
      "File \u001b[0;32m~/Python-packages/atomman/atomman/load/__init__.py:32\u001b[0m, in \u001b[0;36mload\u001b[0;34m(style, *args, **kwargs)\u001b[0m\n\u001b[1;32m     13\u001b[0m \u001b[38;5;250m\u001b[39m\u001b[38;5;124;03m\"\"\"\u001b[39;00m\n\u001b[1;32m     14\u001b[0m \u001b[38;5;124;03mLoad a System from another format.\u001b[39;00m\n\u001b[1;32m     15\u001b[0m \u001b[38;5;124;03m\u001b[39;00m\n\u001b[0;32m   (...)\u001b[0m\n\u001b[1;32m     28\u001b[0m \u001b[38;5;124;03m    The system object associated with the data model.\u001b[39;00m\n\u001b[1;32m     29\u001b[0m \u001b[38;5;124;03m\"\"\"\u001b[39;00m\n\u001b[1;32m     31\u001b[0m \u001b[38;5;28;01mif\u001b[39;00m style \u001b[38;5;129;01min\u001b[39;00m load_styles:\n\u001b[0;32m---> 32\u001b[0m     \u001b[38;5;28;01mreturn\u001b[39;00m \u001b[43mload_styles\u001b[49m\u001b[43m[\u001b[49m\u001b[43mstyle\u001b[49m\u001b[43m]\u001b[49m\u001b[43m(\u001b[49m\u001b[38;5;241;43m*\u001b[39;49m\u001b[43margs\u001b[49m\u001b[43m,\u001b[49m\u001b[43m \u001b[49m\u001b[38;5;241;43m*\u001b[39;49m\u001b[38;5;241;43m*\u001b[39;49m\u001b[43mkwargs\u001b[49m\u001b[43m)\u001b[49m\n\u001b[1;32m     33\u001b[0m \u001b[38;5;28;01melif\u001b[39;00m style \u001b[38;5;129;01min\u001b[39;00m failed_load_styles:\n\u001b[1;32m     34\u001b[0m     \u001b[38;5;28;01mraise\u001b[39;00m failed_load_styles[style]\n",
      "File \u001b[0;32m~/Python-packages/atomman/atomman/load/dft_reference/load.py:64\u001b[0m, in \u001b[0;36mload\u001b[0;34m(id, api_key, database, local, remote, refresh_cache, verbose)\u001b[0m\n\u001b[1;32m     61\u001b[0m     database \u001b[38;5;241m=\u001b[39m Database\u001b[38;5;241m.\u001b[39mDatabase()\n\u001b[1;32m     63\u001b[0m \u001b[38;5;66;03m# Fetch crystal from NIST or DFT database\u001b[39;00m\n\u001b[0;32m---> 64\u001b[0m crystal \u001b[38;5;241m=\u001b[39m \u001b[43mdatabase\u001b[49m\u001b[38;5;241;43m.\u001b[39;49m\u001b[43mfetch_reference_crystal\u001b[49m\u001b[43m(\u001b[49m\u001b[38;5;28;43mid\u001b[39;49m\u001b[43m,\u001b[49m\u001b[43m \u001b[49m\u001b[43mapi_key\u001b[49m\u001b[38;5;241;43m=\u001b[39;49m\u001b[43mapi_key\u001b[49m\u001b[43m,\u001b[49m\n\u001b[1;32m     65\u001b[0m \u001b[43m                                           \u001b[49m\u001b[43mlocal\u001b[49m\u001b[38;5;241;43m=\u001b[39;49m\u001b[43mlocal\u001b[49m\u001b[43m,\u001b[49m\n\u001b[1;32m     66\u001b[0m \u001b[43m                                           \u001b[49m\u001b[43mremote\u001b[49m\u001b[38;5;241;43m=\u001b[39;49m\u001b[43mremote\u001b[49m\u001b[43m,\u001b[49m\u001b[43m \u001b[49m\n\u001b[1;32m     67\u001b[0m \u001b[43m                                           \u001b[49m\u001b[43mrefresh_cache\u001b[49m\u001b[38;5;241;43m=\u001b[39;49m\u001b[43mrefresh_cache\u001b[49m\u001b[43m,\u001b[49m\n\u001b[1;32m     68\u001b[0m \u001b[43m                                           \u001b[49m\u001b[43mverbose\u001b[49m\u001b[38;5;241;43m=\u001b[39;49m\u001b[43mverbose\u001b[49m\u001b[43m)\u001b[49m\n\u001b[1;32m     70\u001b[0m \u001b[38;5;28;01mreturn\u001b[39;00m crystal\u001b[38;5;241m.\u001b[39mucell\n",
      "File \u001b[0;32m~/Python-packages/atomman/atomman/library/Database/_reference_crystal.py:437\u001b[0m, in \u001b[0;36mfetch_reference_crystal\u001b[0;34m(self, id, api_key, local, remote, refresh_cache, verbose)\u001b[0m\n\u001b[1;32m    435\u001b[0m         \u001b[38;5;28mprint\u001b[39m(\u001b[38;5;124m'\u001b[39m\u001b[38;5;124mCrystal retrieved from OQMD\u001b[39m\u001b[38;5;124m'\u001b[39m)\n\u001b[1;32m    436\u001b[0m \u001b[38;5;28;01melse\u001b[39;00m:\n\u001b[0;32m--> 437\u001b[0m     record \u001b[38;5;241m=\u001b[39m \u001b[38;5;28;43mself\u001b[39;49m\u001b[38;5;241;43m.\u001b[39;49m\u001b[43mfetch_mp_crystal\u001b[49m\u001b[43m(\u001b[49m\u001b[38;5;28;43mid\u001b[39;49m\u001b[43m,\u001b[49m\u001b[43m \u001b[49m\u001b[43mapi_key\u001b[49m\u001b[38;5;241;43m=\u001b[39;49m\u001b[43mapi_key\u001b[49m\u001b[43m)\u001b[49m\n\u001b[1;32m    438\u001b[0m     \u001b[38;5;28;01mif\u001b[39;00m verbose:\n\u001b[1;32m    439\u001b[0m         \u001b[38;5;28mprint\u001b[39m(\u001b[38;5;124m'\u001b[39m\u001b[38;5;124mCrystal retrieved from Materials Project\u001b[39m\u001b[38;5;124m'\u001b[39m)\n",
      "File \u001b[0;32m~/Python-packages/atomman/atomman/library/Database/_reference_crystal.py:525\u001b[0m, in \u001b[0;36mfetch_mp_crystal\u001b[0;34m(self, id, api_key)\u001b[0m\n\u001b[1;32m    522\u001b[0m     \u001b[38;5;28;01mwith\u001b[39;00m \u001b[38;5;28mopen\u001b[39m(api_key) \u001b[38;5;28;01mas\u001b[39;00m f:\n\u001b[1;32m    523\u001b[0m         api_key \u001b[38;5;241m=\u001b[39m f\u001b[38;5;241m.\u001b[39mread()\u001b[38;5;241m.\u001b[39mstrip()\n\u001b[0;32m--> 525\u001b[0m records \u001b[38;5;241m=\u001b[39m \u001b[38;5;28;43mself\u001b[39;49m\u001b[38;5;241;43m.\u001b[39;49m\u001b[43mfetch_mp_crystals\u001b[49m\u001b[43m(\u001b[49m\u001b[38;5;28;43mid\u001b[39;49m\u001b[43m,\u001b[49m\u001b[43m \u001b[49m\u001b[43mapi_key\u001b[49m\u001b[38;5;241;43m=\u001b[39;49m\u001b[43mapi_key\u001b[49m\u001b[43m)\u001b[49m\n\u001b[1;32m    526\u001b[0m \u001b[38;5;28;01mif\u001b[39;00m \u001b[38;5;28mlen\u001b[39m(records) \u001b[38;5;241m==\u001b[39m \u001b[38;5;241m1\u001b[39m:\n\u001b[1;32m    527\u001b[0m     \u001b[38;5;28;01mreturn\u001b[39;00m records[\u001b[38;5;241m0\u001b[39m]\n",
      "File \u001b[0;32m~/Python-packages/atomman/atomman/library/Database/_reference_crystal.py:483\u001b[0m, in \u001b[0;36mfetch_mp_crystals\u001b[0;34m(self, id, api_key)\u001b[0m\n\u001b[1;32m    481\u001b[0m     entries \u001b[38;5;241m=\u001b[39m m\u001b[38;5;241m.\u001b[39mquery({\u001b[38;5;124m\"\u001b[39m\u001b[38;5;124mmaterial_id\u001b[39m\u001b[38;5;124m\"\u001b[39m: {\u001b[38;5;124m\"\u001b[39m\u001b[38;5;124m$in\u001b[39m\u001b[38;5;124m\"\u001b[39m: aslist(\u001b[38;5;28mid\u001b[39m)}}, [\u001b[38;5;124m'\u001b[39m\u001b[38;5;124mmaterial_id\u001b[39m\u001b[38;5;124m'\u001b[39m, \u001b[38;5;124m'\u001b[39m\u001b[38;5;124mcif\u001b[39m\u001b[38;5;124m'\u001b[39m])\n\u001b[1;32m    482\u001b[0m \u001b[38;5;28;01mexcept\u001b[39;00m:\n\u001b[0;32m--> 483\u001b[0m     \u001b[38;5;28;01mraise\u001b[39;00m \u001b[38;5;167;01mValueError\u001b[39;00m(\u001b[38;5;124m'\u001b[39m\u001b[38;5;124mFailed to find Materials Project information\u001b[39m\u001b[38;5;124m'\u001b[39m)\n\u001b[1;32m    484\u001b[0m \u001b[38;5;28;01melse\u001b[39;00m:\n\u001b[1;32m    485\u001b[0m     \u001b[38;5;66;03m# Convert cif to model and save\u001b[39;00m\n\u001b[1;32m    486\u001b[0m     \u001b[38;5;28;01mfor\u001b[39;00m entry \u001b[38;5;129;01min\u001b[39;00m entries:\n",
      "\u001b[0;31mValueError\u001b[0m: Failed to find Materials Project information"
     ]
    }
   ],
   "source": [
    "mp_api_key = 'C:/Users/lmh1/Documents/Materials Project/API key.txt'\n",
    "\n",
    "ucell = am.load('dft_reference', 'mp-81', api_key=mp_api_key, verbose=True)\n",
    "print(ucell)"
   ]
  },
  {
   "cell_type": "code",
   "execution_count": 4,
   "metadata": {},
   "outputs": [
    {
     "name": "stdout",
     "output_type": "stream",
     "text": [
      "Crystal retrieved from OQMD\n",
      "avect =  [ 4.125,  0.000,  0.000]\n",
      "bvect =  [ 0.000,  4.125,  0.000]\n",
      "cvect =  [ 0.000,  0.000,  4.125]\n",
      "origin = [ 0.000,  0.000,  0.000]\n",
      "natoms = 4\n",
      "natypes = 1\n",
      "symbols = ('Au',)\n",
      "pbc = [ True  True  True]\n",
      "per-atom properties = ['atype', 'pos']\n",
      "     id |   atype |  pos[0] |  pos[1] |  pos[2]\n",
      "      0 |       1 |   0.000 |   0.000 |   0.000\n",
      "      1 |       1 |   2.063 |   2.063 |   0.000\n",
      "      2 |       1 |   2.063 |   0.000 |   2.063\n",
      "      3 |       1 |   0.000 |   2.063 |   2.063\n"
     ]
    }
   ],
   "source": [
    "ucell = am.load('dft_reference', 'oqmd-592562', verbose=True)\n",
    "print(ucell)"
   ]
  },
  {
   "cell_type": "markdown",
   "metadata": {},
   "source": [
    " "
   ]
  }
 ],
 "metadata": {
  "kernelspec": {
   "display_name": "Python 311",
   "language": "python",
   "name": "py11"
  },
  "language_info": {
   "codemirror_mode": {
    "name": "ipython",
    "version": 3
   },
   "file_extension": ".py",
   "mimetype": "text/x-python",
   "name": "python",
   "nbconvert_exporter": "python",
   "pygments_lexer": "ipython3",
   "version": "3.11.5"
  }
 },
 "nbformat": 4,
 "nbformat_minor": 4
}
