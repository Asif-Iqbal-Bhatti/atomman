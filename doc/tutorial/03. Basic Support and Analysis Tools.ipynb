{
 "cells": [
  {
   "cell_type": "markdown",
   "metadata": {},
   "source": [
    "# Introduction to atomman: Basic Support and Analysis Tools\n",
    "\n",
    "__Lucas M. Hale__, [lucas.hale@nist.gov](mailto:lucas.hale@nist.gov?Subject=ipr-demo), _Materials Science and Engineering Division, NIST_.\n",
    "    \n",
    "[Disclaimers](http://www.nist.gov/public_affairs/disclaimer.cfm) "
   ]
  },
  {
   "cell_type": "markdown",
   "metadata": {},
   "source": [
    "## 1. Introduction\n",
    "\n",
    "This Notebook outlines some of the other tools in atomman that provide basic support features and simple analysis of the atomistic systems."
   ]
  },
  {
   "cell_type": "markdown",
   "metadata": {},
   "source": [
    "**Library Imports**"
   ]
  },
  {
   "cell_type": "code",
   "execution_count": 1,
   "metadata": {},
   "outputs": [
    {
     "name": "stdout",
     "output_type": "stream",
     "text": [
      "atomman version = 1.2.5\n",
      "Notebook executed on 2019-03-25\n"
     ]
    }
   ],
   "source": [
    "# Standard Python libraries\n",
    "from __future__ import (absolute_import, print_function,\n",
    "                        division, unicode_literals)\n",
    "import os\n",
    "from io import open\n",
    "from copy import deepcopy\n",
    "import datetime\n",
    "\n",
    "# http://www.numpy.org/\n",
    "import numpy as np\n",
    "\n",
    "# https://github.com/usnistgov/atomman\n",
    "import atomman as am\n",
    "import atomman.unitconvert as uc\n",
    "\n",
    "# Show atomman version\n",
    "print('atomman version =', am.__version__)\n",
    "\n",
    "# Show date of Notebook execution\n",
    "print('Notebook executed on', datetime.date.today())"
   ]
  },
  {
   "cell_type": "markdown",
   "metadata": {},
   "source": [
    "Construct a demonstration 2x2x2 diamond cubic silicon system"
   ]
  },
  {
   "cell_type": "code",
   "execution_count": 2,
   "metadata": {},
   "outputs": [
    {
     "name": "stdout",
     "output_type": "stream",
     "text": [
      "64\n"
     ]
    }
   ],
   "source": [
    "a = uc.set_in_units(5.431, 'angstrom')\n",
    "box = am.Box(a=a, b=a, c=a)\n",
    "pos = [[0.00, 0.00, 0.00], [0.50, 0.50, 0.00], [0.50, 0.00, 0.50], [0.00, 0.50, 0.50],\n",
    "       [0.25, 0.25, 0.25], [0.75, 0.75, 0.25], [0.75, 0.25, 0.75], [0.25, 0.75, 0.75]]\n",
    "atoms = am.Atoms(atype=1, pos=pos)\n",
    "ucell = am.System(atoms=atoms, box=box, scale=True)\n",
    "system = ucell.supersize(2,2,2)\n",
    "print(system.natoms)"
   ]
  },
  {
   "cell_type": "markdown",
   "metadata": {},
   "source": [
    "## 2. Elastic constants \n",
    "\n",
    "The full elastic constants tensor for a given crystal can be represented with the atomman.ElasticConstants class.  The values in an ElasticConstants object can be set and retrieved in a variety of formats and transformed to other Cartesian coordinate systems. \n",
    "\n",
    "See the [03.1. ElasticConstants class Jupyter Notebook](03.1. ElasticConstants class.ipynb) for more details and a full description of all of the class methods."
   ]
  },
  {
   "cell_type": "code",
   "execution_count": 3,
   "metadata": {},
   "outputs": [],
   "source": [
    "# Define an ElasticConstants object for diamond cubic silicon\n",
    "# values taken from http://www.ioffe.ru/SVA/NSM/Semicond/Si/mechanic.html\n",
    "C11 = uc.set_in_units(16.60 * 10**11, 'dyn/cm^2')\n",
    "C12 = uc.set_in_units( 6.40 * 10**11, 'dyn/cm^2')\n",
    "C44 = uc.set_in_units( 7.96 * 10**11, 'dyn/cm^2')\n",
    "\n",
    "C = am.ElasticConstants(C11=C11, C12=C12, C44=C44)"
   ]
  },
  {
   "cell_type": "code",
   "execution_count": 4,
   "metadata": {},
   "outputs": [
    {
     "name": "stdout",
     "output_type": "stream",
     "text": [
      "Cij (GPa) =\n",
      "[[166.   64.   64.    0.    0.    0. ]\n",
      " [ 64.  166.   64.    0.    0.    0. ]\n",
      " [ 64.   64.  166.    0.    0.    0. ]\n",
      " [  0.    0.    0.   79.6   0.    0. ]\n",
      " [  0.    0.    0.    0.   79.6   0. ]\n",
      " [  0.    0.    0.    0.    0.   79.6]]\n"
     ]
    }
   ],
   "source": [
    "# Get 6x6 Cij Voigt representation of elastic constants in GPa\n",
    "print('Cij (GPa) =')\n",
    "print(uc.get_in_units(C.Cij, 'GPa'))"
   ]
  },
  {
   "cell_type": "markdown",
   "metadata": {},
   "source": [
    "## 3. Relative distances between atoms\n",
    "\n",
    "There are a few built-in tools for investigating the relative positions between atoms of the same and different systems."
   ]
  },
  {
   "cell_type": "markdown",
   "metadata": {},
   "source": [
    "### 3.1. System.dvect()\n",
    "\n",
    "The System.dvect() method computes the shortest vector(s) between two points or list of points within the atomman.System taking into account the System's periodic dimensions.\n",
    "\n",
    "Parameters\n",
    "\n",
    "- **pos_0** (*numpy.ndarray or index*) Absolute Cartesian vector position(s) to use as reference point(s). If the value can be used as an index, then self.atoms.pos[pos_0] is taken.\n",
    "\n",
    "- **pos_1** (*numpy.ndarray or index*) Absolute Cartesian vector position(s) to find relative to pos_0.  If the value can be used as an index, then self.atoms.pos[pos_1] is taken.\n",
    "\n",
    "- **code** (*str, optional*) Option for specifying which underlying code function to use. 'cython' uses the version of the function built in cython (faster). 'python' uses the purely python version.  Default is 'cython' if the code can be imported, otherwise 'python'."
   ]
  },
  {
   "cell_type": "code",
   "execution_count": 5,
   "metadata": {},
   "outputs": [
    {
     "name": "stdout",
     "output_type": "stream",
     "text": [
      "[ 4.07325  4.07325 -4.07325]\n"
     ]
    }
   ],
   "source": [
    "# Calculate shortest vector between atoms 1 and 60\n",
    "print(system.dvect(1, 60))"
   ]
  },
  {
   "cell_type": "code",
   "execution_count": 6,
   "metadata": {},
   "outputs": [
    {
     "name": "stdout",
     "output_type": "stream",
     "text": [
      "[8.66025404 5.95297241 5.95297241 5.95297241 6.30856205 3.87088054\n",
      " 3.87088054 3.87088054 7.08419092 6.33398788 6.33398788 3.25939281\n",
      " 5.45266877 5.86626957 5.86626957 2.2175116  7.08419092 6.33398788\n",
      " 3.25939281 6.33398788 5.45266877 5.86626957 2.2175116  5.86626957\n",
      " 5.03701519 6.69334927 3.91218142 3.91218142 4.43455051 7.33774633\n",
      " 4.93424363 4.93424363 7.08419092 3.25939281 6.33398788 6.33398788\n",
      " 5.45266877 2.2175116  5.86626957 5.86626957 5.03701519 3.91218142\n",
      " 6.69334927 3.91218142 4.43455051 4.93424363 7.33774633 4.93424363\n",
      " 5.03701519 3.91218142 3.91218142 6.69334927 4.43455051 4.93424363\n",
      " 4.93424363 7.33774633 0.7465139  4.4706471  4.4706471  4.4706471\n",
      " 3.09820588 6.6163557  6.6163557  6.6163557 ]\n"
     ]
    }
   ],
   "source": [
    "# Calculate shortest distance between position [5., 5., 5.] and all atoms in system\n",
    "pos = system.atoms.pos\n",
    "\n",
    "dvects = system.dvect([5.0, 5.0, 5.0], pos)\n",
    "print(np.linalg.norm(dvects, axis=1))"
   ]
  },
  {
   "cell_type": "markdown",
   "metadata": {},
   "source": [
    "### 3.2. displacement()\n",
    "\n",
    "The atomman.displacement() function compares two systems with the same number of atoms and calculates the vector differences between all atoms with the same atomic id's. The vectors returned are the shortest vectors after taking periodic boundaries in consideration, i.e. it uses dvect().\n",
    "\n",
    "Parameters\n",
    "\n",
    "- **system_0** (*atomman.System*) The initial system to calculate displacements from.\n",
    "\n",
    "- **system_1** (*atomman.System*) The final system to calculate displacements to.\n",
    "\n",
    "- **box_reference** (*str or None*) Specifies which system's boundary conditions to use.\n",
    "\n",
    "    - 'initial' uses system_0's box and pbc.\n",
    "    \n",
    "    - 'final' uses system_1's box and pbc (Default).\n",
    "    \n",
    "    - None computes the straight difference between the positions without accounting for periodic boundaries.\n",
    "    \n",
    "- **code** (*str, optional*) Option for specifying which code version of dvect to use (see dvect's documentation for details)."
   ]
  },
  {
   "cell_type": "code",
   "execution_count": 7,
   "metadata": {},
   "outputs": [
    {
     "name": "stdout",
     "output_type": "stream",
     "text": [
      "[[2.67245499 2.10094216 1.32261161]\n",
      " [1.03650191 0.25888624 2.6912534 ]\n",
      " [0.33087782 1.53066712 1.52474972]\n",
      " [2.24268468 1.41581227 0.5599612 ]\n",
      " [1.6562776  1.86031448 2.16732036]\n",
      " [2.76725267 0.9846509  0.25362214]\n",
      " [0.67430582 0.10870598 1.04719595]\n",
      " [1.3472467  0.32823359 1.26159794]\n",
      " [1.18672828 1.89225838 0.89208241]\n",
      " [1.94756885 1.66767232 1.48906525]\n",
      " [0.45930832 1.92754899 1.45190523]\n",
      " [0.79818618 0.03417054 0.46657692]\n",
      " [0.14119193 1.65732572 1.85913894]\n",
      " [1.16151236 0.15970024 2.31334339]\n",
      " [2.77314065 1.28723941 1.55620243]\n",
      " [1.49923949 0.09810011 2.80863829]\n",
      " [2.38773067 0.98979479 2.07787812]\n",
      " [0.41580822 2.80579026 0.78376334]\n",
      " [2.46711461 2.21887818 0.42231979]\n",
      " [2.91241307 0.48078801 2.10863824]\n",
      " [2.89116764 2.68929713 2.85640568]\n",
      " [2.81118627 1.51501249 2.55742009]\n",
      " [0.19704597 2.21568286 1.52673259]\n",
      " [1.24276318 1.36932797 0.8188291 ]\n",
      " [1.55144934 0.91927246 2.80144204]\n",
      " [2.99399803 2.58520456 2.26671881]\n",
      " [1.85211191 0.24108933 1.41667606]\n",
      " [2.15336911 2.74384657 1.16316611]\n",
      " [2.46075867 2.53707453 2.27639402]\n",
      " [0.79531599 0.66626952 2.67154656]\n",
      " [0.28752963 0.86744243 2.32229298]\n",
      " [2.77797487 0.10922407 2.14519684]\n",
      " [2.73979378 1.87908518 2.67417688]\n",
      " [1.17290839 2.23866516 0.77686093]\n",
      " [2.67487301 1.49367785 2.43567952]\n",
      " [1.02714458 0.71457219 2.96991812]\n",
      " [2.104838   1.15216482 1.13493195]\n",
      " [2.70831545 1.53642732 1.05225129]\n",
      " [0.38576869 0.10992543 0.02324481]\n",
      " [0.67922256 2.22564656 1.09442603]\n",
      " [2.77830229 2.72206123 1.76258236]\n",
      " [0.07504146 1.08973267 0.37061539]\n",
      " [2.54875664 2.39682615 2.316342  ]\n",
      " [0.72602065 1.64125573 1.65742422]\n",
      " [2.31690766 0.6959869  2.41502472]\n",
      " [2.88132883 1.63482802 0.44352421]\n",
      " [0.59612296 1.12981112 1.66173823]\n",
      " [1.96412448 0.44029628 1.8276613 ]\n",
      " [1.72163167 1.83069208 0.6453729 ]\n",
      " [2.15984716 1.63859765 0.08831685]\n",
      " [1.27295833 2.01436463 0.19682392]\n",
      " [2.97733553 0.02732699 0.53699384]\n",
      " [1.7825974  0.2817036  2.64649956]\n",
      " [0.79825229 1.83043701 2.04843966]\n",
      " [2.30416648 1.2746228  0.62612327]\n",
      " [2.35938915 0.16034473 1.87461647]\n",
      " [2.58449187 0.77643733 0.00734332]\n",
      " [0.6985783  1.09195318 0.03907918]\n",
      " [1.83182618 2.99601834 2.09602515]\n",
      " [2.01308532 2.66996951 1.58390364]\n",
      " [2.250538   2.61810877 0.7492095 ]\n",
      " [2.95340871 0.25042336 1.91966356]\n",
      " [0.43520243 2.33917812 1.68916796]\n",
      " [1.87613979 1.83959877 2.97981821]]\n"
     ]
    }
   ],
   "source": [
    "# Copy system and randomly displace atoms\n",
    "system2 = deepcopy(system)\n",
    "system2.atoms.pos += 3 * np.random.rand(system.natoms, 3)\n",
    "system2.wrap()\n",
    "\n",
    "# Show displacement between the two systems\n",
    "print(am.displacement(system, system2))       "
   ]
  },
  {
   "cell_type": "markdown",
   "metadata": {},
   "source": [
    "### 3.3. System.neighborlist()\n",
    "\n",
    "A list of neighbor atoms within a cutoff can be constructed using the System.neighborlist() method.  The list of neighbors is returned as an atomman.NeighborList object.\n",
    "\n",
    "See the [03.2. NeighborList class Jupyter Notebook](03.2. NeighborList class.ipynb) for more details on how the list is calculated and can be used.\n",
    "\n",
    "Parameters\n",
    "        \n",
    "- **cutoff** (*float, optional*) Radial cutoff distance for identifying neighbors.  Must be given if model is not given.\n",
    "\n",
    "- **model** (*str or file-like object, optional*) Gives the file path or content to load.  If given, no other parameters are allowed.\n",
    "            \n",
    "- **cmult** (*int, optional*) Parameter associated with the binning routine.  Default value is most likely the fastest.\n",
    "            \n",
    "- **code** (*str, optional*)  Option for specifying which underlying code function to use. 'cython' uses the version of the function built in cython (faster). 'python' uses the purely python version.  Default is 'cython' if the code can be imported, otherwise 'python'.\n",
    "\n",
    "- **initialsize** (*int, optional*) The number of neighbor positions to initially assign to each atom.  Default value is 20.\n",
    "\n",
    "- **deltasize** (*int, optional*) Specifies the number of extra neighbor positions to allow each atom when the number of neighbors exceeds the underlying array size.  Default value is 10.\n",
    "            \n",
    "Returns\n",
    "        \n",
    "- (*atomman.NeighborList*) The compiled list of neighbors."
   ]
  },
  {
   "cell_type": "code",
   "execution_count": 8,
   "metadata": {},
   "outputs": [],
   "source": [
    "# Identify neighbors within 3 angstroms\n",
    "neighbors = system.neighborlist(cutoff=3)"
   ]
  },
  {
   "cell_type": "code",
   "execution_count": 9,
   "metadata": {},
   "outputs": [
    {
     "name": "stdout",
     "output_type": "stream",
     "text": [
      "Average coordination = 4.0\n"
     ]
    }
   ],
   "source": [
    "# Show average atomic coordination\n",
    "print('Average coordination =', neighbors.coord.mean())"
   ]
  },
  {
   "cell_type": "code",
   "execution_count": 10,
   "metadata": {},
   "outputs": [
    {
     "name": "stdout",
     "output_type": "stream",
     "text": [
      "Neighbors of atom 6 = [ 2 11 33 40]\n"
     ]
    }
   ],
   "source": [
    "# List neighbor atoms of atom 6\n",
    "print('Neighbors of atom 6 =', neighbors[6])"
   ]
  },
  {
   "cell_type": "markdown",
   "metadata": {},
   "source": [
    "## 4. Basic tools\n",
    "\n",
    "This lists some of the other basic tools and features in atomman."
   ]
  },
  {
   "cell_type": "markdown",
   "metadata": {},
   "source": [
    "### 4.1. Atomic information\n",
    "\n",
    "- **atomman.tools.atomic_number()** returns the atomic number associated with an element's atomic symbol.  \n",
    "\n",
    "- **atomman.tools.atomic_symbol()** returns the elemental symbol associated with an given atomic number.\n",
    "\n",
    "- **atomman.tools.atomic_mass()** returns the atomic mass of an element or isotope. The atom can be identified with atomic number or atomic/isotope symbol."
   ]
  },
  {
   "cell_type": "code",
   "execution_count": 11,
   "metadata": {},
   "outputs": [
    {
     "name": "stdout",
     "output_type": "stream",
     "text": [
      "26\n",
      "Fe\n",
      "55.845\n",
      "55.845\n"
     ]
    }
   ],
   "source": [
    "# Get atomic number for an atomic symbol\n",
    "num = am.tools.atomic_number('Fe')\n",
    "print(num)\n",
    "\n",
    "# Get atomic symbol for an atomic number\n",
    "symbol = am.tools.atomic_symbol(num)\n",
    "print(symbol)\n",
    "\n",
    "# Get atomic mass for an atomic symbol\n",
    "mass = am.tools.atomic_mass(symbol)\n",
    "print(mass)\n",
    "\n",
    "# Get atomic mass for an atomic number\n",
    "mass = am.tools.atomic_mass(num)\n",
    "print(mass)"
   ]
  },
  {
   "cell_type": "code",
   "execution_count": 12,
   "metadata": {},
   "outputs": [
    {
     "name": "stdout",
     "output_type": "stream",
     "text": [
      "25.986891904\n"
     ]
    }
   ],
   "source": [
    "# Get atomic mass for an isotope\n",
    "mass = am.tools.atomic_mass('Al-26')\n",
    "print(mass)"
   ]
  },
  {
   "cell_type": "markdown",
   "metadata": {},
   "source": [
    "### 4.2. axes_check()\n",
    "\n",
    "The axes_check() function is useful when working in Cartesian systems. Given a (3,3) array representing three 3D Cartesian vectors:\n",
    "\n",
    "- The three vectors are checked that they are orthogonal and right-handed.\n",
    "\n",
    "- The corresponding array of unit vectors are returned. This can then be used for crystal transformations."
   ]
  },
  {
   "cell_type": "code",
   "execution_count": 13,
   "metadata": {},
   "outputs": [
    {
     "name": "stdout",
     "output_type": "stream",
     "text": [
      "[[-0.70710678  0.          0.70710678]\n",
      " [ 0.70710678  0.          0.70710678]\n",
      " [ 0.          1.          0.        ]]\n"
     ]
    }
   ],
   "source": [
    "axes = [[-1, 0, 1],\n",
    "        [ 1, 0, 1],\n",
    "        [ 0, 1, 0]]\n",
    "print(am.tools.axes_check(axes))"
   ]
  },
  {
   "cell_type": "markdown",
   "metadata": {},
   "source": [
    "### 4.3. filltemplate()\n",
    "\n",
    "The filltemplate() function takes a template and fills in values for delimited template variables."
   ]
  },
  {
   "cell_type": "code",
   "execution_count": 14,
   "metadata": {},
   "outputs": [
    {
     "name": "stdout",
     "output_type": "stream",
     "text": [
      "My friend Charlie really likes to use templates to program, says that they are delicious!\n"
     ]
    }
   ],
   "source": [
    "madlibs = \"My friend <name> really likes to use templates to <verb>, says that they are <adjective>!\"\n",
    "s_delimiter = '<'\n",
    "e_delimiter = '>'\n",
    "\n",
    "terms = {}\n",
    "terms['name'] = 'Charlie'\n",
    "terms['verb'] = 'program'\n",
    "terms['adjective'] = 'delicious'\n",
    "\n",
    "print(am.tools.filltemplate(madlibs, terms, s_delimiter, e_delimiter))"
   ]
  },
  {
   "cell_type": "markdown",
   "metadata": {},
   "source": [
    "### 4.4. indexstr()\n",
    "\n",
    "Iterates through all indicies of an array with a given shape, returning both the numeric index and a string representation."
   ]
  },
  {
   "cell_type": "code",
   "execution_count": 15,
   "metadata": {},
   "outputs": [
    {
     "name": "stdout",
     "output_type": "stream",
     "text": [
      "index -> (0, 0) , istr -> '[0][0]'\n",
      "index -> (0, 1) , istr -> '[0][1]'\n",
      "index -> (1, 0) , istr -> '[1][0]'\n",
      "index -> (1, 1) , istr -> '[1][1]'\n",
      "index -> (2, 0) , istr -> '[2][0]'\n",
      "index -> (2, 1) , istr -> '[2][1]'\n"
     ]
    }
   ],
   "source": [
    "for index, istr in am.tools.indexstr((3,2)):\n",
    "    print('index ->', repr(index), ', istr ->', repr(istr))"
   ]
  },
  {
   "cell_type": "markdown",
   "metadata": {},
   "source": [
    "### 4.5. uber_open_rmode\n",
    "\n",
    "uber_open_rmode is a context manager that allows for similar reading of content from a file or from a string variable. It equivalently handles:\n",
    "    \n",
    "- str path name to a file\n",
    "\n",
    "- str content\n",
    "\n",
    "- open file-like object"
   ]
  },
  {
   "cell_type": "code",
   "execution_count": 16,
   "metadata": {},
   "outputs": [
    {
     "name": "stdout",
     "output_type": "stream",
     "text": [
      "b'Here I am, read me!'\n",
      "b'Here I am, read me!'\n",
      "b'Here I am, read me!'\n"
     ]
    }
   ],
   "source": [
    "# Define str and save to file\n",
    "text = 'Here I am, read me!'\n",
    "fname = 'text.txt'\n",
    "with open(fname, 'w') as f:\n",
    "    f.write(text)\n",
    "\n",
    "# Use uber_open_rmode on text\n",
    "with am.tools.uber_open_rmode(text) as f:\n",
    "    print(f.read())\n",
    "    \n",
    "# Use uber_open_rmode on file path\n",
    "with am.tools.uber_open_rmode(fname) as f:\n",
    "    print(f.read())\n",
    "    \n",
    "# Use uber_open_rmode on file-like object\n",
    "with open(fname, 'rb') as fobject:\n",
    "    with am.tools.uber_open_rmode(fobject) as f:\n",
    "        print(f.read())"
   ]
  },
  {
   "cell_type": "markdown",
   "metadata": {},
   "source": [
    "### 4.6. vect_angle()\n",
    "\n",
    "The vect_angle() function returns the angle between two vectors."
   ]
  },
  {
   "cell_type": "code",
   "execution_count": 17,
   "metadata": {},
   "outputs": [
    {
     "name": "stdout",
     "output_type": "stream",
     "text": [
      "Angle between [-0.22902121  0.05143593 -0.22954422] and [-0.2738805   0.34579282  0.79694321] =\n",
      "110.02893770062644 degrees\n",
      "1.9203672353476504 radians\n"
     ]
    }
   ],
   "source": [
    "vect1 = 2*np.random.rand(3)-1\n",
    "vect2 = 2*np.random.rand(3)-1\n",
    "\n",
    "print('Angle between', vect1, 'and', vect2, '=')\n",
    "print(am.tools.vect_angle(vect1, vect2), 'degrees')\n",
    "print(am.tools.vect_angle(vect1, vect2, 'radian'), 'radians')"
   ]
  },
  {
   "cell_type": "markdown",
   "metadata": {},
   "source": [
    "### 4.7. Miller index conversions\n",
    "\n",
    "- **atomman.tools.miller.vector3to4(indices)** converts three-term Miller indices to four-term Miller-Bravais for hexagonal systems.\n",
    "\n",
    "- **atomman.tools.miller.vector4to3(indices)** converts four-term Miller-Bravais to three-term Miller indices.\n",
    "\n",
    "- **atomman.tools.miller.vectortocartesian(indices, box)** converts Miller and Miller-Bravais indices to Cartesian vectors based on a supplied box.\n",
    "\n",
    "**Note**: The returned indices will be the smallest integer representations possible, i.e. direction is retained but magnitude may be different. "
   ]
  },
  {
   "cell_type": "code",
   "execution_count": 18,
   "metadata": {},
   "outputs": [
    {
     "name": "stdout",
     "output_type": "stream",
     "text": [
      "[ 1  1 -2  3]\n",
      "[1 1 0]\n"
     ]
    }
   ],
   "source": [
    "# Test single value case\n",
    "print(am.tools.miller.vector3to4(np.array([3,3,3])))\n",
    "print(am.tools.miller.vector4to3(np.array([1,1,-2,0])))"
   ]
  },
  {
   "cell_type": "code",
   "execution_count": 19,
   "metadata": {},
   "outputs": [
    {
     "name": "stdout",
     "output_type": "stream",
     "text": [
      "[[-1 -4  4]\n",
      " [ 3 -5  3]\n",
      " [ 5 -5  1]]\n",
      "\n",
      "[[  2  -7   5  12]\n",
      " [ 11 -13   2   9]\n",
      " [  5  -5   0   1]]\n",
      "\n",
      "[[-1 -4  4]\n",
      " [ 3 -5  3]\n",
      " [ 5 -5  1]]\n"
     ]
    }
   ],
   "source": [
    "# Generate random uvw crystal indices\n",
    "indices = np.random.randint(-5,6, (3,3))\n",
    "print(indices)\n",
    "print()\n",
    "\n",
    "# Convert to hexagonal uvtw's\n",
    "indices = am.tools.miller.vector3to4(indices)\n",
    "print(indices)\n",
    "print()\n",
    "\n",
    "# Convert back to uvw's\n",
    "indices = am.tools.miller.vector4to3(indices)\n",
    "print(indices)"
   ]
  },
  {
   "cell_type": "code",
   "execution_count": 20,
   "metadata": {},
   "outputs": [
    {
     "name": "stdout",
     "output_type": "stream",
     "text": [
      "[[ 2.51        0.          0.        ]\n",
      " [-1.255       2.17372376  0.        ]\n",
      " [ 0.          0.          4.07      ]]\n",
      "\n",
      "[[ 2.51        0.          0.        ]\n",
      " [-1.255       2.17372376  0.        ]\n",
      " [ 0.          0.          4.07      ]]\n"
     ]
    }
   ],
   "source": [
    "# Define a hexagonal box\n",
    "a = uc.set_in_units(2.51, 'angstrom')\n",
    "c = uc.set_in_units(4.07, 'angstrom')\n",
    "box = am.Box(a=a, b=a, c=c, gamma=120)\n",
    "\n",
    "# Pass Miller indices\n",
    "indices = [[1,0,0],\n",
    "           [0,1,0],\n",
    "           [0,0,1]]\n",
    "print(am.tools.miller.vectortocartesian(indices, box))\n",
    "print()\n",
    "\n",
    "# Pass equivalent Miller-Bravais indices\n",
    "indices = [[ 2,-1,-1, 0],\n",
    "           [-1, 2,-1, 0],\n",
    "           [ 0, 0, 0, 1]]\n",
    "print(am.tools.miller.vectortocartesian(indices, box))"
   ]
  },
  {
   "cell_type": "markdown",
   "metadata": {},
   "source": [
    "### 4.8. Crystal lattice identification\n",
    "\n",
    "There are also a few tests for identifying if a supplied box is consistent with a standard representation of a crystal family unit cell.\n",
    "\n",
    "- **atomman.tools.identifyfamily(box)** returns str crystal family if box corresponds to a standard crystal representation. Otherwise, returns None.\n",
    "\n",
    "- **atomman.tools.iscubic(box))** returns bool indicating if box is a standard cubic box.\n",
    "\n",
    "- **atomman.tools.ishexagonal(box))** returns bool indicating if box is a standard hexagonal box.\n",
    "\n",
    "- **atomman.tools.istetragonal(box))** returns bool indicating if box is a standard tetragonal box.\n",
    " \n",
    "- **atomman.tools.isrhombohedral(box))** returns bool indicating if box is a standard rhombohedral box.\n",
    "\n",
    "- **atomman.tools.isorthorhombic(box))** returns bool indicating if box is a standard orthorhombic box.\n",
    "\n",
    "- **atomman.tools.ismonoclinic(box))** returns bool indicating if box is a standard monoclinic box.\n",
    "\n",
    "- **atomman.tools.istriclinic(box))** returns bool indicating if box is a standard triclinic box.\n",
    "\n",
    "All of these functions use the following standard representation criteria:\n",
    "\n",
    "- cubic: \n",
    "    - $a = b = c$\n",
    "    - $\\alpha = \\beta = \\gamma = 90$\n",
    "- hexagonal: \n",
    "    - $a = b \\ne c$\n",
    "    - $\\alpha = \\beta = 90$\n",
    "    - $\\gamma = 120$\n",
    "- tetragonal: \n",
    "    - $a = b \\ne c$\n",
    "    - $\\alpha = \\beta = \\gamma = 90$\n",
    "- rhombohedral:\n",
    "    - $a = b = c$\n",
    "    - $\\alpha = \\beta = \\gamma \\ne 90$\n",
    "- orthorhombic: \n",
    "    - $a \\ne b \\ne c$\n",
    "    - $\\alpha = \\beta = \\gamma = 90$\n",
    "- monoclinic: \n",
    "    - $a \\ne b \\ne c$\n",
    "    - $\\alpha = \\gamma = 90$\n",
    "    - $\\beta \\ne 90$\n",
    "- triclinic: \n",
    "    - $a \\ne b \\ne c$\n",
    "    - $\\alpha \\ne \\beta \\ne \\gamma$"
   ]
  },
  {
   "cell_type": "code",
   "execution_count": 21,
   "metadata": {},
   "outputs": [
    {
     "name": "stdout",
     "output_type": "stream",
     "text": [
      "identifyfamily = orthorhombic\n",
      "iscubic =        False\n",
      "ishexagonal =    False\n",
      "istetragonal =   False\n",
      "isrhombohedral = False\n",
      "isorthorhombic = True\n",
      "ismonoclinic =   False\n",
      "istriclinic =    False\n"
     ]
    }
   ],
   "source": [
    "# Define an orthogonal box\n",
    "a = uc.set_in_units(2.51, 'angstrom')\n",
    "b = uc.set_in_units(3.13, 'angstrom')\n",
    "c = uc.set_in_units(4.07, 'angstrom')\n",
    "box = am.Box(a=a, b=b, c=c)\n",
    "\n",
    "print('identifyfamily =', am.tools.identifyfamily(box))\n",
    "print('iscubic =       ', am.tools.iscubic(box))\n",
    "print('ishexagonal =   ', am.tools.ishexagonal(box))\n",
    "print('istetragonal =  ', am.tools.istetragonal(box))\n",
    "print('isrhombohedral =', am.tools.isrhombohedral(box))\n",
    "print('isorthorhombic =', am.tools.isorthorhombic(box))\n",
    "print('ismonoclinic =  ', am.tools.ismonoclinic(box))\n",
    "print('istriclinic =   ', am.tools.istriclinic(box))"
   ]
  },
  {
   "cell_type": "code",
   "execution_count": 22,
   "metadata": {},
   "outputs": [
    {
     "name": "stdout",
     "output_type": "stream",
     "text": [
      "identifyfamily = None\n"
     ]
    }
   ],
   "source": [
    "# Define a non-standard tetragonal box with a=c!=b\n",
    "box = am.Box(a=a, b=b, c=a)\n",
    "print('identifyfamily =', am.tools.identifyfamily(box))"
   ]
  },
  {
   "cell_type": "markdown",
   "metadata": {},
   "source": [
    "**File Cleanup**"
   ]
  },
  {
   "cell_type": "code",
   "execution_count": 23,
   "metadata": {},
   "outputs": [],
   "source": [
    "os.remove('text.txt')"
   ]
  }
 ],
 "metadata": {
  "kernelspec": {
   "display_name": "Python 3",
   "language": "python",
   "name": "python3"
  },
  "language_info": {
   "codemirror_mode": {
    "name": "ipython",
    "version": 3
   },
   "file_extension": ".py",
   "mimetype": "text/x-python",
   "name": "python",
   "nbconvert_exporter": "python",
   "pygments_lexer": "ipython3",
   "version": "3.6.4"
  }
 },
 "nbformat": 4,
 "nbformat_minor": 2
}
