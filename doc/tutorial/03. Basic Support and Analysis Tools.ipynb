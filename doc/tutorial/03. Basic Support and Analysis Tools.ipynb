{
 "cells": [
  {
   "cell_type": "markdown",
   "metadata": {},
   "source": [
    "# Introduction to atomman: Basic support and analysis tools\n",
    "\n",
    "__Lucas M. Hale__, [lucas.hale@nist.gov](mailto:lucas.hale@nist.gov?Subject=ipr-demo), _Materials Science and Engineering Division, NIST_.\n",
    "    \n",
    "[Disclaimers](http://www.nist.gov/public_affairs/disclaimer.cfm) "
   ]
  },
  {
   "cell_type": "markdown",
   "metadata": {},
   "source": [
    "## 1. Introduction\n",
    "\n",
    "This Notebook outlines some of the other tools in atomman that provide basic support features and simple analysis of the atomistic systems."
   ]
  },
  {
   "cell_type": "markdown",
   "metadata": {},
   "source": [
    "**Library Imports**"
   ]
  },
  {
   "cell_type": "code",
   "execution_count": 1,
   "metadata": {},
   "outputs": [
    {
     "name": "stdout",
     "output_type": "stream",
     "text": [
      "atomman version = 1.3.0\n",
      "Notebook executed on 2019-11-06\n"
     ]
    }
   ],
   "source": [
    "# Standard Python libraries\n",
    "import os\n",
    "from io import open\n",
    "from copy import deepcopy\n",
    "import datetime\n",
    "\n",
    "# http://www.numpy.org/\n",
    "import numpy as np\n",
    "\n",
    "# https://pandas.pydata.org/\n",
    "import pandas as pd\n",
    "\n",
    "# https://github.com/usnistgov/atomman\n",
    "import atomman as am\n",
    "import atomman.unitconvert as uc\n",
    "\n",
    "# Show atomman version\n",
    "print('atomman version =', am.__version__)\n",
    "\n",
    "# Show date of Notebook execution\n",
    "print('Notebook executed on', datetime.date.today())"
   ]
  },
  {
   "cell_type": "markdown",
   "metadata": {},
   "source": [
    "Construct a demonstration 2x2x2 diamond cubic silicon system"
   ]
  },
  {
   "cell_type": "code",
   "execution_count": 2,
   "metadata": {},
   "outputs": [
    {
     "name": "stdout",
     "output_type": "stream",
     "text": [
      "64\n"
     ]
    }
   ],
   "source": [
    "a = uc.set_in_units(5.431, 'angstrom')\n",
    "box = am.Box(a=a, b=a, c=a)\n",
    "pos = [[0.00, 0.00, 0.00], [0.50, 0.50, 0.00], [0.50, 0.00, 0.50], [0.00, 0.50, 0.50],\n",
    "       [0.25, 0.25, 0.25], [0.75, 0.75, 0.25], [0.75, 0.25, 0.75], [0.25, 0.75, 0.75]]\n",
    "atoms = am.Atoms(atype=1, pos=pos)\n",
    "ucell = am.System(atoms=atoms, box=box, scale=True)\n",
    "system = ucell.supersize(2,2,2)\n",
    "print(system.natoms)"
   ]
  },
  {
   "cell_type": "markdown",
   "metadata": {},
   "source": [
    "## 2. Elastic constants \n",
    "\n",
    "The full elastic constants tensor for a given crystal can be represented with the atomman.ElasticConstants class.  The values in an ElasticConstants object can be set and retrieved in a variety of formats and transformed to other Cartesian coordinate systems. \n",
    "\n",
    "See the [03.1. ElasticConstants class Jupyter Notebook](03.1. ElasticConstants class.ipynb) for more details and a full description of all of the class methods."
   ]
  },
  {
   "cell_type": "code",
   "execution_count": 3,
   "metadata": {},
   "outputs": [],
   "source": [
    "# Define an ElasticConstants object for diamond cubic silicon\n",
    "# values taken from http://www.ioffe.ru/SVA/NSM/Semicond/Si/mechanic.html\n",
    "C11 = uc.set_in_units(16.60 * 10**11, 'dyn/cm^2')\n",
    "C12 = uc.set_in_units( 6.40 * 10**11, 'dyn/cm^2')\n",
    "C44 = uc.set_in_units( 7.96 * 10**11, 'dyn/cm^2')\n",
    "\n",
    "C = am.ElasticConstants(C11=C11, C12=C12, C44=C44)"
   ]
  },
  {
   "cell_type": "code",
   "execution_count": 4,
   "metadata": {},
   "outputs": [
    {
     "name": "stdout",
     "output_type": "stream",
     "text": [
      "Cij (GPa) =\n",
      "[[166.   64.   64.    0.    0.    0. ]\n",
      " [ 64.  166.   64.    0.    0.    0. ]\n",
      " [ 64.   64.  166.    0.    0.    0. ]\n",
      " [  0.    0.    0.   79.6   0.    0. ]\n",
      " [  0.    0.    0.    0.   79.6   0. ]\n",
      " [  0.    0.    0.    0.    0.   79.6]]\n"
     ]
    }
   ],
   "source": [
    "# Get 6x6 Cij Voigt representation of elastic constants in GPa\n",
    "print('Cij (GPa) =')\n",
    "print(uc.get_in_units(C.Cij, 'GPa'))"
   ]
  },
  {
   "cell_type": "markdown",
   "metadata": {},
   "source": [
    "## 3. Relative distances between atoms\n",
    "\n",
    "There are a few built-in tools for investigating the relative positions between atoms of the same and different systems."
   ]
  },
  {
   "cell_type": "markdown",
   "metadata": {},
   "source": [
    "### 3.1. System.dvect()\n",
    "\n",
    "The System.dvect() method computes the shortest vector(s) between two points or list of points within the atomman.System taking into account the System's periodic dimensions.\n",
    "\n",
    "Parameters\n",
    "\n",
    "- **pos_0** (*numpy.ndarray or index*) Absolute Cartesian vector position(s) to use as reference point(s). If the value can be used as an index, then self.atoms.pos[pos_0] is taken.\n",
    "\n",
    "- **pos_1** (*numpy.ndarray or index*) Absolute Cartesian vector position(s) to find relative to pos_0.  If the value can be used as an index, then self.atoms.pos[pos_1] is taken."
   ]
  },
  {
   "cell_type": "code",
   "execution_count": 5,
   "metadata": {},
   "outputs": [
    {
     "name": "stdout",
     "output_type": "stream",
     "text": [
      "[ 4.07325  4.07325 -4.07325]\n"
     ]
    }
   ],
   "source": [
    "# Calculate shortest vector between atoms 1 and 60\n",
    "print(system.dvect(1, 60))"
   ]
  },
  {
   "cell_type": "code",
   "execution_count": 6,
   "metadata": {},
   "outputs": [
    {
     "name": "stdout",
     "output_type": "stream",
     "text": [
      "[8.66025404 5.95297241 5.95297241 5.95297241 6.30856205 3.87088054\n",
      " 3.87088054 3.87088054 7.08419092 6.33398788 6.33398788 3.25939281\n",
      " 5.45266877 5.86626957 5.86626957 2.2175116  7.08419092 6.33398788\n",
      " 3.25939281 6.33398788 5.45266877 5.86626957 2.2175116  5.86626957\n",
      " 5.03701519 6.69334927 3.91218142 3.91218142 4.43455051 7.33774633\n",
      " 4.93424363 4.93424363 7.08419092 3.25939281 6.33398788 6.33398788\n",
      " 5.45266877 2.2175116  5.86626957 5.86626957 5.03701519 3.91218142\n",
      " 6.69334927 3.91218142 4.43455051 4.93424363 7.33774633 4.93424363\n",
      " 5.03701519 3.91218142 3.91218142 6.69334927 4.43455051 4.93424363\n",
      " 4.93424363 7.33774633 0.7465139  4.4706471  4.4706471  4.4706471\n",
      " 3.09820588 6.6163557  6.6163557  6.6163557 ]\n"
     ]
    }
   ],
   "source": [
    "# Calculate shortest distance between position [5., 5., 5.] and all atoms in system\n",
    "pos = system.atoms.pos\n",
    "\n",
    "dvects = system.dvect([5.0, 5.0, 5.0], pos)\n",
    "print(np.linalg.norm(dvects, axis=1))"
   ]
  },
  {
   "cell_type": "markdown",
   "metadata": {},
   "source": [
    "### 3.2. displacement()\n",
    "\n",
    "The atomman.displacement() function compares two systems with the same number of atoms and calculates the vector differences between all atoms with the same atomic id's. The vectors returned are the shortest vectors after taking periodic boundaries in consideration, i.e. it uses dvect().\n",
    "\n",
    "Parameters\n",
    "\n",
    "- **system_0** (*atomman.System*) The initial system to calculate displacements from.\n",
    "\n",
    "- **system_1** (*atomman.System*) The final system to calculate displacements to.\n",
    "\n",
    "- **box_reference** (*str or None*) Specifies which system's boundary conditions to use.\n",
    "\n",
    "    - 'initial' uses system_0's box and pbc.\n",
    "    \n",
    "    - 'final' uses system_1's box and pbc (Default).\n",
    "    \n",
    "    - None computes the straight difference between the positions without accounting for periodic boundaries."
   ]
  },
  {
   "cell_type": "code",
   "execution_count": 7,
   "metadata": {},
   "outputs": [
    {
     "name": "stdout",
     "output_type": "stream",
     "text": [
      "[[1.77628039 1.55317973 0.97706175]\n",
      " [0.1381128  2.04598977 2.21839059]\n",
      " [1.99662528 0.45615953 0.76069082]\n",
      " [1.65293211 2.25821975 2.16219312]\n",
      " [2.59619194 0.39584094 0.20704175]\n",
      " [0.32055987 1.07148388 2.66141893]\n",
      " [1.42635371 0.14867084 1.87812736]\n",
      " [2.50855729 1.55881572 1.10225299]\n",
      " [2.80697878 1.57903962 0.97631668]\n",
      " [2.54759589 1.10483773 2.24186845]\n",
      " [2.47461785 1.69458514 1.47879569]\n",
      " [2.08540229 1.94819311 0.26452982]\n",
      " [0.19516584 0.45693182 0.63972043]\n",
      " [1.15680112 1.65481225 1.60156832]\n",
      " [1.00488997 0.27729334 2.98516025]\n",
      " [1.02681856 1.65807995 2.40305866]\n",
      " [1.07629377 0.31066797 1.57612141]\n",
      " [2.53213425 0.26042847 1.93340517]\n",
      " [0.80113993 2.99568035 0.01040669]\n",
      " [2.50501142 2.97719779 1.33098116]\n",
      " [2.60345951 0.07692916 1.69620873]\n",
      " [1.78393496 0.26467154 2.88218084]\n",
      " [2.83321158 0.76708824 2.7765996 ]\n",
      " [1.5247339  2.59909625 1.37912535]\n",
      " [1.50558373 2.36946952 2.34828564]\n",
      " [0.58521044 1.15725704 1.78094029]\n",
      " [2.84571349 2.50009665 0.1641754 ]\n",
      " [2.10845511 0.02127383 0.08833716]\n",
      " [0.96302072 1.44658188 2.27541722]\n",
      " [0.17564797 1.82372289 1.38722662]\n",
      " [1.59584407 0.05466248 1.73089117]\n",
      " [2.79628918 2.51407865 1.29634787]\n",
      " [1.28640898 1.95111165 2.48791193]\n",
      " [0.61415596 0.23064343 2.87025724]\n",
      " [1.64385356 2.82763093 2.58152649]\n",
      " [2.02208838 1.97168425 1.06500036]\n",
      " [1.2913594  2.80076469 2.11864009]\n",
      " [0.54069412 2.15712424 1.43159361]\n",
      " [0.52695827 1.70408694 0.2974368 ]\n",
      " [1.84449257 0.60143874 1.90388558]\n",
      " [1.60321323 1.09162424 1.35239408]\n",
      " [2.7322691  0.67923977 1.25064738]\n",
      " [1.11060616 0.7849485  0.39090946]\n",
      " [2.33766556 1.13950879 2.16153013]\n",
      " [0.57675427 2.18748541 1.2615138 ]\n",
      " [2.32773233 0.09324331 2.31526988]\n",
      " [0.86880599 0.23244618 2.68272458]\n",
      " [2.36603196 0.40687184 2.63143941]\n",
      " [1.278692   2.579082   0.10687462]\n",
      " [2.31748099 2.37945965 2.36288386]\n",
      " [1.88061758 1.42585658 2.06820804]\n",
      " [1.41862194 1.1044902  1.6843085 ]\n",
      " [1.32555169 1.46711909 0.21325859]\n",
      " [2.9705959  1.49391662 0.56245272]\n",
      " [2.14704548 2.47927351 1.63786878]\n",
      " [2.73089931 0.27807938 2.04384503]\n",
      " [0.27841922 0.19341575 0.61010245]\n",
      " [0.53335191 2.83546718 0.98452219]\n",
      " [0.49049945 1.94144469 1.97936273]\n",
      " [1.06783158 2.31946324 2.87120494]\n",
      " [2.71307813 1.89265357 0.37788434]\n",
      " [0.42096147 1.97836669 2.8138075 ]\n",
      " [2.45484726 1.24283997 2.17406822]\n",
      " [0.87244139 1.66035573 2.6329374 ]]\n"
     ]
    }
   ],
   "source": [
    "# Copy system and randomly displace atoms\n",
    "system2 = deepcopy(system)\n",
    "system2.atoms.pos += 3 * np.random.rand(system.natoms, 3)\n",
    "system2.wrap()\n",
    "\n",
    "# Show displacement between the two systems\n",
    "print(am.displacement(system, system2))       "
   ]
  },
  {
   "cell_type": "markdown",
   "metadata": {},
   "source": [
    "### 3.3. System.neighborlist()\n",
    "\n",
    "A list of neighbor atoms within a cutoff can be constructed using the System.neighborlist() method.  The list of neighbors is returned as an atomman.NeighborList object.\n",
    "\n",
    "See the [03.2. NeighborList class Jupyter Notebook](03.2. NeighborList class.ipynb) for more details on how the list is calculated and can be used.\n",
    "\n",
    "Parameters\n",
    "        \n",
    "- **cutoff** (*float, optional*) Radial cutoff distance for identifying neighbors.  Must be given if model is not given.\n",
    "\n",
    "- **model** (*str or file-like object, optional*) Gives the file path or content to load.  If given, no other parameters are allowed.\n",
    "            \n",
    "- **initialsize** (*int, optional*) The number of neighbor positions to initially assign to each atom.  Default value is 20.\n",
    "\n",
    "- **deltasize** (*int, optional*) Specifies the number of extra neighbor positions to allow each atom when the number of neighbors exceeds the underlying array size.  Default value is 10.\n",
    "            \n",
    "Returns\n",
    "        \n",
    "- (*atomman.NeighborList*) The compiled list of neighbors."
   ]
  },
  {
   "cell_type": "code",
   "execution_count": 8,
   "metadata": {},
   "outputs": [],
   "source": [
    "# Identify neighbors within 3 angstroms\n",
    "neighbors = system.neighborlist(cutoff=3)"
   ]
  },
  {
   "cell_type": "code",
   "execution_count": 9,
   "metadata": {},
   "outputs": [
    {
     "name": "stdout",
     "output_type": "stream",
     "text": [
      "Average coordination = 4.0\n"
     ]
    }
   ],
   "source": [
    "# Show average atomic coordination\n",
    "print('Average coordination =', neighbors.coord.mean())"
   ]
  },
  {
   "cell_type": "code",
   "execution_count": 10,
   "metadata": {},
   "outputs": [
    {
     "name": "stdout",
     "output_type": "stream",
     "text": [
      "Neighbors of atom 6 = [ 2 11 33 40]\n"
     ]
    }
   ],
   "source": [
    "# List neighbor atoms of atom 6\n",
    "print('Neighbors of atom 6 =', neighbors[6])"
   ]
  },
  {
   "cell_type": "markdown",
   "metadata": {},
   "source": [
    "## 4. Region selectors\n",
    "\n",
    "*Added version 1.3.0*\n",
    "\n",
    "A number of geometric shape definitions are available in the atomman.region submodule to help identify regions in space above/below planes or inside/outside of regions. These are useful for constructing systems by slicing away atoms to create nanostructures, or for performing analysis on only select regions.\n",
    "\n",
    "See the [03.3. Region selectors Jupyter Notebook](03.3. Region selectors.ipynb) for more details and a list of all available shapes.\n"
   ]
  },
  {
   "cell_type": "code",
   "execution_count": 11,
   "metadata": {},
   "outputs": [
    {
     "name": "stdout",
     "output_type": "stream",
     "text": [
      "64 atoms in system\n",
      "24 atoms above plane\n",
      "40 atoms below plane\n",
      "11 atoms inside sphere\n"
     ]
    }
   ],
   "source": [
    "# Define a plane normal to the y axis and positioned halfway across system\n",
    "plane = am.region.Plane([0,1,0], system.box.bvect / 2)\n",
    "\n",
    "# Count number of atoms in system, and above/below plane\n",
    "print(f'{system.natoms} atoms in system')\n",
    "\n",
    "abovecount = np.sum(plane.above(system.atoms.pos))\n",
    "print(f'{abovecount} atoms above plane')\n",
    "\n",
    "belowcount = np.sum(plane.below(system.atoms.pos))\n",
    "print(f'{belowcount} atoms below plane')\n",
    "\n",
    "# Define a sphere centered at [0,0,0] with radius = 6\n",
    "sphere = am.region.Sphere([0,0,0], 6)\n",
    "\n",
    "# Count atoms inside sphere\n",
    "insidecount = np.sum(sphere.inside(system.atoms.pos))\n",
    "print(f'{insidecount} atoms inside sphere')"
   ]
  },
  {
   "cell_type": "markdown",
   "metadata": {},
   "source": [
    "## 5. Basic tools\n",
    "\n",
    "This lists some of the other basic tools and features in atomman."
   ]
  },
  {
   "cell_type": "markdown",
   "metadata": {},
   "source": [
    "### 5.1. Atomic information\n",
    "\n",
    "- **atomman.tools.atomic_number()** returns the atomic number associated with an element's atomic symbol.  \n",
    "\n",
    "- **atomman.tools.atomic_symbol()** returns the elemental symbol associated with an given atomic number.\n",
    "\n",
    "- **atomman.tools.atomic_mass()** returns the atomic mass of an element or isotope. The atom can be identified with atomic number or atomic/isotope symbol."
   ]
  },
  {
   "cell_type": "code",
   "execution_count": 12,
   "metadata": {},
   "outputs": [
    {
     "name": "stdout",
     "output_type": "stream",
     "text": [
      "26\n",
      "Fe\n",
      "55.845\n",
      "55.845\n"
     ]
    }
   ],
   "source": [
    "# Get atomic number for an atomic symbol\n",
    "num = am.tools.atomic_number('Fe')\n",
    "print(num)\n",
    "\n",
    "# Get atomic symbol for an atomic number\n",
    "symbol = am.tools.atomic_symbol(num)\n",
    "print(symbol)\n",
    "\n",
    "# Get atomic mass for an atomic symbol\n",
    "mass = am.tools.atomic_mass(symbol)\n",
    "print(mass)\n",
    "\n",
    "# Get atomic mass for an atomic number\n",
    "mass = am.tools.atomic_mass(num)\n",
    "print(mass)"
   ]
  },
  {
   "cell_type": "code",
   "execution_count": 13,
   "metadata": {},
   "outputs": [
    {
     "name": "stdout",
     "output_type": "stream",
     "text": [
      "25.986891904\n"
     ]
    }
   ],
   "source": [
    "# Get atomic mass for an isotope\n",
    "mass = am.tools.atomic_mass('Al-26')\n",
    "print(mass)"
   ]
  },
  {
   "cell_type": "markdown",
   "metadata": {},
   "source": [
    "### 5.2. axes_check()\n",
    "\n",
    "The axes_check() function is useful when working in Cartesian systems. Given a (3,3) array representing three 3D Cartesian vectors:\n",
    "\n",
    "- The three vectors are checked that they are orthogonal and right-handed.\n",
    "\n",
    "- The corresponding array of unit vectors are returned. This can then be used for crystal transformations."
   ]
  },
  {
   "cell_type": "code",
   "execution_count": 14,
   "metadata": {},
   "outputs": [
    {
     "name": "stdout",
     "output_type": "stream",
     "text": [
      "[[-0.70710678  0.          0.70710678]\n",
      " [ 0.70710678  0.          0.70710678]\n",
      " [ 0.          1.          0.        ]]\n"
     ]
    }
   ],
   "source": [
    "axes = [[-1, 0, 1],\n",
    "        [ 1, 0, 1],\n",
    "        [ 0, 1, 0]]\n",
    "print(am.tools.axes_check(axes))"
   ]
  },
  {
   "cell_type": "markdown",
   "metadata": {},
   "source": [
    "### 5.3. filltemplate()\n",
    "\n",
    "The filltemplate() function takes a template and fills in values for delimited template variables."
   ]
  },
  {
   "cell_type": "code",
   "execution_count": 15,
   "metadata": {},
   "outputs": [
    {
     "name": "stdout",
     "output_type": "stream",
     "text": [
      "My friend Charlie really likes to use templates to program, says that they are delicious!\n"
     ]
    }
   ],
   "source": [
    "madlibs = \"My friend <name> really likes to use templates to <verb>, says that they are <adjective>!\"\n",
    "s_delimiter = '<'\n",
    "e_delimiter = '>'\n",
    "\n",
    "terms = {}\n",
    "terms['name'] = 'Charlie'\n",
    "terms['verb'] = 'program'\n",
    "terms['adjective'] = 'delicious'\n",
    "\n",
    "print(am.tools.filltemplate(madlibs, terms, s_delimiter, e_delimiter))"
   ]
  },
  {
   "cell_type": "markdown",
   "metadata": {},
   "source": [
    "### 5.4. indexstr()\n",
    "\n",
    "Iterates through all indicies of an array with a given shape, returning both the numeric index and a string representation."
   ]
  },
  {
   "cell_type": "code",
   "execution_count": 16,
   "metadata": {},
   "outputs": [
    {
     "name": "stdout",
     "output_type": "stream",
     "text": [
      "index -> (0, 0) , istr -> '[0][0]'\n",
      "index -> (0, 1) , istr -> '[0][1]'\n",
      "index -> (1, 0) , istr -> '[1][0]'\n",
      "index -> (1, 1) , istr -> '[1][1]'\n",
      "index -> (2, 0) , istr -> '[2][0]'\n",
      "index -> (2, 1) , istr -> '[2][1]'\n"
     ]
    }
   ],
   "source": [
    "for index, istr in am.tools.indexstr((3,2)):\n",
    "    print('index ->', repr(index), ', istr ->', repr(istr))"
   ]
  },
  {
   "cell_type": "markdown",
   "metadata": {},
   "source": [
    "### 5.5. uber_open_rmode\n",
    "\n",
    "uber_open_rmode is a context manager that allows for similar reading of content from a file or from a string variable. It equivalently handles:\n",
    "    \n",
    "- str path name to a file\n",
    "\n",
    "- str content\n",
    "\n",
    "- open file-like object"
   ]
  },
  {
   "cell_type": "code",
   "execution_count": 17,
   "metadata": {},
   "outputs": [
    {
     "name": "stdout",
     "output_type": "stream",
     "text": [
      "b'Here I am, read me!'\n",
      "b'Here I am, read me!'\n",
      "b'Here I am, read me!'\n"
     ]
    }
   ],
   "source": [
    "# Define str and save to file\n",
    "text = 'Here I am, read me!'\n",
    "fname = 'text.txt'\n",
    "with open(fname, 'w') as f:\n",
    "    f.write(text)\n",
    "\n",
    "# Use uber_open_rmode on text\n",
    "with am.tools.uber_open_rmode(text) as f:\n",
    "    print(f.read())\n",
    "    \n",
    "# Use uber_open_rmode on file path\n",
    "with am.tools.uber_open_rmode(fname) as f:\n",
    "    print(f.read())\n",
    "    \n",
    "# Use uber_open_rmode on file-like object\n",
    "with open(fname, 'rb') as fobject:\n",
    "    with am.tools.uber_open_rmode(fobject) as f:\n",
    "        print(f.read())"
   ]
  },
  {
   "cell_type": "markdown",
   "metadata": {},
   "source": [
    "### 5.6. vect_angle()\n",
    "\n",
    "The vect_angle() function returns the angle between two vectors."
   ]
  },
  {
   "cell_type": "code",
   "execution_count": 18,
   "metadata": {},
   "outputs": [
    {
     "name": "stdout",
     "output_type": "stream",
     "text": [
      "Angle between [0.85212236 0.80192465 0.43328632] and [-0.5487525   0.27320908  0.05726526] =\n",
      "106.9293428642297 degrees\n",
      "1.8662690999747122 radians\n"
     ]
    }
   ],
   "source": [
    "vect1 = 2*np.random.rand(3)-1\n",
    "vect2 = 2*np.random.rand(3)-1\n",
    "\n",
    "print('Angle between', vect1, 'and', vect2, '=')\n",
    "print(am.tools.vect_angle(vect1, vect2), 'degrees')\n",
    "print(am.tools.vect_angle(vect1, vect2, 'radian'), 'radians')"
   ]
  },
  {
   "cell_type": "markdown",
   "metadata": {},
   "source": [
    "### 5.7 duplicates_allclose()\n",
    "\n",
    "Determine duplicates in dataframe based on tolerances.  The implementation\n",
    "first uses pandas.DataFrame.duplicated on the `dcols` argument with\n",
    "`keep=False` to keep all duplicates.  The duplicate sub-dataframe is then\n",
    "sorted on both `dcols` and `fcols`.  A diff between each row is then done\n",
    "on the sorted duplicates dataframe.  The float values are then checked for\n",
    "their tolerances.\n",
    "\n",
    "Note: False duplicates may be identified if tolerance ranges overlap.\n",
    "Consider dataframe with rows 1,2,3.  If row 2 matches row 1 within the\n",
    "tolerances, and row 3 matches row 2 within the tolerances, both rows 2 and\n",
    "3 will be labeled as tolerances even if row 3 does not match row 1 within\n",
    "the tolerances.\n",
    "\n",
    "Parameters\n",
    "- __dataframe__ (*pandas.DataFrame*) The dataframe to search for duplicates\n",
    "- __dcols__ (*list*) The column names that are tested for exact duplicates.\n",
    "- __fcols__ (*dict*) The column names (keys) that are tested using absolute tolerances (values).\n",
    "\n",
    "Returns\n",
    "- (*list of bool of length nrows*) False for first occurrence of checked values, True for subsequent duplicates."
   ]
  },
  {
   "cell_type": "code",
   "execution_count": 19,
   "metadata": {},
   "outputs": [
    {
     "data": {
      "text/html": [
       "<div>\n",
       "<style scoped>\n",
       "    .dataframe tbody tr th:only-of-type {\n",
       "        vertical-align: middle;\n",
       "    }\n",
       "\n",
       "    .dataframe tbody tr th {\n",
       "        vertical-align: top;\n",
       "    }\n",
       "\n",
       "    .dataframe thead th {\n",
       "        text-align: right;\n",
       "    }\n",
       "</style>\n",
       "<table border=\"1\" class=\"dataframe\">\n",
       "  <thead>\n",
       "    <tr style=\"text-align: right;\">\n",
       "      <th></th>\n",
       "      <th>A</th>\n",
       "      <th>B</th>\n",
       "    </tr>\n",
       "  </thead>\n",
       "  <tbody>\n",
       "    <tr>\n",
       "      <th>0</th>\n",
       "      <td>1.00001</td>\n",
       "      <td>Same</td>\n",
       "    </tr>\n",
       "    <tr>\n",
       "      <th>1</th>\n",
       "      <td>1.00002</td>\n",
       "      <td>Diff</td>\n",
       "    </tr>\n",
       "    <tr>\n",
       "      <th>2</th>\n",
       "      <td>3.00000</td>\n",
       "      <td>Same</td>\n",
       "    </tr>\n",
       "    <tr>\n",
       "      <th>3</th>\n",
       "      <td>1.00000</td>\n",
       "      <td>Same</td>\n",
       "    </tr>\n",
       "  </tbody>\n",
       "</table>\n",
       "</div>"
      ],
      "text/plain": [
       "         A     B\n",
       "0  1.00001  Same\n",
       "1  1.00002  Diff\n",
       "2  3.00000  Same\n",
       "3  1.00000  Same"
      ]
     },
     "execution_count": 19,
     "metadata": {},
     "output_type": "execute_result"
    }
   ],
   "source": [
    "# Generate test DataFrame\n",
    "df = pd.DataFrame({'A':[1.00001, 1.00002, 3.0000, 1.000000], 'B':['Same', 'Diff', 'Same', 'Same']})\n",
    "df"
   ]
  },
  {
   "cell_type": "code",
   "execution_count": 20,
   "metadata": {},
   "outputs": [
    {
     "data": {
      "text/html": [
       "<div>\n",
       "<style scoped>\n",
       "    .dataframe tbody tr th:only-of-type {\n",
       "        vertical-align: middle;\n",
       "    }\n",
       "\n",
       "    .dataframe tbody tr th {\n",
       "        vertical-align: top;\n",
       "    }\n",
       "\n",
       "    .dataframe thead th {\n",
       "        text-align: right;\n",
       "    }\n",
       "</style>\n",
       "<table border=\"1\" class=\"dataframe\">\n",
       "  <thead>\n",
       "    <tr style=\"text-align: right;\">\n",
       "      <th></th>\n",
       "      <th>A</th>\n",
       "      <th>B</th>\n",
       "    </tr>\n",
       "  </thead>\n",
       "  <tbody>\n",
       "    <tr>\n",
       "      <th>1</th>\n",
       "      <td>1.00002</td>\n",
       "      <td>Diff</td>\n",
       "    </tr>\n",
       "    <tr>\n",
       "      <th>2</th>\n",
       "      <td>3.00000</td>\n",
       "      <td>Same</td>\n",
       "    </tr>\n",
       "    <tr>\n",
       "      <th>3</th>\n",
       "      <td>1.00000</td>\n",
       "      <td>Same</td>\n",
       "    </tr>\n",
       "  </tbody>\n",
       "</table>\n",
       "</div>"
      ],
      "text/plain": [
       "         A     B\n",
       "1  1.00002  Diff\n",
       "2  3.00000  Same\n",
       "3  1.00000  Same"
      ]
     },
     "execution_count": 20,
     "metadata": {},
     "output_type": "execute_result"
    }
   ],
   "source": [
    "# Show unique values \n",
    "df[~am.tools.duplicates_allclose(df, dcols=['B'], fcols={'A':1e-4})]"
   ]
  },
  {
   "cell_type": "markdown",
   "metadata": {},
   "source": [
    "### 5.7. Miller index conversions\n",
    "\n",
    "**atomman.tools.miller.vector3to4(indices)** converts vectors from three-term Miller indices to four-term Miller-Bravais indices for hexagonal systems.\n",
    "\n",
    "**atomman.tools.miller.vector4to3(indices)** converts vectors from four-term Miller-Bravais indices to three-term Miller indices.\n",
    "\n",
    "*Updated version 1.2.6*: vector3to4 and vector4to3 now return absolute vectors instead of rescaling to the smallest integer representations.  As such, both functions return floats instead of integers."
   ]
  },
  {
   "cell_type": "code",
   "execution_count": 21,
   "metadata": {},
   "outputs": [
    {
     "name": "stdout",
     "output_type": "stream",
     "text": [
      "[ 1.  1. -2.  3.]\n",
      "[3. 3. 0.]\n"
     ]
    }
   ],
   "source": [
    "# Test single value case\n",
    "print(am.tools.miller.vector3to4(np.array([3,3,3])))\n",
    "print(am.tools.miller.vector4to3(np.array([1,1,-2,0])))"
   ]
  },
  {
   "cell_type": "code",
   "execution_count": 22,
   "metadata": {},
   "outputs": [
    {
     "name": "stdout",
     "output_type": "stream",
     "text": [
      "[[ 5  5  5]\n",
      " [-3 -2 -1]\n",
      " [-3  5  4]]\n",
      "\n",
      "[[ 1.66666667  1.66666667 -3.33333333  5.        ]\n",
      " [-1.33333333 -0.33333333  1.66666667 -1.        ]\n",
      " [-3.66666667  4.33333333 -0.66666667  4.        ]]\n",
      "\n",
      "[[ 5.  5.  5.]\n",
      " [-3. -2. -1.]\n",
      " [-3.  5.  4.]]\n"
     ]
    }
   ],
   "source": [
    "# Generate random uvw crystal indices\n",
    "indices = np.random.randint(-5,6, (3,3))\n",
    "print(indices)\n",
    "print()\n",
    "\n",
    "# Convert to hexagonal uvtw's\n",
    "indices = am.tools.miller.vector3to4(indices)\n",
    "print(indices)\n",
    "print()\n",
    "\n",
    "# Convert back to uvw's and see that values are recovered\n",
    "indices = am.tools.miller.vector4to3(indices)\n",
    "print(indices)"
   ]
  },
  {
   "cell_type": "markdown",
   "metadata": {},
   "source": [
    "**atomman.tools.miller.plane3to4(indices)** converts planes from three-term Miller indices to four-term Miller-Bravais indices for hexagonal systems.\n",
    "\n",
    "**atomman.tools.miller.plane4to3(indices)** converts planes from four-term Miller-Bravais indices to three-term Miller indices.\n",
    "\n",
    "*Added version 1.2.8*"
   ]
  },
  {
   "cell_type": "code",
   "execution_count": 23,
   "metadata": {},
   "outputs": [
    {
     "name": "stdout",
     "output_type": "stream",
     "text": [
      "[ 3.  3. -6.  3.]\n",
      "[1. 1. 0.]\n"
     ]
    }
   ],
   "source": [
    "# Test single value case\n",
    "print(am.tools.miller.plane3to4(np.array([3,3,3])))\n",
    "print(am.tools.miller.plane4to3(np.array([1,1,-2,0])))"
   ]
  },
  {
   "cell_type": "code",
   "execution_count": 24,
   "metadata": {},
   "outputs": [
    {
     "name": "stdout",
     "output_type": "stream",
     "text": [
      "[[3 2 3]\n",
      " [5 4 4]\n",
      " [0 3 5]]\n",
      "\n",
      "[[ 3.  2. -5.  3.]\n",
      " [ 5.  4. -9.  4.]\n",
      " [ 0.  3. -3.  5.]]\n",
      "\n",
      "[[3. 2. 3.]\n",
      " [5. 4. 4.]\n",
      " [0. 3. 5.]]\n"
     ]
    }
   ],
   "source": [
    "# Generate random hkl crystal indices\n",
    "indices = np.random.randint(-5,6, (3,3))\n",
    "print(indices)\n",
    "print()\n",
    "\n",
    "# Convert to hexagonal hkil's\n",
    "indices = am.tools.miller.plane3to4(indices)\n",
    "print(indices)\n",
    "print()\n",
    "\n",
    "# Convert back to hkl's and see that values are recovered\n",
    "indices = am.tools.miller.plane4to3(indices)\n",
    "print(indices)"
   ]
  },
  {
   "cell_type": "markdown",
   "metadata": {},
   "source": [
    "**atomman.tools.miller.vector_crystal_to_cartesian(indices, box)** converts Miller and Miller-Bravais indices to Cartesian vectors based on a supplied box.\n",
    "\n",
    "*Updated version 1.2.6* vectortocartesian is renamed vector_crystal_to_cartesian for consistency."
   ]
  },
  {
   "cell_type": "code",
   "execution_count": 25,
   "metadata": {},
   "outputs": [
    {
     "name": "stdout",
     "output_type": "stream",
     "text": [
      "[[ 2.51        0.          0.        ]\n",
      " [-1.255       2.17372376  0.        ]\n",
      " [ 0.          0.          4.07      ]]\n",
      "\n",
      "[[ 2.51        0.          0.        ]\n",
      " [-1.255       2.17372376  0.        ]\n",
      " [ 0.          0.          4.07      ]]\n"
     ]
    }
   ],
   "source": [
    "# Define a hexagonal box\n",
    "a = uc.set_in_units(2.51, 'angstrom')\n",
    "c = uc.set_in_units(4.07, 'angstrom')\n",
    "box = am.Box(a=a, b=a, c=c, gamma=120)\n",
    "\n",
    "# Pass Miller indices\n",
    "indices = [[1,0,0],\n",
    "           [0,1,0],\n",
    "           [0,0,1]]\n",
    "print(am.tools.miller.vector_crystal_to_cartesian(indices, box))\n",
    "print()\n",
    "\n",
    "# Pass equivalent Miller-Bravais indices\n",
    "indices = [[ 2/3,-1/3,-1/3, 0],\n",
    "           [-1/3, 2/3,-1/3, 0],\n",
    "           [   0,   0,   0, 1]]\n",
    "print(am.tools.miller.vector_crystal_to_cartesian(indices, box))"
   ]
  },
  {
   "cell_type": "markdown",
   "metadata": {},
   "source": [
    "*Added version 1.2.6*\n",
    "\n",
    "**atomman.tools.miller.vector_primitive_to_conventional(indices, setting)** converts vectors relative to a primitive unit cell to a conventional unit cell in the given setting (p, a, b, c, i or f). \n",
    "\n",
    "**atomman.tools.miller.vector_conventional_to_primitive(indices, setting)** converts vectors relative to a conventional unit cell in the given setting (p, a, b, c, i or f) to a primitive unit cell."
   ]
  },
  {
   "cell_type": "code",
   "execution_count": 26,
   "metadata": {},
   "outputs": [
    {
     "name": "stdout",
     "output_type": "stream",
     "text": [
      "avect =  [ 2.477,  0.000,  0.000]\n",
      "bvect =  [-0.825,  2.335,  0.000]\n",
      "cvect =  [-0.825, -1.167,  2.023]\n",
      "origin = [ 0.000,  0.000,  0.000]\n",
      "natoms = 1\n",
      "natypes = 1\n",
      "symbols = (None,)\n",
      "pbc = [ True  True  True]\n",
      "per-atom properties = ['atype', 'pos']\n",
      "     id |   atype |  pos[0] |  pos[1] |  pos[2]\n",
      "      0 |       1 |   0.000 |   0.000 |   0.000\n"
     ]
    }
   ],
   "source": [
    "# Define a primitive bcc unit cell box\n",
    "a = uc.set_in_units(2.86, 'angstrom')\n",
    "p_box = am.Box.trigonal(a * 3**0.5 / 2, alpha=109.466666667)\n",
    "p_ucell = am.System(box=p_box)\n",
    "print(p_ucell)"
   ]
  },
  {
   "cell_type": "code",
   "execution_count": 27,
   "metadata": {},
   "outputs": [
    {
     "name": "stdout",
     "output_type": "stream",
     "text": [
      "primitive uvws:\n",
      "[[ 0. -1. -1.]\n",
      " [ 1.  1.  0.]\n",
      " [ 1.  0.  1.]]\n",
      "conventional uvws:\n",
      "[[1. 0. 0.]\n",
      " [0. 1. 0.]\n",
      " [0. 0. 1.]]\n"
     ]
    }
   ],
   "source": [
    "# Convert conventional box vectors to primitive vectors\n",
    "a_uvw = am.tools.miller.vector_conventional_to_primitive([1, 0, 0], setting='i')\n",
    "b_uvw = am.tools.miller.vector_conventional_to_primitive([0, 1, 0], setting='i')\n",
    "c_uvw = am.tools.miller.vector_conventional_to_primitive([0, 0, 1], setting='i')\n",
    "p_uvws = np.array([a_uvw, b_uvw, c_uvw])\n",
    "print('primitive uvws:')\n",
    "print(p_uvws)\n",
    "\n",
    "# Convert back to conventional just for consistency\n",
    "print('conventional uvws:')\n",
    "print(am.tools.miller.vector_primitive_to_conventional(p_uvws, setting='i'))"
   ]
  },
  {
   "cell_type": "code",
   "execution_count": 28,
   "metadata": {},
   "outputs": [
    {
     "name": "stdout",
     "output_type": "stream",
     "text": [
      "avect =  [ 2.860,  0.000,  0.000]\n",
      "bvect =  [-0.000,  2.860,  0.000]\n",
      "cvect =  [-0.000,  0.000,  2.860]\n",
      "origin = [ 0.000,  0.000,  0.000]\n",
      "natoms = 2\n",
      "natypes = 1\n",
      "symbols = (None,)\n",
      "pbc = [ True  True  True]\n",
      "per-atom properties = ['atype', 'pos']\n",
      "     id |   atype |  pos[0] |  pos[1] |  pos[2]\n",
      "      0 |       1 |   0.000 |   0.000 |   0.000\n",
      "      1 |       1 |   1.430 |   1.430 |   1.430\n"
     ]
    }
   ],
   "source": [
    "# rotate system using p_uvws to get conventional unit cell\n",
    "c_ucell = p_ucell.rotate(p_uvws)\n",
    "print(c_ucell)"
   ]
  },
  {
   "cell_type": "markdown",
   "metadata": {},
   "source": [
    "### 5.8. Crystal lattice identification\n",
    "\n",
    "There are also a few tests for identifying if a supplied box is consistent with a standard representation of a crystal family unit cell.\n",
    "\n",
    "- **atomman.tools.identifyfamily(box)** returns str crystal family if box corresponds to a standard crystal representation. Otherwise, returns None.\n",
    "\n",
    "- **atomman.tools.iscubic(box))** returns bool indicating if box is a standard cubic box.\n",
    "\n",
    "- **atomman.tools.ishexagonal(box))** returns bool indicating if box is a standard hexagonal box.\n",
    "\n",
    "- **atomman.tools.istetragonal(box))** returns bool indicating if box is a standard tetragonal box.\n",
    " \n",
    "- **atomman.tools.isrhombohedral(box))** returns bool indicating if box is a standard rhombohedral box.\n",
    "\n",
    "- **atomman.tools.isorthorhombic(box))** returns bool indicating if box is a standard orthorhombic box.\n",
    "\n",
    "- **atomman.tools.ismonoclinic(box))** returns bool indicating if box is a standard monoclinic box.\n",
    "\n",
    "- **atomman.tools.istriclinic(box))** returns bool indicating if box is a standard triclinic box.\n",
    "\n",
    "All of these functions use the following standard representation criteria:\n",
    "\n",
    "- cubic: \n",
    "    - $a = b = c$\n",
    "    - $\\alpha = \\beta = \\gamma = 90$\n",
    "- hexagonal: \n",
    "    - $a = b \\ne c$\n",
    "    - $\\alpha = \\beta = 90$\n",
    "    - $\\gamma = 120$\n",
    "- tetragonal: \n",
    "    - $a = b \\ne c$\n",
    "    - $\\alpha = \\beta = \\gamma = 90$\n",
    "- rhombohedral:\n",
    "    - $a = b = c$\n",
    "    - $\\alpha = \\beta = \\gamma \\ne 90$\n",
    "- orthorhombic: \n",
    "    - $a \\ne b \\ne c$\n",
    "    - $\\alpha = \\beta = \\gamma = 90$\n",
    "- monoclinic: \n",
    "    - $a \\ne b \\ne c$\n",
    "    - $\\alpha = \\gamma = 90$\n",
    "    - $\\beta \\ne 90$\n",
    "- triclinic: \n",
    "    - $a \\ne b \\ne c$\n",
    "    - $\\alpha \\ne \\beta \\ne \\gamma$"
   ]
  },
  {
   "cell_type": "code",
   "execution_count": 29,
   "metadata": {},
   "outputs": [
    {
     "name": "stdout",
     "output_type": "stream",
     "text": [
      "identifyfamily = orthorhombic\n",
      "iscubic =        False\n",
      "ishexagonal =    False\n",
      "istetragonal =   False\n",
      "isrhombohedral = False\n",
      "isorthorhombic = True\n",
      "ismonoclinic =   False\n",
      "istriclinic =    False\n"
     ]
    }
   ],
   "source": [
    "# Define an orthogonal box\n",
    "a = uc.set_in_units(2.51, 'angstrom')\n",
    "b = uc.set_in_units(3.13, 'angstrom')\n",
    "c = uc.set_in_units(4.07, 'angstrom')\n",
    "box = am.Box(a=a, b=b, c=c)\n",
    "\n",
    "print('identifyfamily =', am.tools.identifyfamily(box))\n",
    "print('iscubic =       ', am.tools.iscubic(box))\n",
    "print('ishexagonal =   ', am.tools.ishexagonal(box))\n",
    "print('istetragonal =  ', am.tools.istetragonal(box))\n",
    "print('isrhombohedral =', am.tools.isrhombohedral(box))\n",
    "print('isorthorhombic =', am.tools.isorthorhombic(box))\n",
    "print('ismonoclinic =  ', am.tools.ismonoclinic(box))\n",
    "print('istriclinic =   ', am.tools.istriclinic(box))"
   ]
  },
  {
   "cell_type": "code",
   "execution_count": 30,
   "metadata": {},
   "outputs": [
    {
     "name": "stdout",
     "output_type": "stream",
     "text": [
      "identifyfamily = None\n"
     ]
    }
   ],
   "source": [
    "# Define a non-standard tetragonal box with a=c!=b\n",
    "box = am.Box(a=a, b=b, c=a)\n",
    "print('identifyfamily =', am.tools.identifyfamily(box))"
   ]
  },
  {
   "cell_type": "markdown",
   "metadata": {},
   "source": [
    "### 5.9 compositionstr()\n",
    "\n",
    "*Added version 1.2.7*\n",
    "\n",
    "Takes a list of symbols and the counts for each and returns a reduced composition string.  Used by System.composition."
   ]
  },
  {
   "cell_type": "code",
   "execution_count": 31,
   "metadata": {},
   "outputs": [
    {
     "name": "stdout",
     "output_type": "stream",
     "text": [
      "Composition = Al2Si5\n"
     ]
    }
   ],
   "source": [
    "symbols = ['Si', 'Al', 'Si']\n",
    "counts = [500, 1000, 2000]\n",
    "print('Composition =', am.tools.compositionstr(symbols, counts))"
   ]
  },
  {
   "cell_type": "markdown",
   "metadata": {},
   "source": [
    "**File Cleanup**"
   ]
  },
  {
   "cell_type": "code",
   "execution_count": 32,
   "metadata": {},
   "outputs": [],
   "source": [
    "os.remove('text.txt')"
   ]
  }
 ],
 "metadata": {
  "kernelspec": {
   "display_name": "Python 3",
   "language": "python",
   "name": "python3"
  },
  "language_info": {
   "codemirror_mode": {
    "name": "ipython",
    "version": 3
   },
   "file_extension": ".py",
   "mimetype": "text/x-python",
   "name": "python",
   "nbconvert_exporter": "python",
   "pygments_lexer": "ipython3",
   "version": "3.7.3"
  }
 },
 "nbformat": 4,
 "nbformat_minor": 2
}
