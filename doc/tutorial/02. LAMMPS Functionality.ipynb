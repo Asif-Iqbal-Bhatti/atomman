{
 "cells": [
  {
   "cell_type": "markdown",
   "metadata": {},
   "source": [
    "# Introduction to atomman: LAMMPS functionality\n",
    "\n",
    "__Lucas M. Hale__, [lucas.hale@nist.gov](mailto:lucas.hale@nist.gov?Subject=ipr-demo), _Materials Science and Engineering Division, NIST_.\n",
    "    \n",
    "[Disclaimers](http://www.nist.gov/public_affairs/disclaimer.cfm)"
   ]
  },
  {
   "cell_type": "markdown",
   "metadata": {},
   "source": [
    "## 1. Introduction\n",
    "\n",
    "This Notebook provides an introduction to interacting with LAMMPS using atomman by working through a demonstration simulation."
   ]
  },
  {
   "cell_type": "markdown",
   "metadata": {},
   "source": [
    "**Library Imports**"
   ]
  },
  {
   "cell_type": "code",
   "execution_count": 1,
   "metadata": {},
   "outputs": [
    {
     "name": "stdout",
     "output_type": "stream",
     "text": [
      "atomman version = 1.2.7\n",
      "Notebook executed on 2019-06-05\n"
     ]
    }
   ],
   "source": [
    "# Standard libraries\n",
    "from __future__ import (absolute_import, print_function,\n",
    "                        division, unicode_literals)\n",
    "import os\n",
    "import datetime\n",
    "\n",
    "# http://www.numpy.org/\n",
    "import numpy as np             \n",
    "\n",
    "# http://matplotlib.org/\n",
    "import matplotlib.pyplot as plt \n",
    "%matplotlib inline\n",
    "\n",
    "# https://github.com/usnistgov/atomman\n",
    "import atomman as am            \n",
    "import atomman.lammps as lmp\n",
    "import atomman.unitconvert as uc\n",
    "\n",
    "# Show atomman version\n",
    "print('atomman version =', am.__version__)\n",
    "\n",
    "# Show date of Notebook execution\n",
    "print('Notebook executed on', datetime.date.today())"
   ]
  },
  {
   "cell_type": "markdown",
   "metadata": {},
   "source": [
    "## 2. Interatomic Potential Control\n",
    "\n",
    "LAMMPS is capable of using a wide array of interatomic potential styles, which are defined through a combination of LAMMPS commands and potential parameter files.  In atomman, the LAMMPS commands can be automatically generated using the Potentials class and structured data model files (Section 2.2)."
   ]
  },
  {
   "cell_type": "markdown",
   "metadata": {},
   "source": [
    "### 2.1 MEAM parameter files\n",
    "\n",
    "This generates the library and parameter files for the 2015--Pascuet-M-I--Al potential. It serves as a nice demonstration as the parameter files are short compared to other potentials allowing them to be embedded in this Notebook."
   ]
  },
  {
   "cell_type": "code",
   "execution_count": 2,
   "metadata": {},
   "outputs": [],
   "source": [
    "# Generate Al.meam parameter file\n",
    "with open('Al.meam', 'w') as f:\n",
    "    f.write(\"\"\"re(1,1) =   2.86378\n",
    "attrac(1,1) = 0.39558\n",
    "repuls(1,1) = 0.09806\n",
    "Cmin(1,1,1) = 1.00769\n",
    "Cmax(1,1,1) = 2.31407\n",
    "#\n",
    "rc = 5.0\n",
    "delr = 0.1\n",
    "augt1 = 1\"\"\")"
   ]
  },
  {
   "cell_type": "code",
   "execution_count": 3,
   "metadata": {},
   "outputs": [],
   "source": [
    "# Generate library-Al.meam parameter file\n",
    "with open('library-Al.meam', 'w') as f:\n",
    "    f.write(\"\"\"# References:\n",
    "# elt        lat     z       ielement     atwt\n",
    "# alpha      b0      b1      b2           b3    alat    esub    asub\n",
    "# t0         t1              t2           t3            rozero  ibar\n",
    "#\n",
    "'Al'        'fcc'   12.     13           26.9815\n",
    "  4.68604   1.56205   5.39270   5.29601  -1.00047   4.05000   3.35999   1.06859\n",
    "1.0  -1.54917  -1.28508  10.01041 1.0 0 \"\"\")"
   ]
  },
  {
   "cell_type": "markdown",
   "metadata": {},
   "source": [
    "### 2.2 potential-LAMMPS data model file\n",
    "\n",
    "This generates the data model associated with the potential above. The different fields of the model depict values that are used to generate the LAMMPS command lines associated with the potential.\n",
    "\n",
    "See [03.1 Potential class Jupyter Notebook](03.1 Potential class.ipynb) for more details on the data model format."
   ]
  },
  {
   "cell_type": "code",
   "execution_count": 4,
   "metadata": {},
   "outputs": [],
   "source": [
    "# Data model corresponding to the potential parameter files above \n",
    "with open('2015--Pascuet-M-I--Al--LAMMPS--ipr1.json', 'w') as f:\n",
    "    f.write(\"\"\"{\n",
    "    \"potential-LAMMPS\": {\n",
    "        \"key\": \"83ca7343-12d3-4644-b85b-2b3a839f884e\", \n",
    "        \"id\": \"2015--Pascuet-M-I--Al--LAMMPS--ipr1\", \n",
    "        \"potential\": {\n",
    "            \"key\": \"b5fb2f1f-a582-4f81-9445-f002ce31e66e\", \n",
    "            \"id\": \"2015--Pascuet-M-I--Al\"\n",
    "        }, \n",
    "        \"units\": \"metal\", \n",
    "        \"atom_style\": \"atomic\", \n",
    "        \"atom\": [\n",
    "            {\n",
    "                \"element\": \"Al\", \n",
    "                \"mass\": 26.9815\n",
    "            }\n",
    "        ], \n",
    "        \"pair_style\": {\n",
    "            \"type\": \"meam\"\n",
    "        }, \n",
    "        \"pair_coeff\": {\n",
    "            \"term\": [\n",
    "                {\n",
    "                    \"file\": \"library-Al.meam\"\n",
    "                }, \n",
    "                {\n",
    "                    \"option\": \"Al\"\n",
    "                }, \n",
    "                {\n",
    "                    \"file\": \"Al.meam\"\n",
    "                }, \n",
    "                {\n",
    "                    \"symbols\": \"True\"\n",
    "                }\n",
    "            ]\n",
    "        }\n",
    "    }\n",
    "}\"\"\")"
   ]
  },
  {
   "cell_type": "markdown",
   "metadata": {},
   "source": [
    "### 2.3 lammps.Potential Class\n",
    "\n",
    "The data model can then be read in and interpreted using a lammps.Potential object.  This allows for the generation of dynamic LAMMPS command lines for the potential."
   ]
  },
  {
   "cell_type": "code",
   "execution_count": 5,
   "metadata": {},
   "outputs": [],
   "source": [
    "# Read in potential data model during initialization\n",
    "potential = lmp.Potential('2015--Pascuet-M-I--Al--LAMMPS--ipr1.json')"
   ]
  },
  {
   "cell_type": "markdown",
   "metadata": {},
   "source": [
    "Basic properties can be directly obtained."
   ]
  },
  {
   "cell_type": "code",
   "execution_count": 6,
   "metadata": {},
   "outputs": [
    {
     "name": "stdout",
     "output_type": "stream",
     "text": [
      "str(potential) ->        2015--Pascuet-M-I--Al--LAMMPS--ipr1\n",
      "potential.units ->       metal\n",
      "potential.atom_style ->  atomic\n",
      "potential.pair_style ->  meam\n",
      "potential.symbols ->     ['Al']\n",
      "potential.elements() ->  ['Al']\n",
      "potential.masses() ->    [26.9815]\n"
     ]
    }
   ],
   "source": [
    "# Show that basic properties can be directly obtained\n",
    "print('str(potential) ->       ', potential)\n",
    "print('potential.units ->      ', potential.units)\n",
    "print('potential.atom_style -> ', potential.atom_style)\n",
    "print('potential.pair_style -> ', potential.pair_style)\n",
    "print('potential.symbols ->    ', potential.symbols)\n",
    "print('potential.elements() -> ', potential.elements())\n",
    "print('potential.masses() ->   ', potential.masses())"
   ]
  },
  {
   "cell_type": "markdown",
   "metadata": {},
   "source": [
    "The LAMMPS command lines for the potential are auto-generated based on a list of symbols corresponding to LAMMPS atom types. This fully works for all LAMMPS pair_styles, with only the hybrid and hybrid/overlay styles having limitations."
   ]
  },
  {
   "cell_type": "code",
   "execution_count": 7,
   "metadata": {},
   "outputs": [
    {
     "name": "stdout",
     "output_type": "stream",
     "text": [
      "potential.pair_info() ->\n",
      "mass 1 26.981500\n",
      "\n",
      "pair_style meam\n",
      "pair_coeff * * library-Al.meam Al Al.meam Al\n",
      "\n",
      "\n",
      "potential.pair_info(['Al', 'Al', 'Al']) ->\n",
      "mass 1 26.981500\n",
      "mass 2 26.981500\n",
      "mass 3 26.981500\n",
      "\n",
      "pair_style meam\n",
      "pair_coeff * * library-Al.meam Al Al.meam Al Al Al\n",
      "\n"
     ]
    }
   ],
   "source": [
    "print('potential.pair_info() ->')\n",
    "print(potential.pair_info())\n",
    "print()\n",
    "\n",
    "print(\"potential.pair_info(['Al', 'Al', 'Al']) ->\")\n",
    "print(potential.pair_info(['Al', 'Al', 'Al']))"
   ]
  },
  {
   "cell_type": "markdown",
   "metadata": {},
   "source": [
    "## 3. Generate initial system"
   ]
  },
  {
   "cell_type": "markdown",
   "metadata": {},
   "source": [
    "### 3.1 Load poscar Al fcc unit cell\n",
    "\n",
    "A crystalline system can be easily generated using a unit cell system either defined in atomman or imported from another format.  For simplicity, here we will load a unit cell from a poscar file."
   ]
  },
  {
   "cell_type": "code",
   "execution_count": 8,
   "metadata": {},
   "outputs": [],
   "source": [
    "# Generate poscar file\n",
    "with open('Al-fcc.poscar', 'w') as f:\n",
    "    f.write(\"\"\"POSCAR for fcc Al standard unit cell\n",
    "1.0\n",
    "4.05 0.00 0.00\n",
    "0.00 4.05 0.00\n",
    "0.00 0.00 4.05\n",
    "Al\n",
    "4 \n",
    "direct\n",
    "0.00 0.00 0.00\n",
    "0.50 0.50 0.00\n",
    "0.50 0.00 0.50\n",
    "0.00 0.50 0.50\"\"\")"
   ]
  },
  {
   "cell_type": "markdown",
   "metadata": {},
   "source": [
    "Load poscar file to an atomman.System"
   ]
  },
  {
   "cell_type": "code",
   "execution_count": 9,
   "metadata": {},
   "outputs": [
    {
     "name": "stdout",
     "output_type": "stream",
     "text": [
      "avect =  [ 4.050,  0.000,  0.000]\n",
      "bvect =  [ 0.000,  4.050,  0.000]\n",
      "cvect =  [ 0.000,  0.000,  4.050]\n",
      "origin = [ 0.000,  0.000,  0.000]\n",
      "natoms = 4\n",
      "natypes = 1\n",
      "symbols = ('Al',)\n",
      "pbc = [ True  True  True]\n",
      "per-atom properties = ['atype', 'pos']\n",
      "     id |   atype |  pos[0] |  pos[1] |  pos[2]\n",
      "      0 |       1 |   0.000 |   0.000 |   0.000\n",
      "      1 |       1 |   2.025 |   2.025 |   0.000\n",
      "      2 |       1 |   2.025 |   0.000 |   2.025\n",
      "      3 |       1 |   0.000 |   2.025 |   2.025\n"
     ]
    }
   ],
   "source": [
    "system = am.load('poscar', 'Al-fcc.poscar')\n",
    "print(system)"
   ]
  },
  {
   "cell_type": "markdown",
   "metadata": {},
   "source": [
    "### 3.2 Manipulate system\n",
    "\n",
    "More complicated atomic configurations can then be generated by manipulating the seed system and the atoms contained within. Here, we'll limit the manipulations to making the system a 3x3x3 supercell of itself."
   ]
  },
  {
   "cell_type": "code",
   "execution_count": 10,
   "metadata": {},
   "outputs": [
    {
     "name": "stdout",
     "output_type": "stream",
     "text": [
      "Supercell has 108 atoms\n"
     ]
    }
   ],
   "source": [
    "system = system.supersize(3,3,3)\n",
    "print('Supercell has', system.natoms, 'atoms')"
   ]
  },
  {
   "cell_type": "markdown",
   "metadata": {},
   "source": [
    "### 3.3 Save to atom data file\n",
    "\n",
    "System.dump('atom_data') outputs the system to a LAMMPS atom data file. The parameters of the method with this style:\n",
    "\n",
    "- **style** is the output format to use ('atom_data' here).\n",
    "\n",
    "- **f** is a file path or file-like object to write to. If not given, the generated content is returned.\n",
    "\n",
    "- **units** is the LAMMPS units option to use for values. Default value is 'metal'.\n",
    "\n",
    "- **atom_style** is the LAMMPS atom_style option to use for the file. Default value is 'atomic'.\n",
    "\n",
    "- **float_format** allows the c-style format of floating point values to be specified. Default value is '%.13f'.\n",
    "\n",
    "- **return_info** is a bool indicating if the LAMMPS command lines for reading in the generated file are to be returned.  Default value is True. "
   ]
  },
  {
   "cell_type": "code",
   "execution_count": 11,
   "metadata": {},
   "outputs": [],
   "source": [
    "# Save System to 'atom.dat' atom data file \n",
    "system_info = system.dump('atom_data', f='atom.dat',\n",
    "                          units=potential.units, \n",
    "                          atom_style=potential.atom_style,\n",
    "                          float_format='%.4f')"
   ]
  },
  {
   "cell_type": "markdown",
   "metadata": {},
   "source": [
    "Show the returned LAMMPS command lines"
   ]
  },
  {
   "cell_type": "code",
   "execution_count": 12,
   "metadata": {},
   "outputs": [
    {
     "name": "stdout",
     "output_type": "stream",
     "text": [
      "# Script and atom data file prepared by atomman package\n",
      "\n",
      "units metal\n",
      "atom_style atomic\n",
      "boundary p p p \n",
      "read_data atom.dat\n"
     ]
    }
   ],
   "source": [
    "print(system_info)"
   ]
  },
  {
   "cell_type": "markdown",
   "metadata": {},
   "source": [
    "Show the contents of the data file"
   ]
  },
  {
   "cell_type": "code",
   "execution_count": 13,
   "metadata": {},
   "outputs": [
    {
     "name": "stdout",
     "output_type": "stream",
     "text": [
      "\n",
      "108 atoms\n",
      "1 atom types\n",
      "0.0000 12.1500 xlo xhi\n",
      "0.0000 12.1500 ylo yhi\n",
      "0.0000 12.1500 zlo zhi\n",
      "\n",
      "Atoms\n",
      "\n",
      "1 1 0.0000 0.0000 0.0000\n",
      "2 1 2.0250 2.0250 0.0000\n",
      "3 1 2.0250 0.0000 2.0250\n",
      "4 1 0.0000 2.0250 2.0250\n",
      "5 1 4.0500 0.0000 0.0000\n",
      "6 1 6.0750 2.0250 0.0000\n",
      "7 1 6.0750 0.0000 2.0250\n",
      "8 1 4.0500 2.0250 2.0250\n",
      "9 1 8.1000 0.0000 0.0000\n",
      "10 1 10.1250 2.0250 0.0000\n",
      "11 1 10.1250 0.0000 2.0250\n",
      "12 1 8.1000 2.0250 2.0250\n",
      "13 1 0.0000 4.0500 0.0000\n",
      "14 1 2.0250 6.0750 0.0000\n",
      "15 1 2.0250 4.0500 2.0250\n",
      "16 1 0.0000 6.0750 2.0250\n",
      "17 1 4.0500 4.0500 0.0000\n",
      "18 1 6.0750 6.0750 0.0000\n",
      "19 1 6.0750 4.0500 2.0250\n",
      "20 1 4.0500 6.0750 2.0250\n",
      "21 1 8.1000 4.0500 0.0000\n",
      "22 1 10.1250 6.0750 0.0000\n",
      "23 1 10.1250 4.0500 2.0250\n",
      "24 1 8.1000 6.0750 2.0250\n",
      "25 1 0.0000 8.1000 0.0000\n",
      "26 1 2.0250 10.1250 0.0000\n",
      "27 1 2.0250 8.1000 2.0250\n",
      "28 1 0.0000 10.1250 2.0250\n",
      "29 1 4.0500 8.1000 0.0000\n",
      "30 1 6.0750 10.1250 0.0000\n",
      "31 1 6.0750 8.1000 2.0250\n",
      "32 1 4.0500 10.1250 2.0250\n",
      "33 1 8.1000 8.1000 0.0000\n",
      "34 1 10.1250 10.1250 0.0000\n",
      "35 1 10.1250 8.1000 2.0250\n",
      "36 1 8.1000 10.1250 2.0250\n",
      "37 1 0.0000 0.0000 4.0500\n",
      "38 1 2.0250 2.0250 4.0500\n",
      "39 1 2.0250 0.0000 6.0750\n",
      "40 1 0.0000 2.0250 6.0750\n",
      "41 1 4.0500 0.0000 4.0500\n",
      "42 1 6.0750 2.0250 4.0500\n",
      "43 1 6.0750 0.0000 6.0750\n",
      "44 1 4.0500 2.0250 6.0750\n",
      "45 1 8.1000 0.0000 4.0500\n",
      "46 1 10.1250 2.0250 4.0500\n",
      "47 1 10.1250 0.0000 6.0750\n",
      "48 1 8.1000 2.0250 6.0750\n",
      "49 1 0.0000 4.0500 4.0500\n",
      "50 1 2.0250 6.0750 4.0500\n",
      "51 1 2.0250 4.0500 6.0750\n",
      "52 1 0.0000 6.0750 6.0750\n",
      "53 1 4.0500 4.0500 4.0500\n",
      "54 1 6.0750 6.0750 4.0500\n",
      "55 1 6.0750 4.0500 6.0750\n",
      "56 1 4.0500 6.0750 6.0750\n",
      "57 1 8.1000 4.0500 4.0500\n",
      "58 1 10.1250 6.0750 4.0500\n",
      "59 1 10.1250 4.0500 6.0750\n",
      "60 1 8.1000 6.0750 6.0750\n",
      "61 1 0.0000 8.1000 4.0500\n",
      "62 1 2.0250 10.1250 4.0500\n",
      "63 1 2.0250 8.1000 6.0750\n",
      "64 1 0.0000 10.1250 6.0750\n",
      "65 1 4.0500 8.1000 4.0500\n",
      "66 1 6.0750 10.1250 4.0500\n",
      "67 1 6.0750 8.1000 6.0750\n",
      "68 1 4.0500 10.1250 6.0750\n",
      "69 1 8.1000 8.1000 4.0500\n",
      "70 1 10.1250 10.1250 4.0500\n",
      "71 1 10.1250 8.1000 6.0750\n",
      "72 1 8.1000 10.1250 6.0750\n",
      "73 1 0.0000 0.0000 8.1000\n",
      "74 1 2.0250 2.0250 8.1000\n",
      "75 1 2.0250 0.0000 10.1250\n",
      "76 1 0.0000 2.0250 10.1250\n",
      "77 1 4.0500 0.0000 8.1000\n",
      "78 1 6.0750 2.0250 8.1000\n",
      "79 1 6.0750 0.0000 10.1250\n",
      "80 1 4.0500 2.0250 10.1250\n",
      "81 1 8.1000 0.0000 8.1000\n",
      "82 1 10.1250 2.0250 8.1000\n",
      "83 1 10.1250 0.0000 10.1250\n",
      "84 1 8.1000 2.0250 10.1250\n",
      "85 1 0.0000 4.0500 8.1000\n",
      "86 1 2.0250 6.0750 8.1000\n",
      "87 1 2.0250 4.0500 10.1250\n",
      "88 1 0.0000 6.0750 10.1250\n",
      "89 1 4.0500 4.0500 8.1000\n",
      "90 1 6.0750 6.0750 8.1000\n",
      "91 1 6.0750 4.0500 10.1250\n",
      "92 1 4.0500 6.0750 10.1250\n",
      "93 1 8.1000 4.0500 8.1000\n",
      "94 1 10.1250 6.0750 8.1000\n",
      "95 1 10.1250 4.0500 10.1250\n",
      "96 1 8.1000 6.0750 10.1250\n",
      "97 1 0.0000 8.1000 8.1000\n",
      "98 1 2.0250 10.1250 8.1000\n",
      "99 1 2.0250 8.1000 10.1250\n",
      "100 1 0.0000 10.1250 10.1250\n",
      "101 1 4.0500 8.1000 8.1000\n",
      "102 1 6.0750 10.1250 8.1000\n",
      "103 1 6.0750 8.1000 10.1250\n",
      "104 1 4.0500 10.1250 10.1250\n",
      "105 1 8.1000 8.1000 8.1000\n",
      "106 1 10.1250 10.1250 8.1000\n",
      "107 1 10.1250 8.1000 10.1250\n",
      "108 1 8.1000 10.1250 10.1250\n",
      "\n"
     ]
    }
   ],
   "source": [
    "with open('atom.dat') as f:\n",
    "    print(f.read())"
   ]
  },
  {
   "cell_type": "markdown",
   "metadata": {},
   "source": [
    "## 4. Converting to/from LAMMPS units\n",
    "\n",
    "LAMMPS performs its calculations with values in one of multiple sets of pre-defined units.  The atomman.lammps.style submodule has some useful functions when working with different units options.\n",
    "\n",
    "**atomman.lammps.style.timestep()**\n",
    "\n",
    "The lammps.style.timestep() function returns the default timestep value for a given LAMMPS units option.\n",
    "\n",
    "Parameters\n",
    "\n",
    "- **units** (*str*) the LAMMPS units option being used.\n",
    "\n",
    "**atomman.lammps.style.unit()**\n",
    "\n",
    "The lammps.style.unit() function returns a dictionary giving the units associated with physical quantities as used by LAMMPS with a given units option.\n",
    "\n",
    "Parameters\n",
    "\n",
    "- **units** (*str*) the LAMMPS units option being used."
   ]
  },
  {
   "cell_type": "code",
   "execution_count": 14,
   "metadata": {},
   "outputs": [
    {
     "name": "stdout",
     "output_type": "stream",
     "text": [
      "0.001\n"
     ]
    }
   ],
   "source": [
    "timestep = lmp.style.timestep(potential.units)\n",
    "print(timestep)"
   ]
  },
  {
   "cell_type": "code",
   "execution_count": 15,
   "metadata": {},
   "outputs": [
    {
     "name": "stdout",
     "output_type": "stream",
     "text": [
      "OrderedDict([('mass', 'g/mol'), ('length', 'angstrom'), ('time', 'ps'), ('energy', 'eV'), ('velocity', 'angstrom/ps'), ('force', 'eV/angstrom'), ('torque', 'eV'), ('temperature', 'K'), ('pressure', 'bar'), ('dynamic viscosity', 'Pa*s/10'), ('charge', 'e'), ('dipole', 'e*angstrom'), ('electric field', 'V/angstrom'), ('density', 'g/cm^3'), ('ang-mom', 'angstrom*angstrom/ps*g/mol'), ('ang-vel', '1/ps')])\n"
     ]
    }
   ],
   "source": [
    "lammps_unit = lmp.style.unit(potential.units)\n",
    "print(lammps_unit)"
   ]
  },
  {
   "cell_type": "markdown",
   "metadata": {},
   "source": [
    "## 5. Composing LAMMPS Input Scripts\n",
    "\n",
    "LAMMPS scripts can easily be constructed by combining the system_info generated from System.dump('atom_data'), the pair_info from Potential.pair_info(), and any user-defined input lines.  This allows for specific simulation actions to easily be perfored across different potentials or initial configurations."
   ]
  },
  {
   "cell_type": "markdown",
   "metadata": {},
   "source": [
    "### 5.1 Show content generated in previous sections"
   ]
  },
  {
   "cell_type": "markdown",
   "metadata": {},
   "source": [
    "Show system_info generated in Section 3.3."
   ]
  },
  {
   "cell_type": "code",
   "execution_count": 16,
   "metadata": {},
   "outputs": [
    {
     "name": "stdout",
     "output_type": "stream",
     "text": [
      "# Script and atom data file prepared by atomman package\n",
      "\n",
      "units metal\n",
      "atom_style atomic\n",
      "boundary p p p \n",
      "read_data atom.dat\n"
     ]
    }
   ],
   "source": [
    "print(system_info)"
   ]
  },
  {
   "cell_type": "markdown",
   "metadata": {},
   "source": [
    "Generate pair_info using potential object created in Section 2.3 with the list of symbols from Section 3.1"
   ]
  },
  {
   "cell_type": "code",
   "execution_count": 17,
   "metadata": {},
   "outputs": [
    {
     "name": "stdout",
     "output_type": "stream",
     "text": [
      "mass 1 26.981500\n",
      "\n",
      "pair_style meam\n",
      "pair_coeff * * library-Al.meam Al Al.meam Al\n",
      "\n"
     ]
    }
   ],
   "source": [
    "pair_info = potential.pair_info(system.symbols)\n",
    "print(pair_info)"
   ]
  },
  {
   "cell_type": "markdown",
   "metadata": {},
   "source": [
    "### 5.2 Write LAMMPS input script template\n",
    "\n",
    "LAMMPS scripts can be dynamically generated using Python functions or templates that take the above info lines and other values as parameters. Here, we demonstrate a LAMMPS input template script where all fields to be filled in in Python are delimited with <> brackets."
   ]
  },
  {
   "cell_type": "code",
   "execution_count": 18,
   "metadata": {},
   "outputs": [],
   "source": [
    "template = \"\"\"\n",
    "<system_info>\n",
    "\n",
    "<pair_info>\n",
    "\n",
    "# Define temperature and dependent variables\n",
    "variable T equal <temperature>\n",
    "variable twoT equal 2*$T\n",
    "\n",
    "# Define equilibrium pressure\n",
    "variable P equal <pressure>\n",
    "\n",
    "# Define timestep and dependent variables\n",
    "variable deltat equal <timestep>\n",
    "variable Trelax equal 100*${deltat}\n",
    "variable Prelax equal 1000*${deltat}\n",
    "\n",
    "# Initialize atomic velocities with twoT\n",
    "velocity all create ${twoT} 124352\n",
    "\n",
    "# Define thermo steps and properties\n",
    "thermo 100\n",
    "thermo_style custom step temp press lx ly lz\n",
    "\n",
    "# Define dump \n",
    "dump mydump all atom 100000 *.dump\n",
    "\n",
    "# Specify timestep\n",
    "timestep ${deltat}\n",
    "\n",
    "# Apply npt conditions\n",
    "fix 1 all npt temp $T $T ${Trelax} iso $P $P ${Prelax}\n",
    "\n",
    "# Run simulation\n",
    "run 100000\n",
    "\"\"\"           "
   ]
  },
  {
   "cell_type": "markdown",
   "metadata": {},
   "source": [
    "### 5.3 Fill in the template with atomman.tools.filltemplate()\n",
    "\n",
    "The template can then be easily filled in with the atomman.tools.filltemplate() function. \n",
    "\n",
    "Parameters\n",
    "\n",
    "- **template** (*str or file-like object*) is the template to fill in.\n",
    "\n",
    "- **variable** (*dict*) gives the delimited keys and corresponding values to insert into the template.\n",
    "\n",
    "- **s_delimiter** (*str*) the starting delimiter for identifying variable names.\n",
    "\n",
    "- **e_delimiter** (*str*) the ending delimiter for identifying variable names."
   ]
  },
  {
   "cell_type": "markdown",
   "metadata": {},
   "source": [
    "Build dictionary of template variables"
   ]
  },
  {
   "cell_type": "code",
   "execution_count": 19,
   "metadata": {},
   "outputs": [
    {
     "name": "stdout",
     "output_type": "stream",
     "text": [
      "{'system_info': '# Script and atom data file prepared by atomman package\\n\\nunits metal\\natom_style atomic\\nboundary p p p \\nread_data atom.dat', 'pair_info': 'mass 1 26.981500\\n\\npair_style meam\\npair_coeff * * library-Al.meam Al Al.meam Al\\n', 'timestep': 0.001, 'temperature': 100, 'pressure': 0.0}\n"
     ]
    }
   ],
   "source": [
    "lammps_variable = {}\n",
    "\n",
    "# Generated above\n",
    "lammps_variable['system_info'] = system_info\n",
    "lammps_variable['pair_info'] = pair_info\n",
    "\n",
    "# Set timestep to default value for LAMMPS units\n",
    "lammps_variable['timestep'] = lmp.style.timestep(units=potential.units)\n",
    "\n",
    "# Specify temperature to equilibriate at (always in Kelvin)\n",
    "lammps_variable['temperature'] = 100\n",
    "\n",
    "# Specify pressure to equilibriate at\n",
    "pressure = uc.set_in_units(0.0, 'MPa')\n",
    "lammps_variable['pressure'] = uc.get_in_units(pressure, lammps_unit['pressure'])\n",
    "\n",
    "print(lammps_variable)"
   ]
  },
  {
   "cell_type": "markdown",
   "metadata": {},
   "source": [
    "Fill in template"
   ]
  },
  {
   "cell_type": "code",
   "execution_count": 20,
   "metadata": {},
   "outputs": [
    {
     "name": "stdout",
     "output_type": "stream",
     "text": [
      "\n",
      "# Script and atom data file prepared by atomman package\n",
      "\n",
      "units metal\n",
      "atom_style atomic\n",
      "boundary p p p \n",
      "read_data atom.dat\n",
      "\n",
      "mass 1 26.981500\n",
      "\n",
      "pair_style meam\n",
      "pair_coeff * * library-Al.meam Al Al.meam Al\n",
      "\n",
      "\n",
      "# Define temperature and dependent variables\n",
      "variable T equal 100\n",
      "variable twoT equal 2*$T\n",
      "\n",
      "# Define equilibrium pressure\n",
      "variable P equal 0.0\n",
      "\n",
      "# Define timestep and dependent variables\n",
      "variable deltat equal 0.001\n",
      "variable Trelax equal 100*${deltat}\n",
      "variable Prelax equal 1000*${deltat}\n",
      "\n",
      "# Initialize atomic velocities with twoT\n",
      "velocity all create ${twoT} 124352\n",
      "\n",
      "# Define thermo steps and properties\n",
      "thermo 100\n",
      "thermo_style custom step temp press lx ly lz\n",
      "\n",
      "# Define dump \n",
      "dump mydump all atom 100000 *.dump\n",
      "\n",
      "# Specify timestep\n",
      "timestep ${deltat}\n",
      "\n",
      "# Apply npt conditions\n",
      "fix 1 all npt temp $T $T ${Trelax} iso $P $P ${Prelax}\n",
      "\n",
      "# Run simulation\n",
      "run 100000\n",
      "\n"
     ]
    }
   ],
   "source": [
    "# Generate script from template and lammps_variable\n",
    "script = am.tools.filltemplate(template, lammps_variable, '<', '>')\n",
    "\n",
    "# Save script to 'nvt.in'\n",
    "with open('nvt.in', 'w') as f:\n",
    "    f.write(script)\n",
    "\n",
    "# Show contents of 'nvt.in'    \n",
    "with open('nvt.in') as f:\n",
    "    print(f.read())"
   ]
  },
  {
   "cell_type": "markdown",
   "metadata": {},
   "source": [
    "## 6. Run LAMMPS\n",
    "\n",
    "The LAMMPS simulation can be ran from within Python using the run() function."
   ]
  },
  {
   "cell_type": "markdown",
   "metadata": {},
   "source": [
    "Specify your lammps executable"
   ]
  },
  {
   "cell_type": "code",
   "execution_count": 21,
   "metadata": {},
   "outputs": [],
   "source": [
    "lammps_exe = 'lmp_serial'"
   ]
  },
  {
   "cell_type": "markdown",
   "metadata": {},
   "source": [
    "Run the simulation "
   ]
  },
  {
   "cell_type": "code",
   "execution_count": 22,
   "metadata": {},
   "outputs": [],
   "source": [
    "output = lmp.run(lammps_exe, 'nvt.in', return_style='object')"
   ]
  },
  {
   "cell_type": "markdown",
   "metadata": {},
   "source": [
    "The resulting simulation data is returned as a Log object, which containes the thermo data from the log.lammps files. "
   ]
  },
  {
   "cell_type": "markdown",
   "metadata": {},
   "source": [
    "## 7. Analyzing Thermo Results\n",
    "\n",
    "Data for each run/minimization is stored in in a list of dictionaries called simulations in the returned Log file.  In each dictionary, there is a thermo key that represents a pandas.DataFrame of the thermo data."
   ]
  },
  {
   "cell_type": "markdown",
   "metadata": {},
   "source": [
    "Show thermo data column names for the first (and only) simulation run."
   ]
  },
  {
   "cell_type": "code",
   "execution_count": 23,
   "metadata": {},
   "outputs": [
    {
     "name": "stdout",
     "output_type": "stream",
     "text": [
      "['Step', 'PotEng', 'Temp', 'Press', 'Lx', 'Ly', 'Lz']\n"
     ]
    }
   ],
   "source": [
    "print(list(output.simulations[0]['thermo'].keys()))"
   ]
  },
  {
   "cell_type": "markdown",
   "metadata": {},
   "source": [
    "Plot temperature vs. run step"
   ]
  },
  {
   "cell_type": "code",
   "execution_count": 24,
   "metadata": {},
   "outputs": [
    {
     "data": {
      "image/png": "[encoded data removed]",
      "text/plain": [
       "<matplotlib.figure.Figure at 0xb27fbe0>"
      ]
     },
     "metadata": {},
     "output_type": "display_data"
    }
   ],
   "source": [
    "# Pull out data\n",
    "steps = output.simulations[0]['thermo'].Step\n",
    "temps = output.simulations[0]['thermo'].Temp\n",
    "\n",
    "# Plot\n",
    "plt.plot(steps, temps)\n",
    "plt.xlabel('Step')\n",
    "plt.ylabel('Temperature (K)')\n",
    "plt.show()"
   ]
  },
  {
   "cell_type": "markdown",
   "metadata": {},
   "source": [
    "Plot pressure vs. run step (note unit conversions)"
   ]
  },
  {
   "cell_type": "code",
   "execution_count": 25,
   "metadata": {},
   "outputs": [
    {
     "data": {
      "image/png": "[encoded data removed]",
      "text/plain": [
       "<matplotlib.figure.Figure at 0xb58e080>"
      ]
     },
     "metadata": {},
     "output_type": "display_data"
    }
   ],
   "source": [
    "# Convert steps to time in atomman working units\n",
    "steps = output.simulations[0]['thermo'].Step\n",
    "time = uc.set_in_units(timestep, lammps_unit['time']) * steps\n",
    "\n",
    "# Convert press to atomman working units\n",
    "press = uc.set_in_units(output.simulations[0]['thermo'].Press, lammps_unit['pressure'])\n",
    "\n",
    "# Plot in ps and GPa\n",
    "plt.plot(uc.get_in_units(steps, 'ps'), uc.get_in_units(press, 'GPa'))\n",
    "plt.xlabel('Time (ps)')\n",
    "plt.ylabel('Pressure (GPa)')\n",
    "plt.show()"
   ]
  },
  {
   "cell_type": "markdown",
   "metadata": {},
   "source": [
    "## 8 Reading in dump files \n",
    "\n",
    "Finally, any dump files generated by the LAMMPS simulation can be loaded into atomman as Systems.  "
   ]
  },
  {
   "cell_type": "code",
   "execution_count": 26,
   "metadata": {},
   "outputs": [
    {
     "name": "stdout",
     "output_type": "stream",
     "text": [
      "avect =  [12.186,  0.000,  0.000]\n",
      "bvect =  [ 0.000, 12.186,  0.000]\n",
      "cvect =  [ 0.000,  0.000, 12.186]\n",
      "origin = [-0.018, -0.018, -0.018]\n",
      "     atype     pos[0]     pos[1]     pos[2]  atom_id\n",
      "0        1   0.022374  -0.053294  -0.046614        1\n",
      "1        1   1.992035   2.057998  -0.041303        2\n",
      "2        1   2.003978  -0.018609   2.049480        3\n",
      "3        1   0.004959   1.932032   2.000017        4\n",
      "4        1   3.970589   0.050074   0.023969        5\n",
      "5        1   6.025744   2.034370  -0.061601        6\n",
      "6        1   6.117310  -0.064136   1.992048        7\n",
      "7        1   4.074024   2.038793   2.003295        8\n",
      "8        1   8.029377  -0.055244  -0.036713        9\n",
      "9        1  10.142793   2.021586   0.009183       10\n",
      "10       1  10.167579  -0.082938   1.928802       11\n",
      "11       1   8.087809   2.028606   1.995886       12\n",
      "12       1  -0.087878   4.018785  -0.035485       13\n",
      "13       1   2.024206   6.023807   0.048989       14\n",
      "14       1   2.010619   3.988564   2.007256       15\n",
      "15       1   0.012250   6.139269   2.004136       16\n",
      "16       1   4.080227   4.106097  -0.101837       17\n",
      "17       1   6.129252   6.055819   0.034933       18\n",
      "18       1   6.081775   4.069466   2.067394       19\n",
      "19       1   4.091291   6.075500   2.025864       20\n",
      "20       1   8.065326   3.996204  -0.011731       21\n",
      "21       1  10.114071   6.077815  -0.047983       22\n",
      "22       1  10.126001   4.122000   1.982811       23\n",
      "23       1   8.117104   6.098604   2.005806       24\n",
      "24       1  -0.025199   8.136735  -0.056715       25\n",
      "25       1   2.032152  10.169590  -0.011169       26\n",
      "26       1   2.050967   8.146850   2.130005       27\n",
      "27       1  -0.010476  10.128401   2.000261       28\n",
      "28       1   4.057719   8.109951   0.064564       29\n",
      "29       1   6.032178  10.098619  -0.028359       30\n",
      "..     ...        ...        ...        ...      ...\n",
      "78       1   6.022320   0.028956  10.109282       79\n",
      "79       1   3.939454   2.030884  10.119664       80\n",
      "80       1   8.076415  -0.012112   8.072345       81\n",
      "81       1  10.120968   1.998494   8.117518       82\n",
      "82       1  10.082241  -0.004145  10.033546       83\n",
      "83       1   8.056320   2.044508  10.158586       84\n",
      "84       1  -0.101811   4.011278   8.083629       85\n",
      "85       1   2.031091   6.113252   8.085262       86\n",
      "86       1   1.994497   4.074560  10.083752       87\n",
      "87       1   0.094884   6.060316  10.183872       88\n",
      "88       1   4.017907   4.131030   8.188160       89\n",
      "89       1   6.066068   6.089282   8.075940       90\n",
      "90       1   6.063338   4.082639  10.133702       91\n",
      "91       1   4.067943   6.132640  10.162193       92\n",
      "92       1   8.144888   4.096251   8.160693       93\n",
      "93       1  10.214032   6.049080   8.108500       94\n",
      "94       1  10.136127   3.979838  10.080328       95\n",
      "95       1   8.092452   6.048849  10.179254       96\n",
      "96       1  -0.027202   8.050227   8.241876       97\n",
      "97       1   1.990390  10.101312   8.164873       98\n",
      "98       1   2.113530   8.082873  10.127975       99\n",
      "99       1  -0.081733  10.130168  10.085860      100\n",
      "100      1   4.097384   8.142195   8.104321      101\n",
      "101      1   6.105891  10.145121   8.063364      102\n",
      "102      1   6.085541   8.137917  10.112998      103\n",
      "103      1   4.011863  10.156600  10.230362      104\n",
      "104      1   8.134883   8.059074   8.125293      105\n",
      "105      1  10.110671  10.091965   8.087553      106\n",
      "106      1  10.121041   8.090380  10.174087      107\n",
      "107      1   8.021383  10.150604  10.117666      108\n",
      "\n",
      "[108 rows x 5 columns]\n"
     ]
    }
   ],
   "source": [
    "system = am.load('atom_dump', '100000.dump', symbols='Al')\n",
    "print(system.box)\n",
    "print(system.atoms_df())"
   ]
  },
  {
   "cell_type": "markdown",
   "metadata": {},
   "source": [
    "**File Cleanup**"
   ]
  },
  {
   "cell_type": "code",
   "execution_count": 27,
   "metadata": {},
   "outputs": [],
   "source": [
    "os.remove('Al.meam')\n",
    "os.remove('library-Al.meam')\n",
    "os.remove('2015--Pascuet-M-I--Al--LAMMPS--ipr1.json')\n",
    "os.remove('Al-fcc.poscar')\n",
    "os.remove('atom.dat')\n",
    "os.remove('nvt.in')\n",
    "os.remove('log.lammps')\n",
    "\n",
    "# Remove dump files\n",
    "flist = os.listdir(os.getcwd())\n",
    "for fname in flist:\n",
    "    if fname[-5:] == '.dump':\n",
    "        os.remove(fname)       "
   ]
  }
 ],
 "metadata": {
  "anaconda-cloud": {},
  "kernelspec": {
   "display_name": "Python 3",
   "language": "python",
   "name": "python3"
  },
  "language_info": {
   "codemirror_mode": {
    "name": "ipython",
    "version": 3
   },
   "file_extension": ".py",
   "mimetype": "text/x-python",
   "name": "python",
   "nbconvert_exporter": "python",
   "pygments_lexer": "ipython3",
   "version": "3.6.4"
  }
 },
 "nbformat": 4,
 "nbformat_minor": 1
}
