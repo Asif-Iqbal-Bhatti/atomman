{
 "cells": [
  {
   "cell_type": "markdown",
   "metadata": {},
   "source": [
    "# Introduction to atomman: Stacking Fault Generation\n",
    "\n",
    "__Lucas M. Hale__, [lucas.hale@nist.gov](mailto:lucas.hale@nist.gov?Subject=ipr-demo), _Materials Science and Engineering Division, NIST_.\n",
    "    \n",
    "[Disclaimers](http://www.nist.gov/public_affairs/disclaimer.cfm) "
   ]
  },
  {
   "cell_type": "markdown",
   "metadata": {},
   "source": [
    "## 1. Introduction\n",
    "\n",
    "This Notebook outlines the StackingFault class which generates atomic systems that can be used to evaluate stacking fault energies.  See the [04.6 Gamma Surface Plotting Notebook](04.6. Gamma Surface Plotting.ipynb) for analysis and plotting of computed stacking fault energies.\n",
    "\n",
    "*New as of version 1.2.6*"
   ]
  },
  {
   "cell_type": "markdown",
   "metadata": {},
   "source": [
    "**Library Imports**"
   ]
  },
  {
   "cell_type": "code",
   "execution_count": 1,
   "metadata": {},
   "outputs": [
    {
     "name": "stdout",
     "output_type": "stream",
     "text": [
      "atomman version = 1.2.7\n",
      "Notebook executed on 2019-06-05\n"
     ]
    }
   ],
   "source": [
    "# Standard Python libraries\n",
    "from __future__ import (absolute_import, print_function,\n",
    "                        division, unicode_literals)\n",
    "import datetime\n",
    "\n",
    "# http://www.numpy.org/\n",
    "import numpy as np\n",
    "\n",
    "# https://github.com/usnistgov/atomman\n",
    "import atomman as am\n",
    "import atomman.unitconvert as uc\n",
    "\n",
    "# Show atomman version\n",
    "print('atomman version =', am.__version__)\n",
    "\n",
    "# Show date of Notebook execution\n",
    "print('Notebook executed on', datetime.date.today())"
   ]
  },
  {
   "cell_type": "markdown",
   "metadata": {},
   "source": [
    "## 2. Underlying theory\n",
    "\n",
    "### 2.1 Basic system design\n",
    "\n",
    "Atomic configurations investigating stacking faults are constructed by\n",
    "\n",
    "1. Starting with a unit cell system.\n",
    "\n",
    "2. Generating a new supercell system by rotating the unit cell such that the slip plane being investigated is perpendicular to one of the three Cartesian vectors, and only one box vector of the rotated system has a component out of the slip plane.  See the [04.4. Free Surface Rotation Basis Notebook](04.4. Free Surface Rotation Basis.ipynb) for one way to identify an appropriate set of rotation vectors.\n",
    "\n",
    "3. The boundary conditions are kept periodic along the two box vectors within the slip plane and made non-periodic along the box vector with the out-of-plane component.\n",
    "\n",
    "4. All atoms above the defined slip plane are displaced by the same shift vector, $\\mathbf{d}$.\n",
    "\n",
    "With the conditions of step 2, there are only three options for how to construct the generic system. The cutboxvector parameter controls this:\n",
    "\n",
    "- cutboxvector = 'a': the slip plane is perpendicular to the x-axis, and only the $\\mathbf{a}$ box vector has a component in the x direction.\n",
    "\n",
    "- cutboxvector = 'b': the slip plane is perpendicular to the y-axis, and only the $\\mathbf{b}$ box vector has a component in the y direction.\n",
    "\n",
    "- cutboxvector = 'c': the slip plane is perpendicular to the z-axis, and only the $\\mathbf{c}$ box vector has a component in the z direction.\n",
    "\n",
    "The area of the fault plane, $A_{fault}$, can be computed using the two box vectors that are not the cut box vector. For example, if the cut box vector is $\\mathbf{c}$, then \n",
    "\n",
    "$$A_{fault} = \\left| \\mathbf{a} \\times \\mathbf{b} \\right|$$\n",
    "\n",
    "### 2.2 Slip vector\n",
    "\n",
    "As the slip plane can be explored in 2 dimensions, the applied shift, $\\mathbf{d}$, can be expressed using two non-parallel vectors within the fault plane, $\\mathbf{a_1}$ and $\\mathbf{a_2}$. Taking $\\mathbf{a_1}$ and $\\mathbf{a_2}$ as lattice slip vectors (i.e. vectors between two symmetrically identical lattice sites) will define a 2D cell encompassing all possible unique stacking fault shifts for the fault plane.  $\\mathbf{d}$ can then be represented using fractional coordinates, $a_1$ and $a_2$, relative to $\\mathbf{a_1}$ and $\\mathbf{a_2}$\n",
    "\n",
    "$$ \\mathbf{d} = a_1 \\mathbf{a_1} + a_2 \\mathbf{a_2} $$\n",
    "\n",
    "One complication related to defining the $\\mathbf{a_1}$ and $\\mathbf{a_2}$ slip vectors is that we typically think of their values in crystallographic Miller or Miller-Bravais indices, but the shifting vector $\\mathbf{d}$ needs to be in Cartesian units corresponding to the atomic system.  To better facilitate this difference, the class allows for a reference unit cell box and transformation matrix to also be given.  This allows for the $\\mathbf{a_1}$ and $\\mathbf{a_2}$ vectors to be given in Miller or Miller-Bravais indices relative to the unit cell box, and then transformed from the unit cell's Cartesian axes to the system's Cartesian axes."
   ]
  },
  {
   "cell_type": "markdown",
   "metadata": {},
   "source": [
    "## 3. Class methods\n",
    "\n",
    "### 3.1 StackingFault initialization\n",
    "\n",
    "Initializes an object for generating generalized stacking fault atomic configurations.\n",
    "\n",
    "Parameters\n",
    "        \n",
    "- __system__ (*atomman.System*) The atomic system to generate stacking fault configurations from. The system should be oriented such that the stacking fault plane is parallel to either the xy-plane, the xz-plane or the yz-plane.\n",
    "\n",
    "- __a1vect__ (*array-like object, optional*) A slip vector within the slip plane.  Depending on if ucellbox and transform are given, this can be either a Miller crystal vector or a Cartesian vector relative to the supplied system.  If a1vect is not given and a2vect is, then a1vect is set to [0,0,0].\n",
    "\n",
    "- __a2vect__ (*array-like object, optional*) A slip vector within the slip plane.  Depending on if ucellbox and transform are given, this can be either a Miller crystal vector or a Cartesian vector relative to the supplied system.  If a2vect is not given and a1vect is, then a2vect is set to [0,0,0].\n",
    "\n",
    "- __ucellbox__ (*atomman.Box, optional*) If ucellbox is given, then the a1vect and a2vect slip vectors are taken as Miller crystal vectors relative to ucellbox.  If not given, then the slip vectors are taken as Cartesian vectors.\n",
    "\n",
    "- __transform__ (*array-like object, optional*) A transformation tensor to apply to the a1vect and a2vect slip vectors.  This is needed if system is oriented differently than ucellbox, i.e. system is rotated.\n",
    "\n",
    "- __cutboxvector__ (*str, optional*) Defines which of the three box vectors gets cut so that the slip plane can be added.  'a' indicates the slip plane is parallel to the yz-plane, 'b' the xz-plane and 'c' the xy-plane.  Note that  the specified cutboxvector is the only box vector allowed to have a component out of the slip plane.\n",
    "\n",
    "- __faultposrel__ (*float, optional*) The position to place the slip plane within the system given as a relative coordinate along the out-of-plane direction.  faultposrel and faultposcart cannot both be given.  Default value is 0.5 if faultposcart is also not given.\n",
    "\n",
    "- __faultposcart__ (*float, optional*) The position to place the slip plane within the system given as a Cartesian coordinate along the out-of-plane direction.  faultposrel and faultposcart cannot both be given.\n",
    "\n",
    "- __vacuumwidth__ (*float, optional*) If given, the out-of-plane dimension of system is increased by this amount to create a vacuum region.  Useful if the generated configurations are to be evaluated with DFT."
   ]
  },
  {
   "cell_type": "markdown",
   "metadata": {},
   "source": [
    "### 3.2 StackingFault.set()\n",
    "\n",
    "Sets generation parameters associated with a stacking fault.\n",
    "\n",
    "Parameters\n",
    "        \n",
    "- __system__ (*atomman.System*) The atomic system to generate stacking fault configurations from. The system should be oriented such that the stacking fault plane is parallel to either the xy-plane, the xz-plane or the yz-plane.\n",
    "\n",
    "- __a1vect__ (*array-like object, optional*) A slip vector within the slip plane.  Depending on if ucellbox and transform are given, this can be either a Miller crystal vector or a Cartesian vector relative to the supplied system.  If a1vect is not given and a2vect is, then a1vect is set to [0,0,0].\n",
    "\n",
    "- __a2vect__ (*array-like object, optional*) A slip vector within the slip plane.  Depending on if ucellbox and transform are given, this can be either a Miller crystal vector or a Cartesian vector relative to the supplied system.  If a2vect is not given and a1vect is, then a2vect is set to [0,0,0].\n",
    "\n",
    "- __ucellbox__ (*atomman.Box, optional*) If ucellbox is given, then the a1vect and a2vect slip vectors are taken as Miller crystal vectors relative to ucellbox.  If not given, then the slip vectors are taken as Cartesian vectors.\n",
    "\n",
    "- __transform__ (*array-like object, optional*) A transformation tensor to apply to the a1vect and a2vect slip vectors.  This is needed if system is oriented differently than ucellbox, i.e. system is rotated.\n",
    "\n",
    "- __cutboxvector__ (*str, optional*) Defines which of the three box vectors gets cut so that the slip plane can be added.  'a' indicates the slip plane is parallel to the yz-plane, 'b' the xz-plane and 'c' the xy-plane.  Note that  the specified cutboxvector is the only box vector allowed to have a component out of the slip plane.\n",
    "\n",
    "- __faultposrel__ (*float, optional*) The position to place the slip plane within the system given as a relative coordinate along the out-of-plane direction.  faultposrel and faultposcart cannot both be given.  Default value is 0.5 if faultposcart is also not given.\n",
    "\n",
    "- __faultposcart__ (*float, optional*) The position to place the slip plane within the system given as a Cartesian coordinate along the out-of-plane direction.  faultposrel and faultposcart cannot both be given.\n",
    "\n",
    "- __vacuumwidth__ (*float, optional*) If given, the out-of-plane dimension of system is increased by this amount to create a vacuum region.  Useful if the generated configurations are to be evaluated with DFT."
   ]
  },
  {
   "cell_type": "markdown",
   "metadata": {},
   "source": [
    "### 3.3 StackingFault.fault()\n",
    "\n",
    "Generates a fault configuration by displacing all atoms above the slip plane.\n",
    "\n",
    "Parameters\n",
    "        \n",
    "- __a1__ (*float, optional*) The fractional coordinate of a1vect to shift by.  Default value is 0.0.\n",
    "\n",
    "- __a2__ (*float, optional*) The fractional coordinate of a2vect to shift by.  Default value is 0.0. \n",
    "\n",
    "- __outofplane__ (*float, optional*) An out-of-plane shift, given in absolute units.  Default value is 0.0.\n",
    "\n",
    "- __faultshift__ (*array-like object, optional*) The full shifting vector to displace the atoms above the slip plane by.  Cannot be given with a1, a2, or outofplane.\n",
    "\n",
    "- __minimum_r__ (*float, optional*) *Added version 1.2.7* Specifies the minimum allowed interatomic spacing across the slip plane.  If any sets of atoms are closer than this value then the outofplane shift is increased.  Default value is None, which performs no adjustment.\n",
    "\n",
    "Returns\n",
    "        \n",
    "- (*atomman.System*) The atomic configuration with stacking fault shift"
   ]
  },
  {
   "cell_type": "markdown",
   "metadata": {},
   "source": [
    "### 3.4 StackingFault.iterfaultmap()\n",
    "\n",
    "Iterates over generalized stacking fault configurations associated with a 2D map of equally spaced a1, a2 coordinates.\n",
    "\n",
    "Parameters\n",
    "        \n",
    "- __num_a1__ (*int*) The number of a1 values to generate systems for.  Default value is 1 (only generate for a1=0.0).\n",
    "\n",
    "- __num_a2__ (*int*) The number of a2 values to generate systems for.  Default value is 1 (only generate for a2=0.0).\n",
    "\n",
    "- __outofplane__ (*float, optional*) An out-of-plane shift, given in absolute units.  Default value is 0.0.\n",
    "\n",
    "- __minimum_r__ (*float, optional*) *Added version 1.2.7* Specifies the minimum allowed interatomic spacing across the slip plane.  If any sets of atoms are closer than this value then the outofplane shift is increased.  Default value is None, which performs no adjustment.\n",
    "\n",
    "Yields\n",
    "        \n",
    "- __a1__ (*float*) The a1 fractional coordinate of a1vect. \n",
    "\n",
    "- __a2__ (*float*) The a2 fractional coordinate of a2vect. \n",
    "\n",
    "- (*atomman.System*) The fault configuration associated with the a1, a2 shift."
   ]
  },
  {
   "cell_type": "markdown",
   "metadata": {},
   "source": [
    "## 4. Examples"
   ]
  },
  {
   "cell_type": "markdown",
   "metadata": {},
   "source": [
    "### 4.1 fcc {$111$}&lt;$11\\bar{2}$&gt; fault path\n",
    "\n",
    "A 1D path can be generated by only specifying a1vect."
   ]
  },
  {
   "cell_type": "markdown",
   "metadata": {},
   "source": [
    "Generate conventional fcc unit cell"
   ]
  },
  {
   "cell_type": "code",
   "execution_count": 2,
   "metadata": {},
   "outputs": [],
   "source": [
    "a = uc.set_in_units(4.05, 'angstrom')\n",
    "atoms = am.Atoms(pos=[[0.0, 0.0, 0.0], [0.5, 0.5, 0.0], [0.5, 0.0, 0.5], [0.0, 0.5, 0.5]])\n",
    "ucell = am.System(atoms=atoms, box=am.Box.cubic(a), scale=True)"
   ]
  },
  {
   "cell_type": "markdown",
   "metadata": {},
   "source": [
    "Define parameters for the system"
   ]
  },
  {
   "cell_type": "code",
   "execution_count": 3,
   "metadata": {},
   "outputs": [],
   "source": [
    "# Specify cutboxvector option\n",
    "cutboxvector = 'c'\n",
    "\n",
    "# Specify the slip plane in Miller indices relative to ucell\n",
    "slipplane = np.array([ 1,  1,  1])\n",
    "\n",
    "# Specify a small shift to avoid atoms exactly at non-periodic boundary and fault plane\n",
    "shift = np.array([0.0, 0.0, 0.01])\n",
    "\n",
    "# Define shift vector in Miller indices relative to ucell\n",
    "a1vect = 0.5 * np.array([ 1,  1, -2]) "
   ]
  },
  {
   "cell_type": "markdown",
   "metadata": {},
   "source": [
    "Use free_surface_basis() to identify rotation uvws"
   ]
  },
  {
   "cell_type": "code",
   "execution_count": 4,
   "metadata": {},
   "outputs": [
    {
     "name": "stdout",
     "output_type": "stream",
     "text": [
      "[[-1.  1.  0.]\n",
      " [-1.  0.  1.]\n",
      " [ 1.  1.  1.]]\n"
     ]
    }
   ],
   "source": [
    "uvws = am.defect.free_surface_basis(slipplane, box=ucell.box, cutboxvector=cutboxvector)\n",
    "print(uvws)"
   ]
  },
  {
   "cell_type": "markdown",
   "metadata": {},
   "source": [
    "Rotate system, shift and supersize. Note that rotate returns transformation matrix relative to ucell."
   ]
  },
  {
   "cell_type": "code",
   "execution_count": 5,
   "metadata": {},
   "outputs": [],
   "source": [
    "system, transform = ucell.rotate(uvws, return_transform=True)\n",
    "system.atoms.pos += np.dot(shift, system.box.vects)\n",
    "system.wrap()\n",
    "\n",
    "system = system.supersize(1, 1, 4)"
   ]
  },
  {
   "cell_type": "markdown",
   "metadata": {},
   "source": [
    "Initialize the StackingFault object and check parameters"
   ]
  },
  {
   "cell_type": "code",
   "execution_count": 6,
   "metadata": {},
   "outputs": [
    {
     "name": "stdout",
     "output_type": "stream",
     "text": [
      "Fault system has 48 total atoms.\n",
      "Fault system has 24 atoms above the fault\n",
      "Fault plane is at z = 14.029611541307906\n",
      "\n",
      "Fault system's pbc is [ True  True False]\n",
      "\n",
      "a1vect as given: [ 0.5  0.5 -1. ]\n",
      "Cartesian a1vect: [ 2.39320926e-15 -4.96021673e+00  3.91215996e-16]\n"
     ]
    }
   ],
   "source": [
    "sf = am.defect.StackingFault(system, a1vect=a1vect, ucellbox=ucell.box, transform=transform)\n",
    "\n",
    "print('Fault system has', sf.system.natoms, 'total atoms.')\n",
    "print('Fault system has', len(sf.system.atoms.atype[sf.abovefault]), 'atoms above the fault')\n",
    "print('Fault plane is at z =', sf.faultposcart)\n",
    "print()\n",
    "print(\"Fault system's pbc is\", sf.system.pbc)\n",
    "print()\n",
    "print('a1vect as given:', sf.a1vect)\n",
    "print('Cartesian a1vect:', sf.a1vectcart)"
   ]
  },
  {
   "cell_type": "markdown",
   "metadata": {},
   "source": [
    "Generate a single stacking fault configuration with StackingFault.fault()"
   ]
  },
  {
   "cell_type": "code",
   "execution_count": 7,
   "metadata": {},
   "outputs": [
    {
     "name": "stdout",
     "output_type": "stream",
     "text": [
      "atoms in faultsystem are displaced by:\n",
      "[[ 0.00000000e+00  0.00000000e+00  0.00000000e+00]\n",
      " [ 0.00000000e+00  0.00000000e+00  0.00000000e+00]\n",
      " [ 0.00000000e+00  0.00000000e+00  0.00000000e+00]\n",
      " [ 0.00000000e+00  0.00000000e+00  0.00000000e+00]\n",
      " [ 0.00000000e+00  0.00000000e+00  0.00000000e+00]\n",
      " [ 0.00000000e+00  0.00000000e+00  0.00000000e+00]\n",
      " [ 0.00000000e+00  0.00000000e+00  0.00000000e+00]\n",
      " [ 0.00000000e+00  0.00000000e+00  0.00000000e+00]\n",
      " [ 2.66453526e-15  0.00000000e+00  0.00000000e+00]\n",
      " [ 0.00000000e+00  0.00000000e+00  0.00000000e+00]\n",
      " [ 0.00000000e+00  0.00000000e+00  0.00000000e+00]\n",
      " [ 0.00000000e+00  0.00000000e+00  0.00000000e+00]\n",
      " [ 0.00000000e+00  0.00000000e+00  0.00000000e+00]\n",
      " [ 0.00000000e+00  0.00000000e+00  0.00000000e+00]\n",
      " [ 0.00000000e+00  0.00000000e+00  0.00000000e+00]\n",
      " [ 0.00000000e+00  0.00000000e+00  0.00000000e+00]\n",
      " [ 0.00000000e+00  0.00000000e+00  0.00000000e+00]\n",
      " [ 0.00000000e+00  0.00000000e+00  0.00000000e+00]\n",
      " [ 0.00000000e+00  0.00000000e+00  0.00000000e+00]\n",
      " [ 0.00000000e+00  0.00000000e+00  0.00000000e+00]\n",
      " [ 2.66453526e-15  0.00000000e+00  0.00000000e+00]\n",
      " [ 0.00000000e+00  0.00000000e+00  0.00000000e+00]\n",
      " [ 0.00000000e+00  0.00000000e+00  0.00000000e+00]\n",
      " [ 0.00000000e+00  0.00000000e+00  0.00000000e+00]\n",
      " [ 0.00000000e+00 -2.48010836e+00  0.00000000e+00]\n",
      " [ 8.88178420e-16 -2.48010836e+00  0.00000000e+00]\n",
      " [ 0.00000000e+00 -2.48010836e+00  0.00000000e+00]\n",
      " [ 1.77635684e-15 -2.48010836e+00  0.00000000e+00]\n",
      " [ 1.33226763e-15 -2.48010836e+00  0.00000000e+00]\n",
      " [ 1.77635684e-15 -2.48010836e+00  0.00000000e+00]\n",
      " [ 1.77635684e-15 -2.48010836e+00  0.00000000e+00]\n",
      " [ 1.77635684e-15 -2.48010836e+00  0.00000000e+00]\n",
      " [ 2.66453526e-15 -2.48010836e+00  0.00000000e+00]\n",
      " [ 1.77635684e-15 -2.48010836e+00  0.00000000e+00]\n",
      " [ 1.77635684e-15 -2.48010836e+00  0.00000000e+00]\n",
      " [ 1.77635684e-15 -2.48010836e+00  0.00000000e+00]\n",
      " [ 0.00000000e+00 -2.48010836e+00  0.00000000e+00]\n",
      " [ 8.88178420e-16 -2.48010836e+00  0.00000000e+00]\n",
      " [ 0.00000000e+00 -2.48010836e+00  0.00000000e+00]\n",
      " [ 1.77635684e-15 -2.48010836e+00  0.00000000e+00]\n",
      " [ 1.33226763e-15 -2.48010836e+00  0.00000000e+00]\n",
      " [ 1.77635684e-15 -2.48010836e+00  0.00000000e+00]\n",
      " [ 1.77635684e-15 -2.48010836e+00  0.00000000e+00]\n",
      " [ 1.77635684e-15 -2.48010836e+00  0.00000000e+00]\n",
      " [ 2.66453526e-15 -2.48010836e+00  0.00000000e+00]\n",
      " [ 1.77635684e-15 -2.48010836e+00  0.00000000e+00]\n",
      " [ 1.77635684e-15 -2.48010836e+00  0.00000000e+00]\n",
      " [ 1.77635684e-15 -2.48010836e+00  0.00000000e+00]]\n"
     ]
    }
   ],
   "source": [
    "faultsystem = sf.fault(a1=0.5)\n",
    "print('atoms in faultsystem are displaced by:')\n",
    "print(am.displacement(system, faultsystem))"
   ]
  },
  {
   "cell_type": "markdown",
   "metadata": {},
   "source": [
    "Generate configurations along the slip line with StackingFault.iterfaultmap(). Note that the displacements may wrap due to periodic boundaries."
   ]
  },
  {
   "cell_type": "code",
   "execution_count": 8,
   "metadata": {},
   "outputs": [
    {
     "name": "stdout",
     "output_type": "stream",
     "text": [
      "a1 = 0.0, d = [ 0.0000  0.0000  0.0000]\n",
      "a1 = 0.1, d = [ 0.0000 -0.4960  0.0000]\n",
      "a1 = 0.2, d = [ 0.0000 -0.9920  0.0000]\n",
      "a1 = 0.3, d = [ 0.0000 -1.4881  0.0000]\n",
      "a1 = 0.4, d = [ 0.0000 -1.9841  0.0000]\n",
      "a1 = 0.5, d = [ 0.0000 -2.4801  0.0000]\n",
      "a1 = 0.6, d = [ 0.0000 -2.9761  0.0000]\n",
      "a1 = 0.7, d = [-2.8638  1.4881  0.0000]\n",
      "a1 = 0.8, d = [-2.8638  0.9920  0.0000]\n",
      "a1 = 0.9, d = [-2.8638  0.4960  0.0000]\n"
     ]
    }
   ],
   "source": [
    "for a1, a2, faultsystem in sf.iterfaultmap(num_a1=10):\n",
    "    d = am.displacement(system, faultsystem)[-1]\n",
    "    print('a1 = %.1f, d = [%7.4f %7.4f %7.4f]' % (a1, d[0], d[1], d[2]))"
   ]
  },
  {
   "cell_type": "markdown",
   "metadata": {},
   "source": [
    "### 4.2 fcc {111} slip plane 2D map\n",
    "\n",
    "Alternatively, a 2D map for any slip plane can be evaluated by specifying both a1vect and a2vect as non-parallel vectors."
   ]
  },
  {
   "cell_type": "markdown",
   "metadata": {},
   "source": [
    "Define parameters for the system. Note that a1vect and a2vect are the two shortest non-parallel Miller vectors in the slip plane."
   ]
  },
  {
   "cell_type": "code",
   "execution_count": 9,
   "metadata": {},
   "outputs": [],
   "source": [
    "# Specify cutboxvector option\n",
    "cutboxvector = 'c'\n",
    "\n",
    "# Specify the slip plane in Miller indices relative to ucell\n",
    "slipplane = np.array([ 1,  1,  1])\n",
    "\n",
    "# Specify a small shift to avoid atoms exactly at non-periodic boundary and fault plane\n",
    "shift = np.array([0.0, 0.0, 0.01])\n",
    "\n",
    "# Define shift vectors in Miller indices relative to ucell\n",
    "a1vect = 0.5 * np.array([-1,  1,  0]) \n",
    "a2vect = 0.5 * np.array([-1,  0,  1])"
   ]
  },
  {
   "cell_type": "markdown",
   "metadata": {},
   "source": [
    "Rotate system, shift and supersize. Note that rotate returns transformation matrix relative to ucell."
   ]
  },
  {
   "cell_type": "code",
   "execution_count": 10,
   "metadata": {},
   "outputs": [],
   "source": [
    "uvws = am.defect.free_surface_basis(slipplane, box=ucell.box, cutboxvector=cutboxvector)\n",
    "system, transform = ucell.rotate(uvws, return_transform=True)\n",
    "system.atoms.pos += np.dot(shift, system.box.vects)\n",
    "system.wrap()\n",
    "\n",
    "system = system.supersize(1, 1, 4)"
   ]
  },
  {
   "cell_type": "markdown",
   "metadata": {},
   "source": [
    "Initialize the StackingFault object and check parameters"
   ]
  },
  {
   "cell_type": "code",
   "execution_count": 11,
   "metadata": {},
   "outputs": [
    {
     "name": "stdout",
     "output_type": "stream",
     "text": [
      "Fault system has 48 total atoms.\n",
      "Fault system has 24 atoms above the fault\n",
      "Fault plane is at z = 14.029611541307906\n",
      "\n",
      "Fault system's pbc is [ True  True False]\n",
      "\n",
      "a1vect as given: [-0.5  0.5  0. ]\n",
      "Cartesian a1vect: [ 2.86378246e+00 -2.75990494e-16 -4.17652603e-16]\n",
      "\n",
      "a2vect as given: [-0.5  0.   0.5]\n",
      "Cartesian a2vect: [ 1.43189123e+00  2.48010836e+00 -4.17652603e-16]\n"
     ]
    }
   ],
   "source": [
    "sf = am.defect.StackingFault(system, a1vect=a1vect, a2vect=a2vect, ucellbox=ucell.box, transform=transform)\n",
    "\n",
    "print('Fault system has', sf.system.natoms, 'total atoms.')\n",
    "print('Fault system has', len(sf.system.atoms.atype[sf.abovefault]), 'atoms above the fault')\n",
    "print('Fault plane is at z =', sf.faultposcart)\n",
    "print()\n",
    "print(\"Fault system's pbc is\", sf.system.pbc)\n",
    "print()\n",
    "print('a1vect as given:', sf.a1vect)\n",
    "print('Cartesian a1vect:', sf.a1vectcart)\n",
    "print()\n",
    "print('a2vect as given:', sf.a2vect)\n",
    "print('Cartesian a2vect:', sf.a2vectcart)"
   ]
  },
  {
   "cell_type": "markdown",
   "metadata": {},
   "source": [
    "Now, StackingFault.iterfaultmap() can generate a 2D map. Note that the &lt;$\\bar{1}\\bar{1}2$&gt; path corresponds to the points where a1 = a2"
   ]
  },
  {
   "cell_type": "code",
   "execution_count": 12,
   "metadata": {},
   "outputs": [
    {
     "name": "stdout",
     "output_type": "stream",
     "text": [
      "a1 = 0.0, a2 = 0.0, d = [ 0.0000  0.0000  0.0000]\n",
      "a1 = 0.2, a2 = 0.0, d = [ 0.5728  0.0000  0.0000]\n",
      "a1 = 0.4, a2 = 0.0, d = [ 1.1455  0.0000  0.0000]\n",
      "a1 = 0.6, a2 = 0.0, d = [ 1.7183 -0.0000  0.0000]\n",
      "a1 = 0.8, a2 = 0.0, d = [ 2.2910 -0.0000  0.0000]\n",
      "a1 = 0.0, a2 = 0.2, d = [ 0.2864  0.4960  0.0000]\n",
      "a1 = 0.2, a2 = 0.2, d = [ 0.8591  0.4960  0.0000]\n",
      "a1 = 0.4, a2 = 0.2, d = [ 1.4319  0.4960  0.0000]\n",
      "a1 = 0.6, a2 = 0.2, d = [ 2.0046  0.4960  0.0000]\n",
      "a1 = 0.8, a2 = 0.2, d = [ 2.5774  0.4960  0.0000]\n",
      "a1 = 0.0, a2 = 0.4, d = [ 0.5728  0.9920  0.0000]\n",
      "a1 = 0.2, a2 = 0.4, d = [ 1.1455  0.9920  0.0000]\n",
      "a1 = 0.4, a2 = 0.4, d = [ 1.7183  0.9920  0.0000]\n",
      "a1 = 0.6, a2 = 0.4, d = [ 2.2910  0.9920  0.0000]\n",
      "a1 = 0.8, a2 = 0.4, d = [ 2.8638  0.9920  0.0000]\n",
      "a1 = 0.0, a2 = 0.6, d = [ 0.8591  1.4881  0.0000]\n",
      "a1 = 0.2, a2 = 0.6, d = [ 1.4319  1.4881  0.0000]\n",
      "a1 = 0.4, a2 = 0.6, d = [ 2.0046  1.4881  0.0000]\n",
      "a1 = 0.6, a2 = 0.6, d = [ 2.5774  1.4881  0.0000]\n",
      "a1 = 0.8, a2 = 0.6, d = [-2.5774  1.4881  0.0000]\n",
      "a1 = 0.0, a2 = 0.8, d = [ 1.1455  1.9841  0.0000]\n",
      "a1 = 0.2, a2 = 0.8, d = [ 1.7183  1.9841  0.0000]\n",
      "a1 = 0.4, a2 = 0.8, d = [ 2.2910  1.9841  0.0000]\n",
      "a1 = 0.6, a2 = 0.8, d = [ 0.0000 -2.9761  0.0000]\n",
      "a1 = 0.8, a2 = 0.8, d = [ 0.5728 -2.9761  0.0000]\n"
     ]
    }
   ],
   "source": [
    "for a1, a2, faultsystem in sf.iterfaultmap(num_a1=5, num_a2=5):\n",
    "    d = am.displacement(system, faultsystem)[-1]\n",
    "    print('a1 = %.1f, a2 = %.1f, d = [%7.4f %7.4f %7.4f]' % (a1, a2, d[0], d[1], d[2]))"
   ]
  },
  {
   "cell_type": "markdown",
   "metadata": {},
   "source": [
    "### 4.3 fcc {111} slip plane using primitive cell\n",
    "\n",
    "For DFT simulations, it is usually preferred to generate atomic configurations from the primitive unit cells rather than the conventional ones as the primitive cells have fewer atoms.  The challenge with doing so is that the Miller vectors used for rotating and defining the shift vectors need to be relative to the *primitive* cell rather than the conventional one.  This conversion can automatically be handled in free_surface_basis() by specifying the conventional cell setting."
   ]
  },
  {
   "cell_type": "markdown",
   "metadata": {},
   "source": [
    "Generate primitive fcc unit cell"
   ]
  },
  {
   "cell_type": "code",
   "execution_count": 13,
   "metadata": {},
   "outputs": [],
   "source": [
    "a = uc.set_in_units(4.05, 'angstrom')\n",
    "atoms = am.Atoms(pos=[[0.0, 0.0, 0.0]])\n",
    "ucell = am.System(atoms=atoms, box=am.Box.trigonal(a/2**0.5, alpha=60), scale=True)"
   ]
  },
  {
   "cell_type": "markdown",
   "metadata": {},
   "source": [
    "Define parameters for the system relative to the conventional cell."
   ]
  },
  {
   "cell_type": "code",
   "execution_count": 14,
   "metadata": {},
   "outputs": [],
   "source": [
    "# Specify cutboxvector option\n",
    "cutboxvector = 'c'\n",
    "\n",
    "# Specify the slip plane in Miller indices and the associated conventional cell setting\n",
    "slipplane = np.array([ 1,  1,  1])\n",
    "conventional_setting = 'f'\n",
    "\n",
    "# Specify a small shift to avoid atoms exactly at non-periodic boundary and fault plane\n",
    "shift = np.array([0.0, 0.0, 0.01])"
   ]
  },
  {
   "cell_type": "markdown",
   "metadata": {},
   "source": [
    "Use free_surface_basis() to identify rotation uvws"
   ]
  },
  {
   "cell_type": "code",
   "execution_count": 15,
   "metadata": {},
   "outputs": [
    {
     "name": "stdout",
     "output_type": "stream",
     "text": [
      "[[-1.  1.  0.]\n",
      " [ 0.  1. -1.]\n",
      " [-1. -1. -1.]]\n"
     ]
    }
   ],
   "source": [
    "uvws = am.defect.free_surface_basis(slipplane, box=ucell.box, cutboxvector=cutboxvector,\n",
    "                                    conventional_setting=conventional_setting)\n",
    "print(uvws)"
   ]
  },
  {
   "cell_type": "markdown",
   "metadata": {},
   "source": [
    "Since free_surface_basis always returns the two shortest in-plane lattice vectors, we can use those for a1vect and a2vect.  "
   ]
  },
  {
   "cell_type": "code",
   "execution_count": 16,
   "metadata": {},
   "outputs": [
    {
     "name": "stdout",
     "output_type": "stream",
     "text": [
      "conventional a1vect = [ 0.  -0.5  0.5]\n",
      "conventional a2vect = [ 0.5 -0.5  0. ]\n"
     ]
    }
   ],
   "source": [
    "# Note indices are wrong if cutboxvect != 'c'\n",
    "a1vect = uvws[0]\n",
    "a2vect = uvws[1]\n",
    "\n",
    "# Show a1vect and a2vect relative to conventional unit cell\n",
    "a1vect_conventional = am.tools.miller.vector_primitive_to_conventional(a1vect, setting='f')\n",
    "a2vect_conventional = am.tools.miller.vector_primitive_to_conventional(a2vect, setting='f')\n",
    "print('conventional a1vect =', a1vect_conventional)\n",
    "print('conventional a2vect =', a2vect_conventional)"
   ]
  },
  {
   "cell_type": "markdown",
   "metadata": {},
   "source": [
    "Rotate system, shift and supersize. Note that rotate returns transformation matrix relative to ucell."
   ]
  },
  {
   "cell_type": "code",
   "execution_count": 17,
   "metadata": {},
   "outputs": [],
   "source": [
    "system, transform = ucell.rotate(uvws, return_transform=True)\n",
    "system.atoms.pos += np.dot(shift, system.box.vects)\n",
    "system.wrap()\n",
    "\n",
    "system = system.supersize(1, 1, 4)"
   ]
  },
  {
   "cell_type": "markdown",
   "metadata": {},
   "source": [
    "Initialize the StackingFault object and check parameters"
   ]
  },
  {
   "cell_type": "code",
   "execution_count": 18,
   "metadata": {},
   "outputs": [
    {
     "name": "stdout",
     "output_type": "stream",
     "text": [
      "Fault system has 12 total atoms.\n",
      "Fault system has 6 atoms above the fault\n",
      "Fault plane is at z = 14.029611541307904\n",
      "\n",
      "Fault system's pbc is [ True  True False]\n",
      "\n",
      "a1vect as given: [-1.  1.  0.]\n",
      "Cartesian a1vect: [ 2.86378246e+00  2.44254078e-16 -1.85055920e-16]\n",
      "\n",
      "a2vect as given: [ 0.  1. -1.]\n",
      "Cartesian a2vect: [ 1.43189123e+00  2.48010836e+00 -1.54288963e-16]\n"
     ]
    }
   ],
   "source": [
    "sf = am.defect.StackingFault(system, a1vect=a1vect, a2vect=a2vect,\n",
    "                             ucellbox=ucell.box, transform=transform)\n",
    "\n",
    "print('Fault system has', sf.system.natoms, 'total atoms.')\n",
    "print('Fault system has', len(sf.system.atoms.atype[sf.abovefault]), 'atoms above the fault')\n",
    "print('Fault plane is at z =', sf.faultposcart)\n",
    "print()\n",
    "print(\"Fault system's pbc is\", sf.system.pbc)\n",
    "print()\n",
    "print('a1vect as given:', sf.a1vect)\n",
    "print('Cartesian a1vect:', sf.a1vectcart)\n",
    "print()\n",
    "print('a2vect as given:', sf.a2vect)\n",
    "print('Cartesian a2vect:', sf.a2vectcart)"
   ]
  },
  {
   "cell_type": "markdown",
   "metadata": {},
   "source": [
    "This system has the same fault plane position and Cartesian shift vectors as the above example, but 1/4 the atoms!"
   ]
  },
  {
   "cell_type": "markdown",
   "metadata": {},
   "source": [
    "### 4.4 hcp {0001} slip plane\n",
    "\n",
    "The system rotation vectors and the shifting vectors can be given in Miller-Bravais indices if the reference unit cell is hexagonal."
   ]
  },
  {
   "cell_type": "markdown",
   "metadata": {},
   "source": [
    "Generate hcp unit cell"
   ]
  },
  {
   "cell_type": "code",
   "execution_count": 19,
   "metadata": {},
   "outputs": [],
   "source": [
    "a = uc.set_in_units(3.18, 'angstrom')\n",
    "c = uc.set_in_units(5.17, 'angstrom')\n",
    "atoms = am.Atoms(pos=[[0.0, 0.0, 0.0], [1/3, 2/3, 0.5]])\n",
    "ucell = am.System(atoms=atoms, box=am.Box.hexagonal(a, c), scale=True)"
   ]
  },
  {
   "cell_type": "markdown",
   "metadata": {},
   "source": [
    "Define parameters for the system"
   ]
  },
  {
   "cell_type": "code",
   "execution_count": 20,
   "metadata": {},
   "outputs": [],
   "source": [
    "# Specify cutboxvector option\n",
    "cutboxvector = 'c'\n",
    "\n",
    "# Specify the slip plane\n",
    "slipplane = np.array([ 0,  0,  0,  1])\n",
    "\n",
    "# Specify a small shift to avoid atoms exactly at non-periodic boundary and fault plane\n",
    "shift = np.array([0.0, 0.0, 0.01])\n",
    "\n",
    "# Define shift vectors in Miller indices relative to ucell\n",
    "a1vect = np.array([ 2, -1, -1,  0]) / 3\n",
    "a2vect = np.array([ 1,  1, -2,  0]) / 3"
   ]
  },
  {
   "cell_type": "markdown",
   "metadata": {},
   "source": [
    "Rotate system, shift and supersize. Note that rotate returns transformation matrix relative to ucell."
   ]
  },
  {
   "cell_type": "code",
   "execution_count": 21,
   "metadata": {},
   "outputs": [],
   "source": [
    "uvws = am.defect.free_surface_basis(slipplane, box=ucell.box, cutboxvector=cutboxvector)\n",
    "system, transform = ucell.rotate(uvws, return_transform=True)\n",
    "system.atoms.pos += np.dot(shift, system.box.vects)\n",
    "system.wrap()\n",
    "\n",
    "system = system.supersize(1, 1, 4)"
   ]
  },
  {
   "cell_type": "markdown",
   "metadata": {},
   "source": [
    "Initialize the StackingFault object and check parameters"
   ]
  },
  {
   "cell_type": "code",
   "execution_count": 22,
   "metadata": {},
   "outputs": [
    {
     "name": "stdout",
     "output_type": "stream",
     "text": [
      "Fault system has 8 total atoms.\n",
      "Fault system has 4 atoms above the fault\n",
      "Fault plane is at z = 10.34\n",
      "\n",
      "Fault system's pbc is [ True  True False]\n",
      "\n",
      "a1vect as given: [ 0.66666667 -0.33333333 -0.33333333  0.        ]\n",
      "Cartesian a1vect: [ 3.18000000e+00 -2.73153518e-16  0.00000000e+00]\n",
      "\n",
      "a2vect as given: [ 0.33333333  0.33333333 -0.66666667  0.        ]\n",
      "Cartesian a2vect: [1.59       2.75396078 0.        ]\n"
     ]
    }
   ],
   "source": [
    "sf = am.defect.StackingFault(system, a1vect=a1vect, a2vect=a2vect, ucellbox=ucell.box, transform=transform)\n",
    "\n",
    "print('Fault system has', sf.system.natoms, 'total atoms.')\n",
    "print('Fault system has', len(sf.system.atoms.atype[sf.abovefault]), 'atoms above the fault')\n",
    "print('Fault plane is at z =', sf.faultposcart)\n",
    "print()\n",
    "print(\"Fault system's pbc is\", sf.system.pbc)\n",
    "print()\n",
    "print('a1vect as given:', sf.a1vect)\n",
    "print('Cartesian a1vect:', sf.a1vectcart)\n",
    "print()\n",
    "print('a2vect as given:', sf.a2vect)\n",
    "print('Cartesian a2vect:', sf.a2vectcart)"
   ]
  },
  {
   "cell_type": "markdown",
   "metadata": {},
   "source": [
    "Generate a single stacking fault configuration with StackingFault.fault()"
   ]
  },
  {
   "cell_type": "code",
   "execution_count": 23,
   "metadata": {},
   "outputs": [
    {
     "name": "stdout",
     "output_type": "stream",
     "text": [
      "atoms in faultsystem are displaced by:\n",
      "[[0.00000000e+00 0.00000000e+00 0.00000000e+00]\n",
      " [0.00000000e+00 0.00000000e+00 0.00000000e+00]\n",
      " [0.00000000e+00 0.00000000e+00 0.00000000e+00]\n",
      " [0.00000000e+00 0.00000000e+00 8.88178420e-16]\n",
      " [4.77000000e-01 2.75396078e-01 0.00000000e+00]\n",
      " [4.77000000e-01 2.75396078e-01 1.77635684e-15]\n",
      " [4.77000000e-01 2.75396078e-01 0.00000000e+00]\n",
      " [4.77000000e-01 2.75396078e-01 3.55271368e-15]]\n"
     ]
    }
   ],
   "source": [
    "faultsystem = sf.fault(a1=0.1, a2=0.1)\n",
    "print('atoms in faultsystem are displaced by:')\n",
    "print(am.displacement(system, faultsystem))"
   ]
  },
  {
   "cell_type": "markdown",
   "metadata": {},
   "source": [
    "### 4.5 DFT support parameters: vacuumwidth and minimum_r\n",
    "\n",
    "DFT calculations of stacking fault calculations differ from classical atomistics calculatoins in that free surfaces are usually generated by inserting a region of vacuum rather than change boundary conditions, and extensive configuration relaxations are incredibly costly.  The vacuumwidth and minimum_r parameters were designed to support these differences. "
   ]
  },
  {
   "cell_type": "markdown",
   "metadata": {},
   "source": [
    "Generate a new StackingFault object using the above parameters plus vacuumwidth"
   ]
  },
  {
   "cell_type": "code",
   "execution_count": 24,
   "metadata": {},
   "outputs": [
    {
     "name": "stdout",
     "output_type": "stream",
     "text": [
      "Original system box:\n",
      "avect =  [ 3.180,  0.000,  0.000]\n",
      "bvect =  [ 1.590,  2.754,  0.000]\n",
      "cvect =  [ 0.000,  0.000, 20.680]\n",
      "origin = [ 0.000,  0.000,  0.000]\n",
      "\n",
      "Fault system box:\n",
      "avect =  [ 3.180,  0.000,  0.000]\n",
      "bvect =  [ 1.590,  2.754,  0.000]\n",
      "cvect =  [ 0.000,  0.000, 30.680]\n",
      "origin = [ 0.000,  0.000, -5.000]\n",
      "\n"
     ]
    }
   ],
   "source": [
    "sf = am.defect.StackingFault(system, a1vect=a1vect, a2vect=a2vect, ucellbox=ucell.box, transform=transform, vacuumwidth=10)\n",
    "print('Original system box:')\n",
    "print(system.box)\n",
    "print()\n",
    "print('Fault system box:')\n",
    "print(sf.system.box)\n",
    "print()"
   ]
  },
  {
   "cell_type": "markdown",
   "metadata": {},
   "source": [
    "Generating configurations with minimum_r will adjust the out-of-plane shift component to ensure pairs of atoms across the fault plane are not positioned too close together."
   ]
  },
  {
   "cell_type": "code",
   "execution_count": 25,
   "metadata": {},
   "outputs": [
    {
     "name": "stdout",
     "output_type": "stream",
     "text": [
      "a1 = 0.0, a2 = 0.0, d = [ 0.0000  0.0000  0.0000]\n",
      "a1 = 0.2, a2 = 0.0, d = [ 0.6360  0.0000  0.0000]\n",
      "a1 = 0.4, a2 = 0.0, d = [ 1.2720  0.0000  0.1071]\n",
      "a1 = 0.6, a2 = 0.0, d = [-1.2720 -0.0000  0.1071]\n",
      "a1 = 0.8, a2 = 0.0, d = [-0.6360 -0.0000  0.0000]\n",
      "a1 = 0.0, a2 = 0.2, d = [ 0.3180  0.5508  0.0000]\n",
      "a1 = 0.2, a2 = 0.2, d = [ 0.9540  0.5508  0.0000]\n",
      "a1 = 0.4, a2 = 0.2, d = [-1.5900  0.5508  0.0000]\n",
      "a1 = 0.6, a2 = 0.2, d = [-0.9540  0.5508  0.0000]\n",
      "a1 = 0.8, a2 = 0.2, d = [-0.3180  0.5508  0.0000]\n",
      "a1 = 0.0, a2 = 0.4, d = [ 0.6360  1.1016  0.1071]\n",
      "a1 = 0.2, a2 = 0.4, d = [-0.3180 -1.6524  0.0000]\n",
      "a1 = 0.4, a2 = 0.4, d = [ 0.3180 -1.6524  0.0000]\n",
      "a1 = 0.6, a2 = 0.4, d = [-0.6360  1.1016  0.1071]\n",
      "a1 = 0.8, a2 = 0.4, d = [-0.0000  1.1016  0.1812]\n",
      "a1 = 0.0, a2 = 0.6, d = [-0.6360 -1.1016  0.1071]\n",
      "a1 = 0.2, a2 = 0.6, d = [-0.0000 -1.1016  0.0000]\n",
      "a1 = 0.4, a2 = 0.6, d = [ 0.6360 -1.1016  0.1071]\n",
      "a1 = 0.6, a2 = 0.6, d = [ 1.2720 -1.1016  0.2533]\n",
      "a1 = 0.8, a2 = 0.6, d = [ 0.3180  1.6524  0.2533]\n",
      "a1 = 0.0, a2 = 0.8, d = [-0.3180 -0.5508  0.0000]\n",
      "a1 = 0.2, a2 = 0.8, d = [ 0.3180 -0.5508  0.0000]\n",
      "a1 = 0.4, a2 = 0.8, d = [ 0.9540 -0.5508  0.1812]\n",
      "a1 = 0.6, a2 = 0.8, d = [ 1.5900 -0.5508  0.2533]\n",
      "a1 = 0.8, a2 = 0.8, d = [-0.9540 -0.5508  0.1812]\n"
     ]
    }
   ],
   "source": [
    "for a1, a2, faultsystem in sf.iterfaultmap(num_a1=5, num_a2=5, minimum_r=a*0.90):\n",
    "    d = am.displacement(system, faultsystem)[-1]\n",
    "    print('a1 = %.1f, a2 = %.1f, d = [%7.4f %7.4f %7.4f]' % (a1, a2, d[0], d[1], d[2]))"
   ]
  }
 ],
 "metadata": {
  "kernelspec": {
   "display_name": "Python 3",
   "language": "python",
   "name": "python3"
  },
  "language_info": {
   "codemirror_mode": {
    "name": "ipython",
    "version": 3
   },
   "file_extension": ".py",
   "mimetype": "text/x-python",
   "name": "python",
   "nbconvert_exporter": "python",
   "pygments_lexer": "ipython3",
   "version": "3.6.4"
  }
 },
 "nbformat": 4,
 "nbformat_minor": 2
}
