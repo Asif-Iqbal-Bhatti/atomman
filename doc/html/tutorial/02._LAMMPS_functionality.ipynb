{
 "cells": [
  {
   "cell_type": "markdown",
   "metadata": {},
   "source": [
    "# Introduction to atomman: LAMMPS functionality\n",
    "\n",
    "__Lucas M. Hale__, [lucas.hale@nist.gov](mailto:lucas.hale@nist.gov?Subject=ipr-demo), _Materials Science and Engineering Division, NIST_.\n",
    "    \n",
    "[Disclaimers](http://www.nist.gov/public_affairs/disclaimer.cfm)"
   ]
  },
  {
   "cell_type": "markdown",
   "metadata": {},
   "source": [
    "## 1. Introduction\n",
    "\n",
    "This Notebook provides an introduction to interacting with LAMMPS using atomman by working through a demonstration simulation."
   ]
  },
  {
   "cell_type": "markdown",
   "metadata": {},
   "source": [
    "**Library Imports**"
   ]
  },
  {
   "cell_type": "code",
   "execution_count": 1,
   "metadata": {},
   "outputs": [
    {
     "name": "stdout",
     "output_type": "stream",
     "text": [
      "atomman version = 1.3.5\n",
      "Notebook executed on 2020-10-06\n"
     ]
    }
   ],
   "source": [
    "# Standard libraries\n",
    "from pathlib import Path\n",
    "import datetime\n",
    "\n",
    "# http://www.numpy.org/\n",
    "import numpy as np             \n",
    "\n",
    "# http://matplotlib.org/\n",
    "import matplotlib.pyplot as plt \n",
    "%matplotlib inline\n",
    "\n",
    "# https://github.com/usnistgov/atomman\n",
    "import atomman as am            \n",
    "import atomman.lammps as lmp\n",
    "import atomman.unitconvert as uc\n",
    "\n",
    "# Show atomman version\n",
    "print('atomman version =', am.__version__)\n",
    "\n",
    "# Show date of Notebook execution\n",
    "print('Notebook executed on', datetime.date.today())"
   ]
  },
  {
   "cell_type": "markdown",
   "metadata": {},
   "source": [
    "## 2. Interatomic Potential Control\n",
    "\n",
    "LAMMPS is capable of using a wide array of interatomic potential styles, which are defined through a combination of LAMMPS commands and potential parameter files.  In atomman, the LAMMPS commands can be automatically generated using the Potentials class and structured data model files (Section 2.2)."
   ]
  },
  {
   "cell_type": "markdown",
   "metadata": {},
   "source": [
    "### 2.1 Load potential from database\n",
    "\n",
    "Any LAMMPS-compatible potential in the NIST Interatomic Potentials Repository can be loaded/downloaded using load_lammps_potential()."
   ]
  },
  {
   "cell_type": "code",
   "execution_count": 2,
   "metadata": {},
   "outputs": [],
   "source": [
    "# Load potential based on its unique ID\n",
    "pot_id = '2015--Pascuet-M-I--Al--LAMMPS--ipr1'\n",
    "potential = am.load_lammps_potential(pot_id, getfiles=True)"
   ]
  },
  {
   "cell_type": "markdown",
   "metadata": {},
   "source": [
    "### 2.2 Potential parameter files\n",
    "\n",
    "Setting getfiles=True will copy/download the potential parameter files from the local/remote library database to the current working directory in a subfolder matching the potential's id."
   ]
  },
  {
   "cell_type": "code",
   "execution_count": 3,
   "metadata": {},
   "outputs": [
    {
     "name": "stdout",
     "output_type": "stream",
     "text": [
      "2015--Pascuet-M-I--Al--LAMMPS--ipr1\\Al.meam\n",
      "re(1,1) =   2.86378\n",
      "attrac(1,1) = 0.39558\n",
      "repuls(1,1) = 0.09806\n",
      "Cmin(1,1,1) = 1.00769\n",
      "Cmax(1,1,1) = 2.31407\n",
      "#\n",
      "rc = 5.0\n",
      "delr = 0.1\n",
      "augt1 = 1\n",
      "\n",
      "\n",
      "2015--Pascuet-M-I--Al--LAMMPS--ipr1\\library-Al.meam\n",
      "# References:\n",
      "# elt        lat     z       ielement     atwt\n",
      "# alpha      b0      b1      b2           b3    alat    esub    asub\n",
      "# t0         t1              t2           t3            rozero  ibar\n",
      "#\n",
      "'Al'        'fcc'   12.     13           26.9815\n",
      "  4.68604   1.56205   5.39270   5.29601  -1.00047   4.05000   3.35999   1.06859\n",
      "1.0  -1.54917  -1.28508  10.01041 1.0 0 \n",
      "\n",
      "\n"
     ]
    }
   ],
   "source": [
    "for fname in Path(pot_id).glob('*'):\n",
    "    print(fname)\n",
    "    with open(fname) as f:\n",
    "        print(f.read())\n",
    "    print()"
   ]
  },
  {
   "cell_type": "markdown",
   "metadata": {},
   "source": [
    "### 2.3 lammps.Potential Class\n",
    "\n",
    "The load_lammps_potential() function returns a Potential object that can be used to explore properties of the potential and generate LAMMPS input commands."
   ]
  },
  {
   "cell_type": "markdown",
   "metadata": {},
   "source": [
    "Basic properties can be directly obtained."
   ]
  },
  {
   "cell_type": "code",
   "execution_count": 4,
   "metadata": {},
   "outputs": [
    {
     "name": "stdout",
     "output_type": "stream",
     "text": [
      "str(potential) ->        2015--Pascuet-M-I--Al--LAMMPS--ipr1\n",
      "potential.units ->       metal\n",
      "potential.atom_style ->  atomic\n",
      "potential.pair_style ->  meam\n",
      "potential.symbols ->     ['Al']\n",
      "potential.elements() ->  ['Al']\n",
      "potential.masses() ->    [26.9815]\n"
     ]
    }
   ],
   "source": [
    "# Show that basic properties can be directly obtained\n",
    "print('str(potential) ->       ', potential)\n",
    "print('potential.units ->      ', potential.units)\n",
    "print('potential.atom_style -> ', potential.atom_style)\n",
    "print('potential.pair_style -> ', potential.pair_style)\n",
    "print('potential.symbols ->    ', potential.symbols)\n",
    "print('potential.elements() -> ', potential.elements())\n",
    "print('potential.masses() ->   ', potential.masses())"
   ]
  },
  {
   "cell_type": "markdown",
   "metadata": {},
   "source": [
    "The LAMMPS command lines for the potential are auto-generated based on a list of symbols corresponding to LAMMPS atom types. This fully works for all LAMMPS pair_styles, with only the hybrid and hybrid/overlay styles having limitations."
   ]
  },
  {
   "cell_type": "code",
   "execution_count": 5,
   "metadata": {},
   "outputs": [
    {
     "name": "stdout",
     "output_type": "stream",
     "text": [
      "potential.pair_info() ->\n",
      "mass 1 26.9815\n",
      "\n",
      "pair_style meam\n",
      "pair_coeff * * 2015--Pascuet-M-I--Al--LAMMPS--ipr1\\library-Al.meam Al 2015--Pascuet-M-I--Al--LAMMPS--ipr1\\Al.meam Al\n",
      "\n"
     ]
    }
   ],
   "source": [
    "print('potential.pair_info() ->')\n",
    "print(potential.pair_info())"
   ]
  },
  {
   "cell_type": "code",
   "execution_count": 6,
   "metadata": {},
   "outputs": [
    {
     "name": "stdout",
     "output_type": "stream",
     "text": [
      "potential.pair_info(['Al', 'Al', 'Al']) ->\n",
      "mass 1 26.9815\n",
      "mass 2 26.9815\n",
      "mass 3 26.9815\n",
      "\n",
      "pair_style meam\n",
      "pair_coeff * * 2015--Pascuet-M-I--Al--LAMMPS--ipr1\\library-Al.meam Al 2015--Pascuet-M-I--Al--LAMMPS--ipr1\\Al.meam Al Al Al\n",
      "\n"
     ]
    }
   ],
   "source": [
    "print(\"potential.pair_info(['Al', 'Al', 'Al']) ->\")\n",
    "print(potential.pair_info(['Al', 'Al', 'Al']))"
   ]
  },
  {
   "cell_type": "markdown",
   "metadata": {},
   "source": [
    "## 3. Generate initial system"
   ]
  },
  {
   "cell_type": "markdown",
   "metadata": {},
   "source": [
    "### 3.1 Load poscar Al fcc unit cell\n",
    "\n",
    "A crystalline system can be easily generated using a unit cell system either defined in atomman or imported from another format.  For simplicity, here we will load a unit cell from a poscar file."
   ]
  },
  {
   "cell_type": "markdown",
   "metadata": {},
   "source": [
    "Load fcc prototype with Al lattice constant"
   ]
  },
  {
   "cell_type": "code",
   "execution_count": 7,
   "metadata": {},
   "outputs": [
    {
     "name": "stdout",
     "output_type": "stream",
     "text": [
      "avect =  [ 4.050,  0.000,  0.000]\n",
      "bvect =  [ 0.000,  4.050,  0.000]\n",
      "cvect =  [ 0.000,  0.000,  4.050]\n",
      "origin = [ 0.000,  0.000,  0.000]\n",
      "natoms = 4\n",
      "natypes = 1\n",
      "symbols = ('Al',)\n",
      "pbc = [ True  True  True]\n",
      "per-atom properties = ['atype', 'pos']\n",
      "     id |   atype |  pos[0] |  pos[1] |  pos[2]\n",
      "      0 |       1 |   0.000 |   0.000 |   0.000\n",
      "      1 |       1 |   0.000 |   2.025 |   2.025\n",
      "      2 |       1 |   2.025 |   0.000 |   2.025\n",
      "      3 |       1 |   2.025 |   2.025 |   0.000\n"
     ]
    }
   ],
   "source": [
    "system = am.load('prototype', 'A1--Cu--fcc', a=4.05, symbols='Al')\n",
    "print(system)"
   ]
  },
  {
   "cell_type": "markdown",
   "metadata": {},
   "source": [
    "### 3.2 Manipulate system\n",
    "\n",
    "More complicated atomic configurations can then be generated by manipulating the seed system and the atoms contained within. Here, we'll limit the manipulations to making the system a 3x3x3 supercell of itself."
   ]
  },
  {
   "cell_type": "code",
   "execution_count": 8,
   "metadata": {},
   "outputs": [
    {
     "name": "stdout",
     "output_type": "stream",
     "text": [
      "Supercell has 108 atoms\n"
     ]
    }
   ],
   "source": [
    "system = system.supersize(3,3,3)\n",
    "print('Supercell has', system.natoms, 'atoms')"
   ]
  },
  {
   "cell_type": "markdown",
   "metadata": {},
   "source": [
    "### 3.3 Save to atom data file\n",
    "\n",
    "System.dump('atom_data') outputs the system to a LAMMPS atom data file. Quick notes on the parameters used here\n",
    "\n",
    "- Giving potential allows for the appropriate units and atom_style settings to be used.\n",
    "- The float_format value used here is a small precision to enhance clarity of print statements below. Typically, the precision should be large (default value is '%.13f').\n",
    "- Setting return_pair_info=True will return the LAMMPS commands for both the system and the potential together.  This is the preferred method as it ensures compatibility between the two sets of commands."
   ]
  },
  {
   "cell_type": "code",
   "execution_count": 9,
   "metadata": {},
   "outputs": [],
   "source": [
    "# Save System to 'atom.dat' atom data file \n",
    "system_pair_info = system.dump('atom_data', f='atom.dat',\n",
    "                          potential=potential,\n",
    "                          float_format='%.4f', # Remove or make larger precision for real runs!\n",
    "                          return_pair_info=True)"
   ]
  },
  {
   "cell_type": "markdown",
   "metadata": {},
   "source": [
    "Show the returned LAMMPS command lines"
   ]
  },
  {
   "cell_type": "code",
   "execution_count": 10,
   "metadata": {},
   "outputs": [
    {
     "name": "stdout",
     "output_type": "stream",
     "text": [
      "# Script and atom data file prepared using atomman Python package\n",
      "\n",
      "units metal\n",
      "atom_style atomic\n",
      "\n",
      "boundary p p p\n",
      "read_data atom.dat\n",
      "\n",
      "mass 1 26.9815\n",
      "\n",
      "pair_style meam\n",
      "pair_coeff * * 2015--Pascuet-M-I--Al--LAMMPS--ipr1\\library-Al.meam Al 2015--Pascuet-M-I--Al--LAMMPS--ipr1\\Al.meam Al\n",
      "\n"
     ]
    }
   ],
   "source": [
    "print(system_pair_info)"
   ]
  },
  {
   "cell_type": "markdown",
   "metadata": {},
   "source": [
    "Show the contents of the data file"
   ]
  },
  {
   "cell_type": "code",
   "execution_count": 11,
   "metadata": {},
   "outputs": [
    {
     "name": "stdout",
     "output_type": "stream",
     "text": [
      "\n",
      "108 atoms\n",
      "1 atom types\n",
      "0.0000 12.1500 xlo xhi\n",
      "0.0000 12.1500 ylo yhi\n",
      "0.0000 12.1500 zlo zhi\n",
      "\n",
      "Atoms # atomic\n",
      "\n",
      "1 1 0.0000 0.0000 0.0000\n",
      "2 1 0.0000 2.0250 2.0250\n",
      "3 1 2.0250 0.0000 2.0250\n",
      "4 1 2.0250 2.0250 0.0000\n",
      "5 1 4.0500 0.0000 0.0000\n",
      "6 1 4.0500 2.0250 2.0250\n",
      "7 1 6.0750 0.0000 2.0250\n",
      "8 1 6.0750 2.0250 0.0000\n",
      "9 1 8.1000 0.0000 0.0000\n",
      "10 1 8.1000 2.0250 2.0250\n",
      "11 1 10.1250 0.0000 2.0250\n",
      "12 1 10.1250 2.0250 0.0000\n",
      "13 1 0.0000 4.0500 0.0000\n",
      "14 1 0.0000 6.0750 2.0250\n",
      "15 1 2.0250 4.0500 2.0250\n",
      "16 1 2.0250 6.0750 0.0000\n",
      "17 1 4.0500 4.0500 0.0000\n",
      "18 1 4.0500 6.0750 2.0250\n",
      "19 1 6.0750 4.0500 2.0250\n",
      "20 1 6.0750 6.0750 0.0000\n",
      "21 1 8.1000 4.0500 0.0000\n",
      "22 1 8.1000 6.0750 2.0250\n",
      "23 1 10.1250 4.0500 2.0250\n",
      "24 1 10.1250 6.0750 0.0000\n",
      "25 1 0.0000 8.1000 0.0000\n",
      "26 1 0.0000 10.1250 2.0250\n",
      "27 1 2.0250 8.1000 2.0250\n",
      "28 1 2.0250 10.1250 0.0000\n",
      "29 1 4.0500 8.1000 0.0000\n",
      "30 1 4.0500 10.1250 2.0250\n",
      "31 1 6.0750 8.1000 2.0250\n",
      "32 1 6.0750 10.1250 0.0000\n",
      "33 1 8.1000 8.1000 0.0000\n",
      "34 1 8.1000 10.1250 2.0250\n",
      "35 1 10.1250 8.1000 2.0250\n",
      "36 1 10.1250 10.1250 0.0000\n",
      "37 1 0.0000 0.0000 4.0500\n",
      "38 1 0.0000 2.0250 6.0750\n",
      "39 1 2.0250 0.0000 6.0750\n",
      "40 1 2.0250 2.0250 4.0500\n",
      "41 1 4.0500 0.0000 4.0500\n",
      "42 1 4.0500 2.0250 6.0750\n",
      "43 1 6.0750 0.0000 6.0750\n",
      "44 1 6.0750 2.0250 4.0500\n",
      "45 1 8.1000 0.0000 4.0500\n",
      "46 1 8.1000 2.0250 6.0750\n",
      "47 1 10.1250 0.0000 6.0750\n",
      "48 1 10.1250 2.0250 4.0500\n",
      "49 1 0.0000 4.0500 4.0500\n",
      "50 1 0.0000 6.0750 6.0750\n",
      "51 1 2.0250 4.0500 6.0750\n",
      "52 1 2.0250 6.0750 4.0500\n",
      "53 1 4.0500 4.0500 4.0500\n",
      "54 1 4.0500 6.0750 6.0750\n",
      "55 1 6.0750 4.0500 6.0750\n",
      "56 1 6.0750 6.0750 4.0500\n",
      "57 1 8.1000 4.0500 4.0500\n",
      "58 1 8.1000 6.0750 6.0750\n",
      "59 1 10.1250 4.0500 6.0750\n",
      "60 1 10.1250 6.0750 4.0500\n",
      "61 1 0.0000 8.1000 4.0500\n",
      "62 1 0.0000 10.1250 6.0750\n",
      "63 1 2.0250 8.1000 6.0750\n",
      "64 1 2.0250 10.1250 4.0500\n",
      "65 1 4.0500 8.1000 4.0500\n",
      "66 1 4.0500 10.1250 6.0750\n",
      "67 1 6.0750 8.1000 6.0750\n",
      "68 1 6.0750 10.1250 4.0500\n",
      "69 1 8.1000 8.1000 4.0500\n",
      "70 1 8.1000 10.1250 6.0750\n",
      "71 1 10.1250 8.1000 6.0750\n",
      "72 1 10.1250 10.1250 4.0500\n",
      "73 1 0.0000 0.0000 8.1000\n",
      "74 1 0.0000 2.0250 10.1250\n",
      "75 1 2.0250 0.0000 10.1250\n",
      "76 1 2.0250 2.0250 8.1000\n",
      "77 1 4.0500 0.0000 8.1000\n",
      "78 1 4.0500 2.0250 10.1250\n",
      "79 1 6.0750 0.0000 10.1250\n",
      "80 1 6.0750 2.0250 8.1000\n",
      "81 1 8.1000 0.0000 8.1000\n",
      "82 1 8.1000 2.0250 10.1250\n",
      "83 1 10.1250 0.0000 10.1250\n",
      "84 1 10.1250 2.0250 8.1000\n",
      "85 1 0.0000 4.0500 8.1000\n",
      "86 1 0.0000 6.0750 10.1250\n",
      "87 1 2.0250 4.0500 10.1250\n",
      "88 1 2.0250 6.0750 8.1000\n",
      "89 1 4.0500 4.0500 8.1000\n",
      "90 1 4.0500 6.0750 10.1250\n",
      "91 1 6.0750 4.0500 10.1250\n",
      "92 1 6.0750 6.0750 8.1000\n",
      "93 1 8.1000 4.0500 8.1000\n",
      "94 1 8.1000 6.0750 10.1250\n",
      "95 1 10.1250 4.0500 10.1250\n",
      "96 1 10.1250 6.0750 8.1000\n",
      "97 1 0.0000 8.1000 8.1000\n",
      "98 1 0.0000 10.1250 10.1250\n",
      "99 1 2.0250 8.1000 10.1250\n",
      "100 1 2.0250 10.1250 8.1000\n",
      "101 1 4.0500 8.1000 8.1000\n",
      "102 1 4.0500 10.1250 10.1250\n",
      "103 1 6.0750 8.1000 10.1250\n",
      "104 1 6.0750 10.1250 8.1000\n",
      "105 1 8.1000 8.1000 8.1000\n",
      "106 1 8.1000 10.1250 10.1250\n",
      "107 1 10.1250 8.1000 10.1250\n",
      "108 1 10.1250 10.1250 8.1000\n",
      "\n"
     ]
    }
   ],
   "source": [
    "with open('atom.dat') as f:\n",
    "    print(f.read())"
   ]
  },
  {
   "cell_type": "markdown",
   "metadata": {},
   "source": [
    "## 4. Converting to/from LAMMPS units\n",
    "\n",
    "LAMMPS performs its calculations with values in one of multiple sets of pre-defined units.  The atomman.lammps.style submodule has some useful functions when working with different units options.\n",
    "\n",
    "**atomman.lammps.style.timestep()**\n",
    "\n",
    "The lammps.style.timestep() function returns the default timestep value for a given LAMMPS units option.\n",
    "\n",
    "Parameters\n",
    "\n",
    "- **units** (*str*) the LAMMPS units option being used.\n",
    "\n",
    "**atomman.lammps.style.unit()**\n",
    "\n",
    "The lammps.style.unit() function returns a dictionary giving the units associated with physical quantities as used by LAMMPS with a given units option.\n",
    "\n",
    "Parameters\n",
    "\n",
    "- **units** (*str*) the LAMMPS units option being used."
   ]
  },
  {
   "cell_type": "code",
   "execution_count": 12,
   "metadata": {},
   "outputs": [
    {
     "name": "stdout",
     "output_type": "stream",
     "text": [
      "0.001\n"
     ]
    }
   ],
   "source": [
    "timestep = lmp.style.timestep(potential.units)\n",
    "print(timestep)"
   ]
  },
  {
   "cell_type": "code",
   "execution_count": 13,
   "metadata": {},
   "outputs": [
    {
     "name": "stdout",
     "output_type": "stream",
     "text": [
      "OrderedDict([('mass', 'g/mol'), ('length', 'angstrom'), ('time', 'ps'), ('energy', 'eV'), ('velocity', 'angstrom/ps'), ('force', 'eV/angstrom'), ('torque', 'eV'), ('temperature', 'K'), ('pressure', 'bar'), ('dynamic viscosity', 'Pa*s/10'), ('charge', 'e'), ('dipole', 'e*angstrom'), ('electric field', 'V/angstrom'), ('density', 'g/cm^3'), ('ang-mom', 'angstrom*angstrom/ps*g/mol'), ('ang-vel', '1/ps')])\n"
     ]
    }
   ],
   "source": [
    "lammps_unit = lmp.style.unit(potential.units)\n",
    "print(lammps_unit)"
   ]
  },
  {
   "cell_type": "markdown",
   "metadata": {},
   "source": [
    "## 5. Composing LAMMPS Input Scripts\n",
    "\n",
    "LAMMPS scripts can easily be constructed by combining the system_info generated from System.dump('atom_data'), the pair_info from Potential.pair_info(), and any user-defined input lines.  This allows for specific simulation actions to easily be perfored across different potentials or initial configurations."
   ]
  },
  {
   "cell_type": "markdown",
   "metadata": {},
   "source": [
    "### 5.1 Show content generated in previous sections"
   ]
  },
  {
   "cell_type": "markdown",
   "metadata": {},
   "source": [
    "Show system_pair_info generated in Section 3.3."
   ]
  },
  {
   "cell_type": "code",
   "execution_count": 14,
   "metadata": {},
   "outputs": [
    {
     "name": "stdout",
     "output_type": "stream",
     "text": [
      "# Script and atom data file prepared using atomman Python package\n",
      "\n",
      "units metal\n",
      "atom_style atomic\n",
      "\n",
      "boundary p p p\n",
      "read_data atom.dat\n",
      "\n",
      "mass 1 26.9815\n",
      "\n",
      "pair_style meam\n",
      "pair_coeff * * 2015--Pascuet-M-I--Al--LAMMPS--ipr1\\library-Al.meam Al 2015--Pascuet-M-I--Al--LAMMPS--ipr1\\Al.meam Al\n",
      "\n"
     ]
    }
   ],
   "source": [
    "print(system_pair_info)"
   ]
  },
  {
   "cell_type": "markdown",
   "metadata": {},
   "source": [
    "### 5.2 Write LAMMPS input script template\n",
    "\n",
    "LAMMPS scripts can be dynamically generated using Python functions or templates that take the above info lines and other values as parameters. Here, we demonstrate a LAMMPS input template script where all fields to be filled in in Python are delimited with <> brackets."
   ]
  },
  {
   "cell_type": "code",
   "execution_count": 15,
   "metadata": {},
   "outputs": [],
   "source": [
    "template = \"\"\"\n",
    "<system_pair_info>\n",
    "\n",
    "# Define temperature and dependent variables\n",
    "variable T equal <temperature>\n",
    "variable twoT equal 2*$T\n",
    "\n",
    "# Define equilibrium pressure\n",
    "variable P equal <pressure>\n",
    "\n",
    "# Define timestep and dependent variables\n",
    "variable deltat equal <timestep>\n",
    "variable Trelax equal 100*${deltat}\n",
    "variable Prelax equal 1000*${deltat}\n",
    "\n",
    "# Initialize atomic velocities with twoT\n",
    "velocity all create ${twoT} 124352\n",
    "\n",
    "# Define thermo steps and properties\n",
    "thermo 100\n",
    "thermo_style custom step temp press lx ly lz\n",
    "\n",
    "# Define dump \n",
    "dump mydump all atom 100000 *.dump\n",
    "\n",
    "# Specify timestep\n",
    "timestep ${deltat}\n",
    "\n",
    "# Apply npt conditions\n",
    "fix 1 all npt temp $T $T ${Trelax} iso $P $P ${Prelax}\n",
    "\n",
    "# Run simulation\n",
    "run 100000\n",
    "\"\"\"           "
   ]
  },
  {
   "cell_type": "markdown",
   "metadata": {},
   "source": [
    "### 5.3 Fill in the template with atomman.tools.filltemplate()\n",
    "\n",
    "The template can then be easily filled in with the atomman.tools.filltemplate() function. \n",
    "\n",
    "Parameters\n",
    "\n",
    "- **template** (*str or file-like object*) is the template to fill in.\n",
    "\n",
    "- **variable** (*dict*) gives the delimited keys and corresponding values to insert into the template.\n",
    "\n",
    "- **s_delimiter** (*str*) the starting delimiter for identifying variable names.\n",
    "\n",
    "- **e_delimiter** (*str*) the ending delimiter for identifying variable names."
   ]
  },
  {
   "cell_type": "markdown",
   "metadata": {},
   "source": [
    "Build dictionary of template variables"
   ]
  },
  {
   "cell_type": "code",
   "execution_count": 16,
   "metadata": {},
   "outputs": [
    {
     "name": "stdout",
     "output_type": "stream",
     "text": [
      "{'system_pair_info': '# Script and atom data file prepared using atomman Python package\\n\\nunits metal\\natom_style atomic\\n\\nboundary p p p\\nread_data atom.dat\\n\\nmass 1 26.9815\\n\\npair_style meam\\npair_coeff * * 2015--Pascuet-M-I--Al--LAMMPS--ipr1\\\\library-Al.meam Al 2015--Pascuet-M-I--Al--LAMMPS--ipr1\\\\Al.meam Al\\n', 'timestep': 0.001, 'temperature': 100, 'pressure': 0.0}\n"
     ]
    }
   ],
   "source": [
    "lammps_variable = {}\n",
    "\n",
    "# Generated above\n",
    "lammps_variable['system_pair_info'] = system_pair_info\n",
    "\n",
    "# Set timestep to default value for LAMMPS units\n",
    "lammps_variable['timestep'] = lmp.style.timestep(units=potential.units)\n",
    "\n",
    "# Specify temperature to equilibriate at (always in Kelvin)\n",
    "lammps_variable['temperature'] = 100\n",
    "\n",
    "# Specify pressure to equilibriate at\n",
    "pressure = uc.set_in_units(0.0, 'MPa')\n",
    "lammps_variable['pressure'] = uc.get_in_units(pressure, lammps_unit['pressure'])\n",
    "\n",
    "print(lammps_variable)"
   ]
  },
  {
   "cell_type": "markdown",
   "metadata": {},
   "source": [
    "Fill in template"
   ]
  },
  {
   "cell_type": "code",
   "execution_count": 17,
   "metadata": {},
   "outputs": [
    {
     "name": "stdout",
     "output_type": "stream",
     "text": [
      "\n",
      "# Script and atom data file prepared using atomman Python package\n",
      "\n",
      "units metal\n",
      "atom_style atomic\n",
      "\n",
      "boundary p p p\n",
      "read_data atom.dat\n",
      "\n",
      "mass 1 26.9815\n",
      "\n",
      "pair_style meam\n",
      "pair_coeff * * 2015--Pascuet-M-I--Al--LAMMPS--ipr1\\library-Al.meam Al 2015--Pascuet-M-I--Al--LAMMPS--ipr1\\Al.meam Al\n",
      "\n",
      "\n",
      "# Define temperature and dependent variables\n",
      "variable T equal 100\n",
      "variable twoT equal 2*$T\n",
      "\n",
      "# Define equilibrium pressure\n",
      "variable P equal 0.0\n",
      "\n",
      "# Define timestep and dependent variables\n",
      "variable deltat equal 0.001\n",
      "variable Trelax equal 100*${deltat}\n",
      "variable Prelax equal 1000*${deltat}\n",
      "\n",
      "# Initialize atomic velocities with twoT\n",
      "velocity all create ${twoT} 124352\n",
      "\n",
      "# Define thermo steps and properties\n",
      "thermo 100\n",
      "thermo_style custom step temp press lx ly lz\n",
      "\n",
      "# Define dump \n",
      "dump mydump all atom 100000 *.dump\n",
      "\n",
      "# Specify timestep\n",
      "timestep ${deltat}\n",
      "\n",
      "# Apply npt conditions\n",
      "fix 1 all npt temp $T $T ${Trelax} iso $P $P ${Prelax}\n",
      "\n",
      "# Run simulation\n",
      "run 100000\n",
      "\n"
     ]
    }
   ],
   "source": [
    "# Generate script from template and lammps_variable\n",
    "script = am.tools.filltemplate(template, lammps_variable, '<', '>')\n",
    "\n",
    "# Save script to 'nvt.in'\n",
    "with open('nvt.in', 'w') as f:\n",
    "    f.write(script)\n",
    "\n",
    "# Show contents of 'nvt.in'    \n",
    "with open('nvt.in') as f:\n",
    "    print(f.read())"
   ]
  },
  {
   "cell_type": "markdown",
   "metadata": {},
   "source": [
    "## 6. Run LAMMPS\n",
    "\n",
    "The LAMMPS simulation can be ran from within Python using the run() function."
   ]
  },
  {
   "cell_type": "markdown",
   "metadata": {},
   "source": [
    "Specify your lammps executable"
   ]
  },
  {
   "cell_type": "code",
   "execution_count": 18,
   "metadata": {},
   "outputs": [],
   "source": [
    "lammps_exe = 'lmp_serial'"
   ]
  },
  {
   "cell_type": "markdown",
   "metadata": {},
   "source": [
    "Run the simulation "
   ]
  },
  {
   "cell_type": "code",
   "execution_count": 19,
   "metadata": {},
   "outputs": [],
   "source": [
    "output = lmp.run(lammps_exe, 'nvt.in', return_style='object')"
   ]
  },
  {
   "cell_type": "markdown",
   "metadata": {},
   "source": [
    "The resulting simulation data is returned as a Log object, which containes the thermo data from the log.lammps files. "
   ]
  },
  {
   "cell_type": "markdown",
   "metadata": {},
   "source": [
    "## 7. Analyzing Thermo Results\n",
    "\n",
    "Data for each run/minimization is stored in in a list of dictionaries called simulations in the returned Log file.  In each dictionary, there is a thermo key that represents a pandas.DataFrame of the thermo data."
   ]
  },
  {
   "cell_type": "markdown",
   "metadata": {},
   "source": [
    "Show thermo data column names for the first (and only) simulation run."
   ]
  },
  {
   "cell_type": "code",
   "execution_count": 20,
   "metadata": {},
   "outputs": [
    {
     "name": "stdout",
     "output_type": "stream",
     "text": [
      "['Step', 'Temp', 'Press', 'Lx', 'Ly', 'Lz']\n"
     ]
    }
   ],
   "source": [
    "print(list(output.simulations[0]['thermo'].keys()))"
   ]
  },
  {
   "cell_type": "markdown",
   "metadata": {},
   "source": [
    "Plot temperature vs. run step"
   ]
  },
  {
   "cell_type": "code",
   "execution_count": 21,
   "metadata": {},
   "outputs": [
    {
     "data": {
      "image/png": "[encoded data removed]",
      "text/plain": [
       "<Figure size 432x288 with 1 Axes>"
      ]
     },
     "metadata": {
      "needs_background": "light"
     },
     "output_type": "display_data"
    }
   ],
   "source": [
    "# Pull out data\n",
    "steps = output.simulations[0]['thermo'].Step\n",
    "temps = output.simulations[0]['thermo'].Temp\n",
    "\n",
    "# Plot\n",
    "plt.plot(steps, temps)\n",
    "plt.xlabel('Step')\n",
    "plt.ylabel('Temperature (K)')\n",
    "plt.show()"
   ]
  },
  {
   "cell_type": "markdown",
   "metadata": {},
   "source": [
    "Plot pressure vs. run step (note unit conversions)"
   ]
  },
  {
   "cell_type": "code",
   "execution_count": 22,
   "metadata": {},
   "outputs": [
    {
     "data": {
      "image/png": "[encoded data removed]",
      "text/plain": [
       "<Figure size 432x288 with 1 Axes>"
      ]
     },
     "metadata": {
      "needs_background": "light"
     },
     "output_type": "display_data"
    }
   ],
   "source": [
    "# Convert steps to time in atomman working units\n",
    "steps = output.simulations[0]['thermo'].Step\n",
    "time = uc.set_in_units(timestep, lammps_unit['time']) * steps\n",
    "\n",
    "# Convert press to atomman working units\n",
    "press = uc.set_in_units(output.simulations[0]['thermo'].Press, lammps_unit['pressure'])\n",
    "\n",
    "# Plot in ps and GPa\n",
    "plt.plot(uc.get_in_units(steps, 'ps'), uc.get_in_units(press, 'GPa'))\n",
    "plt.xlabel('Time (ps)')\n",
    "plt.ylabel('Pressure (GPa)')\n",
    "plt.show()"
   ]
  },
  {
   "cell_type": "markdown",
   "metadata": {},
   "source": [
    "## 8 Reading in dump files \n",
    "\n",
    "Finally, any dump files generated by the LAMMPS simulation can be loaded into atomman as Systems.  "
   ]
  },
  {
   "cell_type": "code",
   "execution_count": 23,
   "metadata": {},
   "outputs": [
    {
     "name": "stdout",
     "output_type": "stream",
     "text": [
      "avect =  [12.191,  0.000,  0.000]\n",
      "bvect =  [ 0.000, 12.191,  0.000]\n",
      "cvect =  [ 0.000,  0.000, 12.191]\n",
      "origin = [-0.021, -0.021, -0.021]\n",
      "     atype     pos[0]     pos[1]     pos[2]  atom_id\n",
      "0        1   0.003687  -0.060490  -0.023425        1\n",
      "1        1  -0.054033   2.032270   1.997684        2\n",
      "2        1   2.055068   0.018910   1.980677        3\n",
      "3        1   1.997684   2.080987  -0.002075        4\n",
      "4        1   4.081188   0.036592  -0.051009        5\n",
      "5        1   4.022243   2.036891   2.031112        6\n",
      "6        1   6.070148   0.064577   2.020823        7\n",
      "7        1   6.134932   2.015788  -0.056428        8\n",
      "8        1   8.107532  -0.062155  -0.006683        9\n",
      "9        1   8.107922   2.043352   2.040621       10\n",
      "10       1  10.182953  -0.098032   2.031405       11\n",
      "11       1  10.104600   1.968607  -0.000193       12\n",
      "12       1  -0.033908   4.044138   0.004996       13\n",
      "13       1  -0.090555   6.055396   1.985541       14\n",
      "14       1   1.965084   4.037335   2.010424       15\n",
      "15       1   1.986443   6.057518  -0.050779       16\n",
      "16       1   4.076884   4.023011  -0.045361       17\n",
      "17       1   3.973307   6.043583   1.998586       18\n",
      "18       1   5.978738   4.005248   2.045961       19\n",
      "19       1   6.093897   6.023809  -0.010560       20\n",
      "20       1   8.105606   4.020280   0.021797       21\n",
      "21       1   8.035774   6.122765   1.939653       22\n",
      "22       1  10.100845   4.057219   2.038951       23\n",
      "23       1  10.103929   6.078779  -0.027954       24\n",
      "24       1  -0.063701   8.139303  -0.038682       25\n",
      "25       1   0.062029  10.132810   1.995818       26\n",
      "26       1   2.083852   8.070666   2.029186       27\n",
      "27       1   2.026443  10.143977  -0.001598       28\n",
      "28       1   3.995239   8.087136   0.014932       29\n",
      "29       1   4.020146  10.284982   2.004767       30\n",
      "..     ...        ...        ...        ...      ...\n",
      "78       1   6.162777  -0.029500  10.118790       79\n",
      "79       1   6.114122   1.979238   8.092037       80\n",
      "80       1   8.141070  -0.136045   8.121345       81\n",
      "81       1   8.169378   2.053934  10.099333       82\n",
      "82       1  10.204824  -0.050843  10.146611       83\n",
      "83       1  10.134627   1.958038   8.103143       84\n",
      "84       1  -0.045947   4.004431   8.107069       85\n",
      "85       1  -0.018371   6.004461  10.165532       86\n",
      "86       1   2.080463   4.067277  10.158936       87\n",
      "87       1   2.035038   6.039280   8.103826       88\n",
      "88       1   4.068021   4.084199   8.143496       89\n",
      "89       1   4.106460   6.082681  10.168336       90\n",
      "90       1   6.139455   4.025400  10.082472       91\n",
      "91       1   6.097700   6.072671   8.123259       92\n",
      "92       1   8.095255   4.071556   8.076993       93\n",
      "93       1   8.140644   6.027027  10.152182       94\n",
      "94       1  10.140991   4.036409  10.167933       95\n",
      "95       1  10.137272   6.093982   8.132841       96\n",
      "96       1  -0.023615   8.099608   8.114761       97\n",
      "97       1  -0.013326  10.111561  10.163484       98\n",
      "98       1   1.956124   8.095560  10.122058       99\n",
      "99       1   2.004035  10.106501   8.142302      100\n",
      "100      1   4.052806   8.025082   8.131488      101\n",
      "101      1   4.050197  10.059114  10.138357      102\n",
      "102      1   6.082351   8.100071  10.123399      103\n",
      "103      1   6.042340  10.090836   8.060340      104\n",
      "104      1   8.037871   8.044527   8.075286      105\n",
      "105      1   8.068666  10.122228  10.109220      106\n",
      "106      1  10.135773   8.173499  10.091238      107\n",
      "107      1  10.139345  10.137333   8.031605      108\n",
      "\n",
      "[108 rows x 5 columns]\n"
     ]
    }
   ],
   "source": [
    "system = am.load('atom_dump', '100000.dump', symbols='Al')\n",
    "print(system.box)\n",
    "print(system.atoms_df())"
   ]
  },
  {
   "cell_type": "markdown",
   "metadata": {},
   "source": [
    "**File Cleanup**"
   ]
  },
  {
   "cell_type": "code",
   "execution_count": 24,
   "metadata": {},
   "outputs": [],
   "source": [
    "for fname in Path(pot_id).glob('*'):\n",
    "    fname.unlink()\n",
    "Path(pot_id).rmdir()\n",
    "Path('atom.dat').unlink()\n",
    "Path('nvt.in').unlink()\n",
    "Path('log.lammps').unlink()\n",
    "\n",
    "for fname in Path('.').glob('*.dump'):\n",
    "    fname.unlink()"
   ]
  }
 ],
 "metadata": {
  "anaconda-cloud": {},
  "kernelspec": {
   "display_name": "Python 3",
   "language": "python",
   "name": "python3"
  },
  "language_info": {
   "codemirror_mode": {
    "name": "ipython",
    "version": 3
   },
   "file_extension": ".py",
   "mimetype": "text/x-python",
   "name": "python",
   "nbconvert_exporter": "python",
   "pygments_lexer": "ipython3",
   "version": "3.7.3"
  }
 },
 "nbformat": 4,
 "nbformat_minor": 1
}
