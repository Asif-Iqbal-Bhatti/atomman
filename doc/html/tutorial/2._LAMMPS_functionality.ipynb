{
 "cells": [
  {
   "cell_type": "markdown",
   "metadata": {},
   "source": [
    "# Introduction to atomman: LAMMPS functionality\n",
    "\n",
    "__Lucas M. Hale__, [lucas.hale@nist.gov](mailto:lucas.hale@nist.gov?Subject=ipr-demo), _Materials Science and Engineering Division, NIST_.\n",
    "    \n",
    "[Disclaimers](http://www.nist.gov/public_affairs/disclaimer.cfm)"
   ]
  },
  {
   "cell_type": "markdown",
   "metadata": {},
   "source": [
    "## 1. Introduction<a id='section1'></a>\n",
    "\n",
    "This Notebook provides an introduction to interacting with LAMMPS using atomman by working through a demonstration simulation."
   ]
  },
  {
   "cell_type": "markdown",
   "metadata": {},
   "source": [
    "**Library Imports**"
   ]
  },
  {
   "cell_type": "code",
   "execution_count": 1,
   "metadata": {},
   "outputs": [
    {
     "name": "stdout",
     "output_type": "stream",
     "text": [
      "atomman version = 1.4.4\n",
      "Notebook executed on 2022-03-17\n"
     ]
    }
   ],
   "source": [
    "# Standard libraries\n",
    "from pathlib import Path\n",
    "import datetime\n",
    "\n",
    "# http://www.numpy.org/\n",
    "import numpy as np             \n",
    "\n",
    "# http://matplotlib.org/\n",
    "import matplotlib.pyplot as plt \n",
    "%matplotlib inline\n",
    "\n",
    "# https://github.com/usnistgov/atomman\n",
    "import atomman as am            \n",
    "import atomman.lammps as lmp\n",
    "import atomman.unitconvert as uc\n",
    "\n",
    "# Show atomman version\n",
    "print('atomman version =', am.__version__)\n",
    "\n",
    "# Show date of Notebook execution\n",
    "print('Notebook executed on', datetime.date.today())"
   ]
  },
  {
   "cell_type": "markdown",
   "metadata": {},
   "source": [
    "## 2. Interatomic Potential Control<a id='section2'></a>\n",
    "\n",
    "LAMMPS is capable of using a wide array of interatomic potential styles, which are defined through a combination of LAMMPS commands and potential parameter files.  In atomman, the LAMMPS commands can be automatically generated using the Potentials class and structured data model files."
   ]
  },
  {
   "cell_type": "markdown",
   "metadata": {},
   "source": [
    "### 2.1. Load potential from database\n",
    "\n",
    "Any LAMMPS-compatible potential in the NIST Interatomic Potentials Repository can be loaded/downloaded using load_lammps_potential().  "
   ]
  },
  {
   "cell_type": "code",
   "execution_count": 2,
   "metadata": {},
   "outputs": [],
   "source": [
    "# Load potential based on its unique ID\n",
    "pot_id = '2015--Pascuet-M-I--Al--LAMMPS--ipr1'\n",
    "potential = am.load_lammps_potential(id=pot_id, getfiles=True)"
   ]
  },
  {
   "cell_type": "markdown",
   "metadata": {},
   "source": [
    "### 2.2. Potential parameter files\n",
    "\n",
    "Setting getfiles=True will copy/download the potential parameter files from the local/remote library database to the current working directory in a subfolder matching the potential's id."
   ]
  },
  {
   "cell_type": "code",
   "execution_count": 3,
   "metadata": {},
   "outputs": [
    {
     "name": "stdout",
     "output_type": "stream",
     "text": [
      "2015--Pascuet-M-I--Al--LAMMPS--ipr1\\Al.meam\n",
      "re(1,1) =   2.86378\n",
      "attrac(1,1) = 0.39558\n",
      "repuls(1,1) = 0.09806\n",
      "Cmin(1,1,1) = 1.00769\n",
      "Cmax(1,1,1) = 2.31407\n",
      "#\n",
      "rc = 5.0\n",
      "delr = 0.1\n",
      "augt1 = 1\n",
      "\n",
      "\n",
      "2015--Pascuet-M-I--Al--LAMMPS--ipr1\\library-Al.meam\n",
      "# References:\n",
      "# elt        lat     z       ielement     atwt\n",
      "# alpha      b0      b1      b2           b3    alat    esub    asub\n",
      "# t0         t1              t2           t3            rozero  ibar\n",
      "#\n",
      "'Al'        'fcc'   12.     13           26.9815\n",
      "  4.68604   1.56205   5.39270   5.29601  -1.00047   4.05000   3.35999   1.06859\n",
      "1.0  -1.54917  -1.28508  10.01041 1.0 0 \n",
      "\n",
      "\n"
     ]
    }
   ],
   "source": [
    "for fname in Path(pot_id).glob('*'):\n",
    "    print(fname)\n",
    "    with open(fname) as f:\n",
    "        print(f.read())\n",
    "    print()"
   ]
  },
  {
   "cell_type": "markdown",
   "metadata": {},
   "source": [
    "### 2.3. lammps.Potential Class\n",
    "\n",
    "The load_lammps_potential() function returns a Potential object that can be used to explore properties of the potential and generate LAMMPS input commands."
   ]
  },
  {
   "cell_type": "markdown",
   "metadata": {},
   "source": [
    "Basic properties can be directly obtained."
   ]
  },
  {
   "cell_type": "code",
   "execution_count": 4,
   "metadata": {},
   "outputs": [
    {
     "name": "stdout",
     "output_type": "stream",
     "text": [
      "str(potential) ->        potential_LAMMPS record named 2015--Pascuet-M-I--Al--LAMMPS--ipr1\n",
      "potential.units ->       metal\n",
      "potential.atom_style ->  atomic\n",
      "potential.pair_style ->  meam\n",
      "potential.symbols ->     ['Al']\n",
      "potential.elements() ->  ['Al']\n",
      "potential.masses() ->    [26.9815]\n"
     ]
    }
   ],
   "source": [
    "# Show that basic properties can be directly obtained\n",
    "print('str(potential) ->       ', potential)\n",
    "print('potential.units ->      ', potential.units)\n",
    "print('potential.atom_style -> ', potential.atom_style)\n",
    "print('potential.pair_style -> ', potential.pair_style)\n",
    "print('potential.symbols ->    ', potential.symbols)\n",
    "print('potential.elements() -> ', potential.elements())\n",
    "print('potential.masses() ->   ', potential.masses())"
   ]
  },
  {
   "cell_type": "markdown",
   "metadata": {},
   "source": [
    "The LAMMPS command lines for the potential are auto-generated based on a list of symbols corresponding to LAMMPS atom types. This fully works for all LAMMPS pair_styles, with only the hybrid and hybrid/overlay styles having limitations."
   ]
  },
  {
   "cell_type": "code",
   "execution_count": 5,
   "metadata": {},
   "outputs": [
    {
     "name": "stdout",
     "output_type": "stream",
     "text": [
      "potential.pair_info() ->\n",
      "print \"Potential 2015--Pascuet-M-I--Al--LAMMPS--ipr1 listed in the NIST Interatomic Potentials Repository:\"\n",
      "print \"https://www.ctcms.nist.gov/potentials/entry/2015--Pascuet-M-I-Fernandez-J-R--Al/2015--Pascuet-M-I--Al--LAMMPS--ipr1.html\"\n",
      "print \"Publication(s) related to the potential:\"\n",
      "print \"https://doi.org/10.1016/j.jnucmat.2015.09.030\"\n",
      "print \"Parameter file(s) can be downloaded at:\"\n",
      "print \"https://www.ctcms.nist.gov/potentials/Download/2015--Pascuet-M-I-Fernandez-J-R--Al/1/Al.meam\"\n",
      "print \"https://www.ctcms.nist.gov/potentials/Download/2015--Pascuet-M-I-Fernandez-J-R--Al/1/library-Al.meam\"\n",
      "pair_style meam\n",
      "pair_coeff * * 2015--Pascuet-M-I--Al--LAMMPS--ipr1\\library-Al.meam Al 2015--Pascuet-M-I--Al--LAMMPS--ipr1\\Al.meam Al\n",
      "mass 1 26.9815\n",
      "\n",
      "\n"
     ]
    }
   ],
   "source": [
    "print('potential.pair_info() ->')\n",
    "print(potential.pair_info())"
   ]
  },
  {
   "cell_type": "code",
   "execution_count": 6,
   "metadata": {},
   "outputs": [
    {
     "name": "stdout",
     "output_type": "stream",
     "text": [
      "potential.pair_info(['Al', 'Al', 'Al']) ->\n",
      "print \"Potential 2015--Pascuet-M-I--Al--LAMMPS--ipr1 listed in the NIST Interatomic Potentials Repository:\"\n",
      "print \"https://www.ctcms.nist.gov/potentials/entry/2015--Pascuet-M-I-Fernandez-J-R--Al/2015--Pascuet-M-I--Al--LAMMPS--ipr1.html\"\n",
      "print \"Publication(s) related to the potential:\"\n",
      "print \"https://doi.org/10.1016/j.jnucmat.2015.09.030\"\n",
      "print \"Parameter file(s) can be downloaded at:\"\n",
      "print \"https://www.ctcms.nist.gov/potentials/Download/2015--Pascuet-M-I-Fernandez-J-R--Al/1/Al.meam\"\n",
      "print \"https://www.ctcms.nist.gov/potentials/Download/2015--Pascuet-M-I-Fernandez-J-R--Al/1/library-Al.meam\"\n",
      "pair_style meam\n",
      "pair_coeff * * 2015--Pascuet-M-I--Al--LAMMPS--ipr1\\library-Al.meam Al 2015--Pascuet-M-I--Al--LAMMPS--ipr1\\Al.meam Al Al Al\n",
      "mass 1 26.9815\n",
      "mass 2 26.9815\n",
      "mass 3 26.9815\n",
      "\n",
      "\n"
     ]
    }
   ],
   "source": [
    "print(\"potential.pair_info(['Al', 'Al', 'Al']) ->\")\n",
    "print(potential.pair_info(['Al', 'Al', 'Al']))"
   ]
  },
  {
   "cell_type": "markdown",
   "metadata": {},
   "source": [
    "## 3. Generate initial system<a id='section3'></a>"
   ]
  },
  {
   "cell_type": "markdown",
   "metadata": {},
   "source": [
    "### 3.1. Load relaxed crystal \n",
    "\n",
    "A crystalline system can be easily generated using a unit cell system either defined in atomman, imported from another format, or accessed from the potentials database.  For simplicity, here we will get the relaxed fcc structure for the potential."
   ]
  },
  {
   "cell_type": "markdown",
   "metadata": {},
   "source": [
    "Load fcc prototype with Al lattice constant"
   ]
  },
  {
   "cell_type": "code",
   "execution_count": 7,
   "metadata": {},
   "outputs": [
    {
     "name": "stdout",
     "output_type": "stream",
     "text": [
      "avect =  [ 4.050,  0.000,  0.000]\n",
      "bvect =  [ 0.000,  4.050,  0.000]\n",
      "cvect =  [ 0.000,  0.000,  4.050]\n",
      "origin = [ 0.000,  0.000,  0.000]\n",
      "natoms = 4\n",
      "natypes = 1\n",
      "symbols = ('Al',)\n",
      "pbc = [ True  True  True]\n",
      "per-atom properties = ['atype', 'pos']\n",
      "     id |   atype |  pos[0] |  pos[1] |  pos[2]\n",
      "      0 |       1 |   0.000 |   0.000 |   0.000\n",
      "      1 |       1 |   0.000 |   2.025 |   2.025\n",
      "      2 |       1 |   2.025 |   0.000 |   2.025\n",
      "      3 |       1 |   2.025 |   2.025 |   0.000\n"
     ]
    }
   ],
   "source": [
    "system = am.load('crystal', family='A1--Cu--fcc', potential=potential)\n",
    "print(system)"
   ]
  },
  {
   "cell_type": "markdown",
   "metadata": {},
   "source": [
    "### 3.2. Manipulate system\n",
    "\n",
    "More complicated atomic configurations can then be generated by manipulating the seed system and the atoms contained within. Here, we'll limit the manipulations to making the system a 3x3x3 supercell of itself."
   ]
  },
  {
   "cell_type": "code",
   "execution_count": 8,
   "metadata": {},
   "outputs": [
    {
     "name": "stdout",
     "output_type": "stream",
     "text": [
      "Supercell has 108 atoms\n"
     ]
    }
   ],
   "source": [
    "system = system.supersize(3,3,3)\n",
    "print('Supercell has', system.natoms, 'atoms')"
   ]
  },
  {
   "cell_type": "markdown",
   "metadata": {},
   "source": [
    "### 3.3. Save to atom data file\n",
    "\n",
    "System.dump('atom_data') outputs the system to a LAMMPS atom data file. Quick notes on the parameters used here\n",
    "\n",
    "- Giving potential allows for the appropriate units and atom_style settings to be used.\n",
    "- The float_format value used here is a small precision to enhance clarity of print statements below. Typically, the precision should be large (default value is '%.13f').\n",
    "- Setting return_pair_info=True will return the LAMMPS commands for both the system and the potential together.  This is the preferred method as it ensures compatibility with all potential pair styles currently in the database."
   ]
  },
  {
   "cell_type": "code",
   "execution_count": 9,
   "metadata": {},
   "outputs": [],
   "source": [
    "# Save System to 'atom.dat' atom data file \n",
    "system_pair_info = system.dump('atom_data', f='atom.dat',\n",
    "                          potential=potential,\n",
    "                          float_format='%.4f',    # Remove or make larger precision for real runs!\n",
    "                          )"
   ]
  },
  {
   "cell_type": "markdown",
   "metadata": {},
   "source": [
    "Show the returned LAMMPS command lines"
   ]
  },
  {
   "cell_type": "code",
   "execution_count": 10,
   "metadata": {},
   "outputs": [
    {
     "name": "stdout",
     "output_type": "stream",
     "text": [
      "units metal\n",
      "atom_style atomic\n",
      "\n",
      "boundary p p p\n",
      "read_data atom.dat\n",
      "\n",
      "print \"Potential 2015--Pascuet-M-I--Al--LAMMPS--ipr1 listed in the NIST Interatomic Potentials Repository:\"\n",
      "print \"https://www.ctcms.nist.gov/potentials/entry/2015--Pascuet-M-I-Fernandez-J-R--Al/2015--Pascuet-M-I--Al--LAMMPS--ipr1.html\"\n",
      "print \"Publication(s) related to the potential:\"\n",
      "print \"https://doi.org/10.1016/j.jnucmat.2015.09.030\"\n",
      "print \"Parameter file(s) can be downloaded at:\"\n",
      "print \"https://www.ctcms.nist.gov/potentials/Download/2015--Pascuet-M-I-Fernandez-J-R--Al/1/Al.meam\"\n",
      "print \"https://www.ctcms.nist.gov/potentials/Download/2015--Pascuet-M-I-Fernandez-J-R--Al/1/library-Al.meam\"\n",
      "pair_style meam\n",
      "pair_coeff * * 2015--Pascuet-M-I--Al--LAMMPS--ipr1\\library-Al.meam Al 2015--Pascuet-M-I--Al--LAMMPS--ipr1\\Al.meam Al\n",
      "mass 1 26.9815\n",
      "\n",
      "\n"
     ]
    }
   ],
   "source": [
    "print(system_pair_info)"
   ]
  },
  {
   "cell_type": "markdown",
   "metadata": {},
   "source": [
    "Show the contents of the data file"
   ]
  },
  {
   "cell_type": "code",
   "execution_count": 11,
   "metadata": {},
   "outputs": [
    {
     "name": "stdout",
     "output_type": "stream",
     "text": [
      "\n",
      "108 atoms\n",
      "1 atom types\n",
      "0.0000 12.1500 xlo xhi\n",
      "0.0000 12.1500 ylo yhi\n",
      "0.0000 12.1500 zlo zhi\n",
      "\n",
      "Atoms # atomic\n",
      "\n",
      "1 1 0.0000 0.0000 0.0000\n",
      "2 1 0.0000 2.0250 2.0250\n",
      "3 1 2.0250 0.0000 2.0250\n",
      "4 1 2.0250 2.0250 0.0000\n",
      "5 1 4.0500 0.0000 0.0000\n",
      "6 1 4.0500 2.0250 2.0250\n",
      "7 1 6.0750 0.0000 2.0250\n",
      "8 1 6.0750 2.0250 0.0000\n",
      "9 1 8.1000 0.0000 0.0000\n",
      "10 1 8.1000 2.0250 2.0250\n",
      "11 1 10.1250 0.0000 2.0250\n",
      "12 1 10.1250 2.0250 0.0000\n",
      "13 1 0.0000 4.0500 0.0000\n",
      "14 1 0.0000 6.0750 2.0250\n",
      "15 1 2.0250 4.0500 2.0250\n",
      "16 1 2.0250 6.0750 0.0000\n",
      "17 1 4.0500 4.0500 0.0000\n",
      "18 1 4.0500 6.0750 2.0250\n",
      "19 1 6.0750 4.0500 2.0250\n",
      "20 1 6.0750 6.0750 0.0000\n",
      "21 1 8.1000 4.0500 0.0000\n",
      "22 1 8.1000 6.0750 2.0250\n",
      "23 1 10.1250 4.0500 2.0250\n",
      "24 1 10.1250 6.0750 0.0000\n",
      "25 1 0.0000 8.1000 0.0000\n",
      "26 1 0.0000 10.1250 2.0250\n",
      "27 1 2.0250 8.1000 2.0250\n",
      "28 1 2.0250 10.1250 0.0000\n",
      "29 1 4.0500 8.1000 0.0000\n",
      "30 1 4.0500 10.1250 2.0250\n",
      "31 1 6.0750 8.1000 2.0250\n",
      "32 1 6.0750 10.1250 0.0000\n",
      "33 1 8.1000 8.1000 0.0000\n",
      "34 1 8.1000 10.1250 2.0250\n",
      "35 1 10.1250 8.1000 2.0250\n",
      "36 1 10.1250 10.1250 0.0000\n",
      "37 1 0.0000 0.0000 4.0500\n",
      "38 1 0.0000 2.0250 6.0750\n",
      "39 1 2.0250 0.0000 6.0750\n",
      "40 1 2.0250 2.0250 4.0500\n",
      "41 1 4.0500 0.0000 4.0500\n",
      "42 1 4.0500 2.0250 6.0750\n",
      "43 1 6.0750 0.0000 6.0750\n",
      "44 1 6.0750 2.0250 4.0500\n",
      "45 1 8.1000 0.0000 4.0500\n",
      "46 1 8.1000 2.0250 6.0750\n",
      "47 1 10.1250 0.0000 6.0750\n",
      "48 1 10.1250 2.0250 4.0500\n",
      "49 1 0.0000 4.0500 4.0500\n",
      "50 1 0.0000 6.0750 6.0750\n",
      "51 1 2.0250 4.0500 6.0750\n",
      "52 1 2.0250 6.0750 4.0500\n",
      "53 1 4.0500 4.0500 4.0500\n",
      "54 1 4.0500 6.0750 6.0750\n",
      "55 1 6.0750 4.0500 6.0750\n",
      "56 1 6.0750 6.0750 4.0500\n",
      "57 1 8.1000 4.0500 4.0500\n",
      "58 1 8.1000 6.0750 6.0750\n",
      "59 1 10.1250 4.0500 6.0750\n",
      "60 1 10.1250 6.0750 4.0500\n",
      "61 1 0.0000 8.1000 4.0500\n",
      "62 1 0.0000 10.1250 6.0750\n",
      "63 1 2.0250 8.1000 6.0750\n",
      "64 1 2.0250 10.1250 4.0500\n",
      "65 1 4.0500 8.1000 4.0500\n",
      "66 1 4.0500 10.1250 6.0750\n",
      "67 1 6.0750 8.1000 6.0750\n",
      "68 1 6.0750 10.1250 4.0500\n",
      "69 1 8.1000 8.1000 4.0500\n",
      "70 1 8.1000 10.1250 6.0750\n",
      "71 1 10.1250 8.1000 6.0750\n",
      "72 1 10.1250 10.1250 4.0500\n",
      "73 1 0.0000 0.0000 8.1000\n",
      "74 1 0.0000 2.0250 10.1250\n",
      "75 1 2.0250 0.0000 10.1250\n",
      "76 1 2.0250 2.0250 8.1000\n",
      "77 1 4.0500 0.0000 8.1000\n",
      "78 1 4.0500 2.0250 10.1250\n",
      "79 1 6.0750 0.0000 10.1250\n",
      "80 1 6.0750 2.0250 8.1000\n",
      "81 1 8.1000 0.0000 8.1000\n",
      "82 1 8.1000 2.0250 10.1250\n",
      "83 1 10.1250 0.0000 10.1250\n",
      "84 1 10.1250 2.0250 8.1000\n",
      "85 1 0.0000 4.0500 8.1000\n",
      "86 1 0.0000 6.0750 10.1250\n",
      "87 1 2.0250 4.0500 10.1250\n",
      "88 1 2.0250 6.0750 8.1000\n",
      "89 1 4.0500 4.0500 8.1000\n",
      "90 1 4.0500 6.0750 10.1250\n",
      "91 1 6.0750 4.0500 10.1250\n",
      "92 1 6.0750 6.0750 8.1000\n",
      "93 1 8.1000 4.0500 8.1000\n",
      "94 1 8.1000 6.0750 10.1250\n",
      "95 1 10.1250 4.0500 10.1250\n",
      "96 1 10.1250 6.0750 8.1000\n",
      "97 1 0.0000 8.1000 8.1000\n",
      "98 1 0.0000 10.1250 10.1250\n",
      "99 1 2.0250 8.1000 10.1250\n",
      "100 1 2.0250 10.1250 8.1000\n",
      "101 1 4.0500 8.1000 8.1000\n",
      "102 1 4.0500 10.1250 10.1250\n",
      "103 1 6.0750 8.1000 10.1250\n",
      "104 1 6.0750 10.1250 8.1000\n",
      "105 1 8.1000 8.1000 8.1000\n",
      "106 1 8.1000 10.1250 10.1250\n",
      "107 1 10.1250 8.1000 10.1250\n",
      "108 1 10.1250 10.1250 8.1000\n",
      "\n"
     ]
    }
   ],
   "source": [
    "with open('atom.dat') as f:\n",
    "    print(f.read())"
   ]
  },
  {
   "cell_type": "markdown",
   "metadata": {},
   "source": [
    "## 4. Converting to/from LAMMPS units<a id='section4'></a>\n",
    "\n",
    "LAMMPS performs its calculations with values in one of multiple sets of pre-defined units.  The atomman.lammps.style submodule has some useful functions when working with different units options.\n",
    "\n",
    "**atomman.lammps.style.timestep()**\n",
    "\n",
    "The lammps.style.timestep() function returns the default timestep value for a given LAMMPS units option.\n",
    "\n",
    "Parameters\n",
    "\n",
    "- **units** (*str*) the LAMMPS units option being used.\n",
    "\n",
    "**atomman.lammps.style.unit()**\n",
    "\n",
    "The lammps.style.unit() function returns a dictionary giving the units associated with physical quantities as used by LAMMPS with a given units option.\n",
    "\n",
    "Parameters\n",
    "\n",
    "- **units** (*str*) the LAMMPS units option being used."
   ]
  },
  {
   "cell_type": "code",
   "execution_count": 12,
   "metadata": {},
   "outputs": [
    {
     "name": "stdout",
     "output_type": "stream",
     "text": [
      "0.001\n"
     ]
    }
   ],
   "source": [
    "timestep = lmp.style.timestep(potential.units)\n",
    "print(timestep)"
   ]
  },
  {
   "cell_type": "code",
   "execution_count": 13,
   "metadata": {},
   "outputs": [
    {
     "name": "stdout",
     "output_type": "stream",
     "text": [
      "OrderedDict([('mass', 'g/mol'), ('length', 'angstrom'), ('time', 'ps'), ('energy', 'eV'), ('velocity', 'angstrom/ps'), ('force', 'eV/angstrom'), ('torque', 'eV'), ('temperature', 'K'), ('pressure', 'bar'), ('dynamic viscosity', 'Pa*s/10'), ('charge', 'e'), ('dipole', 'e*angstrom'), ('electric field', 'V/angstrom'), ('density', 'g/cm^3'), ('ang-mom', 'angstrom*angstrom/ps*g/mol'), ('ang-vel', '1/ps')])\n"
     ]
    }
   ],
   "source": [
    "lammps_unit = lmp.style.unit(potential.units)\n",
    "print(lammps_unit)"
   ]
  },
  {
   "cell_type": "markdown",
   "metadata": {},
   "source": [
    "## 5. Composing LAMMPS Input Scripts<a id='section5'></a>\n",
    "\n",
    "LAMMPS scripts can easily be constructed by combining the system_info generated from System.dump('atom_data'), the pair_info from Potential.pair_info(), and any user-defined input lines.  This allows for specific simulation actions to easily be perfored across different potentials or initial configurations."
   ]
  },
  {
   "cell_type": "markdown",
   "metadata": {},
   "source": [
    "### 5.1. Show content generated in previous sections"
   ]
  },
  {
   "cell_type": "markdown",
   "metadata": {},
   "source": [
    "Show system_pair_info generated in Section 3.3."
   ]
  },
  {
   "cell_type": "code",
   "execution_count": 14,
   "metadata": {},
   "outputs": [
    {
     "name": "stdout",
     "output_type": "stream",
     "text": [
      "units metal\n",
      "atom_style atomic\n",
      "\n",
      "boundary p p p\n",
      "read_data atom.dat\n",
      "\n",
      "print \"Potential 2015--Pascuet-M-I--Al--LAMMPS--ipr1 listed in the NIST Interatomic Potentials Repository:\"\n",
      "print \"https://www.ctcms.nist.gov/potentials/entry/2015--Pascuet-M-I-Fernandez-J-R--Al/2015--Pascuet-M-I--Al--LAMMPS--ipr1.html\"\n",
      "print \"Publication(s) related to the potential:\"\n",
      "print \"https://doi.org/10.1016/j.jnucmat.2015.09.030\"\n",
      "print \"Parameter file(s) can be downloaded at:\"\n",
      "print \"https://www.ctcms.nist.gov/potentials/Download/2015--Pascuet-M-I-Fernandez-J-R--Al/1/Al.meam\"\n",
      "print \"https://www.ctcms.nist.gov/potentials/Download/2015--Pascuet-M-I-Fernandez-J-R--Al/1/library-Al.meam\"\n",
      "pair_style meam\n",
      "pair_coeff * * 2015--Pascuet-M-I--Al--LAMMPS--ipr1\\library-Al.meam Al 2015--Pascuet-M-I--Al--LAMMPS--ipr1\\Al.meam Al\n",
      "mass 1 26.9815\n",
      "\n",
      "\n"
     ]
    }
   ],
   "source": [
    "print(system_pair_info)"
   ]
  },
  {
   "cell_type": "markdown",
   "metadata": {},
   "source": [
    "### 5.2. Write LAMMPS input script template\n",
    "\n",
    "LAMMPS scripts can be dynamically generated using Python functions or templates that take the above info lines and other values as parameters. Here, we demonstrate a LAMMPS input template script where all fields to be filled in in Python are delimited with <> brackets."
   ]
  },
  {
   "cell_type": "code",
   "execution_count": 15,
   "metadata": {},
   "outputs": [],
   "source": [
    "template = \"\"\"\n",
    "<system_pair_info>\n",
    "\n",
    "# Define temperature and dependent variables\n",
    "variable T equal <temperature>\n",
    "variable twoT equal 2*$T\n",
    "\n",
    "# Define equilibrium pressure\n",
    "variable P equal <pressure>\n",
    "\n",
    "# Define timestep and dependent variables\n",
    "variable deltat equal <timestep>\n",
    "variable Trelax equal 100*${deltat}\n",
    "variable Prelax equal 1000*${deltat}\n",
    "\n",
    "# Initialize atomic velocities with twoT\n",
    "velocity all create ${twoT} 124352\n",
    "\n",
    "# Define thermo steps and properties\n",
    "thermo 100\n",
    "thermo_style custom step temp press lx ly lz\n",
    "\n",
    "# Define dump \n",
    "dump mydump all atom 100000 *.dump\n",
    "\n",
    "# Specify timestep\n",
    "timestep ${deltat}\n",
    "\n",
    "# Apply npt conditions\n",
    "fix 1 all npt temp $T $T ${Trelax} iso $P $P ${Prelax}\n",
    "\n",
    "# Run simulation\n",
    "run 100000\n",
    "\"\"\"           "
   ]
  },
  {
   "cell_type": "markdown",
   "metadata": {},
   "source": [
    "### 5.3. Fill in the template with atomman.tools.filltemplate()\n",
    "\n",
    "The template can then be easily filled in with the atomman.tools.filltemplate() function. \n",
    "\n",
    "Parameters\n",
    "\n",
    "- **template** (*str or file-like object*) is the template to fill in.\n",
    "\n",
    "- **variable** (*dict*) gives the delimited keys and corresponding values to insert into the template.\n",
    "\n",
    "- **s_delimiter** (*str*) the starting delimiter for identifying variable names.\n",
    "\n",
    "- **e_delimiter** (*str*) the ending delimiter for identifying variable names."
   ]
  },
  {
   "cell_type": "markdown",
   "metadata": {},
   "source": [
    "Build dictionary of template variables"
   ]
  },
  {
   "cell_type": "code",
   "execution_count": 16,
   "metadata": {},
   "outputs": [
    {
     "name": "stdout",
     "output_type": "stream",
     "text": [
      "{'system_pair_info': 'units metal\\natom_style atomic\\n\\nboundary p p p\\nread_data atom.dat\\n\\nprint \"Potential 2015--Pascuet-M-I--Al--LAMMPS--ipr1 listed in the NIST Interatomic Potentials Repository:\"\\nprint \"https://www.ctcms.nist.gov/potentials/entry/2015--Pascuet-M-I-Fernandez-J-R--Al/2015--Pascuet-M-I--Al--LAMMPS--ipr1.html\"\\nprint \"Publication(s) related to the potential:\"\\nprint \"https://doi.org/10.1016/j.jnucmat.2015.09.030\"\\nprint \"Parameter file(s) can be downloaded at:\"\\nprint \"https://www.ctcms.nist.gov/potentials/Download/2015--Pascuet-M-I-Fernandez-J-R--Al/1/Al.meam\"\\nprint \"https://www.ctcms.nist.gov/potentials/Download/2015--Pascuet-M-I-Fernandez-J-R--Al/1/library-Al.meam\"\\npair_style meam\\npair_coeff * * 2015--Pascuet-M-I--Al--LAMMPS--ipr1\\\\library-Al.meam Al 2015--Pascuet-M-I--Al--LAMMPS--ipr1\\\\Al.meam Al\\nmass 1 26.9815\\n\\n', 'timestep': 0.001, 'temperature': 100, 'pressure': 0.0}\n"
     ]
    }
   ],
   "source": [
    "lammps_variable = {}\n",
    "\n",
    "# Generated above\n",
    "lammps_variable['system_pair_info'] = system_pair_info\n",
    "\n",
    "# Set timestep to default value for LAMMPS units\n",
    "lammps_variable['timestep'] = lmp.style.timestep(units=potential.units)\n",
    "\n",
    "# Specify temperature to equilibriate at (always in Kelvin)\n",
    "lammps_variable['temperature'] = 100\n",
    "\n",
    "# Specify pressure to equilibriate at\n",
    "pressure = uc.set_in_units(0.0, 'MPa')\n",
    "lammps_variable['pressure'] = uc.get_in_units(pressure, lammps_unit['pressure'])\n",
    "\n",
    "print(lammps_variable)"
   ]
  },
  {
   "cell_type": "markdown",
   "metadata": {},
   "source": [
    "Fill in template"
   ]
  },
  {
   "cell_type": "code",
   "execution_count": 17,
   "metadata": {},
   "outputs": [
    {
     "name": "stdout",
     "output_type": "stream",
     "text": [
      "\n",
      "units metal\n",
      "atom_style atomic\n",
      "\n",
      "boundary p p p\n",
      "read_data atom.dat\n",
      "\n",
      "print \"Potential 2015--Pascuet-M-I--Al--LAMMPS--ipr1 listed in the NIST Interatomic Potentials Repository:\"\n",
      "print \"https://www.ctcms.nist.gov/potentials/entry/2015--Pascuet-M-I-Fernandez-J-R--Al/2015--Pascuet-M-I--Al--LAMMPS--ipr1.html\"\n",
      "print \"Publication(s) related to the potential:\"\n",
      "print \"https://doi.org/10.1016/j.jnucmat.2015.09.030\"\n",
      "print \"Parameter file(s) can be downloaded at:\"\n",
      "print \"https://www.ctcms.nist.gov/potentials/Download/2015--Pascuet-M-I-Fernandez-J-R--Al/1/Al.meam\"\n",
      "print \"https://www.ctcms.nist.gov/potentials/Download/2015--Pascuet-M-I-Fernandez-J-R--Al/1/library-Al.meam\"\n",
      "pair_style meam\n",
      "pair_coeff * * 2015--Pascuet-M-I--Al--LAMMPS--ipr1\\library-Al.meam Al 2015--Pascuet-M-I--Al--LAMMPS--ipr1\\Al.meam Al\n",
      "mass 1 26.9815\n",
      "\n",
      "\n",
      "\n",
      "# Define temperature and dependent variables\n",
      "variable T equal 100\n",
      "variable twoT equal 2*$T\n",
      "\n",
      "# Define equilibrium pressure\n",
      "variable P equal 0.0\n",
      "\n",
      "# Define timestep and dependent variables\n",
      "variable deltat equal 0.001\n",
      "variable Trelax equal 100*${deltat}\n",
      "variable Prelax equal 1000*${deltat}\n",
      "\n",
      "# Initialize atomic velocities with twoT\n",
      "velocity all create ${twoT} 124352\n",
      "\n",
      "# Define thermo steps and properties\n",
      "thermo 100\n",
      "thermo_style custom step temp press lx ly lz\n",
      "\n",
      "# Define dump \n",
      "dump mydump all atom 100000 *.dump\n",
      "\n",
      "# Specify timestep\n",
      "timestep ${deltat}\n",
      "\n",
      "# Apply npt conditions\n",
      "fix 1 all npt temp $T $T ${Trelax} iso $P $P ${Prelax}\n",
      "\n",
      "# Run simulation\n",
      "run 100000\n",
      "\n"
     ]
    }
   ],
   "source": [
    "# Generate script from template and lammps_variable\n",
    "script = am.tools.filltemplate(template, lammps_variable, '<', '>')\n",
    "\n",
    "# Save script to 'nvt.in'\n",
    "with open('nvt.in', 'w') as f:\n",
    "    f.write(script)\n",
    "\n",
    "# Show contents of 'nvt.in'    \n",
    "with open('nvt.in') as f:\n",
    "    print(f.read())"
   ]
  },
  {
   "cell_type": "markdown",
   "metadata": {},
   "source": [
    "## 6. Run LAMMPS<a id='section6'></a>\n",
    "\n",
    "The LAMMPS simulation can be ran from within Python using the run() function."
   ]
  },
  {
   "cell_type": "markdown",
   "metadata": {},
   "source": [
    "Specify your lammps executable"
   ]
  },
  {
   "cell_type": "code",
   "execution_count": 18,
   "metadata": {},
   "outputs": [],
   "source": [
    "lammps_exe = 'lmp_serial'"
   ]
  },
  {
   "cell_type": "markdown",
   "metadata": {},
   "source": [
    "Run the simulation "
   ]
  },
  {
   "cell_type": "code",
   "execution_count": 19,
   "metadata": {},
   "outputs": [],
   "source": [
    "output = lmp.run(lammps_exe, 'nvt.in')"
   ]
  },
  {
   "cell_type": "markdown",
   "metadata": {},
   "source": [
    "The resulting simulation data is returned as a Log object, which containes the thermo data from the log.lammps files. "
   ]
  },
  {
   "cell_type": "markdown",
   "metadata": {},
   "source": [
    "## 7. Analyzing Thermo Results<a id='section7'></a>\n",
    "\n",
    "Data for each simulation run/minimization is stored in the returned Log object.  Each Simulation has a thermo property that is a pandas.DataFrame of the LAMMPS thermo data.\n",
    "\n",
    "*Updated version 1.3.7*: Each simulation is now represented using a Simulation class rather than a dictionary."
   ]
  },
  {
   "cell_type": "markdown",
   "metadata": {},
   "source": [
    "Show thermo data column names for the first (and only) simulation run."
   ]
  },
  {
   "cell_type": "code",
   "execution_count": 20,
   "metadata": {},
   "outputs": [
    {
     "name": "stdout",
     "output_type": "stream",
     "text": [
      "['Step', 'Temp', 'Press', 'Lx', 'Ly', 'Lz']\n"
     ]
    }
   ],
   "source": [
    "print(list(output.simulations[0].thermo.keys()))"
   ]
  },
  {
   "cell_type": "markdown",
   "metadata": {},
   "source": [
    "For backwards compatibility, the thermo can also be accessed as if the simulation was still a dictionary."
   ]
  },
  {
   "cell_type": "code",
   "execution_count": 21,
   "metadata": {},
   "outputs": [
    {
     "name": "stdout",
     "output_type": "stream",
     "text": [
      "['Step', 'Temp', 'Press', 'Lx', 'Ly', 'Lz']\n"
     ]
    }
   ],
   "source": [
    "print(list(output.simulations[0]['thermo'].keys()))"
   ]
  },
  {
   "cell_type": "markdown",
   "metadata": {},
   "source": [
    "Plot temperature vs. run step"
   ]
  },
  {
   "cell_type": "code",
   "execution_count": 22,
   "metadata": {},
   "outputs": [
    {
     "data": {
      "image/png": "[encoded data removed]",
      "text/plain": [
       "<Figure size 432x288 with 1 Axes>"
      ]
     },
     "metadata": {
      "needs_background": "light"
     },
     "output_type": "display_data"
    }
   ],
   "source": [
    "# Pull out data\n",
    "steps = output.simulations[0].thermo.Step\n",
    "temps = output.simulations[0].thermo.Temp\n",
    "\n",
    "# Plot\n",
    "plt.plot(steps, temps)\n",
    "plt.xlabel('Step')\n",
    "plt.ylabel('Temperature (K)')\n",
    "plt.show()"
   ]
  },
  {
   "cell_type": "markdown",
   "metadata": {},
   "source": [
    "Plot pressure vs. run step (note unit conversions)"
   ]
  },
  {
   "cell_type": "code",
   "execution_count": 23,
   "metadata": {},
   "outputs": [
    {
     "data": {
      "image/png": "[encoded data removed]",
      "text/plain": [
       "<Figure size 432x288 with 1 Axes>"
      ]
     },
     "metadata": {
      "needs_background": "light"
     },
     "output_type": "display_data"
    }
   ],
   "source": [
    "# Convert steps to time in atomman working units\n",
    "steps = output.simulations[0].thermo.Step\n",
    "time = uc.set_in_units(timestep, lammps_unit['time']) * steps\n",
    "\n",
    "# Convert press to atomman working units\n",
    "press = uc.set_in_units(output.simulations[0].thermo.Press, lammps_unit['pressure'])\n",
    "\n",
    "# Plot in ps and GPa\n",
    "plt.plot(uc.get_in_units(steps, 'ps'), uc.get_in_units(press, 'GPa'))\n",
    "plt.xlabel('Time (ps)')\n",
    "plt.ylabel('Pressure (GPa)')\n",
    "plt.show()"
   ]
  },
  {
   "cell_type": "markdown",
   "metadata": {},
   "source": [
    "## 8 Reading in dump files <a id='section8'></a>\n",
    "\n",
    "Finally, any dump files generated by the LAMMPS simulation can be loaded into atomman as Systems.  "
   ]
  },
  {
   "cell_type": "code",
   "execution_count": 24,
   "metadata": {},
   "outputs": [
    {
     "name": "stdout",
     "output_type": "stream",
     "text": [
      "avect =  [12.191,  0.000,  0.000]\n",
      "bvect =  [ 0.000, 12.191,  0.000]\n",
      "cvect =  [ 0.000,  0.000, 12.191]\n",
      "origin = [-0.021, -0.021, -0.021]\n"
     ]
    },
    {
     "data": {
      "text/html": [
       "<div>\n",
       "<style scoped>\n",
       "    .dataframe tbody tr th:only-of-type {\n",
       "        vertical-align: middle;\n",
       "    }\n",
       "\n",
       "    .dataframe tbody tr th {\n",
       "        vertical-align: top;\n",
       "    }\n",
       "\n",
       "    .dataframe thead th {\n",
       "        text-align: right;\n",
       "    }\n",
       "</style>\n",
       "<table border=\"1\" class=\"dataframe\">\n",
       "  <thead>\n",
       "    <tr style=\"text-align: right;\">\n",
       "      <th></th>\n",
       "      <th>atype</th>\n",
       "      <th>pos[0]</th>\n",
       "      <th>pos[1]</th>\n",
       "      <th>pos[2]</th>\n",
       "      <th>atom_id</th>\n",
       "    </tr>\n",
       "  </thead>\n",
       "  <tbody>\n",
       "    <tr>\n",
       "      <th>0</th>\n",
       "      <td>1</td>\n",
       "      <td>0.003687</td>\n",
       "      <td>-0.060490</td>\n",
       "      <td>-0.023425</td>\n",
       "      <td>1</td>\n",
       "    </tr>\n",
       "    <tr>\n",
       "      <th>1</th>\n",
       "      <td>1</td>\n",
       "      <td>-0.054033</td>\n",
       "      <td>2.032270</td>\n",
       "      <td>1.997684</td>\n",
       "      <td>2</td>\n",
       "    </tr>\n",
       "    <tr>\n",
       "      <th>2</th>\n",
       "      <td>1</td>\n",
       "      <td>2.055068</td>\n",
       "      <td>0.018910</td>\n",
       "      <td>1.980677</td>\n",
       "      <td>3</td>\n",
       "    </tr>\n",
       "    <tr>\n",
       "      <th>3</th>\n",
       "      <td>1</td>\n",
       "      <td>1.997684</td>\n",
       "      <td>2.080987</td>\n",
       "      <td>-0.002075</td>\n",
       "      <td>4</td>\n",
       "    </tr>\n",
       "    <tr>\n",
       "      <th>4</th>\n",
       "      <td>1</td>\n",
       "      <td>4.081188</td>\n",
       "      <td>0.036592</td>\n",
       "      <td>-0.051009</td>\n",
       "      <td>5</td>\n",
       "    </tr>\n",
       "    <tr>\n",
       "      <th>...</th>\n",
       "      <td>...</td>\n",
       "      <td>...</td>\n",
       "      <td>...</td>\n",
       "      <td>...</td>\n",
       "      <td>...</td>\n",
       "    </tr>\n",
       "    <tr>\n",
       "      <th>103</th>\n",
       "      <td>1</td>\n",
       "      <td>6.042340</td>\n",
       "      <td>10.090836</td>\n",
       "      <td>8.060340</td>\n",
       "      <td>104</td>\n",
       "    </tr>\n",
       "    <tr>\n",
       "      <th>104</th>\n",
       "      <td>1</td>\n",
       "      <td>8.037871</td>\n",
       "      <td>8.044527</td>\n",
       "      <td>8.075286</td>\n",
       "      <td>105</td>\n",
       "    </tr>\n",
       "    <tr>\n",
       "      <th>105</th>\n",
       "      <td>1</td>\n",
       "      <td>8.068666</td>\n",
       "      <td>10.122228</td>\n",
       "      <td>10.109220</td>\n",
       "      <td>106</td>\n",
       "    </tr>\n",
       "    <tr>\n",
       "      <th>106</th>\n",
       "      <td>1</td>\n",
       "      <td>10.135773</td>\n",
       "      <td>8.173499</td>\n",
       "      <td>10.091238</td>\n",
       "      <td>107</td>\n",
       "    </tr>\n",
       "    <tr>\n",
       "      <th>107</th>\n",
       "      <td>1</td>\n",
       "      <td>10.139345</td>\n",
       "      <td>10.137333</td>\n",
       "      <td>8.031605</td>\n",
       "      <td>108</td>\n",
       "    </tr>\n",
       "  </tbody>\n",
       "</table>\n",
       "<p>108 rows × 5 columns</p>\n",
       "</div>"
      ],
      "text/plain": [
       "     atype     pos[0]     pos[1]     pos[2]  atom_id\n",
       "0        1   0.003687  -0.060490  -0.023425        1\n",
       "1        1  -0.054033   2.032270   1.997684        2\n",
       "2        1   2.055068   0.018910   1.980677        3\n",
       "3        1   1.997684   2.080987  -0.002075        4\n",
       "4        1   4.081188   0.036592  -0.051009        5\n",
       "..     ...        ...        ...        ...      ...\n",
       "103      1   6.042340  10.090836   8.060340      104\n",
       "104      1   8.037871   8.044527   8.075286      105\n",
       "105      1   8.068666  10.122228  10.109220      106\n",
       "106      1  10.135773   8.173499  10.091238      107\n",
       "107      1  10.139345  10.137333   8.031605      108\n",
       "\n",
       "[108 rows x 5 columns]"
      ]
     },
     "execution_count": 24,
     "metadata": {},
     "output_type": "execute_result"
    }
   ],
   "source": [
    "system = am.load('atom_dump', '100000.dump', symbols='Al')\n",
    "print(system.box)\n",
    "system.atoms_df()"
   ]
  },
  {
   "cell_type": "markdown",
   "metadata": {},
   "source": [
    "**File Cleanup**"
   ]
  },
  {
   "cell_type": "code",
   "execution_count": 25,
   "metadata": {},
   "outputs": [],
   "source": [
    "for fname in Path(pot_id).glob('*'):\n",
    "    fname.unlink()\n",
    "Path(pot_id).rmdir()\n",
    "Path('atom.dat').unlink()\n",
    "Path('nvt.in').unlink()\n",
    "Path('log.lammps').unlink()\n",
    "\n",
    "for fname in Path('.').glob('*.dump'):\n",
    "    fname.unlink()"
   ]
  },
  {
   "cell_type": "markdown",
   "metadata": {},
   "source": [
    "  "
   ]
  }
 ],
 "metadata": {
  "anaconda-cloud": {},
  "kernelspec": {
   "display_name": "Python 3 (ipykernel)",
   "language": "python",
   "name": "python3"
  },
  "language_info": {
   "codemirror_mode": {
    "name": "ipython",
    "version": 3
   },
   "file_extension": ".py",
   "mimetype": "text/x-python",
   "name": "python",
   "nbconvert_exporter": "python",
   "pygments_lexer": "ipython3",
   "version": "3.7.10"
  }
 },
 "nbformat": 4,
 "nbformat_minor": 4
}
