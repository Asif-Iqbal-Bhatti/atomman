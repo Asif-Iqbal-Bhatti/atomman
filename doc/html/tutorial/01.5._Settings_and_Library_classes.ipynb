{
 "cells": [
  {
   "cell_type": "markdown",
   "metadata": {},
   "source": [
    "# Introduction to atomman: Settings and Library\n",
    "\n",
    "__Lucas M. Hale__, [lucas.hale@nist.gov](mailto:lucas.hale@nist.gov?Subject=ipr-demo), _Materials Science and Engineering Division, NIST_.\n",
    "    \n",
    "[Disclaimers](http://www.nist.gov/public_affairs/disclaimer.cfm) "
   ]
  },
  {
   "cell_type": "markdown",
   "metadata": {},
   "source": [
    "## 1. Introduction\n",
    "\n",
    "*Added version 1.3.3*\n",
    "\n",
    "The atomman package inherits Settings and Library from the [potentials package](https://github.com/usnistgov/potentials). The associated classes can be used to manage interactions with the NIST potentials reference library."
   ]
  },
  {
   "cell_type": "markdown",
   "metadata": {},
   "source": [
    "**Library Imports**"
   ]
  },
  {
   "cell_type": "code",
   "execution_count": 1,
   "metadata": {},
   "outputs": [
    {
     "name": "stdout",
     "output_type": "stream",
     "text": [
      "atomman version = 1.3.5\n",
      "Notebook executed on 2020-10-06\n"
     ]
    }
   ],
   "source": [
    "# Standard libraries\n",
    "from pathlib import Path\n",
    "import datetime       \n",
    "\n",
    "# https://github.com/usnistgov/atomman\n",
    "import atomman as am            \n",
    "\n",
    "# Show atomman version\n",
    "print('atomman version =', am.__version__)\n",
    "\n",
    "# Show date of Notebook execution\n",
    "print('Notebook executed on', datetime.date.today())"
   ]
  },
  {
   "cell_type": "markdown",
   "metadata": {},
   "source": [
    "## 2. Settings\n",
    "\n",
    "The atomman.Settings class is a shortcut to the potentials.Settings class.  This allows for atomman, potentials, and iprPy to all share the same settings and local reference library."
   ]
  },
  {
   "cell_type": "code",
   "execution_count": null,
   "metadata": {},
   "outputs": [],
   "source": [
    "settings = am.Settings()\n",
    "\n",
    "# Show that atomman.Settings == potentials.Settings\n",
    "print(repr(settings))"
   ]
  },
  {
   "cell_type": "markdown",
   "metadata": {},
   "source": [
    "### 2.1 Set directory locations\n",
    "\n",
    "- __directory__ is the location where the settings.json file is to be found.  The default directory is .NISTpotentials in the user's home directory.  This can be changed with Settings.set_directory(), but should only be done if multiple users/environments with different home directories are sharing settings.\n",
    "\n",
    "- __library_directory__ is the location where the local library of reference records is located.  By default, this is inside the directory above.  It is recommended that it be set to somewhere more accessible if you wish to examine, modify or add to the reference records."
   ]
  },
  {
   "cell_type": "code",
   "execution_count": 4,
   "metadata": {},
   "outputs": [
    {
     "name": "stdout",
     "output_type": "stream",
     "text": [
      "Settings directory is currently at C:\\Users\\lmh1\\.NISTpotentials\n",
      "Library directory is currently at C:\\Users\\lmh1\\Documents\\library\n"
     ]
    }
   ],
   "source": [
    "print('Settings directory is', settings.directory)\n",
    "print('Library directory is', settings.library_directory)"
   ]
  },
  {
   "cell_type": "code",
   "execution_count": 5,
   "metadata": {},
   "outputs": [
    {
     "name": "stdout",
     "output_type": "stream",
     "text": [
      "Settings directory is C:\\Users\\lmh1\\.NISTpotentials\n",
      "Library directory is C:\\Users\\lmh1\\Documents\\library\n"
     ]
    }
   ],
   "source": [
    "# Change the settings directory - Not recommended\n",
    "#settings.set_directory(<PATH>)\n",
    "\n",
    "# Change the library directory - Recommended\n",
    "#settings.set_library_directory(<PATH>)\n",
    "\n",
    "print('Settings directory is', settings.directory)\n",
    "print('Library directory is', settings.library_directory)"
   ]
  },
  {
   "cell_type": "markdown",
   "metadata": {},
   "source": [
    "### 2.2 Set default database parameters\n",
    "\n",
    "- __local__ indicates the default value for the local parameter to use when initializing a Library object (below), with a value of True indicating that the local library directory will be searched for matching records.\n",
    "\n",
    "- __remote__ indicates the default value for the remote parameter to use when initializing a Library object (below), with a value of True indicating that the remote database https://potentials.nist.gov/ will be searched for matching records."
   ]
  },
  {
   "cell_type": "code",
   "execution_count": 6,
   "metadata": {},
   "outputs": [
    {
     "name": "stdout",
     "output_type": "stream",
     "text": [
      "Default local parameter is True\n",
      "Default remote parameter is True\n"
     ]
    }
   ],
   "source": [
    "print('Default local parameter is', settings.local)\n",
    "print('Default remote parameter is', settings.remote)"
   ]
  },
  {
   "cell_type": "code",
   "execution_count": 7,
   "metadata": {},
   "outputs": [
    {
     "name": "stdout",
     "output_type": "stream",
     "text": [
      "Default local parameter is True\n",
      "Default remote parameter is True\n"
     ]
    }
   ],
   "source": [
    "# Change the local and remote parameters\n",
    "#settings.set_local(True)\n",
    "#settings.set_remote(False)\n",
    "\n",
    "print('Default local parameter is', settings.local)\n",
    "print('Default remote parameter is', settings.remote)"
   ]
  },
  {
   "cell_type": "markdown",
   "metadata": {},
   "source": [
    "## 3. Library \n",
    "\n",
    "The atomman.library.Database class is a subclass of potentials.Database and extends it to provide support for crystal structure references in addition to the potentials references.  The class is used by atomman.load() for 'prototype' and 'crystal' styles and by atomman.load_lammps_potential().  The class can also be directly accessed and used to explore the database for more involved investigations.\n",
    "\n",
    "See the documentation notebooks for the [potentials package](https://github.com/usnistgov/potentials) for more details on interacting with the potentials records.\n",
    "\n",
    "DOCUMENTATION FOR STRUCTURE INTERACTIONS COMMING SOON - see the [prototype loading](01.4.10._prototype_loading.html) and\n",
    "[crystal loading](01.4.11._crystal_loading.html) Notebooks for now."
   ]
  }
 ],
 "metadata": {
  "kernelspec": {
   "display_name": "Python 3",
   "language": "python",
   "name": "python3"
  },
  "language_info": {
   "codemirror_mode": {
    "name": "ipython",
    "version": 3
   },
   "file_extension": ".py",
   "mimetype": "text/x-python",
   "name": "python",
   "nbconvert_exporter": "python",
   "pygments_lexer": "ipython3",
   "version": "3.7.3"
  }
 },
 "nbformat": 4,
 "nbformat_minor": 2
}
