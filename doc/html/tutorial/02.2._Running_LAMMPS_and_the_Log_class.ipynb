{
 "cells": [
  {
   "cell_type": "markdown",
   "metadata": {
    "collapsed": true
   },
   "source": [
    "# Introduction to atomman: Running LAMMPS and the Log class\n",
    "\n",
    "__Lucas M. Hale__, [lucas.hale@nist.gov](mailto:lucas.hale@nist.gov?Subject=ipr-demo), _Materials Science and Engineering Division, NIST_.\n",
    "    \n",
    "[Disclaimers](http://www.nist.gov/public_affairs/disclaimer.cfm) "
   ]
  },
  {
   "cell_type": "markdown",
   "metadata": {},
   "source": [
    "## 1. Introduction\n",
    "\n",
    "This Notebook outlines the options of the atomman.lammps.Log class and the atomman.lammps.run() function."
   ]
  },
  {
   "cell_type": "markdown",
   "metadata": {},
   "source": [
    "**Library Imports**"
   ]
  },
  {
   "cell_type": "code",
   "execution_count": 1,
   "metadata": {},
   "outputs": [
    {
     "name": "stdout",
     "output_type": "stream",
     "text": [
      "atomman version = 1.3.2\n",
      "Notebook executed on 2020-04-15\n"
     ]
    }
   ],
   "source": [
    "# Standard libraries\n",
    "import os\n",
    "import glob\n",
    "import time\n",
    "import datetime\n",
    "\n",
    "# http://matplotlib.org/\n",
    "import matplotlib.pyplot as plt\n",
    "%matplotlib inline\n",
    "\n",
    "# https://github.com/usnistgov/atomman\n",
    "import atomman as am            \n",
    "import atomman.lammps as lmp\n",
    "import atomman.unitconvert as uc\n",
    "\n",
    "# Show atomman version\n",
    "print('atomman version =', am.__version__)\n",
    "\n",
    "# Show date of Notebook execution\n",
    "print('Notebook executed on', datetime.date.today())"
   ]
  },
  {
   "cell_type": "markdown",
   "metadata": {},
   "source": [
    "## 2. Running LAMMPS\n",
    "\n",
    "The LAMMPS simulation can be ran from within Python using the run() function.  This runs LAMMPS as a subprocess, meaning that it can use any installed LAMMPS and MPI executables.\n",
    "\n",
    "Parameters\n",
    "\n",
    "- **lammps_command** (*str*) The LAMMPS inline run command (sans -in script_name).\n",
    "\n",
    "- **script_name** (*str*) Path of the LAMMPS input script to use.\n",
    "\n",
    "- **mpi_command** (*str or None, optional*) The MPI inline command to run LAMMPS in parallel. Default value is None (no mpi).\n",
    "\n",
    "- **restart_script_name** (*str or None, optional*) Alternative script to use for restarting if logfile already exists.  Default value is None (no restarting).\n",
    "\n",
    "- **return_style** (*str, optional*) The format for the returned data. Default value is 'object'.\n",
    "\n",
    "    - 'object' -- returns an atomman.lammps.Log object.\n",
    "    \n",
    "    - 'model' -- returns a DataModelDict.\n",
    "    \n",
    "- **logfile** (*str, optional*) Specifies the path to the logfile to write to.  Default value is 'log.lammps'.\n",
    "\n",
    "- **flatten** (*str or None, optional*) Specifies if the simulations are to be flattened, and which flatten style to use:\n",
    "    \n",
    "    - None does not flatten the simulations (default).\n",
    "    \n",
    "    - 'first' uses the values from the earliest simulation.\n",
    "    \n",
    "    - 'last' uses the values from the latest simulation.\n",
    "\n",
    "Returns\n",
    "\n",
    "- (*atomman.lammps.Log*) An object representation of the log.lammps file."
   ]
  },
  {
   "cell_type": "markdown",
   "metadata": {},
   "source": [
    "Create a simple demonstration LAMMPS input script"
   ]
  },
  {
   "cell_type": "code",
   "execution_count": 2,
   "metadata": {},
   "outputs": [],
   "source": [
    "with open('demo.in', 'w') as f:\n",
    "    f.write(\"\"\"\n",
    "#Simple demonstration LAMMPS script\n",
    "\n",
    "units metal\n",
    "atom_style atomic\n",
    "boundary p p p \n",
    "\n",
    "lattice fcc 3.52 origin 0.100000 0.100000 0.100000 \n",
    "        \n",
    "region box block 0 15 0 15 0 15\n",
    "create_box 1 box\n",
    "create_atoms 1 box\n",
    "\n",
    "mass 1 58.71\n",
    "\n",
    "pair_style lj/cut 6\n",
    "pair_coeff 1 1 0.5408 2.272\n",
    "\n",
    "velocity all create 100 2987532\n",
    "\n",
    "thermo 100\n",
    "thermo_style custom step pe temp press lx ly lz\n",
    "\n",
    "restart 10000 *.restart\n",
    "\n",
    "timestep 0.01\n",
    "\n",
    "fix 1 all npt temp 100 100 1.0 aniso 0.0 0.0 10.0\n",
    "run 10000\n",
    "\n",
    "\"\"\")"
   ]
  },
  {
   "cell_type": "markdown",
   "metadata": {},
   "source": [
    "Run in serial"
   ]
  },
  {
   "cell_type": "code",
   "execution_count": 3,
   "metadata": {},
   "outputs": [
    {
     "name": "stdout",
     "output_type": "stream",
     "text": [
      "Serial simulation took 106.40018510818481 seconds.\n"
     ]
    }
   ],
   "source": [
    "# Define lammps command to use (unique to your computer!)\n",
    "lammps_command = 'lmp_mpi'\n",
    "\n",
    "# Run and measure execution time\n",
    "start = time.time()\n",
    "results = lmp.run(lammps_command, 'demo.in')\n",
    "end = time.time()\n",
    "run_time = end-start\n",
    "\n",
    "print(\"Serial simulation took\", run_time, \"seconds.\")"
   ]
  },
  {
   "cell_type": "markdown",
   "metadata": {},
   "source": [
    "Run in parallel on 4 processors"
   ]
  },
  {
   "cell_type": "code",
   "execution_count": 4,
   "metadata": {},
   "outputs": [
    {
     "name": "stdout",
     "output_type": "stream",
     "text": [
      "Parallel simulation took 50.00712203979492 seconds.\n"
     ]
    }
   ],
   "source": [
    "# Define lammps command to use (unique to your computer!)\n",
    "lammps_command = 'lmp_mpi'\n",
    "\n",
    "# Define mpi command to use (unique to your computer!)\n",
    "mpi_command = 'C:\\\\Program Files\\\\MPICH2\\\\bin\\\\mpiexec.exe -localonly 4'\n",
    "\n",
    "# Run and measure execution time\n",
    "start = time.time()\n",
    "results = lmp.run(lammps_command, 'demo.in', mpi_command=mpi_command)\n",
    "end = time.time()\n",
    "run_time = end-start\n",
    "\n",
    "print(\"Parallel simulation took\", run_time, \"seconds.\")"
   ]
  },
  {
   "cell_type": "markdown",
   "metadata": {
    "collapsed": true
   },
   "source": [
    "## 3. Accessing results with Log class\n",
    "\n",
    "Information from the log.lammps file(s) is automatically parsed by the run() function and returned as an atomman.lammps.Log object.  Currently, the Log class stores the following information:\n",
    "\n",
    "- **lammps_version** (*str*) The LAMMPS version used.\n",
    "\n",
    "- **lammps_date** (*datetime.date*) The date associated with the LAMMPS version.\n",
    "\n",
    "- **simulations** (*list of dict*) information for each simulation (run, minimize ...) that was executed.\n",
    "    \n",
    "Each simulation dictionary contains the following keys:\n",
    "    \n",
    "- **thermo** (*pandas.DataFrame*) The thermo data for each simulation."
   ]
  },
  {
   "cell_type": "code",
   "execution_count": 5,
   "metadata": {},
   "outputs": [
    {
     "name": "stdout",
     "output_type": "stream",
     "text": [
      "results.lammps_version -> 3 Mar 2020\n",
      "results.lammps_date -> 2020-03-03\n"
     ]
    }
   ],
   "source": [
    "print(\"results.lammps_version ->\", results.lammps_version)\n",
    "print(\"results.lammps_date ->\", results.lammps_date)"
   ]
  },
  {
   "cell_type": "code",
   "execution_count": 6,
   "metadata": {},
   "outputs": [
    {
     "data": {
      "text/plain": [
       "Index(['Step', 'PotEng', 'Temp', 'Press', 'Lx', 'Ly', 'Lz'], dtype='object')"
      ]
     },
     "execution_count": 6,
     "metadata": {},
     "output_type": "execute_result"
    }
   ],
   "source": [
    "results.simulations[0]['thermo'].keys()"
   ]
  },
  {
   "cell_type": "markdown",
   "metadata": {},
   "source": [
    "This makes it very easy to plot the simulation thermo data"
   ]
  },
  {
   "cell_type": "code",
   "execution_count": 7,
   "metadata": {},
   "outputs": [
    {
     "data": {
      "image/png": "[encoded data removed]",
      "text/plain": [
       "<Figure size 432x288 with 1 Axes>"
      ]
     },
     "metadata": {
      "needs_background": "light"
     },
     "output_type": "display_data"
    }
   ],
   "source": [
    "for simulation in results.simulations:\n",
    "    plt.plot(simulation['thermo'].Step, simulation['thermo'].PotEng)\n",
    "    plt.show()"
   ]
  },
  {
   "cell_type": "markdown",
   "metadata": {},
   "source": [
    "## 4. Restarting and flattening\n",
    "\n",
    "There is also some built-in functionality for conveniently handling simulations containing multiple runs and/or multiple sequential simulation executions of the same overall run (i.e. restarts)."
   ]
  },
  {
   "cell_type": "markdown",
   "metadata": {},
   "source": [
    "### 4.1 Running with restart script included\n",
    "\n",
    "Create a new demonstration LAMMPS input script that restarts the previous simulation and runs for an additional 10000 steps."
   ]
  },
  {
   "cell_type": "code",
   "execution_count": 8,
   "metadata": {},
   "outputs": [],
   "source": [
    "with open('demo_restart.in', 'w') as f:\n",
    "    f.write(\"\"\"\n",
    "#Simple demonstration LAMMPS restart script\n",
    "\n",
    "read_restart *.restart\n",
    "\n",
    "mass 1 58.71\n",
    "\n",
    "pair_style lj/cut 6\n",
    "pair_coeff 1 1 0.5408 2.272\n",
    "\n",
    "thermo 100\n",
    "thermo_style custom step pe temp press lx ly lz\n",
    "\n",
    "restart 10000 *.restart\n",
    "\n",
    "fix 1 all npt temp 100 100 1.0 aniso 0.0 0.0 10.0\n",
    "run 10000\n",
    "\n",
    "\"\"\")"
   ]
  },
  {
   "cell_type": "markdown",
   "metadata": {},
   "source": [
    "Now, if we call run() with the restart_script_name parameter set, a number of cool things happen:\n",
    "\n",
    "- If logfile (default log.lammps) does not exist in the working directory then the 'demo.in' script is passed to LAMMPS.\n",
    "\n",
    "- If logfile does exist then it is moved from NAME.EXT to NAME-&ast;.EXT, where &ast; is the smallest integer not already there, and the 'demo_restart.in' script is passed to LAMMPS.\n",
    "\n",
    "- Upon completion, the data in NAME.EXT logfile and all NAME-&ast;.EXT logfiles are automatically read in by the Log object."
   ]
  },
  {
   "cell_type": "code",
   "execution_count": 9,
   "metadata": {},
   "outputs": [],
   "source": [
    "results = lmp.run(lammps_command, 'demo.in', mpi_command=mpi_command,\n",
    "                  restart_script_name='demo_restart.in')"
   ]
  },
  {
   "cell_type": "markdown",
   "metadata": {},
   "source": [
    "Show all log files in the run directory"
   ]
  },
  {
   "cell_type": "code",
   "execution_count": 10,
   "metadata": {},
   "outputs": [
    {
     "name": "stdout",
     "output_type": "stream",
     "text": [
      "log-1.lammps\n",
      "log.lammps\n"
     ]
    }
   ],
   "source": [
    "for logfile in glob.iglob('*.lammps'):\n",
    "    print(logfile)"
   ]
  },
  {
   "cell_type": "markdown",
   "metadata": {},
   "source": [
    "Show that results now has two simulations, one for steps 0 to 10000 and one for steps 10000 to 20000 (the restart)"
   ]
  },
  {
   "cell_type": "code",
   "execution_count": 11,
   "metadata": {},
   "outputs": [
    {
     "data": {
      "image/png": "[encoded data removed]",
      "text/plain": [
       "<Figure size 432x288 with 1 Axes>"
      ]
     },
     "metadata": {
      "needs_background": "light"
     },
     "output_type": "display_data"
    },
    {
     "data": {
      "image/png": "[encoded data removed]",
      "text/plain": [
       "<Figure size 432x288 with 1 Axes>"
      ]
     },
     "metadata": {
      "needs_background": "light"
     },
     "output_type": "display_data"
    }
   ],
   "source": [
    "for simulation in results.simulations:\n",
    "    plt.plot(simulation['thermo'].Step, simulation['thermo'].PotEng)\n",
    "    plt.show()"
   ]
  },
  {
   "cell_type": "markdown",
   "metadata": {},
   "source": [
    "### 4.2. Flattening data from multiple simulations together\n",
    "\n",
    "Multiple simulations also occurs if one simulation script contains more than one run or minimize commands. If you want to compress all of the data to one simulation record, you can use the Log.flatten() method.\n",
    "\n",
    "Parameters\n",
    "\n",
    "- **style** (*str, optional*) Flattening removes rows with duplicate Step values, and style specifies which values are kept/removed.  The 'last' style (default) keeps the values from the last simulation that they appear in, while the 'first' style keeps the values from the first simulation that they appear in. "
   ]
  },
  {
   "cell_type": "code",
   "execution_count": 12,
   "metadata": {},
   "outputs": [
    {
     "data": {
      "image/png": "[encoded data removed]",
      "text/plain": [
       "<Figure size 432x288 with 1 Axes>"
      ]
     },
     "metadata": {
      "needs_background": "light"
     },
     "output_type": "display_data"
    }
   ],
   "source": [
    "results.flatten()\n",
    "\n",
    "for simulation in results.simulations:\n",
    "    plt.plot(simulation['thermo'].Step, simulation['thermo'].PotEng)\n",
    "    plt.show()"
   ]
  },
  {
   "cell_type": "markdown",
   "metadata": {},
   "source": [
    "The run() function also has a flatten parameter which will automatically flatten the data after reading it in."
   ]
  },
  {
   "cell_type": "code",
   "execution_count": 13,
   "metadata": {},
   "outputs": [
    {
     "data": {
      "image/png": "[encoded data removed]",
      "text/plain": [
       "<Figure size 432x288 with 1 Axes>"
      ]
     },
     "metadata": {
      "needs_background": "light"
     },
     "output_type": "display_data"
    }
   ],
   "source": [
    "# rerun again, this time with the flatten='last' option\n",
    "results = lmp.run(lammps_command, 'demo.in', mpi_command=mpi_command,\n",
    "                  restart_script_name='demo_restart.in', flatten='last')\n",
    "\n",
    "for simulation in results.simulations:\n",
    "    plt.plot(simulation['thermo'].Step, simulation['thermo'].PotEng)\n",
    "    plt.show()"
   ]
  },
  {
   "cell_type": "markdown",
   "metadata": {},
   "source": [
    "## 5. Error messages\n",
    "\n",
    "*LAMMPSError added and error handling improved version 1.3.2*\n",
    "\n",
    "To assist in running LAMMPS simulations, a LAMMPSError error type is defined which does its best to extract the error message that LAMMPS issues as a Python error. "
   ]
  },
  {
   "cell_type": "code",
   "execution_count": 14,
   "metadata": {},
   "outputs": [],
   "source": [
    "# Create a demo script with an error: missing a value in the fix npt line\n",
    "with open('bad_demo.in', 'w') as f:\n",
    "    f.write(\"\"\"\n",
    "#Simple demonstration LAMMPS script\n",
    "\n",
    "units metal\n",
    "atom_style atomic\n",
    "boundary p p p \n",
    "\n",
    "lattice fcc 3.52 origin 0.100000 0.100000 0.100000 \n",
    "        \n",
    "region box block 0 15 0 15 0 15\n",
    "create_box 1 box\n",
    "create_atoms 1 box\n",
    "\n",
    "mass 1 58.71\n",
    "\n",
    "pair_style lj/cut 6\n",
    "pair_coeff 1 1 0.5408 2.272\n",
    "\n",
    "velocity all create 100 2987532\n",
    "\n",
    "thermo 100\n",
    "thermo_style custom step pe temp press lx ly lz\n",
    "\n",
    "restart 10000 *.restart\n",
    "\n",
    "timestep 0.01\n",
    "\n",
    "fix 1 all npt temp 100 100 1.0 aniso 0.0 0.0 \n",
    "run 10000\n",
    "\n",
    "\"\"\")"
   ]
  },
  {
   "cell_type": "code",
   "execution_count": 15,
   "metadata": {},
   "outputs": [
    {
     "name": "stdout",
     "output_type": "stream",
     "text": [
      "LammpsError raised with message\n",
      "Illegal fix nvt/npt/nph command (../fix_nh.cpp:153)\n",
      "Last command: fix 1 all npt temp 100 100 1.0 aniso 0.0 0.0\n",
      "\n"
     ]
    }
   ],
   "source": [
    "try:\n",
    "    results = lmp.run(lammps_command, 'bad_demo.in', mpi_command=mpi_command)\n",
    "except Exception as ex:\n",
    "    print(type(ex).__name__, 'raised with message')\n",
    "    print(ex.args[0])   "
   ]
  },
  {
   "cell_type": "markdown",
   "metadata": {},
   "source": [
    "**File Cleanup**"
   ]
  },
  {
   "cell_type": "code",
   "execution_count": 16,
   "metadata": {},
   "outputs": [],
   "source": [
    "os.remove('demo.in')\n",
    "os.remove('bad_demo.in')\n",
    "os.remove('demo_restart.in')\n",
    "os.remove('log.lammps')\n",
    "for restart in glob.iglob('*.restart'):\n",
    "    os.remove(restart)\n",
    "for restart in glob.iglob('log-*.lammps'):\n",
    "    os.remove(restart)"
   ]
  }
 ],
 "metadata": {
  "kernelspec": {
   "display_name": "Python 3",
   "language": "python",
   "name": "python3"
  },
  "language_info": {
   "codemirror_mode": {
    "name": "ipython",
    "version": 3
   },
   "file_extension": ".py",
   "mimetype": "text/x-python",
   "name": "python",
   "nbconvert_exporter": "python",
   "pygments_lexer": "ipython3",
   "version": "3.7.4"
  }
 },
 "nbformat": 4,
 "nbformat_minor": 2
}
