{
 "cells": [
  {
   "cell_type": "markdown",
   "metadata": {},
   "source": [
    "# Introduction to atomman: Volterra dislocation models\n",
    "\n",
    "__Lucas M. Hale__, [lucas.hale@nist.gov](mailto:lucas.hale@nist.gov?Subject=ipr-demo), _Materials Science and Engineering Division, NIST_.\n",
    "    \n",
    "[Disclaimers](http://www.nist.gov/public_affairs/disclaimer.cfm) "
   ]
  },
  {
   "cell_type": "markdown",
   "metadata": {},
   "source": [
    "## 1. Introduction\n",
    "\n",
    "This Notebook provides an introduction to the tools in atomman for computing elasticity solutions for straight Volterra dislocations.\n",
    "\n",
    "- atomman.defect.solve_volterra_dislocation() is a wrapper function that returns one of the two classes below based on the supplied elastic constants.\n",
    "\n",
    "- atomman.defect.IsotropicVolterraDislocation class uses the classical analytical equations associated with the isotropic straight dislocation.\n",
    "\n",
    "- atomman.defect.Stroh class solves the Eshelby anisotropic straight dislocation problem using the Stroh (eigenvector) method.\n",
    "\n",
    "Both calculation classes are children of the atomman.defect.VolterraDislocation template class, and therefore provide a similar interface for initialization and obtaining evaluated properties. \n",
    "\n",
    "__NOTE__: This Notebook outlines the methods in atomman for obtaining elastic solutions for Volterra dislocations.  If you wish to construct atomic configurations of dislocations based on the Volterra solutions, check out the [04.9. Dislocation class Jupyter Notebook](04.9._Dislocation_class.html). "
   ]
  },
  {
   "cell_type": "markdown",
   "metadata": {},
   "source": [
    "**Library Imports**"
   ]
  },
  {
   "cell_type": "code",
   "execution_count": 1,
   "metadata": {},
   "outputs": [
    {
     "name": "stdout",
     "output_type": "stream",
     "text": [
      "atomman version = 1.3.5\n",
      "Notebook executed on 2020-10-06\n"
     ]
    }
   ],
   "source": [
    "# Standard libraries\n",
    "import os\n",
    "import datetime\n",
    "from copy import deepcopy\n",
    "\n",
    "# http://www.numpy.org/\n",
    "import numpy as np     \n",
    "np.set_printoptions(precision=3)\n",
    "\n",
    "import matplotlib.pyplot as plt\n",
    "%matplotlib inline\n",
    "\n",
    "# https://github.com/usnistgov/atomman\n",
    "import atomman as am\n",
    "import atomman.unitconvert as uc\n",
    "\n",
    "# Show atomman version\n",
    "print('atomman version =', am.__version__)\n",
    "\n",
    "# Show date of Notebook execution\n",
    "print('Notebook executed on', datetime.date.today())"
   ]
  },
  {
   "cell_type": "markdown",
   "metadata": {},
   "source": [
    "## 2. Theory\n",
    "\n",
    "Dislocation theory is based on computing and using elasticity solutions of dislocations to define what they look like and how they interact with the surrounding material. The Volterra dislocation model assumes that the discontinuity in the crystal due to the dislocation exists as a line singularity. While this assumption does not hold true in real materials, the Volterra solution is still a good estimate far from the dislocation core. It also provides a useful starting point for developing more complicated dislocation solutions, and can provide a decent initial guess for constructing atomic dislocation configurations.\n",
    "\n",
    "For straight dislocations, the solutions are always defined relative to three orthogonal unit vectors $m_i$, $n_i$, and $\\xi_i$ \n",
    "\n",
    "- $m_i$ is the direction in the slip plane perpendicular to the line direction.\n",
    "\n",
    "- $n_i$ is the normal of the dislocation's slip plane.\n",
    "\n",
    "- $\\xi_i$ is parallel to the dislocation's line direction.\n",
    "\n",
    "Based on these three vectors, we can define a Cartesian coordinate system for the dislocation solution with positions, $x_i$, \n",
    "given by\n",
    "\n",
    "$$ x_i = x_1 m_i + x_2 n_i + x_3 \\xi_i $$ \n",
    "\n",
    "\n"
   ]
  },
  {
   "cell_type": "markdown",
   "metadata": {},
   "source": [
    "### 2.1 Isotropic solution\n",
    "\n",
    "Analytical equations for the isotropic dislocation solution can be found in nearly every textbook focused on dislocation theory.  The equations used in atomman are close to those found in Elementary Dislocation Theory by Weertman and Weertman, except with flipped signs. \n",
    "\n",
    "Isotropic elastic constants can be represented using only two independent terms. For dislocation solutions, the two isotropic elastic constants typically used are the shear modulus, $\\mu$, and the Poisson's ratio, $\\nu$. \n",
    "\n",
    "With a straight dislocation, the solution is independent of the $x_3$ direction and therefore only depends on $x_1$ and $x_2$. \n",
    "\n",
    "The specific isotropic equations used here were selected such that values and periods compare well with the Stroh results."
   ]
  },
  {
   "cell_type": "markdown",
   "metadata": {},
   "source": [
    "### 2.2 Basics of the Stroh method\n",
    "\n",
    "Starting with the fundamental equations of elasticity:\n",
    "\n",
    "$$ \\sigma_{ij} = C_{ijkl} \\epsilon_{kl} $$\n",
    "\n",
    "$$ \\epsilon_{ij} = \\frac{1}{2} \\left(\\frac{\\partial u_i}{\\partial x_j} + \\frac{\\partial u_j}{\\partial x_i}\\right) $$\n",
    "\n",
    "$$ \\frac{\\partial \\sigma_{ij}}{\\partial x_j} = 0 $$\n",
    "\n",
    "Combining these and taking the solution to be independent of $x_3$ generates the partial differential equation:\n",
    "\n",
    "$$ C_{ijkl} \\frac{ \\partial^2 u_k}{\\partial x_j \\partial x_l} = 0 $$\n",
    "\n",
    "Solutions of the partial differential equation are of the form \n",
    "\n",
    "$$ u_k = A_k f(x_1 + p x_2) $$\n",
    "\n",
    "Values of $A_k$ and $p$ can be found by solving\n",
    "\n",
    "$$ \\left[C_{i1k1} + \\left(C_{i1k2} + C_{i2k1} \\right) p + C_{i2k2} p^2 \\right] A_k = 0 $$\n",
    "\n",
    "The determinate expression is a sixth-order polynomial expression resulting in six complex roots, $p_\\alpha$ with $\\alpha$ ranging 1 to 6. There is also one $A_{k \\alpha}$ corresponding to each root.\n",
    "\n",
    "With the Stroh method for solving the problem, another vector, $L_i$ is defined for each $\\alpha$ root as\n",
    "\n",
    "$$ L_{i \\alpha} = \\left(C_{i2k1} + p_{\\alpha} C_{i2k2} \\right) A_{k \\alpha} $$\n",
    "\n",
    "and a normalization factor, $k_{\\alpha}$, as\n",
    "\n",
    "$$ k_{\\alpha} = \\frac{1}{2 A_{j \\alpha} L_{j \\alpha}} $$\n",
    "\n",
    "Stroh's method is then to write the problem as an eigenvector problem, which solving gives values for $p_{\\alpha}$, $A_{i \\alpha}$, and $L_{i \\alpha}$.  Properties of the dislocation can then be computed with equations that use these solution parameters."
   ]
  },
  {
   "cell_type": "markdown",
   "metadata": {},
   "source": [
    "## 3. Get solution\n",
    "\n",
    "A Volterra dislocation solution can be obtained by either calling the solve_volterra_dislocation() function, or by initializing one of the dislocation solution classes. The two classes also have a solve() method that allows for a new solution to be obtained using the same object. The solve_volterra_dislocation() function, the class initializers, and the class solve methods all accept the same set of parameters.\n",
    "\n",
    "*Update Version 1.3.2: ξ_uvw, slip_hkl, and box parameters added to make defining systems easier, especially for non-cubic crystals.  axes renamed to transform for clarity.*\n",
    "\n",
    "Parameters\n",
    "\n",
    "- **C** (*atomman.ElasticConstants*) The medium's elastic constants.\n",
    "\n",
    "- **burgers** (*array-like object*) The dislocation's Burgers vector.\n",
    "\n",
    "- **ξ_uvw** (*array-like object*) The Miller crystal vector associated with the dislocation's line direction.  Must be given with slip_hkl to identify the transformation matrix to use on C and burgers.\n",
    "\n",
    "- **slip_hkl** (*array-like object*) The Miller plane indices associated with the dislocation's slip plane.  Must be given with slip_hkl to identify the transformation matrix to use on C and burgers.\n",
    " \n",
    "- **transform** (*array-like object, optional*) A 3x3 set of orthogonal Cartesian vectors that define the transformation matrix to use on C and burgers to convert from the standard (unit cell) and dislocation orientations.  The 3 vectors will automatically be converted into unit vectors.  Using this is an alternative to using ξ_uvw and slip_hkl.\n",
    "\n",
    "- **axes** (*array-like object, optional*) Same as transform.  Retained for backwards compatibility.\n",
    "\n",
    "- **box** (*atomman.Box, optional*) The unit cell's box that crystal vectors are taken with respect to. If not given, will use a cubic box with a=1 meaning that burgers, ξ_uvw and slip_hkl will be interpreted as Cartesian vectors.\n",
    "\n",
    "- **m** (*array-like object, optional*) The m Cartesian unit vector for the solution giving the $x_1$ direction.  m, n, and $\\xi$ (dislocation line direction) should be right-hand orthogonal.  Default value is [1,0,0] (Cartesian x-axis).\n",
    "\n",
    "- **n** (*array-like object, optional*) The n Cartesian unit vector for the solution giving the $x_2$ direction.  m, n, and $\\xi$ (dislocation line direction) should be right-hand orthogonal.  Default value is [0,1,0] (Cartesian y-axis).\n",
    "\n",
    "- **tol** (*float*) Tolerance parameter used to round off near-zero values.  Default value is 1e-8."
   ]
  },
  {
   "cell_type": "markdown",
   "metadata": {},
   "source": [
    "### 3.1 Specify input parameters"
   ]
  },
  {
   "cell_type": "markdown",
   "metadata": {},
   "source": [
    "#### 3.1.1 Cu fcc unit cell \n",
    "\n",
    "The dislocation solution only needs the box, but the full unit cell is used Section 5 to generate atomic configurations."
   ]
  },
  {
   "cell_type": "code",
   "execution_count": 2,
   "metadata": {},
   "outputs": [
    {
     "name": "stdout",
     "output_type": "stream",
     "text": [
      "avect =  [ 3.600,  0.000,  0.000]\n",
      "bvect =  [ 0.000,  3.600,  0.000]\n",
      "cvect =  [ 0.000,  0.000,  3.600]\n",
      "origin = [ 0.000,  0.000,  0.000]\n",
      "natoms = 4\n",
      "natypes = 1\n",
      "symbols = (None,)\n",
      "pbc = [ True  True  True]\n",
      "per-atom properties = ['atype', 'pos']\n",
      "     id |   atype |  pos[0] |  pos[1] |  pos[2]\n",
      "      0 |       1 |   0.000 |   0.000 |   0.000\n",
      "      1 |       1 |   1.800 |   1.800 |   0.000\n",
      "      2 |       1 |   1.800 |   0.000 |   1.800\n",
      "      3 |       1 |   0.000 |   1.800 |   1.800\n"
     ]
    }
   ],
   "source": [
    "a = uc.set_in_units(3.6, 'angstrom')\n",
    "box = am.Box.cubic(a=a)\n",
    "\n",
    "atoms = am.Atoms(pos=[[0.0,0.0,0.0], [0.5,0.5,0.0], [0.5,0.0,0.5], [0.0,0.5,0.5]])\n",
    "\n",
    "ucell = am.System(box=box,\n",
    "                  atoms=atoms, \n",
    "                  scale=True)\n",
    "print(ucell)"
   ]
  },
  {
   "cell_type": "markdown",
   "metadata": {},
   "source": [
    "#### 3.1.2 fcc a/2<10-1>{111} dislocation"
   ]
  },
  {
   "cell_type": "code",
   "execution_count": 3,
   "metadata": {},
   "outputs": [],
   "source": [
    "burgers = 0.5 * np.array([1, 0, -1])\n",
    "slip_hkl = np.array([1, 1, 1])\n",
    "\n",
    "# The dislocation's line direction (ξ_uvw) determines character\n",
    "ξ_uvw = [ 1,-2, 1] # 90 degree edge\n",
    "#ξ_uvw = [1, -1, 0] # 60 degree mixed\n",
    "#ξ_uvw = [1, 1, -2] # 30 degree mixed\n",
    "#ξ_uvw = [1, 0, -1] # 0 degree screw"
   ]
  },
  {
   "cell_type": "markdown",
   "metadata": {},
   "source": [
    "#### 3.1.3 Dislocation system orientation"
   ]
  },
  {
   "cell_type": "code",
   "execution_count": 4,
   "metadata": {},
   "outputs": [],
   "source": [
    "m = [0, 1, 0] # align edge component with the y-axis\n",
    "n = [0, 0, 1] # align slip plane normal with the z-axis"
   ]
  },
  {
   "cell_type": "markdown",
   "metadata": {},
   "source": [
    "#### 3.1.4 Elastic constants"
   ]
  },
  {
   "cell_type": "code",
   "execution_count": 5,
   "metadata": {},
   "outputs": [
    {
     "name": "stdout",
     "output_type": "stream",
     "text": [
      "[[169.  122.  122.    0.    0.    0. ]\n",
      " [122.  169.  122.    0.    0.    0. ]\n",
      " [122.  122.  169.    0.    0.    0. ]\n",
      " [  0.    0.    0.   75.4   0.    0. ]\n",
      " [  0.    0.    0.    0.   75.4   0. ]\n",
      " [  0.    0.    0.    0.    0.   75.4]] GPa\n"
     ]
    }
   ],
   "source": [
    "# Rough isotropic values for Cu\n",
    "#E = uc.set_in_units(130, 'GPa')\n",
    "#Poisson = 0.34\n",
    "#C = am.ElasticConstants(E=E, nu=Poisson)\n",
    "\n",
    "# Rough anisotropic values for Cu\n",
    "C11 = uc.set_in_units(169, 'GPa')\n",
    "C12 = uc.set_in_units(122, 'GPa')\n",
    "C44 = uc.set_in_units(75.4, 'GPa')\n",
    "C = am.ElasticConstants(C11=C11, C12=C12, C44=C44)\n",
    "print(uc.get_in_units(C.Cij, 'GPa'), 'GPa')"
   ]
  },
  {
   "cell_type": "markdown",
   "metadata": {},
   "source": [
    "### 3.2 Build solution and check configuration"
   ]
  },
  {
   "cell_type": "markdown",
   "metadata": {},
   "source": [
    "#### 3.2.1 Build solution\n",
    "\n",
    "Passing box to the solution allows for burgers, ξ_uvw, and slip_hkl to be given as crystal vectors.\n",
    "Passing ξ_uvw, and slip_hkl to the solution allows for C and burgers to be defined relative to the standard (unit cell) reference."
   ]
  },
  {
   "cell_type": "code",
   "execution_count": 6,
   "metadata": {},
   "outputs": [],
   "source": [
    "solution = am.defect.solve_volterra_dislocation(C, burgers, ξ_uvw=ξ_uvw, slip_hkl=slip_hkl, box=box, m=m, n=n)"
   ]
  },
  {
   "cell_type": "markdown",
   "metadata": {},
   "source": [
    "#### 3.2.2 Check configuration values"
   ]
  },
  {
   "cell_type": "code",
   "execution_count": 7,
   "metadata": {},
   "outputs": [
    {
     "name": "stdout",
     "output_type": "stream",
     "text": [
      "Dislocation configuration:\n",
      "m:         [0. 1. 0.]\n",
      "n:         [0. 0. 1.]\n",
      "ξ:         [1. 0. 0.]\n",
      "Burgers:   [0.    2.546 0.   ] angstrom\n",
      "|Burgers|: 2.545584412271571 angstrom\n",
      "Character: 90.0 degrees\n",
      "\n",
      "Transformation matrix from standard orientation to dislocation orientation:\n",
      "[[ 0.408 -0.816  0.408]\n",
      " [ 0.707  0.    -0.707]\n",
      " [ 0.577  0.577  0.577]]\n"
     ]
    }
   ],
   "source": [
    "print('Dislocation configuration:')\n",
    "print('m:        ', solution.m)\n",
    "print('n:        ', solution.n)\n",
    "print('ξ:        ', solution.ξ)\n",
    "print('Burgers:  ', uc.get_in_units(solution.burgers, 'angstrom'), 'angstrom')\n",
    "print('|Burgers|:', uc.get_in_units(np.linalg.norm(solution.burgers), 'angstrom'), 'angstrom')\n",
    "print('Character:', solution.characterangle(), 'degrees')\n",
    "print()\n",
    "print('Transformation matrix from standard orientation to dislocation orientation:')\n",
    "print(solution.transform)\n"
   ]
  },
  {
   "cell_type": "markdown",
   "metadata": {},
   "source": [
    "#### 3.2.3 Show underlying solution parameters"
   ]
  },
  {
   "cell_type": "code",
   "execution_count": 8,
   "metadata": {},
   "outputs": [
    {
     "name": "stdout",
     "output_type": "stream",
     "text": [
      "Solution is anisotropic\n",
      "p ->\n",
      "[-0.574+1.481j -0.574-1.481j  0.574+1.481j  0.574-1.481j  0.   +0.394j\n",
      "  0.   -0.394j]\n",
      "A ->\n",
      "[[ 6.672e-01+0.000e+00j -4.925e-01+2.927e-01j -1.867e-01-9.776e-02j]\n",
      " [ 6.672e-01-0.000e+00j -4.925e-01-2.927e-01j -1.867e-01+9.776e-02j]\n",
      " [ 6.672e-01+0.000e+00j  4.925e-01+2.927e-01j -1.867e-01+9.776e-02j]\n",
      " [ 6.672e-01-0.000e+00j  4.925e-01-2.927e-01j -1.867e-01-9.776e-02j]\n",
      " [-4.278e-01-3.101e-16j  2.497e-17+1.473e-01j -7.891e-01+0.000e+00j]\n",
      " [-4.278e-01+3.101e-16j  2.497e-17-1.473e-01j -7.891e-01-0.000e+00j]]\n",
      "L ->\n",
      "[[ 2.238e-02-2.069e-01j  1.878e-01+2.534e-01j -1.060e-01+1.679e-01j]\n",
      " [ 2.238e-02+2.069e-01j  1.878e-01-2.534e-01j -1.060e-01-1.679e-01j]\n",
      " [-2.238e-02-2.069e-01j  1.878e-01-2.534e-01j  1.060e-01+1.679e-01j]\n",
      " [-2.238e-02+2.069e-01j  1.878e-01+2.534e-01j  1.060e-01-1.679e-01j]\n",
      " [-4.443e-17+6.540e-02j  1.504e-01+5.955e-17j  1.110e-16+3.818e-01j]\n",
      " [-4.443e-17-6.540e-02j  1.504e-01-5.955e-17j  1.110e-16-3.818e-01j]]\n",
      "k ->\n",
      "[-8.788e-01+1.741j -8.788e-01-1.741j  8.788e-01+1.741j  8.788e-01-1.741j\n",
      " -2.825e-16+1.628j -2.825e-16-1.628j]\n"
     ]
    }
   ],
   "source": [
    "if isinstance(solution, am.defect.IsotropicVolterraDislocation):\n",
    "    print('Solution is isotropic')\n",
    "    print(f'mu -> {uc.get_in_units(solution.mu, \"GPa\"):.3f} GPa')\n",
    "    print(f'nu -> {solution.nu:.3f}')\n",
    "\n",
    "elif isinstance(solution, am.defect.Stroh):\n",
    "    print('Solution is anisotropic')\n",
    "    print('p ->')\n",
    "    print(solution.p)\n",
    "    print('A ->')\n",
    "    print(solution.A)\n",
    "    print('L ->')\n",
    "    print(solution.L)\n",
    "    print('k ->')\n",
    "    print(solution.k)"
   ]
  },
  {
   "cell_type": "markdown",
   "metadata": {},
   "source": [
    "## 4. Derived properties\n",
    "\n",
    "Different properties of the solution can be derived from the solution parameters and obtained as other attributes of the class."
   ]
  },
  {
   "cell_type": "markdown",
   "metadata": {},
   "source": [
    "### 4.1 Energy coefficient tensor, K_tensor\n",
    "\n",
    "The energy coefficient tensor is a property of the solution that is useful for dislocation stress and energy calculations. It only depends on the elastic constants and the orientation.\n",
    "\n",
    "**Caution**: $K_{ij}$ is defined differently by different authors and may vary by multiplicative factors. Here, it is taken such that the isotropic screw component is the shear modulus, $\\mu$.\n",
    "\n",
    "#### 4.1.1 Isotropic\n",
    "\n",
    "In the isotropic case, the only non-zero components (in the dislocation orientation) are\n",
    "\n",
    "$$K_{11}^{iso} = K_{22}^{iso} = K_{edge}^{iso} = \\frac{\\mu}{1 - \\nu}$$\n",
    "$$K_{33}^{iso} = K_{screw}^{iso} = \\mu$$\n",
    "\n",
    "#### 4.1.2 Anisotropic\n",
    "\n",
    "The tensor can be obtained from the Stroh solution parameters as\n",
    "\n",
    "$$ K_{jl} = i \\sum_{\\alpha} \\pm k_{\\alpha} L_{j \\alpha} L_{l \\alpha} $$\n",
    "\n",
    "where $i$ is the imaginary unit and the $\\pm$ sense alternates for even/odd values of $\\alpha$ (the six partial solutions are three pairs of complex conjugates).\n"
   ]
  },
  {
   "cell_type": "code",
   "execution_count": 9,
   "metadata": {},
   "outputs": [
    {
     "name": "stdout",
     "output_type": "stream",
     "text": [
      "K_tensor (in GPa) ->\n",
      "[[44.217  0.    -8.628]\n",
      " [ 0.    74.096  0.   ]\n",
      " [-8.628  0.    74.933]]\n"
     ]
    }
   ],
   "source": [
    "print('K_tensor (in GPa) ->')\n",
    "print(uc.get_in_units(solution.K_tensor, 'GPa'))"
   ]
  },
  {
   "cell_type": "markdown",
   "metadata": {},
   "source": [
    "### 4.2 Energy coefficient, K_coeff\n",
    "\n",
    "The energy coefficient, $K$, is a dislocation-specific coefficient found in expressions for a dislocation's self-energy\n",
    "\n",
    "$$\\frac{W}{l} = \\frac{K b^2}{4 \\pi} \\ln{ \\left( \\frac{R}{r_0} \\right)}, $$\n",
    "\n",
    "where $b$ is the magnitude of $b_i$, and $r_0$ and $R$ are the inner and outer radii of a cylindircal ring around the dislocation. The energy coefficient can be computed from the energy coefficent tensor and burgers vector\n",
    "\n",
    "$$ K = \\frac{b_i K_{ij} b_j} {b_k b_k} $$\n",
    "\n"
   ]
  },
  {
   "cell_type": "code",
   "execution_count": 10,
   "metadata": {},
   "outputs": [
    {
     "name": "stdout",
     "output_type": "stream",
     "text": [
      "K_coeff -> 74.096 GPa\n"
     ]
    }
   ],
   "source": [
    "# Note values are same as K11 component above due to pure edge dislocation\n",
    "print(f'K_coeff -> {uc.get_in_units(solution.K_coeff, \"GPa\"):.3f} GPa')"
   ]
  },
  {
   "cell_type": "markdown",
   "metadata": {},
   "source": [
    "### 4.3 Pre-logarithmic factor, preln\n",
    "\n",
    "Alternatively, the self-energy expression can be represented as\n",
    "\n",
    "$$\\frac{W}{l} = a \\ln{ \\left( \\frac{R}{r_0} \\right)}, $$\n",
    "\n",
    "where $a$ is referred to as the pre-logarithmic energy factor and is in units of energy/length. Related to $K$ and $K_{ij}$,\n",
    "\n",
    "$$ a = \\frac{b_i K_{ij} b_j}{4 \\pi} = \\frac{K b^2}{4 \\pi} $$"
   ]
  },
  {
   "cell_type": "code",
   "execution_count": 11,
   "metadata": {},
   "outputs": [
    {
     "name": "stdout",
     "output_type": "stream",
     "text": [
      "preln -> 0.238480 eV/Å\n"
     ]
    }
   ],
   "source": [
    "print(f'preln -> {uc.get_in_units(solution.preln, \"eV/Å\"):f} eV/Å')"
   ]
  },
  {
   "cell_type": "markdown",
   "metadata": {},
   "source": [
    "### 4.4 displacements\n",
    "\n",
    "Position-based displacements associated with the elastic solution can be calculated using either model.  Note that the solution assumes the dislocation's position to be at coorinates (0, 0) for \n",
    "\n",
    "#### 4.4.1 Isotropic equations\n",
    "\n",
    "$$ u_1 = \\frac{b_1}{2 \\pi} \\left[ \\theta + \\frac{x_1x_2}{2 (1 - \\nu) (x_1^2 + x_2^2)} \\right]$$\n",
    "\n",
    "$$ u_2 = \\frac{b_1}{2 \\pi} \\left[ -\\frac{1 - 2 \\nu} {4 (1 - \\nu)} \\ln(x_1^2 + x_2^2)\n",
    "                           + \\frac{y^2} {2 (1 - \\nu) (x^2 + y^2)} \\right]$$\n",
    "\n",
    "$$ u_3 = \\frac{b_3}{2 \\pi} \\theta.$$\n",
    "\n",
    "Here (and below), $\\theta$ is the radial angle coordinate\n",
    "\n",
    "$$\\theta=\\tan^{-1} (x_2/x_1),$$\n",
    "\n",
    "which is taken to range from $-\\pi$ to $\\pi$.\n",
    "\n",
    "#### 4.4.2 Anisotropic equations\n",
    "\n",
    "$$ u_j = \\frac{1}{2 \\pi i} \\sum_{\\alpha}  \\pm k_{\\alpha} A_{j \\alpha} (L_{l \\alpha} b_l) \\ln{\\eta_{\\alpha}}.$$\n",
    "\n",
    "Here (and below), $\\eta$ is an imaginary coordinate  that combines $x_1$ and $x_2$ using the computed eigenvalues $p_{\\alpha}$\n",
    "\n",
    "$$ \\eta_{\\alpha} = x_1 + p_{\\alpha} x_2 $$"
   ]
  },
  {
   "cell_type": "code",
   "execution_count": 12,
   "metadata": {},
   "outputs": [],
   "source": [
    "# Generate spacial grid of points\n",
    "xy_max = 15\n",
    "num_xy = 100\n",
    "xvals = yvals = np.linspace(-xy_max, xy_max, num_xy)\n",
    "xvals, yvals = np.meshgrid(np.linspace(-xy_max, xy_max, 100), np.linspace(-xy_max, xy_max, num_xy))\n",
    "\n",
    "# Convert points to coordinates relative to dislocation system\n",
    "coords = np.outer(xvals, m) + np.outer(yvals, n)\n",
    "\n",
    "# Identify x, y directions\n",
    "if np.isclose(m[0], 1.0):\n",
    "    xlabel = '$x_1$'\n",
    "elif np.isclose(m[1], 1.0):\n",
    "    xlabel = '$x_2$'\n",
    "elif np.isclose(m[2], 1.0):\n",
    "    xlabel = '$x_3$'\n",
    "if np.isclose(n[0], 1.0):\n",
    "    ylabel = '$x_1$'\n",
    "elif np.isclose(n[1], 1.0):\n",
    "    ylabel = '$x_2$'\n",
    "elif np.isclose(n[2], 1.0):\n",
    "    ylabel = '$x_3$'"
   ]
  },
  {
   "cell_type": "code",
   "execution_count": 13,
   "metadata": {},
   "outputs": [
    {
     "name": "stdout",
     "output_type": "stream",
     "text": [
      "Coordinates and displacements in Angstroms\n"
     ]
    },
    {
     "data": {
      "image/png": "[encoded data removed]",
      "text/plain": [
       "<Figure size 1152x288 with 6 Axes>"
      ]
     },
     "metadata": {
      "needs_background": "light"
     },
     "output_type": "display_data"
    }
   ],
   "source": [
    "# Compute displacements\n",
    "disp = solution.displacement(coords)\n",
    "\n",
    "# Plot\n",
    "disp_max = np.abs(disp.max())\n",
    "fig, axes = plt.subplots(figsize=(16,4), ncols=3)\n",
    "\n",
    "for i in range(3):\n",
    "    im = axes[i].pcolormesh(xvals, yvals, disp[:,i].reshape(num_xy, num_xy), vmin=-disp_max, vmax=disp_max)\n",
    "    axes[i].set_title(f'$u_{{{i+1}}}$')\n",
    "    axes[i].set_xlabel(xlabel, fontsize='large')\n",
    "    axes[i].set_ylabel(ylabel, fontsize='large')\n",
    "    fig.colorbar(im, ax=axes[i])\n",
    "\n",
    "print('Coordinates and displacements in Angstroms')\n",
    "plt.show()"
   ]
  },
  {
   "cell_type": "markdown",
   "metadata": {},
   "source": [
    "### 4.5 stress\n",
    "\n",
    "The stress state associated with the elastic solution can also be calculated at a given position for both models\n",
    "\n",
    "#### 4.5.1 Isotropic equations\n",
    "\n",
    "$$ \\sigma_{11} = -\\frac{\\mu b_1}{2 \\pi (1 - \\nu)} \\frac{x_2 (3 x_1^2 + x_2^2)} { (x_1^2 + x_2^2)^2}$$\n",
    "\n",
    "$$ \\sigma_{22} = \\frac{\\mu b_1}{2 \\pi (1 - \\nu)} \\frac{x_2 (x_1^2 - x_2^2)} { (x_1^2 + x_2^2)^2}$$\n",
    "\n",
    "$$ \\sigma_{33} = \\nu(\\sigma_{11} + \\sigma_{22})$$\n",
    "\n",
    "$$ \\sigma_{12} = \\frac{\\mu b_1}{2 \\pi (1 - \\nu)} \\frac{x_1(x_1^2 - x_2^2)) }{ (x_1^2 + x_2^2)^2}$$\n",
    "\n",
    "$$ \\sigma_{13} =-\\frac{\\mu b_3}{2 \\pi} \\frac{x_2}{(x_1^2 + x_2^2)} $$\n",
    "\n",
    "$$ \\sigma_{23} = \\frac{\\mu b_3}{2 \\pi} \\frac{x_1}{(x_1^2 + x_2^2)} $$\n",
    "\n",
    "#### 4.5.2 Anisotropic equations\n",
    "\n",
    "$$ \\sigma_{ij} = \\frac{1}{2 \\pi i} \\sum_{\\alpha}  \\pm k_{\\alpha} C_{ijkl}[m_l + p_{\\alpha} n_l] A_{k \\alpha} (L_{m \\alpha} b_m) \\frac{1}{\\eta_{\\alpha}} $$"
   ]
  },
  {
   "cell_type": "code",
   "execution_count": 14,
   "metadata": {},
   "outputs": [
    {
     "name": "stdout",
     "output_type": "stream",
     "text": [
      "Stress components in GPa, coordinates in Angstroms\n"
     ]
    },
    {
     "data": {
      "image/png": "[encoded data removed]",
      "text/plain": [
       "<Figure size 1152x1008 with 18 Axes>"
      ]
     },
     "metadata": {
      "needs_background": "light"
     },
     "output_type": "display_data"
    }
   ],
   "source": [
    "# Compute stress states\n",
    "stress = uc.get_in_units(solution.stress(coords), 'GPa')\n",
    "\n",
    "# Plot\n",
    "stress_max = np.abs(stress.max()) / 10\n",
    "fig, axes = plt.subplots(figsize=(16,14), ncols=3, nrows=3)\n",
    "\n",
    "for i in range(3):\n",
    "    for j in range(3):\n",
    "        im = axes[i, j].pcolormesh(xvals, yvals, stress[:, i, j].reshape(num_xy, num_xy), vmin=-stress_max, vmax=stress_max)\n",
    "        axes[i, j].set_title(f'$\\sigma_{{{i+1}{j+1}}}$')\n",
    "        axes[i, j].set_xlabel(xlabel, fontsize='large')\n",
    "        axes[i, j].set_ylabel(ylabel, fontsize='large')\n",
    "        fig.colorbar(im, ax=axes[i, j])\n",
    "\n",
    "print('Stress components in GPa, coordinates in Angstroms')\n",
    "plt.show()"
   ]
  },
  {
   "cell_type": "markdown",
   "metadata": {},
   "source": [
    "## 5. Generate dislocation configurations\n",
    "\n",
    "*Added version 1.3.4*: The Dislocation class provides a user-friendly interface for generating dislocation monopole and periodic array of dislocation atomic configurations using Volterra solutions.  See the [04.9. Dislocation class Jupyter Notebook](04.9._Dislocation_class.html) for more details."
   ]
  },
  {
   "cell_type": "markdown",
   "metadata": {},
   "source": [
    "### 5.1. Start with a unit cell"
   ]
  },
  {
   "cell_type": "code",
   "execution_count": 15,
   "metadata": {},
   "outputs": [
    {
     "name": "stdout",
     "output_type": "stream",
     "text": [
      "avect =  [ 3.600,  0.000,  0.000]\n",
      "bvect =  [ 0.000,  3.600,  0.000]\n",
      "cvect =  [ 0.000,  0.000,  3.600]\n",
      "origin = [ 0.000,  0.000,  0.000]\n",
      "natoms = 4\n",
      "natypes = 1\n",
      "symbols = (None,)\n",
      "pbc = [ True  True  True]\n",
      "per-atom properties = ['atype', 'pos']\n",
      "     id |   atype |  pos[0] |  pos[1] |  pos[2]\n",
      "      0 |       1 |   0.000 |   0.000 |   0.000\n",
      "      1 |       1 |   1.800 |   1.800 |   0.000\n",
      "      2 |       1 |   1.800 |   0.000 |   1.800\n",
      "      3 |       1 |   0.000 |   1.800 |   1.800\n"
     ]
    }
   ],
   "source": [
    "# Unit cell as defined above\n",
    "print(ucell)"
   ]
  },
  {
   "cell_type": "markdown",
   "metadata": {},
   "source": [
    "### 5.2 Use dislocation_system_basis to identify the rotation crystal vectors\n",
    "\n",
    "For cubic systems, the a_uvw, b_uvw, c_uvw crystal vectors to rotate the system by can be easily worked out from the defined system orientation parameters and the transformation matrix.  For non-cubic systems, it is a trickier problem and the dislocation_system_basis function was created to assist with this by searching for crystal vectors close to the transformation matrix vectors.\n",
    "\n",
    "**NOTE:** This function will throw an error if the identified uvws are not compatible with how LAMMPS defines the system boxes. For the general non-cubic case, always use m=[0,1,0] and n=[0,0,1]! See Section 6 below for more details.   \n",
    "\n",
    "Parameters\n",
    "\n",
    "- **ξ_uvw** (*array-like object*) The Miller crystal vector associated with the dislocation's line direction.\n",
    "\n",
    "- **slip_hkl** (*array-like object*) The Miller plane indices associated with the dislocation's slip plane.\n",
    "\n",
    "- **m** (*array-like object, optional*) The m Cartesian unit vector for the solution giving the $x_1$ direction.  m, n, and $\\xi$ (dislocation line direction) should be right-hand orthogonal.  Default value is [1,0,0] (Cartesian x-axis).\n",
    "\n",
    "- **n** (*array-like object, optional*) The n Cartesian unit vector for the solution giving the $x_2$ direction.  m, n, and $\\xi$ (dislocation line direction) should be right-hand orthogonal.  Default value is [0,1,0] (Cartesian y-axis).\n",
    "\n",
    "- **box** (*atomman.Box, optional*) The unit cell's box that crystal vectors are taken with respect to. If not given, will use a cubic box with a=1 meaning that ξ_uvw and slip_hkl will be interpreted as Cartesian vectors\n",
    "\n",
    "- **tol** (*float, optional*) Tolerance parameter used to round off near-zero values.  Default value is 1e-8.\n",
    "\n",
    "- **maxindex** (*int, optional*) The maximum Miller index to use when searching for crystal vectors.  Default value is 10.\n",
    "\n",
    "- **return_hexagonal** (*bool, optional*) Indicates if the indices are to be returned as 4-coordinate Miller-Bravais indices.  Default value is False.\n",
    "\n",
    "- **return_transform** (*bool, optional*) If True, the transformation matrix will also be returned. Default value is False.\n",
    "\n",
    "Returns\n",
    "\n",
    "- **uvws** (*array-like object*) The rotation crystal vector to use.\n",
    "\n",
    "- **transform** (*array-like object*) The transformation matrix corresponding to the rotation. Returned if return_transform is True.\n"
   ]
  },
  {
   "cell_type": "code",
   "execution_count": 16,
   "metadata": {},
   "outputs": [
    {
     "name": "stdout",
     "output_type": "stream",
     "text": [
      "[[ 1. -2.  1.]\n",
      " [ 1.  0. -1.]\n",
      " [ 1.  1.  1.]]\n"
     ]
    }
   ],
   "source": [
    "uvws = am.defect.dislocation_system_basis(ξ_uvw, slip_hkl, m=m, n=n, box=box)\n",
    "print(uvws)"
   ]
  },
  {
   "cell_type": "markdown",
   "metadata": {},
   "source": [
    "### 5.3 Rotate ucell using uvws"
   ]
  },
  {
   "cell_type": "code",
   "execution_count": 17,
   "metadata": {},
   "outputs": [
    {
     "name": "stdout",
     "output_type": "stream",
     "text": [
      "avect =  [ 8.818,  0.000,  0.000]\n",
      "bvect =  [ 0.000,  5.091,  0.000]\n",
      "cvect =  [ 0.000,  0.000,  6.235]\n",
      "origin = [ 0.000,  0.000,  0.000]\n",
      "natoms = 24\n",
      "natypes = 1\n",
      "symbols = (None,)\n",
      "pbc = [ True  True  True]\n",
      "per-atom properties = ['atype', 'pos']\n",
      "     id |   atype |  pos[0] |  pos[1] |  pos[2]\n",
      "      0 |       1 |   2.205 |   3.818 |   6.235\n",
      "      1 |       1 |   8.818 |   2.546 |   0.000\n",
      "      2 |       1 |   6.614 |   3.818 |   6.235\n",
      "      3 |       1 |   6.614 |   1.273 |   6.235\n",
      "      4 |       1 |   8.083 |   3.818 |   2.078\n",
      "      5 |       1 |   2.205 |   1.273 |   6.235\n",
      "      6 |       1 |   4.409 |   0.000 |   6.235\n",
      "      7 |       1 |   4.409 |   2.546 |   6.235\n",
      "      8 |       1 |   3.674 |   3.818 |   2.078\n",
      "      9 |       1 |   5.879 |   2.546 |   2.078\n",
      "     10 |       1 |   3.674 |   1.273 |   2.078\n",
      "     11 |       1 |   5.144 |   3.818 |   4.157\n",
      "     12 |       1 |   0.000 |   0.000 |   0.000\n",
      "     13 |       1 |   1.470 |   0.000 |   2.078\n",
      "     14 |       1 |   1.470 |   2.546 |   2.078\n",
      "     15 |       1 |   0.735 |   3.818 |   4.157\n",
      "     16 |       1 |   2.939 |   2.546 |   4.157\n",
      "     17 |       1 |   0.735 |   1.273 |   4.157\n",
      "     18 |       1 |   8.083 |   1.273 |   2.078\n",
      "     19 |       1 |   5.879 |   5.091 |   2.078\n",
      "     20 |       1 |   5.144 |   1.273 |   4.157\n",
      "     21 |       1 |   7.348 |   5.091 |   4.157\n",
      "     22 |       1 |   7.348 |   2.546 |   4.157\n",
      "     23 |       1 |   2.939 |   5.091 |   4.157\n"
     ]
    }
   ],
   "source": [
    "system = ucell.rotate(uvws)\n",
    "print(system)"
   ]
  },
  {
   "cell_type": "markdown",
   "metadata": {},
   "source": [
    "### 5.4 Shift atoms off of the slip plane"
   ]
  },
  {
   "cell_type": "code",
   "execution_count": 18,
   "metadata": {},
   "outputs": [
    {
     "name": "stdout",
     "output_type": "stream",
     "text": [
      "[2.756e-16 2.078e+00 4.157e+00 6.235e+00]\n"
     ]
    }
   ],
   "source": [
    "# Identify the unique coorinates normal to the slip plane\n",
    "y_coords = system.atoms.pos.dot(n)\n",
    "unique = []\n",
    "for y in y_coords:\n",
    "    if np.sum(np.isclose(np.array(unique), y)) == 0:\n",
    "        unique.append(y)\n",
    "unique = np.unique(unique)\n",
    "print(unique)"
   ]
  },
  {
   "cell_type": "code",
   "execution_count": 19,
   "metadata": {},
   "outputs": [],
   "source": [
    "# Shift positions by half the atomic spacing (plus a tiny bit along m)\n",
    "system.atoms.pos += np.array(n) * (unique[1] - unique[0]) / 2 + np.array(m) * 0.05\n",
    "system.wrap()"
   ]
  },
  {
   "cell_type": "markdown",
   "metadata": {},
   "source": [
    "Supersize"
   ]
  },
  {
   "cell_type": "code",
   "execution_count": 20,
   "metadata": {},
   "outputs": [],
   "source": [
    "ξ = np.cross(m, n)\n",
    "if np.isclose(ξ[0], 1.0):\n",
    "    system = system.supersize(1, (-3, 3), (-3, 3))\n",
    "elif np.isclose(ξ[1], 1.0):\n",
    "    system = system.supersize((-3, 3), 1, (-3, 3))\n",
    "elif np.isclose(ξ[2], 1.0):\n",
    "    system = system.supersize((-3, 3), (-3, 3), 1)"
   ]
  },
  {
   "cell_type": "markdown",
   "metadata": {},
   "source": [
    "Plot xy cross section of atoms"
   ]
  },
  {
   "cell_type": "code",
   "execution_count": 21,
   "metadata": {},
   "outputs": [
    {
     "data": {
      "image/png": "[encoded data removed]",
      "text/plain": [
       "<Figure size 432x288 with 1 Axes>"
      ]
     },
     "metadata": {
      "needs_background": "light"
     },
     "output_type": "display_data"
    }
   ],
   "source": [
    "# plot original positions of atoms in system\n",
    "plt.plot(system.atoms.pos.dot(m), system.atoms.pos.dot(n), 'o')\n",
    "plt.show()"
   ]
  },
  {
   "cell_type": "code",
   "execution_count": 22,
   "metadata": {},
   "outputs": [
    {
     "data": {
      "image/png": "[encoded data removed]",
      "text/plain": [
       "<Figure size 432x288 with 1 Axes>"
      ]
     },
     "metadata": {
      "needs_background": "light"
     },
     "output_type": "display_data"
    }
   ],
   "source": [
    "# Compute displacements for all positions\n",
    "disp = solution.displacement(system.atoms.pos)\n",
    "\n",
    "# Apply displacements to positions\n",
    "system.atoms.pos += disp\n",
    "\n",
    "# plot new positions of atoms in system\n",
    "plt.plot(system.atoms.pos.dot(m), system.atoms.pos.dot(n), 'o')\n",
    "plt.show()"
   ]
  },
  {
   "cell_type": "markdown",
   "metadata": {},
   "source": [
    "## 6. General case considerations\n",
    "\n",
    "Properly building atomistic systems with dislocations using the Stroh method requires careful considerations regarding the system orientation.  This is complicated by the need to think in terms of multiple axes systems\n",
    "\n",
    "- $[hkl]$ crystal vectors are commonly used to define dislocation types and slip planes.  These vectors are taken relative to the box vectors of a unit cell in a standard reference frame.\n",
    "\n",
    "- The atomistic system's orientation is defined by specifying $[hkl]$ crystal vectors to coincide with the system's $a_i$, $b_i$, $c_i$ box vectors.\n",
    "\n",
    "- The atomic positions within the atomistic system are represented with Cartesian $x'_i$ coordinates.\n",
    "\n",
    "- The elastic solution is defined for Cartesian $x_i$ coordinates, where $x_2$ is normal to the slip plane and $x_3$ is parallel to the dislocation line.\n",
    "\n",
    "As the latter two are both Cartesian, $x_i$ values are easily obtained from $x'_i$ using transformation unit vectors $m_i$ and $n_i$\n",
    "\n",
    "- $x_1 = m_i x'_i$\n",
    "\n",
    "- $x_2 = n_i x'_i$\n",
    "\n",
    "- $x_3$ values not needed as the elastic solution is invariant in that direction.\n",
    "\n",
    "Depending on the crystal structure and dislocation type, it is not always possible to construct a system with orthogonal box vectors.  This means that the $a_i$, $b_i$, $c_i$ box vectors will not necessarily align with the $x'_i$ axes.  For this general case, the following requirements and choices can help with orientation decisions\n",
    "\n",
    "- The dislocation's line direction must be parallel to one of the box vectors for the dislocation to remain infinitely straight.\n",
    "\n",
    "- For convenience, each of the elastic solution's $x_i$-axes should map to one of the atomic system's $x'_i$-axes.  This is accomplished if both the dislocation line and the slip plane normal are oriented along $x'_i$-axes.\n",
    "\n",
    "With LAMMPS-compatible system boxes\n",
    "\n",
    "- The $a_i$ box vector is always aligned with the $x'_1$-axis, therefore the dislocation line should be parallel to the $a_i$ vector / $x'_1$-axis.\n",
    "\n",
    "- The $a_i$ and $b_i$ box vectors have no component in the $x'_3$ direction, i.e. the plane containing both $a_i$ and $b_i$ is normal to the $x'_3$-axis.  The slip plane normal can then be taken as parallel to the $x'_3$-axis.\n",
    "\n",
    "- Related to the elastic solution, this makes $x_1$ parallel to the $x'_2$-axis, $x_2$ parallel to the $x'_3$-axis, and $x_3$ parallel to the $x'_1$-axis. The corresponding $m_i$ and $n_i$ values are\n",
    "\n",
    "    - $m_i = [0, 1, 0]$\n",
    "    \n",
    "    - $n_i = [0, 0, 1]$"
   ]
  },
  {
   "cell_type": "markdown",
   "metadata": {},
   "source": [
    "### 6.1 Dislocation solution for arbitrary crystal\n",
    "\n",
    "The dislocation solution itself does not have any limitations for arbitrary crystal families as long as "
   ]
  },
  {
   "cell_type": "code",
   "execution_count": 23,
   "metadata": {},
   "outputs": [
    {
     "name": "stdout",
     "output_type": "stream",
     "text": [
      "avect =  [ 3.600,  0.000,  0.000]\n",
      "bvect =  [-1.163,  3.195,  0.000]\n",
      "cvect =  [ 1.669,  0.736,  6.654]\n",
      "origin = [ 0.000,  0.000,  0.000]\n",
      "natoms = 4\n",
      "natypes = 1\n",
      "symbols = (None,)\n",
      "pbc = [ True  True  True]\n",
      "per-atom properties = ['atype', 'pos']\n",
      "     id |   atype |  pos[0] |  pos[1] |  pos[2]\n",
      "      0 |       1 |   0.000 |   0.000 |   0.000\n",
      "      1 |       1 |   1.219 |   1.597 |   0.000\n",
      "      2 |       1 |   2.635 |   0.368 |   3.327\n",
      "      3 |       1 |   0.253 |   1.965 |   3.327\n"
     ]
    }
   ],
   "source": [
    "# Arbitary triclinic box (just for testing)\n",
    "box = am.Box(a=3.6, b=3.4, c=6.9, alpha=89, beta=76, gamma=110)\n",
    "\n",
    "# Keep \"face-centered\" coordinates because why not\n",
    "atoms = am.Atoms(pos=[[0.0,0.0,0.0], [0.5,0.5,0.0], [0.5,0.0,0.5], [0.0,0.5,0.5]])\n",
    "\n",
    "ucell = am.System(box=box,\n",
    "                  atoms=atoms, \n",
    "                  scale=True)\n",
    "print(ucell)"
   ]
  },
  {
   "cell_type": "code",
   "execution_count": 24,
   "metadata": {},
   "outputs": [
    {
     "name": "stdout",
     "output_type": "stream",
     "text": [
      "[[169. 122. 121. 101.   3.   1.]\n",
      " [122. 160. 125.  98.  -2.   4.]\n",
      " [121. 125. 170. 109.   2.   5.]\n",
      " [101.  98. 109.  75.  10.  12.]\n",
      " [  3.  -2.   2.  10.  89.  11.]\n",
      " [  1.   4.   5.  12.  11.  67.]] GPa\n"
     ]
    }
   ],
   "source": [
    "# Arbitary elastic constants (just for testing)\n",
    "cdict={}\n",
    "cdict['C11'] = uc.set_in_units(169, 'GPa')\n",
    "cdict['C12'] = uc.set_in_units(122, 'GPa')\n",
    "cdict['C13'] = uc.set_in_units(121, 'GPa')\n",
    "cdict['C14'] = uc.set_in_units(101, 'GPa')\n",
    "cdict['C15'] = uc.set_in_units(3, 'GPa')\n",
    "cdict['C16'] = uc.set_in_units(1, 'GPa')\n",
    "cdict['C22'] = uc.set_in_units(160, 'GPa')\n",
    "cdict['C23'] = uc.set_in_units(125, 'GPa')\n",
    "cdict['C24'] = uc.set_in_units(98, 'GPa')\n",
    "cdict['C25'] = uc.set_in_units(-2, 'GPa')\n",
    "cdict['C26'] = uc.set_in_units(4, 'GPa')\n",
    "cdict['C33'] = uc.set_in_units(170, 'GPa')\n",
    "cdict['C34'] = uc.set_in_units(109, 'GPa')\n",
    "cdict['C35'] = uc.set_in_units(2, 'GPa')\n",
    "cdict['C36'] = uc.set_in_units(5, 'GPa')\n",
    "cdict['C44'] = uc.set_in_units(75, 'GPa')\n",
    "cdict['C45'] = uc.set_in_units(10, 'GPa')\n",
    "cdict['C46'] = uc.set_in_units(12, 'GPa')\n",
    "cdict['C55'] = uc.set_in_units(89, 'GPa')\n",
    "cdict['C56'] = uc.set_in_units(11, 'GPa')\n",
    "cdict['C66'] = uc.set_in_units(67, 'GPa')\n",
    "C = am.ElasticConstants(**cdict)\n",
    "print(uc.get_in_units(C.Cij, 'GPa'), 'GPa')"
   ]
  },
  {
   "cell_type": "code",
   "execution_count": 25,
   "metadata": {},
   "outputs": [],
   "source": [
    "# Keep crystal definitions the same (everything else is junk anyways)\n",
    "burgers = 0.5 * np.array([1, 0, -1])\n",
    "slip_hkl = np.array([1, 1, 1])\n",
    "\n",
    "# The dislocation's line direction (ξ_uvw) determines character\n",
    "ξ_uvw = [ 1,-2, 1] "
   ]
  },
  {
   "cell_type": "code",
   "execution_count": 26,
   "metadata": {},
   "outputs": [],
   "source": [
    "m = np.array([0, 1, 0])\n",
    "n = np.array([0, 0, 1])"
   ]
  },
  {
   "cell_type": "code",
   "execution_count": 27,
   "metadata": {},
   "outputs": [
    {
     "name": "stdout",
     "output_type": "stream",
     "text": [
      "Dislocation configuration:\n",
      "m:         [0. 1. 0.]\n",
      "n:         [0. 0. 1.]\n",
      "ξ:         [1. 0. 0.]\n",
      "Burgers:   [-1.1    3.306  0.   ] angstrom\n",
      "|Burgers|: 3.4839388709694843 angstrom\n",
      "Character: 108.40344143799813 degrees\n",
      "\n",
      "Transformation matrix from standard orientation to dislocation orientation:\n",
      "[[ 0.656 -0.489  0.575]\n",
      " [ 0.51  -0.274 -0.815]\n",
      " [ 0.556  0.828  0.07 ]]\n"
     ]
    }
   ],
   "source": [
    "# Compute solution and show configuration (to prove it still works)\n",
    "solution = am.defect.solve_volterra_dislocation(C, burgers, ξ_uvw=ξ_uvw, slip_hkl=slip_hkl, box=box, m=m, n=n)\n",
    "\n",
    "print('Dislocation configuration:')\n",
    "print('m:        ', solution.m)\n",
    "print('n:        ', solution.n)\n",
    "print('ξ:        ', solution.ξ)\n",
    "print('Burgers:  ', uc.get_in_units(solution.burgers, 'angstrom'), 'angstrom')\n",
    "print('|Burgers|:', uc.get_in_units(np.linalg.norm(solution.burgers), 'angstrom'), 'angstrom')\n",
    "print('Character:', solution.characterangle(), 'degrees')\n",
    "print()\n",
    "print('Transformation matrix from standard orientation to dislocation orientation:')\n",
    "print(solution.transform)\n"
   ]
  },
  {
   "cell_type": "code",
   "execution_count": 28,
   "metadata": {},
   "outputs": [
    {
     "name": "stdout",
     "output_type": "stream",
     "text": [
      "[[ 1. -2.  1.]\n",
      " [ 3. -1. -2.]\n",
      " [ 1.  1.  0.]]\n"
     ]
    }
   ],
   "source": [
    "uvws = am.defect.dislocation_system_basis(ξ_uvw, slip_hkl, m=m, n=n, box=box, maxindex=5)\n",
    "print(uvws)"
   ]
  },
  {
   "cell_type": "code",
   "execution_count": 29,
   "metadata": {},
   "outputs": [
    {
     "data": {
      "image/png": "[encoded data removed]",
      "text/plain": [
       "<Figure size 432x288 with 1 Axes>"
      ]
     },
     "metadata": {
      "needs_background": "light"
     },
     "output_type": "display_data"
    }
   ],
   "source": [
    "system = ucell.rotate(uvws)\n",
    "system.atoms.pos += np.array(n) * (2.0) / 2 + np.array(m) * 0.05\n",
    "system.wrap()\n",
    "system = system.supersize(1, (-1, 1), (-3, 3))\n",
    "plt.plot(system.atoms.pos.dot(m), system.atoms.pos.dot(n), 'o')\n",
    "plt.show()"
   ]
  },
  {
   "cell_type": "code",
   "execution_count": 30,
   "metadata": {},
   "outputs": [
    {
     "data": {
      "image/png": "[encoded data removed]",
      "text/plain": [
       "<Figure size 432x288 with 1 Axes>"
      ]
     },
     "metadata": {
      "needs_background": "light"
     },
     "output_type": "display_data"
    }
   ],
   "source": [
    "# Compute displacements for all positions\n",
    "disp = solution.displacement(system.atoms.pos)\n",
    "\n",
    "# Apply displacements to positions\n",
    "system.atoms.pos += disp\n",
    "\n",
    "# plot new positions of atoms in system\n",
    "plt.plot(system.atoms.pos.dot(m), system.atoms.pos.dot(n), 'o')\n",
    "plt.show()"
   ]
  }
 ],
 "metadata": {
  "kernelspec": {
   "display_name": "Python 3",
   "language": "python",
   "name": "python3"
  },
  "language_info": {
   "codemirror_mode": {
    "name": "ipython",
    "version": 3
   },
   "file_extension": ".py",
   "mimetype": "text/x-python",
   "name": "python",
   "nbconvert_exporter": "python",
   "pygments_lexer": "ipython3",
   "version": "3.7.3"
  }
 },
 "nbformat": 4,
 "nbformat_minor": 2
}
