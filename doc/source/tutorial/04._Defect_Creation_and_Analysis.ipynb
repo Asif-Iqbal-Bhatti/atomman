{
 "cells": [
  {
   "cell_type": "markdown",
   "metadata": {
    "collapsed": true
   },
   "source": [
    "# Introduction to atomman: Defect creation and analysis\n",
    "\n",
    "__Lucas M. Hale__, [lucas.hale@nist.gov](mailto:lucas.hale@nist.gov?Subject=ipr-demo), _Materials Science and Engineering Division, NIST_.\n",
    "    \n",
    "[Disclaimers](http://www.nist.gov/public_affairs/disclaimer.cfm) "
   ]
  },
  {
   "cell_type": "markdown",
   "metadata": {},
   "source": [
    "## 1. Introduction\n",
    "\n",
    "One of the focuses of the atomman package is to provide tools for generating and analyzing atomic systems containing defects.  Many of these tools are more complex than the basic tools outlined in the previous section. This Notebook provides an overview of the various defect capabilities in atomman."
   ]
  },
  {
   "cell_type": "markdown",
   "metadata": {},
   "source": [
    "**Library Imports**"
   ]
  },
  {
   "cell_type": "code",
   "execution_count": 1,
   "metadata": {},
   "outputs": [
    {
     "name": "stdout",
     "output_type": "stream",
     "text": [
      "atomman version = 1.3.0\n",
      "Notebook executed on 2019-11-05\n"
     ]
    }
   ],
   "source": [
    "# Standard Python libraries\n",
    "import datetime\n",
    "\n",
    "# http://www.numpy.org/\n",
    "import numpy as np\n",
    "\n",
    "# https://github.com/usnistgov/atomman\n",
    "import atomman as am\n",
    "import atomman.unitconvert as uc\n",
    "\n",
    "# https://matplotlib.org/\n",
    "import matplotlib.pyplot as plt\n",
    "%matplotlib inline\n",
    "\n",
    "# Show atomman version\n",
    "print('atomman version =', am.__version__)\n",
    "\n",
    "# Show date of Notebook execution\n",
    "print('Notebook executed on', datetime.date.today())"
   ]
  },
  {
   "cell_type": "markdown",
   "metadata": {},
   "source": [
    "## 2. Point defects\n",
    "\n",
    "The atomman.defect.point() function inserts a point defect into a System and helps with tracking the defect by (1) moving any new/modified atoms to the end of the Atoms list and (2) adding per-atom property old_id that retains each atom's original index.\n",
    "\n",
    "See [04.1. Point defects Jupyter Notebook](04.1._Point_defects.html) for more examples.\n",
    "\n",
    "Parameters:\n",
    "\n",
    "- __system__ (*atomman.System*) the system to add the defect to.\n",
    "\n",
    "- __ptd_type__ (*str*) indicates which type of point defect to add.\n",
    "    \n",
    "    - ='v' -- vacancy\n",
    "    \n",
    "    - ='s' -- substitutional\n",
    "    \n",
    "    - ='i' -- positional interstitial\n",
    "    \n",
    "    - ='db' -- dumbbell interstitial\n",
    "\n",
    "- __atype__ (*int, optional*) atom type for defect atom ('i', 's', 'db' styles).\n",
    "\n",
    "- __pos__ (*array-like object, optional*) position for adding the defect atom (all styles).\n",
    "\n",
    "- __ptd_id__ (*int, optional*) atom id where defect is added.  Alternative to using pos ('v', 's', 'db' styles).\n",
    "\n",
    "- __db_vect__ (*array-like object, optional*) vector associated with the dumbbell interstitial ('db' style).\n",
    "\n",
    "- __scale__ (*bool, optional*) indicates if pos and db_vect are absolute (False) or box-relative (True). Default is False.\n",
    "\n",
    "- __atol__ (*float, optional*) absolute tolerance for position-based searching. Default is 1e-3 angstroms."
   ]
  },
  {
   "cell_type": "code",
   "execution_count": 2,
   "metadata": {},
   "outputs": [
    {
     "name": "stdout",
     "output_type": "stream",
     "text": [
      "    atype   pos[0]   pos[1]   pos[2]\n",
      "0       1  0.00000  0.00000  0.00000\n",
      "1       1  1.43325  1.43325  1.43325\n",
      "2       1  2.86650  0.00000  0.00000\n",
      "3       1  4.29975  1.43325  1.43325\n",
      "4       1  0.00000  2.86650  0.00000\n",
      "5       1  1.43325  4.29975  1.43325\n",
      "6       1  2.86650  2.86650  0.00000\n",
      "7       1  4.29975  4.29975  1.43325\n",
      "8       1  0.00000  0.00000  2.86650\n",
      "9       1  1.43325  1.43325  4.29975\n",
      "10      1  2.86650  0.00000  2.86650\n",
      "11      1  4.29975  1.43325  4.29975\n",
      "12      1  0.00000  2.86650  2.86650\n",
      "13      1  1.43325  4.29975  4.29975\n",
      "14      1  2.86650  2.86650  2.86650\n",
      "15      1  4.29975  4.29975  4.29975\n"
     ]
    }
   ],
   "source": [
    "# Define 2x2x2 bcc demonstration supercell\n",
    "a = uc.set_in_units(2.8665, 'angstrom')\n",
    "box = am.Box(a=a, b=a, c=a)\n",
    "atoms = am.Atoms(atype=1, pos=[[0.0,0.0,0.0], [0.5,0.5,0.5]])\n",
    "ucell = am.System(atoms=atoms, box=box, scale=True)\n",
    "system = ucell.supersize(2,2,2)\n",
    "print(system.atoms_df())"
   ]
  },
  {
   "cell_type": "code",
   "execution_count": 3,
   "metadata": {},
   "outputs": [
    {
     "name": "stdout",
     "output_type": "stream",
     "text": [
      "    atype   pos[0]   pos[1]   pos[2]  old_id\n",
      "0       1  0.00000  0.00000  0.00000       0\n",
      "1       1  1.43325  1.43325  1.43325       1\n",
      "2       1  2.86650  0.00000  0.00000       2\n",
      "3       1  4.29975  1.43325  1.43325       3\n",
      "4       1  0.00000  2.86650  0.00000       4\n",
      "5       1  2.86650  2.86650  0.00000       6\n",
      "6       1  4.29975  4.29975  1.43325       7\n",
      "7       1  0.00000  0.00000  2.86650       8\n",
      "8       1  1.43325  1.43325  4.29975       9\n",
      "9       1  2.86650  0.00000  2.86650      10\n",
      "10      1  4.29975  1.43325  4.29975      11\n",
      "11      1  0.00000  2.86650  2.86650      12\n",
      "12      1  1.43325  4.29975  4.29975      13\n",
      "13      1  2.86650  2.86650  2.86650      14\n",
      "14      1  4.29975  4.29975  4.29975      15\n",
      "15      1  1.13325  3.99975  1.13325       5\n",
      "16      1  1.73325  4.59975  1.73325      16\n"
     ]
    }
   ],
   "source": [
    "# Change atom 5 into <111> dumbbell interstitial pair\n",
    "defect_system = am.defect.point(system, 'db', ptd_id=5, db_vect=[0.3, 0.3, 0.3])\n",
    "print(defect_system.atoms_df())"
   ]
  },
  {
   "cell_type": "markdown",
   "metadata": {},
   "source": [
    "## 3. Volterra dislocation solutions\n",
    "\n",
    "*Updated version 1.2.5:* Ability to solve isotropic solutions added.\n",
    "\n",
    "The atomman.defect.solve_volterra_dislocation() function generates an elasticity solution for a perfectly straight dislocation. The function returns either a Stroh object or a IsotropicVolterraDislocation object which has methods for obtaining position-based displacements and stress states, as well as energy-related parameters.  \n",
    "\n",
    "See the [04.2. Volterra dislocation models Jupyter Notebook](04.2._Volterra_dislocation_models.html) for more details on the methods and theory."
   ]
  },
  {
   "cell_type": "markdown",
   "metadata": {},
   "source": [
    "## 4. Dislocation anaylsis tools\n",
    "\n",
    "There are also a number of analysis tools for characterizing dislocations and other crystalline defects.\n",
    "\n",
    "- **atomman.defect.slip_vector()** calculates the slip vector for all atoms in a system.  This is a good tool for characterizing plastic deformation within a system that occurs between two points in time. \n",
    "\n",
    "- **atomman.defect.disregistry()** characterizes a dislocation's planar spreading by calculating the relative displacement of atoms between the atomic planes above and below the dislocation's slip plane. \n",
    "\n",
    "- **atomman.defect.nye_tensor()** allows for dislocation cores to be characterized using the gradient of the deformation tensor.  Also calculates the strain state for all atoms in the system relative to a perfect crystal configuration.\n",
    "\n",
    "- **atomman.defect.differential_displacement()** allows for dislocation cores to be characterized using the difference in the displacements between all pairs of neighbor atoms relative to a perfect crystal configuration.\n",
    "\n",
    "See the [04.3. Dislocation analysis tools Jupyter Notebook](04.3._Dislocation_analysis_tools.html) for the underlying theory and examples of the tools being used."
   ]
  },
  {
   "cell_type": "markdown",
   "metadata": {},
   "source": [
    "## 5. Free surface tools\n",
    "\n",
    "Atomic configurations with a specific crystalline free surface can be identified using the atomman.defect.free_surface_basis() function.  See the [04.4. Free surface rotation basis Jupyter Notebook](04.4._Free_surface_rotation_basis.html) for the underlying theory and examples of the tool being used."
   ]
  },
  {
   "cell_type": "markdown",
   "metadata": {},
   "source": [
    "## 6. Generalized stacking fault / gamma surface tools\n",
    "\n",
    "The atomman.defect.StackingFault class provides methods for generating atomic configurations of generalized stacking faults that can be used to compute stacking fault energies.  You can generate either a single configuration, or a 1D array of configurations for a slip plane and direction, or a 2D map of configurations exploring the full gamma surface.\n",
    "\n",
    "See the [04.5. Stacking fault configuration generator Jupyter Notebook](04.5._Stacking_fault_configuration_generator.html) for a description of the class and examples.\n",
    "\n",
    "The atomman.defect.GammaSurface class provides convenient methods for plotting and interpolating generalized stacking fault ($\\gamma$ surface) data.\n",
    "\n",
    "See the [04.6. Gamma surface plotting Jupyter Notebook](04.6._Gamma_surface_plotting.html) for a description of the class and examples."
   ]
  },
  {
   "cell_type": "markdown",
   "metadata": {},
   "source": [
    "## 7. Semidiscrete variational Peierls-Nabarro dislocations\n",
    "\n",
    "Classes and functions are included that allow for semidiscrete variational Peierls-Nabarro models of dislocations to be solved. \n",
    "\n",
    "See the [04.7. Semidiscrete variational Peierls-Nabarro model Jupyter Notebook](04.7._Semidiscrete_variational_Peierls-Nabarro_model.html) for a description of the method and examples. "
   ]
  },
  {
   "cell_type": "markdown",
   "metadata": {},
   "source": [
    "## 8. Periodic array of dislocations\n",
    "\n",
    "The atomman.defect.dislocation_array() function helps generate a periodic array of dislocations atomic configuration useful for studying dislocation slip and dislocations with large stacking faults.\n",
    "\n",
    "See the [04.8. Periodic array of dislocations Jupyter Notebook](04.8._Periodic_array_of_dislocations.html) for a description of the method and examples. "
   ]
  }
 ],
 "metadata": {
  "kernelspec": {
   "display_name": "Python 3",
   "language": "python",
   "name": "python3"
  },
  "language_info": {
   "codemirror_mode": {
    "name": "ipython",
    "version": 3
   },
   "file_extension": ".py",
   "mimetype": "text/x-python",
   "name": "python",
   "nbconvert_exporter": "python",
   "pygments_lexer": "ipython3",
   "version": "3.7.3"
  }
 },
 "nbformat": 4,
 "nbformat_minor": 2
}
