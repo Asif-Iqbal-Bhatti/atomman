{
 "cells": [
  {
   "cell_type": "markdown",
   "metadata": {},
   "source": [
    "# Introduction to atomman: prototype loading\n",
    "\n",
    "__Lucas M. Hale__, [lucas.hale@nist.gov](mailto:lucas.hale@nist.gov?Subject=ipr-demo), _Materials Science and Engineering Division, NIST_.\n",
    "    \n",
    "[Disclaimers](http://www.nist.gov/public_affairs/disclaimer.cfm) "
   ]
  },
  {
   "cell_type": "markdown",
   "metadata": {},
   "source": [
    "## 1. Introduction\n",
    "\n",
    "The crystal_prototype records found in the NIST Interatomic Potentials Repository database (https://potentials.nist.gov/) define a number of unit cells for standard crystal prototypes. The 'prototype' load option allows Systems to be constructed based on the information in these records.  The information can be loaded either from a local copy of the database or the remote database.  "
   ]
  },
  {
   "cell_type": "markdown",
   "metadata": {},
   "source": [
    "**Library Imports**"
   ]
  },
  {
   "cell_type": "code",
   "execution_count": 1,
   "metadata": {},
   "outputs": [
    {
     "name": "stdout",
     "output_type": "stream",
     "text": [
      "atomman version = 1.3.4\n",
      "Notebook executed on 2020-09-10\n"
     ]
    }
   ],
   "source": [
    "# Standard Python libraries\n",
    "import datetime\n",
    "\n",
    "# http://www.numpy.org/\n",
    "import numpy as np\n",
    "\n",
    "import atomman as am\n",
    "import atomman.unitconvert as uc\n",
    "\n",
    "# Show atomman version\n",
    "print('atomman version =', am.__version__)\n",
    "\n",
    "# Show date of Notebook execution\n",
    "print('Notebook executed on', datetime.date.today())"
   ]
  },
  {
   "cell_type": "markdown",
   "metadata": {},
   "source": [
    "## 2. atomman.load('prototype')\n",
    "\n",
    "Accesses the potentials database to retrieve a crystal_prototype record and generate a unit cell System based on it.\n",
    "\n",
    "Query parameters\n",
    "\n",
    "- __id__ (*str or list, optional*) Prototype ID(s) to search for.  These are unique identifiers for each prototype based on comm.\n",
    "- __key__ (*str or list, optional*) UUID4 key(s) to search for.  Each entry has a unique random-generated UUID4 key.\n",
    "- __name__ (*str or list, optional*) Common name(s) to limit the search by.\n",
    "- __prototype__ (*str or list, optional*) Prototype identifying composition(s) to limit the search by.\n",
    "- __pearson__ (*str or list, optional*) The Pearson symbol(s) to limit the search by.\n",
    "- __strukturbericht__ (*str or list, optional*) The strukturbericht identifier(s) to limit the search by.\n",
    "- __sg_number__ (*int or list, optional*) The space group number(s) to limit the search by.\n",
    "- __sg_hm__ (*str or list, optional*) The space group Hermann-Maguin identifier(s) to limit the search by.\n",
    "- __sg_schoenflies__ (*str or list, optional*) The space group Schoenflies identifier(s) to limit the search by.\n",
    "- __keyword__ (*str, optional*) If given, will limit the search to all records that contain the keyword substring.  Cannot be combined with any of the above parameters.\n",
    "\n",
    "Modification parameters\n",
    "\n",
    "- __a__ (*float, optional*) The a lattice parameter to scale the prototype by. Can only be given if it is a unique lattice parameter for the prototype's crystal family, and if all other unique lattice parameters are given.\n",
    "- __b__ (*float, optional*) The b lattice parameter to scale the prototype by. Can only be given if it is a unique lattice parameter for the prototype's crystal family, and if all other unique lattice parameters are given.\n",
    "- __c__ (*float, optional*) The c lattice parameter to scale the prototype by. Can only be given if it is a unique lattice parameter for the prototype's crystal family, and if all other unique lattice parameters are given.\n",
    "- __alpha__ (*float, optional*) The alpha lattice angle to scale the prototype by. Can only be given if it is a unique lattice parameter for the prototype's crystal family, and if all other unique lattice parameters are given.\n",
    "- __beta__ (*float, optional*) The beta lattice angle to scale the prototype by. Can only be given if it is a unique lattice parameter for the prototype's crystal family, and if all other unique lattice parameters are given.\n",
    "- __gamma__ (*gamma, optional*) The alpha lattice angle to scale the prototype by. Can only be given if it is a unique lattice parameter for the prototype's crystal family, and if all other unique lattice parameters are given.\n",
    "- __symbol__ (*tuple, optional*) Allows the list of element symbols to be assigned during loading. Useful if the symbols for the model differ from the standard element tags or if the poscar file has no elemental information.\n",
    "\n",
    "Database option parameters\n",
    "\n",
    "- __database__ (*atomman.library.Database, optional*) A pre-defined Database object to use.  If not given, will initialize a new Database object.  Passing in a database can save time if multiple calls are made for the same record type. \n",
    "- __localpath__ (*str, optional*) The local library path to use when initializing a new Database.  IF not given, will use the default localpath.  Ignored if database is given. \n",
    "- __local__ (*bool, optional*) Indicates if the Database object is to look for local records.  Default is True.  Ignored if database is given.\n",
    "- __remote__ (*bool, optional*) Indicates if the Database object is to look for remote records.  Default is True.  Ignored if database is given.\n",
    "- __verbose__ (*bool, optional*) If True, info messages will be printed during operations.  Default value is False.\n",
    "\n",
    "Returns\n",
    "    \n",
    "- __system__ (*atomman.System*) The system object generated from the crystal prototype."
   ]
  },
  {
   "cell_type": "markdown",
   "metadata": {},
   "source": [
    "### 2.1 Query parameters\n",
    "\n",
    "Prototypes can be selected based on a number of alternate names, or by using the keyword parameter which will do a string comparision with the record content."
   ]
  },
  {
   "cell_type": "code",
   "execution_count": 2,
   "metadata": {},
   "outputs": [
    {
     "name": "stdout",
     "output_type": "stream",
     "text": [
      "avect =  [ 1.000,  0.000,  0.000]\n",
      "bvect =  [ 0.000,  1.000,  0.000]\n",
      "cvect =  [ 0.000,  0.000,  1.000]\n",
      "origin = [ 0.000,  0.000,  0.000]\n",
      "natoms = 4\n",
      "natypes = 1\n",
      "symbols = (None,)\n",
      "pbc = [ True  True  True]\n",
      "per-atom properties = ['atype', 'pos']\n",
      "     id |   atype |  pos[0] |  pos[1] |  pos[2]\n",
      "      0 |       1 |   0.000 |   0.000 |   0.000\n",
      "      1 |       1 |   0.000 |   0.500 |   0.500\n",
      "      2 |       1 |   0.500 |   0.000 |   0.500\n",
      "      3 |       1 |   0.500 |   0.500 |   0.000\n"
     ]
    }
   ],
   "source": [
    "ucell = am.load(\"prototype\", id='A1--Cu--fcc')\n",
    "print(ucell)"
   ]
  },
  {
   "cell_type": "code",
   "execution_count": 3,
   "metadata": {},
   "outputs": [
    {
     "name": "stdout",
     "output_type": "stream",
     "text": [
      "avect =  [ 1.000,  0.000,  0.000]\n",
      "bvect =  [ 0.000,  1.000,  0.000]\n",
      "cvect =  [ 0.000,  0.000,  1.000]\n",
      "origin = [ 0.000,  0.000,  0.000]\n",
      "natoms = 4\n",
      "natypes = 1\n",
      "symbols = (None,)\n",
      "pbc = [ True  True  True]\n",
      "per-atom properties = ['atype', 'pos']\n",
      "     id |   atype |  pos[0] |  pos[1] |  pos[2]\n",
      "      0 |       1 |   0.000 |   0.000 |   0.000\n",
      "      1 |       1 |   0.000 |   0.500 |   0.500\n",
      "      2 |       1 |   0.500 |   0.000 |   0.500\n",
      "      3 |       1 |   0.500 |   0.500 |   0.000\n"
     ]
    }
   ],
   "source": [
    "ucell = am.load(\"prototype\", keyword='fcc')\n",
    "print(ucell)"
   ]
  },
  {
   "cell_type": "markdown",
   "metadata": {},
   "source": [
    "If no query parameters are given or multiple matches are found, then a list and prompt will be given for you to select from."
   ]
  },
  {
   "cell_type": "code",
   "execution_count": 4,
   "metadata": {},
   "outputs": [
    {
     "name": "stdout",
     "output_type": "stream",
     "text": [
      "Multiple matching crystal prototypes found.\n",
      "1 A3'--alpha-La--double-hcp\n",
      "2 A3--Mg--hcp\n",
      "Select which one: 2\n",
      "avect =  [ 1.000,  0.000,  0.000]\n",
      "bvect =  [-0.500,  0.866,  0.000]\n",
      "cvect =  [ 0.000,  0.000,  1.633]\n",
      "origin = [ 0.000,  0.000,  0.000]\n",
      "natoms = 2\n",
      "natypes = 1\n",
      "symbols = (None,)\n",
      "pbc = [ True  True  True]\n",
      "per-atom properties = ['atype', 'pos']\n",
      "     id |   atype |  pos[0] |  pos[1] |  pos[2]\n",
      "      0 |       1 |   0.000 |   0.000 |   0.000\n",
      "      1 |       1 |   0.000 |   0.577 |   0.816\n"
     ]
    }
   ],
   "source": [
    "# hcp and double-hcp are both in the database\n",
    "ucell = am.load(\"prototype\", keyword='hcp')\n",
    "print(ucell)"
   ]
  },
  {
   "cell_type": "markdown",
   "metadata": {},
   "source": [
    "### 2.2. Modification parameters\n",
    "\n",
    "The nature of a crystal prototype is that it is stripped of element-specific information: there are no elements/symbols assigned to the atom types and all lattice constants are scaled based on a=1 and the \"ideal\" ratios for the reference crystal.  Because of this, the lattice constants and symbols can be set within the load method.\n",
    "\n",
    "__NOTE__: The allowed lattice constants for this method depend on the independent lattice constants associated with the prototype's crystal family (cubic, hexagonal, etc.).  Either all or none of the independent lattice constants can be set during load. "
   ]
  },
  {
   "cell_type": "code",
   "execution_count": 5,
   "metadata": {},
   "outputs": [
    {
     "name": "stdout",
     "output_type": "stream",
     "text": [
      "avect =  [ 4.050,  0.000,  0.000]\n",
      "bvect =  [ 0.000,  4.050,  0.000]\n",
      "cvect =  [ 0.000,  0.000,  4.050]\n",
      "origin = [ 0.000,  0.000,  0.000]\n",
      "natoms = 4\n",
      "natypes = 1\n",
      "symbols = ('Al',)\n",
      "pbc = [ True  True  True]\n",
      "per-atom properties = ['atype', 'pos']\n",
      "     id |   atype |  pos[0] |  pos[1] |  pos[2]\n",
      "      0 |       1 |   0.000 |   0.000 |   0.000\n",
      "      1 |       1 |   0.000 |   2.025 |   2.025\n",
      "      2 |       1 |   2.025 |   0.000 |   2.025\n",
      "      3 |       1 |   2.025 |   2.025 |   0.000\n"
     ]
    }
   ],
   "source": [
    "ucell = am.load(\"prototype\", keyword='fcc', a=4.05, symbols='Al')\n",
    "print(ucell)"
   ]
  },
  {
   "cell_type": "code",
   "execution_count": 6,
   "metadata": {},
   "outputs": [
    {
     "name": "stdout",
     "output_type": "stream",
     "text": [
      "avect =  [ 2.950,  0.000,  0.000]\n",
      "bvect =  [-1.475,  2.555,  0.000]\n",
      "cvect =  [ 0.000,  0.000,  4.700]\n",
      "origin = [ 0.000,  0.000,  0.000]\n",
      "natoms = 2\n",
      "natypes = 1\n",
      "symbols = ('Ti',)\n",
      "pbc = [ True  True  True]\n",
      "per-atom properties = ['atype', 'pos']\n",
      "     id |   atype |  pos[0] |  pos[1] |  pos[2]\n",
      "      0 |       1 |   0.000 |   0.000 |   0.000\n",
      "      1 |       1 |   0.000 |   1.703 |   2.350\n"
     ]
    }
   ],
   "source": [
    "ucell = am.load(\"prototype\", 'A3--Mg--hcp', a=2.95, c=4.70, symbols='Ti')\n",
    "print(ucell)"
   ]
  },
  {
   "cell_type": "markdown",
   "metadata": {},
   "source": [
    "### 2.3. Database parameters\n",
    "\n",
    "The last parameters are associated with the settings for accessing the database where the crystal_prototype records are stored. An existing atomman.library.Database object can be used to access the data according to pre-defined settings, or the function can be called with database settings given so that a new Database object can be properly initialized."
   ]
  },
  {
   "cell_type": "code",
   "execution_count": 7,
   "metadata": {},
   "outputs": [
    {
     "name": "stdout",
     "output_type": "stream",
     "text": [
      "avect =  [ 4.050,  0.000,  0.000]\n",
      "bvect =  [ 0.000,  4.050,  0.000]\n",
      "cvect =  [ 0.000,  0.000,  4.050]\n",
      "origin = [ 0.000,  0.000,  0.000]\n",
      "natoms = 4\n",
      "natypes = 1\n",
      "symbols = ('Al',)\n",
      "pbc = [ True  True  True]\n",
      "per-atom properties = ['atype', 'pos']\n",
      "     id |   atype |  pos[0] |  pos[1] |  pos[2]\n",
      "      0 |       1 |   0.000 |   0.000 |   0.000\n",
      "      1 |       1 |   0.000 |   2.025 |   2.025\n",
      "      2 |       1 |   2.025 |   0.000 |   2.025\n",
      "      3 |       1 |   2.025 |   2.025 |   0.000\n"
     ]
    }
   ],
   "source": [
    "# Initialize a database object beforehand with remote searches turned off\n",
    "db = am.library.Database(local=True, remote=False, load='crystal_prototype')\n",
    "\n",
    "ucell = am.load(\"prototype\", keyword='fcc', a=4.05, symbols='Al', database=db)\n",
    "print(ucell)"
   ]
  },
  {
   "cell_type": "code",
   "execution_count": 8,
   "metadata": {},
   "outputs": [
    {
     "name": "stdout",
     "output_type": "stream",
     "text": [
      "avect =  [ 4.050,  0.000,  0.000]\n",
      "bvect =  [ 0.000,  4.050,  0.000]\n",
      "cvect =  [ 0.000,  0.000,  4.050]\n",
      "origin = [ 0.000,  0.000,  0.000]\n",
      "natoms = 4\n",
      "natypes = 1\n",
      "symbols = ('Al',)\n",
      "pbc = [ True  True  True]\n",
      "per-atom properties = ['atype', 'pos']\n",
      "     id |   atype |  pos[0] |  pos[1] |  pos[2]\n",
      "      0 |       1 |   0.000 |   0.000 |   0.000\n",
      "      1 |       1 |   0.000 |   2.025 |   2.025\n",
      "      2 |       1 |   2.025 |   0.000 |   2.025\n",
      "      3 |       1 |   2.025 |   2.025 |   0.000\n"
     ]
    }
   ],
   "source": [
    "# Alternatively, set the database parameter remote=False during the load call\n",
    "ucell = am.load(\"prototype\", keyword='fcc', a=4.05, symbols='Al', local=True, remote=False)\n",
    "print(ucell)"
   ]
  }
 ],
 "metadata": {
  "kernelspec": {
   "display_name": "Python 3",
   "language": "python",
   "name": "python3"
  },
  "language_info": {
   "codemirror_mode": {
    "name": "ipython",
    "version": 3
   },
   "file_extension": ".py",
   "mimetype": "text/x-python",
   "name": "python",
   "nbconvert_exporter": "python",
   "pygments_lexer": "ipython3",
   "version": "3.7.4"
  }
 },
 "nbformat": 4,
 "nbformat_minor": 2
}
