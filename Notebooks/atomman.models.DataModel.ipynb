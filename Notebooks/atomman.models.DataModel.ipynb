{
 "cells": [
  {
   "cell_type": "markdown",
   "metadata": {},
   "source": [
    "#AtomMan DataModel Class Demonstration\n",
    "\n",
    "__The DataModel class is a utility tool for working with structured data models.  It handles the conversions between equivalent representations of json, XML and Python dictionaries.  It also has a few methods associated with checking the data model type and recursively retrieving elements from the model.__\n",
    "\n",
    "__The underlying code can be found in atomman/models/DataModel.py.__"
   ]
  },
  {
   "cell_type": "markdown",
   "metadata": {},
   "source": [
    "##0. Initial setup"
   ]
  },
  {
   "cell_type": "markdown",
   "metadata": {},
   "source": [
    "__Library imports__"
   ]
  },
  {
   "cell_type": "code",
   "execution_count": 1,
   "metadata": {
    "collapsed": true
   },
   "outputs": [],
   "source": [
    "#imports\n",
    "from collections import OrderedDict\n",
    "import atomman as am"
   ]
  },
  {
   "cell_type": "markdown",
   "metadata": {},
   "source": [
    "__The DataModel is a wrapper around an OrderedDict called data.__"
   ]
  },
  {
   "cell_type": "code",
   "execution_count": 2,
   "metadata": {
    "collapsed": false
   },
   "outputs": [
    {
     "name": "stdout",
     "output_type": "stream",
     "text": [
      "OrderedDict()\n"
     ]
    }
   ],
   "source": [
    "#Create an empty DataModel\n",
    "model = am.models.DataModel()\n",
    "\n",
    "print model.data"
   ]
  },
  {
   "cell_type": "markdown",
   "metadata": {},
   "source": [
    "__From Python, a tiered model can be built up by assigning values, lists and other OrderdDicts to the keys of data.__"
   ]
  },
  {
   "cell_type": "code",
   "execution_count": 3,
   "metadata": {
    "collapsed": false
   },
   "outputs": [
    {
     "name": "stdout",
     "output_type": "stream",
     "text": [
      "OrderedDict([('demo', OrderedDict([('cat1', OrderedDict([('value', [100L, 200L, 300L]), ('unit', ['angstrom'])])), ('cat2', [OrderedDict([('value', 1.23), ('unit', 'eV')]), OrderedDict([('value', 1.29), ('unit', 'eV')])])]))])\n"
     ]
    }
   ],
   "source": [
    "#Create tiered dictionary for demonstration purposes\n",
    "model.data['demo'] = OrderedDict()\n",
    "\n",
    "model.data['demo']['cat1'] = OrderedDict()\n",
    "model.data['demo']['cat1']['value'] = [100L, 200L, 300L]\n",
    "model.data['demo']['cat1']['unit'] = ['angstrom']\n",
    "\n",
    "model.data['demo']['cat2'] = []\n",
    "model.data['demo']['cat2'].append(OrderedDict([ ('value', 1.23), ('unit', 'eV') ]))\n",
    "model.data['demo']['cat2'].append(OrderedDict([ ('value', 1.29), ('unit', 'eV') ]))\n",
    "\n",
    "print model.data"
   ]
  },
  {
   "cell_type": "markdown",
   "metadata": {},
   "source": [
    "##1.  DataModel.loads() and DataModel.dumps()\n",
    "\n",
    "__The loads() method reads in a string in either json or XML format and converts it to an OrderedDict DataModel.data. The dumps() method converts the internal dictionary DataModel.data into either a json or XML formatted string.  For dumps(), the argument format specifies which style to return the string in. The default format is 'json'.__"
   ]
  },
  {
   "cell_type": "code",
   "execution_count": 4,
   "metadata": {
    "collapsed": false
   },
   "outputs": [
    {
     "name": "stdout",
     "output_type": "stream",
     "text": [
      "{\n",
      "    \"demo\": {\n",
      "        \"cat1\": {\n",
      "            \"value\": [\n",
      "                100,\n",
      "                200,\n",
      "                300\n",
      "            ],\n",
      "            \"unit\": [\n",
      "                \"angstrom\"\n",
      "            ]\n",
      "        },\n",
      "        \"cat2\": [\n",
      "            {\n",
      "                \"value\": 1.23,\n",
      "                \"unit\": \"eV\"\n",
      "            },\n",
      "            {\n",
      "                \"value\": 1.29,\n",
      "                \"unit\": \"eV\"\n",
      "            }\n",
      "        ]\n",
      "    }\n",
      "}\n"
     ]
    }
   ],
   "source": [
    "#dumps to json\n",
    "json_data = model.dumps()\n",
    "print json_data"
   ]
  },
  {
   "cell_type": "code",
   "execution_count": 5,
   "metadata": {
    "collapsed": false
   },
   "outputs": [
    {
     "name": "stdout",
     "output_type": "stream",
     "text": [
      "OrderedDict([(u'demo', OrderedDict([(u'cat1', OrderedDict([(u'value', [100L, 200L, 300L]), (u'unit', [u'angstrom'])])), (u'cat2', [OrderedDict([(u'value', 1.23), (u'unit', u'eV')]), OrderedDict([(u'value', 1.29), (u'unit', u'eV')])])]))])\n"
     ]
    }
   ],
   "source": [
    "#loads from json\n",
    "model.loads(json_data)\n",
    "print model.data"
   ]
  },
  {
   "cell_type": "code",
   "execution_count": 6,
   "metadata": {
    "collapsed": false
   },
   "outputs": [
    {
     "name": "stdout",
     "output_type": "stream",
     "text": [
      "{\n",
      "    \"demo\": {\n",
      "        \"cat1\": {\n",
      "            \"value\": [\n",
      "                100,\n",
      "                200,\n",
      "                300\n",
      "            ],\n",
      "            \"unit\": [\n",
      "                \"angstrom\"\n",
      "            ]\n",
      "        },\n",
      "        \"cat2\": [\n",
      "            {\n",
      "                \"value\": 1.23,\n",
      "                \"unit\": \"eV\"\n",
      "            },\n",
      "            {\n",
      "                \"value\": 1.29,\n",
      "                \"unit\": \"eV\"\n",
      "            }\n",
      "        ]\n",
      "    }\n",
      "}\n"
     ]
    }
   ],
   "source": [
    "#converting the data model to a string is equivalent to calling dumps()\n",
    "print model"
   ]
  },
  {
   "cell_type": "code",
   "execution_count": 7,
   "metadata": {
    "collapsed": false
   },
   "outputs": [
    {
     "name": "stdout",
     "output_type": "stream",
     "text": [
      "<?xml version=\"1.0\" encoding=\"utf-8\"?>\n",
      "<demo>\n",
      "\t<cat1>\n",
      "\t\t<value>100</value>\n",
      "\t\t<value>200</value>\n",
      "\t\t<value>300</value>\n",
      "\t\t<unit>angstrom</unit>\n",
      "\t</cat1>\n",
      "\t<cat2>\n",
      "\t\t<value>1.23</value>\n",
      "\t\t<unit>eV</unit>\n",
      "\t</cat2>\n",
      "\t<cat2>\n",
      "\t\t<value>1.29</value>\n",
      "\t\t<unit>eV</unit>\n",
      "\t</cat2>\n",
      "</demo>\n"
     ]
    }
   ],
   "source": [
    "#dumps to xml\n",
    "xml_data = model.dumps('xml')\n",
    "print xml_data"
   ]
  },
  {
   "cell_type": "code",
   "execution_count": 8,
   "metadata": {
    "collapsed": false
   },
   "outputs": [
    {
     "name": "stdout",
     "output_type": "stream",
     "text": [
      "OrderedDict([(u'demo', OrderedDict([(u'cat1', OrderedDict([(u'value', [100L, 200L, 300L]), (u'unit', u'angstrom')])), (u'cat2', [OrderedDict([(u'value', 1.23), (u'unit', u'eV')]), OrderedDict([(u'value', 1.29), (u'unit', u'eV')])])]))])\n"
     ]
    }
   ],
   "source": [
    "#loads from xml\n",
    "model.loads(xml_data)\n",
    "print model.data"
   ]
  },
  {
   "cell_type": "markdown",
   "metadata": {},
   "source": [
    "__A DataModel can also be initilized by giving a json or xml string as an argument.__"
   ]
  },
  {
   "cell_type": "code",
   "execution_count": 9,
   "metadata": {
    "collapsed": false
   },
   "outputs": [
    {
     "name": "stdout",
     "output_type": "stream",
     "text": [
      "OrderedDict([(u'demo', OrderedDict([(u'cat1', OrderedDict([(u'value', [100L, 200L, 300L]), (u'unit', [u'angstrom'])])), (u'cat2', [OrderedDict([(u'value', 1.23), (u'unit', u'eV')]), OrderedDict([(u'value', 1.29), (u'unit', u'eV')])])]))])\n",
      "\n",
      "OrderedDict([(u'demo', OrderedDict([(u'cat1', OrderedDict([(u'value', [100L, 200L, 300L]), (u'unit', u'angstrom')])), (u'cat2', [OrderedDict([(u'value', 1.23), (u'unit', u'eV')]), OrderedDict([(u'value', 1.29), (u'unit', u'eV')])])]))])\n"
     ]
    }
   ],
   "source": [
    "#initilize with json string\n",
    "model2 = am.models.DataModel(json_data)\n",
    "print model2.data\n",
    "print \n",
    "\n",
    "#initilize with xml string\n",
    "model3 = am.models.DataModel(xml_data)\n",
    "print model3.data"
   ]
  },
  {
   "cell_type": "markdown",
   "metadata": {},
   "source": [
    "##2.  DataModel.load() and DataModel.dump()\n",
    "\n",
    "__The load() method reads in an .json or .xml file and converts it to an OrderedDict DataModel.data. The dump() method writes the internal dictionary DataModel.data to either a .json or .xml file.  For both methods the file type is identified using the file name.__"
   ]
  },
  {
   "cell_type": "code",
   "execution_count": 10,
   "metadata": {
    "collapsed": false
   },
   "outputs": [
    {
     "name": "stdout",
     "output_type": "stream",
     "text": [
      "{\n",
      "    \"demo\": {\n",
      "        \"cat1\": {\n",
      "            \"value\": [\n",
      "                100,\n",
      "                200,\n",
      "                300\n",
      "            ],\n",
      "            \"unit\": \"angstrom\"\n",
      "        },\n",
      "        \"cat2\": [\n",
      "            {\n",
      "                \"value\": 1.23,\n",
      "                \"unit\": \"eV\"\n",
      "            },\n",
      "            {\n",
      "                \"value\": 1.29,\n",
      "                \"unit\": \"eV\"\n",
      "            }\n",
      "        ]\n",
      "    }\n",
      "}\n"
     ]
    }
   ],
   "source": [
    "#dump to json file  \n",
    "model.dump('test.json')\n",
    "\n",
    "with open('test.json') as f:\n",
    "    print f.read()"
   ]
  },
  {
   "cell_type": "code",
   "execution_count": 11,
   "metadata": {
    "collapsed": false
   },
   "outputs": [
    {
     "name": "stdout",
     "output_type": "stream",
     "text": [
      "OrderedDict([(u'demo', OrderedDict([(u'cat1', OrderedDict([(u'value', [100L, 200L, 300L]), (u'unit', u'angstrom')])), (u'cat2', [OrderedDict([(u'value', 1.23), (u'unit', u'eV')]), OrderedDict([(u'value', 1.29), (u'unit', u'eV')])])]))])\n"
     ]
    }
   ],
   "source": [
    "#load from json file\n",
    "model.load('test.json')\n",
    "print model.data"
   ]
  },
  {
   "cell_type": "code",
   "execution_count": 12,
   "metadata": {
    "collapsed": false
   },
   "outputs": [
    {
     "name": "stdout",
     "output_type": "stream",
     "text": [
      "<?xml version=\"1.0\" encoding=\"utf-8\"?>\n",
      "<demo>\n",
      "\t<cat1>\n",
      "\t\t<value>100</value>\n",
      "\t\t<value>200</value>\n",
      "\t\t<value>300</value>\n",
      "\t\t<unit>angstrom</unit>\n",
      "\t</cat1>\n",
      "\t<cat2>\n",
      "\t\t<value>1.23</value>\n",
      "\t\t<unit>eV</unit>\n",
      "\t</cat2>\n",
      "\t<cat2>\n",
      "\t\t<value>1.29</value>\n",
      "\t\t<unit>eV</unit>\n",
      "\t</cat2>\n",
      "</demo>\n"
     ]
    }
   ],
   "source": [
    "#dump to xml file\n",
    "model.dump('test.xml')\n",
    "\n",
    "with open('test.xml') as f:\n",
    "    print f.read()"
   ]
  },
  {
   "cell_type": "code",
   "execution_count": 13,
   "metadata": {
    "collapsed": false
   },
   "outputs": [
    {
     "name": "stdout",
     "output_type": "stream",
     "text": [
      "OrderedDict([(u'demo', OrderedDict([(u'cat1', OrderedDict([(u'value', [100L, 200L, 300L]), (u'unit', u'angstrom')])), (u'cat2', [OrderedDict([(u'value', 1.23), (u'unit', u'eV')]), OrderedDict([(u'value', 1.29), (u'unit', u'eV')])])]))])\n"
     ]
    }
   ],
   "source": [
    "#load from xml file\n",
    "model.load('test.xml')\n",
    "print model.data"
   ]
  },
  {
   "cell_type": "markdown",
   "metadata": {},
   "source": [
    "__A DataModel can also be initilized by giving the name of a .json or .xml file as an argument.__"
   ]
  },
  {
   "cell_type": "code",
   "execution_count": 14,
   "metadata": {
    "collapsed": false
   },
   "outputs": [
    {
     "name": "stdout",
     "output_type": "stream",
     "text": [
      "OrderedDict([(u'demo', OrderedDict([(u'cat1', OrderedDict([(u'value', [100L, 200L, 300L]), (u'unit', [u'angstrom'])])), (u'cat2', [OrderedDict([(u'value', 1.23), (u'unit', u'eV')]), OrderedDict([(u'value', 1.29), (u'unit', u'eV')])])]))])\n",
      "\n",
      "OrderedDict([(u'demo', OrderedDict([(u'cat1', OrderedDict([(u'value', [100L, 200L, 300L]), (u'unit', u'angstrom')])), (u'cat2', [OrderedDict([(u'value', 1.23), (u'unit', u'eV')]), OrderedDict([(u'value', 1.29), (u'unit', u'eV')])])]))])\n"
     ]
    }
   ],
   "source": [
    "#initilize with json file\n",
    "model4 = am.models.DataModel(json_data)\n",
    "print model4.data\n",
    "print \n",
    "\n",
    "#initilize with xml file\n",
    "model5 = am.models.DataModel(xml_data)\n",
    "print model5.data"
   ]
  },
  {
   "cell_type": "markdown",
   "metadata": {},
   "source": [
    "##3. DataModel.ismodel() and DataModel.find()\n",
    "\n",
    "__The ismodel() method is simply a check that the given data model is of a specific type by checking the name of the highest level key.  The find() method performs a recursive search of the data model for a specified key and returns every element with that key.__"
   ]
  },
  {
   "cell_type": "code",
   "execution_count": 15,
   "metadata": {
    "collapsed": false
   },
   "outputs": [
    {
     "name": "stdout",
     "output_type": "stream",
     "text": [
      "model.ismodel('demo') -> True\n",
      "model.ismodel('cat1') -> False\n"
     ]
    }
   ],
   "source": [
    "#ismodel testing\n",
    "print \"model.ismodel('demo') ->\", model.ismodel('demo')\n",
    "print \"model.ismodel('cat1') ->\", model.ismodel('cat1')"
   ]
  },
  {
   "cell_type": "code",
   "execution_count": 16,
   "metadata": {
    "collapsed": false
   },
   "outputs": [
    {
     "name": "stdout",
     "output_type": "stream",
     "text": [
      "model.find('cat1') -> [OrderedDict([(u'value', [100L, 200L, 300L]), (u'unit', u'angstrom')])]\n"
     ]
    }
   ],
   "source": [
    "#find with single occurence\n",
    "print \"model.find('cat1') ->\", model.find('cat1')"
   ]
  },
  {
   "cell_type": "code",
   "execution_count": 17,
   "metadata": {
    "collapsed": false
   },
   "outputs": [
    {
     "name": "stdout",
     "output_type": "stream",
     "text": [
      "model.find('not-there') -> []\n"
     ]
    }
   ],
   "source": [
    "#find with no occurence\n",
    "print \"model.find('not-there') ->\", model.find('not-there')"
   ]
  },
  {
   "cell_type": "code",
   "execution_count": 18,
   "metadata": {
    "collapsed": false
   },
   "outputs": [
    {
     "name": "stdout",
     "output_type": "stream",
     "text": [
      "model.find('value') -> [[100L, 200L, 300L], 1.23, 1.29]\n"
     ]
    }
   ],
   "source": [
    "#find with multiple occurences\n",
    "print \"model.find('value') ->\", model.find('value')"
   ]
  },
  {
   "cell_type": "markdown",
   "metadata": {},
   "source": [
    "__File removal to keep Notebook directory clean.__"
   ]
  },
  {
   "cell_type": "code",
   "execution_count": 19,
   "metadata": {
    "collapsed": true
   },
   "outputs": [],
   "source": [
    "import os\n",
    "os.remove('test.json')\n",
    "os.remove('test.xml')"
   ]
  }
 ],
 "metadata": {
  "kernelspec": {
   "display_name": "Python 2",
   "language": "python",
   "name": "python2"
  },
  "language_info": {
   "codemirror_mode": {
    "name": "ipython",
    "version": 2
   },
   "file_extension": ".py",
   "mimetype": "text/x-python",
   "name": "python",
   "nbconvert_exporter": "python",
   "pygments_lexer": "ipython2",
   "version": "2.7.10"
  }
 },
 "nbformat": 4,
 "nbformat_minor": 0
}
