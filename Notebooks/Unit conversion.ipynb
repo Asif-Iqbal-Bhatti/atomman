{
 "cells": [
  {
   "cell_type": "markdown",
   "metadata": {},
   "source": [
    "#AtomMan Unit Conversion\n",
    "\n",
    "__The atomman package handles unit conversion by building off of the [numericalunits](https://pypi.python.org/pypi/numericalunits) package.  In this manner, units are not 'controlled' but converted at the beginning and end of simulations.  This minimizes overhead and allows for simple code. numericalunits works by defining all units relative to five independent base units (meters, kilograms, seconds, coulombs, kelvins).  In this manner all units for dimensionally correct values will cancel out.  More information can be found in the numericalunits documentation.__\n",
    "\n",
    "__The underlying code can be found in atomman/units.py.__"
   ]
  },
  {
   "cell_type": "markdown",
   "metadata": {},
   "source": [
    "__Library imports__"
   ]
  },
  {
   "cell_type": "code",
   "execution_count": 1,
   "metadata": {
    "collapsed": true
   },
   "outputs": [],
   "source": [
    "#External library imports\n",
    "import numpy as np\n",
    "\n",
    "#atomman imports\n",
    "from atomman import units"
   ]
  },
  {
   "cell_type": "markdown",
   "metadata": {},
   "source": [
    "##1. Value assignment and retrieval\n",
    "\n",
    "__The units module of atomman contains the functions set_in_units() and get_in_units() that handles unit conversions when data is assigned and retrieved, respectively.  The function arguments are value and unit, where unit can be specified as a string, numerical value, or None.__"
   ]
  },
  {
   "cell_type": "code",
   "execution_count": 2,
   "metadata": {
    "collapsed": false
   },
   "outputs": [
    {
     "name": "stdout",
     "output_type": "stream",
     "text": [
      "Units can be specified as strings:\n",
      "five_feet = units.set_in_units(5, 'foot')\n",
      "units.get_in_units(five_feet, 'inch') -> 60.0\n",
      "\n",
      "Alternatively, values can be scaled:\n",
      "relative_position -> [ 0.5  0.5  0.5]\n",
      "units.get_in_units(a_lattice, 'angstrom') -> 3.2\n",
      "position = units.set_in_units(relative_position, a_lattice)\n",
      "units.get_in_units(position, 'angstrom') -> [ 1.6  1.6  1.6]\n",
      "\n",
      "Units of None does no conversion:\n",
      "units.get_in_units(42, None) -> 42\n",
      "units.set_in_units(42, None) -> 42\n"
     ]
    }
   ],
   "source": [
    "#Using set_in_units and get_in_units with string unit names\n",
    "print \"Units can be specified as strings:\"\n",
    "print \"five_feet = units.set_in_units(5, 'foot')\"\n",
    "five_feet = units.set_in_units(5, 'foot')\n",
    "print \"units.get_in_units(five_feet, 'inch') ->\", units.get_in_units(five_feet, 'inch') \n",
    "print \n",
    "\n",
    "#If one value is relative to another, the already assigned value can be used\n",
    "print 'Alternatively, values can be scaled:'\n",
    "relative_position = np.array([0.5, 0.5, 0.5])\n",
    "print \"relative_position ->\", relative_position\n",
    "\n",
    "a_lattice = units.set_in_units(3.2, 'angstrom')\n",
    "print \"units.get_in_units(a_lattice, 'angstrom') ->\", units.get_in_units(a_lattice, 'angstrom')\n",
    "\n",
    "print \"position = units.set_in_units(relative_position, a_lattice)\"\n",
    "position = units.set_in_units(relative_position, a_lattice)\n",
    "print \"units.get_in_units(position, 'angstrom') ->\", units.get_in_units(position, 'angstrom')\n",
    "print \n",
    "\n",
    "#If the unit is None, value is not scaled\n",
    "print \"Units of None does no conversion:\"\n",
    "print \"units.get_in_units(42, None) ->\", units.get_in_units(42, None)\n",
    "print \"units.set_in_units(42, None) ->\", units.set_in_units(42, None)"
   ]
  },
  {
   "cell_type": "markdown",
   "metadata": {},
   "source": [
    "##2.  Dictionary of units\n",
    "\n",
    "__Access of the units by string is accomplished by creating a dictionary \"unit\" containing all of numericalunits defined units.  Note that the default setting for atomman is that all values are converted to working units based on the following dimension settings:__ \n",
    "\n",
    "- length in angstroms\n",
    "\n",
    "- mass in amu\n",
    "\n",
    "- energy in eV\n",
    "\n",
    "- charge in e (proton charge)\n",
    "\n",
    "- temperature in K"
   ]
  },
  {
   "cell_type": "code",
   "execution_count": 3,
   "metadata": {
    "collapsed": false
   },
   "outputs": [
    {
     "name": "stdout",
     "output_type": "stream",
     "text": [
      "units.unit['angstrom'] -> 1.0\n",
      "units.unit['amu'] -> 1.0\n",
      "units.unit['eV'] -> 1.0\n",
      "units.unit['e'] -> 1.0\n",
      "units.unit['K'] -> 1.0\n",
      "\n",
      "units.unit['m'] -> 10000000000.0\n"
     ]
    }
   ],
   "source": [
    "print \"units.unit['angstrom'] ->\", units.unit['angstrom']\n",
    "print \"units.unit['amu'] ->\", units.unit['amu']\n",
    "print \"units.unit['eV'] ->\", units.unit['eV']\n",
    "print \"units.unit['e'] ->\", units.unit['e']\n",
    "print \"units.unit['K'] ->\", units.unit['K']\n",
    "print\n",
    "print \"units.unit['m'] ->\", units.unit['m']"
   ]
  },
  {
   "cell_type": "markdown",
   "metadata": {},
   "source": [
    "##3. Changing the working units\n",
    "\n",
    "__The units that atomman works in can be changed using the reset() function.  Function arguments allow for the specification of units for:__\n",
    "\n",
    "- length \n",
    "\n",
    "- mass \n",
    "\n",
    "- time\n",
    "\n",
    "- energy\n",
    "\n",
    "- charge\n",
    "\n",
    "__Note #1: length, mass, time and energy cannot all be specified as they are not independent.__\n",
    "\n",
    "__Note #2: Temperature is left in K as temperature conversions require both scaling and shifting.__\n",
    "\n",
    "__Note #3: If less than four dimension terms are specified in reset(), the non-dependent terms will be scaled to the SI standards (length = 'm', mass='kg', time='s', charge='C', temperature='K'). __  "
   ]
  },
  {
   "cell_type": "code",
   "execution_count": 4,
   "metadata": {
    "collapsed": false
   },
   "outputs": [
    {
     "name": "stdout",
     "output_type": "stream",
     "text": [
      "units.unit['nm'] -> 1.0\n",
      "units.unit['eV'] -> 1.0\n",
      "units.unit['ps'] -> 1.0\n",
      "units.unit['e'] -> 1.0\n",
      "units.unit['K'] -> 1.0\n",
      "\n",
      "units.unit['angstrom'] -> 0.1\n"
     ]
    }
   ],
   "source": [
    "units.reset(length='nm', energy='eV', time='ps', charge='e')\n",
    "print \"units.unit['nm'] ->\", units.unit['nm']\n",
    "print \"units.unit['eV'] ->\", units.unit['eV']\n",
    "print \"units.unit['ps'] ->\", units.unit['ps']\n",
    "print \"units.unit['e'] ->\", units.unit['e']\n",
    "print \"units.unit['K'] ->\", units.unit['K']\n",
    "print\n",
    "print \"units.unit['angstrom'] ->\", units.unit['angstrom']"
   ]
  },
  {
   "cell_type": "markdown",
   "metadata": {},
   "source": [
    "__The reset() function also allows for the numericalunits' standard random working units to be applied simply by calling the function with no arguments, or just a random number seed.  This is useful during development as it offers a check into proper dimension handling.__  \n",
    "\n",
    "__From [numericalunits' documentation](https://pypi.python.org/pypi/numericalunits):__\n",
    "\n",
    "_\"In a dimensionally-correct calculation, the units all cancel out, so the final answer is deterministic, not random. In a dimensionally-incorrect calculations, there will be random factors causing a randomly-varying final answer.\"_"
   ]
  },
  {
   "cell_type": "code",
   "execution_count": 5,
   "metadata": {
    "collapsed": false
   },
   "outputs": [
    {
     "name": "stdout",
     "output_type": "stream",
     "text": [
      "units.unit['m'] -> 4.08350572978e-10\n",
      "units.unit['kg'] -> 1.00019967703e-21\n",
      "units.unit['s'] -> 4.36103287523e-12\n",
      "units.unit['C'] -> 1.34087590718e-18\n",
      "units.unit['K'] -> 1.55181351415\n",
      "\n",
      "units.unit['angstrom'] / units.unit['angstrom'] -> 1.0\n"
     ]
    }
   ],
   "source": [
    "units.reset()\n",
    "print \"units.unit['m'] ->\", units.unit['nm']\n",
    "print \"units.unit['kg'] ->\", units.unit['eV']\n",
    "print \"units.unit['s'] ->\", units.unit['ps']\n",
    "print \"units.unit['C'] ->\", units.unit['e']\n",
    "print \"units.unit['K'] ->\", units.unit['K']\n",
    "print\n",
    "print \"units.unit['angstrom'] / units.unit['angstrom'] ->\", units.unit['angstrom'] / units.unit['angstrom']"
   ]
  },
  {
   "cell_type": "code",
   "execution_count": null,
   "metadata": {
    "collapsed": true
   },
   "outputs": [],
   "source": []
  }
 ],
 "metadata": {
  "kernelspec": {
   "display_name": "Python 2",
   "language": "python",
   "name": "python2"
  },
  "language_info": {
   "codemirror_mode": {
    "name": "ipython",
    "version": 2
   },
   "file_extension": ".py",
   "mimetype": "text/x-python",
   "name": "python",
   "nbconvert_exporter": "python",
   "pygments_lexer": "ipython2",
   "version": "2.7.10"
  }
 },
 "nbformat": 4,
 "nbformat_minor": 0
}
