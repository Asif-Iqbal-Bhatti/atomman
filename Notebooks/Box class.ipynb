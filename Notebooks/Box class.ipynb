{
 "cells": [
  {
   "cell_type": "markdown",
   "metadata": {},
   "source": [
    "#AtomMan Box Class Demonstration\n",
    "\n",
    "__Class Box represents a generic parallelepiped for defining the area of an atomic system (including a unit cell).  The class methods control how a Box instance can be specified and allow for the Box's information to be retrieved in a variety of formats.__\n",
    "\n",
    "__The underlying code can be found in atomman/Box.py.__"
   ]
  },
  {
   "cell_type": "code",
   "execution_count": 1,
   "metadata": {
    "collapsed": false
   },
   "outputs": [],
   "source": [
    "#External library imports\n",
    "import numpy as np\n",
    "\n",
    "#atomman imports\n",
    "from atomman import Box"
   ]
  },
  {
   "cell_type": "markdown",
   "metadata": {},
   "source": [
    "##1. The get() method\n",
    "\n",
    "__Box values are accessed using this list of terms:__\n",
    "\n",
    "- vects = Box vector array\n",
    "\n",
    "- avect, bvect, cvect = the three Box vectors\n",
    "\n",
    "- origin = Box origin \n",
    "\n",
    "- a, b, c, alpha, beta, gamma = Box vector magnitudes and angles\n",
    "\n",
    "- lx, ly, lz = LAMMPS style box lengths\n",
    "\n",
    "- xy, xz, yz = LAMMPS style tilt factors\n",
    "\n",
    "- xlo, xhi, ylo, yhi, zlo, zhi = LAMMPS style hi/lo terms"
   ]
  },
  {
   "cell_type": "markdown",
   "metadata": {},
   "source": [
    "__Default Box initilization sets a,b,c = 1 and alpha, beta, gamma = 90.0.__\n",
    "\n",
    "__With get(), the box terms are used as strings to access a specific value.__"
   ]
  },
  {
   "cell_type": "code",
   "execution_count": 2,
   "metadata": {
    "collapsed": false
   },
   "outputs": [
    {
     "name": "stdout",
     "output_type": "stream",
     "text": [
      "Vector representations:\n",
      "vects  =\n",
      "[[ 1.  0.  0.]\n",
      " [ 0.  1.  0.]\n",
      " [ 0.  0.  1.]]\n",
      "avect  = [ 1.  0.  0.]\n",
      "bvect  = [ 0.  1.  0.]\n",
      "cvect  = [ 0.  0.  1.]\n",
      "origin = [ 0.  0.  0.]\n",
      "\n",
      "Crystallographic representation:\n",
      "a     = 1.0\n",
      "b     = 1.0\n",
      "c     = 1.0\n",
      "alpha = 90.0\n",
      "beta  = 90.0\n",
      "gamma = 90.0\n",
      "\n",
      "LAMMPS representations:\n",
      "xlo xhi  = 0.0 1.0\n",
      "ylo yhi  = 0.0 1.0\n",
      "zlo zhi  = 0.0 1.0\n",
      "lx ly lz = 1.0 1.0 1.0\n",
      "xy xz yz = 0.0 0.0 0.0\n"
     ]
    }
   ],
   "source": [
    "box = Box()\n",
    "\n",
    "print 'Vector representations:'\n",
    "print 'vects  ='\n",
    "print box.get('vects')\n",
    "print 'avect  =', box.get('avect')\n",
    "print 'bvect  =', box.get('bvect')\n",
    "print 'cvect  =', box.get('cvect')\n",
    "print 'origin =', box.get('origin')\n",
    "print \n",
    "print 'Crystallographic representation:'\n",
    "print 'a     =', box.get('a')\n",
    "print 'b     =', box.get('b')\n",
    "print 'c     =', box.get('c')\n",
    "print 'alpha =', box.get('alpha')\n",
    "print 'beta  =', box.get('beta')\n",
    "print 'gamma =', box.get('gamma')\n",
    "print\n",
    "print 'LAMMPS representations:'\n",
    "print 'xlo xhi  =', box.get('xlo'), box.get('xhi')\n",
    "print 'ylo yhi  =', box.get('ylo'), box.get('yhi')\n",
    "print 'zlo zhi  =', box.get('zlo'), box.get('zhi')\n",
    "print 'lx ly lz =', box.get('lx'), box.get('ly'), box.get('lz')\n",
    "print 'xy xz yz =', box.get('xy'), box.get('xz'), box.get('yz')"
   ]
  },
  {
   "cell_type": "markdown",
   "metadata": {},
   "source": [
    "__The get() method also allows for values to be returned in a specified unit using the unit argument.  The default setting for atomman is for lengths to be stored in angstroms.  More information on unit conversions can be found in the Unit conversion Notebook.__"
   ]
  },
  {
   "cell_type": "code",
   "execution_count": 3,
   "metadata": {
    "collapsed": false
   },
   "outputs": [
    {
     "name": "stdout",
     "output_type": "stream",
     "text": [
      "box.get('avect', unit='nm') -> [ 0.1  0.   0. ]\n"
     ]
    }
   ],
   "source": [
    "#Testing get() with unit conversion\n",
    "print \"box.get('avect', unit='nm') ->\", box.get('avect', unit='nm')"
   ]
  },
  {
   "cell_type": "markdown",
   "metadata": {},
   "source": [
    "__Converting the box to a string also returns the vectors and origin values.__"
   ]
  },
  {
   "cell_type": "code",
   "execution_count": 4,
   "metadata": {
    "collapsed": false
   },
   "outputs": [
    {
     "name": "stdout",
     "output_type": "stream",
     "text": [
      "avect =  [ 1.000,  0.000,  0.000]\n",
      "bvect =  [ 0.000,  1.000,  0.000]\n",
      "cvect =  [ 0.000,  0.000,  1.000]\n",
      "origin = [ 0.000,  0.000,  0.000]\n"
     ]
    }
   ],
   "source": [
    "print box"
   ]
  },
  {
   "cell_type": "markdown",
   "metadata": {},
   "source": [
    "##2. Setting Box parameters"
   ]
  },
  {
   "cell_type": "markdown",
   "metadata": {},
   "source": [
    "__The terms are used as argument names during Box initilization and within the set() method.  Since the terms are not independent of each other, the terms must be given in one of five specific sets:__\n",
    "\n",
    "- vects, origin\n",
    "\n",
    "- avect, bvect, cvect, origin\n",
    "\n",
    "- a, b, c, alpha, beta, gamma, origin\n",
    "\n",
    "- lx, ly, lz, xy, xz, yz, origin\n",
    "\n",
    "- xlo, xhi, ylo, yhi, zlo, zhi, xy, xz, yz \n",
    "\n",
    "__The argument unit can be used during initilization and set() to read in values in the specified units.  The default setting in atomman is for lengths to be converted into angstroms.  More information on unit conversions can be found in the Unit conversion Notebook.__"
   ]
  },
  {
   "cell_type": "markdown",
   "metadata": {},
   "source": [
    "###2.1 Setting by vectors\n",
    "\n",
    "__Vectors can be set directly using vects or avect, bvect, cvect.  If the latter, all three vectors have to be given.  If origin is not specified, it is set to (0,0,0).  This can also be done using the set_vectors() method.__\n",
    "\n",
    "___Note_: This method allows for the vectors to be directly set to any value or orientation.  This means that they may not be compatible with the LAMMPS style variables.  The normalize() method (Section 3) can be used to convert the box to a supported format, if possible.__"
   ]
  },
  {
   "cell_type": "code",
   "execution_count": 5,
   "metadata": {
    "collapsed": false
   },
   "outputs": [
    {
     "name": "stdout",
     "output_type": "stream",
     "text": [
      "box = Box(vects = np.array([[12, 0, 0], [0, 10, 0], [0, 0, 10]]))\n",
      "box ->\n",
      "avect =  [12.000,  0.000,  0.000]\n",
      "bvect =  [ 0.000, 10.000,  0.000]\n",
      "cvect =  [ 0.000,  0.000, 10.000]\n",
      "origin = [ 0.000,  0.000,  0.000]\n",
      "\n",
      "box.set(avect = [3.2, 0.0, 0.0], bvect = [0.0, 3.2, 0.0], cvect = [0.0, 0.0, 3.2], origin = [-1.6, -1.6, -1.6])\n",
      "box ->\n",
      "avect =  [ 3.200,  0.000,  0.000]\n",
      "bvect =  [ 0.000,  3.200,  0.000]\n",
      "cvect =  [ 0.000,  0.000,  3.200]\n",
      "origin = [-1.600, -1.600, -1.600]\n",
      "\n",
      "box.set_vectors(vects = np.array([[12, 0, 0], [3, 10, 0], [1, -2, 10]]), origin=[1,2,3], unit='nm')\n",
      "box ->\n",
      "avect =  [120.000,  0.000,  0.000]\n",
      "bvect =  [30.000, 100.000,  0.000]\n",
      "cvect =  [10.000, -20.000, 100.000]\n",
      "origin = [10.000, 20.000, 30.000]\n"
     ]
    }
   ],
   "source": [
    "#Initilize Box with vects\n",
    "box = Box(vects = np.array([[12, 0, 0], [0, 10, 0], [0, 0, 10]]))\n",
    "print \"box = Box(vects = np.array([[12, 0, 0], [0, 10, 0], [0, 0, 10]]))\"\n",
    "print \"box ->\"\n",
    "print box\n",
    "print\n",
    "\n",
    "#Call set() with vectors\n",
    "box.set(avect = [3.2, 0.0, 0.0], bvect = [0.0, 3.2, 0.0], cvect = [0.0, 0.0, 3.2], origin = [-1.6, -1.6, -1.6])\n",
    "print \"box.set(avect = [3.2, 0.0, 0.0], bvect = [0.0, 3.2, 0.0], cvect = [0.0, 0.0, 3.2], origin = [-1.6, -1.6, -1.6])\"\n",
    "print \"box ->\"\n",
    "print box\n",
    "print\n",
    "\n",
    "#Call set_vectors() with vects and units\n",
    "box.set_vectors(vects = np.array([[12, 0, 0], [3, 10, 0], [1, -2, 10]]), origin=[1,2,3], unit='nm')\n",
    "print \"box.set_vectors(vects = np.array([[12, 0, 0], [3, 10, 0], [1, -2, 10]]), origin=[1,2,3], unit='nm')\"\n",
    "print \"box ->\"\n",
    "print box"
   ]
  },
  {
   "cell_type": "markdown",
   "metadata": {},
   "source": [
    "###2.2 Setting by cell parameters\n",
    "\n",
    "__The cell parameters a, b, c, alpha, beta, gamma can also be used to set the Box.  The default value for alpha, beta and gamma are 90.0 degrees. Either all a, b, c must be given, or none in which case the values are set to 1.  This can also be done using the set_abc() method.__\n",
    "\n",
    "___Note:_ Defining a Box with cell parameters will try to make the Box compatible with the LAMMPS normalization.  This could result in an error if the specified angles are too large or too small.__  "
   ]
  },
  {
   "cell_type": "code",
   "execution_count": 6,
   "metadata": {
    "collapsed": false
   },
   "outputs": [
    {
     "name": "stdout",
     "output_type": "stream",
     "text": [
      "box = Box(a=4, b=4, c=4, origin = [-2, -2, -2], unit='um')\n",
      "box ->\n",
      "avect =  [40000.000,  0.000,  0.000]\n",
      "bvect =  [ 0.000, 40000.000,  0.000]\n",
      "cvect =  [ 0.000,  0.000, 40000.000]\n",
      "origin = [-20000.000, -20000.000, -20000.000]\n",
      "\n",
      "box.set(a=3.2, b=3.2, c=4.14, gamma=120)\n",
      "box ->\n",
      "avect =  [ 3.200,  0.000,  0.000]\n",
      "bvect =  [-1.600,  2.771,  0.000]\n",
      "cvect =  [ 0.000,  0.000,  4.140]\n",
      "origin = [ 0.000,  0.000,  0.000]\n",
      "\n",
      "box.set_abc(a=500, b=500, c=300)\n",
      "box ->\n",
      "avect =  [500.000,  0.000,  0.000]\n",
      "bvect =  [ 0.000, 500.000,  0.000]\n",
      "cvect =  [ 0.000,  0.000, 300.000]\n",
      "origin = [ 0.000,  0.000,  0.000]\n"
     ]
    }
   ],
   "source": [
    "#Initilize box with a, b, c, and unit\n",
    "box = Box(a=4, b=4, c=4, origin = [-2, -2, -2], unit='um')\n",
    "print \"box = Box(a=4, b=4, c=4, origin = [-2, -2, -2], unit='um')\"\n",
    "print \"box ->\"\n",
    "print box\n",
    "print\n",
    "\n",
    "#Call set() with a, b, c, gamma\n",
    "box.set(a=3.2, b=3.2, c=4.14, gamma=120)\n",
    "print \"box.set(a=3.2, b=3.2, c=4.14, gamma=120)\"\n",
    "print \"box ->\"\n",
    "print box\n",
    "print\n",
    "\n",
    "#Call set_abc() with a,b,c \n",
    "box.set_abc(a=500, b=500, c=300)\n",
    "print \"box.set_abc(a=500, b=500, c=300)\"\n",
    "print \"box ->\"\n",
    "print box"
   ]
  },
  {
   "cell_type": "markdown",
   "metadata": {},
   "source": [
    "###2.3 Setting by LAMMPS lengths and tilts\n",
    "\n",
    "__Box parameters can also be defined directly using the box lengths (lx, ly, lz) and tilt factors (xy, xz, yz) defined by LAMMPS.  This can be done during Box initilization, with the set() method, or the set_lengths() method. Any tilts not specified are given values of 0.0.__\n",
    "\n",
    "__The parameters relate to the Box vectors as:__\n",
    "\n",
    "- avect = [lx, 0.0, 0.0]\n",
    "\n",
    "- bvect = [xy, ly, 0.0]\n",
    "\n",
    "- cvect = [xz, yz, lz]\n",
    "\n",
    "__Rules on the Box parameters is that the vectors be right handed, the lengths positive, and the values of the tilt factors constrained such that abs(xy), abs(xz) < lx/2 and abs(yz) < ly/2.  More information can be found on the LAMMPS website documentation.__"
   ]
  },
  {
   "cell_type": "code",
   "execution_count": 7,
   "metadata": {
    "collapsed": false
   },
   "outputs": [
    {
     "name": "stdout",
     "output_type": "stream",
     "text": [
      "box = Box(lx=10, ly=10, lz=10)\n",
      "box ->\n",
      "avect =  [10.000,  0.000,  0.000]\n",
      "bvect =  [ 0.000, 10.000,  0.000]\n",
      "cvect =  [ 0.000,  0.000, 10.000]\n",
      "origin = [ 0.000,  0.000,  0.000]\n",
      "\n",
      "box.set(lx=0.39, ly=0.25, lz=0.47, xz=.05, unit='nm')\n",
      "box ->\n",
      "avect =  [ 3.900,  0.000,  0.000]\n",
      "bvect =  [ 0.000,  2.500,  0.000]\n",
      "cvect =  [ 0.500,  0.000,  4.700]\n",
      "origin = [ 0.000,  0.000,  0.000]\n",
      "\n",
      "box.set_lengths(lx=291, ly=301, lz=30, origin=[-145, -150, 0.0])\n",
      "box ->\n",
      "avect =  [291.000,  0.000,  0.000]\n",
      "bvect =  [ 0.000, 301.000,  0.000]\n",
      "cvect =  [ 0.000,  0.000, 30.000]\n",
      "origin = [-145.000, -150.000,  0.000]\n"
     ]
    }
   ],
   "source": [
    "#Initilize box with lx, ly, lz\n",
    "box = Box(lx=10, ly=10, lz=10)\n",
    "print \"box = Box(lx=10, ly=10, lz=10)\"\n",
    "print \"box ->\"\n",
    "print box\n",
    "print\n",
    "\n",
    "#Call set() with lx, ly, lz, xz, unit\n",
    "box.set(lx=0.39, ly=0.25, lz=0.47, xz=.05, unit='nm')\n",
    "print \"box.set(lx=0.39, ly=0.25, lz=0.47, xz=.05, unit='nm')\"\n",
    "print \"box ->\"\n",
    "print box\n",
    "print\n",
    "\n",
    "#Call set_lengths() with lx, ly, lz, origin \n",
    "box.set_lengths(lx=291, ly=301, lz=30, origin=[-145, -150, 0.0])\n",
    "print \"box.set_lengths(lx=291, ly=301, lz=30, origin=[-145, -150, 0.0])\"\n",
    "print \"box ->\"\n",
    "print box"
   ]
  },
  {
   "cell_type": "markdown",
   "metadata": {},
   "source": [
    "###2.4 Setting by LAMMPS hi/los\n",
    "\n",
    "__Alternatively, the LAMMPS hi (xhi, yhi, zhi), lo (xlo, ylo, zlo), and tilt factor (xy, xz, yz) parameters can be used.  During initilization, calling set() or calling set_hi_los(), the hi/los are used to onbtain the LAMMPS box lengths (lx, ly, lz) and origin.  The same rules apply as above.__"
   ]
  },
  {
   "cell_type": "code",
   "execution_count": 8,
   "metadata": {
    "collapsed": false
   },
   "outputs": [
    {
     "name": "stdout",
     "output_type": "stream",
     "text": [
      "box = Box(xlo=-1, xhi=1, ylo=-1, yhi=1, zlo=-1, zhi=1, unit='nm')\n",
      "box ->\n",
      "avect =  [20.000,  0.000,  0.000]\n",
      "bvect =  [ 0.000, 20.000,  0.000]\n",
      "cvect =  [ 0.000,  0.000, 20.000]\n",
      "origin = [-10.000, -10.000, -10.000]\n",
      "\n",
      "box.set(xlo=0, xhi=20, ylo=0, yhi=20, zlo=0, zhi=20, xy=5)\n",
      "box ->\n",
      "avect =  [20.000,  0.000,  0.000]\n",
      "bvect =  [ 5.000, 20.000,  0.000]\n",
      "cvect =  [ 0.000,  0.000, 20.000]\n",
      "origin = [ 0.000,  0.000,  0.000]\n",
      "\n",
      "box.set_hi_los(xlo=-5, ylo=-10, zlo=-7, xhi=4, yhi=2.1, zhi=6, xy=1, xz=1.5, yz=4)\n",
      "box ->\n",
      "avect =  [ 9.000,  0.000,  0.000]\n",
      "bvect =  [ 1.000, 12.100,  0.000]\n",
      "cvect =  [ 1.500,  4.000, 13.000]\n",
      "origin = [-5.000, -10.000, -7.000]\n"
     ]
    }
   ],
   "source": [
    "#Initilize box with hi/los, unit\n",
    "box = Box(xlo=-1, xhi=1, ylo=-1, yhi=1, zlo=-1, zhi=1, unit='nm')\n",
    "print \"box = Box(xlo=-1, xhi=1, ylo=-1, yhi=1, zlo=-1, zhi=1, unit='nm')\"\n",
    "print \"box ->\"\n",
    "print box\n",
    "print\n",
    "\n",
    "#Call set() with hi/los and xy\n",
    "box.set(xlo=0, xhi=20, ylo=0, yhi=20, zlo=0, zhi=20, xy=5)\n",
    "print \"box.set(xlo=0, xhi=20, ylo=0, yhi=20, zlo=0, zhi=20, xy=5)\"\n",
    "print \"box ->\"\n",
    "print box\n",
    "print\n",
    "\n",
    "#Call set_hi_los() with hi/los and tilts  \n",
    "box.set_hi_los(xlo=-5, ylo=-10, zlo=-7, xhi=4, yhi=2.1, zhi=6, xy=1, xz=1.5, yz=4)\n",
    "print \"box.set_hi_los(xlo=-5, ylo=-10, zlo=-7, xhi=4, yhi=2.1, zhi=6, xy=1, xz=1.5, yz=4)\"\n",
    "print \"box ->\"\n",
    "print box"
   ]
  },
  {
   "cell_type": "markdown",
   "metadata": {},
   "source": [
    "##3. The normalize() method\n",
    "\n",
    "__Boxes set using vectors are not necessarily compatible with the LAMMPS box rules.  If the box isn't compatible with the LAMMPS rules, then the get() method will issue an error when a LAMMPS parameter is asked for.  To overcome this, the Box class has the normalize() method that will convert the box vectors to be compatible, if possible.  Note that normalize will issue an error if either the vectors are not right handed or the angles result in too large of tilt factors.__   "
   ]
  },
  {
   "cell_type": "code",
   "execution_count": 9,
   "metadata": {
    "collapsed": false
   },
   "outputs": [
    {
     "name": "stdout",
     "output_type": "stream",
     "text": [
      "box = Box(avect=[1.0, 0.0, 0.0], bvect=[0.3, 1.0, 0.0], cvect=[-0.1, 0.2, 1.0])\n",
      "box.get('lx') -> 1.0\n",
      "\n",
      "box = Box(avect=[1.0, 0.0, 0.0], bvect=[0.3, 1.0, 0.0], cvect=[-0.1, 0.2, 1.0])\n",
      "box.get('lx') -> AssertionError raised: Box is not normalized for LAMMPS style parameters\n",
      "\n",
      "box.normalize()\n",
      "box ->\n",
      "avect =  [ 1.005,  0.000,  0.000]\n",
      "bvect =  [ 0.299,  1.000,  0.000]\n",
      "cvect =  [ 0.000,  0.170,  1.011]\n",
      "origin = [ 0.000,  0.000,  0.000]\n",
      "box.get('lx') -> 1.00498756211\n"
     ]
    }
   ],
   "source": [
    "#Define a Box using vectors that is LAMMPS compatible\n",
    "box = Box(avect=[1.0, 0.0, 0.0], bvect=[0.3, 1.0, 0.0], cvect=[-0.1, 0.2, 1.0])\n",
    "print \"box = Box(avect=[1.0, 0.0, 0.0], bvect=[0.3, 1.0, 0.0], cvect=[-0.1, 0.2, 1.0])\"\n",
    "print \"box.get('lx') ->\", \n",
    "try:\n",
    "    print box.get('lx')\n",
    "except AssertionError as detail:\n",
    "    print 'AssertionError raised:', detail\n",
    "print\n",
    "\n",
    "#define a Box using vectors that is not LAMMPS compatible\n",
    "box = Box(avect=[1.0, 0.0, 0.1], bvect=[0.3, 1.0, 0.0], cvect=[-0.1, 0.2, 1.0])\n",
    "print \"box = Box(avect=[1.0, 0.0, 0.0], bvect=[0.3, 1.0, 0.0], cvect=[-0.1, 0.2, 1.0])\"\n",
    "print \"box.get('lx') ->\", \n",
    "try:\n",
    "    print box.get('lx')\n",
    "except AssertionError as detail:\n",
    "    print 'AssertionError raised:', detail\n",
    "print\n",
    "\n",
    "#Normalize the Box and try again\n",
    "box.normalize()\n",
    "print \"box.normalize()\"\n",
    "print \"box ->\"\n",
    "print box\n",
    "print \"box.get('lx') ->\", \n",
    "try:\n",
    "    print box.get('lx')\n",
    "except AssertionError as detail:\n",
    "    print 'AssertionError raised:', detail"
   ]
  },
  {
   "cell_type": "code",
   "execution_count": null,
   "metadata": {
    "collapsed": true
   },
   "outputs": [],
   "source": []
  }
 ],
 "metadata": {
  "kernelspec": {
   "display_name": "Python 2",
   "language": "python",
   "name": "python2"
  },
  "language_info": {
   "codemirror_mode": {
    "name": "ipython",
    "version": 2
   },
   "file_extension": ".py",
   "mimetype": "text/x-python",
   "name": "python",
   "nbconvert_exporter": "python",
   "pygments_lexer": "ipython2",
   "version": "2.7.10"
  }
 },
 "nbformat": 4,
 "nbformat_minor": 0
}
