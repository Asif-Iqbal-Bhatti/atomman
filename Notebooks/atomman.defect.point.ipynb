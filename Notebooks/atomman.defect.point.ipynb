{
 "cells": [
  {
   "cell_type": "markdown",
   "metadata": {},
   "source": [
    "#AtomMan Point Defect Creation Demonstration"
   ]
  },
  {
   "cell_type": "markdown",
   "metadata": {},
   "source": [
    "__The atomman.defect module contains a number of useful methods for the insertion of specified point defects into a system.  The 'defect' atom(s) are shifted to the end of the Atoms list giving them the highest id.  The original ids of all the atoms can be retrieved using the atoms property 'old_id'.__  \n",
    "\n",
    "__The underlying code can be found in atomman/defect/point.py.__"
   ]
  },
  {
   "cell_type": "markdown",
   "metadata": {},
   "source": [
    "##0. Initial setup "
   ]
  },
  {
   "cell_type": "code",
   "execution_count": 1,
   "metadata": {
    "collapsed": false
   },
   "outputs": [
    {
     "name": "stdout",
     "output_type": "stream",
     "text": [
      "     id  old_id  atype                  position\n",
      "     0   None      1     [ 0.29204749  0.54822941  0.97140196]\n",
      "     1   None      1     [ 0.13692377  0.04353585  0.60964446]\n",
      "     2   None      1     [ 0.74889746  0.76364529  0.85587789]\n",
      "     3   None      1     [ 0.5083057   0.07217237  0.26958704]\n",
      "     4   None      1     [ 0.2623288   0.25358372  0.94608494]\n",
      "     5   None      1     [ 0.69024832  0.45011283  0.78825289]\n",
      "     6   None      1     [ 0.26444147  0.61749744  0.63356705]\n",
      "     7   None      1     [ 0.26848816  0.54176925  0.53585916]\n",
      "     8   None      1     [ 0.96234775  0.85835783  0.38099783]\n",
      "     9   None      1     [ 0.71393254  0.92737192  0.81097643]\n",
      "    10   None      1     [ 0.99941584  0.32166993  0.5986163 ]\n",
      "    11   None      1     [ 0.44645628  0.77676458  0.76889979]\n",
      "    12   None      1     [ 0.66750187  0.72995543  0.13858842]\n",
      "    13   None      1     [ 0.0358404   0.88247633  0.5343237 ]\n",
      "    14   None      1     [ 0.36501926  0.76254834  0.60896587]\n",
      "    15   None      1     [ 0.98722643  0.4139877   0.41923891]\n",
      "    16   None      1     [ 0.44272977  0.05977182  0.44167059]\n",
      "    17   None      1     [ 0.96909517  0.43653423  0.17610665]\n",
      "    18   None      1     [ 0.03103912  0.60428552  0.21149339]\n",
      "    19   None      1     [ 0.11523646  0.71969701  0.15123884]\n"
     ]
    }
   ],
   "source": [
    "#package imports\n",
    "import atomman as am\n",
    "import numpy as np\n",
    "\n",
    "#number of atoms\n",
    "natoms = 20\n",
    "\n",
    "#create dummy System for demonstration purposes\n",
    "system_0 = am.System(atoms=am.Atoms(natoms))\n",
    "system_0.atoms_prop('atype', np.ones(system_0.natoms()))\n",
    "system_0.atoms_prop('pos', np.random.rand(system_0.natoms(),3))\n",
    "print '     id  old_id  atype                  position'\n",
    "for i in xrange(system_0.natoms()):\n",
    "    print '%6s %6s %6s     %s' %(i, system_0.atoms(i, 'old_id'), system_0.atoms(i, 'atype'), str(system_0.atoms(i, 'pos')))"
   ]
  },
  {
   "cell_type": "markdown",
   "metadata": {},
   "source": [
    "##1. atomman.defect.vacancy()\n",
    "\n",
    "__Creates a new atomman.System where a specified atom is removed.  Arguemnts are:__\n",
    "\n",
    "- system = the atomman.System which the defect will be added to.\n",
    "\n",
    "- pos = vector position to add the defect.  pos or ptd_id must be specified.\n",
    "\n",
    "- ptd_id = index of the atom where the defect will be added.  pos or ptd_id must be specified.\n",
    "\n",
    "- scale = boolean indicating if pos is Cartesian (False) or relative to the box vectors (True).  Default is False.  \n",
    "\n",
    "__The returned System will be assigned an atoms property \"old_id\" if it doesn't exist which corresponds to the index values of all atoms from the base System supplied as an argument.  If \"old_id\" already exists, then the values will be unchanged.__"
   ]
  },
  {
   "cell_type": "code",
   "execution_count": 2,
   "metadata": {
    "collapsed": false
   },
   "outputs": [
    {
     "name": "stdout",
     "output_type": "stream",
     "text": [
      "     id  old_id  atype                  position\n",
      "     0      0      1     [ 0.29204749  0.54822941  0.97140196]\n",
      "     1      1      1     [ 0.13692377  0.04353585  0.60964446]\n",
      "     2      2      1     [ 0.74889746  0.76364529  0.85587789]\n",
      "     3      4      1     [ 0.2623288   0.25358372  0.94608494]\n",
      "     4      6      1     [ 0.26444147  0.61749744  0.63356705]\n",
      "     5      7      1     [ 0.26848816  0.54176925  0.53585916]\n",
      "     6      8      1     [ 0.96234775  0.85835783  0.38099783]\n",
      "     7      9      1     [ 0.71393254  0.92737192  0.81097643]\n",
      "     8     10      1     [ 0.99941584  0.32166993  0.5986163 ]\n",
      "     9     11      1     [ 0.44645628  0.77676458  0.76889979]\n",
      "    10     12      1     [ 0.66750187  0.72995543  0.13858842]\n",
      "    11     13      1     [ 0.0358404   0.88247633  0.5343237 ]\n",
      "    12     14      1     [ 0.36501926  0.76254834  0.60896587]\n",
      "    13     15      1     [ 0.98722643  0.4139877   0.41923891]\n",
      "    14     16      1     [ 0.44272977  0.05977182  0.44167059]\n",
      "    15     17      1     [ 0.96909517  0.43653423  0.17610665]\n",
      "    16     18      1     [ 0.03103912  0.60428552  0.21149339]\n",
      "    17     19      1     [ 0.11523646  0.71969701  0.15123884]\n"
     ]
    }
   ],
   "source": [
    "#add a vacancy using ptd_id\n",
    "system_v = am.defect.vacancy(system_0, ptd_id=5)\n",
    "\n",
    "#add another vacancy using pos\n",
    "v_pos = system_0.atoms(3, 'pos')\n",
    "system_v = am.defect.vacancy(system_v, pos=v_pos)\n",
    "\n",
    "print '     id  old_id  atype                  position'\n",
    "for i in xrange(system_v.natoms()):\n",
    "    print '%6s %6s %6s     %s' %(i, system_v.atoms(i, 'old_id'), system_v.atoms(i, 'atype'), str(system_v.atoms(i, 'pos')))"
   ]
  },
  {
   "cell_type": "markdown",
   "metadata": {},
   "source": [
    "##2. atomman.defect.interstitial()\n",
    "\n",
    "__Creates a new system where an interstitial is added at the specified position.  Arguemnts are:__\n",
    "\n",
    "- system = the atomman.System which the defect will be added to.\n",
    "\n",
    "- atype = atom type for the atom being added.\n",
    "\n",
    "- pos = vector position to add the defect.  \n",
    "\n",
    "- scale = boolean indicating if pos is Cartesian (False) or relative to the box vectors (True).  Default is False.  \n",
    "\n",
    "__The added atom will be at the end of the returned System's atoms list. The returned System will be assigned an atoms property \"old_id\" if it doesn't exist which corresponds to the index values of all atoms from the base System supplied as an argument.  If \"old_id\" already exists, then the values will be unchanged.  The added atom will have the largest id and be assigned an \"old_id\" one greater than the largest index (or \"old_id\") in the supplied System.__ "
   ]
  },
  {
   "cell_type": "code",
   "execution_count": 3,
   "metadata": {
    "collapsed": false
   },
   "outputs": [
    {
     "name": "stdout",
     "output_type": "stream",
     "text": [
      "     id  old_id  atype                  position\n",
      "     0      0      1     [ 0.29204749  0.54822941  0.97140196]\n",
      "     1      1      1     [ 0.13692377  0.04353585  0.60964446]\n",
      "     2      2      1     [ 0.74889746  0.76364529  0.85587789]\n",
      "     3      3      1     [ 0.5083057   0.07217237  0.26958704]\n",
      "     4      4      1     [ 0.2623288   0.25358372  0.94608494]\n",
      "     5      5      1     [ 0.69024832  0.45011283  0.78825289]\n",
      "     6      6      1     [ 0.26444147  0.61749744  0.63356705]\n",
      "     7      7      1     [ 0.26848816  0.54176925  0.53585916]\n",
      "     8      8      1     [ 0.96234775  0.85835783  0.38099783]\n",
      "     9      9      1     [ 0.71393254  0.92737192  0.81097643]\n",
      "    10     10      1     [ 0.99941584  0.32166993  0.5986163 ]\n",
      "    11     11      1     [ 0.44645628  0.77676458  0.76889979]\n",
      "    12     12      1     [ 0.66750187  0.72995543  0.13858842]\n",
      "    13     13      1     [ 0.0358404   0.88247633  0.5343237 ]\n",
      "    14     14      1     [ 0.36501926  0.76254834  0.60896587]\n",
      "    15     15      1     [ 0.98722643  0.4139877   0.41923891]\n",
      "    16     16      1     [ 0.44272977  0.05977182  0.44167059]\n",
      "    17     17      1     [ 0.96909517  0.43653423  0.17610665]\n",
      "    18     18      1     [ 0.03103912  0.60428552  0.21149339]\n",
      "    19     19      1     [ 0.11523646  0.71969701  0.15123884]\n",
      "    20     20      2     [ 0.11111111  0.11111111  0.11111111]\n"
     ]
    }
   ],
   "source": [
    "##add an interstitial at pos\n",
    "system_i = am.defect.interstitial(system_0, atype=2, pos=(0.1111111111, 0.1111111111, 0.111111111111))\n",
    "\n",
    "print '     id  old_id  atype                  position'\n",
    "for i in xrange(system_i.natoms()):\n",
    "    print '%6s %6s %6s     %s' %(i, system_i.atoms(i, 'old_id'), system_i.atoms(i, 'atype'), str(system_i.atoms(i, 'pos')))"
   ]
  },
  {
   "cell_type": "markdown",
   "metadata": {},
   "source": [
    "##3. atomman.defect.substitutional()\n",
    "\n",
    "__Creates a new atomman.System where the atom type of a specified atom is changed.  Arguemnts are:__\n",
    "\n",
    "- system = the atomman.System which the defect will be added to.\n",
    "\n",
    "- atype = atom type for the atom being changed.\n",
    "\n",
    "- pos = vector position to add the defect.  pos or ptd_id must be specified.\n",
    "\n",
    "- ptd_id = index of the atom where the defect will be added.  pos or ptd_id must be specified.\n",
    "\n",
    "- scale = boolean indicating if pos is Cartesian (False) or relative to the box vectors (True).  Default is False.  \n",
    "\n",
    "__The substitutional atom is moved to the end of the returned System's atoms list.  The returned System will be assigned an atoms property \"old_id\" if it doesn't exist which corresponds to the index values of all atoms from the base System supplied as an argument.  If \"old_id\" already exists, then the values will be unchanged.__"
   ]
  },
  {
   "cell_type": "code",
   "execution_count": 4,
   "metadata": {
    "collapsed": false
   },
   "outputs": [
    {
     "name": "stdout",
     "output_type": "stream",
     "text": [
      "     id  old_id  atype                  position\n",
      "     0      0      1     [ 0.29204749  0.54822941  0.97140196]\n",
      "     1      1      1     [ 0.13692377  0.04353585  0.60964446]\n",
      "     2      2      1     [ 0.74889746  0.76364529  0.85587789]\n",
      "     3      3      1     [ 0.5083057   0.07217237  0.26958704]\n",
      "     4      5      1     [ 0.69024832  0.45011283  0.78825289]\n",
      "     5      6      1     [ 0.26444147  0.61749744  0.63356705]\n",
      "     6      7      1     [ 0.26848816  0.54176925  0.53585916]\n",
      "     7      8      1     [ 0.96234775  0.85835783  0.38099783]\n",
      "     8     10      1     [ 0.99941584  0.32166993  0.5986163 ]\n",
      "     9     11      1     [ 0.44645628  0.77676458  0.76889979]\n",
      "    10     12      1     [ 0.66750187  0.72995543  0.13858842]\n",
      "    11     13      1     [ 0.0358404   0.88247633  0.5343237 ]\n",
      "    12     14      1     [ 0.36501926  0.76254834  0.60896587]\n",
      "    13     15      1     [ 0.98722643  0.4139877   0.41923891]\n",
      "    14     16      1     [ 0.44272977  0.05977182  0.44167059]\n",
      "    15     17      1     [ 0.96909517  0.43653423  0.17610665]\n",
      "    16     18      1     [ 0.03103912  0.60428552  0.21149339]\n",
      "    17     19      1     [ 0.11523646  0.71969701  0.15123884]\n",
      "    18      4      2     [ 0.2623288   0.25358372  0.94608494]\n",
      "    19      9      2     [ 0.71393254  0.92737192  0.81097643]\n"
     ]
    }
   ],
   "source": [
    "#Add a substitutional using ptd_id\n",
    "system_s = am.defect.substitutional(system_0, atype=2, ptd_id=4)\n",
    "\n",
    "#add another substitutional using pos\n",
    "s_pos = system_0.atoms(9, 'pos')\n",
    "system_s = am.defect.substitutional(system_s, atype=2, pos=s_pos)\n",
    "\n",
    "print '     id  old_id  atype                  position'\n",
    "for i in xrange(system_s.natoms()):\n",
    "    print '%6s %6s %6s     %s' %(i, system_s.atoms(i, 'old_id'), system_s.atoms(i, 'atype'), str(system_s.atoms(i, 'pos')))"
   ]
  },
  {
   "cell_type": "markdown",
   "metadata": {},
   "source": [
    "##4. atomman.defect.dumbbell()\n",
    "\n",
    "__Creates a new atomman.System where a specified atom is changed into a dumbbell interstitial pair of atoms by shifting one atom and adding another.  Arguemnts are:__\n",
    "\n",
    "- system = the atomman.System which the defect will be added to.\n",
    "\n",
    "- atype = atom type for the atom added.  Note: the atom type of the shifted atom is left unchanged.\n",
    "\n",
    "- pos = vector position to add the defect.  pos or ptd_id must be specified.\n",
    "\n",
    "- ptd_id = index of the atom where the defect will be added.  pos or ptd_id must be specified.\n",
    "\n",
    "- db_vect = vector associated with the dumbbell pair.  The specified atom is shifted by -db_vect, and the added atom will be at +db_vect from the shifted atom's original position.\n",
    "\n",
    "- scale = boolean indicating if pos is Cartesian (False) or relative to the box vectors (True).  Default is False.  \n",
    "\n",
    "__The added atom will be at the end of the returned System's atoms list and the shifted atom is moved to be next to last in the returned System's atoms list. The returned System will be assigned an atoms property \"old_id\" if it doesn't exist which corresponds to the index values of all atoms from the base System supplied as an argument.  If \"old_id\" already exists, then the values will be unchanged.  The added atom will have the largest id and be assigned an \"old_id\" one greater than the largest index (or \"old_id\") in the supplied System.__"
   ]
  },
  {
   "cell_type": "code",
   "execution_count": 5,
   "metadata": {
    "collapsed": false
   },
   "outputs": [
    {
     "name": "stdout",
     "output_type": "stream",
     "text": [
      "     id  old_id  atype                  position\n",
      "     0      0      1     [ 0.29204749  0.54822941  0.97140196]\n",
      "     1      1      1     [ 0.13692377  0.04353585  0.60964446]\n",
      "     2      2      1     [ 0.74889746  0.76364529  0.85587789]\n",
      "     3      3      1     [ 0.5083057   0.07217237  0.26958704]\n",
      "     4      4      1     [ 0.2623288   0.25358372  0.94608494]\n",
      "     5      5      1     [ 0.69024832  0.45011283  0.78825289]\n",
      "     6      6      1     [ 0.26444147  0.61749744  0.63356705]\n",
      "     7      8      1     [ 0.96234775  0.85835783  0.38099783]\n",
      "     8      9      1     [ 0.71393254  0.92737192  0.81097643]\n",
      "     9     10      1     [ 0.99941584  0.32166993  0.5986163 ]\n",
      "    10     11      1     [ 0.44645628  0.77676458  0.76889979]\n",
      "    11     12      1     [ 0.66750187  0.72995543  0.13858842]\n",
      "    12     13      1     [ 0.0358404   0.88247633  0.5343237 ]\n",
      "    13     14      1     [ 0.36501926  0.76254834  0.60896587]\n",
      "    14     15      1     [ 0.98722643  0.4139877   0.41923891]\n",
      "    15     16      1     [ 0.44272977  0.05977182  0.44167059]\n",
      "    16     17      1     [ 0.96909517  0.43653423  0.17610665]\n",
      "    17     18      1     [ 0.03103912  0.60428552  0.21149339]\n",
      "    18     19      1     [ 0.11523646  0.71969701  0.15123884]\n",
      "    19      7      1     [ 0.26848816  0.54176925  0.42474805]\n",
      "    20     20      2     [ 0.26848816  0.54176925  0.64697027]\n"
     ]
    }
   ],
   "source": [
    "#Add a dumbbell using ptd_id\n",
    "system_db = am.defect.dumbbell(system_0, atype=2, ptd_id=7, db_vect=np.array([0.0, 0.0, 0.111111111]))\n",
    "\n",
    "print '     id  old_id  atype                  position'\n",
    "for i in xrange(system_db.natoms()):\n",
    "    print '%6s %6s %6s     %s' %(i, system_db.atoms(i, 'old_id'), system_db.atoms(i, 'atype'), str(system_db.atoms(i, 'pos')))"
   ]
  },
  {
   "cell_type": "code",
   "execution_count": 6,
   "metadata": {
    "collapsed": false
   },
   "outputs": [
    {
     "name": "stdout",
     "output_type": "stream",
     "text": [
      "[ 0.          0.          0.22222222]\n"
     ]
    }
   ],
   "source": [
    "#dumbbell atoms separated by 2*db_vect\n",
    "print system_db.atoms(20, 'pos') - system_db.atoms(19, 'pos')"
   ]
  },
  {
   "cell_type": "markdown",
   "metadata": {},
   "source": [
    "__Making both dumbbell atoms the same type is simply a matter of calling both substitutional and dumbbell.__ "
   ]
  },
  {
   "cell_type": "code",
   "execution_count": 7,
   "metadata": {
    "collapsed": false
   },
   "outputs": [
    {
     "name": "stdout",
     "output_type": "stream",
     "text": [
      "     id  old_id  atype                  position\n",
      "     0      0      1     [ 0.29204749  0.54822941  0.97140196]\n",
      "     1      1      1     [ 0.13692377  0.04353585  0.60964446]\n",
      "     2      3      1     [ 0.5083057   0.07217237  0.26958704]\n",
      "     3      4      1     [ 0.2623288   0.25358372  0.94608494]\n",
      "     4      5      1     [ 0.69024832  0.45011283  0.78825289]\n",
      "     5      6      1     [ 0.26444147  0.61749744  0.63356705]\n",
      "     6      7      1     [ 0.26848816  0.54176925  0.53585916]\n",
      "     7      8      1     [ 0.96234775  0.85835783  0.38099783]\n",
      "     8      9      1     [ 0.71393254  0.92737192  0.81097643]\n",
      "     9     10      1     [ 0.99941584  0.32166993  0.5986163 ]\n",
      "    10     11      1     [ 0.44645628  0.77676458  0.76889979]\n",
      "    11     12      1     [ 0.66750187  0.72995543  0.13858842]\n",
      "    12     13      1     [ 0.0358404   0.88247633  0.5343237 ]\n",
      "    13     14      1     [ 0.36501926  0.76254834  0.60896587]\n",
      "    14     15      1     [ 0.98722643  0.4139877   0.41923891]\n",
      "    15     16      1     [ 0.44272977  0.05977182  0.44167059]\n",
      "    16     17      1     [ 0.96909517  0.43653423  0.17610665]\n",
      "    17     18      1     [ 0.03103912  0.60428552  0.21149339]\n",
      "    18     19      1     [ 0.11523646  0.71969701  0.15123884]\n",
      "    19      2      2     [ 0.74889746  0.8747564   0.74476677]\n",
      "    20     20      2     [ 0.74889746  0.65253418  0.966989  ]\n"
     ]
    }
   ],
   "source": [
    "#Add a dumbbell using ptd_id\n",
    "defect_pos = system_0.atoms(2, 'pos')\n",
    "system_db = am.defect.substitutional(system_0, atype=2, pos=defect_pos)\n",
    "system_db = am.defect.dumbbell(system_db, atype=2, pos=defect_pos, db_vect=np.array([0.0, -0.11111111111, 0.111111111]))\n",
    "\n",
    "print '     id  old_id  atype                  position'\n",
    "for i in xrange(system_db.natoms()):\n",
    "    print '%6s %6s %6s     %s' %(i, system_db.atoms(i, 'old_id'), system_db.atoms(i, 'atype'), str(system_db.atoms(i, 'pos')))"
   ]
  },
  {
   "cell_type": "markdown",
   "metadata": {},
   "source": [
    "##5. atomman.defect.point()\n",
    "\n",
    "__point() is a master function that can create any of the four types of point defects listed here by calling their respective functions.  The argument parameter ptd_type specifies which of the point defect types it is creating:__\n",
    "\n",
    "- ptd_type = 'v' creates a vacancy \n",
    "- ptd_type = 'i' creates a positional interstitial\n",
    "- ptd_type = 's' creates a substitutional\n",
    "- ptd_type = 'db' creates a dumbbell interstitial\n",
    "\n",
    "__All other arguments match the respective functions, and any unused arguments must be left as None.__"
   ]
  },
  {
   "cell_type": "code",
   "execution_count": 8,
   "metadata": {
    "collapsed": false
   },
   "outputs": [
    {
     "name": "stdout",
     "output_type": "stream",
     "text": [
      "     id  old_id  atype                  position\n",
      "     0      0      1     [ 0.29204749  0.54822941  0.97140196]\n",
      "     1      1      1     [ 0.13692377  0.04353585  0.60964446]\n",
      "     2      2      1     [ 0.74889746  0.76364529  0.85587789]\n",
      "     3      3      1     [ 0.5083057   0.07217237  0.26958704]\n",
      "     4      4      1     [ 0.2623288   0.25358372  0.94608494]\n",
      "     5      5      1     [ 0.69024832  0.45011283  0.78825289]\n",
      "     6      7      1     [ 0.26848816  0.54176925  0.53585916]\n",
      "     7      8      1     [ 0.96234775  0.85835783  0.38099783]\n",
      "     8      9      1     [ 0.71393254  0.92737192  0.81097643]\n",
      "     9     10      1     [ 0.99941584  0.32166993  0.5986163 ]\n",
      "    10     11      1     [ 0.44645628  0.77676458  0.76889979]\n",
      "    11     12      1     [ 0.66750187  0.72995543  0.13858842]\n",
      "    12     13      1     [ 0.0358404   0.88247633  0.5343237 ]\n",
      "    13     14      1     [ 0.36501926  0.76254834  0.60896587]\n",
      "    14     15      1     [ 0.98722643  0.4139877   0.41923891]\n",
      "    15     16      1     [ 0.44272977  0.05977182  0.44167059]\n",
      "    16     17      1     [ 0.96909517  0.43653423  0.17610665]\n",
      "    17     18      1     [ 0.03103912  0.60428552  0.21149339]\n",
      "    18     19      1     [ 0.11523646  0.71969701  0.15123884]\n"
     ]
    }
   ],
   "source": [
    "#add a vacancy\n",
    "system_d = am.defect.point(system_0, ptd_type='v', ptd_id=6)\n",
    "\n",
    "print '     id  old_id  atype                  position'\n",
    "for i in xrange(system_d.natoms()):\n",
    "    print '%6s %6s %6s     %s' %(i, system_d.atoms(i, 'old_id'), system_d.atoms(i, 'atype'), str(system_d.atoms(i, 'pos')))"
   ]
  },
  {
   "cell_type": "code",
   "execution_count": 9,
   "metadata": {
    "collapsed": false
   },
   "outputs": [
    {
     "name": "stdout",
     "output_type": "stream",
     "text": [
      "     id  old_id  atype                  position\n",
      "     0      0      1     [ 0.29204749  0.54822941  0.97140196]\n",
      "     1      1      1     [ 0.13692377  0.04353585  0.60964446]\n",
      "     2      2      1     [ 0.74889746  0.76364529  0.85587789]\n",
      "     3      3      1     [ 0.5083057   0.07217237  0.26958704]\n",
      "     4      4      1     [ 0.2623288   0.25358372  0.94608494]\n",
      "     5      5      1     [ 0.69024832  0.45011283  0.78825289]\n",
      "     6      7      1     [ 0.26848816  0.54176925  0.53585916]\n",
      "     7      8      1     [ 0.96234775  0.85835783  0.38099783]\n",
      "     8      9      1     [ 0.71393254  0.92737192  0.81097643]\n",
      "     9     10      1     [ 0.99941584  0.32166993  0.5986163 ]\n",
      "    10     11      1     [ 0.44645628  0.77676458  0.76889979]\n",
      "    11     12      1     [ 0.66750187  0.72995543  0.13858842]\n",
      "    12     13      1     [ 0.0358404   0.88247633  0.5343237 ]\n",
      "    13     14      1     [ 0.36501926  0.76254834  0.60896587]\n",
      "    14     15      1     [ 0.98722643  0.4139877   0.41923891]\n",
      "    15     16      1     [ 0.44272977  0.05977182  0.44167059]\n",
      "    16     17      1     [ 0.96909517  0.43653423  0.17610665]\n",
      "    17     18      1     [ 0.03103912  0.60428552  0.21149339]\n",
      "    18     19      1     [ 0.11523646  0.71969701  0.15123884]\n",
      "    19     20      2     [ 0.33333333  0.33333333  0.33333333]\n"
     ]
    }
   ],
   "source": [
    "#add a interstitial\n",
    "system_d = am.defect.point(system_d, ptd_type='i', atype=2, pos=np.array([0.33333333, 0.333333333, 0.333333333]))\n",
    "\n",
    "print '     id  old_id  atype                  position'\n",
    "for i in xrange(system_d.natoms()):\n",
    "    print '%6s %6s %6s     %s' %(i, system_d.atoms(i, 'old_id'), system_d.atoms(i, 'atype'), str(system_d.atoms(i, 'pos')))"
   ]
  },
  {
   "cell_type": "code",
   "execution_count": 10,
   "metadata": {
    "collapsed": false
   },
   "outputs": [
    {
     "name": "stdout",
     "output_type": "stream",
     "text": [
      "     id  old_id  atype                  position\n",
      "     0      0      1     [ 0.29204749  0.54822941  0.97140196]\n",
      "     1      1      1     [ 0.13692377  0.04353585  0.60964446]\n",
      "     2      2      1     [ 0.74889746  0.76364529  0.85587789]\n",
      "     3      3      1     [ 0.5083057   0.07217237  0.26958704]\n",
      "     4      4      1     [ 0.2623288   0.25358372  0.94608494]\n",
      "     5      5      1     [ 0.69024832  0.45011283  0.78825289]\n",
      "     6      7      1     [ 0.26848816  0.54176925  0.53585916]\n",
      "     7      8      1     [ 0.96234775  0.85835783  0.38099783]\n",
      "     8      9      1     [ 0.71393254  0.92737192  0.81097643]\n",
      "     9     10      1     [ 0.99941584  0.32166993  0.5986163 ]\n",
      "    10     11      1     [ 0.44645628  0.77676458  0.76889979]\n",
      "    11     12      1     [ 0.66750187  0.72995543  0.13858842]\n",
      "    12     13      1     [ 0.0358404   0.88247633  0.5343237 ]\n",
      "    13     15      1     [ 0.98722643  0.4139877   0.41923891]\n",
      "    14     16      1     [ 0.44272977  0.05977182  0.44167059]\n",
      "    15     17      1     [ 0.96909517  0.43653423  0.17610665]\n",
      "    16     18      1     [ 0.03103912  0.60428552  0.21149339]\n",
      "    17     19      1     [ 0.11523646  0.71969701  0.15123884]\n",
      "    18     20      2     [ 0.33333333  0.33333333  0.33333333]\n",
      "    19     14      3     [ 0.36501926  0.76254834  0.60896587]\n"
     ]
    }
   ],
   "source": [
    "#add a substitutional\n",
    "system_d = am.defect.point(system_d, ptd_type='s', atype=3, ptd_id=13)\n",
    "\n",
    "print '     id  old_id  atype                  position'\n",
    "for i in xrange(system_d.natoms()):\n",
    "    print '%6s %6s %6s     %s' %(i, system_d.atoms(i, 'old_id'), system_d.atoms(i, 'atype'), str(system_d.atoms(i, 'pos')))"
   ]
  },
  {
   "cell_type": "code",
   "execution_count": 11,
   "metadata": {
    "collapsed": false
   },
   "outputs": [
    {
     "name": "stdout",
     "output_type": "stream",
     "text": [
      "     id  old_id  atype                  position\n",
      "     0      0      1     [ 0.29204749  0.54822941  0.97140196]\n",
      "     1      1      1     [ 0.13692377  0.04353585  0.60964446]\n",
      "     2      2      1     [ 0.74889746  0.76364529  0.85587789]\n",
      "     3      3      1     [ 0.5083057   0.07217237  0.26958704]\n",
      "     4      4      1     [ 0.2623288   0.25358372  0.94608494]\n",
      "     5      5      1     [ 0.69024832  0.45011283  0.78825289]\n",
      "     6      7      1     [ 0.26848816  0.54176925  0.53585916]\n",
      "     7      8      1     [ 0.96234775  0.85835783  0.38099783]\n",
      "     8      9      1     [ 0.71393254  0.92737192  0.81097643]\n",
      "     9     10      1     [ 0.99941584  0.32166993  0.5986163 ]\n",
      "    10     11      1     [ 0.44645628  0.77676458  0.76889979]\n",
      "    11     12      1     [ 0.66750187  0.72995543  0.13858842]\n",
      "    12     13      1     [ 0.0358404   0.88247633  0.5343237 ]\n",
      "    13     15      1     [ 0.98722643  0.4139877   0.41923891]\n",
      "    14     16      1     [ 0.44272977  0.05977182  0.44167059]\n",
      "    15     17      1     [ 0.96909517  0.43653423  0.17610665]\n",
      "    16     18      1     [ 0.03103912  0.60428552  0.21149339]\n",
      "    17     19      1     [ 0.11523646  0.71969701  0.15123884]\n",
      "    18     14      3     [ 0.36501926  0.76254834  0.60896587]\n",
      "    19     20      2     [-0.66666667 -0.66666667 -0.66666667]\n",
      "    20     21      3     [ 1.33333333  1.33333333  1.33333333]\n"
     ]
    }
   ],
   "source": [
    "#add a dumbbell\n",
    "system_d = am.defect.point(system_d, ptd_type='db', atype=3, \n",
    "                 pos=np.array([0.33333333, 0.333333333, 0.333333333]), \n",
    "                 db_vect=np.array([1, 1, 1]))\n",
    "\n",
    "print '     id  old_id  atype                  position'\n",
    "for i in xrange(system_d.natoms()):\n",
    "    print '%6s %6s %6s     %s' %(i, system_d.atoms(i, 'old_id'), system_d.atoms(i, 'atype'), str(system_d.atoms(i, 'pos')))"
   ]
  },
  {
   "cell_type": "code",
   "execution_count": null,
   "metadata": {
    "collapsed": true
   },
   "outputs": [],
   "source": []
  }
 ],
 "metadata": {
  "kernelspec": {
   "display_name": "Python 2",
   "language": "python",
   "name": "python2"
  },
  "language_info": {
   "codemirror_mode": {
    "name": "ipython",
    "version": 2
   },
   "file_extension": ".py",
   "mimetype": "text/x-python",
   "name": "python",
   "nbconvert_exporter": "python",
   "pygments_lexer": "ipython2",
   "version": "2.7.10"
  }
 },
 "nbformat": 4,
 "nbformat_minor": 0
}
