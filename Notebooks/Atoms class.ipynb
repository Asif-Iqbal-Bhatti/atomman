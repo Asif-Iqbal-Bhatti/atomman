{
 "cells": [
  {
   "cell_type": "markdown",
   "metadata": {},
   "source": [
    "#AtomMan Atoms Class Demonstration\n",
    "\n",
    "__Class Atoms represents a dictionary of atomic properties.  All data is stored in a single numpy array to minimize memory cost, and properties can be accessed either with controlled methods that account for data types and units (Section 1), or directly through the use of numpy views (Section 2).__\n",
    "\n",
    "__The underlying code can be found in atomman/Atoms.py.__"
   ]
  },
  {
   "cell_type": "markdown",
   "metadata": {},
   "source": [
    "__Library imports__"
   ]
  },
  {
   "cell_type": "code",
   "execution_count": 1,
   "metadata": {
    "collapsed": false
   },
   "outputs": [],
   "source": [
    "#Standard library imports\n",
    "from collections import OrderedDict\n",
    "\n",
    "#External library imports\n",
    "import numpy as np\n",
    "\n",
    "#atomman imports\n",
    "from atomman import Atoms"
   ]
  },
  {
   "cell_type": "markdown",
   "metadata": {},
   "source": [
    "##1. Atoms basics\n",
    "\n",
    "__This section describes the basics for interacting with atomic properties stored in an Atoms instance.  The methods described in this section allow for safe controlled access and assignment of the properties.  These methods should handle most standard uses.__  "
   ]
  },
  {
   "cell_type": "markdown",
   "metadata": {},
   "source": [
    "###1.1 Initilization and simple functionality"
   ]
  },
  {
   "cell_type": "markdown",
   "metadata": {},
   "source": [
    "__Initilizing an Atoms instance has the following optional arguments:__\n",
    "\n",
    "- __natoms__ = number of atoms in the list.  The number of atoms is fixed after creation.  Default value is 1.\n",
    "\n",
    "- __prop__ = dictionary containing per-atom properties.\n",
    "\n",
    "- __prop_unit__ = dictionary indicating what units each property in prop are in (Section 1.3).\n",
    "\n",
    "- __prop_dtype__ = a dictionary for explicitly defining the data types for the different properties.  Optional when initializing with prop (Section 1.3), but mandatory when initilizing with data and view (Section 2.3). \n",
    "\n",
    "- __nvals__ = number of numeric property values given to each atom.  This automatically increases if needed.  As an argument, it can offer slight performance improvements if you know how many property values you will assign.  Default value is 30.\n",
    "\n",
    "- __data__ = a numpy data array to be assigned at the core of the Atoms instance.  For advanced use only (Section 2.3).\n",
    "\n",
    "- __view__ = a dictionary of views pointing to the data array. For advanced use only (Section 2.3)."
   ]
  },
  {
   "cell_type": "code",
   "execution_count": 2,
   "metadata": {
    "collapsed": false
   },
   "outputs": [],
   "source": [
    "#initialize an Atoms instance with 10 atoms\n",
    "#atoms = Atoms(natoms=5) is equivalent\n",
    "atoms = Atoms(5)"
   ]
  },
  {
   "cell_type": "markdown",
   "metadata": {},
   "source": [
    "__The default values of all properties are set to zero. By default, each atom is pre-assigned two properties:__\n",
    "\n",
    "- atype = integer atom type\n",
    "\n",
    "- pos = (3x1) float array coordinate position  \n",
    "\n",
    "__Converting to a string displays the atype and pos for all atoms in a formatted manner.__"
   ]
  },
  {
   "cell_type": "code",
   "execution_count": 3,
   "metadata": {
    "collapsed": false
   },
   "outputs": [
    {
     "name": "stdout",
     "output_type": "stream",
     "text": [
      "     id |   atype |  pos[0] |  pos[1] |  pos[2]\n",
      "      0 |       0 |   0.000 |   0.000 |   0.000\n",
      "      1 |       0 |   0.000 |   0.000 |   0.000\n",
      "      2 |       0 |   0.000 |   0.000 |   0.000\n",
      "      3 |       0 |   0.000 |   0.000 |   0.000\n",
      "      4 |       0 |   0.000 |   0.000 |   0.000\n"
     ]
    }
   ],
   "source": [
    "print atoms"
   ]
  },
  {
   "cell_type": "markdown",
   "metadata": {},
   "source": [
    "__The number of atoms and the number of atom types can be retrieved with the methods natoms() and natypes().__"
   ]
  },
  {
   "cell_type": "code",
   "execution_count": 4,
   "metadata": {
    "collapsed": false
   },
   "outputs": [
    {
     "name": "stdout",
     "output_type": "stream",
     "text": [
      "atoms.natoms() -> 5\n",
      "atoms.natypes() -> 0\n"
     ]
    }
   ],
   "source": [
    "print \"atoms.natoms() ->\", atoms.natoms()\n",
    "print \"atoms.natypes() ->\", atoms.natypes()"
   ]
  },
  {
   "cell_type": "markdown",
   "metadata": {},
   "source": [
    "__Property values can also be assigned during initilization using a dictionary and the prop argument.__"
   ]
  },
  {
   "cell_type": "code",
   "execution_count": 5,
   "metadata": {
    "collapsed": false
   },
   "outputs": [
    {
     "name": "stdout",
     "output_type": "stream",
     "text": [
      "     id |   atype |  pos[0] |  pos[1] |  pos[2]\n",
      "      0 |      10 |   1.000 |   1.000 |   1.000\n",
      "      1 |       9 |   1.000 |   1.000 |   1.000\n",
      "      2 |       8 |   1.000 |   1.000 |   1.000\n",
      "      3 |       7 |   1.000 |   1.000 |   1.000\n",
      "      4 |       6 |   1.000 |   1.000 |   1.000\n",
      "      5 |       5 |   1.000 |   1.000 |   1.000\n",
      "      6 |       4 |   1.000 |   1.000 |   1.000\n",
      "      7 |       3 |   1.000 |   1.000 |   1.000\n",
      "      8 |       2 |   1.000 |   1.000 |   1.000\n",
      "      9 |       1 |   1.000 |   1.000 |   1.000\n",
      "atoms.natoms() -> 10\n",
      "atoms.natypes() -> 10\n"
     ]
    }
   ],
   "source": [
    "prop_dict = {'atype': range(10,0,-1), 'pos': np.ones((10,3))}\n",
    "\n",
    "#atoms = Atoms(natoms=10, prop=prop_dict) is equivalent\n",
    "atoms = Atoms(10, prop_dict)\n",
    "\n",
    "print atoms\n",
    "print \"atoms.natoms() ->\", atoms.natoms()\n",
    "print \"atoms.natypes() ->\", atoms.natypes()"
   ]
  },
  {
   "cell_type": "markdown",
   "metadata": {},
   "source": [
    "###1.2 The prop() method\n",
    "\n",
    "__Atom property values can be set and retrieved using the prop() method.  The actions of this method are conditionally dependent on the supplied arguments.__"
   ]
  },
  {
   "cell_type": "markdown",
   "metadata": {},
   "source": [
    "__Calling prop with no arguments returns a list of assigned property keys.__"
   ]
  },
  {
   "cell_type": "code",
   "execution_count": 6,
   "metadata": {
    "collapsed": false
   },
   "outputs": [
    {
     "name": "stdout",
     "output_type": "stream",
     "text": [
      "atoms.prop() -> ['atype', 'pos']\n"
     ]
    }
   ],
   "source": [
    "#Testing prop with no arguments\n",
    "print 'atoms.prop() ->', atoms.prop()"
   ]
  },
  {
   "cell_type": "markdown",
   "metadata": {},
   "source": [
    "__Specific property values can be retrieved by calling prop() with a property key and/or an atom index.  All values returned with prop() are \"safe\", i.e. they are copies of the Atoms' data values not references to the underlying array.__"
   ]
  },
  {
   "cell_type": "code",
   "execution_count": 7,
   "metadata": {
    "collapsed": false
   },
   "outputs": [
    {
     "name": "stdout",
     "output_type": "stream",
     "text": [
      "atoms.prop('atype') -> [10  9  8  7  6  5  4  3  2  1]\n",
      "atoms.prop('pos') ->\n",
      "[[ 1.  1.  1.]\n",
      " [ 1.  1.  1.]\n",
      " [ 1.  1.  1.]\n",
      " [ 1.  1.  1.]\n",
      " [ 1.  1.  1.]\n",
      " [ 1.  1.  1.]\n",
      " [ 1.  1.  1.]\n",
      " [ 1.  1.  1.]\n",
      " [ 1.  1.  1.]\n",
      " [ 1.  1.  1.]]\n",
      "\n",
      "atom_1 = atoms.prop(1)\n",
      "atom_1.prop('atype') -> 9\n",
      "atom_1.prop('pos') -> [ 1.  1.  1.]\n",
      "\n",
      "atoms.prop(2, 'pos') -> [ 1.  1.  1.]\n",
      "atoms.prop('pos', 2) -> [ 1.  1.  1.]\n"
     ]
    }
   ],
   "source": [
    "#Retrieving a property array for all atoms\n",
    "print \"atoms.prop('atype') ->\", atoms.prop('atype')\n",
    "print \"atoms.prop('pos') ->\" \n",
    "print atoms.prop('pos')\n",
    "print\n",
    "\n",
    "#Retrieving a single atom\n",
    "print 'atom_1 = atoms.prop(1)'\n",
    "atom_1 = atoms.prop(1)\n",
    "print \"atom_1.prop('atype') ->\", atom_1.prop('atype')\n",
    "print \"atom_1.prop('pos') ->\", atom_1.prop('pos')\n",
    "print\n",
    "\n",
    "#Retrieving a property of a single atom. Note order of key, index does not matter\n",
    "print \"atoms.prop(2, 'pos') ->\", atoms.prop(2, 'pos')\n",
    "print \"atoms.prop('pos', 2) ->\", atoms.prop('pos', 2)"
   ]
  },
  {
   "cell_type": "markdown",
   "metadata": {},
   "source": [
    "__Property values can be set using the prop method either for all atoms at once, or on a per-atom basis.  This is done by supplying a value after the property key, and/or the atom index.__"
   ]
  },
  {
   "cell_type": "code",
   "execution_count": 8,
   "metadata": {
    "collapsed": false
   },
   "outputs": [
    {
     "name": "stdout",
     "output_type": "stream",
     "text": [
      "atoms.prop('atype', [1]) sets all atypes to be one\n",
      "\n",
      "atoms.prop('pos', 5*np.random.rand(10,3)) sets all pos to be random between 0-5\n",
      "\n",
      "atoms.prop(0, 'atype', 2) makes atype for atom at index 0 to be 2\n",
      "atoms.prop('atype', 1, 2) makes atype for atom at index 1 to be 2\n",
      "\n",
      "atoms.prop(7, atoms.prop(1)) copies atom 1 index info to atom 7\n",
      "\n",
      "     id |   atype |  pos[0] |  pos[1] |  pos[2]\n",
      "      0 |       2 |   3.584 |   4.280 |   1.428\n",
      "      1 |       2 |   1.314 |   2.645 |   3.080\n",
      "      2 |       1 |   4.277 |   2.173 |   2.197\n",
      "      3 |       1 |   0.245 |   3.905 |   2.021\n",
      "      4 |       1 |   1.599 |   4.590 |   0.747\n",
      "      5 |       1 |   0.659 |   2.454 |   2.674\n",
      "      6 |       1 |   2.059 |   3.561 |   1.859\n",
      "      7 |       2 |   1.314 |   2.645 |   3.080\n",
      "      8 |       1 |   4.635 |   1.456 |   1.743\n",
      "      9 |       1 |   1.450 |   1.545 |   0.078\n"
     ]
    }
   ],
   "source": [
    "#Setting all atypes at once\n",
    "print \"atoms.prop('atype', [1]) sets all atypes to be one\"\n",
    "atoms.prop('atype', [1])\n",
    "print\n",
    "\n",
    "#Setting all pos at once\n",
    "print \"atoms.prop('pos', 5*np.random.rand(10,3)) sets all pos to be random between 0-5\"\n",
    "atoms.prop('pos', 5*np.random.rand(10,3))\n",
    "print\n",
    "\n",
    "#Setting atypes individually \n",
    "print \"atoms.prop(0, 'atype', 2) makes atype for atom at index 0 to be 2\"\n",
    "atoms.prop(0, 'atype', 2)\n",
    "print \"atoms.prop('atype', 1, 2) makes atype for atom at index 1 to be 2\"\n",
    "atoms.prop('atype', 1, 2)\n",
    "print \n",
    "\n",
    "#Setting one atom to be equal to another\n",
    "print \"atoms.prop(7, atoms.prop(1)) copies atom 1 index info to atom 7\"\n",
    "atoms.prop(7, atoms.prop(1))\n",
    "print\n",
    "\n",
    "#Display atoms after changes\n",
    "print atoms"
   ]
  },
  {
   "cell_type": "markdown",
   "metadata": {},
   "source": [
    "__Additional atomic properties (beyond atype and pos) can be freely defined using the prop() method.  The value for each new property can be of any regular shape and of a data type that can be converted into a float (bool, int, and long work but complex, unicode, and str do not.)  The shape and data type are set to match the original value and are identical for all atoms.  __ "
   ]
  },
  {
   "cell_type": "code",
   "execution_count": 9,
   "metadata": {
    "collapsed": false
   },
   "outputs": [
    {
     "name": "stdout",
     "output_type": "stream",
     "text": [
      "atoms.prop('Not-assigned') -> None\n",
      "\n",
      "atoms.prop('scalar-int', np.arange(10)) assigns a scalar integer value\n",
      "atoms.prop('scalar-int') -> [0 1 2 3 4 5 6 7 8 9]\n",
      "\n",
      "atoms.prop(5, 'scalar-bool', True) assigns True to atom at index 5 (zero=False in Bool)\n",
      "atoms.prop('scalar-bool') -> [False False False False False  True False False False False]\n",
      "\n",
      "atoms.prop('vector-float', np.random.rand(10,2)) creates a 2D vector value\n",
      "atoms.prop(1, 'vector-float') -> [ 0.57389132  0.13583304]\n",
      "\n",
      "atoms.prop('matrix-int', [np.eye(4) for i in xrange(10)]) gives all atoms a 4x4 identity matrix\n",
      "atoms.prop(2, 'matrix-int') ->\n",
      "[[ 1.  0.  0.  0.]\n",
      " [ 0.  1.  0.  0.]\n",
      " [ 0.  0.  1.  0.]\n",
      " [ 0.  0.  0.  1.]]\n",
      "\n",
      "atoms.prop() lists all assigned property keys\n",
      "atoms.prop() -> ['atype', 'pos', 'scalar-int', 'scalar-bool', 'vector-float', 'matrix-int']\n"
     ]
    }
   ],
   "source": [
    "#Trying to retrieve any property that has not been assigned returns None\n",
    "print \"atoms.prop('Not-assigned') ->\", atoms.prop('Not-assigned')\n",
    "print\n",
    "\n",
    "#Properties are assigned by giving a key and value\n",
    "print \"atoms.prop('scalar-int', np.arange(10)) assigns a scalar integer value\"\n",
    "atoms.prop('scalar-int', np.arange(10))\n",
    "print \"atoms.prop('scalar-int') ->\", atoms.prop('scalar-int')\n",
    "print\n",
    "\n",
    "#If assigned to one atom, all atoms gain that property with default zero values\n",
    "print \"atoms.prop(5, 'scalar-bool', True) assigns True to atom at index 5 (zero=False in Bool)\"\n",
    "atoms.prop(5, 'scalar-bool', True)\n",
    "print \"atoms.prop('scalar-bool') ->\",atoms.prop('scalar-bool')\n",
    "print\n",
    "\n",
    "#Shapes of higher order data structures are retained\n",
    "print \"atoms.prop('vector-float', np.random.rand(10,2)) creates a 2D vector value\"\n",
    "atoms.prop('vector-float', np.random.rand(10,2))\n",
    "print \"atoms.prop(1, 'vector-float') ->\", atoms.prop(1, 'vector-float') \n",
    "print \n",
    "\n",
    "print \"atoms.prop('matrix-int', [np.eye(4) for i in xrange(10)]) gives all atoms a 4x4 identity matrix\"\n",
    "atoms.prop('matrix-int', [np.eye(4) for i in xrange(10)])\n",
    "print \"atoms.prop(2, 'matrix-int') ->\"\n",
    "print atoms.prop(2, 'matrix-int') \n",
    "print \n",
    "\n",
    "print \"atoms.prop() lists all assigned property keys\"\n",
    "print \"atoms.prop() ->\", atoms.prop()\n"
   ]
  },
  {
   "cell_type": "markdown",
   "metadata": {},
   "source": [
    "###1.3 Unit and dtype conversion\n",
    "\n",
    "__Units are handled in atomman by converting values to be relative to defined independent base units.  In this way, units are not tracked, but rather values are only converted during assignment and retrieval.  The default setting for atomman is that all values are converted to working units based on the following dimension settings:__  \n",
    "\n",
    "- length in angstroms\n",
    "\n",
    "- mass in amu\n",
    "\n",
    "- energy in eV\n",
    "\n",
    "- charge in e (proton charge)\n",
    "\n",
    "- temperature in K\n",
    "\n",
    "__More information on how atomman handles units can be found in the [Unit Conversion](Unit Conversion.ipynb) Notebook.__"
   ]
  },
  {
   "cell_type": "markdown",
   "metadata": {},
   "source": [
    "__With Atoms, unit control is integrated into the prop() method with the unit argument.  When values are assigned, the unit argument will convert from the specified units to the units set for atomman.  When values are retrieved, the unit argument will convert the values to the specified units.__  "
   ]
  },
  {
   "cell_type": "code",
   "execution_count": 10,
   "metadata": {
    "collapsed": false
   },
   "outputs": [
    {
     "name": "stdout",
     "output_type": "stream",
     "text": [
      "Save 'length' in inches: atoms.prop('length', arange(10, dtype=float), unit='inch')\n",
      "\n",
      "Values are stored in angstroms:\n",
      "atoms.prop('length') -> [  0.00000000e+00   2.54000000e+08   5.08000000e+08   7.62000000e+08\n",
      "   1.01600000e+09   1.27000000e+09   1.52400000e+09   1.77800000e+09\n",
      "   2.03200000e+09   2.28600000e+09]\n",
      "\n",
      "Retrieve in cm:\n",
      "atoms.prop('length', unit='cm') -> [  0.     2.54   5.08   7.62  10.16  12.7   15.24  17.78  20.32  22.86]\n"
     ]
    }
   ],
   "source": [
    "#unit conversion testing\n",
    "print \"Save 'length' in inches: atoms.prop('length', arange(10, dtype=float), unit='inch')\"\n",
    "atoms.prop('length', np.arange(10, dtype=float), unit='inch')\n",
    "print\n",
    "print \"Values are stored in angstroms:\"\n",
    "print \"atoms.prop('length') ->\", atoms.prop('length')\n",
    "print\n",
    "print \"Retrieve in cm:\"\n",
    "print \"atoms.prop('length', unit='cm') ->\", atoms.prop('length', unit='cm')"
   ]
  },
  {
   "cell_type": "markdown",
   "metadata": {},
   "source": [
    "__Unit conversions can also be assigned during initialization using the prop and prop_unit arguments.  Specifying units of None for a property will do no conversion.__"
   ]
  },
  {
   "cell_type": "code",
   "execution_count": 11,
   "metadata": {
    "collapsed": false
   },
   "outputs": [
    {
     "name": "stdout",
     "output_type": "stream",
     "text": [
      "prop =      {'atype':[1,1,1,1], 'pos':[[1.,1.,1.], [2.,2.,2.], [3.,3.,3.], [4.,4.,4.]], 'Ecoh':[-1.,-1.,-1.,-1.]}\n",
      "prop_unit = {'atype': None,     'pos': 'nm',                                            'Ecoh': 'J'}\n",
      "\n",
      "positions stored in angstroms, atype not converted:\n",
      "     id |   atype |  pos[0] |  pos[1] |  pos[2]\n",
      "      0 |       1 |  10.000 |  10.000 |  10.000\n",
      "      1 |       1 |  20.000 |  20.000 |  20.000\n",
      "      2 |       1 |  30.000 |  30.000 |  30.000\n",
      "      3 |       1 |  40.000 |  40.000 |  40.000\n",
      "Ecoh entered in J and stored in eV:\n",
      "atoms.prop('Ecoh')            -> [ -6.24150934e+18  -6.24150934e+18  -6.24150934e+18  -6.24150934e+18]\n",
      "atoms.prop('Ecoh', unit='eV') -> [ -6.24150934e+18  -6.24150934e+18  -6.24150934e+18  -6.24150934e+18]\n",
      "atoms.prop('Ecoh', unit='J')  -> [-1. -1. -1. -1.]\n",
      "     id |   atype |  pos[0] |  pos[1] |  pos[2]\n",
      "      0 |       1 |  10.000 |  10.000 |  10.000\n",
      "      1 |       1 |  20.000 |  20.000 |  20.000\n",
      "      2 |       1 |  30.000 |  30.000 |  30.000\n",
      "      3 |       1 |  40.000 |  40.000 |  40.000\n",
      "Ecoh entered in J and stored in eV:\n",
      "atoms.prop('Ecoh')            -> [ -6.24150934e+18  -6.24150934e+18  -6.24150934e+18  -6.24150934e+18]\n",
      "atoms.prop('Ecoh', unit='eV') -> [ -6.24150934e+18  -6.24150934e+18  -6.24150934e+18  -6.24150934e+18]\n",
      "atoms.prop('Ecoh', unit='J')  -> [-1. -1. -1. -1.]\n"
     ]
    }
   ],
   "source": [
    "#initilizing with prop and prop_unit\n",
    "print \"prop =      {'atype':[1,1,1,1], 'pos':[[1.,1.,1.], [2.,2.,2.], [3.,3.,3.], [4.,4.,4.]], 'Ecoh':[-1.,-1.,-1.,-1.]}\"\n",
    "print \"prop_unit = {'atype': None,     'pos': 'nm',                                            'Ecoh': 'J'}\"\n",
    "prop = {'atype': [1, 1, 1, 1], \n",
    "        'pos': [[1., 1., 1.],\n",
    "                [2., 2., 2.],\n",
    "                [3., 3., 3.],\n",
    "                [4., 4., 4.]],\n",
    "       'Ecoh': [-1., -1., -1., -1.]}\n",
    "\n",
    "prop_unit = {'atype': None, 'pos': 'nm', 'Ecoh': 'J'}\n",
    "print\n",
    "\n",
    "print \"positions stored in angstroms, atype not converted:\"\n",
    "atoms = Atoms(natoms=4, prop=prop, prop_unit=prop_unit)\n",
    "print atoms\n",
    "\n",
    "#checking unit control for Ecoh\n",
    "print \"Ecoh entered in J and stored in eV:\"\n",
    "print \"atoms.prop('Ecoh')            ->\", atoms.prop('Ecoh')\n",
    "print \"atoms.prop('Ecoh', unit='eV') ->\", atoms.prop('Ecoh')\n",
    "print \"atoms.prop('Ecoh', unit='J')  ->\", atoms.prop('Ecoh', unit='J')\n",
    "print atoms\n",
    "\n",
    "#checking unit control for Ecoh\n",
    "print \"Ecoh entered in J and stored in eV:\"\n",
    "print \"atoms.prop('Ecoh')            ->\", atoms.prop('Ecoh')\n",
    "print \"atoms.prop('Ecoh', unit='eV') ->\", atoms.prop('Ecoh')\n",
    "print \"atoms.prop('Ecoh', unit='J')  ->\", atoms.prop('Ecoh', unit='J')"
   ]
  },
  {
   "cell_type": "markdown",
   "metadata": {},
   "source": [
    "__The data type for each property is set when the property is first defined using the prop() method.  This is either done implicitly using the property value's data type, or explicitly using the dtype argument.  The dtype argument and prop() method also allows for property values to be returned converted to a specified data type.  Note that this output conversion does not change the property's stored dtype.__  "
   ]
  },
  {
   "cell_type": "code",
   "execution_count": 12,
   "metadata": {
    "collapsed": false
   },
   "outputs": [
    {
     "name": "stdout",
     "output_type": "stream",
     "text": [
      "test = [30, 50, 10, 56]\n",
      "\n",
      "atoms.prop('implicit', test)\n",
      "atoms.prop('implicit') -> [30 50 10 56]\n",
      "\n",
      "atoms.prop('explicit', test, dtype=float)\n",
      "atoms.prop('explicit') -> [ 30.  50.  10.  56.]\n",
      "\n",
      "atoms.prop(1, 'implicit', dtype=bool) -> True\n",
      "atoms.prop('implicit', dtype=float) -> [ 30.  50.  10.  56.]\n",
      "atoms.prop('implicit') -> [30 50 10 56]\n"
     ]
    }
   ],
   "source": [
    "#Create list of ints\n",
    "print 'test = [30, 50, 10, 56]'\n",
    "test = [30, 50, 10, 56]\n",
    "print\n",
    "\n",
    "#Implicit data type assignment\n",
    "print \"atoms.prop('implicit', test)\"\n",
    "atoms.prop('implicit', test)\n",
    "print \"atoms.prop('implicit') ->\", atoms.prop('implicit')\n",
    "print\n",
    "\n",
    "#Explicit data type assignment\n",
    "print \"atoms.prop('explicit', test, dtype=float)\"\n",
    "atoms.prop('explicit', test, dtype=float)\n",
    "print \"atoms.prop('explicit') ->\", atoms.prop('explicit')\n",
    "print\n",
    "\n",
    "#Showing data value retrieval in a specified data type\n",
    "print \"atoms.prop(1, 'implicit', dtype=bool) ->\", atoms.prop(1, 'implicit', dtype=bool)\n",
    "print \"atoms.prop('implicit', dtype=float) ->\", atoms.prop('implicit', dtype=float)\n",
    "print \"atoms.prop('implicit') ->\", atoms.prop('implicit')"
   ]
  },
  {
   "cell_type": "markdown",
   "metadata": {},
   "source": [
    "__The assigned data type offers control when reading in values. Once set for a property, the data type cannot be changed with prop().  Also, any values being assigned are checked if they are compatible with the assigned data type.__"
   ]
  },
  {
   "cell_type": "code",
   "execution_count": 13,
   "metadata": {
    "collapsed": false
   },
   "outputs": [
    {
     "name": "stdout",
     "output_type": "stream",
     "text": [
      "test2 = [0,1,2,3]\n",
      "atoms.prop('test2', test2, dtype=int)\n",
      "atoms.prop('test2') -> [0 1 2 3]\n",
      "\n",
      "Testing assignment of dtype to test2 using prop()\n",
      "  atoms.prop('test2', test2, dtype=<type 'bool'>)\n",
      "    AssertionError raised: stored dtype already assigned to <type 'int'>\n",
      "  atoms.prop('test2', test2, dtype=<type 'int'>)\n",
      "    atoms.prop('test2') -> [0 1 2 3]\n",
      "  atoms.prop('test2', test2, dtype=<type 'float'>)\n",
      "    AssertionError raised: stored dtype already assigned to <type 'int'>\n",
      "  atoms.prop('test2', test2, dtype=None)\n",
      "    atoms.prop('test2') -> [0 1 2 3]\n",
      "\n",
      "Testing assignment of dtype to test2 using prop()\n",
      "  atoms.prop(3, 'test2', False)\n",
      "    atoms.prop('test2') -> [0 1 2 0]\n",
      "  atoms.prop(3, 'test2', 2)\n",
      "    atoms.prop('test2') -> [0 1 2 2]\n",
      "  atoms.prop(3, 'test2', 2.3)\n",
      "    AssertionError raised: value not compatible with term's dtype\n",
      "  atoms.prop(3, 'test2', a)\n",
      "    ValueError raised: invalid literal for int() with base 10: 'a'\n"
     ]
    }
   ],
   "source": [
    "\n",
    "print 'test2 = [0,1,2,3]'\n",
    "test2 = [0,1,2,3]\n",
    "print \"atoms.prop('test2', test2, dtype=int)\"\n",
    "atoms.prop('test2', test2, dtype=int)\n",
    "print \"atoms.prop('test2') ->\", atoms.prop('test2')\n",
    "print \n",
    "\n",
    "#If property already exists, the dtype argument must be None or match the property's dtype\n",
    "print \"Testing assignment of dtype to test2 using prop()\"\n",
    "dtypes = [bool, int, float, None]\n",
    "for dtype in dtypes:\n",
    "    print \"  atoms.prop('test2', test2, dtype=%s)\" % dtype\n",
    "    try:\n",
    "        atoms.prop('test2', test2, dtype=dtype)\n",
    "        print \"    atoms.prop('test2') ->\", atoms.prop('test2')\n",
    "    except AssertionError as detail:\n",
    "        print '    AssertionError raised:', detail\n",
    "print\n",
    "\n",
    "#Values being assigned must be compatible with the property's dtype    \n",
    "print \"Testing assignment of dtype to test2 using prop()\"\n",
    "values = [False, 2, 2.3, 'a']\n",
    "for value in values:\n",
    "    print \"  atoms.prop(3, 'test2', %s)\" % value\n",
    "    try:\n",
    "        atoms.prop(3, 'test2', value)\n",
    "        print \"    atoms.prop('test2') ->\", atoms.prop('test2')\n",
    "    except AssertionError as detail:\n",
    "        print '    AssertionError raised:', detail\n",
    "    except ValueError as detail:\n",
    "         print '    ValueError raised:', detail        "
   ]
  },
  {
   "cell_type": "markdown",
   "metadata": {},
   "source": [
    "__Data types can also be explicitly assigned during initilization using the prop and prop_dtype arguments.  Specifying None for a property's dtype will use the implicit dtype for that property.  Note that the dtypes of atype and pos are pre-defined to int and float respectively.__  "
   ]
  },
  {
   "cell_type": "code",
   "execution_count": 14,
   "metadata": {
    "collapsed": false
   },
   "outputs": [
    {
     "name": "stdout",
     "output_type": "stream",
     "text": [
      "prop =      {'atype':[1,1,1,1], 'pos':[[1.,1.,1.], [2.,2.,2.], [3.,3.,3.], [4.,4.,4.]], 'u_test':[1,1,1,1]}\n",
      "prop_dtype ={'atype': None,     'pos': None,                                            'u_test': float}\n",
      "\n",
      "     id |   atype |  pos[0] |  pos[1] |  pos[2]\n",
      "      0 |       1 |   1.000 |   1.000 |   1.000\n",
      "      1 |       1 |   2.000 |   2.000 |   2.000\n",
      "      2 |       1 |   3.000 |   3.000 |   3.000\n",
      "      3 |       1 |   4.000 |   4.000 |   4.000\n",
      "u_test's dtype explicitly set to be float:\n",
      "atoms.prop('u_test') -> [ 1.  1.  1.  1.]\n"
     ]
    }
   ],
   "source": [
    "#initilizing with prop and prop_unit\n",
    "print \"prop =      {'atype':[1,1,1,1], 'pos':[[1.,1.,1.], [2.,2.,2.], [3.,3.,3.], [4.,4.,4.]], 'u_test':[1,1,1,1]}\"\n",
    "print \"prop_dtype ={'atype': None,     'pos': None,                                            'u_test': float}\"\n",
    "prop = {'atype': [1, 1, 1, 1], \n",
    "        'pos': [[1., 1., 1.],\n",
    "                [2., 2., 2.],\n",
    "                [3., 3., 3.],\n",
    "                [4., 4., 4.]],\n",
    "       'u_test': [1, 1, 1, 1]}\n",
    "\n",
    "prop_dtype = {'atype': None, 'pos': None, 'u_test': float}\n",
    "print\n",
    "atoms = Atoms(natoms=4, prop=prop, prop_dtype=prop_dtype)\n",
    "print atoms\n",
    "\n",
    "#checking unit control for Ecoh\n",
    "print \"u_test's dtype explicitly set to be float:\"\n",
    "print \"atoms.prop('u_test') ->\", atoms.prop('u_test')"
   ]
  },
  {
   "cell_type": "markdown",
   "metadata": {},
   "source": [
    "##2. Atoms advanced usage\n",
    "\n",
    "__For advanced users, Atoms also allows for direct access to the underlying data without going through the prop method.  This is achieved primarily through the use of numpy views.  The advantage of this is that allows for users to specify new routines and algorithms capable of fully taking advantage of numpy's vectorized functions.  The disadvantage is the loss of safety and control from the prop() method.  Thus, proper usage is in the hands of the user.__"
   ]
  },
  {
   "cell_type": "markdown",
   "metadata": {},
   "source": [
    "###2.1 data, view, and dtype\n",
    "\n",
    "__The core of an Atoms instance is:__\n",
    "\n",
    "- __data__ = a numpy ndarray of floats of size (natoms x nvals).\n",
    "\n",
    "- __view__ = an OrderedDict consisting of numpy arrays that are views of data.\n",
    "\n",
    "- __dtype__ = an OrderedDict containing each property's assigned dtype.\n",
    "\n",
    "__When properties are first assigned to an atom, the values are flattened to a one dimensional array, converted to floats, and stored in data.  A view is created of the property consisting of the correct size and shape, but values as floats. The appropriate data type is stored in the dtype dictionary.__"
   ]
  },
  {
   "cell_type": "code",
   "execution_count": 15,
   "metadata": {
    "collapsed": false
   },
   "outputs": [
    {
     "name": "stdout",
     "output_type": "stream",
     "text": [
      "atoms = Atoms(natoms=5, nvals=10)\n",
      "\n",
      "All data stored in atoms.data as floats\n",
      "atoms.data ->\n",
      "[[ 0.  0.  0.  0.  0.  0.  0.  0.  0.  0.]\n",
      " [ 0.  0.  0.  0.  0.  0.  0.  0.  0.  0.]\n",
      " [ 0.  0.  0.  0.  0.  0.  0.  0.  0.  0.]\n",
      " [ 0.  0.  0.  0.  0.  0.  0.  0.  0.  0.]\n",
      " [ 0.  0.  0.  0.  0.  0.  0.  0.  0.  0.]]\n",
      "\n",
      "atoms.view accesses a view of the underlying data\n",
      "atoms.view['atype'] ->\n",
      "[[ 0.]\n",
      " [ 0.]\n",
      " [ 0.]\n",
      " [ 0.]\n",
      " [ 0.]]\n",
      "\n",
      "data type information kept in atoms.dtype\n",
      "atoms.dtype['atype'] -> <type 'int'>\n"
     ]
    }
   ],
   "source": [
    "#Create new Atoms instance\n",
    "print \"atoms = Atoms(natoms=5, nvals=10)\"\n",
    "atoms = Atoms(natoms=5, nvals=10)\n",
    "print\n",
    "\n",
    "#Show underlying data array\n",
    "print \"All data stored in atoms.data as floats\"\n",
    "print \"atoms.data ->\"\n",
    "print atoms.data\n",
    "print\n",
    "\n",
    "#Show the atype view\n",
    "print \"atoms.view accesses a view of the underlying data\"\n",
    "print \"atoms.view['atype'] ->\"\n",
    "print atoms.view['atype']\n",
    "print\n",
    "\n",
    "#Show the atype dtype\n",
    "print \"data type information kept in atoms.dtype\"\n",
    "print \"atoms.dtype['atype'] ->\", atoms.dtype['atype']"
   ]
  },
  {
   "cell_type": "markdown",
   "metadata": {},
   "source": [
    "__Numpy views are new arrays that point back to the original data.  Because of this, changing the values in a view will change the values in data.__"
   ]
  },
  {
   "cell_type": "code",
   "execution_count": 16,
   "metadata": {
    "collapsed": false
   },
   "outputs": [
    {
     "name": "stdout",
     "output_type": "stream",
     "text": [
      "Changing atype values using a view:\n",
      "atype = atoms.view['atype']\n",
      "for i in xrange(len(atype)):\n",
      "    atype[i] = 1\n",
      "\n",
      "atoms.data ->\n",
      "[[ 1.  0.  0.  0.  0.  0.  0.  0.  0.  0.]\n",
      " [ 1.  0.  0.  0.  0.  0.  0.  0.  0.  0.]\n",
      " [ 1.  0.  0.  0.  0.  0.  0.  0.  0.  0.]\n",
      " [ 1.  0.  0.  0.  0.  0.  0.  0.  0.  0.]\n",
      " [ 1.  0.  0.  0.  0.  0.  0.  0.  0.  0.]]\n"
     ]
    }
   ],
   "source": [
    "#Setting atype values using it's view\n",
    "print \"Changing atype values using a view:\"\n",
    "print \"atype = atoms.view['atype']\"\n",
    "print \"for i in xrange(len(atype)):\"\n",
    "print \"    atype[i] = 1\"\n",
    "\n",
    "atype = atoms.view['atype']\n",
    "for i in xrange(len(atype)):\n",
    "    atype[i] = 1\n",
    "\n",
    "print\n",
    "print \"atoms.data ->\"\n",
    "print atoms.data"
   ]
  },
  {
   "cell_type": "markdown",
   "metadata": {},
   "source": [
    "___POINT OF CAUTION #1:_ Make certain that you assign values to the elements of a view, not the name of the view.__"
   ]
  },
  {
   "cell_type": "code",
   "execution_count": 17,
   "metadata": {
    "collapsed": false
   },
   "outputs": [
    {
     "name": "stdout",
     "output_type": "stream",
     "text": [
      "pos = atoms.view['pos']\n",
      "\n",
      "Correct assignment:\n",
      "Assigning values to elements of a view will change the values\n",
      "pos[:] = np.ones((5,3))\n",
      "pos ->\n",
      "[[ 1.  1.  1.]\n",
      " [ 1.  1.  1.]\n",
      " [ 1.  1.  1.]\n",
      " [ 1.  1.  1.]\n",
      " [ 1.  1.  1.]]\n",
      "atoms.data ->\n",
      "[[ 1.  1.  1.  1.  0.  0.  0.  0.  0.  0.]\n",
      " [ 1.  1.  1.  1.  0.  0.  0.  0.  0.  0.]\n",
      " [ 1.  1.  1.  1.  0.  0.  0.  0.  0.  0.]\n",
      " [ 1.  1.  1.  1.  0.  0.  0.  0.  0.  0.]\n",
      " [ 1.  1.  1.  1.  0.  0.  0.  0.  0.  0.]]\n",
      "\n",
      "Incorrect assignment:\n",
      "Assigning values to the name of a view will change what the name points to\n",
      "pos = np.zeros((5,3))\n",
      "pos ->\n",
      "[[ 0.  0.  0.]\n",
      " [ 0.  0.  0.]\n",
      " [ 0.  0.  0.]\n",
      " [ 0.  0.  0.]\n",
      " [ 0.  0.  0.]]\n",
      "atoms.data ->\n",
      "[[ 1.  1.  1.  1.  0.  0.  0.  0.  0.  0.]\n",
      " [ 1.  1.  1.  1.  0.  0.  0.  0.  0.  0.]\n",
      " [ 1.  1.  1.  1.  0.  0.  0.  0.  0.  0.]\n",
      " [ 1.  1.  1.  1.  0.  0.  0.  0.  0.  0.]\n",
      " [ 1.  1.  1.  1.  0.  0.  0.  0.  0.  0.]]\n"
     ]
    }
   ],
   "source": [
    "#POINT OF CAUTION #1 demonstration\n",
    "print \"pos = atoms.view['pos']\"\n",
    "pos = atoms.view['pos']\n",
    "print\n",
    "\n",
    "#Correct assignment\n",
    "print \"Correct assignment:\"\n",
    "print \"Assigning values to elements of a view will change the values\"\n",
    "print \"pos[:] = np.ones((5,3))\" \n",
    "pos[:] = np.ones((5,3))\n",
    "print \"pos ->\"\n",
    "print pos\n",
    "print \"atoms.data ->\"\n",
    "print atoms.data\n",
    "print\n",
    "\n",
    "#incorrect assignment\n",
    "print \"Incorrect assignment:\" \n",
    "print \"Assigning values to the name of a view will change what the name points to\"\n",
    "print \"pos = np.zeros((5,3))\" \n",
    "pos = np.zeros((5,3))\n",
    "print \"pos ->\"\n",
    "print pos\n",
    "print \"atoms.data ->\"\n",
    "print atoms.data"
   ]
  },
  {
   "cell_type": "markdown",
   "metadata": {},
   "source": [
    "__The default stored data type can be changed using the dtype dictionary.  While this allows for incorrectly assigned data types to be changed, it is more appropriate to explicitly assign a troublesome data type using the prop() method.__"
   ]
  },
  {
   "cell_type": "code",
   "execution_count": 18,
   "metadata": {
    "collapsed": false
   },
   "outputs": [
    {
     "name": "stdout",
     "output_type": "stream",
     "text": [
      "atoms.prop('int-test', [1,2,3,4,5], dtype=int)\n",
      "Trying to assign a float to int-test with atoms.prop(2, 'scalar-int', 3.2):\n",
      "atoms.prop(2, 'int-test', 3.2) -> AssertionError raised: value not compatible with term's dtype\n",
      "\n",
      "Changing int-test's dtype to float and trying again:\n",
      "atoms.dtype['int-test'] = float\n",
      "atoms.prop(2, 'int-test', 3.2) -> [ 1.   2.   6.2  4.   5. ]\n"
     ]
    }
   ],
   "source": [
    "#Assignment is prevented if value cannot be converted to the stored dtype\n",
    "print \"atoms.prop('int-test', [1,2,3,4,5], dtype=int)\"\n",
    "atoms.prop('int-test', [1,2,3,4,5], dtype=int)\n",
    "\n",
    "print \"Trying to assign a float to int-test with atoms.prop(2, 'scalar-int', 3.2):\"\n",
    "print \"atoms.prop(2, 'int-test', 3.2) ->\", \n",
    "try:\n",
    "    atoms.prop(2, 'int-test', 3.2)\n",
    "    print atoms.prop('int-test')\n",
    "except AssertionError as detail:\n",
    "    print 'AssertionError raised:', detail\n",
    "print\n",
    "\n",
    "#The stored dtype can be changed using dtype\n",
    "print \"Changing int-test's dtype to float and trying again:\"\n",
    "print \"atoms.dtype['int-test'] = float\"\n",
    "atoms.dtype['int-test'] = float\n",
    "print \"atoms.prop(2, 'int-test', 3.2) ->\", \n",
    "try:\n",
    "    atoms.prop(2, 'int-test', 6.2)\n",
    "    print atoms.prop('int-test')\n",
    "except AssertionError as detail:\n",
    "    print 'AssertionError raised:', detail    "
   ]
  },
  {
   "cell_type": "markdown",
   "metadata": {},
   "source": [
    "___POINT OF CAUTION #2:_ Since all data is stored as floats and only converted with the prop() method, direct access of data, view and dtype offers no data type control.__"
   ]
  },
  {
   "cell_type": "code",
   "execution_count": 19,
   "metadata": {
    "collapsed": false
   },
   "outputs": [
    {
     "name": "stdout",
     "output_type": "stream",
     "text": [
      "Changing int-test's dtype back to int does not affect the underlying data:\n",
      "atoms.dtype['int-test'] = int\n",
      "atoms.prop('int-test') -> [1 2 6 4 5]\n",
      "atoms.data ->\n",
      "[[ 1.   1.   1.   1.   1.   0.   0.   0.   0.   0. ]\n",
      " [ 1.   1.   1.   1.   2.   0.   0.   0.   0.   0. ]\n",
      " [ 1.   1.   1.   1.   6.2  0.   0.   0.   0.   0. ]\n",
      " [ 1.   1.   1.   1.   4.   0.   0.   0.   0.   0. ]\n",
      " [ 1.   1.   1.   1.   5.   0.   0.   0.   0.   0. ]]\n",
      "\n",
      "Likewise, value assignment with data or view not data type controlled:\n",
      "atoms.view['atype'][0] = 14.234\n",
      "atoms.prop('atype') -> [14  1  1  1  1]\n",
      "atoms.data ->\n",
      "[[ 14.234   1.      1.      1.      1.      0.      0.      0.      0.      0.   ]\n",
      " [  1.      1.      1.      1.      2.      0.      0.      0.      0.      0.   ]\n",
      " [  1.      1.      1.      1.      6.2     0.      0.      0.      0.      0.   ]\n",
      " [  1.      1.      1.      1.      4.      0.      0.      0.      0.      0.   ]\n",
      " [  1.      1.      1.      1.      5.      0.      0.      0.      0.      0.   ]]\n"
     ]
    }
   ],
   "source": [
    "print \"Changing int-test's dtype back to int does not affect the underlying data:\"\n",
    "print \"atoms.dtype['int-test'] = int\"\n",
    "atoms.dtype['int-test'] = int\n",
    "print \"atoms.prop('int-test') ->\", atoms.prop('int-test')\n",
    "print \"atoms.data ->\"\n",
    "print atoms.data\n",
    "print \n",
    "\n",
    "print \"Likewise, value assignment with data or view not data type controlled:\"\n",
    "print \"atoms.view['atype'][0] = 14.234\"\n",
    "atoms.view['atype'][0] = 14.234\n",
    "print \"atoms.prop('atype') ->\", atoms.prop('atype')\n",
    "print \"atoms.data ->\"\n",
    "print atoms.data"
   ]
  },
  {
   "cell_type": "markdown",
   "metadata": {},
   "source": [
    "###2.2 Index access\n",
    "\n",
    "__Specific atoms within an Atoms instance can be accessed using index reference, i.e. [].  This returns a new Atoms instance where data is a view to the indexed atoms of the original Atoms instance.  This offers an alternate way of accessing and changing values on a per atom basis.__"
   ]
  },
  {
   "cell_type": "code",
   "execution_count": 20,
   "metadata": {
    "collapsed": false
   },
   "outputs": [
    {
     "name": "stdout",
     "output_type": "stream",
     "text": [
      "atoms ->\n",
      "     id |   atype |  pos[0] |  pos[1] |  pos[2]\n",
      "      0 |       0 |   0.382 |   0.376 |   0.355\n",
      "      1 |       1 |   0.195 |   0.928 |   0.390\n",
      "      2 |       2 |   0.906 |   0.941 |   0.363\n",
      "      3 |       3 |   0.751 |   0.414 |   0.219\n",
      "      4 |       4 |   0.381 |   0.794 |   0.410\n",
      "      5 |       5 |   0.365 |   0.228 |   0.649\n",
      "      6 |       6 |   0.834 |   0.864 |   0.508\n",
      "      7 |       7 |   0.447 |   0.148 |   0.759\n",
      "      8 |       8 |   0.669 |   0.877 |   0.552\n",
      "      9 |       9 |   0.013 |   0.436 |   0.064\n",
      "atoms[2:7] ->\n",
      "     id |   atype |  pos[0] |  pos[1] |  pos[2]\n",
      "      0 |       2 |   0.906 |   0.941 |   0.363\n",
      "      1 |       3 |   0.751 |   0.414 |   0.219\n",
      "      2 |       4 |   0.381 |   0.794 |   0.410\n",
      "      3 |       5 |   0.365 |   0.228 |   0.649\n",
      "      4 |       6 |   0.834 |   0.864 |   0.508\n",
      "atoms[5] = atoms[9]\n",
      "atoms ->\n",
      "     id |   atype |  pos[0] |  pos[1] |  pos[2]\n",
      "      0 |       0 |   0.382 |   0.376 |   0.355\n",
      "      1 |       1 |   0.195 |   0.928 |   0.390\n",
      "      2 |       2 |   0.906 |   0.941 |   0.363\n",
      "      3 |       3 |   0.751 |   0.414 |   0.219\n",
      "      4 |       4 |   0.381 |   0.794 |   0.410\n",
      "      5 |       9 |   0.013 |   0.436 |   0.064\n",
      "      6 |       6 |   0.834 |   0.864 |   0.508\n",
      "      7 |       7 |   0.447 |   0.148 |   0.759\n",
      "      8 |       8 |   0.669 |   0.877 |   0.552\n",
      "      9 |       9 |   0.013 |   0.436 |   0.064\n",
      "for atom in atoms:\n",
      "    print atom.prop('atype'), ->\n",
      "0 1 2 3 4 9 6 7 8 9\n",
      "\n",
      "for atom in atoms:\n",
      "    atom.prop('atype', 1)\n",
      "atoms.prop('atype') -> [1 1 1 1 1 1 1 1 1 1]\n",
      "\n",
      "for atom in atoms:\n",
      "    atom.view['atype'][:] = 2\n",
      "atoms.prop('atype') -> [2 2 2 2 2 2 2 2 2 2]\n"
     ]
    }
   ],
   "source": [
    "#Index access and assignment of atoms\n",
    "atoms = Atoms(natoms = 10, prop={'atype': range(10), 'pos': np.random.rand(10,3)})\n",
    "print \"atoms ->\"\n",
    "print atoms\n",
    "\n",
    "#Access with specified indexes\n",
    "print \"atoms[2:7] ->\"\n",
    "print atoms[2:7]\n",
    "\n",
    "#Assign one atom to another\n",
    "print \"atoms[5] = atoms[9]\"\n",
    "atoms[5] = atoms[9]\n",
    "print \"atoms ->\"\n",
    "print atoms\n",
    "\n",
    "#Iterate over atoms for retrieval\n",
    "print \"for atom in atoms:\"\n",
    "print \"    print atom.prop('atype'), ->\"\n",
    "for atom in atoms:\n",
    "     print atom.prop('atype'),\n",
    "print \n",
    "print \n",
    "\n",
    "#Iterate over atoms for assignment using prop\n",
    "print \"for atom in atoms:\"\n",
    "print \"    atom.prop('atype', 1)\"\n",
    "for atom in atoms:\n",
    "     atom.prop('atype', 1)\n",
    "print \"atoms.prop('atype') ->\", atoms.prop('atype')\n",
    "print \n",
    "\n",
    "#Iterate over atoms for assignment using view\n",
    "print \"for atom in atoms:\"\n",
    "print \"    atom.view['atype'][:] = 2\"\n",
    "for atom in atoms:\n",
    "     atom.view['atype'][:] = 2\n",
    "print \"atoms.prop('atype') ->\", atoms.prop('atype')"
   ]
  },
  {
   "cell_type": "markdown",
   "metadata": {},
   "source": [
    "___POINT OF CAUTION #3:_ New properties should only be assigned to the original Atoms instance and any other instances created using index access regenerated.  Otherwise, multiple properties may be assigned to the same data values, or the different instances may no longer point to the same data.__   "
   ]
  },
  {
   "cell_type": "code",
   "execution_count": 21,
   "metadata": {
    "collapsed": false
   },
   "outputs": [
    {
     "name": "stdout",
     "output_type": "stream",
     "text": [
      "atoms ->\n",
      "     id |   atype |  pos[0] |  pos[1] |  pos[2]\n",
      "      0 |       1 |   0.321 |   0.646 |   0.711\n",
      "      1 |       1 |   0.770 |   0.240 |   0.405\n",
      "      2 |       1 |   0.613 |   0.470 |   0.994\n",
      "      3 |       1 |   0.599 |   0.074 |   0.842\n",
      "      4 |       1 |   0.891 |   0.049 |   0.327\n",
      "atoms_2 = atoms[2:4]\n",
      "atoms_2 ->\n",
      "     id |   atype |  pos[0] |  pos[1] |  pos[2]\n",
      "      0 |       1 |   0.613 |   0.470 |   0.994\n",
      "      1 |       1 |   0.599 |   0.074 |   0.842\n",
      "If a new property is assigned to atoms_2, the values will be in data, but atoms instance will not know of it\n",
      "atoms_2.prop('new', [2,2])\n",
      "atoms.prop() -> ['atype', 'pos']\n",
      "atoms_2.prop() -> ['atype', 'pos', 'new']\n",
      "atoms.data->\n",
      "[[ 1.          0.32126318  0.64553565  0.71078642  0.        ]\n",
      " [ 1.          0.77041401  0.23960118  0.40547839  0.        ]\n",
      " [ 1.          0.61311341  0.47020234  0.99395151  2.        ]\n",
      " [ 1.          0.59913524  0.07448767  0.84240743  2.        ]\n",
      " [ 1.          0.89118804  0.04854489  0.3271188   0.        ]]\n"
     ]
    }
   ],
   "source": [
    "atoms = Atoms(natoms = 5, nvals = 5, prop={'atype':[1], 'pos':np.random.rand(5,3)})\n",
    "print \"atoms ->\"\n",
    "print atoms\n",
    "\n",
    "print \"atoms_2 = atoms[2:4]\"\n",
    "atoms_2 = atoms[2:4]\n",
    "print \"atoms_2 ->\"\n",
    "print atoms_2\n",
    "\n",
    "#test assignment to atoms_2\n",
    "print \"If a new property is assigned to atoms_2, the values will be in data, but atoms instance will not know of it\"\n",
    "print \"atoms_2.prop('new', [2,2])\"\n",
    "atoms_2.prop('new', [2,2])\n",
    "print \"atoms.prop() ->\", atoms.prop()\n",
    "print \"atoms_2.prop() ->\", atoms_2.prop()\n",
    "print \"atoms.data->\"\n",
    "print atoms.data"
   ]
  },
  {
   "cell_type": "markdown",
   "metadata": {},
   "source": [
    "###2.3 Initilization using data, view, and prop_dtype"
   ]
  },
  {
   "cell_type": "markdown",
   "metadata": {},
   "source": [
    "__An Atoms instance can also be initialized by directly supplying a data array, and view and dtype dictionaries.  This allows for exact control over defining the core of an Atoms instance.  Extra care has to be taken as there is no check that the views and data array point to the same data.__  "
   ]
  },
  {
   "cell_type": "code",
   "execution_count": 22,
   "metadata": {
    "collapsed": false
   },
   "outputs": [
    {
     "name": "stdout",
     "output_type": "stream",
     "text": [
      "atoms ->\n",
      "     id |   atype |  pos[0] |  pos[1] |  pos[2]\n",
      "      0 |       1 |   0.055 |   0.045 |   0.932\n",
      "      1 |       1 |   0.841 |   0.411 |   0.412\n",
      "      2 |       1 |   0.812 |   0.624 |   0.386\n",
      "      3 |       1 |   0.320 |   0.068 |   0.007\n",
      "      4 |       1 |   0.600 |   0.435 |   0.733\n",
      "Create newatoms by assigning data, view, and prop_dtype associated with atom index 3:\n",
      "newatoms ->\n",
      "     id |   atype |  pos[0] |  pos[1] |  pos[2]\n",
      "      0 |       1 |   0.320 |   0.068 |   0.007\n",
      "atoms[3] ->\n",
      "     id |   atype |  pos[0] |  pos[1] |  pos[2]\n",
      "      0 |       1 |   0.320 |   0.068 |   0.007\n"
     ]
    }
   ],
   "source": [
    "atoms = Atoms(natoms = 5, nvals = 5, prop={'atype':[1], 'pos':np.random.rand(5,3)})\n",
    "print \"atoms ->\"\n",
    "print atoms\n",
    "\n",
    "#this code is equivalent to newatoms = atoms[index]\n",
    "print \"Create newatoms by assigning data, view, and prop_dtype associated with atom index 3:\"\n",
    "index = 3\n",
    "view = OrderedDict()\n",
    "for k, v in atoms.view.iteritems():\n",
    "    view[k] = v[index]\n",
    "newatoms = Atoms(data=atoms.data[index], view=view, prop_dtype=atoms.dtype)\n",
    "print \"newatoms ->\"\n",
    "print newatoms\n",
    "\n",
    "print \"atoms[3] ->\"\n",
    "print atoms[index]"
   ]
  },
  {
   "cell_type": "code",
   "execution_count": null,
   "metadata": {
    "collapsed": true
   },
   "outputs": [],
   "source": []
  }
 ],
 "metadata": {
  "kernelspec": {
   "display_name": "Python 2",
   "language": "python",
   "name": "python2"
  },
  "language_info": {
   "codemirror_mode": {
    "name": "ipython",
    "version": 2
   },
   "file_extension": ".py",
   "mimetype": "text/x-python",
   "name": "python",
   "nbconvert_exporter": "python",
   "pygments_lexer": "ipython2",
   "version": "2.7.10"
  }
 },
 "nbformat": 4,
 "nbformat_minor": 0
}
