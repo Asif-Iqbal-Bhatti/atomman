{
 "cells": [
  {
   "cell_type": "markdown",
   "metadata": {},
   "source": [
    "#AtomMan System Class Demonstration\n",
    "\n",
    "__Class System represents a full atomistic system by combining an Atoms instance with a Box instance.  All of the methods of Atoms and Box have corresponding methods in System that add in functionality associated with coupling the atomic positions to the box geometry.  This includes the handling of periodic boundaries.__\n",
    "\n",
    "__The underlying code can be found in atomman/System.py.__"
   ]
  },
  {
   "cell_type": "code",
   "execution_count": 14,
   "metadata": {
    "collapsed": false
   },
   "outputs": [],
   "source": [
    "#Standard library imports\n",
    "from collections import OrderedDict\n",
    "\n",
    "#External library imports\n",
    "import numpy as np\n",
    "\n",
    "#atomman imports\n",
    "from atomman import Atoms, Box, System"
   ]
  },
  {
   "cell_type": "markdown",
   "metadata": {},
   "source": [
    "##1.  Initilization\n",
    "\n",
    "__Initilizing a System has the following optional arguments:__\n",
    "\n",
    "- atoms = an Atoms object.  The default value is to initilize an Atoms instance with Atoms().\n",
    "\n",
    "- box = a Box onject. The default value is to initilize a Box instance with Box().\n",
    "\n",
    "- pbc = a list of three boolean values where True indicates that the corresponding dimension is periodic.  The default value is (True, True, True).\n",
    "\n",
    "- scale = boolean indicating that the pos contained in atoms should be treated as relative to the box dimensions.  If True, the pos values will be multiplied by the box vectors to obtain absolute position values.  The default value is False.\n",
    "\n",
    "- prop = an OrderedDict allowing for system properties to be saved with the System object.  The default value is an empty OrderedDict.\n",
    "\n",
    "__The atomic positions stored in a System's atoms should be in absolute values, not box scaled values.__\n",
    "\n",
    "___Note:_ The number of atoms in a System is fixed because the Atoms instance within the System cannot be changed.__   \n",
    "\n"
   ]
  },
  {
   "cell_type": "code",
   "execution_count": 15,
   "metadata": {
    "collapsed": false
   },
   "outputs": [],
   "source": [
    "#Create a system for a fcc unit cell with a=3.2\n",
    "atoms = Atoms(natoms=4)\n",
    "atoms.prop('atype', [1])\n",
    "atoms.prop('pos', np.array([[0.0, 0.0, 0.0],\n",
    "                            [0.5, 0.5, 0.0],\n",
    "                            [0.5, 0.0, 0.5],\n",
    "                            [0.0, 0.5, 0.5]]))\n",
    "box = Box(a=3.2, b=3.2, c=3.2)\n",
    "\n",
    "system1 = System(atoms=atoms, box=box, scale=True)"
   ]
  },
  {
   "cell_type": "markdown",
   "metadata": {},
   "source": [
    "##2. Atoms-based methods and attributes\n",
    "\n",
    "__All the methods and attributes of the Atoms class have corresponding System methods.  See the Atoms class Notebook for more information.__"
   ]
  },
  {
   "cell_type": "markdown",
   "metadata": {},
   "source": [
    "###2.1 System.atoms_prop()\n",
    "\n",
    "__The System.atoms_prop() method corresponds to the Atoms.prop() method and adds an optional scale argument.  If scale is True, then the value being set or returned with the method is scaled or unscaled using the Box vectors.  Note that scale and unit cannot both be specified as scale=True essentially indicates that the property value in question is in box scaled units. The default value of scale is False.__  "
   ]
  },
  {
   "cell_type": "code",
   "execution_count": 16,
   "metadata": {
    "collapsed": false
   },
   "outputs": [
    {
     "name": "stdout",
     "output_type": "stream",
     "text": [
      "system1.atoms_prop() -> ['atype', 'pos']\n",
      "\n",
      "system1.atoms_prop('pos') ->\n",
      "[[ 0.   0.   0. ]\n",
      " [ 1.6  1.6  0. ]\n",
      " [ 1.6  0.   1.6]\n",
      " [ 0.   1.6  1.6]]\n",
      "\n",
      "system1.atoms_prop('pos', scale=True) ->\n",
      "[[ 0.   0.   0. ]\n",
      " [ 0.5  0.5  0. ]\n",
      " [ 0.5  0.   0.5]\n",
      " [ 0.   0.5  0.5]]\n",
      "\n",
      "system1.atoms_prop(1, 'pos', [0.25, 0.25, 0.25], scale=True)\n",
      "system1.atoms_prop(1, 'pos') -> [ 0.8  0.8  0.8]\n",
      "system1.atoms_prop(1, 'pos', scale=True) -> [ 0.25  0.25  0.25]\n",
      "\n",
      "system1.atoms_prop(1, 'pos', [1.6, 1.6, 0.0])\n",
      "system1.atoms_prop(1, 'pos') -> [ 1.6  1.6  0. ]\n",
      "system1.atoms_prop(1, 'pos', scale=True) -> [ 0.5  0.5  0. ]\n"
     ]
    }
   ],
   "source": [
    "#No arguments returns list of assigned properties\n",
    "print \"system1.atoms_prop() ->\", system1.atoms_prop()\n",
    "print\n",
    "\n",
    "#Without scale, atoms_prop is identical to Atoms.prop()\n",
    "print \"system1.atoms_prop('pos') ->\"\n",
    "print system1.atoms_prop('pos')\n",
    "print\n",
    "\n",
    "#scale=True scales relative to box vectors\n",
    "print \"system1.atoms_prop('pos', scale=True) ->\"\n",
    "print system1.atoms_prop('pos', scale=True)\n",
    "print\n",
    "\n",
    "#Set 1, pos using scale\n",
    "system1.atoms_prop(1, 'pos', [0.25, 0.25, 0.25], scale=True)\n",
    "print \"system1.atoms_prop(1, 'pos', [0.25, 0.25, 0.25], scale=True)\"\n",
    "print \"system1.atoms_prop(1, 'pos') ->\", system1.atoms_prop(1, 'pos')\n",
    "print \"system1.atoms_prop(1, 'pos', scale=True) ->\", system1.atoms_prop(1, 'pos', scale=True)\n",
    "print \n",
    "\n",
    "#Set 1, pos not using scale\n",
    "system1.atoms_prop(1, 'pos', [1.6, 1.6, 0.0])\n",
    "print \"system1.atoms_prop(1, 'pos', [1.6, 1.6, 0.0])\"\n",
    "print \"system1.atoms_prop(1, 'pos') ->\", system1.atoms_prop(1, 'pos')\n",
    "print \"system1.atoms_prop(1, 'pos', scale=True) ->\", system1.atoms_prop(1, 'pos', scale=True)"
   ]
  },
  {
   "cell_type": "markdown",
   "metadata": {},
   "source": [
    "###2.2 System.atoms()\n",
    "\n",
    "__The System.atoms() method is identical to System.atoms_prop() except that it returns a copy of the system's atoms instead of a list of assigned properties for the no argument case.  The pos of the atoms copy can be scaled using scale=True.__  "
   ]
  },
  {
   "cell_type": "code",
   "execution_count": 17,
   "metadata": {
    "collapsed": false
   },
   "outputs": [
    {
     "name": "stdout",
     "output_type": "stream",
     "text": [
      "system1.atoms() ->\n",
      "     id |   atype |  pos[0] |  pos[1] |  pos[2]\n",
      "      0 |       1 |   0.000 |   0.000 |   0.000\n",
      "      1 |       1 |   1.600 |   1.600 |   0.000\n",
      "      2 |       1 |   1.600 |   0.000 |   1.600\n",
      "      3 |       1 |   0.000 |   1.600 |   1.600\n",
      "\n",
      "system1.atoms(scale=True) ->\n",
      "     id |   atype |  pos[0] |  pos[1] |  pos[2]\n",
      "      0 |       1 |   0.000 |   0.000 |   0.000\n",
      "      1 |       1 |   0.500 |   0.500 |   0.000\n",
      "      2 |       1 |   0.500 |   0.000 |   0.500\n",
      "      3 |       1 |   0.000 |   0.500 |   0.500\n",
      "\n",
      "system1.atoms('pos', scale=True) ->\n",
      "[[ 0.   0.   0. ]\n",
      " [ 0.5  0.5  0. ]\n",
      " [ 0.5  0.   0.5]\n",
      " [ 0.   0.5  0.5]]\n"
     ]
    }
   ],
   "source": [
    "#No arguments returns copy of atoms\n",
    "print \"system1.atoms() ->\"\n",
    "print system1.atoms()\n",
    "print \n",
    "\n",
    "#No arguments with scale=True returns copy of atoms with scaled pos\n",
    "print \"system1.atoms(scale=True) ->\"\n",
    "print system1.atoms(scale=True)\n",
    "print \n",
    "\n",
    "#otherwise, atoms() is identical to atoms_prop()\n",
    "print \"system1.atoms('pos', scale=True) ->\"\n",
    "print system1.atoms('pos', scale=True)"
   ]
  },
  {
   "cell_type": "markdown",
   "metadata": {},
   "source": [
    "###2.3 System.natoms() and System.natypes()\n",
    "\n",
    "__These two System methods are identical to their Atoms counterparts.__"
   ]
  },
  {
   "cell_type": "code",
   "execution_count": 18,
   "metadata": {
    "collapsed": false
   },
   "outputs": [
    {
     "name": "stdout",
     "output_type": "stream",
     "text": [
      "system1.natoms() -> 4\n",
      "system1.natypes() -> 1\n"
     ]
    }
   ],
   "source": [
    "print \"system1.natoms() ->\", system1.natoms()\n",
    "print \"system1.natypes() ->\", system1.natypes()"
   ]
  },
  {
   "cell_type": "markdown",
   "metadata": {},
   "source": [
    "###2.4 View access\n",
    "\n",
    "__Atoms.data, Atoms.view, and Atoms.dtype can all be accessed using System.atoms_data, System.atoms_view and System.atoms_dtype.__"
   ]
  },
  {
   "cell_type": "code",
   "execution_count": 19,
   "metadata": {
    "collapsed": false
   },
   "outputs": [
    {
     "name": "stdout",
     "output_type": "stream",
     "text": [
      "system1.atoms_view['atype'] ->\n",
      "[[ 1.]\n",
      " [ 1.]\n",
      " [ 1.]\n",
      " [ 1.]]\n",
      "\n",
      "system1.atoms_dtype['atype'] -> <type 'int'>\n",
      "\n",
      "system1.atoms_data[:, :4] ->\n",
      "[[ 1.   0.   0.   0. ]\n",
      " [ 1.   1.6  1.6  0. ]\n",
      " [ 1.   1.6  0.   1.6]\n",
      " [ 1.   0.   1.6  1.6]]\n",
      "\n",
      "system1.atoms_view['atype'][:] = np.array([[1],[2],[3],[4]])\n",
      "system1.atoms_view['atype'] ->\n",
      "[[ 1.]\n",
      " [ 2.]\n",
      " [ 3.]\n",
      " [ 4.]]\n",
      "\n",
      "system1.atoms_data[:, :4] ->\n",
      "[[ 1.   0.   0.   0. ]\n",
      " [ 2.   1.6  1.6  0. ]\n",
      " [ 3.   1.6  0.   1.6]\n",
      " [ 4.   0.   1.6  1.6]]\n",
      "\n"
     ]
    }
   ],
   "source": [
    "#Access the view of atype\n",
    "print \"system1.atoms_view['atype'] ->\"\n",
    "print system1.atoms_view['atype']\n",
    "print\n",
    "\n",
    "#access the dtype of atype\n",
    "print \"system1.atoms_dtype['atype'] ->\", system1.atoms_dtype['atype']\n",
    "print\n",
    "\n",
    "#access the atom data\n",
    "print \"system1.atoms_data[:, :4] ->\"\n",
    "print system1.atoms_data[:, :4]\n",
    "print\n",
    "\n",
    "#change values using view and check that data was changed\n",
    "system1.atoms_view['atype'][:] = np.array([[1],[2],[3],[4]])\n",
    "print \"system1.atoms_view['atype'][:] = np.array([[1],[2],[3],[4]])\"\n",
    "print \"system1.atoms_view['atype'] ->\"\n",
    "print system1.atoms_view['atype']\n",
    "print\n",
    "\n",
    "print \"system1.atoms_data[:, :4] ->\"\n",
    "print system1.atoms_data[:, :4]\n",
    "print"
   ]
  },
  {
   "cell_type": "markdown",
   "metadata": {},
   "source": [
    "##3. Box-based methods and attributes\n",
    "\n",
    "__All the methods and attributes of the Box class have corresponding System methods.  See the Box class Notebook for more information.__"
   ]
  },
  {
   "cell_type": "markdown",
   "metadata": {},
   "source": [
    "###3.1 System.box_get()\n",
    "\n",
    "__System.box_get() method behaves identically to the Box.get() method.__"
   ]
  },
  {
   "cell_type": "code",
   "execution_count": 20,
   "metadata": {
    "collapsed": false
   },
   "outputs": [
    {
     "name": "stdout",
     "output_type": "stream",
     "text": [
      "system1.box_get('avect', unit='nm') -> [ 0.32  0.    0.  ]\n"
     ]
    }
   ],
   "source": [
    "print \"system1.box_get('avect', unit='nm') ->\", system1.box_get('avect', unit='nm')"
   ]
  },
  {
   "cell_type": "markdown",
   "metadata": {},
   "source": [
    "###3.2 System.box()\n",
    "\n",
    "__The System.box() method is the same as the System.box_get() method except that box() will return a copy of the Box if no arguments are given.__ "
   ]
  },
  {
   "cell_type": "code",
   "execution_count": 21,
   "metadata": {
    "collapsed": false
   },
   "outputs": [
    {
     "name": "stdout",
     "output_type": "stream",
     "text": [
      "system1.box() ->\n",
      "avect =  [ 3.200,  0.000,  0.000]\n",
      "bvect =  [ 0.000,  3.200,  0.000]\n",
      "cvect =  [ 0.000,  0.000,  3.200]\n",
      "origin = [ 0.000,  0.000,  0.000]\n",
      "\n",
      "system1.box('avect', unit='nm') -> [ 0.32  0.    0.  ]\n"
     ]
    }
   ],
   "source": [
    "#No arguments returns a copy of the Box\n",
    "print \"system1.box() ->\"\n",
    "print system1.box()\n",
    "print \n",
    "\n",
    "#with arguments, this function is identical to box_get()\n",
    "print \"system1.box('avect', unit='nm') ->\", system1.box('avect', unit='nm')"
   ]
  },
  {
   "cell_type": "markdown",
   "metadata": {},
   "source": [
    "###3.3 System.box_set()\n",
    "\n",
    "__The System.box_set() method corresponds to the Box.set() method.  The only difference is that System.box_set() has a scale argument.  With scale=False, the box vectors will be changed and the atoms left in their current positions.  With scale=True, the atoms will also be displaced such that their positions remain proportional to the box.__"
   ]
  },
  {
   "cell_type": "code",
   "execution_count": 22,
   "metadata": {
    "collapsed": false
   },
   "outputs": [
    {
     "name": "stdout",
     "output_type": "stream",
     "text": [
      "system1.box_set(a=4, b=4, c=4, scale=True)\n",
      "system1.box() ->\n",
      "avect =  [ 4.000,  0.000,  0.000]\n",
      "bvect =  [ 0.000,  4.000,  0.000]\n",
      "cvect =  [ 0.000,  0.000,  4.000]\n",
      "origin = [ 0.000,  0.000,  0.000]\n",
      "system1.atoms() ->\n",
      "     id |   atype |  pos[0] |  pos[1] |  pos[2]\n",
      "      0 |       1 |   0.000 |   0.000 |   0.000\n",
      "      1 |       2 |   2.000 |   2.000 |   0.000\n",
      "      2 |       3 |   2.000 |   0.000 |   2.000\n",
      "      3 |       4 |   0.000 |   2.000 |   2.000\n",
      "\n",
      "system1.box_set(a=4, b=4, c=4)\n",
      "system1.box() ->\n",
      "avect =  [ 3.000,  0.000,  0.000]\n",
      "bvect =  [ 0.000,  3.000,  0.000]\n",
      "cvect =  [ 0.000,  0.000,  3.000]\n",
      "origin = [ 0.000,  0.000,  0.000]\n",
      "system1.atoms() ->\n",
      "     id |   atype |  pos[0] |  pos[1] |  pos[2]\n",
      "      0 |       1 |   0.000 |   0.000 |   0.000\n",
      "      1 |       2 |   2.000 |   2.000 |   0.000\n",
      "      2 |       3 |   2.000 |   0.000 |   2.000\n",
      "      3 |       4 |   0.000 |   2.000 |   2.000\n",
      "\n",
      "system1.box_set(a=4, b=4, c=4)\n",
      "system1.box_set(a=3.2, b=3.2, c=3.2, scale=True)\n",
      "system1.box() ->\n",
      "avect =  [ 3.200,  0.000,  0.000]\n",
      "bvect =  [ 0.000,  3.200,  0.000]\n",
      "cvect =  [ 0.000,  0.000,  3.200]\n",
      "origin = [ 0.000,  0.000,  0.000]\n",
      "system1.atoms() ->\n",
      "     id |   atype |  pos[0] |  pos[1] |  pos[2]\n",
      "      0 |       1 |   0.000 |   0.000 |   0.000\n",
      "      1 |       2 |   1.600 |   1.600 |   0.000\n",
      "      2 |       3 |   1.600 |   0.000 |   1.600\n",
      "      3 |       4 |   0.000 |   1.600 |   1.600\n"
     ]
    }
   ],
   "source": [
    "system1.box_set(a=4, b=4, c=4, scale=True)\n",
    "print \"system1.box_set(a=4, b=4, c=4, scale=True)\"\n",
    "print \"system1.box() ->\"\n",
    "print system1.box()\n",
    "print \"system1.atoms() ->\"\n",
    "print system1.atoms()\n",
    "print \n",
    "\n",
    "system1.box_set(a=3, b=3, c=3)\n",
    "print \"system1.box_set(a=4, b=4, c=4)\"\n",
    "print \"system1.box() ->\"\n",
    "print system1.box()\n",
    "print \"system1.atoms() ->\"\n",
    "print system1.atoms()\n",
    "print\n",
    "\n",
    "system1.box_set(a=4, b=4, c=4)\n",
    "system1.box_set(a=3.2, b=3.2, c=3.2, scale=True)\n",
    "print \"system1.box_set(a=4, b=4, c=4)\"\n",
    "print \"system1.box_set(a=3.2, b=3.2, c=3.2, scale=True)\"\n",
    "print \"system1.box() ->\"\n",
    "print system1.box()\n",
    "print \"system1.atoms() ->\"\n",
    "print system1.atoms()"
   ]
  },
  {
   "cell_type": "markdown",
   "metadata": {},
   "source": [
    "###3.4 System.box_normalize()\n",
    "\n",
    "__The System.box_normalize() method normalizes the box vectors to be compatible with LAMMPS.  In doing so, the System's atom positions will also be changed such that the configurations remain identical.__"
   ]
  },
  {
   "cell_type": "markdown",
   "metadata": {},
   "source": [
    "###4. Unique System methods\n",
    "\n",
    "__Additional methods of the System depend on both the Atoms and the Box as well as the periodic boundary conditions.__"
   ]
  },
  {
   "cell_type": "markdown",
   "metadata": {},
   "source": [
    "###4.1 System.pbc()\n",
    "\n",
    "__The System.pbc() method allows for the periodic boundary conditions to be set or retrieved.  Values of True indicate that the associated dimension is periodic.__"
   ]
  },
  {
   "cell_type": "code",
   "execution_count": 23,
   "metadata": {
    "collapsed": false
   },
   "outputs": [
    {
     "name": "stdout",
     "output_type": "stream",
     "text": [
      "system1.pbc() -> [ True  True  True]\n",
      "\n",
      "system1.pbc([True, False, True])\n",
      "system1.pbc() -> [ True False  True]\n",
      "\n",
      "system1.pbc(0) -> True\n",
      "system1.pbc(1) -> False\n",
      "system1.pbc(2) -> True\n"
     ]
    }
   ],
   "source": [
    "#No arguments returns a copy of pbc\n",
    "print \"system1.pbc() ->\", system1.pbc()\n",
    "print\n",
    "\n",
    "#The values can be changed by supplying a list of booleans\n",
    "system1.pbc([True, False, True])\n",
    "print \"system1.pbc([True, False, True])\"\n",
    "print \"system1.pbc() ->\", system1.pbc()\n",
    "print\n",
    "\n",
    "#Integers allow for index access of pbc\n",
    "print \"system1.pbc(0) ->\", system1.pbc(0)\n",
    "print \"system1.pbc(1) ->\", system1.pbc(1)\n",
    "print \"system1.pbc(2) ->\", system1.pbc(2)"
   ]
  },
  {
   "cell_type": "markdown",
   "metadata": {},
   "source": [
    "###4.2 System.scale() and System.unscale()\n",
    "\n",
    "__System.scale() converts three-dimensional vectors from absolute coordinates to box-scaled coordinates.  System.unscale() converts three-dimensional vectors from box-scaled coordinates to absolute coordinates.__"
   ]
  },
  {
   "cell_type": "code",
   "execution_count": 24,
   "metadata": {
    "collapsed": false
   },
   "outputs": [
    {
     "name": "stdout",
     "output_type": "stream",
     "text": [
      "pos = system1.atoms('pos')\n",
      "pos ->\n",
      "[[ 0.   0.   0. ]\n",
      " [ 1.6  1.6  0. ]\n",
      " [ 1.6  0.   1.6]\n",
      " [ 0.   1.6  1.6]]\n",
      "\n",
      "spos = system1.scale(pos)\n",
      "spos ->\n",
      "[[ 0.   0.   0. ]\n",
      " [ 0.5  0.5  0. ]\n",
      " [ 0.5  0.   0.5]\n",
      " [ 0.   0.5  0.5]]\n",
      "\n",
      "system1.unscale(spos) ->\n",
      "[[ 0.   0.   0. ]\n",
      " [ 1.6  1.6  0. ]\n",
      " [ 1.6  0.   1.6]\n",
      " [ 0.   1.6  1.6]]\n"
     ]
    }
   ],
   "source": [
    "pos = system1.atoms('pos')\n",
    "print \"pos = system1.atoms('pos')\"\n",
    "print \"pos ->\"\n",
    "print pos\n",
    "print \n",
    "\n",
    "spos = system1.scale(pos)\n",
    "print \"spos = system1.scale(pos)\"\n",
    "print \"spos ->\"\n",
    "print spos\n",
    "print \n",
    "\n",
    "print \"system1.unscale(spos) ->\"\n",
    "print system1.unscale(spos)"
   ]
  },
  {
   "cell_type": "markdown",
   "metadata": {},
   "source": [
    "###4.3 System.dvect()\n",
    "\n",
    "__System.dvect() identifies the shortest vector between two points (or lists of points) in space taking the periodic boundary information of the System into consideration.  Integer arguments can also be used in which case the pos of the atoms corresponding to those indices are used.__"
   ]
  },
  {
   "cell_type": "code",
   "execution_count": 25,
   "metadata": {
    "collapsed": false
   },
   "outputs": [
    {
     "name": "stdout",
     "output_type": "stream",
     "text": [
      "Vector between atoms 0 and 1:\n",
      "system1.dvect(0,1) -> [ 1.6  1.6  0. ]\n",
      "\n",
      "Difference between [1.6, 1.6, 1.6] and all atoms:\n",
      "system1.dvect([1.6, 1.6, 1.6], system1.atoms_prop('pos')) ->\n",
      "[[-1.6 -1.6 -1.6]\n",
      " [ 0.   0.  -1.6]\n",
      " [ 0.  -1.6  0. ]\n",
      " [-1.6  0.   0. ]]\n",
      "\n",
      "Same thing using list of integers:\n",
      "system1.dvect([1.6, 1.6, 1.6], (0,1,2,3)) ->\n",
      "[[-1.6 -1.6 -1.6]\n",
      " [ 0.   0.  -1.6]\n",
      " [ 0.  -1.6  0. ]\n",
      " [-1.6  0.   0. ]]\n"
     ]
    }
   ],
   "source": [
    "#using dvect with integers\n",
    "print \"Vector between atoms 0 and 1:\"\n",
    "print \"system1.dvect(0,1) ->\", system1.dvect(0,1)\n",
    "print \n",
    "\n",
    "#using dvect with a specified point\n",
    "print \"Difference between [1.6, 1.6, 1.6] and all atoms:\"\n",
    "print \"system1.dvect([1.6, 1.6, 1.6], system1.atoms_prop('pos')) ->\"\n",
    "print system1.dvect([1.6, 1.6, 1.6], system1.atoms_prop('pos'))\n",
    "print \n",
    "\n",
    "print \"Same thing using list of integers:\"\n",
    "print \"system1.dvect([1.6, 1.6, 1.6], (0,1,2,3)) ->\"\n",
    "print system1.dvect([1.6, 1.6, 1.6], (0,1,2,3))"
   ]
  },
  {
   "cell_type": "markdown",
   "metadata": {},
   "source": [
    "###4.4 System.wrap()\n",
    "\n",
    "__System.wrap() fixes the system such that no atoms lie outside the box.  This is accomplished by wrapping the outlying atoms around periodic boundaries, and then extending any non-periodic boundaries.__   "
   ]
  },
  {
   "cell_type": "code",
   "execution_count": 26,
   "metadata": {
    "collapsed": false
   },
   "outputs": [
    {
     "name": "stdout",
     "output_type": "stream",
     "text": [
      "Move atom 0 outside the box boundaries:\n",
      "system1.atoms_prop(0, 'pos', [-1,-1,-1])\n",
      "system1.pbc() -> [ True False  True]\n",
      "system1.box() ->\n",
      "avect =  [ 3.200,  0.000,  0.000]\n",
      "bvect =  [ 0.000,  3.200,  0.000]\n",
      "cvect =  [ 0.000,  0.000,  3.200]\n",
      "origin = [ 0.000,  0.000,  0.000]\n",
      "system1.atoms() ->\n",
      "     id |   atype |  pos[0] |  pos[1] |  pos[2]\n",
      "      0 |       1 |  -1.000 |  -1.000 |  -1.000\n",
      "      1 |       2 |   1.600 |   1.600 |   0.000\n",
      "      2 |       3 |   1.600 |   0.000 |   1.600\n",
      "      3 |       4 |   0.000 |   1.600 |   1.600\n",
      "\n",
      "Wrap atoms and extend boundaries\n",
      "[-0.3125  0.5     0.5     0.    ] [-1.  0.  0.  0.]\n",
      "[-0.3125  0.      0.5     0.5   ] [-1.  0.  0.  0.]\n",
      "system1.wrap()\n",
      "system1.pbc() -> [ True False  True]\n",
      "system1.box() ->\n",
      "avect =  [ 3.200,  0.000,  0.000]\n",
      "bvect =  [ 0.000,  4.203,  0.000]\n",
      "cvect =  [ 0.000,  0.000,  3.200]\n",
      "origin = [ 0.000, -1.003,  0.000]\n",
      "system1.atoms() ->\n",
      "     id |   atype |  pos[0] |  pos[1] |  pos[2]\n",
      "      0 |       1 |   2.200 |  -1.000 |   2.200\n",
      "      1 |       2 |   1.600 |   1.600 |   0.000\n",
      "      2 |       3 |   1.600 |   0.000 |   1.600\n",
      "      3 |       4 |   0.000 |   1.600 |   1.600\n",
      "\n"
     ]
    }
   ],
   "source": [
    "print \"Move atom 0 outside the box boundaries:\"\n",
    "system1.atoms_prop(0, 'pos', [-1,-1,-1])\n",
    "print \"system1.atoms_prop(0, 'pos', [-1,-1,-1])\"\n",
    "print \"system1.pbc() ->\", system1.pbc()\n",
    "print \"system1.box() ->\"\n",
    "print system1.box()\n",
    "print \"system1.atoms() ->\"\n",
    "print system1.atoms()\n",
    "print \n",
    "\n",
    "print \"Wrap atoms and extend boundaries\"\n",
    "system1.wrap()\n",
    "print \"system1.wrap()\"\n",
    "print \"system1.pbc() ->\", system1.pbc()\n",
    "print \"system1.box() ->\"\n",
    "print system1.box()\n",
    "print \"system1.atoms() ->\"\n",
    "print system1.atoms()\n",
    "print "
   ]
  },
  {
   "cell_type": "code",
   "execution_count": 30,
   "metadata": {
    "collapsed": false
   },
   "outputs": [],
   "source": [
    "system2 = System(atoms=Atoms(30))"
   ]
  },
  {
   "cell_type": "code",
   "execution_count": 31,
   "metadata": {
    "collapsed": false
   },
   "outputs": [
    {
     "name": "stdout",
     "output_type": "stream",
     "text": [
      "0\n"
     ]
    }
   ],
   "source": [
    "print system2.atoms(25, 'atype')"
   ]
  },
  {
   "cell_type": "code",
   "execution_count": null,
   "metadata": {
    "collapsed": true
   },
   "outputs": [],
   "source": []
  }
 ],
 "metadata": {
  "kernelspec": {
   "display_name": "Python 2",
   "language": "python",
   "name": "python2"
  },
  "language_info": {
   "codemirror_mode": {
    "name": "ipython",
    "version": 2
   },
   "file_extension": ".py",
   "mimetype": "text/x-python",
   "name": "python",
   "nbconvert_exporter": "python",
   "pygments_lexer": "ipython2",
   "version": "2.7.10"
  }
 },
 "nbformat": 4,
 "nbformat_minor": 0
}
