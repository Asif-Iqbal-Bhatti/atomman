{
 "cells": [
  {
   "cell_type": "markdown",
   "metadata": {},
   "source": [
    "#AtomMan LAMMPS atom_data Demonstration\n",
    "\n",
    "__The atomman package was designed to allow for the creation and analysis of large scale atomistic simulations.  To help facilitate this, the atomman.lammps module contains a number of useful functions and classes that allow for atomman to interact with the LAMMPS molecular dynamics software.__\n",
    "\n",
    "__Interactions with LAMMPS atom data files is handled with the atomman.lammps.atom_data module.  This module contains two functions, load and dump, that allow for data files to be read into atomman and written to a file, respectively.__   "
   ]
  },
  {
   "cell_type": "markdown",
   "metadata": {},
   "source": [
    "__Library imports__"
   ]
  },
  {
   "cell_type": "code",
   "execution_count": 1,
   "metadata": {
    "collapsed": false
   },
   "outputs": [],
   "source": [
    "import atomman as am\n",
    "import atomman.lammps as lmp\n",
    "import numpy as np"
   ]
  },
  {
   "cell_type": "code",
   "execution_count": 2,
   "metadata": {
    "collapsed": false
   },
   "outputs": [
    {
     "name": "stdout",
     "output_type": "stream",
     "text": [
      "[[1]\n",
      " [1]\n",
      " [1]\n",
      " [1]\n",
      " [2]\n",
      " [2]\n",
      " [2]\n",
      " [2]] None int32\n",
      "[[ 0.    0.    0.  ]\n",
      " [ 0.5   0.    0.5 ]\n",
      " [ 0.5   0.5   0.  ]\n",
      " [ 0.    0.5   0.5 ]\n",
      " [ 0.25  0.25  0.25]\n",
      " [ 0.75  0.75  0.25]\n",
      " [ 0.25  0.75  0.75]\n",
      " [ 0.75  0.25  0.75]] None float64\n",
      "avect =  [ 5.650,  0.000,  0.000]\n",
      "bvect =  [ 0.000,  5.650,  0.000]\n",
      "cvect =  [ 0.000,  0.000,  5.650]\n",
      "origin = [ 0.000,  0.000,  0.000]\n",
      "     id |   atype |  pos[0] |  pos[1] |  pos[2]\n",
      "      0 |       1 |   0.000 |   0.000 |   0.000\n",
      "      1 |       1 |   2.825 |   0.000 |   2.825\n",
      "      2 |       1 |   2.825 |   2.825 |   0.000\n",
      "      3 |       1 |   0.000 |   2.825 |   2.825\n",
      "      4 |       2 |   1.413 |   1.413 |   1.413\n",
      "      5 |       2 |   4.238 |   4.238 |   1.413\n",
      "      6 |       2 |   1.413 |   4.238 |   4.238\n",
      "      7 |       2 |   4.238 |   1.413 |   4.238\n"
     ]
    }
   ],
   "source": [
    "#create small demonstration system (GaAs unit cell)\n",
    "prop_dict = {'atype': [1, 1, 1, 1, 2, 2, 2, 2],\n",
    "             'pos':  [[0.00, 0.00, 0.00],\n",
    "                      [0.50, 0.00, 0.50],\n",
    "                      [0.50, 0.50, 0.00],\n",
    "                      [0.00, 0.50, 0.50],\n",
    "                      [0.25, 0.25, 0.25],\n",
    "                      [0.75, 0.75, 0.25],\n",
    "                      [0.25, 0.75, 0.75],\n",
    "                      [0.75, 0.25, 0.75]]}\n",
    "\n",
    "atoms = am.Atoms(natoms=8, prop=prop_dict)\n",
    "box = am.Box(a=5.65, b=5.65, c=5.65, unit='angstrom')\n",
    "system = am.System(box=box, atoms=atoms, scale=True)\n",
    "print system.box()\n",
    "print system.atoms()"
   ]
  },
  {
   "cell_type": "markdown",
   "metadata": {},
   "source": [
    "##1. atom_data.dump()\n",
    "\n",
    "__The atom_data.dump() function writes a system's information to a LAMMPS atom data style file. The function arguments are:__\n",
    "\n",
    "- fname = name (and location) of the file to write to. Required.\n",
    "\n",
    "- system = the atomman.System to extract values from. Required.\n",
    "\n",
    "- units = the LAMMPS units style associated with the atom data file. Default is 'metal'.\n",
    " \n",
    "- atom_style = the LAMMPS atom_style format associated with the atom data file. Default is 'atomic'.\n",
    "\n",
    "__In addition to creating the data file, the function will also return a string containing the LAMMPS input command lines associated with having LAMMPS properly read in the data file.__"
   ]
  },
  {
   "cell_type": "code",
   "execution_count": 3,
   "metadata": {
    "collapsed": false
   },
   "outputs": [
    {
     "name": "stdout",
     "output_type": "stream",
     "text": [
      "#Script and atom data file prepared by AtomMan package\n",
      "\n",
      "units metal\n",
      "atom_style atomic\n",
      "boundary p p p \n",
      "read_data test.data\n"
     ]
    }
   ],
   "source": [
    "#write system to a atom data file\n",
    "read_info = lmp.atom_data.dump('test.data', system, units='metal', atom_style='atomic')\n",
    "\n",
    "#show the returned string of LAMMPS input commands\n",
    "print read_info"
   ]
  },
  {
   "cell_type": "code",
   "execution_count": 4,
   "metadata": {
    "collapsed": false
   },
   "outputs": [
    {
     "name": "stdout",
     "output_type": "stream",
     "text": [
      "\n",
      "8 atoms\n",
      "2 atom types\n",
      "0.000000 5.650000 xlo xhi\n",
      "0.000000 5.650000 ylo yhi\n",
      "0.000000 5.650000 zlo zhi\n",
      "\n",
      "Atoms\n",
      "\n",
      "1 1 0.0000000000000e+00 0.0000000000000e+00 0.0000000000000e+00\n",
      "2 1 2.8250000000000e+00 0.0000000000000e+00 2.8250000000000e+00\n",
      "3 1 2.8250000000000e+00 2.8250000000000e+00 0.0000000000000e+00\n",
      "4 1 0.0000000000000e+00 2.8250000000000e+00 2.8250000000000e+00\n",
      "5 2 1.4125000000000e+00 1.4125000000000e+00 1.4125000000000e+00\n",
      "6 2 4.2375000000000e+00 4.2375000000000e+00 1.4125000000000e+00\n",
      "7 2 1.4125000000000e+00 4.2375000000000e+00 4.2375000000000e+00\n",
      "8 2 4.2375000000000e+00 1.4125000000000e+00 4.2375000000000e+00\n",
      "\n"
     ]
    }
   ],
   "source": [
    "#show the contents of test.data\n",
    "with open('test.data') as f:\n",
    "    print f.read()"
   ]
  },
  {
   "cell_type": "code",
   "execution_count": 5,
   "metadata": {
    "collapsed": false
   },
   "outputs": [
    {
     "name": "stdout",
     "output_type": "stream",
     "text": [
      "#Script and atom data file prepared by AtomMan package\n",
      "\n",
      "units nano\n",
      "atom_style atomic\n",
      "boundary p p p \n",
      "read_data test.data\n",
      "--------------------------------------------------------------\n",
      "\n",
      "8 atoms\n",
      "2 atom types\n",
      "0.000000 0.565000 xlo xhi\n",
      "0.000000 0.565000 ylo yhi\n",
      "0.000000 0.565000 zlo zhi\n",
      "\n",
      "Atoms\n",
      "\n",
      "1 1 0.0000000000000e+00 0.0000000000000e+00 0.0000000000000e+00\n",
      "2 1 2.8250000000000e-01 0.0000000000000e+00 2.8250000000000e-01\n",
      "3 1 2.8250000000000e-01 2.8250000000000e-01 0.0000000000000e+00\n",
      "4 1 0.0000000000000e+00 2.8250000000000e-01 2.8250000000000e-01\n",
      "5 2 1.4125000000000e-01 1.4125000000000e-01 1.4125000000000e-01\n",
      "6 2 4.2375000000000e-01 4.2375000000000e-01 1.4125000000000e-01\n",
      "7 2 1.4125000000000e-01 4.2375000000000e-01 4.2375000000000e-01\n",
      "8 2 4.2375000000000e-01 1.4125000000000e-01 4.2375000000000e-01\n",
      "\n"
     ]
    }
   ],
   "source": [
    "#units style 'nano' uses lengths in nm instead on angstrom.\n",
    "read_info = lmp.atom_data.dump('test.data', system, units='nano')\n",
    "\n",
    "#show the returned string of LAMMPS input commands\n",
    "print read_info\n",
    "print '--------------------------------------------------------------'\n",
    "\n",
    "#show the contents of test.data\n",
    "with open('test.data') as f:\n",
    "    print f.read()"
   ]
  },
  {
   "cell_type": "markdown",
   "metadata": {},
   "source": [
    "__Other atom_styles require additional atom properties to be defined.  The current version requires that specific property names be used:__\n",
    "\n",
    "- m_id = integer molecule-ID\n",
    "\n",
    "- q = charge on atom (charge units)\n",
    " \n",
    "- diameter = diameter for atom_style 'sphere' (distance units)\n",
    "\n",
    "- e_flag = boolean flag for atom_style 'ellipsoid' (0 or 1)\n",
    "\n",
    "- l_flag = boolean flag for atom_style 'line' (0 or 1)\n",
    "\n",
    "- t_flag = boolean flag for atom_style 'tri' (0 or 1)\n",
    "\n",
    "- b_flag = boolean flag for atom_style 'body' (0 or 1)\n",
    "\n",
    "- m_temp = molecule template-index for atom_style 'template'\n",
    "\n",
    "- a_temp = atom template index for atom_style 'template'\n",
    "\n",
    "- density = particle density (mass/distance^3 units)\n",
    "\n",
    "- mass = mass of particle for atom_style 'body' (mass units)\n",
    "\n",
    "- volume = volume of particle (distance^3 units)\n",
    "\n",
    "- mux, muy, muz = components of dipole moment of atom for atom_style 'dipole' (dipole units)\n",
    "\n",
    "- rho, e, cv = density, energy, heat capacity for atom_style 'meso' (None units)\n",
    "\n",
    "- spin = integer electron spin for atom_styles 'electron' and 'wavepacket'\n",
    "\n",
    "- eradius = electron radius or fixed-core radius for atom_styles 'electron' and 'wavepacket' (distance units)\n",
    "\n",
    "- e_id = etag integer ID of electron that each wavepacket belongs to for atom_style 'wavepacket'\n",
    "\n",
    "- cs_re, cs_im = real/imaginary parts of wavepacket coefficients for atom_style 'wavepacket'\n",
    "\n",
    "- K_radius, c_radius = kernel_radius and contact_radius for atom_style 'smd' (distance units)\n"
   ]
  },
  {
   "cell_type": "code",
   "execution_count": 6,
   "metadata": {
    "collapsed": false
   },
   "outputs": [
    {
     "name": "stdout",
     "output_type": "stream",
     "text": [
      "[[-1.]\n",
      " [-1.]\n",
      " [-1.]\n",
      " [-1.]\n",
      " [ 1.]\n",
      " [ 1.]\n",
      " [ 1.]\n",
      " [ 1.]] float64 float64\n",
      "#Script and atom data file prepared by AtomMan package\n",
      "\n",
      "units metal\n",
      "atom_style charge\n",
      "boundary p p p \n",
      "read_data test.data\n",
      "--------------------------------------------------------------\n",
      "\n",
      "8 atoms\n",
      "2 atom types\n",
      "0.000000 5.650000 xlo xhi\n",
      "0.000000 5.650000 ylo yhi\n",
      "0.000000 5.650000 zlo zhi\n",
      "\n",
      "Atoms\n",
      "\n",
      "1 1 -1.0000000000000e+00 0.0000000000000e+00 0.0000000000000e+00 0.0000000000000e+00\n",
      "2 1 -1.0000000000000e+00 2.8250000000000e+00 0.0000000000000e+00 2.8250000000000e+00\n",
      "3 1 -1.0000000000000e+00 2.8250000000000e+00 2.8250000000000e+00 0.0000000000000e+00\n",
      "4 1 -1.0000000000000e+00 0.0000000000000e+00 2.8250000000000e+00 2.8250000000000e+00\n",
      "5 2 1.0000000000000e+00 1.4125000000000e+00 1.4125000000000e+00 1.4125000000000e+00\n",
      "6 2 1.0000000000000e+00 4.2375000000000e+00 4.2375000000000e+00 1.4125000000000e+00\n",
      "7 2 1.0000000000000e+00 1.4125000000000e+00 4.2375000000000e+00 4.2375000000000e+00\n",
      "8 2 1.0000000000000e+00 4.2375000000000e+00 1.4125000000000e+00 4.2375000000000e+00\n",
      "\n"
     ]
    }
   ],
   "source": [
    "#atom_style charge demo\n",
    "system.atoms_prop('q', [-1., -1., -1., -1., 1., 1., 1., 1.])\n",
    "read_info = lmp.atom_data.dump('test.data', system, atom_style='charge')\n",
    "\n",
    "#show the returned string of LAMMPS input commands\n",
    "print read_info\n",
    "print '--------------------------------------------------------------'\n",
    "\n",
    "#show the contents of test.data\n",
    "with open('test.data') as f:\n",
    "    print f.read()"
   ]
  },
  {
   "cell_type": "markdown",
   "metadata": {},
   "source": [
    "__If a 'velocity' property is assigned to the atoms, then the velocity values will also be included in the data file.  Depending on the atom_style, other velocity properties may be required to be defined:__\n",
    "\n",
    "- erval = electron radial velocity for atom_style 'electron' (velocity units)\n",
    "\n",
    "- ang-momentum = angular momentum for atom_style 'ellipsoid' (angular momentum units)\n",
    "\n",
    "- ang-velocity = angular velocity for atom_style 'sphere' (angular velocity units)\n"
   ]
  },
  {
   "cell_type": "code",
   "execution_count": 7,
   "metadata": {
    "collapsed": false
   },
   "outputs": [
    {
     "name": "stdout",
     "output_type": "stream",
     "text": [
      "[[ 0.33185757  0.77539172  0.07421195]\n",
      " [ 0.32808699  0.22450748  0.77373308]\n",
      " [ 0.05665348  0.13022471  0.23523679]\n",
      " [ 0.7499177   0.79535317  0.35684384]\n",
      " [ 0.63433964  0.99317181  0.22914993]\n",
      " [ 0.49753032  0.63172891  0.60994721]\n",
      " [ 0.99156099  0.4862453   0.84482141]\n",
      " [ 0.90890778  0.90463741  0.95309075]] float64 float64\n",
      "#Script and atom data file prepared by AtomMan package\n",
      "\n",
      "units metal\n",
      "atom_style atomic\n",
      "boundary p p p \n",
      "read_data test.data\n",
      "--------------------------------------------------------------\n",
      "\n",
      "8 atoms\n",
      "2 atom types\n",
      "0.000000 5.650000 xlo xhi\n",
      "0.000000 5.650000 ylo yhi\n",
      "0.000000 5.650000 zlo zhi\n",
      "\n",
      "Atoms\n",
      "\n",
      "1 1 0.0000000000000e+00 0.0000000000000e+00 0.0000000000000e+00\n",
      "2 1 2.8250000000000e+00 0.0000000000000e+00 2.8250000000000e+00\n",
      "3 1 2.8250000000000e+00 2.8250000000000e+00 0.0000000000000e+00\n",
      "4 1 0.0000000000000e+00 2.8250000000000e+00 2.8250000000000e+00\n",
      "5 2 1.4125000000000e+00 1.4125000000000e+00 1.4125000000000e+00\n",
      "6 2 4.2375000000000e+00 4.2375000000000e+00 1.4125000000000e+00\n",
      "7 2 1.4125000000000e+00 4.2375000000000e+00 4.2375000000000e+00\n",
      "8 2 4.2375000000000e+00 1.4125000000000e+00 4.2375000000000e+00\n",
      "\n",
      "Velocities\n",
      "\n",
      "1 3.2597357015380e+01 7.6164363200488e+01 7.2896130424871e+00\n",
      "2 3.2226984151279e+01 2.2052684638863e+01 7.6001440793932e+01\n",
      "3 5.5648981959204e+00 1.2791576090200e+01 2.3106592773291e+01\n",
      "4 7.3662128195055e+01 7.8125115573438e+01 3.5051682245264e+01\n",
      "5 6.2309247678094e+01 9.7556237825961e+01 2.2508698664963e+01\n",
      "6 4.8870886108078e+01 6.2052803961961e+01 5.9913253429108e+01\n",
      "7 9.7398011793278e+01 4.7762392562622e+01 8.2984230436840e+01\n",
      "8 8.9279238699054e+01 8.8859772980093e+01 9.3619197445136e+01\n",
      "\n"
     ]
    }
   ],
   "source": [
    "system.atoms_prop('velocity', np.random.rand(8,3))\n",
    "read_info = lmp.atom_data.dump('test.data', system)\n",
    "\n",
    "#show the returned string of LAMMPS input commands\n",
    "print read_info\n",
    "print '--------------------------------------------------------------'\n",
    "\n",
    "#show the contents of test.data\n",
    "with open('test.data') as f:\n",
    "    print f.read()"
   ]
  },
  {
   "cell_type": "markdown",
   "metadata": {},
   "source": [
    "##2. atom_data.load()\n",
    "\n",
    "__The atom_data.load() function reads a LAMMPS atom data style file. The function arguments are:__\n",
    "\n",
    "- fname = name (and location) of the file to read. Required.\n",
    "\n",
    "- pbc = three boolean values where True indicates that a corresponding system direction is periodic. Default is (True, True, True).\n",
    "\n",
    "- units = the LAMMPS units style associated with the atom data file. Default is 'metal'.\n",
    " \n",
    "- atom_style = the LAMMPS atom_style format associated with the atom data file. Default is 'atomic'.\n",
    "\n",
    "__The function will return an atomman.System containing all property values converted from the appropriate units.__"
   ]
  },
  {
   "cell_type": "code",
   "execution_count": 8,
   "metadata": {
    "collapsed": false
   },
   "outputs": [
    {
     "name": "stdout",
     "output_type": "stream",
     "text": [
      "[[1]\n",
      " [1]\n",
      " [1]\n",
      " [1]\n",
      " [2]\n",
      " [2]\n",
      " [2]\n",
      " [2]] None int32\n",
      "[[ 0.      0.      0.    ]\n",
      " [ 2.825   0.      2.825 ]\n",
      " [ 2.825   2.825   0.    ]\n",
      " [ 0.      2.825   2.825 ]\n",
      " [ 1.4125  1.4125  1.4125]\n",
      " [ 4.2375  4.2375  1.4125]\n",
      " [ 1.4125  4.2375  4.2375]\n",
      " [ 4.2375  1.4125  4.2375]] None float64\n",
      "[[ 32.59735702  76.1643632    7.28961304]\n",
      " [ 32.22698415  22.05268464  76.00144079]\n",
      " [  5.5648982   12.79157609  23.10659277]\n",
      " [ 73.6621282   78.12511557  35.05168225]\n",
      " [ 62.30924768  97.55623783  22.50869866]\n",
      " [ 48.87088611  62.05280396  59.91325343]\n",
      " [ 97.39801179  47.76239256  82.98423044]\n",
      " [ 89.2792387   88.85977298  93.61919745]] float64 float64\n",
      "system2.box() ->\n",
      "avect =  [ 5.650,  0.000,  0.000]\n",
      "bvect =  [ 0.000,  5.650,  0.000]\n",
      "cvect =  [ 0.000,  0.000,  5.650]\n",
      "origin = [ 0.000,  0.000,  0.000]\n",
      "\n",
      "system2.atoms() ->\n",
      "     id |   atype |  pos[0] |  pos[1] |  pos[2]\n",
      "      0 |       1 |   0.000 |   0.000 |   0.000\n",
      "      1 |       1 |   2.825 |   0.000 |   2.825\n",
      "      2 |       1 |   2.825 |   2.825 |   0.000\n",
      "      3 |       1 |   0.000 |   2.825 |   2.825\n",
      "      4 |       2 |   1.413 |   1.413 |   1.413\n",
      "      5 |       2 |   4.237 |   4.237 |   1.413\n",
      "      6 |       2 |   1.413 |   4.237 |   4.237\n",
      "      7 |       2 |   4.237 |   1.413 |   4.237\n",
      "\n",
      "system2.atoms('velocity') ->\n",
      "[[ 0.33185757  0.77539172  0.07421195]\n",
      " [ 0.32808699  0.22450748  0.77373308]\n",
      " [ 0.05665348  0.13022471  0.23523679]\n",
      " [ 0.7499177   0.79535317  0.35684384]\n",
      " [ 0.63433964  0.99317181  0.22914993]\n",
      " [ 0.49753032  0.63172891  0.60994721]\n",
      " [ 0.99156099  0.4862453   0.84482141]\n",
      " [ 0.90890778  0.90463741  0.95309075]]\n"
     ]
    }
   ],
   "source": [
    "system2 = lmp.atom_data.load('test.data', pbc=(True, True, True))\n",
    "print \"system2.box() ->\"\n",
    "print system2.box()\n",
    "print\n",
    "print \"system2.atoms() ->\"\n",
    "print system2.atoms()\n",
    "print\n",
    "print \"system2.atoms('velocity') ->\"\n",
    "print system2.atoms('velocity')"
   ]
  },
  {
   "cell_type": "code",
   "execution_count": 9,
   "metadata": {
    "collapsed": true
   },
   "outputs": [],
   "source": [
    "#file cleanup\n",
    "import os\n",
    "os.remove('test.data')"
   ]
  },
  {
   "cell_type": "code",
   "execution_count": null,
   "metadata": {
    "collapsed": true
   },
   "outputs": [],
   "source": []
  }
 ],
 "metadata": {
  "kernelspec": {
   "display_name": "Python 2",
   "language": "python",
   "name": "python2"
  },
  "language_info": {
   "codemirror_mode": {
    "name": "ipython",
    "version": 2
   },
   "file_extension": ".py",
   "mimetype": "text/x-python",
   "name": "python",
   "nbconvert_exporter": "python",
   "pygments_lexer": "ipython2",
   "version": "2.7.10"
  }
 },
 "nbformat": 4,
 "nbformat_minor": 0
}
