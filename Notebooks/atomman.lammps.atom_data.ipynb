{
 "cells": [
  {
   "cell_type": "markdown",
   "metadata": {},
   "source": [
    "#AtomMan LAMMPS atom_data Demonstration\n",
    "\n",
    "The atomman package was designed to allow for the creation and analysis of large scale atomistic simulations.  To help facilitate this, the atomman.lammps module contains a number of useful functions and classes that allow for atomman to interact with the LAMMPS molecular dynamics software.\n",
    "\n",
    "Interactions with LAMMPS atom data files is handled with the atomman.lammps.atom_data module.  This module contains two functions, load and dump, that allow for data files to be read into atomman and written to a file, respectively. "
   ]
  },
  {
   "cell_type": "markdown",
   "metadata": {},
   "source": [
    "Library imports"
   ]
  },
  {
   "cell_type": "code",
   "execution_count": 1,
   "metadata": {
    "collapsed": false
   },
   "outputs": [],
   "source": [
    "import atomman as am\n",
    "import atomman.lammps as lmp\n",
    "import numpy as np"
   ]
  },
  {
   "cell_type": "code",
   "execution_count": 2,
   "metadata": {
    "collapsed": false
   },
   "outputs": [
    {
     "name": "stdout",
     "output_type": "stream",
     "text": [
      "avect =  [ 5.650,  0.000,  0.000]\n",
      "bvect =  [ 0.000,  5.650,  0.000]\n",
      "cvect =  [ 0.000,  0.000,  5.650]\n",
      "origin = [ 0.000,  0.000,  0.000]\n",
      "     id |   atype |  pos[0] |  pos[1] |  pos[2]\n",
      "      0 |       1 |   0.000 |   0.000 |   0.000\n",
      "      1 |       1 |   2.825 |   0.000 |   2.825\n",
      "      2 |       1 |   2.825 |   2.825 |   0.000\n",
      "      3 |       1 |   0.000 |   2.825 |   2.825\n",
      "      4 |       2 |   1.413 |   1.413 |   1.413\n",
      "      5 |       2 |   4.238 |   4.238 |   1.413\n",
      "      6 |       2 |   1.413 |   4.238 |   4.238\n",
      "      7 |       2 |   4.238 |   1.413 |   4.238\n"
     ]
    }
   ],
   "source": [
    "#create small demonstration system (GaAs unit cell)\n",
    "prop_dict = {'atype': [1, 1, 1, 1, 2, 2, 2, 2],\n",
    "             'pos':  [[0.00, 0.00, 0.00],\n",
    "                      [0.50, 0.00, 0.50],\n",
    "                      [0.50, 0.50, 0.00],\n",
    "                      [0.00, 0.50, 0.50],\n",
    "                      [0.25, 0.25, 0.25],\n",
    "                      [0.75, 0.75, 0.25],\n",
    "                      [0.25, 0.75, 0.75],\n",
    "                      [0.75, 0.25, 0.75]]}\n",
    "\n",
    "atoms = am.Atoms(natoms=8, prop=prop_dict)\n",
    "box = am.Box(a=5.65, b=5.65, c=5.65)\n",
    "system = am.System(box=box, atoms=atoms, scale=True)\n",
    "print system.box\n",
    "print system.atoms"
   ]
  },
  {
   "cell_type": "markdown",
   "metadata": {},
   "source": [
    "##1. atom_data.dump()\n",
    "\n",
    "The atom_data.dump() function writes a system's information to a LAMMPS atom data style file. The function arguments are:\n",
    "\n",
    "- __fname__ = name (and location) of the file to write to. Required.\n",
    "\n",
    "- __system__ = the atomman.System to extract values from. Required.\n",
    "\n",
    "- __units__ = the LAMMPS units style associated with the atom data file. Default is 'metal'.\n",
    " \n",
    "- __atom_style__ = the LAMMPS atom_style format associated with the atom data file. Default is 'atomic'.\n",
    "\n",
    "In addition to creating the data file, the function will also return a string containing the LAMMPS input command lines associated with having LAMMPS properly read in the data file."
   ]
  },
  {
   "cell_type": "code",
   "execution_count": 3,
   "metadata": {
    "collapsed": false
   },
   "outputs": [
    {
     "name": "stdout",
     "output_type": "stream",
     "text": [
      "#Script and atom data file prepared by AtomMan package\n",
      "\n",
      "units metal\n",
      "atom_style atomic\n",
      "boundary p p p \n",
      "read_data test.data\n"
     ]
    }
   ],
   "source": [
    "#write system to a atom data file\n",
    "read_info = lmp.atom_data.dump('test.data', system, units='metal', atom_style='atomic')\n",
    "\n",
    "#show the returned string of LAMMPS input commands\n",
    "print read_info"
   ]
  },
  {
   "cell_type": "code",
   "execution_count": 4,
   "metadata": {
    "collapsed": false
   },
   "outputs": [
    {
     "name": "stdout",
     "output_type": "stream",
     "text": [
      "\n",
      "8 atoms\n",
      "2 atom types\n",
      "0.000000 5.650000 xlo xhi\n",
      "0.000000 5.650000 ylo yhi\n",
      "0.000000 5.650000 zlo zhi\n",
      "\n",
      "Atoms\n",
      "\n",
      "1 1 0.0000000000000e+00 0.0000000000000e+00 0.0000000000000e+00\n",
      "2 1 2.8250000000000e+00 0.0000000000000e+00 2.8250000000000e+00\n",
      "3 1 2.8250000000000e+00 2.8250000000000e+00 0.0000000000000e+00\n",
      "4 1 0.0000000000000e+00 2.8250000000000e+00 2.8250000000000e+00\n",
      "5 2 1.4125000000000e+00 1.4125000000000e+00 1.4125000000000e+00\n",
      "6 2 4.2375000000000e+00 4.2375000000000e+00 1.4125000000000e+00\n",
      "7 2 1.4125000000000e+00 4.2375000000000e+00 4.2375000000000e+00\n",
      "8 2 4.2375000000000e+00 1.4125000000000e+00 4.2375000000000e+00\n",
      "\n"
     ]
    }
   ],
   "source": [
    "#show the contents of test.data\n",
    "with open('test.data') as f:\n",
    "    print f.read()"
   ]
  },
  {
   "cell_type": "code",
   "execution_count": 5,
   "metadata": {
    "collapsed": false
   },
   "outputs": [
    {
     "name": "stdout",
     "output_type": "stream",
     "text": [
      "#Script and atom data file prepared by AtomMan package\n",
      "\n",
      "units nano\n",
      "atom_style atomic\n",
      "boundary p p p \n",
      "read_data test.data\n",
      "--------------------------------------------------------------\n",
      "\n",
      "8 atoms\n",
      "2 atom types\n",
      "0.000000 0.565000 xlo xhi\n",
      "0.000000 0.565000 ylo yhi\n",
      "0.000000 0.565000 zlo zhi\n",
      "\n",
      "Atoms\n",
      "\n",
      "1 1 0.0000000000000e+00 0.0000000000000e+00 0.0000000000000e+00\n",
      "2 1 2.8250000000000e-01 0.0000000000000e+00 2.8250000000000e-01\n",
      "3 1 2.8250000000000e-01 2.8250000000000e-01 0.0000000000000e+00\n",
      "4 1 0.0000000000000e+00 2.8250000000000e-01 2.8250000000000e-01\n",
      "5 2 1.4125000000000e-01 1.4125000000000e-01 1.4125000000000e-01\n",
      "6 2 4.2375000000000e-01 4.2375000000000e-01 1.4125000000000e-01\n",
      "7 2 1.4125000000000e-01 4.2375000000000e-01 4.2375000000000e-01\n",
      "8 2 4.2375000000000e-01 1.4125000000000e-01 4.2375000000000e-01\n",
      "\n"
     ]
    }
   ],
   "source": [
    "#units style 'nano' uses lengths in nm instead on angstrom.\n",
    "read_info = lmp.atom_data.dump('test.data', system, units='nano')\n",
    "\n",
    "#show the returned string of LAMMPS input commands\n",
    "print read_info\n",
    "print '--------------------------------------------------------------'\n",
    "\n",
    "#show the contents of test.data\n",
    "with open('test.data') as f:\n",
    "    print f.read()"
   ]
  },
  {
   "cell_type": "markdown",
   "metadata": {},
   "source": [
    "Other atom_styles require additional atom properties to be defined.  The current version requires that specific property names be used:\n",
    "\n",
    "- __m_id__ = integer molecule-ID\n",
    "\n",
    "- __q__ = charge on atom (charge units)\n",
    " \n",
    "- __diameter__ = diameter for atom_style 'sphere' (distance units)\n",
    "\n",
    "- __e_flag__ = boolean flag for atom_style 'ellipsoid' (0 or 1)\n",
    "\n",
    "- __l_flag__ = boolean flag for atom_style 'line' (0 or 1)\n",
    "\n",
    "- __t_flag__ = boolean flag for atom_style 'tri' (0 or 1)\n",
    "\n",
    "- __b_flag__ = boolean flag for atom_style 'body' (0 or 1)\n",
    "\n",
    "- __m_temp__ = molecule template-index for atom_style 'template'\n",
    "\n",
    "- __a_temp__ = atom template index for atom_style 'template'\n",
    "\n",
    "- __density__ = particle density (mass/distance^3 units)\n",
    "\n",
    "- __mass__ = mass of particle for atom_style 'body' (mass units)\n",
    "\n",
    "- __volume__ = volume of particle (distance^3 units)\n",
    "\n",
    "- __mux, muy, muz__ = components of dipole moment of atom for atom_style 'dipole' (dipole units)\n",
    "\n",
    "- __rho, e, cv__ = density, energy, heat capacity for atom_style 'meso' (None units)\n",
    "\n",
    "- __spin__ = integer electron spin for atom_styles 'electron' and 'wavepacket'\n",
    "\n",
    "- __eradius__ = electron radius or fixed-core radius for atom_styles 'electron' and 'wavepacket' (distance units)\n",
    "\n",
    "- __e_id__ = etag integer ID of electron that each wavepacket belongs to for atom_style 'wavepacket'\n",
    "\n",
    "- __cs_re, cs_im__ = real/imaginary parts of wavepacket coefficients for atom_style 'wavepacket'\n",
    "\n",
    "- __K_radius, c_radius__ = kernel_radius and contact_radius for atom_style 'smd' (distance units)\n"
   ]
  },
  {
   "cell_type": "code",
   "execution_count": 6,
   "metadata": {
    "collapsed": false
   },
   "outputs": [
    {
     "name": "stdout",
     "output_type": "stream",
     "text": [
      "#Script and atom data file prepared by AtomMan package\n",
      "\n",
      "units metal\n",
      "atom_style charge\n",
      "boundary p p p \n",
      "read_data test.data\n",
      "--------------------------------------------------------------\n",
      "\n",
      "8 atoms\n",
      "2 atom types\n",
      "0.000000 5.650000 xlo xhi\n",
      "0.000000 5.650000 ylo yhi\n",
      "0.000000 5.650000 zlo zhi\n",
      "\n",
      "Atoms\n",
      "\n",
      "1 1 -1.0000000000000e+00 0.0000000000000e+00 0.0000000000000e+00 0.0000000000000e+00\n",
      "2 1 -1.0000000000000e+00 2.8250000000000e+00 0.0000000000000e+00 2.8250000000000e+00\n",
      "3 1 -1.0000000000000e+00 2.8250000000000e+00 2.8250000000000e+00 0.0000000000000e+00\n",
      "4 1 -1.0000000000000e+00 0.0000000000000e+00 2.8250000000000e+00 2.8250000000000e+00\n",
      "5 2 1.0000000000000e+00 1.4125000000000e+00 1.4125000000000e+00 1.4125000000000e+00\n",
      "6 2 1.0000000000000e+00 4.2375000000000e+00 4.2375000000000e+00 1.4125000000000e+00\n",
      "7 2 1.0000000000000e+00 1.4125000000000e+00 4.2375000000000e+00 4.2375000000000e+00\n",
      "8 2 1.0000000000000e+00 4.2375000000000e+00 1.4125000000000e+00 4.2375000000000e+00\n",
      "\n"
     ]
    }
   ],
   "source": [
    "#atom_style charge demo\n",
    "system.atoms_prop(key='q', value=[-1., -1., -1., -1., 1., 1., 1., 1.])\n",
    "read_info = lmp.atom_data.dump('test.data', system, atom_style='charge')\n",
    "\n",
    "#show the returned string of LAMMPS input commands\n",
    "print read_info\n",
    "print '--------------------------------------------------------------'\n",
    "\n",
    "#show the contents of test.data\n",
    "with open('test.data') as f:\n",
    "    print f.read()"
   ]
  },
  {
   "cell_type": "markdown",
   "metadata": {},
   "source": [
    "If a 'velocity' property is assigned to the atoms, then the velocity values will also be included in the data file.  Depending on the atom_style, other velocity properties may be required to be defined:\n",
    "\n",
    "- __erval__ = electron radial velocity for atom_style 'electron' (velocity units)\n",
    "\n",
    "- __ang-momentum__ = angular momentum for atom_style 'ellipsoid' (angular momentum units)\n",
    "\n",
    "- __ang-velocity__ = angular velocity for atom_style 'sphere' (angular velocity units)\n"
   ]
  },
  {
   "cell_type": "code",
   "execution_count": 7,
   "metadata": {
    "collapsed": false
   },
   "outputs": [
    {
     "name": "stdout",
     "output_type": "stream",
     "text": [
      "#Script and atom data file prepared by AtomMan package\n",
      "\n",
      "units metal\n",
      "atom_style atomic\n",
      "boundary p p p \n",
      "read_data test.data\n",
      "--------------------------------------------------------------\n",
      "\n",
      "8 atoms\n",
      "2 atom types\n",
      "0.000000 5.650000 xlo xhi\n",
      "0.000000 5.650000 ylo yhi\n",
      "0.000000 5.650000 zlo zhi\n",
      "\n",
      "Atoms\n",
      "\n",
      "1 1 0.0000000000000e+00 0.0000000000000e+00 0.0000000000000e+00\n",
      "2 1 2.8250000000000e+00 0.0000000000000e+00 2.8250000000000e+00\n",
      "3 1 2.8250000000000e+00 2.8250000000000e+00 0.0000000000000e+00\n",
      "4 1 0.0000000000000e+00 2.8250000000000e+00 2.8250000000000e+00\n",
      "5 2 1.4125000000000e+00 1.4125000000000e+00 1.4125000000000e+00\n",
      "6 2 4.2375000000000e+00 4.2375000000000e+00 1.4125000000000e+00\n",
      "7 2 1.4125000000000e+00 4.2375000000000e+00 4.2375000000000e+00\n",
      "8 2 4.2375000000000e+00 1.4125000000000e+00 4.2375000000000e+00\n",
      "\n",
      "Velocities\n",
      "\n",
      "1 5.6349966777401e+01 4.3451705660631e+01 5.6929791732623e+01\n",
      "2 1.2213370459918e+01 8.7960357729694e+00 5.4541923202631e+01\n",
      "3 7.8488562846045e+01 1.4247983257099e+01 1.3338133293935e-01\n",
      "4 1.4961990722762e+01 6.5885278815675e+01 6.3084725413184e+01\n",
      "5 8.4460595693154e+01 4.6861204830127e+01 4.7916510859225e+01\n",
      "6 1.1623914772918e+01 6.7474581584638e+01 1.6948331963422e+01\n",
      "7 4.8620275331079e+01 2.9210524155554e+01 4.4618825488281e+01\n",
      "8 2.8983445812927e+01 7.8132923166369e+01 1.5580389186075e+01\n",
      "\n"
     ]
    }
   ],
   "source": [
    "system.atoms_prop(key='velocity', value=np.random.rand(8,3))\n",
    "read_info = lmp.atom_data.dump('test.data', system)\n",
    "\n",
    "#show the returned string of LAMMPS input commands\n",
    "print read_info\n",
    "print '--------------------------------------------------------------'\n",
    "\n",
    "#show the contents of test.data\n",
    "with open('test.data') as f:\n",
    "    print f.read()"
   ]
  },
  {
   "cell_type": "markdown",
   "metadata": {},
   "source": [
    "##2. atom_data.load()\n",
    "\n",
    "The atom_data.load() function reads a LAMMPS atom data style file. The function arguments are:\n",
    "\n",
    "- __fname__ = name (and location) of the file to read. Required.\n",
    "\n",
    "- __pbc__ = three boolean values where True indicates that a corresponding system direction is periodic. Default is (True, True, True).\n",
    "\n",
    "- __units__ = the LAMMPS units style associated with the atom data file. Default is 'metal'.\n",
    " \n",
    "- __atom_style__ = the LAMMPS atom_style format associated with the atom data file. Default is 'atomic'.\n",
    "\n",
    "The function will return an atomman.System containing all property values converted from the appropriate units."
   ]
  },
  {
   "cell_type": "code",
   "execution_count": 8,
   "metadata": {
    "collapsed": false
   },
   "outputs": [
    {
     "name": "stdout",
     "output_type": "stream",
     "text": [
      "system2.box ->\n",
      "avect =  [ 5.650,  0.000,  0.000]\n",
      "bvect =  [ 0.000,  5.650,  0.000]\n",
      "cvect =  [ 0.000,  0.000,  5.650]\n",
      "origin = [ 0.000,  0.000,  0.000]\n",
      "\n",
      "system2.atoms ->\n",
      "     id |   atype |  pos[0] |  pos[1] |  pos[2]\n",
      "      0 |       1 |   0.000 |   0.000 |   0.000\n",
      "      1 |       1 |   2.825 |   0.000 |   2.825\n",
      "      2 |       1 |   2.825 |   2.825 |   0.000\n",
      "      3 |       1 |   0.000 |   2.825 |   2.825\n",
      "      4 |       2 |   1.413 |   1.413 |   1.413\n",
      "      5 |       2 |   4.237 |   4.237 |   1.413\n",
      "      6 |       2 |   1.413 |   4.237 |   4.237\n",
      "      7 |       2 |   4.237 |   1.413 |   4.237\n",
      "\n",
      "system2.atoms_prop(key='velocity') ->\n",
      "[[ 0.57367115  0.44236033  0.57957406]\n",
      " [ 0.12433828  0.08954809  0.55526435]\n",
      " [ 0.79905324  0.14505167  0.00135789]\n",
      " [ 0.15232063  0.67074544  0.64223439]\n",
      " [ 0.85985156  0.47707075  0.4878143 ]\n",
      " [ 0.11833733  0.68692535  0.17254259]\n",
      " [ 0.49497898  0.2973779   0.4542422 ]\n",
      " [ 0.29506613  0.79543265  0.15861624]]\n"
     ]
    }
   ],
   "source": [
    "system2 = lmp.atom_data.load('test.data', pbc=(True, True, True))\n",
    "print \"system2.box ->\"\n",
    "print system2.box\n",
    "print\n",
    "print \"system2.atoms ->\"\n",
    "print system2.atoms\n",
    "print\n",
    "print \"system2.atoms_prop(key='velocity') ->\"\n",
    "print system2.atoms_prop(key='velocity')"
   ]
  },
  {
   "cell_type": "code",
   "execution_count": 9,
   "metadata": {
    "collapsed": true
   },
   "outputs": [],
   "source": [
    "#file cleanup\n",
    "import os\n",
    "os.remove('test.data')"
   ]
  },
  {
   "cell_type": "code",
   "execution_count": null,
   "metadata": {
    "collapsed": true
   },
   "outputs": [],
   "source": []
  }
 ],
 "metadata": {
  "kernelspec": {
   "display_name": "Python 2",
   "language": "python",
   "name": "python2"
  },
  "language_info": {
   "codemirror_mode": {
    "name": "ipython",
    "version": 2
   },
   "file_extension": ".py",
   "mimetype": "text/x-python",
   "name": "python",
   "nbconvert_exporter": "python",
   "pygments_lexer": "ipython2",
   "version": "2.7.10"
  }
 },
 "nbformat": 4,
 "nbformat_minor": 0
}
