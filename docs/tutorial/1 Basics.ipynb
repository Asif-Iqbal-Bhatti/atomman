{
 "cells": [
  {
   "cell_type": "markdown",
   "metadata": {},
   "source": [
    "# Introduction to atomman\n",
    "- - -"
   ]
  },
  {
   "cell_type": "markdown",
   "metadata": {},
   "source": [
    "**Lucas M. Hale**, [lucas.hale@nist.gov](mailto:lucas.hale@nist.gov?Subject=ipr-demo), *Materials Science and Engineering Division, NIST*.\n",
    "\n",
    "**Chandler A. Becker**, [chandler.becker@nist.gov](mailto:chandler.becker@nist.gov?Subject=ipr-demo), *Office of Data and Informatics, NIST*.\n",
    "\n",
    "**Zachary T. Trautt**, [zachary.trautt@nist.gov](mailto:zachary.trautt@nist.gov?Subject=ipr-demo), *Materials Measurement Science Division, NIST*.\n",
    "\n",
    "Version: 2016-08-23\n",
    "\n",
    "[Disclaimers](http://www.nist.gov/public_affairs/disclaimer.cfm)\n",
    "\n",
    "- - -"
   ]
  },
  {
   "cell_type": "markdown",
   "metadata": {},
   "source": [
    "## Introduction\n",
    "\n",
    "This Notebook provides an introduction to creating and manipulating atomistic systems using atomman. It provides a working demonstration of how the code works. Links are also given to the in-depth Notebooks related to the specific actions mentioned here.\n",
    "\n",
    "- - -"
   ]
  },
  {
   "cell_type": "markdown",
   "metadata": {},
   "source": [
    "#### Library Imports"
   ]
  },
  {
   "cell_type": "code",
   "execution_count": 2,
   "metadata": {
    "collapsed": false
   },
   "outputs": [],
   "source": [
    "import numpy as np          #http://www.numpy.org/\n",
    "import atomman as am        #https://github.com/usnistgov/atomman\n",
    "import atomman.unitconvert as uc"
   ]
  },
  {
   "cell_type": "markdown",
   "metadata": {},
   "source": [
    "## 0. Unit conversions\n",
    "\n",
    "By default, atomman assumes that the working units of values are consistent with:\n",
    "\n",
    "- length in Angstroms\n",
    "\n",
    "- mass in atomic mass unit\n",
    "\n",
    "- energy in electron volts\n",
    "\n",
    "- charge in electron charge\n",
    "\n",
    "- temperature in Kelvin\n",
    "\n",
    "More information on converting units and setting the working units can be found in the [atomman.unitconvert Notebook](../reference/atomman.unitconvert.ipynb). The underlying code can be found in [atomman/unitconvert.py](../../atomman/unitconvert.py)."
   ]
  },
  {
   "cell_type": "code",
   "execution_count": 3,
   "metadata": {
    "collapsed": false
   },
   "outputs": [
    {
     "name": "stdout",
     "output_type": "stream",
     "text": [
      "15240000000.0 Angstroms\n"
     ]
    }
   ],
   "source": [
    "#set_in_units converts values from the specified units to the working units\n",
    "five_feet = uc.set_in_units(5, 'foot')\n",
    "print five_feet, 'Angstroms'"
   ]
  },
  {
   "cell_type": "code",
   "execution_count": 4,
   "metadata": {
    "collapsed": false
   },
   "outputs": [
    {
     "name": "stdout",
     "output_type": "stream",
     "text": [
      "60.0 inches\n"
     ]
    }
   ],
   "source": [
    "#get_in_units converts values from the working units to the specified units\n",
    "print uc.get_in_units(five_feet, 'inch'), 'inches'"
   ]
  },
  {
   "cell_type": "code",
   "execution_count": 6,
   "metadata": {
    "collapsed": false
   },
   "outputs": [
    {
     "name": "stdout",
     "output_type": "stream",
     "text": [
      "5.0 kPa\n"
     ]
    }
   ],
   "source": [
    "#complex unit expressions can be used\n",
    "#pg/(um*us^2) = 1000 Pa = kPa\n",
    "pressure = uc.set_in_units(5, 'pg / (um * us^2)')\n",
    "print uc.get_in_units(pressure, 'kPa'), 'kPa'"
   ]
  },
  {
   "cell_type": "markdown",
   "metadata": {},
   "source": [
    "## 1. Generate a System\n",
    "\n",
    "A System can be generated from scratch by combining an Atoms object and a Box object."
   ]
  },
  {
   "cell_type": "markdown",
   "metadata": {},
   "source": [
    "### 1.1 Create an Atoms object\n",
    "\n",
    "The Atoms class contains the per-atom properties for all of the atoms. By default, each Atoms instance has two per-atom properties: atype and pos.  atype is an integer atomic type, and pos is the 3D vector position.  Other properties can be freely assigned to all atoms at any time with any name. \n",
    "\n",
    "More information on the Atoms class can be found in the [atomman.Atoms Notebook](../reference/atomman.Atoms.ipynb). The underlying code can be found in [atomman/core/Atoms.py](../../atomman/core/Atoms.py)."
   ]
  },
  {
   "cell_type": "code",
   "execution_count": 2,
   "metadata": {
    "collapsed": false
   },
   "outputs": [
    {
     "name": "stdout",
     "output_type": "stream",
     "text": [
      "     id |   atype |  pos[0] |  pos[1] |  pos[2]\n",
      "      0 |       1 |   0.000 |   0.000 |   0.000\n",
      "      1 |       1 |   0.500 |   0.500 |   0.000\n",
      "      2 |       1 |   0.500 |   0.000 |   0.500\n",
      "      3 |       1 |   0.000 |   0.500 |   0.500\n"
     ]
    }
   ],
   "source": [
    "#Create an Atoms object consistent with a simple face-centered cell and all atoms of the same type\n",
    "atype = [1,1,1,1]\n",
    "pos = [[0.0, 0.0, 0.0], [0.5, 0.5, 0.0], [0.5, 0.0, 0.5], [0.0, 0.5, 0.5]]\n",
    "\n",
    "#Assign values to atype and pos properties during creation.\n",
    "atoms = am.Atoms(natoms=4, prop={'atype':atype, 'pos':pos})\n",
    "print atoms"
   ]
  },
  {
   "cell_type": "markdown",
   "metadata": {},
   "source": [
    "### 1.2 Create a Box object\n",
    "\n",
    "The Box class represents a generic parallelopid in space as four vectors: the vectors for the three independent box directions, and an origin position vector.  It can be created using lattice parameters, LAMMPS box terms, or by explicitly giving the underlying vectors. \n",
    "\n",
    "More information on the Box class can be found in the [atomman.Box Notebook](../reference/atomman.Box.ipynb). The underlying code can be found in [atomman/core/Box.py](../../atomman/core/Box.py)."
   ]
  },
  {
   "cell_type": "code",
   "execution_count": 3,
   "metadata": {
    "collapsed": false
   },
   "outputs": [
    {
     "name": "stdout",
     "output_type": "stream",
     "text": [
      "avect =  [ 4.050,  0.000,  0.000]\n",
      "bvect =  [ 0.000,  4.050,  0.000]\n",
      "cvect =  [ 0.000,  0.000,  4.050]\n",
      "origin = [ 0.000,  0.000,  0.000]\n"
     ]
    }
   ],
   "source": [
    "#Create a cubic box\n",
    "box = am.Box(a=4.05, b=4.05, c=4.05)\n",
    "print box"
   ]
  },
  {
   "cell_type": "markdown",
   "metadata": {},
   "source": [
    "### 1.3 Create a System by combining Atoms and Box\n",
    "\n",
    "A System is then constructed by combining the Atoms and Box.  The term pbc is a tuple of three Boolean values indicating which directions are periodic (True). The argument \"scale=True\" scales the Atoms' pos values according to the Box definition. \n",
    "\n",
    "More information on the System class can be found in the [atomman.System Notebook](../reference/atomman.System.ipynb). The underlying code can be found in [atomman/core/System.py](../../atomman/core/System.py)."
   ]
  },
  {
   "cell_type": "code",
   "execution_count": 4,
   "metadata": {
    "collapsed": false
   },
   "outputs": [
    {
     "name": "stdout",
     "output_type": "stream",
     "text": [
      "avect =  [ 4.050,  0.000,  0.000]\n",
      "bvect =  [ 0.000,  4.050,  0.000]\n",
      "cvect =  [ 0.000,  0.000,  4.050]\n",
      "origin = [ 0.000,  0.000,  0.000]\n",
      "natoms = 4\n",
      "natypes = 1\n",
      "     id |   atype |  pos[0] |  pos[1] |  pos[2]\n",
      "      0 |       1 |   0.000 |   0.000 |   0.000\n",
      "      1 |       1 |   2.025 |   2.025 |   0.000\n",
      "      2 |       1 |   2.025 |   0.000 |   2.025\n",
      "      3 |       1 |   0.000 |   2.025 |   2.025\n"
     ]
    }
   ],
   "source": [
    "system = am.System(atoms=atoms, box=box, pbc=(True, True, True), scale=True)\n",
    "print system"
   ]
  },
  {
   "cell_type": "markdown",
   "metadata": {},
   "source": [
    "### 1.4. Load a System from a file\n",
    "\n",
    "Systems can also be generated by loading from a file.  Atomman supports loading from \n",
    "\n",
    "- CIF files\n",
    "- POSCAR files\n",
    "- LAMMPS data and dump files\n",
    "- json/xml atomic-system data models\n",
    "- ase.Atoms objects\n",
    "- pymatgen.Structure objects \n",
    "\n",
    "More information on the different load functions and methods can be found in the [atomman.load Notebook](../reference/atomman.load.ipynb). The underlying code can be found in [atomman/core/load.py](../../atomman/core/load.py)."
   ]
  },
  {
   "cell_type": "code",
   "execution_count": 5,
   "metadata": {
    "collapsed": false
   },
   "outputs": [],
   "source": [
    "#Create a LAMMPS dump file for \n",
    "with open('fcc.dump', 'w') as f:\n",
    "    f.write(\"\"\"\n",
    "ITEM: TIMESTEP\n",
    "0\n",
    "ITEM: NUMBER OF ATOMS\n",
    "4\n",
    "ITEM: BOX BOUNDS pp pp pp\n",
    "0.000000 4.050000\n",
    "0.000000 4.050000\n",
    "0.000000 4.050000\n",
    "ITEM: ATOMS id type x y z\n",
    "1 1 0.0000000000000e+00 0.0000000000000e+00 0.0000000000000e+00\n",
    "2 1 2.0250000000000e+00 2.0250000000000e+00 0.0000000000000e+00\n",
    "3 1 2.0250000000000e+00 0.0000000000000e+00 2.0250000000000e+00\n",
    "4 1 0.0000000000000e+00 2.0250000000000e+00 2.0250000000000e+00\"\"\")"
   ]
  },
  {
   "cell_type": "code",
   "execution_count": 6,
   "metadata": {
    "collapsed": false
   },
   "outputs": [
    {
     "name": "stdout",
     "output_type": "stream",
     "text": [
      "avect =  [ 4.050,  0.000,  0.000]\n",
      "bvect =  [ 0.000,  4.050,  0.000]\n",
      "cvect =  [ 0.000,  0.000,  4.050]\n",
      "origin = [ 0.000,  0.000,  0.000]\n",
      "natoms = 4\n",
      "natypes = 1\n",
      "     id |   atype |  pos[0] |  pos[1] |  pos[2]\n",
      "      0 |       1 |   0.000 |   0.000 |   0.000\n",
      "      1 |       1 |   2.025 |   2.025 |   0.000\n",
      "      2 |       1 |   2.025 |   0.000 |   2.025\n",
      "      3 |       1 |   0.000 |   2.025 |   2.025\n"
     ]
    }
   ],
   "source": [
    "#Load from fcc.dump and show the system info\n",
    "new_system, symbols = am.load('atom_dump', 'fcc.dump')\n",
    "print new_system"
   ]
  },
  {
   "cell_type": "markdown",
   "metadata": {},
   "source": [
    "## 2. System Manipulations\n",
    "\n",
    "Atomman has a number of built-in System manipulation tools."
   ]
  },
  {
   "cell_type": "markdown",
   "metadata": {},
   "source": [
    "### 2.1 Rotating a System\n",
    "\n",
    "Functions exist for transforming a System's box vectors using a 3x3 array of right-handed orthogonal vectors. \n",
    "\n",
    "More information on the different rotate functions can be found in the [atomman.rotate Notebook](../rotate/atomman.rotate.ipynb) and [atomman.rotate_cubic Notebook](../rotate/atomman.rotate_cubic.ipynb). The underlying code can be found in [atomman/core/rotate.py](../../atomman/core/rotate.py).\n"
   ]
  },
  {
   "cell_type": "code",
   "execution_count": 8,
   "metadata": {
    "collapsed": false
   },
   "outputs": [
    {
     "name": "stdout",
     "output_type": "stream",
     "text": [
      "avect =  [ 2.864, -2.864,  0.000]\n",
      "bvect =  [ 2.864,  2.864,  0.000]\n",
      "cvect =  [ 0.000,  0.000,  4.050]\n",
      "origin = [ 0.000,  0.000,  0.000]\n",
      "natoms = 4\n",
      "natypes = 1\n",
      "     id |   atype |  pos[0] |  pos[1] |  pos[2]\n",
      "      0 |       1 |   0.000 |   0.000 |   0.000\n",
      "      1 |       1 |   2.864 |   0.000 |   0.000\n",
      "      2 |       1 |   1.432 |  -1.432 |   2.025\n",
      "      3 |       1 |   1.432 |   1.432 |   2.025\n"
     ]
    }
   ],
   "source": [
    "#Define axes for rotation (cubic crystallographic axes directions)\n",
    "axes = np.array([[ 1, 1, 0],\n",
    "                 [-1, 1, 0], \n",
    "                 [ 0, 0, 1]])\n",
    "\n",
    "#Rotate and scale box dimensions to ensure continuity across periodic bounds\n",
    "print am.tools.rotate_cubic(system, axes)"
   ]
  },
  {
   "cell_type": "markdown",
   "metadata": {},
   "source": [
    "### 2.2. Multiplying the size of a System\n",
    "\n",
    "A larger System (i.e. supercell) can be generated using the am.tools.supersize() function. More information on the supersize function can be found in the [atomman.supersize Notebook](../reference/atomman.supersize.ipynb). The underlying code can be found in [atomman/core/supersize.py](../../atomman/core/supersize.py)."
   ]
  },
  {
   "cell_type": "code",
   "execution_count": 10,
   "metadata": {
    "collapsed": false
   },
   "outputs": [
    {
     "name": "stdout",
     "output_type": "stream",
     "text": [
      "avect =  [ 4.050,  0.000,  0.000]\n",
      "bvect =  [ 0.000,  4.050,  0.000]\n",
      "cvect =  [ 0.000,  0.000,  4.050]\n",
      "origin = [ 0.000,  0.000,  0.000]\n",
      "natoms = 4\n",
      "natypes = 1\n",
      "     id |   atype |  pos[0] |  pos[1] |  pos[2]\n",
      "      0 |       1 |   0.000 |   0.000 |   0.000\n",
      "      1 |       1 |   2.025 |   2.025 |   0.000\n",
      "      2 |       1 |   2.025 |   0.000 |   2.025\n",
      "      3 |       1 |   0.000 |   2.025 |   2.025\n"
     ]
    }
   ],
   "source": [
    "#Create a 2x2x2 supercell of system\n",
    "print am.tools.supersize(system, 2, 2, 2)"
   ]
  },
  {
   "cell_type": "markdown",
   "metadata": {},
   "source": [
    "### 2.3 System family conversions\n",
    "\n",
    "Functions also exist for the conversion of trigonal systems to hexagonal systems, and hexagonal systems to orthorhombic systems. \n",
    "\n",
    "__Note__: This functionality is currently in development. Better tools are needed for identifying non-standard representations. "
   ]
  },
  {
   "cell_type": "markdown",
   "metadata": {},
   "source": [
    "### 2.4 Defect generation\n",
    "\n",
    "Further manipulations can be found in the atomman.defect submodule for adding more complicated modifications. More information can be found in the [atomman.defect basics Notebook](atomman.defect basics.ipynb)."
   ]
  },
  {
   "cell_type": "markdown",
   "metadata": {},
   "source": [
    "## 3. Basic Analysis Tools"
   ]
  },
  {
   "cell_type": "markdown",
   "metadata": {},
   "source": [
    "### 3.1 Calculating position distance vectors\n",
    "\n",
    "#### 3.1.1 System.dvect(pos_0, pos_1)\n",
    "\n",
    "The dvect method gives the shortest vector distance between two points within the System by taking periodic boundaries into consideration. There are a number of options for the pos terms:\n",
    "\n",
    "1. Single integer values will use the position of the atom in the system with that atom index.\n",
    "2. Lists of integers will use the positions of all of the atoms with those atom indecies.\n",
    "3. A 3D vector of floats will be used as the position.\n",
    "4. A list of 3D vector floats will be used as the positions.\n",
    "\n",
    "This function uses numpy vectorization meaning that it is considerably faster to supply lists for the terms as opposed to calling the function multiple times with single values.  The two pos terms don't have to be of the same type, but their lengths have to be compatible (either the same length, or one is singular).    "
   ]
  },
  {
   "cell_type": "code",
   "execution_count": 14,
   "metadata": {
    "collapsed": false
   },
   "outputs": [
    {
     "name": "stdout",
     "output_type": "stream",
     "text": [
      "[ 4.05  0.    0.  ]\n"
     ]
    }
   ],
   "source": [
    "#Print the vector between atoms with indecies 1 and 5\n",
    "print system.dvect(1,5)"
   ]
  },
  {
   "cell_type": "code",
   "execution_count": 15,
   "metadata": {
    "collapsed": false
   },
   "outputs": [
    {
     "name": "stdout",
     "output_type": "stream",
     "text": [
      "[[-0.1   -0.1   -0.1  ]\n",
      " [ 1.925  1.925 -0.1  ]\n",
      " [ 1.925 -0.1    1.925]\n",
      " [-0.1    1.925  1.925]\n",
      " [ 3.95  -0.1   -0.1  ]\n",
      " [ 5.975  1.925 -0.1  ]\n",
      " [ 5.975 -0.1    1.925]\n",
      " [ 3.95   1.925  1.925]\n",
      " [-0.1    3.95  -0.1  ]\n",
      " [ 1.925  5.975 -0.1  ]\n",
      " [ 1.925  3.95   1.925]\n",
      " [-0.1    5.975  1.925]\n",
      " [ 3.95   3.95  -0.1  ]\n",
      " [ 5.975  5.975 -0.1  ]\n",
      " [ 5.975  3.95   1.925]\n",
      " [ 3.95   5.975  1.925]\n",
      " [-0.1   -0.1    3.95 ]\n",
      " [ 1.925  1.925  3.95 ]\n",
      " [ 1.925 -0.1    5.975]\n",
      " [-0.1    1.925  5.975]\n",
      " [ 3.95  -0.1    3.95 ]\n",
      " [ 5.975  1.925  3.95 ]\n",
      " [ 5.975 -0.1    5.975]\n",
      " [ 3.95   1.925  5.975]\n",
      " [-0.1    3.95   3.95 ]\n",
      " [ 1.925  5.975  3.95 ]\n",
      " [ 1.925  3.95   5.975]\n",
      " [-0.1    5.975  5.975]\n",
      " [ 3.95   3.95   3.95 ]\n",
      " [ 5.975  5.975  3.95 ]\n",
      " [ 5.975  3.95   5.975]\n",
      " [ 3.95   5.975  5.975]\n",
      " [ 8.    -0.1   -0.1  ]\n",
      " [-6.175  1.925 -0.1  ]\n",
      " [-6.175 -0.1    1.925]\n",
      " [ 8.     1.925  1.925]\n",
      " [-4.15  -0.1   -0.1  ]\n",
      " [-2.125  1.925 -0.1  ]\n",
      " [-2.125 -0.1    1.925]\n",
      " [-4.15   1.925  1.925]\n",
      " [ 8.     3.95  -0.1  ]\n",
      " [-6.175  5.975 -0.1  ]\n",
      " [-6.175  3.95   1.925]\n",
      " [ 8.     5.975  1.925]\n",
      " [-4.15   3.95  -0.1  ]\n",
      " [-2.125  5.975 -0.1  ]\n",
      " [-2.125  3.95   1.925]\n",
      " [-4.15   5.975  1.925]\n",
      " [ 8.    -0.1    3.95 ]\n",
      " [-6.175  1.925  3.95 ]\n",
      " [-6.175 -0.1    5.975]\n",
      " [ 8.     1.925  5.975]\n",
      " [-4.15  -0.1    3.95 ]\n",
      " [-2.125  1.925  3.95 ]\n",
      " [-2.125 -0.1    5.975]\n",
      " [-4.15   1.925  5.975]\n",
      " [ 8.     3.95   3.95 ]\n",
      " [-6.175  5.975  3.95 ]\n",
      " [-6.175  3.95   5.975]\n",
      " [ 8.     5.975  5.975]\n",
      " [-4.15   3.95   3.95 ]\n",
      " [-2.125  5.975  3.95 ]\n",
      " [-2.125  3.95   5.975]\n",
      " [-4.15   5.975  5.975]\n",
      " [-0.1    8.    -0.1  ]\n",
      " [ 1.925 -6.175 -0.1  ]\n",
      " [ 1.925  8.     1.925]\n",
      " [-0.1   -6.175  1.925]\n",
      " [ 3.95   8.    -0.1  ]\n",
      " [ 5.975 -6.175 -0.1  ]\n",
      " [ 5.975  8.     1.925]\n",
      " [ 3.95  -6.175  1.925]\n",
      " [-0.1   -4.15  -0.1  ]\n",
      " [ 1.925 -2.125 -0.1  ]\n",
      " [ 1.925 -4.15   1.925]\n",
      " [-0.1   -2.125  1.925]\n",
      " [ 3.95  -4.15  -0.1  ]\n",
      " [ 5.975 -2.125 -0.1  ]\n",
      " [ 5.975 -4.15   1.925]\n",
      " [ 3.95  -2.125  1.925]\n",
      " [-0.1    8.     3.95 ]\n",
      " [ 1.925 -6.175  3.95 ]\n",
      " [ 1.925  8.     5.975]\n",
      " [-0.1   -6.175  5.975]\n",
      " [ 3.95   8.     3.95 ]\n",
      " [ 5.975 -6.175  3.95 ]\n",
      " [ 5.975  8.     5.975]\n",
      " [ 3.95  -6.175  5.975]\n",
      " [-0.1   -4.15   3.95 ]\n",
      " [ 1.925 -2.125  3.95 ]\n",
      " [ 1.925 -4.15   5.975]\n",
      " [-0.1   -2.125  5.975]\n",
      " [ 3.95  -4.15   3.95 ]\n",
      " [ 5.975 -2.125  3.95 ]\n",
      " [ 5.975 -4.15   5.975]\n",
      " [ 3.95  -2.125  5.975]\n",
      " [ 8.     8.    -0.1  ]\n",
      " [-6.175 -6.175 -0.1  ]\n",
      " [-6.175  8.     1.925]\n",
      " [ 8.    -6.175  1.925]\n",
      " [-4.15   8.    -0.1  ]\n",
      " [-2.125 -6.175 -0.1  ]\n",
      " [-2.125  8.     1.925]\n",
      " [-4.15  -6.175  1.925]\n",
      " [ 8.    -4.15  -0.1  ]\n",
      " [-6.175 -2.125 -0.1  ]\n",
      " [-6.175 -4.15   1.925]\n",
      " [ 8.    -2.125  1.925]\n",
      " [-4.15  -4.15  -0.1  ]\n",
      " [-2.125 -2.125 -0.1  ]\n",
      " [-2.125 -4.15   1.925]\n",
      " [-4.15  -2.125  1.925]\n",
      " [ 8.     8.     3.95 ]\n",
      " [-6.175 -6.175  3.95 ]\n",
      " [-6.175  8.     5.975]\n",
      " [ 8.    -6.175  5.975]\n",
      " [-4.15   8.     3.95 ]\n",
      " [-2.125 -6.175  3.95 ]\n",
      " [-2.125  8.     5.975]\n",
      " [-4.15  -6.175  5.975]\n",
      " [ 8.    -4.15   3.95 ]\n",
      " [-6.175 -2.125  3.95 ]\n",
      " [-6.175 -4.15   5.975]\n",
      " [ 8.    -2.125  5.975]\n",
      " [-4.15  -4.15   3.95 ]\n",
      " [-2.125 -2.125  3.95 ]\n",
      " [-2.125 -4.15   5.975]\n",
      " [-4.15  -2.125  5.975]\n",
      " [-0.1   -0.1    8.   ]\n",
      " [ 1.925  1.925  8.   ]\n",
      " [ 1.925 -0.1   -6.175]\n",
      " [-0.1    1.925 -6.175]\n",
      " [ 3.95  -0.1    8.   ]\n",
      " [ 5.975  1.925  8.   ]\n",
      " [ 5.975 -0.1   -6.175]\n",
      " [ 3.95   1.925 -6.175]\n",
      " [-0.1    3.95   8.   ]\n",
      " [ 1.925  5.975  8.   ]\n",
      " [ 1.925  3.95  -6.175]\n",
      " [-0.1    5.975 -6.175]\n",
      " [ 3.95   3.95   8.   ]\n",
      " [ 5.975  5.975  8.   ]\n",
      " [ 5.975  3.95  -6.175]\n",
      " [ 3.95   5.975 -6.175]\n",
      " [-0.1   -0.1   -4.15 ]\n",
      " [ 1.925  1.925 -4.15 ]\n",
      " [ 1.925 -0.1   -2.125]\n",
      " [-0.1    1.925 -2.125]\n",
      " [ 3.95  -0.1   -4.15 ]\n",
      " [ 5.975  1.925 -4.15 ]\n",
      " [ 5.975 -0.1   -2.125]\n",
      " [ 3.95   1.925 -2.125]\n",
      " [-0.1    3.95  -4.15 ]\n",
      " [ 1.925  5.975 -4.15 ]\n",
      " [ 1.925  3.95  -2.125]\n",
      " [-0.1    5.975 -2.125]\n",
      " [ 3.95   3.95  -4.15 ]\n",
      " [ 5.975  5.975 -4.15 ]\n",
      " [ 5.975  3.95  -2.125]\n",
      " [ 3.95   5.975 -2.125]\n",
      " [ 8.    -0.1    8.   ]\n",
      " [-6.175  1.925  8.   ]\n",
      " [-6.175 -0.1   -6.175]\n",
      " [ 8.     1.925 -6.175]\n",
      " [-4.15  -0.1    8.   ]\n",
      " [-2.125  1.925  8.   ]\n",
      " [-2.125 -0.1   -6.175]\n",
      " [-4.15   1.925 -6.175]\n",
      " [ 8.     3.95   8.   ]\n",
      " [-6.175  5.975  8.   ]\n",
      " [-6.175  3.95  -6.175]\n",
      " [ 8.     5.975 -6.175]\n",
      " [-4.15   3.95   8.   ]\n",
      " [-2.125  5.975  8.   ]\n",
      " [-2.125  3.95  -6.175]\n",
      " [-4.15   5.975 -6.175]\n",
      " [ 8.    -0.1   -4.15 ]\n",
      " [-6.175  1.925 -4.15 ]\n",
      " [-6.175 -0.1   -2.125]\n",
      " [ 8.     1.925 -2.125]\n",
      " [-4.15  -0.1   -4.15 ]\n",
      " [-2.125  1.925 -4.15 ]\n",
      " [-2.125 -0.1   -2.125]\n",
      " [-4.15   1.925 -2.125]\n",
      " [ 8.     3.95  -4.15 ]\n",
      " [-6.175  5.975 -4.15 ]\n",
      " [-6.175  3.95  -2.125]\n",
      " [ 8.     5.975 -2.125]\n",
      " [-4.15   3.95  -4.15 ]\n",
      " [-2.125  5.975 -4.15 ]\n",
      " [-2.125  3.95  -2.125]\n",
      " [-4.15   5.975 -2.125]\n",
      " [-0.1    8.     8.   ]\n",
      " [ 1.925 -6.175  8.   ]\n",
      " [ 1.925  8.    -6.175]\n",
      " [-0.1   -6.175 -6.175]\n",
      " [ 3.95   8.     8.   ]\n",
      " [ 5.975 -6.175  8.   ]\n",
      " [ 5.975  8.    -6.175]\n",
      " [ 3.95  -6.175 -6.175]\n",
      " [-0.1   -4.15   8.   ]\n",
      " [ 1.925 -2.125  8.   ]\n",
      " [ 1.925 -4.15  -6.175]\n",
      " [-0.1   -2.125 -6.175]\n",
      " [ 3.95  -4.15   8.   ]\n",
      " [ 5.975 -2.125  8.   ]\n",
      " [ 5.975 -4.15  -6.175]\n",
      " [ 3.95  -2.125 -6.175]\n",
      " [-0.1    8.    -4.15 ]\n",
      " [ 1.925 -6.175 -4.15 ]\n",
      " [ 1.925  8.    -2.125]\n",
      " [-0.1   -6.175 -2.125]\n",
      " [ 3.95   8.    -4.15 ]\n",
      " [ 5.975 -6.175 -4.15 ]\n",
      " [ 5.975  8.    -2.125]\n",
      " [ 3.95  -6.175 -2.125]\n",
      " [-0.1   -4.15  -4.15 ]\n",
      " [ 1.925 -2.125 -4.15 ]\n",
      " [ 1.925 -4.15  -2.125]\n",
      " [-0.1   -2.125 -2.125]\n",
      " [ 3.95  -4.15  -4.15 ]\n",
      " [ 5.975 -2.125 -4.15 ]\n",
      " [ 5.975 -4.15  -2.125]\n",
      " [ 3.95  -2.125 -2.125]\n",
      " [ 8.     8.     8.   ]\n",
      " [-6.175 -6.175  8.   ]\n",
      " [-6.175  8.    -6.175]\n",
      " [ 8.    -6.175 -6.175]\n",
      " [-4.15   8.     8.   ]\n",
      " [-2.125 -6.175  8.   ]\n",
      " [-2.125  8.    -6.175]\n",
      " [-4.15  -6.175 -6.175]\n",
      " [ 8.    -4.15   8.   ]\n",
      " [-6.175 -2.125  8.   ]\n",
      " [-6.175 -4.15  -6.175]\n",
      " [ 8.    -2.125 -6.175]\n",
      " [-4.15  -4.15   8.   ]\n",
      " [-2.125 -2.125  8.   ]\n",
      " [-2.125 -4.15  -6.175]\n",
      " [-4.15  -2.125 -6.175]\n",
      " [ 8.     8.    -4.15 ]\n",
      " [-6.175 -6.175 -4.15 ]\n",
      " [-6.175  8.    -2.125]\n",
      " [ 8.    -6.175 -2.125]\n",
      " [-4.15   8.    -4.15 ]\n",
      " [-2.125 -6.175 -4.15 ]\n",
      " [-2.125  8.    -2.125]\n",
      " [-4.15  -6.175 -2.125]\n",
      " [ 8.    -4.15  -4.15 ]\n",
      " [-6.175 -2.125 -4.15 ]\n",
      " [-6.175 -4.15  -2.125]\n",
      " [ 8.    -2.125 -2.125]\n",
      " [-4.15  -4.15  -4.15 ]\n",
      " [-2.125 -2.125 -4.15 ]\n",
      " [-2.125 -4.15  -2.125]\n",
      " [-4.15  -2.125 -2.125]]\n"
     ]
    }
   ],
   "source": [
    "#Print the vectors between all atoms and position [0.1, 0.1, 0.1]\n",
    "pos = np.array([0.1, 0.1, 0.1])\n",
    "a_ids = range(system.natoms)\n",
    "\n",
    "print system.dvect(pos, a_ids)"
   ]
  },
  {
   "cell_type": "markdown",
   "metadata": {},
   "source": [
    "#### 3.1.2 atomman.tools.dvect(pos_0, pos_1, box, pbc)\n",
    "\n",
    "This function is similar to the System.dvect() method, but it is independent of any System. As the System information is not built-in, box and pbc information must be given, and indexes cannot be used for pos_0 and pos_1. "
   ]
  },
  {
   "cell_type": "markdown",
   "metadata": {},
   "source": [
    "#### 3.1.3 atomman.tools.displacement(system_0, system_1)\n",
    "\n",
    "This returns the displacement of all atoms in system_1 relative to a base configuration in system_0.  Essentially, it sets up and calls atomman.tools.dvect() using system_1's boundary information."
   ]
  },
  {
   "cell_type": "markdown",
   "metadata": {},
   "source": [
    "### 3.2 Neighbor lists"
   ]
  },
  {
   "cell_type": "markdown",
   "metadata": {},
   "source": [
    "#### 3.2.1 atomman.tools.nlist(system, cutoff, cmult=1)\n",
    "\n",
    "The nlist method computes neighbor lists for all of the atoms in the system within the specified cutoff. The optional term cmult alters how atoms are binned during the calculation, with the default seeming to be the fastest.\n",
    "\n",
    "Returns a numpy array in which the coordination number and list of neighbor atoms is given for each atom."
   ]
  },
  {
   "cell_type": "code",
   "execution_count": 16,
   "metadata": {
    "collapsed": false
   },
   "outputs": [
    {
     "name": "stdout",
     "output_type": "stream",
     "text": [
      "Average coordination = 12.0\n",
      "[  1   2   3  37  38  73  75 109 146 147 182 219]\n",
      "[  0   2   3   4   7   8  10  12 146 147 151 154]\n",
      "[ 0  1  3  4  7 16 17 20 73 75 79 89]\n",
      "[ 0  1  2  8 10 16 17 24 37 38 46 53]\n",
      "[  1   2   5   6   7  73  77  79 146 150 151 223]\n",
      "[  4   6   7  12  14  32  35  40 150 151 158 179]\n",
      "[  4   5   7  20  21  32  35  48  77  79  93 107]\n",
      "[ 1  2  4  5  6 10 12 14 17 20 21 28]\n",
      "[  1   3   9  10  11  37  45  46 147 154 155 190]\n",
      "[  8  10  11  12  15  64  66  68 154 155 159 210]\n",
      "[ 1  3  7  8  9 11 12 15 17 24 25 28]\n",
      "[  8   9  10  24  25  45  46  61  64  66  80 102]\n",
      "[  1   5   7   9  10  13  14  15 151 154 158 159]\n",
      "[ 12  14  15  40  43  68  70  96 158 159 187 214]\n",
      "[ 5  7 12 13 15 21 28 29 35 40 43 56]\n",
      "[ 9 10 12 13 14 25 28 29 66 68 70 84]\n",
      "[  2   3  17  18  19  38  53  54  75  89  91 125]\n",
      "[ 2  3  7 10 16 18 19 20 23 24 26 28]\n",
      "[ 16  17  19  20  23  89  91  95 128 129 132 201]\n",
      "[ 16  17  18  24  26  53  54  62 128 129 136 165]\n",
      "[ 2  6  7 17 18 21 22 23 79 89 93 95]\n",
      "[ 6  7 14 20 22 23 28 30 35 48 51 56]\n",
      "[ 20  21  23  48  51  93  95 123 132 133 160 205]\n",
      "[ 17  18  20  21  22  26  28  30 129 132 133 140]\n",
      "[ 3 10 11 17 19 25 26 27 46 53 61 62]\n",
      "[10 11 15 24 26 27 28 31 66 80 82 84]\n",
      "[ 17  19  23  24  25  27  28  31 129 136 137 140]\n",
      "[ 24  25  26  61  62  80  82 118 136 137 173 192]\n",
      "[ 7 10 14 15 17 21 23 25 26 29 30 31]\n",
      "[ 14  15  28  30  31  43  56  59  70  84  86 112]\n",
      "[ 21  23  28  29  31  51  56  59 133 140 141 168]\n",
      "[ 25  26  28  29  30  82  84  86 137 140 141 196]\n",
      "[  5   6  33  34  35  77 105 107 150 178 179 251]\n",
      "[ 32  34  35  36  39  40  42  44 178 179 183 186]\n",
      "[ 32  33  35  36  39  48  49  52 105 107 111 121]\n",
      "[ 5  6 14 21 32 33 34 40 42 48 49 56]\n",
      "[ 33  34  37  38  39 105 109 111 178 182 183 255]\n",
      "[  0   3   8  36  38  39  44  46 147 182 183 190]\n",
      "[  0   3  16  36  37  39  52  53  75 109 111 125]\n",
      "[33 34 36 37 38 42 44 46 49 52 53 60]\n",
      "[  5  13  14  33  35  41  42  43 158 179 186 187]\n",
      "[ 40  42  43  44  47  96  98 100 186 187 191 242]\n",
      "[33 35 39 40 41 43 44 47 49 56 57 60]\n",
      "[ 13  14  29  40  41  42  56  57  70  96  98 112]\n",
      "[ 33  37  39  41  42  45  46  47 183 186 190 191]\n",
      "[  8  11  44  46  47  64 100 102 155 190 191 246]\n",
      "[ 3  8 11 24 37 39 44 45 47 53 60 61]\n",
      "[ 41  42  44  45  46  57  60  61  98 100 102 116]\n",
      "[  6  21  22  34  35  49  50  51  93 107 121 123]\n",
      "[34 35 39 42 48 50 51 52 55 56 58 60]\n",
      "[ 48  49  51  52  55 121 123 127 160 161 164 233]\n",
      "[ 21  22  30  48  49  50  56  58 133 160 161 168]\n",
      "[ 34  38  39  49  50  53  54  55 111 121 125 127]\n",
      "[ 3 16 19 24 38 39 46 52 54 55 60 62]\n",
      "[ 16  19  52  53  55  91 125 127 128 164 165 237]\n",
      "[ 49  50  52  53  54  58  60  62 161 164 165 172]\n",
      "[14 21 29 30 35 42 43 49 51 57 58 59]\n",
      "[ 42  43  47  56  58  59  60  63  98 112 114 116]\n",
      "[ 49  51  55  56  57  59  60  63 161 168 169 172]\n",
      "[ 29  30  56  57  58  86 112 114 141 168 169 224]\n",
      "[39 42 46 47 49 53 55 57 58 61 62 63]\n",
      "[ 11  24  27  46  47  60  62  63  80 102 116 118]\n",
      "[ 19  24  27  53  55  60  61  63 136 165 172 173]\n",
      "[ 57  58  60  61  62 114 116 118 169 172 173 228]\n",
      "[  9  11  45  65  66  67 101 102 155 210 211 246]\n",
      "[ 64  66  67  68  71  72  74  76 210 211 215 218]\n",
      "[ 9 11 15 25 64 65 67 68 71 80 81 84]\n",
      "[ 64  65  66  72  74  80  81  88 101 102 110 117]\n",
      "[  9  13  15  65  66  69  70  71 159 210 214 215]\n",
      "[ 68  70  71  76  78  96  99 104 214 215 222 243]\n",
      "[ 13  15  29  43  68  69  71  84  85  96  99 112]\n",
      "[65 66 68 69 70 74 76 78 81 84 85 92]\n",
      "[ 65  67  73  74  75 101 109 110 211 218 219 254]\n",
      "[  0   2   4  72  74  75  76  79 146 218 219 223]\n",
      "[65 67 71 72 73 75 76 79 81 88 89 92]\n",
      "[  0   2  16  38  72  73  74  88  89 109 110 125]\n",
      "[ 65  69  71  73  74  77  78  79 215 218 222 223]\n",
      "[  4   6  32  76  78  79 104 107 150 222 223 251]\n",
      "[ 69  71  76  77  79  85  92  93  99 104 107 120]\n",
      "[ 2  4  6 20 73 74 76 77 78 89 92 93]\n",
      "[ 11  25  27  61  66  67  81  82  83 102 117 118]\n",
      "[66 67 71 74 80 82 83 84 87 88 90 92]\n",
      "[ 25  27  31  80  81  83  84  87 137 192 193 196]\n",
      "[ 80  81  82  88  90 117 118 126 192 193 200 229]\n",
      "[15 25 29 31 66 70 71 81 82 85 86 87]\n",
      "[ 70  71  78  84  86  87  92  94  99 112 115 120]\n",
      "[ 29  31  59  84  85  87 112 115 141 196 197 224]\n",
      "[ 81  82  84  85  86  90  92  94 193 196 197 204]\n",
      "[ 67  74  75  81  83  89  90  91 110 117 125 126]\n",
      "[ 2 16 18 20 74 75 79 88 90 91 92 95]\n",
      "[ 81  83  87  88  89  91  92  95 193 200 201 204]\n",
      "[ 16  18  54  88  89  90 125 126 128 200 201 237]\n",
      "[71 74 78 79 81 85 87 89 90 93 94 95]\n",
      "[  6  20  22  48  78  79  92  94  95 107 120 123]\n",
      "[ 85  87  92  93  95 115 120 123 197 204 205 232]\n",
      "[ 18  20  22  89  90  92  93  94 132 201 204 205]\n",
      "[ 13  41  43  69  70  97  98  99 187 214 242 243]\n",
      "[ 96  98  99 100 103 104 106 108 242 243 247 250]\n",
      "[ 41  43  47  57  96  97  99 100 103 112 113 116]\n",
      "[ 69  70  78  85  96  97  98 104 106 112 113 120]\n",
      "[ 41  45  47  97  98 101 102 103 191 242 246 247]\n",
      "[ 64  67  72 100 102 103 108 110 211 246 247 254]\n",
      "[ 11  45  47  61  64  67  80 100 101 103 116 117]\n",
      "[ 97  98 100 101 102 106 108 110 113 116 117 124]\n",
      "[ 69  77  78  97  99 105 106 107 222 243 250 251]\n",
      "[ 32  34  36 104 106 107 108 111 178 250 251 255]\n",
      "[ 97  99 103 104 105 107 108 111 113 120 121 124]\n",
      "[  6  32  34  48  77  78  93 104 105 106 120 121]\n",
      "[ 97 101 103 105 106 109 110 111 247 250 254 255]\n",
      "[  0  36  38  72  75 108 110 111 182 219 254 255]\n",
      "[ 67  72  75  88 101 103 108 109 111 117 124 125]\n",
      "[ 34  36  38  52 105 106 108 109 110 121 124 125]\n",
      "[ 29  43  57  59  70  85  86  98  99 113 114 115]\n",
      "[ 98  99 103 106 112 114 115 116 119 120 122 124]\n",
      "[ 57  59  63 112 113 115 116 119 169 224 225 228]\n",
      "[ 85  86  94 112 113 114 120 122 197 224 225 232]\n",
      "[ 47  57  61  63  98 102 103 113 114 117 118 119]\n",
      "[ 67  80  83  88 102 103 110 116 118 119 124 126]\n",
      "[ 27  61  63  80  83 116 117 119 173 192 228 229]\n",
      "[113 114 116 117 118 122 124 126 225 228 229 236]\n",
      "[ 78  85  93  94  99 106 107 113 115 121 122 123]\n",
      "[ 34  48  50  52 106 107 111 120 122 123 124 127]\n",
      "[113 115 119 120 121 123 124 127 225 232 233 236]\n",
      "[ 22  48  50  93  94 120 121 122 160 205 232 233]\n",
      "[103 106 110 111 113 117 119 121 122 125 126 127]\n",
      "[ 16  38  52  54  75  88  91 110 111 124 126 127]\n",
      "[ 83  88  91 117 119 124 125 127 200 229 236 237]\n",
      "[ 50  52  54 121 122 124 125 126 164 233 236 237]\n",
      "[ 18  19  54  91 129 130 131 165 166 201 203 237]\n",
      "[ 18  19  23  26 128 130 131 132 135 136 138 140]\n",
      "[128 129 131 132 135 144 145 148 201 203 207 217]\n",
      "[128 129 130 136 138 144 145 152 165 166 174 181]\n",
      "[ 18  22  23  95 129 130 133 134 135 201 205 207]\n",
      "[ 22  23  30  51 132 134 135 140 142 160 163 168]\n",
      "[132 133 135 148 149 160 163 176 205 207 221 235]\n",
      "[129 130 132 133 134 138 140 142 145 148 149 156]\n",
      "[ 19  26  27  62 129 131 137 138 139 165 173 174]\n",
      "[ 26  27  31  82 136 138 139 140 143 192 194 196]\n",
      "[129 131 135 136 137 139 140 143 145 152 153 156]\n",
      "[136 137 138 152 153 173 174 189 192 194 208 230]\n",
      "[ 23  26  30  31 129 133 135 137 138 141 142 143]\n",
      "[ 30  31  59  86 140 142 143 168 171 196 198 224]\n",
      "[133 135 140 141 143 149 156 157 163 168 171 184]\n",
      "[137 138 140 141 142 153 156 157 194 196 198 212]\n",
      "[130 131 145 146 147 166 181 182 203 217 219 253]\n",
      "[130 131 135 138 144 146 147 148 151 152 154 156]\n",
      "[  0   1   4  73 144 145 147 148 151 217 219 223]\n",
      "[  0   1   8  37 144 145 146 152 154 181 182 190]\n",
      "[130 134 135 145 146 149 150 151 207 217 221 223]\n",
      "[134 135 142 148 150 151 156 158 163 176 179 184]\n",
      "[  4   5  32  77 148 149 151 176 179 221 223 251]\n",
      "[  1   4   5  12 145 146 148 149 150 154 156 158]\n",
      "[131 138 139 145 147 153 154 155 174 181 189 190]\n",
      "[138 139 143 152 154 155 156 159 194 208 210 212]\n",
      "[  1   8   9  12 145 147 151 152 153 155 156 159]\n",
      "[  8   9  45  64 152 153 154 189 190 208 210 246]\n",
      "[135 138 142 143 145 149 151 153 154 157 158 159]\n",
      "[142 143 156 158 159 171 184 187 198 212 214 240]\n",
      "[  5  12  13  40 149 151 156 157 159 179 184 187]\n",
      "[  9  12  13  68 153 154 156 157 158 210 212 214]\n",
      "[ 22  50  51 123 133 134 161 162 163 205 233 235]\n",
      "[ 50  51  55  58 160 162 163 164 167 168 170 172]\n",
      "[160 161 163 164 167 176 177 180 233 235 239 249]\n",
      "[133 134 142 149 160 161 162 168 170 176 177 184]\n",
      "[ 50  54  55 127 161 162 165 166 167 233 237 239]\n",
      "[ 19  54  55  62 128 131 136 164 166 167 172 174]\n",
      "[128 131 144 164 165 167 180 181 203 237 239 253]\n",
      "[161 162 164 165 166 170 172 174 177 180 181 188]\n",
      "[ 30  51  58  59 133 141 142 161 163 169 170 171]\n",
      "[ 58  59  63 114 168 170 171 172 175 224 226 228]\n",
      "[161 163 167 168 169 171 172 175 177 184 185 188]\n",
      "[141 142 157 168 169 170 184 185 198 224 226 240]\n",
      "[ 55  58  62  63 161 165 167 169 170 173 174 175]\n",
      "[ 27  62  63 118 136 139 172 174 175 192 228 230]\n",
      "[131 136 139 152 165 167 172 173 175 181 188 189]\n",
      "[169 170 172 173 174 185 188 189 226 228 230 244]\n",
      "[134 149 150 162 163 177 178 179 221 235 249 251]\n",
      "[162 163 167 170 176 178 179 180 183 184 186 188]\n",
      "[ 32  33  36 105 176 177 179 180 183 249 251 255]\n",
      "[  5  32  33  40 149 150 158 176 177 178 184 186]\n",
      "[162 166 167 177 178 181 182 183 239 249 253 255]\n",
      "[131 144 147 152 166 167 174 180 182 183 188 190]\n",
      "[  0  36  37 109 144 147 180 181 183 219 253 255]\n",
      "[ 33  36  37  44 177 178 180 181 182 186 188 190]\n",
      "[142 149 157 158 163 170 171 177 179 185 186 187]\n",
      "[170 171 175 184 186 187 188 191 226 240 242 244]\n",
      "[ 33  40  41  44 177 179 183 184 185 187 188 191]\n",
      "[ 13  40  41  96 157 158 184 185 186 214 240 242]\n",
      "[167 170 174 175 177 181 183 185 186 189 190 191]\n",
      "[139 152 155 174 175 188 190 191 208 230 244 246]\n",
      "[  8  37  44  45 147 152 155 181 183 188 189 191]\n",
      "[ 41  44  45 100 185 186 188 189 190 242 244 246]\n",
      "[ 27  82  83 118 137 139 173 193 194 195 229 230]\n",
      "[ 82  83  87  90 192 194 195 196 199 200 202 204]\n",
      "[137 139 143 153 192 193 195 196 199 208 209 212]\n",
      "[192 193 194 200 202 208 209 216 229 230 238 245]\n",
      "[ 31  82  86  87 137 141 143 193 194 197 198 199]\n",
      "[ 86  87  94 115 196 198 199 204 206 224 227 232]\n",
      "[141 143 157 171 196 197 199 212 213 224 227 240]\n",
      "[193 194 196 197 198 202 204 206 209 212 213 220]\n",
      "[ 83  90  91 126 193 195 201 202 203 229 237 238]\n",
      "[ 18  90  91  95 128 130 132 200 202 203 204 207]\n",
      "[193 195 199 200 201 203 204 207 209 216 217 220]\n",
      "[128 130 144 166 200 201 202 216 217 237 238 253]\n",
      "[ 87  90  94  95 193 197 199 201 202 205 206 207]\n",
      "[ 22  94  95 123 132 134 160 204 206 207 232 235]\n",
      "[197 199 204 205 207 213 220 221 227 232 235 248]\n",
      "[130 132 134 148 201 202 204 205 206 217 220 221]\n",
      "[139 153 155 189 194 195 209 210 211 230 245 246]\n",
      "[194 195 199 202 208 210 211 212 215 216 218 220]\n",
      "[  9  64  65  68 153 155 159 208 209 211 212 215]\n",
      "[ 64  65  72 101 208 209 210 216 218 245 246 254]\n",
      "[143 153 157 159 194 198 199 209 210 213 214 215]\n",
      "[198 199 206 212 214 215 220 222 227 240 243 248]\n",
      "[ 13  68  69  96 157 159 187 212 213 215 240 243]\n",
      "[ 65  68  69  76 209 210 212 213 214 218 220 222]\n",
      "[195 202 203 209 211 217 218 219 238 245 253 254]\n",
      "[130 144 146 148 202 203 207 216 218 219 220 223]\n",
      "[ 65  72  73  76 209 211 215 216 217 219 220 223]\n",
      "[  0  72  73 109 144 146 182 216 217 218 253 254]\n",
      "[199 202 206 207 209 213 215 217 218 221 222 223]\n",
      "[134 148 150 176 206 207 220 222 223 235 248 251]\n",
      "[ 69  76  77 104 213 215 220 221 223 243 248 251]\n",
      "[  4  73  76  77 146 148 150 217 218 220 221 222]\n",
      "[ 59  86 114 115 141 169 171 197 198 225 226 227]\n",
      "[114 115 119 122 224 226 227 228 231 232 234 236]\n",
      "[169 171 175 185 224 225 227 228 231 240 241 244]\n",
      "[197 198 206 213 224 225 226 232 234 240 241 248]\n",
      "[ 63 114 118 119 169 173 175 225 226 229 230 231]\n",
      "[ 83 118 119 126 192 195 200 228 230 231 236 238]\n",
      "[139 173 175 189 192 195 208 228 229 231 244 245]\n",
      "[225 226 228 229 230 234 236 238 241 244 245 252]\n",
      "[ 94 115 122 123 197 205 206 225 227 233 234 235]\n",
      "[ 50 122 123 127 160 162 164 232 234 235 236 239]\n",
      "[225 227 231 232 233 235 236 239 241 248 249 252]\n",
      "[134 160 162 176 205 206 221 232 233 234 248 249]\n",
      "[119 122 126 127 225 229 231 233 234 237 238 239]\n",
      "[ 54  91 126 127 128 164 166 200 203 236 238 239]\n",
      "[195 200 203 216 229 231 236 237 239 245 252 253]\n",
      "[162 164 166 180 233 234 236 237 238 249 252 253]\n",
      "[157 171 185 187 198 213 214 226 227 241 242 243]\n",
      "[226 227 231 234 240 242 243 244 247 248 250 252]\n",
      "[ 41  96  97 100 185 187 191 240 241 243 244 247]\n",
      "[ 69  96  97 104 213 214 222 240 241 242 248 250]\n",
      "[175 185 189 191 226 230 231 241 242 245 246 247]\n",
      "[195 208 211 216 230 231 238 244 246 247 252 254]\n",
      "[ 45  64 100 101 155 189 191 208 211 244 245 247]\n",
      "[ 97 100 101 108 241 242 244 245 246 250 252 254]\n",
      "[206 213 221 222 227 234 235 241 243 249 250 251]\n",
      "[162 176 178 180 234 235 239 248 250 251 252 255]\n",
      "[ 97 104 105 108 241 243 247 248 249 251 252 255]\n",
      "[ 32  77 104 105 150 176 178 221 222 248 249 250]\n",
      "[231 234 238 239 241 245 247 249 250 253 254 255]\n",
      "[144 166 180 182 203 216 219 238 239 252 254 255]\n",
      "[ 72 101 108 109 211 216 219 245 247 252 253 255]\n",
      "[ 36 105 108 109 178 180 182 249 250 252 253 254]\n"
     ]
    }
   ],
   "source": [
    "nlist = am.tools.nlist(system, cutoff=3)\n",
    "\n",
    "print 'Average coordination =',\n",
    "print np.mean(nlist[:,0])\n",
    "\n",
    "for ninfo in nlist:\n",
    "    print ninfo[1:1+ninfo[0]]\n"
   ]
  },
  {
   "cell_type": "markdown",
   "metadata": {},
   "source": [
    "#### 3.2.2 System.nlist(cutoff, cmult=1)\n",
    "\n",
    "This is identical to calling atomman.tools.nlist(), except that the computed neighbor list is saved as a System property instead of returned."
   ]
  },
  {
   "cell_type": "code",
   "execution_count": 17,
   "metadata": {
    "collapsed": false
   },
   "outputs": [
    {
     "name": "stdout",
     "output_type": "stream",
     "text": [
      "True\n"
     ]
    }
   ],
   "source": [
    "system.nlist(3)\n",
    "print np.all(system.prop['nlist'] == nlist)"
   ]
  },
  {
   "cell_type": "markdown",
   "metadata": {
    "collapsed": true
   },
   "source": [
    "#### 4. File cleanup"
   ]
  },
  {
   "cell_type": "code",
   "execution_count": 18,
   "metadata": {
    "collapsed": true
   },
   "outputs": [],
   "source": [
    "import os\n",
    "os.remove('fcc.dump')\n",
    "os.remove('fcc.dump.json')"
   ]
  },
  {
   "cell_type": "code",
   "execution_count": null,
   "metadata": {
    "collapsed": true
   },
   "outputs": [],
   "source": []
  }
 ],
 "metadata": {
  "kernelspec": {
   "display_name": "Python 2",
   "language": "python",
   "name": "python2"
  },
  "language_info": {
   "codemirror_mode": {
    "name": "ipython",
    "version": 2
   },
   "file_extension": ".py",
   "mimetype": "text/x-python",
   "name": "python",
   "nbconvert_exporter": "python",
   "pygments_lexer": "ipython2",
   "version": "2.7.11"
  }
 },
 "nbformat": 4,
 "nbformat_minor": 0
}
