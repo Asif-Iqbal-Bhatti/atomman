{
 "cells": [
  {
   "cell_type": "markdown",
   "metadata": {},
   "source": [
    "# atomman.convert.cif.load(cif)\n",
    "\n",
    "- - -"
   ]
  },
  {
   "cell_type": "markdown",
   "metadata": {},
   "source": [
    "**Lucas M. Hale**, [lucas.hale@nist.gov](mailto:lucas.hale@nist.gov?Subject=ipr-demo), *Materials Science and Engineering Division, NIST*.\n",
    "\n",
    "**Chandler A. Becker**, [chandler.becker@nist.gov](mailto:chandler.becker@nist.gov?Subject=ipr-demo), *Office of Data and Informatics, NIST*.\n",
    "\n",
    "**Zachary T. Trautt**, [zachary.trautt@nist.gov](mailto:zachary.trautt@nist.gov?Subject=ipr-demo), *Materials Measurement Science Division, NIST*.\n",
    "\n",
    "Version: 2016-09-02\n",
    "\n",
    "[Disclaimers](http://www.nist.gov/public_affairs/disclaimer.cfm) \n",
    " \n",
    "- - -"
   ]
  },
  {
   "cell_type": "markdown",
   "metadata": {},
   "source": [
    "## Introduction\n",
    "\n",
    "The cif.load function converts a cif file into an equivalent [atomman.System](atomman.System.ipynb) and list of elements. Equivalently, the [atomman.load function](atomman.load) can be called with style='cif'.\n",
    "\n",
    "This style only works if the [diffpy.Structure package](https://github.com/diffpy/diffpy.Structure) is installed with your Python. \n",
    "\n",
    "Argument:\n",
    "\n",
    "- __cif__ -- can be either a file name for a cif file, or a file-like object or string representation of a cif file.\n",
    "\n",
    "The underlying code can be found in [atomman/convert/cif.py](../../atomman/convert/cif.py)."
   ]
  },
  {
   "cell_type": "markdown",
   "metadata": {},
   "source": [
    "## Demonstration"
   ]
  },
  {
   "cell_type": "code",
   "execution_count": 1,
   "metadata": {
    "collapsed": false
   },
   "outputs": [],
   "source": [
    "import atomman as am"
   ]
  },
  {
   "cell_type": "markdown",
   "metadata": {},
   "source": [
    "Create a demonstration cif file string obtained from the [Crystallography Open Database](http://www.crystallography.net/)"
   ]
  },
  {
   "cell_type": "code",
   "execution_count": 2,
   "metadata": {
    "collapsed": false
   },
   "outputs": [],
   "source": [
    "cif = \"\"\"#------------------------------------------------------------------------------\n",
    "#$Date: 2016-02-13 21:28:24 +0200 (Sat, 13 Feb 2016) $\n",
    "#$Revision: 176429 $\n",
    "#$URL: svn://www.crystallography.net/cod/cif/1/54/12/1541266.cif $\n",
    "#------------------------------------------------------------------------------\n",
    "#\n",
    "# This file is available in the Crystallography Open Database (COD),\n",
    "# http://www.crystallography.net/\n",
    "#\n",
    "# All data on this site have been placed in the public domain by the\n",
    "# contributors.\n",
    "#\n",
    "data_1541266\n",
    "loop_\n",
    "_publ_author_name\n",
    "'Mueller, M. H.'\n",
    "_publ_section_title\n",
    ";\n",
    " The lattice parameter of tantalum\n",
    ";\n",
    "_journal_issue                   8\n",
    "_journal_name_full               'Scripta Metallurgica'\n",
    "_journal_page_first              693\n",
    "_journal_page_last               693\n",
    "_journal_paper_doi               10.1016/0036-9748(77)90141-7\n",
    "_journal_volume                  11\n",
    "_journal_year                    1977\n",
    "_chemical_formula_sum            Ta\n",
    "_chemical_name_systematic        Ta\n",
    "_space_group_IT_number           229\n",
    "_symmetry_space_group_name_Hall  '-I 4 2 3'\n",
    "_symmetry_space_group_name_H-M   'I m -3 m'\n",
    "_cell_angle_alpha                90\n",
    "_cell_angle_beta                 90\n",
    "_cell_angle_gamma                90\n",
    "_cell_formula_units_Z            2\n",
    "_cell_length_a                   3.30256\n",
    "_cell_length_b                   3.30256\n",
    "_cell_length_c                   3.30256\n",
    "_cell_volume                     36.021\n",
    "_citation_journal_id_ASTM        SCRMBU\n",
    "_cod_data_source_file            Mueller_SCRMBU_1977_100.cif\n",
    "_cod_data_source_block           Ta1\n",
    "_cod_original_cell_volume        36.0207\n",
    "_cod_original_formula_sum        Ta1\n",
    "_cod_database_code               1541266\n",
    "loop_\n",
    "_symmetry_equiv_pos_as_xyz\n",
    "x,y,z\n",
    "-y,x,z\n",
    "-x,-y,z\n",
    "y,-x,z\n",
    "x,-y,-z\n",
    "y,x,-z\n",
    "-x,y,-z\n",
    "-y,-x,-z\n",
    "z,x,y\n",
    "-x,z,y\n",
    "-z,-x,y\n",
    "x,-z,y\n",
    "z,-x,-y\n",
    "x,z,-y\n",
    "-z,x,-y\n",
    "-x,-z,-y\n",
    "y,z,x\n",
    "y,-z,-x\n",
    "z,y,-x\n",
    "-y,z,-x\n",
    "-z,-y,-x\n",
    "-y,-z,x\n",
    "z,-y,x\n",
    "-z,y,x\n",
    "-x,-y,-z\n",
    "y,-x,-z\n",
    "x,y,-z\n",
    "-y,x,-z\n",
    "-x,y,z\n",
    "-y,-x,z\n",
    "x,-y,z\n",
    "y,x,z\n",
    "-z,-x,-y\n",
    "x,-z,-y\n",
    "z,x,-y\n",
    "-x,z,-y\n",
    "-z,x,y\n",
    "-x,-z,y\n",
    "z,-x,y\n",
    "x,z,y\n",
    "-y,-z,-x\n",
    "-y,z,x\n",
    "-z,-y,x\n",
    "y,-z,x\n",
    "z,y,x\n",
    "y,z,-x\n",
    "-z,y,-x\n",
    "z,-y,-x\n",
    "x+1/2,y+1/2,z+1/2\n",
    "-y+1/2,x+1/2,z+1/2\n",
    "-x+1/2,-y+1/2,z+1/2\n",
    "y+1/2,-x+1/2,z+1/2\n",
    "x+1/2,-y+1/2,-z+1/2\n",
    "y+1/2,x+1/2,-z+1/2\n",
    "-x+1/2,y+1/2,-z+1/2\n",
    "-y+1/2,-x+1/2,-z+1/2\n",
    "z+1/2,x+1/2,y+1/2\n",
    "-x+1/2,z+1/2,y+1/2\n",
    "-z+1/2,-x+1/2,y+1/2\n",
    "x+1/2,-z+1/2,y+1/2\n",
    "z+1/2,-x+1/2,-y+1/2\n",
    "x+1/2,z+1/2,-y+1/2\n",
    "-z+1/2,x+1/2,-y+1/2\n",
    "-x+1/2,-z+1/2,-y+1/2\n",
    "y+1/2,z+1/2,x+1/2\n",
    "y+1/2,-z+1/2,-x+1/2\n",
    "z+1/2,y+1/2,-x+1/2\n",
    "-y+1/2,z+1/2,-x+1/2\n",
    "-z+1/2,-y+1/2,-x+1/2\n",
    "-y+1/2,-z+1/2,x+1/2\n",
    "z+1/2,-y+1/2,x+1/2\n",
    "-z+1/2,y+1/2,x+1/2\n",
    "-x+1/2,-y+1/2,-z+1/2\n",
    "y+1/2,-x+1/2,-z+1/2\n",
    "x+1/2,y+1/2,-z+1/2\n",
    "-y+1/2,x+1/2,-z+1/2\n",
    "-x+1/2,y+1/2,z+1/2\n",
    "-y+1/2,-x+1/2,z+1/2\n",
    "x+1/2,-y+1/2,z+1/2\n",
    "y+1/2,x+1/2,z+1/2\n",
    "-z+1/2,-x+1/2,-y+1/2\n",
    "x+1/2,-z+1/2,-y+1/2\n",
    "z+1/2,x+1/2,-y+1/2\n",
    "-x+1/2,z+1/2,-y+1/2\n",
    "-z+1/2,x+1/2,y+1/2\n",
    "-x+1/2,-z+1/2,y+1/2\n",
    "z+1/2,-x+1/2,y+1/2\n",
    "x+1/2,z+1/2,y+1/2\n",
    "-y+1/2,-z+1/2,-x+1/2\n",
    "-y+1/2,z+1/2,x+1/2\n",
    "-z+1/2,-y+1/2,x+1/2\n",
    "y+1/2,-z+1/2,x+1/2\n",
    "z+1/2,y+1/2,x+1/2\n",
    "y+1/2,z+1/2,-x+1/2\n",
    "-z+1/2,y+1/2,-x+1/2\n",
    "z+1/2,-y+1/2,-x+1/2\n",
    "loop_\n",
    "_atom_site_label\n",
    "_atom_site_type_symbol\n",
    "_atom_site_fract_x\n",
    "_atom_site_fract_y\n",
    "_atom_site_fract_z\n",
    "_atom_site_occupancy\n",
    "_atom_site_U_iso_or_equiv\n",
    "Ta1 Ta 0 0 0 1 0.0\n",
    "\"\"\""
   ]
  },
  {
   "cell_type": "markdown",
   "metadata": {},
   "source": [
    "Load the cif file string"
   ]
  },
  {
   "cell_type": "code",
   "execution_count": 3,
   "metadata": {
    "collapsed": false
   },
   "outputs": [
    {
     "name": "stdout",
     "output_type": "stream",
     "text": [
      "['Ta']\n",
      "avect =  [ 3.303,  0.000,  0.000]\n",
      "bvect =  [ 0.000,  3.303,  0.000]\n",
      "cvect =  [ 0.000,  0.000,  3.303]\n",
      "origin = [ 0.000,  0.000,  0.000]\n",
      "natoms = 2\n",
      "natypes = 1\n",
      "     id |   atype |  pos[0] |  pos[1] |  pos[2]\n",
      "      0 |       1 |   0.000 |   0.000 |   0.000\n",
      "      1 |       1 |   1.651 |   1.651 |   1.651\n"
     ]
    }
   ],
   "source": [
    "system, elements = am.convert.cif.load(cif)\n",
    "print elements\n",
    "print system"
   ]
  },
  {
   "cell_type": "markdown",
   "metadata": {},
   "source": [
    "Save the cif string to a file"
   ]
  },
  {
   "cell_type": "code",
   "execution_count": 4,
   "metadata": {
    "collapsed": true
   },
   "outputs": [],
   "source": [
    "with open('1541266.cif', 'w') as f:\n",
    "    f.write(cif)"
   ]
  },
  {
   "cell_type": "markdown",
   "metadata": {},
   "source": [
    "Load the cif file by specifying the file name"
   ]
  },
  {
   "cell_type": "code",
   "execution_count": 5,
   "metadata": {
    "collapsed": false
   },
   "outputs": [
    {
     "name": "stdout",
     "output_type": "stream",
     "text": [
      "['Ta']\n",
      "avect =  [ 3.303,  0.000,  0.000]\n",
      "bvect =  [ 0.000,  3.303,  0.000]\n",
      "cvect =  [ 0.000,  0.000,  3.303]\n",
      "origin = [ 0.000,  0.000,  0.000]\n",
      "natoms = 2\n",
      "natypes = 1\n",
      "     id |   atype |  pos[0] |  pos[1] |  pos[2]\n",
      "      0 |       1 |   0.000 |   0.000 |   0.000\n",
      "      1 |       1 |   1.651 |   1.651 |   1.651\n"
     ]
    }
   ],
   "source": [
    "system, elements = am.convert.cif.load('1541266.cif')\n",
    "print elements\n",
    "print system"
   ]
  },
  {
   "cell_type": "markdown",
   "metadata": {},
   "source": [
    "Load the cif file from an open file object"
   ]
  },
  {
   "cell_type": "code",
   "execution_count": 6,
   "metadata": {
    "collapsed": false
   },
   "outputs": [
    {
     "name": "stdout",
     "output_type": "stream",
     "text": [
      "['Ta']\n",
      "avect =  [ 3.303,  0.000,  0.000]\n",
      "bvect =  [ 0.000,  3.303,  0.000]\n",
      "cvect =  [ 0.000,  0.000,  3.303]\n",
      "origin = [ 0.000,  0.000,  0.000]\n",
      "natoms = 2\n",
      "natypes = 1\n",
      "     id |   atype |  pos[0] |  pos[1] |  pos[2]\n",
      "      0 |       1 |   0.000 |   0.000 |   0.000\n",
      "      1 |       1 |   1.651 |   1.651 |   1.651\n"
     ]
    }
   ],
   "source": [
    "with open('1541266.cif') as f:\n",
    "    system, elements = am.convert.cif.load(f)\n",
    "print elements\n",
    "print system"
   ]
  },
  {
   "cell_type": "markdown",
   "metadata": {},
   "source": [
    "File cleanup"
   ]
  },
  {
   "cell_type": "code",
   "execution_count": 7,
   "metadata": {
    "collapsed": true
   },
   "outputs": [],
   "source": [
    "import os\n",
    "os.remove('1541266.cif')"
   ]
  },
  {
   "cell_type": "markdown",
   "metadata": {},
   "source": [
    "- - -\n",
    "__Docs Navigation:__\n",
    "\n",
    "Tutorial:\n",
    "\n",
    "1. [Basics](../tutorial/1 Basics.ipynb)\n",
    "\n",
    "2. [LAMMPS Functionality](../tutorial/2 LAMMPS Functionality.ipynb)\n",
    "\n",
    "3. [Defect Generation and Evaluation](../tutorial/3 Defect Generation and Evaluation.ipynb)\n",
    "\n",
    "\n",
    "Reference:\n",
    "\n",
    "- [atomman](../reference/atomman.ipynb)\n",
    "\n",
    "- [atomman.convert](../reference/atomman.convert.ipynb)\n",
    "\n",
    "- [atomman.defect](../reference/atomman.defect.ipynb)\n",
    "\n",
    "- [atomman.lammps](../reference/atomman.lammps.ipynb)\n",
    "\n",
    "- [atomman.tools](../reference/atomman.tools.ipynb)\n",
    "\n",
    "- [atomman.unitconvert](../reference/atomman.unitconvert.ipynb)"
   ]
  }
 ],
 "metadata": {
  "kernelspec": {
   "display_name": "Python 2",
   "language": "python",
   "name": "python2"
  },
  "language_info": {
   "codemirror_mode": {
    "name": "ipython",
    "version": 2
   },
   "file_extension": ".py",
   "mimetype": "text/x-python",
   "name": "python",
   "nbconvert_exporter": "python",
   "pygments_lexer": "ipython2",
   "version": "2.7.11"
  }
 },
 "nbformat": 4,
 "nbformat_minor": 0
}
