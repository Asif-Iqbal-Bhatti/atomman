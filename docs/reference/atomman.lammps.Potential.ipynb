{
 "cells": [
  {
   "cell_type": "markdown",
   "metadata": {
    "deletable": true,
    "editable": true
   },
   "source": [
    "# atomman.lammps.Potential Class\n",
    "\n",
    "- - -"
   ]
  },
  {
   "cell_type": "markdown",
   "metadata": {
    "deletable": true,
    "editable": true
   },
   "source": [
    "**Lucas M. Hale**, [lucas.hale@nist.gov](mailto:lucas.hale@nist.gov?Subject=ipr-demo), *Materials Science and Engineering Division, NIST*.\n",
    "\n",
    "**Chandler A. Becker**, [chandler.becker@nist.gov](mailto:chandler.becker@nist.gov?Subject=ipr-demo), *Office of Data and Informatics, NIST*.\n",
    "\n",
    "**Zachary T. Trautt**, [zachary.trautt@nist.gov](mailto:zachary.trautt@nist.gov?Subject=ipr-demo), *Materials Measurement Science Division, NIST*.\n",
    "\n",
    "Version: 2017-04-20\n",
    "\n",
    "[Disclaimers](http://www.nist.gov/public_affairs/disclaimer.cfm) \n",
    " \n",
    "- - -"
   ]
  },
  {
   "cell_type": "markdown",
   "metadata": {
    "deletable": true,
    "editable": true
   },
   "source": [
    "## Introduction\n",
    "\n",
    "The Potential class represents a LAMMPS implemented potential based on the LAMMPS-potential data model. Together, the data model and the Potential class allow for the dynamic creation of LAMMPS input command lines associated with properly running a simulation with the indicated potential. This makes it easy to swap the potential that a simulation was ran with.\n",
    "\n",
    "The underlying code can be found in [atomman/lammps/Potential.py](../../atomman/lammps/Potential.py).\n",
    "\n",
    "- - -"
   ]
  },
  {
   "cell_type": "markdown",
   "metadata": {
    "deletable": true,
    "editable": true
   },
   "source": [
    "## Class Methods of Potential\n",
    "\n",
    "- [\\__init__(self, model, pot_dir=None)](atomman.lammps.Potential.__init__.ipynb) -- class initializer.\n",
    "\n",
    "- [\\__str__(self)](atomman.lammps.Potential.__str__.ipynb) -- generates string output of the class.\n",
    "\n",
    "- [elements(self, symbols=None)](atomman.lammps.Potential.elements.ipynb) -- returns a list of element tags.\n",
    "\n",
    "- [load(self, model, pot_dir=None)](atomman.lammps.Potential.load.ipynb) -- loads a LAMMPS-potential data model.\n",
    "\n",
    "- [masses(self, symbols=None)](atomman.lammps.Potential.masses.ipynb) -- returns a list of element masses. \n",
    "\n",
    "- [pair_info(self, symbols=None)](atomman.lammps.Potential.pair_info.ipynb) -- generates the LAMMPS input command lines associated with using the potential."
   ]
  },
  {
   "cell_type": "markdown",
   "metadata": {
    "deletable": true,
    "editable": true
   },
   "source": [
    "## Class Attributes of Atoms\n",
    "\n",
    "- [atom_style](atomman.lammps.Potential.atom_style.ipynb) -- LAMMPS atom_style option for the potential.\n",
    "\n",
    "- [id](atomman.lammps.Potential.id.ipynb) -- human-readable identifier.\n",
    "\n",
    "- [key](atomman.lammps.Potential.key.ipynb) -- uuid hash-key.\n",
    "\n",
    "- [pot_dir](atomman.lammps.Potential.pot_dir.ipynb) -- the directory containing files associated with the potential.\n",
    "\n",
    "- [symbols](atomman.lammps.Potential.symbols.ipynb) -- list of all atom-model symbols for the potential.\n",
    "\n",
    "- [units](atomman.lammps.Potential.units.ipynb) -- LAMMPS units option for the potential."
   ]
  },
  {
   "cell_type": "markdown",
   "metadata": {
    "collapsed": true,
    "deletable": true,
    "editable": true
   },
   "source": [
    "__Docs Navigation:__\n",
    "\n",
    "Tutorial:\n",
    "\n",
    "1. [Basics](../tutorial/1 Basics.ipynb)\n",
    "\n",
    "2. [LAMMPS Functionality](../tutorial/2 LAMMPS Functionality.ipynb)\n",
    "\n",
    "3. [Defect Generation and Evaluation](../tutorial/3 Defect Generation and Evaluation.ipynb)\n",
    "\n",
    "\n",
    "Reference:\n",
    "\n",
    "- [atomman](../reference/atomman.ipynb)\n",
    "\n",
    "- [atomman.convert](../reference/atomman.convert.ipynb)\n",
    "\n",
    "- [atomman.defect](../reference/atomman.defect.ipynb)\n",
    "\n",
    "- [atomman.lammps](../reference/atomman.lammps.ipynb)\n",
    "\n",
    "- [atomman.tools](../reference/atomman.tools.ipynb)\n",
    "\n",
    "- [atomman.unitconvert](../reference/atomman.unitconvert.ipynb)"
   ]
  }
 ],
 "metadata": {
  "kernelspec": {
   "display_name": "Python 2",
   "language": "python",
   "name": "python2"
  },
  "language_info": {
   "codemirror_mode": {
    "name": "ipython",
    "version": 2
   },
   "file_extension": ".py",
   "mimetype": "text/x-python",
   "name": "python",
   "nbconvert_exporter": "python",
   "pygments_lexer": "ipython2",
   "version": "2.7.13"
  }
 },
 "nbformat": 4,
 "nbformat_minor": 0
}
