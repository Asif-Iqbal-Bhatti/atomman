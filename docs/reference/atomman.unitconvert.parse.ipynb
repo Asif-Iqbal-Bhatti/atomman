{
 "cells": [
  {
   "cell_type": "markdown",
   "metadata": {},
   "source": [
    "# atomman.unitconvert.parse()\n",
    "\n",
    "- - -"
   ]
  },
  {
   "cell_type": "markdown",
   "metadata": {},
   "source": [
    "**Lucas M. Hale**, [lucas.hale@nist.gov](mailto:lucas.hale@nist.gov?Subject=ipr-demo), *Materials Science and Engineering Division, NIST*.\n",
    "\n",
    "**Chandler A. Becker**, [chandler.becker@nist.gov](mailto:chandler.becker@nist.gov?Subject=ipr-demo), *Office of Data and Informatics, NIST*.\n",
    "\n",
    "**Zachary T. Trautt**, [zachary.trautt@nist.gov](mailto:zachary.trautt@nist.gov?Subject=ipr-demo), *Materials Measurement Science Division, NIST*.\n",
    "\n",
    "Version: 2016-08-23\n",
    "\n",
    "[Disclaimers](http://www.nist.gov/public_affairs/disclaimer.cfm) \n",
    " \n",
    "- - -"
   ]
  },
  {
   "cell_type": "markdown",
   "metadata": {},
   "source": [
    "## Introduction\n",
    "\n",
    "atomman.unitconvert.parse() parses a unit string and returns the corresponding scaling value. This is called by [atomman.unitconvert.set_in_units()](atomman.unitconvert.set_in_units.ipynb) and [atomman.unitconvert.get_in_units()](atomman.unitconvert.get_in_units.ipynb).\n",
    "\n",
    "Argument:\n",
    "\n",
    "- __unit__ -- unit to convert the value into. This can be either a string or a number.\n",
    "\n",
    "The rules the function follows are:\n",
    "\n",
    "- If unit is None, return 1.\n",
    "\n",
    "- If unit is a number, return the number.\n",
    "\n",
    "- If unit is a string\n",
    "    - break the string into terms based on whitespace or operators\n",
    "    - allowable operators are: * for multiplication, / for division, ^ for powers, and ().  Normal order of operations is used.  Multiplication must be explicitly specified. \n",
    "    - terms starting with digit, minus sign or decimal point are converted into floats\n",
    "    - all other terms are taken as unit names and converted to values using the [atomman.unitconvert.unit](atomman.unitconvert.unit.ipynb) dictionary.\n",
    "\n",
    "\n",
    "The underlying code can be found in [atomman/unitconvert.py](../../atomman/unitconvert.py)."
   ]
  },
  {
   "cell_type": "code",
   "execution_count": 2,
   "metadata": {
    "collapsed": false
   },
   "outputs": [
    {
     "name": "stdout",
     "output_type": "stream",
     "text": [
      "\n"
     ]
    }
   ],
   "source": [
    "import atomman.unitconvert as uc"
   ]
  },
  {
   "cell_type": "markdown",
   "metadata": {},
   "source": [
    "atomman's default working length unit is Angstroms and energy unit is eV"
   ]
  },
  {
   "cell_type": "code",
   "execution_count": 3,
   "metadata": {
    "collapsed": false
   },
   "outputs": [
    {
     "name": "stdout",
     "output_type": "stream",
     "text": [
      "uc.parse('nm*eV') -> 10.0\n",
      "uc.parse('m^3') -> 1e+30\n",
      "uc.parse('eV/J') -> 1.602176565e-19\n",
      "uc.parse(None) -> 1\n",
      "uc.parse(1492) -> 1492\n",
      "uc.parse('1492') -> 1492.0\n"
     ]
    }
   ],
   "source": [
    "#Testing parse()\n",
    "print \"uc.parse('nm*eV') ->\", uc.parse('nm*eV')\n",
    "print \"uc.parse('m^3')   ->\", uc.parse('m^3')\n",
    "print \"uc.parse('eV/J')  ->\", uc.parse('eV/J')\n",
    "print \"uc.parse(None)    ->\", uc.parse(None)\n",
    "print \"uc.parse(1492)    ->\", uc.parse(1492)\n",
    "print \"uc.parse('1492')  ->\", uc.parse('1492')"
   ]
  },
  {
   "cell_type": "markdown",
   "metadata": {},
   "source": [
    "- - -\n",
    "__Docs Navigation:__\n",
    "\n",
    "Tutorial:\n",
    "\n",
    "1. [Basics](../tutorial/1 Basics.ipynb)\n",
    "\n",
    "2. [LAMMPS Functionality](../tutorial/2 LAMMPS Functionality.ipynb)\n",
    "\n",
    "3. [Defect Generation and Evaluation](../tutorial/3 Defect Generation and Evaluation.ipynb)\n",
    "\n",
    "\n",
    "Reference:\n",
    "\n",
    "- [atomman](../reference/atomman.ipynb)\n",
    "\n",
    "- [atomman.convert](../reference/atomman.convert.ipynb)\n",
    "\n",
    "- [atomman.defect](../reference/atomman.defect.ipynb)\n",
    "\n",
    "- [atomman.lammps](../reference/atomman.lammps.ipynb)\n",
    "\n",
    "- [atomman.tools](../reference/atomman.tools.ipynb)\n",
    "\n",
    "- [atomman.unitconvert](../reference/atomman.unitconvert.ipynb)"
   ]
  }
 ],
 "metadata": {
  "kernelspec": {
   "display_name": "Python 2",
   "language": "python",
   "name": "python2"
  },
  "language_info": {
   "codemirror_mode": {
    "name": "ipython",
    "version": 2
   },
   "file_extension": ".py",
   "mimetype": "text/x-python",
   "name": "python",
   "nbconvert_exporter": "python",
   "pygments_lexer": "ipython2",
   "version": "2.7.11"
  }
 },
 "nbformat": 4,
 "nbformat_minor": 0
}
