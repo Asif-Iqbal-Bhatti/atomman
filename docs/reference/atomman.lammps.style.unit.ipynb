{
 "cells": [
  {
   "cell_type": "markdown",
   "metadata": {},
   "source": [
    "# atomman.lammps.style.unit(units='metal')\n",
    "\n",
    "- - -"
   ]
  },
  {
   "cell_type": "markdown",
   "metadata": {},
   "source": [
    "**Lucas M. Hale**, [lucas.hale@nist.gov](mailto:lucas.hale@nist.gov?Subject=ipr-demo), *Materials Science and Engineering Division, NIST*.\n",
    "\n",
    "**Chandler A. Becker**, [chandler.becker@nist.gov](mailto:chandler.becker@nist.gov?Subject=ipr-demo), *Office of Data and Informatics, NIST*.\n",
    "\n",
    "**Zachary T. Trautt**, [zachary.trautt@nist.gov](mailto:zachary.trautt@nist.gov?Subject=ipr-demo), *Materials Measurement Science Division, NIST*.\n",
    "\n",
    "Version: 2016-09-02\n",
    "\n",
    "[Disclaimers](http://www.nist.gov/public_affairs/disclaimer.cfm) \n",
    " \n",
    "- - -"
   ]
  },
  {
   "cell_type": "markdown",
   "metadata": {},
   "source": [
    "## Introduction\n",
    "\n",
    "The style.unit function returns a dictionary listing what units are associated with various physical quantities based on a LAMMPS units option.  This makes it possible to perform automatic unit conversions with any LAMMPS units option.\n",
    "\n",
    "Keyword Arguments:\n",
    "\n",
    "- __units__ -- the LAMMPS units option to use. Default value is 'metal'.\n",
    "\n",
    "The underlying code can be found in [atomman/lammps/style.py](../../atomman/lammps/style.py)."
   ]
  },
  {
   "cell_type": "markdown",
   "metadata": {},
   "source": [
    "## Demonstration"
   ]
  },
  {
   "cell_type": "code",
   "execution_count": 1,
   "metadata": {
    "collapsed": false
   },
   "outputs": [],
   "source": [
    "#atomman imports\n",
    "import atomman.unitconvert as uc\n",
    "import atomman.lammps as lmp"
   ]
  },
  {
   "cell_type": "markdown",
   "metadata": {},
   "source": [
    "Calling style.unit provides the units used by LAMMPS for a physical quantity"
   ]
  },
  {
   "cell_type": "code",
   "execution_count": 2,
   "metadata": {
    "collapsed": false
   },
   "outputs": [
    {
     "name": "stdout",
     "output_type": "stream",
     "text": [
      "mass in g/mol\n",
      "length in angstrom\n",
      "time in ps\n",
      "energy in eV\n",
      "velocity in angstrom/ps\n",
      "force in eV/angstrom\n",
      "torque in eV\n",
      "temperature in K\n",
      "pressure in bar\n",
      "dynamic viscosity in Pa*s/10\n",
      "charge in e\n",
      "dipole in e*angstrom\n",
      "electric field in V/angstrom\n",
      "density in g/cm^3\n",
      "ang-mom in angstrom*angstrom/ps*g/mol\n",
      "ang-vel in 1/ps\n"
     ]
    }
   ],
   "source": [
    "lammps_unit = lmp.style.unit('metal')\n",
    "\n",
    "for key, value in lammps_unit.iteritems():\n",
    "    print key, 'in', value"
   ]
  },
  {
   "cell_type": "markdown",
   "metadata": {},
   "source": [
    "With [unitconvert](atomman.unitconvert) it becomes possible to write code that is independent of the LAMMPS units option. Here's a partial example, where it is assumed that the results value is an energy from a LAMMPS log file:"
   ]
  },
  {
   "cell_type": "code",
   "execution_count": 3,
   "metadata": {
    "collapsed": true
   },
   "outputs": [],
   "source": [
    "#units used to run LAMMPS\n",
    "units = 'real'\n",
    "\n",
    "#Assume this is an energy value from the LAMMPS output\n",
    "results = -1424.24"
   ]
  },
  {
   "cell_type": "code",
   "execution_count": 4,
   "metadata": {
    "collapsed": false
   },
   "outputs": [
    {
     "name": "stdout",
     "output_type": "stream",
     "text": [
      "-61.7608890497 eV\n"
     ]
    }
   ],
   "source": [
    "#Get dictionary of LAMMPS units\n",
    "lammps_units = lmp.style.unit(units)\n",
    "\n",
    "#Read in results from LAMMPS units to working units\n",
    "energy = uc.set_in_units(results, lammps_units['energy'])\n",
    "\n",
    "#Print energy value in units you want\n",
    "print uc.get_in_units(energy, 'eV'), 'eV'"
   ]
  },
  {
   "cell_type": "markdown",
   "metadata": {},
   "source": [
    "- - -\n",
    "__Docs Navigation:__\n",
    "\n",
    "Tutorial:\n",
    "\n",
    "1. [Basics](../tutorial/1 Basics.ipynb)\n",
    "\n",
    "2. [LAMMPS Functionality](../tutorial/2 LAMMPS Functionality.ipynb)\n",
    "\n",
    "3. [Defect Generation and Evaluation](../tutorial/3 Defect Generation and Evaluation.ipynb)\n",
    "\n",
    "\n",
    "Reference:\n",
    "\n",
    "- [atomman](../reference/atomman.ipynb)\n",
    "\n",
    "- [atomman.convert](../reference/atomman.convert.ipynb)\n",
    "\n",
    "- [atomman.defect](../reference/atomman.defect.ipynb)\n",
    "\n",
    "- [atomman.lammps](../reference/atomman.lammps.ipynb)\n",
    "\n",
    "- [atomman.tools](../reference/atomman.tools.ipynb)\n",
    "\n",
    "- [atomman.unitconvert](../reference/atomman.unitconvert.ipynb)"
   ]
  }
 ],
 "metadata": {
  "kernelspec": {
   "display_name": "Python 2",
   "language": "python",
   "name": "python2"
  },
  "language_info": {
   "codemirror_mode": {
    "name": "ipython",
    "version": 2
   },
   "file_extension": ".py",
   "mimetype": "text/x-python",
   "name": "python",
   "nbconvert_exporter": "python",
   "pygments_lexer": "ipython2",
   "version": "2.7.11"
  }
 },
 "nbformat": 4,
 "nbformat_minor": 0
}
