{
 "cells": [
  {
   "cell_type": "markdown",
   "metadata": {
    "deletable": true,
    "editable": true
   },
   "source": [
    "# atomman.defect.Stroh.preln\n",
    "\n",
    "- - -"
   ]
  },
  {
   "cell_type": "markdown",
   "metadata": {
    "deletable": true,
    "editable": true
   },
   "source": [
    "__Lucas M. Hale__, [lucas.hale@nist.gov](mailto:lucas.hale@nist.gov?Subject=ipr-demo), _Materials Science and Engineering Division, NIST_.\n",
    "\n",
    "__Chandler A. Becker__, [chandler.becker@nist.gov](mailto:chandler.becker@nist.gov?Subject=ipr-demo), _Office of Data and Informatics, NIST_.\n",
    "\n",
    "__Zachary T. Trautt__, [zachary.trautt@nist.gov](mailto:zachary.trautt@nist.gov?Subject=ipr-demo), _Materials Measurement Science Division, NIST_.\n",
    "\n",
    "Version: 2017-04-21\n",
    "\n",
    "[Disclaimers](http://www.nist.gov/public_affairs/disclaimer.cfm) \n",
    " \n",
    "- - -"
   ]
  },
  {
   "cell_type": "markdown",
   "metadata": {
    "deletable": true,
    "editable": true
   },
   "source": [
    "## Introduction\n",
    "\n",
    "The atomman.defect.Stroh.preln attribute returns the pre-ln factor associated with the elastic strain energy of the defect.\n",
    "\n",
    "\n",
    "\n",
    "The strain energy around a linear defect is given by\n",
    "\n",
    "$$ E(r) = \\alpha \\ln{\\left(\\frac{r}{r_0}\\right)} + E(r_0) $$\n",
    "\n",
    "where\n",
    "\n",
    "- $E(r)$ is the energy per unit length of the material within a cylinder of radius $r$.\n",
    "\n",
    "- $E(r_0)$ is the energy per unit length of the material within a smaller cylinder of radius $r_0$.\n",
    "\n",
    "- $\\alpha$ is the pre-ln energy factor calculated by this function.\n",
    "\n",
    "Mathematically, r<sub>0</sub> cannot go to zero as the energy would be infinite. Practically, elasticity theory breaks down near the defect center, and specific values of r<sub>0</sub> and E(r<sub>0</sub>) are taken to be the core radius and core energy, respectively.\n",
    "\n",
    "The pre-ln energy factor, $\\alpha$, can be related to the [energy coefficient tensor, $K_{ij}$](atomman.defect.Stroh.K_tensor.ipynb), and the [energy coefficient, $K$](atomman.defect.Stroh.K_coeff.ipynb), using\n",
    "\n",
    "$$ \\alpha = \\frac{b_i K_{ij} b_j}{4 \\pi} = \\frac{K b^2} {4 \\pi} $$\n",
    "\n",
    "where \n",
    "\n",
    "- $b_i$ is the burgers vector\n",
    "\n",
    "- $b$ is the magnitude of $b_i$\n",
    "\n",
    "More on the underlying theory can be found in [atomman.defect.Stroh.theory.pdf](atomman.defect.Stroh.theory.pdf).\n",
    "\n",
    "The underlying code can be found in [atomman/defect/Stroh.py](https://github.com/usnistgov/atomman/blob/master/atomman/defect/Stroh.py)."
   ]
  },
  {
   "cell_type": "markdown",
   "metadata": {
    "deletable": true,
    "editable": true
   },
   "source": [
    "## Demonstration"
   ]
  },
  {
   "cell_type": "markdown",
   "metadata": {
    "deletable": true,
    "editable": true
   },
   "source": [
    "Import libraries"
   ]
  },
  {
   "cell_type": "code",
   "execution_count": 1,
   "metadata": {
    "collapsed": true,
    "deletable": true,
    "editable": true
   },
   "outputs": [],
   "source": [
    "#Standard libraries\n",
    "from __future__ import print_function\n",
    "\n",
    "#http://www.numpy.org/\n",
    "import numpy as np\n",
    "\n",
    "#https://github.com/usnistgov/atomman\n",
    "import atomman as am\n",
    "import atomman.unitconvert as uc"
   ]
  },
  {
   "cell_type": "markdown",
   "metadata": {
    "deletable": true,
    "editable": true
   },
   "source": [
    "### Solving for an fcc edge dislocation"
   ]
  },
  {
   "cell_type": "markdown",
   "metadata": {
    "deletable": true,
    "editable": true
   },
   "source": [
    "Let's consider an fcc edge dislocation.\n",
    "    \n",
    "    Burgers-vector = a/2[ 1, 0,-1]\n",
    "    slip plane =        [ 1, 1, 1]\n",
    "    line-direction =    [ 1,-2, 1]\n",
    "    \n",
    "With how the solution is calculated, this means that the system should be oriented relative to the cubic crystal directions:\n",
    "\n",
    "- x-axis = [ 1, 0,-1]\n",
    "- y-axis = [ 1, 1, 1]\n",
    "- z-axis = [ 1,-2, 1]"
   ]
  },
  {
   "cell_type": "code",
   "execution_count": 2,
   "metadata": {
    "collapsed": true,
    "deletable": true,
    "editable": true
   },
   "outputs": [],
   "source": [
    "axes = np.array([[ 1, 0,-1],\n",
    "                 [ 1, 1, 1],\n",
    "                 [ 1,-2, 1]])"
   ]
  },
  {
   "cell_type": "markdown",
   "metadata": {
    "deletable": true,
    "editable": true
   },
   "source": [
    "Lattice and elastic constants should correspond to the potential and temperature of interest and be converted into proper working units. The values below are for 2010--Winey-J-M--Al at 0 K. Proper conversion of units is handled by the [atomman.unitconvert module](atomman.unitconvert.ipynb)."
   ]
  },
  {
   "cell_type": "code",
   "execution_count": 3,
   "metadata": {
    "collapsed": true,
    "deletable": true,
    "editable": true
   },
   "outputs": [],
   "source": [
    "alat = uc.set_in_units(4.0248, 'angstrom')\n",
    "C11 =  uc.set_in_units(113.76, 'GPa')\n",
    "C12 =  uc.set_in_units( 61.71, 'GPa')\n",
    "C44 =  uc.set_in_units( 31.25, 'GPa')"
   ]
  },
  {
   "cell_type": "markdown",
   "metadata": {
    "deletable": true,
    "editable": true
   },
   "source": [
    "Defining the elastic constants and Burgers vector relative to the cubic cell coordination system"
   ]
  },
  {
   "cell_type": "code",
   "execution_count": 4,
   "metadata": {
    "collapsed": true,
    "deletable": true,
    "editable": true
   },
   "outputs": [],
   "source": [
    "c = am.ElasticConstants(C11=C11, C12=C12, C44=C44)\n",
    "burgers = alat / 2 * np.array([1., 0., -1.])"
   ]
  },
  {
   "cell_type": "markdown",
   "metadata": {
    "deletable": true,
    "editable": true
   },
   "source": [
    "Obtaining the proper a Stroh solution requires that the elastic constants matrix and Burgers vector be defined relative to the System of interest's Cartesian orientation. To handle this, you can either:\n",
    "\n",
    "- Supply the elastic constants and Burgers vector relative to the Cartesian coordination system\n",
    "\n",
    "- Supply the elastic constants and Burgers vector relative to reference coordination system, and give axes for the transformation.\n",
    "\n",
    "For cubic systems, the second option allows for the elastic constants, Burgers vector, and axes vectors to be given relative to the cubic cell coordination system (which is what we have above)."
   ]
  },
  {
   "cell_type": "code",
   "execution_count": 5,
   "metadata": {
    "collapsed": true,
    "deletable": true,
    "editable": true
   },
   "outputs": [],
   "source": [
    "#initializing a new Stroh object using the data\n",
    "stroh = am.defect.Stroh(c, burgers, axes=axes)"
   ]
  },
  {
   "cell_type": "markdown",
   "metadata": {
    "deletable": true,
    "editable": true
   },
   "source": [
    "Getting the pre-ln factor in proper units."
   ]
  },
  {
   "cell_type": "code",
   "execution_count": 6,
   "metadata": {
    "collapsed": false,
    "deletable": true,
    "editable": true
   },
   "outputs": [
    {
     "name": "stdout",
     "output_type": "stream",
     "text": [
      "0.176208807619 eV/angstrom\n"
     ]
    }
   ],
   "source": [
    "print(uc.get_in_units(stroh.preln, 'eV/angstrom'), 'eV/angstrom')"
   ]
  },
  {
   "cell_type": "markdown",
   "metadata": {
    "deletable": true,
    "editable": true
   },
   "source": [
    "__Docs Navigation:__\n",
    "\n",
    "Tutorial:\n",
    "\n",
    "1. [Basics](../tutorial/1 Basics.ipynb)\n",
    "\n",
    "2. [LAMMPS Functionality](../tutorial/2 LAMMPS Functionality.ipynb)\n",
    "\n",
    "3. [Defect Generation and Evaluation](../tutorial/3 Defect Generation and Evaluation.ipynb)\n",
    "\n",
    "\n",
    "Reference:\n",
    "\n",
    "- [atomman](../reference/atomman.ipynb)\n",
    "\n",
    "- [atomman.convert](../reference/atomman.convert.ipynb)\n",
    "\n",
    "- [atomman.defect](../reference/atomman.defect.ipynb)\n",
    "\n",
    "- [atomman.lammps](../reference/atomman.lammps.ipynb)\n",
    "\n",
    "- [atomman.tools](../reference/atomman.tools.ipynb)\n",
    "\n",
    "- [atomman.unitconvert](../reference/atomman.unitconvert.ipynb)"
   ]
  }
 ],
 "metadata": {
  "anaconda-cloud": {},
  "kernelspec": {
   "display_name": "Python 2",
   "language": "python",
   "name": "python2"
  },
  "language_info": {
   "codemirror_mode": {
    "name": "ipython",
    "version": 2
   },
   "file_extension": ".py",
   "mimetype": "text/x-python",
   "name": "python",
   "nbconvert_exporter": "python",
   "pygments_lexer": "ipython2",
   "version": "2.7.13"
  }
 },
 "nbformat": 4,
 "nbformat_minor": 0
}
