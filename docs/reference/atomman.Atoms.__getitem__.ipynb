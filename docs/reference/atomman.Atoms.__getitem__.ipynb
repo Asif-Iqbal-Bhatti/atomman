{
 "cells": [
  {
   "cell_type": "markdown",
   "metadata": {
    "deletable": true,
    "editable": true
   },
   "source": [
    "# atomman.Atoms.\\__getitem__(self, index)\n",
    "- - -"
   ]
  },
  {
   "cell_type": "markdown",
   "metadata": {
    "deletable": true,
    "editable": true
   },
   "source": [
    "**Lucas M. Hale**, [lucas.hale@nist.gov](mailto:lucas.hale@nist.gov?Subject=ipr-demo), *Materials Science and Engineering Division, NIST*.\n",
    "\n",
    "**Chandler A. Becker**, [chandler.becker@nist.gov](mailto:chandler.becker@nist.gov?Subject=ipr-demo), *Office of Data and Informatics, NIST*.\n",
    "\n",
    "**Zachary T. Trautt**, [zachary.trautt@nist.gov](mailto:zachary.trautt@nist.gov?Subject=ipr-demo), *Materials Measurement Science Division, NIST*.\n",
    "\n",
    "Version: 2017-04-19\n",
    "\n",
    "[Disclaimers](http://www.nist.gov/public_affairs/disclaimer.cfm) \n",
    " \n",
    "- - -"
   ]
  },
  {
   "cell_type": "markdown",
   "metadata": {
    "deletable": true,
    "editable": true
   },
   "source": [
    "## Introduction\n",
    "\n",
    "Indexing can be used to extract a subset of atoms from an Atoms instance as a new Atoms instance.\n",
    "\n",
    "Arguments:\n",
    "\n",
    "- __index__ -- the index(es) of the atoms to extract. Complex numpy indexing is allowed.\n",
    "\n",
    "The underlying code can be found in [atomman/core/Atoms.py](../../atomman/core/Atoms.py).\n",
    "\n",
    "- - -"
   ]
  },
  {
   "cell_type": "markdown",
   "metadata": {
    "deletable": true,
    "editable": true
   },
   "source": [
    "## Demonstration"
   ]
  },
  {
   "cell_type": "markdown",
   "metadata": {
    "deletable": true,
    "editable": true
   },
   "source": [
    "Library Imports"
   ]
  },
  {
   "cell_type": "code",
   "execution_count": 1,
   "metadata": {
    "collapsed": true,
    "deletable": true,
    "editable": true
   },
   "outputs": [],
   "source": [
    "#Standard libraries\n",
    "from __future__ import print_function\n",
    "\n",
    "#http://www.numpy.org/\n",
    "import numpy as np    \n",
    "\n",
    "#https://github.com/usnistgov/atomman\n",
    "import atomman as am   "
   ]
  },
  {
   "cell_type": "markdown",
   "metadata": {
    "deletable": true,
    "editable": true
   },
   "source": [
    "Create a demonstration Atoms instance with random positions"
   ]
  },
  {
   "cell_type": "code",
   "execution_count": 2,
   "metadata": {
    "collapsed": false,
    "deletable": true,
    "editable": true
   },
   "outputs": [
    {
     "name": "stdout",
     "output_type": "stream",
     "text": [
      "     id |   atype |  pos[0] |  pos[1] |  pos[2]\n",
      "      0 |       1 |   0.623 |   0.188 |   0.201\n",
      "      1 |       1 |   0.842 |   0.042 |   0.627\n",
      "      2 |       1 |   0.836 |   0.912 |   0.445\n",
      "      3 |       1 |   0.660 |   0.500 |   0.813\n",
      "      4 |       1 |   0.032 |   0.986 |   0.040\n",
      "      5 |       1 |   0.797 |   0.802 |   0.322\n",
      "      6 |       1 |   0.075 |   0.342 |   0.070\n",
      "      7 |       1 |   0.767 |   0.841 |   0.484\n",
      "      8 |       1 |   0.165 |   0.066 |   0.792\n",
      "      9 |       1 |   0.334 |   0.295 |   0.502\n"
     ]
    }
   ],
   "source": [
    "prop_dict = {'atype': 1, 'pos': np.random.rand(10,3)}\n",
    "\n",
    "atoms = am.Atoms(natoms=10, prop=prop_dict)\n",
    "\n",
    "print(atoms)"
   ]
  },
  {
   "cell_type": "markdown",
   "metadata": {
    "deletable": true,
    "editable": true
   },
   "source": [
    "Extract a subset"
   ]
  },
  {
   "cell_type": "code",
   "execution_count": 3,
   "metadata": {
    "collapsed": false,
    "deletable": true,
    "editable": true
   },
   "outputs": [
    {
     "name": "stdout",
     "output_type": "stream",
     "text": [
      "     id |   atype |  pos[0] |  pos[1] |  pos[2]\n",
      "      0 |       1 |   0.836 |   0.912 |   0.445\n",
      "      1 |       1 |   0.660 |   0.500 |   0.813\n",
      "      2 |       1 |   0.032 |   0.986 |   0.040\n",
      "      3 |       1 |   0.797 |   0.802 |   0.322\n"
     ]
    }
   ],
   "source": [
    "print(atoms[2:6])"
   ]
  },
  {
   "cell_type": "markdown",
   "metadata": {
    "deletable": true,
    "editable": true
   },
   "source": [
    "Note that the Atoms instance created by this still points back to the original Atoms instance. "
   ]
  },
  {
   "cell_type": "code",
   "execution_count": 4,
   "metadata": {
    "collapsed": false,
    "deletable": true,
    "editable": true
   },
   "outputs": [
    {
     "name": "stdout",
     "output_type": "stream",
     "text": [
      "     id |   atype |  pos[0] |  pos[1] |  pos[2]\n",
      "      0 |       2 |   0.623 |   0.188 |   0.201\n",
      "      1 |       1 |   0.842 |   0.042 |   0.627\n",
      "      2 |       2 |   0.836 |   0.912 |   0.445\n",
      "      3 |       1 |   0.660 |   0.500 |   0.813\n",
      "      4 |       2 |   0.032 |   0.986 |   0.040\n",
      "      5 |       1 |   0.797 |   0.802 |   0.322\n",
      "      6 |       2 |   0.075 |   0.342 |   0.070\n",
      "      7 |       1 |   0.767 |   0.841 |   0.484\n",
      "      8 |       2 |   0.165 |   0.066 |   0.792\n",
      "      9 |       1 |   0.334 |   0.295 |   0.502\n"
     ]
    }
   ],
   "source": [
    "newatoms = atoms[::2]\n",
    "newatoms.prop(key='atype', value=2)\n",
    "\n",
    "print(atoms)"
   ]
  },
  {
   "cell_type": "markdown",
   "metadata": {
    "deletable": true,
    "editable": true
   },
   "source": [
    "As numpy indexing is used, you can easily do things such as extracting all atoms with x-positions greater than 0.5"
   ]
  },
  {
   "cell_type": "code",
   "execution_count": 5,
   "metadata": {
    "collapsed": false,
    "deletable": true,
    "editable": true
   },
   "outputs": [
    {
     "name": "stdout",
     "output_type": "stream",
     "text": [
      "     id |   atype |  pos[0] |  pos[1] |  pos[2]\n",
      "      0 |       2 |   0.623 |   0.188 |   0.201\n",
      "      1 |       1 |   0.842 |   0.042 |   0.627\n",
      "      2 |       2 |   0.836 |   0.912 |   0.445\n",
      "      3 |       1 |   0.660 |   0.500 |   0.813\n",
      "      4 |       1 |   0.797 |   0.802 |   0.322\n",
      "      5 |       1 |   0.767 |   0.841 |   0.484\n"
     ]
    }
   ],
   "source": [
    "print(atoms[atoms.view['pos'][:, 0] > 0.5])"
   ]
  },
  {
   "cell_type": "markdown",
   "metadata": {
    "deletable": true,
    "editable": true
   },
   "source": [
    "__WARNING!__ Adding new properties should always be done to the base Atoms instance and all subsets regenerated after. Otherwise, issues may arise in property name/value assignment across the different Atoms instances."
   ]
  },
  {
   "cell_type": "code",
   "execution_count": 6,
   "metadata": {
    "collapsed": false,
    "deletable": true,
    "editable": true
   },
   "outputs": [
    {
     "name": "stdout",
     "output_type": "stream",
     "text": [
      "atoms_1.prop() -> ['atype', 'pos']\n",
      "atoms_2.prop() -> ['atype', 'pos', 'new']\n"
     ]
    }
   ],
   "source": [
    "#Create a new atoms instance and an indexed subset\n",
    "atoms_1 = am.Atoms(natoms = 5, nvals = 5, prop={'atype':[1], 'pos':np.random.rand(5,3)})\n",
    "atoms_2 = atoms_1[2:4]\n",
    "\n",
    "#Assigning new property 'new' to atoms_2\n",
    "atoms_2.prop(key='new', value=[2,2])\n",
    "\n",
    "#atoms_1 doesn't know about 'new'!\n",
    "print(\"atoms_1.prop() ->\", atoms_1.prop())\n",
    "print(\"atoms_2.prop() ->\", atoms_2.prop())"
   ]
  },
  {
   "cell_type": "code",
   "execution_count": 7,
   "metadata": {
    "collapsed": false,
    "deletable": true,
    "editable": true
   },
   "outputs": [
    {
     "name": "stdout",
     "output_type": "stream",
     "text": [
      "atoms_1.data->\n",
      "[[ 1.          0.40686372  0.48073938  0.95632661  0.        ]\n",
      " [ 1.          0.51898661  0.92415681  0.46211989  0.        ]\n",
      " [ 1.          0.86731058  0.54856973  0.30278059  2.        ]\n",
      " [ 1.          0.3598929   0.07251244  0.65185115  2.        ]\n",
      " [ 1.          0.8750216   0.2594409   0.69390873  0.        ]]\n"
     ]
    }
   ],
   "source": [
    "#but the values are in atoms_1.data!\n",
    "print(\"atoms_1.data->\")\n",
    "print(atoms_1.data)"
   ]
  },
  {
   "cell_type": "markdown",
   "metadata": {
    "deletable": true,
    "editable": true
   },
   "source": [
    "__Docs Navigation:__\n",
    "\n",
    "Tutorial:\n",
    "\n",
    "1. [Basics](../tutorial/1 Basics.ipynb)\n",
    "\n",
    "2. [LAMMPS Functionality](../tutorial/2 LAMMPS Functionality.ipynb)\n",
    "\n",
    "3. [Defect Generation and Evaluation](../tutorial/3 Defect Generation and Evaluation.ipynb)\n",
    "\n",
    "\n",
    "Reference:\n",
    "\n",
    "- [atomman](../reference/atomman.ipynb)\n",
    "\n",
    "- [atomman.convert](../reference/atomman.convert.ipynb)\n",
    "\n",
    "- [atomman.defect](../reference/atomman.defect.ipynb)\n",
    "\n",
    "- [atomman.lammps](../reference/atomman.lammps.ipynb)\n",
    "\n",
    "- [atomman.tools](../reference/atomman.tools.ipynb)\n",
    "\n",
    "- [atomman.unitconvert](../reference/atomman.unitconvert.ipynb)"
   ]
  }
 ],
 "metadata": {
  "kernelspec": {
   "display_name": "Python 2",
   "language": "python",
   "name": "python2"
  },
  "language_info": {
   "codemirror_mode": {
    "name": "ipython",
    "version": 2
   },
   "file_extension": ".py",
   "mimetype": "text/x-python",
   "name": "python",
   "nbconvert_exporter": "python",
   "pygments_lexer": "ipython2",
   "version": "2.7.13"
  }
 },
 "nbformat": 4,
 "nbformat_minor": 0
}
