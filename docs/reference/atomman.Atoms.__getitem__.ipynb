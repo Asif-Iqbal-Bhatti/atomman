{
 "cells": [
  {
   "cell_type": "markdown",
   "metadata": {},
   "source": [
    "# atomman.Atoms.\\__getitem__()\n",
    "- - -"
   ]
  },
  {
   "cell_type": "markdown",
   "metadata": {},
   "source": [
    "**Lucas M. Hale**, [lucas.hale@nist.gov](mailto:lucas.hale@nist.gov?Subject=ipr-demo), *Materials Science and Engineering Division, NIST*.\n",
    "\n",
    "**Chandler A. Becker**, [chandler.becker@nist.gov](mailto:chandler.becker@nist.gov?Subject=ipr-demo), *Office of Data and Informatics, NIST*.\n",
    "\n",
    "**Zachary T. Trautt**, [zachary.trautt@nist.gov](mailto:zachary.trautt@nist.gov?Subject=ipr-demo), *Materials Measurement Science Division, NIST*.\n",
    "\n",
    "Version: 2016-08-23\n",
    "\n",
    "[Disclaimers](http://www.nist.gov/public_affairs/disclaimer.cfm) \n",
    " \n",
    "- - -"
   ]
  },
  {
   "cell_type": "markdown",
   "metadata": {},
   "source": [
    "## Introduction\n",
    "\n",
    "Class Atoms represents a dictionary of atomic properties.  All data is stored in a single numpy array to minimize memory cost, and properties can be accessed either with controlled methods that account for data types and units or directly through the use of numpy views.\n",
    "\n",
    "The underlying code can be found in [atomman/core/Atoms.py](../../atomman/core/Atoms.py).\n",
    "\n",
    "- - -"
   ]
  },
  {
   "cell_type": "markdown",
   "metadata": {},
   "source": [
    "## Methods\n",
    "\n",
    "- [\\__init__(self, natoms=1, prop={}, prop_dtype=None, nvals=30, data=None, view=None)](atomman.Atoms.__init__.ipynb) -- class initializer.\n",
    "\n",
    "- [\\__str__(self)](atomman.Atoms.__str__.ipynb) -- generates string output of the class.\n",
    "\n",
    "- [\\__getitem__(self, index)](atomman.Atoms.__getitem__.ipynb) -- allows index getting of a subset of Atoms.\n",
    "\n",
    "- [\\__setitem__(self, index)](atomman.Atoms.__setitem__.ipynb) -- allows index setting of a subset of Atoms.\n",
    "\n",
    "- [prop(self, a_id, key, value, dtype)](atomman.Atoms.prop.ipynb) -- primary method for accessing and setting per-atom properties. "
   ]
  },
  {
   "cell_type": "markdown",
   "metadata": {},
   "source": [
    "## Attributes\n",
    "\n",
    "- [natoms](atomman.Atoms.natoms.ipynb) -- the number of atoms in the Atoms instance.\n",
    "\n",
    "- [natypes](atomman.Atoms.natypes.ipynb) -- the number of assigned atom types.\n",
    "\n",
    "- [data](atomman.Atoms.data.ipynb) -- the underlying numpy array used for storing per-atom values.\n",
    "\n",
    "- [view](atomman.Atoms.view.ipynb) -- dictionary of structured views for each assigned property.\n",
    "\n",
    "- [dtype](atomman.Atoms.dtype.ipynb) -- dictionary of data types for each assigned property."
   ]
  },
  {
   "cell_type": "markdown",
   "metadata": {},
   "source": [
    "## Index Getting\n",
    "\n",
    "Indexing can be used to extract a subset of atoms from an Atoms instance as a new Atoms instance. Complex numpy indexing is allowed."
   ]
  },
  {
   "cell_type": "markdown",
   "metadata": {},
   "source": [
    "__Library Imports__"
   ]
  },
  {
   "cell_type": "code",
   "execution_count": 1,
   "metadata": {
    "collapsed": true
   },
   "outputs": [],
   "source": [
    "#External library imports\n",
    "import numpy as np\n",
    "\n",
    "#atomman imports\n",
    "import atomman as am"
   ]
  },
  {
   "cell_type": "code",
   "execution_count": 3,
   "metadata": {
    "collapsed": false
   },
   "outputs": [
    {
     "name": "stdout",
     "output_type": "stream",
     "text": [
      "     id |   atype |  pos[0] |  pos[1] |  pos[2]\n",
      "      0 |       1 |   0.593 |   0.496 |   0.792\n",
      "      1 |       1 |   0.525 |   0.343 |   0.931\n",
      "      2 |       1 |   0.262 |   0.778 |   0.303\n",
      "      3 |       1 |   0.546 |   0.364 |   0.229\n",
      "      4 |       1 |   0.243 |   0.121 |   0.048\n",
      "      5 |       1 |   0.356 |   0.508 |   0.465\n",
      "      6 |       1 |   0.382 |   0.520 |   0.646\n",
      "      7 |       1 |   0.553 |   0.503 |   0.955\n",
      "      8 |       1 |   0.221 |   0.634 |   0.329\n",
      "      9 |       1 |   0.439 |   0.368 |   0.311\n"
     ]
    }
   ],
   "source": [
    "prop_dict = {'atype': 1, 'pos': np.random.rand(10,3)}\n",
    "\n",
    "atoms = am.Atoms(natoms=10, prop=prop_dict)\n",
    "\n",
    "print atoms"
   ]
  },
  {
   "cell_type": "code",
   "execution_count": 4,
   "metadata": {
    "collapsed": false
   },
   "outputs": [
    {
     "name": "stdout",
     "output_type": "stream",
     "text": [
      "     id |   atype |  pos[0] |  pos[1] |  pos[2]\n",
      "      0 |       1 |   0.262 |   0.778 |   0.303\n",
      "      1 |       1 |   0.546 |   0.364 |   0.229\n",
      "      2 |       1 |   0.243 |   0.121 |   0.048\n",
      "      3 |       1 |   0.356 |   0.508 |   0.465\n"
     ]
    }
   ],
   "source": [
    "print atoms[2:6]"
   ]
  },
  {
   "cell_type": "markdown",
   "metadata": {},
   "source": [
    "Note that the Atoms instance created by this still points back to the original Atoms instance. "
   ]
  },
  {
   "cell_type": "code",
   "execution_count": 7,
   "metadata": {
    "collapsed": false
   },
   "outputs": [
    {
     "name": "stdout",
     "output_type": "stream",
     "text": [
      "     id |   atype |  pos[0] |  pos[1] |  pos[2]\n",
      "      0 |       2 |   0.593 |   0.496 |   0.792\n",
      "      1 |       1 |   0.525 |   0.343 |   0.931\n",
      "      2 |       2 |   0.262 |   0.778 |   0.303\n",
      "      3 |       1 |   0.546 |   0.364 |   0.229\n",
      "      4 |       2 |   0.243 |   0.121 |   0.048\n",
      "      5 |       1 |   0.356 |   0.508 |   0.465\n",
      "      6 |       2 |   0.382 |   0.520 |   0.646\n",
      "      7 |       1 |   0.553 |   0.503 |   0.955\n",
      "      8 |       2 |   0.221 |   0.634 |   0.329\n",
      "      9 |       1 |   0.439 |   0.368 |   0.311\n"
     ]
    }
   ],
   "source": [
    "newatoms = atoms[::2]\n",
    "newatoms.prop(key='atype', value=2)\n",
    "\n",
    "print atoms"
   ]
  },
  {
   "cell_type": "markdown",
   "metadata": {},
   "source": [
    "__WARNING!__ Adding new properties should always be done to the base Atoms instance and all subsets regenerated after. Otherwise, issues may arise in property name/value assignment across the different Atoms instances."
   ]
  },
  {
   "cell_type": "code",
   "execution_count": 9,
   "metadata": {
    "collapsed": false
   },
   "outputs": [
    {
     "name": "stdout",
     "output_type": "stream",
     "text": [
      "atoms_1.prop() -> ['atype', 'pos']\n",
      "atoms_2.prop() -> ['atype', 'pos', 'new']\n"
     ]
    }
   ],
   "source": [
    "#Create a new atoms instance and an indexed subset\n",
    "atoms_1 = am.Atoms(natoms = 5, nvals = 5, prop={'atype':[1], 'pos':np.random.rand(5,3)})\n",
    "atoms_2 = atoms_1[2:4]\n",
    "\n",
    "#Assigning new property 'new' to atoms_2\n",
    "atoms_2.prop(key='new', value=[2,2])\n",
    "\n",
    "#atoms_1 doesn't know about 'new'!\n",
    "print \"atoms_1.prop() ->\", atoms_1.prop()\n",
    "print \"atoms_2.prop() ->\", atoms_2.prop()"
   ]
  },
  {
   "cell_type": "code",
   "execution_count": 10,
   "metadata": {
    "collapsed": false
   },
   "outputs": [
    {
     "name": "stdout",
     "output_type": "stream",
     "text": [
      "atoms_1.data->\n",
      "[[ 1.          0.09284612  0.69593793  0.27549518  0.        ]\n",
      " [ 1.          0.25182359  0.45423393  0.85278791  0.        ]\n",
      " [ 1.          0.79078671  0.0105833   0.48605134  2.        ]\n",
      " [ 1.          0.31227212  0.92455567  0.49628717  2.        ]\n",
      " [ 1.          0.51898694  0.47168637  0.68034447  0.        ]]\n"
     ]
    }
   ],
   "source": [
    "#but the values are in atoms_1.data!\n",
    "print \"atoms_1.data->\"\n",
    "print atoms_1.data"
   ]
  },
  {
   "cell_type": "markdown",
   "metadata": {},
   "source": [
    "__Docs Navigation:__\n",
    "\n",
    "Tutorial:\n",
    "\n",
    "1. [Basics](../tutorial/1 Basics.ipynb)\n",
    "\n",
    "2. [LAMMPS Functionality](../tutorial/2 LAMMPS Functionality.ipynb)\n",
    "\n",
    "3. [Defect Generation and Evaluation](../tutorial/3 Defect Generation and Evaluation.ipynb)\n",
    "\n",
    "\n",
    "Reference:\n",
    "\n",
    "- [atomman](../reference/atomman.ipynb)\n",
    "\n",
    "- [atomman.convert](../reference/atomman.convert.ipynb)\n",
    "\n",
    "- [atomman.defect](../reference/atomman.defect.ipynb)\n",
    "\n",
    "- [atomman.lammps](../reference/atomman.lammps.ipynb)\n",
    "\n",
    "- [atomman.tools](../reference/atomman.tools.ipynb)\n",
    "\n",
    "- [atomman.unitconvert](../reference/atomman.unitconvert.ipynb)"
   ]
  }
 ],
 "metadata": {
  "kernelspec": {
   "display_name": "Python 2",
   "language": "python",
   "name": "python2"
  },
  "language_info": {
   "codemirror_mode": {
    "name": "ipython",
    "version": 2
   },
   "file_extension": ".py",
   "mimetype": "text/x-python",
   "name": "python",
   "nbconvert_exporter": "python",
   "pygments_lexer": "ipython2",
   "version": "2.7.11"
  }
 },
 "nbformat": 4,
 "nbformat_minor": 0
}
