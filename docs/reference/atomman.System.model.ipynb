{
 "cells": [
  {
   "cell_type": "markdown",
   "metadata": {
    "deletable": true,
    "editable": true
   },
   "source": [
    "# atomman.System.model(self, \\**kwargs)\n",
    "\n",
    "- - -"
   ]
  },
  {
   "cell_type": "markdown",
   "metadata": {
    "deletable": true,
    "editable": true
   },
   "source": [
    "**Lucas M. Hale**, [lucas.hale@nist.gov](mailto:lucas.hale@nist.gov?Subject=ipr-demo), *Materials Science and Engineering Division, NIST*.\n",
    "\n",
    "**Chandler A. Becker**, [chandler.becker@nist.gov](mailto:chandler.becker@nist.gov?Subject=ipr-demo), *Office of Data and Informatics, NIST*.\n",
    "\n",
    "**Zachary T. Trautt**, [zachary.trautt@nist.gov](mailto:zachary.trautt@nist.gov?Subject=ipr-demo), *Materials Measurement Science Division, NIST*.\n",
    "\n",
    "Version: 2017-04-19\n",
    "\n",
    "[Disclaimers](http://www.nist.gov/public_affairs/disclaimer.cfm) \n",
    " \n",
    "- - -"
   ]
  },
  {
   "cell_type": "markdown",
   "metadata": {
    "deletable": true,
    "editable": true
   },
   "source": [
    "## Introduction\n",
    "\n",
    "The System.model method returns a JSON/XML atomic-system data model as used by atomman and [iprPy](https://github.com/usnistgov/iprPy) for representing simple systems. The data model format gives a full description of all atom properties and their units, however, it is inefficient for large number of atoms. For large systems, creating dump and dump.json files with [atomman.lammps.atom_dump.dump](atomman.lammps.atom_dump.dump.ipynb) is preferable.\n",
    "\n",
    "Keyword Arguments:\n",
    "\n",
    "- __box_unit__ -- length unit to use for the box. Default is angstrom.\n",
    "\n",
    "- __symbols__ -- list of the potential's atom-model symbols corresponding to the atom types. \n",
    "\n",
    "- __elements__ -- list of element tags corresponding to the atom types. \n",
    "\n",
    "- __prop_units__ -- dictionary where the keys are the property keys to include, and the values are units to use. If not given, only the positions in scaled units are included.\n",
    "\n",
    "__DEPRECIATION WARNING__ For consistency, this method is planned to be renamed/moved to atomman.convert.system_model.dump.\n",
    "\n",
    "The underlying code can be found in [atomman/core/System.py](../../atomman/core/System.py)."
   ]
  },
  {
   "cell_type": "markdown",
   "metadata": {
    "deletable": true,
    "editable": true
   },
   "source": [
    "## Demonstration\n",
    "\n",
    "More demonstrations of the different styles can be found in the [load docs Notebook](atomman.load.ipynb)."
   ]
  },
  {
   "cell_type": "markdown",
   "metadata": {
    "deletable": true,
    "editable": true
   },
   "source": [
    "Library Imports"
   ]
  },
  {
   "cell_type": "code",
   "execution_count": 1,
   "metadata": {
    "collapsed": false,
    "deletable": true,
    "editable": true
   },
   "outputs": [],
   "source": [
    "#Standard libraries\n",
    "from __future__ import print_function\n",
    "\n",
    "#http://www.numpy.org/\n",
    "import numpy as np    \n",
    "\n",
    "#https://github.com/usnistgov/atomman\n",
    "import atomman as am        "
   ]
  },
  {
   "cell_type": "markdown",
   "metadata": {
    "deletable": true,
    "editable": true
   },
   "source": [
    "Create a demonstration fcc cell"
   ]
  },
  {
   "cell_type": "code",
   "execution_count": 2,
   "metadata": {
    "collapsed": false,
    "deletable": true,
    "editable": true
   },
   "outputs": [
    {
     "name": "stdout",
     "output_type": "stream",
     "text": [
      "avect =  [ 3.640,  0.000,  0.000]\n",
      "bvect =  [ 0.000,  3.640,  0.000]\n",
      "cvect =  [ 0.000,  0.000,  3.640]\n",
      "origin = [ 0.000,  0.000,  0.000]\n",
      "natoms = 4\n",
      "natypes = 1\n",
      "     id |   atype |  pos[0] |  pos[1] |  pos[2]\n",
      "      0 |       1 |   0.000 |   0.000 |   0.000\n",
      "      1 |       1 |   1.820 |   1.820 |   0.000\n",
      "      2 |       1 |   1.820 |   0.000 |   1.820\n",
      "      3 |       1 |   0.000 |   1.820 |   1.820\n"
     ]
    }
   ],
   "source": [
    "alat = 3.64\n",
    "atype = 1\n",
    "pos = np.array([[0.0, 0.0, 0.0], [0.5, 0.5, 0.0], [0.5, 0.0, 0.5], [0.0, 0.5, 0.5]])\n",
    "\n",
    "atoms = am.Atoms(natoms=len(pos), prop={'atype':atype, 'pos':pos})\n",
    "box = am.Box(a=alat, b=alat, c=alat)\n",
    "system = am.System(atoms=atoms, box=box, scale=True)\n",
    "\n",
    "print(system)"
   ]
  },
  {
   "cell_type": "markdown",
   "metadata": {
    "deletable": true,
    "editable": true
   },
   "source": [
    "Add new per-atom property"
   ]
  },
  {
   "cell_type": "code",
   "execution_count": 3,
   "metadata": {
    "collapsed": true,
    "deletable": true,
    "editable": true
   },
   "outputs": [],
   "source": [
    "system.atoms_prop(key='myproperty', value=[0.25, 0.0, 0.5, 0.75])"
   ]
  },
  {
   "cell_type": "markdown",
   "metadata": {
    "deletable": true,
    "editable": true
   },
   "source": [
    "### Call System.model with no arguments\n",
    "\n",
    "- cell (box) parameters are in Angstroms\n",
    "\n",
    "- no element information included\n",
    "\n",
    "- only atomic positions in scaled units shown"
   ]
  },
  {
   "cell_type": "code",
   "execution_count": 4,
   "metadata": {
    "collapsed": false,
    "deletable": true,
    "editable": true
   },
   "outputs": [
    {
     "name": "stdout",
     "output_type": "stream",
     "text": [
      "{\n",
      "    \"atomic-system\": {\n",
      "        \"cell\": {\n",
      "            \"cubic\": {\n",
      "                \"a\": {\n",
      "                    \"value\": 3.64, \n",
      "                    \"unit\": \"angstrom\"\n",
      "                }\n",
      "            }\n",
      "        }, \n",
      "        \"atom\": [\n",
      "            {\n",
      "                \"component\": 1, \n",
      "                \"position\": {\n",
      "                    \"value\": [\n",
      "                        0.0, \n",
      "                        0.0, \n",
      "                        0.0\n",
      "                    ], \n",
      "                    \"unit\": \"scaled\"\n",
      "                }\n",
      "            }, \n",
      "            {\n",
      "                \"component\": 1, \n",
      "                \"position\": {\n",
      "                    \"value\": [\n",
      "                        0.49999999999999994, \n",
      "                        0.49999999999999994, \n",
      "                        0.0\n",
      "                    ], \n",
      "                    \"unit\": \"scaled\"\n",
      "                }\n",
      "            }, \n",
      "            {\n",
      "                \"component\": 1, \n",
      "                \"position\": {\n",
      "                    \"value\": [\n",
      "                        0.49999999999999994, \n",
      "                        0.0, \n",
      "                        0.49999999999999994\n",
      "                    ], \n",
      "                    \"unit\": \"scaled\"\n",
      "                }\n",
      "            }, \n",
      "            {\n",
      "                \"component\": 1, \n",
      "                \"position\": {\n",
      "                    \"value\": [\n",
      "                        0.0, \n",
      "                        0.49999999999999994, \n",
      "                        0.49999999999999994\n",
      "                    ], \n",
      "                    \"unit\": \"scaled\"\n",
      "                }\n",
      "            }\n",
      "        ]\n",
      "    }\n",
      "}\n"
     ]
    }
   ],
   "source": [
    "model = system.model()\n",
    "print(model.json(indent=4))"
   ]
  },
  {
   "cell_type": "markdown",
   "metadata": {
    "deletable": true,
    "editable": true
   },
   "source": [
    "### Call System.model with arguments\n",
    "\n",
    "- specify that cell (box) parameters are in nm\n",
    "\n",
    "- elements and symbols are given and included\n",
    "\n",
    "- positions and properties with units are given"
   ]
  },
  {
   "cell_type": "code",
   "execution_count": 5,
   "metadata": {
    "collapsed": false,
    "deletable": true,
    "editable": true
   },
   "outputs": [
    {
     "name": "stdout",
     "output_type": "stream",
     "text": [
      "{\n",
      "    \"atomic-system\": {\n",
      "        \"cell\": {\n",
      "            \"cubic\": {\n",
      "                \"a\": {\n",
      "                    \"value\": 0.36400000000000005, \n",
      "                    \"unit\": \"nm\"\n",
      "                }\n",
      "            }\n",
      "        }, \n",
      "        \"atom\": [\n",
      "            {\n",
      "                \"component\": 1, \n",
      "                \"symbol\": \"Ag0\", \n",
      "                \"element\": \"Ag\", \n",
      "                \"position\": {\n",
      "                    \"value\": [\n",
      "                        0.0, \n",
      "                        0.0, \n",
      "                        0.0\n",
      "                    ], \n",
      "                    \"unit\": \"nm\"\n",
      "                }, \n",
      "                \"property\": {\n",
      "                    \"name\": \"myproperty\", \n",
      "                    \"value\": 0.25, \n",
      "                    \"unit\": \"eV\"\n",
      "                }\n",
      "            }, \n",
      "            {\n",
      "                \"component\": 1, \n",
      "                \"symbol\": \"Ag0\", \n",
      "                \"element\": \"Ag\", \n",
      "                \"position\": {\n",
      "                    \"value\": [\n",
      "                        0.182, \n",
      "                        0.182, \n",
      "                        0.0\n",
      "                    ], \n",
      "                    \"unit\": \"nm\"\n",
      "                }, \n",
      "                \"property\": {\n",
      "                    \"name\": \"myproperty\", \n",
      "                    \"value\": 0.0, \n",
      "                    \"unit\": \"eV\"\n",
      "                }\n",
      "            }, \n",
      "            {\n",
      "                \"component\": 1, \n",
      "                \"symbol\": \"Ag0\", \n",
      "                \"element\": \"Ag\", \n",
      "                \"position\": {\n",
      "                    \"value\": [\n",
      "                        0.182, \n",
      "                        0.0, \n",
      "                        0.182\n",
      "                    ], \n",
      "                    \"unit\": \"nm\"\n",
      "                }, \n",
      "                \"property\": {\n",
      "                    \"name\": \"myproperty\", \n",
      "                    \"value\": 0.5, \n",
      "                    \"unit\": \"eV\"\n",
      "                }\n",
      "            }, \n",
      "            {\n",
      "                \"component\": 1, \n",
      "                \"symbol\": \"Ag0\", \n",
      "                \"element\": \"Ag\", \n",
      "                \"position\": {\n",
      "                    \"value\": [\n",
      "                        0.0, \n",
      "                        0.182, \n",
      "                        0.182\n",
      "                    ], \n",
      "                    \"unit\": \"nm\"\n",
      "                }, \n",
      "                \"property\": {\n",
      "                    \"name\": \"myproperty\", \n",
      "                    \"value\": 0.75, \n",
      "                    \"unit\": \"eV\"\n",
      "                }\n",
      "            }\n",
      "        ]\n",
      "    }\n",
      "}\n"
     ]
    }
   ],
   "source": [
    "elements = ['Ag']\n",
    "symbols = ['Ag0']\n",
    "prop_units = {'pos':'nm', 'myproperty':'eV'}\n",
    "\n",
    "model = system.model(box_unit='nm', \n",
    "                     elements=elements,\n",
    "                     symbols=symbols,\n",
    "                     prop_units=prop_units)\n",
    "\n",
    "print(model.json(indent=4))"
   ]
  },
  {
   "cell_type": "markdown",
   "metadata": {
    "collapsed": true,
    "deletable": true,
    "editable": true
   },
   "source": [
    "- - -\n",
    "__Docs Navigation:__\n",
    "\n",
    "Tutorial:\n",
    "\n",
    "1. [Basics](../tutorial/1 Basics.ipynb)\n",
    "\n",
    "2. [LAMMPS Functionality](../tutorial/2 LAMMPS Functionality.ipynb)\n",
    "\n",
    "3. [Defect Generation and Evaluation](../tutorial/3 Defect Generation and Evaluation.ipynb)\n",
    "\n",
    "\n",
    "Reference:\n",
    "\n",
    "- [atomman](../reference/atomman.ipynb)\n",
    "\n",
    "- [atomman.convert](../reference/atomman.convert.ipynb)\n",
    "\n",
    "- [atomman.defect](../reference/atomman.defect.ipynb)\n",
    "\n",
    "- [atomman.lammps](../reference/atomman.lammps.ipynb)\n",
    "\n",
    "- [atomman.tools](../reference/atomman.tools.ipynb)\n",
    "\n",
    "- [atomman.unitconvert](../reference/atomman.unitconvert.ipynb)"
   ]
  }
 ],
 "metadata": {
  "kernelspec": {
   "display_name": "Python 2",
   "language": "python",
   "name": "python2"
  },
  "language_info": {
   "codemirror_mode": {
    "name": "ipython",
    "version": 2
   },
   "file_extension": ".py",
   "mimetype": "text/x-python",
   "name": "python",
   "nbconvert_exporter": "python",
   "pygments_lexer": "ipython2",
   "version": "2.7.13"
  }
 },
 "nbformat": 4,
 "nbformat_minor": 0
}
