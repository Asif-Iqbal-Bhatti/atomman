{
 "cells": [
  {
   "cell_type": "markdown",
   "metadata": {},
   "source": [
    "# atomman.tools.is_int(value)\n",
    "\n",
    "- - -"
   ]
  },
  {
   "cell_type": "markdown",
   "metadata": {},
   "source": [
    "**Lucas M. Hale**, [lucas.hale@nist.gov](mailto:lucas.hale@nist.gov?Subject=ipr-demo), *Materials Science and Engineering Division, NIST*.\n",
    "\n",
    "**Chandler A. Becker**, [chandler.becker@nist.gov](mailto:chandler.becker@nist.gov?Subject=ipr-demo), *Office of Data and Informatics, NIST*.\n",
    "\n",
    "**Zachary T. Trautt**, [zachary.trautt@nist.gov](mailto:zachary.trautt@nist.gov?Subject=ipr-demo), *Materials Measurement Science Division, NIST*.\n",
    "\n",
    "Version: 2016-09-02\n",
    "\n",
    "[Disclaimers](http://www.nist.gov/public_affairs/disclaimer.cfm) \n",
    " \n",
    "- - -"
   ]
  },
  {
   "cell_type": "markdown",
   "metadata": {},
   "source": [
    "## Introduction\n",
    "\n",
    "The is_int function determines if a value is of any integer type (standard or numpy based). \n",
    "\n",
    "Arguments:\n",
    "\n",
    "- __value__ -- value that is being checked.\n",
    "\n",
    "The underlying code can be found in [atomman/tools/istypes.py](../../atomman/tools/istypes.py)."
   ]
  },
  {
   "cell_type": "markdown",
   "metadata": {},
   "source": [
    "## Demonstration"
   ]
  },
  {
   "cell_type": "code",
   "execution_count": 1,
   "metadata": {
    "collapsed": false
   },
   "outputs": [],
   "source": [
    "import atomman as am\n",
    "import numpy as np"
   ]
  },
  {
   "cell_type": "markdown",
   "metadata": {
    "collapsed": false
   },
   "source": [
    "This function is useful when you are expecting an integer value, but don't know if it will be a standard Python type or a numpy type."
   ]
  },
  {
   "cell_type": "code",
   "execution_count": 2,
   "metadata": {
    "collapsed": false
   },
   "outputs": [],
   "source": [
    "values = [52,                             #integer\n",
    "          52L,                            #long integer\n",
    "          [52],                           #List with one integer\n",
    "          np.array(52, dtype='int32'),    #numpy 0D array with 32bit integer\n",
    "          np.array(52, dtype='int64'),    #numpy 0D array with 64bit integer\n",
    "          np.array([52], dtype='int64'),  #numpy 1D array with 64bit integer\n",
    "          True,                           #Boolean\n",
    "          [True],                         #List with one Boolean\n",
    "          np.array(False),                #numpy 0D array with Boolean\n",
    "          np.array([False]),              #numpy 1D array with Boolean\n",
    "          52.0,                           #float\n",
    "          np.array(52, dtype='float64'),  #numpy 64bit float\n",
    "         '52',                            #string\n",
    "          np.array('52')]                 #numpy string"
   ]
  },
  {
   "cell_type": "markdown",
   "metadata": {},
   "source": [
    "am.tools.is_int returns True for any and only int data types "
   ]
  },
  {
   "cell_type": "code",
   "execution_count": 3,
   "metadata": {
    "collapsed": false
   },
   "outputs": [
    {
     "name": "stdout",
     "output_type": "stream",
     "text": [
      "Testing am.tools.is_int(value):\n",
      "\n",
      "value                          return\n",
      "-------------------------------------\n",
      "52                             True\n",
      "52L                            True\n",
      "[52]                           False\n",
      "array(52)                      True\n",
      "array(52L, dtype=int64)        True\n",
      "array([52], dtype=int64)       False\n",
      "True                           False\n",
      "[True]                         False\n",
      "array(False, dtype=bool)       False\n",
      "array([False], dtype=bool)     False\n",
      "52.0                           False\n",
      "array(52.0)                    False\n",
      "'52'                           False\n",
      "array('52', \n",
      "      dtype='|S2') False\n"
     ]
    }
   ],
   "source": [
    "print \"Testing am.tools.is_int(value):\"\n",
    "print\n",
    "print \"%-30s %s\" %('value', 'return')\n",
    "print '-------------------------------------'\n",
    "for value in values:\n",
    "    print '%-30s %s' % (repr(value), am.tools.is_int(value))"
   ]
  },
  {
   "cell_type": "markdown",
   "metadata": {
    "collapsed": true
   },
   "source": [
    "- - -\n",
    "__Docs Navigation:__\n",
    "\n",
    "Tutorial:\n",
    "\n",
    "1. [Basics](../tutorial/1 Basics.ipynb)\n",
    "\n",
    "2. [LAMMPS Functionality](../tutorial/2 LAMMPS Functionality.ipynb)\n",
    "\n",
    "3. [Defect Generation and Evaluation](../tutorial/3 Defect Generation and Evaluation.ipynb)\n",
    "\n",
    "\n",
    "Reference:\n",
    "\n",
    "- [atomman](../reference/atomman.ipynb)\n",
    "\n",
    "- [atomman.convert](../reference/atomman.convert.ipynb)\n",
    "\n",
    "- [atomman.defect](../reference/atomman.defect.ipynb)\n",
    "\n",
    "- [atomman.lammps](../reference/atomman.lammps.ipynb)\n",
    "\n",
    "- [atomman.tools](../reference/atomman.tools.ipynb)\n",
    "\n",
    "- [atomman.unitconvert](../reference/atomman.unitconvert.ipynb)"
   ]
  }
 ],
 "metadata": {
  "kernelspec": {
   "display_name": "Python 2",
   "language": "python",
   "name": "python2"
  },
  "language_info": {
   "codemirror_mode": {
    "name": "ipython",
    "version": 2
   },
   "file_extension": ".py",
   "mimetype": "text/x-python",
   "name": "python",
   "nbconvert_exporter": "python",
   "pygments_lexer": "ipython2",
   "version": "2.7.11"
  }
 },
 "nbformat": 4,
 "nbformat_minor": 0
}
