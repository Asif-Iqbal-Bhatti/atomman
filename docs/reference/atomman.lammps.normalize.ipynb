{
 "cells": [
  {
   "cell_type": "markdown",
   "metadata": {
    "deletable": true,
    "editable": true
   },
   "source": [
    "# atomman.lammps.normalize(system)\n",
    "\n",
    "- - -"
   ]
  },
  {
   "cell_type": "markdown",
   "metadata": {
    "deletable": true,
    "editable": true
   },
   "source": [
    "**Lucas M. Hale**, [lucas.hale@nist.gov](mailto:lucas.hale@nist.gov?Subject=ipr-demo), *Materials Science and Engineering Division, NIST*.\n",
    "\n",
    "**Chandler A. Becker**, [chandler.becker@nist.gov](mailto:chandler.becker@nist.gov?Subject=ipr-demo), *Office of Data and Informatics, NIST*.\n",
    "\n",
    "**Zachary T. Trautt**, [zachary.trautt@nist.gov](mailto:zachary.trautt@nist.gov?Subject=ipr-demo), *Materials Measurement Science Division, NIST*.\n",
    "\n",
    "Version: 2017-04-19\n",
    "\n",
    "[Disclaimers](http://www.nist.gov/public_affairs/disclaimer.cfm) \n",
    " \n",
    "- - -"
   ]
  },
  {
   "cell_type": "markdown",
   "metadata": {
    "deletable": true,
    "editable": true
   },
   "source": [
    "## Introduction\n",
    "\n",
    "The normalize function returns a new System identical to an existing one but with Box vectors and atomic positions transformed to be compatible with LAMMPS. All atom positions are adjusted to be within the box ([wrapped](atomman.System.wrap.ipynb)) and System.box's vectors transformed to be compatible. This function is called by the [System.normalize](atomman.System.normalize.ipynb) method with style='lammps'.\n",
    "\n",
    "Arguments:\n",
    "\n",
    "- __system__ -- a [System](atomman.System) to transform into a LAMMPS compatible System. \n",
    "\n",
    "In LAMMPS, the Box vectors must conform to the following rules:\n",
    "\n",
    "    avect = [ lx, 0.0, 0.0]\n",
    "    bvect = [ xy,  ly, 0.0]\n",
    "    cvect = [ xz,  yz,  lz]\n",
    "    avect, bvect, cvect are right-handed.\n",
    "    \n",
    "__WARNING!__ Tilt factors are not tested for compliance with LAMMPS. If large angles/tilt factors are present, the command \"box tilt large\" may be required in the LAMMPS input script.\n",
    "\n",
    "The underlying code can be found in [atomman/lammps/normalize.py](../../atomman/lammps/normalize.py)."
   ]
  },
  {
   "cell_type": "markdown",
   "metadata": {
    "deletable": true,
    "editable": true
   },
   "source": [
    "## Demonstration"
   ]
  },
  {
   "cell_type": "code",
   "execution_count": 1,
   "metadata": {
    "collapsed": false,
    "deletable": true,
    "editable": true
   },
   "outputs": [],
   "source": [
    "#Standard libraries\n",
    "from __future__ import print_function\n",
    "from copy import deepcopy\n",
    "\n",
    "#http://www.numpy.org/\n",
    "import numpy as np   \n",
    "\n",
    "#https://github.com/usnistgov/atomman\n",
    "import atomman as am \n",
    "import atomman.lammps as lmp"
   ]
  },
  {
   "cell_type": "markdown",
   "metadata": {
    "deletable": true,
    "editable": true
   },
   "source": [
    "### Normalize a messy random System"
   ]
  },
  {
   "cell_type": "markdown",
   "metadata": {
    "deletable": true,
    "editable": true
   },
   "source": [
    "Create a messy test system with atoms outside bounds and random box vectors"
   ]
  },
  {
   "cell_type": "code",
   "execution_count": 2,
   "metadata": {
    "collapsed": false,
    "deletable": true,
    "editable": true
   },
   "outputs": [
    {
     "name": "stdout",
     "output_type": "stream",
     "text": [
      "avect =  [ 0.453,  4.099,  0.809]\n",
      "bvect =  [ 4.732,  4.759,  3.333]\n",
      "cvect =  [ 4.441,  4.816,  4.733]\n",
      "origin = [ 5.000,  5.000,  5.000]\n",
      "natoms = 10\n",
      "natypes = 1\n",
      "     id |   atype |  pos[0] |  pos[1] |  pos[2]\n",
      "      0 |       1 |   7.727 |   0.799 |   8.572\n",
      "      1 |       1 |   5.507 |   7.011 |   7.823\n",
      "      2 |       1 |   3.739 |   2.585 |   0.072\n",
      "      3 |       1 |   1.896 |   6.415 |   1.646\n",
      "      4 |       1 |   7.175 |   8.376 |   8.316\n",
      "      5 |       1 |   5.546 |   5.167 |   9.580\n",
      "      6 |       1 |   5.604 |   2.060 |   5.635\n",
      "      7 |       1 |   8.069 |   8.857 |   5.350\n",
      "      8 |       1 |   4.671 |   6.030 |   3.964\n",
      "      9 |       1 |   2.053 |   7.198 |   7.285\n"
     ]
    }
   ],
   "source": [
    "atoms = am.Atoms(natoms=10, prop={'atype':1, 'pos':10*np.random.random((10,3))})\n",
    "box = am.Box(vects=5*np.random.random((3,3)), origin=(5, 5, 5))\n",
    "\n",
    "system = am.System(atoms=atoms, box=box)\n",
    "print(system)"
   ]
  },
  {
   "cell_type": "markdown",
   "metadata": {
    "deletable": true,
    "editable": true
   },
   "source": [
    "Create a new normalized system"
   ]
  },
  {
   "cell_type": "code",
   "execution_count": 3,
   "metadata": {
    "collapsed": false,
    "deletable": true,
    "editable": true
   },
   "outputs": [
    {
     "name": "stdout",
     "output_type": "stream",
     "text": [
      "avect =  [ 4.202,  0.000,  0.000]\n",
      "bvect =  [ 5.793,  4.752,  0.000]\n",
      "cvect =  [-6.087, -5.143,  1.344]\n",
      "origin = [ 0.000,  0.000,  0.000]\n",
      "natoms = 10\n",
      "natypes = 1\n",
      "     id |   atype |  pos[0] |  pos[1] |  pos[2]\n",
      "      0 |       1 |   3.109 |  -0.721 |   0.456\n",
      "      1 |       1 |   1.971 |   0.597 |   0.734\n",
      "      2 |       1 |   1.350 |  -2.155 |   0.666\n",
      "      3 |       1 |   2.285 |   0.629 |   0.191\n",
      "      4 |       1 |  -2.216 |  -2.739 |   1.287\n",
      "      5 |       1 |   4.423 |   1.406 |   0.367\n",
      "      6 |       1 |   5.430 |   0.980 |   0.751\n",
      "      7 |       1 |   4.454 |   2.483 |   0.310\n",
      "      8 |       1 |   0.769 |  -0.961 |   0.852\n",
      "      9 |       1 |  -2.819 |  -3.065 |   0.867\n"
     ]
    }
   ],
   "source": [
    "lammps_system = lmp.normalize(system)\n",
    "print(lammps_system)"
   ]
  },
  {
   "cell_type": "markdown",
   "metadata": {
    "deletable": true,
    "editable": true
   },
   "source": [
    "### Check that the cell parameters of the original and normalized systems match\n",
    "\n",
    "Lattice parameters match, and lattice angles will either match or old+new values add up to 180."
   ]
  },
  {
   "cell_type": "code",
   "execution_count": 4,
   "metadata": {
    "collapsed": false,
    "deletable": true,
    "editable": true
   },
   "outputs": [
    {
     "name": "stdout",
     "output_type": "stream",
     "text": [
      "a = 4.2022469878\n",
      "b = 7.49291906406\n",
      "c = 8.08158703523\n",
      "alpha = 9.6081073828\n",
      "beta = 41.1271397532\n",
      "gamma = 39.3626610002\n"
     ]
    }
   ],
   "source": [
    "print('a =',     system.box.a)\n",
    "print('b =',     system.box.b)\n",
    "print('c =',     system.box.c)\n",
    "print('alpha =', system.box.alpha)\n",
    "print('beta =',  system.box.beta)\n",
    "print('gamma =', system.box.gamma)"
   ]
  },
  {
   "cell_type": "code",
   "execution_count": 5,
   "metadata": {
    "collapsed": false,
    "deletable": true,
    "editable": true
   },
   "outputs": [
    {
     "name": "stdout",
     "output_type": "stream",
     "text": [
      "a = 4.2022469878\n",
      "b = 7.49291906406\n",
      "c = 8.08158703523\n",
      "alpha = 170.391892617\n",
      "beta = 138.872860247\n",
      "gamma = 39.3626610002\n"
     ]
    }
   ],
   "source": [
    "print('a =',     lammps_system.box.a)\n",
    "print('b =',     lammps_system.box.b)\n",
    "print('c =',     lammps_system.box.c)\n",
    "print('alpha =', lammps_system.box.alpha)\n",
    "print('beta =',  lammps_system.box.beta)\n",
    "print('gamma =', lammps_system.box.gamma)"
   ]
  },
  {
   "cell_type": "markdown",
   "metadata": {
    "deletable": true,
    "editable": true
   },
   "source": [
    "### Check that relative atom positions are consistent and in the Box"
   ]
  },
  {
   "cell_type": "markdown",
   "metadata": {
    "deletable": true,
    "editable": true
   },
   "source": [
    "The original System has atoms outide the System's Box (scaled positions not between 0 and 1)"
   ]
  },
  {
   "cell_type": "code",
   "execution_count": 6,
   "metadata": {
    "collapsed": false,
    "deletable": true,
    "editable": true
   },
   "outputs": [
    {
     "name": "stdout",
     "output_type": "stream",
     "text": [
      "[[-2.06563697 -0.78428488  1.66050582]\n",
      " [ 0.27203437 -1.28327662  1.45387084]\n",
      " [-0.07489802  2.08244061 -2.49522468]\n",
      " [ 1.3552108   0.28574628 -1.14179697]\n",
      " [ 0.22575103 -0.54046121  1.04273572]\n",
      " [-0.36725021 -2.40874706  2.7271223 ]\n",
      " [-1.01617336 -0.18918711  0.44127275]\n",
      " [ 0.32964756  1.77197157 -1.23050875]\n",
      " [ 0.43450363  0.48384086 -0.63398745]\n",
      " [ 1.19041172 -2.94699695  2.3550335 ]]\n"
     ]
    }
   ],
   "source": [
    "print(system.atoms_prop(key='pos', scale=True))"
   ]
  },
  {
   "cell_type": "markdown",
   "metadata": {
    "deletable": true,
    "editable": true
   },
   "source": [
    "Wrapping the system corrects this"
   ]
  },
  {
   "cell_type": "code",
   "execution_count": 7,
   "metadata": {
    "collapsed": false,
    "deletable": true,
    "editable": true
   },
   "outputs": [
    {
     "name": "stdout",
     "output_type": "stream",
     "text": [
      "[[ 0.93436303  0.21571512  0.66050582]\n",
      " [ 0.27203437  0.71672338  0.45387084]\n",
      " [ 0.92510198  0.08244061  0.50477532]\n",
      " [ 0.3552108   0.28574628  0.85820303]\n",
      " [ 0.22575103  0.45953879  0.04273572]\n",
      " [ 0.63274979  0.59125294  0.7271223 ]\n",
      " [ 0.98382664  0.81081289  0.44127275]\n",
      " [ 0.32964756  0.77197157  0.76949125]\n",
      " [ 0.43450363  0.48384086  0.36601255]\n",
      " [ 0.19041172  0.05300305  0.3550335 ]]\n"
     ]
    }
   ],
   "source": [
    "system.wrap()\n",
    "print(system.atoms_prop(key='pos', scale=True))"
   ]
  },
  {
   "cell_type": "markdown",
   "metadata": {
    "deletable": true,
    "editable": true
   },
   "source": [
    "The lammps normalized System has atomic positions consistent with the wrapped System. The relative z coordinates may be flipped if the original box vectors were left-handed."
   ]
  },
  {
   "cell_type": "code",
   "execution_count": 8,
   "metadata": {
    "collapsed": false,
    "deletable": true,
    "editable": true
   },
   "outputs": [
    {
     "name": "stdout",
     "output_type": "stream",
     "text": [
      "[[ 0.93436303  0.21571512  0.33949418]\n",
      " [ 0.27203437  0.71672338  0.54612916]\n",
      " [ 0.92510198  0.08244061  0.49522468]\n",
      " [ 0.3552108   0.28574628  0.14179697]\n",
      " [ 0.22575103  0.45953879  0.95726428]\n",
      " [ 0.63274979  0.59125294  0.2728777 ]\n",
      " [ 0.98382664  0.81081289  0.55872725]\n",
      " [ 0.32964756  0.77197157  0.23050875]\n",
      " [ 0.43450363  0.48384086  0.63398745]\n",
      " [ 0.19041172  0.05300305  0.6449665 ]]\n"
     ]
    }
   ],
   "source": [
    "print(lammps_system.atoms_prop(key='pos', scale=True))"
   ]
  },
  {
   "cell_type": "markdown",
   "metadata": {
    "deletable": true,
    "editable": true
   },
   "source": [
    "- - -\n",
    "__Docs Navigation:__\n",
    "\n",
    "Tutorial:\n",
    "\n",
    "1. [Basics](../tutorial/1 Basics.ipynb)\n",
    "\n",
    "2. [LAMMPS Functionality](../tutorial/2 LAMMPS Functionality.ipynb)\n",
    "\n",
    "3. [Defect Generation and Evaluation](../tutorial/3 Defect Generation and Evaluation.ipynb)\n",
    "\n",
    "\n",
    "Reference:\n",
    "\n",
    "- [atomman](../reference/atomman.ipynb)\n",
    "\n",
    "- [atomman.convert](../reference/atomman.convert.ipynb)\n",
    "\n",
    "- [atomman.defect](../reference/atomman.defect.ipynb)\n",
    "\n",
    "- [atomman.lammps](../reference/atomman.lammps.ipynb)\n",
    "\n",
    "- [atomman.tools](../reference/atomman.tools.ipynb)\n",
    "\n",
    "- [atomman.unitconvert](../reference/atomman.unitconvert.ipynb)"
   ]
  }
 ],
 "metadata": {
  "kernelspec": {
   "display_name": "Python 2",
   "language": "python",
   "name": "python2"
  },
  "language_info": {
   "codemirror_mode": {
    "name": "ipython",
    "version": 2
   },
   "file_extension": ".py",
   "mimetype": "text/x-python",
   "name": "python",
   "nbconvert_exporter": "python",
   "pygments_lexer": "ipython2",
   "version": "2.7.13"
  }
 },
 "nbformat": 4,
 "nbformat_minor": 0
}
