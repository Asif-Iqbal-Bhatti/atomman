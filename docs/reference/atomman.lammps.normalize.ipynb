{
 "cells": [
  {
   "cell_type": "markdown",
   "metadata": {},
   "source": [
    "# atomman.lammps.normalize(system)\n",
    "\n",
    "- - -"
   ]
  },
  {
   "cell_type": "markdown",
   "metadata": {},
   "source": [
    "**Lucas M. Hale**, [lucas.hale@nist.gov](mailto:lucas.hale@nist.gov?Subject=ipr-demo), *Materials Science and Engineering Division, NIST*.\n",
    "\n",
    "**Chandler A. Becker**, [chandler.becker@nist.gov](mailto:chandler.becker@nist.gov?Subject=ipr-demo), *Office of Data and Informatics, NIST*.\n",
    "\n",
    "**Zachary T. Trautt**, [zachary.trautt@nist.gov](mailto:zachary.trautt@nist.gov?Subject=ipr-demo), *Materials Measurement Science Division, NIST*.\n",
    "\n",
    "Version: 2016-09-02\n",
    "\n",
    "[Disclaimers](http://www.nist.gov/public_affairs/disclaimer.cfm) \n",
    " \n",
    "- - -"
   ]
  },
  {
   "cell_type": "markdown",
   "metadata": {},
   "source": [
    "## Introduction\n",
    "\n",
    "The normalize function returns a new System identical to an existing one but with Box vectors and atomic positions transformed to be compatible with LAMMPS. All atom positions are adjusted to be within the box ([wrapped](atomman.System.wrap.ipynb)) and System.box's vectors transformed to be compatible. This function is called by the [System.normalize](atomman.System.normalize.ipynb) method with style='lammps'.\n",
    "\n",
    "Arguments:\n",
    "\n",
    "- __system__ -- a [System](atomman.System) to transform into a LAMMPS compatible System. \n",
    "\n",
    "In LAMMPS, the Box vectors must conform to the following rules:\n",
    "\n",
    "    avect = [ lx, 0.0, 0.0]\n",
    "    bvect = [ xy,  ly, 0.0]\n",
    "    cvect = [ xz,  yz,  lz]\n",
    "    avect, bvect, cvect are right-handed.\n",
    "    \n",
    "__WARNING!__ Tilt factors are not tested for compliance with LAMMPS. If large angles/tilt factors are present, the command \"box tilt large\" may be required in the LAMMPS input script.\n",
    "\n",
    "The underlying code can be found in [atomman/lammps/normalize.py](../../atomman/lammps/normalize.py)."
   ]
  },
  {
   "cell_type": "markdown",
   "metadata": {},
   "source": [
    "## Demonstration"
   ]
  },
  {
   "cell_type": "code",
   "execution_count": 1,
   "metadata": {
    "collapsed": false
   },
   "outputs": [],
   "source": [
    "from copy import deepcopy\n",
    "\n",
    "#External library imports\n",
    "import numpy as np\n",
    "\n",
    "#atomman imports\n",
    "import atomman as am\n",
    "import atomman.lammps as lmp"
   ]
  },
  {
   "cell_type": "markdown",
   "metadata": {},
   "source": [
    "### Normalize a messy random System"
   ]
  },
  {
   "cell_type": "markdown",
   "metadata": {},
   "source": [
    "Create a messy test system with atoms outside bounds and random box vectors"
   ]
  },
  {
   "cell_type": "code",
   "execution_count": 2,
   "metadata": {
    "collapsed": false
   },
   "outputs": [
    {
     "name": "stdout",
     "output_type": "stream",
     "text": [
      "avect =  [ 1.033,  4.506,  0.678]\n",
      "bvect =  [ 4.516,  1.386,  2.780]\n",
      "cvect =  [ 2.828,  1.152,  4.189]\n",
      "origin = [ 5.000,  5.000,  5.000]\n",
      "natoms = 10\n",
      "natypes = 1\n",
      "     id |   atype |  pos[0] |  pos[1] |  pos[2]\n",
      "      0 |       1 |   0.853 |   8.200 |   5.671\n",
      "      1 |       1 |   4.785 |   4.057 |   9.536\n",
      "      2 |       1 |   7.440 |   7.229 |   0.735\n",
      "      3 |       1 |   1.097 |   5.371 |   9.550\n",
      "      4 |       1 |   1.974 |   7.317 |   2.994\n",
      "      5 |       1 |   8.009 |   2.150 |   7.080\n",
      "      6 |       1 |   2.828 |   9.541 |   6.974\n",
      "      7 |       1 |   0.345 |   1.261 |   4.798\n",
      "      8 |       1 |   1.521 |   6.633 |   8.956\n",
      "      9 |       1 |   6.968 |   9.607 |   0.617\n"
     ]
    }
   ],
   "source": [
    "atoms = am.Atoms(natoms=10, prop={'atype':1, 'pos':10*np.random.random((10,3))})\n",
    "box = am.Box(vects=5*np.random.random((3,3)), origin=(5, 5, 5))\n",
    "\n",
    "system = am.System(atoms=atoms, box=box)\n",
    "print system"
   ]
  },
  {
   "cell_type": "markdown",
   "metadata": {},
   "source": [
    "Create a new normalized system"
   ]
  },
  {
   "cell_type": "code",
   "execution_count": 3,
   "metadata": {
    "collapsed": false
   },
   "outputs": [
    {
     "name": "stdout",
     "output_type": "stream",
     "text": [
      "avect =  [ 4.673,  0.000,  0.000]\n",
      "bvect =  [ 2.739,  4.748,  0.000]\n",
      "cvect =  [-2.344, -4.127,  2.086]\n",
      "origin = [ 0.000,  0.000,  0.000]\n",
      "natoms = 10\n",
      "natypes = 1\n",
      "     id |   atype |  pos[0] |  pos[1] |  pos[2]\n",
      "      0 |       1 |   3.056 |  -2.682 |   1.461\n",
      "      1 |       1 |   5.164 |   3.591 |   0.183\n",
      "      2 |       1 |   4.019 |   2.786 |   0.759\n",
      "      3 |       1 |   1.340 |   0.834 |   0.342\n",
      "      4 |       1 |   4.014 |   0.637 |   0.150\n",
      "      5 |       1 |   0.547 |   0.148 |   1.859\n",
      "      6 |       1 |   0.303 |  -0.756 |   1.393\n",
      "      7 |       1 |   0.798 |  -1.705 |   1.880\n",
      "      8 |       1 |   2.565 |   0.552 |   1.081\n",
      "      9 |       1 |   1.519 |   1.709 |   0.633\n"
     ]
    }
   ],
   "source": [
    "lammps_system = lmp.normalize(system)\n",
    "print lammps_system"
   ]
  },
  {
   "cell_type": "markdown",
   "metadata": {},
   "source": [
    "### Check that the cell parameters of the original and normalized systems match\n",
    "\n",
    "Lattice parameters match, and lattice angles will either match or old+new values add up to 180."
   ]
  },
  {
   "cell_type": "code",
   "execution_count": 4,
   "metadata": {
    "collapsed": false
   },
   "outputs": [
    {
     "name": "stdout",
     "output_type": "stream",
     "text": [
      "a = 4.6726922553\n",
      "b = 5.48140547354\n",
      "c = 5.18405090082\n",
      "alpha = 23.7288916622\n",
      "beta = 63.119322658\n",
      "gamma = 60.0218920281\n"
     ]
    }
   ],
   "source": [
    "print 'a =',     system.box.a\n",
    "print 'b =',     system.box.b\n",
    "print 'c =',     system.box.c\n",
    "print 'alpha =', system.box.alpha\n",
    "print 'beta =',  system.box.beta\n",
    "print 'gamma =', system.box.gamma"
   ]
  },
  {
   "cell_type": "code",
   "execution_count": 5,
   "metadata": {
    "collapsed": false
   },
   "outputs": [
    {
     "name": "stdout",
     "output_type": "stream",
     "text": [
      "a = 4.6726922553\n",
      "b = 5.48140547354\n",
      "c = 5.18405090082\n",
      "alpha = 156.271108338\n",
      "beta = 116.880677342\n",
      "gamma = 60.0218920281\n"
     ]
    }
   ],
   "source": [
    "print 'a =',     lammps_system.box.a\n",
    "print 'b =',     lammps_system.box.b\n",
    "print 'c =',     lammps_system.box.c\n",
    "print 'alpha =', lammps_system.box.alpha\n",
    "print 'beta =',  lammps_system.box.beta\n",
    "print 'gamma =', lammps_system.box.gamma"
   ]
  },
  {
   "cell_type": "markdown",
   "metadata": {},
   "source": [
    "### Check that relative atom positions are consistent and in the Box"
   ]
  },
  {
   "cell_type": "markdown",
   "metadata": {},
   "source": [
    "The original System has atoms outide the System's Box (scaled positions not between 0 and 1)"
   ]
  },
  {
   "cell_type": "code",
   "execution_count": 6,
   "metadata": {
    "collapsed": false
   },
   "outputs": [
    {
     "name": "stdout",
     "output_type": "stream",
     "text": [
      "[[ 0.97968864 -1.95621701  1.29969984]\n",
      " [-0.33885808 -1.16757256  1.91238222]\n",
      " [ 0.51333952  1.90306254 -2.36390668]\n",
      " [ 0.182523   -2.68159359  2.83584829]\n",
      " [ 0.77971634 -0.80318248 -0.07205262]\n",
      " [-0.90824471  0.80605839  0.10855308]\n",
      " [ 1.15294418 -1.57867676  1.332045  ]\n",
      " [-0.62582747 -1.57545991  1.09848724]\n",
      " [ 0.47661908 -2.43330318  2.48175593]\n",
      " [ 1.11166405  1.62358257 -2.30331483]]\n"
     ]
    }
   ],
   "source": [
    "print system.atoms_prop(key='pos', scale=True)"
   ]
  },
  {
   "cell_type": "markdown",
   "metadata": {},
   "source": [
    "Wrapping the system corrects this"
   ]
  },
  {
   "cell_type": "code",
   "execution_count": 7,
   "metadata": {
    "collapsed": false
   },
   "outputs": [
    {
     "name": "stdout",
     "output_type": "stream",
     "text": [
      "[[ 0.97968864  0.04378299  0.29969984]\n",
      " [ 0.66114192  0.83242744  0.91238222]\n",
      " [ 0.51333952  0.90306254  0.63609332]\n",
      " [ 0.182523    0.31840641  0.83584829]\n",
      " [ 0.77971634  0.19681752  0.92794738]\n",
      " [ 0.09175529  0.80605839  0.10855308]\n",
      " [ 0.15294418  0.42132324  0.332045  ]\n",
      " [ 0.37417253  0.42454009  0.09848724]\n",
      " [ 0.47661908  0.56669682  0.48175593]\n",
      " [ 0.11166405  0.62358257  0.69668517]]\n"
     ]
    }
   ],
   "source": [
    "system.wrap()\n",
    "print system.atoms_prop(key='pos', scale=True)"
   ]
  },
  {
   "cell_type": "markdown",
   "metadata": {},
   "source": [
    "The lammps normalized System has atomic positions consistent with the wrapped System. The relative z coordinates may be flipped if the original box vectors were left-handed."
   ]
  },
  {
   "cell_type": "code",
   "execution_count": 8,
   "metadata": {
    "collapsed": false
   },
   "outputs": [
    {
     "name": "stdout",
     "output_type": "stream",
     "text": [
      "[[ 0.97968864  0.04378299  0.70030016]\n",
      " [ 0.66114192  0.83242744  0.08761778]\n",
      " [ 0.51333952  0.90306254  0.36390668]\n",
      " [ 0.182523    0.31840641  0.16415171]\n",
      " [ 0.77971634  0.19681752  0.07205262]\n",
      " [ 0.09175529  0.80605839  0.89144692]\n",
      " [ 0.15294418  0.42132324  0.667955  ]\n",
      " [ 0.37417253  0.42454009  0.90151276]\n",
      " [ 0.47661908  0.56669682  0.51824407]\n",
      " [ 0.11166405  0.62358257  0.30331483]]\n"
     ]
    }
   ],
   "source": [
    "print lammps_system.atoms_prop(key='pos', scale=True)"
   ]
  },
  {
   "cell_type": "markdown",
   "metadata": {},
   "source": [
    "- - -\n",
    "__Docs Navigation:__\n",
    "\n",
    "Tutorial:\n",
    "\n",
    "1. [Basics](../tutorial/1 Basics.ipynb)\n",
    "\n",
    "2. [LAMMPS Functionality](../tutorial/2 LAMMPS Functionality.ipynb)\n",
    "\n",
    "3. [Defect Generation and Evaluation](../tutorial/3 Defect Generation and Evaluation.ipynb)\n",
    "\n",
    "\n",
    "Reference:\n",
    "\n",
    "- [atomman](../reference/atomman.ipynb)\n",
    "\n",
    "- [atomman.convert](../reference/atomman.convert.ipynb)\n",
    "\n",
    "- [atomman.defect](../reference/atomman.defect.ipynb)\n",
    "\n",
    "- [atomman.lammps](../reference/atomman.lammps.ipynb)\n",
    "\n",
    "- [atomman.tools](../reference/atomman.tools.ipynb)\n",
    "\n",
    "- [atomman.unitconvert](../reference/atomman.unitconvert.ipynb)"
   ]
  }
 ],
 "metadata": {
  "kernelspec": {
   "display_name": "Python 2",
   "language": "python",
   "name": "python2"
  },
  "language_info": {
   "codemirror_mode": {
    "name": "ipython",
    "version": 2
   },
   "file_extension": ".py",
   "mimetype": "text/x-python",
   "name": "python",
   "nbconvert_exporter": "python",
   "pygments_lexer": "ipython2",
   "version": "2.7.11"
  }
 },
 "nbformat": 4,
 "nbformat_minor": 0
}
