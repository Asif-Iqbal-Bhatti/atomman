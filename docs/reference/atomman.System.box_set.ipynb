{
 "cells": [
  {
   "cell_type": "markdown",
   "metadata": {},
   "source": [
    "# atomman.System.box_set(self, \\**kwargs)\n",
    "\n",
    "- - -"
   ]
  },
  {
   "cell_type": "markdown",
   "metadata": {},
   "source": [
    "**Lucas M. Hale**, [lucas.hale@nist.gov](mailto:lucas.hale@nist.gov?Subject=ipr-demo), *Materials Science and Engineering Division, NIST*.\n",
    "\n",
    "**Chandler A. Becker**, [chandler.becker@nist.gov](mailto:chandler.becker@nist.gov?Subject=ipr-demo), *Office of Data and Informatics, NIST*.\n",
    "\n",
    "**Zachary T. Trautt**, [zachary.trautt@nist.gov](mailto:zachary.trautt@nist.gov?Subject=ipr-demo), *Materials Measurement Science Division, NIST*.\n",
    "\n",
    "Version: 2016-09-02\n",
    "\n",
    "[Disclaimers](http://www.nist.gov/public_affairs/disclaimer.cfm) \n",
    " \n",
    "- - -"
   ]
  },
  {
   "cell_type": "markdown",
   "metadata": {},
   "source": [
    "## Introduction\n",
    "\n",
    "The System.box_set method allows for the vectors of System.box to be fully redefined. It extends the [Box.set](atomman.Box.set.ipynb) by allowing for the atomic positions in System.atoms to remain constant with respect to either their absolute Cartesian coordinates or their box relative coordinates.\n",
    "\n",
    "Keyword Arguments:\n",
    "\n",
    "This method allows for all of the same keyword arguments as [Box.set](atomman.Box.set.ipynb), and  \n",
    "\n",
    "- __scale__ -- Boolean flag indicating if the atomic positions should remain constant with respect to their absolute Cartesian coordinates (scale=False) or their box relative coordinates (scale=True).\n",
    "\n",
    "Note that with scale=False, calling System.box_set is identical to calling System.box.set.\n",
    "\n",
    "\n",
    "The underlying code can be found in [atomman/core/System.py](../../atomman/core/System.py)."
   ]
  },
  {
   "cell_type": "markdown",
   "metadata": {},
   "source": [
    "## Demonstration"
   ]
  },
  {
   "cell_type": "markdown",
   "metadata": {},
   "source": [
    "Library Imports"
   ]
  },
  {
   "cell_type": "code",
   "execution_count": 1,
   "metadata": {
    "collapsed": false
   },
   "outputs": [],
   "source": [
    "#External library imports\n",
    "import numpy as np\n",
    "\n",
    "#atomman imports\n",
    "import atomman as am\n",
    "\n",
    "from copy import deepcopy"
   ]
  },
  {
   "cell_type": "markdown",
   "metadata": {},
   "source": [
    "Create a system for an fcc unit cell with a=3.2 and print the string representation"
   ]
  },
  {
   "cell_type": "code",
   "execution_count": 2,
   "metadata": {
    "collapsed": false
   },
   "outputs": [
    {
     "name": "stdout",
     "output_type": "stream",
     "text": [
      "avect =  [ 3.200,  0.000,  0.000]\n",
      "bvect =  [ 0.000,  3.200,  0.000]\n",
      "cvect =  [ 0.000,  0.000,  3.200]\n",
      "origin = [ 0.000,  0.000,  0.000]\n",
      "natoms = 4\n",
      "natypes = 1\n",
      "     id |   atype |  pos[0] |  pos[1] |  pos[2]\n",
      "      0 |       1 |   0.000 |   0.000 |   0.000\n",
      "      1 |       1 |   1.600 |   1.600 |   0.000\n",
      "      2 |       1 |   1.600 |   0.000 |   1.600\n",
      "      3 |       1 |   0.000 |   1.600 |   1.600\n"
     ]
    }
   ],
   "source": [
    "atoms = am.Atoms(natoms=4)\n",
    "atoms.prop(key='atype', value=1)\n",
    "atoms.prop(key='pos', value=np.array([[0.0, 0.0, 0.0],\n",
    "                                      [0.5, 0.5, 0.0],\n",
    "                                      [0.5, 0.0, 0.5],\n",
    "                                      [0.0, 0.5, 0.5]]))\n",
    "box = am.Box(a=3.2, b=3.2, c=3.2)\n",
    "\n",
    "system = am.System(atoms=atoms, box=box, scale=True)\n",
    "print system"
   ]
  },
  {
   "cell_type": "markdown",
   "metadata": {},
   "source": [
    "### With scale=False\n",
    "\n",
    "If the box is redefined with scale=False, then the absolute Cartesian coordinates of the atoms will remain unchanged.  "
   ]
  },
  {
   "cell_type": "code",
   "execution_count": 3,
   "metadata": {
    "collapsed": false
   },
   "outputs": [
    {
     "name": "stdout",
     "output_type": "stream",
     "text": [
      "avect =  [ 3.600,  0.000,  0.000]\n",
      "bvect =  [ 0.000,  3.600,  0.000]\n",
      "cvect =  [ 0.000,  0.000,  3.600]\n",
      "origin = [ 0.000,  0.000,  0.000]\n",
      "natoms = 4\n",
      "natypes = 1\n",
      "     id |   atype |  pos[0] |  pos[1] |  pos[2]\n",
      "      0 |       1 |   0.000 |   0.000 |   0.000\n",
      "      1 |       1 |   1.600 |   1.600 |   0.000\n",
      "      2 |       1 |   1.600 |   0.000 |   1.600\n",
      "      3 |       1 |   0.000 |   1.600 |   1.600\n"
     ]
    }
   ],
   "source": [
    "changed = deepcopy(system)\n",
    "changed.box_set(a=3.6, b=3.6, c=3.6)\n",
    "print changed"
   ]
  },
  {
   "cell_type": "markdown",
   "metadata": {},
   "source": [
    "### With scale=True\n",
    "\n",
    "If the box is redefined with scale=True, then the box relative coordinates of the atoms will remain unchanged."
   ]
  },
  {
   "cell_type": "code",
   "execution_count": 4,
   "metadata": {
    "collapsed": false
   },
   "outputs": [
    {
     "name": "stdout",
     "output_type": "stream",
     "text": [
      "avect =  [ 3.600,  0.000,  0.000]\n",
      "bvect =  [ 0.000,  3.600,  0.000]\n",
      "cvect =  [ 0.000,  0.000,  3.600]\n",
      "origin = [ 0.000,  0.000,  0.000]\n",
      "natoms = 4\n",
      "natypes = 1\n",
      "     id |   atype |  pos[0] |  pos[1] |  pos[2]\n",
      "      0 |       1 |   0.000 |   0.000 |   0.000\n",
      "      1 |       1 |   1.800 |   1.800 |   0.000\n",
      "      2 |       1 |   1.800 |   0.000 |   1.800\n",
      "      3 |       1 |   0.000 |   1.800 |   1.800\n"
     ]
    }
   ],
   "source": [
    "changed = deepcopy(system)\n",
    "changed.box_set(a=3.6, b=3.6, c=3.6, scale=True)\n",
    "print changed"
   ]
  },
  {
   "cell_type": "markdown",
   "metadata": {},
   "source": [
    "Check relative positions of changed and system"
   ]
  },
  {
   "cell_type": "code",
   "execution_count": 5,
   "metadata": {
    "collapsed": false
   },
   "outputs": [
    {
     "name": "stdout",
     "output_type": "stream",
     "text": [
      "[[ 0.   0.   0. ]\n",
      " [ 0.5  0.5  0. ]\n",
      " [ 0.5  0.   0.5]\n",
      " [ 0.   0.5  0.5]]\n"
     ]
    }
   ],
   "source": [
    "print system.atoms_prop(key='pos', scale=True)"
   ]
  },
  {
   "cell_type": "code",
   "execution_count": 6,
   "metadata": {
    "collapsed": false
   },
   "outputs": [
    {
     "name": "stdout",
     "output_type": "stream",
     "text": [
      "[[ 0.   0.   0. ]\n",
      " [ 0.5  0.5  0. ]\n",
      " [ 0.5  0.   0.5]\n",
      " [ 0.   0.5  0.5]]\n"
     ]
    }
   ],
   "source": [
    "print changed.atoms_prop(key='pos', scale=True)"
   ]
  },
  {
   "cell_type": "markdown",
   "metadata": {
    "collapsed": true
   },
   "source": [
    "- - -\n",
    "__Docs Navigation:__\n",
    "\n",
    "Tutorial:\n",
    "\n",
    "1. [Basics](../tutorial/1 Basics.ipynb)\n",
    "\n",
    "2. [LAMMPS Functionality](../tutorial/2 LAMMPS Functionality.ipynb)\n",
    "\n",
    "3. [Defect Generation and Evaluation](../tutorial/3 Defect Generation and Evaluation.ipynb)\n",
    "\n",
    "\n",
    "Reference:\n",
    "\n",
    "- [atomman](../reference/atomman.ipynb)\n",
    "\n",
    "- [atomman.convert](../reference/atomman.convert.ipynb)\n",
    "\n",
    "- [atomman.defect](../reference/atomman.defect.ipynb)\n",
    "\n",
    "- [atomman.lammps](../reference/atomman.lammps.ipynb)\n",
    "\n",
    "- [atomman.tools](../reference/atomman.tools.ipynb)\n",
    "\n",
    "- [atomman.unitconvert](../reference/atomman.unitconvert.ipynb)"
   ]
  }
 ],
 "metadata": {
  "kernelspec": {
   "display_name": "Python 2",
   "language": "python",
   "name": "python2"
  },
  "language_info": {
   "codemirror_mode": {
    "name": "ipython",
    "version": 2
   },
   "file_extension": ".py",
   "mimetype": "text/x-python",
   "name": "python",
   "nbconvert_exporter": "python",
   "pygments_lexer": "ipython2",
   "version": "2.7.11"
  }
 },
 "nbformat": 4,
 "nbformat_minor": 0
}
