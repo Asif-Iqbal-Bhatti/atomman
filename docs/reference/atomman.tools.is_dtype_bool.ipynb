{
 "cells": [
  {
   "cell_type": "markdown",
   "metadata": {},
   "source": [
    "# atomman.tools.is_dtype_bool(dtype)\n",
    "\n",
    "- - -"
   ]
  },
  {
   "cell_type": "markdown",
   "metadata": {},
   "source": [
    "**Lucas M. Hale**, [lucas.hale@nist.gov](mailto:lucas.hale@nist.gov?Subject=ipr-demo), *Materials Science and Engineering Division, NIST*.\n",
    "\n",
    "**Chandler A. Becker**, [chandler.becker@nist.gov](mailto:chandler.becker@nist.gov?Subject=ipr-demo), *Office of Data and Informatics, NIST*.\n",
    "\n",
    "**Zachary T. Trautt**, [zachary.trautt@nist.gov](mailto:zachary.trautt@nist.gov?Subject=ipr-demo), *Materials Measurement Science Division, NIST*.\n",
    "\n",
    "Version: 2016-08-23\n",
    "\n",
    "[Disclaimers](http://www.nist.gov/public_affairs/disclaimer.cfm) \n",
    " \n",
    "- - -"
   ]
  },
  {
   "cell_type": "markdown",
   "metadata": {},
   "source": [
    "## Introduction\n",
    "\n",
    "The is_dtype_bool function determines if the dtype of a numpy array is of any bool type (standard or numpy based).\n",
    "\n",
    "Arguments:\n",
    "\n",
    "- __dtype__ -- dtype of the value being checked\n",
    "\n",
    "The underlying code can be found in [atomman/tools/istypes.py](../../atomman/tools/istypes.py)."
   ]
  },
  {
   "cell_type": "markdown",
   "metadata": {},
   "source": [
    "## Demonstration"
   ]
  },
  {
   "cell_type": "code",
   "execution_count": 1,
   "metadata": {
    "collapsed": false
   },
   "outputs": [],
   "source": [
    "import atomman as am\n",
    "import numpy as np"
   ]
  },
  {
   "cell_type": "code",
   "execution_count": 2,
   "metadata": {
    "collapsed": false
   },
   "outputs": [],
   "source": [
    "values = [np.array(52, dtype=int),             #numpy 0D array with Python integer\n",
    "          np.array(52, dtype='int32'),         #numpy 0D array with 32bit integer\n",
    "          np.array(52, dtype='int64'),         #numpy 0D array with 64bit integer\n",
    "          np.array([52,14,2], dtype='int64'),  #numpy 3D array with 64bit integer\n",
    "          np.array(False),                     #numpy 0D array with Boolean\n",
    "          np.array([False]),                   #numpy 1D array with Boolean\n",
    "          np.array(52, dtype='float64'),       #numpy 64bit float\n",
    "          np.array('52')]                      #numpy string"
   ]
  },
  {
   "cell_type": "markdown",
   "metadata": {},
   "source": [
    "am.tools.is_dtype_bool returns True for any bool dtypes. "
   ]
  },
  {
   "cell_type": "code",
   "execution_count": 3,
   "metadata": {
    "collapsed": false
   },
   "outputs": [
    {
     "name": "stdout",
     "output_type": "stream",
     "text": [
      "Testing am.tools.is_dtype_bool(value.dtype):\n",
      "\n",
      "value                               return\n",
      "------------------------------------------\n",
      "array(52)                           False\n",
      "array(52)                           False\n",
      "array(52L, dtype=int64)             False\n",
      "array([52, 14,  2], dtype=int64)    False\n",
      "array(False, dtype=bool)            True\n",
      "array([False], dtype=bool)          True\n",
      "array(52.0)                         False\n",
      "array('52', \n",
      "      dtype='|S2')     False\n"
     ]
    }
   ],
   "source": [
    "print \"Testing am.tools.is_dtype_bool(value.dtype):\"\n",
    "print\n",
    "print \"%-35s %s\" %('value', 'return')\n",
    "print '------------------------------------------'\n",
    "for value in values:\n",
    "    print '%-35s %s' % (repr(value), am.tools.is_dtype_bool(value.dtype))"
   ]
  },
  {
   "cell_type": "markdown",
   "metadata": {},
   "source": [
    "- - -\n",
    "__Docs Navigation:__\n",
    "\n",
    "Tutorial:\n",
    "\n",
    "1. [Basics](../tutorial/1 Basics.ipynb)\n",
    "\n",
    "2. [LAMMPS Functionality](../tutorial/2 LAMMPS Functionality.ipynb)\n",
    "\n",
    "3. [Defect Generation and Evaluation](../tutorial/3 Defect Generation and Evaluation.ipynb)\n",
    "\n",
    "\n",
    "Reference:\n",
    "\n",
    "- [atomman](../reference/atomman.ipynb)\n",
    "\n",
    "- [atomman.convert](../reference/atomman.convert.ipynb)\n",
    "\n",
    "- [atomman.defect](../reference/atomman.defect.ipynb)\n",
    "\n",
    "- [atomman.lammps](../reference/atomman.lammps.ipynb)\n",
    "\n",
    "- [atomman.tools](../reference/atomman.tools.ipynb)\n",
    "\n",
    "- [atomman.unitconvert](../reference/atomman.unitconvert.ipynb)"
   ]
  }
 ],
 "metadata": {
  "kernelspec": {
   "display_name": "Python 2",
   "language": "python",
   "name": "python2"
  },
  "language_info": {
   "codemirror_mode": {
    "name": "ipython",
    "version": 2
   },
   "file_extension": ".py",
   "mimetype": "text/x-python",
   "name": "python",
   "nbconvert_exporter": "python",
   "pygments_lexer": "ipython2",
   "version": "2.7.11"
  }
 },
 "nbformat": 4,
 "nbformat_minor": 0
}
