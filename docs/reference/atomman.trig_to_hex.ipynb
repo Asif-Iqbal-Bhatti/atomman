{
 "cells": [
  {
   "cell_type": "markdown",
   "metadata": {},
   "source": [
    "# atomman.trig_to_hex(cell, tol=1e-5)\n",
    "\n",
    "- - -"
   ]
  },
  {
   "cell_type": "markdown",
   "metadata": {},
   "source": [
    "**Lucas M. Hale**, [lucas.hale@nist.gov](mailto:lucas.hale@nist.gov?Subject=ipr-demo), *Materials Science and Engineering Division, NIST*.\n",
    "\n",
    "**Chandler A. Becker**, [chandler.becker@nist.gov](mailto:chandler.becker@nist.gov?Subject=ipr-demo), *Office of Data and Informatics, NIST*.\n",
    "\n",
    "**Zachary T. Trautt**, [zachary.trautt@nist.gov](mailto:zachary.trautt@nist.gov?Subject=ipr-demo), *Materials Measurement Science Division, NIST*.\n",
    "\n",
    "Version: 2016-09-02\n",
    "\n",
    "[Disclaimers](http://www.nist.gov/public_affairs/disclaimer.cfm) \n",
    " \n",
    "- - -"
   ]
  },
  {
   "cell_type": "markdown",
   "metadata": {},
   "source": [
    "## Introduction\n",
    "\n",
    "The trig_to_hex function takes a trigonal System and returns a corresponding hexagonal System that had three times the volume and number of atoms. This allows for trigonal unit cells to be treated as hexagonal ones. This function currently only supports standard trigonal Systems where: \n",
    "\n",
    "    a = b = c \n",
    "    alpha = beta = gamma < 120\n",
    "\n",
    "Argument:\n",
    "\n",
    "- __cell__ -- a [System](atomman.System.ipynb) consistent with a standard trigonal cell.\n",
    "\n",
    "Keyword Argument:\n",
    "\n",
    "- __tol__ -- tolerance used in checking that system is trigonal.\n",
    "\n",
    "\n",
    "The underlying code can be found in [atomman/core/trig_to_hex.py](../../atomman/core/trig_to_hex.py)."
   ]
  },
  {
   "cell_type": "markdown",
   "metadata": {},
   "source": [
    "## Demonstration"
   ]
  },
  {
   "cell_type": "code",
   "execution_count": 1,
   "metadata": {
    "collapsed": false
   },
   "outputs": [],
   "source": [
    "import atomman as am\n",
    "import numpy as np"
   ]
  },
  {
   "cell_type": "markdown",
   "metadata": {},
   "source": [
    "Build a simple trigonal unit cell"
   ]
  },
  {
   "cell_type": "code",
   "execution_count": 2,
   "metadata": {
    "collapsed": false
   },
   "outputs": [
    {
     "name": "stdout",
     "output_type": "stream",
     "text": [
      "avect =  [ 2.566,  0.000,  0.000]\n",
      "bvect =  [ 0.878,  2.411,  0.000]\n",
      "cvect =  [ 0.878,  0.614,  2.331]\n",
      "origin = [ 0.000,  0.000,  0.000]\n",
      "natoms = 1\n",
      "natypes = 1\n",
      "     id |   atype |  pos[0] |  pos[1] |  pos[2]\n",
      "      0 |       1 |   0.000 |   0.000 |   0.000\n"
     ]
    }
   ],
   "source": [
    "atoms = am.Atoms(natoms=1, prop={'atype':1})\n",
    "box = am.Box(a=2.5657, b=2.5657, c=2.5657, alpha=70, beta=70, gamma=70)\n",
    "\n",
    "st = am.System(atoms=atoms, box=box, pbc=(True, True, True), scale=True)\n",
    "\n",
    "print st"
   ]
  },
  {
   "cell_type": "markdown",
   "metadata": {},
   "source": [
    "Convert into a hexagonal cell"
   ]
  },
  {
   "cell_type": "code",
   "execution_count": 3,
   "metadata": {
    "collapsed": false
   },
   "outputs": [
    {
     "name": "stdout",
     "output_type": "stream",
     "text": [
      "avect =  [-1.688,  2.411,  0.000]\n",
      "bvect =  [ 1.688, -0.614, -2.331]\n",
      "cvect =  [ 4.321,  3.025,  2.331]\n",
      "origin = [ 0.000,  0.000,  0.000]\n",
      "natoms = 3\n",
      "natypes = 1\n",
      "     id |   atype |  pos[0] |  pos[1] |  pos[2]\n",
      "      0 |       1 |   0.000 |   0.000 |   0.000\n",
      "      1 |       1 |   0.878 |   2.411 |   0.000\n",
      "      2 |       1 |   3.443 |   2.411 |   0.000\n"
     ]
    }
   ],
   "source": [
    "hex_st = am.trig_to_hex(st)\n",
    "\n",
    "print hex_st"
   ]
  },
  {
   "cell_type": "markdown",
   "metadata": {},
   "source": [
    "Check the scaled atom positions"
   ]
  },
  {
   "cell_type": "code",
   "execution_count": 4,
   "metadata": {
    "collapsed": false
   },
   "outputs": [
    {
     "name": "stdout",
     "output_type": "stream",
     "text": [
      "[[ 0.          0.          0.        ]\n",
      " [ 0.66666667  0.33333333  0.33333333]\n",
      " [ 0.33333333  0.66666667  0.66666667]]\n"
     ]
    }
   ],
   "source": [
    "print hex_st.atoms_prop(key='pos', scale=True)"
   ]
  },
  {
   "cell_type": "markdown",
   "metadata": {},
   "source": [
    "- - -\n",
    "__Docs Navigation:__\n",
    "\n",
    "Tutorial:\n",
    "\n",
    "1. [Basics](../tutorial/1 Basics.ipynb)\n",
    "\n",
    "2. [LAMMPS Functionality](../tutorial/2 LAMMPS Functionality.ipynb)\n",
    "\n",
    "3. [Defect Generation and Evaluation](../tutorial/3 Defect Generation and Evaluation.ipynb)\n",
    "\n",
    "\n",
    "Reference:\n",
    "\n",
    "- [atomman](../reference/atomman.ipynb)\n",
    "\n",
    "- [atomman.convert](../reference/atomman.convert.ipynb)\n",
    "\n",
    "- [atomman.defect](../reference/atomman.defect.ipynb)\n",
    "\n",
    "- [atomman.lammps](../reference/atomman.lammps.ipynb)\n",
    "\n",
    "- [atomman.tools](../reference/atomman.tools.ipynb)\n",
    "\n",
    "- [atomman.unitconvert](../reference/atomman.unitconvert.ipynb)"
   ]
  }
 ],
 "metadata": {
  "kernelspec": {
   "display_name": "Python 2",
   "language": "python",
   "name": "python2"
  },
  "language_info": {
   "codemirror_mode": {
    "name": "ipython",
    "version": 2
   },
   "file_extension": ".py",
   "mimetype": "text/x-python",
   "name": "python",
   "nbconvert_exporter": "python",
   "pygments_lexer": "ipython2",
   "version": "2.7.11"
  }
 },
 "nbformat": 4,
 "nbformat_minor": 0
}
