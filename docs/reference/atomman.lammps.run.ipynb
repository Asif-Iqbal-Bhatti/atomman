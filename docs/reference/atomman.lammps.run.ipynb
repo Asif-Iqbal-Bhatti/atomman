{
 "cells": [
  {
   "cell_type": "markdown",
   "metadata": {
    "deletable": true,
    "editable": true
   },
   "source": [
    "# atomman.lammps.run(lammps_command, script_name, mpi_command=None, restart_script_name=None, return_style='model', logfile='log.lammps', flatten=None)\n",
    "\n",
    "- - -"
   ]
  },
  {
   "cell_type": "markdown",
   "metadata": {
    "deletable": true,
    "editable": true
   },
   "source": [
    "**Lucas M. Hale**, [lucas.hale@nist.gov](mailto:lucas.hale@nist.gov?Subject=ipr-demo), *Materials Science and Engineering Division, NIST*.\n",
    "\n",
    "**Chandler A. Becker**, [chandler.becker@nist.gov](mailto:chandler.becker@nist.gov?Subject=ipr-demo), *Office of Data and Informatics, NIST*.\n",
    "\n",
    "**Zachary T. Trautt**, [zachary.trautt@nist.gov](mailto:zachary.trautt@nist.gov?Subject=ipr-demo), *Materials Measurement Science Division, NIST*.\n",
    "\n",
    "Version: 2017-04-20\n",
    "\n",
    "[Disclaimers](http://www.nist.gov/public_affairs/disclaimer.cfm) \n",
    " \n",
    "- - -"
   ]
  },
  {
   "cell_type": "markdown",
   "metadata": {
    "deletable": true,
    "editable": true
   },
   "source": [
    "## Introduction\n",
    "\n",
    "The run function executes a LAMMPS simulation with a supplied input script. This function runs LAMMPS as a subproces making it possible to use any working LAMMPS (and MPI) executables available to you. The standard screen output is automatically parsed using the [log_extract](atomman.lammps.log_extract.ipynb) function, and the resulting [DataModelDict](https://github.com/usnistgov/DataModelDict) is returned. Any errors issued by LAMMPS are passed forward as Python errors.\n",
    "\n",
    "Arguments:\n",
    "\n",
    "- __lammps_command__ -- a string or list of terms giving the LAMMPS executable to use and any options (except for the input file).\n",
    "\n",
    "- __script_name__ -- name of the LAMMPS input script file name to use.\n",
    "\n",
    "- __ mpi_command__ -- optional string or list of terms giving the MPI executable to use and any options. If not given, LAMMPS will run serially.\n",
    "\n",
    "- __restart_script_name__ -- alternative script to use for restarting if logfile already exists. Default is None (no restarting).\n",
    "\n",
    "- __return_style__ -- format for the returned data. Default value is 'model' (for now).\n",
    "    \n",
    "    - 'model' -- returns a DataModelDict of the data\n",
    "    \n",
    "    - 'object' -- returns an atomman.lammps.Log object \n",
    "    \n",
    "- __logfile__ -- specifies the path to the logfile to write to. Default value is 'log.lammps'.\n",
    "\n",
    "- __flatten__ -- indicates if the simulation data should be flattened to a single table. Default value is None (no flattening).\n",
    "\n",
    "    - None -- leave all individual runs/restarts as separate tables.\n",
    "    \n",
    "    - 'first' -- only use the first entry for a given Step value.\n",
    "    \n",
    "    - 'last' -- only use the last entry for a given Step value.\n",
    "\n",
    "\n",
    "The underlying code can be found in [atomman/lammps/normalize.py](../../atomman/lammps/normalize.py)."
   ]
  },
  {
   "cell_type": "markdown",
   "metadata": {
    "deletable": true,
    "editable": true
   },
   "source": [
    "## Demonstration"
   ]
  },
  {
   "cell_type": "code",
   "execution_count": 1,
   "metadata": {
    "collapsed": false,
    "deletable": true,
    "editable": true
   },
   "outputs": [],
   "source": [
    "#Standard libraries\n",
    "from __future__ import print_function\n",
    "import time\n",
    "\n",
    "#http://matplotlib.org/\n",
    "import matplotlib.pyplot as plt\n",
    "%matplotlib inline\n",
    "\n",
    "#https://github.com/usnistgov/atomman \n",
    "import atomman.lammps as lmp"
   ]
  },
  {
   "cell_type": "markdown",
   "metadata": {
    "deletable": true,
    "editable": true
   },
   "source": [
    "### Run in serial"
   ]
  },
  {
   "cell_type": "markdown",
   "metadata": {
    "deletable": true,
    "editable": true
   },
   "source": [
    "Define your LAMMPS command to use. __This will be specific to your computer!__"
   ]
  },
  {
   "cell_type": "code",
   "execution_count": 2,
   "metadata": {
    "collapsed": true,
    "deletable": true,
    "editable": true
   },
   "outputs": [],
   "source": [
    "lammps_command = 'lmp_serial'"
   ]
  },
  {
   "cell_type": "markdown",
   "metadata": {
    "deletable": true,
    "editable": true
   },
   "source": [
    "Create a simple LAMMPS script"
   ]
  },
  {
   "cell_type": "code",
   "execution_count": 3,
   "metadata": {
    "collapsed": false,
    "deletable": true,
    "editable": true
   },
   "outputs": [],
   "source": [
    "with open('demo.in', 'w') as f:\n",
    "    f.write(\"\"\"\n",
    "#Simple demonstration LAMMPS script\n",
    "\n",
    "units metal\n",
    "atom_style atomic\n",
    "boundary p p p \n",
    "\n",
    "lattice fcc 3.52 origin 0.100000 0.100000 0.100000 \n",
    "        \n",
    "region box block 0 10 0 10 0 10\n",
    "create_box 1 box\n",
    "create_atoms 1 box\n",
    "\n",
    "mass 1 58.71\n",
    "\n",
    "pair_style lj/cut 6\n",
    "pair_coeff 1 1 0.5408 2.272\n",
    "\n",
    "velocity all create 100 2987532\n",
    "\n",
    "thermo 100\n",
    "thermo_style custom step pe temp press lx ly lz\n",
    "\n",
    "restart 10000 *.restart\n",
    "\n",
    "timestep 0.01\n",
    "\n",
    "fix 1 all npt temp 100 100 1.0 aniso 0.0 0.0 10.0\n",
    "run 10000\n",
    "\"\"\")"
   ]
  },
  {
   "cell_type": "markdown",
   "metadata": {
    "deletable": true,
    "editable": true
   },
   "source": [
    "Run"
   ]
  },
  {
   "cell_type": "code",
   "execution_count": 4,
   "metadata": {
    "collapsed": false,
    "deletable": true,
    "editable": true
   },
   "outputs": [
    {
     "name": "stdout",
     "output_type": "stream",
     "text": [
      "Serial simulation took 39.6819999218 seconds.\n"
     ]
    }
   ],
   "source": [
    "start = time.time()\n",
    "results = lmp.run(lammps_command, 'demo.in')\n",
    "end = time.time()\n",
    "serial_run_time = end-start\n",
    "\n",
    "print(\"Serial simulation took\", serial_run_time, \"seconds.\")"
   ]
  },
  {
   "cell_type": "markdown",
   "metadata": {},
   "source": [
    "### Access results"
   ]
  },
  {
   "cell_type": "markdown",
   "metadata": {},
   "source": [
    "The results are returned as an object of the [Log](atomman.lammps.Log.ipynb) class. The Log class stores all the thermodynamic simulation data as a list of pandas DataFrames making it easy to access. By default, the data for each run/minimization is stored as a separate DataFrame. "
   ]
  },
  {
   "cell_type": "markdown",
   "metadata": {},
   "source": [
    "Check how many sets of simulations"
   ]
  },
  {
   "cell_type": "code",
   "execution_count": 5,
   "metadata": {
    "collapsed": false
   },
   "outputs": [
    {
     "name": "stdout",
     "output_type": "stream",
     "text": [
      "1 simulation run(s) in Log\n"
     ]
    }
   ],
   "source": [
    "sims = results.simulations\n",
    "print(len(sims), 'simulation run(s) in Log')"
   ]
  },
  {
   "cell_type": "markdown",
   "metadata": {},
   "source": [
    "View thermo Dataframe"
   ]
  },
  {
   "cell_type": "code",
   "execution_count": 6,
   "metadata": {
    "collapsed": false
   },
   "outputs": [
    {
     "data": {
      "text/html": [
       "<div>\n",
       "<table border=\"1\" class=\"dataframe\">\n",
       "  <thead>\n",
       "    <tr style=\"text-align: right;\">\n",
       "      <th></th>\n",
       "      <th>Step</th>\n",
       "      <th>PotEng</th>\n",
       "      <th>Temp</th>\n",
       "      <th>Press</th>\n",
       "      <th>Lx</th>\n",
       "      <th>Ly</th>\n",
       "      <th>Lz</th>\n",
       "    </tr>\n",
       "  </thead>\n",
       "  <tbody>\n",
       "    <tr>\n",
       "      <th>0</th>\n",
       "      <td>0</td>\n",
       "      <td>-17521.075</td>\n",
       "      <td>100.000000</td>\n",
       "      <td>4338.54900</td>\n",
       "      <td>35.200000</td>\n",
       "      <td>35.200000</td>\n",
       "      <td>35.200000</td>\n",
       "    </tr>\n",
       "    <tr>\n",
       "      <th>1</th>\n",
       "      <td>100</td>\n",
       "      <td>-17486.727</td>\n",
       "      <td>51.626980</td>\n",
       "      <td>474.28508</td>\n",
       "      <td>35.222382</td>\n",
       "      <td>35.223819</td>\n",
       "      <td>35.222141</td>\n",
       "    </tr>\n",
       "    <tr>\n",
       "      <th>2</th>\n",
       "      <td>200</td>\n",
       "      <td>-17483.748</td>\n",
       "      <td>59.101145</td>\n",
       "      <td>-7387.53250</td>\n",
       "      <td>35.242121</td>\n",
       "      <td>35.243545</td>\n",
       "      <td>35.241472</td>\n",
       "    </tr>\n",
       "    <tr>\n",
       "      <th>3</th>\n",
       "      <td>300</td>\n",
       "      <td>-17480.057</td>\n",
       "      <td>67.028264</td>\n",
       "      <td>-467.33503</td>\n",
       "      <td>35.228265</td>\n",
       "      <td>35.228713</td>\n",
       "      <td>35.228042</td>\n",
       "    </tr>\n",
       "    <tr>\n",
       "      <th>4</th>\n",
       "      <td>400</td>\n",
       "      <td>-17476.086</td>\n",
       "      <td>76.266168</td>\n",
       "      <td>4720.89240</td>\n",
       "      <td>35.218649</td>\n",
       "      <td>35.219584</td>\n",
       "      <td>35.217337</td>\n",
       "    </tr>\n",
       "    <tr>\n",
       "      <th>5</th>\n",
       "      <td>500</td>\n",
       "      <td>-17469.537</td>\n",
       "      <td>81.565628</td>\n",
       "      <td>645.89408</td>\n",
       "      <td>35.231424</td>\n",
       "      <td>35.231958</td>\n",
       "      <td>35.229340</td>\n",
       "    </tr>\n",
       "    <tr>\n",
       "      <th>6</th>\n",
       "      <td>600</td>\n",
       "      <td>-17465.650</td>\n",
       "      <td>91.036408</td>\n",
       "      <td>-3641.02260</td>\n",
       "      <td>35.243368</td>\n",
       "      <td>35.242693</td>\n",
       "      <td>35.242312</td>\n",
       "    </tr>\n",
       "    <tr>\n",
       "      <th>7</th>\n",
       "      <td>700</td>\n",
       "      <td>-17462.782</td>\n",
       "      <td>100.252790</td>\n",
       "      <td>-697.52134</td>\n",
       "      <td>35.238219</td>\n",
       "      <td>35.237599</td>\n",
       "      <td>35.236981</td>\n",
       "    </tr>\n",
       "    <tr>\n",
       "      <th>8</th>\n",
       "      <td>800</td>\n",
       "      <td>-17458.313</td>\n",
       "      <td>102.684660</td>\n",
       "      <td>2989.86000</td>\n",
       "      <td>35.232223</td>\n",
       "      <td>35.232499</td>\n",
       "      <td>35.228823</td>\n",
       "    </tr>\n",
       "    <tr>\n",
       "      <th>9</th>\n",
       "      <td>900</td>\n",
       "      <td>-17456.812</td>\n",
       "      <td>103.248090</td>\n",
       "      <td>481.05784</td>\n",
       "      <td>35.238298</td>\n",
       "      <td>35.238371</td>\n",
       "      <td>35.235946</td>\n",
       "    </tr>\n",
       "    <tr>\n",
       "      <th>10</th>\n",
       "      <td>1000</td>\n",
       "      <td>-17459.221</td>\n",
       "      <td>102.864530</td>\n",
       "      <td>-2557.30460</td>\n",
       "      <td>35.243776</td>\n",
       "      <td>35.243519</td>\n",
       "      <td>35.243190</td>\n",
       "    </tr>\n",
       "    <tr>\n",
       "      <th>11</th>\n",
       "      <td>1100</td>\n",
       "      <td>-17460.856</td>\n",
       "      <td>98.263847</td>\n",
       "      <td>-395.86668</td>\n",
       "      <td>35.236859</td>\n",
       "      <td>35.238599</td>\n",
       "      <td>35.237383</td>\n",
       "    </tr>\n",
       "    <tr>\n",
       "      <th>12</th>\n",
       "      <td>1200</td>\n",
       "      <td>-17462.575</td>\n",
       "      <td>97.856918</td>\n",
       "      <td>1939.66810</td>\n",
       "      <td>35.231355</td>\n",
       "      <td>35.231865</td>\n",
       "      <td>35.231226</td>\n",
       "    </tr>\n",
       "    <tr>\n",
       "      <th>13</th>\n",
       "      <td>1300</td>\n",
       "      <td>-17460.281</td>\n",
       "      <td>96.590333</td>\n",
       "      <td>502.25507</td>\n",
       "      <td>35.236233</td>\n",
       "      <td>35.235960</td>\n",
       "      <td>35.235161</td>\n",
       "    </tr>\n",
       "    <tr>\n",
       "      <th>14</th>\n",
       "      <td>1400</td>\n",
       "      <td>-17459.388</td>\n",
       "      <td>100.517750</td>\n",
       "      <td>-1724.75870</td>\n",
       "      <td>35.240563</td>\n",
       "      <td>35.242412</td>\n",
       "      <td>35.241328</td>\n",
       "    </tr>\n",
       "    <tr>\n",
       "      <th>15</th>\n",
       "      <td>1500</td>\n",
       "      <td>-17458.392</td>\n",
       "      <td>102.624120</td>\n",
       "      <td>-349.43240</td>\n",
       "      <td>35.237668</td>\n",
       "      <td>35.239670</td>\n",
       "      <td>35.239016</td>\n",
       "    </tr>\n",
       "    <tr>\n",
       "      <th>16</th>\n",
       "      <td>1600</td>\n",
       "      <td>-17458.708</td>\n",
       "      <td>101.865370</td>\n",
       "      <td>1487.36800</td>\n",
       "      <td>35.233851</td>\n",
       "      <td>35.234802</td>\n",
       "      <td>35.234663</td>\n",
       "    </tr>\n",
       "    <tr>\n",
       "      <th>17</th>\n",
       "      <td>1700</td>\n",
       "      <td>-17460.007</td>\n",
       "      <td>99.526378</td>\n",
       "      <td>333.75238</td>\n",
       "      <td>35.235816</td>\n",
       "      <td>35.236778</td>\n",
       "      <td>35.236620</td>\n",
       "    </tr>\n",
       "    <tr>\n",
       "      <th>18</th>\n",
       "      <td>1800</td>\n",
       "      <td>-17461.433</td>\n",
       "      <td>98.048886</td>\n",
       "      <td>-1314.74300</td>\n",
       "      <td>35.238725</td>\n",
       "      <td>35.240308</td>\n",
       "      <td>35.239482</td>\n",
       "    </tr>\n",
       "    <tr>\n",
       "      <th>19</th>\n",
       "      <td>1900</td>\n",
       "      <td>-17460.459</td>\n",
       "      <td>96.880461</td>\n",
       "      <td>-161.27748</td>\n",
       "      <td>35.236170</td>\n",
       "      <td>35.238480</td>\n",
       "      <td>35.237181</td>\n",
       "    </tr>\n",
       "    <tr>\n",
       "      <th>20</th>\n",
       "      <td>2000</td>\n",
       "      <td>-17460.251</td>\n",
       "      <td>100.363760</td>\n",
       "      <td>1054.43620</td>\n",
       "      <td>35.234299</td>\n",
       "      <td>35.235282</td>\n",
       "      <td>35.234401</td>\n",
       "    </tr>\n",
       "    <tr>\n",
       "      <th>21</th>\n",
       "      <td>2100</td>\n",
       "      <td>-17458.302</td>\n",
       "      <td>100.933580</td>\n",
       "      <td>354.56087</td>\n",
       "      <td>35.237720</td>\n",
       "      <td>35.237635</td>\n",
       "      <td>35.236108</td>\n",
       "    </tr>\n",
       "    <tr>\n",
       "      <th>22</th>\n",
       "      <td>2200</td>\n",
       "      <td>-17458.822</td>\n",
       "      <td>102.154350</td>\n",
       "      <td>-999.84547</td>\n",
       "      <td>35.239325</td>\n",
       "      <td>35.241237</td>\n",
       "      <td>35.239792</td>\n",
       "    </tr>\n",
       "    <tr>\n",
       "      <th>23</th>\n",
       "      <td>2300</td>\n",
       "      <td>-17459.913</td>\n",
       "      <td>100.664600</td>\n",
       "      <td>-269.98967</td>\n",
       "      <td>35.236026</td>\n",
       "      <td>35.238371</td>\n",
       "      <td>35.239197</td>\n",
       "    </tr>\n",
       "    <tr>\n",
       "      <th>24</th>\n",
       "      <td>2400</td>\n",
       "      <td>-17460.381</td>\n",
       "      <td>97.578107</td>\n",
       "      <td>1001.27740</td>\n",
       "      <td>35.234160</td>\n",
       "      <td>35.234997</td>\n",
       "      <td>35.234821</td>\n",
       "    </tr>\n",
       "    <tr>\n",
       "      <th>25</th>\n",
       "      <td>2500</td>\n",
       "      <td>-17461.146</td>\n",
       "      <td>98.162216</td>\n",
       "      <td>242.85310</td>\n",
       "      <td>35.237400</td>\n",
       "      <td>35.236807</td>\n",
       "      <td>35.233904</td>\n",
       "    </tr>\n",
       "    <tr>\n",
       "      <th>26</th>\n",
       "      <td>2600</td>\n",
       "      <td>-17459.726</td>\n",
       "      <td>98.621063</td>\n",
       "      <td>-716.32294</td>\n",
       "      <td>35.240461</td>\n",
       "      <td>35.239406</td>\n",
       "      <td>35.236944</td>\n",
       "    </tr>\n",
       "    <tr>\n",
       "      <th>27</th>\n",
       "      <td>2700</td>\n",
       "      <td>-17459.161</td>\n",
       "      <td>101.156120</td>\n",
       "      <td>-245.02675</td>\n",
       "      <td>35.236691</td>\n",
       "      <td>35.240263</td>\n",
       "      <td>35.237504</td>\n",
       "    </tr>\n",
       "    <tr>\n",
       "      <th>28</th>\n",
       "      <td>2800</td>\n",
       "      <td>-17459.456</td>\n",
       "      <td>102.957750</td>\n",
       "      <td>665.87584</td>\n",
       "      <td>35.236074</td>\n",
       "      <td>35.237754</td>\n",
       "      <td>35.234123</td>\n",
       "    </tr>\n",
       "    <tr>\n",
       "      <th>29</th>\n",
       "      <td>2900</td>\n",
       "      <td>-17459.427</td>\n",
       "      <td>100.519880</td>\n",
       "      <td>260.59707</td>\n",
       "      <td>35.237885</td>\n",
       "      <td>35.237354</td>\n",
       "      <td>35.235303</td>\n",
       "    </tr>\n",
       "    <tr>\n",
       "      <th>...</th>\n",
       "      <td>...</td>\n",
       "      <td>...</td>\n",
       "      <td>...</td>\n",
       "      <td>...</td>\n",
       "      <td>...</td>\n",
       "      <td>...</td>\n",
       "      <td>...</td>\n",
       "    </tr>\n",
       "    <tr>\n",
       "      <th>71</th>\n",
       "      <td>7100</td>\n",
       "      <td>-17459.651</td>\n",
       "      <td>101.145950</td>\n",
       "      <td>-1671.84500</td>\n",
       "      <td>35.241143</td>\n",
       "      <td>35.246500</td>\n",
       "      <td>35.235927</td>\n",
       "    </tr>\n",
       "    <tr>\n",
       "      <th>72</th>\n",
       "      <td>7200</td>\n",
       "      <td>-17458.928</td>\n",
       "      <td>100.106420</td>\n",
       "      <td>2124.01730</td>\n",
       "      <td>35.233605</td>\n",
       "      <td>35.230516</td>\n",
       "      <td>35.234260</td>\n",
       "    </tr>\n",
       "    <tr>\n",
       "      <th>73</th>\n",
       "      <td>7300</td>\n",
       "      <td>-17460.364</td>\n",
       "      <td>99.881196</td>\n",
       "      <td>1539.00860</td>\n",
       "      <td>35.234580</td>\n",
       "      <td>35.227567</td>\n",
       "      <td>35.238224</td>\n",
       "    </tr>\n",
       "    <tr>\n",
       "      <th>74</th>\n",
       "      <td>7400</td>\n",
       "      <td>-17461.150</td>\n",
       "      <td>98.770926</td>\n",
       "      <td>-1901.29600</td>\n",
       "      <td>35.240452</td>\n",
       "      <td>35.240526</td>\n",
       "      <td>35.241928</td>\n",
       "    </tr>\n",
       "    <tr>\n",
       "      <th>75</th>\n",
       "      <td>7500</td>\n",
       "      <td>-17460.331</td>\n",
       "      <td>98.508430</td>\n",
       "      <td>-1418.45980</td>\n",
       "      <td>35.239158</td>\n",
       "      <td>35.245144</td>\n",
       "      <td>35.236431</td>\n",
       "    </tr>\n",
       "    <tr>\n",
       "      <th>76</th>\n",
       "      <td>7600</td>\n",
       "      <td>-17459.769</td>\n",
       "      <td>99.660840</td>\n",
       "      <td>1700.86430</td>\n",
       "      <td>35.233293</td>\n",
       "      <td>35.236050</td>\n",
       "      <td>35.230816</td>\n",
       "    </tr>\n",
       "    <tr>\n",
       "      <th>77</th>\n",
       "      <td>7700</td>\n",
       "      <td>-17459.485</td>\n",
       "      <td>100.722570</td>\n",
       "      <td>1348.11960</td>\n",
       "      <td>35.236930</td>\n",
       "      <td>35.230265</td>\n",
       "      <td>35.235806</td>\n",
       "    </tr>\n",
       "    <tr>\n",
       "      <th>78</th>\n",
       "      <td>7800</td>\n",
       "      <td>-17459.295</td>\n",
       "      <td>100.235160</td>\n",
       "      <td>-1400.97180</td>\n",
       "      <td>35.240339</td>\n",
       "      <td>35.237667</td>\n",
       "      <td>35.244110</td>\n",
       "    </tr>\n",
       "    <tr>\n",
       "      <th>79</th>\n",
       "      <td>7900</td>\n",
       "      <td>-17460.985</td>\n",
       "      <td>99.838403</td>\n",
       "      <td>-1276.78590</td>\n",
       "      <td>35.237910</td>\n",
       "      <td>35.242313</td>\n",
       "      <td>35.238722</td>\n",
       "    </tr>\n",
       "    <tr>\n",
       "      <th>80</th>\n",
       "      <td>8000</td>\n",
       "      <td>-17460.644</td>\n",
       "      <td>97.663093</td>\n",
       "      <td>1315.44120</td>\n",
       "      <td>35.233568</td>\n",
       "      <td>35.237406</td>\n",
       "      <td>35.230441</td>\n",
       "    </tr>\n",
       "    <tr>\n",
       "      <th>81</th>\n",
       "      <td>8100</td>\n",
       "      <td>-17459.517</td>\n",
       "      <td>97.430410</td>\n",
       "      <td>1231.79460</td>\n",
       "      <td>35.235798</td>\n",
       "      <td>35.234272</td>\n",
       "      <td>35.233474</td>\n",
       "    </tr>\n",
       "    <tr>\n",
       "      <th>82</th>\n",
       "      <td>8200</td>\n",
       "      <td>-17460.789</td>\n",
       "      <td>101.222950</td>\n",
       "      <td>-1173.30050</td>\n",
       "      <td>35.241244</td>\n",
       "      <td>35.236358</td>\n",
       "      <td>35.241037</td>\n",
       "    </tr>\n",
       "    <tr>\n",
       "      <th>83</th>\n",
       "      <td>8300</td>\n",
       "      <td>-17459.996</td>\n",
       "      <td>100.693180</td>\n",
       "      <td>-947.76063</td>\n",
       "      <td>35.238677</td>\n",
       "      <td>35.238848</td>\n",
       "      <td>35.240561</td>\n",
       "    </tr>\n",
       "    <tr>\n",
       "      <th>84</th>\n",
       "      <td>8400</td>\n",
       "      <td>-17459.665</td>\n",
       "      <td>100.120520</td>\n",
       "      <td>913.30145</td>\n",
       "      <td>35.233766</td>\n",
       "      <td>35.238548</td>\n",
       "      <td>35.233399</td>\n",
       "    </tr>\n",
       "    <tr>\n",
       "      <th>85</th>\n",
       "      <td>8500</td>\n",
       "      <td>-17460.637</td>\n",
       "      <td>99.798687</td>\n",
       "      <td>744.74152</td>\n",
       "      <td>35.234520</td>\n",
       "      <td>35.236836</td>\n",
       "      <td>35.234062</td>\n",
       "    </tr>\n",
       "    <tr>\n",
       "      <th>86</th>\n",
       "      <td>8600</td>\n",
       "      <td>-17461.730</td>\n",
       "      <td>98.764344</td>\n",
       "      <td>-824.15630</td>\n",
       "      <td>35.239846</td>\n",
       "      <td>35.236323</td>\n",
       "      <td>35.238672</td>\n",
       "    </tr>\n",
       "    <tr>\n",
       "      <th>87</th>\n",
       "      <td>8700</td>\n",
       "      <td>-17461.491</td>\n",
       "      <td>99.417721</td>\n",
       "      <td>-835.19933</td>\n",
       "      <td>35.239764</td>\n",
       "      <td>35.235074</td>\n",
       "      <td>35.240416</td>\n",
       "    </tr>\n",
       "    <tr>\n",
       "      <th>88</th>\n",
       "      <td>8800</td>\n",
       "      <td>-17459.406</td>\n",
       "      <td>98.416423</td>\n",
       "      <td>782.69321</td>\n",
       "      <td>35.234502</td>\n",
       "      <td>35.238388</td>\n",
       "      <td>35.233988</td>\n",
       "    </tr>\n",
       "    <tr>\n",
       "      <th>89</th>\n",
       "      <td>8900</td>\n",
       "      <td>-17459.905</td>\n",
       "      <td>100.392700</td>\n",
       "      <td>638.88547</td>\n",
       "      <td>35.232482</td>\n",
       "      <td>35.240089</td>\n",
       "      <td>35.234752</td>\n",
       "    </tr>\n",
       "    <tr>\n",
       "      <th>90</th>\n",
       "      <td>9000</td>\n",
       "      <td>-17459.846</td>\n",
       "      <td>100.514830</td>\n",
       "      <td>-612.72531</td>\n",
       "      <td>35.237774</td>\n",
       "      <td>35.238160</td>\n",
       "      <td>35.240064</td>\n",
       "    </tr>\n",
       "    <tr>\n",
       "      <th>91</th>\n",
       "      <td>9100</td>\n",
       "      <td>-17459.148</td>\n",
       "      <td>99.375311</td>\n",
       "      <td>-496.63840</td>\n",
       "      <td>35.241172</td>\n",
       "      <td>35.235433</td>\n",
       "      <td>35.239463</td>\n",
       "    </tr>\n",
       "    <tr>\n",
       "      <th>92</th>\n",
       "      <td>9200</td>\n",
       "      <td>-17459.515</td>\n",
       "      <td>97.720848</td>\n",
       "      <td>705.27441</td>\n",
       "      <td>35.237627</td>\n",
       "      <td>35.235576</td>\n",
       "      <td>35.233938</td>\n",
       "    </tr>\n",
       "    <tr>\n",
       "      <th>93</th>\n",
       "      <td>9300</td>\n",
       "      <td>-17461.038</td>\n",
       "      <td>98.578092</td>\n",
       "      <td>568.75838</td>\n",
       "      <td>35.231882</td>\n",
       "      <td>35.238677</td>\n",
       "      <td>35.235464</td>\n",
       "    </tr>\n",
       "    <tr>\n",
       "      <th>94</th>\n",
       "      <td>9400</td>\n",
       "      <td>-17460.468</td>\n",
       "      <td>99.212131</td>\n",
       "      <td>-477.60364</td>\n",
       "      <td>35.235455</td>\n",
       "      <td>35.239694</td>\n",
       "      <td>35.239027</td>\n",
       "    </tr>\n",
       "    <tr>\n",
       "      <th>95</th>\n",
       "      <td>9500</td>\n",
       "      <td>-17459.951</td>\n",
       "      <td>101.216010</td>\n",
       "      <td>-632.48244</td>\n",
       "      <td>35.239753</td>\n",
       "      <td>35.236236</td>\n",
       "      <td>35.240100</td>\n",
       "    </tr>\n",
       "    <tr>\n",
       "      <th>96</th>\n",
       "      <td>9600</td>\n",
       "      <td>-17460.171</td>\n",
       "      <td>101.666050</td>\n",
       "      <td>362.43846</td>\n",
       "      <td>35.238491</td>\n",
       "      <td>35.232789</td>\n",
       "      <td>35.237648</td>\n",
       "    </tr>\n",
       "    <tr>\n",
       "      <th>97</th>\n",
       "      <td>9700</td>\n",
       "      <td>-17459.965</td>\n",
       "      <td>100.329840</td>\n",
       "      <td>547.95570</td>\n",
       "      <td>35.235699</td>\n",
       "      <td>35.236917</td>\n",
       "      <td>35.235164</td>\n",
       "    </tr>\n",
       "    <tr>\n",
       "      <th>98</th>\n",
       "      <td>9800</td>\n",
       "      <td>-17459.939</td>\n",
       "      <td>98.591088</td>\n",
       "      <td>-400.19930</td>\n",
       "      <td>35.234576</td>\n",
       "      <td>35.243261</td>\n",
       "      <td>35.236392</td>\n",
       "    </tr>\n",
       "    <tr>\n",
       "      <th>99</th>\n",
       "      <td>9900</td>\n",
       "      <td>-17461.270</td>\n",
       "      <td>98.841590</td>\n",
       "      <td>-630.83991</td>\n",
       "      <td>35.236754</td>\n",
       "      <td>35.239596</td>\n",
       "      <td>35.237734</td>\n",
       "    </tr>\n",
       "    <tr>\n",
       "      <th>100</th>\n",
       "      <td>10000</td>\n",
       "      <td>-17462.291</td>\n",
       "      <td>98.702266</td>\n",
       "      <td>337.14027</td>\n",
       "      <td>35.237729</td>\n",
       "      <td>35.232256</td>\n",
       "      <td>35.235972</td>\n",
       "    </tr>\n",
       "  </tbody>\n",
       "</table>\n",
       "<p>101 rows × 7 columns</p>\n",
       "</div>"
      ],
      "text/plain": [
       "      Step     PotEng        Temp       Press         Lx         Ly         Lz\n",
       "0        0 -17521.075  100.000000  4338.54900  35.200000  35.200000  35.200000\n",
       "1      100 -17486.727   51.626980   474.28508  35.222382  35.223819  35.222141\n",
       "2      200 -17483.748   59.101145 -7387.53250  35.242121  35.243545  35.241472\n",
       "3      300 -17480.057   67.028264  -467.33503  35.228265  35.228713  35.228042\n",
       "4      400 -17476.086   76.266168  4720.89240  35.218649  35.219584  35.217337\n",
       "5      500 -17469.537   81.565628   645.89408  35.231424  35.231958  35.229340\n",
       "6      600 -17465.650   91.036408 -3641.02260  35.243368  35.242693  35.242312\n",
       "7      700 -17462.782  100.252790  -697.52134  35.238219  35.237599  35.236981\n",
       "8      800 -17458.313  102.684660  2989.86000  35.232223  35.232499  35.228823\n",
       "9      900 -17456.812  103.248090   481.05784  35.238298  35.238371  35.235946\n",
       "10    1000 -17459.221  102.864530 -2557.30460  35.243776  35.243519  35.243190\n",
       "11    1100 -17460.856   98.263847  -395.86668  35.236859  35.238599  35.237383\n",
       "12    1200 -17462.575   97.856918  1939.66810  35.231355  35.231865  35.231226\n",
       "13    1300 -17460.281   96.590333   502.25507  35.236233  35.235960  35.235161\n",
       "14    1400 -17459.388  100.517750 -1724.75870  35.240563  35.242412  35.241328\n",
       "15    1500 -17458.392  102.624120  -349.43240  35.237668  35.239670  35.239016\n",
       "16    1600 -17458.708  101.865370  1487.36800  35.233851  35.234802  35.234663\n",
       "17    1700 -17460.007   99.526378   333.75238  35.235816  35.236778  35.236620\n",
       "18    1800 -17461.433   98.048886 -1314.74300  35.238725  35.240308  35.239482\n",
       "19    1900 -17460.459   96.880461  -161.27748  35.236170  35.238480  35.237181\n",
       "20    2000 -17460.251  100.363760  1054.43620  35.234299  35.235282  35.234401\n",
       "21    2100 -17458.302  100.933580   354.56087  35.237720  35.237635  35.236108\n",
       "22    2200 -17458.822  102.154350  -999.84547  35.239325  35.241237  35.239792\n",
       "23    2300 -17459.913  100.664600  -269.98967  35.236026  35.238371  35.239197\n",
       "24    2400 -17460.381   97.578107  1001.27740  35.234160  35.234997  35.234821\n",
       "25    2500 -17461.146   98.162216   242.85310  35.237400  35.236807  35.233904\n",
       "26    2600 -17459.726   98.621063  -716.32294  35.240461  35.239406  35.236944\n",
       "27    2700 -17459.161  101.156120  -245.02675  35.236691  35.240263  35.237504\n",
       "28    2800 -17459.456  102.957750   665.87584  35.236074  35.237754  35.234123\n",
       "29    2900 -17459.427  100.519880   260.59707  35.237885  35.237354  35.235303\n",
       "..     ...        ...         ...         ...        ...        ...        ...\n",
       "71    7100 -17459.651  101.145950 -1671.84500  35.241143  35.246500  35.235927\n",
       "72    7200 -17458.928  100.106420  2124.01730  35.233605  35.230516  35.234260\n",
       "73    7300 -17460.364   99.881196  1539.00860  35.234580  35.227567  35.238224\n",
       "74    7400 -17461.150   98.770926 -1901.29600  35.240452  35.240526  35.241928\n",
       "75    7500 -17460.331   98.508430 -1418.45980  35.239158  35.245144  35.236431\n",
       "76    7600 -17459.769   99.660840  1700.86430  35.233293  35.236050  35.230816\n",
       "77    7700 -17459.485  100.722570  1348.11960  35.236930  35.230265  35.235806\n",
       "78    7800 -17459.295  100.235160 -1400.97180  35.240339  35.237667  35.244110\n",
       "79    7900 -17460.985   99.838403 -1276.78590  35.237910  35.242313  35.238722\n",
       "80    8000 -17460.644   97.663093  1315.44120  35.233568  35.237406  35.230441\n",
       "81    8100 -17459.517   97.430410  1231.79460  35.235798  35.234272  35.233474\n",
       "82    8200 -17460.789  101.222950 -1173.30050  35.241244  35.236358  35.241037\n",
       "83    8300 -17459.996  100.693180  -947.76063  35.238677  35.238848  35.240561\n",
       "84    8400 -17459.665  100.120520   913.30145  35.233766  35.238548  35.233399\n",
       "85    8500 -17460.637   99.798687   744.74152  35.234520  35.236836  35.234062\n",
       "86    8600 -17461.730   98.764344  -824.15630  35.239846  35.236323  35.238672\n",
       "87    8700 -17461.491   99.417721  -835.19933  35.239764  35.235074  35.240416\n",
       "88    8800 -17459.406   98.416423   782.69321  35.234502  35.238388  35.233988\n",
       "89    8900 -17459.905  100.392700   638.88547  35.232482  35.240089  35.234752\n",
       "90    9000 -17459.846  100.514830  -612.72531  35.237774  35.238160  35.240064\n",
       "91    9100 -17459.148   99.375311  -496.63840  35.241172  35.235433  35.239463\n",
       "92    9200 -17459.515   97.720848   705.27441  35.237627  35.235576  35.233938\n",
       "93    9300 -17461.038   98.578092   568.75838  35.231882  35.238677  35.235464\n",
       "94    9400 -17460.468   99.212131  -477.60364  35.235455  35.239694  35.239027\n",
       "95    9500 -17459.951  101.216010  -632.48244  35.239753  35.236236  35.240100\n",
       "96    9600 -17460.171  101.666050   362.43846  35.238491  35.232789  35.237648\n",
       "97    9700 -17459.965  100.329840   547.95570  35.235699  35.236917  35.235164\n",
       "98    9800 -17459.939   98.591088  -400.19930  35.234576  35.243261  35.236392\n",
       "99    9900 -17461.270   98.841590  -630.83991  35.236754  35.239596  35.237734\n",
       "100  10000 -17462.291   98.702266   337.14027  35.237729  35.232256  35.235972\n",
       "\n",
       "[101 rows x 7 columns]"
      ]
     },
     "execution_count": 6,
     "metadata": {},
     "output_type": "execute_result"
    }
   ],
   "source": [
    "thermo = sims[0]['thermo']\n",
    "thermo"
   ]
  },
  {
   "cell_type": "markdown",
   "metadata": {
    "deletable": true,
    "editable": true
   },
   "source": [
    "Plot Lx,Ly,Lz vs Step"
   ]
  },
  {
   "cell_type": "code",
   "execution_count": 7,
   "metadata": {
    "collapsed": false,
    "deletable": true,
    "editable": true
   },
   "outputs": [
    {
     "data": {
      "image/png": "[encoded data removed]",
      "text/plain": [
       "<matplotlib.figure.Figure at 0xb5d85f8>"
      ]
     },
     "metadata": {},
     "output_type": "display_data"
    }
   ],
   "source": [
    "plt.plot(thermo.Step, thermo.Lx, label='Lx')\n",
    "plt.plot(thermo.Step, thermo.Ly, label='Lx')\n",
    "plt.plot(thermo.Step, thermo.Lz, label='Lx')\n",
    "\n",
    "plt.legend()\n",
    "plt.xlabel('Step')\n",
    "plt.ylabel('Box Length (A)')\n",
    "plt.show()"
   ]
  },
  {
   "cell_type": "markdown",
   "metadata": {},
   "source": [
    "### Retrieving data as a model using return_style\n",
    "\n",
    "Using the return_style = 'model' option will convert the Log object into an equivalent structured DataModelDict representation. This is equivalent to what is returned by the [Log.model()](atomman.lammps.Log.model.ipynb) method. This option is mainly for compatibility with scripts created prior to the Log class when the model representation was the only representation."
   ]
  },
  {
   "cell_type": "markdown",
   "metadata": {
    "deletable": true,
    "editable": true
   },
   "source": [
    "### Run with multiple processors\n",
    "\n",
    "Here, we run the same simulation in parallel by supplying your mpi_command. The mpi_command is the full command associated with running the lammps_command with a specific MPI software. __This will be specific to your computer!__"
   ]
  },
  {
   "cell_type": "code",
   "execution_count": 8,
   "metadata": {
    "collapsed": true,
    "deletable": true,
    "editable": true
   },
   "outputs": [],
   "source": [
    "lammps_command = 'lmp_mpi'\n",
    "mpi_command = 'mpiexec -localonly 4'"
   ]
  },
  {
   "cell_type": "code",
   "execution_count": 9,
   "metadata": {
    "collapsed": false,
    "deletable": true,
    "editable": true
   },
   "outputs": [
    {
     "name": "stdout",
     "output_type": "stream",
     "text": [
      "Serial simulation took 39.6819999218 seconds.\n",
      "Parallel simulation took 14.4040000439 seconds\n"
     ]
    }
   ],
   "source": [
    "start = time.time()\n",
    "results = lmp.run(lammps_command, 'demo.in', mpi_command)\n",
    "end = time.time()\n",
    "parallel_run_time = end-start\n",
    "\n",
    "print(\"Serial simulation took\", serial_run_time, \"seconds.\")\n",
    "print(\"Parallel simulation took\", parallel_run_time, \"seconds\")"
   ]
  },
  {
   "cell_type": "markdown",
   "metadata": {
    "deletable": true,
    "editable": true
   },
   "source": [
    "### Get LAMMPS error and rename logfile"
   ]
  },
  {
   "cell_type": "markdown",
   "metadata": {
    "deletable": true,
    "editable": true
   },
   "source": [
    "The run function passes any errors raised by LAMMPS to become errors in Python. This allows for easy debugging in Python.\n",
    "\n",
    "Here, we create the same LAMMPS script above but misspell 'origin' in the lattice command."
   ]
  },
  {
   "cell_type": "code",
   "execution_count": 10,
   "metadata": {
    "collapsed": false,
    "deletable": true,
    "editable": true
   },
   "outputs": [],
   "source": [
    "with open('error.in', 'w') as f:\n",
    "    f.write(\"\"\"\n",
    "#Simple demonstration LAMMPS script\n",
    "\n",
    "units metal\n",
    "atom_style atomic\n",
    "boundary p p p \n",
    "\n",
    "lattice fcc 3.52 orign 0.100000 0.100000 0.100000 \n",
    "        \n",
    "region box block 0 10 0 10 0 10\n",
    "create_box 1 box\n",
    "create_atoms 1 box\n",
    "\n",
    "mass 1 58.71\n",
    "\n",
    "pair_style lj/cut 6\n",
    "pair_coeff 1 1 0.5408 2.272\n",
    "\n",
    "velocity all create 100 2987532\n",
    "\n",
    "thermo 100\n",
    "thermo_style custom step pe temp press lx ly lz\n",
    "\n",
    "timestep 0.01\n",
    "\n",
    "fix 1 all npt temp 100 100 1.0 aniso 0.0 0.0 10.0\n",
    "run 10000\n",
    "\"\"\")"
   ]
  },
  {
   "cell_type": "markdown",
   "metadata": {
    "deletable": true,
    "editable": true
   },
   "source": [
    "Running and catching the error. Note that the logfile has also been changed to 'error.lammps'."
   ]
  },
  {
   "cell_type": "code",
   "execution_count": 11,
   "metadata": {
    "collapsed": false,
    "deletable": true,
    "editable": true
   },
   "outputs": [
    {
     "name": "stdout",
     "output_type": "stream",
     "text": [
      "Invalid LAMMPS input: \n",
      "ERROR: Illegal lattice command (../lattice.cpp:226)\n"
     ]
    }
   ],
   "source": [
    "try:\n",
    "    results = lmp.run(lammps_command, 'error.in', logfile='error.lammps')\n",
    "except Exception, e:\n",
    "    print(e)"
   ]
  },
  {
   "cell_type": "markdown",
   "metadata": {},
   "source": [
    "Looking at 'error.lammps' to prove that it exists."
   ]
  },
  {
   "cell_type": "code",
   "execution_count": 12,
   "metadata": {
    "collapsed": false
   },
   "outputs": [
    {
     "name": "stdout",
     "output_type": "stream",
     "text": [
      "LAMMPS (27 Aug 2016-ICMS)\n",
      "WARNING: OMP_NUM_THREADS environment is not set. Defaulting to 1 thread. (../comm.cpp:90)\n",
      "  using 1 OpenMP thread(s) per MPI task\n",
      "\n",
      "#Simple demonstration LAMMPS script\n",
      "\n",
      "units metal\n",
      "atom_style atomic\n",
      "boundary p p p\n",
      "\n",
      "lattice fcc 3.52 orign 0.100000 0.100000 0.100000\n",
      "ERROR: Illegal lattice command (../lattice.cpp:226)\n",
      "\n"
     ]
    }
   ],
   "source": [
    "with open('error.lammps') as f:\n",
    "    print(f.read())"
   ]
  },
  {
   "cell_type": "markdown",
   "metadata": {},
   "source": [
    "### Restarting a simulation\n",
    "\n",
    "The run function also supports the ability to restart and continue a simulation. If restart_script_name is supplied, the function will see if logfile already exists. If logfile does not exist, then the script_name script will be performed normally. If logfile does exist, then the following additional actions will be performed:\n",
    "\n",
    "1. The existing logfile is renamed with an incremental number such that the logs of all previous runs are retained.\n",
    "\n",
    "2. LAMMPS is executed using the restart_script_name script instead of the script_name script.\n",
    "\n",
    "3. The data in all matching logfiles (previous and current) will be read in and contained in the Log object returned.\n"
   ]
  },
  {
   "cell_type": "markdown",
   "metadata": {},
   "source": [
    "Create a restart script for demo"
   ]
  },
  {
   "cell_type": "code",
   "execution_count": 13,
   "metadata": {
    "collapsed": true
   },
   "outputs": [],
   "source": [
    "with open('restart.in', 'w') as f:\n",
    "    f.write(\"\"\"\n",
    "#Simple demonstration LAMMPS script\n",
    "\n",
    "read_restart *.restart\n",
    "\n",
    "pair_style lj/cut 6\n",
    "pair_coeff 1 1 0.5408 2.272\n",
    "\n",
    "thermo 100\n",
    "thermo_style custom step pe temp press lx ly lz\n",
    "\n",
    "restart 10000 *.restart\n",
    "\n",
    "fix 1 all npt temp 100 100 1.0 aniso 0.0 0.0 10.0\n",
    "run 20000 upto\n",
    "\"\"\")"
   ]
  },
  {
   "cell_type": "markdown",
   "metadata": {},
   "source": [
    "Call run using restart_script_name."
   ]
  },
  {
   "cell_type": "code",
   "execution_count": 14,
   "metadata": {
    "collapsed": false
   },
   "outputs": [],
   "source": [
    "results = lmp.run(lammps_command, 'demo.in', restart_script_name='restart.in')"
   ]
  },
  {
   "cell_type": "markdown",
   "metadata": {},
   "source": [
    "Each run/minimization in each log file is stored in a separate simulation of the Log object to ensure that no data is lost. "
   ]
  },
  {
   "cell_type": "code",
   "execution_count": 15,
   "metadata": {
    "collapsed": false
   },
   "outputs": [
    {
     "name": "stdout",
     "output_type": "stream",
     "text": [
      "2 simulation run(s) in Log\n",
      "Simulation 0 has 101 steps ranging 0 to 10000\n",
      "Simulation 1 has 101 steps ranging 10000 to 20000\n"
     ]
    }
   ],
   "source": [
    "sims = results.simulations\n",
    "print(len(sims), 'simulation run(s) in Log')\n",
    "\n",
    "for i, sim in enumerate(sims):\n",
    "    steps = sim['thermo'].Step\n",
    "    print('Simulation', i, 'has', len(steps), 'steps ranging', steps.min(), 'to', steps.max())\n",
    "    "
   ]
  },
  {
   "cell_type": "markdown",
   "metadata": {},
   "source": [
    "### Flattening thermo data into a single DataFrame\n",
    "\n",
    "The flatten keyword allows for multiple simulations in a Log file to be reduced to a single set of data. The two options are 'first' and 'last', which indicate whether the first or last appearance of a specific Step value is retained. Which one to use depends on the simulation design. Equivalently, one could call the [Log.flatten()](atomman.lammps.Log.flatten.ipynb) method after the simulation has finished.\n",
    "\n",
    "__Note__: by the nature of the 'first' and 'last' options, some data will be lost when Step values overlap."
   ]
  },
  {
   "cell_type": "markdown",
   "metadata": {},
   "source": [
    "Run with restart and flatten. (The run upto command means that the new simulation will run for 0 steps)"
   ]
  },
  {
   "cell_type": "code",
   "execution_count": 16,
   "metadata": {
    "collapsed": false
   },
   "outputs": [],
   "source": [
    "results = lmp.run(lammps_command, 'demo.in', restart_script_name='restart.in', flatten='first')"
   ]
  },
  {
   "cell_type": "markdown",
   "metadata": {},
   "source": [
    "Show that results only has one simulation with steps from both the original and restart runs."
   ]
  },
  {
   "cell_type": "code",
   "execution_count": 17,
   "metadata": {
    "collapsed": false
   },
   "outputs": [
    {
     "name": "stdout",
     "output_type": "stream",
     "text": [
      "1 simulation run(s) in Log\n",
      "Simulation 0 has 201 steps ranging 0 to 20000\n"
     ]
    }
   ],
   "source": [
    "sims = results.simulations\n",
    "print(len(sims), 'simulation run(s) in Log')\n",
    "\n",
    "for i, sim in enumerate(sims):\n",
    "    steps = sim['thermo'].Step\n",
    "    print('Simulation', i, 'has', len(steps), 'steps ranging', steps.min(), 'to', steps.max())"
   ]
  },
  {
   "cell_type": "markdown",
   "metadata": {
    "deletable": true,
    "editable": true
   },
   "source": [
    "File cleanup"
   ]
  },
  {
   "cell_type": "code",
   "execution_count": 18,
   "metadata": {
    "collapsed": false,
    "deletable": true,
    "editable": true
   },
   "outputs": [],
   "source": [
    "import os\n",
    "os.remove('demo.in')\n",
    "os.remove('log.lammps')\n",
    "os.remove('error.in')\n",
    "os.remove('error.lammps')\n",
    "os.remove('restart.in')\n",
    "os.remove('log-1.lammps')\n",
    "os.remove('log-2.lammps')\n",
    "os.remove('10000.restart')\n",
    "os.remove('20000.restart')"
   ]
  },
  {
   "cell_type": "markdown",
   "metadata": {
    "deletable": true,
    "editable": true
   },
   "source": [
    "- - -\n",
    "__Docs Navigation:__\n",
    "\n",
    "Tutorial:\n",
    "\n",
    "1. [Basics](../tutorial/1 Basics.ipynb)\n",
    "\n",
    "2. [LAMMPS Functionality](../tutorial/2 LAMMPS Functionality.ipynb)\n",
    "\n",
    "3. [Defect Generation and Evaluation](../tutorial/3 Defect Generation and Evaluation.ipynb)\n",
    "\n",
    "\n",
    "Reference:\n",
    "\n",
    "- [atomman](../reference/atomman.ipynb)\n",
    "\n",
    "- [atomman.convert](../reference/atomman.convert.ipynb)\n",
    "\n",
    "- [atomman.defect](../reference/atomman.defect.ipynb)\n",
    "\n",
    "- [atomman.lammps](../reference/atomman.lammps.ipynb)\n",
    "\n",
    "- [atomman.tools](../reference/atomman.tools.ipynb)\n",
    "\n",
    "- [atomman.unitconvert](../reference/atomman.unitconvert.ipynb)"
   ]
  },
  {
   "cell_type": "code",
   "execution_count": null,
   "metadata": {
    "collapsed": true
   },
   "outputs": [],
   "source": []
  }
 ],
 "metadata": {
  "kernelspec": {
   "display_name": "Python 2",
   "language": "python",
   "name": "python2"
  },
  "language_info": {
   "codemirror_mode": {
    "name": "ipython",
    "version": 2
   },
   "file_extension": ".py",
   "mimetype": "text/x-python",
   "name": "python",
   "nbconvert_exporter": "python",
   "pygments_lexer": "ipython2",
   "version": "2.7.13"
  }
 },
 "nbformat": 4,
 "nbformat_minor": 0
}
