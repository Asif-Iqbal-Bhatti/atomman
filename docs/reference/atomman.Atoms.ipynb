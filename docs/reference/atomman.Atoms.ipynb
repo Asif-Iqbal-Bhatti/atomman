{
 "cells": [
  {
   "cell_type": "markdown",
   "metadata": {
    "deletable": true,
    "editable": true
   },
   "source": [
    "# atomman.Atoms Class\n",
    "\n",
    "- - -"
   ]
  },
  {
   "cell_type": "markdown",
   "metadata": {
    "deletable": true,
    "editable": true
   },
   "source": [
    "**Lucas M. Hale**, [lucas.hale@nist.gov](mailto:lucas.hale@nist.gov?Subject=ipr-demo), *Materials Science and Engineering Division, NIST*.\n",
    "\n",
    "**Chandler A. Becker**, [chandler.becker@nist.gov](mailto:chandler.becker@nist.gov?Subject=ipr-demo), *Office of Data and Informatics, NIST*.\n",
    "\n",
    "**Zachary T. Trautt**, [zachary.trautt@nist.gov](mailto:zachary.trautt@nist.gov?Subject=ipr-demo), *Materials Measurement Science Division, NIST*.\n",
    "\n",
    "Version: 2017-04-19\n",
    "\n",
    "[Disclaimers](http://www.nist.gov/public_affairs/disclaimer.cfm) \n",
    " \n",
    "- - -"
   ]
  },
  {
   "cell_type": "markdown",
   "metadata": {
    "deletable": true,
    "editable": true
   },
   "source": [
    "## Introduction\n",
    "\n",
    "Class Atoms represents a dictionary of atomic properties.  All data is stored in a single numpy array to minimize memory cost, and properties can be accessed either with controlled methods that account for data types and units or directly through the use of numpy views.\n",
    "\n",
    "The underlying code can be found in [atomman/core/Atoms.py](../../atomman/core/Atoms.py).\n",
    "\n",
    "- - -"
   ]
  },
  {
   "cell_type": "markdown",
   "metadata": {
    "deletable": true,
    "editable": true
   },
   "source": [
    "## Class Methods of Atoms\n",
    "\n",
    "- [\\__init__(self, natoms=1, prop={}, prop_dtype=None, nvals=30, data=None, view=None)](atomman.Atoms.__init__.ipynb) -- class initializer.\n",
    "\n",
    "- [\\__str__(self)](atomman.Atoms.__str__.ipynb) -- generates string output of the class.\n",
    "\n",
    "- [\\__getitem__(self, index)](atomman.Atoms.__getitem__.ipynb) -- allows index getting of a subset of Atoms.\n",
    "\n",
    "- [\\__setitem__(self, index, value)](atomman.Atoms.__setitem__.ipynb) -- allows index setting of a subset of Atoms.\n",
    "\n",
    "- [prop(self, a_id, key, value, dtype)](atomman.Atoms.prop.ipynb) -- primary method for accessing and setting per-atom properties. "
   ]
  },
  {
   "cell_type": "markdown",
   "metadata": {
    "deletable": true,
    "editable": true
   },
   "source": [
    "## Class Attributes of Atoms\n",
    "\n",
    "- [natoms](atomman.Atoms.natoms.ipynb) -- the number of atoms in the Atoms instance.\n",
    "\n",
    "- [natypes](atomman.Atoms.natypes.ipynb) -- the number of assigned atom types.\n",
    "\n",
    "- [data](atomman.Atoms.data.ipynb) -- the underlying numpy array used for storing per-atom values.\n",
    "\n",
    "- [view](atomman.Atoms.view.ipynb) -- dictionary of structured views for each assigned property.\n",
    "\n",
    "- [dtype](atomman.Atoms.dtype.ipynb) -- dictionary of data types for each assigned property."
   ]
  },
  {
   "cell_type": "markdown",
   "metadata": {
    "deletable": true,
    "editable": true
   },
   "source": [
    "__Docs Navigation:__\n",
    "\n",
    "Tutorial:\n",
    "\n",
    "1. [Basics](../tutorial/1 Basics.ipynb)\n",
    "\n",
    "2. [LAMMPS Functionality](../tutorial/2 LAMMPS Functionality.ipynb)\n",
    "\n",
    "3. [Defect Generation and Evaluation](../tutorial/3 Defect Generation and Evaluation.ipynb)\n",
    "\n",
    "\n",
    "Reference:\n",
    "\n",
    "- [atomman](../reference/atomman.ipynb)\n",
    "\n",
    "- [atomman.convert](../reference/atomman.convert.ipynb)\n",
    "\n",
    "- [atomman.defect](../reference/atomman.defect.ipynb)\n",
    "\n",
    "- [atomman.lammps](../reference/atomman.lammps.ipynb)\n",
    "\n",
    "- [atomman.tools](../reference/atomman.tools.ipynb)\n",
    "\n",
    "- [atomman.unitconvert](../reference/atomman.unitconvert.ipynb)"
   ]
  }
 ],
 "metadata": {
  "kernelspec": {
   "display_name": "Python 2",
   "language": "python",
   "name": "python2"
  },
  "language_info": {
   "codemirror_mode": {
    "name": "ipython",
    "version": 2
   },
   "file_extension": ".py",
   "mimetype": "text/x-python",
   "name": "python",
   "nbconvert_exporter": "python",
   "pygments_lexer": "ipython2",
   "version": "2.7.13"
  }
 },
 "nbformat": 4,
 "nbformat_minor": 0
}
