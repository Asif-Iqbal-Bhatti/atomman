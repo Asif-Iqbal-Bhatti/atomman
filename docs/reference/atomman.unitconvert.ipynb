{
 "cells": [
  {
   "cell_type": "markdown",
   "metadata": {},
   "source": [
    "# atomman.unitconvert Module \n",
    "\n",
    "- - -"
   ]
  },
  {
   "cell_type": "markdown",
   "metadata": {},
   "source": [
    "**Lucas M. Hale**, [lucas.hale@nist.gov](mailto:lucas.hale@nist.gov?Subject=ipr-demo), *Materials Science and Engineering Division, NIST*.\n",
    "\n",
    "**Chandler A. Becker**, [chandler.becker@nist.gov](mailto:chandler.becker@nist.gov?Subject=ipr-demo), *Office of Data and Informatics, NIST*.\n",
    "\n",
    "**Zachary T. Trautt**, [zachary.trautt@nist.gov](mailto:zachary.trautt@nist.gov?Subject=ipr-demo), *Materials Measurement Science Division, NIST*.\n",
    "\n",
    "Version: 2016-08-23\n",
    "\n",
    "[Disclaimers](http://www.nist.gov/public_affairs/disclaimer.cfm) \n",
    " \n",
    "- - -"
   ]
  },
  {
   "cell_type": "markdown",
   "metadata": {},
   "source": [
    "## Introduction\n",
    "\n",
    "The unitconvert module of atomman handles unit conversion by building off of the [numericalunits](https://pypi.python.org/pypi/numericalunits) package.  In this manner, units are not 'controlled' but converted at the beginning and end of simulations.  This minimizes overhead and allows for simpler code. "
   ]
  },
  {
   "cell_type": "markdown",
   "metadata": {},
   "source": [
    "## Functions of unitconvert\n",
    "\n",
    "- [build_unit()](atomman.unitconvert.build_unit.ipynb) -- builds the unit dictionary based on the current settings.\n",
    "\n",
    "- [get_in_units(value, units)](atomman.unitconvert.get_in_units.ipynb) -- converts value from the working units to the specified units.\n",
    "\n",
    "- [parse(units)](atomman.unitconvert.parse.ipynb) -- parses a string unit name to allow handling of complex units.\n",
    "\n",
    "- [reset_units(seed=None, length=None, mass=None, time=None, energy=None, charge=None)](atomman.unitconvert.reset_units.ipynb) -- changes the default working units.\n",
    "\n",
    "- [set_in_units(value, units)](atomman.unitconvert.get_in_units.ipynb) -- converts value from the specified units to the working units.\n",
    "\n",
    "- [value_unit(term)](atomman.unitconvert.value_unit.ipynb) -- returns a value in working units based on a dictionary containing keys 'value' and 'unit'."
   ]
  },
  {
   "cell_type": "markdown",
   "metadata": {},
   "source": [
    "## Attributes of unitconvert\n",
    "\n",
    "- [unit](atomman.unitconvert.unit.ipynb) -- dictionary relating string unit names to their scaling values."
   ]
  },
  {
   "cell_type": "markdown",
   "metadata": {},
   "source": [
    "- - -\n",
    "__Docs Navigation:__\n",
    "\n",
    "Tutorial:\n",
    "\n",
    "1. [Basics](../tutorial/1 Basics.ipynb)\n",
    "\n",
    "2. [LAMMPS Functionality](../tutorial/2 LAMMPS Functionality.ipynb)\n",
    "\n",
    "3. [Defect Generation and Evaluation](../tutorial/3 Defect Generation and Evaluation.ipynb)\n",
    "\n",
    "\n",
    "Reference:\n",
    "\n",
    "- [atomman](../reference/atomman.ipynb)\n",
    "\n",
    "- [atomman.convert](../reference/atomman.convert.ipynb)\n",
    "\n",
    "- [atomman.defect](../reference/atomman.defect.ipynb)\n",
    "\n",
    "- [atomman.lammps](../reference/atomman.lammps.ipynb)\n",
    "\n",
    "- [atomman.tools](../reference/atomman.tools.ipynb)\n",
    "\n",
    "- [atomman.unitconvert](../reference/atomman.unitconvert.ipynb)"
   ]
  }
 ],
 "metadata": {
  "kernelspec": {
   "display_name": "Python 2",
   "language": "python",
   "name": "python2"
  },
  "language_info": {
   "codemirror_mode": {
    "name": "ipython",
    "version": 2
   },
   "file_extension": ".py",
   "mimetype": "text/x-python",
   "name": "python",
   "nbconvert_exporter": "python",
   "pygments_lexer": "ipython2",
   "version": "2.7.11"
  }
 },
 "nbformat": 4,
 "nbformat_minor": 0
}
