{
 "cells": [
  {
   "cell_type": "markdown",
   "metadata": {},
   "source": [
    "# atomman.defect.point(system, ptd_type=None, atype=None, pos=None, ptd_id=None, db_vect=None, scale=False, atol=None)\n",
    "\n",
    "- - -"
   ]
  },
  {
   "cell_type": "markdown",
   "metadata": {},
   "source": [
    "**Lucas M. Hale**, [lucas.hale@nist.gov](mailto:lucas.hale@nist.gov?Subject=ipr-demo), *Materials Science and Engineering Division, NIST*.\n",
    "\n",
    "**Chandler A. Becker**, [chandler.becker@nist.gov](mailto:chandler.becker@nist.gov?Subject=ipr-demo), *Office of Data and Informatics, NIST*.\n",
    "\n",
    "**Zachary T. Trautt**, [zachary.trautt@nist.gov](mailto:zachary.trautt@nist.gov?Subject=ipr-demo), *Materials Measurement Science Division, NIST*.\n",
    "\n",
    "Version: 2016-09-02\n",
    "\n",
    "[Disclaimers](http://www.nist.gov/public_affairs/disclaimer.cfm) \n",
    " \n",
    "- - -"
   ]
  },
  {
   "cell_type": "markdown",
   "metadata": {},
   "source": [
    "## Introduction\n",
    "\n",
    "The point function allows for the insertion of a point defect into a System.\n",
    "\n",
    "Arguments:\n",
    "\n",
    "- __system__ -- the [atomman.System](atomman.System.ipynb) to add the defect to.\n",
    "\n",
    "- __ptd_type__ -- indicates which type of point defect to add.\n",
    "    \n",
    "    - ='v' -- vacancy (same as calling [atomman.defect.vacancy](atomman.defect.vacancy.ipynb))\n",
    "    \n",
    "    - ='s' -- substitutional (same as calling [atomman.defect.substitutional](atomman.defect.substitutional.ipynb))\n",
    "    \n",
    "    - ='i' -- position-based interstitial (same as calling [atomman.defect.interstitial](atomman.defect.interstitial.ipynb))\n",
    "    \n",
    "    - ='db' -- dumbbell interstitial (same as calling [atomman.defect.dumbbell](atomman.defect.dumbbell.ipynb))\n",
    "    \n",
    "Keyword Arguments:\n",
    "\n",
    "- __atype__ -- atom type for defect atom ('i', 's', 'db' styles).\n",
    "\n",
    "- __pos__ -- position for adding the defect atom (all styles).\n",
    "\n",
    "- __ptd_id__ -- atom id where defect is added.  Alternative to using pos ('v', 's', 'db' styles).\n",
    "\n",
    "- __db_vect__ -- vector associated with the dumbbell interstitial ('db' style).\n",
    "\n",
    "- __scale__ -- indicates if pos and db_vect are absolute (False) or box-relative (True). Default is False.\n",
    "\n",
    "- __atol__ -- absolute tolerance for position-based searching. Default is 1e-3 angstroms.\n",
    "\n",
    "Any atoms added/modified by this function will be moved to the highest atom index(es) to help find the defects.\n",
    "\n",
    "The returned System will be assigned an atoms property \"old_id\" if it doesn't exist which corresponds to the index values of all atoms from the base System supplied as an argument.  If \"old_id\" already exists, then the values of existing atoms will be unchanged. If an atom is added, it will be assigned an \"old_id\" one greater than the largest atom index or the largest \"old_id\" value, whichever is larger. \n",
    "\n",
    "The underlying code can be found in [atomman/defect/point.py](../../atomman/defect/point.py)."
   ]
  },
  {
   "cell_type": "markdown",
   "metadata": {},
   "source": [
    "## Demonstration"
   ]
  },
  {
   "cell_type": "markdown",
   "metadata": {},
   "source": [
    "Library imports"
   ]
  },
  {
   "cell_type": "code",
   "execution_count": 1,
   "metadata": {
    "collapsed": true
   },
   "outputs": [],
   "source": [
    "import atomman as am\n",
    "import numpy as np"
   ]
  },
  {
   "cell_type": "markdown",
   "metadata": {},
   "source": [
    "Generate demonstration system with random atomic positions"
   ]
  },
  {
   "cell_type": "code",
   "execution_count": 2,
   "metadata": {
    "collapsed": false
   },
   "outputs": [],
   "source": [
    "box = am.Box(a=10, b=10, c=10)\n",
    "atoms = am.Atoms(natoms=20, prop={'atype':1, 'pos':10*np.random.random((20,3))})\n",
    "\n",
    "system = am.System(atoms=atoms, box=box)"
   ]
  },
  {
   "cell_type": "markdown",
   "metadata": {},
   "source": [
    "Print all atom ids old_ids, atypes and positions"
   ]
  },
  {
   "cell_type": "code",
   "execution_count": 3,
   "metadata": {
    "collapsed": false
   },
   "outputs": [
    {
     "name": "stdout",
     "output_type": "stream",
     "text": [
      "     id  old_id  atype                  position\n",
      "     0   None      1     [ 8.34274831  4.43272825  7.31240841]\n",
      "     1   None      1     [ 6.05651425  1.28443782  1.05627597]\n",
      "     2   None      1     [ 2.19474949  9.0312448   3.7255945 ]\n",
      "     3   None      1     [ 1.69001674  0.65446161  5.1173393 ]\n",
      "     4   None      1     [ 4.04216674  7.2753019   3.78609091]\n",
      "     5   None      1     [ 6.68135119  8.02014397  7.15852121]\n",
      "     6   None      1     [ 6.21153997  0.02515661  8.90080688]\n",
      "     7   None      1     [ 6.89424661  1.67563836  8.46403309]\n",
      "     8   None      1     [ 2.24156543  2.81417029  2.91776159]\n",
      "     9   None      1     [ 4.76757001  5.00518055  2.05506423]\n",
      "    10   None      1     [ 5.73491903  6.14007169  8.99339411]\n",
      "    11   None      1     [ 2.39422247  5.56357352  0.55516098]\n",
      "    12   None      1     [ 7.54292705  4.65728309  9.29751244]\n",
      "    13   None      1     [ 3.5794625   3.20920974  3.51508296]\n",
      "    14   None      1     [ 4.38986844  3.11872117  8.97595061]\n",
      "    15   None      1     [ 0.78041354  4.89595049  9.49508743]\n",
      "    16   None      1     [ 8.06574054  5.84496388  5.07217874]\n",
      "    17   None      1     [ 9.20130395  8.65449339  3.19305694]\n",
      "    18   None      1     [ 3.42035477  3.99747801  1.0424113 ]\n",
      "    19   None      1     [ 6.78485935  7.76812125  7.25996797]\n"
     ]
    }
   ],
   "source": [
    "print '     id  old_id  atype                  position'\n",
    "for i in xrange(system.natoms):\n",
    "    print '%6s %6s %6s     %s' %(i, system.atoms_prop(a_id=i, key='old_id'), \n",
    "                                    system.atoms_prop(a_id=i, key='atype'), \n",
    "                                str(system.atoms_prop(a_id=i, key='pos')))"
   ]
  },
  {
   "cell_type": "markdown",
   "metadata": {},
   "source": [
    "### ptd_type = 'v'\n",
    "\n",
    "Same as calling [atomman.defect.vacancy](atomman.defect.vacancy.ipynb)."
   ]
  },
  {
   "cell_type": "markdown",
   "metadata": {},
   "source": [
    "Add a vacancy using ptd_id"
   ]
  },
  {
   "cell_type": "code",
   "execution_count": 4,
   "metadata": {
    "collapsed": false
   },
   "outputs": [],
   "source": [
    "system_v = am.defect.point(system, 'v', ptd_id=5)"
   ]
  },
  {
   "cell_type": "markdown",
   "metadata": {},
   "source": [
    "Add another vacancy using pos"
   ]
  },
  {
   "cell_type": "code",
   "execution_count": 5,
   "metadata": {
    "collapsed": true
   },
   "outputs": [],
   "source": [
    "#Get position for atom with id=3\n",
    "v_pos = system.atoms_prop(a_id=3, key='pos')\n",
    "system_v = am.defect.point(system_v, 'v', pos=v_pos)"
   ]
  },
  {
   "cell_type": "markdown",
   "metadata": {},
   "source": [
    "Print all atom ids old_ids, atypes and positions. Note old_ids are missing 3 and 5 (the deleted atoms)."
   ]
  },
  {
   "cell_type": "code",
   "execution_count": 6,
   "metadata": {
    "collapsed": false
   },
   "outputs": [
    {
     "name": "stdout",
     "output_type": "stream",
     "text": [
      "     id  old_id  atype                  position\n",
      "     0      0      1     [ 8.34274831  4.43272825  7.31240841]\n",
      "     1      1      1     [ 6.05651425  1.28443782  1.05627597]\n",
      "     2      2      1     [ 2.19474949  9.0312448   3.7255945 ]\n",
      "     3      4      1     [ 4.04216674  7.2753019   3.78609091]\n",
      "     4      6      1     [ 6.21153997  0.02515661  8.90080688]\n",
      "     5      7      1     [ 6.89424661  1.67563836  8.46403309]\n",
      "     6      8      1     [ 2.24156543  2.81417029  2.91776159]\n",
      "     7      9      1     [ 4.76757001  5.00518055  2.05506423]\n",
      "     8     10      1     [ 5.73491903  6.14007169  8.99339411]\n",
      "     9     11      1     [ 2.39422247  5.56357352  0.55516098]\n",
      "    10     12      1     [ 7.54292705  4.65728309  9.29751244]\n",
      "    11     13      1     [ 3.5794625   3.20920974  3.51508296]\n",
      "    12     14      1     [ 4.38986844  3.11872117  8.97595061]\n",
      "    13     15      1     [ 0.78041354  4.89595049  9.49508743]\n",
      "    14     16      1     [ 8.06574054  5.84496388  5.07217874]\n",
      "    15     17      1     [ 9.20130395  8.65449339  3.19305694]\n",
      "    16     18      1     [ 3.42035477  3.99747801  1.0424113 ]\n",
      "    17     19      1     [ 6.78485935  7.76812125  7.25996797]\n"
     ]
    }
   ],
   "source": [
    "print '     id  old_id  atype                  position'\n",
    "for i in xrange(system_v.natoms):\n",
    "    print '%6s %6s %6s     %s' %(i, system_v.atoms_prop(a_id=i, key='old_id'), \n",
    "                                    system_v.atoms_prop(a_id=i, key='atype'), \n",
    "                                str(system_v.atoms_prop(a_id=i, key='pos')))"
   ]
  },
  {
   "cell_type": "markdown",
   "metadata": {},
   "source": [
    "### ptd_type = 'i'\n",
    "\n",
    "Same as calling [atomman.defect.interstitial](atomman.defect.interstitial.ipynb)."
   ]
  },
  {
   "cell_type": "markdown",
   "metadata": {},
   "source": [
    "Add an interstitial at pos"
   ]
  },
  {
   "cell_type": "code",
   "execution_count": 7,
   "metadata": {
    "collapsed": true
   },
   "outputs": [],
   "source": [
    "pos=(0.1111111111, 0.1111111111, 0.111111111111)\n",
    "system_i = am.defect.point(system, 'i', atype=2, pos=pos)"
   ]
  },
  {
   "cell_type": "markdown",
   "metadata": {},
   "source": [
    "Print all atom ids old_ids, atypes and positions. Note the new atom is at the highest index."
   ]
  },
  {
   "cell_type": "code",
   "execution_count": 8,
   "metadata": {
    "collapsed": false
   },
   "outputs": [
    {
     "name": "stdout",
     "output_type": "stream",
     "text": [
      "     id  old_id  atype                  position\n",
      "     0      0      1     [ 8.34274831  4.43272825  7.31240841]\n",
      "     1      1      1     [ 6.05651425  1.28443782  1.05627597]\n",
      "     2      2      1     [ 2.19474949  9.0312448   3.7255945 ]\n",
      "     3      3      1     [ 1.69001674  0.65446161  5.1173393 ]\n",
      "     4      4      1     [ 4.04216674  7.2753019   3.78609091]\n",
      "     5      5      1     [ 6.68135119  8.02014397  7.15852121]\n",
      "     6      6      1     [ 6.21153997  0.02515661  8.90080688]\n",
      "     7      7      1     [ 6.89424661  1.67563836  8.46403309]\n",
      "     8      8      1     [ 2.24156543  2.81417029  2.91776159]\n",
      "     9      9      1     [ 4.76757001  5.00518055  2.05506423]\n",
      "    10     10      1     [ 5.73491903  6.14007169  8.99339411]\n",
      "    11     11      1     [ 2.39422247  5.56357352  0.55516098]\n",
      "    12     12      1     [ 7.54292705  4.65728309  9.29751244]\n",
      "    13     13      1     [ 3.5794625   3.20920974  3.51508296]\n",
      "    14     14      1     [ 4.38986844  3.11872117  8.97595061]\n",
      "    15     15      1     [ 0.78041354  4.89595049  9.49508743]\n",
      "    16     16      1     [ 8.06574054  5.84496388  5.07217874]\n",
      "    17     17      1     [ 9.20130395  8.65449339  3.19305694]\n",
      "    18     18      1     [ 3.42035477  3.99747801  1.0424113 ]\n",
      "    19     19      1     [ 6.78485935  7.76812125  7.25996797]\n",
      "    20     20      2     [ 0.11111111  0.11111111  0.11111111]\n"
     ]
    }
   ],
   "source": [
    "print '     id  old_id  atype                  position'\n",
    "for i in xrange(system_i.natoms):\n",
    "    print '%6s %6s %6s     %s' %(i, system_i.atoms_prop(a_id=i, key='old_id'), \n",
    "                                    system_i.atoms_prop(a_id=i, key='atype'), \n",
    "                                str(system_i.atoms_prop(a_id=i, key='pos')))"
   ]
  },
  {
   "cell_type": "markdown",
   "metadata": {},
   "source": [
    "### ptd_type = 's'\n",
    "\n",
    "Same as calling [atomman.defect.substitutional](atomman.defect.substitutional.ipynb)."
   ]
  },
  {
   "cell_type": "markdown",
   "metadata": {},
   "source": [
    "Add a substitutional using ptd_id"
   ]
  },
  {
   "cell_type": "code",
   "execution_count": 9,
   "metadata": {
    "collapsed": false
   },
   "outputs": [],
   "source": [
    "system_s = am.defect.point(system, 's', atype=2, ptd_id=4)"
   ]
  },
  {
   "cell_type": "markdown",
   "metadata": {},
   "source": [
    "Add another substitutional using pos"
   ]
  },
  {
   "cell_type": "code",
   "execution_count": 10,
   "metadata": {
    "collapsed": true
   },
   "outputs": [],
   "source": [
    "#get position for atom with index 9\n",
    "s_pos = system.atoms_prop(a_id=9, key='pos')\n",
    "\n",
    "system_s = am.defect.point(system_s, 's', atype=2, pos=s_pos)"
   ]
  },
  {
   "cell_type": "markdown",
   "metadata": {},
   "source": [
    "Print all atom ids old_ids, atypes and positions. Note that the modified atoms are moved to the highest indexes"
   ]
  },
  {
   "cell_type": "code",
   "execution_count": 11,
   "metadata": {
    "collapsed": false
   },
   "outputs": [
    {
     "name": "stdout",
     "output_type": "stream",
     "text": [
      "     id  old_id  atype                  position\n",
      "     0      0      1     [ 8.34274831  4.43272825  7.31240841]\n",
      "     1      1      1     [ 6.05651425  1.28443782  1.05627597]\n",
      "     2      2      1     [ 2.19474949  9.0312448   3.7255945 ]\n",
      "     3      3      1     [ 1.69001674  0.65446161  5.1173393 ]\n",
      "     4      5      1     [ 6.68135119  8.02014397  7.15852121]\n",
      "     5      6      1     [ 6.21153997  0.02515661  8.90080688]\n",
      "     6      7      1     [ 6.89424661  1.67563836  8.46403309]\n",
      "     7      8      1     [ 2.24156543  2.81417029  2.91776159]\n",
      "     8     10      1     [ 5.73491903  6.14007169  8.99339411]\n",
      "     9     11      1     [ 2.39422247  5.56357352  0.55516098]\n",
      "    10     12      1     [ 7.54292705  4.65728309  9.29751244]\n",
      "    11     13      1     [ 3.5794625   3.20920974  3.51508296]\n",
      "    12     14      1     [ 4.38986844  3.11872117  8.97595061]\n",
      "    13     15      1     [ 0.78041354  4.89595049  9.49508743]\n",
      "    14     16      1     [ 8.06574054  5.84496388  5.07217874]\n",
      "    15     17      1     [ 9.20130395  8.65449339  3.19305694]\n",
      "    16     18      1     [ 3.42035477  3.99747801  1.0424113 ]\n",
      "    17     19      1     [ 6.78485935  7.76812125  7.25996797]\n",
      "    18      4      2     [ 4.04216674  7.2753019   3.78609091]\n",
      "    19      9      2     [ 4.76757001  5.00518055  2.05506423]\n"
     ]
    }
   ],
   "source": [
    "print '     id  old_id  atype                  position'\n",
    "for i in xrange(system_s.natoms):\n",
    "    print '%6s %6s %6s     %s' %(i, system_s.atoms_prop(a_id=i, key='old_id'), \n",
    "                                    system_s.atoms_prop(a_id=i, key='atype'), \n",
    "                                str(system_s.atoms_prop(a_id=i, key='pos')))"
   ]
  },
  {
   "cell_type": "markdown",
   "metadata": {},
   "source": [
    "### ptd_type = 'db'\n",
    "\n",
    "Same as calling [atomman.defect.dumbbell](atomman.defect.dumbbell.ipynb)."
   ]
  },
  {
   "cell_type": "markdown",
   "metadata": {},
   "source": [
    "Add a dumbbell using ptd_id"
   ]
  },
  {
   "cell_type": "code",
   "execution_count": 12,
   "metadata": {
    "collapsed": true
   },
   "outputs": [],
   "source": [
    "db_vect = np.array([0.0, 0.0, 0.111111111])\n",
    "system_db = am.defect.point(system, 'db', atype=2, ptd_id=7, db_vect=db_vect)"
   ]
  },
  {
   "cell_type": "markdown",
   "metadata": {},
   "source": [
    "Print all atom ids old_ids, atypes and positions. Note that the modified atom and added atom are moved to the highest indexes"
   ]
  },
  {
   "cell_type": "code",
   "execution_count": 13,
   "metadata": {
    "collapsed": false
   },
   "outputs": [
    {
     "name": "stdout",
     "output_type": "stream",
     "text": [
      "     id  old_id  atype                  position\n",
      "     0      0      1     [ 8.34274831  4.43272825  7.31240841]\n",
      "     1      1      1     [ 6.05651425  1.28443782  1.05627597]\n",
      "     2      2      1     [ 2.19474949  9.0312448   3.7255945 ]\n",
      "     3      3      1     [ 1.69001674  0.65446161  5.1173393 ]\n",
      "     4      4      1     [ 4.04216674  7.2753019   3.78609091]\n",
      "     5      5      1     [ 6.68135119  8.02014397  7.15852121]\n",
      "     6      6      1     [ 6.21153997  0.02515661  8.90080688]\n",
      "     7      8      1     [ 2.24156543  2.81417029  2.91776159]\n",
      "     8      9      1     [ 4.76757001  5.00518055  2.05506423]\n",
      "     9     10      1     [ 5.73491903  6.14007169  8.99339411]\n",
      "    10     11      1     [ 2.39422247  5.56357352  0.55516098]\n",
      "    11     12      1     [ 7.54292705  4.65728309  9.29751244]\n",
      "    12     13      1     [ 3.5794625   3.20920974  3.51508296]\n",
      "    13     14      1     [ 4.38986844  3.11872117  8.97595061]\n",
      "    14     15      1     [ 0.78041354  4.89595049  9.49508743]\n",
      "    15     16      1     [ 8.06574054  5.84496388  5.07217874]\n",
      "    16     17      1     [ 9.20130395  8.65449339  3.19305694]\n",
      "    17     18      1     [ 3.42035477  3.99747801  1.0424113 ]\n",
      "    18     19      1     [ 6.78485935  7.76812125  7.25996797]\n",
      "    19      7      1     [ 6.89424661  1.67563836  8.35292198]\n",
      "    20     20      2     [ 6.89424661  1.67563836  8.5751442 ]\n"
     ]
    }
   ],
   "source": [
    "print '     id  old_id  atype                  position'\n",
    "for i in xrange(system_db.natoms):\n",
    "    print '%6s %6s %6s     %s' %(i, system_db.atoms_prop(a_id=i, key='old_id'), \n",
    "                                    system_db.atoms_prop(a_id=i, key='atype'), \n",
    "                                str(system_db.atoms_prop(a_id=i, key='pos')))"
   ]
  },
  {
   "cell_type": "markdown",
   "metadata": {},
   "source": [
    "Dumbbell atoms separated by 2\\*db_vect"
   ]
  },
  {
   "cell_type": "code",
   "execution_count": 14,
   "metadata": {
    "collapsed": false
   },
   "outputs": [
    {
     "name": "stdout",
     "output_type": "stream",
     "text": [
      "[ 0.          0.          0.22222222]\n"
     ]
    }
   ],
   "source": [
    "print system_db.atoms_prop(a_id=20, key='pos') - system_db.atoms_prop(a_id=19, key='pos')"
   ]
  },
  {
   "cell_type": "markdown",
   "metadata": {},
   "source": [
    "Making both dumbbell atoms the same type is simply a matter of calling both substitutional and dumbbell on the same atom."
   ]
  },
  {
   "cell_type": "code",
   "execution_count": 15,
   "metadata": {
    "collapsed": true
   },
   "outputs": [],
   "source": [
    "defect_pos = system.atoms_prop(a_id=2, key='pos')\n",
    "system_db = am.defect.point(system, 's', atype=2, pos=defect_pos)\n",
    "system_db = am.defect.point(system_db, 'db', atype=2, pos=defect_pos, db_vect=np.array([0.0, -0.11111111111, 0.111111111]))"
   ]
  },
  {
   "cell_type": "markdown",
   "metadata": {},
   "source": [
    "Print all atom ids old_ids, atypes and positions."
   ]
  },
  {
   "cell_type": "code",
   "execution_count": 16,
   "metadata": {
    "collapsed": false
   },
   "outputs": [
    {
     "name": "stdout",
     "output_type": "stream",
     "text": [
      "     id  old_id  atype                  position\n",
      "     0      0      1     [ 8.34274831  4.43272825  7.31240841]\n",
      "     1      1      1     [ 6.05651425  1.28443782  1.05627597]\n",
      "     2      3      1     [ 1.69001674  0.65446161  5.1173393 ]\n",
      "     3      4      1     [ 4.04216674  7.2753019   3.78609091]\n",
      "     4      5      1     [ 6.68135119  8.02014397  7.15852121]\n",
      "     5      6      1     [ 6.21153997  0.02515661  8.90080688]\n",
      "     6      7      1     [ 6.89424661  1.67563836  8.46403309]\n",
      "     7      8      1     [ 2.24156543  2.81417029  2.91776159]\n",
      "     8      9      1     [ 4.76757001  5.00518055  2.05506423]\n",
      "     9     10      1     [ 5.73491903  6.14007169  8.99339411]\n",
      "    10     11      1     [ 2.39422247  5.56357352  0.55516098]\n",
      "    11     12      1     [ 7.54292705  4.65728309  9.29751244]\n",
      "    12     13      1     [ 3.5794625   3.20920974  3.51508296]\n",
      "    13     14      1     [ 4.38986844  3.11872117  8.97595061]\n",
      "    14     15      1     [ 0.78041354  4.89595049  9.49508743]\n",
      "    15     16      1     [ 8.06574054  5.84496388  5.07217874]\n",
      "    16     17      1     [ 9.20130395  8.65449339  3.19305694]\n",
      "    17     18      1     [ 3.42035477  3.99747801  1.0424113 ]\n",
      "    18     19      1     [ 6.78485935  7.76812125  7.25996797]\n",
      "    19      2      2     [ 2.19474949  9.14235591  3.61448339]\n",
      "    20     20      2     [ 2.19474949  8.92013369  3.83670561]\n"
     ]
    }
   ],
   "source": [
    "print '     id  old_id  atype                  position'\n",
    "for i in xrange(system_db.natoms):\n",
    "    print '%6s %6s %6s     %s' %(i, system_db.atoms_prop(a_id=i, key='old_id'), \n",
    "                                    system_db.atoms_prop(a_id=i, key='atype'), \n",
    "                                str(system_db.atoms_prop(a_id=i, key='pos')))"
   ]
  },
  {
   "cell_type": "markdown",
   "metadata": {},
   "source": [
    "- - -\n",
    "__Docs Navigation:__\n",
    "\n",
    "Tutorial:\n",
    "\n",
    "1. [Basics](../tutorial/1 Basics.ipynb)\n",
    "\n",
    "2. [LAMMPS Functionality](../tutorial/2 LAMMPS Functionality.ipynb)\n",
    "\n",
    "3. [Defect Generation and Evaluation](../tutorial/3 Defect Generation and Evaluation.ipynb)\n",
    "\n",
    "\n",
    "Reference:\n",
    "\n",
    "- [atomman](../reference/atomman.ipynb)\n",
    "\n",
    "- [atomman.convert](../reference/atomman.convert.ipynb)\n",
    "\n",
    "- [atomman.defect](../reference/atomman.defect.ipynb)\n",
    "\n",
    "- [atomman.lammps](../reference/atomman.lammps.ipynb)\n",
    "\n",
    "- [atomman.tools](../reference/atomman.tools.ipynb)\n",
    "\n",
    "- [atomman.unitconvert](../reference/atomman.unitconvert.ipynb)"
   ]
  }
 ],
 "metadata": {
  "kernelspec": {
   "display_name": "Python [Root]",
   "language": "python",
   "name": "Python [Root]"
  },
  "language_info": {
   "codemirror_mode": {
    "name": "ipython",
    "version": 2
   },
   "file_extension": ".py",
   "mimetype": "text/x-python",
   "name": "python",
   "nbconvert_exporter": "python",
   "pygments_lexer": "ipython2",
   "version": "2.7.12"
  }
 },
 "nbformat": 4,
 "nbformat_minor": 0
}
