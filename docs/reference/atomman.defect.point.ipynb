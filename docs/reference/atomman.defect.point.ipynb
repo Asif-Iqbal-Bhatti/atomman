{
 "cells": [
  {
   "cell_type": "markdown",
   "metadata": {
    "deletable": true,
    "editable": true
   },
   "source": [
    "# atomman.defect.point(system, ptd_type=None, atype=None, pos=None, ptd_id=None, db_vect=None, scale=False, atol=None)\n",
    "\n",
    "- - -"
   ]
  },
  {
   "cell_type": "markdown",
   "metadata": {
    "deletable": true,
    "editable": true
   },
   "source": [
    "**Lucas M. Hale**, [lucas.hale@nist.gov](mailto:lucas.hale@nist.gov?Subject=ipr-demo), *Materials Science and Engineering Division, NIST*.\n",
    "\n",
    "**Chandler A. Becker**, [chandler.becker@nist.gov](mailto:chandler.becker@nist.gov?Subject=ipr-demo), *Office of Data and Informatics, NIST*.\n",
    "\n",
    "**Zachary T. Trautt**, [zachary.trautt@nist.gov](mailto:zachary.trautt@nist.gov?Subject=ipr-demo), *Materials Measurement Science Division, NIST*.\n",
    "\n",
    "Version: 2017-04-21\n",
    "\n",
    "[Disclaimers](http://www.nist.gov/public_affairs/disclaimer.cfm) \n",
    " \n",
    "- - -"
   ]
  },
  {
   "cell_type": "markdown",
   "metadata": {
    "deletable": true,
    "editable": true
   },
   "source": [
    "## Introduction\n",
    "\n",
    "The point function allows for the insertion of a point defect into a System.\n",
    "\n",
    "Arguments:\n",
    "\n",
    "- __system__ -- the [atomman.System](atomman.System.ipynb) to add the defect to.\n",
    "\n",
    "- __ptd_type__ -- indicates which type of point defect to add.\n",
    "    \n",
    "    - ='v' -- vacancy (same as calling [atomman.defect.vacancy](atomman.defect.vacancy.ipynb))\n",
    "    \n",
    "    - ='s' -- substitutional (same as calling [atomman.defect.substitutional](atomman.defect.substitutional.ipynb))\n",
    "    \n",
    "    - ='i' -- position-based interstitial (same as calling [atomman.defect.interstitial](atomman.defect.interstitial.ipynb))\n",
    "    \n",
    "    - ='db' -- dumbbell interstitial (same as calling [atomman.defect.dumbbell](atomman.defect.dumbbell.ipynb))\n",
    "    \n",
    "Keyword Arguments:\n",
    "\n",
    "- __atype__ -- atom type for defect atom ('i', 's', 'db' styles).\n",
    "\n",
    "- __pos__ -- position for adding the defect atom (all styles).\n",
    "\n",
    "- __ptd_id__ -- atom id where defect is added.  Alternative to using pos ('v', 's', 'db' styles).\n",
    "\n",
    "- __db_vect__ -- vector associated with the dumbbell interstitial ('db' style).\n",
    "\n",
    "- __scale__ -- indicates if pos and db_vect are absolute (False) or box-relative (True). Default is False.\n",
    "\n",
    "- __atol__ -- absolute tolerance for position-based searching. Default is 1e-3 angstroms.\n",
    "\n",
    "Any atoms added/modified by this function will be moved to the highest atom index(es) to help find the defects.\n",
    "\n",
    "The returned System will be assigned an atoms property \"old_id\" if it doesn't exist which corresponds to the index values of all atoms from the base System supplied as an argument.  If \"old_id\" already exists, then the values of existing atoms will be unchanged. If an atom is added, it will be assigned an \"old_id\" one greater than the largest atom index or the largest \"old_id\" value, whichever is larger. \n",
    "\n",
    "The underlying code can be found in [atomman/defect/point.py](../../atomman/defect/point.py)."
   ]
  },
  {
   "cell_type": "markdown",
   "metadata": {
    "deletable": true,
    "editable": true
   },
   "source": [
    "## Demonstration"
   ]
  },
  {
   "cell_type": "markdown",
   "metadata": {
    "deletable": true,
    "editable": true
   },
   "source": [
    "Library imports"
   ]
  },
  {
   "cell_type": "code",
   "execution_count": 1,
   "metadata": {
    "collapsed": true,
    "deletable": true,
    "editable": true
   },
   "outputs": [],
   "source": [
    "#Standard libraries\n",
    "from __future__ import print_function\n",
    "\n",
    "#http://www.numpy.org/\n",
    "import numpy as np\n",
    "\n",
    "#https://github.com/usnistgov/atomman \n",
    "import atomman as am"
   ]
  },
  {
   "cell_type": "markdown",
   "metadata": {
    "deletable": true,
    "editable": true
   },
   "source": [
    "Generate demonstration system with random atomic positions"
   ]
  },
  {
   "cell_type": "code",
   "execution_count": 2,
   "metadata": {
    "collapsed": false,
    "deletable": true,
    "editable": true
   },
   "outputs": [],
   "source": [
    "box = am.Box(a=10, b=10, c=10)\n",
    "atoms = am.Atoms(natoms=20, prop={'atype':1, 'pos':10*np.random.random((20,3))})\n",
    "\n",
    "system = am.System(atoms=atoms, box=box)"
   ]
  },
  {
   "cell_type": "markdown",
   "metadata": {
    "deletable": true,
    "editable": true
   },
   "source": [
    "Print all atom ids old_ids, atypes and positions"
   ]
  },
  {
   "cell_type": "code",
   "execution_count": 3,
   "metadata": {
    "collapsed": false,
    "deletable": true,
    "editable": true
   },
   "outputs": [
    {
     "name": "stdout",
     "output_type": "stream",
     "text": [
      "     id  old_id  atype                  position\n",
      "     0   None      1     [ 5.03225216  5.81394086  2.35031291]\n",
      "     1   None      1     [ 2.01293384  8.09595846  4.08859545]\n",
      "     2   None      1     [ 7.71603282  6.99679758  3.28337602]\n",
      "     3   None      1     [ 2.25023205  6.25112548  1.74458727]\n",
      "     4   None      1     [ 2.25329639  0.86488636  2.43368104]\n",
      "     5   None      1     [ 8.34239738  6.47264733  3.88672434]\n",
      "     6   None      1     [ 7.93018796  0.61885942  5.00666328]\n",
      "     7   None      1     [ 9.5219873   1.93540346  9.00780011]\n",
      "     8   None      1     [ 1.6164279   0.45286799  5.74005387]\n",
      "     9   None      1     [ 1.5930744   1.12325256  0.11148655]\n",
      "    10   None      1     [ 0.87599752  9.62116484  4.95824765]\n",
      "    11   None      1     [ 1.45492442  3.29506969  9.04294755]\n",
      "    12   None      1     [ 5.81598504  3.41577956  0.51706112]\n",
      "    13   None      1     [ 1.11955865  0.34296903  7.6703592 ]\n",
      "    14   None      1     [ 2.95084344  6.73560189  7.52642338]\n",
      "    15   None      1     [ 4.81348195  9.4853288   1.06452066]\n",
      "    16   None      1     [ 9.24259048  7.69039631  8.50211025]\n",
      "    17   None      1     [ 1.20999538  5.43257913  3.85427046]\n",
      "    18   None      1     [ 8.1826366   7.79489403  2.40743589]\n",
      "    19   None      1     [ 0.97296976  3.50373372  7.99009505]\n"
     ]
    }
   ],
   "source": [
    "print('     id  old_id  atype                  position')\n",
    "for i in xrange(system.natoms):\n",
    "    print('%6s %6s %6s     %s' %(i, system.atoms_prop(a_id=i, key='old_id'), \n",
    "                                    system.atoms_prop(a_id=i, key='atype'), \n",
    "                                str(system.atoms_prop(a_id=i, key='pos'))))"
   ]
  },
  {
   "cell_type": "markdown",
   "metadata": {
    "deletable": true,
    "editable": true
   },
   "source": [
    "### ptd_type = 'v'\n",
    "\n",
    "Same as calling [atomman.defect.vacancy](atomman.defect.vacancy.ipynb)."
   ]
  },
  {
   "cell_type": "markdown",
   "metadata": {
    "deletable": true,
    "editable": true
   },
   "source": [
    "Add a vacancy using ptd_id"
   ]
  },
  {
   "cell_type": "code",
   "execution_count": 4,
   "metadata": {
    "collapsed": false,
    "deletable": true,
    "editable": true
   },
   "outputs": [],
   "source": [
    "system_v = am.defect.point(system, 'v', ptd_id=5)"
   ]
  },
  {
   "cell_type": "markdown",
   "metadata": {
    "deletable": true,
    "editable": true
   },
   "source": [
    "Add another vacancy using pos"
   ]
  },
  {
   "cell_type": "code",
   "execution_count": 5,
   "metadata": {
    "collapsed": true,
    "deletable": true,
    "editable": true
   },
   "outputs": [],
   "source": [
    "#Get position for atom with id=3\n",
    "v_pos = system.atoms_prop(a_id=3, key='pos')\n",
    "system_v = am.defect.point(system_v, 'v', pos=v_pos)"
   ]
  },
  {
   "cell_type": "markdown",
   "metadata": {
    "deletable": true,
    "editable": true
   },
   "source": [
    "Print all atom ids old_ids, atypes and positions. Note old_ids are missing 3 and 5 (the deleted atoms)."
   ]
  },
  {
   "cell_type": "code",
   "execution_count": 6,
   "metadata": {
    "collapsed": false,
    "deletable": true,
    "editable": true
   },
   "outputs": [
    {
     "name": "stdout",
     "output_type": "stream",
     "text": [
      "     id  old_id  atype                  position\n",
      "     0      0      1     [ 5.03225216  5.81394086  2.35031291]\n",
      "     1      1      1     [ 2.01293384  8.09595846  4.08859545]\n",
      "     2      2      1     [ 7.71603282  6.99679758  3.28337602]\n",
      "     3      4      1     [ 2.25329639  0.86488636  2.43368104]\n",
      "     4      6      1     [ 7.93018796  0.61885942  5.00666328]\n",
      "     5      7      1     [ 9.5219873   1.93540346  9.00780011]\n",
      "     6      8      1     [ 1.6164279   0.45286799  5.74005387]\n",
      "     7      9      1     [ 1.5930744   1.12325256  0.11148655]\n",
      "     8     10      1     [ 0.87599752  9.62116484  4.95824765]\n",
      "     9     11      1     [ 1.45492442  3.29506969  9.04294755]\n",
      "    10     12      1     [ 5.81598504  3.41577956  0.51706112]\n",
      "    11     13      1     [ 1.11955865  0.34296903  7.6703592 ]\n",
      "    12     14      1     [ 2.95084344  6.73560189  7.52642338]\n",
      "    13     15      1     [ 4.81348195  9.4853288   1.06452066]\n",
      "    14     16      1     [ 9.24259048  7.69039631  8.50211025]\n",
      "    15     17      1     [ 1.20999538  5.43257913  3.85427046]\n",
      "    16     18      1     [ 8.1826366   7.79489403  2.40743589]\n",
      "    17     19      1     [ 0.97296976  3.50373372  7.99009505]\n"
     ]
    }
   ],
   "source": [
    "print('     id  old_id  atype                  position')\n",
    "for i in xrange(system_v.natoms):\n",
    "    print('%6s %6s %6s     %s' %(i, system_v.atoms_prop(a_id=i, key='old_id'), \n",
    "                                    system_v.atoms_prop(a_id=i, key='atype'), \n",
    "                                str(system_v.atoms_prop(a_id=i, key='pos'))))"
   ]
  },
  {
   "cell_type": "markdown",
   "metadata": {
    "deletable": true,
    "editable": true
   },
   "source": [
    "### ptd_type = 'i'\n",
    "\n",
    "Same as calling [atomman.defect.interstitial](atomman.defect.interstitial.ipynb)."
   ]
  },
  {
   "cell_type": "markdown",
   "metadata": {
    "deletable": true,
    "editable": true
   },
   "source": [
    "Add an interstitial at pos"
   ]
  },
  {
   "cell_type": "code",
   "execution_count": 7,
   "metadata": {
    "collapsed": true,
    "deletable": true,
    "editable": true
   },
   "outputs": [],
   "source": [
    "pos=(0.1111111111, 0.1111111111, 0.111111111111)\n",
    "system_i = am.defect.point(system, 'i', atype=2, pos=pos)"
   ]
  },
  {
   "cell_type": "markdown",
   "metadata": {
    "deletable": true,
    "editable": true
   },
   "source": [
    "Print all atom ids old_ids, atypes and positions. Note the new atom is at the highest index."
   ]
  },
  {
   "cell_type": "code",
   "execution_count": 8,
   "metadata": {
    "collapsed": false,
    "deletable": true,
    "editable": true
   },
   "outputs": [
    {
     "name": "stdout",
     "output_type": "stream",
     "text": [
      "     id  old_id  atype                  position\n",
      "     0      0      1     [ 5.03225216  5.81394086  2.35031291]\n",
      "     1      1      1     [ 2.01293384  8.09595846  4.08859545]\n",
      "     2      2      1     [ 7.71603282  6.99679758  3.28337602]\n",
      "     3      3      1     [ 2.25023205  6.25112548  1.74458727]\n",
      "     4      4      1     [ 2.25329639  0.86488636  2.43368104]\n",
      "     5      5      1     [ 8.34239738  6.47264733  3.88672434]\n",
      "     6      6      1     [ 7.93018796  0.61885942  5.00666328]\n",
      "     7      7      1     [ 9.5219873   1.93540346  9.00780011]\n",
      "     8      8      1     [ 1.6164279   0.45286799  5.74005387]\n",
      "     9      9      1     [ 1.5930744   1.12325256  0.11148655]\n",
      "    10     10      1     [ 0.87599752  9.62116484  4.95824765]\n",
      "    11     11      1     [ 1.45492442  3.29506969  9.04294755]\n",
      "    12     12      1     [ 5.81598504  3.41577956  0.51706112]\n",
      "    13     13      1     [ 1.11955865  0.34296903  7.6703592 ]\n",
      "    14     14      1     [ 2.95084344  6.73560189  7.52642338]\n",
      "    15     15      1     [ 4.81348195  9.4853288   1.06452066]\n",
      "    16     16      1     [ 9.24259048  7.69039631  8.50211025]\n",
      "    17     17      1     [ 1.20999538  5.43257913  3.85427046]\n",
      "    18     18      1     [ 8.1826366   7.79489403  2.40743589]\n",
      "    19     19      1     [ 0.97296976  3.50373372  7.99009505]\n",
      "    20     20      2     [ 0.11111111  0.11111111  0.11111111]\n"
     ]
    }
   ],
   "source": [
    "print('     id  old_id  atype                  position')\n",
    "for i in xrange(system_i.natoms):\n",
    "    print('%6s %6s %6s     %s' %(i, system_i.atoms_prop(a_id=i, key='old_id'), \n",
    "                                    system_i.atoms_prop(a_id=i, key='atype'), \n",
    "                                str(system_i.atoms_prop(a_id=i, key='pos'))))"
   ]
  },
  {
   "cell_type": "markdown",
   "metadata": {
    "deletable": true,
    "editable": true
   },
   "source": [
    "### ptd_type = 's'\n",
    "\n",
    "Same as calling [atomman.defect.substitutional](atomman.defect.substitutional.ipynb)."
   ]
  },
  {
   "cell_type": "markdown",
   "metadata": {
    "deletable": true,
    "editable": true
   },
   "source": [
    "Add a substitutional using ptd_id"
   ]
  },
  {
   "cell_type": "code",
   "execution_count": 9,
   "metadata": {
    "collapsed": false,
    "deletable": true,
    "editable": true
   },
   "outputs": [],
   "source": [
    "system_s = am.defect.point(system, 's', atype=2, ptd_id=4)"
   ]
  },
  {
   "cell_type": "markdown",
   "metadata": {
    "deletable": true,
    "editable": true
   },
   "source": [
    "Add another substitutional using pos"
   ]
  },
  {
   "cell_type": "code",
   "execution_count": 10,
   "metadata": {
    "collapsed": true,
    "deletable": true,
    "editable": true
   },
   "outputs": [],
   "source": [
    "#get position for atom with index 9\n",
    "s_pos = system.atoms_prop(a_id=9, key='pos')\n",
    "\n",
    "system_s = am.defect.point(system_s, 's', atype=2, pos=s_pos)"
   ]
  },
  {
   "cell_type": "markdown",
   "metadata": {
    "deletable": true,
    "editable": true
   },
   "source": [
    "Print all atom ids old_ids, atypes and positions. Note that the modified atoms are moved to the highest indexes"
   ]
  },
  {
   "cell_type": "code",
   "execution_count": 11,
   "metadata": {
    "collapsed": false,
    "deletable": true,
    "editable": true
   },
   "outputs": [
    {
     "name": "stdout",
     "output_type": "stream",
     "text": [
      "     id  old_id  atype                  position\n",
      "     0      0      1     [ 5.03225216  5.81394086  2.35031291]\n",
      "     1      1      1     [ 2.01293384  8.09595846  4.08859545]\n",
      "     2      2      1     [ 7.71603282  6.99679758  3.28337602]\n",
      "     3      3      1     [ 2.25023205  6.25112548  1.74458727]\n",
      "     4      5      1     [ 8.34239738  6.47264733  3.88672434]\n",
      "     5      6      1     [ 7.93018796  0.61885942  5.00666328]\n",
      "     6      7      1     [ 9.5219873   1.93540346  9.00780011]\n",
      "     7      8      1     [ 1.6164279   0.45286799  5.74005387]\n",
      "     8     10      1     [ 0.87599752  9.62116484  4.95824765]\n",
      "     9     11      1     [ 1.45492442  3.29506969  9.04294755]\n",
      "    10     12      1     [ 5.81598504  3.41577956  0.51706112]\n",
      "    11     13      1     [ 1.11955865  0.34296903  7.6703592 ]\n",
      "    12     14      1     [ 2.95084344  6.73560189  7.52642338]\n",
      "    13     15      1     [ 4.81348195  9.4853288   1.06452066]\n",
      "    14     16      1     [ 9.24259048  7.69039631  8.50211025]\n",
      "    15     17      1     [ 1.20999538  5.43257913  3.85427046]\n",
      "    16     18      1     [ 8.1826366   7.79489403  2.40743589]\n",
      "    17     19      1     [ 0.97296976  3.50373372  7.99009505]\n",
      "    18      4      2     [ 2.25329639  0.86488636  2.43368104]\n",
      "    19      9      2     [ 1.5930744   1.12325256  0.11148655]\n"
     ]
    }
   ],
   "source": [
    "print('     id  old_id  atype                  position')\n",
    "for i in xrange(system_s.natoms):\n",
    "    print('%6s %6s %6s     %s' %(i, system_s.atoms_prop(a_id=i, key='old_id'), \n",
    "                                    system_s.atoms_prop(a_id=i, key='atype'), \n",
    "                                str(system_s.atoms_prop(a_id=i, key='pos'))))"
   ]
  },
  {
   "cell_type": "markdown",
   "metadata": {
    "deletable": true,
    "editable": true
   },
   "source": [
    "### ptd_type = 'db'\n",
    "\n",
    "Same as calling [atomman.defect.dumbbell](atomman.defect.dumbbell.ipynb)."
   ]
  },
  {
   "cell_type": "markdown",
   "metadata": {
    "deletable": true,
    "editable": true
   },
   "source": [
    "Add a dumbbell using ptd_id"
   ]
  },
  {
   "cell_type": "code",
   "execution_count": 12,
   "metadata": {
    "collapsed": true,
    "deletable": true,
    "editable": true
   },
   "outputs": [],
   "source": [
    "db_vect = np.array([0.0, 0.0, 0.111111111])\n",
    "system_db = am.defect.point(system, 'db', atype=2, ptd_id=7, db_vect=db_vect)"
   ]
  },
  {
   "cell_type": "markdown",
   "metadata": {
    "deletable": true,
    "editable": true
   },
   "source": [
    "Print all atom ids old_ids, atypes and positions. Note that the modified atom and added atom are moved to the highest indexes"
   ]
  },
  {
   "cell_type": "code",
   "execution_count": 13,
   "metadata": {
    "collapsed": false,
    "deletable": true,
    "editable": true
   },
   "outputs": [
    {
     "name": "stdout",
     "output_type": "stream",
     "text": [
      "     id  old_id  atype                  position\n",
      "     0      0      1     [ 5.03225216  5.81394086  2.35031291]\n",
      "     1      1      1     [ 2.01293384  8.09595846  4.08859545]\n",
      "     2      2      1     [ 7.71603282  6.99679758  3.28337602]\n",
      "     3      3      1     [ 2.25023205  6.25112548  1.74458727]\n",
      "     4      4      1     [ 2.25329639  0.86488636  2.43368104]\n",
      "     5      5      1     [ 8.34239738  6.47264733  3.88672434]\n",
      "     6      6      1     [ 7.93018796  0.61885942  5.00666328]\n",
      "     7      8      1     [ 1.6164279   0.45286799  5.74005387]\n",
      "     8      9      1     [ 1.5930744   1.12325256  0.11148655]\n",
      "     9     10      1     [ 0.87599752  9.62116484  4.95824765]\n",
      "    10     11      1     [ 1.45492442  3.29506969  9.04294755]\n",
      "    11     12      1     [ 5.81598504  3.41577956  0.51706112]\n",
      "    12     13      1     [ 1.11955865  0.34296903  7.6703592 ]\n",
      "    13     14      1     [ 2.95084344  6.73560189  7.52642338]\n",
      "    14     15      1     [ 4.81348195  9.4853288   1.06452066]\n",
      "    15     16      1     [ 9.24259048  7.69039631  8.50211025]\n",
      "    16     17      1     [ 1.20999538  5.43257913  3.85427046]\n",
      "    17     18      1     [ 8.1826366   7.79489403  2.40743589]\n",
      "    18     19      1     [ 0.97296976  3.50373372  7.99009505]\n",
      "    19      7      1     [ 9.5219873   1.93540346  8.896689  ]\n",
      "    20     20      2     [ 9.5219873   1.93540346  9.11891122]\n"
     ]
    }
   ],
   "source": [
    "print('     id  old_id  atype                  position')\n",
    "for i in xrange(system_db.natoms):\n",
    "    print('%6s %6s %6s     %s' %(i, system_db.atoms_prop(a_id=i, key='old_id'), \n",
    "                                    system_db.atoms_prop(a_id=i, key='atype'), \n",
    "                                str(system_db.atoms_prop(a_id=i, key='pos'))))"
   ]
  },
  {
   "cell_type": "markdown",
   "metadata": {
    "deletable": true,
    "editable": true
   },
   "source": [
    "Dumbbell atoms separated by 2\\*db_vect"
   ]
  },
  {
   "cell_type": "code",
   "execution_count": 14,
   "metadata": {
    "collapsed": false,
    "deletable": true,
    "editable": true
   },
   "outputs": [
    {
     "name": "stdout",
     "output_type": "stream",
     "text": [
      "[ 0.          0.          0.22222222]\n"
     ]
    }
   ],
   "source": [
    "print(system_db.atoms_prop(a_id=20, key='pos') - system_db.atoms_prop(a_id=19, key='pos'))"
   ]
  },
  {
   "cell_type": "markdown",
   "metadata": {
    "deletable": true,
    "editable": true
   },
   "source": [
    "Making both dumbbell atoms the same type is simply a matter of calling both substitutional and dumbbell on the same atom."
   ]
  },
  {
   "cell_type": "code",
   "execution_count": 15,
   "metadata": {
    "collapsed": true,
    "deletable": true,
    "editable": true
   },
   "outputs": [],
   "source": [
    "defect_pos = system.atoms_prop(a_id=2, key='pos')\n",
    "system_db = am.defect.point(system, 's', atype=2, pos=defect_pos)\n",
    "system_db = am.defect.point(system_db, 'db', atype=2, pos=defect_pos, db_vect=np.array([0.0, -0.11111111111, 0.111111111]))"
   ]
  },
  {
   "cell_type": "markdown",
   "metadata": {
    "deletable": true,
    "editable": true
   },
   "source": [
    "Print all atom ids old_ids, atypes and positions."
   ]
  },
  {
   "cell_type": "code",
   "execution_count": 16,
   "metadata": {
    "collapsed": false,
    "deletable": true,
    "editable": true
   },
   "outputs": [
    {
     "name": "stdout",
     "output_type": "stream",
     "text": [
      "     id  old_id  atype                  position\n",
      "     0      0      1     [ 5.03225216  5.81394086  2.35031291]\n",
      "     1      1      1     [ 2.01293384  8.09595846  4.08859545]\n",
      "     2      3      1     [ 2.25023205  6.25112548  1.74458727]\n",
      "     3      4      1     [ 2.25329639  0.86488636  2.43368104]\n",
      "     4      5      1     [ 8.34239738  6.47264733  3.88672434]\n",
      "     5      6      1     [ 7.93018796  0.61885942  5.00666328]\n",
      "     6      7      1     [ 9.5219873   1.93540346  9.00780011]\n",
      "     7      8      1     [ 1.6164279   0.45286799  5.74005387]\n",
      "     8      9      1     [ 1.5930744   1.12325256  0.11148655]\n",
      "     9     10      1     [ 0.87599752  9.62116484  4.95824765]\n",
      "    10     11      1     [ 1.45492442  3.29506969  9.04294755]\n",
      "    11     12      1     [ 5.81598504  3.41577956  0.51706112]\n",
      "    12     13      1     [ 1.11955865  0.34296903  7.6703592 ]\n",
      "    13     14      1     [ 2.95084344  6.73560189  7.52642338]\n",
      "    14     15      1     [ 4.81348195  9.4853288   1.06452066]\n",
      "    15     16      1     [ 9.24259048  7.69039631  8.50211025]\n",
      "    16     17      1     [ 1.20999538  5.43257913  3.85427046]\n",
      "    17     18      1     [ 8.1826366   7.79489403  2.40743589]\n",
      "    18     19      1     [ 0.97296976  3.50373372  7.99009505]\n",
      "    19      2      2     [ 7.71603282  7.10790869  3.17226491]\n",
      "    20     20      2     [ 7.71603282  6.88568647  3.39448713]\n"
     ]
    }
   ],
   "source": [
    "print('     id  old_id  atype                  position')\n",
    "for i in xrange(system_db.natoms):\n",
    "    print('%6s %6s %6s     %s' %(i, system_db.atoms_prop(a_id=i, key='old_id'), \n",
    "                                    system_db.atoms_prop(a_id=i, key='atype'), \n",
    "                                str(system_db.atoms_prop(a_id=i, key='pos'))))"
   ]
  },
  {
   "cell_type": "markdown",
   "metadata": {
    "deletable": true,
    "editable": true
   },
   "source": [
    "- - -\n",
    "__Docs Navigation:__\n",
    "\n",
    "Tutorial:\n",
    "\n",
    "1. [Basics](../tutorial/1 Basics.ipynb)\n",
    "\n",
    "2. [LAMMPS Functionality](../tutorial/2 LAMMPS Functionality.ipynb)\n",
    "\n",
    "3. [Defect Generation and Evaluation](../tutorial/3 Defect Generation and Evaluation.ipynb)\n",
    "\n",
    "\n",
    "Reference:\n",
    "\n",
    "- [atomman](../reference/atomman.ipynb)\n",
    "\n",
    "- [atomman.convert](../reference/atomman.convert.ipynb)\n",
    "\n",
    "- [atomman.defect](../reference/atomman.defect.ipynb)\n",
    "\n",
    "- [atomman.lammps](../reference/atomman.lammps.ipynb)\n",
    "\n",
    "- [atomman.tools](../reference/atomman.tools.ipynb)\n",
    "\n",
    "- [atomman.unitconvert](../reference/atomman.unitconvert.ipynb)"
   ]
  }
 ],
 "metadata": {
  "kernelspec": {
   "display_name": "Python 2",
   "language": "python",
   "name": "python2"
  },
  "language_info": {
   "codemirror_mode": {
    "name": "ipython",
    "version": 2
   },
   "file_extension": ".py",
   "mimetype": "text/x-python",
   "name": "python",
   "nbconvert_exporter": "python",
   "pygments_lexer": "ipython2",
   "version": "2.7.13"
  }
 },
 "nbformat": 4,
 "nbformat_minor": 0
}
