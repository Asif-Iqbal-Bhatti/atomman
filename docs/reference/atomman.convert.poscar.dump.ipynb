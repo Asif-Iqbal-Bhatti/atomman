{
 "cells": [
  {
   "cell_type": "markdown",
   "metadata": {},
   "source": [
    "# atomman.convert.poscar.dump(system, fp=None, fname=None, header='', elements=None, style='direct',  box_scale=1.0)\n",
    "\n",
    "- - -"
   ]
  },
  {
   "cell_type": "markdown",
   "metadata": {},
   "source": [
    "**Lucas M. Hale**, [lucas.hale@nist.gov](mailto:lucas.hale@nist.gov?Subject=ipr-demo), *Materials Science and Engineering Division, NIST*.\n",
    "\n",
    "**Chandler A. Becker**, [chandler.becker@nist.gov](mailto:chandler.becker@nist.gov?Subject=ipr-demo), *Office of Data and Informatics, NIST*.\n",
    "\n",
    "**Zachary T. Trautt**, [zachary.trautt@nist.gov](mailto:zachary.trautt@nist.gov?Subject=ipr-demo), *Materials Measurement Science Division, NIST*.\n",
    "\n",
    "Version: 2016-09-02\n",
    "\n",
    "[Disclaimers](http://www.nist.gov/public_affairs/disclaimer.cfm) \n",
    " \n",
    "- - -"
   ]
  },
  {
   "cell_type": "markdown",
   "metadata": {},
   "source": [
    "## Introduction\n",
    "\n",
    "The poscar.dump function allows for an [atomman.System](atomman.System.ipynb) to be exported in VASP POSCAR format.  \n",
    "\n",
    "Arguments:\n",
    "\n",
    "- __system__ -- the atomman.System to convert to the POSCAR format\n",
    "\n",
    "Keyword Arguments:\n",
    "\n",
    "- __fp__ -- a pointer to a file-like object. If given, the POSCAR will be saved to it. Alternate to fname. \n",
    "\n",
    "- __fname__ -- a file name. If given, the POSCAR will be saved to it. Alternate to fp.\n",
    "\n",
    "- __header__ -- a string to save on the first (comment) line of the POSCAR file. Default value is ''.\n",
    "\n",
    "- __elements__ -- a list of elemental tags to associate with the System's atypes. Optional.\n",
    "\n",
    "- __style__ -- string indicating whether the atomic positions are printed in absolute Cartesian coordinates or box relative coordinates. Any value starting with 'c', 'C', 'k' or 'K' will give positions in Cartesian coordinates. Otherwise, positions are relative to the box vectors. Default value is 'direct' (box relative).\n",
    "\n",
    "- __box_scale__ -- a scalar multiplication factor for the box vectors in the POSCAR file. Default value is 1.\n",
    "\n",
    "\n",
    "If neither fp nor fname are given then returns a string in the POSCAR format.\n",
    "\n",
    "The underlying code can be found in [atomman/convert/poscar.py](../../atomman/convert/poscar.py)."
   ]
  },
  {
   "cell_type": "markdown",
   "metadata": {},
   "source": [
    "## Demonstration"
   ]
  },
  {
   "cell_type": "code",
   "execution_count": 1,
   "metadata": {
    "collapsed": false
   },
   "outputs": [],
   "source": [
    "import atomman as am"
   ]
  },
  {
   "cell_type": "markdown",
   "metadata": {},
   "source": [
    "Create a demonstration fcc System"
   ]
  },
  {
   "cell_type": "code",
   "execution_count": 2,
   "metadata": {
    "collapsed": false
   },
   "outputs": [
    {
     "name": "stdout",
     "output_type": "stream",
     "text": [
      "['Au']\n",
      "avect =  [ 4.070,  0.000,  0.000]\n",
      "bvect =  [ 0.000,  4.070,  0.000]\n",
      "cvect =  [ 0.000,  0.000,  4.070]\n",
      "origin = [ 0.000,  0.000,  0.000]\n",
      "natoms = 4\n",
      "natypes = 1\n",
      "     id |   atype |  pos[0] |  pos[1] |  pos[2]\n",
      "      0 |       1 |   0.000 |   0.000 |   0.000\n",
      "      1 |       1 |   2.035 |   2.035 |   0.000\n",
      "      2 |       1 |   2.035 |   0.000 |   2.035\n",
      "      3 |       1 |   0.000 |   2.035 |   2.035\n"
     ]
    }
   ],
   "source": [
    "alat = 4.07\n",
    "elements = ['Au']\n",
    "\n",
    "atoms = am.Atoms(natoms=4, prop={'atype':1, 'pos': [[0.0, 0.0, 0.0],\n",
    "                                                    [0.5, 0.5, 0.0],\n",
    "                                                    [0.5, 0.0, 0.5],\n",
    "                                                    [0.0, 0.5, 0.5]]})\n",
    "box = am.Box(a=alat, b=alat, c=alat)\n",
    "system = am.System(atoms=atoms, box=box, scale=True)\n",
    "\n",
    "print elements\n",
    "print system"
   ]
  },
  {
   "cell_type": "markdown",
   "metadata": {},
   "source": [
    "Calling poscar.dump with no keyword arguments. A string is returned if neigther fp nor fname are given"
   ]
  },
  {
   "cell_type": "code",
   "execution_count": 3,
   "metadata": {
    "collapsed": false
   },
   "outputs": [
    {
     "name": "stdout",
     "output_type": "stream",
     "text": [
      "\n",
      "1.0\n",
      "4.0700000000000003 0.0 0.0\n",
      "0.0 4.0700000000000003 0.0\n",
      "0.0 0.0 4.0700000000000003\n",
      "4 \n",
      "direct\n",
      "0.0 0.0 0.0\n",
      "0.5 0.5 0.0\n",
      "0.5 0.0 0.5\n",
      "0.0 0.5 0.5\n"
     ]
    }
   ],
   "source": [
    "poscar = am.convert.poscar.dump(system)\n",
    "print poscar"
   ]
  },
  {
   "cell_type": "markdown",
   "metadata": {},
   "source": [
    "The information can be saved to a file named fname"
   ]
  },
  {
   "cell_type": "code",
   "execution_count": 4,
   "metadata": {
    "collapsed": false
   },
   "outputs": [
    {
     "name": "stdout",
     "output_type": "stream",
     "text": [
      "\n",
      "1.0\n",
      "4.0700000000000003 0.0 0.0\n",
      "0.0 4.0700000000000003 0.0\n",
      "0.0 0.0 4.0700000000000003\n",
      "4 \n",
      "direct\n",
      "0.0 0.0 0.0\n",
      "0.5 0.5 0.0\n",
      "0.5 0.0 0.5\n",
      "0.0 0.5 0.5\n"
     ]
    }
   ],
   "source": [
    "am.convert.poscar.dump(system, fname='fcc_gold.poscar')\n",
    "\n",
    "with open('fcc_gold.poscar') as f:\n",
    "    print f.read()"
   ]
  },
  {
   "cell_type": "markdown",
   "metadata": {},
   "source": [
    "Alternatively, the information can be saved to a file-like object with fp"
   ]
  },
  {
   "cell_type": "code",
   "execution_count": 5,
   "metadata": {
    "collapsed": false
   },
   "outputs": [
    {
     "name": "stdout",
     "output_type": "stream",
     "text": [
      "\n",
      "1.0\n",
      "4.0700000000000003 0.0 0.0\n",
      "0.0 4.0700000000000003 0.0\n",
      "0.0 0.0 4.0700000000000003\n",
      "4 \n",
      "direct\n",
      "0.0 0.0 0.0\n",
      "0.5 0.5 0.0\n",
      "0.5 0.0 0.5\n",
      "0.0 0.5 0.5\n"
     ]
    }
   ],
   "source": [
    "with open('fcc_gold.poscar', 'w') as f:\n",
    "    am.convert.poscar.dump(system, fp=f)\n",
    "\n",
    "with open('fcc_gold.poscar') as f:\n",
    "    print f.read()"
   ]
  },
  {
   "cell_type": "markdown",
   "metadata": {},
   "source": [
    "Specifying header puts a comment on the first line. Giving an elements list includes the elemental information line"
   ]
  },
  {
   "cell_type": "code",
   "execution_count": 6,
   "metadata": {
    "collapsed": false
   },
   "outputs": [
    {
     "name": "stdout",
     "output_type": "stream",
     "text": [
      "fcc gold\n",
      "1.0\n",
      "4.0700000000000003 0.0 0.0\n",
      "0.0 4.0700000000000003 0.0\n",
      "0.0 0.0 4.0700000000000003\n",
      "Au\n",
      "4 \n",
      "direct\n",
      "0.0 0.0 0.0\n",
      "0.5 0.5 0.0\n",
      "0.5 0.0 0.5\n",
      "0.0 0.5 0.5\n"
     ]
    }
   ],
   "source": [
    "poscar = am.convert.poscar.dump(system, header='fcc gold', elements=elements)\n",
    "print poscar"
   ]
  },
  {
   "cell_type": "markdown",
   "metadata": {},
   "source": [
    "Changing the style to a string starting with c or k prints the positions in Cartesian coordinates"
   ]
  },
  {
   "cell_type": "code",
   "execution_count": 7,
   "metadata": {
    "collapsed": false
   },
   "outputs": [
    {
     "name": "stdout",
     "output_type": "stream",
     "text": [
      "\n",
      "1.0\n",
      "4.0700000000000003 0.0 0.0\n",
      "0.0 4.0700000000000003 0.0\n",
      "0.0 0.0 4.0700000000000003\n",
      "4 \n",
      "Cartesian\n",
      "0.0 0.0 0.0\n",
      "2.0350000000000001 2.0350000000000001 0.0\n",
      "2.0350000000000001 0.0 2.0350000000000001\n",
      "0.0 2.0350000000000001 2.0350000000000001\n"
     ]
    }
   ],
   "source": [
    "poscar = am.convert.poscar.dump(system, style='Cartesian')\n",
    "print poscar"
   ]
  },
  {
   "cell_type": "markdown",
   "metadata": {},
   "source": [
    "The box_scale term can be useful by scaling the box vectors relative to some constant, like the lattice parameter"
   ]
  },
  {
   "cell_type": "code",
   "execution_count": 8,
   "metadata": {
    "collapsed": false
   },
   "outputs": [
    {
     "name": "stdout",
     "output_type": "stream",
     "text": [
      "\n",
      "4.07\n",
      "1.0 0.0 0.0\n",
      "0.0 1.0 0.0\n",
      "0.0 0.0 1.0\n",
      "4 \n",
      "direct\n",
      "0.0 0.0 0.0\n",
      "0.5 0.5 0.0\n",
      "0.5 0.0 0.5\n",
      "0.0 0.5 0.5\n"
     ]
    }
   ],
   "source": [
    "poscar = am.convert.poscar.dump(system, box_scale=alat)\n",
    "print poscar"
   ]
  },
  {
   "cell_type": "markdown",
   "metadata": {},
   "source": [
    "File cleanup"
   ]
  },
  {
   "cell_type": "code",
   "execution_count": 9,
   "metadata": {
    "collapsed": true
   },
   "outputs": [],
   "source": [
    "import os\n",
    "os.remove('fcc_gold.poscar')"
   ]
  },
  {
   "cell_type": "markdown",
   "metadata": {},
   "source": [
    "- - -\n",
    "__Docs Navigation:__\n",
    "\n",
    "Tutorial:\n",
    "\n",
    "1. [Basics](../tutorial/1 Basics.ipynb)\n",
    "\n",
    "2. [LAMMPS Functionality](../tutorial/2 LAMMPS Functionality.ipynb)\n",
    "\n",
    "3. [Defect Generation and Evaluation](../tutorial/3 Defect Generation and Evaluation.ipynb)\n",
    "\n",
    "\n",
    "Reference:\n",
    "\n",
    "- [atomman](../reference/atomman.ipynb)\n",
    "\n",
    "- [atomman.convert](../reference/atomman.convert.ipynb)\n",
    "\n",
    "- [atomman.defect](../reference/atomman.defect.ipynb)\n",
    "\n",
    "- [atomman.lammps](../reference/atomman.lammps.ipynb)\n",
    "\n",
    "- [atomman.tools](../reference/atomman.tools.ipynb)\n",
    "\n",
    "- [atomman.unitconvert](../reference/atomman.unitconvert.ipynb)"
   ]
  }
 ],
 "metadata": {
  "kernelspec": {
   "display_name": "Python 2",
   "language": "python",
   "name": "python2"
  },
  "language_info": {
   "codemirror_mode": {
    "name": "ipython",
    "version": 2
   },
   "file_extension": ".py",
   "mimetype": "text/x-python",
   "name": "python",
   "nbconvert_exporter": "python",
   "pygments_lexer": "ipython2",
   "version": "2.7.11"
  }
 },
 "nbformat": 4,
 "nbformat_minor": 0
}
