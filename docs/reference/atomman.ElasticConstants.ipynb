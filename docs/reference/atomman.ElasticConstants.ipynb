{
 "cells": [
  {
   "cell_type": "markdown",
   "metadata": {
    "deletable": true,
    "editable": true
   },
   "source": [
    "# atomman.ElasticConstants Class\n",
    "\n",
    "- - -"
   ]
  },
  {
   "cell_type": "markdown",
   "metadata": {
    "deletable": true,
    "editable": true
   },
   "source": [
    "**Lucas M. Hale**, [lucas.hale@nist.gov](mailto:lucas.hale@nist.gov?Subject=ipr-demo), *Materials Science and Engineering Division, NIST*.\n",
    "\n",
    "**Chandler A. Becker**, [chandler.becker@nist.gov](mailto:chandler.becker@nist.gov?Subject=ipr-demo), *Office of Data and Informatics, NIST*.\n",
    "\n",
    "**Zachary T. Trautt**, [zachary.trautt@nist.gov](mailto:zachary.trautt@nist.gov?Subject=ipr-demo), *Materials Measurement Science Division, NIST*.\n",
    "\n",
    "Version: 2017-04-20\n",
    "\n",
    "[Disclaimers](http://www.nist.gov/public_affairs/disclaimer.cfm) \n",
    " \n",
    "- - -"
   ]
  },
  {
   "cell_type": "markdown",
   "metadata": {
    "deletable": true,
    "editable": true
   },
   "source": [
    "## Introduction\n",
    "\n",
    "The ElasticConstants class is designed to represent a material's elastic constant matrix and allow for easy conversions between alternate numerical representations.\n",
    "\n",
    "The underlying code can be found in [atomman/core/ElasticConstants.py](../../atomman/core/ElasticConstants.py)."
   ]
  },
  {
   "cell_type": "markdown",
   "metadata": {
    "deletable": true,
    "editable": true
   },
   "source": [
    "## Class Methods of ElasticConstants\n",
    "\n",
    "- [\\__init__(self, \\**kwargs)](atomman.ElasticConstants.__init__.ipynb) -- class initializer.\n",
    "\n",
    "- [\\__str__(self)](atomman.ElasticConstants.__str__.ipynb) -- generates string output of the class.\n",
    "\n",
    "- [bulk(self, style='Hill')](atomman.ElasticConstants.bulk.ipynb) -- returns an estimate of the bulk modulus. \n",
    "\n",
    "- [cubic(self, \\**kwargs)](atomman.ElasticConstants.cubic.ipynb) -- set values of the array using only the cubic moduli values.\n",
    "\n",
    "- [hexagonal(self, \\**kwargs)](atomman.ElasticConstants.hexagonal.ipynb) -- set values of the array using only the hexagonal moduli values.\n",
    "\n",
    "- [isotropic(self, \\**kwargs)](atomman.ElasticConstants.isotropic.ipynb) -- set values of the array using only a set of isotropic moduli values.\n",
    "\n",
    "- [orthorhombic(self, \\**kwargs)](atomman.ElasticConstants.orthorhombic.ipynb) -- set values of the array using only the orthorhombic moduli values.\n",
    "\n",
    "- [model(self, \\**kwargs)](atomman.ElasticConstants.model.ipynb) -- convert to/from a DataModelDict data model representation of the array.\n",
    "\n",
    "- [monoclinic(self, \\**kwargs)](atomman.ElasticConstants.monoclinic.ipynb) -- set values of the array using only the monoclinic moduli values.\n",
    "\n",
    "- [rhombohedral(self, \\**kwargs)](atomman.ElasticConstants.rhombohedral.ipynb) -- set values of the array using only the rhombohedral moduli values.\n",
    "\n",
    "- [shear(self, style='Hill')](atomman.ElasticConstants.shear.ipynb) -- returns an estimate of the shear modulus. \n",
    "\n",
    "- [tetragonal(self, \\**kwargs)](atomman.ElasticConstants.tetragonal.ipynb) -- set values of the array using only the tetragonal moduli values.\n",
    "\n",
    "- [transform(self, axes, tol=1e-8)](atomman.ElasticConstants.transform.ipynb) -- performs a transformation of the array using the specified orthogonal axes.\n",
    "\n",
    "- [triclinic(self, \\**kwargs)](atomman.ElasticConstants.triclinic.ipynb) -- set values of the array using all moduli values."
   ]
  },
  {
   "cell_type": "markdown",
   "metadata": {
    "deletable": true,
    "editable": true
   },
   "source": [
    "## Class Attributes of ElasticConstants\n",
    "\n",
    "- [Cij](atomman.ElasticConstants.Cij.ipynb) -- the stiffness constants in Voigt 6x6 format.\n",
    "\n",
    "- [Cij9](atomman.ElasticConstants.Cij9.ipynb) -- the stiffness constants in full 9x9 format.\n",
    "\n",
    "- [Cijkl](atomman.ElasticConstants.Cijkl.ipynb) -- the stiffness constants in full 3x3x3x3 format.\n",
    "\n",
    "- [Sij](atomman.ElasticConstants.Sij.ipynb) -- the compliance constants in Voigt 6x6 format.\n",
    "\n",
    "- [Sijkl](atomman.ElasticConstants.Sijkl.ipynb) -- the compliance constants in full 3x3x3x3 format."
   ]
  },
  {
   "cell_type": "markdown",
   "metadata": {
    "deletable": true,
    "editable": true
   },
   "source": [
    "__Docs Navigation:__\n",
    "\n",
    "Tutorial:\n",
    "\n",
    "1. [Basics](../tutorial/1 Basics.ipynb)\n",
    "\n",
    "2. [LAMMPS Functionality](../tutorial/2 LAMMPS Functionality.ipynb)\n",
    "\n",
    "3. [Defect Generation and Evaluation](../tutorial/3 Defect Generation and Evaluation.ipynb)\n",
    "\n",
    "\n",
    "Reference:\n",
    "\n",
    "- [atomman](../reference/atomman.ipynb)\n",
    "\n",
    "- [atomman.convert](../reference/atomman.convert.ipynb)\n",
    "\n",
    "- [atomman.defect](../reference/atomman.defect.ipynb)\n",
    "\n",
    "- [atomman.lammps](../reference/atomman.lammps.ipynb)\n",
    "\n",
    "- [atomman.tools](../reference/atomman.tools.ipynb)\n",
    "\n",
    "- [atomman.unitconvert](../reference/atomman.unitconvert.ipynb)"
   ]
  }
 ],
 "metadata": {
  "kernelspec": {
   "display_name": "Python 2",
   "language": "python",
   "name": "python2"
  },
  "language_info": {
   "codemirror_mode": {
    "name": "ipython",
    "version": 2
   },
   "file_extension": ".py",
   "mimetype": "text/x-python",
   "name": "python",
   "nbconvert_exporter": "python",
   "pygments_lexer": "ipython2",
   "version": "2.7.13"
  }
 },
 "nbformat": 4,
 "nbformat_minor": 0
}
