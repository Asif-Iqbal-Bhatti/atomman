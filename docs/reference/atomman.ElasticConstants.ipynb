{
 "cells": [
  {
   "cell_type": "markdown",
   "metadata": {},
   "source": [
    "# atomman.ElasticConstants Class\n",
    "\n",
    "- - -"
   ]
  },
  {
   "cell_type": "markdown",
   "metadata": {},
   "source": [
    "**Lucas M. Hale**, [lucas.hale@nist.gov](mailto:lucas.hale@nist.gov?Subject=ipr-demo), *Materials Science and Engineering Division, NIST*.\n",
    "\n",
    "**Chandler A. Becker**, [chandler.becker@nist.gov](mailto:chandler.becker@nist.gov?Subject=ipr-demo), *Office of Data and Informatics, NIST*.\n",
    "\n",
    "**Zachary T. Trautt**, [zachary.trautt@nist.gov](mailto:zachary.trautt@nist.gov?Subject=ipr-demo), *Materials Measurement Science Division, NIST*.\n",
    "\n",
    "Version: 2016-09-02\n",
    "\n",
    "[Disclaimers](http://www.nist.gov/public_affairs/disclaimer.cfm) \n",
    " \n",
    "- - -"
   ]
  },
  {
   "cell_type": "markdown",
   "metadata": {},
   "source": [
    "## Introduction\n",
    "\n",
    "The ElasticConstants class is designed to represent a material's elastic constant matrix and allow for easy conversions between alternate numerical representations.\n",
    "\n",
    "The underlying code can be found in [atomman/core/ElasticConstants.py](../../atomman/core/ElasticConstants.py)."
   ]
  },
  {
   "cell_type": "markdown",
   "metadata": {},
   "source": [
    "## Class Methods of ElasticConstants\n",
    "\n",
    "- [\\__init__(self, \\**kwargs)](atomman.ElasticConstants.__init__.ipynb) -- class initializer.\n",
    "\n",
    "- [\\__str__(self)](atomman.ElasticConstants.__str__.ipynb) -- generates string output of the class.\n",
    "\n",
    "- [transform(self, axes, tol=1e-8)](atomman.ElasticConstants.transform.ipynb) -- performs a transformation of the array using the specified orthogonal axes.\n",
    "\n",
    "- [cubic(self, \\**kwargs)](atomman.ElasticConstants.cubic.ipynb) -- set values of the array using only the cubic moduli values.\n",
    "\n",
    "- [hexagonal(self, \\**kwargs)](atomman.ElasticConstants.hexagonal.ipynb) -- set values of the array using only the hexagonal moduli values.\n",
    "\n",
    "- [tetragonal(self, \\**kwargs)](atomman.ElasticConstants.tetragonal.ipynb) -- set values of the array using only the tetragonal moduli values.\n",
    "\n",
    "- [orthorhombic(self, \\**kwargs)](atomman.ElasticConstants.orthorhombic.ipynb) -- set values of the array using only the orthorhombic moduli values.\n",
    "\n",
    "- [triclinic(self, \\**kwargs)](atomman.ElasticConstants.triclinic.ipynb) -- set values of the array using all moduli values.\n",
    "\n",
    "- [model(self, \\**kwargs)](atomman.ElasticConstants.model.ipynb) -- convert to/from a DataModelDict data model representation of the array.\n"
   ]
  },
  {
   "cell_type": "markdown",
   "metadata": {},
   "source": [
    "## Class Attributes of ElasticConstants\n",
    "\n",
    "- [Cij](atomman.ElasticConstants.Cij.ipynb) -- the stiffness constants in Voigt 6x6 format\n",
    "\n",
    "- [Sij](atomman.ElasticConstants.Sij.ipynb) -- the compliance constants in Voigt 6x6 format\n",
    "\n",
    "- [Cijkl](atomman.ElasticConstants.Cijkl.ipynb) -- the stiffness constants in full 3x3x3x3 format\n",
    "\n",
    "- [bulk](atomman.ElasticConstants.bulk.ipynb) -- the Hill bulk modulus estimate.  Equal to the average of the Voigt and the Reuss bulk modulus.\n",
    "\n",
    "- [bulk_Voigt](atomman.ElasticConstants.bulk_Voigt.ipynb) -- the Voigt bulk modulus estimate.\n",
    "\n",
    "- [bulk_Reuss](atomman.ElasticConstants.bulk_Reuss.ipynb) -- the Hill bulk modulus estimate.\n",
    "\n",
    "- [shear](atomman.ElasticConstants.shear.ipynb) -- the Hill shear modulus estimate.  Equal to the average of the Voigt and the Reuss shear modulus.\n",
    "\n",
    "- [shear_Voigt](atomman.ElasticConstants.shear_Voigt.ipynb) -- the Voigt shear modulus estimate.\n",
    "\n",
    "- [shear_Reuss](atomman.ElasticConstants.shear_Reuss.ipynb) -- the Hill shear modulus estimate."
   ]
  },
  {
   "cell_type": "markdown",
   "metadata": {},
   "source": [
    "__Docs Navigation:__\n",
    "\n",
    "Tutorial:\n",
    "\n",
    "1. [Basics](../tutorial/1 Basics.ipynb)\n",
    "\n",
    "2. [LAMMPS Functionality](../tutorial/2 LAMMPS Functionality.ipynb)\n",
    "\n",
    "3. [Defect Generation and Evaluation](../tutorial/3 Defect Generation and Evaluation.ipynb)\n",
    "\n",
    "\n",
    "Reference:\n",
    "\n",
    "- [atomman](../reference/atomman.ipynb)\n",
    "\n",
    "- [atomman.convert](../reference/atomman.convert.ipynb)\n",
    "\n",
    "- [atomman.defect](../reference/atomman.defect.ipynb)\n",
    "\n",
    "- [atomman.lammps](../reference/atomman.lammps.ipynb)\n",
    "\n",
    "- [atomman.tools](../reference/atomman.tools.ipynb)\n",
    "\n",
    "- [atomman.unitconvert](../reference/atomman.unitconvert.ipynb)"
   ]
  }
 ],
 "metadata": {
  "kernelspec": {
   "display_name": "Python 2",
   "language": "python",
   "name": "python2"
  },
  "language_info": {
   "codemirror_mode": {
    "name": "ipython",
    "version": 2
   },
   "file_extension": ".py",
   "mimetype": "text/x-python",
   "name": "python",
   "nbconvert_exporter": "python",
   "pygments_lexer": "ipython2",
   "version": "2.7.11"
  }
 },
 "nbformat": 4,
 "nbformat_minor": 0
}
