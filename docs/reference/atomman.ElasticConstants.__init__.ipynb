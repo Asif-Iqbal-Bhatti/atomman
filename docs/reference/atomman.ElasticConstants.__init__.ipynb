{
 "cells": [
  {
   "cell_type": "markdown",
   "metadata": {},
   "source": [
    "# atomman.ElasticConstants.\\__init__(self, \\**kwargs)\n",
    "- - -"
   ]
  },
  {
   "cell_type": "markdown",
   "metadata": {},
   "source": [
    "**Lucas M. Hale**, [lucas.hale@nist.gov](mailto:lucas.hale@nist.gov?Subject=ipr-demo), *Materials Science and Engineering Division, NIST*.\n",
    "\n",
    "**Chandler A. Becker**, [chandler.becker@nist.gov](mailto:chandler.becker@nist.gov?Subject=ipr-demo), *Materials Science and Engineering Division, NIST*.\n",
    "\n",
    "**Zachary T. Trautt**, [zachary.trautt@nist.gov](mailto:zachary.trautt@nist.gov?Subject=ipr-demo), *Materials Measurement Science Division, NIST*.\n",
    "\n",
    "Version: 2016-08-25\n",
    "\n",
    "[Disclaimers](http://www.nist.gov/public_affairs/disclaimer.cfm)"
   ]
  },
  {
   "cell_type": "markdown",
   "metadata": {},
   "source": [
    "## Introduction\n",
    "\n",
    "An ElasticConstants object can be initialized using values in a number of different formats based on which keyword arguments are specified.\n",
    "\n",
    "Keyword Arguments:\n",
    "\n",
    "- __Cij__ -- 6x6 Voigt representation of the elastic stiffness.\n",
    "\n",
    "- __Sij__ -- 6x6 Voigt representation of elastic compliance.\n",
    "\n",
    "- __Cijkl__ -- 3x3x3x3 representation of elastic stiffness.\n",
    "\n",
    "- __model__ -- DataModelDict, string, or file-like object of data model containing elastic constants.\n",
    "\n",
    "- __C11, C12, ... C66__ -- Individual components of Cij.  \n",
    "\n",
    "The first four keywords give a complete description of the elastic tensor by themselves. The individual components must be a full set associated with a crystal family:\n",
    "\n",
    "- __cubic__: C11, C12, C44\n",
    "\n",
    "- __hexagonal__: C11, C33, C12, C13, C44\n",
    "\n",
    "- __tetragonal__: C11, C33, C12, C13, C16, C44, C66\n",
    "\n",
    "- __orthorhombic__: C11, C22, C33, C12, C13, C23, C44, C55, C66\n",
    "\n",
    "- __triclinic__: all Cij where i <= j\n",
    "\n",
    "\n",
    "The underlying code can be found in [atomman/core/ElasticConstants.py](../../atomman/core/ElasticConstants.py)."
   ]
  },
  {
   "cell_type": "markdown",
   "metadata": {},
   "source": [
    "## Demonstration"
   ]
  },
  {
   "cell_type": "markdown",
   "metadata": {},
   "source": [
    "Library Imports"
   ]
  },
  {
   "cell_type": "code",
   "execution_count": 20,
   "metadata": {
    "collapsed": true
   },
   "outputs": [],
   "source": [
    "import numpy as np\n",
    "\n",
    "import atomman as am\n",
    "import atomman.unitconvert as uc"
   ]
  },
  {
   "cell_type": "markdown",
   "metadata": {},
   "source": [
    "### Initializing with no arguments\n",
    "\n",
    "The default ElasticConstants has zeros for all terms."
   ]
  },
  {
   "cell_type": "code",
   "execution_count": 4,
   "metadata": {
    "collapsed": false
   },
   "outputs": [
    {
     "name": "stdout",
     "output_type": "stream",
     "text": [
      "[[ 0.  0.  0.  0.  0.  0.]\n",
      " [ 0.  0.  0.  0.  0.  0.]\n",
      " [ 0.  0.  0.  0.  0.  0.]\n",
      " [ 0.  0.  0.  0.  0.  0.]\n",
      " [ 0.  0.  0.  0.  0.  0.]\n",
      " [ 0.  0.  0.  0.  0.  0.]]\n"
     ]
    }
   ],
   "source": [
    "c = am.ElasticConstants()\n",
    "print c"
   ]
  },
  {
   "cell_type": "markdown",
   "metadata": {},
   "source": [
    "### Initializing with individual components"
   ]
  },
  {
   "cell_type": "markdown",
   "metadata": {},
   "source": [
    "Supplying only the cubic components"
   ]
  },
  {
   "cell_type": "code",
   "execution_count": 24,
   "metadata": {
    "collapsed": false
   },
   "outputs": [
    {
     "name": "stdout",
     "output_type": "stream",
     "text": [
      "[[ 100.   65.   65.    0.    0.    0.]\n",
      " [  65.  100.   65.    0.    0.    0.]\n",
      " [  65.   65.  100.    0.    0.    0.]\n",
      " [   0.    0.    0.   50.    0.    0.]\n",
      " [   0.    0.    0.    0.   50.    0.]\n",
      " [   0.    0.    0.    0.    0.   50.]]\n"
     ]
    }
   ],
   "source": [
    "c = am.ElasticConstants(C11=100, C12=65, C44=50)\n",
    "print c"
   ]
  },
  {
   "cell_type": "markdown",
   "metadata": {},
   "source": [
    "Supplying only the hexagonal components"
   ]
  },
  {
   "cell_type": "code",
   "execution_count": 25,
   "metadata": {
    "collapsed": false
   },
   "outputs": [
    {
     "name": "stdout",
     "output_type": "stream",
     "text": [
      "[[ 326.08  129.56  119.48    0.      0.      0.  ]\n",
      " [ 129.56  326.08  119.48    0.      0.      0.  ]\n",
      " [ 119.48  119.48  357.5     0.      0.      0.  ]\n",
      " [   0.      0.      0.     92.54    0.      0.  ]\n",
      " [   0.      0.      0.      0.     92.54    0.  ]\n",
      " [   0.      0.      0.      0.      0.     98.26]]\n"
     ]
    }
   ],
   "source": [
    "c = am.ElasticConstants(C11=326.08, C33=357.50, C12=129.56, C13=119.48,C44=92.54)\n",
    "print c"
   ]
  },
  {
   "cell_type": "markdown",
   "metadata": {},
   "source": [
    "### Initializing with Cij"
   ]
  },
  {
   "cell_type": "code",
   "execution_count": 7,
   "metadata": {
    "collapsed": false
   },
   "outputs": [
    {
     "name": "stdout",
     "output_type": "stream",
     "text": [
      "[[ 100.   65.   65.    0.    0.    0.]\n",
      " [  65.  100.   65.    0.    0.    0.]\n",
      " [  65.   65.  100.    0.    0.    0.]\n",
      " [   0.    0.    0.   50.    0.    0.]\n",
      " [   0.    0.    0.    0.   50.    0.]\n",
      " [   0.    0.    0.    0.    0.   50.]]\n"
     ]
    }
   ],
   "source": [
    "cij = np.array([[ 163.,  75.,  68.,   0.,   0.,   0.],\n",
    "                [  75., 163.,  68.,   0.,   0.,   0.],\n",
    "                [  68.,  68., 200.,   0.,   0.,   0.],\n",
    "                [   0.,   0.,   0.,  36.,   0.,   0.],\n",
    "                [   0.,   0.,   0.,   0.,  36.,   0.],\n",
    "                [   0.,   0.,   0.,   0.,   0.,  44.]])\n",
    "c = am.ElasticConstants(Cij=cij)\n",
    "print c"
   ]
  },
  {
   "cell_type": "markdown",
   "metadata": {},
   "source": [
    "### Initializing with Sij"
   ]
  },
  {
   "cell_type": "markdown",
   "metadata": {},
   "source": [
    "Show value of c.Sij"
   ]
  },
  {
   "cell_type": "code",
   "execution_count": 11,
   "metadata": {
    "collapsed": false
   },
   "outputs": [
    {
     "name": "stdout",
     "output_type": "stream",
     "text": [
      "[[ 0.00828924 -0.00307439 -0.00177305  0.          0.          0.        ]\n",
      " [-0.00307439  0.00828924 -0.00177305  0.          0.          0.        ]\n",
      " [-0.00177305 -0.00177305  0.00620567  0.          0.          0.        ]\n",
      " [ 0.          0.          0.          0.02777778  0.          0.        ]\n",
      " [ 0.          0.          0.          0.          0.02777778  0.        ]\n",
      " [ 0.          0.          0.          0.          0.          0.02272727]]\n"
     ]
    }
   ],
   "source": [
    "print c.Sij             "
   ]
  },
  {
   "cell_type": "markdown",
   "metadata": {},
   "source": [
    "Initialize with Sij and show values match"
   ]
  },
  {
   "cell_type": "code",
   "execution_count": 12,
   "metadata": {
    "collapsed": false
   },
   "outputs": [
    {
     "name": "stdout",
     "output_type": "stream",
     "text": [
      "[[ 163.   75.   68.    0.    0.    0.]\n",
      " [  75.  163.   68.    0.    0.    0.]\n",
      " [  68.   68.  200.    0.    0.    0.]\n",
      " [   0.    0.    0.   36.    0.    0.]\n",
      " [   0.    0.    0.    0.   36.    0.]\n",
      " [   0.    0.    0.    0.    0.   44.]]\n"
     ]
    }
   ],
   "source": [
    "c = am.ElasticConstants(Sij=c.Sij)\n",
    "print c"
   ]
  },
  {
   "cell_type": "markdown",
   "metadata": {},
   "source": [
    "### Initializing with Cijkl"
   ]
  },
  {
   "cell_type": "markdown",
   "metadata": {},
   "source": [
    "show value of c.Cijkl"
   ]
  },
  {
   "cell_type": "code",
   "execution_count": 13,
   "metadata": {
    "collapsed": false
   },
   "outputs": [
    {
     "name": "stdout",
     "output_type": "stream",
     "text": [
      "[[[[ 163.    0.    0.]\n",
      "   [   0.   75.    0.]\n",
      "   [   0.    0.   68.]]\n",
      "\n",
      "  [[   0.   44.    0.]\n",
      "   [  44.    0.    0.]\n",
      "   [   0.    0.    0.]]\n",
      "\n",
      "  [[   0.    0.   36.]\n",
      "   [   0.    0.    0.]\n",
      "   [  36.    0.    0.]]]\n",
      "\n",
      "\n",
      " [[[   0.   44.    0.]\n",
      "   [  44.    0.    0.]\n",
      "   [   0.    0.    0.]]\n",
      "\n",
      "  [[  75.    0.    0.]\n",
      "   [   0.  163.    0.]\n",
      "   [   0.    0.   68.]]\n",
      "\n",
      "  [[   0.    0.    0.]\n",
      "   [   0.    0.   36.]\n",
      "   [   0.   36.    0.]]]\n",
      "\n",
      "\n",
      " [[[   0.    0.   36.]\n",
      "   [   0.    0.    0.]\n",
      "   [  36.    0.    0.]]\n",
      "\n",
      "  [[   0.    0.    0.]\n",
      "   [   0.    0.   36.]\n",
      "   [   0.   36.    0.]]\n",
      "\n",
      "  [[  68.    0.    0.]\n",
      "   [   0.   68.    0.]\n",
      "   [   0.    0.  200.]]]]\n"
     ]
    }
   ],
   "source": [
    "cijkl = c.Cijkl\n",
    "print cijkl"
   ]
  },
  {
   "cell_type": "markdown",
   "metadata": {},
   "source": [
    "Initialize with Cijkl and show values match"
   ]
  },
  {
   "cell_type": "code",
   "execution_count": 15,
   "metadata": {
    "collapsed": false
   },
   "outputs": [
    {
     "name": "stdout",
     "output_type": "stream",
     "text": [
      "[[ 163.   75.   68.    0.    0.    0.]\n",
      " [  75.  163.   68.    0.    0.    0.]\n",
      " [  68.   68.  200.    0.    0.    0.]\n",
      " [   0.    0.    0.   36.    0.    0.]\n",
      " [   0.    0.    0.    0.   36.    0.]\n",
      " [   0.    0.    0.    0.    0.   44.]]\n"
     ]
    }
   ],
   "source": [
    "c = am.ElasticConstants(Cijkl=cijkl)\n",
    "print c"
   ]
  },
  {
   "cell_type": "markdown",
   "metadata": {},
   "source": [
    "### Initializing from a data model"
   ]
  },
  {
   "cell_type": "markdown",
   "metadata": {},
   "source": [
    "Create an example data model as a json file"
   ]
  },
  {
   "cell_type": "code",
   "execution_count": 17,
   "metadata": {
    "collapsed": true
   },
   "outputs": [],
   "source": [
    "json_model = \"\"\"{\n",
    "    \"elastic-constants\": {\n",
    "        \"C\": [\n",
    "            {\n",
    "                \"stiffness\": {\n",
    "                    \"value\": 247.02, \n",
    "                    \"unit\": \"GPa\"\n",
    "                }, \n",
    "                \"ij\": \"1 1\"\n",
    "            }, \n",
    "            {\n",
    "                \"stiffness\": {\n",
    "                    \"value\": 147.30, \n",
    "                    \"unit\": \"GPa\"\n",
    "                }, \n",
    "                \"ij\": \"1 2\"\n",
    "            }, \n",
    "            {\n",
    "                \"stiffness\": {\n",
    "                    \"value\": 122.77, \n",
    "                    \"unit\": \"GPa\"\n",
    "                }, \n",
    "                \"ij\": \"4 4\"\n",
    "            }\n",
    "        ]\n",
    "    }\n",
    "}\"\"\""
   ]
  },
  {
   "cell_type": "markdown",
   "metadata": {},
   "source": [
    "Load the values. Note automatic conversion of values from GPa to atomman's working units."
   ]
  },
  {
   "cell_type": "code",
   "execution_count": 18,
   "metadata": {
    "collapsed": false
   },
   "outputs": [
    {
     "name": "stdout",
     "output_type": "stream",
     "text": [
      "[[ 1.54177764  0.91937433  0.91937433  0.          0.          0.        ]\n",
      " [ 0.91937433  1.54177764  0.91937433  0.          0.          0.        ]\n",
      " [ 0.91937433  0.91937433  1.54177764  0.          0.          0.        ]\n",
      " [ 0.          0.          0.          0.7662701   0.          0.        ]\n",
      " [ 0.          0.          0.          0.          0.7662701   0.        ]\n",
      " [ 0.          0.          0.          0.          0.          0.7662701 ]]\n"
     ]
    }
   ],
   "source": [
    "c = am.ElasticConstants(model=json_model)\n",
    "print c"
   ]
  },
  {
   "cell_type": "markdown",
   "metadata": {},
   "source": [
    "Values can be retrieved in GPa using [atomman.unitconvert.get_in_units](atomman.unitconvert.get_in_units.ipynb)"
   ]
  },
  {
   "cell_type": "code",
   "execution_count": 22,
   "metadata": {
    "collapsed": false
   },
   "outputs": [
    {
     "name": "stdout",
     "output_type": "stream",
     "text": [
      "[[ 247.02  147.3   147.3     0.      0.      0.  ]\n",
      " [ 147.3   247.02  147.3     0.      0.      0.  ]\n",
      " [ 147.3   147.3   247.02    0.      0.      0.  ]\n",
      " [   0.      0.      0.    122.77    0.      0.  ]\n",
      " [   0.      0.      0.      0.    122.77    0.  ]\n",
      " [   0.      0.      0.      0.      0.    122.77]] GPa\n"
     ]
    }
   ],
   "source": [
    "print uc.get_in_units(c.Cij, 'GPa'), 'GPa'"
   ]
  },
  {
   "cell_type": "markdown",
   "metadata": {
    "collapsed": true
   },
   "source": [
    "__Docs Navigation:__\n",
    "\n",
    "Tutorial:\n",
    "\n",
    "1. [Basics](../tutorial/1 Basics.ipynb)\n",
    "\n",
    "2. [LAMMPS Functionality](../tutorial/2 LAMMPS Functionality.ipynb)\n",
    "\n",
    "3. [Defect Generation and Evaluation](../tutorial/3 Defect Generation and Evaluation.ipynb)\n",
    "\n",
    "\n",
    "Reference:\n",
    "\n",
    "- [atomman](../reference/atomman.ipynb)\n",
    "\n",
    "- [atomman.convert](../reference/atomman.convert.ipynb)\n",
    "\n",
    "- [atomman.defect](../reference/atomman.defect.ipynb)\n",
    "\n",
    "- [atomman.lammps](../reference/atomman.lammps.ipynb)\n",
    "\n",
    "- [atomman.tools](../reference/atomman.tools.ipynb)\n",
    "\n",
    "- [atomman.unitconvert](../reference/atomman.unitconvert.ipynb)"
   ]
  }
 ],
 "metadata": {
  "kernelspec": {
   "display_name": "Python 2",
   "language": "python",
   "name": "python2"
  },
  "language_info": {
   "codemirror_mode": {
    "name": "ipython",
    "version": 2
   },
   "file_extension": ".py",
   "mimetype": "text/x-python",
   "name": "python",
   "nbconvert_exporter": "python",
   "pygments_lexer": "ipython2",
   "version": "2.7.11"
  }
 },
 "nbformat": 4,
 "nbformat_minor": 0
}
