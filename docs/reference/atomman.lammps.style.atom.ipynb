{
 "cells": [
  {
   "cell_type": "markdown",
   "metadata": {},
   "source": [
    "# atomman.lammps.style.atom(atom_style='atomic')\n",
    "\n",
    "- - -"
   ]
  },
  {
   "cell_type": "markdown",
   "metadata": {},
   "source": [
    "**Lucas M. Hale**, [lucas.hale@nist.gov](mailto:lucas.hale@nist.gov?Subject=ipr-demo), *Materials Science and Engineering Division, NIST*.\n",
    "\n",
    "**Chandler A. Becker**, [chandler.becker@nist.gov](mailto:chandler.becker@nist.gov?Subject=ipr-demo), *Office of Data and Informatics, NIST*.\n",
    "\n",
    "**Zachary T. Trautt**, [zachary.trautt@nist.gov](mailto:zachary.trautt@nist.gov?Subject=ipr-demo), *Materials Measurement Science Division, NIST*.\n",
    "\n",
    "Version: 2016-09-02\n",
    "\n",
    "[Disclaimers](http://www.nist.gov/public_affairs/disclaimer.cfm) \n",
    " \n",
    "- - -"
   ]
  },
  {
   "cell_type": "markdown",
   "metadata": {},
   "source": [
    "## Introduction\n",
    "\n",
    "The style.atom function returns a dictionary containing necessary information associated with converting the atom section of LAMMPS atom data files to/from atomman Systems. This imformation is used by the [atom_data.load](atomman.lammps.atom_data.load) and [atom_data.dump](atomman.lammps.atom_data.dump) functions.  \n",
    "\n",
    "Keyword Arguments:\n",
    "\n",
    "- __atom_style__ -- the LAMMPS atom_style option to use. Default value is 'atomic'.\n",
    "\n",
    "The returned dictionary has keys associated with per-atom property names in atomman to be extracted/created, and values that are tuples containing\n",
    "\n",
    "- size of the property data (scalar value = 1, 3D vector value = 3) \n",
    "- physical quantity type (None, 'length', 'energy', ...)\n",
    "- data type (int or float)\n",
    "\n",
    "\n",
    "The underlying code can be found in [atomman/lammps/style.py](../../atomman/lammps/style.py)."
   ]
  },
  {
   "cell_type": "markdown",
   "metadata": {},
   "source": [
    "## Demonstration"
   ]
  },
  {
   "cell_type": "code",
   "execution_count": 1,
   "metadata": {
    "collapsed": false
   },
   "outputs": [],
   "source": [
    "#atomman imports\n",
    "import atomman.lammps as lmp"
   ]
  },
  {
   "cell_type": "markdown",
   "metadata": {},
   "source": [
    "atom_style='atomic' is the simplest with only atom ids, atom types and positions"
   ]
  },
  {
   "cell_type": "code",
   "execution_count": 3,
   "metadata": {
    "collapsed": false
   },
   "outputs": [
    {
     "name": "stdout",
     "output_type": "stream",
     "text": [
      "property name:     a_id\n",
      "data size:         1\n",
      "physical-quantity: None\n",
      "data type:         int32\n",
      "\n",
      "property name:     atype\n",
      "data size:         1\n",
      "physical-quantity: None\n",
      "data type:         int32\n",
      "\n",
      "property name:     pos\n",
      "data size:         3\n",
      "physical-quantity: length\n",
      "data type:         float64\n",
      "\n"
     ]
    }
   ],
   "source": [
    "atom_data_params = lmp.style.atom('atomic')\n",
    "\n",
    "for key, value in atom_data_params.iteritems():\n",
    "    print 'property name:    ', key\n",
    "    print 'data size:        ', value[0]\n",
    "    print 'physical-quantity:', value[1]\n",
    "    print 'data type:        ', value[2]\n",
    "    print \n"
   ]
  },
  {
   "cell_type": "markdown",
   "metadata": {},
   "source": [
    "atom_style='electron' adds charge, spin, and electron radius terms"
   ]
  },
  {
   "cell_type": "code",
   "execution_count": 4,
   "metadata": {
    "collapsed": false
   },
   "outputs": [
    {
     "name": "stdout",
     "output_type": "stream",
     "text": [
      "property name:     a_id\n",
      "data size:         1\n",
      "physical-quantity: None\n",
      "data type:         int32\n",
      "\n",
      "property name:     atype\n",
      "data size:         1\n",
      "physical-quantity: None\n",
      "data type:         int32\n",
      "\n",
      "property name:     q\n",
      "data size:         1\n",
      "physical-quantity: charge\n",
      "data type:         float64\n",
      "\n",
      "property name:     spin\n",
      "data size:         1\n",
      "physical-quantity: None\n",
      "data type:         int32\n",
      "\n",
      "property name:     e_radius\n",
      "data size:         1\n",
      "physical-quantity: length\n",
      "data type:         float64\n",
      "\n",
      "property name:     pos\n",
      "data size:         3\n",
      "physical-quantity: length\n",
      "data type:         float64\n",
      "\n"
     ]
    }
   ],
   "source": [
    "atom_data_params = lmp.style.atom('electron')\n",
    "\n",
    "for key, value in atom_data_params.iteritems():\n",
    "    print 'property name:    ', key\n",
    "    print 'data size:        ', value[0]\n",
    "    print 'physical-quantity:', value[1]\n",
    "    print 'data type:        ', value[2]\n",
    "    print "
   ]
  },
  {
   "cell_type": "markdown",
   "metadata": {},
   "source": [
    "Hybrid styles are also supported"
   ]
  },
  {
   "cell_type": "code",
   "execution_count": 5,
   "metadata": {
    "collapsed": false
   },
   "outputs": [
    {
     "name": "stdout",
     "output_type": "stream",
     "text": [
      "property name:     a_id\n",
      "data size:         1\n",
      "physical-quantity: None\n",
      "data type:         int32\n",
      "\n",
      "property name:     atype\n",
      "data size:         1\n",
      "physical-quantity: None\n",
      "data type:         int32\n",
      "\n",
      "property name:     pos\n",
      "data size:         3\n",
      "physical-quantity: length\n",
      "data type:         float64\n",
      "\n",
      "property name:     m_id\n",
      "data size:         1\n",
      "physical-quantity: None\n",
      "data type:         int32\n",
      "\n",
      "property name:     q\n",
      "data size:         1\n",
      "physical-quantity: charge\n",
      "data type:         float64\n",
      "\n"
     ]
    }
   ],
   "source": [
    "atom_data_params = lmp.style.atom('hybrid angle charge')\n",
    "\n",
    "for key, value in atom_data_params.iteritems():\n",
    "    print 'property name:    ', key\n",
    "    print 'data size:        ', value[0]\n",
    "    print 'physical-quantity:', value[1]\n",
    "    print 'data type:        ', value[2]\n",
    "    print "
   ]
  },
  {
   "cell_type": "markdown",
   "metadata": {},
   "source": [
    "- - -\n",
    "__Docs Navigation:__\n",
    "\n",
    "Tutorial:\n",
    "\n",
    "1. [Basics](../tutorial/1 Basics.ipynb)\n",
    "\n",
    "2. [LAMMPS Functionality](../tutorial/2 LAMMPS Functionality.ipynb)\n",
    "\n",
    "3. [Defect Generation and Evaluation](../tutorial/3 Defect Generation and Evaluation.ipynb)\n",
    "\n",
    "\n",
    "Reference:\n",
    "\n",
    "- [atomman](../reference/atomman.ipynb)\n",
    "\n",
    "- [atomman.convert](../reference/atomman.convert.ipynb)\n",
    "\n",
    "- [atomman.defect](../reference/atomman.defect.ipynb)\n",
    "\n",
    "- [atomman.lammps](../reference/atomman.lammps.ipynb)\n",
    "\n",
    "- [atomman.tools](../reference/atomman.tools.ipynb)\n",
    "\n",
    "- [atomman.unitconvert](../reference/atomman.unitconvert.ipynb)"
   ]
  }
 ],
 "metadata": {
  "kernelspec": {
   "display_name": "Python 2",
   "language": "python",
   "name": "python2"
  },
  "language_info": {
   "codemirror_mode": {
    "name": "ipython",
    "version": 2
   },
   "file_extension": ".py",
   "mimetype": "text/x-python",
   "name": "python",
   "nbconvert_exporter": "python",
   "pygments_lexer": "ipython2",
   "version": "2.7.11"
  }
 },
 "nbformat": 4,
 "nbformat_minor": 0
}
