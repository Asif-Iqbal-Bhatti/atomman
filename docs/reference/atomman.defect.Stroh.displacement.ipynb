{
 "cells": [
  {
   "cell_type": "markdown",
   "metadata": {
    "deletable": true,
    "editable": true
   },
   "source": [
    "# atomman.defect.Stroh.displacement(self, pos)\n",
    "\n",
    "- - -"
   ]
  },
  {
   "cell_type": "markdown",
   "metadata": {
    "deletable": true,
    "editable": true
   },
   "source": [
    "**Lucas M. Hale**, [lucas.hale@nist.gov](mailto:lucas.hale@nist.gov?Subject=ipr-demo), *Materials Science and Engineering Division, NIST*.\n",
    "\n",
    "**Chandler A. Becker**, [chandler.becker@nist.gov](mailto:chandler.becker@nist.gov?Subject=ipr-demo), *Office of Data and Informatics, NIST*.\n",
    "\n",
    "**Zachary T. Trautt**, [zachary.trautt@nist.gov](mailto:zachary.trautt@nist.gov?Subject=ipr-demo), *Materials Measurement Science Division, NIST*.\n",
    "\n",
    "Version: 2017-04-21\n",
    "\n",
    "[Disclaimers](http://www.nist.gov/public_affairs/disclaimer.cfm) \n",
    " \n",
    "- - -"
   ]
  },
  {
   "cell_type": "markdown",
   "metadata": {
    "deletable": true,
    "editable": true
   },
   "source": [
    "## Introduction\n",
    "\n",
    "The Stroh.displacement method computes the position-dependent displacements associated with a particular Stroh defect solution contained in an [atomman.defect.Stroh](atomman.defect.Stroh.ipynb) object. As the Stroh solution is a continuum elasticity solution the supplied positions can but do not have to correspond to atomic positions. The results of this method can be used to generate a dislocation monopole system.\n",
    "\n",
    "More on the underlying theory can be found in [atomman.defect.Stroh.theory.pdf](atomman.defect.Stroh.theory.pdf).\n",
    "\n",
    "Arguments:\n",
    "\n",
    "- __pos__ -- a 3D vector position or a list/array of 3D vector positions.\n",
    "\n",
    "__Note__: the Stroh displacement solution is undefined at y=0 for x<=0. The positions supplied to the function should be shifted to avoid these values.\n",
    "        \n",
    "The underlying code can be found in [atomman/defect/Stroh.py](https://github.com/usnistgov/atomman/blob/master/atomman/defect/Stroh.py)."
   ]
  },
  {
   "cell_type": "markdown",
   "metadata": {
    "deletable": true,
    "editable": true
   },
   "source": [
    "## Demonstration"
   ]
  },
  {
   "cell_type": "markdown",
   "metadata": {
    "deletable": true,
    "editable": true
   },
   "source": [
    "Import libraries"
   ]
  },
  {
   "cell_type": "code",
   "execution_count": 1,
   "metadata": {
    "collapsed": true,
    "deletable": true,
    "editable": true
   },
   "outputs": [],
   "source": [
    "#Standard libraries\n",
    "from __future__ import print_function\n",
    "\n",
    "#http://matplotlib.org/\n",
    "import matplotlib.pyplot as plt\n",
    "from matplotlib import cm\n",
    "%matplotlib inline\n",
    "\n",
    "#http://www.numpy.org/\n",
    "import numpy as np\n",
    "\n",
    "#https://github.com/usnistgov/atomman \n",
    "import atomman as am\n",
    "import atomman.unitconvert as uc"
   ]
  },
  {
   "cell_type": "markdown",
   "metadata": {
    "deletable": true,
    "editable": true
   },
   "source": [
    "### Solving for an fcc edge dislocation"
   ]
  },
  {
   "cell_type": "markdown",
   "metadata": {
    "deletable": true,
    "editable": true
   },
   "source": [
    "Let's consider an fcc edge dislocation.\n",
    "    \n",
    "    Burgers-vector = a/2[ 1, 0,-1]\n",
    "    slip plane =        [ 1, 1, 1]\n",
    "    line-direction =    [ 1,-2, 1]\n",
    "    \n",
    "With how the solution is calculated, this means that the system should be oriented relative to the cubic crystal directions:\n",
    "\n",
    "- x-axis = [ 1, 0,-1]\n",
    "- y-axis = [ 1, 1, 1]\n",
    "- z-axis = [ 1,-2, 1]"
   ]
  },
  {
   "cell_type": "code",
   "execution_count": 2,
   "metadata": {
    "collapsed": true,
    "deletable": true,
    "editable": true
   },
   "outputs": [],
   "source": [
    "axes = np.array([[ 1, 0,-1],\n",
    "                 [ 1, 1, 1],\n",
    "                 [ 1,-2, 1]])"
   ]
  },
  {
   "cell_type": "markdown",
   "metadata": {
    "deletable": true,
    "editable": true
   },
   "source": [
    "Lattice and elastic constants should correspond to the potential and temperature of interest and be converted into proper working units. The values below are for 2010--Winey-J-M--Al at 0 K. Proper conversion of units is handled by the [atomman.unitconvert module](atomman.unitconvert.ipynb)."
   ]
  },
  {
   "cell_type": "code",
   "execution_count": 3,
   "metadata": {
    "collapsed": true,
    "deletable": true,
    "editable": true
   },
   "outputs": [],
   "source": [
    "alat = uc.set_in_units(4.0248, 'angstrom')\n",
    "C11 =  uc.set_in_units(113.76, 'GPa')\n",
    "C12 =  uc.set_in_units( 61.71, 'GPa')\n",
    "C44 =  uc.set_in_units( 31.25, 'GPa')"
   ]
  },
  {
   "cell_type": "markdown",
   "metadata": {
    "deletable": true,
    "editable": true
   },
   "source": [
    "Defining the elastic constants and Burgers vector relative to the cubic cell coordination system"
   ]
  },
  {
   "cell_type": "code",
   "execution_count": 4,
   "metadata": {
    "collapsed": false,
    "deletable": true,
    "editable": true
   },
   "outputs": [],
   "source": [
    "c = am.ElasticConstants(C11=C11, C12=C12, C44=C44)\n",
    "burgers = alat / 2 * np.array([1., 0., -1.])"
   ]
  },
  {
   "cell_type": "markdown",
   "metadata": {
    "deletable": true,
    "editable": true
   },
   "source": [
    "Obtaining the proper a Stroh solution requires that the elastic constants matrix and Burgers vector be defined relative to the System of interest's Cartesian orientation. To handle this, you can either:\n",
    "\n",
    "- Supply the elastic constants and Burgers vector relative to the Cartesian coordination system\n",
    "\n",
    "- Supply the elastic constants and Burgers vector relative to reference coordination system, and give axes for the transformation.\n",
    "\n",
    "For cubic systems, the second option allows for the elastic constants, Burgers vector, and axes vectors to be given relative to the cubic cell coordination system (which is what we have above)."
   ]
  },
  {
   "cell_type": "code",
   "execution_count": 5,
   "metadata": {
    "collapsed": true,
    "deletable": true,
    "editable": true
   },
   "outputs": [],
   "source": [
    "#initializing a new Stroh object using the data\n",
    "stroh = am.defect.Stroh(c, burgers, axes=axes)"
   ]
  },
  {
   "cell_type": "markdown",
   "metadata": {
    "deletable": true,
    "editable": true
   },
   "source": [
    "### Find the displacement at a point"
   ]
  },
  {
   "cell_type": "code",
   "execution_count": 6,
   "metadata": {
    "collapsed": false,
    "deletable": true,
    "editable": true
   },
   "outputs": [
    {
     "name": "stdout",
     "output_type": "stream",
     "text": [
      "displacement = [ 0.54802771 -0.14740711 -0.01333564] angstrom\n"
     ]
    }
   ],
   "source": [
    "pos_test = uc.set_in_units(np.array([12.4, 13.5, -10.6]), 'angstrom')\n",
    "\n",
    "disp = stroh.displacement(pos_test)\n",
    "print(\"displacement =\", uc.get_in_units(disp, 'angstrom'), 'angstrom')"
   ]
  },
  {
   "cell_type": "markdown",
   "metadata": {
    "deletable": true,
    "editable": true
   },
   "source": [
    "### Creating a dislocation monopole system\n",
    "\n",
    "The Stroh.displacement method can be used to insert a dislocation into an initially perfect bulk System."
   ]
  },
  {
   "cell_type": "markdown",
   "metadata": {
    "deletable": true,
    "editable": true
   },
   "source": [
    "Generate an fcc unit cell [System](atomman.System.ipynb)."
   ]
  },
  {
   "cell_type": "code",
   "execution_count": 7,
   "metadata": {
    "collapsed": false,
    "deletable": true,
    "editable": true
   },
   "outputs": [],
   "source": [
    "box = am.Box(a=alat, b=alat, c=alat)\n",
    "atoms = am.Atoms(natoms=4, prop={'atype':1, 'pos':[[0.0, 0.0, 0.0],\n",
    "                                                   [0.5, 0.5, 0.0],\n",
    "                                                   [0.0, 0.5, 0.5],\n",
    "                                                   [0.5, 0.0, 0.5]]})\n",
    "ucell = am.System(atoms=atoms, box=box, scale=True)"
   ]
  },
  {
   "cell_type": "markdown",
   "metadata": {
    "deletable": true,
    "editable": true
   },
   "source": [
    "Create a new system by rotating the unit cell to the proper axes orientation with [rotate_cubic](atomman.rotate_cubic.ipynb)."
   ]
  },
  {
   "cell_type": "code",
   "execution_count": 8,
   "metadata": {
    "collapsed": true,
    "deletable": true,
    "editable": true
   },
   "outputs": [],
   "source": [
    "system = am.rotate_cubic(ucell, axes)"
   ]
  },
  {
   "cell_type": "markdown",
   "metadata": {
    "deletable": true,
    "editable": true
   },
   "source": [
    "Shift the atoms in the system. The y=0 slip plane should be positioned halfway between two atomic planes. Atoms can also be shifted such that x=0 is between two atomic planes as well."
   ]
  },
  {
   "cell_type": "code",
   "execution_count": 9,
   "metadata": {
    "collapsed": true,
    "deletable": true,
    "editable": true
   },
   "outputs": [],
   "source": [
    "shift = np.array([0.12500000000000, 0.50000000000000, 0.00000000000000])\n",
    "\n",
    "new_pos = system.atoms_prop(key='pos', scale=True) + shift\n",
    "system.atoms_prop(key='pos', value=new_pos, scale=True)"
   ]
  },
  {
   "cell_type": "markdown",
   "metadata": {
    "deletable": true,
    "editable": true
   },
   "source": [
    "Increase the System's size with [System.supersize](atomman.System.supersize.ipynb)."
   ]
  },
  {
   "cell_type": "code",
   "execution_count": 10,
   "metadata": {
    "collapsed": true,
    "deletable": true,
    "editable": true
   },
   "outputs": [],
   "source": [
    "system.supersize((-7, 7), (-6, 6), (0, 1))"
   ]
  },
  {
   "cell_type": "markdown",
   "metadata": {
    "deletable": true,
    "editable": true
   },
   "source": [
    "Calculate the defect displacements for all atom positions."
   ]
  },
  {
   "cell_type": "code",
   "execution_count": 11,
   "metadata": {
    "collapsed": true,
    "deletable": true,
    "editable": true
   },
   "outputs": [],
   "source": [
    "disp = stroh.displacement(system.atoms_prop(key='pos'))"
   ]
  },
  {
   "cell_type": "markdown",
   "metadata": {
    "deletable": true,
    "editable": true
   },
   "source": [
    "Apply the displacement to the system"
   ]
  },
  {
   "cell_type": "code",
   "execution_count": 12,
   "metadata": {
    "collapsed": true,
    "deletable": true,
    "editable": true
   },
   "outputs": [],
   "source": [
    "system.atoms_prop(key='pos', value = system.atoms_prop(key='pos') + disp)"
   ]
  },
  {
   "cell_type": "markdown",
   "metadata": {
    "deletable": true,
    "editable": true
   },
   "source": [
    "Change the [periodic boundary conditions](atomman.System.pbc.ipynb) in the x and y directions and [wrap](atomman.System.wrap.ipynb) the System"
   ]
  },
  {
   "cell_type": "code",
   "execution_count": 13,
   "metadata": {
    "collapsed": true,
    "deletable": true,
    "editable": true
   },
   "outputs": [],
   "source": [
    "system.pbc = (False, False, True)\n",
    "system.wrap()"
   ]
  },
  {
   "cell_type": "markdown",
   "metadata": {
    "deletable": true,
    "editable": true
   },
   "source": [
    "Plot the new atomic positions to show the defect.\n",
    "\n",
    "__WARNING!__ The Stroh displacements are associated with the ideal anisotropic elasticity solution. All atomic systems should be relaxed in order to obtain a true solution associated with the atomic position."
   ]
  },
  {
   "cell_type": "code",
   "execution_count": 14,
   "metadata": {
    "collapsed": false,
    "deletable": true,
    "editable": true
   },
   "outputs": [
    {
     "data": {
      "image/png": "[encoded data removed]",
      "text/plain": [
       "<matplotlib.figure.Figure at 0xb98fdd8>"
      ]
     },
     "metadata": {},
     "output_type": "display_data"
    }
   ],
   "source": [
    "pos = system.atoms_prop(key='pos')\n",
    "x = uc.get_in_units(pos[:,0], 'angstrom')\n",
    "y = uc.get_in_units(pos[:,1], 'angstrom')\n",
    "plt.figure(figsize=(8,8))\n",
    "plt.scatter(x, y, s=30)\n",
    "\n",
    "plt.xlim(min(x),max(x))\n",
    "plt.ylim(min(y),max(y))\n",
    "plt.xlabel('x-position (Angstrom)', fontsize='large')\n",
    "plt.ylabel('y-position (Angstrom)', fontsize='large')\n",
    "\n",
    "plt.show()"
   ]
  },
  {
   "cell_type": "markdown",
   "metadata": {
    "deletable": true,
    "editable": true
   },
   "source": [
    "- - -\n",
    "__Docs Navigation:__\n",
    "\n",
    "Tutorial:\n",
    "\n",
    "1. [Basics](../tutorial/1 Basics.ipynb)\n",
    "\n",
    "2. [LAMMPS Functionality](../tutorial/2 LAMMPS Functionality.ipynb)\n",
    "\n",
    "3. [Defect Generation and Evaluation](../tutorial/3 Defect Generation and Evaluation.ipynb)\n",
    "\n",
    "\n",
    "Reference:\n",
    "\n",
    "- [atomman](../reference/atomman.ipynb)\n",
    "\n",
    "- [atomman.convert](../reference/atomman.convert.ipynb)\n",
    "\n",
    "- [atomman.defect](../reference/atomman.defect.ipynb)\n",
    "\n",
    "- [atomman.lammps](../reference/atomman.lammps.ipynb)\n",
    "\n",
    "- [atomman.tools](../reference/atomman.tools.ipynb)\n",
    "\n",
    "- [atomman.unitconvert](../reference/atomman.unitconvert.ipynb)"
   ]
  }
 ],
 "metadata": {
  "kernelspec": {
   "display_name": "Python 2",
   "language": "python",
   "name": "python2"
  },
  "language_info": {
   "codemirror_mode": {
    "name": "ipython",
    "version": 2
   },
   "file_extension": ".py",
   "mimetype": "text/x-python",
   "name": "python",
   "nbconvert_exporter": "python",
   "pygments_lexer": "ipython2",
   "version": "2.7.13"
  }
 },
 "nbformat": 4,
 "nbformat_minor": 0
}
