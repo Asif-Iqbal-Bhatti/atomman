{
 "cells": [
  {
   "cell_type": "markdown",
   "metadata": {},
   "source": [
    "# atomman.defect.Stroh.A\n",
    "\n",
    "- - -"
   ]
  },
  {
   "cell_type": "markdown",
   "metadata": {},
   "source": [
    "**Lucas M. Hale**, [lucas.hale@nist.gov](mailto:lucas.hale@nist.gov?Subject=ipr-demo), *Materials Science and Engineering Division, NIST*.\n",
    "\n",
    "**Chandler A. Becker**, [chandler.becker@nist.gov](mailto:chandler.becker@nist.gov?Subject=ipr-demo), *Materials Science and Engineering Division, NIST*.\n",
    "\n",
    "**Zachary T. Trautt**, [zachary.trautt@nist.gov](mailto:zachary.trautt@nist.gov?Subject=ipr-demo), *Materials Measurement Science Division, NIST*.\n",
    "\n",
    "Version: 2016-03-31\n",
    "\n",
    "[Disclaimers](http://www.nist.gov/public_affairs/disclaimer.cfm)\n",
    "\n",
    "- - -"
   ]
  },
  {
   "cell_type": "markdown",
   "metadata": {},
   "source": [
    "## Introduction\n",
    "\n",
    "The Stroh.A attribute allows for the Stroh method's A eigenvector solutions to be retrieved, if desired. The A vectors are used in calculating the [pre-ln](atomman.defect.Stroh.preln.ipynb) energy factor, [displacements](atomman.defect.Stroh.displacement.ipynb), and [stresses](atomman.defect.Stroh.stress.ipynb). Ordinary usage would not require accessing A directly.\n",
    "\n",
    "More on the underlying theory can be found in [atomman.defect.Stroh.theory.pdf](atomman.defect.Stroh.theory.pdf).\n",
    "\n",
    "The underlying code can be found in [atomman/defect/Stroh.py](https://github.com/usnistgov/atomman/blob/master/atomman/defect/Stroh.py)."
   ]
  },
  {
   "cell_type": "markdown",
   "metadata": {},
   "source": [
    "## Demonstration"
   ]
  },
  {
   "cell_type": "markdown",
   "metadata": {},
   "source": [
    "Import libraries"
   ]
  },
  {
   "cell_type": "code",
   "execution_count": 1,
   "metadata": {
    "collapsed": true
   },
   "outputs": [],
   "source": [
    "%matplotlib inline\n",
    "\n",
    "import matplotlib.pyplot as plt\n",
    "import numpy as np\n",
    "\n",
    "import atomman as am\n",
    "import atomman.unitconvert as uc"
   ]
  },
  {
   "cell_type": "markdown",
   "metadata": {},
   "source": [
    "### Solving for an fcc edge dislocation"
   ]
  },
  {
   "cell_type": "markdown",
   "metadata": {},
   "source": [
    "Let's consider an fcc edge dislocation.\n",
    "    \n",
    "    Burgers-vector = a/2[ 1, 0,-1]\n",
    "    slip plane =        [ 1, 1, 1]\n",
    "    line-direction =    [ 1,-2, 1]\n",
    "    \n",
    "With how the solution is calculated, this means that the system should be oriented relative to the cubic crystal directions:\n",
    "\n",
    "- x-axis = [ 1, 0,-1]\n",
    "- y-axis = [ 1, 1, 1]\n",
    "- z-axis = [ 1,-2, 1]"
   ]
  },
  {
   "cell_type": "code",
   "execution_count": 2,
   "metadata": {
    "collapsed": true
   },
   "outputs": [],
   "source": [
    "axes = np.array([[ 1, 0,-1],\n",
    "                 [ 1, 1, 1],\n",
    "                 [ 1,-2, 1]])"
   ]
  },
  {
   "cell_type": "markdown",
   "metadata": {},
   "source": [
    "Lattice and elastic constants should correspond to the potential and temperature of interest and be converted into proper working units. The values below are for 2010--Winey-J-M--Al at 0 K. Proper conversion of units is handled by the [atomman.unitconvert module](atomman.unitconvert.ipynb)."
   ]
  },
  {
   "cell_type": "code",
   "execution_count": 3,
   "metadata": {
    "collapsed": true
   },
   "outputs": [],
   "source": [
    "alat = uc.set_in_units(4.0248, 'angstrom')\n",
    "C11 =  uc.set_in_units(113.76, 'GPa')\n",
    "C12 =  uc.set_in_units( 61.71, 'GPa')\n",
    "C44 =  uc.set_in_units( 31.25, 'GPa')"
   ]
  },
  {
   "cell_type": "markdown",
   "metadata": {},
   "source": [
    "Defining the elastic constants and Burgers vector relative to the cubic cell coordination system"
   ]
  },
  {
   "cell_type": "code",
   "execution_count": 4,
   "metadata": {
    "collapsed": false
   },
   "outputs": [],
   "source": [
    "c = am.ElasticConstants(C11=C11, C12=C12, C44=C44)\n",
    "burgers = alat / 2 * np.array([1., 0., -1.])"
   ]
  },
  {
   "cell_type": "markdown",
   "metadata": {},
   "source": [
    "Obtaining the proper a Stroh solution requires that the elastic constants matrix and Burgers vector be defined relative to the System of interest's Cartesian orientation. To handle this, you can either:\n",
    "\n",
    "- Supply the elastic constants and Burgers vector relative to the Cartesian coordination system\n",
    "\n",
    "- Supply the elastic constants and Burgers vector relative to reference coordination system, and give axes for the transformation.\n",
    "\n",
    "For cubic systems, the second option allows for the elastic constants, Burgers vector, and axes vectors to be given relative to the cubic cell coordination system (which is what we have above)."
   ]
  },
  {
   "cell_type": "code",
   "execution_count": 5,
   "metadata": {
    "collapsed": true
   },
   "outputs": [],
   "source": [
    "#initializing a new Stroh object using the data\n",
    "stroh = am.defect.Stroh(c, burgers, axes=axes)"
   ]
  },
  {
   "cell_type": "markdown",
   "metadata": {},
   "source": [
    "Show the values of A (not sure what units are in)"
   ]
  },
  {
   "cell_type": "code",
   "execution_count": 6,
   "metadata": {
    "collapsed": false
   },
   "outputs": [
    {
     "name": "stdout",
     "output_type": "stream",
     "text": [
      "[ -3.71261040e-17 -4.63441737e-01j   7.86994117e-01 +0.00000000e+00j\n",
      "   2.42675733e-01 +3.22491645e-16j]\n",
      "[ -3.71261040e-17 +4.63441737e-01j   7.86994117e-01 -0.00000000e+00j\n",
      "   2.42675733e-01 -3.22491645e-16j]\n",
      "[  6.91742836e-01+0.j          -6.30347246e-18+0.48082012j\n",
      "  -1.37815625e-16-0.43587037j]\n",
      "[  6.91742836e-01-0.j          -6.30347246e-18-0.48082012j\n",
      "  -1.37815625e-16+0.43587037j]\n",
      "[ -5.12641364e-16 -5.66544373e-01j   4.40713663e-01 -2.50845399e-16j\n",
      "  -6.33803704e-01 +0.00000000e+00j]\n",
      "[ -5.12641364e-16 +5.66544373e-01j   4.40713663e-01 +2.50845399e-16j\n",
      "  -6.33803704e-01 -0.00000000e+00j]\n"
     ]
    }
   ],
   "source": [
    "for A in stroh.A:\n",
    "    print A"
   ]
  },
  {
   "cell_type": "markdown",
   "metadata": {},
   "source": [
    "- - -\n",
    "__Docs Navigation:__\n",
    "\n",
    "Tutorial:\n",
    "\n",
    "1. [Basics](../tutorial/1 Basics.ipynb)\n",
    "\n",
    "2. [LAMMPS Functionality](../tutorial/2 LAMMPS Functionality.ipynb)\n",
    "\n",
    "3. [Defect Generation and Evaluation](../tutorial/3 Defect Generation and Evaluation.ipynb)\n",
    "\n",
    "\n",
    "Reference:\n",
    "\n",
    "- [atomman](../reference/atomman.ipynb)\n",
    "\n",
    "- [atomman.convert](../reference/atomman.convert.ipynb)\n",
    "\n",
    "- [atomman.defect](../reference/atomman.defect.ipynb)\n",
    "\n",
    "- [atomman.lammps](../reference/atomman.lammps.ipynb)\n",
    "\n",
    "- [atomman.tools](../reference/atomman.tools.ipynb)\n",
    "\n",
    "- [atomman.unitconvert](../reference/atomman.unitconvert.ipynb)"
   ]
  }
 ],
 "metadata": {
  "kernelspec": {
   "display_name": "Python 2",
   "language": "python",
   "name": "python2"
  },
  "language_info": {
   "codemirror_mode": {
    "name": "ipython",
    "version": 2
   },
   "file_extension": ".py",
   "mimetype": "text/x-python",
   "name": "python",
   "nbconvert_exporter": "python",
   "pygments_lexer": "ipython2",
   "version": "2.7.11"
  }
 },
 "nbformat": 4,
 "nbformat_minor": 0
}
