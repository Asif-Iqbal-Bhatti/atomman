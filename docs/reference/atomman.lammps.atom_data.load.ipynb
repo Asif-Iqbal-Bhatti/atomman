{
 "cells": [
  {
   "cell_type": "markdown",
   "metadata": {},
   "source": [
    "# atomman.lammps.atom_data.load(data, pbc=(True, True, True), atom_style='atomic', units='metal')\n",
    "\n",
    "- - -"
   ]
  },
  {
   "cell_type": "markdown",
   "metadata": {},
   "source": [
    "**Lucas M. Hale**, [lucas.hale@nist.gov](mailto:lucas.hale@nist.gov?Subject=ipr-demo), *Materials Science and Engineering Division, NIST*.\n",
    "\n",
    "**Chandler A. Becker**, [chandler.becker@nist.gov](mailto:chandler.becker@nist.gov?Subject=ipr-demo), *Office of Data and Informatics, NIST*.\n",
    "\n",
    "**Zachary T. Trautt**, [zachary.trautt@nist.gov](mailto:zachary.trautt@nist.gov?Subject=ipr-demo), *Materials Measurement Science Division, NIST*.\n",
    "\n",
    "Version: 2016-09-02\n",
    "\n",
    "[Disclaimers](http://www.nist.gov/public_affairs/disclaimer.cfm) \n",
    " \n",
    "- - -"
   ]
  },
  {
   "cell_type": "markdown",
   "metadata": {},
   "source": [
    "## Introduction\n",
    "\n",
    "The atom_data.load function reads a LAMMPS atom data style file. The function will return an atomman.System containing property names consistent with the LAMMPS atom_style option and values in units consistent with the LAMMPS units option. \n",
    "\n",
    "Alternatively, one could call [atomman.load](atomman.load.ipynb) with style='atom_data'. Note that unlike atomman.load, this function only returns a system and not a list of elements. This is because atom data files don't directly contain elemental information.\n",
    "\n",
    "Argument:\n",
    "\n",
    "- __data__ = file name, file-like object or string to read data from.\n",
    "\n",
    "Keyword Arguments:\n",
    "\n",
    "- __pbc__ = three boolean values where True indicates that a corresponding system direction is periodic. Default valueis (True, True, True).\n",
    "\n",
    "- __units__ = the LAMMPS units option associated with the atom data file. Default is 'metal'.\n",
    " \n",
    "- __atom_style__ = the LAMMPS atom_style option associated with the atom data file. Default is 'atomic'.\n",
    "\n",
    "The underlying code can be found in [atomman/lammps/atom_data.py](https://github.com/usnistgov/atomman/blob/master/atomman/lammps/atom_data.py).\n",
    "\n",
    "- - -"
   ]
  },
  {
   "cell_type": "markdown",
   "metadata": {},
   "source": [
    "## Demonstration"
   ]
  },
  {
   "cell_type": "markdown",
   "metadata": {},
   "source": [
    "Library Imports"
   ]
  },
  {
   "cell_type": "code",
   "execution_count": 1,
   "metadata": {
    "collapsed": false
   },
   "outputs": [],
   "source": [
    "import os\n",
    "import atomman as am\n",
    "import atomman.lammps as lmp\n",
    "import numpy as np"
   ]
  },
  {
   "cell_type": "markdown",
   "metadata": {},
   "source": [
    "Create a demonstration atom data file. Note that proper interpretation requires using the correct atom_style and units options."
   ]
  },
  {
   "cell_type": "code",
   "execution_count": 2,
   "metadata": {
    "collapsed": false
   },
   "outputs": [],
   "source": [
    "data = \"\"\"\n",
    "8 atoms\n",
    "2 atom types\n",
    "0.0 5.6500000000000004 xlo xhi\n",
    "0.0 5.6500000000000004 ylo yhi\n",
    "0.0 5.6500000000000004 zlo zhi\n",
    "\n",
    "Atoms\n",
    "\n",
    "1 1 0.0000000000000e+00 0.0000000000000e+00 0.0000000000000e+00\n",
    "2 1 2.8250000000000e+00 0.0000000000000e+00 2.8250000000000e+00\n",
    "3 1 2.8250000000000e+00 2.8250000000000e+00 0.0000000000000e+00\n",
    "4 1 0.0000000000000e+00 2.8250000000000e+00 2.8250000000000e+00\n",
    "5 2 1.4125000000000e+00 1.4125000000000e+00 1.4125000000000e+00\n",
    "6 2 4.2375000000000e+00 4.2375000000000e+00 1.4125000000000e+00\n",
    "7 2 1.4125000000000e+00 4.2375000000000e+00 4.2375000000000e+00\n",
    "8 2 4.2375000000000e+00 1.4125000000000e+00 4.2375000000000e+00\n",
    "\"\"\""
   ]
  },
  {
   "cell_type": "markdown",
   "metadata": {},
   "source": [
    "Load the file into a System"
   ]
  },
  {
   "cell_type": "code",
   "execution_count": 3,
   "metadata": {
    "collapsed": false
   },
   "outputs": [
    {
     "name": "stdout",
     "output_type": "stream",
     "text": [
      "avect =  [ 5.650,  0.000,  0.000]\n",
      "bvect =  [ 0.000,  5.650,  0.000]\n",
      "cvect =  [ 0.000,  0.000,  5.650]\n",
      "origin = [ 0.000,  0.000,  0.000]\n",
      "natoms = 8\n",
      "natypes = 2\n",
      "     id |   atype |  pos[0] |  pos[1] |  pos[2]\n",
      "      0 |       1 |   0.000 |   0.000 |   0.000\n",
      "      1 |       1 |   2.825 |   0.000 |   2.825\n",
      "      2 |       1 |   2.825 |   2.825 |   0.000\n",
      "      3 |       1 |   0.000 |   2.825 |   2.825\n",
      "      4 |       2 |   1.413 |   1.413 |   1.413\n",
      "      5 |       2 |   4.237 |   4.237 |   1.413\n",
      "      6 |       2 |   1.413 |   4.237 |   4.237\n",
      "      7 |       2 |   4.237 |   1.413 |   4.237\n"
     ]
    }
   ],
   "source": [
    "system = lmp.atom_data.load(data, units='metal', atom_style='atomic')\n",
    "print system"
   ]
  },
  {
   "cell_type": "markdown",
   "metadata": {},
   "source": [
    "If the atom data file contains a Velocities section, then the system will have a velocity property."
   ]
  },
  {
   "cell_type": "code",
   "execution_count": 4,
   "metadata": {
    "collapsed": false
   },
   "outputs": [],
   "source": [
    "data = \"\"\"\n",
    "8 atoms\n",
    "2 atom types\n",
    "0.0 5.6500000000000004 xlo xhi\n",
    "0.0 5.6500000000000004 ylo yhi\n",
    "0.0 5.6500000000000004 zlo zhi\n",
    "\n",
    "Atoms\n",
    "\n",
    "1 1 0.0000000000000e+00 0.0000000000000e+00 0.0000000000000e+00\n",
    "2 1 2.8250000000000e+00 0.0000000000000e+00 2.8250000000000e+00\n",
    "3 1 2.8250000000000e+00 2.8250000000000e+00 0.0000000000000e+00\n",
    "4 1 0.0000000000000e+00 2.8250000000000e+00 2.8250000000000e+00\n",
    "5 2 1.4125000000000e+00 1.4125000000000e+00 1.4125000000000e+00\n",
    "6 2 4.2375000000000e+00 4.2375000000000e+00 1.4125000000000e+00\n",
    "7 2 1.4125000000000e+00 4.2375000000000e+00 4.2375000000000e+00\n",
    "8 2 4.2375000000000e+00 1.4125000000000e+00 4.2375000000000e+00\n",
    "\n",
    "Velocities\n",
    "\n",
    "1 3.5217312102415e-01 7.7499106258700e+01 8.4799320954286e+01\n",
    "2 6.7499430276946e+01 2.1692761312075e+01 4.9633360959123e+01\n",
    "3 3.2029126516348e+01 1.8223440831078e+01 9.3377686621986e+01\n",
    "4 1.4857619712371e+01 5.4915968213125e+01 1.3970680124341e+01\n",
    "5 2.1696149329127e+01 6.7985592953185e+01 7.7621788583537e+01\n",
    "6 9.4628113720818e+01 2.4580468691929e+01 1.3106963812131e+01\n",
    "7 9.2188145139260e+01 8.2123470773287e+01 1.3804644642471e+01\n",
    "8 1.9348684726099e+01 2.6841496205303e+01 7.5315919382202e+01\n",
    "\"\"\""
   ]
  },
  {
   "cell_type": "markdown",
   "metadata": {},
   "source": [
    "Load the file into a System"
   ]
  },
  {
   "cell_type": "code",
   "execution_count": 5,
   "metadata": {
    "collapsed": false
   },
   "outputs": [
    {
     "name": "stdout",
     "output_type": "stream",
     "text": [
      "avect =  [ 5.650,  0.000,  0.000]\n",
      "bvect =  [ 0.000,  5.650,  0.000]\n",
      "cvect =  [ 0.000,  0.000,  5.650]\n",
      "origin = [ 0.000,  0.000,  0.000]\n",
      "natoms = 8\n",
      "natypes = 2\n",
      "     id |   atype |  pos[0] |  pos[1] |  pos[2]\n",
      "      0 |       1 |   0.000 |   0.000 |   0.000\n",
      "      1 |       1 |   2.825 |   0.000 |   2.825\n",
      "      2 |       1 |   2.825 |   2.825 |   0.000\n",
      "      3 |       1 |   0.000 |   2.825 |   2.825\n",
      "      4 |       2 |   1.413 |   1.413 |   1.413\n",
      "      5 |       2 |   4.237 |   4.237 |   1.413\n",
      "      6 |       2 |   1.413 |   4.237 |   4.237\n",
      "      7 |       2 |   4.237 |   1.413 |   4.237\n"
     ]
    }
   ],
   "source": [
    "system = lmp.atom_data.load(data, units='metal', atom_style='atomic')\n",
    "print system"
   ]
  },
  {
   "cell_type": "markdown",
   "metadata": {},
   "source": [
    "Print the velocites"
   ]
  },
  {
   "cell_type": "code",
   "execution_count": 6,
   "metadata": {
    "collapsed": false
   },
   "outputs": [
    {
     "name": "stdout",
     "output_type": "stream",
     "text": [
      "[[ 0.0035853   0.78898008  0.86329995]\n",
      " [ 0.68717832  0.22084328  0.5052927 ]\n",
      " [ 0.3260727   0.18552384  0.95063205]\n",
      " [ 0.15125808  0.55907232  0.14222859]\n",
      " [ 0.22087777  0.6921277   0.79022904]\n",
      " [ 0.96336203  0.2502416   0.13343552]\n",
      " [ 0.93852192  0.83605844  0.14053826]\n",
      " [ 0.19697939  0.27326     0.76675413]]\n"
     ]
    }
   ],
   "source": [
    "print system.atoms_prop(key='velocity')"
   ]
  },
  {
   "cell_type": "markdown",
   "metadata": {},
   "source": [
    "- - -\n",
    "__Docs Navigation:__\n",
    "\n",
    "Tutorial:\n",
    "\n",
    "1. [Basics](../tutorial/1 Basics.ipynb)\n",
    "\n",
    "2. [LAMMPS Functionality](../tutorial/2 LAMMPS Functionality.ipynb)\n",
    "\n",
    "3. [Defect Generation and Evaluation](../tutorial/3 Defect Generation and Evaluation.ipynb)\n",
    "\n",
    "\n",
    "Reference:\n",
    "\n",
    "- [atomman](../reference/atomman.ipynb)\n",
    "\n",
    "- [atomman.convert](../reference/atomman.convert.ipynb)\n",
    "\n",
    "- [atomman.defect](../reference/atomman.defect.ipynb)\n",
    "\n",
    "- [atomman.lammps](../reference/atomman.lammps.ipynb)\n",
    "\n",
    "- [atomman.tools](../reference/atomman.tools.ipynb)\n",
    "\n",
    "- [atomman.unitconvert](../reference/atomman.unitconvert.ipynb)"
   ]
  }
 ],
 "metadata": {
  "kernelspec": {
   "display_name": "Python 2",
   "language": "python",
   "name": "python2"
  },
  "language_info": {
   "codemirror_mode": {
    "name": "ipython",
    "version": 2
   },
   "file_extension": ".py",
   "mimetype": "text/x-python",
   "name": "python",
   "nbconvert_exporter": "python",
   "pygments_lexer": "ipython2",
   "version": "2.7.11"
  }
 },
 "nbformat": 4,
 "nbformat_minor": 0
}
