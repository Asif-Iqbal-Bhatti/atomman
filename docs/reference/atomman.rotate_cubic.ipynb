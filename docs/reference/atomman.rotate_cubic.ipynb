{
 "cells": [
  {
   "cell_type": "markdown",
   "metadata": {
    "deletable": true,
    "editable": true
   },
   "source": [
    "# atomman.rotate_cubic(system, axes)\n",
    "\n",
    "- - -"
   ]
  },
  {
   "cell_type": "markdown",
   "metadata": {
    "deletable": true,
    "editable": true
   },
   "source": [
    "**Lucas M. Hale**, [lucas.hale@nist.gov](mailto:lucas.hale@nist.gov?Subject=ipr-demo), *Materials Science and Engineering Division, NIST*.\n",
    "\n",
    "**Chandler A. Becker**, [chandler.becker@nist.gov](mailto:chandler.becker@nist.gov?Subject=ipr-demo), *Office of Data and Informatics, NIST*.\n",
    "\n",
    "**Zachary T. Trautt**, [zachary.trautt@nist.gov](mailto:zachary.trautt@nist.gov?Subject=ipr-demo), *Materials Measurement Science Division, NIST*.\n",
    "\n",
    "Version: 2017-04-19\n",
    "\n",
    "[Disclaimers](http://www.nist.gov/public_affairs/disclaimer.cfm) \n",
    " \n",
    "- - -"
   ]
  },
  {
   "cell_type": "markdown",
   "metadata": {
    "deletable": true,
    "editable": true
   },
   "source": [
    "## Introduction\n",
    "\n",
    "The rotate_cubic function is specifically for rotating periodic cubic Systems. It returns a larger orthogonal System to ensure that atoms across the periodic boundaries remain consisent with the original System's atomic arrangement. \n",
    "\n",
    "Arguments:\n",
    "\n",
    "- __system__ -- the initial [System](atomman.System.ipynb) before rotating.\n",
    "\n",
    "- __axes__ -- a 3x3 array representing the three right-handed orthogonal axes to rotate the system to. Particular to this function, all terms must be integers. This means that the three vectors in axes correspond to three $[ijk]$ cubic cell vectors.\n",
    "       \n",
    "Each dimension of the returned system will relate to the corresponding axis' $[ijk]$ values by:\n",
    "\n",
    "$$a_{new} = a_{old} \\sqrt{i^2 + j^2 + k^2}$$\n",
    "\n",
    "\n",
    "The underlying code can be found in [atomman/core/rotate_cubic.py](../../atomman/core/rotate.py)."
   ]
  },
  {
   "cell_type": "markdown",
   "metadata": {
    "deletable": true,
    "editable": true
   },
   "source": [
    "## Demonstration"
   ]
  },
  {
   "cell_type": "code",
   "execution_count": 1,
   "metadata": {
    "collapsed": false,
    "deletable": true,
    "editable": true
   },
   "outputs": [],
   "source": [
    "#Standard libraries\n",
    "from __future__ import print_function\n",
    "\n",
    "#http://www.numpy.org/\n",
    "import numpy as np    \n",
    "\n",
    "#https://github.com/usnistgov/atomman\n",
    "import atomman as am"
   ]
  },
  {
   "cell_type": "markdown",
   "metadata": {
    "deletable": true,
    "editable": true
   },
   "source": [
    "Generate a demonstration fcc cell"
   ]
  },
  {
   "cell_type": "code",
   "execution_count": 2,
   "metadata": {
    "collapsed": false,
    "deletable": true,
    "editable": true
   },
   "outputs": [
    {
     "name": "stdout",
     "output_type": "stream",
     "text": [
      "avect =  [ 3.640,  0.000,  0.000]\n",
      "bvect =  [ 0.000,  3.640,  0.000]\n",
      "cvect =  [ 0.000,  0.000,  3.640]\n",
      "origin = [ 0.000,  0.000,  0.000]\n",
      "natoms = 4\n",
      "natypes = 1\n",
      "     id |   atype |  pos[0] |  pos[1] |  pos[2]\n",
      "      0 |       1 |   0.000 |   0.000 |   0.000\n",
      "      1 |       1 |   1.820 |   1.820 |   0.000\n",
      "      2 |       1 |   1.820 |   0.000 |   1.820\n",
      "      3 |       1 |   0.000 |   1.820 |   1.820\n"
     ]
    }
   ],
   "source": [
    "alat = 3.64\n",
    "atype = 1\n",
    "pos = np.array([[0.0, 0.0, 0.0], [0.5, 0.5, 0.0], [0.5, 0.0, 0.5], [0.0, 0.5, 0.5]])\n",
    "\n",
    "atoms = am.Atoms(natoms=len(pos), prop={'atype':atype, 'pos':pos})\n",
    "box = am.Box(a=alat, b=alat, c=alat)\n",
    "system = am.System(atoms=atoms, box=box, scale=True)\n",
    "\n",
    "print(system)"
   ]
  },
  {
   "cell_type": "markdown",
   "metadata": {
    "deletable": true,
    "editable": true
   },
   "source": [
    "Rotate according to cubic [ijk] axes"
   ]
  },
  {
   "cell_type": "code",
   "execution_count": 3,
   "metadata": {
    "collapsed": false,
    "deletable": true,
    "editable": true,
    "scrolled": true
   },
   "outputs": [
    {
     "name": "stdout",
     "output_type": "stream",
     "text": [
      "avect =  [ 5.148,  0.000,  0.000]\n",
      "bvect =  [ 0.000,  5.148,  0.000]\n",
      "cvect =  [ 0.000,  0.000,  3.640]\n",
      "origin = [ 0.000,  0.000,  0.000]\n",
      "natoms = 8\n",
      "natypes = 1\n",
      "     id |   atype |  pos[0] |  pos[1] |  pos[2]\n",
      "      0 |       1 |   0.000 |   2.574 |   0.000\n",
      "      1 |       1 |   0.000 |   0.000 |   0.000\n",
      "      2 |       1 |   2.574 |   0.000 |   0.000\n",
      "      3 |       1 |   1.287 |   1.287 |   1.820\n",
      "      4 |       1 |   1.287 |   3.861 |   1.820\n",
      "      5 |       1 |   2.574 |   2.574 |   0.000\n",
      "      6 |       1 |   3.861 |   1.287 |   1.820\n",
      "      7 |       1 |   3.861 |   3.861 |   1.820\n"
     ]
    }
   ],
   "source": [
    "axes = [[ 1, 1, 0], \n",
    "        [-1, 1, 0],\n",
    "        [ 0, 0, 1]]\n",
    "\n",
    "rotated = am.rotate_cubic(system, axes)\n",
    "print(rotated)"
   ]
  },
  {
   "cell_type": "markdown",
   "metadata": {
    "deletable": true,
    "editable": true
   },
   "source": [
    "This doubled the system volume and number of atoms as: \n",
    "\n",
    "$$a_{new} = a_{old} \\sqrt{2}$$\n",
    "$$b_{new} = a_{old} \\sqrt{2}$$\n",
    "$$c_{new} = a_{old}$$"
   ]
  },
  {
   "cell_type": "code",
   "execution_count": 4,
   "metadata": {
    "collapsed": false,
    "deletable": true,
    "editable": true
   },
   "outputs": [
    {
     "name": "stdout",
     "output_type": "stream",
     "text": [
      "a     b     c     alpha beta  gamma\n",
      "5.148 5.148 3.640 90.00 90.00 90.00\n",
      "-----------------------------------\n",
      "Box relative atomic positions:\n",
      "[[ 0.    0.5   0.  ]\n",
      " [ 0.    0.    0.  ]\n",
      " [ 0.5   0.    0.  ]\n",
      " [ 0.25  0.25  0.5 ]\n",
      " [ 0.25  0.75  0.5 ]\n",
      " [ 0.5   0.5   0.  ]\n",
      " [ 0.75  0.25  0.5 ]\n",
      " [ 0.75  0.75  0.5 ]]\n"
     ]
    }
   ],
   "source": [
    "print('a     b     c     alpha beta  gamma')\n",
    "print('%5.3f %5.3f %5.3f' % (rotated.box.a, rotated.box.b, rotated.box.c), end=' ')\n",
    "print('%5.2f %5.2f %5.2f' % (rotated.box.alpha, rotated.box.beta, rotated.box.gamma))\n",
    "print('-----------------------------------')\n",
    "rel_pos = rotated.atoms_prop(key='pos', scale=True)\n",
    "rel_pos[abs(rel_pos) < 1e-10] = 0.0\n",
    "\n",
    "print('Box relative atomic positions:')\n",
    "print(rel_pos)"
   ]
  },
  {
   "cell_type": "markdown",
   "metadata": {
    "deletable": true,
    "editable": true
   },
   "source": [
    "But, the periodic bulk structure remains fcc"
   ]
  },
  {
   "cell_type": "code",
   "execution_count": 5,
   "metadata": {
    "collapsed": false,
    "deletable": true,
    "editable": true
   },
   "outputs": [
    {
     "name": "stdout",
     "output_type": "stream",
     "text": [
      "average coordination = 12.0\n"
     ]
    }
   ],
   "source": [
    "#Increase size so atoms aren't neighbors with themselves\n",
    "rotated.supersize(3,3,3)\n",
    "\n",
    "nlist = am.NeighborList(rotated, alat*0.8)\n",
    "print('average coordination =', np.mean(nlist.coord))"
   ]
  },
  {
   "cell_type": "markdown",
   "metadata": {
    "deletable": true,
    "editable": true
   },
   "source": [
    "- - -\n",
    "__Docs Navigation:__\n",
    "\n",
    "Tutorial:\n",
    "\n",
    "1. [Basics](../tutorial/1 Basics.ipynb)\n",
    "\n",
    "2. [LAMMPS Functionality](../tutorial/2 LAMMPS Functionality.ipynb)\n",
    "\n",
    "3. [Defect Generation and Evaluation](../tutorial/3 Defect Generation and Evaluation.ipynb)\n",
    "\n",
    "\n",
    "Reference:\n",
    "\n",
    "- [atomman](../reference/atomman.ipynb)\n",
    "\n",
    "- [atomman.convert](../reference/atomman.convert.ipynb)\n",
    "\n",
    "- [atomman.defect](../reference/atomman.defect.ipynb)\n",
    "\n",
    "- [atomman.lammps](../reference/atomman.lammps.ipynb)\n",
    "\n",
    "- [atomman.tools](../reference/atomman.tools.ipynb)\n",
    "\n",
    "- [atomman.unitconvert](../reference/atomman.unitconvert.ipynb)"
   ]
  }
 ],
 "metadata": {
  "kernelspec": {
   "display_name": "Python 2",
   "language": "python",
   "name": "python2"
  },
  "language_info": {
   "codemirror_mode": {
    "name": "ipython",
    "version": 2
   },
   "file_extension": ".py",
   "mimetype": "text/x-python",
   "name": "python",
   "nbconvert_exporter": "python",
   "pygments_lexer": "ipython2",
   "version": "2.7.13"
  }
 },
 "nbformat": 4,
 "nbformat_minor": 0
}
