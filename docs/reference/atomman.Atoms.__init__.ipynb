{
 "cells": [
  {
   "cell_type": "markdown",
   "metadata": {},
   "source": [
    "# atomman.Atoms.\\__init__(self, natoms=1, prop={}, prop_dtype=None, nvals=30, data=None, view=None)\n",
    "\n",
    "- - -"
   ]
  },
  {
   "cell_type": "markdown",
   "metadata": {},
   "source": [
    "**Lucas M. Hale**, [lucas.hale@nist.gov](mailto:lucas.hale@nist.gov?Subject=ipr-demo), *Materials Science and Engineering Division, NIST*.\n",
    "\n",
    "**Chandler A. Becker**, [chandler.becker@nist.gov](mailto:chandler.becker@nist.gov?Subject=ipr-demo), *Office of Data and Informatics, NIST*.\n",
    "\n",
    "**Zachary T. Trautt**, [zachary.trautt@nist.gov](mailto:zachary.trautt@nist.gov?Subject=ipr-demo), *Materials Measurement Science Division, NIST*.\n",
    "\n",
    "Version: 2016-08-23\n",
    "\n",
    "[Disclaimers](http://www.nist.gov/public_affairs/disclaimer.cfm) \n",
    " \n",
    "- - -"
   ]
  },
  {
   "cell_type": "markdown",
   "metadata": {},
   "source": [
    "## Introduction\n",
    "\n",
    "An Atoms instance can be initialized in a number of ways based on the supplied keywords. The default values of all properties are set to zero. By default, each atom is pre-assigned two properties:\n",
    "\n",
    "- __atype__ = integer atom type\n",
    "\n",
    "- __pos__ = (3x1) float array coordinate position \n",
    "\n",
    "Keyword Arguments:\n",
    "\n",
    "- __natoms__ = number of atoms in the list.  The number of atoms is fixed after creation.  Default value is 1.\n",
    "\n",
    "- __prop__ = dictionary containing per-atom properties.\n",
    "\n",
    "- __prop_dtype__ = a dictionary for explicitly defining the data types for the different properties.  Optional when initializing with prop, but mandatory when initilizing with data and view. \n",
    "\n",
    "- __nvals__ = number of numeric property values given to each atom.  This automatically increases if needed.  As an argument, it can offer slight performance improvements if you know how many property values you will assign.  Default value is 30.\n",
    "\n",
    "- __data__ = a numpy data array to be assigned at the core of the Atoms instance.\n",
    "\n",
    "- __view__ = a dictionary of views pointing to the data array.\n",
    "\n",
    "\n",
    "The underlying code can be found in [atomman/core/Atoms.py](../../atomman/core/Atoms.py)."
   ]
  },
  {
   "cell_type": "markdown",
   "metadata": {},
   "source": [
    "## Demonstration"
   ]
  },
  {
   "cell_type": "markdown",
   "metadata": {},
   "source": [
    "Library Imports"
   ]
  },
  {
   "cell_type": "code",
   "execution_count": 1,
   "metadata": {
    "collapsed": false
   },
   "outputs": [],
   "source": [
    "from collections import OrderedDict\n",
    "\n",
    "#External library imports\n",
    "import numpy as np\n",
    "\n",
    "#atomman imports\n",
    "import atomman as am"
   ]
  },
  {
   "cell_type": "markdown",
   "metadata": {},
   "source": [
    "Initializing with no arguments creates a 1 atom object with atype=0 and pos=[0,0,0]"
   ]
  },
  {
   "cell_type": "code",
   "execution_count": 2,
   "metadata": {
    "collapsed": false
   },
   "outputs": [
    {
     "name": "stdout",
     "output_type": "stream",
     "text": [
      "     id |   atype |  pos[0] |  pos[1] |  pos[2]\n",
      "      0 |       0 |   0.000 |   0.000 |   0.000\n"
     ]
    }
   ],
   "source": [
    "print am.Atoms()"
   ]
  },
  {
   "cell_type": "markdown",
   "metadata": {},
   "source": [
    "Use natoms to specify the number of atoms"
   ]
  },
  {
   "cell_type": "code",
   "execution_count": 3,
   "metadata": {
    "collapsed": false
   },
   "outputs": [
    {
     "name": "stdout",
     "output_type": "stream",
     "text": [
      "     id |   atype |  pos[0] |  pos[1] |  pos[2]\n",
      "      0 |       0 |   0.000 |   0.000 |   0.000\n",
      "      1 |       0 |   0.000 |   0.000 |   0.000\n",
      "      2 |       0 |   0.000 |   0.000 |   0.000\n",
      "      3 |       0 |   0.000 |   0.000 |   0.000\n",
      "      4 |       0 |   0.000 |   0.000 |   0.000\n"
     ]
    }
   ],
   "source": [
    "print am.Atoms(natoms=5)"
   ]
  },
  {
   "cell_type": "markdown",
   "metadata": {},
   "source": [
    "Property values can also be assigned during initilization using a dictionary and the prop argument. Any properties can be assigned this way not just atype and pos. Assignment"
   ]
  },
  {
   "cell_type": "code",
   "execution_count": 4,
   "metadata": {
    "collapsed": false
   },
   "outputs": [
    {
     "name": "stdout",
     "output_type": "stream",
     "text": [
      "     id |   atype |  pos[0] |  pos[1] |  pos[2]\n",
      "      0 |      10 |   1.000 |   1.000 |   1.000\n",
      "      1 |       9 |   1.000 |   1.000 |   1.000\n",
      "      2 |       8 |   1.000 |   1.000 |   1.000\n",
      "      3 |       7 |   1.000 |   1.000 |   1.000\n",
      "      4 |       6 |   1.000 |   1.000 |   1.000\n",
      "      5 |       5 |   1.000 |   1.000 |   1.000\n",
      "      6 |       4 |   1.000 |   1.000 |   1.000\n",
      "      7 |       3 |   1.000 |   1.000 |   1.000\n",
      "      8 |       2 |   1.000 |   1.000 |   1.000\n",
      "      9 |       1 |   1.000 |   1.000 |   1.000\n"
     ]
    }
   ],
   "source": [
    "prop_dict = {'atype': range(10,0,-1), 'pos': np.ones((10,3))}\n",
    "\n",
    "atoms = am.Atoms(natoms=10, prop=prop_dict)\n",
    "\n",
    "print atoms"
   ]
  },
  {
   "cell_type": "markdown",
   "metadata": {},
   "source": [
    "Any properties can be assigned using prop_dict, not just atype and pos. Assignment of values follows numpy broadcasting as well."
   ]
  },
  {
   "cell_type": "code",
   "execution_count": 5,
   "metadata": {
    "collapsed": false
   },
   "outputs": [
    {
     "name": "stdout",
     "output_type": "stream",
     "text": [
      "     id |   atype |  pos[0] |  pos[1] |  pos[2]\n",
      "      0 |       1 |   0.906 |   0.010 |   0.116\n",
      "      1 |       1 |   0.212 |   0.043 |   0.503\n",
      "      2 |       1 |   0.246 |   0.281 |   0.989\n",
      "      3 |       1 |   0.193 |   0.302 |   0.095\n",
      "      4 |       1 |   0.067 |   0.642 |   0.333\n",
      "      5 |       1 |   0.252 |   0.403 |   0.355\n",
      "      6 |       1 |   0.558 |   0.493 |   0.798\n",
      "      7 |       1 |   0.135 |   0.176 |   0.808\n",
      "      8 |       1 |   0.659 |   0.375 |   0.237\n",
      "      9 |       1 |   0.077 |   0.014 |   0.132\n",
      "\n",
      "Charges: [-1 -1 -1 -1 -1 -1 -1 -1 -1 -1]\n"
     ]
    }
   ],
   "source": [
    "prop_dict = {'atype':1, 'pos':np.random.rand(10,3), 'charge':-1.0}\n",
    "prop_dtype = {'atype':'int32', 'pos':'float64', 'charge':'int32'}\n",
    "\n",
    "atoms = am.Atoms(natoms=10, prop=prop_dict, prop_dtype=prop_dtype)\n",
    "\n",
    "print atoms\n",
    "print \n",
    "print 'Charges:', atoms.prop(key='charge')"
   ]
  },
  {
   "cell_type": "markdown",
   "metadata": {},
   "source": [
    "An Atoms instance can also be initialized by directly supplying values for the class attributes [data](atomman.Atoms.data.ipynb), [view](atomman.Atoms.view.ipynb) and [dtype](atomman.Atoms.dtype.ipynb). While this allows for direct control over the creation of an Atoms object, it circumvents the control features in the [prop](atomman.Atoms.prop.ipynb) method designed to guarantee that the views in view correspond to the data array."
   ]
  },
  {
   "cell_type": "code",
   "execution_count": 6,
   "metadata": {
    "collapsed": false
   },
   "outputs": [
    {
     "name": "stdout",
     "output_type": "stream",
     "text": [
      "Create newatoms by assigning data, view, and prop_dtype associated with atom index 3:\n",
      "     id |   atype |  pos[0] |  pos[1] |  pos[2]\n",
      "      0 |       1 |   0.193 |   0.302 |   0.095\n",
      "      1 |       1 |   0.067 |   0.642 |   0.333\n"
     ]
    }
   ],
   "source": [
    "#Use the initializer to create a new Atoms object with the indexed atoms\n",
    "index = [3,4]\n",
    "view = OrderedDict()\n",
    "for k, v in atoms.view.iteritems():\n",
    "    view[k] = v[index]\n",
    "newatoms = am.Atoms(data=atoms.data[index], view=view, prop_dtype=atoms.dtype)\n",
    "print newatoms"
   ]
  },
  {
   "cell_type": "code",
   "execution_count": 7,
   "metadata": {
    "collapsed": false
   },
   "outputs": [
    {
     "name": "stdout",
     "output_type": "stream",
     "text": [
      "     id |   atype |  pos[0] |  pos[1] |  pos[2]\n",
      "      0 |       1 |   0.193 |   0.302 |   0.095\n",
      "      1 |       1 |   0.067 |   0.642 |   0.333\n"
     ]
    }
   ],
   "source": [
    "#This does the same thing as the previous cell\n",
    "newatoms = atoms[index]\n",
    "print newatoms"
   ]
  },
  {
   "cell_type": "markdown",
   "metadata": {},
   "source": [
    "__Docs Navigation:__\n",
    "\n",
    "Tutorial:\n",
    "\n",
    "1. [Basics](../tutorial/1 Basics.ipynb)\n",
    "\n",
    "2. [LAMMPS Functionality](../tutorial/2 LAMMPS Functionality.ipynb)\n",
    "\n",
    "3. [Defect Generation and Evaluation](../tutorial/3 Defect Generation and Evaluation.ipynb)\n",
    "\n",
    "\n",
    "Reference:\n",
    "\n",
    "- [atomman](../reference/atomman.ipynb)\n",
    "\n",
    "- [atomman.convert](../reference/atomman.convert.ipynb)\n",
    "\n",
    "- [atomman.defect](../reference/atomman.defect.ipynb)\n",
    "\n",
    "- [atomman.lammps](../reference/atomman.lammps.ipynb)\n",
    "\n",
    "- [atomman.tools](../reference/atomman.tools.ipynb)\n",
    "\n",
    "- [atomman.unitconvert](../reference/atomman.unitconvert.ipynb)"
   ]
  }
 ],
 "metadata": {
  "kernelspec": {
   "display_name": "Python 2",
   "language": "python",
   "name": "python2"
  },
  "language_info": {
   "codemirror_mode": {
    "name": "ipython",
    "version": 2
   },
   "file_extension": ".py",
   "mimetype": "text/x-python",
   "name": "python",
   "nbconvert_exporter": "python",
   "pygments_lexer": "ipython2",
   "version": "2.7.11"
  }
 },
 "nbformat": 4,
 "nbformat_minor": 0
}
