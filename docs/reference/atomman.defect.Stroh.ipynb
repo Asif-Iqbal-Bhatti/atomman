{
 "cells": [
  {
   "cell_type": "markdown",
   "metadata": {},
   "source": [
    "# atomman.defect.Stroh Class\n",
    "\n",
    "- - -"
   ]
  },
  {
   "cell_type": "markdown",
   "metadata": {},
   "source": [
    "__Lucas M. Hale__, [lucas.hale@nist.gov](mailto:lucas.hale@nist.gov?Subject=ipr-demo), _Materials Science and Engineering Division, NIST_.\n",
    "\n",
    "__Chandler A. Becker__, [chandler.becker@nist.gov](mailto:chandler.becker@nist.gov?Subject=ipr-demo), _Office of Data and Informatics, NIST_.\n",
    "\n",
    "__Zachary T. Trautt__, [zachary.trautt@nist.gov](mailto:zachary.trautt@nist.gov?Subject=ipr-demo), _Materials Measurement Science Division, NIST_.\n",
    "\n",
    "Version: 2017-01-24\n",
    "\n",
    "[Disclaimers](http://www.nist.gov/public_affairs/disclaimer.cfm) \n",
    " \n",
    "- - -"
   ]
  },
  {
   "cell_type": "markdown",
   "metadata": {},
   "source": [
    "## Introduction\n",
    "\n",
    "The atomman.defect.Stroh class solves the Eshelby anisotropic elasticity solution for a perfectly straight dislocation or crack using the Stroh method. This allows for the evaluation of a dislocation's elastic energy, as well as the ability to generate a dislocation monopole system. \n",
    "\n",
    "More on the underlying theory can be found in [atomman.defect.Stroh.theory.pdf](atomman.defect.Stroh.theory.pdf).\n",
    "\n",
    "In performing the calculation, the defect line is inserted at the Cartesian xy = (0,0) position. If the supplied Burgers vector is in the xz plane, then the resulting defect is a dislocation. Burgers vectors parallel to the z-axis will generate screw dislocations, and Burgers vectors parallel to the x-axis will generate edge dislocations. Having the Burgers vector outside of the xz plane will create a split in the system (i.e. form a crack).\n",
    "\n",
    "The underlying code can be found in [atomman/defect/Stroh.py](https://github.com/usnistgov/atomman/blob/master/atomman/defect/Stroh.py)."
   ]
  },
  {
   "cell_type": "markdown",
   "metadata": {},
   "source": [
    "## Class Methods of atomman.defect.Stroh\n",
    "\n",
    "- [\\__init__(self, C, burgers, axes=None, tol=1e-8)](atomman.defect.Stroh.__init__.ipynb) -- class initializer.\n",
    "\n",
    "- [solve(self, C, burgers, axes=None, tol=1e-8)](atomman.defect.Stroh.solve.ipynb) -- calculates the Stroh solution for the given elastic constants and Burgers vector.\n",
    "\n",
    "- [displacement(self, pos)](atomman.defect.Stroh.displacement.ipynb) -- calculates the Stroh displacement at one or more positions.\n",
    "\n",
    "- [stress(self, pos)](atomman.defect.Stroh.stress.ipynb) -- calculates the Stroh stress state at one or more positions.\n",
    "\n",
    "- [eta(self, pos)](atomman.defect.Stroh.eta.ipynb) -- computes the position dependent eta factor. This is used by the displacement and stress methods."
   ]
  },
  {
   "cell_type": "markdown",
   "metadata": {},
   "source": [
    "## Class Attributes of atomman.defect.Stroh\n",
    "\n",
    "- [preln](atomman.defect.Stroh.preln.ipynb) -- the pre-ln strain energy factor of the defect.\n",
    "\n",
    "- [K_coeff](atomman.defect.Stroh.K_coeff.ipynb) -- the energy coefficient for the defect.\n",
    "\n",
    "- [K_tensor](atomman.defect.Stroh.K_tensor.ipynb) -- the energy coefficient tensor for the defect.\n",
    "\n",
    "- [p](atomman.defect.Stroh.p.ipynb) -- the six eigenvalues associated with the Stroh solution.\n",
    "\n",
    "- [A](atomman.defect.Stroh.A.ipynb) -- the A eigenvectors associated with the Stroh solution.\n",
    "\n",
    "- [L](atomman.defect.Stroh.L.ipynb) -- the L eigenvectors associated with the Stroh solution.\n",
    "\n",
    "- [k](atomman.defect.Stroh.k.ipynb) -- the k normalization factors associated with the Stroh solution."
   ]
  },
  {
   "cell_type": "markdown",
   "metadata": {},
   "source": [
    "__Docs Navigation:__\n",
    "\n",
    "Tutorial:\n",
    "\n",
    "1. [Basics](../tutorial/1 Basics.ipynb)\n",
    "\n",
    "2. [LAMMPS Functionality](../tutorial/2 LAMMPS Functionality.ipynb)\n",
    "\n",
    "3. [Defect Generation and Evaluation](../tutorial/3 Defect Generation and Evaluation.ipynb)\n",
    "\n",
    "\n",
    "Reference:\n",
    "\n",
    "- [atomman](../reference/atomman.ipynb)\n",
    "\n",
    "- [atomman.convert](../reference/atomman.convert.ipynb)\n",
    "\n",
    "- [atomman.defect](../reference/atomman.defect.ipynb)\n",
    "\n",
    "- [atomman.lammps](../reference/atomman.lammps.ipynb)\n",
    "\n",
    "- [atomman.tools](../reference/atomman.tools.ipynb)\n",
    "\n",
    "- [atomman.unitconvert](../reference/atomman.unitconvert.ipynb)"
   ]
  }
 ],
 "metadata": {
  "anaconda-cloud": {},
  "kernelspec": {
   "display_name": "Python [Root]",
   "language": "python",
   "name": "Python [Root]"
  },
  "language_info": {
   "codemirror_mode": {
    "name": "ipython",
    "version": 2
   },
   "file_extension": ".py",
   "mimetype": "text/x-python",
   "name": "python",
   "nbconvert_exporter": "python",
   "pygments_lexer": "ipython2",
   "version": "2.7.12"
  }
 },
 "nbformat": 4,
 "nbformat_minor": 0
}
