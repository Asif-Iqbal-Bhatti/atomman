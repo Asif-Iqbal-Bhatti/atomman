{
 "cells": [
  {
   "cell_type": "markdown",
   "metadata": {},
   "source": [
    "# atomman.displacement(system_0, system_1)\n",
    "\n",
    "- - -"
   ]
  },
  {
   "cell_type": "markdown",
   "metadata": {},
   "source": [
    "**Lucas M. Hale**, [lucas.hale@nist.gov](mailto:lucas.hale@nist.gov?Subject=ipr-demo), *Materials Science and Engineering Division, NIST*.\n",
    "\n",
    "**Chandler A. Becker**, [chandler.becker@nist.gov](mailto:chandler.becker@nist.gov?Subject=ipr-demo), *Office of Data and Informatics, NIST*.\n",
    "\n",
    "**Zachary T. Trautt**, [zachary.trautt@nist.gov](mailto:zachary.trautt@nist.gov?Subject=ipr-demo), *Materials Measurement Science Division, NIST*.\n",
    "\n",
    "Version: 2016-08-26\n",
    "\n",
    "[Disclaimers](http://www.nist.gov/public_affairs/disclaimer.cfm) \n",
    " \n",
    "- - -"
   ]
  },
  {
   "cell_type": "markdown",
   "metadata": {},
   "source": [
    "## Introduction\n",
    "\n",
    "The displacement function calculates the displacement vectors of all atoms of one system relative to another. This uses [dvect](atomman.dvect.ipynb) to account for periodic boundaries.\n",
    "\n",
    "Arguments:\n",
    "\n",
    "- __system_0__ -- a [System](atomman.System.ipynb) with atoms at initial (reference) positions.\n",
    "\n",
    "- __system_1__ -- a [System](atomman.System.ipynb) with atoms at final positions.\n",
    "\n",
    "Keyword Arguments:\n",
    "\n",
    "- __box_reference__ -- indicates which System's boundary information is used. Default value is 'final'.\n",
    "    - = 'initial' -- uses system_0's box and pbc.\n",
    "    - = 'final' -- uses system_1's box and pbc.\n",
    "    - = None -- boundary conditions are ignored.\n",
    "\n",
    "The underlying code can be found in [atomman/core/displacement.py](../../atomman/core/displacement.py)."
   ]
  },
  {
   "cell_type": "markdown",
   "metadata": {},
   "source": [
    "## Demonstration"
   ]
  },
  {
   "cell_type": "code",
   "execution_count": 1,
   "metadata": {
    "collapsed": false
   },
   "outputs": [],
   "source": [
    "import atomman as am\n",
    "import numpy as np"
   ]
  },
  {
   "cell_type": "markdown",
   "metadata": {},
   "source": [
    "Build system_0 with random positions"
   ]
  },
  {
   "cell_type": "code",
   "execution_count": 2,
   "metadata": {
    "collapsed": false
   },
   "outputs": [
    {
     "name": "stdout",
     "output_type": "stream",
     "text": [
      "avect =  [10.000,  0.000,  0.000]\n",
      "bvect =  [ 0.000, 10.000,  0.000]\n",
      "cvect =  [ 0.000,  0.000, 10.000]\n",
      "origin = [ 0.000,  0.000,  0.000]\n",
      "natoms = 10\n",
      "natypes = 1\n",
      "     id |   atype |  pos[0] |  pos[1] |  pos[2]\n",
      "      0 |       1 |   5.009 |   3.909 |   8.088\n",
      "      1 |       1 |   2.654 |   0.164 |   7.750\n",
      "      2 |       1 |   4.940 |   1.567 |   9.648\n",
      "      3 |       1 |   9.652 |   2.545 |   5.277\n",
      "      4 |       1 |   9.703 |   3.415 |   6.236\n",
      "      5 |       1 |   5.642 |   3.944 |   1.670\n",
      "      6 |       1 |   1.532 |   6.621 |   8.199\n",
      "      7 |       1 |   6.486 |   1.690 |   9.463\n",
      "      8 |       1 |   0.402 |   8.138 |   3.844\n",
      "      9 |       1 |   4.872 |   0.817 |   8.941\n"
     ]
    }
   ],
   "source": [
    "atoms = am.Atoms(natoms=10, prop={'atype':1, 'pos': np.random.random((10,3))})\n",
    "box = am.Box(a=10, b=10, c=10)\n",
    "\n",
    "system_0 = am.System(atoms=atoms, box=box, pbc=(True, True, True), scale=True)\n",
    "\n",
    "print system_0"
   ]
  },
  {
   "cell_type": "markdown",
   "metadata": {},
   "source": [
    "Build system_1 with all positions shifted in the x-direction by 2.5"
   ]
  },
  {
   "cell_type": "code",
   "execution_count": 3,
   "metadata": {
    "collapsed": false
   },
   "outputs": [
    {
     "name": "stdout",
     "output_type": "stream",
     "text": [
      "avect =  [10.000,  0.000,  0.000]\n",
      "bvect =  [ 0.000, 10.000,  0.000]\n",
      "cvect =  [ 0.000,  0.000, 10.000]\n",
      "origin = [ 0.000,  0.000,  0.000]\n",
      "natoms = 10\n",
      "natypes = 1\n",
      "     id |   atype |  pos[0] |  pos[1] |  pos[2]\n",
      "      0 |       1 |   7.509 |   3.909 |   8.088\n",
      "      1 |       1 |   5.154 |   0.164 |   7.750\n",
      "      2 |       1 |   7.440 |   1.567 |   9.648\n",
      "      3 |       1 |   2.152 |   2.545 |   5.277\n",
      "      4 |       1 |   2.203 |   3.415 |   6.236\n",
      "      5 |       1 |   8.142 |   3.944 |   1.670\n",
      "      6 |       1 |   4.032 |   6.621 |   8.199\n",
      "      7 |       1 |   8.986 |   1.690 |   9.463\n",
      "      8 |       1 |   2.902 |   8.138 |   3.844\n",
      "      9 |       1 |   7.372 |   0.817 |   8.941\n"
     ]
    }
   ],
   "source": [
    "atoms = am.Atoms(natoms=10, prop={'atype':1, \n",
    "                                  'pos': system_0.atoms.view['pos'] + np.array([[2.5, 0.0, 0.0]])})\n",
    "system_1 = am.System(atoms=atoms, box=box, pbc=(True, True, True))\n",
    "system_1.wrap()\n",
    "print system_1"
   ]
  },
  {
   "cell_type": "markdown",
   "metadata": {},
   "source": [
    "Print displacements"
   ]
  },
  {
   "cell_type": "code",
   "execution_count": 4,
   "metadata": {
    "collapsed": false
   },
   "outputs": [
    {
     "name": "stdout",
     "output_type": "stream",
     "text": [
      "[[  2.50000000e+00   0.00000000e+00   0.00000000e+00]\n",
      " [  2.50000000e+00   0.00000000e+00   0.00000000e+00]\n",
      " [  2.50000000e+00   0.00000000e+00   0.00000000e+00]\n",
      " [  2.50000000e+00   4.44089210e-16   0.00000000e+00]\n",
      " [  2.50000000e+00   0.00000000e+00   0.00000000e+00]\n",
      " [  2.50000000e+00   0.00000000e+00   0.00000000e+00]\n",
      " [  2.50000000e+00   0.00000000e+00   0.00000000e+00]\n",
      " [  2.50000000e+00   0.00000000e+00   0.00000000e+00]\n",
      " [  2.50000000e+00   0.00000000e+00   0.00000000e+00]\n",
      " [  2.50000000e+00   0.00000000e+00   0.00000000e+00]]\n"
     ]
    }
   ],
   "source": [
    "print am.displacement(system_0, system_1)"
   ]
  },
  {
   "cell_type": "markdown",
   "metadata": {},
   "source": [
    "Setting box_reference = None will give the classic displacement and ignore periodic boundaries"
   ]
  },
  {
   "cell_type": "code",
   "execution_count": 5,
   "metadata": {
    "collapsed": false
   },
   "outputs": [
    {
     "name": "stdout",
     "output_type": "stream",
     "text": [
      "[[  2.50000000e+00   0.00000000e+00   0.00000000e+00]\n",
      " [  2.50000000e+00   0.00000000e+00   0.00000000e+00]\n",
      " [  2.50000000e+00   0.00000000e+00   0.00000000e+00]\n",
      " [ -7.50000000e+00   4.44089210e-16   0.00000000e+00]\n",
      " [ -7.50000000e+00   0.00000000e+00   0.00000000e+00]\n",
      " [  2.50000000e+00   0.00000000e+00   0.00000000e+00]\n",
      " [  2.50000000e+00   0.00000000e+00   0.00000000e+00]\n",
      " [  2.50000000e+00   0.00000000e+00   0.00000000e+00]\n",
      " [  2.50000000e+00   0.00000000e+00   0.00000000e+00]\n",
      " [  2.50000000e+00   0.00000000e+00   0.00000000e+00]]\n"
     ]
    }
   ],
   "source": [
    "print am.displacement(system_0, system_1, box_reference=None)"
   ]
  },
  {
   "cell_type": "markdown",
   "metadata": {},
   "source": [
    "- - -\n",
    "__Docs Navigation:__\n",
    "\n",
    "Tutorial:\n",
    "\n",
    "1. [Basics](../tutorial/1 Basics.ipynb)\n",
    "\n",
    "2. [LAMMPS Functionality](../tutorial/2 LAMMPS Functionality.ipynb)\n",
    "\n",
    "3. [Defect Generation and Evaluation](../tutorial/3 Defect Generation and Evaluation.ipynb)\n",
    "\n",
    "\n",
    "Reference:\n",
    "\n",
    "- [atomman](../reference/atomman.ipynb)\n",
    "\n",
    "- [atomman.convert](../reference/atomman.convert.ipynb)\n",
    "\n",
    "- [atomman.defect](../reference/atomman.defect.ipynb)\n",
    "\n",
    "- [atomman.lammps](../reference/atomman.lammps.ipynb)\n",
    "\n",
    "- [atomman.tools](../reference/atomman.tools.ipynb)\n",
    "\n",
    "- [atomman.unitconvert](../reference/atomman.unitconvert.ipynb)"
   ]
  }
 ],
 "metadata": {
  "kernelspec": {
   "display_name": "Python 2",
   "language": "python",
   "name": "python2"
  },
  "language_info": {
   "codemirror_mode": {
    "name": "ipython",
    "version": 2
   },
   "file_extension": ".py",
   "mimetype": "text/x-python",
   "name": "python",
   "nbconvert_exporter": "python",
   "pygments_lexer": "ipython2",
   "version": "2.7.11"
  }
 },
 "nbformat": 4,
 "nbformat_minor": 0
}
