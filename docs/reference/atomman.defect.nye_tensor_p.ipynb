{
 "cells": [
  {
   "cell_type": "markdown",
   "metadata": {
    "deletable": true,
    "editable": true
   },
   "source": [
    "# atomman.defect.nye_tensor_p(system, neighbor_list=None, neighbor_list_cutoff=None)\n",
    "\n",
    "- - -"
   ]
  },
  {
   "cell_type": "markdown",
   "metadata": {
    "deletable": true,
    "editable": true
   },
   "source": [
    "__Lucas M. Hale__, [lucas.hale@nist.gov](mailto:lucas.hale@nist.gov?Subject=ipr-demo), _Materials Science and Engineering Division, NIST_.\n",
    "\n",
    "__Chandler A. Becker__, [chandler.becker@nist.gov](mailto:chandler.becker@nist.gov?Subject=ipr-demo), _Office of Data and Informatics, NIST_.\n",
    "\n",
    "__Zachary T. Trautt__, [zachary.trautt@nist.gov](mailto:zachary.trautt@nist.gov?Subject=ipr-demo), _Materials Measurement Science Division, NIST_.\n",
    "\n",
    "Version: 2017-04-21\n",
    "\n",
    "[Disclaimers](http://www.nist.gov/public_affairs/disclaimer.cfm) \n",
    " \n",
    "- - -"
   ]
  },
  {
   "cell_type": "markdown",
   "metadata": {
    "deletable": true,
    "editable": true
   },
   "source": [
    "## Introduction\n",
    "\n",
    "The nye_tensor_p function is a utility function that can be used to generate the p list of ideal neighbor vectors as used by the [nye_tensor](atomman.defect.nye_tensor.ipynb) calculation. \n",
    "\n",
    "Arguments:\n",
    "\n",
    "- __system__ -- a [System](atomman.System.ipynb) corresponding to the zero-strain reference state to use for every atom. The atom ids of this system must properly correspond to the atom ids of the defect system(s) that will be analysed by the [nye_tensor](atomman.defect.nye_tensor.ipynb) calculation.\n",
    "\n",
    "Keyword Arguments:\n",
    "    \n",
    "- __neighbor_list__ -- pre-computed neighbor list for system. \n",
    "\n",
    "- __neighbor_list_cutoff__ -- cutoff for computing a neighbor list for system.\n",
    "\n",
    "Returns a numpy array containing a list of idealized neighbor vectors for each atom in the system.\n",
    "\n",
    "__Note:__ Calculating the Nye tensor p vectors requires a neighbor list for system. Pre-calculated lists computed by [NeighborList](atomman.NeighborList.ipynb) or [nlist](atomman.nlist.ipynb) can be directly passed in using the neighbor_list argument. Supplying neighbor_list_cutoff calculates a neighbor list only for this function. If neither is given, then the function will search for a list stored in the [System.prop](atomman.System.prop.ipynb) dictionary (as done by the [System.neighbors](atomman.System.neighbors.ipynb) and [System.nlist](atomman.System.nlist.ipynb) methods). The suggested neighbor list cutoff for fcc and bcc structures is halfway between the nearest neighbor distance, $r_1$, and next-nearest neighbor distance, $r_2$.\n",
    "\n",
    "The underlying code can be found in [atomman/defect/nye_tensor_p.py](../../atomman/defect/nye_tensor_p.py)."
   ]
  },
  {
   "cell_type": "markdown",
   "metadata": {
    "deletable": true,
    "editable": true
   },
   "source": [
    "## Demonstration"
   ]
  },
  {
   "cell_type": "markdown",
   "metadata": {
    "deletable": true,
    "editable": true
   },
   "source": [
    "Library imports"
   ]
  },
  {
   "cell_type": "code",
   "execution_count": 1,
   "metadata": {
    "collapsed": false,
    "deletable": true,
    "editable": true
   },
   "outputs": [],
   "source": [
    "#Standard libraries\n",
    "from __future__ import print_function\n",
    "\n",
    "#http://www.numpy.org/\n",
    "import numpy as np\n",
    "\n",
    "#https://github.com/usnistgov/atomman\n",
    "import atomman as am"
   ]
  },
  {
   "cell_type": "markdown",
   "metadata": {
    "deletable": true,
    "editable": true
   },
   "source": [
    "Build a 3x3x3 orthorhombic hcp supercell"
   ]
  },
  {
   "cell_type": "code",
   "execution_count": 2,
   "metadata": {
    "collapsed": false,
    "deletable": true,
    "editable": true
   },
   "outputs": [
    {
     "name": "stdout",
     "output_type": "stream",
     "text": [
      "avect =  [ 7.530,  0.000,  0.000]\n",
      "bvect =  [ 0.000, 13.042,  0.000]\n",
      "cvect =  [ 0.000,  0.000, 12.296]\n",
      "origin = [ 0.000,  0.000,  0.000]\n",
      "natoms = 108\n",
      "natypes = 1\n",
      "     id |   atype |  pos[0] |  pos[1] |  pos[2]\n",
      "      0 |       1 |   0.000 |   0.000 |   0.000\n",
      "      1 |       1 |   1.255 |   2.174 |   0.000\n",
      "      2 |       1 |   1.255 |   3.623 |   2.049\n",
      "      3 |       1 |   0.000 |   1.449 |   2.049\n",
      "      4 |       1 |   2.510 |   0.000 |   0.000\n",
      "      5 |       1 |   3.765 |   2.174 |   0.000\n",
      "      6 |       1 |   3.765 |   3.623 |   2.049\n",
      "      7 |       1 |   2.510 |   1.449 |   2.049\n",
      "      8 |       1 |   5.020 |   0.000 |   0.000\n",
      "      9 |       1 |   6.275 |   2.174 |   0.000\n",
      "     10 |       1 |   6.275 |   3.623 |   2.049\n",
      "     11 |       1 |   5.020 |   1.449 |   2.049\n",
      "     12 |       1 |   0.000 |   4.347 |   0.000\n",
      "     13 |       1 |   1.255 |   6.521 |   0.000\n",
      "     14 |       1 |   1.255 |   7.970 |   2.049\n",
      "     15 |       1 |   0.000 |   5.797 |   2.049\n",
      "     16 |       1 |   2.510 |   4.347 |   0.000\n",
      "     17 |       1 |   3.765 |   6.521 |   0.000\n",
      "     18 |       1 |   3.765 |   7.970 |   2.049\n",
      "     19 |       1 |   2.510 |   5.797 |   2.049\n",
      "     20 |       1 |   5.020 |   4.347 |   0.000\n",
      "     21 |       1 |   6.275 |   6.521 |   0.000\n",
      "     22 |       1 |   6.275 |   7.970 |   2.049\n",
      "     23 |       1 |   5.020 |   5.797 |   2.049\n",
      "     24 |       1 |   0.000 |   8.695 |   0.000\n",
      "     25 |       1 |   1.255 |  10.869 |   0.000\n",
      "     26 |       1 |   1.255 |  12.318 |   2.049\n",
      "     27 |       1 |   0.000 |  10.144 |   2.049\n",
      "     28 |       1 |   2.510 |   8.695 |   0.000\n",
      "     29 |       1 |   3.765 |  10.869 |   0.000\n",
      "     30 |       1 |   3.765 |  12.318 |   2.049\n",
      "     31 |       1 |   2.510 |  10.144 |   2.049\n",
      "     32 |       1 |   5.020 |   8.695 |   0.000\n",
      "     33 |       1 |   6.275 |  10.869 |   0.000\n",
      "     34 |       1 |   6.275 |  12.318 |   2.049\n",
      "     35 |       1 |   5.020 |  10.144 |   2.049\n",
      "     36 |       1 |   0.000 |   0.000 |   4.099\n",
      "     37 |       1 |   1.255 |   2.174 |   4.099\n",
      "     38 |       1 |   1.255 |   3.623 |   6.148\n",
      "     39 |       1 |   0.000 |   1.449 |   6.148\n",
      "     40 |       1 |   2.510 |   0.000 |   4.099\n",
      "     41 |       1 |   3.765 |   2.174 |   4.099\n",
      "     42 |       1 |   3.765 |   3.623 |   6.148\n",
      "     43 |       1 |   2.510 |   1.449 |   6.148\n",
      "     44 |       1 |   5.020 |   0.000 |   4.099\n",
      "     45 |       1 |   6.275 |   2.174 |   4.099\n",
      "     46 |       1 |   6.275 |   3.623 |   6.148\n",
      "     47 |       1 |   5.020 |   1.449 |   6.148\n",
      "     48 |       1 |   0.000 |   4.347 |   4.099\n",
      "     49 |       1 |   1.255 |   6.521 |   4.099\n",
      "     50 |       1 |   1.255 |   7.970 |   6.148\n",
      "     51 |       1 |   0.000 |   5.797 |   6.148\n",
      "     52 |       1 |   2.510 |   4.347 |   4.099\n",
      "     53 |       1 |   3.765 |   6.521 |   4.099\n",
      "     54 |       1 |   3.765 |   7.970 |   6.148\n",
      "     55 |       1 |   2.510 |   5.797 |   6.148\n",
      "     56 |       1 |   5.020 |   4.347 |   4.099\n",
      "     57 |       1 |   6.275 |   6.521 |   4.099\n",
      "     58 |       1 |   6.275 |   7.970 |   6.148\n",
      "     59 |       1 |   5.020 |   5.797 |   6.148\n",
      "     60 |       1 |   0.000 |   8.695 |   4.099\n",
      "     61 |       1 |   1.255 |  10.869 |   4.099\n",
      "     62 |       1 |   1.255 |  12.318 |   6.148\n",
      "     63 |       1 |   0.000 |  10.144 |   6.148\n",
      "     64 |       1 |   2.510 |   8.695 |   4.099\n",
      "     65 |       1 |   3.765 |  10.869 |   4.099\n",
      "     66 |       1 |   3.765 |  12.318 |   6.148\n",
      "     67 |       1 |   2.510 |  10.144 |   6.148\n",
      "     68 |       1 |   5.020 |   8.695 |   4.099\n",
      "     69 |       1 |   6.275 |  10.869 |   4.099\n",
      "     70 |       1 |   6.275 |  12.318 |   6.148\n",
      "     71 |       1 |   5.020 |  10.144 |   6.148\n",
      "     72 |       1 |   0.000 |   0.000 |   8.198\n",
      "     73 |       1 |   1.255 |   2.174 |   8.198\n",
      "     74 |       1 |   1.255 |   3.623 |  10.247\n",
      "     75 |       1 |   0.000 |   1.449 |  10.247\n",
      "     76 |       1 |   2.510 |   0.000 |   8.198\n",
      "     77 |       1 |   3.765 |   2.174 |   8.198\n",
      "     78 |       1 |   3.765 |   3.623 |  10.247\n",
      "     79 |       1 |   2.510 |   1.449 |  10.247\n",
      "     80 |       1 |   5.020 |   0.000 |   8.198\n",
      "     81 |       1 |   6.275 |   2.174 |   8.198\n",
      "     82 |       1 |   6.275 |   3.623 |  10.247\n",
      "     83 |       1 |   5.020 |   1.449 |  10.247\n",
      "     84 |       1 |   0.000 |   4.347 |   8.198\n",
      "     85 |       1 |   1.255 |   6.521 |   8.198\n",
      "     86 |       1 |   1.255 |   7.970 |  10.247\n",
      "     87 |       1 |   0.000 |   5.797 |  10.247\n",
      "     88 |       1 |   2.510 |   4.347 |   8.198\n",
      "     89 |       1 |   3.765 |   6.521 |   8.198\n",
      "     90 |       1 |   3.765 |   7.970 |  10.247\n",
      "     91 |       1 |   2.510 |   5.797 |  10.247\n",
      "     92 |       1 |   5.020 |   4.347 |   8.198\n",
      "     93 |       1 |   6.275 |   6.521 |   8.198\n",
      "     94 |       1 |   6.275 |   7.970 |  10.247\n",
      "     95 |       1 |   5.020 |   5.797 |  10.247\n",
      "     96 |       1 |   0.000 |   8.695 |   8.198\n",
      "     97 |       1 |   1.255 |  10.869 |   8.198\n",
      "     98 |       1 |   1.255 |  12.318 |  10.247\n",
      "     99 |       1 |   0.000 |  10.144 |  10.247\n",
      "    100 |       1 |   2.510 |   8.695 |   8.198\n",
      "    101 |       1 |   3.765 |  10.869 |   8.198\n",
      "    102 |       1 |   3.765 |  12.318 |  10.247\n",
      "    103 |       1 |   2.510 |  10.144 |  10.247\n",
      "    104 |       1 |   5.020 |   8.695 |   8.198\n",
      "    105 |       1 |   6.275 |  10.869 |   8.198\n",
      "    106 |       1 |   6.275 |  12.318 |  10.247\n",
      "    107 |       1 |   5.020 |  10.144 |  10.247\n"
     ]
    }
   ],
   "source": [
    "atype = 1\n",
    "pos = [[0.0,  0.0,  0.0], \n",
    "       [0.5,  0.5,  0.0],\n",
    "       [0.5,  5./6, 0.5],\n",
    "       [0.0,  1./3,  0.5]]\n",
    "\n",
    "atoms = am.Atoms(natoms=4, prop = {'atype':atype, 'pos':pos})\n",
    "\n",
    "alat = 2.51\n",
    "box = am.Box(a=alat, b=alat * (3)**0.5, c=alat * (8./3)**0.5)\n",
    "\n",
    "system = am.System(atoms=atoms, box=box, scale=True)\n",
    "system.supersize(3,3,3)\n",
    "print(system)"
   ]
  },
  {
   "cell_type": "markdown",
   "metadata": {
    "deletable": true,
    "editable": true
   },
   "source": [
    "Calculate neighbor list"
   ]
  },
  {
   "cell_type": "code",
   "execution_count": 3,
   "metadata": {
    "collapsed": false,
    "deletable": true,
    "editable": true
   },
   "outputs": [
    {
     "name": "stdout",
     "output_type": "stream",
     "text": [
      "Average number of neighbors = 12.0\n"
     ]
    }
   ],
   "source": [
    "r = (1 + (3)**0.5) / 2\n",
    "system.neighbors(alat * r)\n",
    "print('Average number of neighbors =', system.prop['neighbors'].coord.mean())"
   ]
  },
  {
   "cell_type": "markdown",
   "metadata": {
    "deletable": true,
    "editable": true
   },
   "source": [
    "Construct the list of p neighbor vectors"
   ]
  },
  {
   "cell_type": "code",
   "execution_count": 4,
   "metadata": {
    "collapsed": false,
    "deletable": true,
    "editable": true
   },
   "outputs": [
    {
     "name": "stdout",
     "output_type": "stream",
     "text": [
      "The shape of p is  (108L, 12L, 3L)\n"
     ]
    }
   ],
   "source": [
    "p = am.defect.nye_tensor_p(system)\n",
    "print('The shape of p is ', p.shape)"
   ]
  },
  {
   "cell_type": "markdown",
   "metadata": {
    "deletable": true,
    "editable": true
   },
   "source": [
    "Show sample p vectors. There should be two unique local environments."
   ]
  },
  {
   "cell_type": "code",
   "execution_count": 5,
   "metadata": {
    "collapsed": true,
    "deletable": true,
    "editable": true
   },
   "outputs": [],
   "source": [
    "def sort_p(p):\n",
    "    \"\"\"Sort a list of p vectors for visual comparison\"\"\"\n",
    "    return p[np.lexsort((p[:,2], p[:,1], p[:,0]))]"
   ]
  },
  {
   "cell_type": "code",
   "execution_count": 6,
   "metadata": {
    "collapsed": false,
    "deletable": true,
    "editable": true
   },
   "outputs": [
    {
     "name": "stdout",
     "output_type": "stream",
     "text": [
      "[[-2.51        0.          0.        ]\n",
      " [-1.255      -2.17372376  0.        ]\n",
      " [-1.255      -0.72457459 -2.04940642]\n",
      " [-1.255      -0.72457459  2.04940642]\n",
      " [-1.255       2.17372376  0.        ]\n",
      " [ 0.          1.44914918 -2.04940642]\n",
      " [ 0.          1.44914918  2.04940642]\n",
      " [ 1.255      -2.17372376  0.        ]\n",
      " [ 1.255      -0.72457459 -2.04940642]\n",
      " [ 1.255      -0.72457459  2.04940642]\n",
      " [ 1.255       2.17372376  0.        ]\n",
      " [ 2.51        0.          0.        ]]\n"
     ]
    }
   ],
   "source": [
    "print(sort_p(p[0]))"
   ]
  },
  {
   "cell_type": "code",
   "execution_count": 7,
   "metadata": {
    "collapsed": false,
    "deletable": true,
    "editable": true
   },
   "outputs": [
    {
     "name": "stdout",
     "output_type": "stream",
     "text": [
      "[[-2.51        0.          0.        ]\n",
      " [-1.255      -2.17372376  0.        ]\n",
      " [-1.255      -0.72457459 -2.04940642]\n",
      " [-1.255      -0.72457459  2.04940642]\n",
      " [-1.255       2.17372376  0.        ]\n",
      " [ 0.          1.44914918 -2.04940642]\n",
      " [ 0.          1.44914918  2.04940642]\n",
      " [ 1.255      -2.17372376  0.        ]\n",
      " [ 1.255      -0.72457459 -2.04940642]\n",
      " [ 1.255      -0.72457459  2.04940642]\n",
      " [ 1.255       2.17372376  0.        ]\n",
      " [ 2.51        0.          0.        ]]\n"
     ]
    }
   ],
   "source": [
    "print(sort_p(p[1]))"
   ]
  },
  {
   "cell_type": "code",
   "execution_count": 8,
   "metadata": {
    "collapsed": false,
    "deletable": true,
    "editable": true
   },
   "outputs": [
    {
     "name": "stdout",
     "output_type": "stream",
     "text": [
      "[[-2.51        0.          0.        ]\n",
      " [-1.255      -2.17372376  0.        ]\n",
      " [-1.255       0.72457459 -2.04940642]\n",
      " [-1.255       0.72457459  2.04940642]\n",
      " [-1.255       2.17372376  0.        ]\n",
      " [ 0.         -1.44914918 -2.04940642]\n",
      " [ 0.         -1.44914918  2.04940642]\n",
      " [ 1.255      -2.17372376  0.        ]\n",
      " [ 1.255       0.72457459 -2.04940642]\n",
      " [ 1.255       0.72457459  2.04940642]\n",
      " [ 1.255       2.17372376  0.        ]\n",
      " [ 2.51        0.          0.        ]]\n"
     ]
    }
   ],
   "source": [
    "print(sort_p(p[2]))"
   ]
  },
  {
   "cell_type": "code",
   "execution_count": 9,
   "metadata": {
    "collapsed": false,
    "deletable": true,
    "editable": true
   },
   "outputs": [
    {
     "name": "stdout",
     "output_type": "stream",
     "text": [
      "[[-2.51        0.          0.        ]\n",
      " [-1.255      -2.17372376  0.        ]\n",
      " [-1.255       0.72457459 -2.04940642]\n",
      " [-1.255       0.72457459  2.04940642]\n",
      " [-1.255       2.17372376  0.        ]\n",
      " [ 0.         -1.44914918 -2.04940642]\n",
      " [ 0.         -1.44914918  2.04940642]\n",
      " [ 1.255      -2.17372376  0.        ]\n",
      " [ 1.255       0.72457459 -2.04940642]\n",
      " [ 1.255       0.72457459  2.04940642]\n",
      " [ 1.255       2.17372376  0.        ]\n",
      " [ 2.51        0.          0.        ]]\n"
     ]
    }
   ],
   "source": [
    "print(sort_p(p[3]))"
   ]
  },
  {
   "cell_type": "markdown",
   "metadata": {
    "deletable": true,
    "editable": true
   },
   "source": [
    "__Docs Navigation:__\n",
    "\n",
    "Tutorial:\n",
    "\n",
    "1. [Basics](../tutorial/1 Basics.ipynb)\n",
    "\n",
    "2. [LAMMPS Functionality](../tutorial/2 LAMMPS Functionality.ipynb)\n",
    "\n",
    "3. [Defect Generation and Evaluation](../tutorial/3 Defect Generation and Evaluation.ipynb)\n",
    "\n",
    "\n",
    "Reference:\n",
    "\n",
    "- [atomman](../reference/atomman.ipynb)\n",
    "\n",
    "- [atomman.convert](../reference/atomman.convert.ipynb)\n",
    "\n",
    "- [atomman.defect](../reference/atomman.defect.ipynb)\n",
    "\n",
    "- [atomman.lammps](../reference/atomman.lammps.ipynb)\n",
    "\n",
    "- [atomman.tools](../reference/atomman.tools.ipynb)\n",
    "\n",
    "- [atomman.unitconvert](../reference/atomman.unitconvert.ipynb)"
   ]
  }
 ],
 "metadata": {
  "anaconda-cloud": {},
  "kernelspec": {
   "display_name": "Python 2",
   "language": "python",
   "name": "python2"
  },
  "language_info": {
   "codemirror_mode": {
    "name": "ipython",
    "version": 2
   },
   "file_extension": ".py",
   "mimetype": "text/x-python",
   "name": "python",
   "nbconvert_exporter": "python",
   "pygments_lexer": "ipython2",
   "version": "2.7.13"
  }
 },
 "nbformat": 4,
 "nbformat_minor": 0
}
