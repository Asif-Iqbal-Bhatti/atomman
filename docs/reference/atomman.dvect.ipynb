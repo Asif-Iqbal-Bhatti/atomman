{
 "cells": [
  {
   "cell_type": "markdown",
   "metadata": {
    "deletable": true,
    "editable": true
   },
   "source": [
    "# atomman.dvect(pos_0, pos_1, box, pbc)\n",
    "\n",
    "- - -"
   ]
  },
  {
   "cell_type": "markdown",
   "metadata": {
    "deletable": true,
    "editable": true
   },
   "source": [
    "**Lucas M. Hale**, [lucas.hale@nist.gov](mailto:lucas.hale@nist.gov?Subject=ipr-demo), *Materials Science and Engineering Division, NIST*.\n",
    "\n",
    "**Chandler A. Becker**, [chandler.becker@nist.gov](mailto:chandler.becker@nist.gov?Subject=ipr-demo), *Office of Data and Informatics, NIST*.\n",
    "\n",
    "**Zachary T. Trautt**, [zachary.trautt@nist.gov](mailto:zachary.trautt@nist.gov?Subject=ipr-demo), *Materials Measurement Science Division, NIST*.\n",
    "\n",
    "Version: 2017-04-19\n",
    "\n",
    "[Disclaimers](http://www.nist.gov/public_affairs/disclaimer.cfm) \n",
    " \n",
    "- - -"
   ]
  },
  {
   "cell_type": "markdown",
   "metadata": {
    "deletable": true,
    "editable": true
   },
   "source": [
    "## Introduction\n",
    "\n",
    "The dvect function returns the shortest vector distance(s) between positions by accounting for box dimensions and periodic boundary conditions. This function uses numpy broadcasting and vectorization allowing for multiple distance vectors to be calculated at the same time. dvect either returns a single vector or a numpy array of vectors.\n",
    "\n",
    "Arguments:\n",
    "\n",
    "- __pos_0__ -- starting position(s) to use. This may be a single vector position or a list (array) of vector positions.\n",
    "\n",
    "- __pos_1__ -- final position(s) to use. This may be a single vector position or a list (array) of vector positions.\n",
    "\n",
    "- __box__ -- a [Box](atomman.Box.ipynb) instance giving the system boundary positions.\n",
    "\n",
    "- __pbc__ -- a tuple of three Boolean values indicating which of the box's directions are periodic.\n",
    "\n",
    "The underlying code can be found in [atomman/core/dvect.py](../../atomman/core/dvect.py)."
   ]
  },
  {
   "cell_type": "markdown",
   "metadata": {
    "deletable": true,
    "editable": true
   },
   "source": [
    "## Demonstration"
   ]
  },
  {
   "cell_type": "code",
   "execution_count": 1,
   "metadata": {
    "collapsed": false,
    "deletable": true,
    "editable": true
   },
   "outputs": [],
   "source": [
    "#Standard libraries\n",
    "from __future__ import print_function\n",
    "\n",
    "#http://www.numpy.org/\n",
    "import numpy as np    \n",
    "\n",
    "#https://github.com/usnistgov/atomman\n",
    "import atomman as am"
   ]
  },
  {
   "cell_type": "markdown",
   "metadata": {
    "deletable": true,
    "editable": true
   },
   "source": [
    "### Distance between two points"
   ]
  },
  {
   "cell_type": "code",
   "execution_count": 2,
   "metadata": {
    "collapsed": false,
    "deletable": true,
    "editable": true
   },
   "outputs": [],
   "source": [
    "pos_0 = np.array([1,1,1])\n",
    "pos_1 = np.array([9,9,9])\n",
    "box = am.Box(a=10, b=10, c=10)\n",
    "pbc = (True, True, True)"
   ]
  },
  {
   "cell_type": "markdown",
   "metadata": {
    "deletable": true,
    "editable": true
   },
   "source": [
    "Simply subtracting the two vectors doesn't account for the periodic bounds"
   ]
  },
  {
   "cell_type": "code",
   "execution_count": 3,
   "metadata": {
    "collapsed": false,
    "deletable": true,
    "editable": true
   },
   "outputs": [
    {
     "name": "stdout",
     "output_type": "stream",
     "text": [
      "[8 8 8]\n"
     ]
    }
   ],
   "source": [
    "print(pos_1 - pos_0)"
   ]
  },
  {
   "cell_type": "markdown",
   "metadata": {
    "deletable": true,
    "editable": true
   },
   "source": [
    "But dvect does"
   ]
  },
  {
   "cell_type": "code",
   "execution_count": 4,
   "metadata": {
    "collapsed": false,
    "deletable": true,
    "editable": true
   },
   "outputs": [
    {
     "name": "stdout",
     "output_type": "stream",
     "text": [
      "[-2. -2. -2.]\n"
     ]
    }
   ],
   "source": [
    "print(am.dvect(pos_0, pos_1, box, pbc))"
   ]
  },
  {
   "cell_type": "markdown",
   "metadata": {
    "deletable": true,
    "editable": true
   },
   "source": [
    "Of course, if the bounds are not periodic then it simply is the difference of the two vectors "
   ]
  },
  {
   "cell_type": "code",
   "execution_count": 5,
   "metadata": {
    "collapsed": false,
    "deletable": true,
    "editable": true
   },
   "outputs": [
    {
     "name": "stdout",
     "output_type": "stream",
     "text": [
      "[ 8.  8.  8.]\n"
     ]
    }
   ],
   "source": [
    "print(am.dvect(pos_0, pos_1, box, (False, False, False)))"
   ]
  },
  {
   "cell_type": "markdown",
   "metadata": {
    "deletable": true,
    "editable": true
   },
   "source": [
    "### Relative positions"
   ]
  },
  {
   "cell_type": "code",
   "execution_count": 6,
   "metadata": {
    "collapsed": false,
    "deletable": true,
    "editable": true
   },
   "outputs": [
    {
     "name": "stdout",
     "output_type": "stream",
     "text": [
      "[[ 6.74289635  8.51545829  9.49176768]\n",
      " [ 2.2223636   0.56969068  4.49300638]\n",
      " [ 7.99791108  2.76281348  7.69981482]\n",
      " [ 3.18941811  7.64148173  1.27283823]\n",
      " [ 5.40533384  2.72986825  3.1451022 ]\n",
      " [ 6.70237844  2.65087057  4.53322593]\n",
      " [ 9.86562465  9.61033657  7.21701185]\n",
      " [ 4.41050683  7.3985022   6.40115687]\n",
      " [ 2.66918327  2.20426239  9.188231  ]\n",
      " [ 8.15389054  6.44859798  9.96950093]]\n"
     ]
    }
   ],
   "source": [
    "pos_1 = 10*np.random.random((10,3))\n",
    "print(pos_1)"
   ]
  },
  {
   "cell_type": "markdown",
   "metadata": {
    "deletable": true,
    "editable": true
   },
   "source": [
    "Use dvect to find all positions pos_1 relative to pos_1[0]"
   ]
  },
  {
   "cell_type": "code",
   "execution_count": 7,
   "metadata": {
    "collapsed": false,
    "deletable": true,
    "editable": true
   },
   "outputs": [
    {
     "name": "stdout",
     "output_type": "stream",
     "text": [
      "[[ 0.          0.          0.        ]\n",
      " [-4.52053275  2.0542324  -4.99876129]\n",
      " [ 1.25501472  4.24735519 -1.79195286]\n",
      " [-3.55347824 -0.87397656  1.78107055]\n",
      " [-1.33756252  4.21440997  3.65333453]\n",
      " [-0.04051791  4.13541228 -4.95854175]\n",
      " [ 3.1227283   1.09487828 -2.27475582]\n",
      " [-2.33238952 -1.11695609 -3.0906108 ]\n",
      " [-4.07371308  3.68880411 -0.30353668]\n",
      " [ 1.41099419 -2.06686031  0.47773325]]\n"
     ]
    }
   ],
   "source": [
    "print(am.dvect(pos_1[0], pos_1, box, pbc))"
   ]
  },
  {
   "cell_type": "markdown",
   "metadata": {
    "deletable": true,
    "editable": true
   },
   "source": [
    "### Distances between two lists of points\n",
    "\n",
    "This is useful for computing displacement vectors"
   ]
  },
  {
   "cell_type": "code",
   "execution_count": 8,
   "metadata": {
    "collapsed": false,
    "deletable": true,
    "editable": true
   },
   "outputs": [
    {
     "name": "stdout",
     "output_type": "stream",
     "text": [
      "[[ 3.27528575  4.65247475  4.60557963]\n",
      " [ 2.30675919  9.29801975  6.56459989]\n",
      " [ 5.27763463  7.63431775  3.35217948]\n",
      " [ 3.25257647  4.82564717  8.31329855]\n",
      " [ 5.63162271  7.17182469  1.26095958]\n",
      " [ 0.35109474  9.7444193   3.78489797]\n",
      " [ 4.79232737  1.85732682  2.70742622]\n",
      " [ 2.79380449  7.6031675   8.36253375]\n",
      " [ 3.71117711  9.34278478  8.45041602]\n",
      " [ 4.915183    3.57021112  2.74275451]]\n"
     ]
    }
   ],
   "source": [
    "pos_0 = 10*np.random.random((10,3))\n",
    "print(pos_0)"
   ]
  },
  {
   "cell_type": "code",
   "execution_count": 9,
   "metadata": {
    "collapsed": false,
    "deletable": true,
    "editable": true
   },
   "outputs": [
    {
     "name": "stdout",
     "output_type": "stream",
     "text": [
      "[[ 3.46761061  3.86298354  4.88618805]\n",
      " [-0.08439559  1.27167094 -2.07159351]\n",
      " [ 2.72027644 -4.87150427  4.34763534]\n",
      " [-0.06315836  2.81583456  2.95953968]\n",
      " [-0.22628888 -4.44195644  1.88414262]\n",
      " [-3.6487163   2.90645127  0.74832795]\n",
      " [-4.92670272 -2.24699025  4.50958563]\n",
      " [ 1.61670234 -0.2046653  -1.96137687]\n",
      " [-1.04199383  2.86147762  0.73781498]\n",
      " [ 3.23870754  2.87838686 -2.77325358]]\n"
     ]
    }
   ],
   "source": [
    "print(am.dvect(pos_0, pos_1, box, pbc))"
   ]
  },
  {
   "cell_type": "markdown",
   "metadata": {
    "deletable": true,
    "editable": true
   },
   "source": [
    "- - -\n",
    "__Docs Navigation:__\n",
    "\n",
    "Tutorial:\n",
    "\n",
    "1. [Basics](../tutorial/1 Basics.ipynb)\n",
    "\n",
    "2. [LAMMPS Functionality](../tutorial/2 LAMMPS Functionality.ipynb)\n",
    "\n",
    "3. [Defect Generation and Evaluation](../tutorial/3 Defect Generation and Evaluation.ipynb)\n",
    "\n",
    "\n",
    "Reference:\n",
    "\n",
    "- [atomman](../reference/atomman.ipynb)\n",
    "\n",
    "- [atomman.convert](../reference/atomman.convert.ipynb)\n",
    "\n",
    "- [atomman.defect](../reference/atomman.defect.ipynb)\n",
    "\n",
    "- [atomman.lammps](../reference/atomman.lammps.ipynb)\n",
    "\n",
    "- [atomman.tools](../reference/atomman.tools.ipynb)\n",
    "\n",
    "- [atomman.unitconvert](../reference/atomman.unitconvert.ipynb)"
   ]
  }
 ],
 "metadata": {
  "kernelspec": {
   "display_name": "Python 2",
   "language": "python",
   "name": "python2"
  },
  "language_info": {
   "codemirror_mode": {
    "name": "ipython",
    "version": 2
   },
   "file_extension": ".py",
   "mimetype": "text/x-python",
   "name": "python",
   "nbconvert_exporter": "python",
   "pygments_lexer": "ipython2",
   "version": "2.7.13"
  }
 },
 "nbformat": 4,
 "nbformat_minor": 0
}
