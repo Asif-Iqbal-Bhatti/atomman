{
 "cells": [
  {
   "cell_type": "markdown",
   "metadata": {},
   "source": [
    "# atomman.dvect(pos_0, pos_1, box, pbc)\n",
    "\n",
    "- - -"
   ]
  },
  {
   "cell_type": "markdown",
   "metadata": {},
   "source": [
    "**Lucas M. Hale**, [lucas.hale@nist.gov](mailto:lucas.hale@nist.gov?Subject=ipr-demo), *Materials Science and Engineering Division, NIST*.\n",
    "\n",
    "**Chandler A. Becker**, [chandler.becker@nist.gov](mailto:chandler.becker@nist.gov?Subject=ipr-demo), *Office of Data and Informatics, NIST*.\n",
    "\n",
    "**Zachary T. Trautt**, [zachary.trautt@nist.gov](mailto:zachary.trautt@nist.gov?Subject=ipr-demo), *Materials Measurement Science Division, NIST*.\n",
    "\n",
    "Version: 2016-08-26\n",
    "\n",
    "[Disclaimers](http://www.nist.gov/public_affairs/disclaimer.cfm) \n",
    " \n",
    "- - -"
   ]
  },
  {
   "cell_type": "markdown",
   "metadata": {},
   "source": [
    "## Introduction\n",
    "\n",
    "The dvect function returns the shortest vector distance(s) between positions by accounting for box dimensions and periodic boundary conditions. This function uses numpy broadcasting and vectorization allowing for multiple distance vectors to be calculated at the same time. dvect either returns a single vector or a numpy array of vectors.\n",
    "\n",
    "Arguments:\n",
    "\n",
    "- __pos_0__ -- starting position(s) to use. This may be a single vector position or a list (array) of vector positions.\n",
    "\n",
    "- __pos_1__ -- final position(s) to use. This may be a single vector position or a list (array) of vector positions.\n",
    "\n",
    "- __box__ -- a [Box](atomman.Box.ipynb) instance giving the system boundary positions.\n",
    "\n",
    "- __pbc__ -- a tuple of three Boolean values indicating which of the box's directions are periodic.\n",
    "\n",
    "The underlying code can be found in [atomman/core/dvect.py](../../atomman/core/dvect.py)."
   ]
  },
  {
   "cell_type": "markdown",
   "metadata": {},
   "source": [
    "## Demonstration"
   ]
  },
  {
   "cell_type": "code",
   "execution_count": 1,
   "metadata": {
    "collapsed": false
   },
   "outputs": [],
   "source": [
    "import atomman as am\n",
    "import numpy as np"
   ]
  },
  {
   "cell_type": "markdown",
   "metadata": {},
   "source": [
    "### Distance between two points"
   ]
  },
  {
   "cell_type": "code",
   "execution_count": 2,
   "metadata": {
    "collapsed": false
   },
   "outputs": [],
   "source": [
    "pos_0 = np.array([1,1,1])\n",
    "pos_1 = np.array([9,9,9])\n",
    "box = am.Box(a=10, b=10, c=10)\n",
    "pbc = (True, True, True)"
   ]
  },
  {
   "cell_type": "markdown",
   "metadata": {},
   "source": [
    "Simply subtracting the two vectors doesn't account for the periodic bounds"
   ]
  },
  {
   "cell_type": "code",
   "execution_count": 3,
   "metadata": {
    "collapsed": false
   },
   "outputs": [
    {
     "name": "stdout",
     "output_type": "stream",
     "text": [
      "[8 8 8]\n"
     ]
    }
   ],
   "source": [
    "print pos_1 - pos_0"
   ]
  },
  {
   "cell_type": "markdown",
   "metadata": {},
   "source": [
    "But dvect does"
   ]
  },
  {
   "cell_type": "code",
   "execution_count": 4,
   "metadata": {
    "collapsed": false
   },
   "outputs": [
    {
     "name": "stdout",
     "output_type": "stream",
     "text": [
      "[-2. -2. -2.]\n"
     ]
    }
   ],
   "source": [
    "print am.dvect(pos_0, pos_1, box, pbc)"
   ]
  },
  {
   "cell_type": "markdown",
   "metadata": {},
   "source": [
    "Of course, if the bounds are not periodic then it simply is the difference of the two vectors "
   ]
  },
  {
   "cell_type": "code",
   "execution_count": 5,
   "metadata": {
    "collapsed": false
   },
   "outputs": [
    {
     "name": "stdout",
     "output_type": "stream",
     "text": [
      "[ 8.  8.  8.]\n"
     ]
    }
   ],
   "source": [
    "print am.dvect(pos_0, pos_1, box, (False, False, False))"
   ]
  },
  {
   "cell_type": "markdown",
   "metadata": {},
   "source": [
    "### Relative positions"
   ]
  },
  {
   "cell_type": "code",
   "execution_count": 6,
   "metadata": {
    "collapsed": false
   },
   "outputs": [
    {
     "name": "stdout",
     "output_type": "stream",
     "text": [
      "[[ 6.43391691  5.19914031  1.26288782]\n",
      " [ 9.23450347  0.88077101  1.87019467]\n",
      " [ 9.28534339  3.14277394  2.31080937]\n",
      " [ 6.35223715  1.81499485  3.28873446]\n",
      " [ 2.61578969  1.94509176  6.83094636]\n",
      " [ 5.55172583  7.98447451  1.28788516]\n",
      " [ 4.08133228  3.5947321   1.54188025]\n",
      " [ 7.18108716  9.45247425  2.4011337 ]\n",
      " [ 7.22204205  9.70418085  4.06733716]\n",
      " [ 1.54625328  6.04132401  1.19444604]]\n"
     ]
    }
   ],
   "source": [
    "pos_1 = 10*np.random.random((10,3))\n",
    "print pos_1"
   ]
  },
  {
   "cell_type": "markdown",
   "metadata": {},
   "source": [
    "Use dvect to find all positions pos_1 relative to pos_1[0]"
   ]
  },
  {
   "cell_type": "code",
   "execution_count": 7,
   "metadata": {
    "collapsed": false
   },
   "outputs": [
    {
     "name": "stdout",
     "output_type": "stream",
     "text": [
      "[[ 0.          0.          0.        ]\n",
      " [ 2.80058656 -4.3183693   0.60730685]\n",
      " [ 2.85142648 -2.05636637  1.04792156]\n",
      " [-0.08167975 -3.38414546  2.02584664]\n",
      " [-3.81812722 -3.25404855 -4.43194146]\n",
      " [-0.88219108  2.7853342   0.02499734]\n",
      " [-2.35258463 -1.60440821  0.27899243]\n",
      " [ 0.74717025  4.25333395  1.13824588]\n",
      " [ 0.78812514  4.50504054  2.80444934]\n",
      " [-4.88766362  0.8421837  -0.06844178]]\n"
     ]
    }
   ],
   "source": [
    "print am.dvect(pos_1[0], pos_1, box, pbc)"
   ]
  },
  {
   "cell_type": "markdown",
   "metadata": {},
   "source": [
    "### Distances between two lists of points\n",
    "\n",
    "This is useful for computing displacement vectors"
   ]
  },
  {
   "cell_type": "code",
   "execution_count": 8,
   "metadata": {
    "collapsed": false
   },
   "outputs": [
    {
     "name": "stdout",
     "output_type": "stream",
     "text": [
      "[[ 9.38086132  8.75627385  0.30529395]\n",
      " [ 3.17430592  0.5889418   4.44971748]\n",
      " [ 8.11859914  8.56597137  7.98231702]\n",
      " [ 5.62661644  6.22455755  8.05793501]\n",
      " [ 0.06253572  8.01687383  1.24057213]\n",
      " [ 3.53775254  6.48147934  4.46381183]\n",
      " [ 5.40361697  5.91360859  7.14833864]\n",
      " [ 3.51314568  2.79106109  7.31992092]\n",
      " [ 6.77668092  7.03491005  3.63808691]\n",
      " [ 2.47310361  4.1750235   0.10694089]]\n"
     ]
    }
   ],
   "source": [
    "pos_0 = 10*np.random.random((10,3))\n",
    "print pos_0"
   ]
  },
  {
   "cell_type": "code",
   "execution_count": 9,
   "metadata": {
    "collapsed": false
   },
   "outputs": [
    {
     "name": "stdout",
     "output_type": "stream",
     "text": [
      "[[-2.94694441 -3.55713354  0.95759386]\n",
      " [-3.93980245  0.29182921 -2.57952281]\n",
      " [ 1.16674425  4.57680257  4.32849235]\n",
      " [ 0.72562072 -4.4095627  -4.76920056]\n",
      " [ 2.55325396  3.92821793 -4.40962577]\n",
      " [ 2.01397329  1.50299517 -3.17592667]\n",
      " [-1.3222847  -2.31887649  4.39354161]\n",
      " [ 3.66794148 -3.33858683 -4.91878722]\n",
      " [ 0.44536113  2.6692708   0.42925025]\n",
      " [-0.92685033  1.86630051  1.08750515]]\n"
     ]
    }
   ],
   "source": [
    "print am.dvect(pos_0, pos_1, box, pbc)"
   ]
  },
  {
   "cell_type": "markdown",
   "metadata": {},
   "source": [
    "- - -\n",
    "__Docs Navigation:__\n",
    "\n",
    "Tutorial:\n",
    "\n",
    "1. [Basics](../tutorial/1 Basics.ipynb)\n",
    "\n",
    "2. [LAMMPS Functionality](../tutorial/2 LAMMPS Functionality.ipynb)\n",
    "\n",
    "3. [Defect Generation and Evaluation](../tutorial/3 Defect Generation and Evaluation.ipynb)\n",
    "\n",
    "\n",
    "Reference:\n",
    "\n",
    "- [atomman](../reference/atomman.ipynb)\n",
    "\n",
    "- [atomman.convert](../reference/atomman.convert.ipynb)\n",
    "\n",
    "- [atomman.defect](../reference/atomman.defect.ipynb)\n",
    "\n",
    "- [atomman.lammps](../reference/atomman.lammps.ipynb)\n",
    "\n",
    "- [atomman.tools](../reference/atomman.tools.ipynb)\n",
    "\n",
    "- [atomman.unitconvert](../reference/atomman.unitconvert.ipynb)"
   ]
  }
 ],
 "metadata": {
  "kernelspec": {
   "display_name": "Python 2",
   "language": "python",
   "name": "python2"
  },
  "language_info": {
   "codemirror_mode": {
    "name": "ipython",
    "version": 2
   },
   "file_extension": ".py",
   "mimetype": "text/x-python",
   "name": "python",
   "nbconvert_exporter": "python",
   "pygments_lexer": "ipython2",
   "version": "2.7.11"
  }
 },
 "nbformat": 4,
 "nbformat_minor": 0
}
