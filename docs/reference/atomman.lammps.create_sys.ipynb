{
 "cells": [
  {
   "cell_type": "markdown",
   "metadata": {
    "deletable": true,
    "editable": true
   },
   "source": [
    "# atomman.lammps.create_sys(lammps_exe, system_info)\n",
    "\n",
    "- - -"
   ]
  },
  {
   "cell_type": "markdown",
   "metadata": {
    "deletable": true,
    "editable": true
   },
   "source": [
    "**Lucas M. Hale**, [lucas.hale@nist.gov](mailto:lucas.hale@nist.gov?Subject=ipr-demo), *Materials Science and Engineering Division, NIST*.\n",
    "\n",
    "**Chandler A. Becker**, [chandler.becker@nist.gov](mailto:chandler.becker@nist.gov?Subject=ipr-demo), *Office of Data and Informatics, NIST*.\n",
    "\n",
    "**Zachary T. Trautt**, [zachary.trautt@nist.gov](mailto:zachary.trautt@nist.gov?Subject=ipr-demo), *Materials Measurement Science Division, NIST*.\n",
    "\n",
    "Version: 2017-04-19\n",
    "\n",
    "[Disclaimers](http://www.nist.gov/public_affairs/disclaimer.cfm) \n",
    " \n",
    "- - -"
   ]
  },
  {
   "cell_type": "markdown",
   "metadata": {
    "deletable": true,
    "editable": true
   },
   "source": [
    "## Introduction\n",
    "\n",
    "The create_sys function creates a System instance based on LAMMPS input lines in system_info by running LAMMPS and processing the results. This makes it possible to generate a System using any LAMMPS options that don't have equivalent atomman methods. \n",
    "\n",
    "Arguments:\n",
    "\n",
    "- __lammps_command__ -- the LAMMPS executable command to use.\n",
    "\n",
    "- __system_info__ -- a string containing the LAMMPS input lines associated with having LAMMPS create a new atomic configuration.\n",
    "\n",
    "The underlying code can be found in [atomman/lammps/create_sys.py](../../atomman/lammps/create_sys.py)."
   ]
  },
  {
   "cell_type": "markdown",
   "metadata": {
    "deletable": true,
    "editable": true
   },
   "source": [
    "## Demonstration"
   ]
  },
  {
   "cell_type": "code",
   "execution_count": 1,
   "metadata": {
    "collapsed": false,
    "deletable": true,
    "editable": true
   },
   "outputs": [],
   "source": [
    "#Standard libraries\n",
    "from __future__ import print_function\n",
    "\n",
    "#https://github.com/usnistgov/atomman \n",
    "import atomman.lammps as lmp"
   ]
  },
  {
   "cell_type": "markdown",
   "metadata": {
    "deletable": true,
    "editable": true
   },
   "source": [
    "Specify the lammps command to use on your system"
   ]
  },
  {
   "cell_type": "code",
   "execution_count": 2,
   "metadata": {
    "collapsed": false,
    "deletable": true,
    "editable": true
   },
   "outputs": [],
   "source": [
    "lammps_command = 'lmp_serial'"
   ]
  },
  {
   "cell_type": "markdown",
   "metadata": {
    "deletable": true,
    "editable": true
   },
   "source": [
    "The system_info contains the units, atom_style, lattice, boundary, create_atoms, read_data, etc. LAMMPS input command lines associated with an atomic configuration. Proper system_info terms can be generated using by the [sys_gen](atomman.lammps.sys_gen.ipynb) and [atom_data.dump](atomman.lammps.atom_data.dump.ipynb) functions.\n",
    "\n",
    "These commands are associated with generating an fcc 2x2x2 supercell."
   ]
  },
  {
   "cell_type": "code",
   "execution_count": 3,
   "metadata": {
    "collapsed": false,
    "deletable": true,
    "editable": true
   },
   "outputs": [],
   "source": [
    "system_info = \"\"\"\n",
    "units metal\n",
    "atom_style atomic\n",
    "boundary p p p \n",
    "\n",
    "lattice fcc 3.52\n",
    "\n",
    "region box block 0 2 0 2 0 2\n",
    "create_box 1 box\n",
    "create_atoms 1 box\n",
    "\"\"\""
   ]
  },
  {
   "cell_type": "markdown",
   "metadata": {
    "deletable": true,
    "editable": true
   },
   "source": [
    "create_sys then runs lammps by combining system_info with dummy commands that generate the configuration but don't evaluate anything"
   ]
  },
  {
   "cell_type": "code",
   "execution_count": 4,
   "metadata": {
    "collapsed": false,
    "deletable": true,
    "editable": true
   },
   "outputs": [
    {
     "name": "stdout",
     "output_type": "stream",
     "text": [
      "avect =  [ 7.040,  0.000,  0.000]\n",
      "bvect =  [ 0.000,  7.040,  0.000]\n",
      "cvect =  [ 0.000,  0.000,  7.040]\n",
      "origin = [ 0.000,  0.000,  0.000]\n",
      "natoms = 32\n",
      "natypes = 1\n",
      "     id |   atype |  pos[0] |  pos[1] |  pos[2]\n",
      "      0 |       1 |   0.000 |   0.000 |   0.000\n",
      "      1 |       1 |   1.760 |   1.760 |   0.000\n",
      "      2 |       1 |   1.760 |   0.000 |   1.760\n",
      "      3 |       1 |   0.000 |   1.760 |   1.760\n",
      "      4 |       1 |   3.520 |   0.000 |   0.000\n",
      "      5 |       1 |   5.280 |   1.760 |   0.000\n",
      "      6 |       1 |   5.280 |   0.000 |   1.760\n",
      "      7 |       1 |   3.520 |   1.760 |   1.760\n",
      "      8 |       1 |   0.000 |   3.520 |   0.000\n",
      "      9 |       1 |   1.760 |   5.280 |   0.000\n",
      "     10 |       1 |   1.760 |   3.520 |   1.760\n",
      "     11 |       1 |   0.000 |   5.280 |   1.760\n",
      "     12 |       1 |   3.520 |   3.520 |   0.000\n",
      "     13 |       1 |   5.280 |   5.280 |   0.000\n",
      "     14 |       1 |   5.280 |   3.520 |   1.760\n",
      "     15 |       1 |   3.520 |   5.280 |   1.760\n",
      "     16 |       1 |   0.000 |   0.000 |   3.520\n",
      "     17 |       1 |   1.760 |   1.760 |   3.520\n",
      "     18 |       1 |   1.760 |   0.000 |   5.280\n",
      "     19 |       1 |   0.000 |   1.760 |   5.280\n",
      "     20 |       1 |   3.520 |   0.000 |   3.520\n",
      "     21 |       1 |   5.280 |   1.760 |   3.520\n",
      "     22 |       1 |   5.280 |   0.000 |   5.280\n",
      "     23 |       1 |   3.520 |   1.760 |   5.280\n",
      "     24 |       1 |   0.000 |   3.520 |   3.520\n",
      "     25 |       1 |   1.760 |   5.280 |   3.520\n",
      "     26 |       1 |   1.760 |   3.520 |   5.280\n",
      "     27 |       1 |   0.000 |   5.280 |   5.280\n",
      "     28 |       1 |   3.520 |   3.520 |   3.520\n",
      "     29 |       1 |   5.280 |   5.280 |   3.520\n",
      "     30 |       1 |   5.280 |   3.520 |   5.280\n",
      "     31 |       1 |   3.520 |   5.280 |   5.280\n"
     ]
    }
   ],
   "source": [
    "system = lmp.create_sys(lammps_command, system_info)\n",
    "print(system)"
   ]
  },
  {
   "cell_type": "markdown",
   "metadata": {
    "deletable": true,
    "editable": true
   },
   "source": [
    "- - -\n",
    "__Docs Navigation:__\n",
    "\n",
    "Tutorial:\n",
    "\n",
    "1. [Basics](../tutorial/1 Basics.ipynb)\n",
    "\n",
    "2. [LAMMPS Functionality](../tutorial/2 LAMMPS Functionality.ipynb)\n",
    "\n",
    "3. [Defect Generation and Evaluation](../tutorial/3 Defect Generation and Evaluation.ipynb)\n",
    "\n",
    "\n",
    "Reference:\n",
    "\n",
    "- [atomman](../reference/atomman.ipynb)\n",
    "\n",
    "- [atomman.convert](../reference/atomman.convert.ipynb)\n",
    "\n",
    "- [atomman.defect](../reference/atomman.defect.ipynb)\n",
    "\n",
    "- [atomman.lammps](../reference/atomman.lammps.ipynb)\n",
    "\n",
    "- [atomman.tools](../reference/atomman.tools.ipynb)\n",
    "\n",
    "- [atomman.unitconvert](../reference/atomman.unitconvert.ipynb)"
   ]
  }
 ],
 "metadata": {
  "kernelspec": {
   "display_name": "Python 2",
   "language": "python",
   "name": "python2"
  },
  "language_info": {
   "codemirror_mode": {
    "name": "ipython",
    "version": 2
   },
   "file_extension": ".py",
   "mimetype": "text/x-python",
   "name": "python",
   "nbconvert_exporter": "python",
   "pygments_lexer": "ipython2",
   "version": "2.7.13"
  }
 },
 "nbformat": 4,
 "nbformat_minor": 0
}
