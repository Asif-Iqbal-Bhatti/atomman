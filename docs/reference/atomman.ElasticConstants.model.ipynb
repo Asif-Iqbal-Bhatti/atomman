{
 "cells": [
  {
   "cell_type": "markdown",
   "metadata": {
    "deletable": true,
    "editable": true
   },
   "source": [
    "# atomman.ElasticConstants.model(self, \\**kwargs)\n",
    "\n",
    "- - -"
   ]
  },
  {
   "cell_type": "markdown",
   "metadata": {
    "deletable": true,
    "editable": true
   },
   "source": [
    "**Lucas M. Hale**, [lucas.hale@nist.gov](mailto:lucas.hale@nist.gov?Subject=ipr-demo), *Materials Science and Engineering Division, NIST*.\n",
    "\n",
    "**Chandler A. Becker**, [chandler.becker@nist.gov](mailto:chandler.becker@nist.gov?Subject=ipr-demo), *Office of Data and Informatics, NIST*.\n",
    "\n",
    "**Zachary T. Trautt**, [zachary.trautt@nist.gov](mailto:zachary.trautt@nist.gov?Subject=ipr-demo), *Materials Measurement Science Division, NIST*.\n",
    "\n",
    "Version: 2017-04-20\n",
    "\n",
    "[Disclaimers](http://www.nist.gov/public_affairs/disclaimer.cfm) \n",
    " \n",
    "- - -"
   ]
  },
  {
   "cell_type": "markdown",
   "metadata": {
    "deletable": true,
    "editable": true
   },
   "source": [
    "## Introduction\n",
    "\n",
    "ElasticConstants.model allows for converting to/from a DataModelDict data model representation of the ElasticConstants.\n",
    "\n",
    "Keyword Arguments:\n",
    "\n",
    "- __model__ -- string or file-like object of json/xml model or DataModelDict.\n",
    "\n",
    "- __unit__ -- units to give values in. Default value is None.\n",
    "\n",
    "- __crystal_system__ -- the crystal system representation to use. Default value is 'triclinic'.\n",
    "\n",
    "If model is given, then the data model values are loaded to the ElasticConstants instance.  Otherwise, this method will return a data model using the set values and the unit, crystal_system terms.\n",
    "\n",
    "The underlying code can be found in [atomman/core/ElasticConstants.py](../../atomman/core/ElasticConstants.py)."
   ]
  },
  {
   "cell_type": "markdown",
   "metadata": {
    "deletable": true,
    "editable": true
   },
   "source": [
    "## Demonstration"
   ]
  },
  {
   "cell_type": "markdown",
   "metadata": {
    "deletable": true,
    "editable": true
   },
   "source": [
    "Library Imports"
   ]
  },
  {
   "cell_type": "code",
   "execution_count": 1,
   "metadata": {
    "collapsed": true,
    "deletable": true,
    "editable": true
   },
   "outputs": [],
   "source": [
    "#Standard libraries\n",
    "from __future__ import print_function\n",
    "\n",
    "#https://github.com/usnistgov/atomman \n",
    "import atomman as am\n",
    "import atomman.unitconvert as uc"
   ]
  },
  {
   "cell_type": "code",
   "execution_count": 2,
   "metadata": {
    "collapsed": false,
    "deletable": true,
    "editable": true
   },
   "outputs": [],
   "source": [
    "c = am.ElasticConstants()"
   ]
  },
  {
   "cell_type": "markdown",
   "metadata": {
    "deletable": true,
    "editable": true
   },
   "source": [
    "### Read in a data model"
   ]
  },
  {
   "cell_type": "markdown",
   "metadata": {
    "deletable": true,
    "editable": true
   },
   "source": [
    "Create an example data model as a json file"
   ]
  },
  {
   "cell_type": "code",
   "execution_count": 3,
   "metadata": {
    "collapsed": false,
    "deletable": true,
    "editable": true
   },
   "outputs": [],
   "source": [
    "json_model = \"\"\"{\n",
    "    \"elastic-constants\": {\n",
    "        \"C\": [\n",
    "            {\n",
    "                \"stiffness\": {\n",
    "                    \"value\": 247.02, \n",
    "                    \"unit\": \"GPa\"\n",
    "                }, \n",
    "                \"ij\": \"1 1\"\n",
    "            }, \n",
    "            {\n",
    "                \"stiffness\": {\n",
    "                    \"value\": 147.30, \n",
    "                    \"unit\": \"GPa\"\n",
    "                }, \n",
    "                \"ij\": \"1 2\"\n",
    "            }, \n",
    "            {\n",
    "                \"stiffness\": {\n",
    "                    \"value\": 122.77, \n",
    "                    \"unit\": \"GPa\"\n",
    "                }, \n",
    "                \"ij\": \"4 4\"\n",
    "            }\n",
    "        ]\n",
    "    }\n",
    "}\"\"\""
   ]
  },
  {
   "cell_type": "markdown",
   "metadata": {
    "deletable": true,
    "editable": true
   },
   "source": [
    "Load the values. Note automatic conversion of values from GPa to atomman's working units."
   ]
  },
  {
   "cell_type": "code",
   "execution_count": 4,
   "metadata": {
    "collapsed": false,
    "deletable": true,
    "editable": true
   },
   "outputs": [
    {
     "name": "stdout",
     "output_type": "stream",
     "text": [
      "[[ 1.54177764  0.91937433  0.91937433  0.          0.          0.        ]\n",
      " [ 0.91937433  1.54177764  0.91937433  0.          0.          0.        ]\n",
      " [ 0.91937433  0.91937433  1.54177764  0.          0.          0.        ]\n",
      " [ 0.          0.          0.          0.7662701   0.          0.        ]\n",
      " [ 0.          0.          0.          0.          0.7662701   0.        ]\n",
      " [ 0.          0.          0.          0.          0.          0.7662701 ]]\n"
     ]
    }
   ],
   "source": [
    "c.model(model=json_model)\n",
    "print(c)"
   ]
  },
  {
   "cell_type": "markdown",
   "metadata": {
    "deletable": true,
    "editable": true
   },
   "source": [
    "Values can be retrieved in GPa using [atomman.unitconvert.get_in_units](atomman.unitconvert.get_in_units.ipynb)"
   ]
  },
  {
   "cell_type": "code",
   "execution_count": 5,
   "metadata": {
    "collapsed": false,
    "deletable": true,
    "editable": true
   },
   "outputs": [
    {
     "name": "stdout",
     "output_type": "stream",
     "text": [
      "[[ 247.02  147.3   147.3     0.      0.      0.  ]\n",
      " [ 147.3   247.02  147.3     0.      0.      0.  ]\n",
      " [ 147.3   147.3   247.02    0.      0.      0.  ]\n",
      " [   0.      0.      0.    122.77    0.      0.  ]\n",
      " [   0.      0.      0.      0.    122.77    0.  ]\n",
      " [   0.      0.      0.      0.      0.    122.77]] GPa\n"
     ]
    }
   ],
   "source": [
    "print(uc.get_in_units(c.Cij, 'GPa'), 'GPa')"
   ]
  },
  {
   "cell_type": "markdown",
   "metadata": {
    "deletable": true,
    "editable": true
   },
   "source": [
    "### Create a data model"
   ]
  },
  {
   "cell_type": "markdown",
   "metadata": {
    "deletable": true,
    "editable": true
   },
   "source": [
    "Initialize an ElasticConstants instance. Use [atomman.unitconvert.set_in_units](atomman.unitconvert.set_in_units.ipynb) to make certain values are properly handled."
   ]
  },
  {
   "cell_type": "code",
   "execution_count": 6,
   "metadata": {
    "collapsed": false,
    "deletable": true,
    "editable": true
   },
   "outputs": [
    {
     "name": "stdout",
     "output_type": "stream",
     "text": [
      "[[ 1.44372353  0.85302708  0.85302708  0.          0.          0.        ]\n",
      " [ 0.85302708  1.44372353  0.85302708  0.          0.          0.        ]\n",
      " [ 0.85302708  0.85302708  1.44372353  0.          0.          0.        ]\n",
      " [ 0.          0.          0.          0.73506256  0.          0.        ]\n",
      " [ 0.          0.          0.          0.          0.73506256  0.        ]\n",
      " [ 0.          0.          0.          0.          0.          0.73506256]]\n"
     ]
    }
   ],
   "source": [
    "C11 = uc.set_in_units(231.31, 'GPa')\n",
    "C12 = uc.set_in_units(136.67, 'GPa')\n",
    "C44 = uc.set_in_units(117.77, 'GPa')\n",
    "\n",
    "c = am.ElasticConstants(C11=C11, C12=C12, C44=C44)\n",
    "print(c)"
   ]
  },
  {
   "cell_type": "markdown",
   "metadata": {
    "deletable": true,
    "editable": true
   },
   "source": [
    "Build and show the data model"
   ]
  },
  {
   "cell_type": "code",
   "execution_count": 7,
   "metadata": {
    "collapsed": false,
    "deletable": true,
    "editable": true
   },
   "outputs": [
    {
     "name": "stdout",
     "output_type": "stream",
     "text": [
      "{\n",
      "    \"elastic-constants\": {\n",
      "        \"C\": [\n",
      "            {\n",
      "                \"stiffness\": {\n",
      "                    \"value\": 231.30999999999997, \n",
      "                    \"unit\": \"GPa\"\n",
      "                }, \n",
      "                \"ij\": \"1 1\"\n",
      "            }, \n",
      "            {\n",
      "                \"stiffness\": {\n",
      "                    \"value\": 136.67, \n",
      "                    \"unit\": \"GPa\"\n",
      "                }, \n",
      "                \"ij\": \"1 2\"\n",
      "            }, \n",
      "            {\n",
      "                \"stiffness\": {\n",
      "                    \"value\": 117.77000000000002, \n",
      "                    \"unit\": \"GPa\"\n",
      "                }, \n",
      "                \"ij\": \"4 4\"\n",
      "            }\n",
      "        ]\n",
      "    }\n",
      "}\n"
     ]
    }
   ],
   "source": [
    "cij_model = c.model(unit='GPa', crystal_system='cubic')\n",
    "print(cij_model.json(indent=4))"
   ]
  },
  {
   "cell_type": "markdown",
   "metadata": {
    "deletable": true,
    "editable": true
   },
   "source": [
    "If crystal_system is not given, then all 21 components are listed separately"
   ]
  },
  {
   "cell_type": "code",
   "execution_count": 8,
   "metadata": {
    "collapsed": false,
    "deletable": true,
    "editable": true
   },
   "outputs": [
    {
     "name": "stdout",
     "output_type": "stream",
     "text": [
      "{\n",
      "    \"elastic-constants\": {\n",
      "        \"C\": [\n",
      "            {\n",
      "                \"stiffness\": {\n",
      "                    \"value\": 231.30999999999997, \n",
      "                    \"unit\": \"GPa\"\n",
      "                }, \n",
      "                \"ij\": \"1 1\"\n",
      "            }, \n",
      "            {\n",
      "                \"stiffness\": {\n",
      "                    \"value\": 136.67, \n",
      "                    \"unit\": \"GPa\"\n",
      "                }, \n",
      "                \"ij\": \"1 2\"\n",
      "            }, \n",
      "            {\n",
      "                \"stiffness\": {\n",
      "                    \"value\": 136.67, \n",
      "                    \"unit\": \"GPa\"\n",
      "                }, \n",
      "                \"ij\": \"1 3\"\n",
      "            }, \n",
      "            {\n",
      "                \"stiffness\": {\n",
      "                    \"value\": 0.0, \n",
      "                    \"unit\": \"GPa\"\n",
      "                }, \n",
      "                \"ij\": \"1 4\"\n",
      "            }, \n",
      "            {\n",
      "                \"stiffness\": {\n",
      "                    \"value\": 0.0, \n",
      "                    \"unit\": \"GPa\"\n",
      "                }, \n",
      "                \"ij\": \"1 5\"\n",
      "            }, \n",
      "            {\n",
      "                \"stiffness\": {\n",
      "                    \"value\": 0.0, \n",
      "                    \"unit\": \"GPa\"\n",
      "                }, \n",
      "                \"ij\": \"1 6\"\n",
      "            }, \n",
      "            {\n",
      "                \"stiffness\": {\n",
      "                    \"value\": 231.30999999999997, \n",
      "                    \"unit\": \"GPa\"\n",
      "                }, \n",
      "                \"ij\": \"2 2\"\n",
      "            }, \n",
      "            {\n",
      "                \"stiffness\": {\n",
      "                    \"value\": 136.67, \n",
      "                    \"unit\": \"GPa\"\n",
      "                }, \n",
      "                \"ij\": \"2 3\"\n",
      "            }, \n",
      "            {\n",
      "                \"stiffness\": {\n",
      "                    \"value\": 0.0, \n",
      "                    \"unit\": \"GPa\"\n",
      "                }, \n",
      "                \"ij\": \"2 4\"\n",
      "            }, \n",
      "            {\n",
      "                \"stiffness\": {\n",
      "                    \"value\": 0.0, \n",
      "                    \"unit\": \"GPa\"\n",
      "                }, \n",
      "                \"ij\": \"2 5\"\n",
      "            }, \n",
      "            {\n",
      "                \"stiffness\": {\n",
      "                    \"value\": 0.0, \n",
      "                    \"unit\": \"GPa\"\n",
      "                }, \n",
      "                \"ij\": \"2 6\"\n",
      "            }, \n",
      "            {\n",
      "                \"stiffness\": {\n",
      "                    \"value\": 231.30999999999997, \n",
      "                    \"unit\": \"GPa\"\n",
      "                }, \n",
      "                \"ij\": \"3 3\"\n",
      "            }, \n",
      "            {\n",
      "                \"stiffness\": {\n",
      "                    \"value\": 0.0, \n",
      "                    \"unit\": \"GPa\"\n",
      "                }, \n",
      "                \"ij\": \"3 4\"\n",
      "            }, \n",
      "            {\n",
      "                \"stiffness\": {\n",
      "                    \"value\": 0.0, \n",
      "                    \"unit\": \"GPa\"\n",
      "                }, \n",
      "                \"ij\": \"3 5\"\n",
      "            }, \n",
      "            {\n",
      "                \"stiffness\": {\n",
      "                    \"value\": 0.0, \n",
      "                    \"unit\": \"GPa\"\n",
      "                }, \n",
      "                \"ij\": \"3 6\"\n",
      "            }, \n",
      "            {\n",
      "                \"stiffness\": {\n",
      "                    \"value\": 117.77000000000001, \n",
      "                    \"unit\": \"GPa\"\n",
      "                }, \n",
      "                \"ij\": \"4 4\"\n",
      "            }, \n",
      "            {\n",
      "                \"stiffness\": {\n",
      "                    \"value\": 0.0, \n",
      "                    \"unit\": \"GPa\"\n",
      "                }, \n",
      "                \"ij\": \"4 5\"\n",
      "            }, \n",
      "            {\n",
      "                \"stiffness\": {\n",
      "                    \"value\": 0.0, \n",
      "                    \"unit\": \"GPa\"\n",
      "                }, \n",
      "                \"ij\": \"4 6\"\n",
      "            }, \n",
      "            {\n",
      "                \"stiffness\": {\n",
      "                    \"value\": 117.77000000000001, \n",
      "                    \"unit\": \"GPa\"\n",
      "                }, \n",
      "                \"ij\": \"5 5\"\n",
      "            }, \n",
      "            {\n",
      "                \"stiffness\": {\n",
      "                    \"value\": 0.0, \n",
      "                    \"unit\": \"GPa\"\n",
      "                }, \n",
      "                \"ij\": \"5 6\"\n",
      "            }, \n",
      "            {\n",
      "                \"stiffness\": {\n",
      "                    \"value\": 117.77000000000001, \n",
      "                    \"unit\": \"GPa\"\n",
      "                }, \n",
      "                \"ij\": \"6 6\"\n",
      "            }\n",
      "        ]\n",
      "    }\n",
      "}\n"
     ]
    }
   ],
   "source": [
    "cij_model = c.model(unit='GPa')\n",
    "print(cij_model.json(indent=4))"
   ]
  },
  {
   "cell_type": "markdown",
   "metadata": {
    "collapsed": true,
    "deletable": true,
    "editable": true
   },
   "source": [
    "__Docs Navigation:__\n",
    "\n",
    "Tutorial:\n",
    "\n",
    "1. [Basics](../tutorial/1 Basics.ipynb)\n",
    "\n",
    "2. [LAMMPS Functionality](../tutorial/2 LAMMPS Functionality.ipynb)\n",
    "\n",
    "3. [Defect Generation and Evaluation](../tutorial/3 Defect Generation and Evaluation.ipynb)\n",
    "\n",
    "\n",
    "Reference:\n",
    "\n",
    "- [atomman](../reference/atomman.ipynb)\n",
    "\n",
    "- [atomman.convert](../reference/atomman.convert.ipynb)\n",
    "\n",
    "- [atomman.defect](../reference/atomman.defect.ipynb)\n",
    "\n",
    "- [atomman.lammps](../reference/atomman.lammps.ipynb)\n",
    "\n",
    "- [atomman.tools](../reference/atomman.tools.ipynb)\n",
    "\n",
    "- [atomman.unitconvert](../reference/atomman.unitconvert.ipynb)"
   ]
  }
 ],
 "metadata": {
  "kernelspec": {
   "display_name": "Python 2",
   "language": "python",
   "name": "python2"
  },
  "language_info": {
   "codemirror_mode": {
    "name": "ipython",
    "version": 2
   },
   "file_extension": ".py",
   "mimetype": "text/x-python",
   "name": "python",
   "nbconvert_exporter": "python",
   "pygments_lexer": "ipython2",
   "version": "2.7.13"
  }
 },
 "nbformat": 4,
 "nbformat_minor": 0
}
