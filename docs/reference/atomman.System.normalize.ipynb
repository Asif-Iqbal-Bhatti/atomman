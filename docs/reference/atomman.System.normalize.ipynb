{
 "cells": [
  {
   "cell_type": "markdown",
   "metadata": {
    "deletable": true,
    "editable": true
   },
   "source": [
    "# atomman.System.normalize(self, style='lammps')\n",
    "\n",
    "- - -"
   ]
  },
  {
   "cell_type": "markdown",
   "metadata": {
    "deletable": true,
    "editable": true
   },
   "source": [
    "**Lucas M. Hale**, [lucas.hale@nist.gov](mailto:lucas.hale@nist.gov?Subject=ipr-demo), *Materials Science and Engineering Division, NIST*.\n",
    "\n",
    "**Chandler A. Becker**, [chandler.becker@nist.gov](mailto:chandler.becker@nist.gov?Subject=ipr-demo), *Office of Data and Informatics, NIST*.\n",
    "\n",
    "**Zachary T. Trautt**, [zachary.trautt@nist.gov](mailto:zachary.trautt@nist.gov?Subject=ipr-demo), *Materials Measurement Science Division, NIST*.\n",
    "\n",
    "Version: 2017-04-19\n",
    "\n",
    "[Disclaimers](http://www.nist.gov/public_affairs/disclaimer.cfm) \n",
    " \n",
    "- - -"
   ]
  },
  {
   "cell_type": "markdown",
   "metadata": {
    "deletable": true,
    "editable": true
   },
   "source": [
    "## Introduction\n",
    "\n",
    "The System.normalize method performs a transformation of the [System.atoms](atomman.System.atoms.ipynb) and [System.box](atomman.System.box.ipynb) to an equivalent configuration that is compatible with use in external codes. \n",
    "\n",
    "Keyword Arguments:\n",
    "\n",
    "- __style__ -- indicates which normalization style to use. Currently only 'lammps' is supported.\n",
    "\n",
    "\n",
    "The underlying code can be found in [atomman/core/System.py](../../atomman/core/System.py)."
   ]
  },
  {
   "cell_type": "markdown",
   "metadata": {
    "deletable": true,
    "editable": true
   },
   "source": [
    "## Demonstration"
   ]
  },
  {
   "cell_type": "markdown",
   "metadata": {
    "deletable": true,
    "editable": true
   },
   "source": [
    "Library Imports"
   ]
  },
  {
   "cell_type": "code",
   "execution_count": 1,
   "metadata": {
    "collapsed": false,
    "deletable": true,
    "editable": true
   },
   "outputs": [],
   "source": [
    "#Standard libraries\n",
    "from __future__ import print_function\n",
    "from copy import deepcopy\n",
    "\n",
    "#http://www.numpy.org/\n",
    "import numpy as np    \n",
    "\n",
    "#https://github.com/usnistgov/atomman\n",
    "import atomman as am"
   ]
  },
  {
   "cell_type": "markdown",
   "metadata": {
    "deletable": true,
    "editable": true
   },
   "source": [
    "Create a messy test system with atoms outside bounds and random box vectors"
   ]
  },
  {
   "cell_type": "code",
   "execution_count": 2,
   "metadata": {
    "collapsed": false,
    "deletable": true,
    "editable": true
   },
   "outputs": [
    {
     "name": "stdout",
     "output_type": "stream",
     "text": [
      "avect =  [ 3.845,  1.782,  0.672]\n",
      "bvect =  [ 2.094,  4.235,  0.389]\n",
      "cvect =  [ 2.048,  1.304,  1.955]\n",
      "origin = [ 5.000,  5.000,  5.000]\n",
      "natoms = 10\n",
      "natypes = 1\n",
      "     id |   atype |  pos[0] |  pos[1] |  pos[2]\n",
      "      0 |       1 |   7.768 |   0.226 |   7.267\n",
      "      1 |       1 |   1.582 |   3.871 |   0.772\n",
      "      2 |       1 |   7.905 |   8.366 |   8.305\n",
      "      3 |       1 |   9.530 |   3.143 |   0.594\n",
      "      4 |       1 |   7.447 |   3.280 |   0.189\n",
      "      5 |       1 |   6.039 |   8.677 |   7.718\n",
      "      6 |       1 |   7.557 |   7.219 |   5.963\n",
      "      7 |       1 |   5.807 |   6.161 |   7.018\n",
      "      8 |       1 |   8.540 |   2.212 |   3.486\n",
      "      9 |       1 |   4.045 |   9.446 |   3.150\n"
     ]
    }
   ],
   "source": [
    "atoms = am.Atoms(natoms=10, prop={'atype':1, 'pos':10*np.random.random((10,3))})\n",
    "box = am.Box(vects=5*np.random.random((3,3)), origin=(5, 5, 5))\n",
    "\n",
    "system = am.System(atoms=atoms, box=box)\n",
    "print(system)"
   ]
  },
  {
   "cell_type": "markdown",
   "metadata": {
    "deletable": true,
    "editable": true
   },
   "source": [
    "### style = 'lammps'\n",
    "\n",
    "This style transforms the System to be directly compatible with being read in by LAMMPS. All atom positions are adjusted to be within the box ([wrapped](atomman.System.wrap.ipynb)) and System.box's vectors transformed to be compatible.\n",
    "\n",
    "In LAMMPS, the Box vectors must conform to the following rules:\n",
    "\n",
    "    avect = [ lx, 0.0, 0.0]\n",
    "    bvect = [ xy,  ly, 0.0]\n",
    "    cvect = [ xz,  yz,  lz]\n",
    "    avect, bvect, cvect are right-handed.\n",
    "    \n",
    "__WARNING!__ Tilt factors are not tested for compliance with LAMMPS. If large angles/tilt factors are present, the command \"box tilt large\" may be required in the LAMMPS input script.\n",
    "\n",
    "Calling System.normalize with this style is equivalent to calling [atomman.lammps.normalize](atomman.lammps.normalize.ipynb) on the System."
   ]
  },
  {
   "cell_type": "code",
   "execution_count": 3,
   "metadata": {
    "collapsed": false,
    "deletable": true,
    "editable": true
   },
   "outputs": [
    {
     "name": "stdout",
     "output_type": "stream",
     "text": [
      "avect =  [ 4.291,  0.000,  0.000]\n",
      "bvect =  [ 3.696,  2.968,  0.000]\n",
      "cvect =  [ 2.682,  0.221,  1.572]\n",
      "origin = [ 0.000,  0.000,  0.000]\n",
      "natoms = 10\n",
      "natypes = 1\n",
      "     id |   atype |  pos[0] |  pos[1] |  pos[2]\n",
      "      0 |       1 |   1.270 |   0.092 |   0.228\n",
      "      1 |       1 |   3.853 |   1.308 |   1.134\n",
      "      2 |       1 |   6.127 |   1.438 |   1.171\n",
      "      3 |       1 |   4.150 |   0.585 |   1.193\n",
      "      4 |       1 |   6.568 |   1.590 |   1.145\n",
      "      5 |       1 |   8.784 |   2.524 |   0.906\n",
      "      6 |       1 |   3.363 |   0.907 |   0.502\n",
      "      7 |       1 |   3.130 |   0.375 |   0.273\n",
      "      8 |       1 |   5.952 |   2.486 |   1.073\n",
      "      9 |       1 |   6.661 |   2.028 |   1.451\n"
     ]
    }
   ],
   "source": [
    "#Create a copy system\n",
    "lammps_system = deepcopy(system)\n",
    "\n",
    "#normalize\n",
    "lammps_system.normalize(style='lammps')\n",
    "\n",
    "print(lammps_system)"
   ]
  },
  {
   "cell_type": "markdown",
   "metadata": {
    "deletable": true,
    "editable": true
   },
   "source": [
    "Check that all atoms are in System.box by looking at box relative coordinates of the atomic positions"
   ]
  },
  {
   "cell_type": "code",
   "execution_count": 4,
   "metadata": {
    "collapsed": false,
    "deletable": true,
    "editable": true
   },
   "outputs": [
    {
     "name": "stdout",
     "output_type": "stream",
     "text": [
      "[[ 0.18781121  0.02033253  0.14517071]\n",
      " [ 0.11354796  0.38708814  0.72158797]\n",
      " [ 0.59266953  0.42888136  0.74517968]\n",
      " [ 0.3718511   0.1405705   0.7587347 ]\n",
      " [ 0.6605439   0.48160316  0.72828746]\n",
      " [ 0.99124851  0.80745834  0.57647873]\n",
      " [ 0.3415657   0.28192756  0.31905902]\n",
      " [ 0.52311083  0.11354198  0.17352789]\n",
      " [ 0.28267325  0.7867621   0.68267652]\n",
      " [ 0.44593576  0.6144665   0.92320368]]\n"
     ]
    }
   ],
   "source": [
    "print(lammps_system.atoms_prop(key='pos', scale=True))"
   ]
  },
  {
   "cell_type": "markdown",
   "metadata": {
    "collapsed": true,
    "deletable": true,
    "editable": true
   },
   "source": [
    "- - -\n",
    "__Docs Navigation:__\n",
    "\n",
    "Tutorial:\n",
    "\n",
    "1. [Basics](../tutorial/1 Basics.ipynb)\n",
    "\n",
    "2. [LAMMPS Functionality](../tutorial/2 LAMMPS Functionality.ipynb)\n",
    "\n",
    "3. [Defect Generation and Evaluation](../tutorial/3 Defect Generation and Evaluation.ipynb)\n",
    "\n",
    "\n",
    "Reference:\n",
    "\n",
    "- [atomman](../reference/atomman.ipynb)\n",
    "\n",
    "- [atomman.convert](../reference/atomman.convert.ipynb)\n",
    "\n",
    "- [atomman.defect](../reference/atomman.defect.ipynb)\n",
    "\n",
    "- [atomman.lammps](../reference/atomman.lammps.ipynb)\n",
    "\n",
    "- [atomman.tools](../reference/atomman.tools.ipynb)\n",
    "\n",
    "- [atomman.unitconvert](../reference/atomman.unitconvert.ipynb)"
   ]
  }
 ],
 "metadata": {
  "kernelspec": {
   "display_name": "Python 2",
   "language": "python",
   "name": "python2"
  },
  "language_info": {
   "codemirror_mode": {
    "name": "ipython",
    "version": 2
   },
   "file_extension": ".py",
   "mimetype": "text/x-python",
   "name": "python",
   "nbconvert_exporter": "python",
   "pygments_lexer": "ipython2",
   "version": "2.7.13"
  }
 },
 "nbformat": 4,
 "nbformat_minor": 0
}
