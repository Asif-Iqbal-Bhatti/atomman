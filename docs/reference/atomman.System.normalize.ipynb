{
 "cells": [
  {
   "cell_type": "markdown",
   "metadata": {},
   "source": [
    "# atomman.System.normalize(self, style='lammps')\n",
    "\n",
    "- - -"
   ]
  },
  {
   "cell_type": "markdown",
   "metadata": {},
   "source": [
    "**Lucas M. Hale**, [lucas.hale@nist.gov](mailto:lucas.hale@nist.gov?Subject=ipr-demo), *Materials Science and Engineering Division, NIST*.\n",
    "\n",
    "**Chandler A. Becker**, [chandler.becker@nist.gov](mailto:chandler.becker@nist.gov?Subject=ipr-demo), *Materials Science and Engineering Division, NIST*.\n",
    "\n",
    "**Zachary T. Trautt**, [zachary.trautt@nist.gov](mailto:zachary.trautt@nist.gov?Subject=ipr-demo), *Materials Measurement Science Division, NIST*.\n",
    "\n",
    "Version: 2016-08-28\n",
    "\n",
    "[Disclaimers](http://www.nist.gov/public_affairs/disclaimer.cfm)\n",
    "\n",
    "- - -"
   ]
  },
  {
   "cell_type": "markdown",
   "metadata": {},
   "source": [
    "## Introduction\n",
    "\n",
    "The System.normalize method performs a transformation of the [System.atoms](atomman.System.atoms.ipynb) and [System.box](atomman.System.box.ipynb) to an equivalent configuration that is compatible with use in external codes. \n",
    "\n",
    "Keyword Arguments:\n",
    "\n",
    "- __style__ -- indicates which normalization style to use. Currently only 'lammps' is supported.\n",
    "\n",
    "\n",
    "The underlying code can be found in [atomman/core/System.py](../../atomman/core/System.py)."
   ]
  },
  {
   "cell_type": "markdown",
   "metadata": {},
   "source": [
    "## Demonstration"
   ]
  },
  {
   "cell_type": "markdown",
   "metadata": {},
   "source": [
    "Library Imports"
   ]
  },
  {
   "cell_type": "code",
   "execution_count": 1,
   "metadata": {
    "collapsed": false
   },
   "outputs": [],
   "source": [
    "#External library imports\n",
    "import numpy as np\n",
    "\n",
    "#atomman imports\n",
    "import atomman as am\n",
    "\n",
    "from copy import deepcopy"
   ]
  },
  {
   "cell_type": "markdown",
   "metadata": {},
   "source": [
    "Create a messy test system with atoms outside bounds and random box vectors"
   ]
  },
  {
   "cell_type": "code",
   "execution_count": 2,
   "metadata": {
    "collapsed": false
   },
   "outputs": [
    {
     "name": "stdout",
     "output_type": "stream",
     "text": [
      "avect =  [ 0.172,  4.555,  2.536]\n",
      "bvect =  [ 0.051,  2.977,  3.290]\n",
      "cvect =  [ 3.866,  1.887,  4.110]\n",
      "origin = [ 5.000,  5.000,  5.000]\n",
      "natoms = 10\n",
      "natypes = 1\n",
      "     id |   atype |  pos[0] |  pos[1] |  pos[2]\n",
      "      0 |       1 |   3.988 |   6.004 |   3.370\n",
      "      1 |       1 |   3.322 |   5.215 |   5.097\n",
      "      2 |       1 |   5.362 |   7.320 |   9.167\n",
      "      3 |       1 |   4.674 |   9.234 |   4.952\n",
      "      4 |       1 |   3.249 |   3.764 |   0.364\n",
      "      5 |       1 |   4.737 |   9.541 |   5.237\n",
      "      6 |       1 |   2.683 |   9.005 |   5.019\n",
      "      7 |       1 |   3.262 |   1.984 |   8.514\n",
      "      8 |       1 |   5.635 |   4.553 |   8.399\n",
      "      9 |       1 |   9.647 |   4.620 |   0.846\n"
     ]
    }
   ],
   "source": [
    "atoms = am.Atoms(natoms=10, prop={'atype':1, 'pos':10*np.random.random((10,3))})\n",
    "box = am.Box(vects=5*np.random.random((3,3)), origin=(5, 5, 5))\n",
    "\n",
    "system = am.System(atoms=atoms, box=box)\n",
    "print system"
   ]
  },
  {
   "cell_type": "markdown",
   "metadata": {},
   "source": [
    "### style = 'lammps'\n",
    "\n",
    "This style transforms the System to be directly compatible with being read in by LAMMPS. All atom positions are adjusted to be within the box ([wrapped](atomman.System.wrap.ipynb)) and System.box's vectors transformed to be compatible.\n",
    "\n",
    "In LAMMPS, the Box vectors must conform to the following rules:\n",
    "\n",
    "    avect = [ lx, 0.0, 0.0]\n",
    "    bvect = [ xy,  ly, 0.0]\n",
    "    cvect = [ xz,  yz,  lz]\n",
    "    avect, bvect, cvect are right-handed.\n",
    "    \n",
    "__WARNING!__ Tilt factors are not tested for compliance with LAMMPS. If large angles/tilt factors are present, the command \"box tilt large\" may be required in the LAMMPS input script.\n",
    "\n",
    "Calling System.normalize with this style is equivalent to calling [atomman.lammps.normalize](atomman.lammps.normalize.ipynb) on the System."
   ]
  },
  {
   "cell_type": "code",
   "execution_count": 3,
   "metadata": {
    "collapsed": false
   },
   "outputs": [
    {
     "name": "stdout",
     "output_type": "stream",
     "text": [
      "avect =  [ 5.216,  0.000,  0.000]\n",
      "bvect =  [ 4.200,  1.429,  0.000]\n",
      "cvect =  [ 3.773,  2.439,  3.900]\n",
      "origin = [ 0.000,  0.000,  0.000]\n",
      "natoms = 10\n",
      "natypes = 1\n",
      "     id |   atype |  pos[0] |  pos[1] |  pos[2]\n",
      "      0 |       1 |   8.024 |   2.022 |   2.771\n",
      "      1 |       1 |   9.168 |   2.523 |   2.217\n",
      "      2 |       1 |   5.079 |   1.064 |   0.381\n",
      "      3 |       1 |  10.621 |   3.228 |   3.326\n",
      "      4 |       1 |   8.783 |   1.955 |   2.053\n",
      "      5 |       1 |  11.029 |   3.325 |   3.381\n",
      "      6 |       1 |   6.188 |   2.089 |   1.356\n",
      "      7 |       1 |  11.054 |   2.784 |   2.474\n",
      "      8 |       1 |   7.515 |   1.715 |   0.787\n",
      "      9 |       1 |   4.598 |   0.981 |   0.603\n"
     ]
    }
   ],
   "source": [
    "#Create a copy system\n",
    "lammps_system = deepcopy(system)\n",
    "\n",
    "#normalize\n",
    "lammps_system.normalize(style='lammps')\n",
    "\n",
    "print lammps_system"
   ]
  },
  {
   "cell_type": "markdown",
   "metadata": {},
   "source": [
    "Check that all atoms are in System.box by looking at box relative coordinates of the atomic positions"
   ]
  },
  {
   "cell_type": "code",
   "execution_count": 4,
   "metadata": {
    "collapsed": false
   },
   "outputs": [
    {
     "name": "stdout",
     "output_type": "stream",
     "text": [
      "[[ 0.86203663  0.20153919  0.71062204]\n",
      " [ 0.7063545   0.79495005  0.56851581]\n",
      " [ 0.43778991  0.57784398  0.09775248]\n",
      " [ 0.77281203  0.80301161  0.85274396]\n",
      " [ 0.92490978  0.46966537  0.52630072]\n",
      " [ 0.80588003  0.84627656  0.86698176]\n",
      " [ 0.23551623  0.86846531  0.34756954]\n",
      " [ 0.96353431  0.86530572  0.63433701]\n",
      " [ 0.60553965  0.85586852  0.201712  ]\n",
      " [ 0.42958365  0.42240065  0.154574  ]]\n"
     ]
    }
   ],
   "source": [
    "print lammps_system.atoms_prop(key='pos', scale=True)"
   ]
  },
  {
   "cell_type": "markdown",
   "metadata": {
    "collapsed": true
   },
   "source": [
    "- - -\n",
    "__Docs Navigation:__\n",
    "\n",
    "Tutorial:\n",
    "\n",
    "1. [Basics](../tutorial/1 Basics.ipynb)\n",
    "\n",
    "2. [LAMMPS Functionality](../tutorial/2 LAMMPS Functionality.ipynb)\n",
    "\n",
    "3. [Defect Generation and Evaluation](../tutorial/3 Defect Generation and Evaluation.ipynb)\n",
    "\n",
    "\n",
    "Reference:\n",
    "\n",
    "- [atomman](../reference/atomman.ipynb)\n",
    "\n",
    "- [atomman.convert](../reference/atomman.convert.ipynb)\n",
    "\n",
    "- [atomman.defect](../reference/atomman.defect.ipynb)\n",
    "\n",
    "- [atomman.lammps](../reference/atomman.lammps.ipynb)\n",
    "\n",
    "- [atomman.tools](../reference/atomman.tools.ipynb)\n",
    "\n",
    "- [atomman.unitconvert](../reference/atomman.unitconvert.ipynb)"
   ]
  }
 ],
 "metadata": {
  "kernelspec": {
   "display_name": "Python 2",
   "language": "python",
   "name": "python2"
  },
  "language_info": {
   "codemirror_mode": {
    "name": "ipython",
    "version": 2
   },
   "file_extension": ".py",
   "mimetype": "text/x-python",
   "name": "python",
   "nbconvert_exporter": "python",
   "pygments_lexer": "ipython2",
   "version": "2.7.11"
  }
 },
 "nbformat": 4,
 "nbformat_minor": 0
}
