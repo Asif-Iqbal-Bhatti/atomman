{
 "cells": [
  {
   "cell_type": "markdown",
   "metadata": {},
   "source": [
    "# atomman.System.pbc\n",
    "\n",
    "- - -"
   ]
  },
  {
   "cell_type": "markdown",
   "metadata": {},
   "source": [
    "**Lucas M. Hale**, [lucas.hale@nist.gov](mailto:lucas.hale@nist.gov?Subject=ipr-demo), *Materials Science and Engineering Division, NIST*.\n",
    "\n",
    "**Chandler A. Becker**, [chandler.becker@nist.gov](mailto:chandler.becker@nist.gov?Subject=ipr-demo), *Office of Data and Informatics, NIST*.\n",
    "\n",
    "**Zachary T. Trautt**, [zachary.trautt@nist.gov](mailto:zachary.trautt@nist.gov?Subject=ipr-demo), *Materials Measurement Science Division, NIST*.\n",
    "\n",
    "Version: 2016-09-02\n",
    "\n",
    "[Disclaimers](http://www.nist.gov/public_affairs/disclaimer.cfm) \n",
    " \n",
    "- - -"
   ]
  },
  {
   "cell_type": "markdown",
   "metadata": {},
   "source": [
    "## Introduction\n",
    "\n",
    "The System.pbc attribute is a tuple of three Boolean values defining which boundaries of System.box are taken to be periodic. By default, the values are all set to True when a System is initialized indicating that all directions are periodic.\n",
    "\n",
    "The underlying code can be found in [atomman/core/System.py](../../atomman/core/System.py).\n",
    "\n",
    "- - -"
   ]
  },
  {
   "cell_type": "markdown",
   "metadata": {},
   "source": [
    "## Demonstration"
   ]
  },
  {
   "cell_type": "markdown",
   "metadata": {},
   "source": [
    "Library Imports"
   ]
  },
  {
   "cell_type": "code",
   "execution_count": 1,
   "metadata": {
    "collapsed": true
   },
   "outputs": [],
   "source": [
    "import atomman as am\n",
    "\n",
    "import numpy as np"
   ]
  },
  {
   "cell_type": "markdown",
   "metadata": {},
   "source": [
    "Generate a demonstration 2x2x2 fcc unit cell"
   ]
  },
  {
   "cell_type": "code",
   "execution_count": 2,
   "metadata": {
    "collapsed": false
   },
   "outputs": [
    {
     "name": "stdout",
     "output_type": "stream",
     "text": [
      "avect =  [ 7.280,  0.000,  0.000]\n",
      "bvect =  [ 0.000,  7.280,  0.000]\n",
      "cvect =  [ 0.000,  0.000,  7.280]\n",
      "origin = [ 0.000,  0.000,  0.000]\n",
      "natoms = 32\n",
      "natypes = 1\n",
      "     id |   atype |  pos[0] |  pos[1] |  pos[2]\n",
      "      0 |       1 |   0.000 |   0.000 |   0.000\n",
      "      1 |       1 |   1.820 |   1.820 |   0.000\n",
      "      2 |       1 |   1.820 |   0.000 |   1.820\n",
      "      3 |       1 |   0.000 |   1.820 |   1.820\n",
      "      4 |       1 |   3.640 |   0.000 |   0.000\n",
      "      5 |       1 |   5.460 |   1.820 |   0.000\n",
      "      6 |       1 |   5.460 |   0.000 |   1.820\n",
      "      7 |       1 |   3.640 |   1.820 |   1.820\n",
      "      8 |       1 |   0.000 |   3.640 |   0.000\n",
      "      9 |       1 |   1.820 |   5.460 |   0.000\n",
      "     10 |       1 |   1.820 |   3.640 |   1.820\n",
      "     11 |       1 |   0.000 |   5.460 |   1.820\n",
      "     12 |       1 |   3.640 |   3.640 |   0.000\n",
      "     13 |       1 |   5.460 |   5.460 |   0.000\n",
      "     14 |       1 |   5.460 |   3.640 |   1.820\n",
      "     15 |       1 |   3.640 |   5.460 |   1.820\n",
      "     16 |       1 |   0.000 |   0.000 |   3.640\n",
      "     17 |       1 |   1.820 |   1.820 |   3.640\n",
      "     18 |       1 |   1.820 |   0.000 |   5.460\n",
      "     19 |       1 |   0.000 |   1.820 |   5.460\n",
      "     20 |       1 |   3.640 |   0.000 |   3.640\n",
      "     21 |       1 |   5.460 |   1.820 |   3.640\n",
      "     22 |       1 |   5.460 |   0.000 |   5.460\n",
      "     23 |       1 |   3.640 |   1.820 |   5.460\n",
      "     24 |       1 |   0.000 |   3.640 |   3.640\n",
      "     25 |       1 |   1.820 |   5.460 |   3.640\n",
      "     26 |       1 |   1.820 |   3.640 |   5.460\n",
      "     27 |       1 |   0.000 |   5.460 |   5.460\n",
      "     28 |       1 |   3.640 |   3.640 |   3.640\n",
      "     29 |       1 |   5.460 |   5.460 |   3.640\n",
      "     30 |       1 |   5.460 |   3.640 |   5.460\n",
      "     31 |       1 |   3.640 |   5.460 |   5.460\n"
     ]
    }
   ],
   "source": [
    "alat = 3.64\n",
    "atype = 1\n",
    "pos = np.array([[0.0, 0.0, 0.0], [0.5, 0.5, 0.0], [0.5, 0.0, 0.5], [0.0, 0.5, 0.5]])\n",
    "\n",
    "atoms = am.Atoms(natoms=len(pos), prop={'atype':atype, 'pos':pos})\n",
    "box = am.Box(a=alat, b=alat, c=alat)\n",
    "system = am.System(atoms=atoms, box=box, scale=True)\n",
    "\n",
    "system.supersize(2,2,2)\n",
    "print system"
   ]
  },
  {
   "cell_type": "markdown",
   "metadata": {},
   "source": [
    "All boundaries initially periodic (if pbc not given during initialization)."
   ]
  },
  {
   "cell_type": "code",
   "execution_count": 3,
   "metadata": {
    "collapsed": false
   },
   "outputs": [
    {
     "name": "stdout",
     "output_type": "stream",
     "text": [
      "[ True  True  True]\n"
     ]
    }
   ],
   "source": [
    "print system.pbc"
   ]
  },
  {
   "cell_type": "markdown",
   "metadata": {},
   "source": [
    "Many functions and methods are affected by the periodicity, including [System.dvect](atomman.System.dvect.ipynb).\n",
    "\n",
    "Print shortest vector between atom 0 and atom 31"
   ]
  },
  {
   "cell_type": "code",
   "execution_count": 4,
   "metadata": {
    "collapsed": false
   },
   "outputs": [
    {
     "name": "stdout",
     "output_type": "stream",
     "text": [
      "[-3.64 -1.82 -1.82]\n"
     ]
    }
   ],
   "source": [
    "print system.dvect(0, 31)"
   ]
  },
  {
   "cell_type": "markdown",
   "metadata": {},
   "source": [
    "Change the second dimension to be non-periodic"
   ]
  },
  {
   "cell_type": "code",
   "execution_count": 5,
   "metadata": {
    "collapsed": true
   },
   "outputs": [],
   "source": [
    "system.pbc[1] = False"
   ]
  },
  {
   "cell_type": "markdown",
   "metadata": {},
   "source": [
    "Now, the shortest vector can't cross the b cell boundary"
   ]
  },
  {
   "cell_type": "code",
   "execution_count": 6,
   "metadata": {
    "collapsed": false
   },
   "outputs": [
    {
     "name": "stdout",
     "output_type": "stream",
     "text": [
      "[-3.64  5.46 -1.82]\n"
     ]
    }
   ],
   "source": [
    "print system.dvect(0, 31)"
   ]
  },
  {
   "cell_type": "markdown",
   "metadata": {},
   "source": [
    "__Docs Navigation:__\n",
    "\n",
    "Tutorial:\n",
    "\n",
    "1. [Basics](../tutorial/1 Basics.ipynb)\n",
    "\n",
    "2. [LAMMPS Functionality](../tutorial/2 LAMMPS Functionality.ipynb)\n",
    "\n",
    "3. [Defect Generation and Evaluation](../tutorial/3 Defect Generation and Evaluation.ipynb)\n",
    "\n",
    "\n",
    "Reference:\n",
    "\n",
    "- [atomman](../reference/atomman.ipynb)\n",
    "\n",
    "- [atomman.convert](../reference/atomman.convert.ipynb)\n",
    "\n",
    "- [atomman.defect](../reference/atomman.defect.ipynb)\n",
    "\n",
    "- [atomman.lammps](../reference/atomman.lammps.ipynb)\n",
    "\n",
    "- [atomman.tools](../reference/atomman.tools.ipynb)\n",
    "\n",
    "- [atomman.unitconvert](../reference/atomman.unitconvert.ipynb)"
   ]
  }
 ],
 "metadata": {
  "kernelspec": {
   "display_name": "Python 2",
   "language": "python",
   "name": "python2"
  },
  "language_info": {
   "codemirror_mode": {
    "name": "ipython",
    "version": 2
   },
   "file_extension": ".py",
   "mimetype": "text/x-python",
   "name": "python",
   "nbconvert_exporter": "python",
   "pygments_lexer": "ipython2",
   "version": "2.7.11"
  }
 },
 "nbformat": 4,
 "nbformat_minor": 0
}
