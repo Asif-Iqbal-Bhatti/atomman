{
 "cells": [
  {
   "cell_type": "markdown",
   "metadata": {
    "deletable": true,
    "editable": true
   },
   "source": [
    "# atomman.lammps.atom_dump.dump(system, fname, prop_info=None, xf='%.13e')\n",
    "\n",
    "- - -"
   ]
  },
  {
   "cell_type": "markdown",
   "metadata": {
    "deletable": true,
    "editable": true
   },
   "source": [
    "**Lucas M. Hale**, [lucas.hale@nist.gov](mailto:lucas.hale@nist.gov?Subject=ipr-demo), *Materials Science and Engineering Division, NIST*.\n",
    "\n",
    "**Chandler A. Becker**, [chandler.becker@nist.gov](mailto:chandler.becker@nist.gov?Subject=ipr-demo), *Office of Data and Informatics, NIST*.\n",
    "\n",
    "**Zachary T. Trautt**, [zachary.trautt@nist.gov](mailto:zachary.trautt@nist.gov?Subject=ipr-demo), *Materials Measurement Science Division, NIST*.\n",
    "\n",
    "Version: 2017-04-19\n",
    "\n",
    "[Disclaimers](http://www.nist.gov/public_affairs/disclaimer.cfm) \n",
    " \n",
    "- - -"
   ]
  },
  {
   "cell_type": "markdown",
   "metadata": {
    "deletable": true,
    "editable": true
   },
   "source": [
    "## Introduction\n",
    "\n",
    "The atom_dump.dump function writes a system's information to a LAMMPS dump style file. The dump file format provides a concise way of storing a large number of atoms and atom properties. In converting between atomman and dump files, this function allows for full control over the property name conversions and unit control in the form of a JSON data model.\n",
    "\n",
    "Arguments:\n",
    "\n",
    "- __system__ = the [atomman.System](atomman.System.ipynb) to extract values from.\n",
    "\n",
    "- __fname__ = name (and location) of the file to write to.\n",
    "\n",
    "Keyword Arguments:\n",
    "\n",
    "- __prop_info__ = the data model defining how to relate the LAMMPS atomic attributes to the atomman atomic properties. If not specified, will try reading [fname].json.  If that doesn't work, a defaut model will be created based on the system and saved to [fname].json.\n",
    "\n",
    "- __xf__ = c-style format string to use for floating point numbers. Default is '%.13e'. \n",
    "\n",
    "The underlying code can be found in [atomman/lammps/atom_dump.py](https://github.com/usnistgov/atomman/blob/master/atomman/lammps/atom_dump.py).\n",
    "\n",
    "- - -"
   ]
  },
  {
   "cell_type": "markdown",
   "metadata": {
    "deletable": true,
    "editable": true
   },
   "source": [
    "## Demonstration"
   ]
  },
  {
   "cell_type": "markdown",
   "metadata": {
    "deletable": true,
    "editable": true
   },
   "source": [
    "Library imports"
   ]
  },
  {
   "cell_type": "code",
   "execution_count": 1,
   "metadata": {
    "collapsed": false,
    "deletable": true,
    "editable": true
   },
   "outputs": [],
   "source": [
    "#Standard libraries\n",
    "from __future__ import print_function\n",
    "import os\n",
    "\n",
    "#http://www.numpy.org/\n",
    "import numpy as np    \n",
    "\n",
    "#https://github.com/usnistgov/atomman \n",
    "import atomman as am\n",
    "import atomman.lammps as lmp"
   ]
  },
  {
   "cell_type": "markdown",
   "metadata": {
    "deletable": true,
    "editable": true
   },
   "source": [
    "Create small demonstration system (GaAs unit cell) with multiple per-atom properties"
   ]
  },
  {
   "cell_type": "code",
   "execution_count": 2,
   "metadata": {
    "collapsed": false,
    "deletable": true,
    "editable": true
   },
   "outputs": [
    {
     "name": "stdout",
     "output_type": "stream",
     "text": [
      "avect =  [ 5.650,  0.000,  0.000]\n",
      "bvect =  [ 0.000,  5.650,  0.000]\n",
      "cvect =  [ 0.000,  0.000,  5.650]\n",
      "origin = [ 0.000,  0.000,  0.000]\n",
      "natoms = 8\n",
      "natypes = 2\n",
      "     id |   atype |  pos[0] |  pos[1] |  pos[2]\n",
      "      0 |       1 |   0.000 |   0.000 |   0.000\n",
      "      1 |       1 |   2.825 |   0.000 |   2.825\n",
      "      2 |       1 |   2.825 |   2.825 |   0.000\n",
      "      3 |       1 |   0.000 |   2.825 |   2.825\n",
      "      4 |       2 |   1.413 |   1.413 |   1.413\n",
      "      5 |       2 |   4.238 |   4.238 |   1.413\n",
      "      6 |       2 |   1.413 |   4.238 |   4.238\n",
      "      7 |       2 |   4.238 |   1.413 |   4.238\n"
     ]
    }
   ],
   "source": [
    "prop_dict = {'atype':  [1, 1, 1, 1, 2, 2, 2, 2],\n",
    "             'pos':   [[0.00, 0.00, 0.00],\n",
    "                       [0.50, 0.00, 0.50],\n",
    "                       [0.50, 0.50, 0.00],\n",
    "                       [0.00, 0.50, 0.50],\n",
    "                       [0.25, 0.25, 0.25],\n",
    "                       [0.75, 0.75, 0.25],\n",
    "                       [0.25, 0.75, 0.75],\n",
    "                       [0.75, 0.25, 0.75]]}\n",
    "\n",
    "atoms = am.Atoms(natoms=8, prop=prop_dict)\n",
    "box = am.Box(a=5.65, b=5.65, c=5.65)\n",
    "system = am.System(box=box, atoms=atoms, scale=True)\n",
    "print(system)"
   ]
  },
  {
   "cell_type": "code",
   "execution_count": 3,
   "metadata": {
    "collapsed": false,
    "deletable": true,
    "editable": true
   },
   "outputs": [],
   "source": [
    "scalar = [0.,1.,2.,3.,4.,5.,6.,7.]\n",
    "vector = [[1, 2, 3, 4],\n",
    "          [1, 2, 3, 4],\n",
    "          [1, 2, 3, 4],\n",
    "          [1, 2, 3, 4],\n",
    "          [1, 2, 3, 4],\n",
    "          [1, 2, 3, 4],\n",
    "          [1, 2, 3, 4],\n",
    "          [1, 2, 3, 4]]\n",
    "tensor = [[[12.4, 10.1], [10.1, 3.0]],\n",
    "          [[22.0,  9.8], [ 9.8, 1.0]],\n",
    "          [[11.0, 13.1], [13.1, 3.4]],\n",
    "          [[41.0, 18.9], [18.9, 2.1]],\n",
    "          [[16.7, 14.7], [14.7, 1.6]],\n",
    "          [[19.2,  8.9], [ 8.9, 2.1]],\n",
    "          [[12.0, 13.1], [13.1, 2.4]],\n",
    "          [[13.2, 11.2], [11.2, 1.5]]]\n",
    "\n",
    "system.atoms_prop(key='scalar', value=scalar)\n",
    "system.atoms_prop(key='vector', value=vector)\n",
    "system.atoms_prop(key='tensor', value=tensor)"
   ]
  },
  {
   "cell_type": "markdown",
   "metadata": {
    "deletable": true,
    "editable": true
   },
   "source": [
    "### Creating dump file without prop_info"
   ]
  },
  {
   "cell_type": "markdown",
   "metadata": {
    "deletable": true,
    "editable": true
   },
   "source": [
    "Save system info to dump file. Set xf='%.3f' to reduce float precision and make it easier to see."
   ]
  },
  {
   "cell_type": "code",
   "execution_count": 4,
   "metadata": {
    "collapsed": false,
    "deletable": true,
    "editable": true
   },
   "outputs": [],
   "source": [
    "lmp.atom_dump.dump(system, 'test.dump', xf='%.3f')"
   ]
  },
  {
   "cell_type": "markdown",
   "metadata": {
    "deletable": true,
    "editable": true
   },
   "source": [
    "Show contents of test.dump"
   ]
  },
  {
   "cell_type": "code",
   "execution_count": 5,
   "metadata": {
    "collapsed": false,
    "deletable": true,
    "editable": true
   },
   "outputs": [
    {
     "name": "stdout",
     "output_type": "stream",
     "text": [
      "ITEM: TIMESTEP\n",
      "0\n",
      "ITEM: NUMBER OF ATOMS\n",
      "8\n",
      "ITEM: BOX BOUNDS pp pp pp\n",
      "0.000000 5.650000\n",
      "0.000000 5.650000\n",
      "0.000000 5.650000\n",
      "ITEM: ATOMS id type x y z scalar vector[1] vector[2] vector[3] vector[4] tensor[1][1] tensor[1][2] tensor[2][1] tensor[2][2]\n",
      "1 1 0.000 0.000 0.000 0.000 1 2 3 4 12.400 10.100 10.100 3.000\n",
      "2 1 2.825 0.000 2.825 1.000 1 2 3 4 22.000 9.800 9.800 1.000\n",
      "3 1 2.825 2.825 0.000 2.000 1 2 3 4 11.000 13.100 13.100 3.400\n",
      "4 1 0.000 2.825 2.825 3.000 1 2 3 4 41.000 18.900 18.900 2.100\n",
      "5 2 1.413 1.413 1.413 4.000 1 2 3 4 16.700 14.700 14.700 1.600\n",
      "6 2 4.238 4.238 1.413 5.000 1 2 3 4 19.200 8.900 8.900 2.100\n",
      "7 2 1.413 4.238 4.238 6.000 1 2 3 4 12.000 13.100 13.100 2.400\n",
      "8 2 4.238 1.413 4.238 7.000 1 2 3 4 13.200 11.200 11.200 1.500\n",
      "\n"
     ]
    }
   ],
   "source": [
    "with open('test.dump') as f:\n",
    "    print(f.read())"
   ]
  },
  {
   "cell_type": "markdown",
   "metadata": {
    "deletable": true,
    "editable": true
   },
   "source": [
    "As you can see, the scalar values remain the same, while vector and tensor values are given corresponding indexes. Also, since the vector values were given as integers they are represented as integers."
   ]
  },
  {
   "cell_type": "markdown",
   "metadata": {
    "deletable": true,
    "editable": true
   },
   "source": [
    "### Default prop_info model\n",
    "\n",
    "Even though a prop_info data model wasn't specified, one was created and saved to the file test.dump.json. Its contents define the property name conversions that were performed on the data.\n",
    "\n",
    "Note that the default prop_info created by [atom_dump.load](atomman.lammps.atom_dump.load) will not be exactly the same."
   ]
  },
  {
   "cell_type": "code",
   "execution_count": 6,
   "metadata": {
    "collapsed": false,
    "deletable": true,
    "editable": true
   },
   "outputs": [
    {
     "name": "stdout",
     "output_type": "stream",
     "text": [
      "{\n",
      "    \"LAMMPS-dump-atoms_prop-relate\": {\n",
      "        \"box_prop\": {\n",
      "            \"unit\": null\n",
      "        }, \n",
      "        \"atoms_prop\": {\n",
      "            \"atype\": {\n",
      "                \"dtype\": \"int\"\n",
      "            }, \n",
      "            \"pos\": {\n",
      "                \"dtype\": \"float\", \n",
      "                \"shape\": 3\n",
      "            }, \n",
      "            \"scalar\": {}, \n",
      "            \"vector\": {\n",
      "                \"shape\": 4\n",
      "            }, \n",
      "            \"tensor\": {\n",
      "                \"shape\": [\n",
      "                    2, \n",
      "                    2\n",
      "                ]\n",
      "            }\n",
      "        }, \n",
      "        \"LAMMPS-attribute\": {\n",
      "            \"type\": {\n",
      "                \"relation\": {\n",
      "                    \"prop\": \"atype\"\n",
      "                }\n",
      "            }, \n",
      "            \"x\": {\n",
      "                \"relation\": {\n",
      "                    \"prop\": \"pos\", \n",
      "                    \"index\": 0\n",
      "                }\n",
      "            }, \n",
      "            \"y\": {\n",
      "                \"relation\": {\n",
      "                    \"prop\": \"pos\", \n",
      "                    \"index\": 1\n",
      "                }\n",
      "            }, \n",
      "            \"z\": {\n",
      "                \"relation\": {\n",
      "                    \"prop\": \"pos\", \n",
      "                    \"index\": 2\n",
      "                }\n",
      "            }, \n",
      "            \"scalar\": {\n",
      "                \"relation\": {\n",
      "                    \"prop\": \"scalar\"\n",
      "                }\n",
      "            }, \n",
      "            \"vector[1]\": {\n",
      "                \"relation\": {\n",
      "                    \"prop\": \"vector\", \n",
      "                    \"index\": 0\n",
      "                }\n",
      "            }, \n",
      "            \"vector[2]\": {\n",
      "                \"relation\": {\n",
      "                    \"prop\": \"vector\", \n",
      "                    \"index\": 1\n",
      "                }\n",
      "            }, \n",
      "            \"vector[3]\": {\n",
      "                \"relation\": {\n",
      "                    \"prop\": \"vector\", \n",
      "                    \"index\": 2\n",
      "                }\n",
      "            }, \n",
      "            \"vector[4]\": {\n",
      "                \"relation\": {\n",
      "                    \"prop\": \"vector\", \n",
      "                    \"index\": 3\n",
      "                }\n",
      "            }, \n",
      "            \"tensor[1][1]\": {\n",
      "                \"relation\": {\n",
      "                    \"prop\": \"tensor\", \n",
      "                    \"index\": [\n",
      "                        0, \n",
      "                        0\n",
      "                    ]\n",
      "                }\n",
      "            }, \n",
      "            \"tensor[1][2]\": {\n",
      "                \"relation\": {\n",
      "                    \"prop\": \"tensor\", \n",
      "                    \"index\": [\n",
      "                        0, \n",
      "                        1\n",
      "                    ]\n",
      "                }\n",
      "            }, \n",
      "            \"tensor[2][1]\": {\n",
      "                \"relation\": {\n",
      "                    \"prop\": \"tensor\", \n",
      "                    \"index\": [\n",
      "                        1, \n",
      "                        0\n",
      "                    ]\n",
      "                }\n",
      "            }, \n",
      "            \"tensor[2][2]\": {\n",
      "                \"relation\": {\n",
      "                    \"prop\": \"tensor\", \n",
      "                    \"index\": [\n",
      "                        1, \n",
      "                        1\n",
      "                    ]\n",
      "                }\n",
      "            }\n",
      "        }\n",
      "    }\n",
      "}\n"
     ]
    }
   ],
   "source": [
    "with open('test.dump.json') as f:\n",
    "    print(f.read())"
   ]
  },
  {
   "cell_type": "markdown",
   "metadata": {
    "deletable": true,
    "editable": true
   },
   "source": [
    "Having the default test.dump.json file also ensures that if test.dump is read back in to atomman using [atom_dump.load](atomman.lammps.atom_dump.load) that all the terms are converted back into the original property names. "
   ]
  },
  {
   "cell_type": "code",
   "execution_count": 7,
   "metadata": {
    "collapsed": false,
    "deletable": true,
    "editable": true
   },
   "outputs": [
    {
     "name": "stdout",
     "output_type": "stream",
     "text": [
      "avect =  [ 5.650,  0.000,  0.000]\n",
      "bvect =  [ 0.000,  5.650,  0.000]\n",
      "cvect =  [ 0.000,  0.000,  5.650]\n",
      "origin = [ 0.000,  0.000,  0.000]\n",
      "natoms = 8\n",
      "natypes = 2\n",
      "     id |   atype |  pos[0] |  pos[1] |  pos[2]\n",
      "      0 |       1 |   0.000 |   0.000 |   0.000\n",
      "      1 |       1 |   2.825 |   0.000 |   2.825\n",
      "      2 |       1 |   2.825 |   2.825 |   0.000\n",
      "      3 |       1 |   0.000 |   2.825 |   2.825\n",
      "      4 |       2 |   1.413 |   1.413 |   1.413\n",
      "      5 |       2 |   4.238 |   4.238 |   1.413\n",
      "      6 |       2 |   1.413 |   4.238 |   4.238\n",
      "      7 |       2 |   4.238 |   1.413 |   4.238\n"
     ]
    }
   ],
   "source": [
    "system = lmp.atom_dump.load('test.dump', prop_info='test.dump.json')\n",
    "print(system)"
   ]
  },
  {
   "cell_type": "code",
   "execution_count": 8,
   "metadata": {
    "collapsed": false,
    "deletable": true,
    "editable": true
   },
   "outputs": [
    {
     "name": "stdout",
     "output_type": "stream",
     "text": [
      "[0 1 2 3 4 5 6 7]\n"
     ]
    }
   ],
   "source": [
    "print(system.atoms_prop(key='scalar'))"
   ]
  },
  {
   "cell_type": "markdown",
   "metadata": {
    "deletable": true,
    "editable": true
   },
   "source": [
    "__BUG!__ Float values of 'scalar' not retained!"
   ]
  },
  {
   "cell_type": "code",
   "execution_count": 9,
   "metadata": {
    "collapsed": false,
    "deletable": true,
    "editable": true
   },
   "outputs": [
    {
     "name": "stdout",
     "output_type": "stream",
     "text": [
      "[[1 2 3 4]\n",
      " [1 2 3 4]\n",
      " [1 2 3 4]\n",
      " [1 2 3 4]\n",
      " [1 2 3 4]\n",
      " [1 2 3 4]\n",
      " [1 2 3 4]\n",
      " [1 2 3 4]]\n"
     ]
    }
   ],
   "source": [
    "print(system.atoms_prop(key='vector'))"
   ]
  },
  {
   "cell_type": "code",
   "execution_count": 10,
   "metadata": {
    "collapsed": false,
    "deletable": true,
    "editable": true
   },
   "outputs": [
    {
     "name": "stdout",
     "output_type": "stream",
     "text": [
      "[[[ 12.4  10.1]\n",
      "  [ 10.1   3. ]]\n",
      "\n",
      " [[ 22.    9.8]\n",
      "  [  9.8   1. ]]\n",
      "\n",
      " [[ 11.   13.1]\n",
      "  [ 13.1   3.4]]\n",
      "\n",
      " [[ 41.   18.9]\n",
      "  [ 18.9   2.1]]\n",
      "\n",
      " [[ 16.7  14.7]\n",
      "  [ 14.7   1.6]]\n",
      "\n",
      " [[ 19.2   8.9]\n",
      "  [  8.9   2.1]]\n",
      "\n",
      " [[ 12.   13.1]\n",
      "  [ 13.1   2.4]]\n",
      "\n",
      " [[ 13.2  11.2]\n",
      "  [ 11.2   1.5]]]\n"
     ]
    }
   ],
   "source": [
    "print(system.atoms_prop(key='tensor'))"
   ]
  },
  {
   "cell_type": "markdown",
   "metadata": {
    "deletable": true,
    "editable": true
   },
   "source": [
    "### Customizing prop_info\n",
    "\n",
    "The prop_info data model specifies how atomman interprets and converts properties between LAMMPS dump files and System objects. It provides the ability to fully define the metadata associated with a LAMMPS dump file so that terms and values can be appropriately interpreted without knowledge of LAMMPS settings and user-defined properties. And you only have to create one prop_info model for a specific simulation/System!\n",
    "\n",
    "A demonstration is given below. More information on the meaning of the different terms can be found in the [prop_info Notebook](../data_models/prop_info.ipynb)."
   ]
  },
  {
   "cell_type": "markdown",
   "metadata": {
    "deletable": true,
    "editable": true
   },
   "source": [
    "Rather than starting from scratch, it is easiest to call atom_data.dump to generate the default model, then fill in missing values.  Here, I've adapted the model above by \n",
    "\n",
    "1. Giving nm units for the box vectors (LAMMPS-dump-atoms_prop-relate -> box_prop -> unit) \n",
    "2. Specifying that vector should be in floats (LAMMPS-dump-atoms_prop-relate -> atoms_prop -> vector -> dtype) \n",
    "3. Giving nm units for the pos x,y,z terms (LAMMPS-dump-atoms_prop-relate -> LAMMPS-attribute -> x,y,z -> relation -> unit) \n",
    "4. Giving GPa units for the scalar term (LAMMPS-dump-atoms_prop-relate -> LAMMPS-attribute -> scalar -> relation -> unit) \n",
    "5. Renaming scalar and vector conversion names (LAMMPS-dump-atoms_prop-relate -> LAMMPS-attribute)\n",
    "6. Deleting the tensor information from both atoms_prop and LAMMPS-attribute"
   ]
  },
  {
   "cell_type": "code",
   "execution_count": 11,
   "metadata": {
    "collapsed": false,
    "deletable": true,
    "editable": true
   },
   "outputs": [],
   "source": [
    "prop_info = \"\"\"{\n",
    "    \"LAMMPS-dump-atoms_prop-relate\": {\n",
    "        \"box_prop\": {\n",
    "            \"unit\": \"nm\"\n",
    "        }, \n",
    "        \"atoms_prop\": {\n",
    "            \"atype\": {\n",
    "                \"dtype\": \"int\"\n",
    "            }, \n",
    "            \"pos\": {\n",
    "                \"dtype\": \"float\", \n",
    "                \"shape\": 3\n",
    "            }, \n",
    "            \"scalar\": {}, \n",
    "            \"vector\": {\n",
    "                \"dtype\": \"float\",\n",
    "                \"shape\": 4                \n",
    "            }\n",
    "        }, \n",
    "        \"LAMMPS-attribute\": {\n",
    "            \"type\": {\n",
    "                \"relation\": {\n",
    "                    \"prop\": \"atype\"\n",
    "                }\n",
    "            }, \n",
    "            \"x\": {\n",
    "                \"relation\": {\n",
    "                    \"prop\": \"pos\", \n",
    "                    \"index\": 0,\n",
    "                    \"unit\": \"nm\"\n",
    "                }\n",
    "            }, \n",
    "            \"y\": {\n",
    "                \"relation\": {\n",
    "                    \"prop\": \"pos\", \n",
    "                    \"index\": 1,\n",
    "                    \"unit\": \"nm\"\n",
    "                }\n",
    "            }, \n",
    "            \"z\": {\n",
    "                \"relation\": {\n",
    "                    \"prop\": \"pos\", \n",
    "                    \"index\": 2,\n",
    "                    \"unit\": \"nm\"\n",
    "                }\n",
    "            }, \n",
    "            \"singular\": {\n",
    "                \"relation\": {\n",
    "                    \"prop\": \"scalar\",\n",
    "                    \"unit\": \"GPa\"\n",
    "                }\n",
    "            }, \n",
    "            \"first\": {\n",
    "                \"relation\": {\n",
    "                    \"prop\": \"vector\", \n",
    "                    \"index\": 0\n",
    "                }\n",
    "            }, \n",
    "            \"second\": {\n",
    "                \"relation\": {\n",
    "                    \"prop\": \"vector\", \n",
    "                    \"index\": 1\n",
    "                }\n",
    "            }, \n",
    "            \"third\": {\n",
    "                \"relation\": {\n",
    "                    \"prop\": \"vector\", \n",
    "                    \"index\": 2\n",
    "                }\n",
    "            }, \n",
    "            \"fourth\": {\n",
    "                \"relation\": {\n",
    "                    \"prop\": \"vector\", \n",
    "                    \"index\": 3\n",
    "                }\n",
    "            }\n",
    "        }\n",
    "    }\n",
    "}\"\"\""
   ]
  },
  {
   "cell_type": "markdown",
   "metadata": {
    "deletable": true,
    "editable": true
   },
   "source": [
    "Now, creating a dump file will reflect these changes:\n",
    "\n",
    "- LAMMPS property names are now different\n",
    "- box and position values scaled from angstroms to nm\n",
    "- scalar/singular scaled from default atomman units to GPa\n",
    "- tensor values are gone\n",
    "- vector values still represented as ints (bug?)"
   ]
  },
  {
   "cell_type": "code",
   "execution_count": 12,
   "metadata": {
    "collapsed": false,
    "deletable": true,
    "editable": true
   },
   "outputs": [
    {
     "name": "stdout",
     "output_type": "stream",
     "text": [
      "ITEM: TIMESTEP\n",
      "0\n",
      "ITEM: NUMBER OF ATOMS\n",
      "8\n",
      "ITEM: BOX BOUNDS pp pp pp\n",
      "0.000000 0.565000\n",
      "0.000000 0.565000\n",
      "0.000000 0.565000\n",
      "ITEM: ATOMS id type x y z singular first second third fourth\n",
      "1 1 0.00000 0.00000 0.00000 0 1 2 3 4\n",
      "2 1 0.28250 0.00000 0.28250 160 1 2 3 4\n",
      "3 1 0.28250 0.28250 0.00000 320 1 2 3 4\n",
      "4 1 0.00000 0.28250 0.28250 480 1 2 3 4\n",
      "5 2 0.14130 0.14130 0.14130 640 1 2 3 4\n",
      "6 2 0.42380 0.42380 0.14130 801 1 2 3 4\n",
      "7 2 0.14130 0.42380 0.42380 961 1 2 3 4\n",
      "8 2 0.42380 0.14130 0.42380 1121 1 2 3 4\n",
      "\n"
     ]
    }
   ],
   "source": [
    "lmp.atom_dump.dump(system, 'test.dump', xf='%.5f', prop_info=prop_info)\n",
    "with open('test.dump') as f:\n",
    "    print(f.read())"
   ]
  },
  {
   "cell_type": "markdown",
   "metadata": {
    "deletable": true,
    "editable": true
   },
   "source": [
    "__File Cleanup__"
   ]
  },
  {
   "cell_type": "code",
   "execution_count": 13,
   "metadata": {
    "collapsed": false,
    "deletable": true,
    "editable": true
   },
   "outputs": [],
   "source": [
    "os.remove('test.dump')\n",
    "os.remove('test.dump.json')"
   ]
  },
  {
   "cell_type": "markdown",
   "metadata": {
    "deletable": true,
    "editable": true
   },
   "source": [
    "- - -\n",
    "__Docs Navigation:__\n",
    "\n",
    "Tutorial:\n",
    "\n",
    "1. [Basics](../tutorial/1 Basics.ipynb)\n",
    "\n",
    "2. [LAMMPS Functionality](../tutorial/2 LAMMPS Functionality.ipynb)\n",
    "\n",
    "3. [Defect Generation and Evaluation](../tutorial/3 Defect Generation and Evaluation.ipynb)\n",
    "\n",
    "\n",
    "Reference:\n",
    "\n",
    "- [atomman](../reference/atomman.ipynb)\n",
    "\n",
    "- [atomman.convert](../reference/atomman.convert.ipynb)\n",
    "\n",
    "- [atomman.defect](../reference/atomman.defect.ipynb)\n",
    "\n",
    "- [atomman.lammps](../reference/atomman.lammps.ipynb)\n",
    "\n",
    "- [atomman.tools](../reference/atomman.tools.ipynb)\n",
    "\n",
    "- [atomman.unitconvert](../reference/atomman.unitconvert.ipynb)"
   ]
  }
 ],
 "metadata": {
  "kernelspec": {
   "display_name": "Python 2",
   "language": "python",
   "name": "python2"
  },
  "language_info": {
   "codemirror_mode": {
    "name": "ipython",
    "version": 2
   },
   "file_extension": ".py",
   "mimetype": "text/x-python",
   "name": "python",
   "nbconvert_exporter": "python",
   "pygments_lexer": "ipython2",
   "version": "2.7.13"
  }
 },
 "nbformat": 4,
 "nbformat_minor": 0
}
