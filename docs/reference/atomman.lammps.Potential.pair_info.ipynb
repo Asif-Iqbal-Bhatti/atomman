{
 "cells": [
  {
   "cell_type": "markdown",
   "metadata": {},
   "source": [
    "# atomman.lammps.Potential.pair_info(self, symbols=None)\n",
    "- - -"
   ]
  },
  {
   "cell_type": "markdown",
   "metadata": {},
   "source": [
    "**Lucas M. Hale**, [lucas.hale@nist.gov](mailto:lucas.hale@nist.gov?Subject=ipr-demo), *Materials Science and Engineering Division, NIST*.\n",
    "\n",
    "**Chandler A. Becker**, [chandler.becker@nist.gov](mailto:chandler.becker@nist.gov?Subject=ipr-demo), *Office of Data and Informatics, NIST*.\n",
    "\n",
    "**Zachary T. Trautt**, [zachary.trautt@nist.gov](mailto:zachary.trautt@nist.gov?Subject=ipr-demo), *Materials Measurement Science Division, NIST*.\n",
    "\n",
    "Version: 2016-09-02\n",
    "\n",
    "[Disclaimers](http://www.nist.gov/public_affairs/disclaimer.cfm) \n",
    " \n",
    "- - -"
   ]
  },
  {
   "cell_type": "markdown",
   "metadata": {},
   "source": [
    "## Introduction\n",
    "\n",
    "The Potential.pair_info method generates the LAMMPS input command lines for properly running a simulation using the Potential. In particular, this include the LAMMPS commands \"mass\", \"pair_style\", \"pair_coeff\", and any potential specific commands.\n",
    "\n",
    "Keyword Argument:\n",
    "\n",
    "- __symbols__ -- a list of the potentials atom-model symbols to retrieve values for. This list of symbols directly corresponds to the atom types of the atomic system in the LAMMPS simulation. If value is None (default) then [Potential.symbols](atomman.lammps.Potential.symbols.ipynb) is used.\n",
    "\n",
    "The underlying code can be found in [atomman/lammps/Potential.py](../../atomman/lammps/Potential.py).\n",
    "\n",
    "- - -"
   ]
  },
  {
   "cell_type": "markdown",
   "metadata": {},
   "source": [
    "## Demonstration"
   ]
  },
  {
   "cell_type": "markdown",
   "metadata": {},
   "source": [
    "Library Imports"
   ]
  },
  {
   "cell_type": "code",
   "execution_count": 1,
   "metadata": {
    "collapsed": true
   },
   "outputs": [],
   "source": [
    "import atomman.lammps as lmp"
   ]
  },
  {
   "cell_type": "markdown",
   "metadata": {},
   "source": [
    "Create a demonstration LAMMPS-potential data model. A description of the LAMMPS-potential data model and more examples can be found in the [LAMMPS-potential Notebook]()."
   ]
  },
  {
   "cell_type": "code",
   "execution_count": 2,
   "metadata": {
    "collapsed": true
   },
   "outputs": [],
   "source": [
    "eam_alloy_json = \"\"\"{\n",
    "    \"LAMMPS-potential\": {\n",
    "        \"potential\": {\n",
    "            \"key\": \"820738a9-f556-468b-9041-9d98351ff751\",\n",
    "            \"id\": \"EAM-demo\"\n",
    "        },\n",
    "        \"units\": \"metal\",\n",
    "        \"atom_style\": \"atomic\",\n",
    "        \"atom\": [\n",
    "            {\n",
    "                \"element\": \"Ni\",\n",
    "                \"mass\": 58.6934\n",
    "            },\n",
    "            {\n",
    "                \"element\": \"Al\",\n",
    "                \"mass\": 26.981539\n",
    "            },\n",
    "            {\n",
    "                \"element\": \"Co\",\n",
    "                \"mass\": 58.9332\n",
    "            }\n",
    "        ],\n",
    "        \"pair_style\": {\n",
    "            \"type\": \"eam/alloy\"\n",
    "        },\n",
    "        \"pair_coeff\": {\n",
    "            \"term\": [\n",
    "                {\n",
    "                    \"file\": \"file.eam.alloy\"\n",
    "                },\n",
    "                {\n",
    "                    \"symbols\": \"True\"\n",
    "                }\n",
    "            ]\n",
    "        }\n",
    "    }\n",
    "}\"\"\""
   ]
  },
  {
   "cell_type": "markdown",
   "metadata": {},
   "source": [
    "Initialize a Potential using the data model"
   ]
  },
  {
   "cell_type": "code",
   "execution_count": 3,
   "metadata": {
    "collapsed": false
   },
   "outputs": [],
   "source": [
    "potential = lmp.Potential(eam_alloy_json)"
   ]
  },
  {
   "cell_type": "markdown",
   "metadata": {},
   "source": [
    "Calling Potential.pair_info() without specifying symbols will return information for every atom-model in the Potential"
   ]
  },
  {
   "cell_type": "code",
   "execution_count": 4,
   "metadata": {
    "collapsed": false
   },
   "outputs": [
    {
     "name": "stdout",
     "output_type": "stream",
     "text": [
      "mass 1 58.693400\n",
      "mass 2 26.981539\n",
      "mass 3 58.933200\n",
      "\n",
      "pair_style eam/alloy\n",
      "pair_coeff * * file.eam.alloy Ni Al Co\n",
      "\n"
     ]
    }
   ],
   "source": [
    "print potential.pair_info()"
   ]
  },
  {
   "cell_type": "markdown",
   "metadata": {},
   "source": [
    "These lines are dynamically generated for the list of symbols supplied to it. The symbols list indicates the atom-model to assoicate with every single atom type of a system."
   ]
  },
  {
   "cell_type": "code",
   "execution_count": 5,
   "metadata": {
    "collapsed": false
   },
   "outputs": [
    {
     "name": "stdout",
     "output_type": "stream",
     "text": [
      "mass 1 58.693400\n",
      "\n",
      "pair_style eam/alloy\n",
      "pair_coeff * * file.eam.alloy Ni\n",
      "\n"
     ]
    }
   ],
   "source": [
    "print potential.pair_info('Ni')"
   ]
  },
  {
   "cell_type": "code",
   "execution_count": 6,
   "metadata": {
    "collapsed": false
   },
   "outputs": [
    {
     "name": "stdout",
     "output_type": "stream",
     "text": [
      "mass 1 58.933200\n",
      "mass 2 58.693400\n",
      "\n",
      "pair_style eam/alloy\n",
      "pair_coeff * * file.eam.alloy Co Ni\n",
      "\n"
     ]
    }
   ],
   "source": [
    "print potential.pair_info(['Co', 'Ni'])"
   ]
  },
  {
   "cell_type": "code",
   "execution_count": 7,
   "metadata": {
    "collapsed": false
   },
   "outputs": [
    {
     "name": "stdout",
     "output_type": "stream",
     "text": [
      "mass 1 58.933200\n",
      "mass 2 58.693400\n",
      "mass 3 58.933200\n",
      "mass 4 26.981539\n",
      "\n",
      "pair_style eam/alloy\n",
      "pair_coeff * * file.eam.alloy Co Ni Co Al\n",
      "\n"
     ]
    }
   ],
   "source": [
    "print potential.pair_info(['Co', 'Ni', 'Co', 'Al'])"
   ]
  },
  {
   "cell_type": "markdown",
   "metadata": {
    "collapsed": true
   },
   "source": [
    "__Docs Navigation:__\n",
    "\n",
    "Tutorial:\n",
    "\n",
    "1. [Basics](../tutorial/1 Basics.ipynb)\n",
    "\n",
    "2. [LAMMPS Functionality](../tutorial/2 LAMMPS Functionality.ipynb)\n",
    "\n",
    "3. [Defect Generation and Evaluation](../tutorial/3 Defect Generation and Evaluation.ipynb)\n",
    "\n",
    "\n",
    "Reference:\n",
    "\n",
    "- [atomman](../reference/atomman.ipynb)\n",
    "\n",
    "- [atomman.convert](../reference/atomman.convert.ipynb)\n",
    "\n",
    "- [atomman.defect](../reference/atomman.defect.ipynb)\n",
    "\n",
    "- [atomman.lammps](../reference/atomman.lammps.ipynb)\n",
    "\n",
    "- [atomman.tools](../reference/atomman.tools.ipynb)\n",
    "\n",
    "- [atomman.unitconvert](../reference/atomman.unitconvert.ipynb)"
   ]
  }
 ],
 "metadata": {
  "kernelspec": {
   "display_name": "Python 2",
   "language": "python",
   "name": "python2"
  },
  "language_info": {
   "codemirror_mode": {
    "name": "ipython",
    "version": 2
   },
   "file_extension": ".py",
   "mimetype": "text/x-python",
   "name": "python",
   "nbconvert_exporter": "python",
   "pygments_lexer": "ipython2",
   "version": "2.7.11"
  }
 },
 "nbformat": 4,
 "nbformat_minor": 0
}
