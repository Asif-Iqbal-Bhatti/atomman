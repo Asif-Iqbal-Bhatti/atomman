{
 "cells": [
  {
   "cell_type": "markdown",
   "metadata": {
    "deletable": true,
    "editable": true
   },
   "source": [
    "# atomman.Box Class\n",
    "\n",
    "- - -"
   ]
  },
  {
   "cell_type": "markdown",
   "metadata": {
    "deletable": true,
    "editable": true
   },
   "source": [
    "**Lucas M. Hale**, [lucas.hale@nist.gov](mailto:lucas.hale@nist.gov?Subject=ipr-demo), *Materials Science and Engineering Division, NIST*.\n",
    "\n",
    "**Chandler A. Becker**, [chandler.becker@nist.gov](mailto:chandler.becker@nist.gov?Subject=ipr-demo), *Office of Data and Informatics, NIST*.\n",
    "\n",
    "**Zachary T. Trautt**, [zachary.trautt@nist.gov](mailto:zachary.trautt@nist.gov?Subject=ipr-demo), *Materials Measurement Science Division, NIST*.\n",
    "\n",
    "Version: 2017-04-19\n",
    "\n",
    "[Disclaimers](http://www.nist.gov/public_affairs/disclaimer.cfm) \n",
    " \n",
    "- - -"
   ]
  },
  {
   "cell_type": "markdown",
   "metadata": {
    "deletable": true,
    "editable": true
   },
   "source": [
    "## Introduction\n",
    "\n",
    "Class Box represents a generic parallelepiped for defining the area of an atomic system (including a unit cell).  The class methods control how a Box instance can be specified and allow for the Box's information to be retrieved in a variety of formats. \n",
    "\n",
    "The Box is represented by three box edge vectors avect, bvect, cvect, and an origin position, all of which are 3D vectors. The eight corners of the box are given by:\n",
    "\n",
    "- origin\n",
    "- origin + avect\n",
    "- origin + bvect\n",
    "- origin + cvect\n",
    "- origin + avect + bvect\n",
    "- origin + avect + cvect\n",
    "- origin + bvect + cvect\n",
    "- origin + avect + bvect + cvect\n",
    "\n",
    "Due to the various representations of the parameters, a Box can only be defined/changed by supplying an unambiguous set of parameters. This is controlled by the various set methods and which attributes are read-only.\n",
    "\n",
    "The underlying code can be found in [atomman/core/Box.py](../../atomman/core/Box.py).\n",
    "\n",
    "- - -"
   ]
  },
  {
   "cell_type": "markdown",
   "metadata": {
    "deletable": true,
    "editable": true
   },
   "source": [
    "## Class Methods of atomman.Box\n",
    "\n",
    "- [\\__init__(self, \\**kwargs)](atomman.Box.__init__.ipynb) -- class initializer.\n",
    "\n",
    "- [\\__str__(self)](atomman.Box.__str__.ipynb) -- generates string output of the class.\n",
    "\n",
    "- [set(self, \\**kwargs)](atomman.Box.set.ipynb) -- calls one of the other set methods if keyword arguments form a full parameter set.\n",
    "\n",
    "- [set_vectors(self, avect, bvect, cvect, origin=[0.0, 0.0, 0.0]))](atomman.Box.set_vectors.ipynb) -- set box using three separate box vectors.\n",
    "\n",
    "- [set_abc(self, a, b, c, alpha=90.0, beta=90.0, gamma=90.0, origin=[0.0, 0.0, 0.0]](atomman.Box.set_abc.ipynb) -- set box using crystallographic parameters.\n",
    "    \n",
    "- [set_lengths(self, lx, ly, lz, xy=0.0, xz=0.0, yz=0.0, origin=[0.0, 0.0, 0.0]](atomman.Box.set_lengths.ipynb) -- set box with LAMMPS box lengths and tilt-factors.\n",
    "    \n",
    "- [set_hi_los(self, xlo, xhi, ylo, yhi, zlo, zhi, xy=0.0, xz=0.0, yz=0.0)](atomman.Box.set_hi_los.ipynb) -- set box with LAMMPS box limits and tilt-factors.\n",
    "    \n",
    "- [is_lammps_norm(self)](atomman.Box.is_lammps_norm.ipynb) -- returns True if box vectors are LAMMPS compatible with LAMMPS."
   ]
  },
  {
   "cell_type": "markdown",
   "metadata": {
    "deletable": true,
    "editable": true
   },
   "source": [
    "## Class Attributes of atomman.Box\n",
    "\n",
    "- [vects](atomman.Box.vects.ipynb) -- 3x3 array of box vectors.\n",
    "\n",
    "- [avect, bvect, cvect](atomman.Box.vectors.ipynb) -- the individual box vectors. Cannot be directly changed.\n",
    "\n",
    "- [origin](atomman.Box.origin.ipynb) -- position vector of box origin.\n",
    "\n",
    "- [a, b, c](atomman.Box.abcs.ipynb) -- crystal lattice parameters. Cannot be directly changed.\n",
    "\n",
    "- [alpha, beta, gamma](atomman.Box.angles.ipynb) -- crystal lattice angles. Cannot be directly changed.\n",
    "\n",
    "- [lx, ly, lz](atomman.Box.lengths.ipynb) -- LAMMPS-style box lengths. Cannot be directly changed. Requires that Box vectors be compatible with LAMMPS.\n",
    "\n",
    "- [xy, xz, yz](atomman.Box.tilts.ipynb) -- LAMMPS-style tilt factors. Cannot be directly changed. Requires that Box vectors be compatible with LAMMPS.\n",
    "\n",
    "- [xlo, xhi, ylo, yhi, zlo, zhi](atomman.Box.hi_los.ipynb) -- LAMMPS-style hi/lo parameters. Cannot be directly changed. Requires that Box vectors be compatible with LAMMPS."
   ]
  },
  {
   "cell_type": "markdown",
   "metadata": {
    "deletable": true,
    "editable": true
   },
   "source": [
    "## Relationships Between the Attributes\n",
    "\n",
    "The vector and crystallographic parameters are related using:\n",
    "\n",
    "- vects = [avect, bvect, cvect]\n",
    "\n",
    "- a = magnitude of avect\n",
    "\n",
    "- b = magnitude of bvect\n",
    "\n",
    "- c = magnitude of cvect\n",
    "\n",
    "- alpha = angle between bvect and cvect\n",
    "\n",
    "- beta = angle between avect and cvect\n",
    "\n",
    "- gamma = angle between avect and bvect\n",
    "\n",
    "The LAMMPS-style parameters require that the box vectors be compatible with how LAMMPS defines the boxes. If they are, then they are related using:\n",
    "\n",
    "- avect = [ lx, 0.0, 0.0]\n",
    "\n",
    "- bvect = [ xy,  ly, 0.0]\n",
    "\n",
    "- cvect = [ xz,  yz,  lz]\n",
    "\n",
    "- lx = xhi - xlo\n",
    "\n",
    "- ly = yhi - ylo\n",
    "\n",
    "- lz = zhi - zlo\n",
    "\n",
    "- origin = [xlo, ylo, zlo]"
   ]
  },
  {
   "cell_type": "markdown",
   "metadata": {
    "deletable": true,
    "editable": true
   },
   "source": [
    "__Docs Navigation:__\n",
    "\n",
    "Tutorial:\n",
    "\n",
    "1. [Basics](../tutorial/1 Basics.ipynb)\n",
    "\n",
    "2. [LAMMPS Functionality](../tutorial/2 LAMMPS Functionality.ipynb)\n",
    "\n",
    "3. [Defect Generation and Evaluation](../tutorial/3 Defect Generation and Evaluation.ipynb)\n",
    "\n",
    "\n",
    "Reference:\n",
    "\n",
    "- [atomman](../reference/atomman.ipynb)\n",
    "\n",
    "- [atomman.convert](../reference/atomman.convert.ipynb)\n",
    "\n",
    "- [atomman.defect](../reference/atomman.defect.ipynb)\n",
    "\n",
    "- [atomman.lammps](../reference/atomman.lammps.ipynb)\n",
    "\n",
    "- [atomman.tools](../reference/atomman.tools.ipynb)\n",
    "\n",
    "- [atomman.unitconvert](../reference/atomman.unitconvert.ipynb)"
   ]
  }
 ],
 "metadata": {
  "kernelspec": {
   "display_name": "Python 2",
   "language": "python",
   "name": "python2"
  },
  "language_info": {
   "codemirror_mode": {
    "name": "ipython",
    "version": 2
   },
   "file_extension": ".py",
   "mimetype": "text/x-python",
   "name": "python",
   "nbconvert_exporter": "python",
   "pygments_lexer": "ipython2",
   "version": "2.7.13"
  }
 },
 "nbformat": 4,
 "nbformat_minor": 0
}
