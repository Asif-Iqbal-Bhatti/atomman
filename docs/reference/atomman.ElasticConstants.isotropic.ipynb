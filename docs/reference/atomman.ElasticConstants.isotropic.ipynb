{
 "cells": [
  {
   "cell_type": "markdown",
   "metadata": {
    "deletable": true,
    "editable": true
   },
   "source": [
    "# atomman.ElasticConstants.isotropic(self, \\**kwargs)\n",
    "- - -"
   ]
  },
  {
   "cell_type": "markdown",
   "metadata": {
    "deletable": true,
    "editable": true
   },
   "source": [
    "**Lucas M. Hale**, [lucas.hale@nist.gov](mailto:lucas.hale@nist.gov?Subject=ipr-demo), *Materials Science and Engineering Division, NIST*.\n",
    "\n",
    "**Chandler A. Becker**, [chandler.becker@nist.gov](mailto:chandler.becker@nist.gov?Subject=ipr-demo), *Office of Data and Informatics, NIST*.\n",
    "\n",
    "**Zachary T. Trautt**, [zachary.trautt@nist.gov](mailto:zachary.trautt@nist.gov?Subject=ipr-demo), *Materials Measurement Science Division, NIST*.\n",
    "\n",
    "Version: 2017-04-20\n",
    "\n",
    "[Disclaimers](http://www.nist.gov/public_affairs/disclaimer.cfm) \n",
    " \n",
    "- - -"
   ]
  },
  {
   "cell_type": "markdown",
   "metadata": {
    "deletable": true,
    "editable": true
   },
   "source": [
    "## Introduction\n",
    "\n",
    "ElasticConstants.isotropic allows for an ElasticConstants to be changed by supplying isotropic elastic components. Exactly two unique arguments are required.\n",
    "\n",
    "Keyword Arguments:\n",
    "\n",
    "- __C11__ -- component of Cij\n",
    "\n",
    "- __C12__ -- component of Cij\n",
    "\n",
    "- __C44__ -- component of Cij\n",
    "\n",
    "- __E__ -- Young's modulus\n",
    "\n",
    "- __K__ -- bulk modulus\n",
    "\n",
    "- __lambda__ -- Lame's first parameter (cannot be given with C12)\n",
    "\n",
    "- __M__ -- P-wave modulus (cannot be given with C11)\n",
    "\n",
    "- __mu__ -- shear modulus (cannot be given with C44)\n",
    "\n",
    "- __v__ -- Poisson's ratio\n",
    "\n",
    "\n",
    "The generated tensor is of the form\n",
    "\n",
    "$$C_{ij} = \\left[ \\begin{array}{ccc}\n",
    "C_{11} & C_{12} & C_{12} & 0.0    & 0.0    & 0.0 \\\\\n",
    "C_{12} & C_{11} & C_{12} & 0.0    & 0.0    & 0.0 \\\\\n",
    "C_{12} & C_{12} & C_{11} & 0.0    & 0.0    & 0.0 \\\\\n",
    "0.0    & 0.0    & 0.0    & C_{44} & 0.0    & 0.0 \\\\\n",
    "0.0    & 0.0    & 0.0    & 0.0    & C_{44} & 0.0 \\\\\n",
    "0.0    & 0.0    & 0.0    & 0.0    & 0.0    & C_{44} \n",
    "\\end{array} \\right]$$\n",
    "\n",
    "where \n",
    "\n",
    "$$ C_{44} = \\frac{C_{11} - C_{12}}{2} $$.\n",
    "\n",
    "\n",
    "There are numerous relationships between the different isotropic terms. The following are the ones used by this method:\n",
    "\n",
    "$$ \n",
    "C_{11} = \n",
    " M = C_{12} + 2 C_{44}$$\n",
    "\n",
    "$$ \n",
    "C_{12} = \n",
    " \\lambda = C_{11} - 2 C_{44} =\n",
    " \\frac{C_{44} \\left(E - 2 C_{44} \\right)} {3 C_{44} - E} = \n",
    " \\frac{2 C_{44} \\nu}{1 - 2\\nu} =\n",
    " \\frac{K - 2 C_{44}}{3} =\n",
    " \\frac{E \\nu}{(1 + \\nu)(1 - 2  \\nu)} =\n",
    " \\frac{3 K (3 K - E)}{9 K - E} =\n",
    " \\frac{3 K \\nu}{1 + \\nu}\n",
    "$$\n",
    "\n",
    "$$ \n",
    "C_{44} = \n",
    " \\mu = \\frac{C_{11} - C_{12}}{2} =\n",
    " \\frac{3 C_{11} + E - \\sqrt{E^2 + 9 C_{11}^2 - 10 E C_{11}}}{8} = \n",
    " \\frac{C_{11} (1 - 2 \\nu)}{2 (1 - \\nu)} =\n",
    " \\frac{3 (C_{11} - K)}{4} =\n",
    " \\frac{E - 3 C_{12} + \\sqrt{E^2 + 9 C_{12}^2 + 2 E C_{12}}}{4} =\n",
    " \\frac{C_{12} (1 - 2 \\nu)}{2 \\nu} =\n",
    " \\frac{3 (K - C_{12})}{2} =\n",
    " \\frac{E}{2 (1 + \\nu)} =\n",
    " \\frac{3 K E}{9 K - E} =\n",
    " \\frac{3 K (1 - 2 \\nu)}{2 (1 + \\nu)}\n",
    "$$\n",
    "\n",
    "The underlying code can be found in [atomman/core/ElasticConstants.py](../../atomman/core/ElasticConstants.py)."
   ]
  },
  {
   "cell_type": "markdown",
   "metadata": {
    "deletable": true,
    "editable": true
   },
   "source": [
    "## Demonstration"
   ]
  },
  {
   "cell_type": "markdown",
   "metadata": {
    "deletable": true,
    "editable": true
   },
   "source": [
    "Library Imports"
   ]
  },
  {
   "cell_type": "code",
   "execution_count": 1,
   "metadata": {
    "collapsed": true,
    "deletable": true,
    "editable": true
   },
   "outputs": [],
   "source": [
    "#Standard libraries\n",
    "from __future__ import print_function\n",
    "\n",
    "#https://github.com/usnistgov/atomman \n",
    "import atomman as am"
   ]
  },
  {
   "cell_type": "code",
   "execution_count": 2,
   "metadata": {
    "collapsed": false,
    "deletable": true,
    "editable": true
   },
   "outputs": [
    {
     "name": "stdout",
     "output_type": "stream",
     "text": [
      "[[ 100.    65.    65.     0.     0.     0. ]\n",
      " [  65.   100.    65.     0.     0.     0. ]\n",
      " [  65.    65.   100.     0.     0.     0. ]\n",
      " [   0.     0.     0.    17.5    0.     0. ]\n",
      " [   0.     0.     0.     0.    17.5    0. ]\n",
      " [   0.     0.     0.     0.     0.    17.5]]\n"
     ]
    }
   ],
   "source": [
    "c = am.ElasticConstants()\n",
    "c.isotropic(C11=100, C12=65)\n",
    "print(c)"
   ]
  },
  {
   "cell_type": "code",
   "execution_count": 3,
   "metadata": {
    "collapsed": false
   },
   "outputs": [
    {
     "name": "stdout",
     "output_type": "stream",
     "text": [
      "[[ 102.   34.   34.    0.    0.    0.]\n",
      " [  34.  102.   34.    0.    0.    0.]\n",
      " [  34.   34.  102.    0.    0.    0.]\n",
      " [   0.    0.    0.   34.    0.    0.]\n",
      " [   0.    0.    0.    0.   34.    0.]\n",
      " [   0.    0.    0.    0.    0.   34.]]\n"
     ]
    }
   ],
   "source": [
    "c.isotropic(E=85, v=0.25)\n",
    "print(c)"
   ]
  },
  {
   "cell_type": "code",
   "execution_count": 4,
   "metadata": {
    "collapsed": false
   },
   "outputs": [
    {
     "name": "stdout",
     "output_type": "stream",
     "text": [
      "[[ 100.   40.   40.    0.    0.    0.]\n",
      " [  40.  100.   40.    0.    0.    0.]\n",
      " [  40.   40.  100.    0.    0.    0.]\n",
      " [   0.    0.    0.   30.    0.    0.]\n",
      " [   0.    0.    0.    0.   30.    0.]\n",
      " [   0.    0.    0.    0.    0.   30.]]\n"
     ]
    }
   ],
   "source": [
    "c.isotropic(K=60, mu=30)\n",
    "print(c)"
   ]
  },
  {
   "cell_type": "markdown",
   "metadata": {
    "collapsed": true,
    "deletable": true,
    "editable": true
   },
   "source": [
    "__Docs Navigation:__\n",
    "\n",
    "Tutorial:\n",
    "\n",
    "1. [Basics](../tutorial/1 Basics.ipynb)\n",
    "\n",
    "2. [LAMMPS Functionality](../tutorial/2 LAMMPS Functionality.ipynb)\n",
    "\n",
    "3. [Defect Generation and Evaluation](../tutorial/3 Defect Generation and Evaluation.ipynb)\n",
    "\n",
    "\n",
    "Reference:\n",
    "\n",
    "- [atomman](../reference/atomman.ipynb)\n",
    "\n",
    "- [atomman.convert](../reference/atomman.convert.ipynb)\n",
    "\n",
    "- [atomman.defect](../reference/atomman.defect.ipynb)\n",
    "\n",
    "- [atomman.lammps](../reference/atomman.lammps.ipynb)\n",
    "\n",
    "- [atomman.tools](../reference/atomman.tools.ipynb)\n",
    "\n",
    "- [atomman.unitconvert](../reference/atomman.unitconvert.ipynb)"
   ]
  }
 ],
 "metadata": {
  "kernelspec": {
   "display_name": "Python 2",
   "language": "python",
   "name": "python2"
  },
  "language_info": {
   "codemirror_mode": {
    "name": "ipython",
    "version": 2
   },
   "file_extension": ".py",
   "mimetype": "text/x-python",
   "name": "python",
   "nbconvert_exporter": "python",
   "pygments_lexer": "ipython2",
   "version": "2.7.13"
  }
 },
 "nbformat": 4,
 "nbformat_minor": 0
}
