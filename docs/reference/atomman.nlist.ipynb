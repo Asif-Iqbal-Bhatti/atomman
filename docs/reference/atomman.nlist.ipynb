{
 "cells": [
  {
   "cell_type": "markdown",
   "metadata": {},
   "source": [
    "# atomman.nlist(system, cutoff, cmult=1)\n",
    "\n",
    "- - -"
   ]
  },
  {
   "cell_type": "markdown",
   "metadata": {},
   "source": [
    "**Lucas M. Hale**, [lucas.hale@nist.gov](mailto:lucas.hale@nist.gov?Subject=ipr-demo), *Materials Science and Engineering Division, NIST*.\n",
    "\n",
    "**Chandler A. Becker**, [chandler.becker@nist.gov](mailto:chandler.becker@nist.gov?Subject=ipr-demo), *Office of Data and Informatics, NIST*.\n",
    "\n",
    "**Zachary T. Trautt**, [zachary.trautt@nist.gov](mailto:zachary.trautt@nist.gov?Subject=ipr-demo), *Materials Measurement Science Division, NIST*.\n",
    "\n",
    "Version: 2016-09-02\n",
    "\n",
    "[Disclaimers](http://www.nist.gov/public_affairs/disclaimer.cfm) \n",
    " \n",
    "- - -"
   ]
  },
  {
   "cell_type": "markdown",
   "metadata": {},
   "source": [
    "## Introduction\n",
    "\n",
    "The nlist function builds and returns a neighbor list array for all atoms in a system. The function uses binning to speed up the neighbor search, and vectorized numpy routines to reduce calculation time.\n",
    "\n",
    "Arguments:\n",
    "\n",
    "- __system__ -- the [System](atomman.System.ipynb) to construct the neighbor list for.\n",
    "\n",
    "- __cutoff__ -- the cutoff distance to use in identifying the neighbors.\n",
    "\n",
    "Keyword Argument:\n",
    "\n",
    "- __cmult__ -- integer parameter that affects the size of bins. Default value is most likely the fastest.\n",
    "\n",
    "The returned array is of size natomsXnvals where nvals is at least one larger than the maximum number of neighbors (coordination) for all of the atoms. Each row of the array is for a different atom, where the first term indicates the atom's coordination, and the rest of the terms the atom ids of the neighbors. Any extra values in the array will have values of zero.\n",
    "\n",
    "### Routine Description\n",
    "\n",
    "The routine first identifies an orthogonal super box that fully encompases the system with a cushion of the cutoff distance in all directions. Next, the super box is divided into square bins with dimensions equal to cutoff/cmult. All of the atoms in system are assigned to bins. Ghost atoms corresponding to images of the real atoms across periodic boundaries and are contained in the super box are generated and also assigned to bins. Every single atom in a bin with real atoms is compared with atoms in the same bin and nearby bins, and any pairs of atoms closer than the cutoff distance are appended to each other's neighbor list. \n",
    "\n",
    "For the binning algorithm, cmult affects the volume of space that needs to be explored for identifying neighbors. With a cmult value of 1, the bin size equals the cutoff distance and the search for neighbors checks the current bin and bins +-1 around it. Increasing cmult to 2 decreases the volume (number of atoms) of the search, but increases the number of bins (to +-2) to search. A cmult of 1 seems to be the fastest for a typical nearest neighbors calculation with the code used here.\n",
    "\n",
    "In terms of calculation speed, Python can be notably slower than other languages like c++ for loop-heavy algorithms. The use of numpy routines has greatly reduced the calculation time compared to pure Python, but improvements are still possible.\n",
    "\n",
    "The underlying code can be found in [atomman/core/nlist.py](../../atomman/core/nlist.py)."
   ]
  },
  {
   "cell_type": "markdown",
   "metadata": {},
   "source": [
    "## Demonstration"
   ]
  },
  {
   "cell_type": "code",
   "execution_count": 1,
   "metadata": {
    "collapsed": false
   },
   "outputs": [],
   "source": [
    "import atomman as am\n",
    "import numpy as np"
   ]
  },
  {
   "cell_type": "markdown",
   "metadata": {},
   "source": [
    "Generate a demonstration fcc 5x5x5 cell"
   ]
  },
  {
   "cell_type": "code",
   "execution_count": 2,
   "metadata": {
    "collapsed": false
   },
   "outputs": [
    {
     "name": "stdout",
     "output_type": "stream",
     "text": [
      "500\n"
     ]
    }
   ],
   "source": [
    "alat = 3.64\n",
    "atype = 1\n",
    "pos = np.array([[0.0, 0.0, 0.0], [0.5, 0.5, 0.0], [0.5, 0.0, 0.5], [0.0, 0.5, 0.5]])\n",
    "\n",
    "atoms = am.Atoms(natoms=len(pos), prop={'atype':atype, 'pos':pos})\n",
    "box = am.Box(a=alat, b=alat, c=alat)\n",
    "system = am.System(atoms=atoms, box=box, scale=True)\n",
    "\n",
    "system.supersize(5,5,5)\n",
    "print system.natoms"
   ]
  },
  {
   "cell_type": "markdown",
   "metadata": {},
   "source": [
    "Compute the nearest neighbor list"
   ]
  },
  {
   "cell_type": "code",
   "execution_count": 3,
   "metadata": {
    "collapsed": true
   },
   "outputs": [],
   "source": [
    "cutoff = 0.8 * alat\n",
    "nlist = am.nlist(system, cutoff)"
   ]
  },
  {
   "cell_type": "markdown",
   "metadata": {},
   "source": [
    "### Getting values from nlist"
   ]
  },
  {
   "cell_type": "markdown",
   "metadata": {},
   "source": [
    "Coordination values are stored as the first term in every row of nlist"
   ]
  },
  {
   "cell_type": "code",
   "execution_count": 4,
   "metadata": {
    "collapsed": false
   },
   "outputs": [
    {
     "name": "stdout",
     "output_type": "stream",
     "text": [
      "12.0\n"
     ]
    }
   ],
   "source": [
    "#Compute average coordination\n",
    "ave_coord = np.mean(nlist[:,0])\n",
    "print ave_coord"
   ]
  },
  {
   "cell_type": "markdown",
   "metadata": {},
   "source": [
    "Atom ids of the neighbor atoms are stored after the coordination number. "
   ]
  },
  {
   "cell_type": "code",
   "execution_count": 6,
   "metadata": {
    "collapsed": false
   },
   "outputs": [
    {
     "name": "stdout",
     "output_type": "stream",
     "text": [
      "[  2   3  18  83 101 102 103 117 118 181 183 197]\n"
     ]
    }
   ],
   "source": [
    "#List all neighbor atom ids for atom 100\n",
    "print nlist[100, 1 : nlist[100, 0] + 1]"
   ]
  },
  {
   "cell_type": "markdown",
   "metadata": {},
   "source": [
    "__WARNING!__ The array column is likely longer than absolutely necessary, with the extra values filled up with zeros. Be sure to not access values in a column with an index greater than the coordination number. "
   ]
  },
  {
   "cell_type": "code",
   "execution_count": 7,
   "metadata": {
    "collapsed": false
   },
   "outputs": [
    {
     "name": "stdout",
     "output_type": "stream",
     "text": [
      "[  2   3  18  83 101 102 103 117 118 181 183 197   0   0   0   0   0   0\n",
      "   0   0   0   0   0   0   0   0   0   0   0   0   0   0   0   0   0   0\n",
      "   0   0   0   0]\n"
     ]
    }
   ],
   "source": [
    "print nlist[100, 1:]"
   ]
  },
  {
   "cell_type": "markdown",
   "metadata": {},
   "source": [
    "- - -\n",
    "__Docs Navigation:__\n",
    "\n",
    "Tutorial:\n",
    "\n",
    "1. [Basics](../tutorial/1 Basics.ipynb)\n",
    "\n",
    "2. [LAMMPS Functionality](../tutorial/2 LAMMPS Functionality.ipynb)\n",
    "\n",
    "3. [Defect Generation and Evaluation](../tutorial/3 Defect Generation and Evaluation.ipynb)\n",
    "\n",
    "\n",
    "Reference:\n",
    "\n",
    "- [atomman](../reference/atomman.ipynb)\n",
    "\n",
    "- [atomman.convert](../reference/atomman.convert.ipynb)\n",
    "\n",
    "- [atomman.defect](../reference/atomman.defect.ipynb)\n",
    "\n",
    "- [atomman.lammps](../reference/atomman.lammps.ipynb)\n",
    "\n",
    "- [atomman.tools](../reference/atomman.tools.ipynb)\n",
    "\n",
    "- [atomman.unitconvert](../reference/atomman.unitconvert.ipynb)"
   ]
  }
 ],
 "metadata": {
  "kernelspec": {
   "display_name": "Python [default]",
   "language": "python",
   "name": "python2"
  },
  "language_info": {
   "codemirror_mode": {
    "name": "ipython",
    "version": 2
   },
   "file_extension": ".py",
   "mimetype": "text/x-python",
   "name": "python",
   "nbconvert_exporter": "python",
   "pygments_lexer": "ipython2",
   "version": "2.7.12"
  }
 },
 "nbformat": 4,
 "nbformat_minor": 0
}
