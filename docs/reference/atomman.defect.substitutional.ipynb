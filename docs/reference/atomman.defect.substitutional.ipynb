{
 "cells": [
  {
   "cell_type": "markdown",
   "metadata": {
    "deletable": true,
    "editable": true
   },
   "source": [
    "# atomman.substitutional(system, atype=None, pos=None, ptd_id=None, scale=False, atol=None)\n",
    "\n",
    "- - -"
   ]
  },
  {
   "cell_type": "markdown",
   "metadata": {
    "deletable": true,
    "editable": true
   },
   "source": [
    "**Lucas M. Hale**, [lucas.hale@nist.gov](mailto:lucas.hale@nist.gov?Subject=ipr-demo), *Materials Science and Engineering Division, NIST*.\n",
    "\n",
    "**Chandler A. Becker**, [chandler.becker@nist.gov](mailto:chandler.becker@nist.gov?Subject=ipr-demo), *Office of Data and Informatics, NIST*.\n",
    "\n",
    "**Zachary T. Trautt**, [zachary.trautt@nist.gov](mailto:zachary.trautt@nist.gov?Subject=ipr-demo), *Materials Measurement Science Division, NIST*.\n",
    "\n",
    "Version: 2017-04-21\n",
    "\n",
    "[Disclaimers](http://www.nist.gov/public_affairs/disclaimer.cfm) \n",
    " \n",
    "- - -"
   ]
  },
  {
   "cell_type": "markdown",
   "metadata": {
    "deletable": true,
    "editable": true
   },
   "source": [
    "## Introduction\n",
    "\n",
    "The substitutional function allows for the insertion of a substitutional point defect into a System.\n",
    "\n",
    "Arguments:\n",
    "\n",
    "- __system__ -- the [atomman.System](atomman.System.ipynb) to add the defect to.\n",
    "   \n",
    "Keyword Arguments:\n",
    "\n",
    "- __atype__ -- atom type for defect atom.\n",
    "\n",
    "- __pos__ -- position for adding the defect atom.\n",
    "\n",
    "- __ptd_id__ -- atom id where defect is added.  Alternative to using pos.\n",
    "\n",
    "- __scale__ -- indicates if pos is absolute (False) or box-relative (True). Default is False.\n",
    "\n",
    "- __atol__ -- absolute tolerance for position-based searching. Default is 1e-3 angstroms.\n",
    "\n",
    "Any atoms modified by this function will be moved to the highest atom index(es) to help find the defects.\n",
    "\n",
    "The returned System will be assigned an atoms property \"old_id\" if it doesn't exist which corresponds to the index values of all atoms from the base System supplied as an argument.  If \"old_id\" already exists, then the values of existing atoms will be unchanged.  \n",
    "\n",
    "The underlying code can be found in [atomman/defect/point.py](../../atomman/defect/point.py)."
   ]
  },
  {
   "cell_type": "markdown",
   "metadata": {
    "deletable": true,
    "editable": true
   },
   "source": [
    "## Demonstration"
   ]
  },
  {
   "cell_type": "markdown",
   "metadata": {
    "deletable": true,
    "editable": true
   },
   "source": [
    "Library imports"
   ]
  },
  {
   "cell_type": "code",
   "execution_count": 1,
   "metadata": {
    "collapsed": true,
    "deletable": true,
    "editable": true
   },
   "outputs": [],
   "source": [
    "#Standard libraries\n",
    "from __future__ import print_function\n",
    "\n",
    "#http://www.numpy.org/\n",
    "import numpy as np\n",
    "\n",
    "#https://github.com/usnistgov/atomman \n",
    "import atomman as am"
   ]
  },
  {
   "cell_type": "markdown",
   "metadata": {
    "deletable": true,
    "editable": true
   },
   "source": [
    "Generate demonstration system with random atomic positions"
   ]
  },
  {
   "cell_type": "code",
   "execution_count": 2,
   "metadata": {
    "collapsed": false,
    "deletable": true,
    "editable": true
   },
   "outputs": [],
   "source": [
    "box = am.Box(a=10, b=10, c=10)\n",
    "atoms = am.Atoms(natoms=20, prop={'atype':1, 'pos':10*np.random.random((20,3))})\n",
    "\n",
    "system = am.System(atoms=atoms, box=box)"
   ]
  },
  {
   "cell_type": "markdown",
   "metadata": {
    "deletable": true,
    "editable": true
   },
   "source": [
    "Print all atom ids old_ids, atypes and positions"
   ]
  },
  {
   "cell_type": "code",
   "execution_count": 3,
   "metadata": {
    "collapsed": false,
    "deletable": true,
    "editable": true
   },
   "outputs": [
    {
     "name": "stdout",
     "output_type": "stream",
     "text": [
      "     id  old_id  atype                  position\n",
      "     0   None      1     [ 6.53387956  6.31149985  6.3894508 ]\n",
      "     1   None      1     [ 7.65311129  7.64696722  3.30412602]\n",
      "     2   None      1     [ 0.72031776  8.22361428  6.92184954]\n",
      "     3   None      1     [ 9.1018568   5.64689571  8.09667471]\n",
      "     4   None      1     [ 1.78131631  0.60924198  6.07544418]\n",
      "     5   None      1     [ 6.78075362  4.90116581  2.99838352]\n",
      "     6   None      1     [ 3.27235912  6.90385739  1.48362207]\n",
      "     7   None      1     [ 8.87545726  3.94538986  6.32533294]\n",
      "     8   None      1     [ 8.78869117  3.98097745  4.28934663]\n",
      "     9   None      1     [ 5.758261    4.13400144  9.69005538]\n",
      "    10   None      1     [ 1.88405733  4.2340641   5.65966595]\n",
      "    11   None      1     [ 4.00030424  4.21815614  4.04185521]\n",
      "    12   None      1     [ 8.24753471  8.88582126  5.49996648]\n",
      "    13   None      1     [ 0.17752926  3.41229126  6.64093974]\n",
      "    14   None      1     [ 3.09381576  6.24657781  7.31573919]\n",
      "    15   None      1     [ 4.43401306  8.32917542  0.40343517]\n",
      "    16   None      1     [ 5.8077706   0.67364024  1.84877159]\n",
      "    17   None      1     [ 2.08004872  9.53385881  1.47584115]\n",
      "    18   None      1     [ 2.31647471  8.07690683  3.22116253]\n",
      "    19   None      1     [ 7.72593747  5.36149651  3.81018341]\n"
     ]
    }
   ],
   "source": [
    "print('     id  old_id  atype                  position')\n",
    "for i in xrange(system.natoms):\n",
    "    print('%6s %6s %6s     %s' %(i, system.atoms_prop(a_id=i, key='old_id'), \n",
    "                                    system.atoms_prop(a_id=i, key='atype'), \n",
    "                                str(system.atoms_prop(a_id=i, key='pos'))))"
   ]
  },
  {
   "cell_type": "markdown",
   "metadata": {
    "deletable": true,
    "editable": true
   },
   "source": [
    "Add a substitutional using ptd_id"
   ]
  },
  {
   "cell_type": "code",
   "execution_count": 4,
   "metadata": {
    "collapsed": false,
    "deletable": true,
    "editable": true
   },
   "outputs": [],
   "source": [
    "system_s = am.defect.substitutional(system, atype=2, ptd_id=4)"
   ]
  },
  {
   "cell_type": "markdown",
   "metadata": {
    "deletable": true,
    "editable": true
   },
   "source": [
    "Add another substitutional using pos"
   ]
  },
  {
   "cell_type": "code",
   "execution_count": 5,
   "metadata": {
    "collapsed": true,
    "deletable": true,
    "editable": true
   },
   "outputs": [],
   "source": [
    "#get position for atom with index 9\n",
    "s_pos = system.atoms_prop(a_id=9, key='pos')\n",
    "\n",
    "system_s = am.defect.substitutional(system_s, atype=2, pos=s_pos)"
   ]
  },
  {
   "cell_type": "markdown",
   "metadata": {
    "deletable": true,
    "editable": true
   },
   "source": [
    "Print all atom ids old_ids, atypes and positions. Note that the modified atoms are moved to the highest indexes"
   ]
  },
  {
   "cell_type": "code",
   "execution_count": 6,
   "metadata": {
    "collapsed": false,
    "deletable": true,
    "editable": true
   },
   "outputs": [
    {
     "name": "stdout",
     "output_type": "stream",
     "text": [
      "     id  old_id  atype                  position\n",
      "     0      0      1     [ 6.53387956  6.31149985  6.3894508 ]\n",
      "     1      1      1     [ 7.65311129  7.64696722  3.30412602]\n",
      "     2      2      1     [ 0.72031776  8.22361428  6.92184954]\n",
      "     3      3      1     [ 9.1018568   5.64689571  8.09667471]\n",
      "     4      5      1     [ 6.78075362  4.90116581  2.99838352]\n",
      "     5      6      1     [ 3.27235912  6.90385739  1.48362207]\n",
      "     6      7      1     [ 8.87545726  3.94538986  6.32533294]\n",
      "     7      8      1     [ 8.78869117  3.98097745  4.28934663]\n",
      "     8     10      1     [ 1.88405733  4.2340641   5.65966595]\n",
      "     9     11      1     [ 4.00030424  4.21815614  4.04185521]\n",
      "    10     12      1     [ 8.24753471  8.88582126  5.49996648]\n",
      "    11     13      1     [ 0.17752926  3.41229126  6.64093974]\n",
      "    12     14      1     [ 3.09381576  6.24657781  7.31573919]\n",
      "    13     15      1     [ 4.43401306  8.32917542  0.40343517]\n",
      "    14     16      1     [ 5.8077706   0.67364024  1.84877159]\n",
      "    15     17      1     [ 2.08004872  9.53385881  1.47584115]\n",
      "    16     18      1     [ 2.31647471  8.07690683  3.22116253]\n",
      "    17     19      1     [ 7.72593747  5.36149651  3.81018341]\n",
      "    18      4      2     [ 1.78131631  0.60924198  6.07544418]\n",
      "    19      9      2     [ 5.758261    4.13400144  9.69005538]\n"
     ]
    }
   ],
   "source": [
    "print('     id  old_id  atype                  position')\n",
    "for i in xrange(system_s.natoms):\n",
    "    print('%6s %6s %6s     %s' %(i, system_s.atoms_prop(a_id=i, key='old_id'), \n",
    "                                    system_s.atoms_prop(a_id=i, key='atype'), \n",
    "                                str(system_s.atoms_prop(a_id=i, key='pos'))))"
   ]
  },
  {
   "cell_type": "markdown",
   "metadata": {
    "deletable": true,
    "editable": true
   },
   "source": [
    "- - -\n",
    "__Docs Navigation:__\n",
    "\n",
    "Tutorial:\n",
    "\n",
    "1. [Basics](../tutorial/1 Basics.ipynb)\n",
    "\n",
    "2. [LAMMPS Functionality](../tutorial/2 LAMMPS Functionality.ipynb)\n",
    "\n",
    "3. [Defect Generation and Evaluation](../tutorial/3 Defect Generation and Evaluation.ipynb)\n",
    "\n",
    "\n",
    "Reference:\n",
    "\n",
    "- [atomman](../reference/atomman.ipynb)\n",
    "\n",
    "- [atomman.convert](../reference/atomman.convert.ipynb)\n",
    "\n",
    "- [atomman.defect](../reference/atomman.defect.ipynb)\n",
    "\n",
    "- [atomman.lammps](../reference/atomman.lammps.ipynb)\n",
    "\n",
    "- [atomman.tools](../reference/atomman.tools.ipynb)\n",
    "\n",
    "- [atomman.unitconvert](../reference/atomman.unitconvert.ipynb)"
   ]
  }
 ],
 "metadata": {
  "kernelspec": {
   "display_name": "Python 2",
   "language": "python",
   "name": "python2"
  },
  "language_info": {
   "codemirror_mode": {
    "name": "ipython",
    "version": 2
   },
   "file_extension": ".py",
   "mimetype": "text/x-python",
   "name": "python",
   "nbconvert_exporter": "python",
   "pygments_lexer": "ipython2",
   "version": "2.7.13"
  }
 },
 "nbformat": 4,
 "nbformat_minor": 0
}
