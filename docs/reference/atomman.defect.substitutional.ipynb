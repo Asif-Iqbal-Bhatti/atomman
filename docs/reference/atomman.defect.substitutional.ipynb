{
 "cells": [
  {
   "cell_type": "markdown",
   "metadata": {},
   "source": [
    "# atomman.substitutional(system, atype=None, pos=None, ptd_id=None, scale=False, atol=None)"
   ]
  },
  {
   "cell_type": "markdown",
   "metadata": {},
   "source": [
    "**Lucas M. Hale**, [lucas.hale@nist.gov](mailto:lucas.hale@nist.gov?Subject=ipr-demo), *Materials Science and Engineering Division, NIST*.\n",
    "\n",
    "**Chandler A. Becker**, [chandler.becker@nist.gov](mailto:chandler.becker@nist.gov?Subject=ipr-demo), *Materials Science and Engineering Division, NIST*.\n",
    "\n",
    "**Zachary T. Trautt**, [zachary.trautt@nist.gov](mailto:zachary.trautt@nist.gov?Subject=ipr-demo), *Materials Measurement Science Division, NIST*.\n",
    "\n",
    "Version: 2016-08-29\n",
    "\n",
    "[Disclaimers](http://www.nist.gov/public_affairs/disclaimer.cfm)\n",
    "\n",
    "- - -"
   ]
  },
  {
   "cell_type": "markdown",
   "metadata": {},
   "source": [
    "## Introduction\n",
    "\n",
    "The substitutional function allows for the insertion of a substitutional point defect into a System.\n",
    "\n",
    "Arguments:\n",
    "\n",
    "- __system__ -- the [atomman.System](atomman.System.ipynb) to add the defect to.\n",
    "   \n",
    "Keyword Arguments:\n",
    "\n",
    "- __atype__ -- atom type for defect atom.\n",
    "\n",
    "- __pos__ -- position for adding the defect atom.\n",
    "\n",
    "- __ptd_id__ -- atom id where defect is added.  Alternative to using pos.\n",
    "\n",
    "- __scale__ -- indicates if pos is absolute (False) or box-relative (True). Default is False.\n",
    "\n",
    "- __atol__ -- absolute tolerance for position-based searching. Default is 1e-3 angstroms.\n",
    "\n",
    "Any atoms modified by this function will be moved to the highest atom index(es) to help find the defects.\n",
    "\n",
    "The returned System will be assigned an atoms property \"old_id\" if it doesn't exist which corresponds to the index values of all atoms from the base System supplied as an argument.  If \"old_id\" already exists, then the values of existing atoms will be unchanged.  \n",
    "\n",
    "The underlying code can be found in [atomman/defect/point.py](../../atomman/defect/point.py)."
   ]
  },
  {
   "cell_type": "markdown",
   "metadata": {},
   "source": [
    "## Demonstration"
   ]
  },
  {
   "cell_type": "markdown",
   "metadata": {},
   "source": [
    "Library imports"
   ]
  },
  {
   "cell_type": "code",
   "execution_count": 1,
   "metadata": {
    "collapsed": true
   },
   "outputs": [],
   "source": [
    "import atomman as am\n",
    "import numpy as np"
   ]
  },
  {
   "cell_type": "markdown",
   "metadata": {},
   "source": [
    "Generate demonstration system with random atomic positions"
   ]
  },
  {
   "cell_type": "code",
   "execution_count": 2,
   "metadata": {
    "collapsed": false
   },
   "outputs": [],
   "source": [
    "box = am.Box(a=10, b=10, c=10)\n",
    "atoms = am.Atoms(natoms=20, prop={'atype':1, 'pos':10*np.random.random((20,3))})\n",
    "\n",
    "system = am.System(atoms=atoms, box=box)"
   ]
  },
  {
   "cell_type": "markdown",
   "metadata": {},
   "source": [
    "Print all atom ids old_ids, atypes and positions"
   ]
  },
  {
   "cell_type": "code",
   "execution_count": 3,
   "metadata": {
    "collapsed": false
   },
   "outputs": [
    {
     "name": "stdout",
     "output_type": "stream",
     "text": [
      "     id  old_id  atype                  position\n",
      "     0   None      1     [ 5.25188084  9.63019642  3.63727069]\n",
      "     1   None      1     [ 3.72748691  2.71744372  6.84651   ]\n",
      "     2   None      1     [ 3.42586879  4.35529463  0.47507181]\n",
      "     3   None      1     [ 0.13552975  6.26468898  1.87528969]\n",
      "     4   None      1     [ 3.78557228  4.73293612  0.73456024]\n",
      "     5   None      1     [ 1.43761916  2.42014684  4.28445885]\n",
      "     6   None      1     [ 4.11024931  5.23493721  0.26134616]\n",
      "     7   None      1     [ 0.27790042  0.38871452  6.48463174]\n",
      "     8   None      1     [ 7.71043154  8.37744447  2.80276135]\n",
      "     9   None      1     [ 3.40384605  5.53976085  4.34802334]\n",
      "    10   None      1     [ 3.63502898  0.94458404  5.48380542]\n",
      "    11   None      1     [ 1.34322473  3.87725492  7.4310888 ]\n",
      "    12   None      1     [ 6.22573313  1.13629598  2.95547769]\n",
      "    13   None      1     [ 0.70005441  8.483802    3.06795529]\n",
      "    14   None      1     [ 1.08152814  8.24373375  0.99980207]\n",
      "    15   None      1     [ 9.42444555  4.41109618  3.49777217]\n",
      "    16   None      1     [ 7.96425696  3.11685736  0.09141133]\n",
      "    17   None      1     [ 8.68929345  1.77812766  1.01239394]\n",
      "    18   None      1     [ 2.41825259  2.79221558  9.06673742]\n",
      "    19   None      1     [ 9.78390472  2.90263793  5.12730095]\n"
     ]
    }
   ],
   "source": [
    "print '     id  old_id  atype                  position'\n",
    "for i in xrange(system.natoms):\n",
    "    print '%6s %6s %6s     %s' %(i, system.atoms_prop(a_id=i, key='old_id'), \n",
    "                                    system.atoms_prop(a_id=i, key='atype'), \n",
    "                                str(system.atoms_prop(a_id=i, key='pos')))"
   ]
  },
  {
   "cell_type": "markdown",
   "metadata": {},
   "source": [
    "Add a substitutional using ptd_id"
   ]
  },
  {
   "cell_type": "code",
   "execution_count": 4,
   "metadata": {
    "collapsed": false
   },
   "outputs": [],
   "source": [
    "system_s = am.defect.substitutional(system, atype=2, ptd_id=4)"
   ]
  },
  {
   "cell_type": "markdown",
   "metadata": {},
   "source": [
    "Add another substitutional using pos"
   ]
  },
  {
   "cell_type": "code",
   "execution_count": 5,
   "metadata": {
    "collapsed": true
   },
   "outputs": [],
   "source": [
    "#get position for atom with index 9\n",
    "s_pos = system.atoms_prop(a_id=9, key='pos')\n",
    "\n",
    "system_s = am.defect.substitutional(system_s, atype=2, pos=s_pos)"
   ]
  },
  {
   "cell_type": "markdown",
   "metadata": {},
   "source": [
    "Print all atom ids old_ids, atypes and positions. Note that the modified atoms are moved to the highest indexes"
   ]
  },
  {
   "cell_type": "code",
   "execution_count": 6,
   "metadata": {
    "collapsed": false
   },
   "outputs": [
    {
     "name": "stdout",
     "output_type": "stream",
     "text": [
      "     id  old_id  atype                  position\n",
      "     0      0      1     [ 5.25188084  9.63019642  3.63727069]\n",
      "     1      1      1     [ 3.72748691  2.71744372  6.84651   ]\n",
      "     2      2      1     [ 3.42586879  4.35529463  0.47507181]\n",
      "     3      3      1     [ 0.13552975  6.26468898  1.87528969]\n",
      "     4      5      1     [ 1.43761916  2.42014684  4.28445885]\n",
      "     5      6      1     [ 4.11024931  5.23493721  0.26134616]\n",
      "     6      7      1     [ 0.27790042  0.38871452  6.48463174]\n",
      "     7      8      1     [ 7.71043154  8.37744447  2.80276135]\n",
      "     8     10      1     [ 3.63502898  0.94458404  5.48380542]\n",
      "     9     11      1     [ 1.34322473  3.87725492  7.4310888 ]\n",
      "    10     12      1     [ 6.22573313  1.13629598  2.95547769]\n",
      "    11     13      1     [ 0.70005441  8.483802    3.06795529]\n",
      "    12     14      1     [ 1.08152814  8.24373375  0.99980207]\n",
      "    13     15      1     [ 9.42444555  4.41109618  3.49777217]\n",
      "    14     16      1     [ 7.96425696  3.11685736  0.09141133]\n",
      "    15     17      1     [ 8.68929345  1.77812766  1.01239394]\n",
      "    16     18      1     [ 2.41825259  2.79221558  9.06673742]\n",
      "    17     19      1     [ 9.78390472  2.90263793  5.12730095]\n",
      "    18      4      2     [ 3.78557228  4.73293612  0.73456024]\n",
      "    19      9      2     [ 3.40384605  5.53976085  4.34802334]\n"
     ]
    }
   ],
   "source": [
    "print '     id  old_id  atype                  position'\n",
    "for i in xrange(system_s.natoms):\n",
    "    print '%6s %6s %6s     %s' %(i, system_s.atoms_prop(a_id=i, key='old_id'), \n",
    "                                    system_s.atoms_prop(a_id=i, key='atype'), \n",
    "                                str(system_s.atoms_prop(a_id=i, key='pos')))"
   ]
  },
  {
   "cell_type": "markdown",
   "metadata": {},
   "source": [
    "- - -\n",
    "__Docs Navigation:__\n",
    "\n",
    "Tutorial:\n",
    "\n",
    "1. [Basics](../tutorial/1 Basics.ipynb)\n",
    "\n",
    "2. [LAMMPS Functionality](../tutorial/2 LAMMPS Functionality.ipynb)\n",
    "\n",
    "3. [Defect Generation and Evaluation](../tutorial/3 Defect Generation and Evaluation.ipynb)\n",
    "\n",
    "\n",
    "Reference:\n",
    "\n",
    "- [atomman](../reference/atomman.ipynb)\n",
    "\n",
    "- [atomman.convert](../reference/atomman.convert.ipynb)\n",
    "\n",
    "- [atomman.defect](../reference/atomman.defect.ipynb)\n",
    "\n",
    "- [atomman.lammps](../reference/atomman.lammps.ipynb)\n",
    "\n",
    "- [atomman.tools](../reference/atomman.tools.ipynb)\n",
    "\n",
    "- [atomman.unitconvert](../reference/atomman.unitconvert.ipynb)"
   ]
  }
 ],
 "metadata": {
  "kernelspec": {
   "display_name": "Python 2",
   "language": "python",
   "name": "python2"
  },
  "language_info": {
   "codemirror_mode": {
    "name": "ipython",
    "version": 2
   },
   "file_extension": ".py",
   "mimetype": "text/x-python",
   "name": "python",
   "nbconvert_exporter": "python",
   "pygments_lexer": "ipython2",
   "version": "2.7.11"
  }
 },
 "nbformat": 4,
 "nbformat_minor": 0
}
