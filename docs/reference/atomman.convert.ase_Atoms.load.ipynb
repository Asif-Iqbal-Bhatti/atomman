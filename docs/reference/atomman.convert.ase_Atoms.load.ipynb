{
 "cells": [
  {
   "cell_type": "markdown",
   "metadata": {
    "deletable": true,
    "editable": true
   },
   "source": [
    "# atomman.convert.ase_Atoms.load(ase_atoms)\n",
    "\n",
    "- - -"
   ]
  },
  {
   "cell_type": "markdown",
   "metadata": {
    "deletable": true,
    "editable": true
   },
   "source": [
    "**Lucas M. Hale**, [lucas.hale@nist.gov](mailto:lucas.hale@nist.gov?Subject=ipr-demo), *Materials Science and Engineering Division, NIST*.\n",
    "\n",
    "**Chandler A. Becker**, [chandler.becker@nist.gov](mailto:chandler.becker@nist.gov?Subject=ipr-demo), *Office of Data and Informatics, NIST*.\n",
    "\n",
    "**Zachary T. Trautt**, [zachary.trautt@nist.gov](mailto:zachary.trautt@nist.gov?Subject=ipr-demo), *Materials Measurement Science Division, NIST*.\n",
    "\n",
    "Version: 2017-04-19\n",
    "\n",
    "[Disclaimers](http://www.nist.gov/public_affairs/disclaimer.cfm) \n",
    " \n",
    "- - -"
   ]
  },
  {
   "cell_type": "markdown",
   "metadata": {
    "deletable": true,
    "editable": true
   },
   "source": [
    "## Introduction\n",
    "\n",
    "The ase_Atoms.load function converts an ase.Atoms object into an equivalent [atomman.System](atomman.System.ipynb) and list of elements. Equivalently, the [atomman.load function](atomman.load) can be called with style='ase_Atoms'.\n",
    "\n",
    "This style only works if the [ase package](https://wiki.fysik.dtu.dk/ase) is installed with your Python. \n",
    "\n",
    "Argument:\n",
    "\n",
    "- __ase_Atoms__ -- an ase.Atoms object.\n",
    "\n",
    "The underlying code can be found in [atomman/convert/ase_Atoms.py](../../atomman/convert/ase_Atoms.py)."
   ]
  },
  {
   "cell_type": "markdown",
   "metadata": {
    "deletable": true,
    "editable": true
   },
   "source": [
    "## Demonstration"
   ]
  },
  {
   "cell_type": "code",
   "execution_count": 1,
   "metadata": {
    "collapsed": false,
    "deletable": true,
    "editable": true
   },
   "outputs": [],
   "source": [
    "#Standard libraries\n",
    "from __future__ import print_function\n",
    "\n",
    "#https://wiki.fysik.dtu.dk/ase/\n",
    "import ase\n",
    "\n",
    "#https://github.com/usnistgov/atomman\n",
    "import atomman as am"
   ]
  },
  {
   "cell_type": "markdown",
   "metadata": {
    "deletable": true,
    "editable": true
   },
   "source": [
    "Create a demonstration ase.Atoms object"
   ]
  },
  {
   "cell_type": "code",
   "execution_count": 2,
   "metadata": {
    "collapsed": false,
    "deletable": true,
    "editable": true
   },
   "outputs": [
    {
     "name": "stdout",
     "output_type": "stream",
     "text": [
      "Atoms(symbols='Si8', positions=..., cell=[5.45, 5.45, 5.45], pbc=[False, False, False])\n",
      "[[ 0.    0.    0.  ]\n",
      " [ 0.5   0.5   0.  ]\n",
      " [ 0.5   0.    0.5 ]\n",
      " [ 0.    0.5   0.5 ]\n",
      " [ 0.25  0.25  0.25]\n",
      " [ 0.75  0.75  0.25]\n",
      " [ 0.75  0.25  0.75]\n",
      " [ 0.25  0.75  0.75]]\n"
     ]
    }
   ],
   "source": [
    "positions = [(0.00, 0.00, 0.00),\n",
    "             (0.50, 0.50, 0.00),\n",
    "             (0.50, 0.00, 0.50),\n",
    "             (0.00, 0.50, 0.50),\n",
    "             (0.25, 0.25, 0.25),\n",
    "             (0.75, 0.75, 0.25),\n",
    "             (0.75, 0.25, 0.75),\n",
    "             (0.25, 0.75, 0.75)]\n",
    "\n",
    "cell = [[5.45, 0.00, 0.00],\n",
    "        [0.00, 5.45, 0.00],\n",
    "        [0.00, 0.00, 5.45]]\n",
    "ase_atoms = ase.Atoms('Si8', positions=positions, cell=cell)\n",
    "\n",
    "print(ase_atoms)\n",
    "print(ase_atoms.get_positions())"
   ]
  },
  {
   "cell_type": "markdown",
   "metadata": {
    "deletable": true,
    "editable": true
   },
   "source": [
    "load the ase.Atoms object to a System"
   ]
  },
  {
   "cell_type": "code",
   "execution_count": 3,
   "metadata": {
    "collapsed": false,
    "deletable": true,
    "editable": true
   },
   "outputs": [
    {
     "name": "stdout",
     "output_type": "stream",
     "text": [
      "['Si']\n",
      "avect =  [ 5.450,  0.000,  0.000]\n",
      "bvect =  [ 0.000,  5.450,  0.000]\n",
      "cvect =  [ 0.000,  0.000,  5.450]\n",
      "origin = [ 0.000,  0.000,  0.000]\n",
      "natoms = 8\n",
      "natypes = 1\n",
      "     id |   atype |  pos[0] |  pos[1] |  pos[2]\n",
      "      0 |       1 |   0.000 |   0.000 |   0.000\n",
      "      1 |       1 |   0.500 |   0.500 |   0.000\n",
      "      2 |       1 |   0.500 |   0.000 |   0.500\n",
      "      3 |       1 |   0.000 |   0.500 |   0.500\n",
      "      4 |       1 |   0.250 |   0.250 |   0.250\n",
      "      5 |       1 |   0.750 |   0.750 |   0.250\n",
      "      6 |       1 |   0.750 |   0.250 |   0.750\n",
      "      7 |       1 |   0.250 |   0.750 |   0.750\n"
     ]
    }
   ],
   "source": [
    "system, elements = am.convert.ase_Atoms.load(ase_atoms)\n",
    "print(elements)\n",
    "print(system)"
   ]
  },
  {
   "cell_type": "markdown",
   "metadata": {
    "deletable": true,
    "editable": true
   },
   "source": [
    "- - -\n",
    "__Docs Navigation:__\n",
    "\n",
    "Tutorial:\n",
    "\n",
    "1. [Basics](../tutorial/1 Basics.ipynb)\n",
    "\n",
    "2. [LAMMPS Functionality](../tutorial/2 LAMMPS Functionality.ipynb)\n",
    "\n",
    "3. [Defect Generation and Evaluation](../tutorial/3 Defect Generation and Evaluation.ipynb)\n",
    "\n",
    "\n",
    "Reference:\n",
    "\n",
    "- [atomman](../reference/atomman.ipynb)\n",
    "\n",
    "- [atomman.convert](../reference/atomman.convert.ipynb)\n",
    "\n",
    "- [atomman.defect](../reference/atomman.defect.ipynb)\n",
    "\n",
    "- [atomman.lammps](../reference/atomman.lammps.ipynb)\n",
    "\n",
    "- [atomman.tools](../reference/atomman.tools.ipynb)\n",
    "\n",
    "- [atomman.unitconvert](../reference/atomman.unitconvert.ipynb)"
   ]
  }
 ],
 "metadata": {
  "kernelspec": {
   "display_name": "Python 2",
   "language": "python",
   "name": "python2"
  },
  "language_info": {
   "codemirror_mode": {
    "name": "ipython",
    "version": 2
   },
   "file_extension": ".py",
   "mimetype": "text/x-python",
   "name": "python",
   "nbconvert_exporter": "python",
   "pygments_lexer": "ipython2",
   "version": "2.7.13"
  }
 },
 "nbformat": 4,
 "nbformat_minor": 0
}
