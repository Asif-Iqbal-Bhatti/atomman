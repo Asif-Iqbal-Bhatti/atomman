{
 "cells": [
  {
   "cell_type": "markdown",
   "metadata": {
    "deletable": true,
    "editable": true
   },
   "source": [
    "# atomman.rotate(system, axes)\n",
    "\n",
    "- - -"
   ]
  },
  {
   "cell_type": "markdown",
   "metadata": {
    "deletable": true,
    "editable": true
   },
   "source": [
    "**Lucas M. Hale**, [lucas.hale@nist.gov](mailto:lucas.hale@nist.gov?Subject=ipr-demo), *Materials Science and Engineering Division, NIST*.\n",
    "\n",
    "**Chandler A. Becker**, [chandler.becker@nist.gov](mailto:chandler.becker@nist.gov?Subject=ipr-demo), *Office of Data and Informatics, NIST*.\n",
    "\n",
    "**Zachary T. Trautt**, [zachary.trautt@nist.gov](mailto:zachary.trautt@nist.gov?Subject=ipr-demo), *Materials Measurement Science Division, NIST*.\n",
    "\n",
    "Version: 2017-04-19\n",
    "\n",
    "[Disclaimers](http://www.nist.gov/public_affairs/disclaimer.cfm) \n",
    " \n",
    "- - -"
   ]
  },
  {
   "cell_type": "markdown",
   "metadata": {
    "deletable": true,
    "editable": true
   },
   "source": [
    "## Introduction\n",
    "\n",
    "The rotate function performs a generic transformation rotation of a System. Given an existing System and rotation axes/tensor, a new rotated System is returned.\n",
    "\n",
    "Arguments:\n",
    "\n",
    "- __system__ -- the initial [System](atomman.System.ipynb) before rotating.\n",
    "\n",
    "- __axes__ -- a 3x3 array representing the three right-handed orthogonal axes to rotate the system to. If unit vectors are given for the three axes, this is equivalent to the transformation tensor. \n",
    "\n",
    "The returned array will be identical to the original, but with atom coordintates and box vectors transformed to the new axes coordinate system. \n",
    "\n",
    "__Note__: this does not change the System, only the representation of it. Depending on the intended application, it may be preferable to use a different rotate function that redefines the coordinates and box vectors separately. \n",
    "\n",
    "The underlying code can be found in [atomman/core/rotate.py](../../atomman/core/rotate.py)."
   ]
  },
  {
   "cell_type": "markdown",
   "metadata": {
    "deletable": true,
    "editable": true
   },
   "source": [
    "## Demonstration"
   ]
  },
  {
   "cell_type": "code",
   "execution_count": 1,
   "metadata": {
    "collapsed": false,
    "deletable": true,
    "editable": true
   },
   "outputs": [],
   "source": [
    "#Standard libraries\n",
    "from __future__ import print_function\n",
    "\n",
    "#http://www.numpy.org/\n",
    "import numpy as np    \n",
    "\n",
    "#https://github.com/usnistgov/atomman\n",
    "import atomman as am"
   ]
  },
  {
   "cell_type": "markdown",
   "metadata": {
    "deletable": true,
    "editable": true
   },
   "source": [
    "Generate a demonstration fcc cell"
   ]
  },
  {
   "cell_type": "code",
   "execution_count": 2,
   "metadata": {
    "collapsed": false,
    "deletable": true,
    "editable": true
   },
   "outputs": [
    {
     "name": "stdout",
     "output_type": "stream",
     "text": [
      "avect =  [ 3.640,  0.000,  0.000]\n",
      "bvect =  [ 0.000,  3.640,  0.000]\n",
      "cvect =  [ 0.000,  0.000,  3.640]\n",
      "origin = [ 0.000,  0.000,  0.000]\n",
      "natoms = 4\n",
      "natypes = 1\n",
      "     id |   atype |  pos[0] |  pos[1] |  pos[2]\n",
      "      0 |       1 |   0.000 |   0.000 |   0.000\n",
      "      1 |       1 |   1.820 |   1.820 |   0.000\n",
      "      2 |       1 |   1.820 |   0.000 |   1.820\n",
      "      3 |       1 |   0.000 |   1.820 |   1.820\n"
     ]
    }
   ],
   "source": [
    "alat = 3.64\n",
    "atype = 1\n",
    "pos = np.array([[0.0, 0.0, 0.0], [0.5, 0.5, 0.0], [0.5, 0.0, 0.5], [0.0, 0.5, 0.5]])\n",
    "\n",
    "atoms = am.Atoms(natoms=len(pos), prop={'atype':atype, 'pos':pos})\n",
    "box = am.Box(a=alat, b=alat, c=alat)\n",
    "system = am.System(atoms=atoms, box=box, scale=True)\n",
    "\n",
    "print(system)"
   ]
  },
  {
   "cell_type": "markdown",
   "metadata": {
    "deletable": true,
    "editable": true
   },
   "source": [
    "Rotate"
   ]
  },
  {
   "cell_type": "code",
   "execution_count": 3,
   "metadata": {
    "collapsed": false,
    "deletable": true,
    "editable": true
   },
   "outputs": [
    {
     "name": "stdout",
     "output_type": "stream",
     "text": [
      "avect =  [ 2.574, -2.574,  0.000]\n",
      "bvect =  [ 2.574,  2.574,  0.000]\n",
      "cvect =  [ 0.000,  0.000,  3.640]\n",
      "origin = [ 0.000,  0.000,  0.000]\n",
      "natoms = 4\n",
      "natypes = 1\n",
      "     id |   atype |  pos[0] |  pos[1] |  pos[2]\n",
      "      0 |       1 |   0.000 |   0.000 |   0.000\n",
      "      1 |       1 |   2.574 |   0.000 |   0.000\n",
      "      2 |       1 |   1.287 |  -1.287 |   1.820\n",
      "      3 |       1 |   1.287 |   1.287 |   1.820\n"
     ]
    }
   ],
   "source": [
    "axes = [[ 1, 1, 0], \n",
    "        [-1, 1, 0],\n",
    "        [ 0, 0, 1]]\n",
    "\n",
    "rotated = am.rotate(system, axes)\n",
    "print(rotated)"
   ]
  },
  {
   "cell_type": "markdown",
   "metadata": {
    "deletable": true,
    "editable": true
   },
   "source": [
    "Note that the resulting system is still fcc"
   ]
  },
  {
   "cell_type": "code",
   "execution_count": 4,
   "metadata": {
    "collapsed": false,
    "deletable": true,
    "editable": true
   },
   "outputs": [
    {
     "name": "stdout",
     "output_type": "stream",
     "text": [
      "a     b     c     alpha beta  gamma\n",
      "3.640 3.640 3.640 90.00 90.00 90.00\n",
      "-----------------------------------\n",
      "Box relative atomic positions:\n",
      "[[ 0.   0.   0. ]\n",
      " [ 0.5  0.5  0. ]\n",
      " [ 0.5  0.   0.5]\n",
      " [ 0.   0.5  0.5]]\n"
     ]
    }
   ],
   "source": [
    "print('a     b     c     alpha beta  gamma')\n",
    "print('%5.3f %5.3f %5.3f' % (rotated.box.a, rotated.box.b, rotated.box.c),end=' ')\n",
    "print('%5.2f %5.2f %5.2f' % (rotated.box.alpha, rotated.box.beta, rotated.box.gamma))\n",
    "print('-----------------------------------')\n",
    "rel_pos = rotated.atoms_prop(key='pos', scale=True)\n",
    "rel_pos[abs(rel_pos) < 1e-10] = 0.0\n",
    "\n",
    "print('Box relative atomic positions:')\n",
    "print(rel_pos)"
   ]
  },
  {
   "cell_type": "markdown",
   "metadata": {
    "deletable": true,
    "editable": true
   },
   "source": [
    "Non-integer axes values are allowed with this function"
   ]
  },
  {
   "cell_type": "code",
   "execution_count": 5,
   "metadata": {
    "collapsed": false,
    "deletable": true,
    "editable": true
   },
   "outputs": [
    {
     "name": "stdout",
     "output_type": "stream",
     "text": [
      "avect =  [ 0.645,  0.000,  3.582]\n",
      "bvect =  [ 2.487, -2.620, -0.448]\n",
      "cvect =  [ 2.579,  2.527, -0.464]\n",
      "origin = [ 0.000,  0.000,  0.000]\n",
      "natoms = 4\n",
      "natypes = 1\n",
      "     id |   atype |  pos[0] |  pos[1] |  pos[2]\n",
      "      0 |       1 |   0.000 |   0.000 |   0.000\n",
      "      1 |       1 |   1.566 |  -1.310 |   1.567\n",
      "      2 |       1 |   1.612 |   1.263 |   1.559\n",
      "      3 |       1 |   2.533 |  -0.047 |  -0.456\n"
     ]
    }
   ],
   "source": [
    "axes = np.array([[ 1.40, 5.40, 5.60],\n",
    "                 [ 0.00,-5.60, 5.40],\n",
    "                 [15.13,-1.89,-1.96]])\n",
    "\n",
    "rotated = am.rotate(system, axes)\n",
    "print(rotated)"
   ]
  },
  {
   "cell_type": "markdown",
   "metadata": {
    "deletable": true,
    "editable": true
   },
   "source": [
    "- - -\n",
    "__Docs Navigation:__\n",
    "\n",
    "Tutorial:\n",
    "\n",
    "1. [Basics](../tutorial/1 Basics.ipynb)\n",
    "\n",
    "2. [LAMMPS Functionality](../tutorial/2 LAMMPS Functionality.ipynb)\n",
    "\n",
    "3. [Defect Generation and Evaluation](../tutorial/3 Defect Generation and Evaluation.ipynb)\n",
    "\n",
    "\n",
    "Reference:\n",
    "\n",
    "- [atomman](../reference/atomman.ipynb)\n",
    "\n",
    "- [atomman.convert](../reference/atomman.convert.ipynb)\n",
    "\n",
    "- [atomman.defect](../reference/atomman.defect.ipynb)\n",
    "\n",
    "- [atomman.lammps](../reference/atomman.lammps.ipynb)\n",
    "\n",
    "- [atomman.tools](../reference/atomman.tools.ipynb)\n",
    "\n",
    "- [atomman.unitconvert](../reference/atomman.unitconvert.ipynb)"
   ]
  }
 ],
 "metadata": {
  "kernelspec": {
   "display_name": "Python 2",
   "language": "python",
   "name": "python2"
  },
  "language_info": {
   "codemirror_mode": {
    "name": "ipython",
    "version": 2
   },
   "file_extension": ".py",
   "mimetype": "text/x-python",
   "name": "python",
   "nbconvert_exporter": "python",
   "pygments_lexer": "ipython2",
   "version": "2.7.13"
  }
 },
 "nbformat": 4,
 "nbformat_minor": 0
}
