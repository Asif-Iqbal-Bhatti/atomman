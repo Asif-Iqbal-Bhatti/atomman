{
 "cells": [
  {
   "cell_type": "markdown",
   "metadata": {
    "deletable": true,
    "editable": true
   },
   "source": [
    "# atomman.lammps Module \n",
    "\n",
    "- - -"
   ]
  },
  {
   "cell_type": "markdown",
   "metadata": {
    "deletable": true,
    "editable": true
   },
   "source": [
    "**Lucas M. Hale**, [lucas.hale@nist.gov](mailto:lucas.hale@nist.gov?Subject=ipr-demo), *Materials Science and Engineering Division, NIST*.\n",
    "\n",
    "**Chandler A. Becker**, [chandler.becker@nist.gov](mailto:chandler.becker@nist.gov?Subject=ipr-demo), *Office of Data and Informatics, NIST*.\n",
    "\n",
    "**Zachary T. Trautt**, [zachary.trautt@nist.gov](mailto:zachary.trautt@nist.gov?Subject=ipr-demo), *Materials Measurement Science Division, NIST*.\n",
    "\n",
    "Version: 2017-04-20\n",
    "\n",
    "[Disclaimers](http://www.nist.gov/public_affairs/disclaimer.cfm) \n",
    " \n",
    "- - -"
   ]
  },
  {
   "cell_type": "markdown",
   "metadata": {
    "deletable": true,
    "editable": true
   },
   "source": [
    "## Introduction\n",
    "\n",
    "The lammps module of atomman contains tools for assisting in preparing, running, and processing LAMMPS MD simulations."
   ]
  },
  {
   "cell_type": "markdown",
   "metadata": {
    "deletable": true,
    "editable": true
   },
   "source": [
    "## Classes\n",
    "\n",
    "- [Log](atomman.lammps.Log.ipynb) represents a LAMMPS log file. This class captures the thermodynamic data using Pandas dataframes. \n",
    "\n",
    "- [Potential](atomman.lammps.Potential.ipynb) represents a LAMMPS implemented potential and assists in the generation of the LAMMPS input lines associated with properly using the potential."
   ]
  },
  {
   "cell_type": "markdown",
   "metadata": {
    "deletable": true,
    "editable": true
   },
   "source": [
    "## Functions\n",
    "\n",
    "- [atom_data.load(data, pbc=(True, True, True), atom_style='atomic', units='metal')](atomman.lammps.atom_data.load.ipynb) reads a LAMMPS-style atom data configuration file and returns a System.\n",
    "\n",
    "- [atom_data.dump(system, fname, units='metal', atom_style='atomic')](atomman.lammps.atom_data.dump.ipynb) exports a System in LAMMPS-style atom data format.\n",
    "\n",
    "- [atom_dump.load(data, prop_info=None)](atomman.lammps.atom_dump.load.ipynb) reads a LAMMPS-style dump configuration file and returns a System.\n",
    "\n",
    "- [atom_dump.dump(system, fname, prop_info=None, xf='%.13e')](atomman.lammps.atom_dump.dump.ipynb) exports a System in LAMMPS-style dump format.\n",
    "\n",
    "- [create_sys(lammps_exe, system_info)](atomman.lammps.create_sys.ipynb) generates a System object from the LAMMPS input lines in system_info.\n",
    "\n",
    "- [log_extract(log_info)](atomman.lammps.log_extract.ipynb) (_depreciated_) converts the thermo data in LAMMPS screen output/log file into a DataModelDict.\n",
    "\n",
    "- [normalize(system)](atomman.lammps.normalize.ipynb) normalizes a System's box and position vectors to be compatible with LAMMPS. \n",
    "\n",
    "- [run(lammps_command, script_name, mpi_command=None, restart_script_name=None, return_style='model', logfile='log.lammps', flatten_thermo=None)](atomman.lammps.run.ipynb) runs a LAMMPS script using the specified LAMMPS and MPI commands.\n",
    "\n",
    "- [style.atom(atom_style='atomic')](atomman.lammps.style.atom.ipynb) returns a dictionary of metadata for the atom terms of a specific LAMMPS atom_style.\n",
    "\n",
    "- [style.velocity(atom_style='atomic')](atomman.lammps.style.velocity.ipynb) returns a dictionary of metadata for the velocity terms of a specific LAMMPS atom_style.\n",
    "\n",
    "- [style.unit(units='metal')](atomman.lammps.style.unit.ipynb) returns a dictionary relating physical quantities to units for a given LAMMPS units style.\n",
    "\n",
    "- [style.timestep(units='metal')](atomman.lammps.style.velocity.ipynb) returns the default timestep value for a given LAMMPS units style.\n",
    "\n",
    "- [sys_gen(\\**kwargs)](atomman.lammps.sys_gen.ipynb) generates the LAMMPS input lines associated with having LAMMPS generate a new atomic system."
   ]
  },
  {
   "cell_type": "markdown",
   "metadata": {
    "deletable": true,
    "editable": true
   },
   "source": [
    "- - -\n",
    "__Docs Navigation:__\n",
    "\n",
    "Tutorial:\n",
    "\n",
    "1. [Basics](../tutorial/1 Basics.ipynb)\n",
    "\n",
    "2. [LAMMPS Functionality](../tutorial/2 LAMMPS Functionality.ipynb)\n",
    "\n",
    "3. [Defect Generation and Evaluation](../tutorial/3 Defect Generation and Evaluation.ipynb)\n",
    "\n",
    "\n",
    "Reference:\n",
    "\n",
    "- [atomman](../reference/atomman.ipynb)\n",
    "\n",
    "- [atomman.convert](../reference/atomman.convert.ipynb)\n",
    "\n",
    "- [atomman.defect](../reference/atomman.defect.ipynb)\n",
    "\n",
    "- [atomman.lammps](../reference/atomman.lammps.ipynb)\n",
    "\n",
    "- [atomman.tools](../reference/atomman.tools.ipynb)\n",
    "\n",
    "- [atomman.unitconvert](../reference/atomman.unitconvert.ipynb)"
   ]
  }
 ],
 "metadata": {
  "kernelspec": {
   "display_name": "Python 2",
   "language": "python",
   "name": "python2"
  },
  "language_info": {
   "codemirror_mode": {
    "name": "ipython",
    "version": 2
   },
   "file_extension": ".py",
   "mimetype": "text/x-python",
   "name": "python",
   "nbconvert_exporter": "python",
   "pygments_lexer": "ipython2",
   "version": "2.7.13"
  }
 },
 "nbformat": 4,
 "nbformat_minor": 0
}
