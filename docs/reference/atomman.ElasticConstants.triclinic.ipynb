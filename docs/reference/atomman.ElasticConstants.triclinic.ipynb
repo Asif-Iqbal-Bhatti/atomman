{
 "cells": [
  {
   "cell_type": "markdown",
   "metadata": {
    "deletable": true,
    "editable": true
   },
   "source": [
    "# atomman.ElasticConstants.triclinic(self, \\**kwargs)\n",
    "\n",
    "- - -"
   ]
  },
  {
   "cell_type": "markdown",
   "metadata": {
    "deletable": true,
    "editable": true
   },
   "source": [
    "**Lucas M. Hale**, [lucas.hale@nist.gov](mailto:lucas.hale@nist.gov?Subject=ipr-demo), *Materials Science and Engineering Division, NIST*.\n",
    "\n",
    "**Chandler A. Becker**, [chandler.becker@nist.gov](mailto:chandler.becker@nist.gov?Subject=ipr-demo), *Office of Data and Informatics, NIST*.\n",
    "\n",
    "**Zachary T. Trautt**, [zachary.trautt@nist.gov](mailto:zachary.trautt@nist.gov?Subject=ipr-demo), *Materials Measurement Science Division, NIST*.\n",
    "\n",
    "Version: 2017-04-20\n",
    "\n",
    "[Disclaimers](http://www.nist.gov/public_affairs/disclaimer.cfm) \n",
    " \n",
    "- - -"
   ]
  },
  {
   "cell_type": "markdown",
   "metadata": {
    "deletable": true,
    "editable": true
   },
   "source": [
    "## Introduction\n",
    "\n",
    "ElasticConstants.triclinic allows for an ElasticConstants to be changed by supplying the unique triclinic components of Cij individually. All arguments are required.\n",
    "\n",
    "Keyword Arguments:\n",
    "\n",
    "- __C11__ -- component of Cij\n",
    "\n",
    "- __C12__ -- component of Cij\n",
    "\n",
    "- __C13__ -- component of Cij\n",
    "\n",
    "- __C14__ -- component of Cij\n",
    "\n",
    "- __C15__ -- component of Cij\n",
    "\n",
    "- __C16__ -- component of Cij\n",
    "\n",
    "- __C22__ -- component of Cij\n",
    "\n",
    "- __C23__ -- component of Cij\n",
    "\n",
    "- __C24__ -- component of Cij\n",
    "\n",
    "- __C25__ -- component of Cij\n",
    "\n",
    "- __C26__ -- component of Cij\n",
    "\n",
    "- __C33__ -- component of Cij\n",
    "\n",
    "- __C34__ -- component of Cij\n",
    "\n",
    "- __C35__ -- component of Cij\n",
    "\n",
    "- __C36__ -- component of Cij\n",
    "\n",
    "- __C44__ -- component of Cij\n",
    "\n",
    "- __C45__ -- component of Cij\n",
    "\n",
    "- __C46__ -- component of Cij\n",
    "\n",
    "- __C55__ -- component of Cij\n",
    "\n",
    "- __C56__ -- component of Cij\n",
    "\n",
    "- __C66__ -- component of Cij\n",
    "\n",
    "The generated tensor is of the form\n",
    "\n",
    "$$C_{ij} = \\left[ \\begin{array}{ccc}\n",
    "C_{11} & C_{12} & C_{13} & C_{14} & C_{15} & C_{16} \\\\\n",
    "C_{12} & C_{22} & C_{23} & C_{24} & C_{25} & C_{26} \\\\\n",
    "C_{13} & C_{23} & C_{33} & C_{34} & C_{35} & C_{36} \\\\\n",
    "C_{14} & C_{24} & C_{34} & C_{44} & C_{45} & C_{46} \\\\\n",
    "C_{15} & C_{25} & C_{35} & C_{45} & C_{55} & C_{56} \\\\\n",
    "C_{16} & C_{26} & C_{36} & C_{46} & C_{56} & C_{66} \n",
    "\\end{array} \\right]$$\n",
    "\n",
    "The underlying code can be found in [atomman/core/ElasticConstants.py](../../atomman/core/ElasticConstants.py)."
   ]
  },
  {
   "cell_type": "markdown",
   "metadata": {
    "deletable": true,
    "editable": true
   },
   "source": [
    "## Demonstration"
   ]
  },
  {
   "cell_type": "markdown",
   "metadata": {
    "deletable": true,
    "editable": true
   },
   "source": [
    "Library Imports"
   ]
  },
  {
   "cell_type": "code",
   "execution_count": 1,
   "metadata": {
    "collapsed": true,
    "deletable": true,
    "editable": true
   },
   "outputs": [],
   "source": [
    "#Standard libraries\n",
    "from __future__ import print_function\n",
    "\n",
    "#https://github.com/usnistgov/atomman \n",
    "import atomman as am"
   ]
  },
  {
   "cell_type": "markdown",
   "metadata": {},
   "source": [
    "Dummy demonstration with values matching indexes"
   ]
  },
  {
   "cell_type": "code",
   "execution_count": 2,
   "metadata": {
    "collapsed": false,
    "deletable": true,
    "editable": true
   },
   "outputs": [
    {
     "name": "stdout",
     "output_type": "stream",
     "text": [
      "[[ 11.  12.  13.  14.  15.  16.]\n",
      " [ 12.  22.  23.  24.  25.  26.]\n",
      " [ 13.  23.  33.  34.  35.  36.]\n",
      " [ 14.  24.  34.  44.  45.  46.]\n",
      " [ 15.  25.  35.  45.  55.  56.]\n",
      " [ 16.  26.  36.  46.  56.  66.]]\n"
     ]
    }
   ],
   "source": [
    "c = am.ElasticConstants()\n",
    "\n",
    "c.triclinic(C11=11, C22=22, C33=33,\n",
    "            C12=12, C13=13, C23=23,\n",
    "            C44=44, C55=55, C66=66,\n",
    "            C14=14, C15=15, C16=16,\n",
    "            C24=24, C25=25, C26=26,\n",
    "            C34=34, C35=35, C36=36,\n",
    "            C45=45, C46=46, C56=56)\n",
    "            \n",
    "print(c)"
   ]
  },
  {
   "cell_type": "markdown",
   "metadata": {
    "collapsed": true,
    "deletable": true,
    "editable": true
   },
   "source": [
    "__Docs Navigation:__\n",
    "\n",
    "Tutorial:\n",
    "\n",
    "1. [Basics](../tutorial/1 Basics.ipynb)\n",
    "\n",
    "2. [LAMMPS Functionality](../tutorial/2 LAMMPS Functionality.ipynb)\n",
    "\n",
    "3. [Defect Generation and Evaluation](../tutorial/3 Defect Generation and Evaluation.ipynb)\n",
    "\n",
    "\n",
    "Reference:\n",
    "\n",
    "- [atomman](../reference/atomman.ipynb)\n",
    "\n",
    "- [atomman.convert](../reference/atomman.convert.ipynb)\n",
    "\n",
    "- [atomman.defect](../reference/atomman.defect.ipynb)\n",
    "\n",
    "- [atomman.lammps](../reference/atomman.lammps.ipynb)\n",
    "\n",
    "- [atomman.tools](../reference/atomman.tools.ipynb)\n",
    "\n",
    "- [atomman.unitconvert](../reference/atomman.unitconvert.ipynb)"
   ]
  }
 ],
 "metadata": {
  "kernelspec": {
   "display_name": "Python 2",
   "language": "python",
   "name": "python2"
  },
  "language_info": {
   "codemirror_mode": {
    "name": "ipython",
    "version": 2
   },
   "file_extension": ".py",
   "mimetype": "text/x-python",
   "name": "python",
   "nbconvert_exporter": "python",
   "pygments_lexer": "ipython2",
   "version": "2.7.13"
  }
 },
 "nbformat": 4,
 "nbformat_minor": 0
}
