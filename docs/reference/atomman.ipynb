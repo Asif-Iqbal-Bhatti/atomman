{
 "cells": [
  {
   "cell_type": "markdown",
   "metadata": {},
   "source": [
    "# atomman Module \n",
    "\n",
    "- - -"
   ]
  },
  {
   "cell_type": "markdown",
   "metadata": {},
   "source": [
    "**Lucas M. Hale**, [lucas.hale@nist.gov](mailto:lucas.hale@nist.gov?Subject=ipr-demo), *Materials Science and Engineering Division, NIST*.\n",
    "\n",
    "**Chandler A. Becker**, [chandler.becker@nist.gov](mailto:chandler.becker@nist.gov?Subject=ipr-demo), *Office of Data and Informatics, NIST*.\n",
    "\n",
    "**Zachary T. Trautt**, [zachary.trautt@nist.gov](mailto:zachary.trautt@nist.gov?Subject=ipr-demo), *Materials Measurement Science Division, NIST*.\n",
    "\n",
    "Version: 2016-08-23\n",
    "\n",
    "[Disclaimers](http://www.nist.gov/public_affairs/disclaimer.cfm) \n",
    " \n",
    "- - -"
   ]
  },
  {
   "cell_type": "markdown",
   "metadata": {},
   "source": [
    "## Introduction\n",
    "\n",
    "The atomman module is the root module for the atomman package.  The core classes and functions allow for the creation and manipulation of atomic systems in Python. "
   ]
  },
  {
   "cell_type": "markdown",
   "metadata": {},
   "source": [
    "## Classes\n",
    "\n",
    "- [atomman.Atoms](atomman.Atoms.ipynb) represents a list of atoms and user-defined per-atom properties.\n",
    "\n",
    "- [atomman.Box](atomman.Box.ipynb) represents a parallelopid in space as used by atomic systems and unit cells.\n",
    "\n",
    "- [atomman.ElasticConstants](atomman.ElasticConstants.ipynb) represents an elastic constant matrix.\n",
    "\n",
    "- [atomman.System](atomman.System.ipynb) represents an atomic system by combining Atoms and Box."
   ]
  },
  {
   "cell_type": "markdown",
   "metadata": {},
   "source": [
    "## Functions\n",
    "\n",
    "- [atomman.displacement(system_0, system_1)](atomman.displacement.ipynb) calculate the displacement of all atoms in system_1 relative to system_0.\n",
    "\n",
    "- [atomman.dvect(pos_0, pos_1, box, pbc)](atomman.dvect.ipynb) compute the shortest vector(s) between two positions or list of positions accounting for box dimensions and periodic boundary conditions (pbc).\n",
    "\n",
    "- [atomman.hex_to_ortho(cell, tol=1e-5)](atomman.hex_to_ortho.ipynb) converts a standard hexagonal System to a corresponding orthogonal System.\n",
    "\n",
    "- [atomman.load(style, input, \\*\\*kwargs)](atomman.load.ipynb) loads a System and list of elements from an external data type/file.\n",
    "\n",
    "- [atomman.nlist(system, cutoff, cmult=1)](atomman.nlist.ipynb) builds a neighbor list for a System using a specified cutoff radius.\n",
    "\n",
    "- [atomman.rotate(system, axes)](atomman.rotate.ipynb) generically rotates a System.\n",
    "\n",
    "- [atomman.rotate_cubic(system, axes)](atomman.rotate_cubic.ipynb) rotates a cubic System and returns an orthorhombic system such that no faults are formed across periodic boundaries.\n",
    "\n",
    "- [atomman.supersize(system, a_size, b_size, c_size)](atomman.supersize.ipynb) returns a supercell of the system.\n",
    "\n",
    "- [atomman.trig_to_hex(cell, tol=1e-5)](atomman.trig_to_hex.ipynb) converts a standard trigonal System to a corresponding hexagonal System."
   ]
  },
  {
   "cell_type": "markdown",
   "metadata": {},
   "source": [
    "## Submodules\n",
    "\n",
    "- [atomman.convert](atomman.convert.ipynb) contains tools for converting to/from Systems and other formats.\n",
    "\n",
    "- [atomman.defect](atomman.defect.ipynb) contains tools for inserting and characterizing defects in Systems.\n",
    "\n",
    "- [atomman.lammps](atomman.lammps.ipynb) contains tools providing a wrapper for running LAMMPS simulations in Python.\n",
    "\n",
    "- [atomman.tools](atomman.tools.ipynb) contains fundamental utility tools.\n",
    "\n",
    "- [atomman.unitconvert](atomman.unitconvert.ipynb) contains tools for handling unit conversions of values."
   ]
  },
  {
   "cell_type": "markdown",
   "metadata": {},
   "source": [
    "- - -"
   ]
  },
  {
   "cell_type": "markdown",
   "metadata": {},
   "source": [
    "__Docs Navigation:__\n",
    "\n",
    "Tutorial:\n",
    "\n",
    "1. [Basics](../tutorial/1 Basics.ipynb)\n",
    "\n",
    "2. [LAMMPS Functionality](../tutorial/2 LAMMPS Functionality.ipynb)\n",
    "\n",
    "3. [Defect Generation and Evaluation](../tutorial/3 Defect Generation and Evaluation.ipynb)\n",
    "\n",
    "\n",
    "Reference:\n",
    "\n",
    "- [atomman](../reference/atomman.ipynb)\n",
    "\n",
    "- [atomman.convert](../reference/atomman.convert.ipynb)\n",
    "\n",
    "- [atomman.defect](../reference/atomman.defect.ipynb)\n",
    "\n",
    "- [atomman.lammps](../reference/atomman.lammps.ipynb)\n",
    "\n",
    "- [atomman.tools](../reference/atomman.tools.ipynb)\n",
    "\n",
    "- [atomman.unitconvert](../reference/atomman.unitconvert.ipynb)"
   ]
  }
 ],
 "metadata": {
  "kernelspec": {
   "display_name": "Python 2",
   "language": "python",
   "name": "python2"
  },
  "language_info": {
   "codemirror_mode": {
    "name": "ipython",
    "version": 2
   },
   "file_extension": ".py",
   "mimetype": "text/x-python",
   "name": "python",
   "nbconvert_exporter": "python",
   "pygments_lexer": "ipython2",
   "version": "2.7.11"
  }
 },
 "nbformat": 4,
 "nbformat_minor": 0
}
