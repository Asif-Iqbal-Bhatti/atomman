{
 "cells": [
  {
   "cell_type": "markdown",
   "metadata": {
    "deletable": true,
    "editable": true
   },
   "source": [
    "# atomman.System.supersize(self, a_size, b_size, c_size)\n",
    "\n",
    "- - -"
   ]
  },
  {
   "cell_type": "markdown",
   "metadata": {
    "deletable": true,
    "editable": true
   },
   "source": [
    "**Lucas M. Hale**, [lucas.hale@nist.gov](mailto:lucas.hale@nist.gov?Subject=ipr-demo), *Materials Science and Engineering Division, NIST*.\n",
    "\n",
    "**Chandler A. Becker**, [chandler.becker@nist.gov](mailto:chandler.becker@nist.gov?Subject=ipr-demo), *Office of Data and Informatics, NIST*.\n",
    "\n",
    "**Zachary T. Trautt**, [zachary.trautt@nist.gov](mailto:zachary.trautt@nist.gov?Subject=ipr-demo), *Materials Measurement Science Division, NIST*.\n",
    "\n",
    "Version: 2017-04-19\n",
    "\n",
    "[Disclaimers](http://www.nist.gov/public_affairs/disclaimer.cfm) \n",
    " \n",
    "- - -"
   ]
  },
  {
   "cell_type": "markdown",
   "metadata": {
    "deletable": true,
    "editable": true
   },
   "source": [
    "## Introduction\n",
    "\n",
    "The System.supersize method expands the size of the System by changing it into a supercell of itself. This method is a wrapper for the [supersize](atomman.supersize.ipynb) function and automatically saves the larger System to the current System as opposed to returning it.\n",
    "\n",
    "Arguments:\n",
    "\n",
    "- __a_size__ -- integer or tuple of two integers indicating how many times to repeat the system along the System box's a vector.\n",
    "\n",
    "- __b_size__ -- integer or tuple of two integers indicating how many times to repeat the system along the System box's b vector.\n",
    "\n",
    "- __c_size__ -- integer or tuple of two integers indicating how many times to repeat the system along the System box's c vector.\n",
    "\n",
    "Each of the size arguments (a_size, b_size, c_size) can either be a non-zero integer or a tuple of two integers.\n",
    "\n",
    "1. positive integers indicate to expand in the +vects directions.\n",
    "2. negative integers indicate to expand in the -vects directions.\n",
    "3. (negative integer, positive integer) tuples allowing expansion in both directions. The number of copies along the related direction is the difference between the two integers. One of the integers may be zero in which case it is equivalent to only specifying the other non-zero integer.\n",
    "\n",
    "Mixing and matching integers and tuples is acceptable. Sizes of zero are not allowed as they are equivalent to multiplying the System's dimension by zero. \n",
    "\n",
    "The underlying code can be found in [atomman/core/System.py](../../atomman/core/System.py)."
   ]
  },
  {
   "cell_type": "markdown",
   "metadata": {
    "deletable": true,
    "editable": true
   },
   "source": [
    "## Demonstration\n",
    "\n",
    "More demonstrations explaining the different parameter types for the size terms can be found in the [supersize docs Notebook](atomman.supersize.ipynb)."
   ]
  },
  {
   "cell_type": "markdown",
   "metadata": {
    "deletable": true,
    "editable": true
   },
   "source": [
    "Library Imports"
   ]
  },
  {
   "cell_type": "code",
   "execution_count": 1,
   "metadata": {
    "collapsed": false,
    "deletable": true,
    "editable": true
   },
   "outputs": [],
   "source": [
    "#Standard libraries\n",
    "from __future__ import print_function\n",
    "\n",
    "#http://www.numpy.org/\n",
    "import numpy as np    \n",
    "\n",
    "#https://github.com/usnistgov/atomman\n",
    "import atomman as am        "
   ]
  },
  {
   "cell_type": "markdown",
   "metadata": {
    "deletable": true,
    "editable": true
   },
   "source": [
    "Create a demonstration fcc cell"
   ]
  },
  {
   "cell_type": "code",
   "execution_count": 2,
   "metadata": {
    "collapsed": false,
    "deletable": true,
    "editable": true
   },
   "outputs": [
    {
     "name": "stdout",
     "output_type": "stream",
     "text": [
      "avect =  [ 3.640,  0.000,  0.000]\n",
      "bvect =  [ 0.000,  3.640,  0.000]\n",
      "cvect =  [ 0.000,  0.000,  3.640]\n",
      "origin = [ 0.000,  0.000,  0.000]\n",
      "natoms = 4\n",
      "natypes = 1\n",
      "     id |   atype |  pos[0] |  pos[1] |  pos[2]\n",
      "      0 |       1 |   0.000 |   0.000 |   0.000\n",
      "      1 |       1 |   1.820 |   1.820 |   0.000\n",
      "      2 |       1 |   1.820 |   0.000 |   1.820\n",
      "      3 |       1 |   0.000 |   1.820 |   1.820\n"
     ]
    }
   ],
   "source": [
    "alat = 3.64\n",
    "atype = 1\n",
    "pos = np.array([[0.0, 0.0, 0.0], [0.5, 0.5, 0.0], [0.5, 0.0, 0.5], [0.0, 0.5, 0.5]])\n",
    "\n",
    "atoms = am.Atoms(natoms=len(pos), prop={'atype':atype, 'pos':pos})\n",
    "box = am.Box(a=alat, b=alat, c=alat)\n",
    "system = am.System(atoms=atoms, box=box, scale=True)\n",
    "\n",
    "print(system)"
   ]
  },
  {
   "cell_type": "markdown",
   "metadata": {
    "deletable": true,
    "editable": true
   },
   "source": [
    "Call supersize to transform system into  a 2x2x1 supercell of itself"
   ]
  },
  {
   "cell_type": "code",
   "execution_count": 3,
   "metadata": {
    "collapsed": false,
    "deletable": true,
    "editable": true
   },
   "outputs": [
    {
     "name": "stdout",
     "output_type": "stream",
     "text": [
      "avect =  [ 7.280,  0.000,  0.000]\n",
      "bvect =  [ 0.000,  7.280,  0.000]\n",
      "cvect =  [ 0.000,  0.000,  3.640]\n",
      "origin = [-3.640,  0.000,  0.000]\n",
      "natoms = 16\n",
      "natypes = 1\n",
      "     id |   atype |  pos[0] |  pos[1] |  pos[2]\n",
      "      0 |       1 |  -3.640 |   0.000 |   0.000\n",
      "      1 |       1 |  -1.820 |   1.820 |   0.000\n",
      "      2 |       1 |  -1.820 |   0.000 |   1.820\n",
      "      3 |       1 |  -3.640 |   1.820 |   1.820\n",
      "      4 |       1 |   0.000 |   0.000 |   0.000\n",
      "      5 |       1 |   1.820 |   1.820 |   0.000\n",
      "      6 |       1 |   1.820 |   0.000 |   1.820\n",
      "      7 |       1 |   0.000 |   1.820 |   1.820\n",
      "      8 |       1 |  -3.640 |   3.640 |   0.000\n",
      "      9 |       1 |  -1.820 |   5.460 |   0.000\n",
      "     10 |       1 |  -1.820 |   3.640 |   1.820\n",
      "     11 |       1 |  -3.640 |   5.460 |   1.820\n",
      "     12 |       1 |   0.000 |   3.640 |   0.000\n",
      "     13 |       1 |   1.820 |   5.460 |   0.000\n",
      "     14 |       1 |   1.820 |   3.640 |   1.820\n",
      "     15 |       1 |   0.000 |   5.460 |   1.820\n"
     ]
    }
   ],
   "source": [
    "system.supersize((-1,1), 2, 1)\n",
    "print(system)"
   ]
  },
  {
   "cell_type": "markdown",
   "metadata": {
    "collapsed": true,
    "deletable": true,
    "editable": true
   },
   "source": [
    "- - -\n",
    "__Docs Navigation:__\n",
    "\n",
    "Tutorial:\n",
    "\n",
    "1. [Basics](../tutorial/1 Basics.ipynb)\n",
    "\n",
    "2. [LAMMPS Functionality](../tutorial/2 LAMMPS Functionality.ipynb)\n",
    "\n",
    "3. [Defect Generation and Evaluation](../tutorial/3 Defect Generation and Evaluation.ipynb)\n",
    "\n",
    "\n",
    "Reference:\n",
    "\n",
    "- [atomman](../reference/atomman.ipynb)\n",
    "\n",
    "- [atomman.convert](../reference/atomman.convert.ipynb)\n",
    "\n",
    "- [atomman.defect](../reference/atomman.defect.ipynb)\n",
    "\n",
    "- [atomman.lammps](../reference/atomman.lammps.ipynb)\n",
    "\n",
    "- [atomman.tools](../reference/atomman.tools.ipynb)\n",
    "\n",
    "- [atomman.unitconvert](../reference/atomman.unitconvert.ipynb)"
   ]
  }
 ],
 "metadata": {
  "kernelspec": {
   "display_name": "Python 2",
   "language": "python",
   "name": "python2"
  },
  "language_info": {
   "codemirror_mode": {
    "name": "ipython",
    "version": 2
   },
   "file_extension": ".py",
   "mimetype": "text/x-python",
   "name": "python",
   "nbconvert_exporter": "python",
   "pygments_lexer": "ipython2",
   "version": "2.7.13"
  }
 },
 "nbformat": 4,
 "nbformat_minor": 0
}
