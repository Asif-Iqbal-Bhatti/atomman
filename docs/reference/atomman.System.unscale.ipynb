{
 "cells": [
  {
   "cell_type": "markdown",
   "metadata": {},
   "source": [
    "# atomman.System.unscale(self, value)\n",
    "\n",
    "- - -"
   ]
  },
  {
   "cell_type": "markdown",
   "metadata": {},
   "source": [
    "**Lucas M. Hale**, [lucas.hale@nist.gov](mailto:lucas.hale@nist.gov?Subject=ipr-demo), *Materials Science and Engineering Division, NIST*.\n",
    "\n",
    "**Chandler A. Becker**, [chandler.becker@nist.gov](mailto:chandler.becker@nist.gov?Subject=ipr-demo), *Materials Science and Engineering Division, NIST*.\n",
    "\n",
    "**Zachary T. Trautt**, [zachary.trautt@nist.gov](mailto:zachary.trautt@nist.gov?Subject=ipr-demo), *Materials Measurement Science Division, NIST*.\n",
    "\n",
    "Version: 2016-08-28\n",
    "\n",
    "[Disclaimers](http://www.nist.gov/public_affairs/disclaimer.cfm)\n",
    "\n",
    "- - -"
   ]
  },
  {
   "cell_type": "markdown",
   "metadata": {},
   "source": [
    "## Introduction\n",
    "\n",
    "The System.scale method takes a 3D vector or list of 3D vectors in  box relative coordinates associated with System.box's vectors and origin and converts them to absolute Cartesian coordinates. This is used internally by [System.\\__init__](atomman.System.__init__.ipynb), [System.atoms_prop](atomman.System.atoms_prop.ipynb) and [System.box_set](atomman.System.box_set.ipynb) for handling conversions. The inverse conversion function is [System.scale](atomman.System.scale.ipynb).\n",
    "\n",
    "Keyword Arguments:\n",
    "\n",
    "- __value__ -- the 3D vector or list of 3D vectors to convert.\n",
    "\n",
    "\n",
    "The underlying code can be found in [atomman/core/System.py](../../atomman/core/System.py)."
   ]
  },
  {
   "cell_type": "markdown",
   "metadata": {},
   "source": [
    "## Demonstration"
   ]
  },
  {
   "cell_type": "markdown",
   "metadata": {},
   "source": [
    "Library Imports"
   ]
  },
  {
   "cell_type": "code",
   "execution_count": 1,
   "metadata": {
    "collapsed": false
   },
   "outputs": [],
   "source": [
    "#External library imports\n",
    "import numpy as np\n",
    "\n",
    "#atomman imports\n",
    "import atomman as am\n",
    "\n",
    "from copy import deepcopy"
   ]
  },
  {
   "cell_type": "markdown",
   "metadata": {},
   "source": [
    "Create a system for an fcc unit cell with a=3.2 and print the string representation"
   ]
  },
  {
   "cell_type": "code",
   "execution_count": 2,
   "metadata": {
    "collapsed": false
   },
   "outputs": [
    {
     "name": "stdout",
     "output_type": "stream",
     "text": [
      "avect =  [ 3.200,  0.000,  0.000]\n",
      "bvect =  [ 0.000,  3.200,  0.000]\n",
      "cvect =  [ 0.000,  0.000,  3.200]\n",
      "origin = [ 0.000,  0.000,  0.000]\n",
      "natoms = 4\n",
      "natypes = 1\n",
      "     id |   atype |  pos[0] |  pos[1] |  pos[2]\n",
      "      0 |       1 |   0.000 |   0.000 |   0.000\n",
      "      1 |       1 |   1.600 |   1.600 |   0.000\n",
      "      2 |       1 |   1.600 |   0.000 |   1.600\n",
      "      3 |       1 |   0.000 |   1.600 |   1.600\n"
     ]
    }
   ],
   "source": [
    "atoms = am.Atoms(natoms=4)\n",
    "atoms.prop(key='atype', value=1)\n",
    "atoms.prop(key='pos', value=np.array([[0.0, 0.0, 0.0],\n",
    "                                      [0.5, 0.5, 0.0],\n",
    "                                      [0.5, 0.0, 0.5],\n",
    "                                      [0.0, 0.5, 0.5]]))\n",
    "box = am.Box(a=3.2, b=3.2, c=3.2)\n",
    "\n",
    "system = am.System(atoms=atoms, box=box, scale=True)\n",
    "print system"
   ]
  },
  {
   "cell_type": "markdown",
   "metadata": {},
   "source": [
    "In Cartesian coordinates, the middle of the fcc unit cell system is at [1.6, 1.6, 1.6]."
   ]
  },
  {
   "cell_type": "code",
   "execution_count": 3,
   "metadata": {
    "collapsed": false
   },
   "outputs": [
    {
     "name": "stdout",
     "output_type": "stream",
     "text": [
      "[ 1.6  1.6  1.6]\n"
     ]
    }
   ],
   "source": [
    "relative = [0.5, 0.5, 0.5]\n",
    "cartesian = system.unscale(relative)\n",
    "print cartesian"
   ]
  },
  {
   "cell_type": "markdown",
   "metadata": {},
   "source": [
    "[System.scale](atomman.System.scale.ipynb) is the inverse conversion"
   ]
  },
  {
   "cell_type": "code",
   "execution_count": 4,
   "metadata": {
    "collapsed": false
   },
   "outputs": [
    {
     "name": "stdout",
     "output_type": "stream",
     "text": [
      "[ 0.5  0.5  0.5]\n"
     ]
    }
   ],
   "source": [
    "print system.scale(cartesian)"
   ]
  },
  {
   "cell_type": "markdown",
   "metadata": {},
   "source": [
    "This function uses numpy vectorization to also allow for the conversion of a list of vectors"
   ]
  },
  {
   "cell_type": "code",
   "execution_count": 5,
   "metadata": {
    "collapsed": false
   },
   "outputs": [
    {
     "name": "stdout",
     "output_type": "stream",
     "text": [
      "[[  8.86119499e-01   2.19442541e-02   6.02027400e-01]\n",
      " [  9.61128083e-01   6.65548447e-01   7.27685834e-01]\n",
      " [  4.31419173e-01   7.81483273e-01   3.73310627e-01]\n",
      " [  4.18239865e-01   4.51231625e-02   2.16383925e-01]\n",
      " [  2.89667006e-01   7.93102681e-02   3.67719127e-01]\n",
      " [  6.03006937e-01   7.52869018e-01   7.92010428e-01]\n",
      " [  3.08650912e-01   8.31517644e-04   3.87180616e-01]\n",
      " [  6.86118385e-01   9.23143952e-01   4.71508719e-01]\n",
      " [  4.72388975e-01   8.01730185e-01   9.77965182e-01]\n",
      " [  5.99338387e-01   7.81948001e-01   7.49545648e-01]]\n"
     ]
    }
   ],
   "source": [
    "pos_list = np.random.random((10,3))\n",
    "print pos_list"
   ]
  },
  {
   "cell_type": "code",
   "execution_count": 6,
   "metadata": {
    "collapsed": false
   },
   "outputs": [
    {
     "name": "stdout",
     "output_type": "stream",
     "text": [
      "[[  2.83558240e+00   7.02216132e-02   1.92648768e+00]\n",
      " [  3.07560987e+00   2.12975503e+00   2.32859467e+00]\n",
      " [  1.38054135e+00   2.50074647e+00   1.19459400e+00]\n",
      " [  1.33836757e+00   1.44394120e-01   6.92428561e-01]\n",
      " [  9.26934421e-01   2.53792858e-01   1.17670121e+00]\n",
      " [  1.92962220e+00   2.40918086e+00   2.53443337e+00]\n",
      " [  9.87682918e-01   2.66085646e-03   1.23897797e+00]\n",
      " [  2.19557883e+00   2.95406065e+00   1.50882790e+00]\n",
      " [  1.51164472e+00   2.56553659e+00   3.12948858e+00]\n",
      " [  1.91788284e+00   2.50223360e+00   2.39854607e+00]]\n"
     ]
    }
   ],
   "source": [
    "print system.unscale(pos_list)"
   ]
  },
  {
   "cell_type": "markdown",
   "metadata": {
    "collapsed": true
   },
   "source": [
    "- - -\n",
    "__Docs Navigation:__\n",
    "\n",
    "Tutorial:\n",
    "\n",
    "1. [Basics](../tutorial/1 Basics.ipynb)\n",
    "\n",
    "2. [LAMMPS Functionality](../tutorial/2 LAMMPS Functionality.ipynb)\n",
    "\n",
    "3. [Defect Generation and Evaluation](../tutorial/3 Defect Generation and Evaluation.ipynb)\n",
    "\n",
    "\n",
    "Reference:\n",
    "\n",
    "- [atomman](../reference/atomman.ipynb)\n",
    "\n",
    "- [atomman.convert](../reference/atomman.convert.ipynb)\n",
    "\n",
    "- [atomman.defect](../reference/atomman.defect.ipynb)\n",
    "\n",
    "- [atomman.lammps](../reference/atomman.lammps.ipynb)\n",
    "\n",
    "- [atomman.tools](../reference/atomman.tools.ipynb)\n",
    "\n",
    "- [atomman.unitconvert](../reference/atomman.unitconvert.ipynb)"
   ]
  }
 ],
 "metadata": {
  "kernelspec": {
   "display_name": "Python 2",
   "language": "python",
   "name": "python2"
  },
  "language_info": {
   "codemirror_mode": {
    "name": "ipython",
    "version": 2
   },
   "file_extension": ".py",
   "mimetype": "text/x-python",
   "name": "python",
   "nbconvert_exporter": "python",
   "pygments_lexer": "ipython2",
   "version": "2.7.11"
  }
 },
 "nbformat": 4,
 "nbformat_minor": 0
}
