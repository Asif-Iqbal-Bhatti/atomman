{
 "cells": [
  {
   "cell_type": "markdown",
   "metadata": {},
   "source": [
    "# atomman.Box.is_lammps_norm(self)\n",
    "\n",
    "- - -"
   ]
  },
  {
   "cell_type": "markdown",
   "metadata": {},
   "source": [
    "**Lucas M. Hale**, [lucas.hale@nist.gov](mailto:lucas.hale@nist.gov?Subject=ipr-demo), *Materials Science and Engineering Division, NIST*.\n",
    "\n",
    "**Chandler A. Becker**, [chandler.becker@nist.gov](mailto:chandler.becker@nist.gov?Subject=ipr-demo), *Office of Data and Informatics, NIST*.\n",
    "\n",
    "**Zachary T. Trautt**, [zachary.trautt@nist.gov](mailto:zachary.trautt@nist.gov?Subject=ipr-demo), *Materials Measurement Science Division, NIST*.\n",
    "\n",
    "Version: 2016-09-02\n",
    "\n",
    "[Disclaimers](http://www.nist.gov/public_affairs/disclaimer.cfm) \n",
    " \n",
    "- - -"
   ]
  },
  {
   "cell_type": "markdown",
   "metadata": {},
   "source": [
    "## Introduction\n",
    "\n",
    "The Box.is_lammps_norm() method returns True if the Box's vectors are compatible with use in LAMMPS, and False if it is not compatible. \n",
    "\n",
    "In LAMMPS, the Box vectors must conform to the following rules:\n",
    "\n",
    "    avect = [ lx, 0.0, 0.0]\n",
    "    bvect = [ xy,  ly, 0.0]\n",
    "    cvect = [ xz,  yz,  lz]\n",
    "    avect, bvect, cvect are right-handed.\n",
    "    \n",
    "Note that the Box vectors of any general parallelopid can be transformed to conform to these rules. \n",
    "\n",
    "__WARNING!__ Tilt factors are not tested for compliance with LAMMPS. If large angles/tilt factors are present, the command \"box tilt large\" may be required in the LAMMPS input script.\n",
    "\n",
    "The underlying code can be found in [atomman/core/Box.py](../../atomman/core/Box.py).\n",
    "\n",
    "- - -"
   ]
  },
  {
   "cell_type": "markdown",
   "metadata": {},
   "source": [
    "## Demonstration"
   ]
  },
  {
   "cell_type": "markdown",
   "metadata": {},
   "source": [
    "Library Imports"
   ]
  },
  {
   "cell_type": "code",
   "execution_count": 1,
   "metadata": {
    "collapsed": true
   },
   "outputs": [],
   "source": [
    "import atomman as am\n",
    "\n",
    "import numpy as np"
   ]
  },
  {
   "cell_type": "markdown",
   "metadata": {},
   "source": [
    "### Always LAMMPS compatible\n",
    "\n",
    "A Box will always be LAMMPS compatible if it is defined using one of the following methods:\n",
    "\n",
    "- [Box.set_abc](atomman.Box.set_abc.ipynb)\n",
    "\n",
    "- [Box.set_lengths](atomman.Box.set_lengths.ipynb)\n",
    "\n",
    "- [Box.set_hi_los](atomman.Box.set_hi_los.ipynb)\n",
    "\n",
    "- [Box.set](atomman.Box.set.ipynb) using arguments consistent with one of the above set methods\n",
    "\n",
    "- [Box initializer](atomman.Box.__init__.ipynb) using arguments consistent with one of the above set methods"
   ]
  },
  {
   "cell_type": "code",
   "execution_count": 5,
   "metadata": {
    "collapsed": false
   },
   "outputs": [
    {
     "name": "stdout",
     "output_type": "stream",
     "text": [
      "True\n"
     ]
    }
   ],
   "source": [
    "box = am.Box(lx = np.random.random(), \n",
    "             ly = np.random.random(), \n",
    "             lz = np.random.random(), \n",
    "             xy = np.random.random(), \n",
    "             xz = np.random.random(),\n",
    "             yz = np.random.random())\n",
    "print box.is_lammps_norm()"
   ]
  },
  {
   "cell_type": "markdown",
   "metadata": {},
   "source": [
    "### May not be LAMMPS compatible\n",
    "\n",
    "The following methods allow for generic Boxes to be defined that may or may not be LAMMPS compatible:\n",
    "\n",
    "- [Box.set_vectors](atomman.Box.set_vectors.ipynb)\n",
    "\n",
    "- [Box.set](atomman.Box.set.ipynb) using the vects argument or the avect, bvect, cvect arguments\n",
    "\n",
    "- [Box initializer](atomman.Box.__init__.ipynb) using the vects argument or the avect, bvect, cvect arguments\n",
    "\n",
    "- Directly assigning a new value to [Box.vects](atomman.Box.vects.ipynb)"
   ]
  },
  {
   "cell_type": "code",
   "execution_count": 6,
   "metadata": {
    "collapsed": false
   },
   "outputs": [
    {
     "name": "stdout",
     "output_type": "stream",
     "text": [
      "True\n"
     ]
    }
   ],
   "source": [
    "#this is LAMMPS compatible\n",
    "box.vects = np.array([[1.0, 0.0, 0.0],\n",
    "                      [0.1, 1.0, 0.0],\n",
    "                      [0.1, 0.1, 1.0]])\n",
    "print box.is_lammps_norm()"
   ]
  },
  {
   "cell_type": "code",
   "execution_count": 7,
   "metadata": {
    "collapsed": false
   },
   "outputs": [
    {
     "name": "stdout",
     "output_type": "stream",
     "text": [
      "False\n"
     ]
    }
   ],
   "source": [
    "#this is not LAMMPS compatible\n",
    "box.vects = np.array([[1.0, 0.1, 0.0],\n",
    "                      [0.1, 1.0, 0.0],\n",
    "                      [0.1, 0.1, 1.0]])\n",
    "print box.is_lammps_norm()"
   ]
  },
  {
   "cell_type": "markdown",
   "metadata": {},
   "source": [
    "### Transforming a Box to be LAMMPS compatible\n",
    "\n",
    "In atomman, a System can be transformed to be LAMMPS compatible using the [atomman.lammps.normalize](atomman.lammps.normalize.ipynb) function. This acts on the System level to ensure that atom positions are properly mapped over during the transformation.\n",
    "\n",
    "If you must do the conversion at the Box level (without atoms), the easiest way is to use [Box.set_abc](atomman.Box.set_abc.ipynb)."
   ]
  },
  {
   "cell_type": "code",
   "execution_count": 11,
   "metadata": {
    "collapsed": false
   },
   "outputs": [
    {
     "name": "stdout",
     "output_type": "stream",
     "text": [
      "avect =  [ 0.408,  0.252,  0.473]\n",
      "bvect =  [ 0.618,  0.616,  0.352]\n",
      "cvect =  [ 0.551,  0.958,  0.890]\n",
      "origin = [ 0.000,  0.000,  0.000]\n",
      "False\n"
     ]
    }
   ],
   "source": [
    "#Build a Box with random vectors\n",
    "vects = np.random.random((3,3))\n",
    "origin = np.random.random(3)\n",
    "box.set(vects=vects)\n",
    "print box\n",
    "print box.is_lammps_norm()"
   ]
  },
  {
   "cell_type": "code",
   "execution_count": 12,
   "metadata": {
    "collapsed": false
   },
   "outputs": [
    {
     "name": "stdout",
     "output_type": "stream",
     "text": [
      "avect =  [ 0.673,  0.000,  0.000]\n",
      "bvect =  [ 0.852,  0.399,  0.000]\n",
      "cvect =  [ 1.317,  0.305,  0.430]\n",
      "origin = [ 0.000,  0.000,  0.000]\n",
      "True\n"
     ]
    }
   ],
   "source": [
    "#Normalize by passing parameters back through set_abc\n",
    "box.set_abc(box.a, box.b, box.c, box.alpha, box.beta, box.gamma)\n",
    "print box\n",
    "print box.is_lammps_norm()"
   ]
  },
  {
   "cell_type": "markdown",
   "metadata": {},
   "source": [
    "__Docs Navigation:__\n",
    "\n",
    "Tutorial:\n",
    "\n",
    "1. [Basics](../tutorial/1 Basics.ipynb)\n",
    "\n",
    "2. [LAMMPS Functionality](../tutorial/2 LAMMPS Functionality.ipynb)\n",
    "\n",
    "3. [Defect Generation and Evaluation](../tutorial/3 Defect Generation and Evaluation.ipynb)\n",
    "\n",
    "\n",
    "Reference:\n",
    "\n",
    "- [atomman](../reference/atomman.ipynb)\n",
    "\n",
    "- [atomman.convert](../reference/atomman.convert.ipynb)\n",
    "\n",
    "- [atomman.defect](../reference/atomman.defect.ipynb)\n",
    "\n",
    "- [atomman.lammps](../reference/atomman.lammps.ipynb)\n",
    "\n",
    "- [atomman.tools](../reference/atomman.tools.ipynb)\n",
    "\n",
    "- [atomman.unitconvert](../reference/atomman.unitconvert.ipynb)"
   ]
  }
 ],
 "metadata": {
  "kernelspec": {
   "display_name": "Python 2",
   "language": "python",
   "name": "python2"
  },
  "language_info": {
   "codemirror_mode": {
    "name": "ipython",
    "version": 2
   },
   "file_extension": ".py",
   "mimetype": "text/x-python",
   "name": "python",
   "nbconvert_exporter": "python",
   "pygments_lexer": "ipython2",
   "version": "2.7.11"
  }
 },
 "nbformat": 4,
 "nbformat_minor": 0
}
