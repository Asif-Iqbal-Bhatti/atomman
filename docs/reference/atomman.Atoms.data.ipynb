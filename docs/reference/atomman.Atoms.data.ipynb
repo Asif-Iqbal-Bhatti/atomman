{
 "cells": [
  {
   "cell_type": "markdown",
   "metadata": {
    "deletable": true,
    "editable": true
   },
   "source": [
    "# atomman.Atoms.data\n",
    "\n",
    "- - -"
   ]
  },
  {
   "cell_type": "markdown",
   "metadata": {
    "deletable": true,
    "editable": true
   },
   "source": [
    "**Lucas M. Hale**, [lucas.hale@nist.gov](mailto:lucas.hale@nist.gov?Subject=ipr-demo), *Materials Science and Engineering Division, NIST*.\n",
    "\n",
    "**Chandler A. Becker**, [chandler.becker@nist.gov](mailto:chandler.becker@nist.gov?Subject=ipr-demo), *Office of Data and Informatics, NIST*.\n",
    "\n",
    "**Zachary T. Trautt**, [zachary.trautt@nist.gov](mailto:zachary.trautt@nist.gov?Subject=ipr-demo), *Materials Measurement Science Division, NIST*.\n",
    "\n",
    "Version: 2017-04-19\n",
    "\n",
    "[Disclaimers](http://www.nist.gov/public_affairs/disclaimer.cfm) \n",
    " \n",
    "- - -"
   ]
  },
  {
   "cell_type": "markdown",
   "metadata": {
    "deletable": true,
    "editable": true
   },
   "source": [
    "## Introduction\n",
    "\n",
    "The underlying array storing per-atom properties of an Atoms instance can be directly accessed as Atoms.data. Typical usage should never use this attribute: use [Atoms.prop()](atomman.Atoms.prop.ipynb) or [Atoms.view](atomman.Atoms.view.ipynb) instead as they provide more structured control.  \n",
    "\n",
    "The underlying code can be found in [atomman/core/Atoms.py](../../atomman/core/Atoms.py).\n",
    "\n",
    "- - -"
   ]
  },
  {
   "cell_type": "markdown",
   "metadata": {
    "deletable": true,
    "editable": true
   },
   "source": [
    "## Demonstration"
   ]
  },
  {
   "cell_type": "markdown",
   "metadata": {
    "deletable": true,
    "editable": true
   },
   "source": [
    "Library Imports"
   ]
  },
  {
   "cell_type": "code",
   "execution_count": 1,
   "metadata": {
    "collapsed": false,
    "deletable": true,
    "editable": true
   },
   "outputs": [],
   "source": [
    "#Standard libraries\n",
    "from __future__ import print_function\n",
    "\n",
    "#http://www.numpy.org/\n",
    "import numpy as np    \n",
    "\n",
    "#https://github.com/usnistgov/atomman\n",
    "import atomman as am   "
   ]
  },
  {
   "cell_type": "code",
   "execution_count": 2,
   "metadata": {
    "collapsed": false,
    "deletable": true,
    "editable": true
   },
   "outputs": [
    {
     "name": "stdout",
     "output_type": "stream",
     "text": [
      "     id |   atype |  pos[0] |  pos[1] |  pos[2]\n",
      "      0 |       1 |   0.263 |   0.135 |   0.341\n",
      "      1 |       2 |   0.274 |   0.609 |   0.095\n",
      "      2 |       3 |   0.731 |   0.989 |   0.393\n",
      "      3 |       4 |   0.394 |   0.473 |   0.421\n",
      "      4 |       5 |   0.258 |   0.514 |   0.298\n"
     ]
    }
   ],
   "source": [
    "atoms = am.Atoms(natoms=5, prop={'atype':range(1,6), 'pos':np.random.rand(5,3)}, nvals=5)\n",
    "print(atoms)"
   ]
  },
  {
   "cell_type": "markdown",
   "metadata": {
    "deletable": true,
    "editable": true
   },
   "source": [
    "data is a numpy array of floats containing the per-atom property values with shape (natoms, nvals)"
   ]
  },
  {
   "cell_type": "code",
   "execution_count": 3,
   "metadata": {
    "collapsed": false,
    "deletable": true,
    "editable": true
   },
   "outputs": [
    {
     "name": "stdout",
     "output_type": "stream",
     "text": [
      "[[ 1.          0.26294591  0.13474329  0.34072968  0.        ]\n",
      " [ 2.          0.27403564  0.60931463  0.09528169  0.        ]\n",
      " [ 3.          0.73081195  0.98928243  0.39304874  0.        ]\n",
      " [ 4.          0.39362117  0.47325708  0.42118945  0.        ]\n",
      " [ 5.          0.25778257  0.51390521  0.29776872  0.        ]]\n"
     ]
    }
   ],
   "source": [
    "print(atoms.data)"
   ]
  },
  {
   "cell_type": "markdown",
   "metadata": {
    "deletable": true,
    "editable": true
   },
   "source": [
    "Assigned property values are flattened when added. The number of values is automatically increased by the prop method if necessary by generating a new Atoms.data array."
   ]
  },
  {
   "cell_type": "code",
   "execution_count": 4,
   "metadata": {
    "collapsed": false,
    "deletable": true,
    "editable": true
   },
   "outputs": [
    {
     "name": "stdout",
     "output_type": "stream",
     "text": [
      "[[  1.00000000e+00   2.62945913e-01   1.34743286e-01   3.40729680e-01\n",
      "    8.00131574e-01   1.42062717e-01   4.19910300e-01   4.38094178e-01\n",
      "    0.00000000e+00   0.00000000e+00   0.00000000e+00   0.00000000e+00\n",
      "    0.00000000e+00   0.00000000e+00   0.00000000e+00   0.00000000e+00\n",
      "    0.00000000e+00   0.00000000e+00]\n",
      " [  2.00000000e+00   2.74035637e-01   6.09314629e-01   9.52816894e-02\n",
      "    9.54686405e-01   7.01908141e-01   7.80354342e-02   8.19248203e-01\n",
      "    0.00000000e+00   0.00000000e+00   0.00000000e+00   0.00000000e+00\n",
      "    0.00000000e+00   0.00000000e+00   0.00000000e+00   0.00000000e+00\n",
      "    0.00000000e+00   0.00000000e+00]\n",
      " [  3.00000000e+00   7.30811954e-01   9.89282431e-01   3.93048743e-01\n",
      "    3.89266324e-01   5.90167098e-01   2.36364849e-01   2.98072460e-01\n",
      "    0.00000000e+00   0.00000000e+00   0.00000000e+00   0.00000000e+00\n",
      "    0.00000000e+00   0.00000000e+00   0.00000000e+00   0.00000000e+00\n",
      "    0.00000000e+00   0.00000000e+00]\n",
      " [  4.00000000e+00   3.93621168e-01   4.73257080e-01   4.21189448e-01\n",
      "    8.62124001e-01   8.38946407e-01   8.57478622e-01   5.54636263e-01\n",
      "    0.00000000e+00   0.00000000e+00   0.00000000e+00   0.00000000e+00\n",
      "    0.00000000e+00   0.00000000e+00   0.00000000e+00   0.00000000e+00\n",
      "    0.00000000e+00   0.00000000e+00]\n",
      " [  5.00000000e+00   2.57782566e-01   5.13905215e-01   2.97768723e-01\n",
      "    4.99536365e-01   4.03353427e-01   4.40030961e-01   1.84928756e-03\n",
      "    0.00000000e+00   0.00000000e+00   0.00000000e+00   0.00000000e+00\n",
      "    0.00000000e+00   0.00000000e+00   0.00000000e+00   0.00000000e+00\n",
      "    0.00000000e+00   0.00000000e+00]]\n"
     ]
    }
   ],
   "source": [
    "atoms.prop(key='extra', value=np.random.rand(5,2,2))\n",
    "print(atoms.data)"
   ]
  },
  {
   "cell_type": "markdown",
   "metadata": {
    "deletable": true,
    "editable": true
   },
   "source": [
    "__WARNING!__ atoms.data offers no association between values and property names/shapes. As such, it is very easy to save values to an index associated with the wrong property or no property at all. If you want direct access to the values, use [Atoms.view](atomman.Atoms.view.ipynb) instead."
   ]
  },
  {
   "cell_type": "markdown",
   "metadata": {
    "deletable": true,
    "editable": true
   },
   "source": [
    "__WARNING!__ Since all data is stored as floats and only converted with the [Atoms.prop()](atomman.Atoms.prop.ipynb) method, direct access of [Atoms.data](atomman.Atoms.data.ipynb), [Atoms.view](atomman.Atoms.view.ipynb) and [Atoms.dtype](atomman.Atoms.dtype.ipynb) offers no data type control."
   ]
  },
  {
   "cell_type": "code",
   "execution_count": 5,
   "metadata": {
    "collapsed": false,
    "deletable": true,
    "editable": true
   },
   "outputs": [
    {
     "name": "stdout",
     "output_type": "stream",
     "text": [
      "atoms.data[0,0] -> 12.123\n",
      "atoms.prop(key='atype', a_id=0) -> 12\n"
     ]
    }
   ],
   "source": [
    "#This saves a float to the first atom's atype\n",
    "atoms.data[0,0] = 12.123\n",
    "print('atoms.data[0,0] ->', atoms.data[0,0])\n",
    "\n",
    "#but atype values are still converted to ints in prop()\n",
    "print(\"atoms.prop(key='atype', a_id=0) ->\", atoms.prop(key='atype', a_id=0))"
   ]
  },
  {
   "cell_type": "markdown",
   "metadata": {
    "deletable": true,
    "editable": true
   },
   "source": [
    "__Docs Navigation:__\n",
    "\n",
    "Tutorial:\n",
    "\n",
    "1. [Basics](../tutorial/1 Basics.ipynb)\n",
    "\n",
    "2. [LAMMPS Functionality](../tutorial/2 LAMMPS Functionality.ipynb)\n",
    "\n",
    "3. [Defect Generation and Evaluation](../tutorial/3 Defect Generation and Evaluation.ipynb)\n",
    "\n",
    "\n",
    "Reference:\n",
    "\n",
    "- [atomman](../reference/atomman.ipynb)\n",
    "\n",
    "- [atomman.convert](../reference/atomman.convert.ipynb)\n",
    "\n",
    "- [atomman.defect](../reference/atomman.defect.ipynb)\n",
    "\n",
    "- [atomman.lammps](../reference/atomman.lammps.ipynb)\n",
    "\n",
    "- [atomman.tools](../reference/atomman.tools.ipynb)\n",
    "\n",
    "- [atomman.unitconvert](../reference/atomman.unitconvert.ipynb)"
   ]
  }
 ],
 "metadata": {
  "kernelspec": {
   "display_name": "Python 2",
   "language": "python",
   "name": "python2"
  },
  "language_info": {
   "codemirror_mode": {
    "name": "ipython",
    "version": 2
   },
   "file_extension": ".py",
   "mimetype": "text/x-python",
   "name": "python",
   "nbconvert_exporter": "python",
   "pygments_lexer": "ipython2",
   "version": "2.7.13"
  }
 },
 "nbformat": 4,
 "nbformat_minor": 0
}
