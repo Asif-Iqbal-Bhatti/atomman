{
 "cells": [
  {
   "cell_type": "markdown",
   "metadata": {},
   "source": [
    "# atomman.defect.vacancy(system, pos=None, ptd_id=None, scale=False, atol=None)\n",
    "\n",
    "- - -"
   ]
  },
  {
   "cell_type": "markdown",
   "metadata": {},
   "source": [
    "**Lucas M. Hale**, [lucas.hale@nist.gov](mailto:lucas.hale@nist.gov?Subject=ipr-demo), *Materials Science and Engineering Division, NIST*.\n",
    "\n",
    "**Chandler A. Becker**, [chandler.becker@nist.gov](mailto:chandler.becker@nist.gov?Subject=ipr-demo), *Office of Data and Informatics, NIST*.\n",
    "\n",
    "**Zachary T. Trautt**, [zachary.trautt@nist.gov](mailto:zachary.trautt@nist.gov?Subject=ipr-demo), *Materials Measurement Science Division, NIST*.\n",
    "\n",
    "Version: 2016-09-02\n",
    "\n",
    "[Disclaimers](http://www.nist.gov/public_affairs/disclaimer.cfm) \n",
    " \n",
    "- - -"
   ]
  },
  {
   "cell_type": "markdown",
   "metadata": {},
   "source": [
    "## Introduction\n",
    "\n",
    "The vacancy function allows for the insertion of a vacancy point defect into a System.\n",
    "\n",
    "Arguments:\n",
    "\n",
    "- __system__ -- the [atomman.System](atomman.System.ipynb) to add the defect to.\n",
    "\n",
    "Keyword Arguments:\n",
    "\n",
    "- __pos__ -- position for adding the defect atom.\n",
    "\n",
    "- __ptd_id__ -- atom id where defect is added.  Alternative to using pos.\n",
    "\n",
    "- __scale__ -- indicates if pos is absolute (False) or box-relative (True). Default is False.\n",
    "\n",
    "- __atol__ -- absolute tolerance for position-based searching. Default is 1e-3 angstroms.\n",
    "\n",
    "The returned System will be assigned an atoms property \"old_id\" if it doesn't exist which corresponds to the index values of all atoms from the base System supplied as an argument.  If \"old_id\" already exists, then the values of existing atoms will be unchanged. \n",
    "\n",
    "Alternatively, this function and the other point defect generation functions can all be accessed using the [atomman.defect.point](atomman.defect.point) function.\n",
    "\n",
    "The underlying code can be found in [atomman/defect/point.py](../../atomman/defect/point.py)."
   ]
  },
  {
   "cell_type": "markdown",
   "metadata": {},
   "source": [
    "## Demonstration"
   ]
  },
  {
   "cell_type": "markdown",
   "metadata": {},
   "source": [
    "Library imports"
   ]
  },
  {
   "cell_type": "code",
   "execution_count": 1,
   "metadata": {
    "collapsed": true
   },
   "outputs": [],
   "source": [
    "import atomman as am\n",
    "import numpy as np"
   ]
  },
  {
   "cell_type": "markdown",
   "metadata": {},
   "source": [
    "Generate demonstration system with random atomic positions"
   ]
  },
  {
   "cell_type": "code",
   "execution_count": 2,
   "metadata": {
    "collapsed": false
   },
   "outputs": [],
   "source": [
    "box = am.Box(a=10, b=10, c=10)\n",
    "atoms = am.Atoms(natoms=20, prop={'atype':1, 'pos':10*np.random.random((20,3))})\n",
    "\n",
    "system = am.System(atoms=atoms, box=box)"
   ]
  },
  {
   "cell_type": "markdown",
   "metadata": {},
   "source": [
    "Print all atom ids old_ids, atypes and positions"
   ]
  },
  {
   "cell_type": "code",
   "execution_count": 3,
   "metadata": {
    "collapsed": false
   },
   "outputs": [
    {
     "name": "stdout",
     "output_type": "stream",
     "text": [
      "     id  old_id  atype                  position\n",
      "     0   None      1     [ 9.39321942  4.78692429  9.48872971]\n",
      "     1   None      1     [ 7.72649005  5.28611658  0.45103828]\n",
      "     2   None      1     [ 2.2934504   8.19173732  3.15772852]\n",
      "     3   None      1     [ 7.69379879  7.30687363  5.08430578]\n",
      "     4   None      1     [ 3.85377714  0.96607403  6.76109431]\n",
      "     5   None      1     [ 7.79606659  5.33788976  4.45220213]\n",
      "     6   None      1     [ 0.92304612  7.97800081  7.53453851]\n",
      "     7   None      1     [ 6.51504811  5.94493489  8.4637055 ]\n",
      "     8   None      1     [ 1.65207768  2.35890938  5.91736349]\n",
      "     9   None      1     [ 2.41190571  0.06883276  8.85768849]\n",
      "    10   None      1     [ 6.4520425   7.20935024  8.09778096]\n",
      "    11   None      1     [ 9.41397542  7.28908681  1.54511395]\n",
      "    12   None      1     [ 0.40018809  4.42111589  6.46223928]\n",
      "    13   None      1     [ 0.81500597  5.47611196  0.28341551]\n",
      "    14   None      1     [ 8.45162619  4.5323088   4.52653634]\n",
      "    15   None      1     [ 1.90431785  1.08478626  6.12469933]\n",
      "    16   None      1     [ 2.6613801   2.59228982  3.924691  ]\n",
      "    17   None      1     [ 7.2306323   0.232463    9.03779684]\n",
      "    18   None      1     [ 1.96229029  9.44019431  8.56494986]\n",
      "    19   None      1     [ 2.52218108  6.15801823  1.77053396]\n"
     ]
    }
   ],
   "source": [
    "print '     id  old_id  atype                  position'\n",
    "for i in xrange(system.natoms):\n",
    "    print '%6s %6s %6s     %s' %(i, system.atoms_prop(a_id=i, key='old_id'), \n",
    "                                    system.atoms_prop(a_id=i, key='atype'), \n",
    "                                str(system.atoms_prop(a_id=i, key='pos')))"
   ]
  },
  {
   "cell_type": "markdown",
   "metadata": {},
   "source": [
    "Add a vacancy using ptd_id"
   ]
  },
  {
   "cell_type": "code",
   "execution_count": 4,
   "metadata": {
    "collapsed": false
   },
   "outputs": [],
   "source": [
    "system_v = am.defect.vacancy(system, ptd_id=5)"
   ]
  },
  {
   "cell_type": "markdown",
   "metadata": {},
   "source": [
    "Add another vacancy using pos"
   ]
  },
  {
   "cell_type": "code",
   "execution_count": 5,
   "metadata": {
    "collapsed": true
   },
   "outputs": [],
   "source": [
    "#Get position for atom with id=3\n",
    "v_pos = system.atoms_prop(a_id=3, key='pos')\n",
    "system_v = am.defect.vacancy(system_v, pos=v_pos)"
   ]
  },
  {
   "cell_type": "markdown",
   "metadata": {},
   "source": [
    "Print all atom ids old_ids, atypes and positions. Note old_ids are missing 3 and 5 (the deleted atoms)."
   ]
  },
  {
   "cell_type": "code",
   "execution_count": 6,
   "metadata": {
    "collapsed": false
   },
   "outputs": [
    {
     "name": "stdout",
     "output_type": "stream",
     "text": [
      "     id  old_id  atype                  position\n",
      "     0      0      1     [ 9.39321942  4.78692429  9.48872971]\n",
      "     1      1      1     [ 7.72649005  5.28611658  0.45103828]\n",
      "     2      2      1     [ 2.2934504   8.19173732  3.15772852]\n",
      "     3      4      1     [ 3.85377714  0.96607403  6.76109431]\n",
      "     4      6      1     [ 0.92304612  7.97800081  7.53453851]\n",
      "     5      7      1     [ 6.51504811  5.94493489  8.4637055 ]\n",
      "     6      8      1     [ 1.65207768  2.35890938  5.91736349]\n",
      "     7      9      1     [ 2.41190571  0.06883276  8.85768849]\n",
      "     8     10      1     [ 6.4520425   7.20935024  8.09778096]\n",
      "     9     11      1     [ 9.41397542  7.28908681  1.54511395]\n",
      "    10     12      1     [ 0.40018809  4.42111589  6.46223928]\n",
      "    11     13      1     [ 0.81500597  5.47611196  0.28341551]\n",
      "    12     14      1     [ 8.45162619  4.5323088   4.52653634]\n",
      "    13     15      1     [ 1.90431785  1.08478626  6.12469933]\n",
      "    14     16      1     [ 2.6613801   2.59228982  3.924691  ]\n",
      "    15     17      1     [ 7.2306323   0.232463    9.03779684]\n",
      "    16     18      1     [ 1.96229029  9.44019431  8.56494986]\n",
      "    17     19      1     [ 2.52218108  6.15801823  1.77053396]\n"
     ]
    }
   ],
   "source": [
    "print '     id  old_id  atype                  position'\n",
    "for i in xrange(system_v.natoms):\n",
    "    print '%6s %6s %6s     %s' %(i, system_v.atoms_prop(a_id=i, key='old_id'), \n",
    "                                    system_v.atoms_prop(a_id=i, key='atype'), \n",
    "                                str(system_v.atoms_prop(a_id=i, key='pos')))"
   ]
  },
  {
   "cell_type": "markdown",
   "metadata": {},
   "source": [
    "- - -\n",
    "__Docs Navigation:__\n",
    "\n",
    "Tutorial:\n",
    "\n",
    "1. [Basics](../tutorial/1 Basics.ipynb)\n",
    "\n",
    "2. [LAMMPS Functionality](../tutorial/2 LAMMPS Functionality.ipynb)\n",
    "\n",
    "3. [Defect Generation and Evaluation](../tutorial/3 Defect Generation and Evaluation.ipynb)\n",
    "\n",
    "\n",
    "Reference:\n",
    "\n",
    "- [atomman](../reference/atomman.ipynb)\n",
    "\n",
    "- [atomman.convert](../reference/atomman.convert.ipynb)\n",
    "\n",
    "- [atomman.defect](../reference/atomman.defect.ipynb)\n",
    "\n",
    "- [atomman.lammps](../reference/atomman.lammps.ipynb)\n",
    "\n",
    "- [atomman.tools](../reference/atomman.tools.ipynb)\n",
    "\n",
    "- [atomman.unitconvert](../reference/atomman.unitconvert.ipynb)"
   ]
  }
 ],
 "metadata": {
  "kernelspec": {
   "display_name": "Python 2",
   "language": "python",
   "name": "python2"
  },
  "language_info": {
   "codemirror_mode": {
    "name": "ipython",
    "version": 2
   },
   "file_extension": ".py",
   "mimetype": "text/x-python",
   "name": "python",
   "nbconvert_exporter": "python",
   "pygments_lexer": "ipython2",
   "version": "2.7.11"
  }
 },
 "nbformat": 4,
 "nbformat_minor": 0
}
