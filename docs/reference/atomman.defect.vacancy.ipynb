{
 "cells": [
  {
   "cell_type": "markdown",
   "metadata": {
    "deletable": true,
    "editable": true
   },
   "source": [
    "# atomman.defect.vacancy(system, pos=None, ptd_id=None, scale=False, atol=None)\n",
    "\n",
    "- - -"
   ]
  },
  {
   "cell_type": "markdown",
   "metadata": {
    "deletable": true,
    "editable": true
   },
   "source": [
    "**Lucas M. Hale**, [lucas.hale@nist.gov](mailto:lucas.hale@nist.gov?Subject=ipr-demo), *Materials Science and Engineering Division, NIST*.\n",
    "\n",
    "**Chandler A. Becker**, [chandler.becker@nist.gov](mailto:chandler.becker@nist.gov?Subject=ipr-demo), *Office of Data and Informatics, NIST*.\n",
    "\n",
    "**Zachary T. Trautt**, [zachary.trautt@nist.gov](mailto:zachary.trautt@nist.gov?Subject=ipr-demo), *Materials Measurement Science Division, NIST*.\n",
    "\n",
    "Version: 2017-04-21\n",
    "\n",
    "[Disclaimers](http://www.nist.gov/public_affairs/disclaimer.cfm) \n",
    " \n",
    "- - -"
   ]
  },
  {
   "cell_type": "markdown",
   "metadata": {
    "deletable": true,
    "editable": true
   },
   "source": [
    "## Introduction\n",
    "\n",
    "The vacancy function allows for the insertion of a vacancy point defect into a System.\n",
    "\n",
    "Arguments:\n",
    "\n",
    "- __system__ -- the [atomman.System](atomman.System.ipynb) to add the defect to.\n",
    "\n",
    "Keyword Arguments:\n",
    "\n",
    "- __pos__ -- position for adding the defect atom.\n",
    "\n",
    "- __ptd_id__ -- atom id where defect is added.  Alternative to using pos.\n",
    "\n",
    "- __scale__ -- indicates if pos is absolute (False) or box-relative (True). Default is False.\n",
    "\n",
    "- __atol__ -- absolute tolerance for position-based searching. Default is 1e-3 angstroms.\n",
    "\n",
    "The returned System will be assigned an atoms property \"old_id\" if it doesn't exist which corresponds to the index values of all atoms from the base System supplied as an argument.  If \"old_id\" already exists, then the values of existing atoms will be unchanged. \n",
    "\n",
    "Alternatively, this function and the other point defect generation functions can all be accessed using the [atomman.defect.point](atomman.defect.point) function.\n",
    "\n",
    "The underlying code can be found in [atomman/defect/point.py](../../atomman/defect/point.py)."
   ]
  },
  {
   "cell_type": "markdown",
   "metadata": {
    "deletable": true,
    "editable": true
   },
   "source": [
    "## Demonstration"
   ]
  },
  {
   "cell_type": "markdown",
   "metadata": {
    "deletable": true,
    "editable": true
   },
   "source": [
    "Library imports"
   ]
  },
  {
   "cell_type": "code",
   "execution_count": 1,
   "metadata": {
    "collapsed": true,
    "deletable": true,
    "editable": true
   },
   "outputs": [],
   "source": [
    "#Standard libraries\n",
    "from __future__ import print_function\n",
    "\n",
    "#http://www.numpy.org/\n",
    "import numpy as np\n",
    "\n",
    "#https://github.com/usnistgov/atomman \n",
    "import atomman as am"
   ]
  },
  {
   "cell_type": "markdown",
   "metadata": {
    "deletable": true,
    "editable": true
   },
   "source": [
    "Generate demonstration system with random atomic positions"
   ]
  },
  {
   "cell_type": "code",
   "execution_count": 2,
   "metadata": {
    "collapsed": false,
    "deletable": true,
    "editable": true
   },
   "outputs": [],
   "source": [
    "box = am.Box(a=10, b=10, c=10)\n",
    "atoms = am.Atoms(natoms=20, prop={'atype':1, 'pos':10*np.random.random((20,3))})\n",
    "\n",
    "system = am.System(atoms=atoms, box=box)"
   ]
  },
  {
   "cell_type": "markdown",
   "metadata": {
    "deletable": true,
    "editable": true
   },
   "source": [
    "Print all atom ids old_ids, atypes and positions"
   ]
  },
  {
   "cell_type": "code",
   "execution_count": 3,
   "metadata": {
    "collapsed": false,
    "deletable": true,
    "editable": true
   },
   "outputs": [
    {
     "name": "stdout",
     "output_type": "stream",
     "text": [
      "     id  old_id  atype                  position\n",
      "     0   None      1     [ 7.09877423  2.34381892  1.40953481]\n",
      "     1   None      1     [ 8.67941496  2.12868344  1.96067608]\n",
      "     2   None      1     [ 0.19530978  0.38874121  0.74914982]\n",
      "     3   None      1     [ 4.13144443  8.00726935  3.35655836]\n",
      "     4   None      1     [ 1.0251048   7.21304634  8.39002588]\n",
      "     5   None      1     [ 0.05662291  7.08891044  2.83891424]\n",
      "     6   None      1     [ 2.28212148  9.01851701  0.34546798]\n",
      "     7   None      1     [ 7.9660825   7.68453346  8.23277722]\n",
      "     8   None      1     [ 4.75942406  3.53205902  5.77570509]\n",
      "     9   None      1     [ 7.05864128  3.05099388  0.13013245]\n",
      "    10   None      1     [ 4.72902655  0.28334078  8.83752632]\n",
      "    11   None      1     [ 3.99396888  0.71565053  6.17118841]\n",
      "    12   None      1     [ 3.46337935  9.48078039  0.76368488]\n",
      "    13   None      1     [ 1.1405613   3.67764203  0.63718058]\n",
      "    14   None      1     [ 2.12098369  2.01803834  9.6539582 ]\n",
      "    15   None      1     [ 0.45381585  9.65300566  8.62648324]\n",
      "    16   None      1     [ 8.6807669   7.45584232  7.27106763]\n",
      "    17   None      1     [ 7.85235858  6.83105961  9.91739685]\n",
      "    18   None      1     [ 5.1763823   9.95837591  6.93429621]\n",
      "    19   None      1     [ 0.47735529  6.52088494  7.42351111]\n"
     ]
    }
   ],
   "source": [
    "print('     id  old_id  atype                  position')\n",
    "for i in xrange(system.natoms):\n",
    "    print('%6s %6s %6s     %s' %(i, system.atoms_prop(a_id=i, key='old_id'), \n",
    "                                    system.atoms_prop(a_id=i, key='atype'), \n",
    "                                str(system.atoms_prop(a_id=i, key='pos'))))"
   ]
  },
  {
   "cell_type": "markdown",
   "metadata": {
    "deletable": true,
    "editable": true
   },
   "source": [
    "Add a vacancy using ptd_id"
   ]
  },
  {
   "cell_type": "code",
   "execution_count": 4,
   "metadata": {
    "collapsed": false,
    "deletable": true,
    "editable": true
   },
   "outputs": [],
   "source": [
    "system_v = am.defect.vacancy(system, ptd_id=5)"
   ]
  },
  {
   "cell_type": "markdown",
   "metadata": {
    "deletable": true,
    "editable": true
   },
   "source": [
    "Add another vacancy using pos"
   ]
  },
  {
   "cell_type": "code",
   "execution_count": 5,
   "metadata": {
    "collapsed": true,
    "deletable": true,
    "editable": true
   },
   "outputs": [],
   "source": [
    "#Get position for atom with id=3\n",
    "v_pos = system.atoms_prop(a_id=3, key='pos')\n",
    "system_v = am.defect.vacancy(system_v, pos=v_pos)"
   ]
  },
  {
   "cell_type": "markdown",
   "metadata": {
    "deletable": true,
    "editable": true
   },
   "source": [
    "Print all atom ids old_ids, atypes and positions. Note old_ids are missing 3 and 5 (the deleted atoms)."
   ]
  },
  {
   "cell_type": "code",
   "execution_count": 6,
   "metadata": {
    "collapsed": false,
    "deletable": true,
    "editable": true
   },
   "outputs": [
    {
     "name": "stdout",
     "output_type": "stream",
     "text": [
      "     id  old_id  atype                  position\n",
      "     0      0      1     [ 7.09877423  2.34381892  1.40953481]\n",
      "     1      1      1     [ 8.67941496  2.12868344  1.96067608]\n",
      "     2      2      1     [ 0.19530978  0.38874121  0.74914982]\n",
      "     3      4      1     [ 1.0251048   7.21304634  8.39002588]\n",
      "     4      6      1     [ 2.28212148  9.01851701  0.34546798]\n",
      "     5      7      1     [ 7.9660825   7.68453346  8.23277722]\n",
      "     6      8      1     [ 4.75942406  3.53205902  5.77570509]\n",
      "     7      9      1     [ 7.05864128  3.05099388  0.13013245]\n",
      "     8     10      1     [ 4.72902655  0.28334078  8.83752632]\n",
      "     9     11      1     [ 3.99396888  0.71565053  6.17118841]\n",
      "    10     12      1     [ 3.46337935  9.48078039  0.76368488]\n",
      "    11     13      1     [ 1.1405613   3.67764203  0.63718058]\n",
      "    12     14      1     [ 2.12098369  2.01803834  9.6539582 ]\n",
      "    13     15      1     [ 0.45381585  9.65300566  8.62648324]\n",
      "    14     16      1     [ 8.6807669   7.45584232  7.27106763]\n",
      "    15     17      1     [ 7.85235858  6.83105961  9.91739685]\n",
      "    16     18      1     [ 5.1763823   9.95837591  6.93429621]\n",
      "    17     19      1     [ 0.47735529  6.52088494  7.42351111]\n"
     ]
    }
   ],
   "source": [
    "print('     id  old_id  atype                  position')\n",
    "for i in xrange(system_v.natoms):\n",
    "    print('%6s %6s %6s     %s' %(i, system_v.atoms_prop(a_id=i, key='old_id'), \n",
    "                                    system_v.atoms_prop(a_id=i, key='atype'), \n",
    "                                str(system_v.atoms_prop(a_id=i, key='pos'))))"
   ]
  },
  {
   "cell_type": "markdown",
   "metadata": {
    "deletable": true,
    "editable": true
   },
   "source": [
    "- - -\n",
    "__Docs Navigation:__\n",
    "\n",
    "Tutorial:\n",
    "\n",
    "1. [Basics](../tutorial/1 Basics.ipynb)\n",
    "\n",
    "2. [LAMMPS Functionality](../tutorial/2 LAMMPS Functionality.ipynb)\n",
    "\n",
    "3. [Defect Generation and Evaluation](../tutorial/3 Defect Generation and Evaluation.ipynb)\n",
    "\n",
    "\n",
    "Reference:\n",
    "\n",
    "- [atomman](../reference/atomman.ipynb)\n",
    "\n",
    "- [atomman.convert](../reference/atomman.convert.ipynb)\n",
    "\n",
    "- [atomman.defect](../reference/atomman.defect.ipynb)\n",
    "\n",
    "- [atomman.lammps](../reference/atomman.lammps.ipynb)\n",
    "\n",
    "- [atomman.tools](../reference/atomman.tools.ipynb)\n",
    "\n",
    "- [atomman.unitconvert](../reference/atomman.unitconvert.ipynb)"
   ]
  }
 ],
 "metadata": {
  "kernelspec": {
   "display_name": "Python 2",
   "language": "python",
   "name": "python2"
  },
  "language_info": {
   "codemirror_mode": {
    "name": "ipython",
    "version": 2
   },
   "file_extension": ".py",
   "mimetype": "text/x-python",
   "name": "python",
   "nbconvert_exporter": "python",
   "pygments_lexer": "ipython2",
   "version": "2.7.13"
  }
 },
 "nbformat": 4,
 "nbformat_minor": 0
}
