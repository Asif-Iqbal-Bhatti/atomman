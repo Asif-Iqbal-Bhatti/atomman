{
 "cells": [
  {
   "cell_type": "markdown",
   "metadata": {},
   "source": [
    "# atomman.tools.axes_check(axes, tol=1e-8)\n",
    "\n",
    "- - -"
   ]
  },
  {
   "cell_type": "markdown",
   "metadata": {},
   "source": [
    "**Lucas M. Hale**, [lucas.hale@nist.gov](mailto:lucas.hale@nist.gov?Subject=ipr-demo), *Materials Science and Engineering Division, NIST*.\n",
    "\n",
    "**Chandler A. Becker**, [chandler.becker@nist.gov](mailto:chandler.becker@nist.gov?Subject=ipr-demo), *Office of Data and Informatics, NIST*.\n",
    "\n",
    "**Zachary T. Trautt**, [zachary.trautt@nist.gov](mailto:zachary.trautt@nist.gov?Subject=ipr-demo), *Materials Measurement Science Division, NIST*.\n",
    "\n",
    "Version: 2016-09-02\n",
    "\n",
    "[Disclaimers](http://www.nist.gov/public_affairs/disclaimer.cfm) \n",
    " \n",
    "- - -"
   ]
  },
  {
   "cell_type": "markdown",
   "metadata": {},
   "source": [
    "## Introduction\n",
    "\n",
    "The axes_check function returns the unit vectors for a 3x3 array of three 3D axes vectors. Issues an error if the axes are not orthogonal and right-handed.\n",
    "\n",
    "Argument:\n",
    "\n",
    "- __axes__ -- a 3x3 array representing three 3D axes vectors.\n",
    "\n",
    "Keyword Argument:\n",
    "\n",
    "- __tol__ -- rounding tolerance used for determining if axes are orthogonal and right-handed. Default value is 1e-8.\n",
    "\n",
    "The underlying code can be found in [atomman/tools/axes_check.py](../../atomman/tools/axes_check.py)."
   ]
  },
  {
   "cell_type": "markdown",
   "metadata": {},
   "source": [
    "## Demonstration"
   ]
  },
  {
   "cell_type": "code",
   "execution_count": 1,
   "metadata": {
    "collapsed": false
   },
   "outputs": [],
   "source": [
    "import atomman as am\n",
    "import numpy as np"
   ]
  },
  {
   "cell_type": "code",
   "execution_count": 2,
   "metadata": {
    "collapsed": false
   },
   "outputs": [
    {
     "name": "stdout",
     "output_type": "stream",
     "text": [
      "[[ 0.70710678  0.70710678  0.        ]\n",
      " [-0.70710678  0.70710678  0.        ]\n",
      " [ 0.          0.          1.        ]]\n"
     ]
    }
   ],
   "source": [
    "axis1 = [ 1, 1, 0]\n",
    "axis2 = [-1, 1, 0]\n",
    "axis3 = [ 0, 0, 1]\n",
    "\n",
    "print am.tools.axes_check([axis1, axis2, axis3])"
   ]
  },
  {
   "cell_type": "code",
   "execution_count": 3,
   "metadata": {
    "collapsed": false
   },
   "outputs": [
    {
     "name": "stdout",
     "output_type": "stream",
     "text": [
      "[[ 0.17711589  0.68316129  0.70846356]\n",
      " [ 0.         -0.7198443   0.69413557]\n",
      " [ 0.98419    -0.12294244 -0.12749586]]\n"
     ]
    }
   ],
   "source": [
    "axes = np.array([[ 1.40, 5.40, 5.60],\n",
    "                 [ 0.00,-5.60, 5.40],\n",
    "                 [15.13,-1.89,-1.96]])\n",
    "\n",
    "uaxes = am.tools.axes_check(axes)\n",
    "print uaxes"
   ]
  },
  {
   "cell_type": "markdown",
   "metadata": {},
   "source": [
    "Check that returned vectors are unit vectors"
   ]
  },
  {
   "cell_type": "code",
   "execution_count": 4,
   "metadata": {
    "collapsed": false
   },
   "outputs": [
    {
     "name": "stdout",
     "output_type": "stream",
     "text": [
      "[ 0.17711589  0.68316129  0.70846356] magnitude = 1.0\n",
      "[ 0.         -0.7198443   0.69413557] magnitude = 1.0\n",
      "[ 0.98419    -0.12294244 -0.12749586] magnitude = 1.0\n"
     ]
    }
   ],
   "source": [
    "print uaxes[0], 'magnitude =', np.linalg.norm(uaxes[0])\n",
    "print uaxes[1], 'magnitude =', np.linalg.norm(uaxes[1])\n",
    "print uaxes[2], 'magnitude =', np.linalg.norm(uaxes[2])"
   ]
  },
  {
   "cell_type": "markdown",
   "metadata": {
    "collapsed": true
   },
   "source": [
    "- - -\n",
    "__Docs Navigation:__\n",
    "\n",
    "Tutorial:\n",
    "\n",
    "1. [Basics](../tutorial/1 Basics.ipynb)\n",
    "\n",
    "2. [LAMMPS Functionality](../tutorial/2 LAMMPS Functionality.ipynb)\n",
    "\n",
    "3. [Defect Generation and Evaluation](../tutorial/3 Defect Generation and Evaluation.ipynb)\n",
    "\n",
    "\n",
    "Reference:\n",
    "\n",
    "- [atomman](../reference/atomman.ipynb)\n",
    "\n",
    "- [atomman.convert](../reference/atomman.convert.ipynb)\n",
    "\n",
    "- [atomman.defect](../reference/atomman.defect.ipynb)\n",
    "\n",
    "- [atomman.lammps](../reference/atomman.lammps.ipynb)\n",
    "\n",
    "- [atomman.tools](../reference/atomman.tools.ipynb)\n",
    "\n",
    "- [atomman.unitconvert](../reference/atomman.unitconvert.ipynb)"
   ]
  }
 ],
 "metadata": {
  "kernelspec": {
   "display_name": "Python 2",
   "language": "python",
   "name": "python2"
  },
  "language_info": {
   "codemirror_mode": {
    "name": "ipython",
    "version": 2
   },
   "file_extension": ".py",
   "mimetype": "text/x-python",
   "name": "python",
   "nbconvert_exporter": "python",
   "pygments_lexer": "ipython2",
   "version": "2.7.11"
  }
 },
 "nbformat": 4,
 "nbformat_minor": 0
}
