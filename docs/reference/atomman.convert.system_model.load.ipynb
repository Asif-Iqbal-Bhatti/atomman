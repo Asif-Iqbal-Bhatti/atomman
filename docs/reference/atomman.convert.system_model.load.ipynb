{
 "cells": [
  {
   "cell_type": "markdown",
   "metadata": {},
   "source": [
    "# atomman.convert.system_model.load(model, key='atomic-system', index=0)\n",
    "\n",
    "- - -"
   ]
  },
  {
   "cell_type": "markdown",
   "metadata": {},
   "source": [
    "**Lucas M. Hale**, [lucas.hale@nist.gov](mailto:lucas.hale@nist.gov?Subject=ipr-demo), *Materials Science and Engineering Division, NIST*.\n",
    "\n",
    "**Chandler A. Becker**, [chandler.becker@nist.gov](mailto:chandler.becker@nist.gov?Subject=ipr-demo), *Office of Data and Informatics, NIST*.\n",
    "\n",
    "**Zachary T. Trautt**, [zachary.trautt@nist.gov](mailto:zachary.trautt@nist.gov?Subject=ipr-demo), *Materials Measurement Science Division, NIST*.\n",
    "\n",
    "Version: 2016-09-02\n",
    "\n",
    "[Disclaimers](http://www.nist.gov/public_affairs/disclaimer.cfm) \n",
    " \n",
    "- - -"
   ]
  },
  {
   "cell_type": "markdown",
   "metadata": {},
   "source": [
    "## Introduction\n",
    "\n",
    "The system_model.load function converts a system_model JSON/XML atomic-system data model into an equivalent [atomman.System](atomman.System.ipynb) and list of elements. Equivalently, the [atomman.load function](atomman.load) can be called with style='system_model'.\n",
    "\n",
    "Arguments:\n",
    "\n",
    "- __model__ -- a [DataModelDict](https://github.com/usnistgov/DataModelDict), or JSON/XML file/string representing the atomic-system data model.\n",
    "\n",
    "- __key__ -- the element key associated with the atomic-system. Default value is 'atomic-system'.\n",
    "\n",
    "- __index__ -- for the case where multiple atomic-system elements with the same key are in the larger model. Default value is 0 (i.e. take the first matching element).\n",
    "\n",
    "The underlying code can be found in [atomman/convert/system_model.py](../../atomman/convert/system_model.py)."
   ]
  },
  {
   "cell_type": "markdown",
   "metadata": {},
   "source": [
    "## Demonstration"
   ]
  },
  {
   "cell_type": "code",
   "execution_count": 1,
   "metadata": {
    "collapsed": false
   },
   "outputs": [],
   "source": [
    "import atomman as am\n",
    "from DataModelDict import DataModelDict as DM"
   ]
  },
  {
   "cell_type": "markdown",
   "metadata": {},
   "source": [
    "### Simple example"
   ]
  },
  {
   "cell_type": "markdown",
   "metadata": {},
   "source": [
    "Create a demonstration atomic-system data model as a JSON string"
   ]
  },
  {
   "cell_type": "code",
   "execution_count": 2,
   "metadata": {
    "collapsed": false
   },
   "outputs": [],
   "source": [
    "json_string = \"\"\"{\n",
    "    \"atomic-system\": {\n",
    "        \"cell\": {\n",
    "            \"cubic\": {\n",
    "                \"a\": {\n",
    "                    \"value\": 2.8665, \n",
    "                    \"unit\": \"angstrom\"\n",
    "                }\n",
    "            }\n",
    "        }, \n",
    "        \"atom\": [\n",
    "            {\n",
    "                \"component\": 1,\n",
    "                \"symbol\": \"Fe\",\n",
    "                \"position\": {\n",
    "                    \"value\": [\n",
    "                        0.0, \n",
    "                        0.0, \n",
    "                        0.0\n",
    "                    ], \n",
    "                    \"unit\": \"scaled\"\n",
    "                }\n",
    "            }, \n",
    "            {\n",
    "                \"component\": 1,\n",
    "                \"symbol\": \"Fe\",\n",
    "                \"position\": {\n",
    "                    \"value\": [\n",
    "                        0.5, \n",
    "                        0.5, \n",
    "                        0.5\n",
    "                    ], \n",
    "                    \"unit\": \"scaled\"\n",
    "                }\n",
    "            }\n",
    "        ]\n",
    "    }\n",
    "}\"\"\""
   ]
  },
  {
   "cell_type": "markdown",
   "metadata": {},
   "source": [
    "Load the JSON string"
   ]
  },
  {
   "cell_type": "code",
   "execution_count": 3,
   "metadata": {
    "collapsed": false
   },
   "outputs": [
    {
     "name": "stdout",
     "output_type": "stream",
     "text": [
      "[u'Fe']\n",
      "avect =  [ 2.866,  0.000,  0.000]\n",
      "bvect =  [ 0.000,  2.866,  0.000]\n",
      "cvect =  [ 0.000,  0.000,  2.866]\n",
      "origin = [ 0.000,  0.000,  0.000]\n",
      "natoms = 2\n",
      "natypes = 1\n",
      "     id |   atype |  pos[0] |  pos[1] |  pos[2]\n",
      "      0 |       1 |   0.000 |   0.000 |   0.000\n",
      "      1 |       1 |   1.433 |   1.433 |   1.433\n"
     ]
    }
   ],
   "source": [
    "system, elements = am.convert.system_model.load(json_string)\n",
    "print elements\n",
    "print system"
   ]
  },
  {
   "cell_type": "markdown",
   "metadata": {},
   "source": [
    "Load the JSON string to a DataModelDict"
   ]
  },
  {
   "cell_type": "code",
   "execution_count": 4,
   "metadata": {
    "collapsed": true
   },
   "outputs": [],
   "source": [
    "model = DM(json_string)"
   ]
  },
  {
   "cell_type": "markdown",
   "metadata": {},
   "source": [
    "Load the DataModelDict"
   ]
  },
  {
   "cell_type": "code",
   "execution_count": 5,
   "metadata": {
    "collapsed": false
   },
   "outputs": [
    {
     "name": "stdout",
     "output_type": "stream",
     "text": [
      "[u'Fe']\n",
      "avect =  [ 2.866,  0.000,  0.000]\n",
      "bvect =  [ 0.000,  2.866,  0.000]\n",
      "cvect =  [ 0.000,  0.000,  2.866]\n",
      "origin = [ 0.000,  0.000,  0.000]\n",
      "natoms = 2\n",
      "natypes = 1\n",
      "     id |   atype |  pos[0] |  pos[1] |  pos[2]\n",
      "      0 |       1 |   0.000 |   0.000 |   0.000\n",
      "      1 |       1 |   1.433 |   1.433 |   1.433\n"
     ]
    }
   ],
   "source": [
    "system, elements = am.convert.system_model.load(model)\n",
    "print elements\n",
    "print system"
   ]
  },
  {
   "cell_type": "markdown",
   "metadata": {},
   "source": [
    "Save the DataModelDict to an xml file"
   ]
  },
  {
   "cell_type": "code",
   "execution_count": 6,
   "metadata": {
    "collapsed": false
   },
   "outputs": [
    {
     "name": "stdout",
     "output_type": "stream",
     "text": [
      "<?xml version=\"1.0\" encoding=\"utf-8\"?>\n",
      "<atomic-system>\n",
      "  <cell>\n",
      "    <cubic>\n",
      "      <a>\n",
      "        <value>2.8665</value>\n",
      "        <unit>angstrom</unit>\n",
      "      </a>\n",
      "    </cubic>\n",
      "  </cell>\n",
      "  <atom>\n",
      "    <component>1</component>\n",
      "    <symbol>Fe</symbol>\n",
      "    <position>\n",
      "      <value>0.0</value>\n",
      "      <value>0.0</value>\n",
      "      <value>0.0</value>\n",
      "      <unit>scaled</unit>\n",
      "    </position>\n",
      "  </atom>\n",
      "  <atom>\n",
      "    <component>1</component>\n",
      "    <symbol>Fe</symbol>\n",
      "    <position>\n",
      "      <value>0.5</value>\n",
      "      <value>0.5</value>\n",
      "      <value>0.5</value>\n",
      "      <unit>scaled</unit>\n",
      "    </position>\n",
      "  </atom>\n",
      "</atomic-system>\n"
     ]
    }
   ],
   "source": [
    "with open('Fe_bcc.xml', 'w') as f:\n",
    "    model.xml(fp=f, indent=2)\n",
    "\n",
    "with open('Fe_bcc.xml') as f:\n",
    "    print f.read()"
   ]
  },
  {
   "cell_type": "markdown",
   "metadata": {},
   "source": [
    "Load the XML file"
   ]
  },
  {
   "cell_type": "code",
   "execution_count": 7,
   "metadata": {
    "collapsed": false
   },
   "outputs": [
    {
     "name": "stdout",
     "output_type": "stream",
     "text": [
      "[u'Fe']\n",
      "avect =  [ 2.866,  0.000,  0.000]\n",
      "bvect =  [ 0.000,  2.866,  0.000]\n",
      "cvect =  [ 0.000,  0.000,  2.866]\n",
      "origin = [ 0.000,  0.000,  0.000]\n",
      "natoms = 2\n",
      "natypes = 1\n",
      "     id |   atype |  pos[0] |  pos[1] |  pos[2]\n",
      "      0 |       1 |   0.000 |   0.000 |   0.000\n",
      "      1 |       1 |   1.433 |   1.433 |   1.433\n"
     ]
    }
   ],
   "source": [
    "system, elements = am.convert.system_model.load('Fe_bcc.xml')\n",
    "print elements\n",
    "print system"
   ]
  },
  {
   "cell_type": "markdown",
   "metadata": {},
   "source": [
    "### Complex example with key and index\n",
    "\n",
    "The data model files can be complex with many different elements that together represent an entire calculation. Here, an example data model is used which contains multiple atomic-systems under a different key name and other elements. "
   ]
  },
  {
   "cell_type": "code",
   "execution_count": 8,
   "metadata": {
    "collapsed": true
   },
   "outputs": [],
   "source": [
    "results_model = DM(\"\"\"{\n",
    "  \"calculation-cohesive-energy-relation\": {\n",
    "    \"calculation\": {\n",
    "      \"id\": \"9e08b25a-0d7f-4d00-a9dc-d609414aee59\", \n",
    "      \"script\": \"calc_E_vs_r_scan\", \n",
    "      \"run-parameter\": {\n",
    "        \"size-multipliers\": {\"a\": [0, 3], \"b\": [0, 3], \"c\": [0, 3] }, \n",
    "        \"minimum_r\": 2.0, \n",
    "        \"maximum_r\": 6.0, \n",
    "        \"number_of_steps_r\": 300 } }, \n",
    "    \"potential\": {\n",
    "      \"key\": \"0bee394c-6121-48ac-8e6d-81351d0bda44\", \n",
    "      \"id\": \"2010--Fellinger-M-R--Nb\" }, \n",
    "    \"system-info\": {\n",
    "      \"artifact\": {\n",
    "        \"file\": \"A1--Cu--fcc.json\", \n",
    "        \"format\": \"system_model\", \n",
    "        \"family\": \"A1--Cu--fcc\" }, \n",
    "      \"symbols\": [\"Nb\"] }, \n",
    "    \"minimum-atomic-system\": [ \n",
    "      { \"cell\": {\n",
    "          \"cubic\": {\n",
    "            \"a\": {\"value\": 4.15277427345678, \"unit\": \"angstrom\" } } }, \n",
    "        \"atom\": [\n",
    "          { \"component\": 1, \n",
    "            \"symbol\": \"Nb\", \n",
    "            \"position\": {\"value\": [0.0, 0.0, 0.0], \"unit\": \"scaled\" } }, \n",
    "          { \"component\": 1, \n",
    "            \"symbol\": \"Nb\", \n",
    "            \"position\": {\"value\": [0.0, 0.5, 0.5], \"unit\": \"scaled\" } }, \n",
    "          { \"component\": 1, \n",
    "            \"symbol\": \"Nb\", \n",
    "            \"position\": {\"value\": [0.5, 0.0, 0.5], \"unit\": \"scaled\" } }, \n",
    "          { \"component\": 1, \n",
    "            \"symbol\": \"Nb\", \n",
    "            \"position\": {\"value\": [0.5, 0.5, 0.0], \"unit\": \"scaled\" } } ] }, \n",
    "      { \"cell\": {\n",
    "          \"cubic\": {\n",
    "            \"a\": {\"value\": 6.101456506559505, \"unit\": \"angstrom\" } } }, \n",
    "        \"atom\": [\n",
    "          { \"component\": 1, \n",
    "            \"symbol\": \"Nb\", \n",
    "            \"position\": {\"value\": [0.0, 0.0, 0.0], \"unit\": \"scaled\"} }, \n",
    "          { \"component\": 1, \n",
    "            \"symbol\": \"Nb\", \n",
    "            \"position\": {\"value\": [0.0, 0.5, 0.5], \"unit\": \"scaled\"} }, \n",
    "          { \"component\": 1, \n",
    "            \"symbol\": \"Nb\", \n",
    "            \"position\": {\"value\": [0.5, 0.0, 0.5], \"unit\": \"scaled\"} }, \n",
    "          { \"component\": 1, \n",
    "            \"symbol\": \"Nb\", \n",
    "            \"position\": {\"value\": [0.5, 0.5, 0.0], \"unit\": \"scaled\"} } ] } ] } }\"\"\")"
   ]
  },
  {
   "cell_type": "markdown",
   "metadata": {},
   "source": [
    "This model contains two atomic-system model elements under the minimum-atomic-system keyword."
   ]
  },
  {
   "cell_type": "code",
   "execution_count": 9,
   "metadata": {
    "collapsed": false
   },
   "outputs": [
    {
     "name": "stdout",
     "output_type": "stream",
     "text": [
      "[u'Nb']\n",
      "avect =  [ 4.153,  0.000,  0.000]\n",
      "bvect =  [ 0.000,  4.153,  0.000]\n",
      "cvect =  [ 0.000,  0.000,  4.153]\n",
      "origin = [ 0.000,  0.000,  0.000]\n",
      "natoms = 4\n",
      "natypes = 1\n",
      "     id |   atype |  pos[0] |  pos[1] |  pos[2]\n",
      "      0 |       1 |   0.000 |   0.000 |   0.000\n",
      "      1 |       1 |   0.000 |   2.076 |   2.076\n",
      "      2 |       1 |   2.076 |   0.000 |   2.076\n",
      "      3 |       1 |   2.076 |   2.076 |   0.000\n",
      "\n",
      "[u'Nb']\n",
      "avect =  [ 6.101,  0.000,  0.000]\n",
      "bvect =  [ 0.000,  6.101,  0.000]\n",
      "cvect =  [ 0.000,  0.000,  6.101]\n",
      "origin = [ 0.000,  0.000,  0.000]\n",
      "natoms = 4\n",
      "natypes = 1\n",
      "     id |   atype |  pos[0] |  pos[1] |  pos[2]\n",
      "      0 |       1 |   0.000 |   0.000 |   0.000\n",
      "      1 |       1 |   0.000 |   3.051 |   3.051\n",
      "      2 |       1 |   3.051 |   0.000 |   3.051\n",
      "      3 |       1 |   3.051 |   3.051 |   0.000\n",
      "\n"
     ]
    }
   ],
   "source": [
    "index = 0\n",
    "key = 'minimum-atomic-system'\n",
    "while True:\n",
    "    try:\n",
    "        system, elements = am.convert.system_model.load(results_model, key=key, index=index)\n",
    "        print elements\n",
    "        print system\n",
    "        print\n",
    "        index += 1\n",
    "    except:\n",
    "        break"
   ]
  },
  {
   "cell_type": "markdown",
   "metadata": {},
   "source": [
    "File cleanup"
   ]
  },
  {
   "cell_type": "code",
   "execution_count": 10,
   "metadata": {
    "collapsed": false
   },
   "outputs": [],
   "source": [
    "import os\n",
    "os.remove('Fe_bcc.xml')"
   ]
  },
  {
   "cell_type": "markdown",
   "metadata": {},
   "source": [
    "- - -\n",
    "__Docs Navigation:__\n",
    "\n",
    "Tutorial:\n",
    "\n",
    "1. [Basics](../tutorial/1 Basics.ipynb)\n",
    "\n",
    "2. [LAMMPS Functionality](../tutorial/2 LAMMPS Functionality.ipynb)\n",
    "\n",
    "3. [Defect Generation and Evaluation](../tutorial/3 Defect Generation and Evaluation.ipynb)\n",
    "\n",
    "\n",
    "Reference:\n",
    "\n",
    "- [atomman](../reference/atomman.ipynb)\n",
    "\n",
    "- [atomman.convert](../reference/atomman.convert.ipynb)\n",
    "\n",
    "- [atomman.defect](../reference/atomman.defect.ipynb)\n",
    "\n",
    "- [atomman.lammps](../reference/atomman.lammps.ipynb)\n",
    "\n",
    "- [atomman.tools](../reference/atomman.tools.ipynb)\n",
    "\n",
    "- [atomman.unitconvert](../reference/atomman.unitconvert.ipynb)"
   ]
  }
 ],
 "metadata": {
  "kernelspec": {
   "display_name": "Python 2",
   "language": "python",
   "name": "python2"
  },
  "language_info": {
   "codemirror_mode": {
    "name": "ipython",
    "version": 2
   },
   "file_extension": ".py",
   "mimetype": "text/x-python",
   "name": "python",
   "nbconvert_exporter": "python",
   "pygments_lexer": "ipython2",
   "version": "2.7.11"
  }
 },
 "nbformat": 4,
 "nbformat_minor": 0
}
