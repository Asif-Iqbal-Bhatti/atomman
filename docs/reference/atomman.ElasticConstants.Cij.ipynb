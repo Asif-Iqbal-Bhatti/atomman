{
 "cells": [
  {
   "cell_type": "markdown",
   "metadata": {},
   "source": [
    "# atomman.ElasticConstants.Cij\n",
    "\n",
    "- - -"
   ]
  },
  {
   "cell_type": "markdown",
   "metadata": {},
   "source": [
    "**Lucas M. Hale**, [lucas.hale@nist.gov](mailto:lucas.hale@nist.gov?Subject=ipr-demo), *Materials Science and Engineering Division, NIST*.\n",
    "\n",
    "**Chandler A. Becker**, [chandler.becker@nist.gov](mailto:chandler.becker@nist.gov?Subject=ipr-demo), *Materials Science and Engineering Division, NIST*.\n",
    "\n",
    "**Zachary T. Trautt**, [zachary.trautt@nist.gov](mailto:zachary.trautt@nist.gov?Subject=ipr-demo), *Materials Measurement Science Division, NIST*.\n",
    "\n",
    "Version: 2016-08-25\n",
    "\n",
    "[Disclaimers](http://www.nist.gov/public_affairs/disclaimer.cfm)"
   ]
  },
  {
   "cell_type": "markdown",
   "metadata": {},
   "source": [
    "## Introduction\n",
    "\n",
    "The attribute ElasticConstants.Cij is the 6x6 Voigt tensor representation of the elastic stiffness.\n",
    "\n",
    "\n",
    "The underlying code can be found in [atomman/core/ElasticConstants.py](../../atomman/core/ElasticConstants.py)."
   ]
  },
  {
   "cell_type": "markdown",
   "metadata": {},
   "source": [
    "## Demonstration"
   ]
  },
  {
   "cell_type": "markdown",
   "metadata": {},
   "source": [
    "Library Imports"
   ]
  },
  {
   "cell_type": "code",
   "execution_count": 5,
   "metadata": {
    "collapsed": true
   },
   "outputs": [],
   "source": [
    "import atomman as am\n",
    "import numpy as np"
   ]
  },
  {
   "cell_type": "markdown",
   "metadata": {},
   "source": [
    "Retrieving the values"
   ]
  },
  {
   "cell_type": "code",
   "execution_count": 2,
   "metadata": {
    "collapsed": false
   },
   "outputs": [
    {
     "name": "stdout",
     "output_type": "stream",
     "text": [
      "[[ 100.   65.   65.    0.    0.    0.]\n",
      " [  65.  100.   65.    0.    0.    0.]\n",
      " [  65.   65.  100.    0.    0.    0.]\n",
      " [   0.    0.    0.   50.    0.    0.]\n",
      " [   0.    0.    0.    0.   50.    0.]\n",
      " [   0.    0.    0.    0.    0.   50.]]\n"
     ]
    }
   ],
   "source": [
    "c = am.ElasticConstants(C11=100, C12=65, C44=50)\n",
    "print c.Cij"
   ]
  },
  {
   "cell_type": "code",
   "execution_count": 3,
   "metadata": {
    "collapsed": false
   },
   "outputs": [
    {
     "name": "stdout",
     "output_type": "stream",
     "text": [
      "100.0\n"
     ]
    }
   ],
   "source": [
    "print c.Cij[0,0]"
   ]
  },
  {
   "cell_type": "markdown",
   "metadata": {},
   "source": [
    "Setting the values"
   ]
  },
  {
   "cell_type": "code",
   "execution_count": 7,
   "metadata": {
    "collapsed": false
   },
   "outputs": [
    {
     "name": "stdout",
     "output_type": "stream",
     "text": [
      "[[ 140.  100.  100.    0.    0.    0.]\n",
      " [ 100.  140.  100.    0.    0.    0.]\n",
      " [ 100.  100.  140.    0.    0.    0.]\n",
      " [   0.    0.    0.   95.    0.    0.]\n",
      " [   0.    0.    0.    0.   95.    0.]\n",
      " [   0.    0.    0.    0.    0.   95.]]\n"
     ]
    }
   ],
   "source": [
    "c.Cij = np.array([[140, 100, 100,  0,  0,  0],\n",
    "                  [100, 140, 100,  0,  0,  0],\n",
    "                  [100, 100, 140,  0,  0,  0],\n",
    "                  [  0,   0,   0, 95,  0,  0],\n",
    "                  [  0,   0,   0,  0, 95,  0],\n",
    "                  [  0,   0,   0,  0,  0, 95]])\n",
    "print c"
   ]
  },
  {
   "cell_type": "markdown",
   "metadata": {},
   "source": [
    "Note that retrieving the values returns a copy of the underlying array. This prevents components from being set individually as doing so is ambiguous without knowing symmetry"
   ]
  },
  {
   "cell_type": "code",
   "execution_count": 10,
   "metadata": {
    "collapsed": false
   },
   "outputs": [
    {
     "name": "stdout",
     "output_type": "stream",
     "text": [
      "[[ 140.  100.  100.    0.    0.    0.]\n",
      " [ 100.  140.  100.    0.    0.    0.]\n",
      " [ 100.  100.  140.    0.    0.    0.]\n",
      " [   0.    0.    0.   95.    0.    0.]\n",
      " [   0.    0.    0.    0.   95.    0.]\n",
      " [   0.    0.    0.    0.    0.   95.]]\n"
     ]
    }
   ],
   "source": [
    "c.Cij[0,0] = 57\n",
    "print c.Cij"
   ]
  },
  {
   "cell_type": "markdown",
   "metadata": {
    "collapsed": true
   },
   "source": [
    "__Docs Navigation:__\n",
    "\n",
    "Tutorial:\n",
    "\n",
    "1. [Basics](../tutorial/1 Basics.ipynb)\n",
    "\n",
    "2. [LAMMPS Functionality](../tutorial/2 LAMMPS Functionality.ipynb)\n",
    "\n",
    "3. [Defect Generation and Evaluation](../tutorial/3 Defect Generation and Evaluation.ipynb)\n",
    "\n",
    "\n",
    "Reference:\n",
    "\n",
    "- [atomman](../reference/atomman.ipynb)\n",
    "\n",
    "- [atomman.convert](../reference/atomman.convert.ipynb)\n",
    "\n",
    "- [atomman.defect](../reference/atomman.defect.ipynb)\n",
    "\n",
    "- [atomman.lammps](../reference/atomman.lammps.ipynb)\n",
    "\n",
    "- [atomman.tools](../reference/atomman.tools.ipynb)\n",
    "\n",
    "- [atomman.unitconvert](../reference/atomman.unitconvert.ipynb)"
   ]
  }
 ],
 "metadata": {
  "kernelspec": {
   "display_name": "Python 2",
   "language": "python",
   "name": "python2"
  },
  "language_info": {
   "codemirror_mode": {
    "name": "ipython",
    "version": 2
   },
   "file_extension": ".py",
   "mimetype": "text/x-python",
   "name": "python",
   "nbconvert_exporter": "python",
   "pygments_lexer": "ipython2",
   "version": "2.7.11"
  }
 },
 "nbformat": 4,
 "nbformat_minor": 0
}
