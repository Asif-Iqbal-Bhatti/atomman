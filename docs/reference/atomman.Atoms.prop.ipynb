{
 "cells": [
  {
   "cell_type": "markdown",
   "metadata": {
    "deletable": true,
    "editable": true
   },
   "source": [
    "# atomman.Atoms.prop()\n",
    "\n",
    "- - -"
   ]
  },
  {
   "cell_type": "markdown",
   "metadata": {
    "deletable": true,
    "editable": true
   },
   "source": [
    "**Lucas M. Hale**, [lucas.hale@nist.gov](mailto:lucas.hale@nist.gov?Subject=ipr-demo), *Materials Science and Engineering Division, NIST*.\n",
    "\n",
    "**Chandler A. Becker**, [chandler.becker@nist.gov](mailto:chandler.becker@nist.gov?Subject=ipr-demo), *Office of Data and Informatics, NIST*.\n",
    "\n",
    "**Zachary T. Trautt**, [zachary.trautt@nist.gov](mailto:zachary.trautt@nist.gov?Subject=ipr-demo), *Materials Measurement Science Division, NIST*.\n",
    "\n",
    "Version: 2017-04-19\n",
    "\n",
    "[Disclaimers](http://www.nist.gov/public_affairs/disclaimer.cfm) \n",
    " \n",
    "- - -"
   ]
  },
  {
   "cell_type": "markdown",
   "metadata": {
    "deletable": true,
    "editable": true
   },
   "source": [
    "## Introduction\n",
    "\n",
    "Per-atom property values of an Atoms instance can be set and retrieved using the prop() method. This method allows for new properties to be defined, and controls the data shape and data type of the property values. Values returned by this method are 'safe' in that they are copies of the data not references to its location. Direct access of the underlying data can be achieved using [Atoms.view](atomman.Atoms.view.ipynb).\n",
    "\n",
    "Keyword Arguments:\n",
    "\n",
    "- __a_id__ = atom index.\n",
    "\n",
    "- __key__ = atom property name.\n",
    "\n",
    "- __value__ = value(s) to assign to properties associated with a_id and/or term.\n",
    "\n",
    "- __dtype__ = data type to explicitly set or retrieve value as. \n",
    "\n",
    "If no arguments given, returns a list of the assigned property keys. Otherwise, a_id and/or key must be specified. The key specifies which property, and the a_id which atom(s) to access. With no value argument, prop() returns which value(s) are associated with the given a_id and/or key. With a value argument, the value is saved according to the given a_id and/or key.\n",
    "\n",
    "The underlying code can be found in [atomman/core/Atoms.py](../../atomman/core/Atoms.py).\n",
    "\n",
    "- - -"
   ]
  },
  {
   "cell_type": "markdown",
   "metadata": {
    "deletable": true,
    "editable": true
   },
   "source": [
    "## Demonstration\n"
   ]
  },
  {
   "cell_type": "markdown",
   "metadata": {
    "deletable": true,
    "editable": true
   },
   "source": [
    "Library Imports"
   ]
  },
  {
   "cell_type": "code",
   "execution_count": 1,
   "metadata": {
    "collapsed": false,
    "deletable": true,
    "editable": true
   },
   "outputs": [],
   "source": [
    "#Standard libraries\n",
    "from __future__ import print_function\n",
    "\n",
    "#http://www.numpy.org/\n",
    "import numpy as np    \n",
    "\n",
    "#https://github.com/usnistgov/atomman\n",
    "import atomman as am  "
   ]
  },
  {
   "cell_type": "markdown",
   "metadata": {
    "deletable": true,
    "editable": true
   },
   "source": [
    "Create a demonstration Atoms instance with random positions"
   ]
  },
  {
   "cell_type": "code",
   "execution_count": 2,
   "metadata": {
    "collapsed": false,
    "deletable": true,
    "editable": true
   },
   "outputs": [
    {
     "name": "stdout",
     "output_type": "stream",
     "text": [
      "     id |   atype |  pos[0] |  pos[1] |  pos[2]\n",
      "      0 |       1 |   0.665 |   0.579 |   0.533\n",
      "      1 |       1 |   0.052 |   0.158 |   0.844\n",
      "      2 |       1 |   0.997 |   0.488 |   0.194\n",
      "      3 |       1 |   0.792 |   0.492 |   0.820\n",
      "      4 |       1 |   0.982 |   0.956 |   0.008\n",
      "      5 |       1 |   0.454 |   0.855 |   0.759\n",
      "      6 |       1 |   0.663 |   0.072 |   0.782\n",
      "      7 |       1 |   0.432 |   0.357 |   0.986\n",
      "      8 |       1 |   0.676 |   0.130 |   0.404\n",
      "      9 |       1 |   0.633 |   0.073 |   0.772\n"
     ]
    }
   ],
   "source": [
    "prop_dict = {'atype': 1, 'pos': np.random.rand(10,3)}\n",
    "\n",
    "atoms = am.Atoms(natoms=10, prop=prop_dict)\n",
    "\n",
    "print(atoms)"
   ]
  },
  {
   "cell_type": "markdown",
   "metadata": {
    "deletable": true,
    "editable": true
   },
   "source": [
    "### No arguments\n",
    "\n",
    "Calling prop with no arguments returns a list of assigned property keys."
   ]
  },
  {
   "cell_type": "code",
   "execution_count": 3,
   "metadata": {
    "collapsed": false,
    "deletable": true,
    "editable": true
   },
   "outputs": [
    {
     "name": "stdout",
     "output_type": "stream",
     "text": [
      "['atype', 'pos']\n"
     ]
    }
   ],
   "source": [
    "print(atoms.prop())"
   ]
  },
  {
   "cell_type": "markdown",
   "metadata": {
    "deletable": true,
    "editable": true
   },
   "source": [
    "### Retrieving values\n",
    "\n",
    "Specific property values can be retrieved by calling prop() with key and/or a_id. All values returned with prop() are \"safe\", i.e. they are copies of the Atoms' data values."
   ]
  },
  {
   "cell_type": "code",
   "execution_count": 4,
   "metadata": {
    "collapsed": false,
    "deletable": true,
    "editable": true
   },
   "outputs": [
    {
     "name": "stdout",
     "output_type": "stream",
     "text": [
      "[1 1 1 1 1 1 1 1 1 1]\n"
     ]
    }
   ],
   "source": [
    "print(atoms.prop(key='atype'))"
   ]
  },
  {
   "cell_type": "code",
   "execution_count": 5,
   "metadata": {
    "collapsed": false,
    "deletable": true,
    "editable": true
   },
   "outputs": [
    {
     "name": "stdout",
     "output_type": "stream",
     "text": [
      "[[ 0.66513328  0.57874496  0.53289705]\n",
      " [ 0.05201723  0.15846204  0.84438464]\n",
      " [ 0.99655951  0.48757859  0.19377776]\n",
      " [ 0.79178609  0.49243281  0.82008163]\n",
      " [ 0.98191434  0.95624157  0.00807577]\n",
      " [ 0.45352354  0.85482005  0.75871507]\n",
      " [ 0.66278551  0.0717082   0.78166292]\n",
      " [ 0.43157756  0.35681943  0.98552754]\n",
      " [ 0.67557986  0.12971994  0.40442488]\n",
      " [ 0.63270683  0.07282249  0.77204683]]\n"
     ]
    }
   ],
   "source": [
    "print(atoms.prop(key='pos'))"
   ]
  },
  {
   "cell_type": "markdown",
   "metadata": {
    "deletable": true,
    "editable": true
   },
   "source": [
    "Trying to retrieve a non-assigned property returns None"
   ]
  },
  {
   "cell_type": "code",
   "execution_count": 6,
   "metadata": {
    "collapsed": false,
    "deletable": true,
    "editable": true
   },
   "outputs": [
    {
     "name": "stdout",
     "output_type": "stream",
     "text": [
      "None\n"
     ]
    }
   ],
   "source": [
    "print(atoms.prop(key='not-assigned'))"
   ]
  },
  {
   "cell_type": "markdown",
   "metadata": {
    "deletable": true,
    "editable": true
   },
   "source": [
    "Using a_id without key returns a new Atoms instance with copies of the atoms given by a_id"
   ]
  },
  {
   "cell_type": "code",
   "execution_count": 7,
   "metadata": {
    "collapsed": false,
    "deletable": true,
    "editable": true
   },
   "outputs": [
    {
     "name": "stdout",
     "output_type": "stream",
     "text": [
      "     id |   atype |  pos[0] |  pos[1] |  pos[2]\n",
      "      0 |       1 |   0.052 |   0.158 |   0.844\n"
     ]
    }
   ],
   "source": [
    "#Identical to deepcopy(atoms[1])\n",
    "print(atoms.prop(a_id=1))"
   ]
  },
  {
   "cell_type": "markdown",
   "metadata": {
    "deletable": true,
    "editable": true
   },
   "source": [
    "Retrieve a property of a single atom by using key and a_id"
   ]
  },
  {
   "cell_type": "code",
   "execution_count": 8,
   "metadata": {
    "collapsed": false,
    "deletable": true,
    "editable": true
   },
   "outputs": [
    {
     "name": "stdout",
     "output_type": "stream",
     "text": [
      "[ 0.99655951  0.48757859  0.19377776]\n"
     ]
    }
   ],
   "source": [
    "print(atoms.prop(a_id=2, key='pos'))"
   ]
  },
  {
   "cell_type": "markdown",
   "metadata": {
    "deletable": true,
    "editable": true
   },
   "source": [
    "### Setting values\n",
    "\n",
    "Property values can be set using the prop method either for all atoms at once, or on a per-atom basis.  This is done by supplying value after key, and/or a_id. Value assignment uses numpy broadcasting.\n",
    "\n",
    "__Note__: Try to set all values of a property at once as it is typically much faster than setting the values for each atom individually."
   ]
  },
  {
   "cell_type": "markdown",
   "metadata": {
    "deletable": true,
    "editable": true
   },
   "source": [
    "Setting all atypes at once"
   ]
  },
  {
   "cell_type": "code",
   "execution_count": 9,
   "metadata": {
    "collapsed": false,
    "deletable": true,
    "editable": true
   },
   "outputs": [
    {
     "name": "stdout",
     "output_type": "stream",
     "text": [
      "     id |   atype |  pos[0] |  pos[1] |  pos[2]\n",
      "      0 |       2 |   0.665 |   0.579 |   0.533\n",
      "      1 |       2 |   0.052 |   0.158 |   0.844\n",
      "      2 |       2 |   0.997 |   0.488 |   0.194\n",
      "      3 |       2 |   0.792 |   0.492 |   0.820\n",
      "      4 |       2 |   0.982 |   0.956 |   0.008\n",
      "      5 |       2 |   0.454 |   0.855 |   0.759\n",
      "      6 |       2 |   0.663 |   0.072 |   0.782\n",
      "      7 |       2 |   0.432 |   0.357 |   0.986\n",
      "      8 |       2 |   0.676 |   0.130 |   0.404\n",
      "      9 |       2 |   0.633 |   0.073 |   0.772\n"
     ]
    }
   ],
   "source": [
    "atoms.prop(key='atype', value=2)\n",
    "print(atoms)"
   ]
  },
  {
   "cell_type": "markdown",
   "metadata": {
    "deletable": true,
    "editable": true
   },
   "source": [
    "Setting only one atom's atype"
   ]
  },
  {
   "cell_type": "code",
   "execution_count": 10,
   "metadata": {
    "collapsed": false,
    "deletable": true,
    "editable": true
   },
   "outputs": [
    {
     "name": "stdout",
     "output_type": "stream",
     "text": [
      "     id |   atype |  pos[0] |  pos[1] |  pos[2]\n",
      "      0 |       4 |   0.665 |   0.579 |   0.533\n",
      "      1 |       2 |   0.052 |   0.158 |   0.844\n",
      "      2 |       2 |   0.997 |   0.488 |   0.194\n",
      "      3 |       2 |   0.792 |   0.492 |   0.820\n",
      "      4 |       2 |   0.982 |   0.956 |   0.008\n",
      "      5 |       2 |   0.454 |   0.855 |   0.759\n",
      "      6 |       2 |   0.663 |   0.072 |   0.782\n",
      "      7 |       2 |   0.432 |   0.357 |   0.986\n",
      "      8 |       2 |   0.676 |   0.130 |   0.404\n",
      "      9 |       2 |   0.633 |   0.073 |   0.772\n"
     ]
    }
   ],
   "source": [
    "atoms.prop(a_id=0, key='atype', value=4)\n",
    "print(atoms)"
   ]
  },
  {
   "cell_type": "markdown",
   "metadata": {
    "deletable": true,
    "editable": true
   },
   "source": [
    "Setting one atom to be equal to another"
   ]
  },
  {
   "cell_type": "code",
   "execution_count": 11,
   "metadata": {
    "collapsed": false,
    "deletable": true,
    "editable": true
   },
   "outputs": [
    {
     "name": "stdout",
     "output_type": "stream",
     "text": [
      "     id |   atype |  pos[0] |  pos[1] |  pos[2]\n",
      "      0 |       4 |   0.665 |   0.579 |   0.533\n",
      "      1 |       2 |   0.052 |   0.158 |   0.844\n",
      "      2 |       2 |   0.997 |   0.488 |   0.194\n",
      "      3 |       2 |   0.792 |   0.492 |   0.820\n",
      "      4 |       2 |   0.982 |   0.956 |   0.008\n",
      "      5 |       2 |   0.454 |   0.855 |   0.759\n",
      "      6 |       2 |   0.663 |   0.072 |   0.782\n",
      "      7 |       2 |   0.052 |   0.158 |   0.844\n",
      "      8 |       2 |   0.676 |   0.130 |   0.404\n",
      "      9 |       2 |   0.633 |   0.073 |   0.772\n"
     ]
    }
   ],
   "source": [
    "#Identical to atoms[7] = atoms[1]\n",
    "atoms.prop(a_id=7, value=atoms.prop(a_id=1))\n",
    "print(atoms)"
   ]
  },
  {
   "cell_type": "markdown",
   "metadata": {
    "deletable": true,
    "editable": true
   },
   "source": [
    "### Adding new properties\n",
    "\n",
    "Additional atomic properties (beyond atype and pos) can be freely defined using the prop() method.  The value for each new property can be of any regular shape and of a data type that can be converted into a float (bool, int, and long work but complex, unicode, and str do not.)  The shape and data type are set to match the original value and are identical for all atoms.  "
   ]
  },
  {
   "cell_type": "code",
   "execution_count": 12,
   "metadata": {
    "collapsed": false,
    "deletable": true,
    "editable": true
   },
   "outputs": [
    {
     "name": "stdout",
     "output_type": "stream",
     "text": [
      "['atype', 'pos', 'scalar-int']\n",
      "[0 1 2 3 4 5 6 7 8 9]\n"
     ]
    }
   ],
   "source": [
    "atoms.prop(key='scalar-int', value=np.arange(10))\n",
    "print(atoms.prop())\n",
    "print(atoms.prop(key='scalar-int'))"
   ]
  },
  {
   "cell_type": "markdown",
   "metadata": {
    "deletable": true,
    "editable": true
   },
   "source": [
    "If assigned to one atom, all atoms gain that property with default zero values"
   ]
  },
  {
   "cell_type": "code",
   "execution_count": 13,
   "metadata": {
    "collapsed": false,
    "deletable": true,
    "editable": true
   },
   "outputs": [
    {
     "name": "stdout",
     "output_type": "stream",
     "text": [
      "['atype', 'pos', 'scalar-int', 'scalar-bool']\n",
      "[False False False False False  True False False False False]\n"
     ]
    }
   ],
   "source": [
    "atoms.prop(a_id=5, key='scalar-bool', value=True)\n",
    "print(atoms.prop())\n",
    "print(atoms.prop(key='scalar-bool'))"
   ]
  },
  {
   "cell_type": "markdown",
   "metadata": {
    "deletable": true,
    "editable": true
   },
   "source": [
    "Shapes of higher order data structures are retained"
   ]
  },
  {
   "cell_type": "code",
   "execution_count": 14,
   "metadata": {
    "collapsed": false,
    "deletable": true,
    "editable": true
   },
   "outputs": [
    {
     "name": "stdout",
     "output_type": "stream",
     "text": [
      "['atype', 'pos', 'scalar-int', 'scalar-bool', 'matrix-float']\n",
      "[[ 0.58381775  0.98156303  0.49232843]\n",
      " [ 0.37114156  0.54464618  0.42918405]\n",
      " [ 0.68323544  0.79617623  0.28889743]]\n"
     ]
    }
   ],
   "source": [
    "atoms.prop(key='matrix-float', value=np.random.rand(10,3,3))\n",
    "print(atoms.prop())\n",
    "print(atoms.prop(a_id=3, key='matrix-float'))"
   ]
  },
  {
   "cell_type": "markdown",
   "metadata": {
    "deletable": true,
    "editable": true
   },
   "source": [
    "By default, Atoms.prop() will set the data type of new properties implicitly based on the values it recieves. If you want to explicitly set the data types, use the dtype keyword argument."
   ]
  },
  {
   "cell_type": "code",
   "execution_count": 15,
   "metadata": {
    "collapsed": false,
    "deletable": true,
    "editable": true
   },
   "outputs": [
    {
     "name": "stdout",
     "output_type": "stream",
     "text": [
      "['atype', 'pos', 'scalar-int', 'scalar-bool', 'matrix-float', 'scalar-float']\n",
      "[ 0.  1.  2.  3.  4.  5.  6.  7.  8.  9.]\n"
     ]
    }
   ],
   "source": [
    "#Identical to 'scalar-int' example above, except dtype is explicitly given\n",
    "atoms.prop(key='scalar-float', value=np.arange(10), dtype='float')\n",
    "print(atoms.prop())\n",
    "print(atoms.prop(key='scalar-float'))"
   ]
  },
  {
   "cell_type": "markdown",
   "metadata": {
    "deletable": true,
    "editable": true
   },
   "source": [
    "__Docs Navigation:__\n",
    "\n",
    "Tutorial:\n",
    "\n",
    "1. [Basics](../tutorial/1 Basics.ipynb)\n",
    "\n",
    "2. [LAMMPS Functionality](../tutorial/2 LAMMPS Functionality.ipynb)\n",
    "\n",
    "3. [Defect Generation and Evaluation](../tutorial/3 Defect Generation and Evaluation.ipynb)\n",
    "\n",
    "\n",
    "Reference:\n",
    "\n",
    "- [atomman](../reference/atomman.ipynb)\n",
    "\n",
    "- [atomman.convert](../reference/atomman.convert.ipynb)\n",
    "\n",
    "- [atomman.defect](../reference/atomman.defect.ipynb)\n",
    "\n",
    "- [atomman.lammps](../reference/atomman.lammps.ipynb)\n",
    "\n",
    "- [atomman.tools](../reference/atomman.tools.ipynb)\n",
    "\n",
    "- [atomman.unitconvert](../reference/atomman.unitconvert.ipynb)"
   ]
  }
 ],
 "metadata": {
  "kernelspec": {
   "display_name": "Python 2",
   "language": "python",
   "name": "python2"
  },
  "language_info": {
   "codemirror_mode": {
    "name": "ipython",
    "version": 2
   },
   "file_extension": ".py",
   "mimetype": "text/x-python",
   "name": "python",
   "nbconvert_exporter": "python",
   "pygments_lexer": "ipython2",
   "version": "2.7.13"
  }
 },
 "nbformat": 4,
 "nbformat_minor": 0
}
