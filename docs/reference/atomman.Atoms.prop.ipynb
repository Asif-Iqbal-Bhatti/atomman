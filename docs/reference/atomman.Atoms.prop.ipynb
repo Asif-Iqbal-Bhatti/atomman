{
 "cells": [
  {
   "cell_type": "markdown",
   "metadata": {},
   "source": [
    "# atomman.Atoms.prop()\n",
    "\n",
    "- - -"
   ]
  },
  {
   "cell_type": "markdown",
   "metadata": {},
   "source": [
    "**Lucas M. Hale**, [lucas.hale@nist.gov](mailto:lucas.hale@nist.gov?Subject=ipr-demo), *Materials Science and Engineering Division, NIST*.\n",
    "\n",
    "**Chandler A. Becker**, [chandler.becker@nist.gov](mailto:chandler.becker@nist.gov?Subject=ipr-demo), *Office of Data and Informatics, NIST*.\n",
    "\n",
    "**Zachary T. Trautt**, [zachary.trautt@nist.gov](mailto:zachary.trautt@nist.gov?Subject=ipr-demo), *Materials Measurement Science Division, NIST*.\n",
    "\n",
    "Version: 2016-08-23\n",
    "\n",
    "[Disclaimers](http://www.nist.gov/public_affairs/disclaimer.cfm) \n",
    " \n",
    "- - -"
   ]
  },
  {
   "cell_type": "markdown",
   "metadata": {},
   "source": [
    "## Introduction\n",
    "\n",
    "Class Atoms represents a dictionary of atomic properties.  All data is stored in a single numpy array to minimize memory cost, and properties can be accessed either with controlled methods that account for data types and units or directly through the use of numpy views.\n",
    "\n",
    "The underlying code can be found in [atomman/core/Atoms.py](../../atomman/core/Atoms.py).\n",
    "\n",
    "- - -"
   ]
  },
  {
   "cell_type": "markdown",
   "metadata": {},
   "source": [
    "## Methods\n",
    "\n",
    "- [\\__init__(self, natoms=1, prop={}, prop_dtype=None, nvals=30, data=None, view=None)](atomman.Atoms.__init__.ipynb) -- class initializer.\n",
    "\n",
    "- [\\__str__(self)](atomman.Atoms.__str__.ipynb) -- generates string output of the class.\n",
    "\n",
    "- [\\__getitem__(self, index)](atomman.Atoms.__getitem__.ipynb) -- allows index getting of a subset of Atoms.\n",
    "\n",
    "- [\\__setitem__(self, index)](atomman.Atoms.__setitem__.ipynb) -- allows index setting of a subset of Atoms.\n",
    "\n",
    "- [prop(self, a_id, key, value, dtype)](atomman.Atoms.prop.ipynb) -- primary method for accessing and setting per-atom properties. "
   ]
  },
  {
   "cell_type": "markdown",
   "metadata": {},
   "source": [
    "## Attributes\n",
    "\n",
    "- [natoms](atomman.Atoms.natoms.ipynb) -- the number of atoms in the Atoms instance.\n",
    "\n",
    "- [natypes](atomman.Atoms.natypes.ipynb) -- the number of assigned atom types.\n",
    "\n",
    "- [data](atomman.Atoms.data.ipynb) -- the underlying numpy array used for storing per-atom values.\n",
    "\n",
    "- [view](atomman.Atoms.view.ipynb) -- dictionary of structured views for each assigned property.\n",
    "\n",
    "- [dtype](atomman.Atoms.dtype.ipynb) -- dictionary of data types for each assigned property."
   ]
  },
  {
   "cell_type": "markdown",
   "metadata": {},
   "source": [
    "## atomman.Atoms.prop()\n",
    "\n",
    "Atom property values can be set and retrieved using the prop() method.  \n",
    "\n",
    "Keyword Arguments:\n",
    "\n",
    "- __a_id__ = atom index.\n",
    "\n",
    "- __key__ = atom property name.\n",
    "\n",
    "- __value__ = value(s) to assign to properties associated with a_id and/or term.\n",
    "\n",
    "- __dtype__ = data type to explicitly set or retrieve value as. \n",
    "\n",
    "If no arguments given, returns a list of the assigned property keys. Otherwise, a_id and/or key must be specified. The key specifies which property, and the a_id which atom(s) to access. With no value argument, prop() returns which value(s) are associated with the given a_id and/or key. With a value argument, the value is saved according to the given a_id and/or key."
   ]
  },
  {
   "cell_type": "markdown",
   "metadata": {},
   "source": [
    "__Library Imports__"
   ]
  },
  {
   "cell_type": "code",
   "execution_count": 1,
   "metadata": {
    "collapsed": false
   },
   "outputs": [],
   "source": [
    "#External library imports\n",
    "import numpy as np\n",
    "\n",
    "#atomman imports\n",
    "import atomman as am"
   ]
  },
  {
   "cell_type": "code",
   "execution_count": 2,
   "metadata": {
    "collapsed": false
   },
   "outputs": [
    {
     "name": "stdout",
     "output_type": "stream",
     "text": [
      "     id |   atype |  pos[0] |  pos[1] |  pos[2]\n",
      "      0 |       1 |   0.135 |   0.503 |   0.460\n",
      "      1 |       1 |   0.423 |   0.637 |   0.430\n",
      "      2 |       1 |   0.869 |   0.830 |   0.716\n",
      "      3 |       1 |   0.282 |   0.822 |   0.114\n",
      "      4 |       1 |   0.873 |   0.602 |   0.061\n",
      "      5 |       1 |   0.674 |   0.199 |   0.978\n",
      "      6 |       1 |   0.624 |   0.874 |   0.129\n",
      "      7 |       1 |   0.081 |   0.995 |   0.971\n",
      "      8 |       1 |   0.263 |   0.798 |   0.784\n",
      "      9 |       1 |   0.991 |   0.598 |   0.220\n"
     ]
    }
   ],
   "source": [
    "prop_dict = {'atype': 1, 'pos': np.random.rand(10,3)}\n",
    "\n",
    "atoms = am.Atoms(natoms=10, prop=prop_dict)\n",
    "\n",
    "print atoms"
   ]
  },
  {
   "cell_type": "markdown",
   "metadata": {},
   "source": [
    "### No arguments\n",
    "\n",
    "Calling prop with no arguments returns a list of assigned property keys."
   ]
  },
  {
   "cell_type": "code",
   "execution_count": 3,
   "metadata": {
    "collapsed": false
   },
   "outputs": [
    {
     "name": "stdout",
     "output_type": "stream",
     "text": [
      "['atype', 'pos']\n"
     ]
    }
   ],
   "source": [
    "print atoms.prop()"
   ]
  },
  {
   "cell_type": "markdown",
   "metadata": {},
   "source": [
    "### Retrieving values\n",
    "\n",
    "Specific property values can be retrieved by calling prop() with key and/or a_id. All values returned with prop() are \"safe\", i.e. they are copies of the Atoms' data values."
   ]
  },
  {
   "cell_type": "code",
   "execution_count": 4,
   "metadata": {
    "collapsed": false
   },
   "outputs": [
    {
     "name": "stdout",
     "output_type": "stream",
     "text": [
      "[1 1 1 1 1 1 1 1 1 1]\n"
     ]
    }
   ],
   "source": [
    "print atoms.prop(key='atype')"
   ]
  },
  {
   "cell_type": "code",
   "execution_count": 5,
   "metadata": {
    "collapsed": false
   },
   "outputs": [
    {
     "name": "stdout",
     "output_type": "stream",
     "text": [
      "[[ 0.13514018  0.50345699  0.46022821]\n",
      " [ 0.42258763  0.63734292  0.42958543]\n",
      " [ 0.86861731  0.83049236  0.71587533]\n",
      " [ 0.28202332  0.82195119  0.11387136]\n",
      " [ 0.87317662  0.60154629  0.06087328]\n",
      " [ 0.67447024  0.19913279  0.97754951]\n",
      " [ 0.62409215  0.87379828  0.12896199]\n",
      " [ 0.08091128  0.99519596  0.97060663]\n",
      " [ 0.26274054  0.79815792  0.78440781]\n",
      " [ 0.99080415  0.59785256  0.21979642]]\n"
     ]
    }
   ],
   "source": [
    "print atoms.prop(key='pos')"
   ]
  },
  {
   "cell_type": "markdown",
   "metadata": {},
   "source": [
    "Trying to retrieve a non-assigned property returns None"
   ]
  },
  {
   "cell_type": "code",
   "execution_count": 16,
   "metadata": {
    "collapsed": false
   },
   "outputs": [
    {
     "name": "stdout",
     "output_type": "stream",
     "text": [
      "None\n"
     ]
    }
   ],
   "source": [
    "print atoms.prop(key='not-assigned')"
   ]
  },
  {
   "cell_type": "markdown",
   "metadata": {},
   "source": [
    "Using a_id without key returns a new Atoms instance with copies of the atoms given by a_id"
   ]
  },
  {
   "cell_type": "code",
   "execution_count": 7,
   "metadata": {
    "collapsed": false
   },
   "outputs": [
    {
     "name": "stdout",
     "output_type": "stream",
     "text": [
      "     id |   atype |  pos[0] |  pos[1] |  pos[2]\n",
      "      0 |       1 |   0.423 |   0.637 |   0.430\n"
     ]
    }
   ],
   "source": [
    "#Identical to deepcopy(atoms[1])\n",
    "print atoms.prop(a_id=1)"
   ]
  },
  {
   "cell_type": "markdown",
   "metadata": {},
   "source": [
    "Retrieve a property of a single atom by using key and a_id"
   ]
  },
  {
   "cell_type": "code",
   "execution_count": 8,
   "metadata": {
    "collapsed": false
   },
   "outputs": [
    {
     "name": "stdout",
     "output_type": "stream",
     "text": [
      "[ 0.86861731  0.83049236  0.71587533]\n"
     ]
    }
   ],
   "source": [
    "print atoms.prop(a_id=2, key='pos')"
   ]
  },
  {
   "cell_type": "markdown",
   "metadata": {},
   "source": [
    "### Setting values\n",
    "\n",
    "Property values can be set using the prop method either for all atoms at once, or on a per-atom basis.  This is done by supplying value after key, and/or a_id. Value assignment uses numpy broadcasting.\n",
    "\n",
    "__Note__: Try to set all values of a property at once as it is typically much faster than setting the values for each atom individually."
   ]
  },
  {
   "cell_type": "markdown",
   "metadata": {},
   "source": [
    "Setting all atypes at once"
   ]
  },
  {
   "cell_type": "code",
   "execution_count": 9,
   "metadata": {
    "collapsed": false
   },
   "outputs": [
    {
     "name": "stdout",
     "output_type": "stream",
     "text": [
      "     id |   atype |  pos[0] |  pos[1] |  pos[2]\n",
      "      0 |       2 |   0.135 |   0.503 |   0.460\n",
      "      1 |       2 |   0.423 |   0.637 |   0.430\n",
      "      2 |       2 |   0.869 |   0.830 |   0.716\n",
      "      3 |       2 |   0.282 |   0.822 |   0.114\n",
      "      4 |       2 |   0.873 |   0.602 |   0.061\n",
      "      5 |       2 |   0.674 |   0.199 |   0.978\n",
      "      6 |       2 |   0.624 |   0.874 |   0.129\n",
      "      7 |       2 |   0.081 |   0.995 |   0.971\n",
      "      8 |       2 |   0.263 |   0.798 |   0.784\n",
      "      9 |       2 |   0.991 |   0.598 |   0.220\n"
     ]
    }
   ],
   "source": [
    "atoms.prop(key='atype', value=2)\n",
    "print atoms"
   ]
  },
  {
   "cell_type": "markdown",
   "metadata": {},
   "source": [
    "Setting only one atom's atype"
   ]
  },
  {
   "cell_type": "code",
   "execution_count": 10,
   "metadata": {
    "collapsed": false
   },
   "outputs": [
    {
     "name": "stdout",
     "output_type": "stream",
     "text": [
      "     id |   atype |  pos[0] |  pos[1] |  pos[2]\n",
      "      0 |       4 |   0.135 |   0.503 |   0.460\n",
      "      1 |       2 |   0.423 |   0.637 |   0.430\n",
      "      2 |       2 |   0.869 |   0.830 |   0.716\n",
      "      3 |       2 |   0.282 |   0.822 |   0.114\n",
      "      4 |       2 |   0.873 |   0.602 |   0.061\n",
      "      5 |       2 |   0.674 |   0.199 |   0.978\n",
      "      6 |       2 |   0.624 |   0.874 |   0.129\n",
      "      7 |       2 |   0.081 |   0.995 |   0.971\n",
      "      8 |       2 |   0.263 |   0.798 |   0.784\n",
      "      9 |       2 |   0.991 |   0.598 |   0.220\n"
     ]
    }
   ],
   "source": [
    "atoms.prop(a_id=0, key='atype', value=4)\n",
    "print atoms"
   ]
  },
  {
   "cell_type": "markdown",
   "metadata": {},
   "source": [
    "Setting one atom to be equal to another"
   ]
  },
  {
   "cell_type": "code",
   "execution_count": 11,
   "metadata": {
    "collapsed": false
   },
   "outputs": [
    {
     "name": "stdout",
     "output_type": "stream",
     "text": [
      "     id |   atype |  pos[0] |  pos[1] |  pos[2]\n",
      "      0 |       4 |   0.135 |   0.503 |   0.460\n",
      "      1 |       2 |   0.423 |   0.637 |   0.430\n",
      "      2 |       2 |   0.869 |   0.830 |   0.716\n",
      "      3 |       2 |   0.282 |   0.822 |   0.114\n",
      "      4 |       2 |   0.873 |   0.602 |   0.061\n",
      "      5 |       2 |   0.674 |   0.199 |   0.978\n",
      "      6 |       2 |   0.624 |   0.874 |   0.129\n",
      "      7 |       2 |   0.423 |   0.637 |   0.430\n",
      "      8 |       2 |   0.263 |   0.798 |   0.784\n",
      "      9 |       2 |   0.991 |   0.598 |   0.220\n"
     ]
    }
   ],
   "source": [
    "#Identical to atoms[7] = atoms[1]\n",
    "atoms.prop(a_id=7, value=atoms.prop(a_id=1))\n",
    "print atoms"
   ]
  },
  {
   "cell_type": "markdown",
   "metadata": {},
   "source": [
    "Additional atomic properties (beyond atype and pos) can be freely defined using the prop() method.  The value for each new property can be of any regular shape and of a data type that can be converted into a float (bool, int, and long work but complex, unicode, and str do not.)  The shape and data type are set to match the original value and are identical for all atoms.  "
   ]
  },
  {
   "cell_type": "code",
   "execution_count": 12,
   "metadata": {
    "collapsed": false
   },
   "outputs": [
    {
     "name": "stdout",
     "output_type": "stream",
     "text": [
      "['atype', 'pos', 'scalar-int']\n",
      "[0 1 2 3 4 5 6 7 8 9]\n"
     ]
    }
   ],
   "source": [
    "atoms.prop(key='scalar-int', value=np.arange(10))\n",
    "print atoms.prop()\n",
    "print atoms.prop(key='scalar-int')"
   ]
  },
  {
   "cell_type": "markdown",
   "metadata": {},
   "source": [
    "If assigned to one atom, all atoms gain that property with default zero values"
   ]
  },
  {
   "cell_type": "code",
   "execution_count": 13,
   "metadata": {
    "collapsed": false
   },
   "outputs": [
    {
     "name": "stdout",
     "output_type": "stream",
     "text": [
      "['atype', 'pos', 'scalar-int', 'scalar-bool']\n",
      "[False False False False False  True False False False False]\n"
     ]
    }
   ],
   "source": [
    "atoms.prop(a_id=5, key='scalar-bool', value=True)\n",
    "print atoms.prop()\n",
    "print atoms.prop(key='scalar-bool')"
   ]
  },
  {
   "cell_type": "markdown",
   "metadata": {},
   "source": [
    "Shapes of higher order data structures are retained"
   ]
  },
  {
   "cell_type": "code",
   "execution_count": 14,
   "metadata": {
    "collapsed": false
   },
   "outputs": [
    {
     "name": "stdout",
     "output_type": "stream",
     "text": [
      "['atype', 'pos', 'scalar-int', 'scalar-bool', 'matrix-float']\n",
      "[[ 0.59641067  0.02719434  0.98471667]\n",
      " [ 0.89558462  0.89753855  0.14154098]\n",
      " [ 0.27301003  0.60869336  0.36318214]]\n"
     ]
    }
   ],
   "source": [
    "atoms.prop(key='matrix-float', value=np.random.rand(10,3,3))\n",
    "print atoms.prop() \n",
    "print atoms.prop(a_id=3, key='matrix-float') "
   ]
  },
  {
   "cell_type": "markdown",
   "metadata": {},
   "source": [
    "By default, Atoms.prop() will set the data type of new properties implicitly based on the values it recieves. If you want to explicitly set the data types, use the dtype keyword argument."
   ]
  },
  {
   "cell_type": "code",
   "execution_count": 15,
   "metadata": {
    "collapsed": false
   },
   "outputs": [
    {
     "name": "stdout",
     "output_type": "stream",
     "text": [
      "['atype', 'pos', 'scalar-int', 'scalar-bool', 'matrix-float', 'scalar-float']\n",
      "[ 0.  1.  2.  3.  4.  5.  6.  7.  8.  9.]\n"
     ]
    }
   ],
   "source": [
    "#Identical to 'scalar-int' example above, except dtype is explicitly given\n",
    "atoms.prop(key='scalar-float', value=np.arange(10), dtype='float')\n",
    "print atoms.prop()\n",
    "print atoms.prop(key='scalar-float')"
   ]
  },
  {
   "cell_type": "markdown",
   "metadata": {},
   "source": [
    "__Docs Navigation:__\n",
    "\n",
    "Tutorial:\n",
    "\n",
    "1. [Basics](../tutorial/1 Basics.ipynb)\n",
    "\n",
    "2. [LAMMPS Functionality](../tutorial/2 LAMMPS Functionality.ipynb)\n",
    "\n",
    "3. [Defect Generation and Evaluation](../tutorial/3 Defect Generation and Evaluation.ipynb)\n",
    "\n",
    "\n",
    "Reference:\n",
    "\n",
    "- [atomman](../reference/atomman.ipynb)\n",
    "\n",
    "- [atomman.convert](../reference/atomman.convert.ipynb)\n",
    "\n",
    "- [atomman.defect](../reference/atomman.defect.ipynb)\n",
    "\n",
    "- [atomman.lammps](../reference/atomman.lammps.ipynb)\n",
    "\n",
    "- [atomman.tools](../reference/atomman.tools.ipynb)\n",
    "\n",
    "- [atomman.unitconvert](../reference/atomman.unitconvert.ipynb)"
   ]
  }
 ],
 "metadata": {
  "kernelspec": {
   "display_name": "Python 2",
   "language": "python",
   "name": "python2"
  },
  "language_info": {
   "codemirror_mode": {
    "name": "ipython",
    "version": 2
   },
   "file_extension": ".py",
   "mimetype": "text/x-python",
   "name": "python",
   "nbconvert_exporter": "python",
   "pygments_lexer": "ipython2",
   "version": "2.7.11"
  }
 },
 "nbformat": 4,
 "nbformat_minor": 0
}
