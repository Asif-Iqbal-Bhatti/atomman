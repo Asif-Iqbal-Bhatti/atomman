{
 "cells": [
  {
   "cell_type": "markdown",
   "metadata": {
    "deletable": true,
    "editable": true
   },
   "source": [
    "# atomman.System Class\n",
    "\n",
    "- - -"
   ]
  },
  {
   "cell_type": "markdown",
   "metadata": {
    "deletable": true,
    "editable": true
   },
   "source": [
    "**Lucas M. Hale**, [lucas.hale@nist.gov](mailto:lucas.hale@nist.gov?Subject=ipr-demo), *Materials Science and Engineering Division, NIST*.\n",
    "\n",
    "**Chandler A. Becker**, [chandler.becker@nist.gov](mailto:chandler.becker@nist.gov?Subject=ipr-demo), *Office of Data and Informatics, NIST*.\n",
    "\n",
    "**Zachary T. Trautt**, [zachary.trautt@nist.gov](mailto:zachary.trautt@nist.gov?Subject=ipr-demo), *Materials Measurement Science Division, NIST*.\n",
    "\n",
    "Version: 2017-04-19\n",
    "\n",
    "[Disclaimers](http://www.nist.gov/public_affairs/disclaimer.cfm) \n",
    " \n",
    "- - -"
   ]
  },
  {
   "cell_type": "markdown",
   "metadata": {
    "deletable": true,
    "editable": true
   },
   "source": [
    "## Introduction\n",
    "\n",
    "Class System represents a full atomistic system by combining an [Atoms](atomman.Atoms.ipynb) instance with a [Box](atomman.Box.ipynb) instance.  All of the methods of Atoms and Box have corresponding methods in System that add in functionality associated with coupling the atomic positions to the box geometry.  This includes the handling of periodic boundaries.\n",
    "\n",
    "The underlying code can be found in [atomman/core/System.py](../../atomman/core/System.py)."
   ]
  },
  {
   "cell_type": "markdown",
   "metadata": {
    "deletable": true,
    "editable": true
   },
   "source": [
    "## Class Methods of System\n",
    "\n",
    "- [\\__init__(self, atoms=Atoms(), box=Box(), pbc=(True, True, True), scale=False, prop={})](atomman.System.__init__.ipynb) -- class initializer.\n",
    "\n",
    "- [\\__str__(self)](atomman.System.__str__.ipynb) -- generates string output of the class.\n",
    "\n",
    "- [atoms_prop(self, a_id=None, key=None, value=None, dtype=None, scale=False)](atomman.System.atoms_prop.ipynb) -- method for accessing and setting the per-atom stored in System.atoms. This extends [Atoms.prop](atomman.Atoms.prop) by allowing for values to be set/retrieved in scaled box coordinates. \n",
    "\n",
    "- [box_set(self, \\**kwargs)](atomman.Atoms.__setitem__.ipynb) -- method for changing System.Box. This extends [Box.set](atomman.Box.set) by allowing atom rescaling with the box. \n",
    "\n",
    "- [scale(self, value)](atomman.System.scale.ipynb) -- converts 3D vectors from absolute Cartesian coordinates to scaled box coordinates. \n",
    "\n",
    "- [unscale(self, value)](atomman.System.unscale.ipynb) -- converts 3D vectors from scaled box coordinates to absolute Cartesian coordinates. \n",
    "\n",
    "- [dvect(self, pos_0, pos_1)](atomman.System.dvect.ipynb) -- computes the shortest vector(s) between two positions/atoms or list of positions/atoms accounting for box dimensions and periodic boundary conditions (pbc).\n",
    "\n",
    "- [normalize(self, style='lammps')](atomman.System.normalize.ipynb) -- transforms the System to be compatible with external codes. \n",
    "\n",
    "- [wrap(self)](atomman.System.wrap.ipynb) -- wraps atoms around periodic boundaries and extends non-periodic boundaries such that all atom positions are contained within the box.\n",
    "\n",
    "- [nlist(self, cutoff, cmult=1)](atomman.System.nlist.ipynb) -- (_Depreciated_) builds a neighbor list for the System based on a radial cutoff distance.\n",
    "\n",
    "- [neighbors(self, cutoff, cmult=1, initialsize=20)](atomman.System.nlist.ipynb) -- builds a NeighborList for the System based on a radial cutoff distance.\n",
    "\n",
    "- [load(self, style, input, \\**kwargs)](atomman.System.load.ipynb) -- loads an external data type/file of an atomic system configuration into the System.\n",
    "\n",
    "- [model(self, \\**kwargs)](atomman.System.model.ipynb) -- returns an XML/JSON data model representation of the System.\n",
    "\n",
    "\n",
    "- [supersize(self, a_size, b_size, c_size)](atomman.System.supersize.ipynb) -- expands the System ino a supercell of itself."
   ]
  },
  {
   "cell_type": "markdown",
   "metadata": {
    "deletable": true,
    "editable": true
   },
   "source": [
    "## Class Attributes of System\n",
    "\n",
    "- [atoms](atomman.System.atoms.ipynb) -- the Atoms instance within the System.\n",
    "\n",
    "- [natoms](atomman.System.natoms.ipynb) -- the number of atoms in the Atoms instance.\n",
    "\n",
    "- [natypes](atomman.System.natypes.ipynb) -- the number of assigned atom types in the Atoms instance.\n",
    "\n",
    "- [box](atomman.System.box.ipynb) -- the Box instance within the System.\n",
    "\n",
    "- [pbc](atomman.System.pbc.ipynb) -- tuple of three Boolean values indicating which of System.box's dimensions are periodic."
   ]
  },
  {
   "cell_type": "markdown",
   "metadata": {
    "collapsed": true,
    "deletable": true,
    "editable": true
   },
   "source": [
    "- - -\n",
    "__Docs Navigation:__\n",
    "\n",
    "Tutorial:\n",
    "\n",
    "1. [Basics](../tutorial/1 Basics.ipynb)\n",
    "\n",
    "2. [LAMMPS Functionality](../tutorial/2 LAMMPS Functionality.ipynb)\n",
    "\n",
    "3. [Defect Generation and Evaluation](../tutorial/3 Defect Generation and Evaluation.ipynb)\n",
    "\n",
    "\n",
    "Reference:\n",
    "\n",
    "- [atomman](../reference/atomman.ipynb)\n",
    "\n",
    "- [atomman.convert](../reference/atomman.convert.ipynb)\n",
    "\n",
    "- [atomman.defect](../reference/atomman.defect.ipynb)\n",
    "\n",
    "- [atomman.lammps](../reference/atomman.lammps.ipynb)\n",
    "\n",
    "- [atomman.tools](../reference/atomman.tools.ipynb)\n",
    "\n",
    "- [atomman.unitconvert](../reference/atomman.unitconvert.ipynb)"
   ]
  },
  {
   "cell_type": "code",
   "execution_count": null,
   "metadata": {
    "collapsed": true
   },
   "outputs": [],
   "source": []
  }
 ],
 "metadata": {
  "kernelspec": {
   "display_name": "Python 2",
   "language": "python",
   "name": "python2"
  },
  "language_info": {
   "codemirror_mode": {
    "name": "ipython",
    "version": 2
   },
   "file_extension": ".py",
   "mimetype": "text/x-python",
   "name": "python",
   "nbconvert_exporter": "python",
   "pygments_lexer": "ipython2",
   "version": "2.7.13"
  }
 },
 "nbformat": 4,
 "nbformat_minor": 0
}
