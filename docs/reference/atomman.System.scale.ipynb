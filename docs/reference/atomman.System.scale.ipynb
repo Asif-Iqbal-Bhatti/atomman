{
 "cells": [
  {
   "cell_type": "markdown",
   "metadata": {},
   "source": [
    "# atomman.System.scale(self, value)\n",
    "\n",
    "- - -"
   ]
  },
  {
   "cell_type": "markdown",
   "metadata": {},
   "source": [
    "**Lucas M. Hale**, [lucas.hale@nist.gov](mailto:lucas.hale@nist.gov?Subject=ipr-demo), *Materials Science and Engineering Division, NIST*.\n",
    "\n",
    "**Chandler A. Becker**, [chandler.becker@nist.gov](mailto:chandler.becker@nist.gov?Subject=ipr-demo), *Office of Data and Informatics, NIST*.\n",
    "\n",
    "**Zachary T. Trautt**, [zachary.trautt@nist.gov](mailto:zachary.trautt@nist.gov?Subject=ipr-demo), *Materials Measurement Science Division, NIST*.\n",
    "\n",
    "Version: 2016-09-02\n",
    "\n",
    "[Disclaimers](http://www.nist.gov/public_affairs/disclaimer.cfm) \n",
    " \n",
    "- - -"
   ]
  },
  {
   "cell_type": "markdown",
   "metadata": {},
   "source": [
    "## Introduction\n",
    "\n",
    "The System.scale method takes a 3D vector or list of 3D vectors in absolute Cartesian coordinates and converts them to box relative coordinates associated with System.box's vectors and origin. This is used internally by [System.atoms_prop](atomman.System.atoms_prop.ipynb) and [System.box_set](atomman.System.box_set.ipynb) for handling conversions. The inverse conversion function is [System.unscale](atomman.System.unscale.ipynb).\n",
    "\n",
    "Keyword Arguments:\n",
    "\n",
    "- __value__ -- the 3D vector or list of 3D vectors to convert.\n",
    "\n",
    "\n",
    "The underlying code can be found in [atomman/core/System.py](../../atomman/core/System.py)."
   ]
  },
  {
   "cell_type": "markdown",
   "metadata": {},
   "source": [
    "## Demonstration"
   ]
  },
  {
   "cell_type": "markdown",
   "metadata": {},
   "source": [
    "Library Imports"
   ]
  },
  {
   "cell_type": "code",
   "execution_count": 1,
   "metadata": {
    "collapsed": false
   },
   "outputs": [],
   "source": [
    "#External library imports\n",
    "import numpy as np\n",
    "\n",
    "#atomman imports\n",
    "import atomman as am\n",
    "\n",
    "from copy import deepcopy"
   ]
  },
  {
   "cell_type": "markdown",
   "metadata": {},
   "source": [
    "Create a system for an fcc unit cell with a=3.2 and print the string representation"
   ]
  },
  {
   "cell_type": "code",
   "execution_count": 2,
   "metadata": {
    "collapsed": false
   },
   "outputs": [
    {
     "name": "stdout",
     "output_type": "stream",
     "text": [
      "avect =  [ 3.200,  0.000,  0.000]\n",
      "bvect =  [ 0.000,  3.200,  0.000]\n",
      "cvect =  [ 0.000,  0.000,  3.200]\n",
      "origin = [ 0.000,  0.000,  0.000]\n",
      "natoms = 4\n",
      "natypes = 1\n",
      "     id |   atype |  pos[0] |  pos[1] |  pos[2]\n",
      "      0 |       1 |   0.000 |   0.000 |   0.000\n",
      "      1 |       1 |   1.600 |   1.600 |   0.000\n",
      "      2 |       1 |   1.600 |   0.000 |   1.600\n",
      "      3 |       1 |   0.000 |   1.600 |   1.600\n"
     ]
    }
   ],
   "source": [
    "atoms = am.Atoms(natoms=4)\n",
    "atoms.prop(key='atype', value=1)\n",
    "atoms.prop(key='pos', value=np.array([[0.0, 0.0, 0.0],\n",
    "                                      [0.5, 0.5, 0.0],\n",
    "                                      [0.5, 0.0, 0.5],\n",
    "                                      [0.0, 0.5, 0.5]]))\n",
    "box = am.Box(a=3.2, b=3.2, c=3.2)\n",
    "\n",
    "system = am.System(atoms=atoms, box=box, scale=True)\n",
    "print system"
   ]
  },
  {
   "cell_type": "markdown",
   "metadata": {},
   "source": [
    "In Cartesian coordinates, the middle of the fcc unit cell system is at [1.6, 1.6, 1.6]."
   ]
  },
  {
   "cell_type": "code",
   "execution_count": 3,
   "metadata": {
    "collapsed": false
   },
   "outputs": [
    {
     "name": "stdout",
     "output_type": "stream",
     "text": [
      "[ 0.5  0.5  0.5]\n"
     ]
    }
   ],
   "source": [
    "cartesian = [1.6, 1.6, 1.6]\n",
    "relative = system.scale(cartesian)\n",
    "print relative"
   ]
  },
  {
   "cell_type": "markdown",
   "metadata": {},
   "source": [
    "[System.unscale](atomman.System.unscale.ipynb) is the inverse conversion"
   ]
  },
  {
   "cell_type": "code",
   "execution_count": 4,
   "metadata": {
    "collapsed": false
   },
   "outputs": [
    {
     "name": "stdout",
     "output_type": "stream",
     "text": [
      "[ 1.6  1.6  1.6]\n"
     ]
    }
   ],
   "source": [
    "print system.unscale(relative)"
   ]
  },
  {
   "cell_type": "markdown",
   "metadata": {},
   "source": [
    "This function uses numpy vectorization to also allow for the conversion of a list of vectors"
   ]
  },
  {
   "cell_type": "code",
   "execution_count": 5,
   "metadata": {
    "collapsed": false
   },
   "outputs": [
    {
     "name": "stdout",
     "output_type": "stream",
     "text": [
      "[[ 0.35617014  1.02144124  1.87348615]\n",
      " [ 0.39469747  0.43678964  3.06509282]\n",
      " [ 1.83706142  1.1220453   1.73282948]\n",
      " [ 1.29838584  0.5288683   2.55627032]\n",
      " [ 2.48812501  0.0760143   2.65476338]\n",
      " [ 1.93347557  2.73972854  1.4787796 ]\n",
      " [ 0.05469351  1.59576991  3.05329405]\n",
      " [ 0.15168577  2.68795892  0.60869654]\n",
      " [ 1.83803606  0.9556634   0.13547694]\n",
      " [ 2.16538788  0.84645953  2.45490849]]\n"
     ]
    }
   ],
   "source": [
    "pos_list = 3.2 * np.random.random((10,3))\n",
    "print pos_list"
   ]
  },
  {
   "cell_type": "code",
   "execution_count": 6,
   "metadata": {
    "collapsed": false
   },
   "outputs": [
    {
     "name": "stdout",
     "output_type": "stream",
     "text": [
      "[[ 0.11130317  0.31920039  0.58546442]\n",
      " [ 0.12334296  0.13649676  0.95784151]\n",
      " [ 0.57408169  0.35063916  0.54150921]\n",
      " [ 0.40574558  0.16527134  0.79883448]\n",
      " [ 0.77753907  0.02375447  0.82961356]\n",
      " [ 0.60421112  0.85616517  0.46211862]\n",
      " [ 0.01709172  0.4986781   0.95415439]\n",
      " [ 0.0474018   0.83998716  0.19021767]\n",
      " [ 0.57438627  0.29864481  0.04233654]\n",
      " [ 0.67668371  0.2645186   0.7671589 ]]\n"
     ]
    }
   ],
   "source": [
    "print system.scale(pos_list)"
   ]
  },
  {
   "cell_type": "markdown",
   "metadata": {
    "collapsed": true
   },
   "source": [
    "- - -\n",
    "__Docs Navigation:__\n",
    "\n",
    "Tutorial:\n",
    "\n",
    "1. [Basics](../tutorial/1 Basics.ipynb)\n",
    "\n",
    "2. [LAMMPS Functionality](../tutorial/2 LAMMPS Functionality.ipynb)\n",
    "\n",
    "3. [Defect Generation and Evaluation](../tutorial/3 Defect Generation and Evaluation.ipynb)\n",
    "\n",
    "\n",
    "Reference:\n",
    "\n",
    "- [atomman](../reference/atomman.ipynb)\n",
    "\n",
    "- [atomman.convert](../reference/atomman.convert.ipynb)\n",
    "\n",
    "- [atomman.defect](../reference/atomman.defect.ipynb)\n",
    "\n",
    "- [atomman.lammps](../reference/atomman.lammps.ipynb)\n",
    "\n",
    "- [atomman.tools](../reference/atomman.tools.ipynb)\n",
    "\n",
    "- [atomman.unitconvert](../reference/atomman.unitconvert.ipynb)"
   ]
  }
 ],
 "metadata": {
  "kernelspec": {
   "display_name": "Python 2",
   "language": "python",
   "name": "python2"
  },
  "language_info": {
   "codemirror_mode": {
    "name": "ipython",
    "version": 2
   },
   "file_extension": ".py",
   "mimetype": "text/x-python",
   "name": "python",
   "nbconvert_exporter": "python",
   "pygments_lexer": "ipython2",
   "version": "2.7.11"
  }
 },
 "nbformat": 4,
 "nbformat_minor": 0
}
