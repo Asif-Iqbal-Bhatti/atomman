{
 "cells": [
  {
   "cell_type": "markdown",
   "metadata": {
    "deletable": true,
    "editable": true
   },
   "source": [
    "# atomman.System.scale(self, value)\n",
    "\n",
    "- - -"
   ]
  },
  {
   "cell_type": "markdown",
   "metadata": {
    "deletable": true,
    "editable": true
   },
   "source": [
    "**Lucas M. Hale**, [lucas.hale@nist.gov](mailto:lucas.hale@nist.gov?Subject=ipr-demo), *Materials Science and Engineering Division, NIST*.\n",
    "\n",
    "**Chandler A. Becker**, [chandler.becker@nist.gov](mailto:chandler.becker@nist.gov?Subject=ipr-demo), *Office of Data and Informatics, NIST*.\n",
    "\n",
    "**Zachary T. Trautt**, [zachary.trautt@nist.gov](mailto:zachary.trautt@nist.gov?Subject=ipr-demo), *Materials Measurement Science Division, NIST*.\n",
    "\n",
    "Version: 2017-04-19\n",
    "\n",
    "[Disclaimers](http://www.nist.gov/public_affairs/disclaimer.cfm) \n",
    " \n",
    "- - -"
   ]
  },
  {
   "cell_type": "markdown",
   "metadata": {
    "deletable": true,
    "editable": true
   },
   "source": [
    "## Introduction\n",
    "\n",
    "The System.scale method takes a 3D vector or list of 3D vectors in absolute Cartesian coordinates and converts them to box relative coordinates associated with System.box's vectors and origin. This is used internally by [System.atoms_prop](atomman.System.atoms_prop.ipynb) and [System.box_set](atomman.System.box_set.ipynb) for handling conversions. The inverse conversion function is [System.unscale](atomman.System.unscale.ipynb).\n",
    "\n",
    "Keyword Arguments:\n",
    "\n",
    "- __value__ -- the 3D vector or list of 3D vectors to convert.\n",
    "\n",
    "\n",
    "The underlying code can be found in [atomman/core/System.py](../../atomman/core/System.py)."
   ]
  },
  {
   "cell_type": "markdown",
   "metadata": {
    "deletable": true,
    "editable": true
   },
   "source": [
    "## Demonstration"
   ]
  },
  {
   "cell_type": "markdown",
   "metadata": {
    "deletable": true,
    "editable": true
   },
   "source": [
    "Library Imports"
   ]
  },
  {
   "cell_type": "code",
   "execution_count": 1,
   "metadata": {
    "collapsed": false,
    "deletable": true,
    "editable": true
   },
   "outputs": [],
   "source": [
    "#Standard libraries\n",
    "from __future__ import print_function\n",
    "from copy import deepcopy\n",
    "\n",
    "#http://www.numpy.org/\n",
    "import numpy as np    \n",
    "\n",
    "#https://github.com/usnistgov/atomman\n",
    "import atomman as am"
   ]
  },
  {
   "cell_type": "markdown",
   "metadata": {
    "deletable": true,
    "editable": true
   },
   "source": [
    "Create a system for an fcc unit cell with a=3.2 and print the string representation"
   ]
  },
  {
   "cell_type": "code",
   "execution_count": 2,
   "metadata": {
    "collapsed": false,
    "deletable": true,
    "editable": true
   },
   "outputs": [
    {
     "name": "stdout",
     "output_type": "stream",
     "text": [
      "avect =  [ 3.200,  0.000,  0.000]\n",
      "bvect =  [ 0.000,  3.200,  0.000]\n",
      "cvect =  [ 0.000,  0.000,  3.200]\n",
      "origin = [ 0.000,  0.000,  0.000]\n",
      "natoms = 4\n",
      "natypes = 1\n",
      "     id |   atype |  pos[0] |  pos[1] |  pos[2]\n",
      "      0 |       1 |   0.000 |   0.000 |   0.000\n",
      "      1 |       1 |   1.600 |   1.600 |   0.000\n",
      "      2 |       1 |   1.600 |   0.000 |   1.600\n",
      "      3 |       1 |   0.000 |   1.600 |   1.600\n"
     ]
    }
   ],
   "source": [
    "atoms = am.Atoms(natoms=4)\n",
    "atoms.prop(key='atype', value=1)\n",
    "atoms.prop(key='pos', value=np.array([[0.0, 0.0, 0.0],\n",
    "                                      [0.5, 0.5, 0.0],\n",
    "                                      [0.5, 0.0, 0.5],\n",
    "                                      [0.0, 0.5, 0.5]]))\n",
    "box = am.Box(a=3.2, b=3.2, c=3.2)\n",
    "\n",
    "system = am.System(atoms=atoms, box=box, scale=True)\n",
    "print(system)"
   ]
  },
  {
   "cell_type": "markdown",
   "metadata": {
    "deletable": true,
    "editable": true
   },
   "source": [
    "In Cartesian coordinates, the middle of the fcc unit cell system is at [1.6, 1.6, 1.6]."
   ]
  },
  {
   "cell_type": "code",
   "execution_count": 3,
   "metadata": {
    "collapsed": false,
    "deletable": true,
    "editable": true
   },
   "outputs": [
    {
     "name": "stdout",
     "output_type": "stream",
     "text": [
      "[ 0.5  0.5  0.5]\n"
     ]
    }
   ],
   "source": [
    "cartesian = [1.6, 1.6, 1.6]\n",
    "relative = system.scale(cartesian)\n",
    "print(relative)"
   ]
  },
  {
   "cell_type": "markdown",
   "metadata": {
    "deletable": true,
    "editable": true
   },
   "source": [
    "[System.unscale](atomman.System.unscale.ipynb) is the inverse conversion"
   ]
  },
  {
   "cell_type": "code",
   "execution_count": 4,
   "metadata": {
    "collapsed": false,
    "deletable": true,
    "editable": true
   },
   "outputs": [
    {
     "name": "stdout",
     "output_type": "stream",
     "text": [
      "[ 1.6  1.6  1.6]\n"
     ]
    }
   ],
   "source": [
    "print(system.unscale(relative))"
   ]
  },
  {
   "cell_type": "markdown",
   "metadata": {
    "deletable": true,
    "editable": true
   },
   "source": [
    "This function uses numpy vectorization to also allow for the fast conversion of a list of vectors"
   ]
  },
  {
   "cell_type": "code",
   "execution_count": 5,
   "metadata": {
    "collapsed": false,
    "deletable": true,
    "editable": true
   },
   "outputs": [
    {
     "name": "stdout",
     "output_type": "stream",
     "text": [
      "[[ 2.2453679   1.65056758  1.1351764 ]\n",
      " [ 0.29549499  2.52334176  1.6442304 ]\n",
      " [ 2.37392913  0.85185078  2.64322944]\n",
      " [ 1.89738116  0.08653697  0.91331669]\n",
      " [ 2.61752569  0.43369603  0.0443301 ]\n",
      " [ 0.66878332  2.4651467   1.71787194]\n",
      " [ 2.68722165  0.62206978  0.83327896]\n",
      " [ 1.03797285  1.36689542  1.57232803]\n",
      " [ 0.73160524  2.52829642  1.19370365]\n",
      " [ 0.01132654  1.79636296  2.77565778]]\n"
     ]
    }
   ],
   "source": [
    "pos_list = 3.2 * np.random.random((10,3))\n",
    "print(pos_list)"
   ]
  },
  {
   "cell_type": "code",
   "execution_count": 6,
   "metadata": {
    "collapsed": false,
    "deletable": true,
    "editable": true
   },
   "outputs": [
    {
     "name": "stdout",
     "output_type": "stream",
     "text": [
      "[[ 0.70167747  0.51580237  0.35474263]\n",
      " [ 0.09234218  0.7885443   0.513822  ]\n",
      " [ 0.74185285  0.26620337  0.8260092 ]\n",
      " [ 0.59293161  0.0270428   0.28541146]\n",
      " [ 0.81797678  0.13553001  0.01385316]\n",
      " [ 0.20899479  0.77035834  0.53683498]\n",
      " [ 0.83975677  0.19439681  0.26039967]\n",
      " [ 0.32436652  0.42715482  0.49135251]\n",
      " [ 0.22862664  0.79009263  0.37303239]\n",
      " [ 0.00353954  0.56136343  0.86739306]]\n"
     ]
    }
   ],
   "source": [
    "print(system.scale(pos_list))"
   ]
  },
  {
   "cell_type": "markdown",
   "metadata": {
    "collapsed": true,
    "deletable": true,
    "editable": true
   },
   "source": [
    "- - -\n",
    "__Docs Navigation:__\n",
    "\n",
    "Tutorial:\n",
    "\n",
    "1. [Basics](../tutorial/1 Basics.ipynb)\n",
    "\n",
    "2. [LAMMPS Functionality](../tutorial/2 LAMMPS Functionality.ipynb)\n",
    "\n",
    "3. [Defect Generation and Evaluation](../tutorial/3 Defect Generation and Evaluation.ipynb)\n",
    "\n",
    "\n",
    "Reference:\n",
    "\n",
    "- [atomman](../reference/atomman.ipynb)\n",
    "\n",
    "- [atomman.convert](../reference/atomman.convert.ipynb)\n",
    "\n",
    "- [atomman.defect](../reference/atomman.defect.ipynb)\n",
    "\n",
    "- [atomman.lammps](../reference/atomman.lammps.ipynb)\n",
    "\n",
    "- [atomman.tools](../reference/atomman.tools.ipynb)\n",
    "\n",
    "- [atomman.unitconvert](../reference/atomman.unitconvert.ipynb)"
   ]
  }
 ],
 "metadata": {
  "kernelspec": {
   "display_name": "Python 2",
   "language": "python",
   "name": "python2"
  },
  "language_info": {
   "codemirror_mode": {
    "name": "ipython",
    "version": 2
   },
   "file_extension": ".py",
   "mimetype": "text/x-python",
   "name": "python",
   "nbconvert_exporter": "python",
   "pygments_lexer": "ipython2",
   "version": "2.7.13"
  }
 },
 "nbformat": 4,
 "nbformat_minor": 0
}
