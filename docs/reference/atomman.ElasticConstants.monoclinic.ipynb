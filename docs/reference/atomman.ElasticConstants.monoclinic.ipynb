{
 "cells": [
  {
   "cell_type": "markdown",
   "metadata": {
    "deletable": true,
    "editable": true
   },
   "source": [
    "# atomman.ElasticConstants.monoclinic(self, \\**kwargs)\n",
    "\n",
    "- - -"
   ]
  },
  {
   "cell_type": "markdown",
   "metadata": {
    "deletable": true,
    "editable": true
   },
   "source": [
    "**Lucas M. Hale**, [lucas.hale@nist.gov](mailto:lucas.hale@nist.gov?Subject=ipr-demo), *Materials Science and Engineering Division, NIST*.\n",
    "\n",
    "**Chandler A. Becker**, [chandler.becker@nist.gov](mailto:chandler.becker@nist.gov?Subject=ipr-demo), *Office of Data and Informatics, NIST*.\n",
    "\n",
    "**Zachary T. Trautt**, [zachary.trautt@nist.gov](mailto:zachary.trautt@nist.gov?Subject=ipr-demo), *Materials Measurement Science Division, NIST*.\n",
    "\n",
    "Version: 2017-04-20\n",
    "\n",
    "[Disclaimers](http://www.nist.gov/public_affairs/disclaimer.cfm) \n",
    " \n",
    "- - -"
   ]
  },
  {
   "cell_type": "markdown",
   "metadata": {
    "deletable": true,
    "editable": true
   },
   "source": [
    "## Introduction\n",
    "\n",
    "ElasticConstants.monoclinic allows for an ElasticConstants to be changed by supplying the unique monoclinic components of Cij individually. All arguments are required.\n",
    "\n",
    "Keyword Arguments:\n",
    "\n",
    "- __C11__ -- component of Cij\n",
    "\n",
    "- __C12__ -- component of Cij\n",
    "\n",
    "- __C13__ -- component of Cij\n",
    "\n",
    "- __C15__ -- component of Cij\n",
    "\n",
    "- __C22__ -- component of Cij\n",
    "\n",
    "- __C23__ -- component of Cij\n",
    "\n",
    "- __C25__ -- component of Cij\n",
    "\n",
    "- __C33__ -- component of Cij\n",
    "\n",
    "- __C35__ -- component of Cij\n",
    "\n",
    "- __C44__ -- component of Cij\n",
    "\n",
    "- __C46__ -- component of Cij\n",
    "\n",
    "- __C55__ -- component of Cij\n",
    "\n",
    "- __C66__ -- component of Cij\n",
    "\n",
    "The generated tensor is of the form\n",
    "\n",
    "$$C_{ij} = \\left[ \\begin{array}{ccc}\n",
    "C_{11} & C_{12} & C_{13} & 0.0    & C_{15} & 0.0    \\\\\n",
    "C_{12} & C_{22} & C_{23} & 0.0    & C_{25} & 0.0    \\\\\n",
    "C_{13} & C_{23} & C_{33} & 0.0    & C_{35} & 0.0    \\\\\n",
    "0.0    & 0.0    & 0.0    & C_{44} & 0.0    & C_{46} \\\\\n",
    "C_{15} & C_{25} & C_{35} & 0.0    & C_{55} & 0.0    \\\\\n",
    "0.0    & 0.0    & 0.0    & C_{46} & 0.0    & C_{66} \n",
    "\\end{array} \\right]$$\n",
    "\n",
    "The underlying code can be found in [atomman/core/ElasticConstants.py](../../atomman/core/ElasticConstants.py)."
   ]
  },
  {
   "cell_type": "markdown",
   "metadata": {
    "deletable": true,
    "editable": true
   },
   "source": [
    "## Demonstration"
   ]
  },
  {
   "cell_type": "markdown",
   "metadata": {
    "deletable": true,
    "editable": true
   },
   "source": [
    "Library Imports"
   ]
  },
  {
   "cell_type": "code",
   "execution_count": 1,
   "metadata": {
    "collapsed": true,
    "deletable": true,
    "editable": true
   },
   "outputs": [],
   "source": [
    "#Standard libraries\n",
    "from __future__ import print_function\n",
    "\n",
    "#https://github.com/usnistgov/atomman \n",
    "import atomman as am"
   ]
  },
  {
   "cell_type": "markdown",
   "metadata": {
    "deletable": true,
    "editable": true
   },
   "source": [
    "Dummy demonstration with values matching indexes"
   ]
  },
  {
   "cell_type": "code",
   "execution_count": 2,
   "metadata": {
    "collapsed": false,
    "deletable": true,
    "editable": true
   },
   "outputs": [
    {
     "name": "stdout",
     "output_type": "stream",
     "text": [
      "[[ 11.  12.  13.   0.  15.   0.]\n",
      " [ 12.  22.  23.   0.  25.   0.]\n",
      " [ 13.  23.  33.   0.  35.   0.]\n",
      " [  0.   0.   0.  44.   0.  46.]\n",
      " [ 15.  25.  35.   0.  55.   0.]\n",
      " [  0.   0.   0.  46.   0.  66.]]\n"
     ]
    }
   ],
   "source": [
    "c = am.ElasticConstants()\n",
    "\n",
    "c.monoclinic(C11=11, C22=22, C33=33,\n",
    "             C12=12, C13=13, C23=23,\n",
    "             C44=44, C55=55, C66=66,\n",
    "             C15=15, C25=25, C35=35, \n",
    "             C46=46)\n",
    "            \n",
    "print(c)"
   ]
  },
  {
   "cell_type": "markdown",
   "metadata": {
    "collapsed": true,
    "deletable": true,
    "editable": true
   },
   "source": [
    "__Docs Navigation:__\n",
    "\n",
    "Tutorial:\n",
    "\n",
    "1. [Basics](../tutorial/1 Basics.ipynb)\n",
    "\n",
    "2. [LAMMPS Functionality](../tutorial/2 LAMMPS Functionality.ipynb)\n",
    "\n",
    "3. [Defect Generation and Evaluation](../tutorial/3 Defect Generation and Evaluation.ipynb)\n",
    "\n",
    "\n",
    "Reference:\n",
    "\n",
    "- [atomman](../reference/atomman.ipynb)\n",
    "\n",
    "- [atomman.convert](../reference/atomman.convert.ipynb)\n",
    "\n",
    "- [atomman.defect](../reference/atomman.defect.ipynb)\n",
    "\n",
    "- [atomman.lammps](../reference/atomman.lammps.ipynb)\n",
    "\n",
    "- [atomman.tools](../reference/atomman.tools.ipynb)\n",
    "\n",
    "- [atomman.unitconvert](../reference/atomman.unitconvert.ipynb)"
   ]
  }
 ],
 "metadata": {
  "kernelspec": {
   "display_name": "Python 2",
   "language": "python",
   "name": "python2"
  },
  "language_info": {
   "codemirror_mode": {
    "name": "ipython",
    "version": 2
   },
   "file_extension": ".py",
   "mimetype": "text/x-python",
   "name": "python",
   "nbconvert_exporter": "python",
   "pygments_lexer": "ipython2",
   "version": "2.7.13"
  }
 },
 "nbformat": 4,
 "nbformat_minor": 0
}
