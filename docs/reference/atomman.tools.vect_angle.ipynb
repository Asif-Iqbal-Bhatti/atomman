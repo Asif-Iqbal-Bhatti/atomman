{
 "cells": [
  {
   "cell_type": "markdown",
   "metadata": {},
   "source": [
    "# atomman Documentation Notebooks\n",
    "\n",
    "__Navigation:__\n",
    "\n",
    "Tutorial:\n",
    "\n",
    "- [1 Basics](../tutorial/1 Basics.ipynb)\n",
    "\n",
    "- [2 LAMMPS Functionality](../tutorial/2 LAMMPS Functionality.ipynb)\n",
    "\n",
    "- [3 Defect Generation and Evaluation](../tutorial/3 Defect Generation and Evaluation.ipynb)\n",
    "\n",
    "\n",
    "Reference:\n",
    "\n",
    "- [atomman](../reference/atomman.ipynb)\n",
    "\n",
    "- [atomman.convert](../reference/atomman.convert.ipynb)\n",
    "\n",
    "- [atomman.defect](../reference/atomman.defect.ipynb)\n",
    "\n",
    "- [atomman.lammps](../reference/atomman.lammps.ipynb)\n",
    "\n",
    "- [atomman.tools](../reference/atomman.tools.ipynb)\n",
    "\n",
    "- [atomman.unitconvert](../reference/atomman.unitconvert.ipynb)"
   ]
  },
  {
   "cell_type": "markdown",
   "metadata": {},
   "source": [
    "### atomman.tools.vect_angle(vect1, vect2)\n",
    "\n",
    "Returns the angle between two vectors in degrees.\n",
    "\n",
    "Arguments:\n",
    "\n",
    "- __vect1__ -- 3D vector represented as tuple/list/numpy array\n",
    "- __vect2__ -- 3D vector represented as tuple/list/numpy array\n",
    "\n",
    "The underlying code can be found in [atomman/tools/vect_angle.py](../../atomman/tools/vect_angle.py)."
   ]
  },
  {
   "cell_type": "code",
   "execution_count": 1,
   "metadata": {
    "collapsed": true
   },
   "outputs": [],
   "source": [
    "import atomman as am"
   ]
  },
  {
   "cell_type": "code",
   "execution_count": 2,
   "metadata": {
    "collapsed": false
   },
   "outputs": [
    {
     "name": "stdout",
     "output_type": "stream",
     "text": [
      "0.0\n"
     ]
    }
   ],
   "source": [
    "vect1 = [ 1, 0, 0]\n",
    "vect2 = [ 1, 0, 0]\n",
    "\n",
    "print am.tools.vect_angle(vect1, vect2)"
   ]
  },
  {
   "cell_type": "code",
   "execution_count": 3,
   "metadata": {
    "collapsed": false
   },
   "outputs": [
    {
     "name": "stdout",
     "output_type": "stream",
     "text": [
      "180.0\n"
     ]
    }
   ],
   "source": [
    "vect1 = [ 1, 0, 0]\n",
    "vect2 = [-1, 0, 0]\n",
    "\n",
    "print am.tools.vect_angle(vect1, vect2)"
   ]
  },
  {
   "cell_type": "code",
   "execution_count": 4,
   "metadata": {
    "collapsed": false
   },
   "outputs": [
    {
     "name": "stdout",
     "output_type": "stream",
     "text": [
      "45.0\n"
     ]
    }
   ],
   "source": [
    "vect1 = [ 1, 0, 0]\n",
    "vect2 = [ 1, 1, 0]\n",
    "\n",
    "print am.tools.vect_angle(vect1, vect2)"
   ]
  }
 ],
 "metadata": {
  "kernelspec": {
   "display_name": "Python 2",
   "language": "python",
   "name": "python2"
  },
  "language_info": {
   "codemirror_mode": {
    "name": "ipython",
    "version": 2
   },
   "file_extension": ".py",
   "mimetype": "text/x-python",
   "name": "python",
   "nbconvert_exporter": "python",
   "pygments_lexer": "ipython2",
   "version": "2.7.11"
  }
 },
 "nbformat": 4,
 "nbformat_minor": 0
}
