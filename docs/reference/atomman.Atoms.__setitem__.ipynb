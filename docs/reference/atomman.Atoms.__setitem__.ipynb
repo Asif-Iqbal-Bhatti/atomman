{
 "cells": [
  {
   "cell_type": "markdown",
   "metadata": {},
   "source": [
    "# atomman.Atoms.\\__setitem__()\n",
    "- - -"
   ]
  },
  {
   "cell_type": "markdown",
   "metadata": {},
   "source": [
    "**Lucas M. Hale**, [lucas.hale@nist.gov](mailto:lucas.hale@nist.gov?Subject=ipr-demo), *Materials Science and Engineering Division, NIST*.\n",
    "\n",
    "**Chandler A. Becker**, [chandler.becker@nist.gov](mailto:chandler.becker@nist.gov?Subject=ipr-demo), *Office of Data and Informatics, NIST*.\n",
    "\n",
    "**Zachary T. Trautt**, [zachary.trautt@nist.gov](mailto:zachary.trautt@nist.gov?Subject=ipr-demo), *Materials Measurement Science Division, NIST*.\n",
    "\n",
    "Version: 2016-08-23\n",
    "\n",
    "[Disclaimers](http://www.nist.gov/public_affairs/disclaimer.cfm) \n",
    " \n",
    "- - -"
   ]
  },
  {
   "cell_type": "markdown",
   "metadata": {},
   "source": [
    "## Introduction\n",
    "\n",
    "Class Atoms represents a dictionary of atomic properties.  All data is stored in a single numpy array to minimize memory cost, and properties can be accessed either with controlled methods that account for data types and units or directly through the use of numpy views.\n",
    "\n",
    "The underlying code can be found in [atomman/core/Atoms.py](../../atomman/core/Atoms.py).\n",
    "\n",
    "- - -"
   ]
  },
  {
   "cell_type": "markdown",
   "metadata": {},
   "source": [
    "## Methods\n",
    "\n",
    "- [\\__init__(self, natoms=1, prop={}, prop_dtype=None, nvals=30, data=None, view=None)](atomman.Atoms.__init__.ipynb) -- class initializer.\n",
    "\n",
    "- [\\__str__(self)](atomman.Atoms.__str__.ipynb) -- generates string output of the class.\n",
    "\n",
    "- [\\__getitem__(self, index)](atomman.Atoms.__getitem__.ipynb) -- allows index getting of a subset of Atoms.\n",
    "\n",
    "- [\\__setitem__(self, index)](atomman.Atoms.__setitem__.ipynb) -- allows index setting of a subset of Atoms.\n",
    "\n",
    "- [prop(self, a_id, key, value, dtype)](atomman.Atoms.prop.ipynb) -- primary method for accessing and setting per-atom properties. "
   ]
  },
  {
   "cell_type": "markdown",
   "metadata": {},
   "source": [
    "## Attributes\n",
    "\n",
    "- [natoms](atomman.Atoms.natoms.ipynb) -- the number of atoms in the Atoms instance.\n",
    "\n",
    "- [natypes](atomman.Atoms.natypes.ipynb) -- the number of assigned atom types.\n",
    "\n",
    "- [data](atomman.Atoms.data.ipynb) -- the underlying numpy array used for storing per-atom values.\n",
    "\n",
    "- [view](atomman.Atoms.view.ipynb) -- dictionary of structured views for each assigned property.\n",
    "\n",
    "- [dtype](atomman.Atoms.dtype.ipynb) -- dictionary of data types for each assigned property."
   ]
  },
  {
   "cell_type": "markdown",
   "metadata": {},
   "source": [
    "## Index Setting\n",
    "\n",
    "Indexing can be used to set values for a subset of atoms in an Atoms instance. The value must be an Atoms instance with the proper number of atoms and the same assigned properties and dtypes.  Complex numpy indexing is allowed.\n",
    "\n",
    "In order to work, the "
   ]
  },
  {
   "cell_type": "markdown",
   "metadata": {},
   "source": [
    "__Library Imports__"
   ]
  },
  {
   "cell_type": "code",
   "execution_count": 1,
   "metadata": {
    "collapsed": true
   },
   "outputs": [],
   "source": [
    "#External library imports\n",
    "import numpy as np\n",
    "\n",
    "#atomman imports\n",
    "import atomman as am"
   ]
  },
  {
   "cell_type": "code",
   "execution_count": 2,
   "metadata": {
    "collapsed": false
   },
   "outputs": [
    {
     "name": "stdout",
     "output_type": "stream",
     "text": [
      "     id |   atype |  pos[0] |  pos[1] |  pos[2]\n",
      "      0 |       1 |   0.791 |   0.450 |   0.736\n",
      "      1 |       1 |   0.078 |   0.436 |   0.512\n",
      "      2 |       1 |   0.159 |   0.479 |   0.170\n",
      "      3 |       1 |   0.954 |   0.131 |   0.909\n",
      "      4 |       1 |   0.631 |   0.590 |   0.699\n",
      "      5 |       1 |   0.809 |   0.581 |   0.774\n",
      "      6 |       1 |   0.720 |   0.561 |   0.176\n",
      "      7 |       1 |   0.496 |   0.696 |   0.369\n",
      "      8 |       1 |   0.554 |   0.539 |   0.432\n",
      "      9 |       1 |   0.486 |   0.518 |   0.349\n"
     ]
    }
   ],
   "source": [
    "prop_dict = {'atype': 1, 'pos': np.random.rand(10,3)}\n",
    "\n",
    "atoms = am.Atoms(natoms=10, prop=prop_dict)\n",
    "\n",
    "print atoms"
   ]
  },
  {
   "cell_type": "markdown",
   "metadata": {},
   "source": [
    "switch the index of the first and last atoms"
   ]
  },
  {
   "cell_type": "code",
   "execution_count": 3,
   "metadata": {
    "collapsed": false
   },
   "outputs": [
    {
     "name": "stdout",
     "output_type": "stream",
     "text": [
      "     id |   atype |  pos[0] |  pos[1] |  pos[2]\n",
      "      0 |       1 |   0.486 |   0.518 |   0.349\n",
      "      1 |       1 |   0.078 |   0.436 |   0.512\n",
      "      2 |       1 |   0.159 |   0.479 |   0.170\n",
      "      3 |       1 |   0.954 |   0.131 |   0.909\n",
      "      4 |       1 |   0.631 |   0.590 |   0.699\n",
      "      5 |       1 |   0.809 |   0.581 |   0.774\n",
      "      6 |       1 |   0.720 |   0.561 |   0.176\n",
      "      7 |       1 |   0.496 |   0.696 |   0.369\n",
      "      8 |       1 |   0.554 |   0.539 |   0.432\n",
      "      9 |       1 |   0.791 |   0.450 |   0.736\n"
     ]
    }
   ],
   "source": [
    "atoms[[0,9]] = atoms[[9,0]]\n",
    "\n",
    "print atoms"
   ]
  },
  {
   "cell_type": "markdown",
   "metadata": {},
   "source": [
    "__Docs Navigation:__\n",
    "\n",
    "Tutorial:\n",
    "\n",
    "1. [Basics](../tutorial/1 Basics.ipynb)\n",
    "\n",
    "2. [LAMMPS Functionality](../tutorial/2 LAMMPS Functionality.ipynb)\n",
    "\n",
    "3. [Defect Generation and Evaluation](../tutorial/3 Defect Generation and Evaluation.ipynb)\n",
    "\n",
    "\n",
    "Reference:\n",
    "\n",
    "- [atomman](../reference/atomman.ipynb)\n",
    "\n",
    "- [atomman.convert](../reference/atomman.convert.ipynb)\n",
    "\n",
    "- [atomman.defect](../reference/atomman.defect.ipynb)\n",
    "\n",
    "- [atomman.lammps](../reference/atomman.lammps.ipynb)\n",
    "\n",
    "- [atomman.tools](../reference/atomman.tools.ipynb)\n",
    "\n",
    "- [atomman.unitconvert](../reference/atomman.unitconvert.ipynb)"
   ]
  }
 ],
 "metadata": {
  "kernelspec": {
   "display_name": "Python 2",
   "language": "python",
   "name": "python2"
  },
  "language_info": {
   "codemirror_mode": {
    "name": "ipython",
    "version": 2
   },
   "file_extension": ".py",
   "mimetype": "text/x-python",
   "name": "python",
   "nbconvert_exporter": "python",
   "pygments_lexer": "ipython2",
   "version": "2.7.11"
  }
 },
 "nbformat": 4,
 "nbformat_minor": 0
}
