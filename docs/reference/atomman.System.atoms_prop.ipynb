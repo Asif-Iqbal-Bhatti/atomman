{
 "cells": [
  {
   "cell_type": "markdown",
   "metadata": {},
   "source": [
    "# atomman.System.atoms_prop(self, a_id=None, key=None, value=None, dtype=None, scale=False)\n",
    "\n",
    "- - -"
   ]
  },
  {
   "cell_type": "markdown",
   "metadata": {},
   "source": [
    "**Lucas M. Hale**, [lucas.hale@nist.gov](mailto:lucas.hale@nist.gov?Subject=ipr-demo), *Materials Science and Engineering Division, NIST*.\n",
    "\n",
    "**Chandler A. Becker**, [chandler.becker@nist.gov](mailto:chandler.becker@nist.gov?Subject=ipr-demo), *Materials Science and Engineering Division, NIST*.\n",
    "\n",
    "**Zachary T. Trautt**, [zachary.trautt@nist.gov](mailto:zachary.trautt@nist.gov?Subject=ipr-demo), *Materials Measurement Science Division, NIST*.\n",
    "\n",
    "Version: 2016-08-28\n",
    "\n",
    "[Disclaimers](http://www.nist.gov/public_affairs/disclaimer.cfm)\n",
    "\n",
    "- - -"
   ]
  },
  {
   "cell_type": "markdown",
   "metadata": {},
   "source": [
    "## Introduction\n",
    "\n",
    "The System.atoms_prop method allows for the per-atom values in [System.atoms](atomman.System.atoms.ipynb) to be set and retrieved with proper data type and shape control. This extends the [Atoms.prop](atomman.Atoms.prop.ipynb) method by allowing 3D vector values to be taken/returned in either absolute Cartesian coordinates or box relative coordinates.\n",
    "\n",
    "Keyword Arguments:\n",
    "\n",
    "- __a_id__ -- atom index.\n",
    "\n",
    "- __key__ -- atom property name.\n",
    "\n",
    "- __value__ -- value(s) to assign to properties associated with a_id and/or term.\n",
    "\n",
    "- __dtype__ -- data type to explicitly set or retrieve value as. \n",
    "\n",
    "- __scale__ -- Boolean flag that allows for the automatic conversion of 3D vector values to/from box relative coordinates. Default value is False.\n",
    "\n",
    "Note that with scale = False, calling System.atoms_prop is identical to calling System.atoms.prop. \n",
    "\n",
    "\n",
    "The underlying code can be found in [atomman/core/System.py](../../atomman/core/System.py)."
   ]
  },
  {
   "cell_type": "markdown",
   "metadata": {},
   "source": [
    "## Demonstration"
   ]
  },
  {
   "cell_type": "markdown",
   "metadata": {},
   "source": [
    "Library Imports"
   ]
  },
  {
   "cell_type": "code",
   "execution_count": 1,
   "metadata": {
    "collapsed": false
   },
   "outputs": [],
   "source": [
    "#External library imports\n",
    "import numpy as np\n",
    "\n",
    "#atomman imports\n",
    "import atomman as am"
   ]
  },
  {
   "cell_type": "markdown",
   "metadata": {},
   "source": [
    "Create a system for an fcc unit cell with a=3.2 and print the string representation"
   ]
  },
  {
   "cell_type": "code",
   "execution_count": 2,
   "metadata": {
    "collapsed": false
   },
   "outputs": [
    {
     "name": "stdout",
     "output_type": "stream",
     "text": [
      "avect =  [ 3.200,  0.000,  0.000]\n",
      "bvect =  [ 0.000,  3.200,  0.000]\n",
      "cvect =  [ 0.000,  0.000,  3.200]\n",
      "origin = [ 0.000,  0.000,  0.000]\n",
      "natoms = 4\n",
      "natypes = 1\n",
      "     id |   atype |  pos[0] |  pos[1] |  pos[2]\n",
      "      0 |       1 |   0.000 |   0.000 |   0.000\n",
      "      1 |       1 |   1.600 |   1.600 |   0.000\n",
      "      2 |       1 |   1.600 |   0.000 |   1.600\n",
      "      3 |       1 |   0.000 |   1.600 |   1.600\n"
     ]
    }
   ],
   "source": [
    "atoms = am.Atoms(natoms=4)\n",
    "atoms.prop(key='atype', value=1)\n",
    "atoms.prop(key='pos', value=np.array([[0.0, 0.0, 0.0],\n",
    "                                      [0.5, 0.5, 0.0],\n",
    "                                      [0.5, 0.0, 0.5],\n",
    "                                      [0.0, 0.5, 0.5]]))\n",
    "box = am.Box(a=3.2, b=3.2, c=3.2)\n",
    "\n",
    "system = am.System(atoms=atoms, box=box, scale=True)\n",
    "print system"
   ]
  },
  {
   "cell_type": "markdown",
   "metadata": {},
   "source": [
    "### No arguments\n",
    "\n",
    "Calling System.atoms_prop returns a list of the property names assigned to System.atoms. This is equivalent to calling System.atoms.prop."
   ]
  },
  {
   "cell_type": "code",
   "execution_count": 3,
   "metadata": {
    "collapsed": false
   },
   "outputs": [
    {
     "name": "stdout",
     "output_type": "stream",
     "text": [
      "['atype', 'pos']\n",
      "['atype', 'pos']\n"
     ]
    }
   ],
   "source": [
    "print system.atoms.prop()\n",
    "print system.atoms_prop()"
   ]
  },
  {
   "cell_type": "markdown",
   "metadata": {},
   "source": [
    "### Accessing values\n",
    "\n",
    "Calling System.atoms_prop without supplying a value will return the value corresponding to the a_id/key combination."
   ]
  },
  {
   "cell_type": "code",
   "execution_count": 4,
   "metadata": {
    "collapsed": false
   },
   "outputs": [
    {
     "name": "stdout",
     "output_type": "stream",
     "text": [
      "[[ 0.   0.   0. ]\n",
      " [ 1.6  1.6  0. ]\n",
      " [ 1.6  0.   1.6]\n",
      " [ 0.   1.6  1.6]]\n"
     ]
    }
   ],
   "source": [
    "print system.atoms_prop(key='pos')"
   ]
  },
  {
   "cell_type": "markdown",
   "metadata": {},
   "source": [
    "With scale = False, positions are retrieved in absolute Cartesian coordinates. This is equivalent to calling System.atoms.prop."
   ]
  },
  {
   "cell_type": "code",
   "execution_count": 5,
   "metadata": {
    "collapsed": false
   },
   "outputs": [
    {
     "name": "stdout",
     "output_type": "stream",
     "text": [
      "[[ 0.   0.   0. ]\n",
      " [ 1.6  1.6  0. ]\n",
      " [ 1.6  0.   1.6]\n",
      " [ 0.   1.6  1.6]]\n"
     ]
    }
   ],
   "source": [
    "print system.atoms.prop(key='pos')"
   ]
  },
  {
   "cell_type": "markdown",
   "metadata": {},
   "source": [
    "With scale = True, the positions will converted into box relative coordinates."
   ]
  },
  {
   "cell_type": "code",
   "execution_count": 6,
   "metadata": {
    "collapsed": false
   },
   "outputs": [
    {
     "name": "stdout",
     "output_type": "stream",
     "text": [
      "[[ 0.   0.   0. ]\n",
      " [ 0.5  0.5  0. ]\n",
      " [ 0.5  0.   0.5]\n",
      " [ 0.   0.5  0.5]]\n"
     ]
    }
   ],
   "source": [
    "print system.atoms_prop(key='pos', scale=True)"
   ]
  },
  {
   "cell_type": "markdown",
   "metadata": {},
   "source": [
    "### Setting values\n",
    "\n",
    "Values can be set to a per-atom property by supplying a value argument to the System.atoms_prop method.  Once again, with scale=False, calling system.atoms_prop is identical to calling system.atoms.prop"
   ]
  },
  {
   "cell_type": "code",
   "execution_count": 7,
   "metadata": {
    "collapsed": false
   },
   "outputs": [
    {
     "name": "stdout",
     "output_type": "stream",
     "text": [
      "[[ 0.11  0.12  0.13]\n",
      " [ 0.21  0.22  0.23]\n",
      " [ 0.31  0.32  0.33]\n",
      " [ 0.41  0.42  0.43]]\n"
     ]
    }
   ],
   "source": [
    "system.atoms.prop(key='new1', value = np.array([[.11, .12, .13], \n",
    "                                                [.21, .22, .23],\n",
    "                                                [.31, .32, .33], \n",
    "                                                [.41, .42, .43]]))\n",
    "print system.atoms.prop(key='new1')"
   ]
  },
  {
   "cell_type": "code",
   "execution_count": 8,
   "metadata": {
    "collapsed": false
   },
   "outputs": [
    {
     "name": "stdout",
     "output_type": "stream",
     "text": [
      "[[ 0.11  0.12  0.13]\n",
      " [ 0.21  0.22  0.23]\n",
      " [ 0.31  0.32  0.33]\n",
      " [ 0.41  0.42  0.43]]\n"
     ]
    }
   ],
   "source": [
    "system.atoms_prop(key='new2', value = np.array([[.11, .12, .13], \n",
    "                                                [.21, .22, .23],\n",
    "                                                [.31, .32, .33], \n",
    "                                                [.41, .42, .43]]))\n",
    "print system.atoms_prop(key='new2')"
   ]
  },
  {
   "cell_type": "markdown",
   "metadata": {},
   "source": [
    "But with scale = True, any 3D vector values supplied will be converted from box relative coordinates to absolute Cartesian coordinates."
   ]
  },
  {
   "cell_type": "code",
   "execution_count": 9,
   "metadata": {
    "collapsed": false
   },
   "outputs": [
    {
     "name": "stdout",
     "output_type": "stream",
     "text": [
      "[[ 0.352  0.384  0.416]\n",
      " [ 0.672  0.704  0.736]\n",
      " [ 0.992  1.024  1.056]\n",
      " [ 1.312  1.344  1.376]]\n"
     ]
    }
   ],
   "source": [
    "system.atoms_prop(key='new3', value = np.array([[.11, .12, .13], \n",
    "                                                [.21, .22, .23],\n",
    "                                                [.31, .32, .33], \n",
    "                                                [.41, .42, .43]]), scale=True)\n",
    "print system.atoms_prop(key='new3')"
   ]
  },
  {
   "cell_type": "markdown",
   "metadata": {},
   "source": [
    "Adding scale = True to the print statement above will perform the reverse conversion."
   ]
  },
  {
   "cell_type": "code",
   "execution_count": 10,
   "metadata": {
    "collapsed": false
   },
   "outputs": [
    {
     "name": "stdout",
     "output_type": "stream",
     "text": [
      "[[ 0.11  0.12  0.13]\n",
      " [ 0.21  0.22  0.23]\n",
      " [ 0.31  0.32  0.33]\n",
      " [ 0.41  0.42  0.43]]\n"
     ]
    }
   ],
   "source": [
    "print system.atoms_prop(key='new3', scale=True)"
   ]
  },
  {
   "cell_type": "markdown",
   "metadata": {
    "collapsed": true
   },
   "source": [
    "- - -\n",
    "__Docs Navigation:__\n",
    "\n",
    "Tutorial:\n",
    "\n",
    "1. [Basics](../tutorial/1 Basics.ipynb)\n",
    "\n",
    "2. [LAMMPS Functionality](../tutorial/2 LAMMPS Functionality.ipynb)\n",
    "\n",
    "3. [Defect Generation and Evaluation](../tutorial/3 Defect Generation and Evaluation.ipynb)\n",
    "\n",
    "\n",
    "Reference:\n",
    "\n",
    "- [atomman](../reference/atomman.ipynb)\n",
    "\n",
    "- [atomman.convert](../reference/atomman.convert.ipynb)\n",
    "\n",
    "- [atomman.defect](../reference/atomman.defect.ipynb)\n",
    "\n",
    "- [atomman.lammps](../reference/atomman.lammps.ipynb)\n",
    "\n",
    "- [atomman.tools](../reference/atomman.tools.ipynb)\n",
    "\n",
    "- [atomman.unitconvert](../reference/atomman.unitconvert.ipynb)"
   ]
  }
 ],
 "metadata": {
  "kernelspec": {
   "display_name": "Python 2",
   "language": "python",
   "name": "python2"
  },
  "language_info": {
   "codemirror_mode": {
    "name": "ipython",
    "version": 2
   },
   "file_extension": ".py",
   "mimetype": "text/x-python",
   "name": "python",
   "nbconvert_exporter": "python",
   "pygments_lexer": "ipython2",
   "version": "2.7.11"
  }
 },
 "nbformat": 4,
 "nbformat_minor": 0
}
