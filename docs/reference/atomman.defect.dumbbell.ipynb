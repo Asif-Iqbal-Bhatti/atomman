{
 "cells": [
  {
   "cell_type": "markdown",
   "metadata": {
    "deletable": true,
    "editable": true
   },
   "source": [
    "# atomman.defect.dumbbell(system, atype=None, pos=None, ptd_id=None, db_vect=None, scale=False, atol=None)\n",
    "- - -"
   ]
  },
  {
   "cell_type": "markdown",
   "metadata": {
    "deletable": true,
    "editable": true
   },
   "source": [
    "**Lucas M. Hale**, [lucas.hale@nist.gov](mailto:lucas.hale@nist.gov?Subject=ipr-demo), *Materials Science and Engineering Division, NIST*.\n",
    "\n",
    "**Chandler A. Becker**, [chandler.becker@nist.gov](mailto:chandler.becker@nist.gov?Subject=ipr-demo), *Office of Data and Informatics, NIST*.\n",
    "\n",
    "**Zachary T. Trautt**, [zachary.trautt@nist.gov](mailto:zachary.trautt@nist.gov?Subject=ipr-demo), *Materials Measurement Science Division, NIST*.\n",
    "\n",
    "Version: 2017-04-21\n",
    "\n",
    "[Disclaimers](http://www.nist.gov/public_affairs/disclaimer.cfm) \n",
    " \n",
    "- - -"
   ]
  },
  {
   "cell_type": "markdown",
   "metadata": {
    "deletable": true,
    "editable": true
   },
   "source": [
    "## Introduction\n",
    "\n",
    "The dumbbell function allows for the insertion of a dumbbell interstitital point defect into a System.\n",
    "\n",
    "Arguments:\n",
    "\n",
    "- __system__ -- the [atomman.System](atomman.System.ipynb) to add the defect to.\n",
    "    \n",
    "Keyword Arguments:\n",
    "\n",
    "- __atype__ -- atom type for defect atom.\n",
    "\n",
    "- __pos__ -- position for adding the defect atom.\n",
    "\n",
    "- __ptd_id__ -- atom id where defect is added.  Alternative to using pos.\n",
    "\n",
    "- __db_vect__ -- vector associated with the dumbbell interstitial.\n",
    "\n",
    "- __scale__ -- indicates if pos and db_vect are absolute (False) or box-relative (True). Default is False.\n",
    "\n",
    "- __atol__ -- absolute tolerance for position-based searching. Default is 1e-3 angstroms.\n",
    "\n",
    "Any atoms added/modified by this function will be moved to the highest atom index(es) to help find the defects.\n",
    "\n",
    "The returned System will be assigned an atoms property \"old_id\" if it doesn't exist which corresponds to the index values of all atoms from the base System supplied as an argument.  If \"old_id\" already exists, then the values of existing atoms will be unchanged. For the atom added, it will be assigned an \"old_id\" one greater than the largest atom index or the largest \"old_id\" value, whichever is larger. \n",
    "\n",
    "The underlying code can be found in [atomman/defect/point.py](../../atomman/defect/point.py)."
   ]
  },
  {
   "cell_type": "markdown",
   "metadata": {
    "deletable": true,
    "editable": true
   },
   "source": [
    "## Demonstration"
   ]
  },
  {
   "cell_type": "markdown",
   "metadata": {
    "deletable": true,
    "editable": true
   },
   "source": [
    "Library imports"
   ]
  },
  {
   "cell_type": "code",
   "execution_count": 1,
   "metadata": {
    "collapsed": true,
    "deletable": true,
    "editable": true
   },
   "outputs": [],
   "source": [
    "#Standard libraries\n",
    "from __future__ import print_function\n",
    "\n",
    "#http://www.numpy.org/\n",
    "import numpy as np\n",
    "\n",
    "#https://github.com/usnistgov/atomman \n",
    "import atomman as am"
   ]
  },
  {
   "cell_type": "markdown",
   "metadata": {
    "deletable": true,
    "editable": true
   },
   "source": [
    "Generate demonstration system with random atomic positions"
   ]
  },
  {
   "cell_type": "code",
   "execution_count": 2,
   "metadata": {
    "collapsed": false,
    "deletable": true,
    "editable": true
   },
   "outputs": [],
   "source": [
    "box = am.Box(a=10, b=10, c=10)\n",
    "atoms = am.Atoms(natoms=20, prop={'atype':1, 'pos':10*np.random.random((20,3))})\n",
    "\n",
    "system = am.System(atoms=atoms, box=box)"
   ]
  },
  {
   "cell_type": "markdown",
   "metadata": {
    "deletable": true,
    "editable": true
   },
   "source": [
    "Print all atom ids old_ids, atypes and positions"
   ]
  },
  {
   "cell_type": "code",
   "execution_count": 3,
   "metadata": {
    "collapsed": false,
    "deletable": true,
    "editable": true
   },
   "outputs": [
    {
     "name": "stdout",
     "output_type": "stream",
     "text": [
      "     id  old_id  atype                  position\n",
      "     0   None      1     [ 8.68569769  0.12265286  8.0692978 ]\n",
      "     1   None      1     [ 3.42528597  5.03979285  5.8564194 ]\n",
      "     2   None      1     [ 9.52653882  8.854905    6.84873894]\n",
      "     3   None      1     [ 8.37267224  0.49307444  2.17743295]\n",
      "     4   None      1     [ 1.27894084  0.77261809  2.54708733]\n",
      "     5   None      1     [ 3.52299122  8.90042231  9.31602558]\n",
      "     6   None      1     [ 1.21347789  8.96689131  4.304447  ]\n",
      "     7   None      1     [ 3.44871201  8.37792507  6.52747179]\n",
      "     8   None      1     [ 2.3368171  5.0921524  1.5048807]\n",
      "     9   None      1     [ 0.97642512  4.88921719  0.02221274]\n",
      "    10   None      1     [ 0.96376177  5.89497698  0.38849524]\n",
      "    11   None      1     [ 0.98323132  5.85411751  1.03620332]\n",
      "    12   None      1     [ 0.02253538  5.79606723  7.57568495]\n",
      "    13   None      1     [ 1.29557466  8.94522159  1.81064502]\n",
      "    14   None      1     [ 5.20264038  2.07620214  3.06839921]\n",
      "    15   None      1     [ 6.98355836  3.71939761  3.02447626]\n",
      "    16   None      1     [ 0.80298385  9.89500484  4.94137331]\n",
      "    17   None      1     [ 3.24530774  8.32313464  7.67740974]\n",
      "    18   None      1     [ 0.23429354  6.22521161  7.45426063]\n",
      "    19   None      1     [ 5.95154503  2.63995984  7.37437606]\n"
     ]
    }
   ],
   "source": [
    "print('     id  old_id  atype                  position')\n",
    "for i in xrange(system.natoms):\n",
    "    print('%6s %6s %6s     %s' %(i, system.atoms_prop(a_id=i, key='old_id'), \n",
    "                                    system.atoms_prop(a_id=i, key='atype'), \n",
    "                                str(system.atoms_prop(a_id=i, key='pos'))))"
   ]
  },
  {
   "cell_type": "markdown",
   "metadata": {
    "deletable": true,
    "editable": true
   },
   "source": [
    "Add a dumbbell using ptd_id"
   ]
  },
  {
   "cell_type": "code",
   "execution_count": 4,
   "metadata": {
    "collapsed": true,
    "deletable": true,
    "editable": true
   },
   "outputs": [],
   "source": [
    "db_vect = np.array([0.0, 0.0, 0.111111111])\n",
    "system_db = am.defect.dumbbell(system, atype=2, ptd_id=7, db_vect=db_vect)"
   ]
  },
  {
   "cell_type": "markdown",
   "metadata": {
    "deletable": true,
    "editable": true
   },
   "source": [
    "Print all atom ids old_ids, atypes and positions. Note that the modified atom and added atom are moved to the highest indexes"
   ]
  },
  {
   "cell_type": "code",
   "execution_count": 5,
   "metadata": {
    "collapsed": false,
    "deletable": true,
    "editable": true
   },
   "outputs": [
    {
     "name": "stdout",
     "output_type": "stream",
     "text": [
      "     id  old_id  atype                  position\n",
      "     0      0      1     [ 8.68569769  0.12265286  8.0692978 ]\n",
      "     1      1      1     [ 3.42528597  5.03979285  5.8564194 ]\n",
      "     2      2      1     [ 9.52653882  8.854905    6.84873894]\n",
      "     3      3      1     [ 8.37267224  0.49307444  2.17743295]\n",
      "     4      4      1     [ 1.27894084  0.77261809  2.54708733]\n",
      "     5      5      1     [ 3.52299122  8.90042231  9.31602558]\n",
      "     6      6      1     [ 1.21347789  8.96689131  4.304447  ]\n",
      "     7      8      1     [ 2.3368171  5.0921524  1.5048807]\n",
      "     8      9      1     [ 0.97642512  4.88921719  0.02221274]\n",
      "     9     10      1     [ 0.96376177  5.89497698  0.38849524]\n",
      "    10     11      1     [ 0.98323132  5.85411751  1.03620332]\n",
      "    11     12      1     [ 0.02253538  5.79606723  7.57568495]\n",
      "    12     13      1     [ 1.29557466  8.94522159  1.81064502]\n",
      "    13     14      1     [ 5.20264038  2.07620214  3.06839921]\n",
      "    14     15      1     [ 6.98355836  3.71939761  3.02447626]\n",
      "    15     16      1     [ 0.80298385  9.89500484  4.94137331]\n",
      "    16     17      1     [ 3.24530774  8.32313464  7.67740974]\n",
      "    17     18      1     [ 0.23429354  6.22521161  7.45426063]\n",
      "    18     19      1     [ 5.95154503  2.63995984  7.37437606]\n",
      "    19      7      1     [ 3.44871201  8.37792507  6.41636067]\n",
      "    20     20      2     [ 3.44871201  8.37792507  6.6385829 ]\n"
     ]
    }
   ],
   "source": [
    "print('     id  old_id  atype                  position')\n",
    "for i in xrange(system_db.natoms):\n",
    "    print('%6s %6s %6s     %s' %(i, system_db.atoms_prop(a_id=i, key='old_id'), \n",
    "                                    system_db.atoms_prop(a_id=i, key='atype'), \n",
    "                                str(system_db.atoms_prop(a_id=i, key='pos'))))"
   ]
  },
  {
   "cell_type": "markdown",
   "metadata": {
    "deletable": true,
    "editable": true
   },
   "source": [
    "Dumbbell atoms separated by 2\\*db_vect"
   ]
  },
  {
   "cell_type": "code",
   "execution_count": 6,
   "metadata": {
    "collapsed": false,
    "deletable": true,
    "editable": true
   },
   "outputs": [
    {
     "name": "stdout",
     "output_type": "stream",
     "text": [
      "[ 0.          0.          0.22222222]\n"
     ]
    }
   ],
   "source": [
    "print(system_db.atoms_prop(a_id=20, key='pos') - system_db.atoms_prop(a_id=19, key='pos'))"
   ]
  },
  {
   "cell_type": "markdown",
   "metadata": {
    "deletable": true,
    "editable": true
   },
   "source": [
    "Making both dumbbell atoms the same type is simply a matter of calling both substitutional and dumbbell on the same atom."
   ]
  },
  {
   "cell_type": "code",
   "execution_count": 7,
   "metadata": {
    "collapsed": true,
    "deletable": true,
    "editable": true
   },
   "outputs": [],
   "source": [
    "defect_pos = system.atoms_prop(a_id=2, key='pos')\n",
    "system_db = am.defect.substitutional(system, atype=2, pos=defect_pos)\n",
    "system_db = am.defect.dumbbell(system_db, atype=2, pos=defect_pos, db_vect=np.array([0.0, -0.11111111111, 0.111111111]))"
   ]
  },
  {
   "cell_type": "markdown",
   "metadata": {
    "deletable": true,
    "editable": true
   },
   "source": [
    "Print all atom ids old_ids, atypes and positions."
   ]
  },
  {
   "cell_type": "code",
   "execution_count": 8,
   "metadata": {
    "collapsed": false,
    "deletable": true,
    "editable": true
   },
   "outputs": [
    {
     "name": "stdout",
     "output_type": "stream",
     "text": [
      "     id  old_id  atype                  position\n",
      "     0      0      1     [ 8.68569769  0.12265286  8.0692978 ]\n",
      "     1      1      1     [ 3.42528597  5.03979285  5.8564194 ]\n",
      "     2      3      1     [ 8.37267224  0.49307444  2.17743295]\n",
      "     3      4      1     [ 1.27894084  0.77261809  2.54708733]\n",
      "     4      5      1     [ 3.52299122  8.90042231  9.31602558]\n",
      "     5      6      1     [ 1.21347789  8.96689131  4.304447  ]\n",
      "     6      7      1     [ 3.44871201  8.37792507  6.52747179]\n",
      "     7      8      1     [ 2.3368171  5.0921524  1.5048807]\n",
      "     8      9      1     [ 0.97642512  4.88921719  0.02221274]\n",
      "     9     10      1     [ 0.96376177  5.89497698  0.38849524]\n",
      "    10     11      1     [ 0.98323132  5.85411751  1.03620332]\n",
      "    11     12      1     [ 0.02253538  5.79606723  7.57568495]\n",
      "    12     13      1     [ 1.29557466  8.94522159  1.81064502]\n",
      "    13     14      1     [ 5.20264038  2.07620214  3.06839921]\n",
      "    14     15      1     [ 6.98355836  3.71939761  3.02447626]\n",
      "    15     16      1     [ 0.80298385  9.89500484  4.94137331]\n",
      "    16     17      1     [ 3.24530774  8.32313464  7.67740974]\n",
      "    17     18      1     [ 0.23429354  6.22521161  7.45426063]\n",
      "    18     19      1     [ 5.95154503  2.63995984  7.37437606]\n",
      "    19      2      2     [ 9.52653882  8.96601611  6.73762783]\n",
      "    20     20      2     [ 9.52653882  8.74379389  6.95985006]\n"
     ]
    }
   ],
   "source": [
    "print('     id  old_id  atype                  position')\n",
    "for i in xrange(system_db.natoms):\n",
    "    print('%6s %6s %6s     %s' %(i, system_db.atoms_prop(a_id=i, key='old_id'), \n",
    "                                    system_db.atoms_prop(a_id=i, key='atype'), \n",
    "                                str(system_db.atoms_prop(a_id=i, key='pos'))))"
   ]
  },
  {
   "cell_type": "markdown",
   "metadata": {
    "deletable": true,
    "editable": true
   },
   "source": [
    "- - -\n",
    "__Docs Navigation:__\n",
    "\n",
    "Tutorial:\n",
    "\n",
    "1. [Basics](../tutorial/1 Basics.ipynb)\n",
    "\n",
    "2. [LAMMPS Functionality](../tutorial/2 LAMMPS Functionality.ipynb)\n",
    "\n",
    "3. [Defect Generation and Evaluation](../tutorial/3 Defect Generation and Evaluation.ipynb)\n",
    "\n",
    "\n",
    "Reference:\n",
    "\n",
    "- [atomman](../reference/atomman.ipynb)\n",
    "\n",
    "- [atomman.convert](../reference/atomman.convert.ipynb)\n",
    "\n",
    "- [atomman.defect](../reference/atomman.defect.ipynb)\n",
    "\n",
    "- [atomman.lammps](../reference/atomman.lammps.ipynb)\n",
    "\n",
    "- [atomman.tools](../reference/atomman.tools.ipynb)\n",
    "\n",
    "- [atomman.unitconvert](../reference/atomman.unitconvert.ipynb)"
   ]
  }
 ],
 "metadata": {
  "kernelspec": {
   "display_name": "Python 2",
   "language": "python",
   "name": "python2"
  },
  "language_info": {
   "codemirror_mode": {
    "name": "ipython",
    "version": 2
   },
   "file_extension": ".py",
   "mimetype": "text/x-python",
   "name": "python",
   "nbconvert_exporter": "python",
   "pygments_lexer": "ipython2",
   "version": "2.7.13"
  }
 },
 "nbformat": 4,
 "nbformat_minor": 0
}
