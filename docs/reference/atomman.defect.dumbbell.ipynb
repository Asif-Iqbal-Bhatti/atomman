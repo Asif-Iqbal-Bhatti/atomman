{
 "cells": [
  {
   "cell_type": "markdown",
   "metadata": {},
   "source": [
    "# atomman.defect.dumbbell(system, atype=None, pos=None, ptd_id=None, db_vect=None, scale=False, atol=None)\n",
    "- - -"
   ]
  },
  {
   "cell_type": "markdown",
   "metadata": {},
   "source": [
    "**Lucas M. Hale**, [lucas.hale@nist.gov](mailto:lucas.hale@nist.gov?Subject=ipr-demo), *Materials Science and Engineering Division, NIST*.\n",
    "\n",
    "**Chandler A. Becker**, [chandler.becker@nist.gov](mailto:chandler.becker@nist.gov?Subject=ipr-demo), *Office of Data and Informatics, NIST*.\n",
    "\n",
    "**Zachary T. Trautt**, [zachary.trautt@nist.gov](mailto:zachary.trautt@nist.gov?Subject=ipr-demo), *Materials Measurement Science Division, NIST*.\n",
    "\n",
    "Version: 2016-09-02\n",
    "\n",
    "[Disclaimers](http://www.nist.gov/public_affairs/disclaimer.cfm) \n",
    " \n",
    "- - -"
   ]
  },
  {
   "cell_type": "markdown",
   "metadata": {},
   "source": [
    "## Introduction\n",
    "\n",
    "The dumbbell function allows for the insertion of a dumbbell interstitital point defect into a System.\n",
    "\n",
    "Arguments:\n",
    "\n",
    "- __system__ -- the [atomman.System](atomman.System.ipynb) to add the defect to.\n",
    "    \n",
    "Keyword Arguments:\n",
    "\n",
    "- __atype__ -- atom type for defect atom.\n",
    "\n",
    "- __pos__ -- position for adding the defect atom.\n",
    "\n",
    "- __ptd_id__ -- atom id where defect is added.  Alternative to using pos.\n",
    "\n",
    "- __db_vect__ -- vector associated with the dumbbell interstitial.\n",
    "\n",
    "- __scale__ -- indicates if pos and db_vect are absolute (False) or box-relative (True). Default is False.\n",
    "\n",
    "- __atol__ -- absolute tolerance for position-based searching. Default is 1e-3 angstroms.\n",
    "\n",
    "Any atoms added/modified by this function will be moved to the highest atom index(es) to help find the defects.\n",
    "\n",
    "The returned System will be assigned an atoms property \"old_id\" if it doesn't exist which corresponds to the index values of all atoms from the base System supplied as an argument.  If \"old_id\" already exists, then the values of existing atoms will be unchanged. For the atom added, it will be assigned an \"old_id\" one greater than the largest atom index or the largest \"old_id\" value, whichever is larger. \n",
    "\n",
    "The underlying code can be found in [atomman/defect/point.py](../../atomman/defect/point.py)."
   ]
  },
  {
   "cell_type": "markdown",
   "metadata": {},
   "source": [
    "## Demonstration"
   ]
  },
  {
   "cell_type": "markdown",
   "metadata": {},
   "source": [
    "Library imports"
   ]
  },
  {
   "cell_type": "code",
   "execution_count": 1,
   "metadata": {
    "collapsed": true
   },
   "outputs": [],
   "source": [
    "import atomman as am\n",
    "import numpy as np"
   ]
  },
  {
   "cell_type": "markdown",
   "metadata": {},
   "source": [
    "Generate demonstration system with random atomic positions"
   ]
  },
  {
   "cell_type": "code",
   "execution_count": 2,
   "metadata": {
    "collapsed": false
   },
   "outputs": [],
   "source": [
    "box = am.Box(a=10, b=10, c=10)\n",
    "atoms = am.Atoms(natoms=20, prop={'atype':1, 'pos':10*np.random.random((20,3))})\n",
    "\n",
    "system = am.System(atoms=atoms, box=box)"
   ]
  },
  {
   "cell_type": "markdown",
   "metadata": {},
   "source": [
    "Print all atom ids old_ids, atypes and positions"
   ]
  },
  {
   "cell_type": "code",
   "execution_count": 3,
   "metadata": {
    "collapsed": false
   },
   "outputs": [
    {
     "name": "stdout",
     "output_type": "stream",
     "text": [
      "     id  old_id  atype                  position\n",
      "     0   None      1     [ 6.32421374  9.25016648  9.38379656]\n",
      "     1   None      1     [ 0.75862578  4.24619318  6.40029357]\n",
      "     2   None      1     [ 2.5157709   5.61232813  3.15331933]\n",
      "     3   None      1     [ 1.00226307  2.04272738  2.83076826]\n",
      "     4   None      1     [ 6.6320388   2.86085801  1.80270651]\n",
      "     5   None      1     [ 4.78607705  9.42982999  1.38281339]\n",
      "     6   None      1     [ 3.40614452  2.95891784  8.22413949]\n",
      "     7   None      1     [ 6.4103971   6.19571702  4.47599171]\n",
      "     8   None      1     [ 9.56302428  4.64372455  6.66762394]\n",
      "     9   None      1     [ 2.24826779  2.27154081  7.68593716]\n",
      "    10   None      1     [ 7.71295373  4.81151215  8.20098112]\n",
      "    11   None      1     [ 5.73738338  3.31353476  3.49587968]\n",
      "    12   None      1     [ 4.24557718  9.59229451  3.95366165]\n",
      "    13   None      1     [ 5.3546246   4.09770634  8.71148286]\n",
      "    14   None      1     [ 4.00956226  5.27186279  9.02554657]\n",
      "    15   None      1     [ 8.05219274  5.92078345  4.47121093]\n",
      "    16   None      1     [ 8.98612287  0.38590699  5.9759938 ]\n",
      "    17   None      1     [ 1.48787123  6.42302457  6.83664888]\n",
      "    18   None      1     [ 1.31988454  9.46489965  5.45646797]\n",
      "    19   None      1     [ 6.30555201  6.76430161  6.62834611]\n"
     ]
    }
   ],
   "source": [
    "print '     id  old_id  atype                  position'\n",
    "for i in xrange(system.natoms):\n",
    "    print '%6s %6s %6s     %s' %(i, system.atoms_prop(a_id=i, key='old_id'), \n",
    "                                    system.atoms_prop(a_id=i, key='atype'), \n",
    "                                str(system.atoms_prop(a_id=i, key='pos')))"
   ]
  },
  {
   "cell_type": "markdown",
   "metadata": {},
   "source": [
    "Add a dumbbell using ptd_id"
   ]
  },
  {
   "cell_type": "code",
   "execution_count": 4,
   "metadata": {
    "collapsed": true
   },
   "outputs": [],
   "source": [
    "db_vect = np.array([0.0, 0.0, 0.111111111])\n",
    "system_db = am.defect.dumbbell(system, atype=2, ptd_id=7, db_vect=db_vect)"
   ]
  },
  {
   "cell_type": "markdown",
   "metadata": {},
   "source": [
    "Print all atom ids old_ids, atypes and positions. Note that the modified atom and added atom are moved to the highest indexes"
   ]
  },
  {
   "cell_type": "code",
   "execution_count": 5,
   "metadata": {
    "collapsed": false
   },
   "outputs": [
    {
     "name": "stdout",
     "output_type": "stream",
     "text": [
      "     id  old_id  atype                  position\n",
      "     0      0      1     [ 6.32421374  9.25016648  9.38379656]\n",
      "     1      1      1     [ 0.75862578  4.24619318  6.40029357]\n",
      "     2      2      1     [ 2.5157709   5.61232813  3.15331933]\n",
      "     3      3      1     [ 1.00226307  2.04272738  2.83076826]\n",
      "     4      4      1     [ 6.6320388   2.86085801  1.80270651]\n",
      "     5      5      1     [ 4.78607705  9.42982999  1.38281339]\n",
      "     6      6      1     [ 3.40614452  2.95891784  8.22413949]\n",
      "     7      8      1     [ 9.56302428  4.64372455  6.66762394]\n",
      "     8      9      1     [ 2.24826779  2.27154081  7.68593716]\n",
      "     9     10      1     [ 7.71295373  4.81151215  8.20098112]\n",
      "    10     11      1     [ 5.73738338  3.31353476  3.49587968]\n",
      "    11     12      1     [ 4.24557718  9.59229451  3.95366165]\n",
      "    12     13      1     [ 5.3546246   4.09770634  8.71148286]\n",
      "    13     14      1     [ 4.00956226  5.27186279  9.02554657]\n",
      "    14     15      1     [ 8.05219274  5.92078345  4.47121093]\n",
      "    15     16      1     [ 8.98612287  0.38590699  5.9759938 ]\n",
      "    16     17      1     [ 1.48787123  6.42302457  6.83664888]\n",
      "    17     18      1     [ 1.31988454  9.46489965  5.45646797]\n",
      "    18     19      1     [ 6.30555201  6.76430161  6.62834611]\n",
      "    19      7      1     [ 6.4103971   6.19571702  4.3648806 ]\n",
      "    20     20      2     [ 6.4103971   6.19571702  4.58710282]\n"
     ]
    }
   ],
   "source": [
    "print '     id  old_id  atype                  position'\n",
    "for i in xrange(system_db.natoms):\n",
    "    print '%6s %6s %6s     %s' %(i, system_db.atoms_prop(a_id=i, key='old_id'), \n",
    "                                    system_db.atoms_prop(a_id=i, key='atype'), \n",
    "                                str(system_db.atoms_prop(a_id=i, key='pos')))"
   ]
  },
  {
   "cell_type": "markdown",
   "metadata": {},
   "source": [
    "Dumbbell atoms separated by 2\\*db_vect"
   ]
  },
  {
   "cell_type": "code",
   "execution_count": 6,
   "metadata": {
    "collapsed": false
   },
   "outputs": [
    {
     "name": "stdout",
     "output_type": "stream",
     "text": [
      "[ 0.          0.          0.22222222]\n"
     ]
    }
   ],
   "source": [
    "print system_db.atoms_prop(a_id=20, key='pos') - system_db.atoms_prop(a_id=19, key='pos')"
   ]
  },
  {
   "cell_type": "markdown",
   "metadata": {},
   "source": [
    "Making both dumbbell atoms the same type is simply a matter of calling both substitutional and dumbbell on the same atom."
   ]
  },
  {
   "cell_type": "code",
   "execution_count": 7,
   "metadata": {
    "collapsed": true
   },
   "outputs": [],
   "source": [
    "defect_pos = system.atoms_prop(a_id=2, key='pos')\n",
    "system_db = am.defect.substitutional(system, atype=2, pos=defect_pos)\n",
    "system_db = am.defect.dumbbell(system_db, atype=2, pos=defect_pos, db_vect=np.array([0.0, -0.11111111111, 0.111111111]))"
   ]
  },
  {
   "cell_type": "markdown",
   "metadata": {},
   "source": [
    "Print all atom ids old_ids, atypes and positions."
   ]
  },
  {
   "cell_type": "code",
   "execution_count": 8,
   "metadata": {
    "collapsed": false
   },
   "outputs": [
    {
     "name": "stdout",
     "output_type": "stream",
     "text": [
      "     id  old_id  atype                  position\n",
      "     0      0      1     [ 6.32421374  9.25016648  9.38379656]\n",
      "     1      1      1     [ 0.75862578  4.24619318  6.40029357]\n",
      "     2      3      1     [ 1.00226307  2.04272738  2.83076826]\n",
      "     3      4      1     [ 6.6320388   2.86085801  1.80270651]\n",
      "     4      5      1     [ 4.78607705  9.42982999  1.38281339]\n",
      "     5      6      1     [ 3.40614452  2.95891784  8.22413949]\n",
      "     6      7      1     [ 6.4103971   6.19571702  4.47599171]\n",
      "     7      8      1     [ 9.56302428  4.64372455  6.66762394]\n",
      "     8      9      1     [ 2.24826779  2.27154081  7.68593716]\n",
      "     9     10      1     [ 7.71295373  4.81151215  8.20098112]\n",
      "    10     11      1     [ 5.73738338  3.31353476  3.49587968]\n",
      "    11     12      1     [ 4.24557718  9.59229451  3.95366165]\n",
      "    12     13      1     [ 5.3546246   4.09770634  8.71148286]\n",
      "    13     14      1     [ 4.00956226  5.27186279  9.02554657]\n",
      "    14     15      1     [ 8.05219274  5.92078345  4.47121093]\n",
      "    15     16      1     [ 8.98612287  0.38590699  5.9759938 ]\n",
      "    16     17      1     [ 1.48787123  6.42302457  6.83664888]\n",
      "    17     18      1     [ 1.31988454  9.46489965  5.45646797]\n",
      "    18     19      1     [ 6.30555201  6.76430161  6.62834611]\n",
      "    19      2      2     [ 2.5157709   5.72343924  3.04220822]\n",
      "    20     20      2     [ 2.5157709   5.50121702  3.26443044]\n"
     ]
    }
   ],
   "source": [
    "print '     id  old_id  atype                  position'\n",
    "for i in xrange(system_db.natoms):\n",
    "    print '%6s %6s %6s     %s' %(i, system_db.atoms_prop(a_id=i, key='old_id'), \n",
    "                                    system_db.atoms_prop(a_id=i, key='atype'), \n",
    "                                str(system_db.atoms_prop(a_id=i, key='pos')))"
   ]
  },
  {
   "cell_type": "markdown",
   "metadata": {},
   "source": [
    "- - -\n",
    "__Docs Navigation:__\n",
    "\n",
    "Tutorial:\n",
    "\n",
    "1. [Basics](../tutorial/1 Basics.ipynb)\n",
    "\n",
    "2. [LAMMPS Functionality](../tutorial/2 LAMMPS Functionality.ipynb)\n",
    "\n",
    "3. [Defect Generation and Evaluation](../tutorial/3 Defect Generation and Evaluation.ipynb)\n",
    "\n",
    "\n",
    "Reference:\n",
    "\n",
    "- [atomman](../reference/atomman.ipynb)\n",
    "\n",
    "- [atomman.convert](../reference/atomman.convert.ipynb)\n",
    "\n",
    "- [atomman.defect](../reference/atomman.defect.ipynb)\n",
    "\n",
    "- [atomman.lammps](../reference/atomman.lammps.ipynb)\n",
    "\n",
    "- [atomman.tools](../reference/atomman.tools.ipynb)\n",
    "\n",
    "- [atomman.unitconvert](../reference/atomman.unitconvert.ipynb)"
   ]
  }
 ],
 "metadata": {
  "kernelspec": {
   "display_name": "Python 2",
   "language": "python",
   "name": "python2"
  },
  "language_info": {
   "codemirror_mode": {
    "name": "ipython",
    "version": 2
   },
   "file_extension": ".py",
   "mimetype": "text/x-python",
   "name": "python",
   "nbconvert_exporter": "python",
   "pygments_lexer": "ipython2",
   "version": "2.7.11"
  }
 },
 "nbformat": 4,
 "nbformat_minor": 0
}
