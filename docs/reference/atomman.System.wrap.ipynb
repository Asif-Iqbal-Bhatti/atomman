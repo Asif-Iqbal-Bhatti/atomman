{
 "cells": [
  {
   "cell_type": "markdown",
   "metadata": {},
   "source": [
    "# atomman.System.wrap(self)\n",
    "\n",
    "- - -"
   ]
  },
  {
   "cell_type": "markdown",
   "metadata": {},
   "source": [
    "**Lucas M. Hale**, [lucas.hale@nist.gov](mailto:lucas.hale@nist.gov?Subject=ipr-demo), *Materials Science and Engineering Division, NIST*.\n",
    "\n",
    "**Chandler A. Becker**, [chandler.becker@nist.gov](mailto:chandler.becker@nist.gov?Subject=ipr-demo), *Office of Data and Informatics, NIST*.\n",
    "\n",
    "**Zachary T. Trautt**, [zachary.trautt@nist.gov](mailto:zachary.trautt@nist.gov?Subject=ipr-demo), *Materials Measurement Science Division, NIST*.\n",
    "\n",
    "Version: 2016-09-02\n",
    "\n",
    "[Disclaimers](http://www.nist.gov/public_affairs/disclaimer.cfm) \n",
    " \n",
    "- - -"
   ]
  },
  {
   "cell_type": "markdown",
   "metadata": {},
   "source": [
    "## Introduction\n",
    "\n",
    "The System.wrap method ensures that all atomic positions are geometrically contained within System.box by \n",
    "\n",
    "1. wrapping atoms around periodic boundaries \n",
    "\n",
    "2. extending non-periodic boundaries\n",
    "\n",
    "The underlying code can be found in [atomman/core/System.py](../../atomman/core/System.py)."
   ]
  },
  {
   "cell_type": "markdown",
   "metadata": {},
   "source": [
    "## Demonstration"
   ]
  },
  {
   "cell_type": "markdown",
   "metadata": {},
   "source": [
    "Library Imports"
   ]
  },
  {
   "cell_type": "code",
   "execution_count": 1,
   "metadata": {
    "collapsed": false
   },
   "outputs": [],
   "source": [
    "#External library imports\n",
    "import numpy as np\n",
    "\n",
    "#atomman imports\n",
    "import atomman as am"
   ]
  },
  {
   "cell_type": "markdown",
   "metadata": {},
   "source": [
    "Create a messy test system with atoms outside bounds, with periodic bounds in the a and c box directions."
   ]
  },
  {
   "cell_type": "code",
   "execution_count": 3,
   "metadata": {
    "collapsed": false
   },
   "outputs": [],
   "source": [
    "atoms = am.Atoms(natoms=100, prop={'atype':1, 'pos':10*np.random.random((100,3))})\n",
    "box = am.Box(a=4, b=4, c=4, origin=(5, 5, 5))\n",
    "\n",
    "system = am.System(atoms=atoms, box=box, pbc=(True, False, True))"
   ]
  },
  {
   "cell_type": "markdown",
   "metadata": {},
   "source": [
    "Check System.box and minimum/maximum box relative positions of all atoms"
   ]
  },
  {
   "cell_type": "code",
   "execution_count": 4,
   "metadata": {
    "collapsed": false
   },
   "outputs": [
    {
     "name": "stdout",
     "output_type": "stream",
     "text": [
      "avect =  [ 4.000,  0.000,  0.000]\n",
      "bvect =  [ 0.000,  4.000,  0.000]\n",
      "cvect =  [ 0.000,  0.000,  4.000]\n",
      "origin = [ 5.000,  5.000,  5.000]\n",
      "-1.24289915437 1.24888736873\n",
      "-1.23157357022 1.20879128976\n",
      "-1.21033467615 1.23208975676\n"
     ]
    }
   ],
   "source": [
    "print system.box\n",
    "relative_pos = system.atoms_prop(key='pos', scale=True)\n",
    "print np.amin(relative_pos[:,0]), np.amax(relative_pos[:,0])\n",
    "print np.amin(relative_pos[:,1]), np.amax(relative_pos[:,1])\n",
    "print np.amin(relative_pos[:,2]), np.amax(relative_pos[:,2])"
   ]
  },
  {
   "cell_type": "markdown",
   "metadata": {},
   "source": [
    "Wrap the System"
   ]
  },
  {
   "cell_type": "code",
   "execution_count": 5,
   "metadata": {
    "collapsed": true
   },
   "outputs": [],
   "source": [
    "system.wrap()"
   ]
  },
  {
   "cell_type": "markdown",
   "metadata": {},
   "source": [
    "bvect and origin have changed to encompass all atoms across the non-periodic boundary, and all relative positions are now between 0 and 1"
   ]
  },
  {
   "cell_type": "code",
   "execution_count": 6,
   "metadata": {
    "collapsed": false
   },
   "outputs": [
    {
     "name": "stdout",
     "output_type": "stream",
     "text": [
      "avect =  [ 4.000,  0.000,  0.000]\n",
      "bvect =  [ 0.000,  9.769,  0.000]\n",
      "cvect =  [ 0.000,  0.000,  4.000]\n",
      "origin = [ 5.000,  0.070,  5.000]\n",
      "0.00385774737277 0.990777366887\n",
      "0.000409439235057 0.999590560765\n",
      "0.0297836452583 0.996911088227\n"
     ]
    }
   ],
   "source": [
    "print system.box\n",
    "relative_pos = system.atoms_prop(key='pos', scale=True)\n",
    "print np.amin(relative_pos[:,0]), np.amax(relative_pos[:,0])\n",
    "print np.amin(relative_pos[:,1]), np.amax(relative_pos[:,1])\n",
    "print np.amin(relative_pos[:,2]), np.amax(relative_pos[:,2])"
   ]
  },
  {
   "cell_type": "markdown",
   "metadata": {
    "collapsed": true
   },
   "source": [
    "- - -\n",
    "__Docs Navigation:__\n",
    "\n",
    "Tutorial:\n",
    "\n",
    "1. [Basics](../tutorial/1 Basics.ipynb)\n",
    "\n",
    "2. [LAMMPS Functionality](../tutorial/2 LAMMPS Functionality.ipynb)\n",
    "\n",
    "3. [Defect Generation and Evaluation](../tutorial/3 Defect Generation and Evaluation.ipynb)\n",
    "\n",
    "\n",
    "Reference:\n",
    "\n",
    "- [atomman](../reference/atomman.ipynb)\n",
    "\n",
    "- [atomman.convert](../reference/atomman.convert.ipynb)\n",
    "\n",
    "- [atomman.defect](../reference/atomman.defect.ipynb)\n",
    "\n",
    "- [atomman.lammps](../reference/atomman.lammps.ipynb)\n",
    "\n",
    "- [atomman.tools](../reference/atomman.tools.ipynb)\n",
    "\n",
    "- [atomman.unitconvert](../reference/atomman.unitconvert.ipynb)"
   ]
  }
 ],
 "metadata": {
  "kernelspec": {
   "display_name": "Python 2",
   "language": "python",
   "name": "python2"
  },
  "language_info": {
   "codemirror_mode": {
    "name": "ipython",
    "version": 2
   },
   "file_extension": ".py",
   "mimetype": "text/x-python",
   "name": "python",
   "nbconvert_exporter": "python",
   "pygments_lexer": "ipython2",
   "version": "2.7.11"
  }
 },
 "nbformat": 4,
 "nbformat_minor": 0
}
