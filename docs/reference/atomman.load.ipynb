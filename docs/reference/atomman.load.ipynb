{
 "cells": [
  {
   "cell_type": "markdown",
   "metadata": {},
   "source": [
    "# atomman.load(style, input, \\**kwargs)\n",
    "\n",
    "- - -"
   ]
  },
  {
   "cell_type": "markdown",
   "metadata": {},
   "source": [
    "**Lucas M. Hale**, [lucas.hale@nist.gov](mailto:lucas.hale@nist.gov?Subject=ipr-demo), *Materials Science and Engineering Division, NIST*.\n",
    "\n",
    "**Chandler A. Becker**, [chandler.becker@nist.gov](mailto:chandler.becker@nist.gov?Subject=ipr-demo), *Office of Data and Informatics, NIST*.\n",
    "\n",
    "**Zachary T. Trautt**, [zachary.trautt@nist.gov](mailto:zachary.trautt@nist.gov?Subject=ipr-demo), *Materials Measurement Science Division, NIST*.\n",
    "\n",
    "Version: 2016-08-26\n",
    "\n",
    "[Disclaimers](http://www.nist.gov/public_affairs/disclaimer.cfm) \n",
    " \n",
    "- - -"
   ]
  },
  {
   "cell_type": "markdown",
   "metadata": {},
   "source": [
    "## Introduction\n",
    "\n",
    "The load function provides a common method for loading in atomic configuration information from various external formats. The load function calls the relevant conversion function based on the style information given to it. A [System](atomman.System.ipynb) and a list of elements/symbols is always returned of length System.natypes. If the input data doesn't have elemental information, the list will be filled with None values.\n",
    "\n",
    "Arguments:\n",
    "\n",
    "- __style__ -- indicates the format of the data to convert into a [System](atomman.System.ipynb).\n",
    "\n",
    "- __input__ -- the data to convert.\n",
    "\n",
    "Keyword Arguments:\n",
    "\n",
    "- The allowable keyword arguments are style-dependent and match the keywords of the underlying conversion functions.\n",
    "\n",
    "The underlying code can be found in [atomman/core/displacement.py](../../atomman/core/displacement.py)."
   ]
  },
  {
   "cell_type": "markdown",
   "metadata": {},
   "source": [
    "## Demonstration"
   ]
  },
  {
   "cell_type": "code",
   "execution_count": 1,
   "metadata": {
    "collapsed": false
   },
   "outputs": [],
   "source": [
    "import atomman as am"
   ]
  },
  {
   "cell_type": "markdown",
   "metadata": {},
   "source": [
    "### style = 'system_model'\n",
    "\n",
    "The 'system_model' style corresponds to a JSON/XML atomic-system data model as used by atomman and [iprPy](https://github.com/usnistgov/iprPy) for representing simple systems.\n",
    "\n",
    "This style accesses the [atomman.convert.system_model.load](atomman.convert.system_model.load.ipynb) function. More information on this style and the allowable arguments can be found on that function's docs Notebook."
   ]
  },
  {
   "cell_type": "markdown",
   "metadata": {},
   "source": [
    "Create a demonstration data model"
   ]
  },
  {
   "cell_type": "code",
   "execution_count": 2,
   "metadata": {
    "collapsed": true
   },
   "outputs": [],
   "source": [
    "model = \"\"\"{\n",
    "    \"atomic-system\": {\n",
    "        \"cell\": {\n",
    "            \"cubic\": {\n",
    "                \"a\": {\n",
    "                    \"value\": 2.8665, \n",
    "                    \"unit\": \"angstrom\"\n",
    "                }\n",
    "            }\n",
    "        }, \n",
    "        \"atom\": [\n",
    "            {\n",
    "                \"component\": 1,\n",
    "                \"symbol\": \"Fe\",\n",
    "                \"position\": {\n",
    "                    \"value\": [\n",
    "                        0.0, \n",
    "                        0.0, \n",
    "                        0.0\n",
    "                    ], \n",
    "                    \"unit\": \"scaled\"\n",
    "                }\n",
    "            }, \n",
    "            {\n",
    "                \"component\": 1,\n",
    "                \"symbol\": \"Fe\",\n",
    "                \"position\": {\n",
    "                    \"value\": [\n",
    "                        0.5, \n",
    "                        0.5, \n",
    "                        0.5\n",
    "                    ], \n",
    "                    \"unit\": \"scaled\"\n",
    "                }\n",
    "            }\n",
    "        ]\n",
    "    }\n",
    "}\"\"\""
   ]
  },
  {
   "cell_type": "markdown",
   "metadata": {},
   "source": [
    "load the data model"
   ]
  },
  {
   "cell_type": "code",
   "execution_count": 3,
   "metadata": {
    "collapsed": false
   },
   "outputs": [
    {
     "name": "stdout",
     "output_type": "stream",
     "text": [
      "[u'Fe']\n",
      "avect =  [ 2.866,  0.000,  0.000]\n",
      "bvect =  [ 0.000,  2.866,  0.000]\n",
      "cvect =  [ 0.000,  0.000,  2.866]\n",
      "origin = [ 0.000,  0.000,  0.000]\n",
      "natoms = 2\n",
      "natypes = 1\n",
      "     id |   atype |  pos[0] |  pos[1] |  pos[2]\n",
      "      0 |       1 |   0.000 |   0.000 |   0.000\n",
      "      1 |       1 |   1.433 |   1.433 |   1.433\n"
     ]
    }
   ],
   "source": [
    "system, symbols = am.load('system_model', model)\n",
    "print symbols\n",
    "print system"
   ]
  },
  {
   "cell_type": "markdown",
   "metadata": {},
   "source": [
    "### style = 'cif'\n",
    "\n",
    "The 'cif' style corresponds to a CIF crystallographic file. This option requires that diffpy.Structure be installed in Python.\n",
    "\n",
    "This style accesses the [atomman.convert.cif.load](atomman.convert.cif.load.ipynb) function. More information on this style and the allowable arguments can be found on that function's docs Notebook."
   ]
  },
  {
   "cell_type": "markdown",
   "metadata": {},
   "source": [
    "Create a demonstration cif file obtained from the [Crystallography Open Database](http://www.crystallography.net/)"
   ]
  },
  {
   "cell_type": "code",
   "execution_count": 4,
   "metadata": {
    "collapsed": false
   },
   "outputs": [],
   "source": [
    "cif = \"\"\"#------------------------------------------------------------------------------\n",
    "#$Date: 2016-02-13 21:28:24 +0200 (Sat, 13 Feb 2016) $\n",
    "#$Revision: 176429 $\n",
    "#$URL: svn://www.crystallography.net/cod/cif/1/54/12/1541266.cif $\n",
    "#------------------------------------------------------------------------------\n",
    "#\n",
    "# This file is available in the Crystallography Open Database (COD),\n",
    "# http://www.crystallography.net/\n",
    "#\n",
    "# All data on this site have been placed in the public domain by the\n",
    "# contributors.\n",
    "#\n",
    "data_1541266\n",
    "loop_\n",
    "_publ_author_name\n",
    "'Mueller, M. H.'\n",
    "_publ_section_title\n",
    ";\n",
    " The lattice parameter of tantalum\n",
    ";\n",
    "_journal_issue                   8\n",
    "_journal_name_full               'Scripta Metallurgica'\n",
    "_journal_page_first              693\n",
    "_journal_page_last               693\n",
    "_journal_paper_doi               10.1016/0036-9748(77)90141-7\n",
    "_journal_volume                  11\n",
    "_journal_year                    1977\n",
    "_chemical_formula_sum            Ta\n",
    "_chemical_name_systematic        Ta\n",
    "_space_group_IT_number           229\n",
    "_symmetry_space_group_name_Hall  '-I 4 2 3'\n",
    "_symmetry_space_group_name_H-M   'I m -3 m'\n",
    "_cell_angle_alpha                90\n",
    "_cell_angle_beta                 90\n",
    "_cell_angle_gamma                90\n",
    "_cell_formula_units_Z            2\n",
    "_cell_length_a                   3.30256\n",
    "_cell_length_b                   3.30256\n",
    "_cell_length_c                   3.30256\n",
    "_cell_volume                     36.021\n",
    "_citation_journal_id_ASTM        SCRMBU\n",
    "_cod_data_source_file            Mueller_SCRMBU_1977_100.cif\n",
    "_cod_data_source_block           Ta1\n",
    "_cod_original_cell_volume        36.0207\n",
    "_cod_original_formula_sum        Ta1\n",
    "_cod_database_code               1541266\n",
    "loop_\n",
    "_symmetry_equiv_pos_as_xyz\n",
    "x,y,z\n",
    "-y,x,z\n",
    "-x,-y,z\n",
    "y,-x,z\n",
    "x,-y,-z\n",
    "y,x,-z\n",
    "-x,y,-z\n",
    "-y,-x,-z\n",
    "z,x,y\n",
    "-x,z,y\n",
    "-z,-x,y\n",
    "x,-z,y\n",
    "z,-x,-y\n",
    "x,z,-y\n",
    "-z,x,-y\n",
    "-x,-z,-y\n",
    "y,z,x\n",
    "y,-z,-x\n",
    "z,y,-x\n",
    "-y,z,-x\n",
    "-z,-y,-x\n",
    "-y,-z,x\n",
    "z,-y,x\n",
    "-z,y,x\n",
    "-x,-y,-z\n",
    "y,-x,-z\n",
    "x,y,-z\n",
    "-y,x,-z\n",
    "-x,y,z\n",
    "-y,-x,z\n",
    "x,-y,z\n",
    "y,x,z\n",
    "-z,-x,-y\n",
    "x,-z,-y\n",
    "z,x,-y\n",
    "-x,z,-y\n",
    "-z,x,y\n",
    "-x,-z,y\n",
    "z,-x,y\n",
    "x,z,y\n",
    "-y,-z,-x\n",
    "-y,z,x\n",
    "-z,-y,x\n",
    "y,-z,x\n",
    "z,y,x\n",
    "y,z,-x\n",
    "-z,y,-x\n",
    "z,-y,-x\n",
    "x+1/2,y+1/2,z+1/2\n",
    "-y+1/2,x+1/2,z+1/2\n",
    "-x+1/2,-y+1/2,z+1/2\n",
    "y+1/2,-x+1/2,z+1/2\n",
    "x+1/2,-y+1/2,-z+1/2\n",
    "y+1/2,x+1/2,-z+1/2\n",
    "-x+1/2,y+1/2,-z+1/2\n",
    "-y+1/2,-x+1/2,-z+1/2\n",
    "z+1/2,x+1/2,y+1/2\n",
    "-x+1/2,z+1/2,y+1/2\n",
    "-z+1/2,-x+1/2,y+1/2\n",
    "x+1/2,-z+1/2,y+1/2\n",
    "z+1/2,-x+1/2,-y+1/2\n",
    "x+1/2,z+1/2,-y+1/2\n",
    "-z+1/2,x+1/2,-y+1/2\n",
    "-x+1/2,-z+1/2,-y+1/2\n",
    "y+1/2,z+1/2,x+1/2\n",
    "y+1/2,-z+1/2,-x+1/2\n",
    "z+1/2,y+1/2,-x+1/2\n",
    "-y+1/2,z+1/2,-x+1/2\n",
    "-z+1/2,-y+1/2,-x+1/2\n",
    "-y+1/2,-z+1/2,x+1/2\n",
    "z+1/2,-y+1/2,x+1/2\n",
    "-z+1/2,y+1/2,x+1/2\n",
    "-x+1/2,-y+1/2,-z+1/2\n",
    "y+1/2,-x+1/2,-z+1/2\n",
    "x+1/2,y+1/2,-z+1/2\n",
    "-y+1/2,x+1/2,-z+1/2\n",
    "-x+1/2,y+1/2,z+1/2\n",
    "-y+1/2,-x+1/2,z+1/2\n",
    "x+1/2,-y+1/2,z+1/2\n",
    "y+1/2,x+1/2,z+1/2\n",
    "-z+1/2,-x+1/2,-y+1/2\n",
    "x+1/2,-z+1/2,-y+1/2\n",
    "z+1/2,x+1/2,-y+1/2\n",
    "-x+1/2,z+1/2,-y+1/2\n",
    "-z+1/2,x+1/2,y+1/2\n",
    "-x+1/2,-z+1/2,y+1/2\n",
    "z+1/2,-x+1/2,y+1/2\n",
    "x+1/2,z+1/2,y+1/2\n",
    "-y+1/2,-z+1/2,-x+1/2\n",
    "-y+1/2,z+1/2,x+1/2\n",
    "-z+1/2,-y+1/2,x+1/2\n",
    "y+1/2,-z+1/2,x+1/2\n",
    "z+1/2,y+1/2,x+1/2\n",
    "y+1/2,z+1/2,-x+1/2\n",
    "-z+1/2,y+1/2,-x+1/2\n",
    "z+1/2,-y+1/2,-x+1/2\n",
    "loop_\n",
    "_atom_site_label\n",
    "_atom_site_type_symbol\n",
    "_atom_site_fract_x\n",
    "_atom_site_fract_y\n",
    "_atom_site_fract_z\n",
    "_atom_site_occupancy\n",
    "_atom_site_U_iso_or_equiv\n",
    "Ta1 Ta 0 0 0 1 0.0\n",
    "\"\"\""
   ]
  },
  {
   "cell_type": "markdown",
   "metadata": {},
   "source": [
    "load the cif file"
   ]
  },
  {
   "cell_type": "code",
   "execution_count": 5,
   "metadata": {
    "collapsed": false
   },
   "outputs": [
    {
     "name": "stdout",
     "output_type": "stream",
     "text": [
      "['Ta']\n",
      "avect =  [ 3.303,  0.000,  0.000]\n",
      "bvect =  [ 0.000,  3.303,  0.000]\n",
      "cvect =  [ 0.000,  0.000,  3.303]\n",
      "origin = [ 0.000,  0.000,  0.000]\n",
      "natoms = 2\n",
      "natypes = 1\n",
      "     id |   atype |  pos[0] |  pos[1] |  pos[2]\n",
      "      0 |       1 |   0.000 |   0.000 |   0.000\n",
      "      1 |       1 |   1.651 |   1.651 |   1.651\n"
     ]
    }
   ],
   "source": [
    "system, symbols = am.load('cif', cif)\n",
    "print symbols\n",
    "print system"
   ]
  },
  {
   "cell_type": "markdown",
   "metadata": {},
   "source": [
    "### style = 'atom_data'\n",
    "\n",
    "The 'atom_data' style corresponds to LAMMPS atom data configuration files. The symbols list returned will always be a list of None \n",
    "\n",
    "This style accesses the [atomman.lammps.atom_data.load](atomman.lammps.atom_data.load.ipynb) function. More information on this style and the allowable arguments can be found on that function's docs Notebook."
   ]
  },
  {
   "cell_type": "markdown",
   "metadata": {},
   "source": [
    "Create a demonstration atom data file"
   ]
  },
  {
   "cell_type": "code",
   "execution_count": 6,
   "metadata": {
    "collapsed": false
   },
   "outputs": [],
   "source": [
    "data = \"\"\"\n",
    "8 atoms\n",
    "2 atom types\n",
    "0.0 5.6500000000000004 xlo xhi\n",
    "0.0 5.6500000000000004 ylo yhi\n",
    "0.0 5.6500000000000004 zlo zhi\n",
    "\n",
    "Atoms\n",
    "\n",
    "1 1 0.0000000000000e+00 0.0000000000000e+00 0.0000000000000e+00\n",
    "2 1 2.8250000000000e+00 0.0000000000000e+00 2.8250000000000e+00\n",
    "3 1 2.8250000000000e+00 2.8250000000000e+00 0.0000000000000e+00\n",
    "4 1 0.0000000000000e+00 2.8250000000000e+00 2.8250000000000e+00\n",
    "5 2 1.4125000000000e+00 1.4125000000000e+00 1.4125000000000e+00\n",
    "6 2 4.2375000000000e+00 4.2375000000000e+00 1.4125000000000e+00\n",
    "7 2 1.4125000000000e+00 4.2375000000000e+00 4.2375000000000e+00\n",
    "8 2 4.2375000000000e+00 1.4125000000000e+00 4.2375000000000e+00\n",
    "\"\"\""
   ]
  },
  {
   "cell_type": "markdown",
   "metadata": {},
   "source": [
    "load the atom data file"
   ]
  },
  {
   "cell_type": "code",
   "execution_count": 7,
   "metadata": {
    "collapsed": false
   },
   "outputs": [
    {
     "name": "stdout",
     "output_type": "stream",
     "text": [
      "[None, None]\n",
      "avect =  [ 5.650,  0.000,  0.000]\n",
      "bvect =  [ 0.000,  5.650,  0.000]\n",
      "cvect =  [ 0.000,  0.000,  5.650]\n",
      "origin = [ 0.000,  0.000,  0.000]\n",
      "natoms = 8\n",
      "natypes = 2\n",
      "     id |   atype |  pos[0] |  pos[1] |  pos[2]\n",
      "      0 |       1 |   0.000 |   0.000 |   0.000\n",
      "      1 |       1 |   2.825 |   0.000 |   2.825\n",
      "      2 |       1 |   2.825 |   2.825 |   0.000\n",
      "      3 |       1 |   0.000 |   2.825 |   2.825\n",
      "      4 |       2 |   1.413 |   1.413 |   1.413\n",
      "      5 |       2 |   4.237 |   4.237 |   1.413\n",
      "      6 |       2 |   1.413 |   4.237 |   4.237\n",
      "      7 |       2 |   4.237 |   1.413 |   4.237\n"
     ]
    }
   ],
   "source": [
    "system, symbols = am.load('atom_data', data)\n",
    "print symbols\n",
    "print system"
   ]
  },
  {
   "cell_type": "markdown",
   "metadata": {},
   "source": [
    "### style = 'atom_dump'\n",
    "\n",
    "The 'atom_dump' style corresponds to LAMMPS dump configuration files. \n",
    "\n",
    "This style accesses the [atomman.lammps.atom_dump.load](atomman.lammps.atom_dump.load.ipynb) function. More information on this style and the allowable arguments can be found on that function's docs Notebook."
   ]
  },
  {
   "cell_type": "markdown",
   "metadata": {},
   "source": [
    "Create a demonstration dump file"
   ]
  },
  {
   "cell_type": "code",
   "execution_count": 8,
   "metadata": {
    "collapsed": true
   },
   "outputs": [],
   "source": [
    "dump = \"\"\"ITEM: TIMESTEP\n",
    "0\n",
    "ITEM: NUMBER OF ATOMS\n",
    "8\n",
    "ITEM: BOX BOUNDS ss ss pp\n",
    "0.0 5.650\n",
    "0.0 5.650\n",
    "0.0 5.650\n",
    "ITEM: ATOMS id type x y z\n",
    "1 1 0.0000000000000e+00 0.0000000000000e+00 0.0000000000000e+00\n",
    "2 1 2.8250000000000e+00 0.0000000000000e+00 2.8250000000000e+00\n",
    "3 1 2.8250000000000e+00 2.8250000000000e+00 0.0000000000000e+00\n",
    "4 1 0.0000000000000e+00 2.8250000000000e+00 2.8250000000000e+00\n",
    "5 2 1.4125000000000e+00 1.4125000000000e+00 1.4125000000000e+00\n",
    "6 2 4.2375000000000e+00 4.2375000000000e+00 1.4125000000000e+00\n",
    "7 2 1.4125000000000e+00 4.2375000000000e+00 4.2375000000000e+00\n",
    "8 2 4.2375000000000e+00 1.4125000000000e+00 4.2375000000000e+00\n",
    "\"\"\""
   ]
  },
  {
   "cell_type": "markdown",
   "metadata": {},
   "source": [
    "load the dump file"
   ]
  },
  {
   "cell_type": "code",
   "execution_count": 9,
   "metadata": {
    "collapsed": false
   },
   "outputs": [
    {
     "name": "stdout",
     "output_type": "stream",
     "text": [
      "[None, None]\n",
      "avect =  [ 5.650,  0.000,  0.000]\n",
      "bvect =  [ 0.000,  5.650,  0.000]\n",
      "cvect =  [ 0.000,  0.000,  5.650]\n",
      "origin = [ 0.000,  0.000,  0.000]\n",
      "natoms = 8\n",
      "natypes = 2\n",
      "     id |   atype |  pos[0] |  pos[1] |  pos[2]\n",
      "      0 |       1 |   0.000 |   0.000 |   0.000\n",
      "      1 |       1 |   2.825 |   0.000 |   2.825\n",
      "      2 |       1 |   2.825 |   2.825 |   0.000\n",
      "      3 |       1 |   0.000 |   2.825 |   2.825\n",
      "      4 |       2 |   1.413 |   1.413 |   1.413\n",
      "      5 |       2 |   4.237 |   4.237 |   1.413\n",
      "      6 |       2 |   1.413 |   4.237 |   4.237\n",
      "      7 |       2 |   4.237 |   1.413 |   4.237\n"
     ]
    }
   ],
   "source": [
    "system, symbols = am.load('atom_dump', dump)\n",
    "print symbols\n",
    "print system"
   ]
  },
  {
   "cell_type": "markdown",
   "metadata": {},
   "source": [
    "### style = 'ase_Atoms'\n",
    "\n",
    "The 'ase_Atoms' style corresponds to an ase.Atoms Python object.  This option requires that ase be installed in Python.\n",
    "\n",
    "This style accesses the [atomman.convert.ase_Atoms.load](atomman.convert.ase_Atoms.load.ipynb) function. More information on this style and the allowable arguments can be found on that function's docs Notebook."
   ]
  },
  {
   "cell_type": "markdown",
   "metadata": {},
   "source": [
    "Create a demonstration ase.Atoms object"
   ]
  },
  {
   "cell_type": "code",
   "execution_count": 10,
   "metadata": {
    "collapsed": false
   },
   "outputs": [
    {
     "name": "stdout",
     "output_type": "stream",
     "text": [
      "Atoms(symbols='Si8', positions=..., cell=[5.45, 5.45, 5.45], pbc=[False, False, False])\n",
      "[[ 0.    0.    0.  ]\n",
      " [ 0.5   0.5   0.  ]\n",
      " [ 0.5   0.    0.5 ]\n",
      " [ 0.    0.5   0.5 ]\n",
      " [ 0.25  0.25  0.25]\n",
      " [ 0.75  0.75  0.25]\n",
      " [ 0.75  0.25  0.75]\n",
      " [ 0.25  0.75  0.75]]\n"
     ]
    }
   ],
   "source": [
    "import ase\n",
    "\n",
    "positions = [(0.00, 0.00, 0.00),\n",
    "             (0.50, 0.50, 0.00),\n",
    "             (0.50, 0.00, 0.50),\n",
    "             (0.00, 0.50, 0.50),\n",
    "             (0.25, 0.25, 0.25),\n",
    "             (0.75, 0.75, 0.25),\n",
    "             (0.75, 0.25, 0.75),\n",
    "             (0.25, 0.75, 0.75)]\n",
    "\n",
    "cell = [[5.45, 0.00, 0.00],\n",
    "        [0.00, 5.45, 0.00],\n",
    "        [0.00, 0.00, 5.45]]\n",
    "ase_atoms = ase.Atoms('Si8', positions=positions, cell=cell)\n",
    "\n",
    "print ase_atoms\n",
    "print ase_atoms.get_positions()"
   ]
  },
  {
   "cell_type": "markdown",
   "metadata": {},
   "source": [
    "load the ase.Atoms object"
   ]
  },
  {
   "cell_type": "code",
   "execution_count": 11,
   "metadata": {
    "collapsed": false
   },
   "outputs": [
    {
     "name": "stdout",
     "output_type": "stream",
     "text": [
      "['Si']\n",
      "avect =  [ 5.450,  0.000,  0.000]\n",
      "bvect =  [ 0.000,  5.450,  0.000]\n",
      "cvect =  [ 0.000,  0.000,  5.450]\n",
      "origin = [ 0.000,  0.000,  0.000]\n",
      "natoms = 8\n",
      "natypes = 1\n",
      "     id |   atype |  pos[0] |  pos[1] |  pos[2]\n",
      "      0 |       1 |   0.000 |   0.000 |   0.000\n",
      "      1 |       1 |   0.500 |   0.500 |   0.000\n",
      "      2 |       1 |   0.500 |   0.000 |   0.500\n",
      "      3 |       1 |   0.000 |   0.500 |   0.500\n",
      "      4 |       1 |   0.250 |   0.250 |   0.250\n",
      "      5 |       1 |   0.750 |   0.750 |   0.250\n",
      "      6 |       1 |   0.750 |   0.250 |   0.750\n",
      "      7 |       1 |   0.250 |   0.750 |   0.750\n"
     ]
    }
   ],
   "source": [
    "system, elements = am.load('ase_Atoms', ase_atoms)\n",
    "print elements\n",
    "print system"
   ]
  },
  {
   "cell_type": "markdown",
   "metadata": {},
   "source": [
    "### style = 'pymatgen_Structure'\n",
    "\n",
    "The 'pymatgen_Structure' style corresponds to a pymatgen.Structure Python object.  This option requires that pymatgen be installed in Python.\n",
    "\n",
    "This style accesses the [atomman.convert.pymatgen_Structure.load](atomman.convert.pymatgen_Structure.load.ipynb) function. More information on this style and the allowable arguments can be found on that function's docs Notebook."
   ]
  },
  {
   "cell_type": "markdown",
   "metadata": {},
   "source": [
    "Create a demonstration pymatgen.Structure"
   ]
  },
  {
   "cell_type": "code",
   "execution_count": 12,
   "metadata": {
    "collapsed": false
   },
   "outputs": [
    {
     "name": "stdout",
     "output_type": "stream",
     "text": [
      "Full Formula (Si8)\n",
      "Reduced Formula: Si\n",
      "abc   :   5.450000   5.450000   5.450000\n",
      "angles:  90.000000  90.000000  90.000000\n",
      "Sites (8)\n",
      "  #  SP       a     b     c\n",
      "---  ----  ----  ----  ----\n",
      "  0  Si    0     0     0\n",
      "  1  Si    0.5   0.5   0\n",
      "  2  Si    0.5   0     0.5\n",
      "  3  Si    0     0.5   0.5\n",
      "  4  Si    0.25  0.25  0.25\n",
      "  5  Si    0.75  0.75  0.25\n",
      "  6  Si    0.75  0.25  0.75\n",
      "  7  Si    0.25  0.75  0.75\n"
     ]
    }
   ],
   "source": [
    "import pymatgen as pmg\n",
    "\n",
    "lattice = pmg.Lattice.cubic(5.45)\n",
    "elements = ['Si' for i in xrange(8)]\n",
    "positions = [(0.00, 0.00, 0.00),\n",
    "             (0.50, 0.50, 0.00),\n",
    "             (0.50, 0.00, 0.50),\n",
    "             (0.00, 0.50, 0.50),\n",
    "             (0.25, 0.25, 0.25),\n",
    "             (0.75, 0.75, 0.25),\n",
    "             (0.75, 0.25, 0.75),\n",
    "             (0.25, 0.75, 0.75)]\n",
    "pmg_structure = pmg.Structure(lattice, elements, positions)\n",
    "\n",
    "print pmg_structure"
   ]
  },
  {
   "cell_type": "markdown",
   "metadata": {},
   "source": [
    "Load the pymatgen.Structure"
   ]
  },
  {
   "cell_type": "code",
   "execution_count": 13,
   "metadata": {
    "collapsed": false
   },
   "outputs": [
    {
     "name": "stdout",
     "output_type": "stream",
     "text": [
      "['Si']\n",
      "avect =  [ 5.450,  0.000,  0.000]\n",
      "bvect =  [ 0.000,  5.450,  0.000]\n",
      "cvect =  [ 0.000,  0.000,  5.450]\n",
      "origin = [ 0.000,  0.000,  0.000]\n",
      "natoms = 8\n",
      "natypes = 1\n",
      "     id |   atype |  pos[0] |  pos[1] |  pos[2]\n",
      "      0 |       1 |   0.000 |   0.000 |   0.000\n",
      "      1 |       1 |   2.725 |   2.725 |   0.000\n",
      "      2 |       1 |   2.725 |   0.000 |   2.725\n",
      "      3 |       1 |   0.000 |   2.725 |   2.725\n",
      "      4 |       1 |   1.363 |   1.363 |   1.363\n",
      "      5 |       1 |   4.088 |   4.088 |   1.363\n",
      "      6 |       1 |   4.088 |   1.363 |   4.088\n",
      "      7 |       1 |   1.363 |   4.088 |   4.088\n"
     ]
    }
   ],
   "source": [
    "system, elements = am.load('pymatgen_Structure', pmg_structure)\n",
    "print elements\n",
    "print system"
   ]
  },
  {
   "cell_type": "markdown",
   "metadata": {},
   "source": [
    "### style = 'poscar'\n",
    "\n",
    "The 'poscar' style corresponds to VASP POSCAR configuration files. \n",
    "\n",
    "This style accesses the [atomman.convert.poscar.load](atomman.convert.poscar.load.ipynb) function. More information on this style and the allowable arguments can be found on that function's docs Notebook."
   ]
  },
  {
   "cell_type": "markdown",
   "metadata": {},
   "source": [
    "Create a demonstration POSCAR file"
   ]
  },
  {
   "cell_type": "code",
   "execution_count": 14,
   "metadata": {
    "collapsed": false
   },
   "outputs": [],
   "source": [
    "poscar = \"\"\"Fe\n",
    " 1.0\n",
    "2.866500 0.000000 0.000000\n",
    "0.000000 2.866500 0.000000\n",
    "0.000000 0.000000 2.866500\n",
    "Fe\n",
    "2\n",
    "direct\n",
    " 0.0000000000 0.0000000000 0.0000000000\n",
    " 0.5000000000 0.5000000000 0.5000000000\n",
    "\"\"\""
   ]
  },
  {
   "cell_type": "markdown",
   "metadata": {},
   "source": [
    "load the POSCAR file"
   ]
  },
  {
   "cell_type": "code",
   "execution_count": 15,
   "metadata": {
    "collapsed": false
   },
   "outputs": [
    {
     "name": "stdout",
     "output_type": "stream",
     "text": [
      "['Fe']\n",
      "avect =  [ 2.866,  0.000,  0.000]\n",
      "bvect =  [ 0.000,  2.866,  0.000]\n",
      "cvect =  [ 0.000,  0.000,  2.866]\n",
      "origin = [ 0.000,  0.000,  0.000]\n",
      "natoms = 2\n",
      "natypes = 1\n",
      "     id |   atype |  pos[0] |  pos[1] |  pos[2]\n",
      "      0 |       1 |   0.000 |   0.000 |   0.000\n",
      "      1 |       1 |   1.433 |   1.433 |   1.433\n"
     ]
    }
   ],
   "source": [
    "system, symbols = am.load('poscar', poscar)\n",
    "print symbols\n",
    "print system"
   ]
  },
  {
   "cell_type": "markdown",
   "metadata": {},
   "source": [
    "- - -\n",
    "__Docs Navigation:__\n",
    "\n",
    "Tutorial:\n",
    "\n",
    "1. [Basics](../tutorial/1 Basics.ipynb)\n",
    "\n",
    "2. [LAMMPS Functionality](../tutorial/2 LAMMPS Functionality.ipynb)\n",
    "\n",
    "3. [Defect Generation and Evaluation](../tutorial/3 Defect Generation and Evaluation.ipynb)\n",
    "\n",
    "\n",
    "Reference:\n",
    "\n",
    "- [atomman](../reference/atomman.ipynb)\n",
    "\n",
    "- [atomman.convert](../reference/atomman.convert.ipynb)\n",
    "\n",
    "- [atomman.defect](../reference/atomman.defect.ipynb)\n",
    "\n",
    "- [atomman.lammps](../reference/atomman.lammps.ipynb)\n",
    "\n",
    "- [atomman.tools](../reference/atomman.tools.ipynb)\n",
    "\n",
    "- [atomman.unitconvert](../reference/atomman.unitconvert.ipynb)"
   ]
  }
 ],
 "metadata": {
  "kernelspec": {
   "display_name": "Python 2",
   "language": "python",
   "name": "python2"
  },
  "language_info": {
   "codemirror_mode": {
    "name": "ipython",
    "version": 2
   },
   "file_extension": ".py",
   "mimetype": "text/x-python",
   "name": "python",
   "nbconvert_exporter": "python",
   "pygments_lexer": "ipython2",
   "version": "2.7.11"
  }
 },
 "nbformat": 4,
 "nbformat_minor": 0
}
