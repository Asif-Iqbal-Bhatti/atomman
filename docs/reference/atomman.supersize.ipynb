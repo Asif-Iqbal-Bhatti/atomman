{
 "cells": [
  {
   "cell_type": "markdown",
   "metadata": {},
   "source": [
    "# atomman.supersize(system, a_size, b_size, c_size)\n",
    "\n",
    "- - -"
   ]
  },
  {
   "cell_type": "markdown",
   "metadata": {},
   "source": [
    "**Lucas M. Hale**, [lucas.hale@nist.gov](mailto:lucas.hale@nist.gov?Subject=ipr-demo), *Materials Science and Engineering Division, NIST*.\n",
    "\n",
    "**Chandler A. Becker**, [chandler.becker@nist.gov](mailto:chandler.becker@nist.gov?Subject=ipr-demo), *Office of Data and Informatics, NIST*.\n",
    "\n",
    "**Zachary T. Trautt**, [zachary.trautt@nist.gov](mailto:zachary.trautt@nist.gov?Subject=ipr-demo), *Materials Measurement Science Division, NIST*.\n",
    "\n",
    "Version: 2016-08-26\n",
    "\n",
    "[Disclaimers](http://www.nist.gov/public_affairs/disclaimer.cfm) \n",
    " \n",
    "- - -"
   ]
  },
  {
   "cell_type": "markdown",
   "metadata": {},
   "source": [
    "## Introduction\n",
    "\n",
    "The supersize function allows for the creation of large systems by copying atoms in an existing System according to specified multipliers. For unit cell Systems, this is consistent with building a super cell. \n",
    "\n",
    "Arguments:\n",
    "\n",
    "- __system__ -- the initial seed [System](atomman.System.ipynb) to use.\n",
    "\n",
    "- __a_size__ -- integer or tuple of two integers indicating how many times to repeat the system along the System box's a vector.\n",
    "\n",
    "- __b_size__ -- integer or tuple of two integers indicating how many times to repeat the system along the System box's b vector.\n",
    "\n",
    "- __c_size__ -- integer or tuple of two integers indicating how many times to repeat the system along the System box's c vector.\n",
    "\n",
    "Each of the size arguments (a_size, b_size, c_size) can either be a non-zero integer or a tuple of two integers.\n",
    "\n",
    "1. positive integers indicate to expand in the +vects directions.\n",
    "2. negative integers indicate to expand in the -vects directions.\n",
    "3. (negative integer, positive integer) tuples allowing expansion in both directions. The number of copies along the related direction is the difference between the two integers. One of the integers may be zero in which case it is equivalent to only specifying the other non-zero integer.\n",
    "\n",
    "Mixing and matching integers and tuples is acceptable. Sizes of zero are not allowed as they are equivalent to multiplying the System's dimension by zero. \n",
    "\n",
    "The underlying code can be found in [atomman/core/supersize.py](../../atomman/core/supersize.py)."
   ]
  },
  {
   "cell_type": "markdown",
   "metadata": {},
   "source": [
    "## Demonstration"
   ]
  },
  {
   "cell_type": "code",
   "execution_count": 2,
   "metadata": {
    "collapsed": false
   },
   "outputs": [],
   "source": [
    "import atomman as am\n",
    "import numpy as np"
   ]
  },
  {
   "cell_type": "markdown",
   "metadata": {},
   "source": [
    "Generate a demonstration fcc cell"
   ]
  },
  {
   "cell_type": "code",
   "execution_count": 3,
   "metadata": {
    "collapsed": false
   },
   "outputs": [
    {
     "name": "stdout",
     "output_type": "stream",
     "text": [
      "avect =  [ 3.640,  0.000,  0.000]\n",
      "bvect =  [ 0.000,  3.640,  0.000]\n",
      "cvect =  [ 0.000,  0.000,  3.640]\n",
      "origin = [ 0.000,  0.000,  0.000]\n",
      "natoms = 4\n",
      "natypes = 1\n",
      "     id |   atype |  pos[0] |  pos[1] |  pos[2]\n",
      "      0 |       1 |   0.000 |   0.000 |   0.000\n",
      "      1 |       1 |   1.820 |   1.820 |   0.000\n",
      "      2 |       1 |   1.820 |   0.000 |   1.820\n",
      "      3 |       1 |   0.000 |   1.820 |   1.820\n"
     ]
    }
   ],
   "source": [
    "alat = 3.64\n",
    "atype = 1\n",
    "pos = np.array([[0.0, 0.0, 0.0], [0.5, 0.5, 0.0], [0.5, 0.0, 0.5], [0.0, 0.5, 0.5]])\n",
    "\n",
    "atoms = am.Atoms(natoms=len(pos), prop={'atype':atype, 'pos':pos})\n",
    "box = am.Box(a=alat, b=alat, c=alat)\n",
    "system = am.System(atoms=atoms, box=box, scale=True)\n",
    "\n",
    "print system"
   ]
  },
  {
   "cell_type": "markdown",
   "metadata": {},
   "source": [
    "Check the hi/lo positions of the box"
   ]
  },
  {
   "cell_type": "code",
   "execution_count": 5,
   "metadata": {
    "collapsed": false
   },
   "outputs": [
    {
     "name": "stdout",
     "output_type": "stream",
     "text": [
      "0.0 3.64\n",
      "0.0 3.64\n",
      "0.0 3.64\n"
     ]
    }
   ],
   "source": [
    "print system.box.xlo, system.box.xhi\n",
    "print system.box.ylo, system.box.yhi\n",
    "print system.box.zlo, system.box.zhi"
   ]
  },
  {
   "cell_type": "markdown",
   "metadata": {},
   "source": [
    "### Using positive size integers\n",
    "\n",
    "Create a 2x2x2 supercell by expanding only in the positive directions"
   ]
  },
  {
   "cell_type": "code",
   "execution_count": 6,
   "metadata": {
    "collapsed": false
   },
   "outputs": [
    {
     "name": "stdout",
     "output_type": "stream",
     "text": [
      "avect =  [ 7.280,  0.000,  0.000]\n",
      "bvect =  [ 0.000,  7.280,  0.000]\n",
      "cvect =  [ 0.000,  0.000,  7.280]\n",
      "origin = [ 0.000,  0.000,  0.000]\n",
      "natoms = 32\n",
      "natypes = 1\n",
      "     id |   atype |  pos[0] |  pos[1] |  pos[2]\n",
      "      0 |       1 |   0.000 |   0.000 |   0.000\n",
      "      1 |       1 |   1.820 |   1.820 |   0.000\n",
      "      2 |       1 |   1.820 |   0.000 |   1.820\n",
      "      3 |       1 |   0.000 |   1.820 |   1.820\n",
      "      4 |       1 |   3.640 |   0.000 |   0.000\n",
      "      5 |       1 |   5.460 |   1.820 |   0.000\n",
      "      6 |       1 |   5.460 |   0.000 |   1.820\n",
      "      7 |       1 |   3.640 |   1.820 |   1.820\n",
      "      8 |       1 |   0.000 |   3.640 |   0.000\n",
      "      9 |       1 |   1.820 |   5.460 |   0.000\n",
      "     10 |       1 |   1.820 |   3.640 |   1.820\n",
      "     11 |       1 |   0.000 |   5.460 |   1.820\n",
      "     12 |       1 |   3.640 |   3.640 |   0.000\n",
      "     13 |       1 |   5.460 |   5.460 |   0.000\n",
      "     14 |       1 |   5.460 |   3.640 |   1.820\n",
      "     15 |       1 |   3.640 |   5.460 |   1.820\n",
      "     16 |       1 |   0.000 |   0.000 |   3.640\n",
      "     17 |       1 |   1.820 |   1.820 |   3.640\n",
      "     18 |       1 |   1.820 |   0.000 |   5.460\n",
      "     19 |       1 |   0.000 |   1.820 |   5.460\n",
      "     20 |       1 |   3.640 |   0.000 |   3.640\n",
      "     21 |       1 |   5.460 |   1.820 |   3.640\n",
      "     22 |       1 |   5.460 |   0.000 |   5.460\n",
      "     23 |       1 |   3.640 |   1.820 |   5.460\n",
      "     24 |       1 |   0.000 |   3.640 |   3.640\n",
      "     25 |       1 |   1.820 |   5.460 |   3.640\n",
      "     26 |       1 |   1.820 |   3.640 |   5.460\n",
      "     27 |       1 |   0.000 |   5.460 |   5.460\n",
      "     28 |       1 |   3.640 |   3.640 |   3.640\n",
      "     29 |       1 |   5.460 |   5.460 |   3.640\n",
      "     30 |       1 |   5.460 |   3.640 |   5.460\n",
      "     31 |       1 |   3.640 |   5.460 |   5.460\n"
     ]
    }
   ],
   "source": [
    "big_system = am.supersize(system, 2, 2, 2)\n",
    "print big_system"
   ]
  },
  {
   "cell_type": "markdown",
   "metadata": {},
   "source": [
    "Note that the origin (lo's) remain unchanged while the vectors (hi's) have doubled."
   ]
  },
  {
   "cell_type": "code",
   "execution_count": 7,
   "metadata": {
    "collapsed": false
   },
   "outputs": [
    {
     "name": "stdout",
     "output_type": "stream",
     "text": [
      "0.0 7.28\n",
      "0.0 7.28\n",
      "0.0 7.28\n"
     ]
    }
   ],
   "source": [
    "print big_system.box.xlo, big_system.box.xhi\n",
    "print big_system.box.ylo, big_system.box.yhi\n",
    "print big_system.box.zlo, big_system.box.zhi"
   ]
  },
  {
   "cell_type": "markdown",
   "metadata": {},
   "source": [
    "### Using negative size integers\n",
    "\n",
    "Create a 2x2x2 supercell by expanding in the negative directions"
   ]
  },
  {
   "cell_type": "code",
   "execution_count": 8,
   "metadata": {
    "collapsed": false
   },
   "outputs": [
    {
     "name": "stdout",
     "output_type": "stream",
     "text": [
      "avect =  [ 7.280,  0.000,  0.000]\n",
      "bvect =  [ 0.000,  7.280,  0.000]\n",
      "cvect =  [ 0.000,  0.000,  7.280]\n",
      "origin = [-7.280, -7.280, -7.280]\n",
      "natoms = 32\n",
      "natypes = 1\n",
      "     id |   atype |  pos[0] |  pos[1] |  pos[2]\n",
      "      0 |       1 |  -7.280 |  -7.280 |  -7.280\n",
      "      1 |       1 |  -5.460 |  -5.460 |  -7.280\n",
      "      2 |       1 |  -5.460 |  -7.280 |  -5.460\n",
      "      3 |       1 |  -7.280 |  -5.460 |  -5.460\n",
      "      4 |       1 |  -3.640 |  -7.280 |  -7.280\n",
      "      5 |       1 |  -1.820 |  -5.460 |  -7.280\n",
      "      6 |       1 |  -1.820 |  -7.280 |  -5.460\n",
      "      7 |       1 |  -3.640 |  -5.460 |  -5.460\n",
      "      8 |       1 |  -7.280 |  -3.640 |  -7.280\n",
      "      9 |       1 |  -5.460 |  -1.820 |  -7.280\n",
      "     10 |       1 |  -5.460 |  -3.640 |  -5.460\n",
      "     11 |       1 |  -7.280 |  -1.820 |  -5.460\n",
      "     12 |       1 |  -3.640 |  -3.640 |  -7.280\n",
      "     13 |       1 |  -1.820 |  -1.820 |  -7.280\n",
      "     14 |       1 |  -1.820 |  -3.640 |  -5.460\n",
      "     15 |       1 |  -3.640 |  -1.820 |  -5.460\n",
      "     16 |       1 |  -7.280 |  -7.280 |  -3.640\n",
      "     17 |       1 |  -5.460 |  -5.460 |  -3.640\n",
      "     18 |       1 |  -5.460 |  -7.280 |  -1.820\n",
      "     19 |       1 |  -7.280 |  -5.460 |  -1.820\n",
      "     20 |       1 |  -3.640 |  -7.280 |  -3.640\n",
      "     21 |       1 |  -1.820 |  -5.460 |  -3.640\n",
      "     22 |       1 |  -1.820 |  -7.280 |  -1.820\n",
      "     23 |       1 |  -3.640 |  -5.460 |  -1.820\n",
      "     24 |       1 |  -7.280 |  -3.640 |  -3.640\n",
      "     25 |       1 |  -5.460 |  -1.820 |  -3.640\n",
      "     26 |       1 |  -5.460 |  -3.640 |  -1.820\n",
      "     27 |       1 |  -7.280 |  -1.820 |  -1.820\n",
      "     28 |       1 |  -3.640 |  -3.640 |  -3.640\n",
      "     29 |       1 |  -1.820 |  -1.820 |  -3.640\n",
      "     30 |       1 |  -1.820 |  -3.640 |  -1.820\n",
      "     31 |       1 |  -3.640 |  -1.820 |  -1.820\n"
     ]
    }
   ],
   "source": [
    "big_system = am.supersize(system, -2, -2, -2)\n",
    "print big_system"
   ]
  },
  {
   "cell_type": "markdown",
   "metadata": {},
   "source": [
    "Now, the hi's are the original System box's origin. "
   ]
  },
  {
   "cell_type": "code",
   "execution_count": 9,
   "metadata": {
    "collapsed": false
   },
   "outputs": [
    {
     "name": "stdout",
     "output_type": "stream",
     "text": [
      "-7.28 0.0\n",
      "-7.28 0.0\n",
      "-7.28 0.0\n"
     ]
    }
   ],
   "source": [
    "print big_system.box.xlo, big_system.box.xhi\n",
    "print big_system.box.ylo, big_system.box.yhi\n",
    "print big_system.box.zlo, big_system.box.zhi"
   ]
  },
  {
   "cell_type": "markdown",
   "metadata": {},
   "source": [
    "It's important to note that negative values only shift atomic positions NOT mirror them."
   ]
  },
  {
   "cell_type": "code",
   "execution_count": 11,
   "metadata": {
    "collapsed": false
   },
   "outputs": [
    {
     "name": "stdout",
     "output_type": "stream",
     "text": [
      "Original system's scaled atomic positions:\n",
      "[[ 0.   0.   0. ]\n",
      " [ 0.5  0.5  0. ]\n",
      " [ 0.5  0.   0.5]\n",
      " [ 0.   0.5  0.5]]\n",
      "\n",
      "supersize(system, -1, -1, -1)'s scaled atomic positions:\n",
      "[[ 0.   0.   0. ]\n",
      " [ 0.5  0.5  0. ]\n",
      " [ 0.5  0.   0.5]\n",
      " [ 0.   0.5  0.5]]\n"
     ]
    }
   ],
   "source": [
    "print \"Original system's scaled atomic positions:\"\n",
    "print system.atoms_prop(key='pos', scale=True)\n",
    "print\n",
    "\n",
    "neg_system = am.supersize(system, -1, -1, -1)\n",
    "print \"supersize(system, -1, -1, -1)'s scaled atomic positions:\"\n",
    "print neg_system.atoms_prop(key='pos', scale=True)\n",
    "\n"
   ]
  },
  {
   "cell_type": "markdown",
   "metadata": {},
   "source": [
    "### Using tuple size integers\n",
    "\n",
    "Supersizing simultaneously in both directions is possible by specifying a tuple (neg_integer, pos_integer). This can be useful for when you want the center of the System along a specific direction to be at that direction's 0.0 coordinate. "
   ]
  },
  {
   "cell_type": "markdown",
   "metadata": {},
   "source": [
    "Create a 2x2x2 supercell centered around the (0,0,0) origin of the original system"
   ]
  },
  {
   "cell_type": "code",
   "execution_count": 12,
   "metadata": {
    "collapsed": false
   },
   "outputs": [
    {
     "name": "stdout",
     "output_type": "stream",
     "text": [
      "avect =  [ 7.280,  0.000,  0.000]\n",
      "bvect =  [ 0.000,  7.280,  0.000]\n",
      "cvect =  [ 0.000,  0.000,  7.280]\n",
      "origin = [-3.640, -3.640, -3.640]\n",
      "natoms = 32\n",
      "natypes = 1\n",
      "     id |   atype |  pos[0] |  pos[1] |  pos[2]\n",
      "      0 |       1 |  -3.640 |  -3.640 |  -3.640\n",
      "      1 |       1 |  -1.820 |  -1.820 |  -3.640\n",
      "      2 |       1 |  -1.820 |  -3.640 |  -1.820\n",
      "      3 |       1 |  -3.640 |  -1.820 |  -1.820\n",
      "      4 |       1 |   0.000 |  -3.640 |  -3.640\n",
      "      5 |       1 |   1.820 |  -1.820 |  -3.640\n",
      "      6 |       1 |   1.820 |  -3.640 |  -1.820\n",
      "      7 |       1 |   0.000 |  -1.820 |  -1.820\n",
      "      8 |       1 |  -3.640 |   0.000 |  -3.640\n",
      "      9 |       1 |  -1.820 |   1.820 |  -3.640\n",
      "     10 |       1 |  -1.820 |   0.000 |  -1.820\n",
      "     11 |       1 |  -3.640 |   1.820 |  -1.820\n",
      "     12 |       1 |   0.000 |   0.000 |  -3.640\n",
      "     13 |       1 |   1.820 |   1.820 |  -3.640\n",
      "     14 |       1 |   1.820 |   0.000 |  -1.820\n",
      "     15 |       1 |   0.000 |   1.820 |  -1.820\n",
      "     16 |       1 |  -3.640 |  -3.640 |   0.000\n",
      "     17 |       1 |  -1.820 |  -1.820 |   0.000\n",
      "     18 |       1 |  -1.820 |  -3.640 |   1.820\n",
      "     19 |       1 |  -3.640 |  -1.820 |   1.820\n",
      "     20 |       1 |   0.000 |  -3.640 |   0.000\n",
      "     21 |       1 |   1.820 |  -1.820 |   0.000\n",
      "     22 |       1 |   1.820 |  -3.640 |   1.820\n",
      "     23 |       1 |   0.000 |  -1.820 |   1.820\n",
      "     24 |       1 |  -3.640 |   0.000 |   0.000\n",
      "     25 |       1 |  -1.820 |   1.820 |   0.000\n",
      "     26 |       1 |  -1.820 |   0.000 |   1.820\n",
      "     27 |       1 |  -3.640 |   1.820 |   1.820\n",
      "     28 |       1 |   0.000 |   0.000 |   0.000\n",
      "     29 |       1 |   1.820 |   1.820 |   0.000\n",
      "     30 |       1 |   1.820 |   0.000 |   1.820\n",
      "     31 |       1 |   0.000 |   1.820 |   1.820\n"
     ]
    }
   ],
   "source": [
    "big_system = am.supersize(system, (-1,1), (-1,1), (-1,1))\n",
    "print big_system"
   ]
  },
  {
   "cell_type": "markdown",
   "metadata": {},
   "source": [
    "The original System's origin is now at the center of the new System"
   ]
  },
  {
   "cell_type": "code",
   "execution_count": 13,
   "metadata": {
    "collapsed": false
   },
   "outputs": [
    {
     "name": "stdout",
     "output_type": "stream",
     "text": [
      "-3.64 3.64\n",
      "-3.64 3.64\n",
      "-3.64 3.64\n"
     ]
    }
   ],
   "source": [
    "print big_system.box.xlo, big_system.box.xhi\n",
    "print big_system.box.ylo, big_system.box.yhi\n",
    "print big_system.box.zlo, big_system.box.zhi"
   ]
  },
  {
   "cell_type": "markdown",
   "metadata": {},
   "source": [
    "- - -\n",
    "__Docs Navigation:__\n",
    "\n",
    "Tutorial:\n",
    "\n",
    "1. [Basics](../tutorial/1 Basics.ipynb)\n",
    "\n",
    "2. [LAMMPS Functionality](../tutorial/2 LAMMPS Functionality.ipynb)\n",
    "\n",
    "3. [Defect Generation and Evaluation](../tutorial/3 Defect Generation and Evaluation.ipynb)\n",
    "\n",
    "\n",
    "Reference:\n",
    "\n",
    "- [atomman](../reference/atomman.ipynb)\n",
    "\n",
    "- [atomman.convert](../reference/atomman.convert.ipynb)\n",
    "\n",
    "- [atomman.defect](../reference/atomman.defect.ipynb)\n",
    "\n",
    "- [atomman.lammps](../reference/atomman.lammps.ipynb)\n",
    "\n",
    "- [atomman.tools](../reference/atomman.tools.ipynb)\n",
    "\n",
    "- [atomman.unitconvert](../reference/atomman.unitconvert.ipynb)"
   ]
  }
 ],
 "metadata": {
  "kernelspec": {
   "display_name": "Python 2",
   "language": "python",
   "name": "python2"
  },
  "language_info": {
   "codemirror_mode": {
    "name": "ipython",
    "version": 2
   },
   "file_extension": ".py",
   "mimetype": "text/x-python",
   "name": "python",
   "nbconvert_exporter": "python",
   "pygments_lexer": "ipython2",
   "version": "2.7.11"
  }
 },
 "nbformat": 4,
 "nbformat_minor": 0
}
