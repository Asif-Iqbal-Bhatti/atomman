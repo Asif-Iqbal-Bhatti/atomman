{
 "cells": [
  {
   "cell_type": "markdown",
   "metadata": {
    "deletable": true,
    "editable": true
   },
   "source": [
    "# atomman.ElasticConstants.hexagonal(self, \\**kwargs)\n",
    "- - -"
   ]
  },
  {
   "cell_type": "markdown",
   "metadata": {
    "deletable": true,
    "editable": true
   },
   "source": [
    "**Lucas M. Hale**, [lucas.hale@nist.gov](mailto:lucas.hale@nist.gov?Subject=ipr-demo), *Materials Science and Engineering Division, NIST*.\n",
    "\n",
    "**Chandler A. Becker**, [chandler.becker@nist.gov](mailto:chandler.becker@nist.gov?Subject=ipr-demo), *Office of Data and Informatics, NIST*.\n",
    "\n",
    "**Zachary T. Trautt**, [zachary.trautt@nist.gov](mailto:zachary.trautt@nist.gov?Subject=ipr-demo), *Materials Measurement Science Division, NIST*.\n",
    "\n",
    "Version: 2017-04-20\n",
    "\n",
    "[Disclaimers](http://www.nist.gov/public_affairs/disclaimer.cfm) \n",
    " \n",
    "- - -"
   ]
  },
  {
   "cell_type": "markdown",
   "metadata": {
    "deletable": true,
    "editable": true
   },
   "source": [
    "## Introduction\n",
    "\n",
    "ElasticConstants.hexagonal allows for an ElasticConstants to be changed by supplying the unique hexagonal components of Cij individually. C33, C13, C44 are all required, as well as at least two of C11, C12 and C66.\n",
    "\n",
    "Keyword Arguments:\n",
    "\n",
    "- __C11__ -- component of Cij\n",
    "\n",
    "- __C33__ -- component of Cij\n",
    "\n",
    "- __C12__ -- component of Cij\n",
    "\n",
    "- __C13__ -- component of Cij\n",
    "\n",
    "- __C44__ -- component of Cij\n",
    "\n",
    "- __C66__ -- component of Cij\n",
    "\n",
    "The generated tensor is of the form\n",
    "\n",
    "$$C_{ij} = \\left[ \\begin{array}{ccc}\n",
    "C_{11} & C_{12} & C_{13} & 0.0    & 0.0    & 0.0 \\\\\n",
    "C_{12} & C_{11} & C_{13} & 0.0    & 0.0    & 0.0 \\\\\n",
    "C_{13} & C_{13} & C_{33} & 0.0    & 0.0    & 0.0 \\\\\n",
    "0.0    & 0.0    & 0.0    & C_{44} & 0.0    & 0.0 \\\\\n",
    "0.0    & 0.0    & 0.0    & 0.0    & C_{44} & 0.0 \\\\\n",
    "0.0    & 0.0    & 0.0    & 0.0    & 0.0    & C_{66} \n",
    "\\end{array} \\right]$$\n",
    "\n",
    "where\n",
    "\n",
    "$$ 2 C_{66} = C_{11} - C_{12} $$\n",
    "\n",
    "The underlying code can be found in [atomman/core/ElasticConstants.py](../../atomman/core/ElasticConstants.py)."
   ]
  },
  {
   "cell_type": "markdown",
   "metadata": {
    "deletable": true,
    "editable": true
   },
   "source": [
    "## Demonstration"
   ]
  },
  {
   "cell_type": "markdown",
   "metadata": {
    "deletable": true,
    "editable": true
   },
   "source": [
    "Library Imports"
   ]
  },
  {
   "cell_type": "code",
   "execution_count": 1,
   "metadata": {
    "collapsed": true,
    "deletable": true,
    "editable": true
   },
   "outputs": [],
   "source": [
    "#Standard libraries\n",
    "from __future__ import print_function\n",
    "\n",
    "#https://github.com/usnistgov/atomman \n",
    "import atomman as am"
   ]
  },
  {
   "cell_type": "markdown",
   "metadata": {},
   "source": [
    "Define with C11, C12 and not C66"
   ]
  },
  {
   "cell_type": "code",
   "execution_count": 2,
   "metadata": {
    "collapsed": false,
    "deletable": true,
    "editable": true
   },
   "outputs": [
    {
     "name": "stdout",
     "output_type": "stream",
     "text": [
      "[[ 326.08  129.56  119.48    0.      0.      0.  ]\n",
      " [ 129.56  326.08  119.48    0.      0.      0.  ]\n",
      " [ 119.48  119.48  357.5     0.      0.      0.  ]\n",
      " [   0.      0.      0.     92.54    0.      0.  ]\n",
      " [   0.      0.      0.      0.     92.54    0.  ]\n",
      " [   0.      0.      0.      0.      0.     98.26]]\n"
     ]
    }
   ],
   "source": [
    "c = am.ElasticConstants()\n",
    "c.hexagonal(C11=326.08, C33=357.50, C12=129.56, C13=119.48, C44=92.54)\n",
    "print(c)"
   ]
  },
  {
   "cell_type": "markdown",
   "metadata": {},
   "source": [
    "Define with C11, C66 and not C12"
   ]
  },
  {
   "cell_type": "code",
   "execution_count": 3,
   "metadata": {
    "collapsed": false,
    "deletable": true,
    "editable": true
   },
   "outputs": [
    {
     "name": "stdout",
     "output_type": "stream",
     "text": [
      "[[ 326.08  129.56  119.48    0.      0.      0.  ]\n",
      " [ 129.56  326.08  119.48    0.      0.      0.  ]\n",
      " [ 119.48  119.48  357.5     0.      0.      0.  ]\n",
      " [   0.      0.      0.     92.54    0.      0.  ]\n",
      " [   0.      0.      0.      0.     92.54    0.  ]\n",
      " [   0.      0.      0.      0.      0.     98.26]]\n"
     ]
    }
   ],
   "source": [
    "c66 = (326.08-129.56)/2\n",
    "\n",
    "c = am.ElasticConstants()\n",
    "c.hexagonal(C11=326.08, C33=357.50, C13=119.48, C44=92.54, C66=c66)\n",
    "print(c)"
   ]
  },
  {
   "cell_type": "markdown",
   "metadata": {
    "deletable": true,
    "editable": true
   },
   "source": [
    "Define with C11, C12 and redundant C66"
   ]
  },
  {
   "cell_type": "code",
   "execution_count": 4,
   "metadata": {
    "collapsed": false,
    "deletable": true,
    "editable": true
   },
   "outputs": [
    {
     "name": "stdout",
     "output_type": "stream",
     "text": [
      "[[ 326.08  129.56  119.48    0.      0.      0.  ]\n",
      " [ 129.56  326.08  119.48    0.      0.      0.  ]\n",
      " [ 119.48  119.48  357.5     0.      0.      0.  ]\n",
      " [   0.      0.      0.     92.54    0.      0.  ]\n",
      " [   0.      0.      0.      0.     92.54    0.  ]\n",
      " [   0.      0.      0.      0.      0.     98.26]]\n"
     ]
    }
   ],
   "source": [
    "c = am.ElasticConstants()\n",
    "c.hexagonal(C11=326.08, C33=357.50, C12=129.56, C13=119.48, C44=92.54, C66=c66)\n",
    "print(c)"
   ]
  },
  {
   "cell_type": "markdown",
   "metadata": {
    "collapsed": true,
    "deletable": true,
    "editable": true
   },
   "source": [
    "__Docs Navigation:__\n",
    "\n",
    "Tutorial:\n",
    "\n",
    "1. [Basics](../tutorial/1 Basics.ipynb)\n",
    "\n",
    "2. [LAMMPS Functionality](../tutorial/2 LAMMPS Functionality.ipynb)\n",
    "\n",
    "3. [Defect Generation and Evaluation](../tutorial/3 Defect Generation and Evaluation.ipynb)\n",
    "\n",
    "\n",
    "Reference:\n",
    "\n",
    "- [atomman](../reference/atomman.ipynb)\n",
    "\n",
    "- [atomman.convert](../reference/atomman.convert.ipynb)\n",
    "\n",
    "- [atomman.defect](../reference/atomman.defect.ipynb)\n",
    "\n",
    "- [atomman.lammps](../reference/atomman.lammps.ipynb)\n",
    "\n",
    "- [atomman.tools](../reference/atomman.tools.ipynb)\n",
    "\n",
    "- [atomman.unitconvert](../reference/atomman.unitconvert.ipynb)"
   ]
  }
 ],
 "metadata": {
  "kernelspec": {
   "display_name": "Python 2",
   "language": "python",
   "name": "python2"
  },
  "language_info": {
   "codemirror_mode": {
    "name": "ipython",
    "version": 2
   },
   "file_extension": ".py",
   "mimetype": "text/x-python",
   "name": "python",
   "nbconvert_exporter": "python",
   "pygments_lexer": "ipython2",
   "version": "2.7.13"
  }
 },
 "nbformat": 4,
 "nbformat_minor": 0
}
