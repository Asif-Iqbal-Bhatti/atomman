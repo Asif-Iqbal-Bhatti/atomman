{
 "cells": [
  {
   "cell_type": "markdown",
   "metadata": {},
   "source": [
    "# atomman.lammps.atom_data.dump(system, fname, units='metal', atom_style='atomic')\n",
    "\n",
    "- - -"
   ]
  },
  {
   "cell_type": "markdown",
   "metadata": {},
   "source": [
    "**Lucas M. Hale**, [lucas.hale@nist.gov](mailto:lucas.hale@nist.gov?Subject=ipr-demo), *Materials Science and Engineering Division, NIST*.\n",
    "\n",
    "**Chandler A. Becker**, [chandler.becker@nist.gov](mailto:chandler.becker@nist.gov?Subject=ipr-demo), *Office of Data and Informatics, NIST*.\n",
    "\n",
    "**Zachary T. Trautt**, [zachary.trautt@nist.gov](mailto:zachary.trautt@nist.gov?Subject=ipr-demo), *Materials Measurement Science Division, NIST*.\n",
    "\n",
    "Version: 2016-09-02\n",
    "\n",
    "[Disclaimers](http://www.nist.gov/public_affairs/disclaimer.cfm) \n",
    " \n",
    "- - -"
   ]
  },
  {
   "cell_type": "markdown",
   "metadata": {},
   "source": [
    "## Introduction\n",
    "\n",
    "The atom_data.dump function function writes a system's information to a LAMMPS atom data style file. In addition to creating the data file, the function will also return a string containing the LAMMPS input command lines associated with having LAMMPS properly read in the data file.\n",
    "\n",
    "Arguments:\n",
    "\n",
    "- __system__ = the [atomman.System](atomman.System.ipynb) to extract values from.\n",
    "\n",
    "- __fname__ = name (and location) of the file to write to.\n",
    "\n",
    "Keyword Arguments:\n",
    "\n",
    "- __units__ = the LAMMPS units option associated with the atom data file. Default is 'metal'.\n",
    " \n",
    "- __atom_style__ = the LAMMPS atom_style option associated with the atom data file. Default is 'atomic'.\n",
    "\n",
    "\n",
    "The underlying code can be found in [atomman/lammps/atom_data.py](https://github.com/usnistgov/atomman/blob/master/atomman/lammps/atom_data.py).\n",
    "\n",
    "- - -"
   ]
  },
  {
   "cell_type": "markdown",
   "metadata": {},
   "source": [
    "## Demonstration"
   ]
  },
  {
   "cell_type": "markdown",
   "metadata": {},
   "source": [
    "Library Imports"
   ]
  },
  {
   "cell_type": "code",
   "execution_count": 1,
   "metadata": {
    "collapsed": false
   },
   "outputs": [],
   "source": [
    "import os\n",
    "import atomman as am\n",
    "import atomman.lammps as lmp\n",
    "import numpy as np"
   ]
  },
  {
   "cell_type": "markdown",
   "metadata": {},
   "source": [
    "Create small demonstration system (GaAs unit cell)"
   ]
  },
  {
   "cell_type": "code",
   "execution_count": 2,
   "metadata": {
    "collapsed": false
   },
   "outputs": [
    {
     "name": "stdout",
     "output_type": "stream",
     "text": [
      "avect =  [ 5.650,  0.000,  0.000]\n",
      "bvect =  [ 0.000,  5.650,  0.000]\n",
      "cvect =  [ 0.000,  0.000,  5.650]\n",
      "origin = [ 0.000,  0.000,  0.000]\n",
      "natoms = 8\n",
      "natypes = 2\n",
      "     id |   atype |  pos[0] |  pos[1] |  pos[2]\n",
      "      0 |       1 |   0.000 |   0.000 |   0.000\n",
      "      1 |       1 |   2.825 |   0.000 |   2.825\n",
      "      2 |       1 |   2.825 |   2.825 |   0.000\n",
      "      3 |       1 |   0.000 |   2.825 |   2.825\n",
      "      4 |       2 |   1.413 |   1.413 |   1.413\n",
      "      5 |       2 |   4.238 |   4.238 |   1.413\n",
      "      6 |       2 |   1.413 |   4.238 |   4.238\n",
      "      7 |       2 |   4.238 |   1.413 |   4.238\n"
     ]
    }
   ],
   "source": [
    "prop_dict = {'atype': [1, 1, 1, 1, 2, 2, 2, 2],\n",
    "             'pos':  [[0.00, 0.00, 0.00],\n",
    "                      [0.50, 0.00, 0.50],\n",
    "                      [0.50, 0.50, 0.00],\n",
    "                      [0.00, 0.50, 0.50],\n",
    "                      [0.25, 0.25, 0.25],\n",
    "                      [0.75, 0.75, 0.25],\n",
    "                      [0.25, 0.75, 0.75],\n",
    "                      [0.75, 0.25, 0.75]]}\n",
    "\n",
    "atoms = am.Atoms(natoms=8, prop=prop_dict)\n",
    "box = am.Box(a=5.65, b=5.65, c=5.65)\n",
    "system = am.System(box=box, atoms=atoms, scale=True)\n",
    "print system"
   ]
  },
  {
   "cell_type": "markdown",
   "metadata": {},
   "source": [
    "### atom_style='atomic'\n",
    "\n",
    "The default atom_style 'atomic' only gives the atom ids, atom types, and positions."
   ]
  },
  {
   "cell_type": "markdown",
   "metadata": {},
   "source": [
    "Write system to an atom data file"
   ]
  },
  {
   "cell_type": "code",
   "execution_count": 3,
   "metadata": {
    "collapsed": false
   },
   "outputs": [],
   "source": [
    "system_info = lmp.atom_data.dump(system, 'test.data')"
   ]
  },
  {
   "cell_type": "markdown",
   "metadata": {},
   "source": [
    "Show the returned string of LAMMPS input commands"
   ]
  },
  {
   "cell_type": "code",
   "execution_count": 4,
   "metadata": {
    "collapsed": false
   },
   "outputs": [
    {
     "name": "stdout",
     "output_type": "stream",
     "text": [
      "#Script and atom data file prepared by AtomMan package\n",
      "\n",
      "units metal\n",
      "atom_style atomic\n",
      "boundary p p p \n",
      "read_data test.data\n"
     ]
    }
   ],
   "source": [
    "print system_info"
   ]
  },
  {
   "cell_type": "markdown",
   "metadata": {},
   "source": [
    "Show the contents of test.data"
   ]
  },
  {
   "cell_type": "code",
   "execution_count": 5,
   "metadata": {
    "collapsed": false
   },
   "outputs": [
    {
     "name": "stdout",
     "output_type": "stream",
     "text": [
      "\n",
      "8 atoms\n",
      "2 atom types\n",
      "0.0 5.6500000000000004 xlo xhi\n",
      "0.0 5.6500000000000004 ylo yhi\n",
      "0.0 5.6500000000000004 zlo zhi\n",
      "\n",
      "Atoms\n",
      "\n",
      "1 1 0.0000000000000e+00 0.0000000000000e+00 0.0000000000000e+00\n",
      "2 1 2.8250000000000e+00 0.0000000000000e+00 2.8250000000000e+00\n",
      "3 1 2.8250000000000e+00 2.8250000000000e+00 0.0000000000000e+00\n",
      "4 1 0.0000000000000e+00 2.8250000000000e+00 2.8250000000000e+00\n",
      "5 2 1.4125000000000e+00 1.4125000000000e+00 1.4125000000000e+00\n",
      "6 2 4.2375000000000e+00 4.2375000000000e+00 1.4125000000000e+00\n",
      "7 2 1.4125000000000e+00 4.2375000000000e+00 4.2375000000000e+00\n",
      "8 2 4.2375000000000e+00 1.4125000000000e+00 4.2375000000000e+00\n",
      "\n"
     ]
    }
   ],
   "source": [
    "with open('test.data') as f:\n",
    "    print f.read()"
   ]
  },
  {
   "cell_type": "markdown",
   "metadata": {},
   "source": [
    "Repeat, but use units='nano' where lengths are in nm instead of Angstroms"
   ]
  },
  {
   "cell_type": "code",
   "execution_count": 6,
   "metadata": {
    "collapsed": false
   },
   "outputs": [],
   "source": [
    "system_info = lmp.atom_data.dump(system, 'test.data', units='nano')"
   ]
  },
  {
   "cell_type": "markdown",
   "metadata": {},
   "source": [
    "Show the returned string of LAMMPS input commands"
   ]
  },
  {
   "cell_type": "code",
   "execution_count": 7,
   "metadata": {
    "collapsed": false
   },
   "outputs": [
    {
     "name": "stdout",
     "output_type": "stream",
     "text": [
      "#Script and atom data file prepared by AtomMan package\n",
      "\n",
      "units nano\n",
      "atom_style atomic\n",
      "boundary p p p \n",
      "read_data test.data\n"
     ]
    }
   ],
   "source": [
    "print system_info"
   ]
  },
  {
   "cell_type": "markdown",
   "metadata": {},
   "source": [
    "Show the contents of test.data"
   ]
  },
  {
   "cell_type": "code",
   "execution_count": 8,
   "metadata": {
    "collapsed": false
   },
   "outputs": [
    {
     "name": "stdout",
     "output_type": "stream",
     "text": [
      "\n",
      "8 atoms\n",
      "2 atom types\n",
      "0.0 0.56500000000000006 xlo xhi\n",
      "0.0 0.56500000000000006 ylo yhi\n",
      "0.0 0.56500000000000006 zlo zhi\n",
      "\n",
      "Atoms\n",
      "\n",
      "1 1 0.0000000000000e+00 0.0000000000000e+00 0.0000000000000e+00\n",
      "2 1 2.8250000000000e-01 0.0000000000000e+00 2.8250000000000e-01\n",
      "3 1 2.8250000000000e-01 2.8250000000000e-01 0.0000000000000e+00\n",
      "4 1 0.0000000000000e+00 2.8250000000000e-01 2.8250000000000e-01\n",
      "5 2 1.4125000000000e-01 1.4125000000000e-01 1.4125000000000e-01\n",
      "6 2 4.2375000000000e-01 4.2375000000000e-01 1.4125000000000e-01\n",
      "7 2 1.4125000000000e-01 4.2375000000000e-01 4.2375000000000e-01\n",
      "8 2 4.2375000000000e-01 1.4125000000000e-01 4.2375000000000e-01\n",
      "\n"
     ]
    }
   ],
   "source": [
    "with open('test.data') as f:\n",
    "    print f.read()"
   ]
  },
  {
   "cell_type": "markdown",
   "metadata": {},
   "source": [
    "### Alternate atom_styles"
   ]
  },
  {
   "cell_type": "markdown",
   "metadata": {},
   "source": [
    "Other atom_styles require additional atom properties to be defined to fully represent the 'Atoms' section of the atom data file.  The easiest way to find the necessary terms is to look at the keys of the dictionary returned by [style.atom](atomman.lammps.style.atom). A list of the LAMMPS atom_styles can be found on the [LAMMPS website](http://lammps.sandia.gov/doc/atom_style.html)."
   ]
  },
  {
   "cell_type": "code",
   "execution_count": 9,
   "metadata": {
    "collapsed": false
   },
   "outputs": [
    {
     "name": "stdout",
     "output_type": "stream",
     "text": [
      "['a_id', 'm_id', 'atype', 'q', 'pos']\n"
     ]
    }
   ],
   "source": [
    "print lmp.style.atom('full').keys()"
   ]
  },
  {
   "cell_type": "markdown",
   "metadata": {},
   "source": [
    "Here's a list of the per-atom property names that atomman uses for the different atom_style terms:\n",
    "\n",
    "- __m_id__ = integer molecule-ID\n",
    "\n",
    "- __q__ = charge on atom (charge units)\n",
    " \n",
    "- __diameter__ = diameter for atom_style 'sphere' (distance units)\n",
    "\n",
    "- __e_flag__ = boolean flag for atom_style 'ellipsoid' (0 or 1)\n",
    "\n",
    "- __l_flag__ = boolean flag for atom_style 'line' (0 or 1)\n",
    "\n",
    "- __t_flag__ = boolean flag for atom_style 'tri' (0 or 1)\n",
    "\n",
    "- __b_flag__ = boolean flag for atom_style 'body' (0 or 1)\n",
    "\n",
    "- __m_temp__ = molecule template-index for atom_style 'template'\n",
    "\n",
    "- __a_temp__ = atom template index for atom_style 'template'\n",
    "\n",
    "- __density__ = particle density (mass/distance^3 units)\n",
    "\n",
    "- __mass__ = mass of particle for atom_style 'body' (mass units)\n",
    "\n",
    "- __volume__ = volume of particle (distance^3 units)\n",
    "\n",
    "- __mux, muy, muz__ = components of dipole moment of atom for atom_style 'dipole' (dipole units)\n",
    "\n",
    "- __rho, e, cv__ = density, energy, heat capacity for atom_style 'meso' (None units)\n",
    "\n",
    "- __spin__ = integer electron spin for atom_styles 'electron' and 'wavepacket'\n",
    "\n",
    "- __eradius__ = electron radius or fixed-core radius for atom_styles 'electron' and 'wavepacket' (distance units)\n",
    "\n",
    "- __e_id__ = etag integer ID of electron that each wavepacket belongs to for atom_style 'wavepacket'\n",
    "\n",
    "- __cs_re, cs_im__ = real/imaginary parts of wavepacket coefficients for atom_style 'wavepacket'\n",
    "\n",
    "- __K_radius, c_radius__ = kernel_radius and contact_radius for atom_style 'smd' (distance units)"
   ]
  },
  {
   "cell_type": "markdown",
   "metadata": {},
   "source": [
    "atom_style='charge'"
   ]
  },
  {
   "cell_type": "code",
   "execution_count": 10,
   "metadata": {
    "collapsed": false
   },
   "outputs": [],
   "source": [
    "system.atoms_prop(key='q', value=[-1., -1., -1., -1., 1., 1., 1., 1.])\n",
    "system_info = lmp.atom_data.dump(system, 'test.data', atom_style='charge')"
   ]
  },
  {
   "cell_type": "markdown",
   "metadata": {},
   "source": [
    "Show the returned string of LAMMPS input commands"
   ]
  },
  {
   "cell_type": "code",
   "execution_count": 11,
   "metadata": {
    "collapsed": false
   },
   "outputs": [
    {
     "name": "stdout",
     "output_type": "stream",
     "text": [
      "#Script and atom data file prepared by AtomMan package\n",
      "\n",
      "units metal\n",
      "atom_style charge\n",
      "boundary p p p \n",
      "read_data test.data\n"
     ]
    }
   ],
   "source": [
    "print system_info"
   ]
  },
  {
   "cell_type": "markdown",
   "metadata": {},
   "source": [
    "Show the contents of test.data"
   ]
  },
  {
   "cell_type": "code",
   "execution_count": 12,
   "metadata": {
    "collapsed": false
   },
   "outputs": [
    {
     "name": "stdout",
     "output_type": "stream",
     "text": [
      "\n",
      "8 atoms\n",
      "2 atom types\n",
      "0.0 5.6500000000000004 xlo xhi\n",
      "0.0 5.6500000000000004 ylo yhi\n",
      "0.0 5.6500000000000004 zlo zhi\n",
      "\n",
      "Atoms\n",
      "\n",
      "1 1 -1.0000000000000e+00 0.0000000000000e+00 0.0000000000000e+00 0.0000000000000e+00\n",
      "2 1 -1.0000000000000e+00 2.8250000000000e+00 0.0000000000000e+00 2.8250000000000e+00\n",
      "3 1 -1.0000000000000e+00 2.8250000000000e+00 2.8250000000000e+00 0.0000000000000e+00\n",
      "4 1 -1.0000000000000e+00 0.0000000000000e+00 2.8250000000000e+00 2.8250000000000e+00\n",
      "5 2 1.0000000000000e+00 1.4125000000000e+00 1.4125000000000e+00 1.4125000000000e+00\n",
      "6 2 1.0000000000000e+00 4.2375000000000e+00 4.2375000000000e+00 1.4125000000000e+00\n",
      "7 2 1.0000000000000e+00 1.4125000000000e+00 4.2375000000000e+00 4.2375000000000e+00\n",
      "8 2 1.0000000000000e+00 4.2375000000000e+00 1.4125000000000e+00 4.2375000000000e+00\n",
      "\n"
     ]
    }
   ],
   "source": [
    "with open('test.data') as f:\n",
    "    print f.read()"
   ]
  },
  {
   "cell_type": "markdown",
   "metadata": {},
   "source": [
    "### Including Velocities information\n",
    "\n",
    "If a 'velocity' property is assigned to the atoms, then the velocity values will also be included in the data file.  "
   ]
  },
  {
   "cell_type": "code",
   "execution_count": 13,
   "metadata": {
    "collapsed": false
   },
   "outputs": [],
   "source": [
    "system.atoms_prop(key='velocity', value=np.random.rand(8,3))\n",
    "system_info = lmp.atom_data.dump(system, 'test.data')"
   ]
  },
  {
   "cell_type": "markdown",
   "metadata": {},
   "source": [
    "Show the returned string of LAMMPS input commands"
   ]
  },
  {
   "cell_type": "code",
   "execution_count": 14,
   "metadata": {
    "collapsed": false
   },
   "outputs": [
    {
     "name": "stdout",
     "output_type": "stream",
     "text": [
      "#Script and atom data file prepared by AtomMan package\n",
      "\n",
      "units metal\n",
      "atom_style atomic\n",
      "boundary p p p \n",
      "read_data test.data\n"
     ]
    }
   ],
   "source": [
    "print system_info"
   ]
  },
  {
   "cell_type": "markdown",
   "metadata": {},
   "source": [
    "Show the contents of test.data"
   ]
  },
  {
   "cell_type": "code",
   "execution_count": 15,
   "metadata": {
    "collapsed": false
   },
   "outputs": [
    {
     "name": "stdout",
     "output_type": "stream",
     "text": [
      "\n",
      "8 atoms\n",
      "2 atom types\n",
      "0.0 5.6500000000000004 xlo xhi\n",
      "0.0 5.6500000000000004 ylo yhi\n",
      "0.0 5.6500000000000004 zlo zhi\n",
      "\n",
      "Atoms\n",
      "\n",
      "1 1 0.0000000000000e+00 0.0000000000000e+00 0.0000000000000e+00\n",
      "2 1 2.8250000000000e+00 0.0000000000000e+00 2.8250000000000e+00\n",
      "3 1 2.8250000000000e+00 2.8250000000000e+00 0.0000000000000e+00\n",
      "4 1 0.0000000000000e+00 2.8250000000000e+00 2.8250000000000e+00\n",
      "5 2 1.4125000000000e+00 1.4125000000000e+00 1.4125000000000e+00\n",
      "6 2 4.2375000000000e+00 4.2375000000000e+00 1.4125000000000e+00\n",
      "7 2 1.4125000000000e+00 4.2375000000000e+00 4.2375000000000e+00\n",
      "8 2 4.2375000000000e+00 1.4125000000000e+00 4.2375000000000e+00\n",
      "\n",
      "Velocities\n",
      "\n",
      "1 3.5217312102415e-01 7.7499106258700e+01 8.4799320954286e+01\n",
      "2 6.7499430276946e+01 2.1692761312075e+01 4.9633360959123e+01\n",
      "3 3.2029126516348e+01 1.8223440831078e+01 9.3377686621986e+01\n",
      "4 1.4857619712371e+01 5.4915968213125e+01 1.3970680124341e+01\n",
      "5 2.1696149329127e+01 6.7985592953185e+01 7.7621788583537e+01\n",
      "6 9.4628113720818e+01 2.4580468691929e+01 1.3106963812131e+01\n",
      "7 9.2188145139260e+01 8.2123470773287e+01 1.3804644642471e+01\n",
      "8 1.9348684726099e+01 2.6841496205303e+01 7.5315919382202e+01\n",
      "\n"
     ]
    }
   ],
   "source": [
    "with open('test.data') as f:\n",
    "    print f.read()"
   ]
  },
  {
   "cell_type": "markdown",
   "metadata": {},
   "source": [
    "Depending on the atom_style, other velocity properties may be required to be defined:\n",
    "\n",
    "- __erval__ = electron radial velocity for atom_style 'electron' (velocity units)\n",
    "\n",
    "- __ang-momentum__ = angular momentum for atom_style 'ellipsoid' (angular momentum units)\n",
    "\n",
    "- __ang-velocity__ = angular velocity for atom_style 'sphere' (angular velocity units)"
   ]
  },
  {
   "cell_type": "markdown",
   "metadata": {},
   "source": [
    "File Cleanup"
   ]
  },
  {
   "cell_type": "code",
   "execution_count": 16,
   "metadata": {
    "collapsed": true
   },
   "outputs": [],
   "source": [
    "os.remove('test.data')"
   ]
  },
  {
   "cell_type": "markdown",
   "metadata": {},
   "source": [
    "- - -\n",
    "__Docs Navigation:__\n",
    "\n",
    "Tutorial:\n",
    "\n",
    "1. [Basics](../tutorial/1 Basics.ipynb)\n",
    "\n",
    "2. [LAMMPS Functionality](../tutorial/2 LAMMPS Functionality.ipynb)\n",
    "\n",
    "3. [Defect Generation and Evaluation](../tutorial/3 Defect Generation and Evaluation.ipynb)\n",
    "\n",
    "\n",
    "Reference:\n",
    "\n",
    "- [atomman](../reference/atomman.ipynb)\n",
    "\n",
    "- [atomman.convert](../reference/atomman.convert.ipynb)\n",
    "\n",
    "- [atomman.defect](../reference/atomman.defect.ipynb)\n",
    "\n",
    "- [atomman.lammps](../reference/atomman.lammps.ipynb)\n",
    "\n",
    "- [atomman.tools](../reference/atomman.tools.ipynb)\n",
    "\n",
    "- [atomman.unitconvert](../reference/atomman.unitconvert.ipynb)"
   ]
  }
 ],
 "metadata": {
  "kernelspec": {
   "display_name": "Python 2",
   "language": "python",
   "name": "python2"
  },
  "language_info": {
   "codemirror_mode": {
    "name": "ipython",
    "version": 2
   },
   "file_extension": ".py",
   "mimetype": "text/x-python",
   "name": "python",
   "nbconvert_exporter": "python",
   "pygments_lexer": "ipython2",
   "version": "2.7.11"
  }
 },
 "nbformat": 4,
 "nbformat_minor": 0
}
