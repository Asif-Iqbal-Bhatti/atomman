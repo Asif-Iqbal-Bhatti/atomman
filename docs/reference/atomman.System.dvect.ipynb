{
 "cells": [
  {
   "cell_type": "markdown",
   "metadata": {},
   "source": [
    "# atomman.System.dvect(self, pos_0, pos_1)\n",
    "\n",
    "- - -"
   ]
  },
  {
   "cell_type": "markdown",
   "metadata": {},
   "source": [
    "**Lucas M. Hale**, [lucas.hale@nist.gov](mailto:lucas.hale@nist.gov?Subject=ipr-demo), *Materials Science and Engineering Division, NIST*.\n",
    "\n",
    "**Chandler A. Becker**, [chandler.becker@nist.gov](mailto:chandler.becker@nist.gov?Subject=ipr-demo), *Office of Data and Informatics, NIST*.\n",
    "\n",
    "**Zachary T. Trautt**, [zachary.trautt@nist.gov](mailto:zachary.trautt@nist.gov?Subject=ipr-demo), *Materials Measurement Science Division, NIST*.\n",
    "\n",
    "Version: 2016-09-02\n",
    "\n",
    "[Disclaimers](http://www.nist.gov/public_affairs/disclaimer.cfm) \n",
    " \n",
    "- - -"
   ]
  },
  {
   "cell_type": "markdown",
   "metadata": {},
   "source": [
    "## Introduction\n",
    "\n",
    "The System.dvect method returns the shortest vector distance(s) between positions by accounting for box dimensions and periodic boundary conditions. This function uses numpy broadcasting and vectorization allowing for multiple distance vectors to be calculated at the same time. System.dvect either returns a single vector or a numpy array of vectors.\n",
    "\n",
    "Calling this method is similar to calling the [dvect](atomman.dvect.ipynb) function except that the parameters are tied to the System object the method is called from. As such, the boundary information is taken from System.box and System.pbc. The atomic positions can also be identified by supplying atom ids instead of vector positions.\n",
    "\n",
    "Keyword Arguments:\n",
    "\n",
    "- __pos_0__ -- starting position(s) to use. This may a single vector position, single atom id or a list (array) of either.\n",
    "\n",
    "- __pos_1__ -- final position(s) to use. This may a single vector position, single atom id or a list (array) of either.\n",
    "\n",
    "\n",
    "The underlying code can be found in [atomman/core/System.py](../../atomman/core/System.py)."
   ]
  },
  {
   "cell_type": "markdown",
   "metadata": {},
   "source": [
    "## Demonstration"
   ]
  },
  {
   "cell_type": "markdown",
   "metadata": {},
   "source": [
    "Library Imports"
   ]
  },
  {
   "cell_type": "code",
   "execution_count": 1,
   "metadata": {
    "collapsed": false
   },
   "outputs": [],
   "source": [
    "#External library imports\n",
    "import numpy as np\n",
    "\n",
    "#atomman imports\n",
    "import atomman as am"
   ]
  },
  {
   "cell_type": "markdown",
   "metadata": {},
   "source": [
    "Create a dummy system with two atoms for demonstration purposes"
   ]
  },
  {
   "cell_type": "code",
   "execution_count": 3,
   "metadata": {
    "collapsed": false
   },
   "outputs": [
    {
     "name": "stdout",
     "output_type": "stream",
     "text": [
      "avect =  [10.000,  0.000,  0.000]\n",
      "bvect =  [ 0.000, 10.000,  0.000]\n",
      "cvect =  [ 0.000,  0.000, 10.000]\n",
      "origin = [ 0.000,  0.000,  0.000]\n",
      "natoms = 2\n",
      "natypes = 1\n",
      "     id |   atype |  pos[0] |  pos[1] |  pos[2]\n",
      "      0 |       1 |   1.000 |   1.000 |   1.000\n",
      "      1 |       1 |   9.000 |   9.000 |   9.000\n"
     ]
    }
   ],
   "source": [
    "atoms = am.Atoms(natoms=2)\n",
    "atoms.prop(key='atype', value=1)\n",
    "atoms.prop(key='pos', value=np.array([[1, 1, 1],\n",
    "                                      [9, 9, 9]]))\n",
    "box = am.Box(a=10, b=10, c=10)\n",
    "\n",
    "system = am.System(atoms=atoms, box=box)\n",
    "print system"
   ]
  },
  {
   "cell_type": "markdown",
   "metadata": {},
   "source": [
    "System.dvect can be called using atom ids, in which case the shortest vector distance between the two atom's positions are returned"
   ]
  },
  {
   "cell_type": "code",
   "execution_count": 4,
   "metadata": {
    "collapsed": false
   },
   "outputs": [
    {
     "name": "stdout",
     "output_type": "stream",
     "text": [
      "[-2. -2. -2.]\n"
     ]
    }
   ],
   "source": [
    "print system.dvect(0,1)"
   ]
  },
  {
   "cell_type": "markdown",
   "metadata": {},
   "source": [
    "The positions of all the atoms can also be identified relative to an arbitrary coordinate inside System.box."
   ]
  },
  {
   "cell_type": "code",
   "execution_count": 10,
   "metadata": {
    "collapsed": false
   },
   "outputs": [
    {
     "name": "stdout",
     "output_type": "stream",
     "text": [
      "[[ 4.  4.  4.]\n",
      " [-4. -4. -4.]]\n"
     ]
    }
   ],
   "source": [
    "center = np.array([5,5,5], dtype=float)\n",
    "print system.dvect(range(system.natoms), center)"
   ]
  },
  {
   "cell_type": "markdown",
   "metadata": {},
   "source": [
    "Just like dvect, both pos terms can be lists of vectors of the same length"
   ]
  },
  {
   "cell_type": "code",
   "execution_count": 12,
   "metadata": {
    "collapsed": false
   },
   "outputs": [
    {
     "name": "stdout",
     "output_type": "stream",
     "text": [
      "[[ 4.49136634  0.1241911   4.54337572]\n",
      " [ 7.79310636  1.48451035  1.90279803]\n",
      " [ 0.94810689  8.09940293  8.20887778]\n",
      " [ 3.88081171  7.62238363  8.28088137]\n",
      " [ 2.01589577  7.97102655  9.64073669]\n",
      " [ 6.94014886  6.59982752  1.60551587]\n",
      " [ 4.01311757  8.84526961  4.12455864]\n",
      " [ 9.2974802   4.84187709  7.58374473]\n",
      " [ 4.67598699  5.45689164  1.82520359]\n",
      " [ 0.09442126  7.72739633  9.12141568]]\n"
     ]
    }
   ],
   "source": [
    "pos_0 = 10 * np.random.random((10,3))\n",
    "print pos_0"
   ]
  },
  {
   "cell_type": "code",
   "execution_count": 13,
   "metadata": {
    "collapsed": false
   },
   "outputs": [
    {
     "name": "stdout",
     "output_type": "stream",
     "text": [
      "[[ 1.1296122   4.35156509  8.25798949]\n",
      " [ 8.07639199  0.83815118  0.1612645 ]\n",
      " [ 5.02980593  5.31032696  7.05127767]\n",
      " [ 2.8919311   0.33734377  1.76766647]\n",
      " [ 6.73501227  0.77966334  2.28887058]\n",
      " [ 6.38080382  6.6434251   3.03345795]\n",
      " [ 7.23087164  8.96875921  5.63175638]\n",
      " [ 7.7839182   8.45774546  3.27161377]\n",
      " [ 4.68123651  9.10289278  8.9511613 ]\n",
      " [ 0.53781383  7.48085394  3.84928853]]\n"
     ]
    }
   ],
   "source": [
    "pos_1 = 10 * np.random.random((10,3))\n",
    "print pos_1"
   ]
  },
  {
   "cell_type": "code",
   "execution_count": 14,
   "metadata": {
    "collapsed": false
   },
   "outputs": [
    {
     "name": "stdout",
     "output_type": "stream",
     "text": [
      "[[-3.36175414  4.22737399  3.71461377]\n",
      " [ 0.28328563 -0.64635916 -1.74153352]\n",
      " [ 4.08169904 -2.78907597 -1.15760011]\n",
      " [-0.98888061  2.71496014  3.4867851 ]\n",
      " [ 4.7191165   2.80863678  2.64813389]\n",
      " [-0.55934504  0.04359757  1.42794208]\n",
      " [ 3.21775407  0.12348961  1.50719775]\n",
      " [-1.51356201  3.61586838 -4.31213096]\n",
      " [ 0.00524952  3.64600114 -2.8740423 ]\n",
      " [ 0.44339256 -0.24654239  4.72787284]]\n"
     ]
    }
   ],
   "source": [
    "print system.dvect(pos_0, pos_1)"
   ]
  },
  {
   "cell_type": "markdown",
   "metadata": {
    "collapsed": true
   },
   "source": [
    "- - -\n",
    "__Docs Navigation:__\n",
    "\n",
    "Tutorial:\n",
    "\n",
    "1. [Basics](../tutorial/1 Basics.ipynb)\n",
    "\n",
    "2. [LAMMPS Functionality](../tutorial/2 LAMMPS Functionality.ipynb)\n",
    "\n",
    "3. [Defect Generation and Evaluation](../tutorial/3 Defect Generation and Evaluation.ipynb)\n",
    "\n",
    "\n",
    "Reference:\n",
    "\n",
    "- [atomman](../reference/atomman.ipynb)\n",
    "\n",
    "- [atomman.convert](../reference/atomman.convert.ipynb)\n",
    "\n",
    "- [atomman.defect](../reference/atomman.defect.ipynb)\n",
    "\n",
    "- [atomman.lammps](../reference/atomman.lammps.ipynb)\n",
    "\n",
    "- [atomman.tools](../reference/atomman.tools.ipynb)\n",
    "\n",
    "- [atomman.unitconvert](../reference/atomman.unitconvert.ipynb)"
   ]
  }
 ],
 "metadata": {
  "kernelspec": {
   "display_name": "Python 2",
   "language": "python",
   "name": "python2"
  },
  "language_info": {
   "codemirror_mode": {
    "name": "ipython",
    "version": 2
   },
   "file_extension": ".py",
   "mimetype": "text/x-python",
   "name": "python",
   "nbconvert_exporter": "python",
   "pygments_lexer": "ipython2",
   "version": "2.7.11"
  }
 },
 "nbformat": 4,
 "nbformat_minor": 0
}
