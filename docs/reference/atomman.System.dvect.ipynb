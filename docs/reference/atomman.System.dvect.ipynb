{
 "cells": [
  {
   "cell_type": "markdown",
   "metadata": {
    "deletable": true,
    "editable": true
   },
   "source": [
    "# atomman.System.dvect(self, pos_0, pos_1)\n",
    "\n",
    "- - -"
   ]
  },
  {
   "cell_type": "markdown",
   "metadata": {
    "deletable": true,
    "editable": true
   },
   "source": [
    "**Lucas M. Hale**, [lucas.hale@nist.gov](mailto:lucas.hale@nist.gov?Subject=ipr-demo), *Materials Science and Engineering Division, NIST*.\n",
    "\n",
    "**Chandler A. Becker**, [chandler.becker@nist.gov](mailto:chandler.becker@nist.gov?Subject=ipr-demo), *Office of Data and Informatics, NIST*.\n",
    "\n",
    "**Zachary T. Trautt**, [zachary.trautt@nist.gov](mailto:zachary.trautt@nist.gov?Subject=ipr-demo), *Materials Measurement Science Division, NIST*.\n",
    "\n",
    "Version: 2017-04-19\n",
    "\n",
    "[Disclaimers](http://www.nist.gov/public_affairs/disclaimer.cfm) \n",
    " \n",
    "- - -"
   ]
  },
  {
   "cell_type": "markdown",
   "metadata": {
    "deletable": true,
    "editable": true
   },
   "source": [
    "## Introduction\n",
    "\n",
    "The System.dvect method returns the shortest vector distance(s) between positions by accounting for box dimensions and periodic boundary conditions. This function uses numpy broadcasting and vectorization allowing for multiple distance vectors to be calculated at the same time. System.dvect either returns a single vector or a numpy array of vectors.\n",
    "\n",
    "Calling this method is similar to calling the [dvect](atomman.dvect.ipynb) function except that the parameters are tied to the System object the method is called from. As such, the boundary information is taken from System.box and System.pbc. The atomic positions can also be identified by supplying atom ids instead of vector positions.\n",
    "\n",
    "Keyword Arguments:\n",
    "\n",
    "- __pos_0__ -- starting position(s) to use. This may a single vector position, single atom id or a list (array) of either.\n",
    "\n",
    "- __pos_1__ -- final position(s) to use. This may a single vector position, single atom id or a list (array) of either.\n",
    "\n",
    "\n",
    "The underlying code can be found in [atomman/core/System.py](../../atomman/core/System.py)."
   ]
  },
  {
   "cell_type": "markdown",
   "metadata": {
    "deletable": true,
    "editable": true
   },
   "source": [
    "## Demonstration"
   ]
  },
  {
   "cell_type": "markdown",
   "metadata": {
    "deletable": true,
    "editable": true
   },
   "source": [
    "Library Imports"
   ]
  },
  {
   "cell_type": "code",
   "execution_count": 1,
   "metadata": {
    "collapsed": false,
    "deletable": true,
    "editable": true
   },
   "outputs": [],
   "source": [
    "#Standard libraries\n",
    "from __future__ import print_function\n",
    "\n",
    "#http://www.numpy.org/\n",
    "import numpy as np    \n",
    "\n",
    "#https://github.com/usnistgov/atomman\n",
    "import atomman as am        "
   ]
  },
  {
   "cell_type": "markdown",
   "metadata": {
    "deletable": true,
    "editable": true
   },
   "source": [
    "Create a dummy system with two atoms for demonstration purposes"
   ]
  },
  {
   "cell_type": "code",
   "execution_count": 2,
   "metadata": {
    "collapsed": false,
    "deletable": true,
    "editable": true
   },
   "outputs": [
    {
     "name": "stdout",
     "output_type": "stream",
     "text": [
      "avect =  [10.000,  0.000,  0.000]\n",
      "bvect =  [ 0.000, 10.000,  0.000]\n",
      "cvect =  [ 0.000,  0.000, 10.000]\n",
      "origin = [ 0.000,  0.000,  0.000]\n",
      "natoms = 2\n",
      "natypes = 1\n",
      "     id |   atype |  pos[0] |  pos[1] |  pos[2]\n",
      "      0 |       1 |   1.000 |   1.000 |   1.000\n",
      "      1 |       1 |   9.000 |   9.000 |   9.000\n"
     ]
    }
   ],
   "source": [
    "atoms = am.Atoms(natoms=2)\n",
    "atoms.prop(key='atype', value=1)\n",
    "atoms.prop(key='pos', value=np.array([[1, 1, 1],\n",
    "                                      [9, 9, 9]]))\n",
    "box = am.Box(a=10, b=10, c=10)\n",
    "\n",
    "system = am.System(atoms=atoms, box=box)\n",
    "print(system)"
   ]
  },
  {
   "cell_type": "markdown",
   "metadata": {
    "deletable": true,
    "editable": true
   },
   "source": [
    "System.dvect can be called using atom ids, in which case the shortest vector distance between the two atom's positions are returned"
   ]
  },
  {
   "cell_type": "code",
   "execution_count": 3,
   "metadata": {
    "collapsed": false,
    "deletable": true,
    "editable": true
   },
   "outputs": [
    {
     "name": "stdout",
     "output_type": "stream",
     "text": [
      "[-2. -2. -2.]\n"
     ]
    }
   ],
   "source": [
    "print(system.dvect(0,1))"
   ]
  },
  {
   "cell_type": "markdown",
   "metadata": {
    "deletable": true,
    "editable": true
   },
   "source": [
    "The positions of all the atoms can also be identified relative to an arbitrary coordinate inside System.box."
   ]
  },
  {
   "cell_type": "code",
   "execution_count": 4,
   "metadata": {
    "collapsed": false,
    "deletable": true,
    "editable": true
   },
   "outputs": [
    {
     "name": "stdout",
     "output_type": "stream",
     "text": [
      "[[ 4.  4.  4.]\n",
      " [-4. -4. -4.]]\n"
     ]
    }
   ],
   "source": [
    "center = np.array([5,5,5], dtype=float)\n",
    "print(system.dvect(range(system.natoms), center))"
   ]
  },
  {
   "cell_type": "markdown",
   "metadata": {
    "deletable": true,
    "editable": true
   },
   "source": [
    "Just like dvect, both pos terms can be lists of vectors of the same length"
   ]
  },
  {
   "cell_type": "code",
   "execution_count": 5,
   "metadata": {
    "collapsed": false,
    "deletable": true,
    "editable": true
   },
   "outputs": [
    {
     "name": "stdout",
     "output_type": "stream",
     "text": [
      "[[ 2.06248621  6.28727748  0.57483493]\n",
      " [ 9.75765734  4.62706864  4.40795902]\n",
      " [ 1.57452356  8.16095939  1.30526439]\n",
      " [ 9.95939101  9.46173021  8.6810033 ]\n",
      " [ 6.30535128  4.27487269  0.73428159]\n",
      " [ 0.08601418  2.57236833  4.24917494]\n",
      " [ 3.68433567  2.61136767  4.52587741]\n",
      " [ 5.49010908  3.50616174  3.80542078]\n",
      " [ 4.28740791  0.73877695  8.40726666]\n",
      " [ 2.20552953  7.43682172  0.60477309]]\n"
     ]
    }
   ],
   "source": [
    "pos_0 = 10 * np.random.random((10,3))\n",
    "print(pos_0)"
   ]
  },
  {
   "cell_type": "code",
   "execution_count": 6,
   "metadata": {
    "collapsed": false,
    "deletable": true,
    "editable": true
   },
   "outputs": [
    {
     "name": "stdout",
     "output_type": "stream",
     "text": [
      "[[ 5.33221514  8.17433189  3.43755677]\n",
      " [ 4.71264008  3.11878846  7.67504195]\n",
      " [ 9.43095843  5.50807638  7.31188563]\n",
      " [ 1.12433897  4.83471149  8.57441241]\n",
      " [ 8.30953078  9.71587684  2.50342591]\n",
      " [ 1.35998508  7.86229369  3.12282685]\n",
      " [ 7.73907782  6.09779371  7.38339459]\n",
      " [ 5.22164229  6.73588727  9.00379161]\n",
      " [ 7.93845316  6.09875521  1.15460754]\n",
      " [ 7.48188991  1.85609324  8.6812057 ]]\n"
     ]
    }
   ],
   "source": [
    "pos_1 = 10 * np.random.random((10,3))\n",
    "print(pos_1)"
   ]
  },
  {
   "cell_type": "code",
   "execution_count": 7,
   "metadata": {
    "collapsed": false,
    "deletable": true,
    "editable": true
   },
   "outputs": [
    {
     "name": "stdout",
     "output_type": "stream",
     "text": [
      "[[ 3.26972894  1.88705441  2.86272183]\n",
      " [ 4.95498275 -1.50828018  3.26708294]\n",
      " [-2.14356513 -2.65288301 -3.99337876]\n",
      " [ 1.16494796 -4.62701872 -0.10659089]\n",
      " [ 2.0041795  -4.55899585  1.76914432]\n",
      " [ 1.2739709  -4.71007463 -1.12634809]\n",
      " [ 4.05474215  3.48642604  2.85751718]\n",
      " [-0.26846679  3.22972553 -4.80162917]\n",
      " [ 3.65104525 -4.64002174  2.74734089]\n",
      " [-4.72363962  4.41927152 -1.92356739]]\n"
     ]
    }
   ],
   "source": [
    "print(system.dvect(pos_0, pos_1))"
   ]
  },
  {
   "cell_type": "markdown",
   "metadata": {
    "collapsed": true,
    "deletable": true,
    "editable": true
   },
   "source": [
    "- - -\n",
    "__Docs Navigation:__\n",
    "\n",
    "Tutorial:\n",
    "\n",
    "1. [Basics](../tutorial/1 Basics.ipynb)\n",
    "\n",
    "2. [LAMMPS Functionality](../tutorial/2 LAMMPS Functionality.ipynb)\n",
    "\n",
    "3. [Defect Generation and Evaluation](../tutorial/3 Defect Generation and Evaluation.ipynb)\n",
    "\n",
    "\n",
    "Reference:\n",
    "\n",
    "- [atomman](../reference/atomman.ipynb)\n",
    "\n",
    "- [atomman.convert](../reference/atomman.convert.ipynb)\n",
    "\n",
    "- [atomman.defect](../reference/atomman.defect.ipynb)\n",
    "\n",
    "- [atomman.lammps](../reference/atomman.lammps.ipynb)\n",
    "\n",
    "- [atomman.tools](../reference/atomman.tools.ipynb)\n",
    "\n",
    "- [atomman.unitconvert](../reference/atomman.unitconvert.ipynb)"
   ]
  }
 ],
 "metadata": {
  "kernelspec": {
   "display_name": "Python 2",
   "language": "python",
   "name": "python2"
  },
  "language_info": {
   "codemirror_mode": {
    "name": "ipython",
    "version": 2
   },
   "file_extension": ".py",
   "mimetype": "text/x-python",
   "name": "python",
   "nbconvert_exporter": "python",
   "pygments_lexer": "ipython2",
   "version": "2.7.13"
  }
 },
 "nbformat": 4,
 "nbformat_minor": 0
}
