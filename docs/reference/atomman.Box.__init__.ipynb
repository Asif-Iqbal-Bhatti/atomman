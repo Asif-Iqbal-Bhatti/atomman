{
 "cells": [
  {
   "cell_type": "markdown",
   "metadata": {},
   "source": [
    "# atomman.Box.\\__init__(self, \\**kwargs) \n",
    "\n",
    "- - -"
   ]
  },
  {
   "cell_type": "markdown",
   "metadata": {},
   "source": [
    "**Lucas M. Hale**, [lucas.hale@nist.gov](mailto:lucas.hale@nist.gov?Subject=ipr-demo), *Materials Science and Engineering Division, NIST*.\n",
    "\n",
    "**Chandler A. Becker**, [chandler.becker@nist.gov](mailto:chandler.becker@nist.gov?Subject=ipr-demo), *Office of Data and Informatics, NIST*.\n",
    "\n",
    "**Zachary T. Trautt**, [zachary.trautt@nist.gov](mailto:zachary.trautt@nist.gov?Subject=ipr-demo), *Materials Measurement Science Division, NIST*.\n",
    "\n",
    "Version: 2016-09-02\n",
    "\n",
    "[Disclaimers](http://www.nist.gov/public_affairs/disclaimer.cfm) \n",
    " \n",
    "- - -"
   ]
  },
  {
   "cell_type": "markdown",
   "metadata": {},
   "source": [
    "## Introduction\n",
    "\n",
    "The initializer for a Box class allows for a general parallelopid to be defined in a variety of ways. The initializer calls [Box.set()](atomman.Box.set.ipynb), which in turn calls one of the other set methods based on the supplied keyword arguments. In this way, a Box can only be initialized by supplying no arguments or a set of arguments fully defining the Box. Due to the various representations of the parameters, a Box can only be defined/changed by supplying an unambiguous set of parameters. \n",
    "\n",
    "Keyword Arguments:\n",
    "\n",
    "- __avect__ -- the 3D a vector.\n",
    "\n",
    "- __bvect__ -- the 3D b vector.\n",
    "\n",
    "- __cvect__ -- the 3D c vector.\n",
    "\n",
    "- __origin__ -- the 3D vector position of the origin. Default value is (0,0,0).\n",
    "\n",
    "- __vects__ -- a 3x3 array containing all three lattice vectors: [avect, bvect, cvect].\n",
    "\n",
    "- __a__ -- the a crystallographic lattice parameter (magnitude of avect).\n",
    "\n",
    "- __b__ -- the b crystallographic lattice parameter (magnitude of bvect).\n",
    "\n",
    "- __c__ -- the c crystallographic lattice parameter (magnitude of cvect).\n",
    "\n",
    "- __alpha__ -- the alpha crystallographic lattice angle in degrees (angle between bvect and cvect).\n",
    "\n",
    "- __beta__ -- the beta crystallographic lattice angle in degrees (angle between avect and cvect).\n",
    "\n",
    "- __gamma__ -- the gamma crystallographic lattice angle in degrees (angle between avect and cvect).\n",
    "\n",
    "- __lx__ -- the LAMMPS x direction box length.\n",
    "\n",
    "- __ly__ -- the LAMMPS y direction box length.\n",
    "\n",
    "- __lz__ -- the LAMMPS z direction box length.\n",
    "\n",
    "- __xy__ -- the LAMMPS xy tilt factor.\n",
    "\n",
    "- __xz__ -- the LAMMPS xz tilt factor.\n",
    "\n",
    "- __yz__ -- the LAMMPS yz tilt factor.\n",
    "\n",
    "- __xlo__ -- the LAMMPS xlo parameter.\n",
    "\n",
    "- __xhi__ -- the LAMMPS xhi parameter.\n",
    "\n",
    "- __ylo__ -- the LAMMPS ylo parameter.\n",
    "\n",
    "- __yhi__ -- the LAMMPS yhi parameter.\n",
    "\n",
    "- __zlo__ -- the LAMMPS zlo parameter.\n",
    "\n",
    "- __zhi__ -- the LAMMPS zhi parameter.\n",
    "\n",
    "\n",
    "The underlying code can be found in [atomman/core/Box.py](../../atomman/core/Box.py).\n",
    "\n",
    "- - -"
   ]
  },
  {
   "cell_type": "markdown",
   "metadata": {},
   "source": [
    "## Demonstration"
   ]
  },
  {
   "cell_type": "markdown",
   "metadata": {},
   "source": [
    "Library Imports"
   ]
  },
  {
   "cell_type": "code",
   "execution_count": 1,
   "metadata": {
    "collapsed": true
   },
   "outputs": [],
   "source": [
    "import atomman as am"
   ]
  },
  {
   "cell_type": "markdown",
   "metadata": {},
   "source": [
    "### Initilizing with no arguments\n",
    "\n",
    "The default Box is a unit cube with origin at (0,0,0)"
   ]
  },
  {
   "cell_type": "code",
   "execution_count": 2,
   "metadata": {
    "collapsed": false
   },
   "outputs": [
    {
     "name": "stdout",
     "output_type": "stream",
     "text": [
      "avect =  [ 1.000,  0.000,  0.000]\n",
      "bvect =  [ 0.000,  1.000,  0.000]\n",
      "cvect =  [ 0.000,  0.000,  1.000]\n",
      "origin = [ 0.000,  0.000,  0.000]\n"
     ]
    }
   ],
   "source": [
    "box = am.Box()\n",
    "print box"
   ]
  },
  {
   "cell_type": "markdown",
   "metadata": {},
   "source": [
    "### Initializing with avect, bvect, cvect (and origin)\n",
    "\n",
    "No limitations are placed on avect, bvect, and cvect."
   ]
  },
  {
   "cell_type": "code",
   "execution_count": 3,
   "metadata": {
    "collapsed": false
   },
   "outputs": [
    {
     "name": "stdout",
     "output_type": "stream",
     "text": [
      "avect =  [ 3.200,  0.000,  0.000]\n",
      "bvect =  [ 0.000,  3.200,  0.000]\n",
      "cvect =  [ 0.000,  0.000,  3.200]\n",
      "origin = [ 0.000,  0.000,  0.000]\n"
     ]
    }
   ],
   "source": [
    "box = am.Box(avect=[3.2, 0, 0], bvect=[0, 3.2, 0], cvect=[0,0,3.2])\n",
    "print box"
   ]
  },
  {
   "cell_type": "code",
   "execution_count": 4,
   "metadata": {
    "collapsed": false
   },
   "outputs": [
    {
     "name": "stdout",
     "output_type": "stream",
     "text": [
      "avect =  [ 3.200,  0.000,  0.000]\n",
      "bvect =  [ 0.000,  3.200,  0.000]\n",
      "cvect =  [ 0.000,  0.000,  3.200]\n",
      "origin = [-1.600, -1.600, -1.600]\n"
     ]
    }
   ],
   "source": [
    "box = am.Box(avect=[3.2, 0, 0], bvect=[0, 3.2, 0], cvect=[0,0,3.2], origin=[-1.6, -1.6, -1.6])\n",
    "print box"
   ]
  },
  {
   "cell_type": "markdown",
   "metadata": {},
   "source": [
    "### Initializing with vects (and origin)\n",
    "\n",
    "No limitations are placed on avect, bvect, and cvect."
   ]
  },
  {
   "cell_type": "code",
   "execution_count": 5,
   "metadata": {
    "collapsed": false
   },
   "outputs": [
    {
     "name": "stdout",
     "output_type": "stream",
     "text": [
      "avect =  [ 2.850,  0.000,  0.000]\n",
      "bvect =  [ 0.400,  2.760,  0.000]\n",
      "cvect =  [ 0.100,  0.300,  2.660]\n",
      "origin = [ 0.000,  0.000,  0.000]\n"
     ]
    }
   ],
   "source": [
    "box = am.Box(vects=[[2.85, 0, 0], [0.4, 2.76, 0], [0.1,0.3,2.66]])\n",
    "print box"
   ]
  },
  {
   "cell_type": "markdown",
   "metadata": {},
   "source": [
    "### Initializing with a, b, c, (alpha, beta, gamma, and origin)\n",
    "\n",
    "Any angles not given are taken by default to be 90. The resulting Box is constructed to be normalized to work in LAMMPS.  "
   ]
  },
  {
   "cell_type": "code",
   "execution_count": 6,
   "metadata": {
    "collapsed": false
   },
   "outputs": [
    {
     "name": "stdout",
     "output_type": "stream",
     "text": [
      "avect =  [12.250,  0.000,  0.000]\n",
      "bvect =  [ 0.000, 12.250,  0.000]\n",
      "cvect =  [ 0.000,  0.000, 12.250]\n",
      "origin = [ 0.000,  0.000,  0.000]\n"
     ]
    }
   ],
   "source": [
    "box = am.Box(a=12.25, b=12.25, c=12.25)\n",
    "print box"
   ]
  },
  {
   "cell_type": "code",
   "execution_count": 7,
   "metadata": {
    "collapsed": false
   },
   "outputs": [
    {
     "name": "stdout",
     "output_type": "stream",
     "text": [
      "avect =  [ 2.941,  0.000,  0.000]\n",
      "bvect =  [ 1.470,  2.547,  0.000]\n",
      "cvect =  [ 0.000,  0.000,  4.772]\n",
      "origin = [ 0.100,  0.100,  0.100]\n"
     ]
    }
   ],
   "source": [
    "box = am.Box(a=2.9405, b=2.9405, c=4.7722, gamma=60, origin=[0.1, 0.1, 0.1])\n",
    "print box"
   ]
  },
  {
   "cell_type": "markdown",
   "metadata": {},
   "source": [
    "### Initializing with lx, ly, lz, (xy, xz, yz, and origin)\n",
    "\n",
    "Any tilt-factors (xy, xz, yz) not given are taken to be zero. "
   ]
  },
  {
   "cell_type": "code",
   "execution_count": 8,
   "metadata": {
    "collapsed": false
   },
   "outputs": [
    {
     "name": "stdout",
     "output_type": "stream",
     "text": [
      "avect =  [150.000,  0.000,  0.000]\n",
      "bvect =  [ 0.000, 200.000,  0.000]\n",
      "cvect =  [ 0.000,  0.000, 20.000]\n",
      "origin = [ 0.000,  0.000,  0.000]\n"
     ]
    }
   ],
   "source": [
    "box = am.Box(lx=150, ly=200, lz=20)\n",
    "print box"
   ]
  },
  {
   "cell_type": "code",
   "execution_count": 9,
   "metadata": {
    "collapsed": false
   },
   "outputs": [
    {
     "name": "stdout",
     "output_type": "stream",
     "text": [
      "avect =  [150.000,  0.000,  0.000]\n",
      "bvect =  [ 0.000, 200.000,  0.000]\n",
      "cvect =  [10.000,  0.000, 20.000]\n",
      "origin = [75.000, 100.000,  5.000]\n"
     ]
    }
   ],
   "source": [
    "box = am.Box(lx=150, ly=200, lz=20, xz=10, origin=[75, 100, 5])\n",
    "print box"
   ]
  },
  {
   "cell_type": "markdown",
   "metadata": {},
   "source": [
    "### Initializing with xlo, xhi, ylo, yhi, zlo, zhi, (xy, xz, and yz)\n",
    "\n",
    "Any tilt-factors (xy, xz, yz) not given are taken to be zero. Note that origin is not allowed for this variation as it is given by xlo, ylo, zlo."
   ]
  },
  {
   "cell_type": "code",
   "execution_count": 10,
   "metadata": {
    "collapsed": false
   },
   "outputs": [
    {
     "name": "stdout",
     "output_type": "stream",
     "text": [
      "avect =  [20.000,  0.000,  0.000]\n",
      "bvect =  [ 0.000, 30.000,  0.000]\n",
      "cvect =  [ 0.000,  0.000, 18.000]\n",
      "origin = [-10.000, -15.000, -9.000]\n"
     ]
    }
   ],
   "source": [
    "box = am.Box(xlo=-10, xhi=10, ylo=-15, yhi=15, zlo=-9, zhi=9)\n",
    "print box"
   ]
  },
  {
   "cell_type": "code",
   "execution_count": 11,
   "metadata": {
    "collapsed": false
   },
   "outputs": [
    {
     "name": "stdout",
     "output_type": "stream",
     "text": [
      "avect =  [ 4.250,  0.000,  0.000]\n",
      "bvect =  [ 0.100,  4.250,  0.000]\n",
      "cvect =  [ 0.000,  0.000,  4.250]\n",
      "origin = [ 0.000,  0.000,  0.000]\n"
     ]
    }
   ],
   "source": [
    "box = am.Box(xlo=0, xhi=4.25, ylo=0, yhi=4.25, zlo=0, zhi=4.25, xy=0.1)\n",
    "print box"
   ]
  },
  {
   "cell_type": "markdown",
   "metadata": {},
   "source": [
    "__Docs Navigation:__\n",
    "\n",
    "Tutorial:\n",
    "\n",
    "1. [Basics](../tutorial/1 Basics.ipynb)\n",
    "\n",
    "2. [LAMMPS Functionality](../tutorial/2 LAMMPS Functionality.ipynb)\n",
    "\n",
    "3. [Defect Generation and Evaluation](../tutorial/3 Defect Generation and Evaluation.ipynb)\n",
    "\n",
    "\n",
    "Reference:\n",
    "\n",
    "- [atomman](../reference/atomman.ipynb)\n",
    "\n",
    "- [atomman.convert](../reference/atomman.convert.ipynb)\n",
    "\n",
    "- [atomman.defect](../reference/atomman.defect.ipynb)\n",
    "\n",
    "- [atomman.lammps](../reference/atomman.lammps.ipynb)\n",
    "\n",
    "- [atomman.tools](../reference/atomman.tools.ipynb)\n",
    "\n",
    "- [atomman.unitconvert](../reference/atomman.unitconvert.ipynb)"
   ]
  }
 ],
 "metadata": {
  "kernelspec": {
   "display_name": "Python 2",
   "language": "python",
   "name": "python2"
  },
  "language_info": {
   "codemirror_mode": {
    "name": "ipython",
    "version": 2
   },
   "file_extension": ".py",
   "mimetype": "text/x-python",
   "name": "python",
   "nbconvert_exporter": "python",
   "pygments_lexer": "ipython2",
   "version": "2.7.11"
  }
 },
 "nbformat": 4,
 "nbformat_minor": 0
}
