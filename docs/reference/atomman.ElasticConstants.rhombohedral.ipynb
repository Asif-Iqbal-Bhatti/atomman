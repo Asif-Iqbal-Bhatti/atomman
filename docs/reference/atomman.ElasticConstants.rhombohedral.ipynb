{
 "cells": [
  {
   "cell_type": "markdown",
   "metadata": {
    "deletable": true,
    "editable": true
   },
   "source": [
    "# atomman.ElasticConstants.rhombohedral(self, \\**kwargs)\n",
    "- - -"
   ]
  },
  {
   "cell_type": "markdown",
   "metadata": {
    "deletable": true,
    "editable": true
   },
   "source": [
    "**Lucas M. Hale**, [lucas.hale@nist.gov](mailto:lucas.hale@nist.gov?Subject=ipr-demo), *Materials Science and Engineering Division, NIST*.\n",
    "\n",
    "**Chandler A. Becker**, [chandler.becker@nist.gov](mailto:chandler.becker@nist.gov?Subject=ipr-demo), *Office of Data and Informatics, NIST*.\n",
    "\n",
    "**Zachary T. Trautt**, [zachary.trautt@nist.gov](mailto:zachary.trautt@nist.gov?Subject=ipr-demo), *Materials Measurement Science Division, NIST*.\n",
    "\n",
    "Version: 2017-04-20\n",
    "\n",
    "[Disclaimers](http://www.nist.gov/public_affairs/disclaimer.cfm) \n",
    " \n",
    "- - -"
   ]
  },
  {
   "cell_type": "markdown",
   "metadata": {
    "deletable": true,
    "editable": true
   },
   "source": [
    "## Introduction\n",
    "\n",
    "ElasticConstants.rhombohedral allows for an ElasticConstants to be changed by supplying the unique rhombohedral components of Cij individually. Only two of C11, C12, C66 are required.\n",
    "\n",
    "Keyword Arguments:\n",
    "\n",
    "- __C11__ -- component of Cij\n",
    "\n",
    "- __C33__ -- component of Cij\n",
    "\n",
    "- __C12__ -- component of Cij\n",
    "\n",
    "- __C13__ -- component of Cij\n",
    "\n",
    "- __C14__ -- component of Cij\n",
    "\n",
    "- __C15__ -- component of Cij (=0.0 if not given)\n",
    "\n",
    "- __C44__ -- component of Cij\n",
    "\n",
    "- __C66__ -- component of Cij\n",
    "\n",
    "The generated tensor is of the form\n",
    "\n",
    "$$C_{ij} = \\left[ \\begin{array}{ccc}\n",
    "C_{11} & C_{12} & C_{13} & C_{14} & C_{15} & 0.0    \\\\\n",
    "C_{12} & C_{11} & C_{13} &-C_{14} &-C_{15} & 0.0    \\\\\n",
    "C_{13} & C_{13} & C_{33} & 0.0    & 0.0    & 0.0    \\\\\n",
    "C_{14} &-C_{14} & 0.0    & C_{44} & 0.0    &-C_{15} \\\\\n",
    "C_{15} &-C_{15} & 0.0    & 0.0    & C_{44} & 0.0    \\\\\n",
    "0.0    & 0.0    & 0.0    &-C_{15} & 0.0    & C_{66} \n",
    "\\end{array} \\right]$$\n",
    "\n",
    "where\n",
    "\n",
    "$$ 2 C_{66} = C_{11} - C_{12} $$\n",
    "\n",
    "The underlying code can be found in [atomman/core/ElasticConstants.py](../../atomman/core/ElasticConstants.py)."
   ]
  },
  {
   "cell_type": "markdown",
   "metadata": {
    "deletable": true,
    "editable": true
   },
   "source": [
    "## Demonstration"
   ]
  },
  {
   "cell_type": "markdown",
   "metadata": {
    "deletable": true,
    "editable": true
   },
   "source": [
    "Library Imports"
   ]
  },
  {
   "cell_type": "code",
   "execution_count": 1,
   "metadata": {
    "collapsed": true,
    "deletable": true,
    "editable": true
   },
   "outputs": [],
   "source": [
    "#Standard libraries\n",
    "from __future__ import print_function, division\n",
    "\n",
    "#https://github.com/usnistgov/atomman \n",
    "import atomman as am"
   ]
  },
  {
   "cell_type": "markdown",
   "metadata": {
    "deletable": true,
    "editable": true
   },
   "source": [
    "Generate without C15 and C66"
   ]
  },
  {
   "cell_type": "code",
   "execution_count": 2,
   "metadata": {
    "collapsed": false,
    "deletable": true,
    "editable": true
   },
   "outputs": [
    {
     "name": "stdout",
     "output_type": "stream",
     "text": [
      "[[ 145.    90.    91.    76.     0.     0. ]\n",
      " [  90.   145.    91.   -76.     0.     0. ]\n",
      " [  91.    91.   142.     0.     0.     0. ]\n",
      " [  76.   -76.     0.    56.     0.     0. ]\n",
      " [   0.     0.     0.     0.    56.    76. ]\n",
      " [   0.     0.     0.     0.    76.    27.5]]\n"
     ]
    }
   ],
   "source": [
    "c = am.ElasticConstants()\n",
    "c.rhombohedral(C11=145, C33=142, C12=90, C13=91, C14=76, C44=56)\n",
    "print(c)"
   ]
  },
  {
   "cell_type": "markdown",
   "metadata": {
    "deletable": true,
    "editable": true
   },
   "source": [
    "Generate with a redundant C66"
   ]
  },
  {
   "cell_type": "code",
   "execution_count": 3,
   "metadata": {
    "collapsed": false,
    "deletable": true,
    "editable": true
   },
   "outputs": [
    {
     "name": "stdout",
     "output_type": "stream",
     "text": [
      "[[ 145.    90.    91.    76.     0.     0. ]\n",
      " [  90.   145.    91.   -76.     0.     0. ]\n",
      " [  91.    91.   142.     0.     0.     0. ]\n",
      " [  76.   -76.     0.    56.     0.     0. ]\n",
      " [   0.     0.     0.     0.    56.    76. ]\n",
      " [   0.     0.     0.     0.    76.    27.5]]\n"
     ]
    }
   ],
   "source": [
    "c66 = (145 - 90) / 2\n",
    "\n",
    "c = am.ElasticConstants()\n",
    "c.rhombohedral(C11=145, C33=142, C12=90, C13=91, C14=76, C44=56, C66=c66)\n",
    "print(c)"
   ]
  },
  {
   "cell_type": "markdown",
   "metadata": {
    "deletable": true,
    "editable": true
   },
   "source": [
    "Generate with C15 "
   ]
  },
  {
   "cell_type": "code",
   "execution_count": 4,
   "metadata": {
    "collapsed": false,
    "deletable": true,
    "editable": true
   },
   "outputs": [
    {
     "name": "stdout",
     "output_type": "stream",
     "text": [
      "[[ 145.    90.    91.    76.    24.     0. ]\n",
      " [  90.   145.    91.   -76.   -24.     0. ]\n",
      " [  91.    91.   142.     0.     0.     0. ]\n",
      " [  76.   -76.     0.    56.     0.   -24. ]\n",
      " [  24.   -24.     0.     0.    56.    76. ]\n",
      " [   0.     0.     0.   -24.    76.    27.5]]\n"
     ]
    }
   ],
   "source": [
    "c = am.ElasticConstants()\n",
    "c.rhombohedral(C11=145, C33=142, C12=90, C13=91, C14=76, C44=56, C15=24)\n",
    "print(c)"
   ]
  },
  {
   "cell_type": "markdown",
   "metadata": {
    "collapsed": true,
    "deletable": true,
    "editable": true
   },
   "source": [
    "__Docs Navigation:__\n",
    "\n",
    "Tutorial:\n",
    "\n",
    "1. [Basics](../tutorial/1 Basics.ipynb)\n",
    "\n",
    "2. [LAMMPS Functionality](../tutorial/2 LAMMPS Functionality.ipynb)\n",
    "\n",
    "3. [Defect Generation and Evaluation](../tutorial/3 Defect Generation and Evaluation.ipynb)\n",
    "\n",
    "\n",
    "Reference:\n",
    "\n",
    "- [atomman](../reference/atomman.ipynb)\n",
    "\n",
    "- [atomman.convert](../reference/atomman.convert.ipynb)\n",
    "\n",
    "- [atomman.defect](../reference/atomman.defect.ipynb)\n",
    "\n",
    "- [atomman.lammps](../reference/atomman.lammps.ipynb)\n",
    "\n",
    "- [atomman.tools](../reference/atomman.tools.ipynb)\n",
    "\n",
    "- [atomman.unitconvert](../reference/atomman.unitconvert.ipynb)"
   ]
  }
 ],
 "metadata": {
  "kernelspec": {
   "display_name": "Python 2",
   "language": "python",
   "name": "python2"
  },
  "language_info": {
   "codemirror_mode": {
    "name": "ipython",
    "version": 2
   },
   "file_extension": ".py",
   "mimetype": "text/x-python",
   "name": "python",
   "nbconvert_exporter": "python",
   "pygments_lexer": "ipython2",
   "version": "2.7.13"
  }
 },
 "nbformat": 4,
 "nbformat_minor": 0
}
