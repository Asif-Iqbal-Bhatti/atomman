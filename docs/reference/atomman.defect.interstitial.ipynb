{
 "cells": [
  {
   "cell_type": "markdown",
   "metadata": {},
   "source": [
    "# atomman.defect.interstitial(system, atype=None, pos=None, scale=False, atol=None)\n",
    "\n",
    "- - -"
   ]
  },
  {
   "cell_type": "markdown",
   "metadata": {},
   "source": [
    "**Lucas M. Hale**, [lucas.hale@nist.gov](mailto:lucas.hale@nist.gov?Subject=ipr-demo), *Materials Science and Engineering Division, NIST*.\n",
    "\n",
    "**Chandler A. Becker**, [chandler.becker@nist.gov](mailto:chandler.becker@nist.gov?Subject=ipr-demo), *Office of Data and Informatics, NIST*.\n",
    "\n",
    "**Zachary T. Trautt**, [zachary.trautt@nist.gov](mailto:zachary.trautt@nist.gov?Subject=ipr-demo), *Materials Measurement Science Division, NIST*.\n",
    "\n",
    "Version: 2016-09-02\n",
    "\n",
    "[Disclaimers](http://www.nist.gov/public_affairs/disclaimer.cfm) \n",
    " \n",
    "- - -"
   ]
  },
  {
   "cell_type": "markdown",
   "metadata": {},
   "source": [
    "## Introduction\n",
    "\n",
    "The interstitial function allows for the insertion of a poisition-based interstitial point defect into a System.\n",
    "\n",
    "Arguments:\n",
    "\n",
    "- __system__ -- the [atomman.System](atomman.System.ipynb) to add the defect to.\n",
    "   \n",
    "Keyword Arguments:\n",
    "\n",
    "- __atype__ -- atom type for defect atom.\n",
    "\n",
    "- __pos__ -- position for adding the defect atom.\n",
    "\n",
    "- __scale__ -- indicates if pos is absolute (False) or box-relative (True). Default is False.\n",
    "\n",
    "- __atol__ -- absolute tolerance for position-based searching. Default is 1e-3 angstroms.\n",
    "\n",
    "Any atoms added by this function will be inserted at the highest atom index(es) to help find the defects.\n",
    "\n",
    "The returned System will be assigned an atoms property \"old_id\" if it doesn't exist which corresponds to the index values of all atoms from the base System supplied as an argument.  If \"old_id\" already exists, then the values of existing atoms will be unchanged. For the atom added, it will be assigned an \"old_id\" one greater than the largest atom index or the largest \"old_id\" value, whichever is larger. \n",
    "\n",
    "Alternatively, this function and the other point defect generation functions can all be accessed using the [atomman.defect.point](atomman.defect.point) function.\n",
    "\n",
    "The underlying code can be found in [atomman/defect/point.py](../../atomman/defect/point.py)."
   ]
  },
  {
   "cell_type": "markdown",
   "metadata": {},
   "source": [
    "## Demonstration"
   ]
  },
  {
   "cell_type": "markdown",
   "metadata": {},
   "source": [
    "Library imports"
   ]
  },
  {
   "cell_type": "code",
   "execution_count": 1,
   "metadata": {
    "collapsed": true
   },
   "outputs": [],
   "source": [
    "import atomman as am\n",
    "import numpy as np"
   ]
  },
  {
   "cell_type": "markdown",
   "metadata": {},
   "source": [
    "Generate demonstration system with random atomic positions"
   ]
  },
  {
   "cell_type": "code",
   "execution_count": 2,
   "metadata": {
    "collapsed": false
   },
   "outputs": [],
   "source": [
    "box = am.Box(a=10, b=10, c=10)\n",
    "atoms = am.Atoms(natoms=20, prop={'atype':1, 'pos':10*np.random.random((20,3))})\n",
    "\n",
    "system = am.System(atoms=atoms, box=box)"
   ]
  },
  {
   "cell_type": "markdown",
   "metadata": {},
   "source": [
    "Print all atom ids old_ids, atypes and positions"
   ]
  },
  {
   "cell_type": "code",
   "execution_count": 3,
   "metadata": {
    "collapsed": false
   },
   "outputs": [
    {
     "name": "stdout",
     "output_type": "stream",
     "text": [
      "     id  old_id  atype                  position\n",
      "     0   None      1     [ 4.99042409  2.43503758  5.1093568 ]\n",
      "     1   None      1     [ 3.70688504  5.77513233  1.31887404]\n",
      "     2   None      1     [ 0.66321966  0.33708037  7.8049065 ]\n",
      "     3   None      1     [ 6.81303954  2.26471689  4.87344909]\n",
      "     4   None      1     [ 0.52563761  1.83788278  6.05457224]\n",
      "     5   None      1     [ 6.74510458  0.57009542  7.73241584]\n",
      "     6   None      1     [ 3.74509863  3.80588589  3.87302062]\n",
      "     7   None      1     [ 2.69249125  4.89568068  7.66492222]\n",
      "     8   None      1     [ 9.30532343  5.71732465  8.93386064]\n",
      "     9   None      1     [ 9.78060971  7.1035212   2.47979809]\n",
      "    10   None      1     [ 0.91037469  6.10421056  8.94554992]\n",
      "    11   None      1     [ 2.32046226  1.14615004  6.92343079]\n",
      "    12   None      1     [ 1.8601923   0.99212622  8.56656449]\n",
      "    13   None      1     [ 7.94238069  3.81487868  5.87397747]\n",
      "    14   None      1     [ 3.65770925  4.80662586  8.95415785]\n",
      "    15   None      1     [ 2.65815715  9.06039635  9.29366495]\n",
      "    16   None      1     [ 3.42194841  5.87006748  5.10471291]\n",
      "    17   None      1     [ 2.99344124  0.69679675  0.1902142 ]\n",
      "    18   None      1     [ 3.81636284  6.60975765  6.99919222]\n",
      "    19   None      1     [ 2.87567292  2.84425107  0.46255155]\n"
     ]
    }
   ],
   "source": [
    "print '     id  old_id  atype                  position'\n",
    "for i in xrange(system.natoms):\n",
    "    print '%6s %6s %6s     %s' %(i, system.atoms_prop(a_id=i, key='old_id'), \n",
    "                                    system.atoms_prop(a_id=i, key='atype'), \n",
    "                                str(system.atoms_prop(a_id=i, key='pos')))"
   ]
  },
  {
   "cell_type": "markdown",
   "metadata": {},
   "source": [
    "Add an interstitial at pos"
   ]
  },
  {
   "cell_type": "code",
   "execution_count": 4,
   "metadata": {
    "collapsed": true
   },
   "outputs": [],
   "source": [
    "pos=(0.1111111111, 0.1111111111, 0.111111111111)\n",
    "system_i = am.defect.interstitial(system, atype=2, pos=pos)"
   ]
  },
  {
   "cell_type": "markdown",
   "metadata": {},
   "source": [
    "Print all atom ids old_ids, atypes and positions. Note the new atom is at the highest index."
   ]
  },
  {
   "cell_type": "code",
   "execution_count": 5,
   "metadata": {
    "collapsed": false
   },
   "outputs": [
    {
     "name": "stdout",
     "output_type": "stream",
     "text": [
      "     id  old_id  atype                  position\n",
      "     0      0      1     [ 4.99042409  2.43503758  5.1093568 ]\n",
      "     1      1      1     [ 3.70688504  5.77513233  1.31887404]\n",
      "     2      2      1     [ 0.66321966  0.33708037  7.8049065 ]\n",
      "     3      3      1     [ 6.81303954  2.26471689  4.87344909]\n",
      "     4      4      1     [ 0.52563761  1.83788278  6.05457224]\n",
      "     5      5      1     [ 6.74510458  0.57009542  7.73241584]\n",
      "     6      6      1     [ 3.74509863  3.80588589  3.87302062]\n",
      "     7      7      1     [ 2.69249125  4.89568068  7.66492222]\n",
      "     8      8      1     [ 9.30532343  5.71732465  8.93386064]\n",
      "     9      9      1     [ 9.78060971  7.1035212   2.47979809]\n",
      "    10     10      1     [ 0.91037469  6.10421056  8.94554992]\n",
      "    11     11      1     [ 2.32046226  1.14615004  6.92343079]\n",
      "    12     12      1     [ 1.8601923   0.99212622  8.56656449]\n",
      "    13     13      1     [ 7.94238069  3.81487868  5.87397747]\n",
      "    14     14      1     [ 3.65770925  4.80662586  8.95415785]\n",
      "    15     15      1     [ 2.65815715  9.06039635  9.29366495]\n",
      "    16     16      1     [ 3.42194841  5.87006748  5.10471291]\n",
      "    17     17      1     [ 2.99344124  0.69679675  0.1902142 ]\n",
      "    18     18      1     [ 3.81636284  6.60975765  6.99919222]\n",
      "    19     19      1     [ 2.87567292  2.84425107  0.46255155]\n",
      "    20     20      2     [ 0.11111111  0.11111111  0.11111111]\n"
     ]
    }
   ],
   "source": [
    "print '     id  old_id  atype                  position'\n",
    "for i in xrange(system_i.natoms):\n",
    "    print '%6s %6s %6s     %s' %(i, system_i.atoms_prop(a_id=i, key='old_id'), \n",
    "                                    system_i.atoms_prop(a_id=i, key='atype'), \n",
    "                                str(system_i.atoms_prop(a_id=i, key='pos')))"
   ]
  },
  {
   "cell_type": "markdown",
   "metadata": {},
   "source": [
    "- - -\n",
    "__Docs Navigation:__\n",
    "\n",
    "Tutorial:\n",
    "\n",
    "1. [Basics](../tutorial/1 Basics.ipynb)\n",
    "\n",
    "2. [LAMMPS Functionality](../tutorial/2 LAMMPS Functionality.ipynb)\n",
    "\n",
    "3. [Defect Generation and Evaluation](../tutorial/3 Defect Generation and Evaluation.ipynb)\n",
    "\n",
    "\n",
    "Reference:\n",
    "\n",
    "- [atomman](../reference/atomman.ipynb)\n",
    "\n",
    "- [atomman.convert](../reference/atomman.convert.ipynb)\n",
    "\n",
    "- [atomman.defect](../reference/atomman.defect.ipynb)\n",
    "\n",
    "- [atomman.lammps](../reference/atomman.lammps.ipynb)\n",
    "\n",
    "- [atomman.tools](../reference/atomman.tools.ipynb)\n",
    "\n",
    "- [atomman.unitconvert](../reference/atomman.unitconvert.ipynb)"
   ]
  }
 ],
 "metadata": {
  "kernelspec": {
   "display_name": "Python 2",
   "language": "python",
   "name": "python2"
  },
  "language_info": {
   "codemirror_mode": {
    "name": "ipython",
    "version": 2
   },
   "file_extension": ".py",
   "mimetype": "text/x-python",
   "name": "python",
   "nbconvert_exporter": "python",
   "pygments_lexer": "ipython2",
   "version": "2.7.11"
  }
 },
 "nbformat": 4,
 "nbformat_minor": 0
}
