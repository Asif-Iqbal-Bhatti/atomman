{
 "cells": [
  {
   "cell_type": "markdown",
   "metadata": {
    "deletable": true,
    "editable": true
   },
   "source": [
    "# atomman.defect.interstitial(system, atype=None, pos=None, scale=False, atol=None)\n",
    "\n",
    "- - -"
   ]
  },
  {
   "cell_type": "markdown",
   "metadata": {
    "deletable": true,
    "editable": true
   },
   "source": [
    "**Lucas M. Hale**, [lucas.hale@nist.gov](mailto:lucas.hale@nist.gov?Subject=ipr-demo), *Materials Science and Engineering Division, NIST*.\n",
    "\n",
    "**Chandler A. Becker**, [chandler.becker@nist.gov](mailto:chandler.becker@nist.gov?Subject=ipr-demo), *Office of Data and Informatics, NIST*.\n",
    "\n",
    "**Zachary T. Trautt**, [zachary.trautt@nist.gov](mailto:zachary.trautt@nist.gov?Subject=ipr-demo), *Materials Measurement Science Division, NIST*.\n",
    "\n",
    "Version: 2017-04-21\n",
    "\n",
    "[Disclaimers](http://www.nist.gov/public_affairs/disclaimer.cfm) \n",
    " \n",
    "- - -"
   ]
  },
  {
   "cell_type": "markdown",
   "metadata": {
    "deletable": true,
    "editable": true
   },
   "source": [
    "## Introduction\n",
    "\n",
    "The interstitial function allows for the insertion of a poisition-based interstitial point defect into a System.\n",
    "\n",
    "Arguments:\n",
    "\n",
    "- __system__ -- the [atomman.System](atomman.System.ipynb) to add the defect to.\n",
    "   \n",
    "Keyword Arguments:\n",
    "\n",
    "- __atype__ -- atom type for defect atom.\n",
    "\n",
    "- __pos__ -- position for adding the defect atom.\n",
    "\n",
    "- __scale__ -- indicates if pos is absolute (False) or box-relative (True). Default is False.\n",
    "\n",
    "- __atol__ -- absolute tolerance for position-based searching. Default is 1e-3 angstroms.\n",
    "\n",
    "Any atoms added by this function will be inserted at the highest atom index(es) to help find the defects.\n",
    "\n",
    "The returned System will be assigned an atoms property \"old_id\" if it doesn't exist which corresponds to the index values of all atoms from the base System supplied as an argument.  If \"old_id\" already exists, then the values of existing atoms will be unchanged. For the atom added, it will be assigned an \"old_id\" one greater than the largest atom index or the largest \"old_id\" value, whichever is larger. \n",
    "\n",
    "Alternatively, this function and the other point defect generation functions can all be accessed using the [atomman.defect.point](atomman.defect.point) function.\n",
    "\n",
    "The underlying code can be found in [atomman/defect/point.py](../../atomman/defect/point.py)."
   ]
  },
  {
   "cell_type": "markdown",
   "metadata": {
    "deletable": true,
    "editable": true
   },
   "source": [
    "## Demonstration"
   ]
  },
  {
   "cell_type": "markdown",
   "metadata": {
    "deletable": true,
    "editable": true
   },
   "source": [
    "Library imports"
   ]
  },
  {
   "cell_type": "code",
   "execution_count": 1,
   "metadata": {
    "collapsed": true,
    "deletable": true,
    "editable": true
   },
   "outputs": [],
   "source": [
    "#Standard libraries\n",
    "from __future__ import print_function\n",
    "\n",
    "#http://www.numpy.org/\n",
    "import numpy as np\n",
    "\n",
    "#https://github.com/usnistgov/atomman \n",
    "import atomman as am"
   ]
  },
  {
   "cell_type": "markdown",
   "metadata": {
    "deletable": true,
    "editable": true
   },
   "source": [
    "Generate demonstration system with random atomic positions"
   ]
  },
  {
   "cell_type": "code",
   "execution_count": 2,
   "metadata": {
    "collapsed": false,
    "deletable": true,
    "editable": true
   },
   "outputs": [],
   "source": [
    "box = am.Box(a=10, b=10, c=10)\n",
    "atoms = am.Atoms(natoms=20, prop={'atype':1, 'pos':10*np.random.random((20,3))})\n",
    "\n",
    "system = am.System(atoms=atoms, box=box)"
   ]
  },
  {
   "cell_type": "markdown",
   "metadata": {
    "deletable": true,
    "editable": true
   },
   "source": [
    "Print all atom ids old_ids, atypes and positions"
   ]
  },
  {
   "cell_type": "code",
   "execution_count": 3,
   "metadata": {
    "collapsed": false,
    "deletable": true,
    "editable": true
   },
   "outputs": [
    {
     "name": "stdout",
     "output_type": "stream",
     "text": [
      "     id  old_id  atype                  position\n",
      "     0   None      1     [ 8.63401147  9.32062777  1.41558761]\n",
      "     1   None      1     [ 2.40178755  8.46387197  1.77602414]\n",
      "     2   None      1     [ 6.02314336  6.4139027   9.98842515]\n",
      "     3   None      1     [ 6.41998373  3.69504863  9.84168489]\n",
      "     4   None      1     [ 4.68269778  1.82162756  9.45827748]\n",
      "     5   None      1     [ 4.48012844  6.12337529  5.49630533]\n",
      "     6   None      1     [ 9.85113695  8.41752417  8.35315599]\n",
      "     7   None      1     [ 8.4899774   2.12570565  2.23923965]\n",
      "     8   None      1     [ 1.92039326  3.64430493  8.23491188]\n",
      "     9   None      1     [ 4.99917561  1.32198812  0.2510404 ]\n",
      "    10   None      1     [ 8.62488608  6.64003429  0.49369437]\n",
      "    11   None      1     [ 5.06674922  0.93548819  4.37910686]\n",
      "    12   None      1     [ 6.65303924  7.317247    1.38166422]\n",
      "    13   None      1     [ 4.66009349  7.68116102  5.98872825]\n",
      "    14   None      1     [ 8.66003664  7.34897716  5.08136169]\n",
      "    15   None      1     [ 4.81472475  7.7850645   9.66396601]\n",
      "    16   None      1     [ 2.7765564   0.06438419  6.68003997]\n",
      "    17   None      1     [ 0.73626818  6.45078     7.76653917]\n",
      "    18   None      1     [ 0.36053529  8.27962837  1.4238319 ]\n",
      "    19   None      1     [ 5.72156089  1.99826196  9.15906996]\n"
     ]
    }
   ],
   "source": [
    "print('     id  old_id  atype                  position')\n",
    "for i in xrange(system.natoms):\n",
    "    print('%6s %6s %6s     %s' %(i, system.atoms_prop(a_id=i, key='old_id'), \n",
    "                                    system.atoms_prop(a_id=i, key='atype'), \n",
    "                                str(system.atoms_prop(a_id=i, key='pos'))))"
   ]
  },
  {
   "cell_type": "markdown",
   "metadata": {
    "deletable": true,
    "editable": true
   },
   "source": [
    "Add an interstitial at pos"
   ]
  },
  {
   "cell_type": "code",
   "execution_count": 4,
   "metadata": {
    "collapsed": true,
    "deletable": true,
    "editable": true
   },
   "outputs": [],
   "source": [
    "pos=(0.1111111111, 0.1111111111, 0.111111111111)\n",
    "system_i = am.defect.interstitial(system, atype=2, pos=pos)"
   ]
  },
  {
   "cell_type": "markdown",
   "metadata": {
    "deletable": true,
    "editable": true
   },
   "source": [
    "Print all atom ids old_ids, atypes and positions. Note the new atom is at the highest index."
   ]
  },
  {
   "cell_type": "code",
   "execution_count": 5,
   "metadata": {
    "collapsed": false,
    "deletable": true,
    "editable": true
   },
   "outputs": [
    {
     "name": "stdout",
     "output_type": "stream",
     "text": [
      "     id  old_id  atype                  position\n",
      "     0      0      1     [ 8.63401147  9.32062777  1.41558761]\n",
      "     1      1      1     [ 2.40178755  8.46387197  1.77602414]\n",
      "     2      2      1     [ 6.02314336  6.4139027   9.98842515]\n",
      "     3      3      1     [ 6.41998373  3.69504863  9.84168489]\n",
      "     4      4      1     [ 4.68269778  1.82162756  9.45827748]\n",
      "     5      5      1     [ 4.48012844  6.12337529  5.49630533]\n",
      "     6      6      1     [ 9.85113695  8.41752417  8.35315599]\n",
      "     7      7      1     [ 8.4899774   2.12570565  2.23923965]\n",
      "     8      8      1     [ 1.92039326  3.64430493  8.23491188]\n",
      "     9      9      1     [ 4.99917561  1.32198812  0.2510404 ]\n",
      "    10     10      1     [ 8.62488608  6.64003429  0.49369437]\n",
      "    11     11      1     [ 5.06674922  0.93548819  4.37910686]\n",
      "    12     12      1     [ 6.65303924  7.317247    1.38166422]\n",
      "    13     13      1     [ 4.66009349  7.68116102  5.98872825]\n",
      "    14     14      1     [ 8.66003664  7.34897716  5.08136169]\n",
      "    15     15      1     [ 4.81472475  7.7850645   9.66396601]\n",
      "    16     16      1     [ 2.7765564   0.06438419  6.68003997]\n",
      "    17     17      1     [ 0.73626818  6.45078     7.76653917]\n",
      "    18     18      1     [ 0.36053529  8.27962837  1.4238319 ]\n",
      "    19     19      1     [ 5.72156089  1.99826196  9.15906996]\n",
      "    20     20      2     [ 0.11111111  0.11111111  0.11111111]\n"
     ]
    }
   ],
   "source": [
    "print('     id  old_id  atype                  position')\n",
    "for i in xrange(system_i.natoms):\n",
    "    print('%6s %6s %6s     %s' %(i, system_i.atoms_prop(a_id=i, key='old_id'), \n",
    "                                    system_i.atoms_prop(a_id=i, key='atype'), \n",
    "                                str(system_i.atoms_prop(a_id=i, key='pos'))))"
   ]
  },
  {
   "cell_type": "markdown",
   "metadata": {
    "deletable": true,
    "editable": true
   },
   "source": [
    "- - -\n",
    "__Docs Navigation:__\n",
    "\n",
    "Tutorial:\n",
    "\n",
    "1. [Basics](../tutorial/1 Basics.ipynb)\n",
    "\n",
    "2. [LAMMPS Functionality](../tutorial/2 LAMMPS Functionality.ipynb)\n",
    "\n",
    "3. [Defect Generation and Evaluation](../tutorial/3 Defect Generation and Evaluation.ipynb)\n",
    "\n",
    "\n",
    "Reference:\n",
    "\n",
    "- [atomman](../reference/atomman.ipynb)\n",
    "\n",
    "- [atomman.convert](../reference/atomman.convert.ipynb)\n",
    "\n",
    "- [atomman.defect](../reference/atomman.defect.ipynb)\n",
    "\n",
    "- [atomman.lammps](../reference/atomman.lammps.ipynb)\n",
    "\n",
    "- [atomman.tools](../reference/atomman.tools.ipynb)\n",
    "\n",
    "- [atomman.unitconvert](../reference/atomman.unitconvert.ipynb)"
   ]
  }
 ],
 "metadata": {
  "kernelspec": {
   "display_name": "Python 2",
   "language": "python",
   "name": "python2"
  },
  "language_info": {
   "codemirror_mode": {
    "name": "ipython",
    "version": 2
   },
   "file_extension": ".py",
   "mimetype": "text/x-python",
   "name": "python",
   "nbconvert_exporter": "python",
   "pygments_lexer": "ipython2",
   "version": "2.7.13"
  }
 },
 "nbformat": 4,
 "nbformat_minor": 0
}
