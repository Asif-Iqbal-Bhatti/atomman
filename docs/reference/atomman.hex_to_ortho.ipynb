{
 "cells": [
  {
   "cell_type": "markdown",
   "metadata": {
    "deletable": true,
    "editable": true
   },
   "source": [
    "# atomman.hex_to_ortho(cell, tol=1e-5)\n",
    "\n",
    "- - -"
   ]
  },
  {
   "cell_type": "markdown",
   "metadata": {
    "deletable": true,
    "editable": true
   },
   "source": [
    "**Lucas M. Hale**, [lucas.hale@nist.gov](mailto:lucas.hale@nist.gov?Subject=ipr-demo), *Materials Science and Engineering Division, NIST*.\n",
    "\n",
    "**Chandler A. Becker**, [chandler.becker@nist.gov](mailto:chandler.becker@nist.gov?Subject=ipr-demo), *Office of Data and Informatics, NIST*.\n",
    "\n",
    "**Zachary T. Trautt**, [zachary.trautt@nist.gov](mailto:zachary.trautt@nist.gov?Subject=ipr-demo), *Materials Measurement Science Division, NIST*.\n",
    "\n",
    "Version: 2017-04-19\n",
    "\n",
    "[Disclaimers](http://www.nist.gov/public_affairs/disclaimer.cfm) \n",
    " \n",
    "- - -"
   ]
  },
  {
   "cell_type": "markdown",
   "metadata": {
    "deletable": true,
    "editable": true
   },
   "source": [
    "## Introduction\n",
    "\n",
    "The hex_to_ortho function takes a hexagonal System and returns a corresponding orthogonal System that has twice the volume and number of atoms. This allows for hexagonal unit cells to be treated as orthogonal ones. This function currently only supports standard hexagonal Systems where: \n",
    "\n",
    "    a = b != c \n",
    "    alpha = beta = 90\n",
    "    gamma = 60 or 120\n",
    "    \n",
    "The returned orthorhombic system will have b = a$\\sqrt{3}$, and c perpendicular to the hexagonal basal plane. \n",
    "\n",
    "Argument:\n",
    "\n",
    "- __cell__ -- a [System](atomman.System.ipynb) consistent with a standard hexagonal cell.\n",
    "\n",
    "Keyword Argument:\n",
    "\n",
    "- __tol__ -- tolerance used in checking that system is hexagonal.\n",
    "\n",
    "\n",
    "The underlying code can be found in [atomman/core/hex_to_ortho.py](../../atomman/core/hex_to_ortho.py)."
   ]
  },
  {
   "cell_type": "markdown",
   "metadata": {
    "deletable": true,
    "editable": true
   },
   "source": [
    "## Demonstration"
   ]
  },
  {
   "cell_type": "code",
   "execution_count": 1,
   "metadata": {
    "collapsed": false,
    "deletable": true,
    "editable": true
   },
   "outputs": [],
   "source": [
    "#Standard libraries\n",
    "from __future__ import print_function\n",
    "\n",
    "#http://www.numpy.org/\n",
    "import numpy as np    \n",
    "\n",
    "#https://github.com/usnistgov/atomman\n",
    "import atomman as am"
   ]
  },
  {
   "cell_type": "markdown",
   "metadata": {
    "deletable": true,
    "editable": true
   },
   "source": [
    "Build a hcp unit cell"
   ]
  },
  {
   "cell_type": "code",
   "execution_count": 2,
   "metadata": {
    "collapsed": false,
    "deletable": true,
    "editable": true
   },
   "outputs": [
    {
     "name": "stdout",
     "output_type": "stream",
     "text": [
      "avect =  [ 2.566,  0.000,  0.000]\n",
      "bvect =  [-1.283,  2.222,  0.000]\n",
      "cvect =  [ 0.000,  0.000,  4.189]\n",
      "origin = [ 0.000,  0.000,  0.000]\n",
      "natoms = 2\n",
      "natypes = 1\n",
      "     id |   atype |  pos[0] |  pos[1] |  pos[2]\n",
      "      0 |       1 |   0.000 |   0.000 |   0.000\n",
      "      1 |       1 |   0.000 |   1.481 |   2.095\n"
     ]
    }
   ],
   "source": [
    "atoms = am.Atoms(natoms=2, prop={'atype':1, \n",
    "                                  'pos': [[0.00, 0.00, 0.00],\n",
    "                                          [1./3, 2./3, 0.50]]})\n",
    "box = am.Box(a=2.5657, b=2.5657, c=4.1895, gamma=120)\n",
    "\n",
    "hcp = am.System(atoms=atoms, box=box, pbc=(True, True, True), scale=True)\n",
    "\n",
    "print(hcp)"
   ]
  },
  {
   "cell_type": "markdown",
   "metadata": {
    "deletable": true,
    "editable": true
   },
   "source": [
    "Convert into a orthorhombic cell"
   ]
  },
  {
   "cell_type": "code",
   "execution_count": 3,
   "metadata": {
    "collapsed": false,
    "deletable": true,
    "editable": true
   },
   "outputs": [
    {
     "name": "stdout",
     "output_type": "stream",
     "text": [
      "avect =  [ 2.566,  0.000,  0.000]\n",
      "bvect =  [ 0.000,  4.444,  0.000]\n",
      "cvect =  [ 0.000,  0.000,  4.189]\n",
      "origin = [ 0.000,  0.000,  0.000]\n",
      "natoms = 4\n",
      "natypes = 1\n",
      "     id |   atype |  pos[0] |  pos[1] |  pos[2]\n",
      "      0 |       1 |   0.000 |   0.000 |   0.000\n",
      "      1 |       1 |   0.000 |   1.481 |   2.095\n",
      "      2 |       1 |   1.283 |   2.222 |   0.000\n",
      "      3 |       1 |   1.283 |   3.703 |   2.095\n"
     ]
    }
   ],
   "source": [
    "ortho_hcp = am.hex_to_ortho(hcp)\n",
    "\n",
    "print(ortho_hcp)"
   ]
  },
  {
   "cell_type": "markdown",
   "metadata": {
    "deletable": true,
    "editable": true
   },
   "source": [
    "Check the scaled atom positions"
   ]
  },
  {
   "cell_type": "code",
   "execution_count": 4,
   "metadata": {
    "collapsed": false,
    "deletable": true,
    "editable": true
   },
   "outputs": [
    {
     "name": "stdout",
     "output_type": "stream",
     "text": [
      "[[  0.00000000e+00   0.00000000e+00   0.00000000e+00]\n",
      " [  1.73086959e-16   3.33333333e-01   5.00000000e-01]\n",
      " [  5.00000000e-01   5.00000000e-01   0.00000000e+00]\n",
      " [  5.00000000e-01   8.33333333e-01   5.00000000e-01]]\n"
     ]
    }
   ],
   "source": [
    "print(ortho_hcp.atoms_prop(key='pos', scale=True))"
   ]
  },
  {
   "cell_type": "markdown",
   "metadata": {
    "deletable": true,
    "editable": true
   },
   "source": [
    "- - -\n",
    "__Docs Navigation:__\n",
    "\n",
    "Tutorial:\n",
    "\n",
    "1. [Basics](../tutorial/1 Basics.ipynb)\n",
    "\n",
    "2. [LAMMPS Functionality](../tutorial/2 LAMMPS Functionality.ipynb)\n",
    "\n",
    "3. [Defect Generation and Evaluation](../tutorial/3 Defect Generation and Evaluation.ipynb)\n",
    "\n",
    "\n",
    "Reference:\n",
    "\n",
    "- [atomman](../reference/atomman.ipynb)\n",
    "\n",
    "- [atomman.convert](../reference/atomman.convert.ipynb)\n",
    "\n",
    "- [atomman.defect](../reference/atomman.defect.ipynb)\n",
    "\n",
    "- [atomman.lammps](../reference/atomman.lammps.ipynb)\n",
    "\n",
    "- [atomman.tools](../reference/atomman.tools.ipynb)\n",
    "\n",
    "- [atomman.unitconvert](../reference/atomman.unitconvert.ipynb)"
   ]
  }
 ],
 "metadata": {
  "kernelspec": {
   "display_name": "Python 2",
   "language": "python",
   "name": "python2"
  },
  "language_info": {
   "codemirror_mode": {
    "name": "ipython",
    "version": 2
   },
   "file_extension": ".py",
   "mimetype": "text/x-python",
   "name": "python",
   "nbconvert_exporter": "python",
   "pygments_lexer": "ipython2",
   "version": "2.7.13"
  }
 },
 "nbformat": 4,
 "nbformat_minor": 0
}
