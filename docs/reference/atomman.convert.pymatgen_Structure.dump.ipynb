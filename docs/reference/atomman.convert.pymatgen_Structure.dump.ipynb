{
 "cells": [
  {
   "cell_type": "markdown",
   "metadata": {
    "deletable": true,
    "editable": true
   },
   "source": [
    "# atomman.convert.pymatgen_Structure.dump(system, elements)\n",
    "\n",
    "- - -"
   ]
  },
  {
   "cell_type": "markdown",
   "metadata": {
    "deletable": true,
    "editable": true
   },
   "source": [
    "**Lucas M. Hale**, [lucas.hale@nist.gov](mailto:lucas.hale@nist.gov?Subject=ipr-demo), *Materials Science and Engineering Division, NIST*.\n",
    "\n",
    "**Chandler A. Becker**, [chandler.becker@nist.gov](mailto:chandler.becker@nist.gov?Subject=ipr-demo), *Office of Data and Informatics, NIST*.\n",
    "\n",
    "**Zachary T. Trautt**, [zachary.trautt@nist.gov](mailto:zachary.trautt@nist.gov?Subject=ipr-demo), *Materials Measurement Science Division, NIST*.\n",
    "\n",
    "Version: 2017-04-19\n",
    "\n",
    "[Disclaimers](http://www.nist.gov/public_affairs/disclaimer.cfm) \n",
    " \n",
    "- - -"
   ]
  },
  {
   "cell_type": "markdown",
   "metadata": {
    "deletable": true,
    "editable": true
   },
   "source": [
    "## Introduction\n",
    "\n",
    "The pymatgen_Structure.dump function converts an [atomman.System](atomman.System.ipynb) and list of elements into an equivalent pymatgen.Structure instance. \n",
    "\n",
    "This style only works if the [pymatgen package](http://pymatgen.org) is installed with your Python. \n",
    "\n",
    "Argument:\n",
    "\n",
    "- __system__ -- an atomman.System object.\n",
    "\n",
    "- __elements__ -- a list of elements corresponding to the atom types in system.\n",
    "\n",
    "The underlying code can be found in [atomman/convert/pymatgen_Structure.py](../../atomman/convert/pymatgen_Structure.py)."
   ]
  },
  {
   "cell_type": "markdown",
   "metadata": {
    "deletable": true,
    "editable": true
   },
   "source": [
    "## Demonstration"
   ]
  },
  {
   "cell_type": "code",
   "execution_count": 1,
   "metadata": {
    "collapsed": false,
    "deletable": true,
    "editable": true
   },
   "outputs": [],
   "source": [
    "#Standard libraries\n",
    "from __future__ import print_function  \n",
    "\n",
    "#https://github.com/usnistgov/atomman\n",
    "import atomman as am  \n",
    "\n",
    "#http://pymatgen.org/\n",
    "import pymatgen as pmg"
   ]
  },
  {
   "cell_type": "markdown",
   "metadata": {
    "deletable": true,
    "editable": true
   },
   "source": [
    "Create a demonstration System and list of elements"
   ]
  },
  {
   "cell_type": "code",
   "execution_count": 2,
   "metadata": {
    "collapsed": false,
    "deletable": true,
    "editable": true
   },
   "outputs": [
    {
     "name": "stdout",
     "output_type": "stream",
     "text": [
      "['Si']\n",
      "avect =  [ 4.500,  0.000,  0.000]\n",
      "bvect =  [ 0.000,  4.500,  0.000]\n",
      "cvect =  [ 0.000,  0.000,  4.500]\n",
      "origin = [ 0.000,  0.000,  0.000]\n",
      "natoms = 8\n",
      "natypes = 1\n",
      "     id |   atype |  pos[0] |  pos[1] |  pos[2]\n",
      "      0 |       1 |   0.000 |   0.000 |   0.000\n",
      "      1 |       1 |   0.000 |   2.250 |   2.250\n",
      "      2 |       1 |   2.250 |   0.000 |   2.250\n",
      "      3 |       1 |   2.250 |   2.250 |   0.000\n",
      "      4 |       1 |   1.125 |   1.125 |   1.125\n",
      "      5 |       1 |   1.125 |   3.375 |   3.375\n",
      "      6 |       1 |   3.375 |   1.125 |   3.375\n",
      "      7 |       1 |   3.375 |   3.375 |   1.125\n"
     ]
    }
   ],
   "source": [
    "box = am.Box(a=4.50, b=4.50, c=4.50)\n",
    "atoms = am.Atoms(natoms=8, prop={'atype':[1,1,1,1,1,1,1,1],\n",
    "                                 'pos': [[0.00, 0.00, 0.00],\n",
    "                                         [0.00, 0.50, 0.50],\n",
    "                                         [0.50, 0.00, 0.50],\n",
    "                                         [0.50, 0.50, 0.00],\n",
    "                                         [0.25, 0.25, 0.25],\n",
    "                                         [0.25, 0.75, 0.75],\n",
    "                                         [0.75, 0.25, 0.75],\n",
    "                                         [0.75, 0.75, 0.25]]})\n",
    "system = am.System(box=box, atoms=atoms, scale=True)\n",
    "elements = ['Si']\n",
    "print(elements)\n",
    "print(system)"
   ]
  },
  {
   "cell_type": "markdown",
   "metadata": {
    "deletable": true,
    "editable": true
   },
   "source": [
    "dump the system to a pymatgen.Structure object"
   ]
  },
  {
   "cell_type": "code",
   "execution_count": 3,
   "metadata": {
    "collapsed": false,
    "deletable": true,
    "editable": true
   },
   "outputs": [
    {
     "name": "stdout",
     "output_type": "stream",
     "text": [
      "Full Formula (Si8)\n",
      "Reduced Formula: Si\n",
      "abc   :   4.500000   4.500000   4.500000\n",
      "angles:  90.000000  90.000000  90.000000\n",
      "Sites (8)\n",
      "  #  SP       a     b     c\n",
      "---  ----  ----  ----  ----\n",
      "  0  Si    0     0     0\n",
      "  1  Si    0     0.5   0.5\n",
      "  2  Si    0.5   0     0.5\n",
      "  3  Si    0.5   0.5   0\n",
      "  4  Si    0.25  0.25  0.25\n",
      "  5  Si    0.25  0.75  0.75\n",
      "  6  Si    0.75  0.25  0.75\n",
      "  7  Si    0.75  0.75  0.25\n"
     ]
    }
   ],
   "source": [
    "pmg_structure = am.convert.pymatgen_Structure.dump(system, elements)\n",
    "print(pmg_structure)"
   ]
  },
  {
   "cell_type": "markdown",
   "metadata": {
    "deletable": true,
    "editable": true
   },
   "source": [
    "- - -\n",
    "__Docs Navigation:__\n",
    "\n",
    "Tutorial:\n",
    "\n",
    "1. [Basics](../tutorial/1 Basics.ipynb)\n",
    "\n",
    "2. [LAMMPS Functionality](../tutorial/2 LAMMPS Functionality.ipynb)\n",
    "\n",
    "3. [Defect Generation and Evaluation](../tutorial/3 Defect Generation and Evaluation.ipynb)\n",
    "\n",
    "\n",
    "Reference:\n",
    "\n",
    "- [atomman](../reference/atomman.ipynb)\n",
    "\n",
    "- [atomman.convert](../reference/atomman.convert.ipynb)\n",
    "\n",
    "- [atomman.defect](../reference/atomman.defect.ipynb)\n",
    "\n",
    "- [atomman.lammps](../reference/atomman.lammps.ipynb)\n",
    "\n",
    "- [atomman.tools](../reference/atomman.tools.ipynb)\n",
    "\n",
    "- [atomman.unitconvert](../reference/atomman.unitconvert.ipynb)"
   ]
  }
 ],
 "metadata": {
  "kernelspec": {
   "display_name": "Python 2",
   "language": "python",
   "name": "python2"
  },
  "language_info": {
   "codemirror_mode": {
    "name": "ipython",
    "version": 2
   },
   "file_extension": ".py",
   "mimetype": "text/x-python",
   "name": "python",
   "nbconvert_exporter": "python",
   "pygments_lexer": "ipython2",
   "version": "2.7.13"
  }
 },
 "nbformat": 4,
 "nbformat_minor": 0
}
