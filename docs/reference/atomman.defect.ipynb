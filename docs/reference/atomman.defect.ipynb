{
 "cells": [
  {
   "cell_type": "markdown",
   "metadata": {
    "deletable": true,
    "editable": true
   },
   "source": [
    "# atomman.defect Module \n",
    "\n",
    "- - -"
   ]
  },
  {
   "cell_type": "markdown",
   "metadata": {
    "deletable": true,
    "editable": true
   },
   "source": [
    "__Lucas M. Hale__, [lucas.hale@nist.gov](mailto:lucas.hale@nist.gov?Subject=ipr-demo), _Materials Science and Engineering Division, NIST_.\n",
    "\n",
    "__Chandler A. Becker__, [chandler.becker@nist.gov](mailto:chandler.becker@nist.gov?Subject=ipr-demo), _Office of Data and Informatics, NIST_.\n",
    "\n",
    "__Zachary T. Trautt__, [zachary.trautt@nist.gov](mailto:zachary.trautt@nist.gov?Subject=ipr-demo), _Materials Measurement Science Division, NIST_.\n",
    "\n",
    "Version: 2017-04-21\n",
    "\n",
    "[Disclaimers](http://www.nist.gov/public_affairs/disclaimer.cfm) \n",
    " \n",
    "- - -"
   ]
  },
  {
   "cell_type": "markdown",
   "metadata": {
    "deletable": true,
    "editable": true
   },
   "source": [
    "## Introduction\n",
    "\n",
    "The defect module of atomman contains functions and classes that assist in adding defects to systems and analyzing defect containing systems."
   ]
  },
  {
   "cell_type": "markdown",
   "metadata": {
    "deletable": true,
    "editable": true
   },
   "source": [
    "## Classes\n",
    "\n",
    "- [Stroh](atomman.defect.Stroh.ipynb) represents a solution of the anisotropic elasticity solution for a perfectly straight line defect. Useful in the generation of dislocation monopole systems."
   ]
  },
  {
   "cell_type": "markdown",
   "metadata": {
    "deletable": true,
    "editable": true
   },
   "source": [
    "## Functions\n",
    "\n",
    "- [differential_displacement(base_system, disl_system, burgers_vector, plot_range, neighbor_list=None, neighbor_list_cutoff=None, component='standard', axes=None, plot_scale=1, save_file=None, show=True)](atomman.defect.differential_displacement.ipynb) generates a differential displacement plot for a dislocation-containing System.\n",
    "\n",
    "- [nye_tensor(system, p_vectors, theta_max = 27, axes=None, neighbor_list=None, neighbor_list_cutoff=None)](atomman.defect.nye_tensor.ipynb) estimates the per-atom strain state and Nye tensor based on a local atomic reference state.\n",
    "\n",
    "- [slip_vector(system_0, system_1, neighbor_list=None, neighbor_list_cutoff=None)](atomman.defect.slip_vector.ipynb) computes the slip vector characterization parameter for analysing plasticity activity between two system states.\n",
    "\n",
    "- [point(system, ptd_type, atype=None, pos=None, ptd_id=None, db_vect=None, scale=False, atol=None)](atomman.defect.point.ipynb) adds any type of point defect to a System.\n",
    "\n",
    "- [vacancy(system, pos=None, ptd_id=None, scale=False, atol=None)](atomman.defect.vacancy.ipynb) adds a vacancy point defect to a System.\n",
    "\n",
    "- [interstitial(system, atype=None, pos=None, scale=False, atol=None)](atomman.defect.interstitial.ipynb) adds a position-based interstitial point defect to a System.\n",
    "\n",
    "- [substitutional(system, atype=None, pos=None, ptd_id=None, scale=False, atol=None)](atomman.defect.substitutional.ipynb) adds a substitutional point defect to a System.\n",
    "\n",
    "- [dumbbell(system, atype=None, pos=None, ptd_id=None, db_vect=None, scale=False, atol=None)](atomman.defect.vacancy.ipynb) adds a dumbbell interstitial point defect to a System."
   ]
  },
  {
   "cell_type": "markdown",
   "metadata": {
    "deletable": true,
    "editable": true
   },
   "source": [
    "- - -\n",
    "__Docs Navigation:__\n",
    "\n",
    "Tutorial:\n",
    "\n",
    "1. [Basics](../tutorial/1 Basics.ipynb)\n",
    "\n",
    "2. [LAMMPS Functionality](../tutorial/2 LAMMPS Functionality.ipynb)\n",
    "\n",
    "3. [Defect Generation and Evaluation](../tutorial/3 Defect Generation and Evaluation.ipynb)\n",
    "\n",
    "\n",
    "Reference:\n",
    "\n",
    "- [atomman](../reference/atomman.ipynb)\n",
    "\n",
    "- [atomman.convert](../reference/atomman.convert.ipynb)\n",
    "\n",
    "- [atomman.defect](../reference/atomman.defect.ipynb)\n",
    "\n",
    "- [atomman.lammps](../reference/atomman.lammps.ipynb)\n",
    "\n",
    "- [atomman.tools](../reference/atomman.tools.ipynb)\n",
    "\n",
    "- [atomman.unitconvert](../reference/atomman.unitconvert.ipynb)"
   ]
  }
 ],
 "metadata": {
  "kernelspec": {
   "display_name": "Python 2",
   "language": "python",
   "name": "python2"
  },
  "language_info": {
   "codemirror_mode": {
    "name": "ipython",
    "version": 2
   },
   "file_extension": ".py",
   "mimetype": "text/x-python",
   "name": "python",
   "nbconvert_exporter": "python",
   "pygments_lexer": "ipython2",
   "version": "2.7.13"
  }
 },
 "nbformat": 4,
 "nbformat_minor": 0
}
