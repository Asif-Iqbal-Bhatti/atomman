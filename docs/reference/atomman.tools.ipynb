{
 "cells": [
  {
   "cell_type": "markdown",
   "metadata": {},
   "source": [
    "# atomman Documentation Notebooks\n",
    "\n",
    "__Navigation:__\n",
    "\n",
    "Tutorial:\n",
    "\n",
    "- [1 Basics](../tutorial/1 Basics.ipynb)\n",
    "\n",
    "- [2 LAMMPS Functionality](../tutorial/2 LAMMPS Functionality.ipynb)\n",
    "\n",
    "- [3 Defect Generation and Evaluation](../tutorial/3 Defect Generation and Evaluation.ipynb)\n",
    "\n",
    "\n",
    "Reference:\n",
    "\n",
    "- [atomman](../reference/atomman.ipynb)\n",
    "\n",
    "- [atomman.convert](../reference/atomman.convert.ipynb)\n",
    "\n",
    "- [atomman.defect](../reference/atomman.defect.ipynb)\n",
    "\n",
    "- [atomman.lammps](../reference/atomman.lammps.ipynb)\n",
    "\n",
    "- [atomman.tools](../reference/atomman.tools.ipynb)\n",
    "\n",
    "- [atomman.unitconvert](../reference/atomman.unitconvert.ipynb)"
   ]
  },
  {
   "cell_type": "markdown",
   "metadata": {},
   "source": [
    "## atomman.tools Module\n",
    "\n",
    "The atomman.tools module contains a number of utility functions.\n",
    "\n",
    "- [atomic_mass(term)](atomman.tools.atomic_mass.ipynb) returns the atomic mass associated with a given element/isotope.\n",
    "\n",
    "- [axes_check(axes, tol=1e-8)](atomman.tools.axes_check.ipynb) checks that the given 3x3 axes are orthogonal and right handed, and returns the unit vectors.\n",
    "\n",
    "- [is_int(value)](atomman.tools.is_int.ipynb) determines if value is of any integer type (standard or numpy based).\n",
    "\n",
    "- [is_dtype_int(dtype)](atomman.tools.is_dtype_int.ipynb) determines if the dtype of a numpy array is an integer type (standard or numpy based).\n",
    "\n",
    "- [is_bool(value)](atomman.tools.is_bool.ipynb) determines if value is of any Boolean type (standard or numpy based).\n",
    "\n",
    "- [is_dtype_bool(value)](atomman.tools.is_dtype_bool.ipynb) determines if the dtype of a numpy array is a Boolean type (standard or numpy based).\n",
    "\n",
    "- [vect_angle(vect1, vect2)](atomman.tools.vect_angle.ipynb) returns the angle between two given vectors."
   ]
  },
  {
   "cell_type": "code",
   "execution_count": null,
   "metadata": {
    "collapsed": true
   },
   "outputs": [],
   "source": []
  }
 ],
 "metadata": {
  "kernelspec": {
   "display_name": "Python 2",
   "language": "python",
   "name": "python2"
  },
  "language_info": {
   "codemirror_mode": {
    "name": "ipython",
    "version": 2
   },
   "file_extension": ".py",
   "mimetype": "text/x-python",
   "name": "python",
   "nbconvert_exporter": "python",
   "pygments_lexer": "ipython2",
   "version": "2.7.11"
  }
 },
 "nbformat": 4,
 "nbformat_minor": 0
}
