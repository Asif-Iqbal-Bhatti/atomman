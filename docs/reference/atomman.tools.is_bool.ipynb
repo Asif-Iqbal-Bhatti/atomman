{
 "cells": [
  {
   "cell_type": "markdown",
   "metadata": {
    "deletable": true,
    "editable": true
   },
   "source": [
    "# atomman.tools.is_bool(value)\n",
    "\n",
    "- - -"
   ]
  },
  {
   "cell_type": "markdown",
   "metadata": {
    "deletable": true,
    "editable": true
   },
   "source": [
    "**Lucas M. Hale**, [lucas.hale@nist.gov](mailto:lucas.hale@nist.gov?Subject=ipr-demo), *Materials Science and Engineering Division, NIST*.\n",
    "\n",
    "**Chandler A. Becker**, [chandler.becker@nist.gov](mailto:chandler.becker@nist.gov?Subject=ipr-demo), *Office of Data and Informatics, NIST*.\n",
    "\n",
    "**Zachary T. Trautt**, [zachary.trautt@nist.gov](mailto:zachary.trautt@nist.gov?Subject=ipr-demo), *Materials Measurement Science Division, NIST*.\n",
    "\n",
    "Version: 2017-04-19\n",
    "\n",
    "[Disclaimers](http://www.nist.gov/public_affairs/disclaimer.cfm) \n",
    " \n",
    "- - -"
   ]
  },
  {
   "cell_type": "markdown",
   "metadata": {
    "deletable": true,
    "editable": true
   },
   "source": [
    "## Introduction\n",
    "\n",
    "The is_bool function determines if a value is of any Boolean type (standard or numpy based). \n",
    "\n",
    "Arguments:\n",
    "\n",
    "- __value__ -- value that is being checked.\n",
    "\n",
    "The underlying code can be found in [atomman/tools/istypes.py](../../atomman/tools/istypes.py)."
   ]
  },
  {
   "cell_type": "markdown",
   "metadata": {
    "deletable": true,
    "editable": true
   },
   "source": [
    "## Demonstration"
   ]
  },
  {
   "cell_type": "code",
   "execution_count": 1,
   "metadata": {
    "collapsed": false,
    "deletable": true,
    "editable": true
   },
   "outputs": [],
   "source": [
    "#Standard libraries\n",
    "from __future__ import print_function\n",
    "\n",
    "#http://www.numpy.org/\n",
    "import numpy as np    \n",
    "\n",
    "#https://github.com/usnistgov/atomman\n",
    "import atomman as am "
   ]
  },
  {
   "cell_type": "markdown",
   "metadata": {
    "collapsed": false,
    "deletable": true,
    "editable": true
   },
   "source": [
    "This function is useful when you are expecting a Boolean value, but don't know if it will be a standard Python type or a numpy type."
   ]
  },
  {
   "cell_type": "code",
   "execution_count": 2,
   "metadata": {
    "collapsed": false,
    "deletable": true,
    "editable": true
   },
   "outputs": [],
   "source": [
    "values = [52,                             #integer\n",
    "          52L,                            #long integer\n",
    "          [52],                           #List with one integer\n",
    "          np.array(52, dtype='int32'),    #numpy 0D array with 32bit integer\n",
    "          np.array(52, dtype='int64'),    #numpy 0D array with 64bit integer\n",
    "          np.array([52], dtype='int64'),  #numpy 1D array with 64bit integer\n",
    "          True,                           #Boolean\n",
    "          [True],                         #List with one Boolean\n",
    "          np.array(False),                #numpy 0D array with Boolean\n",
    "          np.array([False]),              #numpy 1D array with Boolean\n",
    "          52.0,                           #float\n",
    "          np.array(52, dtype='float64'),  #numpy 64bit float\n",
    "         '52',                            #string\n",
    "          np.array('52')]                 #numpy string"
   ]
  },
  {
   "cell_type": "markdown",
   "metadata": {
    "deletable": true,
    "editable": true
   },
   "source": [
    "am.tools.is_bool returns True for any and only bool data types "
   ]
  },
  {
   "cell_type": "code",
   "execution_count": 3,
   "metadata": {
    "collapsed": false,
    "deletable": true,
    "editable": true
   },
   "outputs": [
    {
     "name": "stdout",
     "output_type": "stream",
     "text": [
      "Testing am.tools.is_bool(value):\n",
      "\n",
      "value                          return\n",
      "-------------------------------------\n",
      "52                             False\n",
      "52L                            False\n",
      "[52]                           False\n",
      "array(52)                      False\n",
      "array(52L, dtype=int64)        False\n",
      "array([52], dtype=int64)       False\n",
      "True                           True\n",
      "[True]                         False\n",
      "array(False, dtype=bool)       True\n",
      "array([False], dtype=bool)     False\n",
      "52.0                           False\n",
      "array(52.0)                    False\n",
      "'52'                           False\n",
      "array('52', \n",
      "      dtype='|S2') False\n"
     ]
    }
   ],
   "source": [
    "print(\"Testing am.tools.is_bool(value):\")\n",
    "print()\n",
    "print(\"%-30s %s\" %('value', 'return'))\n",
    "print('-------------------------------------')\n",
    "for value in values:\n",
    "    print('%-30s %s' % (repr(value), am.tools.is_bool(value)))"
   ]
  },
  {
   "cell_type": "markdown",
   "metadata": {
    "deletable": true,
    "editable": true
   },
   "source": [
    "- - -\n",
    "__Docs Navigation:__\n",
    "\n",
    "Tutorial:\n",
    "\n",
    "1. [Basics](../tutorial/1 Basics.ipynb)\n",
    "\n",
    "2. [LAMMPS Functionality](../tutorial/2 LAMMPS Functionality.ipynb)\n",
    "\n",
    "3. [Defect Generation and Evaluation](../tutorial/3 Defect Generation and Evaluation.ipynb)\n",
    "\n",
    "\n",
    "Reference:\n",
    "\n",
    "- [atomman](../reference/atomman.ipynb)\n",
    "\n",
    "- [atomman.convert](../reference/atomman.convert.ipynb)\n",
    "\n",
    "- [atomman.defect](../reference/atomman.defect.ipynb)\n",
    "\n",
    "- [atomman.lammps](../reference/atomman.lammps.ipynb)\n",
    "\n",
    "- [atomman.tools](../reference/atomman.tools.ipynb)\n",
    "\n",
    "- [atomman.unitconvert](../reference/atomman.unitconvert.ipynb)"
   ]
  }
 ],
 "metadata": {
  "kernelspec": {
   "display_name": "Python 2",
   "language": "python",
   "name": "python2"
  },
  "language_info": {
   "codemirror_mode": {
    "name": "ipython",
    "version": 2
   },
   "file_extension": ".py",
   "mimetype": "text/x-python",
   "name": "python",
   "nbconvert_exporter": "python",
   "pygments_lexer": "ipython2",
   "version": "2.7.13"
  }
 },
 "nbformat": 4,
 "nbformat_minor": 0
}
