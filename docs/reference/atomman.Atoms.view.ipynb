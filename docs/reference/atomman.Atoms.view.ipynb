{
 "cells": [
  {
   "cell_type": "markdown",
   "metadata": {},
   "source": [
    "# atomman.Atoms.view\n",
    "\n",
    "- - -"
   ]
  },
  {
   "cell_type": "markdown",
   "metadata": {},
   "source": [
    "**Lucas M. Hale**, [lucas.hale@nist.gov](mailto:lucas.hale@nist.gov?Subject=ipr-demo), *Materials Science and Engineering Division, NIST*.\n",
    "\n",
    "**Chandler A. Becker**, [chandler.becker@nist.gov](mailto:chandler.becker@nist.gov?Subject=ipr-demo), *Office of Data and Informatics, NIST*.\n",
    "\n",
    "**Zachary T. Trautt**, [zachary.trautt@nist.gov](mailto:zachary.trautt@nist.gov?Subject=ipr-demo), *Materials Measurement Science Division, NIST*.\n",
    "\n",
    "Version: 2016-08-23\n",
    "\n",
    "[Disclaimers](http://www.nist.gov/public_affairs/disclaimer.cfm) \n",
    " \n",
    "- - -"
   ]
  },
  {
   "cell_type": "markdown",
   "metadata": {},
   "source": [
    "## Introduction\n",
    "\n",
    "Class Atoms represents a dictionary of atomic properties.  All data is stored in a single numpy array to minimize memory cost, and properties can be accessed either with controlled methods that account for data types and units or directly through the use of numpy views.\n",
    "\n",
    "The underlying code can be found in [atomman/core/Atoms.py](../../atomman/core/Atoms.py).\n",
    "\n",
    "- - -"
   ]
  },
  {
   "cell_type": "markdown",
   "metadata": {},
   "source": [
    "## Methods\n",
    "\n",
    "- [\\__init__(self, natoms=1, prop={}, prop_dtype=None, nvals=30, data=None, view=None)](atomman.Atoms.__init__.ipynb) -- class initializer.\n",
    "\n",
    "- [\\__str__(self)](atomman.Atoms.__str__.ipynb) -- generates string output of the class.\n",
    "\n",
    "- [\\__getitem__(self, index)](atomman.Atoms.__getitem__.ipynb) -- allows index getting of a subset of Atoms.\n",
    "\n",
    "- [\\__setitem__(self, index)](atomman.Atoms.__setitem__.ipynb) -- allows index setting of a subset of Atoms.\n",
    "\n",
    "- [prop(self, a_id, key, value, dtype)](atomman.Atoms.prop.ipynb) -- primary method for accessing and setting per-atom properties. "
   ]
  },
  {
   "cell_type": "markdown",
   "metadata": {},
   "source": [
    "## Attributes\n",
    "\n",
    "- [natoms](atomman.Atoms.natoms.ipynb) -- the number of atoms in the Atoms instance.\n",
    "\n",
    "- [natypes](atomman.Atoms.natypes.ipynb) -- the number of assigned atom types.\n",
    "\n",
    "- [data](atomman.Atoms.data.ipynb) -- the underlying numpy array used for storing per-atom values.\n",
    "\n",
    "- [view](atomman.Atoms.view.ipynb) -- dictionary of structured views for each assigned property.\n",
    "\n",
    "- [dtype](atomman.Atoms.dtype.ipynb) -- dictionary of data types for each assigned property."
   ]
  },
  {
   "cell_type": "markdown",
   "metadata": {},
   "source": [
    "## atomman.Atoms.view\n",
    "\n",
    "The Atoms.view attribute is a dictionary that associates a numpy view of [Atoms.data](atomman.Atoms.data.ipynb) for each property name. This makes it possible to directly access property values in the correct shape using the property's name."
   ]
  },
  {
   "cell_type": "markdown",
   "metadata": {},
   "source": [
    "__Library Imports__"
   ]
  },
  {
   "cell_type": "code",
   "execution_count": 1,
   "metadata": {
    "collapsed": false
   },
   "outputs": [],
   "source": [
    "#External library imports\n",
    "import numpy as np\n",
    "\n",
    "#atomman imports\n",
    "import atomman as am"
   ]
  },
  {
   "cell_type": "code",
   "execution_count": 2,
   "metadata": {
    "collapsed": false
   },
   "outputs": [
    {
     "name": "stdout",
     "output_type": "stream",
     "text": [
      "     id |   atype |  pos[0] |  pos[1] |  pos[2]\n",
      "      0 |       1 |   0.452 |   0.839 |   0.794\n",
      "      1 |       1 |   0.689 |   0.372 |   0.568\n",
      "      2 |       1 |   0.162 |   0.877 |   0.762\n",
      "      3 |       1 |   0.227 |   0.526 |   0.785\n",
      "      4 |       1 |   0.981 |   0.000 |   0.258\n"
     ]
    }
   ],
   "source": [
    "atoms = am.Atoms(natoms=5, prop={'atype': 1, 'pos': np.random.rand(5,3)})\n",
    "\n",
    "print atoms"
   ]
  },
  {
   "cell_type": "markdown",
   "metadata": {},
   "source": [
    "Access pos values using view"
   ]
  },
  {
   "cell_type": "code",
   "execution_count": 3,
   "metadata": {
    "collapsed": false
   },
   "outputs": [
    {
     "name": "stdout",
     "output_type": "stream",
     "text": [
      "[[  4.51810684e-01   8.38790597e-01   7.94248929e-01]\n",
      " [  6.88520784e-01   3.72140670e-01   5.68165540e-01]\n",
      " [  1.62260593e-01   8.76785737e-01   7.61757484e-01]\n",
      " [  2.26823195e-01   5.26439937e-01   7.85374892e-01]\n",
      " [  9.81099250e-01   1.59650290e-04   2.57550087e-01]]\n"
     ]
    }
   ],
   "source": [
    "pos = atoms.view['pos']\n",
    "print pos"
   ]
  },
  {
   "cell_type": "markdown",
   "metadata": {},
   "source": [
    "Change values directly using view"
   ]
  },
  {
   "cell_type": "code",
   "execution_count": 4,
   "metadata": {
    "collapsed": false
   },
   "outputs": [
    {
     "name": "stdout",
     "output_type": "stream",
     "text": [
      "     id |   atype |  pos[0] |  pos[1] |  pos[2]\n",
      "      0 |       1 |   0.452 |   0.839 |   0.794\n",
      "      1 |       1 |   0.689 |   0.372 |   0.568\n",
      "      2 |       1 |   0.162 |   0.877 |  99.000\n",
      "      3 |       1 |   0.227 |   0.526 |   0.785\n",
      "      4 |       1 |  11.000 |   0.000 |   0.258\n"
     ]
    }
   ],
   "source": [
    "atoms.view['pos'][2,2] = 99\n",
    "\n",
    "#pos is set to the view in the previous cell\n",
    "pos[4,0] = 11\n",
    "\n",
    "print atoms"
   ]
  },
  {
   "cell_type": "markdown",
   "metadata": {},
   "source": [
    "__WARNING!__ Make certain that you assign values to the elements of a view, not the name of the view."
   ]
  },
  {
   "cell_type": "code",
   "execution_count": 5,
   "metadata": {
    "collapsed": false
   },
   "outputs": [
    {
     "name": "stdout",
     "output_type": "stream",
     "text": [
      "pos ->\n",
      "[[ 1.  1.  1.]\n",
      " [ 1.  1.  1.]\n",
      " [ 1.  1.  1.]\n",
      " [ 1.  1.  1.]\n",
      " [ 1.  1.  1.]]\n",
      "atoms ->\n",
      "     id |   atype |  pos[0] |  pos[1] |  pos[2]\n",
      "      0 |       1 |   1.000 |   1.000 |   1.000\n",
      "      1 |       1 |   1.000 |   1.000 |   1.000\n",
      "      2 |       1 |   1.000 |   1.000 |   1.000\n",
      "      3 |       1 |   1.000 |   1.000 |   1.000\n",
      "      4 |       1 |   1.000 |   1.000 |   1.000\n"
     ]
    }
   ],
   "source": [
    "#This assigns values to the elements of the view\n",
    "pos[:] = np.ones((5,3))\n",
    "print \"pos ->\"\n",
    "print pos\n",
    "print \"atoms ->\"\n",
    "print atoms"
   ]
  },
  {
   "cell_type": "code",
   "execution_count": 6,
   "metadata": {
    "collapsed": false
   },
   "outputs": [
    {
     "name": "stdout",
     "output_type": "stream",
     "text": [
      "pos ->\n",
      "[[ 0.  0.  0.]\n",
      " [ 0.  0.  0.]\n",
      " [ 0.  0.  0.]\n",
      " [ 0.  0.  0.]\n",
      " [ 0.  0.  0.]]\n",
      "atoms ->\n",
      "     id |   atype |  pos[0] |  pos[1] |  pos[2]\n",
      "      0 |       1 |   1.000 |   1.000 |   1.000\n",
      "      1 |       1 |   1.000 |   1.000 |   1.000\n",
      "      2 |       1 |   1.000 |   1.000 |   1.000\n",
      "      3 |       1 |   1.000 |   1.000 |   1.000\n",
      "      4 |       1 |   1.000 |   1.000 |   1.000\n"
     ]
    }
   ],
   "source": [
    "#This reassigns what pos points to\n",
    "pos = np.zeros((5,3))\n",
    "print \"pos ->\"\n",
    "print pos\n",
    "print \"atoms ->\"\n",
    "print atoms"
   ]
  },
  {
   "cell_type": "markdown",
   "metadata": {},
   "source": [
    "__WARNING!__ Since all data is stored as floats and only converted with the [Atoms.prop()](atomman.Atoms.prop.ipynb) method, direct access of [Atoms.data](atomman.Atoms.data.ipynb), [Atoms.view](atomman.Atoms.view.ipynb) and [Atoms.dtype](atomman.Atoms.dtype.ipynb) offers no data type control."
   ]
  },
  {
   "cell_type": "code",
   "execution_count": 7,
   "metadata": {
    "collapsed": false
   },
   "outputs": [
    {
     "name": "stdout",
     "output_type": "stream",
     "text": [
      "atoms.view['atype'][0] = [ 15.89]\n",
      "atoms.prop(key='atype', a_id=0) = 15\n"
     ]
    }
   ],
   "source": [
    "atoms.view['atype'][0] = 15.89\n",
    "print \"atoms.view['atype'][0] ->\", atoms.view['atype'][0]\n",
    "print \"atoms.prop(key='atype', a_id=0) ->\", atoms.prop(key='atype', a_id=0)"
   ]
  },
  {
   "cell_type": "markdown",
   "metadata": {},
   "source": [
    "__Docs Navigation:__\n",
    "\n",
    "Tutorial:\n",
    "\n",
    "1. [Basics](../tutorial/1 Basics.ipynb)\n",
    "\n",
    "2. [LAMMPS Functionality](../tutorial/2 LAMMPS Functionality.ipynb)\n",
    "\n",
    "3. [Defect Generation and Evaluation](../tutorial/3 Defect Generation and Evaluation.ipynb)\n",
    "\n",
    "\n",
    "Reference:\n",
    "\n",
    "- [atomman](../reference/atomman.ipynb)\n",
    "\n",
    "- [atomman.convert](../reference/atomman.convert.ipynb)\n",
    "\n",
    "- [atomman.defect](../reference/atomman.defect.ipynb)\n",
    "\n",
    "- [atomman.lammps](../reference/atomman.lammps.ipynb)\n",
    "\n",
    "- [atomman.tools](../reference/atomman.tools.ipynb)\n",
    "\n",
    "- [atomman.unitconvert](../reference/atomman.unitconvert.ipynb)"
   ]
  }
 ],
 "metadata": {
  "kernelspec": {
   "display_name": "Python 2",
   "language": "python",
   "name": "python2"
  },
  "language_info": {
   "codemirror_mode": {
    "name": "ipython",
    "version": 2
   },
   "file_extension": ".py",
   "mimetype": "text/x-python",
   "name": "python",
   "nbconvert_exporter": "python",
   "pygments_lexer": "ipython2",
   "version": "2.7.11"
  }
 },
 "nbformat": 4,
 "nbformat_minor": 0
}
