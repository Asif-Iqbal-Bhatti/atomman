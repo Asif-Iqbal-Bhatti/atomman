{
 "cells": [
  {
   "cell_type": "markdown",
   "metadata": {
    "deletable": true,
    "editable": true
   },
   "source": [
    "# atomman.Atoms.view\n",
    "\n",
    "- - -"
   ]
  },
  {
   "cell_type": "markdown",
   "metadata": {
    "deletable": true,
    "editable": true
   },
   "source": [
    "**Lucas M. Hale**, [lucas.hale@nist.gov](mailto:lucas.hale@nist.gov?Subject=ipr-demo), *Materials Science and Engineering Division, NIST*.\n",
    "\n",
    "**Chandler A. Becker**, [chandler.becker@nist.gov](mailto:chandler.becker@nist.gov?Subject=ipr-demo), *Office of Data and Informatics, NIST*.\n",
    "\n",
    "**Zachary T. Trautt**, [zachary.trautt@nist.gov](mailto:zachary.trautt@nist.gov?Subject=ipr-demo), *Materials Measurement Science Division, NIST*.\n",
    "\n",
    "Version: 2017-04-19\n",
    "\n",
    "[Disclaimers](http://www.nist.gov/public_affairs/disclaimer.cfm) \n",
    " \n",
    "- - -"
   ]
  },
  {
   "cell_type": "markdown",
   "metadata": {
    "deletable": true,
    "editable": true
   },
   "source": [
    "## Introduction\n",
    "\n",
    "The Atoms.view attribute is a dictionary that associates a numpy view of [Atoms.data](atomman.Atoms.data.ipynb) for each property name. This makes it possible to directly access property values in the correct shape using the property's name.\n",
    "\n",
    "The underlying code can be found in [atomman/core/Atoms.py](../../atomman/core/Atoms.py).\n",
    "\n",
    "- - -"
   ]
  },
  {
   "cell_type": "markdown",
   "metadata": {
    "deletable": true,
    "editable": true
   },
   "source": [
    "## Demonstration"
   ]
  },
  {
   "cell_type": "markdown",
   "metadata": {
    "deletable": true,
    "editable": true
   },
   "source": [
    "Library Imports"
   ]
  },
  {
   "cell_type": "code",
   "execution_count": 1,
   "metadata": {
    "collapsed": false,
    "deletable": true,
    "editable": true
   },
   "outputs": [],
   "source": [
    "#Standard libraries\n",
    "from __future__ import print_function\n",
    "\n",
    "#http://www.numpy.org/\n",
    "import numpy as np    \n",
    "\n",
    "#https://github.com/usnistgov/atomman\n",
    "import atomman as am   "
   ]
  },
  {
   "cell_type": "code",
   "execution_count": 2,
   "metadata": {
    "collapsed": false,
    "deletable": true,
    "editable": true
   },
   "outputs": [
    {
     "name": "stdout",
     "output_type": "stream",
     "text": [
      "     id |   atype |  pos[0] |  pos[1] |  pos[2]\n",
      "      0 |       1 |   0.933 |   0.611 |   0.989\n",
      "      1 |       1 |   0.029 |   0.251 |   0.338\n",
      "      2 |       1 |   0.877 |   0.362 |   0.359\n",
      "      3 |       1 |   0.706 |   0.020 |   0.065\n",
      "      4 |       1 |   0.442 |   0.872 |   0.243\n"
     ]
    }
   ],
   "source": [
    "atoms = am.Atoms(natoms=5, prop={'atype': 1, 'pos': np.random.rand(5,3)})\n",
    "\n",
    "print(atoms)"
   ]
  },
  {
   "cell_type": "markdown",
   "metadata": {
    "deletable": true,
    "editable": true
   },
   "source": [
    "Access pos values using view"
   ]
  },
  {
   "cell_type": "code",
   "execution_count": 3,
   "metadata": {
    "collapsed": false,
    "deletable": true,
    "editable": true
   },
   "outputs": [
    {
     "name": "stdout",
     "output_type": "stream",
     "text": [
      "[[ 0.93292517  0.61081485  0.98919529]\n",
      " [ 0.02939867  0.25144244  0.33774483]\n",
      " [ 0.87702268  0.36200396  0.35877587]\n",
      " [ 0.70553202  0.02016866  0.06541039]\n",
      " [ 0.44173066  0.87217441  0.24308253]]\n"
     ]
    }
   ],
   "source": [
    "pos = atoms.view['pos']\n",
    "print(pos)"
   ]
  },
  {
   "cell_type": "markdown",
   "metadata": {
    "deletable": true,
    "editable": true
   },
   "source": [
    "Change values directly using view"
   ]
  },
  {
   "cell_type": "code",
   "execution_count": 4,
   "metadata": {
    "collapsed": false,
    "deletable": true,
    "editable": true
   },
   "outputs": [
    {
     "name": "stdout",
     "output_type": "stream",
     "text": [
      "     id |   atype |  pos[0] |  pos[1] |  pos[2]\n",
      "      0 |       1 |   0.933 |   0.611 |   0.989\n",
      "      1 |       1 |   0.029 |   0.251 |   0.338\n",
      "      2 |       1 |   0.877 |   0.362 |  99.000\n",
      "      3 |       1 |   0.706 |   0.020 |   0.065\n",
      "      4 |       1 |  11.000 |   0.872 |   0.243\n"
     ]
    }
   ],
   "source": [
    "#This accesses pos[2] for atom with id=2\n",
    "atoms.view['pos'][2,2] = 99\n",
    "\n",
    "#This accesses pos[0] for atom with id=4\n",
    "#pos is set to the view in the previous cell\n",
    "pos[4,0] = 11\n",
    "\n",
    "print(atoms)"
   ]
  },
  {
   "cell_type": "markdown",
   "metadata": {
    "deletable": true,
    "editable": true
   },
   "source": [
    "__WARNING!__ Make certain that you assign values to the elements of a view, not the name of the view."
   ]
  },
  {
   "cell_type": "markdown",
   "metadata": {
    "deletable": true,
    "editable": true
   },
   "source": [
    "This assigns values to the elements of the array that the variable pos points to"
   ]
  },
  {
   "cell_type": "code",
   "execution_count": 5,
   "metadata": {
    "collapsed": false,
    "deletable": true,
    "editable": true
   },
   "outputs": [
    {
     "name": "stdout",
     "output_type": "stream",
     "text": [
      "pos ->\n",
      "[[ 1.  1.  1.]\n",
      " [ 1.  1.  1.]\n",
      " [ 1.  1.  1.]\n",
      " [ 1.  1.  1.]\n",
      " [ 1.  1.  1.]]\n",
      "atoms ->\n",
      "     id |   atype |  pos[0] |  pos[1] |  pos[2]\n",
      "      0 |       1 |   1.000 |   1.000 |   1.000\n",
      "      1 |       1 |   1.000 |   1.000 |   1.000\n",
      "      2 |       1 |   1.000 |   1.000 |   1.000\n",
      "      3 |       1 |   1.000 |   1.000 |   1.000\n",
      "      4 |       1 |   1.000 |   1.000 |   1.000\n"
     ]
    }
   ],
   "source": [
    "pos[:] = np.ones((5,3))  \n",
    "print(\"pos ->\")\n",
    "print(pos)\n",
    "print(\"atoms ->\")\n",
    "print(atoms)"
   ]
  },
  {
   "cell_type": "markdown",
   "metadata": {
    "deletable": true,
    "editable": true
   },
   "source": [
    "This reassigns what the variable pos points to"
   ]
  },
  {
   "cell_type": "code",
   "execution_count": 6,
   "metadata": {
    "collapsed": false,
    "deletable": true,
    "editable": true
   },
   "outputs": [
    {
     "name": "stdout",
     "output_type": "stream",
     "text": [
      "pos ->\n",
      "[[ 0.  0.  0.]\n",
      " [ 0.  0.  0.]\n",
      " [ 0.  0.  0.]\n",
      " [ 0.  0.  0.]\n",
      " [ 0.  0.  0.]]\n",
      "atoms ->\n",
      "     id |   atype |  pos[0] |  pos[1] |  pos[2]\n",
      "      0 |       1 |   1.000 |   1.000 |   1.000\n",
      "      1 |       1 |   1.000 |   1.000 |   1.000\n",
      "      2 |       1 |   1.000 |   1.000 |   1.000\n",
      "      3 |       1 |   1.000 |   1.000 |   1.000\n",
      "      4 |       1 |   1.000 |   1.000 |   1.000\n"
     ]
    }
   ],
   "source": [
    "pos = np.zeros((5,3))\n",
    "print(\"pos ->\")\n",
    "print(pos)\n",
    "print(\"atoms ->\")\n",
    "print(atoms)"
   ]
  },
  {
   "cell_type": "markdown",
   "metadata": {
    "deletable": true,
    "editable": true
   },
   "source": [
    "__WARNING!__ Since all data is stored as floats and only converted with the [Atoms.prop()](atomman.Atoms.prop.ipynb) method, direct access of [Atoms.data](atomman.Atoms.data.ipynb), [Atoms.view](atomman.Atoms.view.ipynb) and [Atoms.dtype](atomman.Atoms.dtype.ipynb) offers no data type control."
   ]
  },
  {
   "cell_type": "code",
   "execution_count": 7,
   "metadata": {
    "collapsed": false,
    "deletable": true,
    "editable": true
   },
   "outputs": [
    {
     "name": "stdout",
     "output_type": "stream",
     "text": [
      "atoms.view['atype'][0] -> [ 15.89]\n",
      "atoms.prop(key='atype', a_id=0) -> 15\n"
     ]
    }
   ],
   "source": [
    "#view allows a float to be saved to atype even though atype's dtype is int\n",
    "atoms.view['atype'][0] = 15.89\n",
    "\n",
    "#view shows the value as the float\n",
    "print(\"atoms.view['atype'][0] ->\", atoms.view['atype'][0])\n",
    "\n",
    "#prop still converts the value to an int\n",
    "print(\"atoms.prop(key='atype', a_id=0) ->\", atoms.prop(key='atype', a_id=0))"
   ]
  },
  {
   "cell_type": "markdown",
   "metadata": {
    "deletable": true,
    "editable": true
   },
   "source": [
    "__Docs Navigation:__\n",
    "\n",
    "Tutorial:\n",
    "\n",
    "1. [Basics](../tutorial/1 Basics.ipynb)\n",
    "\n",
    "2. [LAMMPS Functionality](../tutorial/2 LAMMPS Functionality.ipynb)\n",
    "\n",
    "3. [Defect Generation and Evaluation](../tutorial/3 Defect Generation and Evaluation.ipynb)\n",
    "\n",
    "\n",
    "Reference:\n",
    "\n",
    "- [atomman](../reference/atomman.ipynb)\n",
    "\n",
    "- [atomman.convert](../reference/atomman.convert.ipynb)\n",
    "\n",
    "- [atomman.defect](../reference/atomman.defect.ipynb)\n",
    "\n",
    "- [atomman.lammps](../reference/atomman.lammps.ipynb)\n",
    "\n",
    "- [atomman.tools](../reference/atomman.tools.ipynb)\n",
    "\n",
    "- [atomman.unitconvert](../reference/atomman.unitconvert.ipynb)"
   ]
  }
 ],
 "metadata": {
  "kernelspec": {
   "display_name": "Python 2",
   "language": "python",
   "name": "python2"
  },
  "language_info": {
   "codemirror_mode": {
    "name": "ipython",
    "version": 2
   },
   "file_extension": ".py",
   "mimetype": "text/x-python",
   "name": "python",
   "nbconvert_exporter": "python",
   "pygments_lexer": "ipython2",
   "version": "2.7.13"
  }
 },
 "nbformat": 4,
 "nbformat_minor": 0
}
