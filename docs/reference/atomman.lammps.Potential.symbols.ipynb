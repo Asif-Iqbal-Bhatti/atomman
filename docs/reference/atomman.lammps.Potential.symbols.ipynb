{
 "cells": [
  {
   "cell_type": "markdown",
   "metadata": {
    "deletable": true,
    "editable": true
   },
   "source": [
    "# atomman.lammps.Potential.symbols\n",
    "- - -"
   ]
  },
  {
   "cell_type": "markdown",
   "metadata": {
    "deletable": true,
    "editable": true
   },
   "source": [
    "**Lucas M. Hale**, [lucas.hale@nist.gov](mailto:lucas.hale@nist.gov?Subject=ipr-demo), *Materials Science and Engineering Division, NIST*.\n",
    "\n",
    "**Chandler A. Becker**, [chandler.becker@nist.gov](mailto:chandler.becker@nist.gov?Subject=ipr-demo), *Office of Data and Informatics, NIST*.\n",
    "\n",
    "**Zachary T. Trautt**, [zachary.trautt@nist.gov](mailto:zachary.trautt@nist.gov?Subject=ipr-demo), *Materials Measurement Science Division, NIST*.\n",
    "\n",
    "Version: 2017-06-26\n",
    "\n",
    "[Disclaimers](http://www.nist.gov/public_affairs/disclaimer.cfm) \n",
    " \n",
    "- - -"
   ]
  },
  {
   "cell_type": "markdown",
   "metadata": {
    "deletable": true,
    "editable": true
   },
   "source": [
    "## Introduction\n",
    "\n",
    "The Potential.symbols attribute returns a list of all of the atom-model symbol names defined by the potential.\n",
    "\n",
    "__Note__: symbols and [elements](atomman.lammps.Potential.elements.ipynb) are not the same thing and can have different values. Some potentials may define multiple interaction models for the same elements which are then differentiated using symbol names different from the element tags. \n",
    "\n",
    "The underlying code can be found in [atomman/lammps/Potential.py](../../atomman/lammps/Potential.py).\n",
    "\n",
    "- - -"
   ]
  },
  {
   "cell_type": "markdown",
   "metadata": {
    "deletable": true,
    "editable": true
   },
   "source": [
    "## Demonstration"
   ]
  },
  {
   "cell_type": "markdown",
   "metadata": {
    "deletable": true,
    "editable": true
   },
   "source": [
    "Library Imports"
   ]
  },
  {
   "cell_type": "code",
   "execution_count": 1,
   "metadata": {
    "collapsed": true,
    "deletable": true,
    "editable": true
   },
   "outputs": [],
   "source": [
    "#Standard libraries\n",
    "from __future__ import print_function\n",
    "\n",
    "#https://github.com/usnistgov/atomman \n",
    "import atomman.lammps as lmp"
   ]
  },
  {
   "cell_type": "markdown",
   "metadata": {
    "deletable": true,
    "editable": true
   },
   "source": [
    "Create a demonstration LAMMPS-potential data model. A description of the LAMMPS-potential data model and more examples can be found in the [LAMMPS-potential Notebook]()."
   ]
  },
  {
   "cell_type": "code",
   "execution_count": 2,
   "metadata": {
    "collapsed": true,
    "deletable": true,
    "editable": true
   },
   "outputs": [],
   "source": [
    "meam_json = \"\"\"{\n",
    "    \"potential-LAMMPS\": {\n",
    "        \"key\": \"ac63aa71-808c-47e7-b80b-991a50870f35\",\n",
    "        \"id\": \"MEAM-demo--LAMMPS--v1\",\n",
    "        \"potential\": {\n",
    "            \"key\": \"9546264a-06b8-451a-9920-f8a17cc6917b\",\n",
    "            \"id\": \"MEAM-demo\"\n",
    "        },\n",
    "        \"units\": \"metal\",\n",
    "        \"atom_style\": \"atom\",\n",
    "        \"atom\": [\n",
    "            {\n",
    "                \"element\": \"Cu\",\n",
    "                \"symbol\": \"CuS\"\n",
    "            },\n",
    "            {\n",
    "                \"element\": \"Al\",\n",
    "                \"symbol\": \"AlS\"\n",
    "            },\n",
    "            {\n",
    "                \"element\": \"Fe\",\n",
    "                \"symbol\": \"FeS\"\n",
    "            }\n",
    "        ],\n",
    "        \"pair_style\": {\n",
    "            \"type\": \"meam\"\n",
    "        },\n",
    "        \"pair_coeff\": {\n",
    "            \"term\": [\n",
    "                {\n",
    "                    \"file\": \"library.meam\"\n",
    "                },\n",
    "                {\n",
    "                    \"symbolsList\": true\n",
    "                },\n",
    "                {\n",
    "                    \"file\": \"potential.meam\"\n",
    "                },\n",
    "                {\n",
    "                    \"symbols\": true\n",
    "                }\n",
    "            ]\n",
    "        }\n",
    "    }\n",
    "}\"\"\""
   ]
  },
  {
   "cell_type": "markdown",
   "metadata": {
    "deletable": true,
    "editable": true
   },
   "source": [
    "Initialize a Potential using the data model"
   ]
  },
  {
   "cell_type": "code",
   "execution_count": 3,
   "metadata": {
    "collapsed": false,
    "deletable": true,
    "editable": true
   },
   "outputs": [],
   "source": [
    "potential = lmp.Potential(meam_json)"
   ]
  },
  {
   "cell_type": "markdown",
   "metadata": {
    "deletable": true,
    "editable": true
   },
   "source": [
    "Display Potential.symbols"
   ]
  },
  {
   "cell_type": "code",
   "execution_count": 4,
   "metadata": {
    "collapsed": false,
    "deletable": true,
    "editable": true
   },
   "outputs": [
    {
     "name": "stdout",
     "output_type": "stream",
     "text": [
      "['CuS', 'AlS', 'FeS']\n"
     ]
    }
   ],
   "source": [
    "print(potential.symbols)"
   ]
  },
  {
   "cell_type": "markdown",
   "metadata": {
    "collapsed": true,
    "deletable": true,
    "editable": true
   },
   "source": [
    "__Docs Navigation:__\n",
    "\n",
    "Tutorial:\n",
    "\n",
    "1. [Basics](../tutorial/1 Basics.ipynb)\n",
    "\n",
    "2. [LAMMPS Functionality](../tutorial/2 LAMMPS Functionality.ipynb)\n",
    "\n",
    "3. [Defect Generation and Evaluation](../tutorial/3 Defect Generation and Evaluation.ipynb)\n",
    "\n",
    "\n",
    "Reference:\n",
    "\n",
    "- [atomman](../reference/atomman.ipynb)\n",
    "\n",
    "- [atomman.convert](../reference/atomman.convert.ipynb)\n",
    "\n",
    "- [atomman.defect](../reference/atomman.defect.ipynb)\n",
    "\n",
    "- [atomman.lammps](../reference/atomman.lammps.ipynb)\n",
    "\n",
    "- [atomman.tools](../reference/atomman.tools.ipynb)\n",
    "\n",
    "- [atomman.unitconvert](../reference/atomman.unitconvert.ipynb)"
   ]
  }
 ],
 "metadata": {
  "kernelspec": {
   "display_name": "Python 2",
   "language": "python",
   "name": "python2"
  },
  "language_info": {
   "codemirror_mode": {
    "name": "ipython",
    "version": 2
   },
   "file_extension": ".py",
   "mimetype": "text/x-python",
   "name": "python",
   "nbconvert_exporter": "python",
   "pygments_lexer": "ipython2",
   "version": "2.7.13"
  }
 },
 "nbformat": 4,
 "nbformat_minor": 0
}
