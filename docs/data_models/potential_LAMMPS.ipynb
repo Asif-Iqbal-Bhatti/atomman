{
 "cells": [
  {
   "cell_type": "markdown",
   "metadata": {
    "deletable": true,
    "editable": true
   },
   "source": [
    "# potential_LAMMPS data model\n",
    "\n",
    "- - -"
   ]
  },
  {
   "cell_type": "markdown",
   "metadata": {
    "deletable": true,
    "editable": true
   },
   "source": [
    "**Lucas M. Hale**, [lucas.hale@nist.gov](mailto:lucas.hale@nist.gov?Subject=ipr-demo), *Materials Science and Engineering Division, NIST*.\n",
    "\n",
    "**Chandler A. Becker**, [chandler.becker@nist.gov](mailto:chandler.becker@nist.gov?Subject=ipr-demo), *Office of Data and Informatics, NIST*.\n",
    "\n",
    "**Zachary T. Trautt**, [zachary.trautt@nist.gov](mailto:zachary.trautt@nist.gov?Subject=ipr-demo), *Materials Measurement Science Division, NIST*.\n",
    "\n",
    "Version: 2017-06-26\n",
    "\n",
    "[Disclaimers](http://www.nist.gov/public_affairs/disclaimer.cfm) \n",
    " \n",
    "- - -"
   ]
  },
  {
   "cell_type": "markdown",
   "metadata": {
    "deletable": true,
    "editable": true
   },
   "source": [
    "## Introduction\n",
    "\n",
    "The potential_LAMMPS data model defines the necessary data and metadata for representing a LAMMPS implemented interatomic potential.  The data model is interpreted by the [Potential class](../reference/atomman.lammps.Potential.ipynb) allowing for dynamic generation of LAMMPS input command lines for properly running simulations with the potential.\n",
    "- - -"
   ]
  },
  {
   "cell_type": "markdown",
   "metadata": {
    "deletable": true,
    "editable": true
   },
   "source": [
    "## Description\n",
    "\n",
    "The potential_LAMMPS data model is consistent with a json/xml structure. The root element of the model is __\"potential-LAMMPS\"__.\n",
    "\n",
    "Elements: \n",
    "\n",
    "- __\"key\"__ -- a uuid hash-key that uniquely identifies the potential implementation.\n",
    "\n",
    "- __\"id\"__ -- a human-readable identifier that uniquely identifies the potential implementation.\n",
    "\n",
    "- __\"potential\"__ -- contains metadata associated with the potential model.\n",
    "\n",
    "- __\"units\"__ -- the LAMMPS units option to use with the potential.\n",
    "\n",
    "- __\"atom_style\"__ -- the LAMMPS atom_style option to use with the potential.\n",
    "\n",
    "- __\"atom\"__ -- provides information relating to the atom-models defined in the potential\n",
    "\n",
    "- __\"pair_style\"__ -- classifies the terms that appear in the LAMMPS pair_style command associated with the potential.\n",
    "\n",
    "- __\"pair_coeff\"__ -- classifies the terms that appear in the LAMMPS pair_coeff command associated with the potential.\n",
    "\n",
    "- __\"command\"__ -- classifies the terms that appear in any other LAMMPS command associated with the potential."
   ]
  },
  {
   "cell_type": "markdown",
   "metadata": {
    "deletable": true,
    "editable": true
   },
   "source": [
    "### The potential branch\n",
    "\n",
    "The __\"potential\"__ branch gives metadata associated with the potential model that the LAMMPS implementation is based on. The potential model is the concept (mathematical expression) of a potential, and multiple implementations of the same potential model may exist. \n",
    "\n",
    "Subelements:\n",
    "\n",
    "- __\"key\"__ -- a uuid hash-key that uniquely identifies the potential model.\n",
    "\n",
    "- __\"id\"__ -- a human-readable identifier that uniquely identifies the potential model."
   ]
  },
  {
   "cell_type": "code",
   "execution_count": null,
   "metadata": {
    "collapsed": true,
    "deletable": true,
    "editable": true
   },
   "outputs": [],
   "source": [
    "\"\"\"\n",
    "{\n",
    "    \"potential\": {\n",
    "        \"key\": <uuid>, \n",
    "        \"id\": <name>\n",
    "    }\n",
    "}\n",
    "\"\"\""
   ]
  },
  {
   "cell_type": "markdown",
   "metadata": {
    "deletable": true,
    "editable": true
   },
   "source": [
    "### The atom branch\n",
    "\n",
    "The __\"atom\"__ branch of the data model provides a list of the atom-models described by the potential.\n",
    "\n",
    "Subelements:\n",
    "\n",
    "- __\"element\"__: chemical element tag associated with the atom-model. If not given, it is set equal to the __\"symbol\"__ value.\n",
    "\n",
    "- __\"symbol\"__: unique symbol associated with the atom-model. If not given, it is set equal to the __\"element\"__ value.\n",
    "\n",
    "- __\"mass\"__: element mass associated with the element/atom-model. If not given, it is set equal to the standard atomic mass value associated with the element given by __\"element\"__. "
   ]
  },
  {
   "cell_type": "code",
   "execution_count": null,
   "metadata": {
    "collapsed": true,
    "deletable": true,
    "editable": true
   },
   "outputs": [],
   "source": [
    "\"\"\"\n",
    "{\n",
    "    \"atom\": {\n",
    "        \"element\": <element-tag>,\n",
    "        \"symbol\": <atom-model-name>,\n",
    "        \"mass\": <element-mass>\n",
    "    }\n",
    "}\n",
    "\"\"\""
   ]
  },
  {
   "cell_type": "code",
   "execution_count": null,
   "metadata": {
    "collapsed": true,
    "deletable": true,
    "editable": true
   },
   "outputs": [],
   "source": [
    "\"\"\"\n",
    "{\n",
    "    \"atom\": [\n",
    "        {\n",
    "            \"element\": <element-tag>,\n",
    "            \"symbol\": <atom-model-name>,\n",
    "            \"mass\": <element-mass>\n",
    "        },\n",
    "        {\n",
    "            \"element\": <element-tag>,\n",
    "            \"symbol\": <atom-model-name>,\n",
    "            \"mass\": <element-mass>\n",
    "        }\n",
    "    ]\n",
    "}\n",
    "\"\"\""
   ]
  },
  {
   "cell_type": "markdown",
   "metadata": {
    "deletable": true,
    "editable": true
   },
   "source": [
    "### The pair_style branch\n",
    "\n",
    "The __\"pair_style\"__ branch of the data model characterizes the terms that appear in the LAMMPS pair_style command for the potential.\n",
    "\n",
    "Subelements:\n",
    "\n",
    "- __\"type\"__ -- the specific LAMMPS pair_style option for the potential.\n",
    "\n",
    "- __\"term\"__ -- a list characterizing any additional terms that appear in the pair_style command line. The available subelements are the same as the ones available in the __\"term\"__ branch of __\"pair_coeff\"__.\n",
    "    "
   ]
  },
  {
   "cell_type": "code",
   "execution_count": null,
   "metadata": {
    "collapsed": true,
    "deletable": true,
    "editable": true
   },
   "outputs": [],
   "source": [
    "\"\"\"\n",
    "{\n",
    "    \"pair_style\": {\n",
    "        \"type\": <pair_style-type>,\n",
    "        \"term\": [\n",
    "            {\n",
    "                \"parameter\": <number>\n",
    "            },\n",
    "            {\n",
    "                \"option\": <string>\n",
    "            }\n",
    "        ]\n",
    "    } \n",
    "}\n",
    "\"\"\""
   ]
  },
  {
   "cell_type": "markdown",
   "metadata": {
    "deletable": true,
    "editable": true
   },
   "source": [
    "### The pair_coeff branch\n",
    "\n",
    "The __\"pair_coeff\"__ branch of the data model characterizes the terms that appear in the LAMMPS pair_coeff command lines for the potential. Multiple __\"pair_coeff\"__ values can be given.\n",
    "\n",
    "Subelements:\n",
    "\n",
    "- __\"interaction\"__ -- an __\"interaction\"__ branch that outlines the atom-model interactions associated with a pair_coeff command line. \n",
    "    - __\"symbol\"__ -- a list of the atom-model symbols that the interaction is associated with.\n",
    "\n",
    "- __\"term\"__ -- a __\"term\"__ branch that characterizes all the terms that appear in a pair_coeff command line.\n",
    "    - __\"option\"__ -- a string option value.\n",
    "    - __\"parameter\"__ -- a numerical parameter value.\n",
    "    - __\"file\"__ -- a file name. Used by potential styles that read parameters from external files, like eam/alloy. \n",
    "    - __\"symbols\"__ -- Boolean indicating to show a list of the atom-model symbols to use. Used by potential styles that read parameters from external potential files, like eam/alloy. \n",
    "    - __\"symbolsList\"__ -- Boolean indicating to show a list of the unique atom-model symbols to use. Used by potential styles that read parameters from external potential library files, like meam. \n",
    "    \n",
    "Different types of pair_styles have slightly different rules with interpreting the __\"pair_coeff\"__ branch.\n",
    "\n",
    "- For pair style potentials, every unique atom-model pair has its own __\"pair_coeff\"__ element. __\"interaction\"__-__\"symbol\"__ must have two values indicating the atom-model pair, eg. [\"Ag\", \"Ag\"] for the Ag-Ag interaction and [\"Ag\", \"Cu\"] for Ag-Cu and Cu-Ag interactions. __\"interaction\"__ is optional if there is only one pair interaction, i.e. an elemental pair potential.\n",
    "\n",
    "- For many-body style potentials, __\"interaction\"__ is optional as all atom-model interactions are accessed using the same pair_coeff command line.\n",
    "\n",
    "- For hybrid style potentials, __\"interaction\"__-__\"symbol\"__ lists all atom-model symbols associated with the particular sub-style. It will have two values for pair sub-styles, but can be of any length for many-body sub-styles."
   ]
  },
  {
   "cell_type": "code",
   "execution_count": null,
   "metadata": {
    "collapsed": true,
    "deletable": true,
    "editable": true
   },
   "outputs": [],
   "source": [
    "\"\"\"\n",
    "{\n",
    "    \"pair_coeff\": [\n",
    "        {\n",
    "            \"interaction\": {\n",
    "                \"symbol\": [\n",
    "                    <atom-model-name>,\n",
    "                    <atom-model-name>\n",
    "                ]\n",
    "            }\n",
    "            \"term\": [\n",
    "                {\n",
    "                    \"parameter\": <number>\n",
    "                },\n",
    "                {\n",
    "                    \"parameter\": <number>\n",
    "                },\n",
    "                {\n",
    "                    \"parameter\": <number>\n",
    "                },\n",
    "                {\n",
    "                    \"option\": <string>\n",
    "                }\n",
    "            ]\n",
    "        },\n",
    "        {\n",
    "            \"interaction\": {\n",
    "                \"symbol\": [\n",
    "                    <atom-model-name>,\n",
    "                    <atom-model-name>\n",
    "                ]\n",
    "            }\n",
    "            \"term\": [\n",
    "                {\n",
    "                    \"parameter\": <number>\n",
    "                },\n",
    "                {\n",
    "                    \"parameter\": <number>\n",
    "                },\n",
    "                {\n",
    "                    \"parameter\": <number>\n",
    "                },\n",
    "                {\n",
    "                    \"option\": <string>\n",
    "                }\n",
    "            ]\n",
    "        }        \n",
    "    } \n",
    "}\n",
    "\"\"\""
   ]
  },
  {
   "cell_type": "code",
   "execution_count": null,
   "metadata": {
    "collapsed": true,
    "deletable": true,
    "editable": true
   },
   "outputs": [],
   "source": [
    "\"\"\"\n",
    "{\n",
    "    \"pair_coeff\": {\n",
    "        \"term\": [\n",
    "            {\n",
    "                \"file\": <file-path>\n",
    "            },\n",
    "            {\n",
    "                \"symbolsList\": true\n",
    "            },\n",
    "            {\n",
    "                \"file\": <file-path>\n",
    "            },\n",
    "            {\n",
    "                \"symbols\": true\n",
    "            }\n",
    "        ]\n",
    "    } \n",
    "}\n",
    "\"\"\""
   ]
  },
  {
   "cell_type": "markdown",
   "metadata": {
    "deletable": true,
    "editable": true
   },
   "source": [
    "### The command branch\n",
    "\n",
    "The __\"command\"__ branch of the data model characterizes the terms that appear in any other LAMMPS command lines that are required for properly running the potential. This is needed for specifying such things as a fix qeq/comb for COMB potentials.\n",
    "\n",
    "Subelements:\n",
    "\n",
    "- __\"term\"__ -- a __\"term\"__ branch that characterizes all the terms that appear in the command line.\n",
    "    - __\"option\"__ -- a string option value.\n",
    "    - __\"parameter\"__ -- a numerical parameter value.\n",
    "    - __\"file\"__ -- a file name. Used by potential styles that read parameters from external files, like eam/alloy. \n",
    "    - __\"symbols\"__ -- Boolean indicating to show a list of the atom-model symbols to use. Used by potential styles that read parameters from external potential files, like eam/alloy. \n",
    "    - __\"symbolsList\"__ -- Boolean indicating to show a list of the unique atom-model symbols to use. Used by potential styles that read parameters from external potential library files, like meam. "
   ]
  },
  {
   "cell_type": "code",
   "execution_count": null,
   "metadata": {
    "collapsed": true,
    "deletable": true,
    "editable": true
   },
   "outputs": [],
   "source": [
    "\"\"\"\n",
    "}\n",
    "    \"command\": {\n",
    "        \"term\": [\n",
    "            {\n",
    "                \"option\": <string>\n",
    "            },\n",
    "            {\n",
    "                \"option\": <string>\n",
    "            },\n",
    "            {\n",
    "                \"parameter\": <number>\n",
    "            },\n",
    "            {\n",
    "                \"parameter\": <number>\n",
    "            }                \n",
    "        ]\n",
    "    }\n",
    "}\n",
    "\"\"\""
   ]
  },
  {
   "cell_type": "markdown",
   "metadata": {
    "deletable": true,
    "editable": true
   },
   "source": [
    "## Examples\n",
    "\n",
    "__WARNING!__ These are not real potentials! They are only meant to provide a demonstration for different potential styles."
   ]
  },
  {
   "cell_type": "markdown",
   "metadata": {
    "deletable": true,
    "editable": true
   },
   "source": [
    "### Lennard-Jones and other pair style potentials"
   ]
  },
  {
   "cell_type": "code",
   "execution_count": null,
   "metadata": {
    "collapsed": true,
    "deletable": true,
    "editable": true
   },
   "outputs": [],
   "source": [
    "\"\"\"{\n",
    "    \"potential-LAMMPS\": {\n",
    "        \"key\": \"7102f7ec-3612-4665-ad7e-60de508b5f37\",\n",
    "        \"id\": \"lj_cut-demo--LAMMPS--v1\",\n",
    "        \"potential\": {\n",
    "            \"key\": \"ebf17ffa-a5e7-41c5-8e6d-8e00eb7f5068\",\n",
    "            \"id\": \"lj_cut-demo\"\n",
    "        },\n",
    "        \"units\": \"lj\",\n",
    "        \"atom_style\": \"atomic\",\n",
    "        \"atom\": [\n",
    "            {\n",
    "                \"element\": \"He\"\n",
    "            },\n",
    "            {\n",
    "                \"element\": \"Ar\"\n",
    "            }\n",
    "        ],\n",
    "        \"pair_style\": {\n",
    "            \"type\": \"lj/cut\",\n",
    "            \"term\": {\n",
    "                \"parameter\": 10.0\n",
    "            }\n",
    "        },\n",
    "        \"pair_coeff\": [\n",
    "            {\n",
    "                \"interaction\": {\n",
    "                    \"symbol\": [\n",
    "                        \"He\",\n",
    "                        \"He\"\n",
    "                    ]\n",
    "                },\n",
    "                \"term\": [\n",
    "                    {\n",
    "                        \"parameter\": 1.0\n",
    "                    },\n",
    "                    {\n",
    "                        \"parameter\": 1.0\n",
    "                    }\n",
    "                ]\n",
    "            },\n",
    "            {\n",
    "                \"interaction\": {\n",
    "                    \"symbol\": [\n",
    "                        \"Ar\",\n",
    "                        \"Ar\"\n",
    "                    ]\n",
    "                },\n",
    "                \"term\": [\n",
    "                    {\n",
    "                        \"parameter\": 2.0\n",
    "                    },\n",
    "                    {\n",
    "                        \"parameter\": 2.0\n",
    "                    }\n",
    "                ]\n",
    "            },\n",
    "            {\n",
    "                \"interaction\": {\n",
    "                    \"symbol\": [\n",
    "                        \"He\",\n",
    "                        \"Ar\"\n",
    "                    ]\n",
    "                },\n",
    "                \"term\": [\n",
    "                    {\n",
    "                        \"parameter\": 1.0\n",
    "                    },\n",
    "                    {\n",
    "                        \"parameter\": 2.0\n",
    "                    }\n",
    "                ]\n",
    "            }            \n",
    "        ]\n",
    "    }\n",
    "}\"\"\""
   ]
  },
  {
   "cell_type": "markdown",
   "metadata": {
    "deletable": true,
    "editable": true
   },
   "source": [
    "### eam/alloy and other many-body single file potentials"
   ]
  },
  {
   "cell_type": "code",
   "execution_count": null,
   "metadata": {
    "collapsed": true,
    "deletable": true,
    "editable": true
   },
   "outputs": [],
   "source": [
    "\"\"\"{\n",
    "    \"potential-LAMMPS\": {\n",
    "        \"key\": \"a45a7731-d115-4079-b6f5-aa700c5b5c56\",\n",
    "        \"id\": \"EAM-demo--LAMMPS--v1\",\n",
    "        \"potential\": {\n",
    "            \"key\": \"820738a9-f556-468b-9041-9d98351ff751\",\n",
    "            \"id\": \"EAM-demo\"\n",
    "        },\n",
    "        \"units\": \"metal\",\n",
    "        \"atom_style\": \"atomic\",\n",
    "        \"atom\": [\n",
    "            {\n",
    "                \"element\": \"Ni\",\n",
    "                \"mass\": 58.6934\n",
    "            },\n",
    "            {\n",
    "                \"element\": \"Al\",\n",
    "                \"mass\": 26.981539\n",
    "            },\n",
    "            {\n",
    "                \"element\": \"Co\",\n",
    "                \"mass\": 58.9332\n",
    "            }\n",
    "        ],\n",
    "        \"pair_style\": {\n",
    "            \"type\": \"eam/alloy\"\n",
    "        },\n",
    "        \"pair_coeff\": {\n",
    "            \"term\": [\n",
    "                {\n",
    "                    \"file\": \"file.eam.alloy\"\n",
    "                },\n",
    "                {\n",
    "                    \"symbols\": \"True\"\n",
    "                }\n",
    "            ]\n",
    "        }\n",
    "    }\n",
    "}\"\"\""
   ]
  },
  {
   "cell_type": "markdown",
   "metadata": {
    "deletable": true,
    "editable": true
   },
   "source": [
    "### COMB and other potentials requiring additional commands"
   ]
  },
  {
   "cell_type": "code",
   "execution_count": null,
   "metadata": {
    "collapsed": true,
    "deletable": true,
    "editable": true
   },
   "outputs": [],
   "source": [
    "\"\"\"{\n",
    "    \"potential-LAMMPS\": {\n",
    "        \"key\": \"c6623d40-a3f2-4b2f-948a-3b277f174116\",\n",
    "        \"id\": \"COMB-demo--LAMMPS--v2\",\n",
    "        \"potential\": {\n",
    "            \"key\": \"5ec2aac4-3dd4-4f5c-afb4-21749577c038\",\n",
    "            \"id\": \"COMB-demo\"\n",
    "        },\n",
    "        \"units\": \"nano\",\n",
    "        \"atom_style\": \"charge\",\n",
    "        \"atom\": [\n",
    "            {\n",
    "                \"element\": \"O\"\n",
    "            },\n",
    "            {\n",
    "                \"element\": \"Cu\"\n",
    "            },\n",
    "            {\n",
    "                \"element\": \"Ni\"\n",
    "            }\n",
    "        ],\n",
    "        \"pair_style\": {\n",
    "            \"type\": \"comb\",\n",
    "            \"term\": {\n",
    "                \"option\": \"polar_off\"\n",
    "            }\n",
    "        },\n",
    "        \"pair_coeff\": {\n",
    "            \"term\": [\n",
    "                {\n",
    "                    \"file\": \"file.comb\"\n",
    "                },\n",
    "                {\n",
    "                    \"symbols\": true\n",
    "                }\n",
    "            ]\n",
    "        },\n",
    "        \"command\": {\n",
    "            \"term\": [\n",
    "                {\n",
    "                    \"option\": \"fix\"\n",
    "                },\n",
    "                {\n",
    "                    \"option\": \"qeq/comb\"\n",
    "                },\n",
    "                {\n",
    "                    \"parameter\": 10\n",
    "                },\n",
    "                {\n",
    "                    \"parameter\": 0.0001\n",
    "                }                \n",
    "            ]\n",
    "        }\n",
    "    }\n",
    "}\"\"\""
   ]
  },
  {
   "cell_type": "markdown",
   "metadata": {
    "deletable": true,
    "editable": true
   },
   "source": [
    "### MEAM and other potentials with library files"
   ]
  },
  {
   "cell_type": "code",
   "execution_count": null,
   "metadata": {
    "collapsed": true,
    "deletable": true,
    "editable": true
   },
   "outputs": [],
   "source": [
    "\"\"\"{\n",
    "    \"potential-LAMMPS\": {\n",
    "        \"key\": \"ac63aa71-808c-47e7-b80b-991a50870f35\",\n",
    "        \"id\": \"MEAM-demo--LAMMPS--v1\",\n",
    "        \"potential\": {\n",
    "            \"key\": \"9546264a-06b8-451a-9920-f8a17cc6917b\",\n",
    "            \"id\": \"MEAM-demo\"\n",
    "        },\n",
    "        \"units\": \"metal\",\n",
    "        \"atom_style\": \"atom\",\n",
    "        \"atom\": [\n",
    "            {\n",
    "                \"element\": \"Cu\",\n",
    "                \"symbol\": \"CuS\"\n",
    "            },\n",
    "            {\n",
    "                \"element\": \"Al\",\n",
    "                \"symbol\": \"AlS\"\n",
    "            },\n",
    "            {\n",
    "                \"element\": \"Fe\",\n",
    "                \"symbol\": \"FeS\"\n",
    "            }\n",
    "        ],\n",
    "        \"pair_style\": {\n",
    "            \"type\": \"meam\"\n",
    "        },\n",
    "        \"pair_coeff\": {\n",
    "            \"term\": [\n",
    "                {\n",
    "                    \"file\": \"library.meam\"\n",
    "                },\n",
    "                {\n",
    "                    \"symbolsList\": true\n",
    "                },\n",
    "                {\n",
    "                    \"file\": \"potential.meam\"\n",
    "                },\n",
    "                {\n",
    "                    \"symbols\": true\n",
    "                }\n",
    "            ]\n",
    "        }\n",
    "    }\n",
    "}\"\"\""
   ]
  },
  {
   "cell_type": "markdown",
   "metadata": {
    "deletable": true,
    "editable": true
   },
   "source": [
    "### hybrid style potentials"
   ]
  },
  {
   "cell_type": "code",
   "execution_count": null,
   "metadata": {
    "collapsed": true,
    "deletable": true,
    "editable": true
   },
   "outputs": [],
   "source": [
    "\"\"\"{\n",
    "    \"potential-LAMMPS\": {\n",
    "        \"key\": \"7687807f-6355-4bef-bdc3-dc0dc944e106\",\n",
    "        \"id\": \"hybrid-demo--LAMMPS--v3\",\n",
    "        \"potential\": {\n",
    "            \"key\": \"14226c15-561c-44d4-96ad-ad51304a3606\",\n",
    "            \"id\": \"hybrid-demo\"\n",
    "        },\n",
    "        \"units\": \"metal\",\n",
    "        \"atom_style\": \"atom\",\n",
    "        \"atom\": [\n",
    "            {\n",
    "                \"element\": \"Cu\"\n",
    "            },\n",
    "            {\n",
    "                \"element\": \"H\"\n",
    "            }\n",
    "        ],\n",
    "        \"pair_style\": {\n",
    "            \"type\": \"hybrid\",\n",
    "            \"term\": [\n",
    "                {\n",
    "                    \"option\": \"eam/alloy\"\n",
    "                },\n",
    "                {\n",
    "                    \"option\": \"lj/cut\"\n",
    "                },\n",
    "                {\n",
    "                    \"parameter\": 5.0\n",
    "                }\n",
    "            ]\n",
    "        },\n",
    "        \"pair_coeff\": [\n",
    "            {\n",
    "                \"interaction\": {\n",
    "                    \"symbol\": [\n",
    "                        \"Cu\"\n",
    "                    ]\n",
    "                },\n",
    "                \"term\": [\n",
    "                    {\n",
    "                        \"option\": \"eam/alloy\"\n",
    "                    },\n",
    "                    {\n",
    "                        \"file\": \"cu.eam.alloy\"\n",
    "                    },\n",
    "                    {\n",
    "                        \"symbols\": true\n",
    "                    }\n",
    "                ]\n",
    "            },\n",
    "            {\n",
    "                \"interaction\": {\n",
    "                    \"symbol\": [\n",
    "                        \"Cu\",\n",
    "                        \"H\"\n",
    "                    ]\n",
    "                },\n",
    "                \"term\": [\n",
    "                    {\n",
    "                        \"option\": \"lj/cut\"\n",
    "                    },\n",
    "                    {\n",
    "                        \"parameter\": 3.5\n",
    "                    },\n",
    "                    {\n",
    "                        \"parameter\": 3.0\n",
    "                    }\n",
    "                ]\n",
    "            },\n",
    "            {\n",
    "                \"interaction\": {\n",
    "                    \"symbol\": [\n",
    "                        \"H\",\n",
    "                        \"H\"\n",
    "                    ]\n",
    "                },\n",
    "                \"term\": [\n",
    "                    {\n",
    "                        \"option\": \"lj/cut\"\n",
    "                    },\n",
    "                    {\n",
    "                        \"parameter\": 1.2\n",
    "                    },\n",
    "                    {\n",
    "                        \"parameter\": 2.4\n",
    "                    }\n",
    "                ]\n",
    "            }\n",
    "        ]\n",
    "    }\n",
    "}\"\"\""
   ]
  },
  {
   "cell_type": "markdown",
   "metadata": {
    "deletable": true,
    "editable": true
   },
   "source": [
    "- - -\n",
    "__Docs Navigation:__\n",
    "\n",
    "Tutorial:\n",
    "\n",
    "1. [Basics](../tutorial/1 Basics.ipynb)\n",
    "\n",
    "2. [LAMMPS Functionality](../tutorial/2 LAMMPS Functionality.ipynb)\n",
    "\n",
    "3. [Defect Generation and Evaluation](../tutorial/3 Defect Generation and Evaluation.ipynb)\n",
    "\n",
    "\n",
    "Reference:\n",
    "\n",
    "- [atomman](../reference/atomman.ipynb)\n",
    "\n",
    "- [atomman.convert](../reference/atomman.convert.ipynb)\n",
    "\n",
    "- [atomman.defect](../reference/atomman.defect.ipynb)\n",
    "\n",
    "- [atomman.lammps](../reference/atomman.lammps.ipynb)\n",
    "\n",
    "- [atomman.tools](../reference/atomman.tools.ipynb)\n",
    "\n",
    "- [atomman.unitconvert](../reference/atomman.unitconvert.ipynb)"
   ]
  }
 ],
 "metadata": {
  "kernelspec": {
   "display_name": "Python 2",
   "language": "python",
   "name": "python2"
  },
  "language_info": {
   "codemirror_mode": {
    "name": "ipython",
    "version": 2
   },
   "file_extension": ".py",
   "mimetype": "text/x-python",
   "name": "python",
   "nbconvert_exporter": "python",
   "pygments_lexer": "ipython2",
   "version": "2.7.13"
  }
 },
 "nbformat": 4,
 "nbformat_minor": 0
}
